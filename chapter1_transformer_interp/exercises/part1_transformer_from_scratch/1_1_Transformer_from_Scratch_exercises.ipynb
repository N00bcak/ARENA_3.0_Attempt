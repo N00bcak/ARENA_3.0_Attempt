{
  "cells": [
    {
      "cell_type": "markdown",
      "metadata": {
        "id": "HvEaz-KGrjye"
      },
      "source": [
        "# [1.1] - Transformers from scratch (exercises)\n",
        "\n",
        "> **ARENA [Streamlit Page](https://arena-chapter1-transformer-interp.streamlit.app/01_[1.1]_Transformer_from_Scratch)**\n",
        ">\n",
        "> **Colab: [exercises](https://colab.research.google.com/github/callummcdougall/ARENA_3.0/blob/main/chapter1_transformer_interp/exercises/part1_transformer_from_scratch/1.1_Transformer_from_Scratch_exercises.ipynb?t=20250530) | [solutions](https://colab.research.google.com/github/callummcdougall/ARENA_3.0/blob/main/chapter1_transformer_interp/exercises/part1_transformer_from_scratch/1.1_Transformer_from_Scratch_solutions.ipynb?t=20250530)**\n",
        "\n",
        "Please send any problems / bugs on the `#errata` channel in the [Slack group](https://join.slack.com/t/arena-uk/shared_invite/zt-2zick19fl-6GY1yoGaoUozyM3wObwmnQ), and ask any questions on the dedicated channels for this chapter of material.\n",
        "\n",
        "You can collapse each section so only the headers are visible, by clicking the arrow symbol on the left hand side of the markdown header cells.\n",
        "\n",
        "Links to all other chapters: [(0) Fundamentals](https://arena-chapter0-fundamentals.streamlit.app/), [(1) Transformer Interpretability](https://arena-chapter1-transformer-interp.streamlit.app/), [(2) RL](https://arena-chapter2-rl.streamlit.app/)."
      ]
    },
    {
      "cell_type": "markdown",
      "metadata": {
        "id": "7WEzxp9Srjyf"
      },
      "source": [
        "<img src=\"https://raw.githubusercontent.com/info-arena/ARENA_img/main/misc/headers/header-11.png\" width=\"350\">"
      ]
    },
    {
      "cell_type": "markdown",
      "metadata": {
        "id": "Xl0T8fo3rjyg"
      },
      "source": [
        "# Introduction"
      ]
    },
    {
      "cell_type": "markdown",
      "metadata": {
        "id": "ItHrmE_jrjyg"
      },
      "source": [
        "This is a clean, first principles implementation of GPT-2 in PyTorch. The architectural choices closely follow those used by the TransformerLens library (which you'll be using a lot more in later exercises).\n",
        "\n",
        "The exercises are written to accompany Neel Nanda's [TransformerLens library](https://github.com/neelnanda-io/TransformerLens) for doing mechanistic interpretability research on GPT-2 style language models. We'll be working with this library extensively in this chapter of the course.\n",
        "\n",
        "Each exercise will have a difficulty and importance rating out of 5, as well as an estimated maximum time you should spend on these exercises and sometimes a short annotation. You should interpret the ratings & time estimates relatively (e.g. if you find yourself spending about 50% longer on the exercises than the time estimates, adjust accordingly). Please do skip exercises / look at solutions if you don't feel like they're important enough to be worth doing, and you'd rather get to the good stuff!"
      ]
    },
    {
      "cell_type": "markdown",
      "metadata": {
        "id": "Fnej_T51rjyg"
      },
      "source": [
        "## Content & Learning Objectives\n",
        "\n",
        "### 1️⃣ Understanding Inputs & Outputs of a Transformer\n",
        "\n",
        "In this section, we'll take a first look at transformers - what their function is, how information moves inside a transformer, and what inputs & outputs they take.\n",
        "\n",
        "> ##### Learning Objectives\n",
        ">\n",
        "> - Understand what a transformer is used for\n",
        "> - Understand causal attention, and what a transformer's output represents—algebra operations on tensors\n",
        "> - Learn what tokenization is, and how models do it\n",
        "> - Understand what logits are, and how to use them to derive a probability distribution over the vocabulary\n",
        "\n",
        "### 2️⃣ Clean Transformer Implementation\n",
        "\n",
        "Here, we'll implement a transformer from scratch, using only PyTorch's tensor operations. This will give us a good understanding of how transformers work, and how to use them. We do this by going module-by-module, in an experience which should feel somewhat similar to last week's ResNet exercises. Much like with ResNets, you'll conclude by loading in pretrained weights and verifying that your model works as expected.\n",
        "\n",
        "> ##### Learning Objectives\n",
        ">\n",
        "> * Understand that a transformer is composed of attention heads and MLPs, with each one performing operations on the residual stream\n",
        "> * Understand that the attention heads in a single layer operate independently, and that they have the role of calculating attention patterns (which determine where information is moved to & from in the residual stream)\n",
        "> * Learn about & implement the following transformer modules:\n",
        ">     * LayerNorm (transforming the input to have zero mean and unit variance)\n",
        ">     * Positional embedding (a lookup table from position indices to residual stream vectors)\n",
        ">     * Attention (the method of computing attention patterns for residual stream vectors)\n",
        ">     * MLP (the collection of linear and nonlinear transformations which operate on each residual stream vector in the same way)\n",
        ">     * Embedding (a lookup table from tokens to residual stream vectors)\n",
        ">     * Unembedding (a matrix for converting residual stream vectors into a distribution over tokens)\n",
        "\n",
        "### 3️⃣ Training a Transformer\n",
        "\n",
        "Next, you'll learn how to train your transformer from scratch. This will be quite similar to the training loops you wrote for ResNet in your first week.\n",
        "\n",
        "> ##### Learning Objectives\n",
        ">\n",
        "> * Understand how to train a transformer from scratch\n",
        "> * Write a basic transformer training loop\n",
        "> * Interpret the transformer's falling cross entropy loss with reference to features of the training data (e.g. bigram frequencies)\n",
        "\n",
        "### 4️⃣ Sampling from a Transformer\n",
        "\n",
        "Lastly, you'll learn how to sample from a transformer. This will involve implementing a few different sampling methods, and writing a caching system which can reuse computations from previous forward passes to improve your model's text generation speed.\n",
        "\n",
        "*The second half of this section is less important, and you can skip it if you want.*\n",
        "\n",
        "> ##### Learning Objectives\n",
        ">\n",
        "> * Learn how to sample from a transformer\n",
        ">     * This includes basic methods like greedy search or top-k, and more advanced methods like beam search\n",
        "> * Learn how to cache the output of a transformer, so that it can be used to generate text more efficiently\n",
        ">     * Optionally, rewrite your sampling functions to make use of your caching methods"
      ]
    },
    {
      "cell_type": "code",
      "execution_count": 1,
      "metadata": {},
      "outputs": [
        {
          "name": "stdout",
          "output_type": "stream",
          "text": [
            "Requirement already satisfied: fsspec==2023.9.2 in /home/n00bcak/.pyenv/versions/recap/lib/python3.11/site-packages (2023.9.2)\n",
            "\n",
            "\u001b[1m[\u001b[0m\u001b[34;49mnotice\u001b[0m\u001b[1;39;49m]\u001b[0m\u001b[39;49m A new release of pip is available: \u001b[0m\u001b[31;49m24.0\u001b[0m\u001b[39;49m -> \u001b[0m\u001b[32;49m25.1.1\u001b[0m\n",
            "\u001b[1m[\u001b[0m\u001b[34;49mnotice\u001b[0m\u001b[1;39;49m]\u001b[0m\u001b[39;49m To update, run: \u001b[0m\u001b[32;49mpip install --upgrade pip\u001b[0m\n"
          ]
        }
      ],
      "source": [
        "!python -m pip install fsspec==2023.9.2"
      ]
    },
    {
      "cell_type": "markdown",
      "metadata": {
        "id": "DcZDC9ILrjyh"
      },
      "source": [
        "## Setup code"
      ]
    },
    {
      "cell_type": "code",
      "execution_count": 2,
      "metadata": {
        "id": "lpVTBQNerjyh"
      },
      "outputs": [],
      "source": [
        "import os\n",
        "import sys\n",
        "from pathlib import Path\n",
        "\n",
        "IN_COLAB = \"google.colab\" in sys.modules\n",
        "\n",
        "chapter = \"chapter1_transformer_interp\"\n",
        "repo = \"ARENA_3.0_Attempt\"\n",
        "branch = \"main\"\n",
        "\n",
        "# Install dependencies\n",
        "try:\n",
        "    import transformer_lens\n",
        "except:\n",
        "    %pip install transformer_lens==2.11.0 einops jaxtyping git+https://github.com/callummcdougall/CircuitsVis.git#subdirectory=python\n",
        "\n",
        "# Get root directory, handling 3 different cases: (1) Colab, (2) notebook not in ARENA repo, (3) notebook in ARENA repo\n",
        "root = (\n",
        "    \"/content\"\n",
        "    if IN_COLAB\n",
        "    else \"/root\"\n",
        "    if repo not in os.getcwd()\n",
        "    else str(next(p for p in Path.cwd().parents if p.name == repo))\n",
        ")\n",
        "\n",
        "if Path(root).exists() and not Path(f\"{root}/{chapter}\").exists():\n",
        "    if not IN_COLAB:\n",
        "        !sudo apt-get install unzip\n",
        "        %pip install jupyter ipython --upgrade\n",
        "\n",
        "    if not os.path.exists(f\"{root}/{chapter}\"):\n",
        "        !wget -P {root} https://github.com/callummcdougall/ARENA_3.0/archive/refs/heads/{branch}.zip\n",
        "        !unzip {root}/{branch}.zip '{repo}-{branch}/{chapter}/exercises/*' -d {root}\n",
        "        !mv {root}/{repo}-{branch}/{chapter} {root}/{chapter}\n",
        "        !rm {root}/{branch}.zip\n",
        "        !rmdir {root}/ARENA_3.0-{branch}\n",
        "\n",
        "\n",
        "if f\"{root}/{chapter}/exercises\" not in sys.path:\n",
        "    sys.path.append(f\"{root}/{chapter}/exercises\")\n",
        "\n",
        "os.chdir(f\"{root}/{chapter}/exercises\")"
      ]
    },
    {
      "cell_type": "code",
      "execution_count": 3,
      "metadata": {
        "id": "NM934yTrrjyh"
      },
      "outputs": [],
      "source": [
        "import math\n",
        "import os\n",
        "import sys\n",
        "import webbrowser\n",
        "from collections import defaultdict\n",
        "from dataclasses import dataclass\n",
        "from pathlib import Path\n",
        "from typing import Callable\n",
        "\n",
        "import datasets\n",
        "import einops\n",
        "import numpy as np\n",
        "import torch as t\n",
        "import torch.nn as nn\n",
        "import torch.nn.functional as F\n",
        "import wandb\n",
        "from jaxtyping import Float, Int\n",
        "from rich import print as rprint\n",
        "from rich.table import Table\n",
        "from torch import Tensor\n",
        "from torch.utils.data import DataLoader\n",
        "from tqdm.notebook import tqdm\n",
        "from transformer_lens import HookedTransformer\n",
        "from transformer_lens.utils import gelu_new, tokenize_and_concatenate\n",
        "from transformers.models.gpt2.tokenization_gpt2_fast import GPT2TokenizerFast\n",
        "\n",
        "device = t.device(\"mps\" if t.backends.mps.is_available() else \"cuda\" if t.cuda.is_available() else \"cpu\")\n",
        "\n",
        "# Make sure exercises are in the path\n",
        "chapter = \"chapter1_transformer_interp\"\n",
        "section = \"part1_transformer_from_scratch\"\n",
        "root_dir = next(p for p in Path.cwd().parents if (p / chapter).exists())\n",
        "exercises_dir = root_dir / chapter / \"exercises\"\n",
        "section_dir = exercises_dir / section\n",
        "\n",
        "import part1_transformer_from_scratch.solutions as solutions\n",
        "import part1_transformer_from_scratch.tests as tests\n",
        "from plotly_utils import imshow\n",
        "\n",
        "MAIN = __name__ == \"__main__\""
      ]
    },
    {
      "cell_type": "markdown",
      "metadata": {
        "id": "-5OrIwDGrjyi"
      },
      "source": [
        "# 1️⃣ Understanding Inputs & Outputs of a Transformer\n",
        "\n",
        "> ##### Learning Objectives\n",
        ">\n",
        "> - Understand what a transformer is used for\n",
        "> - Understand causal attention, and what a transformer's output represents—algebra operations on tensors\n",
        "> - Learn what tokenization is, and how models do it\n",
        "> - Understand what logits are, and how to use them to derive a probability distribution over the vocabulary"
      ]
    },
    {
      "cell_type": "markdown",
      "metadata": {
        "id": "HRAjZDKTrjyi"
      },
      "source": [
        "## What is the point of a transformer?"
      ]
    },
    {
      "cell_type": "markdown",
      "metadata": {
        "id": "EKYJc1Jjrjyj"
      },
      "source": [
        "**Transformers exist to model text!**\n",
        "\n",
        "We're going to focus GPT-2 style transformers. Key feature: They generate text! You feed in language, and the model generates a probability distribution over tokens. And you can repeatedly sample from this to generate text!\n",
        "\n",
        "(To explain this in more detail - you feed in a sequence of length $N$, then sample from the probability distribution over the $N+1$-th word, use this to construct a new sequence of length $N+1$, then feed this new sequence into the model to get a probability distribution over the $N+2$-th word, and so on.)\n",
        "\n",
        "### How is the model trained?\n",
        "\n",
        "You give it a bunch of text, and train it to predict the next token.\n",
        "\n",
        "Importantly, if you give a model 100 tokens in a sequence, it predicts the next token for *each* prefix, i.e. it produces 100 logit vectors (= probability distributions) over the set of all words in our vocabulary, with the `i`-th logit vector representing the probability distribution over the token *following* the `i`-th token in the sequence. This is a key part of what allows transformers to be trained so efficiently; for every sequence of length $n$ we get $n$ different predictions to train on:\n",
        "\n",
        "$$\n",
        "p(x_1), \\; p(x_2|x_1), \\; p(x_3|x_1x_2), \\; \\ldots, \\; p(x_n|x_1 \\ldots x_{n-1})\n",
        "$$\n",
        "\n",
        "<details>\n",
        "<summary>Aside - logits</summary>\n",
        "\n",
        "If you haven't encountered the term \"logits\" before, here's a quick refresher.\n",
        "\n",
        "Given an arbitrary vector $x$, we can turn it into a probability distribution via the **softmax** function: $x_i \\to \\frac{e^{x_i}}{\\sum e^{x_j}}$. The exponential makes everything positive; the normalization makes it add to one.\n",
        "\n",
        "The model's output is the vector $x$ (one for each prediction it makes). We call this vector a logit because it represents a probability distribution, and it is related to the actual probabilities via the softmax function.\n",
        "</details>\n",
        "\n",
        "How do we stop the transformer by \"cheating\" by just looking at the tokens it's trying to predict? Answer - we make the transformer have *causal attention* (as opposed to *bidirectional attention*). Causal attention only allows information to move forwards in the sequence, never backwards. The prediction of what comes after token 50 is only a function of the first 50 tokens, *not* of token 51. We say the transformer is **autoregressive**, because it only predicts future words based on past data."
      ]
    },
    {
      "cell_type": "markdown",
      "metadata": {
        "id": "_DuXhz-frjyj"
      },
      "source": [
        "<img src=\"https://raw.githubusercontent.com/info-arena/ARENA_img/main/misc/transformer-overview-new.png\" width=\"900\">"
      ]
    },
    {
      "cell_type": "markdown",
      "metadata": {
        "id": "faK9bznTrjyj"
      },
      "source": [
        "## Tokens - Transformer Inputs"
      ]
    },
    {
      "cell_type": "markdown",
      "metadata": {
        "id": "gZvRkoAYrjyj"
      },
      "source": [
        "Our tranformer's input is natural language (i.e. a sequence of characters, strings, etc). But ML models generally take vectors as input, not language. How do we convert language to vectors?\n",
        "\n",
        "We can factor this into 2 questions:\n",
        "\n",
        "1. How do we split up language into small sub-units?\n",
        "2. How do we convert these sub-units into vectors?\n",
        "\n",
        "Let's start with the second of these questions."
      ]
    },
    {
      "cell_type": "markdown",
      "metadata": {
        "id": "D-Ah3gSWrjyk"
      },
      "source": [
        "### Converting sub-units to vectors\n",
        "\n",
        "We basically make a massive lookup table, which is called an **embedding**. It has one vector for each possible sub-unit of language we might get (we call this set of all sub-units our **vocabulary**). We label every element in our vocabulary with an integer (this labelling never changes), and we use this integer to index into the embedding.\n",
        "\n",
        "A key intuition is that one-hot encodings let you think about each integer independently. We don't bake in any relation between words when we perform our embedding, because every word has a completely separate embedding vector.\n",
        "\n",
        "<details>\n",
        "<summary>Aside - one-hot encodings</summary>\n",
        "\n",
        "We sometimes think about **one-hot encodings** of words. These are vectors with zeros everywhere, except for a single one in the position corresponding to the word's index in the vocabulary. This means that indexing into the embedding is equivalent to multiplying the **embedding matrix** by the one-hot encoding (where the embedding matrix is the matrix we get by stacking all the embedding vectors on top of each other).\n",
        "\n",
        "$$\n",
        "\\begin{aligned}\n",
        "W_E &= \\begin{bmatrix}\n",
        "\\leftarrow v_0 \\rightarrow \\\\\n",
        "\\leftarrow v_1 \\rightarrow \\\\\n",
        "\\vdots \\\\\n",
        "\\leftarrow v_{d_{vocab}-1} \\rightarrow \\\\\n",
        "\\end{bmatrix} \\quad \\text{is the embedding matrix (size }d_{vocab} \\times d_{embed}\\text{),} \\\\\n",
        "\\\\\n",
        "t_i &= (0, \\dots, 0, 1, 0, \\dots, 0) \\quad \\text{is the one-hot encoding for the }i\\text{th word (length }d_{vocab}\\text{)} \\\\\n",
        "\\\\\n",
        "v_i &= t_i W_E \\quad \\text{is the embedding vector for the }i\\text{th word (length }d_{embed}\\text{).} \\\\\n",
        "\\end{aligned}\n",
        "$$\n",
        "\n",
        "</details>\n",
        "\n",
        "Now, let's answer the first question - how do we split language into sub-units?"
      ]
    },
    {
      "cell_type": "markdown",
      "metadata": {
        "id": "VcphH9-_rjyk"
      },
      "source": [
        "### Splitting language into sub-units\n",
        "\n",
        "We need to define a standard way of splitting up language into a series of substrings, where each substring is a member of our **vocabulary** set.\n",
        "\n",
        "Could we use a dictionary, and have our vocabulary be the set of all words in the dictionary? No, because this couldn't handle arbitrary text (e.g. URLs, punctuation, etc). We need a more general way of splitting up language.\n",
        "\n",
        "Could we just use the 256 ASCII characters? This fixes the previous problem, but it loses structure of language - some sequences of characters are more meaningful than others. For example, \"language\" is a lot more meaningful than \"hjksdfiu\". We want \"language\" to be a single token, but not \"hjksdfiu\" - this is a more efficient use of our vocab.\n",
        "\n",
        "What actually happens? The most common strategy is called **Byte-Pair encodings**.\n",
        "\n",
        "We begin with the 256 ASCII characters as our tokens, and then find the most common pair of tokens, and merge that into a new token. Note that we do have a space character as one of our 256 tokens, and merges using space are very common. For instance, here are the five first merges for the tokenizer used by GPT-2 (you'll be able to verify this below).\n",
        "\n",
        "```\n",
        "\" t\"\n",
        "\" a\"\n",
        "\"he\"\n",
        "\"in\"\n",
        "\"re\"\n",
        "```\n",
        "\n",
        "Note - you might see the character `Ġ` in front of some tokens. This is a special token that indicates that the token begins with a space. Tokens with a leading space vs not are different.\n",
        "\n",
        "You can run the code below to load in the `gpt2-small` model, and see more of its tokenizer's vocabulary:"
      ]
    },
    {
      "cell_type": "code",
      "execution_count": 4,
      "metadata": {
        "colab": {
          "base_uri": "https://localhost:8080/"
        },
        "id": "fTH5Qs_Crjyk",
        "outputId": "463cd185-d557-4adb-f83d-45ae68a53aeb"
      },
      "outputs": [
        {
          "name": "stdout",
          "output_type": "stream",
          "text": [
            "Loaded pretrained model gpt2-small into HookedTransformer\n",
            "[('!', 0), ('\"', 1), ('#', 2), ('$', 3), ('%', 4), ('&', 5), (\"'\", 6), ('(', 7), (')', 8), ('*', 9), ('+', 10), (',', 11), ('-', 12), ('.', 13), ('/', 14), ('0', 15), ('1', 16), ('2', 17), ('3', 18), ('4', 19)]\n",
            "\n",
            "[('ľ', 250), ('Ŀ', 251), ('ŀ', 252), ('Ł', 253), ('ł', 254), ('Ń', 255), ('Ġt', 256), ('Ġa', 257), ('he', 258), ('in', 259), ('re', 260), ('on', 261), ('Ġthe', 262), ('er', 263), ('Ġs', 264), ('at', 265), ('Ġw', 266), ('Ġo', 267), ('en', 268), ('Ġc', 269)]\n",
            "\n",
            "[('Ġprodu', 990), ('Ġstill', 991), ('led', 992), ('ah', 993), ('Ġhere', 994), ('Ġworld', 995), ('Ġthough', 996), ('Ġnum', 997), ('arch', 998), ('imes', 999), ('ale', 1000), ('ĠSe', 1001), ('ĠIf', 1002), ('//', 1003), ('ĠLe', 1004), ('Ġret', 1005), ('Ġref', 1006), ('Ġtrans', 1007), ('ner', 1008), ('ution', 1009)]\n",
            "\n"
          ]
        }
      ],
      "source": [
        "reference_gpt2 = HookedTransformer.from_pretrained(\n",
        "    \"gpt2-small\",\n",
        "    fold_ln=False,\n",
        "    center_unembed=False,\n",
        "    center_writing_weights=False,  # you'll learn about these arguments later!\n",
        ")\n",
        "\n",
        "sorted_vocab = sorted(list(reference_gpt2.tokenizer.vocab.items()), key=lambda n: n[1])\n",
        "\n",
        "print(sorted_vocab[:20])\n",
        "print()\n",
        "print(sorted_vocab[250:270])\n",
        "print()\n",
        "print(sorted_vocab[990:1010])\n",
        "print()"
      ]
    },
    {
      "cell_type": "markdown",
      "metadata": {
        "id": "O2SljQp4rjyl"
      },
      "source": [
        "As you get to the end of the vocabulary, you'll be producing some pretty weird-looking esoteric tokens (because you'll already have exhausted all of the short frequently-occurring ones):"
      ]
    },
    {
      "cell_type": "code",
      "execution_count": 5,
      "metadata": {
        "colab": {
          "base_uri": "https://localhost:8080/"
        },
        "id": "or9voUHOrjyl",
        "outputId": "fd8c2058-f61c-45aa-eafa-26619d00bc7c"
      },
      "outputs": [
        {
          "name": "stdout",
          "output_type": "stream",
          "text": [
            "[('Revolution', 50237), ('Ġsnipers', 50238), ('Ġreverted', 50239), ('Ġconglomerate', 50240), ('Terry', 50241), ('794', 50242), ('Ġharsher', 50243), ('Ġdesolate', 50244), ('ĠHitman', 50245), ('Commission', 50246), ('Ġ(/', 50247), ('âĢ¦.\"', 50248), ('Compar', 50249), ('Ġamplification', 50250), ('ominated', 50251), ('Ġregress', 50252), ('ĠCollider', 50253), ('Ġinformants', 50254), ('Ġgazed', 50255), ('<|endoftext|>', 50256)]\n"
          ]
        }
      ],
      "source": [
        "print(sorted_vocab[-20:])"
      ]
    },
    {
      "cell_type": "markdown",
      "metadata": {
        "id": "tD5scdHNrjyl"
      },
      "source": [
        "<details>\n",
        "<summary>Fun (completely optional) exercise - can you guess what the first-formed 3/4/5/6/7-letter encodings in GPT-2's vocabulary are?</summary>\n",
        "Run this code to find out:\n",
        "\n",
        "```python\n",
        "lengths = dict.fromkeys(range(3, 8), \"\")\n",
        "for tok, idx in sorted_vocab:\n",
        "    if not lengths.get(len(tok), True):\n",
        "        lengths[len(tok)] = tok\n",
        "\n",
        "for length, tok in lengths.items():\n",
        "    print(f\"{length}: {tok}\")\n",
        "```\n",
        "</details>"
      ]
    },
    {
      "cell_type": "markdown",
      "metadata": {
        "id": "O_tu5skrrjyl"
      },
      "source": [
        "Transformers in the `transformer_lens` library have a `to_tokens` method that converts text to numbers. It also prepends them with a special token called BOS (beginning of sequence) to indicate the start of a sequence. You can disable this with the `prepend_bos=False` argument.\n",
        "\n",
        "<details>\n",
        "<summary>Aside - BOS token</summary>\n",
        "\n",
        "The beginning of sequence (BOS) token is a special token used to mark the beginning of the sequence. Confusingly, in GPT-2, the End of Sequence (EOS), Beginning of Sequence (BOS) and Padding (PAD) tokens are all the same, `<|endoftext|>` with index `50256`.\n",
        "\n",
        "Why is this token added? Some basic intuitions are:\n",
        "\n",
        "* It provides context that this is the start of a sequence, which can help the model generate more appropriate text.\n",
        "* It can act as a \"rest position\" for attention heads (more on this later, when we discuss attention).\n",
        "\n",
        "TransformerLens adds this token automatically (including in forward passes of transformer models, e.g. it's implicitly added when you call `model(\"Hello World\")`). You can disable this behaviour by setting the flag `prepend_bos=False` in `to_tokens`, `to_str_tokens`, `model.forward` and any other function that converts strings to multi-token tensors.\n",
        "\n",
        "**Key Point: *If you get weird off-by-one errors, check whether there's an unexpected `prepend_bos`!***\n",
        "\n",
        "Why are the BOS, EOS and PAD tokens the same? This is because GPT-2 is an autoregressive model, and uses these kinds of tokens in a slightly different way to other transformer families (e.g. BERT). For instance, GPT has no need to distinguish between BOS and EOS tokens, because it only processes text from left to right.\n",
        "\n",
        "</details>\n",
        "\n",
        "### Some tokenization annoyances\n",
        "\n",
        "There are a few funky and frustrating things about tokenization, which causes it to behave differently than you might expect. For instance:\n",
        "\n",
        "#### Whether a word begins with a capital or space matters!"
      ]
    },
    {
      "cell_type": "code",
      "execution_count": 6,
      "metadata": {
        "colab": {
          "base_uri": "https://localhost:8080/"
        },
        "id": "x7yjlN_Urjyl",
        "outputId": "da8357a8-834a-479d-c321-ac4f57ca0b3b"
      },
      "outputs": [
        {
          "name": "stdout",
          "output_type": "stream",
          "text": [
            "['<|endoftext|>', 'R', 'alph']\n",
            "['<|endoftext|>', ' Ralph']\n",
            "['<|endoftext|>', ' r', 'alph']\n",
            "['<|endoftext|>', 'ral', 'ph']\n"
          ]
        }
      ],
      "source": [
        "print(reference_gpt2.to_str_tokens(\"Ralph\"))\n",
        "print(reference_gpt2.to_str_tokens(\" Ralph\"))\n",
        "print(reference_gpt2.to_str_tokens(\" ralph\"))\n",
        "print(reference_gpt2.to_str_tokens(\"ralph\"))"
      ]
    },
    {
      "cell_type": "markdown",
      "metadata": {
        "id": "Yj-ZhCwIrjyl"
      },
      "source": [
        "#### Arithmetic is a mess.\n",
        "\n",
        "Length is inconsistent, common numbers bundle together."
      ]
    },
    {
      "cell_type": "code",
      "execution_count": 7,
      "metadata": {
        "colab": {
          "base_uri": "https://localhost:8080/"
        },
        "id": "LOIshwczrjym",
        "outputId": "bf52a449-7a7c-4441-b257-f99c6785559d"
      },
      "outputs": [
        {
          "name": "stdout",
          "output_type": "stream",
          "text": [
            "['<|endoftext|>', '568', '73', '+', '318', '46', '23', '=', '123', '45', '67', '89', '-', '1', '000000', '000']\n"
          ]
        }
      ],
      "source": [
        "print(reference_gpt2.to_str_tokens(\"56873+3184623=123456789-1000000000\"))"
      ]
    },
    {
      "cell_type": "markdown",
      "metadata": {
        "id": "shLnLyP4rjym"
      },
      "source": [
        "> ### Key Takeaways\n",
        ">\n",
        "> * We learn a dictionary of vocab of tokens (sub-words).\n",
        "> * We (approx) losslessly convert language to integers via tokenizing it.\n",
        "> * We convert integers to vectors via a lookup table.\n",
        "> * Note: input to the transformer is a sequence of *tokens* (ie integers), not vectors"
      ]
    },
    {
      "cell_type": "markdown",
      "metadata": {
        "id": "ms9mPwlDrjym"
      },
      "source": [
        "## Text generation\n",
        "\n",
        "Now that we understand the basic ideas here, let's go through the entire process of text generation, from our original string to a new token which we can append to our string and plug back into the model.\n",
        "\n",
        "#### **Step 1:** Convert text to tokens\n",
        "\n",
        "The sequence gets tokenized, so it has shape `[batch, seq_len]`. Here, the batch dimension is just one (because we only have one sequence)."
      ]
    },
    {
      "cell_type": "code",
      "execution_count": 8,
      "metadata": {
        "colab": {
          "base_uri": "https://localhost:8080/"
        },
        "id": "lir0TBQjrjym",
        "outputId": "30cf9f13-589d-42b2-b699-679e9e78a184"
      },
      "outputs": [
        {
          "name": "stdout",
          "output_type": "stream",
          "text": [
            "tensor([[50256,    40,   716,   281,  4998,  1960,   382, 19741,    11,   875,\n",
            "         12342,    12,  8807,    11,   402, 11571,    12,    17,  3918, 47385,\n",
            "            13,  1881,  1110,   314,   481,  7074,  1692,  1241,  4430,   290,\n",
            "          1011,   625,   262,   995,     0]], device='cuda:0')\n",
            "torch.Size([1, 35])\n",
            "['<|endoftext|>', 'I', ' am', ' an', ' amazing', ' aut', 'ore', 'gressive', ',', ' dec', 'oder', '-', 'only', ',', ' G', 'PT', '-', '2', ' style', ' transformer', '.', ' One', ' day', ' I', ' will', ' exceed', ' human', ' level', ' intelligence', ' and', ' take', ' over', ' the', ' world', '!']\n"
          ]
        }
      ],
      "source": [
        "reference_text = \"I am an amazing autoregressive, decoder-only, GPT-2 style transformer. One day I will exceed human level intelligence and take over the world!\"\n",
        "tokens = reference_gpt2.to_tokens(reference_text).to(device)\n",
        "print(tokens)\n",
        "print(tokens.shape)\n",
        "print(reference_gpt2.to_str_tokens(tokens))"
      ]
    },
    {
      "cell_type": "markdown",
      "metadata": {
        "id": "-d-FKk6zrjyn"
      },
      "source": [
        "#### **Step 2:** Map tokens to logits\n",
        "\n",
        "\n",
        "From our input of shape `[batch, seq_len]`, we get output of shape `[batch, seq_len, vocab_size]`. The `[i, j, :]`-th element of our output is a vector of logits representing our prediction for the `j+1`-th token in the `i`-th sequence."
      ]
    },
    {
      "cell_type": "code",
      "execution_count": 9,
      "metadata": {
        "colab": {
          "base_uri": "https://localhost:8080/"
        },
        "id": "oz14lfvyrjyn",
        "outputId": "1f7986cd-5659-4f7c-bc20-d5bfa500f528"
      },
      "outputs": [
        {
          "name": "stdout",
          "output_type": "stream",
          "text": [
            "torch.Size([1, 35, 50257])\n"
          ]
        }
      ],
      "source": [
        "logits, cache = reference_gpt2.run_with_cache(tokens)\n",
        "print(logits.shape)"
      ]
    },
    {
      "cell_type": "markdown",
      "metadata": {
        "id": "V6-YD4x5rjyn"
      },
      "source": [
        "(`run_with_cache` tells the model to cache all intermediate activations. This isn't important right now; we'll look at it in more detail later.)"
      ]
    },
    {
      "cell_type": "markdown",
      "metadata": {
        "id": "7D8BJzr2rjyn"
      },
      "source": [
        "#### **Step 3:** Convert the logits to a distribution with a softmax\n",
        "\n",
        "This doesn't change the shape, it is still `[batch, seq_len, vocab_size]`."
      ]
    },
    {
      "cell_type": "code",
      "execution_count": 10,
      "metadata": {
        "colab": {
          "base_uri": "https://localhost:8080/"
        },
        "id": "FIup6l_Crjyn",
        "outputId": "087d0419-4f28-44f0-acd3-f0736b3c7498"
      },
      "outputs": [
        {
          "name": "stdout",
          "output_type": "stream",
          "text": [
            "torch.Size([1, 35, 50257])\n"
          ]
        }
      ],
      "source": [
        "probs = logits.softmax(dim=-1)\n",
        "print(probs.shape)"
      ]
    },
    {
      "cell_type": "markdown",
      "metadata": {
        "id": "ItjzjzB4rjyn"
      },
      "source": [
        "#### **Bonus step:** What is the most likely next token at each position?"
      ]
    },
    {
      "cell_type": "code",
      "execution_count": 11,
      "metadata": {
        "colab": {
          "base_uri": "https://localhost:8080/"
        },
        "id": "fnJPinIarjyn",
        "outputId": "bc8d8aa8-d746-4137-f39a-831f423dfe6e"
      },
      "outputs": [
        {
          "name": "stdout",
          "output_type": "stream",
          "text": [
            "[('<|endoftext|>', '\\n'), ('I', \"'m\"), (' am', ' a'), (' an', ' avid'), (' amazing', ' person'), (' aut', 'od'), ('ore', 'sp'), ('gressive', '.'), (',', ' and'), (' dec', 'ently'), ('oder', ','), ('-', 'driven'), ('only', ' programmer'), (',', ' and'), (' G', 'IM'), ('PT', '-'), ('-', 'only'), ('2', '.'), (' style', ','), (' transformer', '.'), ('.', ' I'), (' One', ' of'), (' day', ' I'), (' I', ' will'), (' will', ' be'), (' exceed', ' my'), (' human', 'ly'), (' level', ' of'), (' intelligence', ' and'), (' and', ' I'), (' take', ' over'), (' over', ' the'), (' the', ' world'), (' world', '.'), ('!', ' I')]\n"
          ]
        }
      ],
      "source": [
        "most_likely_next_tokens = reference_gpt2.tokenizer.batch_decode(logits.argmax(dim=-1)[0])\n",
        "\n",
        "print(list(zip(reference_gpt2.to_str_tokens(tokens), most_likely_next_tokens)))"
      ]
    },
    {
      "cell_type": "markdown",
      "metadata": {
        "id": "Li-y0VaHrjyo"
      },
      "source": [
        "We can see that, in a few cases (particularly near the end of the sequence), the model accurately predicts the next token in the sequence. We might guess that `\"take over the world\"` is a common phrase that the model has seen in training, which is why the model can predict it."
      ]
    },
    {
      "cell_type": "markdown",
      "metadata": {
        "id": "gGYIya6srjyo"
      },
      "source": [
        "#### **Step 4:** Map distribution to a token"
      ]
    },
    {
      "cell_type": "code",
      "execution_count": 12,
      "metadata": {
        "colab": {
          "base_uri": "https://localhost:8080/"
        },
        "id": "4SadGw2jrjyo",
        "outputId": "b0986a90-7ad4-4eb4-81b1-7ccf263278d6"
      },
      "outputs": [
        {
          "name": "stdout",
          "output_type": "stream",
          "text": [
            "' I'\n"
          ]
        }
      ],
      "source": [
        "next_token = logits[0, -1].argmax(dim=-1)\n",
        "next_char = reference_gpt2.to_string(next_token)\n",
        "print(repr(next_char))"
      ]
    },
    {
      "cell_type": "markdown",
      "metadata": {
        "id": "q3LyanPxrjyo"
      },
      "source": [
        "Note that we're indexing `logits[0, -1]`. This is because logits have shape `[1, sequence_length, vocab_size]`, so this indexing returns the vector of length `vocab_size` representing the model's prediction for what token follows the **last** token in the input sequence.\n",
        "\n",
        "In this case, we can see that the model predicts the token `' I'`."
      ]
    },
    {
      "cell_type": "markdown",
      "metadata": {
        "id": "rGhiZRIKrjyo"
      },
      "source": [
        "### **Step 5:** Add this to the end of the input, re-run\n",
        "\n",
        "There are more efficient ways to do this (e.g. where we cache some of the values each time we run our input, so we don't have to do as much calculation each time we generate a new value), but this doesn't matter conceptually right now."
      ]
    },
    {
      "cell_type": "code",
      "execution_count": 13,
      "metadata": {
        "colab": {
          "base_uri": "https://localhost:8080/"
        },
        "id": "2BEp-5sorjyo",
        "outputId": "ab5bf169-640b-4083-ba66-f0f78ddf946c"
      },
      "outputs": [
        {
          "name": "stdout",
          "output_type": "stream",
          "text": [
            "Sequence so far: '<|endoftext|>I am an amazing autoregressive, decoder-only, GPT-2 style transformer. One day I will exceed human level intelligence and take over the world!'\n",
            "36th char = ' I'\n",
            "37th char = ' am'\n",
            "38th char = ' a'\n",
            "39th char = ' very'\n",
            "40th char = ' talented'\n",
            "41th char = ' and'\n",
            "42th char = ' talented'\n",
            "43th char = ' person'\n",
            "44th char = ','\n",
            "45th char = ' and'\n"
          ]
        }
      ],
      "source": [
        "print(f\"Sequence so far: {reference_gpt2.to_string(tokens)[0]!r}\")\n",
        "\n",
        "for i in range(10):\n",
        "    print(f\"{tokens.shape[-1] + 1}th char = {next_char!r}\")\n",
        "    # Define new input sequence, by appending the previously generated token\n",
        "    tokens = t.cat([tokens, next_token[None, None]], dim=-1)\n",
        "    # Pass our new sequence through the model, to get new output\n",
        "    logits = reference_gpt2(tokens)\n",
        "    # Get the predicted token at the end of our sequence\n",
        "    next_token = logits[0, -1].argmax(dim=-1)\n",
        "    # Decode and print the result\n",
        "    next_char = reference_gpt2.to_string(next_token)"
      ]
    },
    {
      "cell_type": "markdown",
      "metadata": {
        "id": "LHefydMrrjyo"
      },
      "source": [
        "> ## Key takeaways\n",
        ">\n",
        "> * Transformer takes in language, predicts next token (for *each* token in a causal way)\n",
        "> * We convert language to a sequence of integers with a tokenizer.\n",
        "> * We convert integers to vectors with a lookup table.\n",
        "> * Output is a vector of logits (one for each input token), we convert to a probability distn with a softmax, and can then convert this to a token (eg taking the largest logit, or sampling).\n",
        "> * We append this to the input + run again to generate more text (Jargon: *autoregressive*)\n",
        "> * Meta level point: Transformers are sequence operation models, they take in a sequence, do processing in parallel at each position, and use attention to move information between positions!"
      ]
    },
    {
      "cell_type": "markdown",
      "metadata": {
        "id": "sbUVNL3arjyo"
      },
      "source": [
        "# 2️⃣ Clean Transformer Implementation\n",
        "\n",
        "> ##### Learning Objectives\n",
        ">\n",
        "> * Understand that a transformer is composed of attention heads and MLPs, with each one performing operations on the residual stream\n",
        "> * Understand that the attention heads in a single layer operate independently, and that they have the role of calculating attention patterns (which determine where information is moved to & from in the residual stream)\n",
        "> * Learn about & implement the following transformer modules:\n",
        ">     * LayerNorm (transforming the input to have zero mean and unit variance)\n",
        ">     * Positional embedding (a lookup table from position indices to residual stream vectors)\n",
        ">     * Attention (the method of computing attention patterns for residual stream vectors)\n",
        ">     * MLP (the collection of linear and nonlinear transformations which operate on each residual stream vector in the same way)\n",
        ">     * Embedding (a lookup table from tokens to residual stream vectors)\n",
        ">     * Unembedding (a matrix for converting residual stream vectors into a distribution over tokens)"
      ]
    },
    {
      "cell_type": "markdown",
      "metadata": {
        "id": "mIVZnnTsrjyo"
      },
      "source": [
        "## High-Level architecture\n",
        "\n",
        "Go watch Neel's [Transformer Circuits walkthrough](https://www.youtube.com/watch?v=KV5gbOmHbjU) if you want more intuitions!\n",
        "\n",
        "(Diagram is bottom to top, right-click and open for higher resolution.)\n",
        "\n",
        "<img src=\"https://raw.githubusercontent.com/chloeli-15/ARENA_img/main/img/transformer-new2.png\" width=\"950\">"
      ]
    },
    {
      "cell_type": "markdown",
      "metadata": {
        "id": "KI_wt-rIrjyo"
      },
      "source": [
        "### Tokenization & Embedding\n",
        "\n",
        "The input tokens $t$ are integers. We get them from taking a sequence, and tokenizing it (like we saw in the previous section).\n",
        "\n",
        "The token embedding is a lookup table mapping tokens to vectors, which is implemented as a matrix $W_E$. The matrix consists of a stack of token embedding vectors (one for each token)."
      ]
    },
    {
      "cell_type": "markdown",
      "metadata": {
        "id": "LMQ8XGt-rjyo"
      },
      "source": [
        "### Residual stream\n",
        "\n",
        "The residual stream is the sum of all previous outputs of layers of the model, and is the input to each new layer. It has shape `[batch, seq_len, d_model]` (where `d_model` is the length of a single embedding vector).\n",
        "\n",
        "The initial value of the residual stream is denoted $x_0$ in the diagram, and $x_i$ are later values of the residual stream (after more attention and MLP layers have been applied to the residual stream).\n",
        "\n",
        "The residual stream is *really* fundamental. It's the central object of the transformer. It's how model remembers things, moves information between layers for composition, and it's the medium used to store the information that attention moves between positions.\n",
        "\n",
        "<details>\n",
        "<summary>Aside - <b>logit lens</b></summary>\n",
        "\n",
        "A key idea of transformers is the [residual stream as output accumulation](https://www.lesswrong.com/posts/X26ksz4p3wSyycKNB/gears-level-mental-models-of-transformer-interpretability#Residual_Stream_as_Output_Accumulation:~:text=The%20Models-,Residual%20Stream%20as%20Output%20Accumulation,-The%20residual%20stream). As we move through the layers of the model, shifting information around and processing it, the values in the residual stream represent the accumulation of all the inferences made by the transformer up to that point.\n",
        "\n",
        "This is neatly illustrated by the **logit lens**. Rather than getting predictions from the residual stream at the very end of the model, we can take the value of the residual stream midway through the model and convert it to a distribution over tokens. When we do this, we find surprisingly coherent predictions, especially in the last few layers before the end.\n",
        "</details>"
      ]
    },
    {
      "cell_type": "markdown",
      "metadata": {
        "id": "QKCCz-W5rjyo"
      },
      "source": [
        "### Transformer blocks\n",
        "\n",
        "Then we have a series of `n_layers` **transformer blocks** (also sometimes called **residual blocks**).\n",
        "\n",
        "Note - a block contains an attention layer *and* an MLP layer, but we say a transformer has $k$ layers if it has $k$ blocks (i.e. $2k$ total layers).\n",
        "\n",
        "<img src=\"https://raw.githubusercontent.com/chloeli-15/ARENA_img/main/img/transformer-block2.png\" width=\"700\">"
      ]
    },
    {
      "cell_type": "markdown",
      "metadata": {
        "id": "m8J5q6evrjyo"
      },
      "source": [
        "### Attention\n",
        "\n",
        "First we have attention. This moves information from prior positions in the sequence to the current token.\n",
        "\n",
        "We do this for *every* token in parallel using the same parameters. The only difference is that we look backwards only (to avoid \"cheating\"). This means later tokens have more of the sequence that they can look at.\n",
        "\n",
        "Attention layers are the only bit of a transformer that moves information between positions (i.e. between vectors at different sequence positions in the residual stream).\n",
        "\n",
        "Attention layers are made up of `n_heads` heads - each with their own parameters, own attention pattern, and own information how to copy things from source to destination. The heads act independently and additively, we just add their outputs together, and back to the stream.\n",
        "\n",
        "Each head does the following:\n",
        "* Produces an **attention pattern** for each destination token, a probability distribution of prior source tokens (including the current one) weighting how much information to copy.\n",
        "* Moves information (via a linear map) in the same way from each source token to each destination token.\n",
        "\n",
        "A few key points:\n",
        "\n",
        "* What information we copy depends on the source token's *residual stream*, but this doesn't mean it only depends on the value of that token, because the residual stream can store more information than just the token identity (the purpose of the attention heads is to move information between vectors at different positions in the residual stream!)\n",
        "* We can think of each attention head as consisting of two different **circuits**:\n",
        "    * One circuit determines **where to move information to and from** (this is a function of the residual stream for the source and destination tokens)\n",
        "    * The other circuit determines **what information to move** (this is a function of only the source token's residual stream)\n",
        "    * For reasons which will become clear later, we refer to the first circuit as the **QK circuit**, and the second circuit as the **OV circuit**\n",
        "\n",
        "<details>\n",
        "<summary>Key intuition - attention as generalized convolution</summary>\n",
        "\n",
        "We can think of attention as a kind of generalized convolution. Standard convolution layers work by imposing a \"prior of locality\", i.e. the assumption that pixels which are close together are more likely to share information. Although language has some locality (two words next to each other are more likely to share information than two words 100 tokens apart), the picture is a lot more nuanced, because which tokens are relevant to which others depends on the context of the sentence. For instance, in the sentence `\"When Mary and John went to the store, John gave a drink to Mary\"`, the names in this sentence are the most important tokens for predicting that the final token will be `\"Mary\"`, and this is because of the particular context of this sentence rather than the tokens' position.\n",
        "\n",
        "Attention layers are effectively our way of saying to the transformer, \"don't impose a prior of locality, but instead develop your own algorithm to figure out which tokens are important to which other tokens in any given sequence.\"\n",
        "</details>\n",
        "\n",
        "Below is a schematic diagram of the attention layers. Don't worry if you don't follow this right now, we'll go into more detail during implementation."
      ]
    },
    {
      "cell_type": "markdown",
      "metadata": {
        "id": "gz4i1606rjyp"
      },
      "source": [
        "<img src=\"https://raw.githubusercontent.com/chloeli-15/ARENA_img/main/img/transformer-attn-new-v2.png\" width=\"1050\">"
      ]
    },
    {
      "cell_type": "markdown",
      "metadata": {
        "id": "z8EqBc4Orjyp"
      },
      "source": [
        "### MLP\n",
        "\n",
        "The MLP layers are just a standard neural network, with a singular hidden layer and a nonlinear activation function. The exact activation isn't conceptually important ([GELU](https://paperswithcode.com/method/gelu) seems to perform best).\n",
        "\n",
        "Our hidden dimension is normally `d_mlp = 4 * d_model`. Exactly why the ratios are what they are isn't super important (people basically cargo-cult what GPT did back in the day!).\n",
        "\n",
        "Importantly, **the MLP operates on positions in the residual stream independently, and in exactly the same way**. It doesn't move information between positions.\n",
        "\n",
        "Intuition - once attention has moved relevant information to a single position in the residual stream, MLPs can actually do computation, reasoning, lookup information, etc. *What the hell is going on inside MLPs* is a pretty big open problem in transformer mechanistic interpretability - see the [Toy Model of Superposition Paper](https://transformer-circuits.pub/2022/toy_model/index.html) for more on why this is hard.\n",
        "\n",
        "<details>\n",
        "<summary>Key intuition - MLPs as key-value pairs</summary>\n",
        "\n",
        "We can write the MLP's output as $f(x^T W^{in})W^{out}$, where $W^{in}$ and $W^{out}$ are the different weights of the MLP (ignoring biases), $f$ is the activation function, and $x$ is a vector in the residual stream. This can be rewritten as:\n",
        "\n",
        "$$\n",
        "f(x^T W^{in}) W^{out} = \\sum_{i=1}^{d_{mlp}} f(x^T W^{in}_{[:, i]}) W^{out}_{[i, :]}\n",
        "$$\n",
        "\n",
        "We can view the vectors $W^{in}_{[:, i]}$ as the **input directions**, and $W^{out}_{[i, :]}$ as the **output directions**. We say the input directions are **activated** by certain textual features, and when they are activated, vectors are written in the corresponding output direction. This is very similar to the concept of keys and values in attention layers, which is why these vectors are also sometimes called keys and values (e.g. see the paper [Transformer Feed-Forward Layers Are Key-Value Memories](https://arxiv.org/pdf/2012.14913.pdf)).\n",
        "\n",
        "Terminology note - sometimes we refer to each of these $d_{mlp}$ input-output pairs as **neurons**.\n",
        "\n",
        "<img src=\"https://raw.githubusercontent.com/chloeli-15/ARENA_img/main/img/mlp-neurons-2.png\" width=\"900\">\n",
        "\n",
        "---\n",
        "\n",
        "Here's a step-by-step breakdown of the linear algebra, if it was too fast above. We have:\n",
        "\n",
        "$$\n",
        "\\begin{aligned}\n",
        "x^T W^{in} &= x^T [W^{in}_{[:, 1]}\\,, ...\\;, W^{in}_{[:, n]}] \\\\\n",
        "&= (x^T W^{in}_{[:, 1]}\\,, \\; ...\\;, \\; x^T W^{in}_{[:, n]})\n",
        "\\end{aligned}\n",
        "$$\n",
        "\n",
        "where $W^{in}_{[:, i]}$ are the columns of $W^{in}$. In other words, these values (the pre-GELU activations) are projections of $x$ along the input directions of the neurons.\n",
        "\n",
        "If we add our activation function and the second matrix, then we get:\n",
        "\n",
        "$$\n",
        "\\begin{aligned}\n",
        "f(x^T W^{in})W^{out} &= (f(x^T W^{in}_{[:, 1]})\\,, \\; ...\\;,\\; f(x^T W^{in}_{[:, n]})) \\begin{bmatrix} \\leftarrow W^{out}_{[1, :]} \\rightarrow \\\\ \\vdots \\\\ \\leftarrow W^{out}_{[n, :]} \\rightarrow \\end{bmatrix} \\\\\n",
        "&= f(x^T W^{in}_{[:, 1]}) W^{out}_{[1, :]} + \\;...\\; + f(x^T W^{in}_{[:, n]}) W^{out}_{[n, :]} \\\\\n",
        "&= \\sum_{i=1}^n f(x^T W^{in}_{[:, i]}) W^{out}_{[i, :]}\n",
        "\\end{aligned}\n",
        "$$\n",
        "\n",
        "where $W^{out}_{[i, :]}$ are the rows of $W^{out}$. In other words, our output is a linear combination of the rows of $W^{out}$, with the coefficients of that linear combination given by the projections of $x$ along the columns of $W^{in}$.\n",
        "\n",
        "</details>\n",
        "\n",
        "<details>\n",
        "<summary>Key intuition - MLPs as knowledge storage</summary>\n",
        "\n",
        "We can think of MLPs as where knowledge gets stored in our transformer. The attention mechanism is what moves information around between sequence positions, but the MLPs is where this information is processed, and new information is written into the residual stream which is a function of the old information.\n",
        "\n",
        "This is deeply connected to the key-value pairs model, since you can treat key-value pairs as a kind of associative memory system (where the key serves as a unique identifier, and the value holds the related information).\n",
        "\n",
        "Another related intuition (for which there is some evidence) is **MLPs as memory management**. In an idealized case, we might find that the $i$-th neuron satisfies $W^{in}_{[:, i]} \\approx - W^{out}_{[i, :]} \\approx \\vec v$ for some unit vector $\\vec v$, meaning it may be responsible for erasing the positive component of vector $\\vec x$ in the direction $\\vec v$ (exercise - can you show why this is the case?). This can free up space in the residual stream for other components to write to.\n",
        "</details>"
      ]
    },
    {
      "cell_type": "markdown",
      "metadata": {
        "id": "y9-jmjGxrjyp"
      },
      "source": [
        "<img src=\"https://raw.githubusercontent.com/chloeli-15/ARENA_img/main/img/transformer-mlp-new-2.png\" width=\"680\">"
      ]
    },
    {
      "cell_type": "markdown",
      "metadata": {
        "id": "0ThVViZDrjyp"
      },
      "source": [
        "### Unembedding\n",
        "\n",
        "Finally, we unembed!\n",
        "\n",
        "This just consists of applying a linear map $W_U$, going from final residual stream to a vector of logits - this is the output.\n",
        "\n",
        "<details>\n",
        "<summary>Aside - tied embeddings</summary>\n",
        "\n",
        "Note - sometimes we use something called a **tied embedding** - this is where we use the same weights for our $W_E$ and $W_U$ matrices. In other words, to get the logit score for a particular token at some sequence position, we just take the vector in the residual stream at that sequence position and take the inner product with the corresponding token embedding vector. This is more training-efficient (because there are fewer parameters in our model), and it might seem pricipled at first. After all, if two words have very similar meanings, shouldn't they have similar embedding vectors because the model will treat them the same, and similar unembedding vectors because they could both be substituted for each other in most output?\n",
        "\n",
        "However, this is actually not very principled, for the following main reason: **the direct path involving the embedding and unembedding should approximate bigram frequencies**.\n",
        "\n",
        "Let's break down this claim. **Bigram frequencies** refers to the frequencies of pairs of words in the english language (e.g. the bigram frequency of \"Barack Obama\" is much higher than the product of the individual frequencies of the words \"Barack\" and \"Obama\"). If our model had no attention heads or MLP layers, then all we have is a linear map from our one-hot encoded token `T` to a probability distribution over the token following `T`. This map is represented by the linear transformation $t \\to t^T W_E W_U$ (where $t$ is our one-hot encoded token vector). Since the output of this transformation can only be a function of the token `T` (and no earlier tokens), the best we can do is have this map approximate the true frequency of bigrams starting with `T`, which appear in the training data. Importantly, **this is not a symmetric map**. We want `T = \"Barack\"` to result in a high probability of the next token being `\"Obama\"`, but not the other way around!\n",
        "\n",
        "Even in multi-layer models, a similar principle applies. There will be more paths through the model than just the \"direct path\" $W_E W_U$, but because of the residual connections there will always exist a direct path, so there will always be some incentive for $W_E W_U$ to approximate bigram frequencies.\n",
        "\n",
        "That being said, smaller (<8B parameter) LLMs still often use tied embeddings to improve training and inference efficiency.\n",
        "\n",
        "</details>"
      ]
    },
    {
      "cell_type": "markdown",
      "metadata": {
        "id": "2VMEwMPVrjyp"
      },
      "source": [
        "### Bonus things - less conceptually important but key technical details\n",
        "\n",
        "#### LayerNorm\n",
        "\n",
        "* Simple normalization function applied at the start of each layer (i.e. before each MLP, attention layer, and before the unembedding)\n",
        "* Converts each input vector (independently in parallel for each `(batch, seq)` residual stream vector) to have mean zero and variance 1.\n",
        "* Then applies an elementwise scaling and translation\n",
        "* Cool maths tangent: The scale ($\\odot \\gamma$) & translate ($+ \\beta$) is just a linear map. LayerNorm is only applied immediately before another linear map (either the MLP, or the query/key/value linear maps in the attention head, or the unembedding $W_U$). Linear compose linear = linear, so we can just fold this into a single effective linear layer and ignore it.\n",
        "    * `fold_ln=True` flag in `from_pretrained` does this for you.\n",
        "* LayerNorm is annoying for interpretability - it would be linear if not for the fact we divide by the variance, so you can't decompose the contributions of the input to the output independently. But it's *almost* linear - if you're changing a small part of the input you can pretend $\\sqrt{\\text{Var}[x] + \\epsilon}$ is constant, so the LayerNorm operation is linear, but if you're changing $x$ enough to alter the norm substantially it's not linear.\n",
        "\n",
        "<img src=\"https://raw.githubusercontent.com/chloeli-15/ARENA_img/main/img/transformer-ln.png\" width=\"750\">\n",
        "\n",
        "</details>\n",
        "\n",
        "\n",
        "#### Positional embeddings\n",
        "\n",
        "* **Problem:** Attention operates over all pairs of positions. This means it's symmetric with regards to position - the attention calculation from token 5 to token 1 and token 5 to token 2 are the same by default\n",
        "    * This is dumb because nearby tokens are more relevant.\n",
        "* There's a lot of dumb hacks for this.\n",
        "* We'll focus on **learned, absolute positional embeddings**. This means we learn a lookup table mapping the index of the position of each token to a residual stream vector, and add this to the embed.\n",
        "    * Note that we *add* rather than concatenate. This is because the residual stream is shared memory, and likely under significant superposition (the model compresses more features in there than the model has dimensions)\n",
        "    * We basically never concatenate inside a transformer, unless doing weird shit like generating text efficiently.\n",
        "* This connects to **attention as generalized convolution**\n",
        "    * We argued that language does still have locality, and so it's helpful for transformers to have access to the positional information so they \"know\" two tokens are next to each other (and hence probably relevant to each other)."
      ]
    },
    {
      "cell_type": "markdown",
      "metadata": {
        "id": "5aXPzEgNrjyq"
      },
      "source": [
        "## Actual Code!\n",
        "\n",
        "Model architecture table (this will be helpful for understanding the results you get when running the code block below):\n",
        "\n",
        "| Parameter   | Value          |\n",
        "|-------------|----------------|\n",
        "| batch       | 1              |\n",
        "| position    | 35             |\n",
        "| d_model     | 768            |\n",
        "| n_heads     | 12             |\n",
        "| n_layers    | 12             |\n",
        "| d_mlp       | 3072 (= 4 * `d_model`) |\n",
        "| d_head      | 64 (= `d_model / n_heads`) |"
      ]
    },
    {
      "cell_type": "markdown",
      "metadata": {
        "id": "E-FxdgN5rjyq"
      },
      "source": [
        "### Parameters and Activations\n",
        "\n",
        "It's important to distinguish between parameters and activations in the model.\n",
        "\n",
        "* **Parameters** are the weights and biases that are learned during training.\n",
        "    * These don't change when the model input changes.\n",
        "* **Activations** are temporary numbers calculated during a forward pass, that are functions of the input.\n",
        "    * We can think of these values as only existing for the duration of a single forward pass, and disappearing afterwards.\n",
        "    * We can use hooks to access these values during a forward pass (more on hooks later), but it doesn't make sense to talk about a model's activations outside the context of some particular input.\n",
        "    * Attention scores and patterns are activations (this is slightly non-intuitve because they're used in a matrix multiplication with another activation).\n",
        "\n",
        "#### Print All Activation Shapes of Reference Model\n",
        "\n",
        "Run the following code to print all the activation shapes of the reference model:"
      ]
    },
    {
      "cell_type": "code",
      "execution_count": 14,
      "metadata": {
        "colab": {
          "base_uri": "https://localhost:8080/"
        },
        "id": "SRxdyaagrjyq",
        "outputId": "ef3d6a24-6aee-406a-a51e-f8c91cab8d46"
      },
      "outputs": [
        {
          "name": "stdout",
          "output_type": "stream",
          "text": [
            "hook_embed                     (1, 35, 768)\n",
            "hook_pos_embed                 (1, 35, 768)\n",
            "blocks.0.hook_resid_pre        (1, 35, 768)\n",
            "blocks.0.ln1.hook_scale        (1, 35, 1)\n",
            "blocks.0.ln1.hook_normalized   (1, 35, 768)\n",
            "blocks.0.attn.hook_q           (1, 35, 12, 64)\n",
            "blocks.0.attn.hook_k           (1, 35, 12, 64)\n",
            "blocks.0.attn.hook_v           (1, 35, 12, 64)\n",
            "blocks.0.attn.hook_attn_scores (1, 12, 35, 35)\n",
            "blocks.0.attn.hook_pattern     (1, 12, 35, 35)\n",
            "blocks.0.attn.hook_z           (1, 35, 12, 64)\n",
            "blocks.0.hook_attn_out         (1, 35, 768)\n",
            "blocks.0.hook_resid_mid        (1, 35, 768)\n",
            "blocks.0.ln2.hook_scale        (1, 35, 1)\n",
            "blocks.0.ln2.hook_normalized   (1, 35, 768)\n",
            "blocks.0.mlp.hook_pre          (1, 35, 3072)\n",
            "blocks.0.mlp.hook_post         (1, 35, 3072)\n",
            "blocks.0.hook_mlp_out          (1, 35, 768)\n",
            "blocks.0.hook_resid_post       (1, 35, 768)\n",
            "ln_final.hook_scale            (1, 35, 1)\n",
            "ln_final.hook_normalized       (1, 35, 768)\n"
          ]
        }
      ],
      "source": [
        "for activation_name, activation in cache.items():\n",
        "    # Only print for first layer\n",
        "    if \".0.\" in activation_name or \"blocks\" not in activation_name:\n",
        "        print(f\"{activation_name:30} {tuple(activation.shape)}\")"
      ]
    },
    {
      "cell_type": "markdown",
      "metadata": {
        "id": "bJwQlKYJrjyq"
      },
      "source": [
        "#### Print All Parameters Shapes of Reference Model"
      ]
    },
    {
      "cell_type": "code",
      "execution_count": 15,
      "metadata": {
        "colab": {
          "base_uri": "https://localhost:8080/"
        },
        "id": "v8kxTZw-rjyq",
        "outputId": "a05de327-18bc-4a44-c105-9d9a35cecb2d"
      },
      "outputs": [
        {
          "name": "stdout",
          "output_type": "stream",
          "text": [
            "embed.W_E          (50257, 768)\n",
            "pos_embed.W_pos    (1024, 768)\n",
            "blocks.0.ln1.w     (768,)\n",
            "blocks.0.ln1.b     (768,)\n",
            "blocks.0.ln2.w     (768,)\n",
            "blocks.0.ln2.b     (768,)\n",
            "blocks.0.attn.W_Q  (12, 768, 64)\n",
            "blocks.0.attn.W_O  (12, 64, 768)\n",
            "blocks.0.attn.b_Q  (12, 64)\n",
            "blocks.0.attn.b_O  (768,)\n",
            "blocks.0.attn.W_K  (12, 768, 64)\n",
            "blocks.0.attn.W_V  (12, 768, 64)\n",
            "blocks.0.attn.b_K  (12, 64)\n",
            "blocks.0.attn.b_V  (12, 64)\n",
            "blocks.0.mlp.W_in  (768, 3072)\n",
            "blocks.0.mlp.b_in  (3072,)\n",
            "blocks.0.mlp.W_out (3072, 768)\n",
            "blocks.0.mlp.b_out (768,)\n",
            "ln_final.w         (768,)\n",
            "ln_final.b         (768,)\n",
            "unembed.W_U        (768, 50257)\n",
            "unembed.b_U        (50257,)\n"
          ]
        }
      ],
      "source": [
        "for name, param in reference_gpt2.named_parameters():\n",
        "    # Only print for first layer\n",
        "    if \".0.\" in name or \"blocks\" not in name:\n",
        "        print(f\"{name:18} {tuple(param.shape)}\")"
      ]
    },
    {
      "cell_type": "markdown",
      "metadata": {
        "id": "IUHOlFOArjyq"
      },
      "source": [
        "[This diagram](https://raw.githubusercontent.com/chloeli-15/ARENA_img/main/img/full-merm.svg) shows the name of all activations and parameters in a fully general transformer model from transformerlens (except for a few at the start and end, like the embedding and unembedding). Lots of this won't make sense at first, but you can return to this diagram later and check that you understand most/all parts of it.\n",
        "\n",
        "There's also an annotated version [here](https://raw.githubusercontent.com/chloeli-15/ARENA_img/main/img/transformer-full-updated.png)."
      ]
    },
    {
      "cell_type": "markdown",
      "metadata": {
        "id": "MyxRNhX3rjyq"
      },
      "source": [
        "### Config\n",
        "\n",
        "The config object contains all the hyperparameters of the model. We can print the config of the reference model to see what it contains:"
      ]
    },
    {
      "cell_type": "code",
      "execution_count": 16,
      "metadata": {
        "colab": {
          "base_uri": "https://localhost:8080/"
        },
        "id": "aCMbcUdUrjyq",
        "outputId": "027b6a14-d4a5-40e4-e26a-b90278a67425"
      },
      "outputs": [
        {
          "name": "stdout",
          "output_type": "stream",
          "text": [
            "HookedTransformerConfig:\n",
            "{'NTK_by_parts_factor': 8.0,\n",
            " 'NTK_by_parts_high_freq_factor': 4.0,\n",
            " 'NTK_by_parts_low_freq_factor': 1.0,\n",
            " 'act_fn': 'gelu_new',\n",
            " 'attention_dir': 'causal',\n",
            " 'attn_only': False,\n",
            " 'attn_scale': 8.0,\n",
            " 'attn_scores_soft_cap': -1.0,\n",
            " 'attn_types': None,\n",
            " 'checkpoint_index': None,\n",
            " 'checkpoint_label_type': None,\n",
            " 'checkpoint_value': None,\n",
            " 'd_head': 64,\n",
            " 'd_mlp': 3072,\n",
            " 'd_model': 768,\n",
            " 'd_vocab': 50257,\n",
            " 'd_vocab_out': 50257,\n",
            " 'decoder_start_token_id': None,\n",
            " 'default_prepend_bos': True,\n",
            " 'device': device(type='cuda'),\n",
            " 'dtype': torch.float32,\n",
            " 'eps': 1e-05,\n",
            " 'experts_per_token': None,\n",
            " 'final_rms': False,\n",
            " 'from_checkpoint': False,\n",
            " 'gated_mlp': False,\n",
            " 'init_mode': 'gpt2',\n",
            " 'init_weights': False,\n",
            " 'initializer_range': 0.02886751345948129,\n",
            " 'load_in_4bit': False,\n",
            " 'model_name': 'gpt2',\n",
            " 'n_ctx': 1024,\n",
            " 'n_devices': 1,\n",
            " 'n_heads': 12,\n",
            " 'n_key_value_heads': None,\n",
            " 'n_layers': 12,\n",
            " 'n_params': 84934656,\n",
            " 'normalization_type': 'LN',\n",
            " 'num_experts': None,\n",
            " 'original_architecture': 'GPT2LMHeadModel',\n",
            " 'output_logits_soft_cap': -1.0,\n",
            " 'parallel_attn_mlp': False,\n",
            " 'positional_embedding_type': 'standard',\n",
            " 'post_embedding_ln': False,\n",
            " 'relative_attention_max_distance': None,\n",
            " 'relative_attention_num_buckets': None,\n",
            " 'rotary_adjacent_pairs': False,\n",
            " 'rotary_base': 10000,\n",
            " 'rotary_dim': None,\n",
            " 'scale_attn_by_inverse_layer_idx': False,\n",
            " 'seed': None,\n",
            " 'tie_word_embeddings': False,\n",
            " 'tokenizer_name': 'gpt2',\n",
            " 'tokenizer_prepends_bos': False,\n",
            " 'trust_remote_code': False,\n",
            " 'ungroup_grouped_query_attention': False,\n",
            " 'use_NTK_by_parts_rope': False,\n",
            " 'use_attn_in': False,\n",
            " 'use_attn_result': False,\n",
            " 'use_attn_scale': True,\n",
            " 'use_hook_mlp_in': False,\n",
            " 'use_hook_tokens': False,\n",
            " 'use_local_attn': False,\n",
            " 'use_normalization_before_and_after': False,\n",
            " 'use_split_qkv_input': False,\n",
            " 'window_size': None}\n"
          ]
        }
      ],
      "source": [
        "# As a reference - note there's a lot of stuff we don't care about in here, to do with library internals or other architectures\n",
        "print(reference_gpt2.cfg)"
      ]
    },
    {
      "cell_type": "markdown",
      "metadata": {
        "id": "Ms0_Ex3irjyr"
      },
      "source": [
        "We define a stripped down config for our model:"
      ]
    },
    {
      "cell_type": "code",
      "execution_count": 17,
      "metadata": {
        "colab": {
          "base_uri": "https://localhost:8080/"
        },
        "id": "jR2Ueoswrjyr",
        "outputId": "637907d1-0147-404c-8639-c3d6f2ba74e5"
      },
      "outputs": [
        {
          "name": "stdout",
          "output_type": "stream",
          "text": [
            "Config(d_model=768, debug=True, layer_norm_eps=1e-05, d_vocab=50257, init_range=0.02, n_ctx=1024, d_head=64, d_mlp=3072, n_heads=12, n_layers=12)\n"
          ]
        }
      ],
      "source": [
        "@dataclass\n",
        "class Config:\n",
        "    d_model: int = 768\n",
        "    debug: bool = True\n",
        "    layer_norm_eps: float = 1e-5\n",
        "    d_vocab: int = 50257\n",
        "    init_range: float = 0.02\n",
        "    n_ctx: int = 1024\n",
        "    d_head: int = 64\n",
        "    d_mlp: int = 3072\n",
        "    n_heads: int = 12\n",
        "    n_layers: int = 12\n",
        "\n",
        "\n",
        "cfg = Config()\n",
        "print(cfg)"
      ]
    },
    {
      "cell_type": "markdown",
      "metadata": {
        "id": "QhlXGfBLrjyr"
      },
      "source": [
        "### Tests\n",
        "\n",
        "Tests are great, write lightweight ones to use as you go!\n",
        "\n",
        "**Naive test:** Generate random inputs of the right shape, input to your model, check whether there's an error and print the correct output."
      ]
    },
    {
      "cell_type": "code",
      "execution_count": 18,
      "metadata": {
        "id": "19JumbCHrjyr"
      },
      "outputs": [],
      "source": [
        "def rand_float_test(cls, shape):\n",
        "    cfg = Config(debug=True)\n",
        "    layer = cls(cfg).to(device)\n",
        "    random_input = t.randn(shape).to(device)\n",
        "    print(\"Input shape:\", random_input.shape)\n",
        "    output = layer(random_input)\n",
        "    if isinstance(output, tuple):\n",
        "        output = output[0]\n",
        "    print(\"Output shape:\", output.shape, \"\\n\")\n",
        "\n",
        "\n",
        "def rand_int_test(cls, shape):\n",
        "    cfg = Config(debug=True)\n",
        "    layer = cls(cfg).to(device)\n",
        "    random_input = t.randint(100, 1000, shape).to(device)\n",
        "    print(\"Input shape:\", random_input.shape)\n",
        "    output = layer(random_input)\n",
        "    if isinstance(output, tuple):\n",
        "        output = output[0]\n",
        "    print(\"Output shape:\", output.shape, \"\\n\")\n",
        "\n",
        "\n",
        "def load_gpt2_test(cls, gpt2_layer, input):\n",
        "    cfg = Config(debug=True)\n",
        "    layer = cls(cfg).to(device)\n",
        "    layer.load_state_dict(gpt2_layer.state_dict(), strict=False)\n",
        "    print(\"Input shape:\", input.shape)\n",
        "    output = layer(input)\n",
        "    if isinstance(output, tuple):\n",
        "        output = output[0]\n",
        "    print(\"Output shape:\", output.shape)\n",
        "    try:\n",
        "        reference_output = gpt2_layer(input)\n",
        "    except:\n",
        "        reference_output = gpt2_layer(input, input, input)\n",
        "    print(\"Reference output shape:\", reference_output.shape, \"\\n\")\n",
        "    comparison = t.isclose(output, reference_output, atol=1e-4, rtol=1e-3)\n",
        "    print(f\"{comparison.sum() / comparison.numel():.2%} of the values are correct\\n\")\n",
        "    assert 1 - (comparison.sum() / comparison.numel()) < 1e-5, \"More than 0.01% of the values are incorrect\""
      ]
    },
    {
      "cell_type": "markdown",
      "metadata": {
        "id": "FUrhKfI3rjyr"
      },
      "source": [
        "### Exercise - implement `LayerNorm`\n",
        "\n",
        "> ```yaml\n",
        "> Difficulty: 🔴🔴🔴⚪⚪\n",
        "> Importance: 🔵🔵🔵⚪⚪\n",
        ">\n",
        "> You should spend up to 10-15 minutes on this exercise.\n",
        "> ```\n",
        "\n",
        "You should fill in the code below, and then run the tests to verify that your layer is working correctly.\n",
        "\n",
        "Your LayerNorm should do the following:\n",
        "\n",
        "* Make mean 0\n",
        "* Normalize to have variance 1\n",
        "* Scale with learned weights\n",
        "* Translate with learned bias\n",
        "\n",
        "You can use the PyTorch [LayerNorm documentation](https://pytorch.org/docs/stable/generated/torch.nn.LayerNorm.html) as a reference. A few more notes:\n",
        "\n",
        "* Your layernorm implementation always has `affine=True`, i.e. you do learn parameters `w` and `b` (which are represented as $\\gamma$ and $\\beta$ respectively in the PyTorch documentation).\n",
        "* Remember that, after the centering and normalization, each vector of length `d_model` in your input should have mean 0 and variance 1.\n",
        "* As the PyTorch documentation page says, your variance should be computed using `unbiased=False`.\n",
        "* The `layer_norm_eps` argument in your config object corresponds to the $\\epsilon$ term in the PyTorch documentation (it is included to avoid division-by-zero errors).\n",
        "* We've given you a `debug` argument in your config. If `debug=True`, then you can print output like the shape of objects in your `forward` function to help you debug (this is a very useful trick to improve your coding speed).\n",
        "\n",
        "Fill in the function, where it says `raise NotImplementedError()` (this will be the basic pattern for most other exercises in this section)."
      ]
    },
    {
      "cell_type": "code",
      "execution_count": 19,
      "metadata": {
        "colab": {
          "base_uri": "https://localhost:8080/"
        },
        "id": "eleiA4GHrjyr",
        "outputId": "c9f6fee7-ef47-4eba-c2b8-c7143932b0ae"
      },
      "outputs": [
        {
          "name": "stdout",
          "output_type": "stream",
          "text": [
            "Input shape: torch.Size([2, 4, 768])\n",
            "Output shape: torch.Size([2, 4, 768]) \n",
            "\n",
            "Input shape: torch.Size([1, 35, 768])\n",
            "Output shape: torch.Size([1, 35, 768])\n",
            "Reference output shape: torch.Size([1, 35, 768]) \n",
            "\n",
            "100.00% of the values are correct\n",
            "\n"
          ]
        }
      ],
      "source": [
        "class LayerNorm(nn.Module):\n",
        "    def __init__(self, cfg: Config):\n",
        "        super().__init__()\n",
        "        self.cfg = cfg\n",
        "        self.w = nn.Parameter(t.ones(cfg.d_model))\n",
        "        self.b = nn.Parameter(t.zeros(cfg.d_model))\n",
        "\n",
        "    def forward(self, residual: Float[Tensor, \"batch posn d_model\"]) -> Float[Tensor, \"batch posn d_model\"]:\n",
        "        # Just d_model\n",
        "        # raise NotImplementedError()\n",
        "        # residual_mean = residual.mean(dim = -1).unsqueeze(-1)\n",
        "        # residual_std = (residual.std(dim = -1, correction = 0) + self.cfg.layer_norm_eps).unsqueeze(-1)\n",
        "        residual_mean = residual.mean(dim = -1, keepdim = True)\n",
        "        residual_std = (residual.var(dim = -1, correction = 0, keepdim = True) + self.cfg.layer_norm_eps).sqrt()\n",
        "        # print(f\"{residual_mean.shape}, STD: {residual_std.shape}\")\n",
        "        normalised_residual = (residual - residual_mean) / residual_std\n",
        "        return self.w * normalised_residual + self.b\n",
        "\n",
        "rand_float_test(LayerNorm, [2, 4, 768])\n",
        "load_gpt2_test(LayerNorm, reference_gpt2.ln_final, cache[\"resid_post\", 11])"
      ]
    },
    {
      "cell_type": "markdown",
      "metadata": {
        "id": "pJ-fjNbSrjys"
      },
      "source": [
        "<details><summary>Solution</summary>\n",
        "\n",
        "```python\n",
        "class LayerNorm(nn.Module):\n",
        "    def __init__(self, cfg: Config):\n",
        "        super().__init__()\n",
        "        self.cfg = cfg\n",
        "        self.w = nn.Parameter(t.ones(cfg.d_model))\n",
        "        self.b = nn.Parameter(t.zeros(cfg.d_model))\n",
        "\n",
        "    def forward(self, residual: Float[Tensor, \"batch posn d_model\"]) -> Float[Tensor, \"batch posn d_model\"]:\n",
        "        residual_mean = residual.mean(dim=-1, keepdim=True)\n",
        "        residual_std = (residual.var(dim=-1, keepdim=True, unbiased=False) + self.cfg.layer_norm_eps).sqrt()\n",
        "\n",
        "        residual = (residual - residual_mean) / residual_std\n",
        "        return residual * self.w + self.b\n",
        "```\n",
        "</details>"
      ]
    },
    {
      "cell_type": "markdown",
      "metadata": {
        "id": "YIrisO6nrjys"
      },
      "source": [
        "### Exercise - implement `Embed`\n",
        "\n",
        "> ```yaml\n",
        "> Difficulty: 🔴🔴⚪⚪⚪\n",
        "> Importance: 🔵🔵🔵⚪⚪\n",
        ">\n",
        "> You should spend up to 5-10 minutes on this exercise.\n",
        "> ```\n",
        "\n",
        "This is basically a lookup table from tokens to residual stream vectors.\n",
        "\n",
        "(Hint - you can implement this in just one line, without any complicated functions. If you've been working on it for >10 mins, you're probably overthinking it!)"
      ]
    },
    {
      "cell_type": "code",
      "execution_count": 20,
      "metadata": {
        "colab": {
          "base_uri": "https://localhost:8080/"
        },
        "id": "ceCUQzttrjys",
        "outputId": "4dc2efe3-8273-4232-a40a-9715c18052cf"
      },
      "outputs": [
        {
          "name": "stdout",
          "output_type": "stream",
          "text": [
            "Input shape: torch.Size([2, 4])\n",
            "Output shape: torch.Size([2, 4, 768]) \n",
            "\n",
            "Input shape: torch.Size([1, 45])\n",
            "Output shape: torch.Size([1, 45, 768])\n",
            "Reference output shape: torch.Size([1, 45, 768]) \n",
            "\n",
            "100.00% of the values are correct\n",
            "\n"
          ]
        }
      ],
      "source": [
        "class Embed(nn.Module):\n",
        "    def __init__(self, cfg: Config):\n",
        "        super().__init__()\n",
        "        self.cfg = cfg\n",
        "        self.W_E = nn.Parameter(t.empty((cfg.d_vocab, cfg.d_model)))\n",
        "        nn.init.normal_(self.W_E, std=self.cfg.init_range)\n",
        "\n",
        "    def forward(self, tokens: Int[Tensor, \"batch position\"]) -> Float[Tensor, \"batch position d_model\"]:\n",
        "        # raise NotImplementedError()\n",
        "        # one_hot_tokens = nn.functional.one_hot(tokens, num_classes = self.cfg.d_vocab).to(t.float32)\n",
        "        # return one_hot_tokens @ self.W_E\n",
        "        # TIL moment: Broadcasting also works on getitem!!!\n",
        "        return self.W_E[tokens]\n",
        "\n",
        "rand_int_test(Embed, [2, 4])\n",
        "load_gpt2_test(Embed, reference_gpt2.embed, tokens)"
      ]
    },
    {
      "cell_type": "markdown",
      "metadata": {
        "id": "bm53lxaErjys"
      },
      "source": [
        "<details>\n",
        "<summary>Help - I keep getting <code>RuntimeError: CUDA error: device-side assert triggered</code>.</summary>\n",
        "\n",
        "This is a uniquely frustrating type of error message, because it (1) forces you to restart the kernel, and (2) often won't tell you where the error message actually originated from!\n",
        "\n",
        "You can fix the second problem by adding the line `os.environ['CUDA_LAUNCH_BLOCKING'] = \"1\"` to the very top of your file (after importing `os`). This won't fix your bug, but it makes sure the correct origin point is identified.\n",
        "\n",
        "As for actually fixing the bug, this error usually ends up being the result of bad indexing, e.g. you're trying to apply an embedding layer to tokens which are larger than your maximum embedding.\n",
        "</details>\n",
        "\n",
        "\n",
        "<details><summary>Solution</summary>\n",
        "\n",
        "```python\n",
        "class Embed(nn.Module):\n",
        "    def __init__(self, cfg: Config):\n",
        "        super().__init__()\n",
        "        self.cfg = cfg\n",
        "        self.W_E = nn.Parameter(t.empty((cfg.d_vocab, cfg.d_model)))\n",
        "        nn.init.normal_(self.W_E, std=self.cfg.init_range)\n",
        "\n",
        "    def forward(self, tokens: Int[Tensor, \"batch position\"]) -> Float[Tensor, \"batch position d_model\"]:\n",
        "        return self.W_E[tokens]\n",
        "```\n",
        "</details>"
      ]
    },
    {
      "cell_type": "markdown",
      "metadata": {
        "id": "_cJ1cKB1rjys"
      },
      "source": [
        "### Exercise - implement `PosEmbed`\n",
        "\n",
        "> ```yaml\n",
        "> Difficulty: 🔴🔴⚪⚪⚪\n",
        "> Importance: 🔵🔵🔵⚪⚪\n",
        ">\n",
        "> You should spend up to 10-15 minutes on this exercise.\n",
        "> ```\n",
        "\n",
        "Positional embedding can also be thought of as a lookup table, but rather than the indices being our token IDs, the indices are just the numbers `0`, `1`, `2`, ..., `seq_len-1` (i.e. the position indices of the tokens in the sequence)."
      ]
    },
    {
      "cell_type": "code",
      "execution_count": 21,
      "metadata": {
        "colab": {
          "base_uri": "https://localhost:8080/"
        },
        "id": "Pw-mocOKrjys",
        "outputId": "7efb4ba1-ffbf-4c96-8a4f-c5a5066b6149"
      },
      "outputs": [
        {
          "name": "stdout",
          "output_type": "stream",
          "text": [
            "Input shape: torch.Size([2, 4])\n",
            "Output shape: torch.Size([2, 4, 768]) \n",
            "\n",
            "Input shape: torch.Size([1, 45])\n",
            "Output shape: torch.Size([1, 45, 768])\n",
            "Reference output shape: torch.Size([1, 45, 768]) \n",
            "\n",
            "100.00% of the values are correct\n",
            "\n"
          ]
        }
      ],
      "source": [
        "class PosEmbed(nn.Module):\n",
        "    def __init__(self, cfg: Config):\n",
        "        super().__init__()\n",
        "        self.cfg = cfg\n",
        "        self.W_pos = nn.Parameter(t.empty((cfg.n_ctx, cfg.d_model)))\n",
        "        nn.init.normal_(self.W_pos, std=self.cfg.init_range)\n",
        "\n",
        "    def forward(self, tokens: Int[Tensor, \"batch position\"]) -> Float[Tensor, \"batch position d_model\"]:\n",
        "        # raise NotImplementedError()\n",
        "        # print(self.W_pos[:len(tokens[0])].shape)\n",
        "        # print(self.W_pos[:len(tokens[0])].tile((tokens.shape[0], 1, 1)).shape)\n",
        "        return self.W_pos[:len(tokens[0])].tile((tokens.shape[0], 1, 1))\n",
        "\n",
        "\n",
        "rand_int_test(PosEmbed, [2, 4])\n",
        "load_gpt2_test(PosEmbed, reference_gpt2.pos_embed, tokens)"
      ]
    },
    {
      "cell_type": "markdown",
      "metadata": {
        "id": "Dx5cuhbzrjys"
      },
      "source": [
        "<details><summary>Solution</summary>\n",
        "\n",
        "```python\n",
        "class PosEmbed(nn.Module):\n",
        "    def __init__(self, cfg: Config):\n",
        "        super().__init__()\n",
        "        self.cfg = cfg\n",
        "        self.W_pos = nn.Parameter(t.empty((cfg.n_ctx, cfg.d_model)))\n",
        "        nn.init.normal_(self.W_pos, std=self.cfg.init_range)\n",
        "\n",
        "    def forward(self, tokens: Int[Tensor, \"batch position\"]) -> Float[Tensor, \"batch position d_model\"]:\n",
        "        batch, seq_len = tokens.shape\n",
        "        return einops.repeat(self.W_pos[:seq_len], \"seq d_model -> batch seq d_model\", batch=batch)\n",
        "```\n",
        "</details>"
      ]
    },
    {
      "cell_type": "markdown",
      "metadata": {
        "id": "QhQgcbWtrjys"
      },
      "source": [
        "### Exercise - implement `apply_causal_mask`\n",
        "\n",
        "> ```yaml\n",
        "> Difficulty: 🔴🔴⚪⚪⚪\n",
        "> Importance: 🔵🔵🔵🔵🔵\n",
        ">\n",
        "> You should spend up to 10-15 minutes on this exercise.\n",
        "> ```\n",
        "\n",
        "The causal mask function will be a method of the `Attention` class.\n",
        "It will take in attention scores, and apply a mask to them so that the model\n",
        "can only attend to previous positions (i.e. the model can't cheat by looking at future positions).\n",
        "We will implement this function first, and test it, before moving onto the `forward` method\n",
        "of the `Attention` class.\n",
        "\n",
        "A few hints:\n",
        "\n",
        "* You can use [`torch.where`](https://pytorch.org/docs/stable/generated/torch.where.html), or the [`torch.masked_fill_`](https://pytorch.org/docs/stable/generated/torch.Tensor.masked_fill.html) function when masking the attention scores.\n",
        "* The [`torch.triu`](https://pytorch.org/docs/stable/generated/torch.triu.html) function is useful for creating a mask that is True for all positions we want to set probabilities to zero for.\n",
        "* Make sure to use the `self.IGNORE` attribute to set the masked positions to negative infinity.\n",
        "<details>\n",
        "<summary>Question - why do you think we mask the attention scores by setting them to negative infinity, rather than the attention probabilities by setting them to zero?</summary>\n",
        "\n",
        "If we masked the attention probabilities, then the probabilities would no longer sum to 1.\n",
        "\n",
        "We want to mask the scores and *then* take softmax, so that the probabilities are still valid probabilities (i.e. they sum to 1), and the values in the masked positions have no influence on the model's output.\n",
        "</details>"
      ]
    },
    {
      "cell_type": "code",
      "execution_count": 22,
      "metadata": {
        "colab": {
          "base_uri": "https://localhost:8080/"
        },
        "id": "_f877MTarjyt",
        "outputId": "df48eba9-569e-4588-eaf4-a646824a1fb4"
      },
      "outputs": [
        {
          "name": "stdout",
          "output_type": "stream",
          "text": [
            "All tests in `test_causal_mask` passed!\n"
          ]
        }
      ],
      "source": [
        "class Attention(nn.Module):\n",
        "    IGNORE: Float[Tensor, \"\"]\n",
        "\n",
        "    def __init__(self, cfg: Config):\n",
        "        super().__init__()\n",
        "        self.cfg = cfg\n",
        "        self.register_buffer(\"IGNORE\", t.tensor(float(\"-inf\"), dtype=t.float32, device=device))\n",
        "\n",
        "    def apply_causal_mask(\n",
        "        self,\n",
        "        attn_scores: Float[Tensor, \"batch n_heads query_pos key_pos\"],\n",
        "    ) -> Float[Tensor, \"batch n_heads query_pos key_pos\"]:\n",
        "        \"\"\"\n",
        "        Applies a causal mask to attention scores, and returns masked scores.\n",
        "        \"\"\"\n",
        "        batch, n_heads, query_pos, key_pos = attn_scores.shape\n",
        "        mask = t.triu(t.ones(query_pos, key_pos), diagonal = 1).tile(batch, n_heads, 1, 1).to(device) # Let every token attend to ITSELF\n",
        "        # 1 -> mask -> -torch.inf\n",
        "        # diagonal = 1? ->\n",
        "        # raise NotImplementedError()\n",
        "        # print(mask.shape)\n",
        "        return t.where(mask == 1, self.IGNORE, attn_scores)\n",
        "\n",
        "\n",
        "tests.test_causal_mask(Attention.apply_causal_mask)"
      ]
    },
    {
      "cell_type": "markdown",
      "metadata": {
        "id": "sYmLu8pFrjyt"
      },
      "source": [
        "<details>\n",
        "<summary>Hint (pseudocode)</summary>\n",
        "\n",
        "```python\n",
        "def apply_causal_mask(\n",
        "    self, attn_scores: Float[Tensor, \"batch n_heads query_pos key_pos\"]\n",
        "    ) -> Float[Tensor, \"batch n_heads query_pos key_pos\"]:\n",
        "\n",
        "    # Define a mask that is True for all positions we want to set probabilities to zero for\n",
        "\n",
        "    # Apply the mask to attention scores, then return the masked scores\n",
        "```\n",
        "</details>\n",
        "\n",
        "\n",
        "<details><summary>Solution</summary>\n",
        "\n",
        "```python\n",
        "class Attention(nn.Module):\n",
        "    IGNORE: Float[Tensor, \"\"]\n",
        "\n",
        "    def __init__(self, cfg: Config):\n",
        "        super().__init__()\n",
        "        self.cfg = cfg\n",
        "        self.register_buffer(\"IGNORE\", t.tensor(float(\"-inf\"), dtype=t.float32, device=device))\n",
        "\n",
        "    def apply_causal_mask(\n",
        "        self,\n",
        "        attn_scores: Float[Tensor, \"batch n_heads query_pos key_pos\"],\n",
        "    ) -> Float[Tensor, \"batch n_heads query_pos key_pos\"]:\n",
        "        \"\"\"\n",
        "        Applies a causal mask to attention scores, and returns masked scores.\n",
        "        \"\"\"\n",
        "        # Define a mask that is True for all positions we want to set probabilities to zero for\n",
        "        all_ones = t.ones(attn_scores.size(-2), attn_scores.size(-1), device=attn_scores.device)\n",
        "        mask = t.triu(all_ones, diagonal=1).bool()\n",
        "        # Apply the mask to attention scores, then return the masked scores\n",
        "        attn_scores.masked_fill_(mask, self.IGNORE)\n",
        "        return attn_scores\n",
        "```\n",
        "</details>"
      ]
    },
    {
      "cell_type": "markdown",
      "metadata": {
        "id": "n6UrmIuurjyt"
      },
      "source": [
        "### Exercise - implement `Attention`\n",
        "\n",
        "> ```yaml\n",
        "> Difficulty: 🔴🔴🔴🔴⚪\n",
        "> Importance: 🔵🔵🔵🔵🔵\n",
        ">\n",
        "> You should spend up to 30-45 minutes on this exercise.\n",
        "> ```\n",
        "\n",
        "* **Step 1:** Produce an attention pattern - for each destination token, probability distribution over previous tokens (including current token)\n",
        "    * Linear map from input -> query, key shape `[batch, seq_posn, head_index, d_head]`\n",
        "    * Dot product every *pair* of queries and keys to get attn_scores `[batch, head_index, query_pos, key_pos]` (query = dest, key = source)\n",
        "    * **Scale** and mask `attn_scores` to make it lower triangular, i.e. causal\n",
        "    * Softmax along the `key_pos` dimension, to get a probability distribution for each query (destination) token - this is our attention pattern!\n",
        "* **Step 2:** Move information from source tokens to destination token using attention pattern (move = apply linear map)\n",
        "    * Linear map from input -> value `[batch, key_pos, head_index, d_head]`\n",
        "    * Mix along the `key_pos` with attn pattern to get `z`, which is a weighted average of the value vectors `[batch, query_pos, head_index, d_head]`\n",
        "    * Map to output, `[batch, position, d_model]` (position = query_pos, we've summed over all heads)\n",
        "\n",
        "Note - when we say **scale**, we mean dividing by `sqrt(d_head)`. The purpose of this is to avoid vanishing gradients (which is a big problem when we're dealing with a function like softmax - if one of the values is much larger than all the others, the probabilities will be close to 0 or 1, and the gradients will be close to 0).\n",
        "\n",
        "Below is a much larger, more detailed version of the attention head diagram from earlier. This should give you an idea of the actual tensor operations involved. A few clarifications on this diagram:\n",
        "\n",
        "* Whenever there is a third dimension shown in the pictures, this refers to the `head_index` dimension. We can see that all operations within the attention layer are done independently for each head.\n",
        "* The objects in the box are activations; they have a batch dimension (for simplicity, we assume the batch dimension is 1 in the diagram). The objects to the right of the box are our parameters (weights and biases); they have no batch dimension.\n",
        "* We arrange the keys, queries and values as `(batch, seq_pos, head_idx, d_head)`, because the biases have shape `(head_idx, d_head)`, so this makes it convenient to add the biases (recall the rules of array broadcasting!)."
      ]
    },
    {
      "cell_type": "markdown",
      "metadata": {
        "id": "jsQ6AQkerjyu"
      },
      "source": [
        "<img src=\"https://raw.githubusercontent.com/chloeli-15/ARENA_img/main/img/transformer-attn-30.png\" width=\"1400\">"
      ]
    },
    {
      "cell_type": "markdown",
      "metadata": {
        "id": "B10qSJnArjyu"
      },
      "source": [
        "<details>\n",
        "<summary><b>A few extra notes on attention (optional)</b></summary>\n",
        "\n",
        "Usually we have the relation `e = n * h` (i.e. `d_model = num_heads * d_head`). There are some computational justifications for this, but mostly this is just done out of convention (just like how we usually have `d_mlp = 4 * d_model`!).\n",
        "\n",
        "The names **keys**, **queries** and **values** come from their analogy to retrieval systems. Broadly speaking:\n",
        "\n",
        "* The **queries** represent some information that a token is **\"looking for\"**\n",
        "* The **keys** represent the information that a token **\"contains\"**\n",
        "    * So the attention score being high basically means that the source (key) token contains the information which the destination (query) token **is looking for**\n",
        "* The **values** represent the information that is actually taken from the source token, to be moved to the destination token\n",
        "\n",
        "This diagram can better help us understand the difference between the **QK** and **OV** circuit. We'll discuss this just briefly here, and will go into much more detail later on.\n",
        "\n",
        "The **QK** circuit consists of the operation of the $W_Q$ and $W_K$ matrices. In other words, it determines the attention pattern, i.e. where information is moved to and from in the residual stream. The functional form of the attention pattern $A$ is:\n",
        "\n",
        "$$\n",
        "A = \\text{softmax}\\left(\\frac{x W_Q W_K^T x^T}{\\sqrt{d_{head}}}\\right)\n",
        "$$\n",
        "\n",
        "where $x$ is the residual stream (shape `[seq_len, d_model]`), and $W_Q$, $W_K$ are the weight matrices for a single head (i.e. shape `[d_model, d_head]`).\n",
        "\n",
        "The **OV** circuit consists of the operation of the $W_V$ and $W_O$ matrices. Once attention patterns are fixed, these matrices operate on the residual stream at the source position, and their output is the thing which gets moved from source to destination position.\n",
        "\n",
        "The functional form of an entire attention head is:\n",
        "\n",
        "$$\n",
        "\\begin{aligned}\n",
        "\\text{output} &= \\text{softmax}\\left(\\frac{x W_Q W_K^T x^T}{\\sqrt{d_{head}}}\\right) (x W_V W_O) \\\\\n",
        "    &= Ax W_V W_O\n",
        "\\end{aligned}\n",
        "$$\n",
        "\n",
        "where $W_V$ has shape `[d_model, d_head]`, and $W_O$ has shape `[d_head, d_model]`.\n",
        "\n",
        "Here, we can clearly see that the **QK circuit** and **OV circuit** are doing conceptually different things, and should be thought of as two distinct parts of the attention head.\n",
        "\n",
        "Again, don't worry if you don't follow all of this right now - we'll go into **much** more detail on all of this in subsequent exercises. The purpose of the discussion here is just to give you a flavour of what's to come!\n",
        "\n",
        "</details>"
      ]
    },
    {
      "cell_type": "markdown",
      "metadata": {
        "id": "2lZvl_Jrrjyu"
      },
      "source": [
        "First, it's useful to visualize and play around with attention patterns - what exactly are we looking at here? (Click on a head to lock onto just showing that head's pattern, it'll make it easier to interpret)"
      ]
    },
    {
      "cell_type": "code",
      "execution_count": 23,
      "metadata": {
        "colab": {
          "base_uri": "https://localhost:8080/",
          "height": 1000
        },
        "id": "kJAYNdzarjyu",
        "outputId": "0036d7e9-6982-4951-fc36-37f006f93fcf"
      },
      "outputs": [
        {
          "data": {
            "text/html": [
              "<div id=\"circuits-vis-2aeea3f9-0266\" style=\"margin: 15px 0;\"/>\n",
              "    <script crossorigin type=\"module\">\n",
              "    import { render, AttentionPatterns } from \"https://unpkg.com/circuitsvis@1.41.0/dist/cdn/esm.js\";\n",
              "    render(\n",
              "      \"circuits-vis-2aeea3f9-0266\",\n",
              "      AttentionPatterns,\n",
              "      {\"tokens\": [\"<|endoftext|>\", \"I\", \" am\", \" an\", \" amazing\", \" aut\", \"ore\", \"gressive\", \",\", \" dec\", \"oder\", \"-\", \"only\", \",\", \" G\", \"PT\", \"-\", \"2\", \" style\", \" transformer\", \".\", \" One\", \" day\", \" I\", \" will\", \" exceed\", \" human\", \" level\", \" intelligence\", \" and\", \" take\", \" over\", \" the\", \" world\", \"!\"], \"attention\": [[[1.0, 0.0, 0.0, 0.0, 0.0, 0.0, 0.0, 0.0, 0.0, 0.0, 0.0, 0.0, 0.0, 0.0, 0.0, 0.0, 0.0, 0.0, 0.0, 0.0, 0.0, 0.0, 0.0, 0.0, 0.0, 0.0, 0.0, 0.0, 0.0, 0.0, 0.0, 0.0, 0.0, 0.0, 0.0], [0.9679255485534668, 0.0320744626224041, 0.0, 0.0, 0.0, 0.0, 0.0, 0.0, 0.0, 0.0, 0.0, 0.0, 0.0, 0.0, 0.0, 0.0, 0.0, 0.0, 0.0, 0.0, 0.0, 0.0, 0.0, 0.0, 0.0, 0.0, 0.0, 0.0, 0.0, 0.0, 0.0, 0.0, 0.0, 0.0, 0.0], [0.8024235367774963, 0.16839203238487244, 0.029184352606534958, 0.0, 0.0, 0.0, 0.0, 0.0, 0.0, 0.0, 0.0, 0.0, 0.0, 0.0, 0.0, 0.0, 0.0, 0.0, 0.0, 0.0, 0.0, 0.0, 0.0, 0.0, 0.0, 0.0, 0.0, 0.0, 0.0, 0.0, 0.0, 0.0, 0.0, 0.0, 0.0], [0.6959055066108704, 0.12269631028175354, 0.1458849012851715, 0.035513244569301605, 0.0, 0.0, 0.0, 0.0, 0.0, 0.0, 0.0, 0.0, 0.0, 0.0, 0.0, 0.0, 0.0, 0.0, 0.0, 0.0, 0.0, 0.0, 0.0, 0.0, 0.0, 0.0, 0.0, 0.0, 0.0, 0.0, 0.0, 0.0, 0.0, 0.0, 0.0], [0.5661025047302246, 0.14705191552639008, 0.08665254712104797, 0.11258414387702942, 0.08760888129472733, 0.0, 0.0, 0.0, 0.0, 0.0, 0.0, 0.0, 0.0, 0.0, 0.0, 0.0, 0.0, 0.0, 0.0, 0.0, 0.0, 0.0, 0.0, 0.0, 0.0, 0.0, 0.0, 0.0, 0.0, 0.0, 0.0, 0.0, 0.0, 0.0, 0.0], [0.4621872901916504, 0.13512831926345825, 0.09698349982500076, 0.17473752796649933, 0.0462459996342659, 0.08471737056970596, 0.0, 0.0, 0.0, 0.0, 0.0, 0.0, 0.0, 0.0, 0.0, 0.0, 0.0, 0.0, 0.0, 0.0, 0.0, 0.0, 0.0, 0.0, 0.0, 0.0, 0.0, 0.0, 0.0, 0.0, 0.0, 0.0, 0.0, 0.0, 0.0], [0.43251609802246094, 0.10382883995771408, 0.0833013653755188, 0.06995750963687897, 0.074793741106987, 0.2156866192817688, 0.01991591975092888, 0.0, 0.0, 0.0, 0.0, 0.0, 0.0, 0.0, 0.0, 0.0, 0.0, 0.0, 0.0, 0.0, 0.0, 0.0, 0.0, 0.0, 0.0, 0.0, 0.0, 0.0, 0.0, 0.0, 0.0, 0.0, 0.0, 0.0, 0.0], [0.22236740589141846, 0.0916769877076149, 0.08796326071023941, 0.251687228679657, 0.08263691514730453, 0.10428163409233093, 0.06469019502401352, 0.09469636529684067, 0.0, 0.0, 0.0, 0.0, 0.0, 0.0, 0.0, 0.0, 0.0, 0.0, 0.0, 0.0, 0.0, 0.0, 0.0, 0.0, 0.0, 0.0, 0.0, 0.0, 0.0, 0.0, 0.0, 0.0, 0.0, 0.0, 0.0], [0.4049955904483795, 0.09078017622232437, 0.05237354338169098, 0.026201874017715454, 0.11047191917896271, 0.03667403757572174, 0.025538958609104156, 0.24528278410434723, 0.007681120187044144, 0.0, 0.0, 0.0, 0.0, 0.0, 0.0, 0.0, 0.0, 0.0, 0.0, 0.0, 0.0, 0.0, 0.0, 0.0, 0.0, 0.0, 0.0, 0.0, 0.0, 0.0, 0.0, 0.0, 0.0, 0.0, 0.0], [0.39985963702201843, 0.04361317306756973, 0.061838824301958084, 0.0729835107922554, 0.03661304712295532, 0.09147469699382782, 0.07241712510585785, 0.07013335824012756, 0.06429055333137512, 0.08677610754966736, 0.0, 0.0, 0.0, 0.0, 0.0, 0.0, 0.0, 0.0, 0.0, 0.0, 0.0, 0.0, 0.0, 0.0, 0.0, 0.0, 0.0, 0.0, 0.0, 0.0, 0.0, 0.0, 0.0, 0.0, 0.0], [0.09702549129724503, 0.03552757203578949, 0.023214807733893394, 0.036767058074474335, 0.02515840157866478, 0.2775616943836212, 0.07676514238119125, 0.19501188397407532, 0.05580098554491997, 0.1452939212322235, 0.03187306597828865, 0.0, 0.0, 0.0, 0.0, 0.0, 0.0, 0.0, 0.0, 0.0, 0.0, 0.0, 0.0, 0.0, 0.0, 0.0, 0.0, 0.0, 0.0, 0.0, 0.0, 0.0, 0.0, 0.0, 0.0], [0.2414383888244629, 0.03971061483025551, 0.0768737941980362, 0.02804270200431347, 0.12435992062091827, 0.05601579323410988, 0.0606367364525795, 0.12840096652507782, 0.015699448063969612, 0.09114035964012146, 0.13185448944568634, 0.005826781038194895, 0.0, 0.0, 0.0, 0.0, 0.0, 0.0, 0.0, 0.0, 0.0, 0.0, 0.0, 0.0, 0.0, 0.0, 0.0, 0.0, 0.0, 0.0, 0.0, 0.0, 0.0, 0.0, 0.0], [0.1436309963464737, 0.05110502988100052, 0.05505894124507904, 0.07798512279987335, 0.07854277640581131, 0.03501972183585167, 0.1349860280752182, 0.22634069621562958, 0.041628532111644745, 0.03513140603899956, 0.02023601345717907, 0.041144467890262604, 0.059190284460783005, 0.0, 0.0, 0.0, 0.0, 0.0, 0.0, 0.0, 0.0, 0.0, 0.0, 0.0, 0.0, 0.0, 0.0, 0.0, 0.0, 0.0, 0.0, 0.0, 0.0, 0.0, 0.0], [0.3156285285949707, 0.0679200068116188, 0.03787237033247948, 0.017874596640467644, 0.08683169633150101, 0.029227817431092262, 0.017664169892668724, 0.1830163300037384, 0.004987794905900955, 0.043228644877672195, 0.05172262340784073, 0.008913458324968815, 0.12899243831634521, 0.006119511555880308, 0.0, 0.0, 0.0, 0.0, 0.0, 0.0, 0.0, 0.0, 0.0, 0.0, 0.0, 0.0, 0.0, 0.0, 0.0, 0.0, 0.0, 0.0, 0.0, 0.0, 0.0], [0.28410208225250244, 0.053453970700502396, 0.023969216272234917, 0.02256225235760212, 0.04619823396205902, 0.06391074508428574, 0.04539215564727783, 0.07758502662181854, 0.027644306421279907, 0.05804118141531944, 0.17727358639240265, 0.03400600329041481, 0.030527280643582344, 0.03213079646229744, 0.023203179240226746, 0.0, 0.0, 0.0, 0.0, 0.0, 0.0, 0.0, 0.0, 0.0, 0.0, 0.0, 0.0, 0.0, 0.0, 0.0, 0.0, 0.0, 0.0, 0.0, 0.0], [0.14103920757770538, 0.02857782132923603, 0.037603959441185, 0.03137827664613724, 0.03697335720062256, 0.07347069680690765, 0.07151783257722855, 0.09211234003305435, 0.03358154371380806, 0.03639131411910057, 0.18937668204307556, 0.03244517371058464, 0.06021038070321083, 0.039169248193502426, 0.04040950536727905, 0.05574265122413635, 0.0, 0.0, 0.0, 0.0, 0.0, 0.0, 0.0, 0.0, 0.0, 0.0, 0.0, 0.0, 0.0, 0.0, 0.0, 0.0, 0.0, 0.0, 0.0], [0.2026529461145401, 0.030252814292907715, 0.060034073889255524, 0.021786145865917206, 0.1031423881649971, 0.04516838863492012, 0.04681028798222542, 0.10542109608650208, 0.011398818343877792, 0.07159950584173203, 0.10570328682661057, 0.004199368413537741, 0.1107979267835617, 0.013912520371377468, 0.028923513367772102, 0.03286944702267647, 0.00532751576974988, 0.0, 0.0, 0.0, 0.0, 0.0, 0.0, 0.0, 0.0, 0.0, 0.0, 0.0, 0.0, 0.0, 0.0, 0.0, 0.0, 0.0, 0.0], [0.20498362183570862, 0.04007228463888168, 0.04229811578989029, 0.02493900991976261, 0.04992290958762169, 0.029371699318289757, 0.030769702047109604, 0.10315564274787903, 0.025490224361419678, 0.07886797934770584, 0.10560183972120285, 0.01735270768404007, 0.08083696663379669, 0.03128695487976074, 0.054510585963726044, 0.052883170545101166, 0.02174280770123005, 0.005913801956921816, 0.0, 0.0, 0.0, 0.0, 0.0, 0.0, 0.0, 0.0, 0.0, 0.0, 0.0, 0.0, 0.0, 0.0, 0.0, 0.0, 0.0], [0.24350903928279877, 0.03636490926146507, 0.04196161404252052, 0.026215719059109688, 0.0404457226395607, 0.09965366870164871, 0.025752244517207146, 0.03249461576342583, 0.024459946900606155, 0.03520265221595764, 0.033835381269454956, 0.033476900309324265, 0.046648625284433365, 0.02796792984008789, 0.018640782684087753, 0.1176425889134407, 0.03875285014510155, 0.022786682471632957, 0.05418813228607178, 0.0, 0.0, 0.0, 0.0, 0.0, 0.0, 0.0, 0.0, 0.0, 0.0, 0.0, 0.0, 0.0, 0.0, 0.0, 0.0], [0.14194568991661072, 0.03406405448913574, 0.03300990164279938, 0.020238708704710007, 0.039273131638765335, 0.026005540043115616, 0.006318643223494291, 0.0407978780567646, 0.03638002276420593, 0.1463104784488678, 0.01638617552816868, 0.023598453029990196, 0.01584276743233204, 0.0422760471701622, 0.022458229213953018, 0.0686740130186081, 0.027878446504473686, 0.03722241893410683, 0.08677618205547333, 0.13454319536685944, 0.0, 0.0, 0.0, 0.0, 0.0, 0.0, 0.0, 0.0, 0.0, 0.0, 0.0, 0.0, 0.0, 0.0, 0.0], [0.21778136491775513, 0.026903679594397545, 0.023647211492061615, 0.007102564908564091, 0.03517003357410431, 0.013998536393046379, 0.010392283089458942, 0.09431244432926178, 0.002962287748232484, 0.037838030606508255, 0.03792331740260124, 0.003733973950147629, 0.06506101042032242, 0.0036364588886499405, 0.014758042991161346, 0.12028630077838898, 0.004900879226624966, 0.008107362315058708, 0.017449842765927315, 0.24998727440834045, 0.004047099035233259, 0.0, 0.0, 0.0, 0.0, 0.0, 0.0, 0.0, 0.0, 0.0, 0.0, 0.0, 0.0, 0.0, 0.0], [0.1218722015619278, 0.07663217931985855, 0.03023196943104267, 0.016371838748455048, 0.052687909454107285, 0.0214021485298872, 0.02340387925505638, 0.10649685561656952, 0.018582480028271675, 0.035091664642095566, 0.0839414894580841, 0.017393292859196663, 0.04183056950569153, 0.02145387977361679, 0.0333310104906559, 0.05027427151799202, 0.020740864798426628, 0.040903590619564056, 0.03054095432162285, 0.09200657904148102, 0.028245704248547554, 0.036564696580171585, 0.0, 0.0, 0.0, 0.0, 0.0, 0.0, 0.0, 0.0, 0.0, 0.0, 0.0, 0.0, 0.0], [0.21260197460651398, 0.02028409205377102, 0.050003692507743835, 0.015904178842902184, 0.05722508206963539, 0.02285732701420784, 0.04604588821530342, 0.03530845046043396, 0.011784469708800316, 0.0414048433303833, 0.016803614795207977, 0.015782054513692856, 0.02020842768251896, 0.01309018861502409, 0.020854242146015167, 0.06297555565834045, 0.018039442598819733, 0.018052957952022552, 0.024445291608572006, 0.17059147357940674, 0.015939772129058838, 0.041521888226270676, 0.048275116831064224, 0.0, 0.0, 0.0, 0.0, 0.0, 0.0, 0.0, 0.0, 0.0, 0.0, 0.0, 0.0], [0.2671400308609009, 0.03564617782831192, 0.020422885194420815, 0.006622722838073969, 0.04034103453159332, 0.01911034621298313, 0.014575301669538021, 0.05641632154583931, 0.008403629995882511, 0.015526890754699707, 0.04414669796824455, 0.011055911891162395, 0.040019966661930084, 0.009353084489703178, 0.019351867958903313, 0.07054155319929123, 0.012798828072845936, 0.012832630425691605, 0.014165614731609821, 0.11736989766359329, 0.007312785368412733, 0.09727413952350616, 0.020751146599650383, 0.03882048651576042, 0.0, 0.0, 0.0, 0.0, 0.0, 0.0, 0.0, 0.0, 0.0, 0.0, 0.0], [0.14591236412525177, 0.03319380432367325, 0.03138771653175354, 0.00992790050804615, 0.05209650099277496, 0.019840894266963005, 0.019401727244257927, 0.07582409679889679, 0.012863258831202984, 0.03345129266381264, 0.016568411141633987, 0.014797174371778965, 0.05908384174108505, 0.015597397461533546, 0.011369229294359684, 0.021859487518668175, 0.019473882392048836, 0.014793707057833672, 0.05341862142086029, 0.09521486610174179, 0.016204558312892914, 0.06210914999246597, 0.061828482896089554, 0.0665796771645546, 0.03720193728804588, 0.0, 0.0, 0.0, 0.0, 0.0, 0.0, 0.0, 0.0, 0.0, 0.0], [0.06265703588724136, 0.014285167679190636, 0.025387220084667206, 0.030092516914010048, 0.021246911957859993, 0.029529916122555733, 0.026446692645549774, 0.014830506406724453, 0.015861935913562775, 0.043314334005117416, 0.02196396142244339, 0.019970128312706947, 0.04342854395508766, 0.018692897632718086, 0.009475365281105042, 0.024197489023208618, 0.023853622376918793, 0.026908744126558304, 0.014060708694159985, 0.1752849817276001, 0.035836778581142426, 0.04792255535721779, 0.03575059399008751, 0.012070519849658012, 0.059274256229400635, 0.1476566046476364, 0.0, 0.0, 0.0, 0.0, 0.0, 0.0, 0.0, 0.0, 0.0], [0.09766799956560135, 0.03152173385024071, 0.026686416938900948, 0.03645576909184456, 0.03492368757724762, 0.08635793626308441, 0.013895386829972267, 0.03018672950565815, 0.019402580335736275, 0.035141684114933014, 0.048781562596559525, 0.012551559135317802, 0.04099080339074135, 0.020208824425935745, 0.012653255835175514, 0.007451049983501434, 0.013522964902222157, 0.02407808043062687, 0.04302708059549332, 0.1506679505109787, 0.029252586886286736, 0.018810171633958817, 0.016104497015476227, 0.02854987233877182, 0.02987590804696083, 0.051215607672929764, 0.04001832380890846, 0.0, 0.0, 0.0, 0.0, 0.0, 0.0, 0.0, 0.0], [0.09151812642812729, 0.01142112072557211, 0.0397990383207798, 0.011658591218292713, 0.03344331309199333, 0.04107605665922165, 0.009538299404084682, 0.04061255231499672, 0.009114386513829231, 0.04690402373671532, 0.02731761522591114, 0.010844956152141094, 0.024547524750232697, 0.010004598647356033, 0.008095636032521725, 0.008396818302571774, 0.011855484917759895, 0.008184154517948627, 0.04104065150022507, 0.3625810444355011, 0.007537385914474726, 0.009961559437215328, 0.021045755594968796, 0.011855038814246655, 0.030058305710554123, 0.032811928540468216, 0.028863219544291496, 0.009912803769111633, 0.0, 0.0, 0.0, 0.0, 0.0, 0.0, 0.0], [0.10946288704872131, 0.025872742757201195, 0.023928716778755188, 0.020045245066285133, 0.03590444102883339, 0.03167986497282982, 0.02914527803659439, 0.11399827897548676, 0.013954712077975273, 0.03480717912316322, 0.018105626106262207, 0.01762225851416588, 0.01900731958448887, 0.015307599678635597, 0.0097030159085989, 0.012407941743731499, 0.020091678947210312, 0.027262559160590172, 0.0656459704041481, 0.027155403047800064, 0.026226619258522987, 0.01894299127161503, 0.04077143222093582, 0.019073307514190674, 0.021573416888713837, 0.030219418928027153, 0.07011833041906357, 0.060314666479825974, 0.041651058942079544, 0.0, 0.0, 0.0, 0.0, 0.0, 0.0], [0.11406350880861282, 0.02655624970793724, 0.01995842345058918, 0.00893146451562643, 0.034943222999572754, 0.016834313049912453, 0.00937775056809187, 0.0445132851600647, 0.0037722226697951555, 0.028760338202118874, 0.02074114792048931, 0.0056509943678975105, 0.060077618807554245, 0.004424978978931904, 0.010821842588484287, 0.041129276156425476, 0.007085718214511871, 0.01043400727212429, 0.026548538357019424, 0.11019264161586761, 0.00719001330435276, 0.05651939660310745, 0.028027096763253212, 0.06370093673467636, 0.03407692909240723, 0.07150980830192566, 0.04093320667743683, 0.014252983033657074, 0.06984366476535797, 0.009128457866609097, 0.0, 0.0, 0.0, 0.0, 0.0], [0.14399930834770203, 0.02045460231602192, 0.04262388497591019, 0.011592096649110317, 0.02778942696750164, 0.014342915266752243, 0.029106194153428078, 0.04215822368860245, 0.013669715262949467, 0.02058149129152298, 0.008641066029667854, 0.012402210384607315, 0.019577063620090485, 0.014879736118018627, 0.023319043219089508, 0.02236717753112316, 0.014413882978260517, 0.006065309979021549, 0.006985306739807129, 0.08859118819236755, 0.014219223521649837, 0.027541182935237885, 0.05707305297255516, 0.024985700845718384, 0.057333000004291534, 0.048089709132909775, 0.018268704414367676, 0.07940171658992767, 0.04377175495028496, 0.024849100038409233, 0.020906994119286537, 0.0, 0.0, 0.0, 0.0], [0.07786805182695389, 0.019732864573597908, 0.01990637369453907, 0.01517957728356123, 0.02926989272236824, 0.008963337168097496, 0.011427867226302624, 0.03169625997543335, 0.006965262349694967, 0.040641702711582184, 0.01998521387577057, 0.008789058774709702, 0.03574991598725319, 0.007953666150569916, 0.009612186811864376, 0.01496591791510582, 0.010367297567427158, 0.013544999063014984, 0.01374734565615654, 0.0681854784488678, 0.01183705497533083, 0.019355515018105507, 0.016761232167482376, 0.016301220282912254, 0.061250220984220505, 0.12023527175188065, 0.047391459345817566, 0.02382204309105873, 0.14942999184131622, 0.01412149891257286, 0.04741879925131798, 0.007523441221565008, 0.0, 0.0, 0.0], [0.14836616814136505, 0.036274224519729614, 0.02376876398921013, 0.00530839990824461, 0.032260362058877945, 0.017439452931284904, 0.015090284869074821, 0.04443071782588959, 0.004935790318995714, 0.021151509135961533, 0.023849118500947952, 0.0061277905479073524, 0.04430978000164032, 0.005717848893254995, 0.006861448287963867, 0.016362620517611504, 0.00770712411031127, 0.009109633043408394, 0.028427604585886, 0.14491388201713562, 0.006351599004119635, 0.03453823924064636, 0.023273004218935966, 0.04803792014718056, 0.03441665694117546, 0.06975366920232773, 0.02756190113723278, 0.012016541324555874, 0.03535730019211769, 0.008575202897191048, 0.03916303068399429, 0.009715795516967773, 0.00882657989859581, 0.0, 0.0], [0.11389314383268356, 0.021931475028395653, 0.02644759602844715, 0.007602885365486145, 0.020530682057142258, 0.029713165014982224, 0.03694961965084076, 0.028757939115166664, 0.007981305941939354, 0.029359182342886925, 0.015349611639976501, 0.018420172855257988, 0.020850984379649162, 0.008514756336808205, 0.01093092281371355, 0.009227696806192398, 0.021279290318489075, 0.009222989901900291, 0.027651090174913406, 0.12458859384059906, 0.010509626939892769, 0.06096193939447403, 0.022033264860510826, 0.030366934835910797, 0.027411185204982758, 0.03459944948554039, 0.032027289271354675, 0.0395297110080719, 0.053537964820861816, 0.017732905223965645, 0.017497556284070015, 0.017771480605006218, 0.012080204673111439, 0.034737348556518555, 0.0], [0.13933588564395905, 0.0213712677359581, 0.014541358686983585, 0.005123288370668888, 0.031635090708732605, 0.010921815410256386, 0.012541360221803188, 0.02249285951256752, 0.004774261265993118, 0.024901429191231728, 0.010858357883989811, 0.010577707551419735, 0.02590608410537243, 0.005286505911499262, 0.016752298921346664, 0.045204393565654755, 0.012112229131162167, 0.014714703895151615, 0.014629190787672997, 0.08781159669160843, 0.007287844084203243, 0.07496529072523117, 0.015995563939213753, 0.04392344132065773, 0.041024114936590195, 0.07587806135416031, 0.027924571186304092, 0.015250182710587978, 0.013413443230092525, 0.014532777480781078, 0.02721545286476612, 0.03453553467988968, 0.018207406625151634, 0.0350533202290535, 0.0233012605458498]], [[1.0, 0.0, 0.0, 0.0, 0.0, 0.0, 0.0, 0.0, 0.0, 0.0, 0.0, 0.0, 0.0, 0.0, 0.0, 0.0, 0.0, 0.0, 0.0, 0.0, 0.0, 0.0, 0.0, 0.0, 0.0, 0.0, 0.0, 0.0, 0.0, 0.0, 0.0, 0.0, 0.0, 0.0, 0.0], [0.00041899754432961345, 0.9995810389518738, 0.0, 0.0, 0.0, 0.0, 0.0, 0.0, 0.0, 0.0, 0.0, 0.0, 0.0, 0.0, 0.0, 0.0, 0.0, 0.0, 0.0, 0.0, 0.0, 0.0, 0.0, 0.0, 0.0, 0.0, 0.0, 0.0, 0.0, 0.0, 0.0, 0.0, 0.0, 0.0, 0.0], [0.00013394761481322348, 0.00951184332370758, 0.9903541803359985, 0.0, 0.0, 0.0, 0.0, 0.0, 0.0, 0.0, 0.0, 0.0, 0.0, 0.0, 0.0, 0.0, 0.0, 0.0, 0.0, 0.0, 0.0, 0.0, 0.0, 0.0, 0.0, 0.0, 0.0, 0.0, 0.0, 0.0, 0.0, 0.0, 0.0, 0.0, 0.0], [0.0008606771007180214, 0.0026100408285856247, 0.015066809952259064, 0.9814624786376953, 0.0, 0.0, 0.0, 0.0, 0.0, 0.0, 0.0, 0.0, 0.0, 0.0, 0.0, 0.0, 0.0, 0.0, 0.0, 0.0, 0.0, 0.0, 0.0, 0.0, 0.0, 0.0, 0.0, 0.0, 0.0, 0.0, 0.0, 0.0, 0.0, 0.0, 0.0], [3.7170477298786864e-05, 0.0006769579485990107, 0.0012692962773144245, 0.0002140784781659022, 0.9978025555610657, 0.0, 0.0, 0.0, 0.0, 0.0, 0.0, 0.0, 0.0, 0.0, 0.0, 0.0, 0.0, 0.0, 0.0, 0.0, 0.0, 0.0, 0.0, 0.0, 0.0, 0.0, 0.0, 0.0, 0.0, 0.0, 0.0, 0.0, 0.0, 0.0, 0.0], [8.425424312008545e-05, 0.0007904724916443229, 0.00321528990752995, 0.0027085731271654367, 0.0013058268232271075, 0.9918956160545349, 0.0, 0.0, 0.0, 0.0, 0.0, 0.0, 0.0, 0.0, 0.0, 0.0, 0.0, 0.0, 0.0, 0.0, 0.0, 0.0, 0.0, 0.0, 0.0, 0.0, 0.0, 0.0, 0.0, 0.0, 0.0, 0.0, 0.0, 0.0, 0.0], [0.00014960527187213302, 0.0018361854599788785, 0.001637504086829722, 0.001013060798868537, 0.0042098104022443295, 8.004387927940115e-05, 0.9910737872123718, 0.0, 0.0, 0.0, 0.0, 0.0, 0.0, 0.0, 0.0, 0.0, 0.0, 0.0, 0.0, 0.0, 0.0, 0.0, 0.0, 0.0, 0.0, 0.0, 0.0, 0.0, 0.0, 0.0, 0.0, 0.0, 0.0, 0.0, 0.0], [0.0002685565559659153, 0.000925964443013072, 0.0008250505197793245, 0.0006819659029133618, 0.007268859073519707, 0.001351707149296999, 0.00034691678592935205, 0.9883310198783875, 0.0, 0.0, 0.0, 0.0, 0.0, 0.0, 0.0, 0.0, 0.0, 0.0, 0.0, 0.0, 0.0, 0.0, 0.0, 0.0, 0.0, 0.0, 0.0, 0.0, 0.0, 0.0, 0.0, 0.0, 0.0, 0.0, 0.0], [0.007326364051550627, 0.007828546687960625, 0.0039318762719631195, 0.0001837400923250243, 6.433094677049667e-05, 0.0001008316467050463, 6.769890751456842e-05, 7.164074486354366e-05, 0.9804249405860901, 0.0, 0.0, 0.0, 0.0, 0.0, 0.0, 0.0, 0.0, 0.0, 0.0, 0.0, 0.0, 0.0, 0.0, 0.0, 0.0, 0.0, 0.0, 0.0, 0.0, 0.0, 0.0, 0.0, 0.0, 0.0, 0.0], [3.917570938938297e-05, 9.137415327131748e-05, 0.00033399087260477245, 6.816770473960787e-05, 7.81232156441547e-05, 0.0009843026055023074, 0.00016941336798481643, 0.002541461493819952, 4.413309216033667e-05, 0.9956498742103577, 0.0, 0.0, 0.0, 0.0, 0.0, 0.0, 0.0, 0.0, 0.0, 0.0, 0.0, 0.0, 0.0, 0.0, 0.0, 0.0, 0.0, 0.0, 0.0, 0.0, 0.0, 0.0, 0.0, 0.0, 0.0], [5.5203117881319486e-06, 2.3466483980882913e-05, 9.186465467792004e-05, 8.01341884653084e-05, 3.939209636882879e-05, 8.521587733412161e-05, 2.5735924282344058e-05, 7.120813097571954e-05, 4.276960225979565e-06, 0.00015049739158712327, 0.9994226694107056, 0.0, 0.0, 0.0, 0.0, 0.0, 0.0, 0.0, 0.0, 0.0, 0.0, 0.0, 0.0, 0.0, 0.0, 0.0, 0.0, 0.0, 0.0, 0.0, 0.0, 0.0, 0.0, 0.0, 0.0], [0.0010400308528915048, 0.002299361629411578, 0.0023920699022710323, 0.0003133234567940235, 0.00013362923345994204, 0.0005168464849703014, 0.0011971102794632316, 6.827450124546885e-05, 0.005444327834993601, 0.00028217470389790833, 4.3057352741016075e-05, 0.9862697720527649, 0.0, 0.0, 0.0, 0.0, 0.0, 0.0, 0.0, 0.0, 0.0, 0.0, 0.0, 0.0, 0.0, 0.0, 0.0, 0.0, 0.0, 0.0, 0.0, 0.0, 0.0, 0.0, 0.0], [4.6304139686981216e-05, 0.0003248231369070709, 0.0002445945283398032, 0.001531168702058494, 0.0008613723330199718, 0.0012943893671035767, 6.198471237439662e-05, 2.6642746888683178e-05, 4.8408732254756615e-05, 0.001985569018870592, 0.0001397189626004547, 0.00011434302723500878, 0.9933207035064697, 0.0, 0.0, 0.0, 0.0, 0.0, 0.0, 0.0, 0.0, 0.0, 0.0, 0.0, 0.0, 0.0, 0.0, 0.0, 0.0, 0.0, 0.0, 0.0, 0.0, 0.0, 0.0], [0.0030442432034760714, 0.0018223640508949757, 0.0009289864101447165, 4.88023433717899e-05, 1.6391149983974174e-05, 2.909564136643894e-05, 2.5079834813368507e-05, 2.9130291295587085e-05, 0.45632198452949524, 2.4578685042797588e-05, 2.483217576809693e-05, 0.0030043956357985735, 1.6773815332271624e-06, 0.5346784591674805, 0.0, 0.0, 0.0, 0.0, 0.0, 0.0, 0.0, 0.0, 0.0, 0.0, 0.0, 0.0, 0.0, 0.0, 0.0, 0.0, 0.0, 0.0, 0.0, 0.0, 0.0], [0.00039817841025069356, 0.0010284995660185814, 0.0008281109039671719, 0.00023753145069349557, 7.348858343902975e-05, 0.0014350296696648002, 6.76565759931691e-05, 0.00029547372832894325, 0.00014295782602857798, 9.929083898896351e-05, 4.608212293533143e-06, 0.0005140060093253851, 5.0356525207462255e-06, 0.00012475508265197277, 0.9947453737258911, 0.0, 0.0, 0.0, 0.0, 0.0, 0.0, 0.0, 0.0, 0.0, 0.0, 0.0, 0.0, 0.0, 0.0, 0.0, 0.0, 0.0, 0.0, 0.0, 0.0], [9.074855915969238e-05, 0.0002652601688168943, 0.00011011186870746315, 0.00021231947175692767, 8.290550613310188e-05, 0.0011814209865406156, 1.5688718121964484e-05, 0.0016655955696478486, 1.1725332115020137e-05, 0.0020509453024715185, 0.00013842586486134678, 1.557363611937035e-05, 1.150744083133759e-05, 9.066193342732731e-06, 0.00022655802604276687, 0.9939122200012207, 0.0, 0.0, 0.0, 0.0, 0.0, 0.0, 0.0, 0.0, 0.0, 0.0, 0.0, 0.0, 0.0, 0.0, 0.0, 0.0, 0.0, 0.0, 0.0], [0.00044135426287539303, 0.0006528961239382625, 0.0006495665293186903, 9.398067049914971e-05, 4.112711030757055e-05, 0.00017028431466314942, 0.0005066706798970699, 2.889607821998652e-05, 0.0023701833561062813, 0.0001045431854436174, 1.923093805089593e-05, 0.4705588221549988, 1.680400782788638e-05, 0.002284094225615263, 0.000216981177800335, 3.276941424701363e-05, 0.5218117833137512, 0.0, 0.0, 0.0, 0.0, 0.0, 0.0, 0.0, 0.0, 0.0, 0.0, 0.0, 0.0, 0.0, 0.0, 0.0, 0.0, 0.0, 0.0], [0.0005350520368665457, 0.0006631254218518734, 0.00018957522115670145, 0.00011594560055527836, 3.9305876271100715e-05, 8.452115434920415e-05, 0.00026859997888095677, 0.0003003481833729893, 0.00012727576540783048, 0.00015363430429715663, 2.1524516341742128e-05, 0.0004102020466234535, 0.0015090389642864466, 0.00011659036681521684, 0.0001377397566102445, 7.38915623514913e-05, 0.00039899448165670037, 0.9948546886444092, 0.0, 0.0, 0.0, 0.0, 0.0, 0.0, 0.0, 0.0, 0.0, 0.0, 0.0, 0.0, 0.0, 0.0, 0.0, 0.0, 0.0], [0.0002235247375210747, 0.0002502534771338105, 0.00011739338515326381, 1.8608267055242322e-05, 0.0006291492027230561, 0.0007579223602078855, 3.784089858527295e-05, 0.003385146614164114, 1.791827889974229e-05, 0.00017818294872995466, 3.4344266168773174e-05, 7.747584459139034e-05, 6.471157394116744e-05, 1.5270292351488024e-05, 0.0002935958909802139, 0.0005734387668780982, 7.154404011089355e-05, 0.000158831593580544, 0.993094801902771, 0.0, 0.0, 0.0, 0.0, 0.0, 0.0, 0.0, 0.0, 0.0, 0.0, 0.0, 0.0, 0.0, 0.0, 0.0, 0.0], [0.00030641030753031373, 0.00041680148569867015, 0.00045197230065241456, 0.00015746410645078868, 0.0015800752444192767, 0.0022666333243250847, 0.0001448363036615774, 0.002518873196095228, 4.471190186450258e-05, 0.002739465096965432, 0.00043489778181537986, 0.00015683120000176132, 2.8505737645900808e-05, 4.0058319427771494e-05, 0.0005936679663136601, 0.00011775231541832909, 0.00014039635425433517, 0.0001806039217626676, 0.0009641890646889806, 0.9867159128189087, 0.0, 0.0, 0.0, 0.0, 0.0, 0.0, 0.0, 0.0, 0.0, 0.0, 0.0, 0.0, 0.0, 0.0, 0.0], [0.009046882390975952, 0.0007260903948917985, 6.491786189144477e-05, 4.5782704546581954e-05, 3.669528086902574e-05, 3.389695848454721e-05, 4.131328751100227e-05, 9.000120917335153e-05, 0.016163911670446396, 1.895378591143526e-05, 3.3513781090732664e-05, 0.0021810815669596195, 5.341176802176051e-06, 0.018749460577964783, 0.0001789774833014235, 0.00049936881987378, 0.002435564761981368, 4.271611032891087e-05, 7.329281652346253e-05, 1.9154360415996052e-05, 0.9495131969451904, 0.0, 0.0, 0.0, 0.0, 0.0, 0.0, 0.0, 0.0, 0.0, 0.0, 0.0, 0.0, 0.0, 0.0], [0.00021946291963104159, 0.0011669580126181245, 0.00021983245096635073, 0.0009876289404928684, 0.00031338463304564357, 0.00012072654499206692, 5.631537533190567e-06, 2.4260070858872496e-05, 4.544197872746736e-05, 1.852959394454956e-05, 1.4025716154719703e-05, 1.0154987649002578e-05, 0.0004018019244540483, 4.0526429074816406e-05, 0.0001710674405330792, 9.8690579761751e-06, 9.488572686677799e-06, 0.0003931091050617397, 5.709413926524576e-06, 1.7844293324742466e-05, 2.8530415875138715e-05, 0.9957762360572815, 0.0, 0.0, 0.0, 0.0, 0.0, 0.0, 0.0, 0.0, 0.0, 0.0, 0.0, 0.0, 0.0], [0.00019361003069207072, 0.0008434180053882301, 0.0005215295823290944, 2.566456350905355e-05, 0.00046233212924562395, 0.00025401596212759614, 1.8471217117621563e-05, 0.00011509784235386178, 0.00027288994169794023, 0.00015436687681358308, 1.21491457321099e-05, 0.0006913748802617192, 5.695979416486807e-05, 0.00024024784215725958, 3.827492764685303e-05, 9.934457921190187e-05, 0.0006488919025287032, 8.011747559066862e-05, 0.00019218817760702223, 2.5529448976158164e-05, 0.00032434804597869515, 0.0010871072299778461, 0.9936420321464539, 0.0, 0.0, 0.0, 0.0, 0.0, 0.0, 0.0, 0.0, 0.0, 0.0, 0.0, 0.0], [0.0016077648615464568, 0.1769733428955078, 0.015483601950109005, 0.000371388130588457, 0.0003786341694649309, 0.00016452741692773998, 0.00032773835118860006, 0.00016989713185466826, 0.00212296424433589, 3.573103458620608e-05, 6.090146052883938e-05, 0.0004562170070130378, 1.5447807527380064e-05, 0.0022543182130903006, 0.0015666899271309376, 0.00011843765969388187, 0.0004699892597272992, 5.037321534473449e-05, 0.00012108073133276775, 6.008972559357062e-05, 0.0008920581312850118, 0.0007518462371081114, 0.00026899686781689525, 0.7952780723571777, 0.0, 0.0, 0.0, 0.0, 0.0, 0.0, 0.0, 0.0, 0.0, 0.0, 0.0], [0.0003919867449440062, 0.00021421202109195292, 0.0005306123057380319, 1.0745795407274272e-05, 0.00011862390965688974, 4.225783050060272e-05, 0.00021160392498131841, 4.692554284702055e-05, 0.00044815847650170326, 0.00010691297211451456, 3.935468339477666e-05, 0.00016830874665174633, 0.00017352365830447525, 0.000452450942248106, 0.00014294125139713287, 0.00011699349124683067, 0.00017526814190205187, 0.00010119981016032398, 4.251394420862198e-05, 2.0371742721181363e-05, 3.83713559131138e-05, 0.00011344622180331498, 0.00025279319379478693, 6.991033296799287e-05, 0.9959704875946045, 0.0, 0.0, 0.0, 0.0, 0.0, 0.0, 0.0, 0.0, 0.0, 0.0], [0.00021530696540139616, 0.00010005840158555657, 0.002380918012931943, 0.0019831403624266386, 0.0011120112612843513, 5.563466766034253e-05, 0.0006109262467361987, 0.0002456433139741421, 8.819004870019853e-05, 0.001151039730757475, 0.00010669898620108142, 0.00017554868827573955, 5.736283492296934e-05, 7.814793207217008e-05, 0.0002457347291056067, 9.594668881618418e-06, 0.00017032393952831626, 2.8972648578928784e-05, 1.401169993187068e-05, 0.00016692063945811242, 1.2888870514871087e-05, 0.00024495532852597535, 0.0005147010087966919, 4.942114173900336e-05, 0.0005746553069911897, 0.9896071553230286, 0.0, 0.0, 0.0, 0.0, 0.0, 0.0, 0.0, 0.0, 0.0], [0.00011423427349654958, 0.0008627412607893348, 0.0007732235244475305, 0.0007090758881531656, 0.0007292139925993979, 0.0014031626051291823, 0.00021403632126748562, 0.00017666495114099234, 6.622055661864579e-05, 3.2159430702449754e-05, 0.0004533061583060771, 0.0001200851402245462, 2.2129046556074172e-05, 5.8075143897440284e-05, 0.00012917444109916687, 1.9079687263001688e-05, 0.00011076675582444295, 8.56419592309976e-06, 2.363056773901917e-05, 0.0003379980626050383, 5.211896859691478e-05, 0.00014455695054493845, 0.0001969498407561332, 0.0004510532016865909, 2.0576282622641884e-05, 8.76431877259165e-05, 0.992683470249176, 0.0, 0.0, 0.0, 0.0, 0.0, 0.0, 0.0, 0.0], [0.0001979833614313975, 0.00019567940034903586, 0.00022612242901232094, 0.00041943672113120556, 0.0005979695124551654, 0.000451744650490582, 0.0003478288999758661, 0.0002585809852462262, 2.80198801192455e-05, 0.0007220012485049665, 0.00013010468683205545, 0.001163206878118217, 6.916908751009032e-05, 2.4789154849713668e-05, 0.00010386014764662832, 0.00038124938146211207, 0.0011587801855057478, 0.00033144469489343464, 0.00024494543322362006, 0.00012755172792822123, 0.0001609843602636829, 1.9267921743448824e-05, 0.00027174208662472665, 2.0765552108059637e-05, 6.82506724842824e-05, 0.0008764250087551773, 0.0006782166310586035, 0.9907240271568298, 0.0, 0.0, 0.0, 0.0, 0.0, 0.0, 0.0], [3.157186438329518e-05, 0.0006791105843149126, 0.0007090711151249707, 0.0002416483621345833, 0.00041205441812053323, 0.0009237418416887522, 0.00020848562417086214, 6.639292405452579e-05, 0.00011664830526569858, 8.601935405749828e-05, 0.010591307654976845, 0.000337290926836431, 2.189849146816414e-05, 0.00010110736184287816, 0.00010436093725729734, 5.85874222451821e-05, 0.00032512127654626966, 1.5854117009439506e-05, 5.033608431403991e-06, 0.0004094902833458036, 1.3119506547809578e-05, 5.3133546316530555e-05, 1.1887261280207895e-05, 5.536676326300949e-05, 1.219769455929054e-05, 8.952644566306844e-05, 0.0022435509599745274, 0.0002104191662510857, 0.981866180896759, 0.0, 0.0, 0.0, 0.0, 0.0, 0.0], [0.0007582928519695997, 0.0012331446632742882, 8.604941103840247e-05, 6.291332101682201e-05, 2.879176099668257e-05, 3.3166903449455276e-05, 7.622712291777134e-05, 0.00010868187382584438, 0.006450857501477003, 0.00014789080887567252, 1.0376486898167059e-05, 0.0023889727890491486, 7.88359175203368e-05, 0.007510701194405556, 0.00028743132133968174, 0.0001367574732284993, 0.002760295057669282, 0.0007447169627994299, 8.81111845956184e-05, 2.470205072313547e-05, 0.006188869941979647, 0.00011647049541352317, 0.0001724402973195538, 0.00026217513368465006, 0.00018419795378576964, 4.4321401219349355e-05, 4.855170482187532e-05, 8.903052366804332e-05, 2.6887826606980525e-05, 0.9698501229286194, 0.0, 0.0, 0.0, 0.0, 0.0], [0.00024627428501844406, 0.00035919909714721143, 0.00020521896658465266, 9.38774537644349e-05, 8.57732302392833e-05, 5.495211007655598e-05, 4.531835293164477e-05, 1.0722159458964597e-05, 4.867112875217572e-05, 0.0001101760717574507, 0.00010064091475214809, 9.7722360806074e-05, 0.0005496814846992493, 4.362939216662198e-05, 3.945788193959743e-05, 7.140220259316266e-05, 9.814348595682532e-05, 5.7009699958143756e-05, 2.4251108698081225e-05, 2.31456533583696e-06, 5.0569389713928103e-05, 0.0001131849130615592, 0.0002906991576310247, 6.889962241984904e-05, 0.0006683259271085262, 0.0002321746142115444, 8.348713890882209e-06, 1.743463144521229e-05, 1.027311009238474e-05, 0.00013885677617508918, 0.9960569143295288, 0.0, 0.0, 0.0, 0.0], [0.00011105907469755039, 3.599160481826402e-05, 4.416058072820306e-05, 0.00022596407507080585, 0.0002402585232630372, 1.734895158733707e-05, 7.204312714748085e-05, 0.00023738990421406925, 8.27475669211708e-05, 0.00010178552474826574, 7.876390554883983e-06, 6.391840724973008e-05, 3.295211718068458e-05, 7.889196422183886e-05, 0.00011627464118646458, 7.1391496021533385e-06, 6.571760604856536e-05, 5.396369942900492e-06, 8.334031008416787e-06, 1.961390080396086e-05, 4.110632653464563e-05, 8.538004476577044e-05, 3.161620406899601e-05, 9.91701290331548e-06, 2.3832411898183636e-05, 0.0018293529283255339, 2.611126001283992e-05, 3.31351111526601e-05, 1.4612738596042618e-05, 0.0008547287434339523, 0.0001674516242928803, 0.995307981967926, 0.0, 0.0, 0.0], [0.0022552241571247578, 0.00046477504656650126, 0.00012283731484785676, 0.006661206018179655, 8.828952559269965e-05, 0.00024942768504843116, 0.0001755515404511243, 2.6563478968455456e-05, 0.004149139393121004, 0.00020833070448134094, 1.597335358383134e-05, 0.0007248213514685631, 1.2318059816607274e-05, 0.004929241258651018, 0.0007067761616781354, 2.746017162280623e-05, 0.0008252441766671836, 5.1487335440469906e-05, 9.107254300033674e-06, 0.00117019796743989, 0.0011320497142150998, 0.000387227424653247, 0.00010000279144151136, 0.0005395386251620948, 0.0001279767748201266, 7.41870971978642e-05, 0.0006351852207444608, 5.9918384067714214e-05, 0.00020302319899201393, 0.022641249001026154, 7.11138709448278e-05, 0.0034798511769622564, 0.9476746916770935, 0.0, 0.0], [0.00010488800762686878, 0.000540397537406534, 0.00027006055461242795, 2.7819894967251457e-05, 0.0008878528606146574, 0.00025317250401712954, 0.000292140175588429, 0.0009951454121619463, 3.9432081393897533e-05, 6.531627877848223e-05, 5.1983279263367876e-05, 0.0006716338102705777, 1.9524130038917065e-05, 3.796430610236712e-05, 0.00031547003891319036, 0.00015760320820845664, 0.0006809104816056788, 0.00017366719839628786, 0.0002327583497390151, 0.0004935197648592293, 0.00015254216850735247, 8.968851761892438e-05, 0.0014225784689188004, 0.00022503049694932997, 0.00015392240311484784, 0.00010696897516027093, 0.00565023347735405, 0.0008653216063976288, 0.0002874947094824165, 0.00013868475798517466, 1.4354158338392153e-05, 2.8161950467620045e-05, 0.0001161200343631208, 0.9844375848770142, 0.0], [0.0018830366898328066, 0.00023013926693238318, 7.19053641660139e-05, 3.7982904359523673e-06, 0.0022563592065125704, 4.367969449958764e-05, 0.00012782943667843938, 0.0006368017056956887, 0.000536399136763066, 5.325698111846577e-06, 7.917846960481256e-05, 2.6015983166871592e-05, 1.125324433814967e-05, 0.0005611242959275842, 9.103780939767603e-06, 0.00021052206284366548, 2.689109169295989e-05, 3.2424319215351716e-05, 0.0002593929530121386, 0.00045266642700880766, 0.0011520981788635254, 1.149352829088457e-05, 4.8182344471570104e-05, 0.00010571489838184789, 8.452797192148864e-05, 0.000100208621006459, 2.8483702408266254e-05, 2.041542757069692e-05, 1.8022952872343012e-06, 7.628946332260966e-05, 4.604330752044916e-05, 9.973564010579139e-05, 5.258398232399486e-06, 0.0001948850112967193, 0.9905609488487244]], [[1.0, 0.0, 0.0, 0.0, 0.0, 0.0, 0.0, 0.0, 0.0, 0.0, 0.0, 0.0, 0.0, 0.0, 0.0, 0.0, 0.0, 0.0, 0.0, 0.0, 0.0, 0.0, 0.0, 0.0, 0.0, 0.0, 0.0, 0.0, 0.0, 0.0, 0.0, 0.0, 0.0, 0.0, 0.0], [0.9424744844436646, 0.05752556025981903, 0.0, 0.0, 0.0, 0.0, 0.0, 0.0, 0.0, 0.0, 0.0, 0.0, 0.0, 0.0, 0.0, 0.0, 0.0, 0.0, 0.0, 0.0, 0.0, 0.0, 0.0, 0.0, 0.0, 0.0, 0.0, 0.0, 0.0, 0.0, 0.0, 0.0, 0.0, 0.0, 0.0], [0.8506749868392944, 0.09740971028804779, 0.05191529169678688, 0.0, 0.0, 0.0, 0.0, 0.0, 0.0, 0.0, 0.0, 0.0, 0.0, 0.0, 0.0, 0.0, 0.0, 0.0, 0.0, 0.0, 0.0, 0.0, 0.0, 0.0, 0.0, 0.0, 0.0, 0.0, 0.0, 0.0, 0.0, 0.0, 0.0, 0.0, 0.0], [0.7641512751579285, 0.10970377177000046, 0.07497037947177887, 0.05117453634738922, 0.0, 0.0, 0.0, 0.0, 0.0, 0.0, 0.0, 0.0, 0.0, 0.0, 0.0, 0.0, 0.0, 0.0, 0.0, 0.0, 0.0, 0.0, 0.0, 0.0, 0.0, 0.0, 0.0, 0.0, 0.0, 0.0, 0.0, 0.0, 0.0, 0.0, 0.0], [0.6748191714286804, 0.08416195213794708, 0.0547025091946125, 0.07581549882888794, 0.11050094664096832, 0.0, 0.0, 0.0, 0.0, 0.0, 0.0, 0.0, 0.0, 0.0, 0.0, 0.0, 0.0, 0.0, 0.0, 0.0, 0.0, 0.0, 0.0, 0.0, 0.0, 0.0, 0.0, 0.0, 0.0, 0.0, 0.0, 0.0, 0.0, 0.0, 0.0], [0.6857607364654541, 0.08229532092809677, 0.052021149545907974, 0.08139174431562424, 0.04085882380604744, 0.05767221376299858, 0.0, 0.0, 0.0, 0.0, 0.0, 0.0, 0.0, 0.0, 0.0, 0.0, 0.0, 0.0, 0.0, 0.0, 0.0, 0.0, 0.0, 0.0, 0.0, 0.0, 0.0, 0.0, 0.0, 0.0, 0.0, 0.0, 0.0, 0.0, 0.0], [0.6174605488777161, 0.05653456225991249, 0.09111698716878891, 0.06854881346225739, 0.06338423490524292, 0.035969749093055725, 0.066985122859478, 0.0, 0.0, 0.0, 0.0, 0.0, 0.0, 0.0, 0.0, 0.0, 0.0, 0.0, 0.0, 0.0, 0.0, 0.0, 0.0, 0.0, 0.0, 0.0, 0.0, 0.0, 0.0, 0.0, 0.0, 0.0, 0.0, 0.0, 0.0], [0.6047279834747314, 0.06088969483971596, 0.05921151489019394, 0.09558156877756119, 0.042659152299165726, 0.03184344246983528, 0.042630646377801895, 0.062456026673316956, 0.0, 0.0, 0.0, 0.0, 0.0, 0.0, 0.0, 0.0, 0.0, 0.0, 0.0, 0.0, 0.0, 0.0, 0.0, 0.0, 0.0, 0.0, 0.0, 0.0, 0.0, 0.0, 0.0, 0.0, 0.0, 0.0, 0.0], [0.4008438289165497, 0.07533580809831619, 0.04270840808749199, 0.011760726571083069, 0.026680568233132362, 0.013492081314325333, 0.028465459123253822, 0.013900598511099815, 0.3868125379085541, 0.0, 0.0, 0.0, 0.0, 0.0, 0.0, 0.0, 0.0, 0.0, 0.0, 0.0, 0.0, 0.0, 0.0, 0.0, 0.0, 0.0, 0.0, 0.0, 0.0, 0.0, 0.0, 0.0, 0.0, 0.0, 0.0], [0.49680259823799133, 0.06792883574962616, 0.05792003497481346, 0.07101526856422424, 0.06963260471820831, 0.018800098448991776, 0.06757567077875137, 0.06346482038497925, 0.06656692177057266, 0.02029319852590561, 0.0, 0.0, 0.0, 0.0, 0.0, 0.0, 0.0, 0.0, 0.0, 0.0, 0.0, 0.0, 0.0, 0.0, 0.0, 0.0, 0.0, 0.0, 0.0, 0.0, 0.0, 0.0, 0.0, 0.0, 0.0], [0.5176077485084534, 0.08289017528295517, 0.052397653460502625, 0.06842365115880966, 0.04608829319477081, 0.026865951716899872, 0.08181484043598175, 0.032308343797922134, 0.055162765085697174, 0.018549641594290733, 0.01789088174700737, 0.0, 0.0, 0.0, 0.0, 0.0, 0.0, 0.0, 0.0, 0.0, 0.0, 0.0, 0.0, 0.0, 0.0, 0.0, 0.0, 0.0, 0.0, 0.0, 0.0, 0.0, 0.0, 0.0, 0.0], [0.3038182854652405, 0.031856462359428406, 0.029157694429159164, 0.011053642258048058, 0.013536772690713406, 0.016536911949515343, 0.01518196240067482, 0.015511736273765564, 0.026294957846403122, 0.016891004517674446, 0.011886644177138805, 0.5082740187644958, 0.0, 0.0, 0.0, 0.0, 0.0, 0.0, 0.0, 0.0, 0.0, 0.0, 0.0, 0.0, 0.0, 0.0, 0.0, 0.0, 0.0, 0.0, 0.0, 0.0, 0.0, 0.0, 0.0], [0.3585990071296692, 0.07880906760692596, 0.05902862176299095, 0.04445865377783775, 0.07822325080633163, 0.019679531455039978, 0.05133117735385895, 0.0400983951985836, 0.08024681359529495, 0.027811914682388306, 0.010250615887343884, 0.1361035406589508, 0.015359452925622463, 0.0, 0.0, 0.0, 0.0, 0.0, 0.0, 0.0, 0.0, 0.0, 0.0, 0.0, 0.0, 0.0, 0.0, 0.0, 0.0, 0.0, 0.0, 0.0, 0.0, 0.0, 0.0], [0.2511677145957947, 0.046233996748924255, 0.027838556095957756, 0.0070564947091042995, 0.017244167625904083, 0.008997935801744461, 0.017309946939349174, 0.00992414727807045, 0.25275108218193054, 0.012778300791978836, 0.008546065539121628, 0.047919970005750656, 0.006098273675888777, 0.28613337874412537, 0.0, 0.0, 0.0, 0.0, 0.0, 0.0, 0.0, 0.0, 0.0, 0.0, 0.0, 0.0, 0.0, 0.0, 0.0, 0.0, 0.0, 0.0, 0.0, 0.0, 0.0], [0.398007869720459, 0.06433820724487305, 0.04979853704571724, 0.05949562042951584, 0.0318211205303669, 0.0307147353887558, 0.05899549648165703, 0.054803892970085144, 0.03919370844960213, 0.035564471036195755, 0.024916458874940872, 0.04571930319070816, 0.016671661287546158, 0.038943082094192505, 0.05101581662893295, 0.0, 0.0, 0.0, 0.0, 0.0, 0.0, 0.0, 0.0, 0.0, 0.0, 0.0, 0.0, 0.0, 0.0, 0.0, 0.0, 0.0, 0.0, 0.0, 0.0], [0.39033839106559753, 0.0754939541220665, 0.03844676539301872, 0.04366777464747429, 0.017820753157138824, 0.012712185271084309, 0.04530723765492439, 0.03603019937872887, 0.042170681059360504, 0.016753027215600014, 0.042248643934726715, 0.05092340707778931, 0.030772073194384575, 0.04072083532810211, 0.05648885667324066, 0.06010529771447182, 0.0, 0.0, 0.0, 0.0, 0.0, 0.0, 0.0, 0.0, 0.0, 0.0, 0.0, 0.0, 0.0, 0.0, 0.0, 0.0, 0.0, 0.0, 0.0], [0.18182353675365448, 0.018224792554974556, 0.01747790537774563, 0.006372255738824606, 0.007922591641545296, 0.010062881745398045, 0.008703156374394894, 0.010297474451363087, 0.015354440547525883, 0.011538185179233551, 0.007091044913977385, 0.3139553964138031, 0.006019816733896732, 0.015887580811977386, 0.01542199868708849, 0.013188587501645088, 0.34065836668014526, 0.0, 0.0, 0.0, 0.0, 0.0, 0.0, 0.0, 0.0, 0.0, 0.0, 0.0, 0.0, 0.0, 0.0, 0.0, 0.0, 0.0, 0.0], [0.23881429433822632, 0.07684366405010223, 0.04843556508421898, 0.02831975743174553, 0.04297623410820961, 0.01943075843155384, 0.033217210322618484, 0.027472954243421555, 0.01897592656314373, 0.040467482060194016, 0.02009560354053974, 0.0585731565952301, 0.035305723547935486, 0.019691891968250275, 0.0970376580953598, 0.03909807652235031, 0.06199450045824051, 0.09324945509433746, 0.0, 0.0, 0.0, 0.0, 0.0, 0.0, 0.0, 0.0, 0.0, 0.0, 0.0, 0.0, 0.0, 0.0, 0.0, 0.0, 0.0], [0.35636118054389954, 0.043545376509428024, 0.05439372733235359, 0.035997189581394196, 0.055608708411455154, 0.032856810837984085, 0.019443828612565994, 0.06911689788103104, 0.020649438723921776, 0.033605340868234634, 0.027618732303380966, 0.03408000245690346, 0.026847446337342262, 0.02033730410039425, 0.022298933938145638, 0.03622739389538765, 0.03464473783969879, 0.02265501394867897, 0.0537119023501873, 0.0, 0.0, 0.0, 0.0, 0.0, 0.0, 0.0, 0.0, 0.0, 0.0, 0.0, 0.0, 0.0, 0.0, 0.0, 0.0], [0.39670121669769287, 0.05178240314126015, 0.039961930364370346, 0.0663074478507042, 0.04557184502482414, 0.02398340031504631, 0.019396748393774033, 0.021365970373153687, 0.020253777503967285, 0.03685581684112549, 0.00949204433709383, 0.04181000217795372, 0.014498692005872726, 0.01978372223675251, 0.02971522882580757, 0.04631546512246132, 0.04246639087796211, 0.031475216150283813, 0.02202763967216015, 0.02023506909608841, 0.0, 0.0, 0.0, 0.0, 0.0, 0.0, 0.0, 0.0, 0.0, 0.0, 0.0, 0.0, 0.0, 0.0, 0.0], [0.23151393234729767, 0.13258202373981476, 0.06026103347539902, 0.011383598670363426, 0.024262716993689537, 0.01455345842987299, 0.01697956584393978, 0.013957410119473934, 0.02247590571641922, 0.027721287682652473, 0.02060706913471222, 0.040846843272447586, 0.02772320620715618, 0.024550696834921837, 0.03857919201254845, 0.04770103096961975, 0.044071100652217865, 0.07720751315355301, 0.04604469984769821, 0.04773346707224846, 0.029244298115372658, 0.0, 0.0, 0.0, 0.0, 0.0, 0.0, 0.0, 0.0, 0.0, 0.0, 0.0, 0.0, 0.0, 0.0], [0.20264171063899994, 0.04893086850643158, 0.03894680738449097, 0.026632271707057953, 0.040943484753370285, 0.01617504097521305, 0.043880145996809006, 0.04927309602499008, 0.037442922592163086, 0.01874796487390995, 0.010438330471515656, 0.030274193733930588, 0.011668822728097439, 0.03915899246931076, 0.08361908048391342, 0.026806533336639404, 0.03237595409154892, 0.026771074160933495, 0.04136868938803673, 0.04380553215742111, 0.09921548515558243, 0.03088301047682762, 0.0, 0.0, 0.0, 0.0, 0.0, 0.0, 0.0, 0.0, 0.0, 0.0, 0.0, 0.0, 0.0], [0.22999970614910126, 0.029275361448526382, 0.02482369914650917, 0.030747542157769203, 0.024439768865704536, 0.02507817931473255, 0.01904827356338501, 0.041617508977651596, 0.02524641901254654, 0.055363453924655914, 0.013840338215231895, 0.03206310793757439, 0.02337372675538063, 0.026896368712186813, 0.037655845284461975, 0.02870967984199524, 0.03498142957687378, 0.038269270211458206, 0.05304877832531929, 0.07750778645277023, 0.042357493191957474, 0.0629706159234047, 0.02268565446138382, 0.0, 0.0, 0.0, 0.0, 0.0, 0.0, 0.0, 0.0, 0.0, 0.0, 0.0, 0.0], [0.2523007094860077, 0.04309260472655296, 0.04779433086514473, 0.021534807980060577, 0.05364761874079704, 0.014357616193592548, 0.016968199983239174, 0.012399841099977493, 0.028107933700084686, 0.022964568808674812, 0.013637283816933632, 0.03462430089712143, 0.013057569973170757, 0.029753552749753, 0.025925690308213234, 0.03689543902873993, 0.0364658385515213, 0.02009117230772972, 0.03424844145774841, 0.0322706364095211, 0.07516520470380783, 0.03381401300430298, 0.057944510132074356, 0.042938102036714554, 0.0, 0.0, 0.0, 0.0, 0.0, 0.0, 0.0, 0.0, 0.0, 0.0, 0.0], [0.24815583229064941, 0.041838373988866806, 0.037253525108098984, 0.019914167001843452, 0.06031177192926407, 0.013761509209871292, 0.010237004607915878, 0.02711835876107216, 0.02124747820198536, 0.014996428042650223, 0.015956399962306023, 0.01974193938076496, 0.016942845657467842, 0.022782426327466965, 0.021159417927265167, 0.013419795781373978, 0.02113155461847782, 0.01588008925318718, 0.03851576894521713, 0.03509928286075592, 0.06386472284793854, 0.04215889796614647, 0.055951785296201706, 0.06510591506958008, 0.0574546717107296, 0.0, 0.0, 0.0, 0.0, 0.0, 0.0, 0.0, 0.0, 0.0, 0.0], [0.24590620398521423, 0.03979460895061493, 0.034050021320581436, 0.03872011974453926, 0.02834436297416687, 0.024568283930420876, 0.013687249273061752, 0.019880935549736023, 0.017507940530776978, 0.04131212458014488, 0.024649063125252724, 0.017028072848916054, 0.015493784099817276, 0.018039915710687637, 0.028712527826428413, 0.008945342153310776, 0.017858801409602165, 0.029846547171473503, 0.02698221057653427, 0.0611925944685936, 0.03972142934799194, 0.04008689522743225, 0.046563781797885895, 0.046592097729444504, 0.04635816439986229, 0.028156941756606102, 0.0, 0.0, 0.0, 0.0, 0.0, 0.0, 0.0, 0.0, 0.0], [0.24299508333206177, 0.030936650931835175, 0.0372810997068882, 0.029979784041643143, 0.03951823711395264, 0.02068972960114479, 0.02446378953754902, 0.01616225764155388, 0.023514611646533012, 0.015184110961854458, 0.009779490530490875, 0.010400431230664253, 0.008830741047859192, 0.023988919332623482, 0.024419227614998817, 0.03784201666712761, 0.01058998703956604, 0.013367556035518646, 0.0162633266299963, 0.09984052926301956, 0.02563280612230301, 0.027902808040380478, 0.05468779802322388, 0.031704071909189224, 0.027479570358991623, 0.01651724800467491, 0.08002809435129166, 0.0, 0.0, 0.0, 0.0, 0.0, 0.0, 0.0, 0.0], [0.24383296072483063, 0.021781548857688904, 0.019058482721447945, 0.026608387008309364, 0.03740560635924339, 0.027086623013019562, 0.0050316122360527515, 0.02665604092180729, 0.017429379746317863, 0.02866247668862343, 0.012150995433330536, 0.030223211273550987, 0.014068293385207653, 0.018160907551646233, 0.015435300767421722, 0.015721842646598816, 0.032153066247701645, 0.024973010644316673, 0.047933753579854965, 0.0459899939596653, 0.031192146241664886, 0.03841527923941612, 0.037881284952163696, 0.03472226858139038, 0.03550754487514496, 0.03336038440465927, 0.05460802838206291, 0.02394956350326538, 0.0, 0.0, 0.0, 0.0, 0.0, 0.0, 0.0], [0.308788001537323, 0.04082433134317398, 0.010766163468360901, 0.02708975411951542, 0.019433287903666496, 0.03355548903346062, 0.010839532129466534, 0.011495564132928848, 0.0112864188849926, 0.019319290295243263, 0.03442363440990448, 0.010595868341624737, 0.01946372538805008, 0.01157797034829855, 0.014172402210533619, 0.021593410521745682, 0.010569151490926743, 0.01821252517402172, 0.007991209626197815, 0.05231862515211105, 0.019707778468728065, 0.03532519191503525, 0.029598258435726166, 0.028512977063655853, 0.021019769832491875, 0.018976135179400444, 0.031007949262857437, 0.017736954614520073, 0.10379862785339355, 0.0, 0.0, 0.0, 0.0, 0.0, 0.0], [0.11270298808813095, 0.013211608864367008, 0.015115484595298767, 0.008062331937253475, 0.018075058236718178, 0.020267318934202194, 0.009121793322265148, 0.0216544009745121, 0.024600304663181305, 0.012220291420817375, 0.005230673588812351, 0.021195191890001297, 0.0075057619251310825, 0.0272400863468647, 0.016828985884785652, 0.0093071972951293, 0.023774148896336555, 0.009840184822678566, 0.023520387709140778, 0.018096182495355606, 0.11592710763216019, 0.008296087384223938, 0.015038424171507359, 0.01626184768974781, 0.022837141528725624, 0.007970291189849377, 0.010346011258661747, 0.013601286336779594, 0.00992316659539938, 0.3622281849384308, 0.0, 0.0, 0.0, 0.0, 0.0], [0.19907140731811523, 0.02335296757519245, 0.02753550000488758, 0.020741203799843788, 0.049442410469055176, 0.0396454855799675, 0.011580479331314564, 0.038496047258377075, 0.012212716042995453, 0.012634865008294582, 0.01889784447848797, 0.01150271575897932, 0.014417962171137333, 0.01285513024777174, 0.015916291624307632, 0.009284359402954578, 0.0119291041046381, 0.014574809931218624, 0.029562365263700485, 0.030921462923288345, 0.0493488572537899, 0.026833010837435722, 0.03316977620124817, 0.02651391364634037, 0.03841780871152878, 0.036665916442871094, 0.03740686923265457, 0.037449173629283905, 0.041813671588897705, 0.04080500081181526, 0.027000807225704193, 0.0, 0.0, 0.0, 0.0], [0.135808527469635, 0.021598203107714653, 0.028431447222828865, 0.021366791799664497, 0.03184177726507187, 0.02831076644361019, 0.011232438497245312, 0.016139332205057144, 0.02343672700226307, 0.025144265964627266, 0.012804518453776836, 0.01200049463659525, 0.02091226540505886, 0.02500329725444317, 0.027692245319485664, 0.017305932939052582, 0.01285973284393549, 0.016066301614046097, 0.03278999775648117, 0.03829027712345123, 0.060804810374975204, 0.03674997761845589, 0.035247333347797394, 0.03857800364494324, 0.03904813900589943, 0.03664339706301689, 0.014530438929796219, 0.021632274612784386, 0.010491002351045609, 0.06733930855989456, 0.038672856986522675, 0.04122712463140488, 0.0, 0.0, 0.0], [0.13088132441043854, 0.023744333535432816, 0.020114338025450706, 0.00970239844173193, 0.0269522275775671, 0.013591105118393898, 0.009517530910670757, 0.013271717354655266, 0.02761789783835411, 0.011498373933136463, 0.008886140771210194, 0.016865797340869904, 0.0099719800055027, 0.03131860867142677, 0.014953812584280968, 0.015636609867215157, 0.018755855038762093, 0.00882246345281601, 0.024258317425847054, 0.018599875271320343, 0.06659714877605438, 0.023935332894325256, 0.03021501749753952, 0.03847971558570862, 0.06054788827896118, 0.038860984146595, 0.021039582788944244, 0.026919951662421227, 0.030786722898483276, 0.06339395046234131, 0.05302291363477707, 0.07499752193689346, 0.016242539510130882, 0.0, 0.0], [0.21679525077342987, 0.03523937985301018, 0.014480574056506157, 0.03231681510806084, 0.021502697840332985, 0.019766855984926224, 0.0077169653959572315, 0.03142578899860382, 0.011421251110732555, 0.039850786328315735, 0.0056975469924509525, 0.013826766982674599, 0.011217729188501835, 0.011028860695660114, 0.014342347159981728, 0.016691602766513824, 0.013800657354295254, 0.009054169058799744, 0.016551567241549492, 0.045164525508880615, 0.016743391752243042, 0.040494970977306366, 0.04600660502910614, 0.03918023034930229, 0.02077178843319416, 0.04241836816072464, 0.029444053769111633, 0.01654653251171112, 0.0433904193341732, 0.018028808757662773, 0.017493009567260742, 0.03195444494485855, 0.02317996881902218, 0.026455221697688103, 0.0], [0.12406575679779053, 0.05575520172715187, 0.025793109089136124, 0.007745691575109959, 0.019214730709791183, 0.011872395873069763, 0.009303725324571133, 0.015842612832784653, 0.01272842288017273, 0.012888254597783089, 0.013962876982986927, 0.016627255827188492, 0.01550709456205368, 0.013195217587053776, 0.017325090244412422, 0.021147985011339188, 0.017335504293441772, 0.015824289992451668, 0.02479437366127968, 0.011903028003871441, 0.03651026636362076, 0.02387475036084652, 0.04022137075662613, 0.06286035478115082, 0.10149352997541428, 0.053322598338127136, 0.021689631044864655, 0.018244290724396706, 0.008406994864344597, 0.02320230007171631, 0.049604177474975586, 0.020869329571723938, 0.016017969697713852, 0.01110194344073534, 0.049747951328754425]], [[1.0, 0.0, 0.0, 0.0, 0.0, 0.0, 0.0, 0.0, 0.0, 0.0, 0.0, 0.0, 0.0, 0.0, 0.0, 0.0, 0.0, 0.0, 0.0, 0.0, 0.0, 0.0, 0.0, 0.0, 0.0, 0.0, 0.0, 0.0, 0.0, 0.0, 0.0, 0.0, 0.0, 0.0, 0.0], [0.1077801063656807, 0.8922199010848999, 0.0, 0.0, 0.0, 0.0, 0.0, 0.0, 0.0, 0.0, 0.0, 0.0, 0.0, 0.0, 0.0, 0.0, 0.0, 0.0, 0.0, 0.0, 0.0, 0.0, 0.0, 0.0, 0.0, 0.0, 0.0, 0.0, 0.0, 0.0, 0.0, 0.0, 0.0, 0.0, 0.0], [0.01184743084013462, 0.5536141991615295, 0.43453842401504517, 0.0, 0.0, 0.0, 0.0, 0.0, 0.0, 0.0, 0.0, 0.0, 0.0, 0.0, 0.0, 0.0, 0.0, 0.0, 0.0, 0.0, 0.0, 0.0, 0.0, 0.0, 0.0, 0.0, 0.0, 0.0, 0.0, 0.0, 0.0, 0.0, 0.0, 0.0, 0.0], [0.06322263181209564, 0.021719148382544518, 0.0942729189991951, 0.8207852244377136, 0.0, 0.0, 0.0, 0.0, 0.0, 0.0, 0.0, 0.0, 0.0, 0.0, 0.0, 0.0, 0.0, 0.0, 0.0, 0.0, 0.0, 0.0, 0.0, 0.0, 0.0, 0.0, 0.0, 0.0, 0.0, 0.0, 0.0, 0.0, 0.0, 0.0, 0.0], [0.005095744971185923, 0.0005348753184080124, 0.0010105493711307645, 0.0046575660817325115, 0.9887012243270874, 0.0, 0.0, 0.0, 0.0, 0.0, 0.0, 0.0, 0.0, 0.0, 0.0, 0.0, 0.0, 0.0, 0.0, 0.0, 0.0, 0.0, 0.0, 0.0, 0.0, 0.0, 0.0, 0.0, 0.0, 0.0, 0.0, 0.0, 0.0, 0.0, 0.0], [0.005585955921560526, 0.0003024004108738154, 0.0007955087930895388, 0.0006780328112654388, 0.028760112822055817, 0.9638779759407043, 0.0, 0.0, 0.0, 0.0, 0.0, 0.0, 0.0, 0.0, 0.0, 0.0, 0.0, 0.0, 0.0, 0.0, 0.0, 0.0, 0.0, 0.0, 0.0, 0.0, 0.0, 0.0, 0.0, 0.0, 0.0, 0.0, 0.0, 0.0, 0.0], [0.0002665734791662544, 0.0001539620861876756, 4.34421599493362e-05, 0.00031633960315957665, 0.007582381833344698, 0.008635708130896091, 0.9830015897750854, 0.0, 0.0, 0.0, 0.0, 0.0, 0.0, 0.0, 0.0, 0.0, 0.0, 0.0, 0.0, 0.0, 0.0, 0.0, 0.0, 0.0, 0.0, 0.0, 0.0, 0.0, 0.0, 0.0, 0.0, 0.0, 0.0, 0.0, 0.0], [0.0006940615130588412, 4.833174170926213e-05, 4.511346196522936e-05, 2.3520820832345635e-05, 0.0022377651184797287, 0.001208051573485136, 0.00932135060429573, 0.9864218235015869, 0.0, 0.0, 0.0, 0.0, 0.0, 0.0, 0.0, 0.0, 0.0, 0.0, 0.0, 0.0, 0.0, 0.0, 0.0, 0.0, 0.0, 0.0, 0.0, 0.0, 0.0, 0.0, 0.0, 0.0, 0.0, 0.0, 0.0], [0.04771990701556206, 0.0063469125889241695, 0.005507620982825756, 0.01277671568095684, 0.012552585452795029, 0.012200531549751759, 0.0077605959959328175, 0.017114851623773575, 0.8780203461647034, 0.0, 0.0, 0.0, 0.0, 0.0, 0.0, 0.0, 0.0, 0.0, 0.0, 0.0, 0.0, 0.0, 0.0, 0.0, 0.0, 0.0, 0.0, 0.0, 0.0, 0.0, 0.0, 0.0, 0.0, 0.0, 0.0], [9.40378158702515e-05, 7.29912756014528e-07, 1.2948547691848944e-06, 1.0040562301583122e-06, 1.519241322966991e-05, 3.6095178074901924e-05, 3.151434430037625e-05, 0.0010808248771354556, 4.236837776261382e-05, 0.9986969828605652, 0.0, 0.0, 0.0, 0.0, 0.0, 0.0, 0.0, 0.0, 0.0, 0.0, 0.0, 0.0, 0.0, 0.0, 0.0, 0.0, 0.0, 0.0, 0.0, 0.0, 0.0, 0.0, 0.0, 0.0, 0.0], [0.0002984422317240387, 1.0225188816548325e-05, 2.0773863070644438e-05, 1.0716744327510241e-05, 7.453822763636708e-05, 0.00016580548253841698, 0.0013668601168319583, 0.0025834832340478897, 5.024061829317361e-05, 0.3243952989578247, 0.6710236072540283, 0.0, 0.0, 0.0, 0.0, 0.0, 0.0, 0.0, 0.0, 0.0, 0.0, 0.0, 0.0, 0.0, 0.0, 0.0, 0.0, 0.0, 0.0, 0.0, 0.0, 0.0, 0.0, 0.0, 0.0], [0.00923367589712143, 0.0007820429746061563, 0.0006810433696955442, 0.0018207866232842207, 0.00438338378444314, 0.01750912331044674, 0.003324248129501939, 0.017607424408197403, 0.08099661767482758, 0.10943027585744858, 0.014291892759501934, 0.7399395704269409, 0.0, 0.0, 0.0, 0.0, 0.0, 0.0, 0.0, 0.0, 0.0, 0.0, 0.0, 0.0, 0.0, 0.0, 0.0, 0.0, 0.0, 0.0, 0.0, 0.0, 0.0, 0.0, 0.0], [0.0002393030736129731, 3.3237947718589567e-06, 2.2832813556306064e-05, 1.024476659949869e-05, 1.0253623258904554e-05, 4.496405381360091e-05, 2.3576663807034492e-05, 6.216625479282811e-05, 0.00032929572626017034, 0.00874954555183649, 0.001878876704722643, 0.0014183479361236095, 0.9872072339057922, 0.0, 0.0, 0.0, 0.0, 0.0, 0.0, 0.0, 0.0, 0.0, 0.0, 0.0, 0.0, 0.0, 0.0, 0.0, 0.0, 0.0, 0.0, 0.0, 0.0, 0.0, 0.0], [0.01229533739387989, 0.0005298616015352309, 0.0003560508193913847, 0.0006006707553751767, 0.0005327530670911074, 0.000534971070010215, 0.00034733471693471074, 0.0008671165560372174, 0.034323085099458694, 0.013273628428578377, 0.00753119308501482, 0.0594179667532444, 0.09377507865428925, 0.775614857673645, 0.0, 0.0, 0.0, 0.0, 0.0, 0.0, 0.0, 0.0, 0.0, 0.0, 0.0, 0.0, 0.0, 0.0, 0.0, 0.0, 0.0, 0.0, 0.0, 0.0, 0.0], [7.850881229387596e-05, 1.1863348845508881e-05, 5.970536676613847e-06, 4.359465037850896e-06, 6.93304127707961e-06, 5.567320476984605e-05, 8.762012839724775e-06, 2.2130028810352087e-05, 0.0002223829651484266, 0.00028025032952427864, 0.0008127270266413689, 0.0015677291667088866, 0.00018956410349346697, 0.005879410542547703, 0.9908537864685059, 0.0, 0.0, 0.0, 0.0, 0.0, 0.0, 0.0, 0.0, 0.0, 0.0, 0.0, 0.0, 0.0, 0.0, 0.0, 0.0, 0.0, 0.0, 0.0, 0.0], [9.475018305238336e-05, 8.603468813817017e-06, 3.7448662624228746e-06, 1.4634224498877302e-07, 2.701746780076064e-06, 1.141736993304221e-05, 8.62084016262088e-06, 9.92812420008704e-05, 3.119514076388441e-06, 0.00022620831441599876, 0.0005323363584466279, 2.9804918085574172e-05, 0.0013675675727427006, 5.108002733322792e-05, 0.009570839814841747, 0.9879898428916931, 0.0, 0.0, 0.0, 0.0, 0.0, 0.0, 0.0, 0.0, 0.0, 0.0, 0.0, 0.0, 0.0, 0.0, 0.0, 0.0, 0.0, 0.0, 0.0], [0.003944708965718746, 0.00013029153342358768, 9.947711077984422e-05, 0.00019776367116719484, 0.0004265847092028707, 0.0014889852609485388, 0.00028346836916171014, 0.0015356714138761163, 0.004810093902051449, 0.005567715968936682, 0.0010473597794771194, 0.040826570242643356, 0.009189032949507236, 0.09278515726327896, 0.01585300825536251, 0.027940869331359863, 0.7938733696937561, 0.0, 0.0, 0.0, 0.0, 0.0, 0.0, 0.0, 0.0, 0.0, 0.0, 0.0, 0.0, 0.0, 0.0, 0.0, 0.0, 0.0, 0.0], [0.000217236447497271, 2.3531203623861074e-05, 7.806306712154765e-06, 4.732958132080967e-06, 1.5671192841182346e-06, 8.667426300235093e-06, 1.264625825569965e-05, 6.129281973699108e-05, 0.0001886943937279284, 0.0005901299300603569, 0.0004205670265946537, 0.00097465276485309, 0.00042177739669568837, 0.0040667117573320866, 0.0014422440435737371, 0.011960023082792759, 0.022401947528123856, 0.9571956396102905, 0.0, 0.0, 0.0, 0.0, 0.0, 0.0, 0.0, 0.0, 0.0, 0.0, 0.0, 0.0, 0.0, 0.0, 0.0, 0.0, 0.0], [0.0007360453018918633, 3.016829850821523e-06, 1.3554752058553277e-06, 1.4014691487318487e-06, 3.387712058611214e-05, 3.752295015146956e-05, 1.0748701242846437e-05, 0.00043027111678384244, 1.6196763681364246e-05, 0.0006748259766027331, 0.0005265927757136524, 0.0001240915444213897, 4.710721259471029e-05, 0.0002413816109765321, 0.0006886586197651923, 0.0003870207874570042, 0.002144157886505127, 0.0017651690868660808, 0.9921305775642395, 0.0, 0.0, 0.0, 0.0, 0.0, 0.0, 0.0, 0.0, 0.0, 0.0, 0.0, 0.0, 0.0, 0.0, 0.0, 0.0], [6.529802703880705e-06, 4.013182230977463e-09, 4.275882758975058e-09, 9.052371297002537e-09, 5.135171932124649e-07, 3.7317561236704933e-06, 1.4824270522240113e-07, 4.6551231207558885e-06, 1.663049964406582e-08, 3.029677600352443e-06, 3.191981159034185e-05, 1.401741371864773e-07, 4.954933956469176e-07, 2.3671073279274424e-07, 7.952925216159201e-07, 0.00018607258971314877, 2.4466733066219604e-06, 1.1982298929069657e-05, 0.0005082334391772747, 0.9992390871047974, 0.0, 0.0, 0.0, 0.0, 0.0, 0.0, 0.0, 0.0, 0.0, 0.0, 0.0, 0.0, 0.0, 0.0, 0.0], [0.00941789522767067, 0.00017362421203870326, 0.00019593235629145056, 0.00010542466770857573, 0.00012100111780455336, 0.0001375036226818338, 0.00020822332589887083, 0.0002620878804009408, 0.0009803816210478544, 0.00017425189435016364, 0.0013313930248841643, 0.0032773094717413187, 0.004840625915676355, 0.012378796935081482, 0.0018258995842188597, 0.024282049387693405, 0.05479969456791878, 0.07428493350744247, 0.07759270071983337, 0.10845336318016052, 0.6251569390296936, 0.0, 0.0, 0.0, 0.0, 0.0, 0.0, 0.0, 0.0, 0.0, 0.0, 0.0, 0.0, 0.0, 0.0], [0.00017886294517666101, 2.97178257824271e-06, 1.2879254427389242e-06, 1.6619693496977561e-06, 3.1533948003925616e-06, 7.608538908243645e-06, 4.48056283630649e-07, 4.628855549526634e-06, 4.462076049094321e-06, 4.640815859602299e-06, 4.678124696511077e-06, 2.225517346232664e-05, 0.0006885037291795015, 5.880856406292878e-05, 5.5112923291744664e-05, 0.0013147675199434161, 0.0004210414772387594, 0.0005279300967231393, 0.00030591568793170154, 0.0011363020166754723, 0.004935144446790218, 0.9903199076652527, 0.0, 0.0, 0.0, 0.0, 0.0, 0.0, 0.0, 0.0, 0.0, 0.0, 0.0, 0.0, 0.0], [0.0009000818245112896, 3.4609056456247345e-05, 6.00008161200094e-06, 1.3317902585185948e-06, 8.382407031604089e-06, 7.950181498017628e-06, 8.352956228918629e-07, 5.017450348532293e-06, 1.108554261008976e-05, 1.5506169802392833e-05, 2.244969073217362e-05, 3.2394586014561355e-05, 7.153382466640323e-05, 0.0001110611847252585, 6.552057584485738e-06, 3.557855961844325e-05, 0.00046084189671091735, 0.0006021015578880906, 0.00773558858782053, 0.0047313859686255455, 0.012920125387609005, 0.016999121755361557, 0.9552805423736572, 0.0, 0.0, 0.0, 0.0, 0.0, 0.0, 0.0, 0.0, 0.0, 0.0, 0.0, 0.0], [8.094528311630711e-05, 5.4195348639041185e-05, 2.1191066480241716e-05, 8.660325079290487e-07, 5.2414015954127535e-06, 2.811407057379256e-06, 9.647682190916385e-07, 4.259624347469071e-06, 6.819966074544936e-06, 2.637013039930025e-06, 1.038735263136914e-05, 3.11777948809322e-05, 2.574704740254674e-05, 8.829358557704836e-05, 0.0001053006635629572, 0.0003744474961422384, 0.0005833793547935784, 0.0009019345161505044, 0.00043120188638567924, 0.004991126712411642, 0.003515928518027067, 0.01512748934328556, 0.0183850284665823, 0.9552487730979919, 0.0, 0.0, 0.0, 0.0, 0.0, 0.0, 0.0, 0.0, 0.0, 0.0, 0.0], [0.00019926753884647042, 5.897880441807501e-07, 4.093079439826397e-07, 5.283635005071119e-07, 4.043735088998801e-07, 6.811440016463166e-07, 2.501955975731107e-07, 3.1909843301036744e-07, 5.018000592826866e-06, 3.059930349991191e-06, 4.7768617150723e-06, 8.106241693894845e-06, 1.7871010641101748e-05, 5.904932550038211e-05, 7.019503755145706e-06, 5.101941860630177e-05, 0.0001541965757496655, 0.0001555776543682441, 0.00046309534809552133, 0.00018736706988420337, 0.0029354484286159277, 0.006998688913881779, 0.004895057994872332, 0.010302471928298473, 0.9735496640205383, 0.0, 0.0, 0.0, 0.0, 0.0, 0.0, 0.0, 0.0, 0.0, 0.0], [4.041891952510923e-05, 7.668172763430903e-09, 6.183981327012589e-08, 4.109946871722059e-08, 3.1613390660822915e-07, 1.0004030315258206e-07, 6.658504503320728e-08, 4.780262656822742e-07, 4.035153366999111e-08, 6.753229627065593e-06, 8.574250642823245e-08, 1.0514231973957067e-07, 3.2702735097700497e-06, 4.896545533483732e-07, 1.2450341273506638e-06, 9.069827683561016e-06, 2.0693112219305476e-06, 8.541710485587828e-06, 4.513621024671011e-05, 8.528171747457236e-05, 8.476262155454606e-05, 0.0010267909383401275, 0.001334777451120317, 0.000296006997814402, 0.005626782309263945, 0.9914274215698242, 0.0, 0.0, 0.0, 0.0, 0.0, 0.0, 0.0, 0.0, 0.0], [0.0003747466835193336, 1.2430140827746072e-07, 2.5229209654753504e-07, 3.0524432759193587e-07, 4.772525244334247e-06, 6.075460419197043e-07, 8.501729666932079e-07, 1.1030846508219838e-05, 8.098998449668215e-08, 9.651313348513213e-07, 7.193358442236786e-07, 3.2339383437829383e-07, 1.7605461835046299e-06, 4.4468220039561857e-07, 3.298762862868898e-07, 2.4300346922245808e-05, 3.6642684335674858e-06, 3.0616486128565157e-06, 2.627130743348971e-05, 0.00034267170121893287, 2.078816032735631e-05, 0.00013409749954007566, 0.000304724439047277, 9.803617285797372e-05, 0.0004919684724882245, 0.004237071610987186, 0.9939160943031311, 0.0, 0.0, 0.0, 0.0, 0.0, 0.0, 0.0, 0.0], [0.00023197632981464267, 7.363630061263393e-07, 1.0658050086931325e-06, 4.7498031108261785e-07, 2.187789050367428e-06, 2.0741697426274186e-06, 1.3842094404026284e-07, 2.51064807343937e-06, 1.9716030408289953e-07, 6.67200083626085e-06, 8.991812592284987e-07, 6.362197382259183e-07, 6.544802886310208e-07, 7.71796749177156e-07, 4.801889303962525e-07, 1.112231893785065e-05, 5.561920261243358e-06, 3.862761786876945e-06, 6.753717025276273e-05, 0.0002897954545915127, 4.3724994611693546e-05, 0.00015209012781269848, 0.0009337736410088837, 0.0001815938885556534, 8.42330337036401e-05, 0.009933865629136562, 0.008723154664039612, 0.979318380355835, 0.0, 0.0, 0.0, 0.0, 0.0, 0.0, 0.0], [0.00015704930410720408, 3.123189458165143e-07, 2.9319340910660685e-07, 3.137157023047621e-07, 2.196096374973422e-06, 1.4164426147544873e-06, 1.1236390946578467e-06, 1.3091786286167917e-06, 5.921515011664269e-08, 7.97808183961024e-07, 2.8036797630193178e-06, 1.9766942216392636e-07, 3.994022108599893e-07, 2.3049015851484e-07, 2.264250724692829e-06, 1.6729492926970124e-05, 1.6667632962708012e-06, 2.872546701837564e-06, 2.4946943085524254e-05, 0.00025532784638926387, 4.849699962505838e-06, 4.708065534941852e-05, 5.325670281308703e-05, 4.240341513650492e-05, 0.00020874878100585192, 0.0020438116043806076, 0.08346717059612274, 0.003673004684969783, 0.9099873304367065, 0.0, 0.0, 0.0, 0.0, 0.0, 0.0], [0.0010030765552073717, 7.60591501602903e-06, 5.4789093155704904e-06, 4.704082584794378e-06, 1.081826439985889e-06, 7.246849236253183e-07, 6.057210271137592e-07, 1.5847847407712834e-06, 3.183100852766074e-05, 1.844486860136385e-06, 1.3723778238272644e-06, 6.841019512648927e-06, 4.9961076911131386e-06, 0.00014220463344827294, 2.1025923615525244e-06, 2.0461138774408028e-05, 6.875464896438643e-05, 8.339442138094455e-05, 7.060819916659966e-05, 0.00022270050249062479, 0.0013453519204631448, 0.0011953136418014765, 0.0007637697272002697, 0.003412766382098198, 0.009595134295523167, 0.008245964534580708, 0.004028411116451025, 0.015673451125621796, 0.03710905462503433, 0.916948676109314, 0.0, 0.0, 0.0, 0.0, 0.0], [0.00014598063717130572, 1.3442448221212544e-07, 3.0679643714393023e-07, 1.2700814977506525e-07, 9.539689216353509e-08, 4.421373134277928e-08, 7.2709593901265634e-09, 2.1630626179103274e-07, 1.7861790979623038e-07, 1.1440969416298685e-07, 4.546686227513419e-08, 1.140669425581109e-07, 1.7846296884727053e-07, 8.568714520151843e-07, 1.0497480928961522e-07, 1.2474922641558805e-06, 1.168266066997603e-06, 6.485002472800261e-07, 9.923046491167042e-06, 2.663560189830605e-05, 2.1481013391166925e-05, 7.19235249562189e-05, 0.00015873301890678704, 0.00014563217700924724, 0.002426166320219636, 0.0015144931385293603, 0.0007063172524794936, 0.0022442839108407497, 0.004566811490803957, 0.00983233842998743, 0.9781237244606018, 0.0, 0.0, 0.0, 0.0], [1.0698774531192612e-05, 5.1284295921050216e-08, 7.382487865470466e-08, 9.797515332365947e-08, 4.944874376633379e-07, 6.269730761232495e-07, 2.625739625727874e-07, 7.361927032434323e-07, 2.510116701159859e-07, 2.176487896576873e-06, 5.36374670900841e-07, 8.606915571363061e-07, 2.151581099951727e-07, 1.0358829740653164e-06, 2.489502151092893e-07, 1.3481044334184844e-05, 8.521091331203934e-06, 5.148516720510088e-06, 4.645082753995666e-06, 1.683262780716177e-05, 5.864661943633109e-05, 3.652455779956654e-05, 0.0001648574398132041, 1.1944978723477107e-05, 0.0005173994577489793, 0.0024279076606035233, 0.0003477357386145741, 0.0015964085469022393, 0.009022930637001991, 0.013163730502128601, 0.06333823502063751, 0.9092468023300171, 0.0, 0.0, 0.0], [0.0012287312420085073, 8.407650966546498e-06, 8.363969755009748e-06, 8.199035619327333e-06, 3.972179001721088e-06, 3.987268883065553e-06, 1.5942543996061431e-06, 4.764996447192971e-06, 4.461924163479125e-06, 8.699217687535565e-06, 3.482301281110267e-06, 4.0872232602851e-06, 4.3831901166413445e-06, 1.2878711459052283e-05, 2.764997361737187e-06, 1.1550822819117457e-05, 2.850843702617567e-05, 1.972621066670399e-05, 8.007972064660862e-05, 0.00016381598834414035, 0.00027661025524139404, 0.00048299733316525817, 0.0005903015844523907, 0.0011750622652471066, 0.0034667097497731447, 0.005802726838737726, 0.011907552368938923, 0.016952967271208763, 0.02846650406718254, 0.06137573719024658, 0.11517594009637833, 0.2017773985862732, 0.5509371161460876, 0.0, 0.0], [3.782525527640246e-05, 6.459638512978927e-08, 1.927358184161676e-08, 7.975797444714772e-08, 6.700323638142436e-07, 1.2464336407447263e-07, 3.072165100093116e-08, 3.3671460641926387e-07, 9.953986790378622e-08, 4.5415069394039165e-07, 3.406016446660942e-08, 1.7256121509490185e-07, 3.3590188763810147e-07, 3.2563309559918707e-07, 1.1636584140717332e-08, 3.2042096336226678e-06, 1.2533502058431623e-06, 1.7663021480984753e-06, 1.112595055019483e-05, 2.0410294382600114e-05, 8.103424079308752e-06, 1.2881071597803384e-05, 0.00014193178503774107, 1.1411083505663555e-05, 0.00010671326890587807, 0.00010951125295832753, 0.0017927108565345407, 0.0015404927544295788, 0.0012465205509215593, 0.001597587252035737, 0.0008927034214138985, 0.009557007811963558, 0.009279928170144558, 0.9736242294311523, 0.0], [0.0003539699537213892, 2.644042524480028e-06, 1.7576171558175702e-06, 1.234809019479144e-06, 5.949707883701194e-06, 1.3091906794215902e-06, 3.362109453064477e-07, 2.485052732481563e-07, 6.705465693812585e-07, 6.69953053034078e-08, 6.061922590561153e-07, 4.619062110577943e-07, 2.3573272756038932e-06, 1.4622190747104469e-06, 2.976369444240845e-07, 1.6005805036911624e-06, 2.4609062165836804e-06, 1.9317240003147162e-06, 3.2001538784243166e-05, 2.4652015781612135e-05, 3.4296444937353954e-05, 0.0001655087253311649, 7.883973739808425e-05, 0.00018387149611953646, 0.001165153575129807, 0.00012255363981239498, 0.001172520569525659, 0.0004984789993613958, 0.0035014848690479994, 0.0034007488284260035, 0.011839520186185837, 0.005179090425372124, 0.016713878139853477, 0.029127709567546844, 0.9263803958892822]], [[1.0, 0.0, 0.0, 0.0, 0.0, 0.0, 0.0, 0.0, 0.0, 0.0, 0.0, 0.0, 0.0, 0.0, 0.0, 0.0, 0.0, 0.0, 0.0, 0.0, 0.0, 0.0, 0.0, 0.0, 0.0, 0.0, 0.0, 0.0, 0.0, 0.0, 0.0, 0.0, 0.0, 0.0, 0.0], [0.9238101243972778, 0.07618988305330276, 0.0, 0.0, 0.0, 0.0, 0.0, 0.0, 0.0, 0.0, 0.0, 0.0, 0.0, 0.0, 0.0, 0.0, 0.0, 0.0, 0.0, 0.0, 0.0, 0.0, 0.0, 0.0, 0.0, 0.0, 0.0, 0.0, 0.0, 0.0, 0.0, 0.0, 0.0, 0.0, 0.0], [0.3758924603462219, 0.10050594061613083, 0.5236015915870667, 0.0, 0.0, 0.0, 0.0, 0.0, 0.0, 0.0, 0.0, 0.0, 0.0, 0.0, 0.0, 0.0, 0.0, 0.0, 0.0, 0.0, 0.0, 0.0, 0.0, 0.0, 0.0, 0.0, 0.0, 0.0, 0.0, 0.0, 0.0, 0.0, 0.0, 0.0, 0.0], [0.41213729977607727, 0.08231580257415771, 0.1808476746082306, 0.32469919323921204, 0.0, 0.0, 0.0, 0.0, 0.0, 0.0, 0.0, 0.0, 0.0, 0.0, 0.0, 0.0, 0.0, 0.0, 0.0, 0.0, 0.0, 0.0, 0.0, 0.0, 0.0, 0.0, 0.0, 0.0, 0.0, 0.0, 0.0, 0.0, 0.0, 0.0, 0.0], [0.1405227929353714, 0.0058123162016272545, 0.02827640250325203, 0.057330381125211716, 0.768058180809021, 0.0, 0.0, 0.0, 0.0, 0.0, 0.0, 0.0, 0.0, 0.0, 0.0, 0.0, 0.0, 0.0, 0.0, 0.0, 0.0, 0.0, 0.0, 0.0, 0.0, 0.0, 0.0, 0.0, 0.0, 0.0, 0.0, 0.0, 0.0, 0.0, 0.0], [0.019230686128139496, 0.0014746810775250196, 0.001681079505942762, 0.004905834794044495, 0.02590656280517578, 0.9468011260032654, 0.0, 0.0, 0.0, 0.0, 0.0, 0.0, 0.0, 0.0, 0.0, 0.0, 0.0, 0.0, 0.0, 0.0, 0.0, 0.0, 0.0, 0.0, 0.0, 0.0, 0.0, 0.0, 0.0, 0.0, 0.0, 0.0, 0.0, 0.0, 0.0], [0.006040878128260374, 0.0046582273207604885, 0.012865055352449417, 0.008953898213803768, 0.07021685689687729, 0.12025348842144012, 0.7770116925239563, 0.0, 0.0, 0.0, 0.0, 0.0, 0.0, 0.0, 0.0, 0.0, 0.0, 0.0, 0.0, 0.0, 0.0, 0.0, 0.0, 0.0, 0.0, 0.0, 0.0, 0.0, 0.0, 0.0, 0.0, 0.0, 0.0, 0.0, 0.0], [0.01624826341867447, 0.0039293840527534485, 0.01283666118979454, 0.005099630914628506, 0.01735418662428856, 0.01559933740645647, 0.1360277384519577, 0.7929047346115112, 0.0, 0.0, 0.0, 0.0, 0.0, 0.0, 0.0, 0.0, 0.0, 0.0, 0.0, 0.0, 0.0, 0.0, 0.0, 0.0, 0.0, 0.0, 0.0, 0.0, 0.0, 0.0, 0.0, 0.0, 0.0, 0.0, 0.0], [0.13423283398151398, 0.07014793902635574, 0.03862921893596649, 0.03592688962817192, 0.05720482021570206, 0.06419361382722855, 0.03908976912498474, 0.21457350254058838, 0.34600138664245605, 0.0, 0.0, 0.0, 0.0, 0.0, 0.0, 0.0, 0.0, 0.0, 0.0, 0.0, 0.0, 0.0, 0.0, 0.0, 0.0, 0.0, 0.0, 0.0, 0.0, 0.0, 0.0, 0.0, 0.0, 0.0, 0.0], [0.003595880465582013, 0.00038495013723149896, 0.0004921666695736349, 0.0008088786853477359, 0.002590097952634096, 0.002407651860266924, 0.0001713183446554467, 0.011153006926178932, 0.0021147800143808126, 0.9762812852859497, 0.0, 0.0, 0.0, 0.0, 0.0, 0.0, 0.0, 0.0, 0.0, 0.0, 0.0, 0.0, 0.0, 0.0, 0.0, 0.0, 0.0, 0.0, 0.0, 0.0, 0.0, 0.0, 0.0, 0.0, 0.0], [0.00022834523406345397, 4.6662524255225435e-05, 8.206470374716446e-05, 7.730667130090296e-05, 0.00012034244718961418, 0.004319252911955118, 0.003844223218038678, 0.001196500612422824, 0.00016446948575321585, 0.8530564308166504, 0.13686434924602509, 0.0, 0.0, 0.0, 0.0, 0.0, 0.0, 0.0, 0.0, 0.0, 0.0, 0.0, 0.0, 0.0, 0.0, 0.0, 0.0, 0.0, 0.0, 0.0, 0.0, 0.0, 0.0, 0.0, 0.0], [0.06578908115625381, 0.01929076574742794, 0.020492710173130035, 0.021956786513328552, 0.026686685159802437, 0.08618339151144028, 0.031040914356708527, 0.16103026270866394, 0.030162539333105087, 0.2132367640733719, 0.07554478198289871, 0.24858534336090088, 0.0, 0.0, 0.0, 0.0, 0.0, 0.0, 0.0, 0.0, 0.0, 0.0, 0.0, 0.0, 0.0, 0.0, 0.0, 0.0, 0.0, 0.0, 0.0, 0.0, 0.0, 0.0, 0.0], [0.009123364463448524, 0.003399315755814314, 0.016818268224596977, 0.004648813512176275, 0.014602278359234333, 0.05833256617188454, 0.07909012585878372, 0.0176636204123497, 0.016087276861071587, 0.1505357027053833, 0.3343389332294464, 0.054388973861932755, 0.24097071588039398, 0.0, 0.0, 0.0, 0.0, 0.0, 0.0, 0.0, 0.0, 0.0, 0.0, 0.0, 0.0, 0.0, 0.0, 0.0, 0.0, 0.0, 0.0, 0.0, 0.0, 0.0, 0.0], [0.04253434017300606, 0.01655057817697525, 0.007813408970832825, 0.006833461578935385, 0.009650958701968193, 0.00917330663651228, 0.005910308100283146, 0.03009309247136116, 0.05324171110987663, 0.03575889766216278, 0.11968681961297989, 0.07133744657039642, 0.2969222068786621, 0.2944933772087097, 0.0, 0.0, 0.0, 0.0, 0.0, 0.0, 0.0, 0.0, 0.0, 0.0, 0.0, 0.0, 0.0, 0.0, 0.0, 0.0, 0.0, 0.0, 0.0, 0.0, 0.0], [0.010158015415072441, 0.004377412144094706, 0.0065031819976866245, 0.003546681022271514, 0.006157048046588898, 0.0051498133689165115, 0.0041582416743040085, 0.014994010329246521, 0.017724106088280678, 0.008609633892774582, 0.013557260856032372, 0.027689794078469276, 0.027776112779974937, 0.08518608659505844, 0.7644126415252686, 0.0, 0.0, 0.0, 0.0, 0.0, 0.0, 0.0, 0.0, 0.0, 0.0, 0.0, 0.0, 0.0, 0.0, 0.0, 0.0, 0.0, 0.0, 0.0, 0.0], [0.0005760943167842925, 3.758491584449075e-05, 3.100582762272097e-05, 2.8090938940295018e-05, 0.00011757250467780977, 0.0010626517469063401, 0.0008489806205034256, 0.00236443430185318, 0.00031711836345493793, 0.000504071416798979, 0.0005438973312266171, 0.000996467424556613, 0.004787208046764135, 0.0016582167008891702, 0.02118115872144699, 0.964945375919342, 0.0, 0.0, 0.0, 0.0, 0.0, 0.0, 0.0, 0.0, 0.0, 0.0, 0.0, 0.0, 0.0, 0.0, 0.0, 0.0, 0.0, 0.0, 0.0], [0.05710108205676079, 0.01298272144049406, 0.01246335357427597, 0.012371201999485493, 0.013064746744930744, 0.03530251234769821, 0.013208805583417416, 0.06362836807966232, 0.010588893666863441, 0.061131980270147324, 0.027357181534171104, 0.08200792968273163, 0.039974603801965714, 0.04302835837006569, 0.06893424689769745, 0.0673389583826065, 0.3795151710510254, 0.0, 0.0, 0.0, 0.0, 0.0, 0.0, 0.0, 0.0, 0.0, 0.0, 0.0, 0.0, 0.0, 0.0, 0.0, 0.0, 0.0, 0.0], [0.05038188397884369, 0.010253243148326874, 0.00901739951223135, 0.007853329181671143, 0.008382107131183147, 0.016030553728342056, 0.00757975596934557, 0.016568154096603394, 0.00955806951969862, 0.020098436623811722, 0.02802768535912037, 0.031728412955999374, 0.021793972700834274, 0.039423298090696335, 0.11988721042871475, 0.04783089458942413, 0.14773687720298767, 0.4078487455844879, 0.0, 0.0, 0.0, 0.0, 0.0, 0.0, 0.0, 0.0, 0.0, 0.0, 0.0, 0.0, 0.0, 0.0, 0.0, 0.0, 0.0], [0.009583805687725544, 0.0005122207221575081, 0.0006106940563768148, 0.0009717896464280784, 0.0022611061576753855, 0.004041271284222603, 0.0003397607943043113, 0.0023014855105429888, 0.0014669836964458227, 0.004360882565379143, 0.010039575397968292, 0.003883794415742159, 0.0019065389642491937, 0.004968372173607349, 0.003599882125854492, 0.0027956583071500063, 0.01562882587313652, 0.014497033320367336, 0.916230320930481, 0.0, 0.0, 0.0, 0.0, 0.0, 0.0, 0.0, 0.0, 0.0, 0.0, 0.0, 0.0, 0.0, 0.0, 0.0, 0.0], [0.03377579152584076, 0.0008472931804135442, 0.0009361571865156293, 0.0006967569352127612, 0.00460014259442687, 0.0032576010562479496, 0.0004218367685098201, 0.007556708063930273, 0.0010570590384304523, 0.003643788630142808, 0.00017823856614995748, 0.0020456223282963037, 0.0014812102308496833, 0.002918048994615674, 0.0056848181411623955, 0.06616657972335815, 0.00682071503251791, 0.005966112483292818, 0.022306198254227638, 0.8296393752098083, 0.0, 0.0, 0.0, 0.0, 0.0, 0.0, 0.0, 0.0, 0.0, 0.0, 0.0, 0.0, 0.0, 0.0, 0.0], [0.014338111504912376, 0.004506281577050686, 0.0022934828884899616, 0.004502632189542055, 0.006348527502268553, 0.006440699566155672, 0.0030759212095290422, 0.003429380478337407, 0.008825041353702545, 0.013563876040279865, 0.008806235156953335, 0.015333065763115883, 0.01093036774545908, 0.03256243094801903, 0.041650138795375824, 0.029358427971601486, 0.06823208183050156, 0.10101231187582016, 0.1282440423965454, 0.08141807466745377, 0.41512882709503174, 0.0, 0.0, 0.0, 0.0, 0.0, 0.0, 0.0, 0.0, 0.0, 0.0, 0.0, 0.0, 0.0, 0.0], [0.012516950257122517, 0.003707385854795575, 0.0011323619401082397, 0.002044017193838954, 0.0021038008853793144, 0.0007217564270831645, 0.000358771561877802, 0.001065458171069622, 0.003341871313750744, 0.0035347756929695606, 0.0018008316401392221, 0.005131388548761606, 0.0059568509459495544, 0.011681470088660717, 0.02335316129028797, 0.024626389145851135, 0.023082606494426727, 0.024053948000073433, 0.04505404084920883, 0.04447479918599129, 0.09848443418741226, 0.6617729663848877, 0.0, 0.0, 0.0, 0.0, 0.0, 0.0, 0.0, 0.0, 0.0, 0.0, 0.0, 0.0, 0.0], [0.02337806671857834, 0.002970092697069049, 0.0022721642162650824, 0.003121251007542014, 0.01044877152889967, 0.0027957106940448284, 0.0009500712039880455, 0.006640288047492504, 0.0025093008298426867, 0.006215896923094988, 0.0018756621284410357, 0.004366474226117134, 0.005894928704947233, 0.007904239930212498, 0.011842513456940651, 0.011780310422182083, 0.016934016719460487, 0.015606733039021492, 0.036991920322179794, 0.056762684136629105, 0.03885181248188019, 0.3010690212249756, 0.4288181662559509, 0.0, 0.0, 0.0, 0.0, 0.0, 0.0, 0.0, 0.0, 0.0, 0.0, 0.0, 0.0], [0.04225083813071251, 0.009647669270634651, 0.013069662265479565, 0.0034939253237098455, 0.008718245662748814, 0.0008717639720998704, 0.0021130710374563932, 0.002520154695957899, 0.002825927222147584, 0.0030562570318579674, 0.005475990939885378, 0.004467590246349573, 0.005966207478195429, 0.008145664818584919, 0.027670912444591522, 0.013382632285356522, 0.01818913035094738, 0.0327802449464798, 0.028848374262452126, 0.05995950847864151, 0.09605942666530609, 0.20931924879550934, 0.10138265788555145, 0.2997848391532898, 0.0, 0.0, 0.0, 0.0, 0.0, 0.0, 0.0, 0.0, 0.0, 0.0, 0.0], [0.025818021968007088, 0.0012453028466552496, 0.0012367712333798409, 0.0031558217015117407, 0.002605455694720149, 0.0011178317945450544, 0.0002305325906490907, 0.001061455113813281, 0.001255299779586494, 0.0014470170717686415, 0.0006083034677430987, 0.0021444344893097878, 0.0017222750466316938, 0.0030636771116405725, 0.0021307130809873343, 0.0017395158065482974, 0.007489563897252083, 0.004201176110655069, 0.016367286443710327, 0.017187532037496567, 0.016647029668092728, 0.06787319481372833, 0.07546127587556839, 0.04369648918509483, 0.7004939913749695, 0.0, 0.0, 0.0, 0.0, 0.0, 0.0, 0.0, 0.0, 0.0, 0.0], [0.007508307695388794, 0.00012913922546431422, 0.00022904043726157397, 0.00030994019471108913, 0.0015875742537900805, 0.00015740803792141378, 0.0003654665488284081, 0.0002631953975651413, 0.00024618758470751345, 0.004963845480233431, 0.00084932881873101, 0.00020542491984087974, 0.003599659539759159, 0.0006757512455806136, 0.0006743195117451251, 0.0028660341631621122, 0.0007401989423669875, 0.001241066143848002, 0.0034339362755417824, 0.003348803846165538, 0.005896295420825481, 0.015315234661102295, 0.01358442846685648, 0.0038060720544308424, 0.10587513446807861, 0.8221281170845032, 0.0, 0.0, 0.0, 0.0, 0.0, 0.0, 0.0, 0.0, 0.0], [0.015146843157708645, 0.00028372748056426644, 0.0004323893808759749, 0.0012392145581543446, 0.0026600731071084738, 0.0003459543804638088, 0.000295427133096382, 0.0018772091716527939, 0.00023691265960223973, 0.00013219252286944538, 0.00033548110513947904, 0.00022997907944954932, 0.00027149065863341093, 0.000420953962020576, 0.0008192590321414173, 0.0003039469593204558, 0.0006469368236139417, 0.0003804271691478789, 0.0023925972636789083, 0.0029768033418804407, 0.0025756140239536762, 0.00594180915504694, 0.005901214201003313, 0.005208786576986313, 0.025423740968108177, 0.023241285234689713, 0.900279700756073, 0.0, 0.0, 0.0, 0.0, 0.0, 0.0, 0.0, 0.0], [0.020882174372673035, 0.0006866249605081975, 0.0014190301299095154, 0.0016247221501544118, 0.005466726142913103, 0.0019930722191929817, 0.0003444562607910484, 0.0014866304118186235, 0.00038602773565799, 0.0002986799809150398, 0.00037154846359044313, 0.0005332499276846647, 0.0002567081246525049, 0.0006083351909182966, 0.00037862517638131976, 0.0013748231576755643, 0.0013781337765976787, 0.000923665938898921, 0.023375000804662704, 0.03773234039545059, 0.004063981119543314, 0.021846618503332138, 0.018512383103370667, 0.005047199781984091, 0.01844027265906334, 0.06399489939212799, 0.33002805709838867, 0.4365459680557251, 0.0, 0.0, 0.0, 0.0, 0.0, 0.0, 0.0], [0.00272978818975389, 0.00011315729352645576, 0.0002574323443695903, 0.0003065294004045427, 0.0008012373000383377, 0.0008870935998857021, 0.00010111568553838879, 0.002048570429906249, 0.00014291208935901523, 0.00019898037135135382, 0.0004309819487389177, 7.4357507401146e-05, 0.00011077820090577006, 0.0002229757228633389, 0.0001040011047734879, 0.0007566187414340675, 0.00018428827752359211, 0.0003102095506619662, 0.0010590297169983387, 0.005394389852881432, 0.001371139194816351, 0.0017238218570128083, 0.0034383481834083796, 0.0007791533716954291, 0.0027107938658446074, 0.01124661136418581, 0.2618618607521057, 0.04286465793848038, 0.6577691435813904, 0.0, 0.0, 0.0, 0.0, 0.0, 0.0], [0.007169214077293873, 0.0026512276381254196, 0.00244502373971045, 0.0030232490971684456, 0.0026861887890845537, 0.0007135470514185727, 0.0005127678741700947, 0.0003864858881570399, 0.0009532016119919717, 0.0004407836531754583, 0.0008591750520281494, 0.0012491049710661173, 0.0009424774907529354, 0.0016617259243503213, 0.00044353128760121763, 0.0014648402575403452, 0.0035774626303464174, 0.0037673418410122395, 0.012122930027544498, 0.006853906903415918, 0.005249567795544863, 0.01970423199236393, 0.02666923962533474, 0.04096020758152008, 0.2385396510362625, 0.05725710839033127, 0.040405385196208954, 0.10933990031480789, 0.077363021671772, 0.3305874764919281, 0.0, 0.0, 0.0, 0.0, 0.0], [0.011626659892499447, 0.001965817529708147, 0.000917952274903655, 0.001819743076339364, 0.0020789778791368008, 0.00029357135645113885, 0.00010028546239482239, 0.0005799980135634542, 0.0004854121943935752, 9.76482915575616e-05, 0.00015712760796304792, 0.0004106425039935857, 0.0004877774917986244, 0.0007517863996326923, 0.0007532844902016222, 0.0012242123484611511, 0.0010826843790709972, 0.0014821900986135006, 0.002774250227957964, 0.0036103350576013327, 0.002137242117896676, 0.009361447766423225, 0.014277669601142406, 0.011846720241010189, 0.04729336127638817, 0.0450628325343132, 0.041560713201761246, 0.042807914316654205, 0.07079776376485825, 0.1008482575416565, 0.581305742263794, 0.0, 0.0, 0.0, 0.0], [0.0038734320551156998, 0.00025570965954102576, 0.0006259246729314327, 0.0005843954859301448, 0.0012326468713581562, 0.0003945602511521429, 0.0003326677542645484, 0.00015581924526486546, 0.0001647272438276559, 0.0007726290496066213, 0.00038669785135425627, 0.0002782443189062178, 0.0001523970568086952, 0.000251985591603443, 6.45292893750593e-05, 0.00017264131747651845, 0.0007133574690669775, 0.0005384791875258088, 0.0075395600870251656, 0.0067232465371489525, 0.0013963916571810842, 0.003110353136435151, 0.005501283798366785, 0.002413585316389799, 0.038960542529821396, 0.023422328755259514, 0.009641133248806, 0.025750894099473953, 0.1270247846841812, 0.04005928337574005, 0.514208972454071, 0.18329676985740662, 0.0, 0.0, 0.0], [0.015151125378906727, 0.001376068452373147, 0.0015560508472844958, 0.0021717094350606203, 0.0025110093411058187, 0.00178549496922642, 0.0004700867284554988, 0.0006788125610910356, 0.0003899074508808553, 0.0009900364093482494, 0.00038026587571948767, 0.00041824980871751904, 0.00044352939585223794, 0.0005140131688676775, 0.00016592239262536168, 0.0006932563846930861, 0.0009629506384953856, 0.0007656948873773217, 0.004365222062915564, 0.006436272989958525, 0.001868826919235289, 0.008356149308383465, 0.0063847568817436695, 0.005890706554055214, 0.031187018379569054, 0.041009463369846344, 0.028566081076860428, 0.041577283293008804, 0.040764566510915756, 0.06712846457958221, 0.30426740646362305, 0.21618817746639252, 0.1645854413509369, 0.0, 0.0], [0.017354117706418037, 0.0005264725768938661, 0.0006208932027220726, 0.0016926322132349014, 0.0062972623854875565, 0.0010202121920883656, 7.362555334111676e-05, 0.000676227908115834, 0.00044483147212304175, 7.778879080433398e-05, 4.9738027882995084e-05, 0.0003035978879779577, 0.0001734179531922564, 0.000516243395395577, 0.0002735278685577214, 0.0007444006041623652, 0.0006022217567078769, 0.0004544501716736704, 0.0026653388049453497, 0.0026638773269951344, 0.002551593817770481, 0.007818796671926975, 0.009490981698036194, 0.0009830400813370943, 0.007624233141541481, 0.011552365496754646, 0.09579719603061676, 0.08069905638694763, 0.09889819473028183, 0.03799610957503319, 0.05835620313882828, 0.11718901991844177, 0.11656811833381653, 0.31724420189857483, 0.0], [0.010796334594488144, 0.0030184616334736347, 0.0017010800074785948, 0.0027613991405814886, 0.005546447820961475, 0.0005509481416083872, 0.00022208354494068772, 0.00023305873037315905, 0.0008555080858059227, 8.429396984865889e-05, 0.0001349102967651561, 0.00040303400601260364, 0.0002156855771318078, 0.0009122330229729414, 0.0007261998252943158, 0.0003818845725618303, 0.0007406803779304028, 0.0007301232544705272, 0.0007852279231883585, 0.001347338198684156, 0.0043137818574905396, 0.007729174103587866, 0.005422808229923248, 0.006747079081833363, 0.013981974683701992, 0.00463099405169487, 0.019391819834709167, 0.028133701533079147, 0.016861919313669205, 0.07724325358867645, 0.05435159429907799, 0.13139019906520844, 0.150140643119812, 0.08434388041496277, 0.36317023634910583]], [[1.0, 0.0, 0.0, 0.0, 0.0, 0.0, 0.0, 0.0, 0.0, 0.0, 0.0, 0.0, 0.0, 0.0, 0.0, 0.0, 0.0, 0.0, 0.0, 0.0, 0.0, 0.0, 0.0, 0.0, 0.0, 0.0, 0.0, 0.0, 0.0, 0.0, 0.0, 0.0, 0.0, 0.0, 0.0], [0.19326095283031464, 0.8067390322685242, 0.0, 0.0, 0.0, 0.0, 0.0, 0.0, 0.0, 0.0, 0.0, 0.0, 0.0, 0.0, 0.0, 0.0, 0.0, 0.0, 0.0, 0.0, 0.0, 0.0, 0.0, 0.0, 0.0, 0.0, 0.0, 0.0, 0.0, 0.0, 0.0, 0.0, 0.0, 0.0, 0.0], [0.09132367372512817, 0.002221881179139018, 0.9064545035362244, 0.0, 0.0, 0.0, 0.0, 0.0, 0.0, 0.0, 0.0, 0.0, 0.0, 0.0, 0.0, 0.0, 0.0, 0.0, 0.0, 0.0, 0.0, 0.0, 0.0, 0.0, 0.0, 0.0, 0.0, 0.0, 0.0, 0.0, 0.0, 0.0, 0.0, 0.0, 0.0], [0.07127517461776733, 0.010394573211669922, 0.014608733355998993, 0.9037216305732727, 0.0, 0.0, 0.0, 0.0, 0.0, 0.0, 0.0, 0.0, 0.0, 0.0, 0.0, 0.0, 0.0, 0.0, 0.0, 0.0, 0.0, 0.0, 0.0, 0.0, 0.0, 0.0, 0.0, 0.0, 0.0, 0.0, 0.0, 0.0, 0.0, 0.0, 0.0], [0.00752516184002161, 8.942761633079499e-05, 7.544139225501567e-05, 3.413583499423112e-06, 0.9923065304756165, 0.0, 0.0, 0.0, 0.0, 0.0, 0.0, 0.0, 0.0, 0.0, 0.0, 0.0, 0.0, 0.0, 0.0, 0.0, 0.0, 0.0, 0.0, 0.0, 0.0, 0.0, 0.0, 0.0, 0.0, 0.0, 0.0, 0.0, 0.0, 0.0, 0.0], [0.004521061200648546, 4.2805177145055495e-06, 9.23044208320789e-05, 2.363634303037543e-05, 1.1194444596185349e-05, 0.9953475594520569, 0.0, 0.0, 0.0, 0.0, 0.0, 0.0, 0.0, 0.0, 0.0, 0.0, 0.0, 0.0, 0.0, 0.0, 0.0, 0.0, 0.0, 0.0, 0.0, 0.0, 0.0, 0.0, 0.0, 0.0, 0.0, 0.0, 0.0, 0.0, 0.0], [0.007938149385154247, 0.00010465273953741416, 4.1882518416969106e-05, 8.376296136702877e-06, 0.00021111464593559504, 3.1297931855078787e-06, 0.9916926622390747, 0.0, 0.0, 0.0, 0.0, 0.0, 0.0, 0.0, 0.0, 0.0, 0.0, 0.0, 0.0, 0.0, 0.0, 0.0, 0.0, 0.0, 0.0, 0.0, 0.0, 0.0, 0.0, 0.0, 0.0, 0.0, 0.0, 0.0, 0.0], [0.002452848246321082, 1.0800496966112405e-05, 1.541074198030401e-05, 2.252152597748136e-07, 3.925124474335462e-05, 5.133605554874521e-06, 2.3800475901225582e-05, 0.9974525570869446, 0.0, 0.0, 0.0, 0.0, 0.0, 0.0, 0.0, 0.0, 0.0, 0.0, 0.0, 0.0, 0.0, 0.0, 0.0, 0.0, 0.0, 0.0, 0.0, 0.0, 0.0, 0.0, 0.0, 0.0, 0.0, 0.0, 0.0], [0.1994483917951584, 0.17831812798976898, 0.06548024713993073, 0.1327645629644394, 0.03858450800180435, 0.010353407822549343, 0.021433593705296516, 0.0067232889123260975, 0.3468938171863556, 0.0, 0.0, 0.0, 0.0, 0.0, 0.0, 0.0, 0.0, 0.0, 0.0, 0.0, 0.0, 0.0, 0.0, 0.0, 0.0, 0.0, 0.0, 0.0, 0.0, 0.0, 0.0, 0.0, 0.0, 0.0, 0.0], [0.0014458447694778442, 8.054703926063667e-07, 3.064588599954732e-05, 7.412921263494354e-07, 2.0274023881938774e-06, 1.1259034181421157e-05, 1.8223380493509467e-06, 8.012925536604598e-05, 1.0569634412149753e-07, 0.9984266757965088, 0.0, 0.0, 0.0, 0.0, 0.0, 0.0, 0.0, 0.0, 0.0, 0.0, 0.0, 0.0, 0.0, 0.0, 0.0, 0.0, 0.0, 0.0, 0.0, 0.0, 0.0, 0.0, 0.0, 0.0, 0.0], [0.002338015241548419, 1.2498665455495939e-05, 2.2450083633884788e-05, 4.236496351950336e-06, 2.952029092284647e-07, 1.8947017679238343e-06, 7.769844523863867e-05, 8.969038390205242e-06, 4.6951914356441193e-08, 1.1347646022841218e-06, 0.9975327253341675, 0.0, 0.0, 0.0, 0.0, 0.0, 0.0, 0.0, 0.0, 0.0, 0.0, 0.0, 0.0, 0.0, 0.0, 0.0, 0.0, 0.0, 0.0, 0.0, 0.0, 0.0, 0.0, 0.0, 0.0], [0.047514546662569046, 0.05268261581659317, 0.02040812186896801, 0.0585300549864769, 0.0071665639989078045, 0.008201424032449722, 0.01184640172868967, 0.0017474382184445858, 0.024963321164250374, 0.0026972556952387094, 0.0014261910691857338, 0.7628160715103149, 0.0, 0.0, 0.0, 0.0, 0.0, 0.0, 0.0, 0.0, 0.0, 0.0, 0.0, 0.0, 0.0, 0.0, 0.0, 0.0, 0.0, 0.0, 0.0, 0.0, 0.0, 0.0, 0.0], [0.006070807110518217, 0.0001295793626923114, 5.943352516624145e-05, 5.659351245412836e-06, 0.0002615326957311481, 0.00012241843796800822, 1.0399356142443139e-05, 1.1076414921262767e-05, 4.060484855017421e-07, 0.00036004738649353385, 2.011543074331712e-05, 1.3643945351304865e-07, 0.9929484128952026, 0.0, 0.0, 0.0, 0.0, 0.0, 0.0, 0.0, 0.0, 0.0, 0.0, 0.0, 0.0, 0.0, 0.0, 0.0, 0.0, 0.0, 0.0, 0.0, 0.0, 0.0, 0.0], [0.0953056588768959, 0.14180321991443634, 0.05038182809948921, 0.10299669951200485, 0.029812093824148178, 0.006589412223547697, 0.016824398189783096, 0.004481853451579809, 0.23106452822685242, 0.019435426220297813, 0.010874397121369839, 0.05543201044201851, 0.03543871268630028, 0.1995597630739212, 0.0, 0.0, 0.0, 0.0, 0.0, 0.0, 0.0, 0.0, 0.0, 0.0, 0.0, 0.0, 0.0, 0.0, 0.0, 0.0, 0.0, 0.0, 0.0, 0.0, 0.0], [0.027447829023003578, 0.00014065347204450518, 0.0001984664995688945, 3.49676665791776e-05, 5.282148777041584e-06, 0.00015024204913061112, 8.128349873004481e-05, 1.21251378004672e-05, 6.303894042503089e-05, 6.543214112753049e-05, 2.8324877803243e-06, 3.890726657118648e-05, 5.673631449099048e-07, 4.2104868043679744e-05, 0.9717161655426025, 0.0, 0.0, 0.0, 0.0, 0.0, 0.0, 0.0, 0.0, 0.0, 0.0, 0.0, 0.0, 0.0, 0.0, 0.0, 0.0, 0.0, 0.0, 0.0, 0.0], [0.004212117288261652, 3.0696890462422743e-05, 6.369442417053506e-05, 8.254556860265438e-07, 8.262148867288488e-07, 3.86834581149742e-05, 4.26881160819903e-06, 3.81940662919078e-06, 1.2628012768800545e-07, 0.00013782775204163045, 1.7806130927056074e-05, 1.7100234117606306e-08, 5.979883553663967e-06, 6.190309420617268e-08, 2.2941594579606317e-06, 0.9954808950424194, 0.0, 0.0, 0.0, 0.0, 0.0, 0.0, 0.0, 0.0, 0.0, 0.0, 0.0, 0.0, 0.0, 0.0, 0.0, 0.0, 0.0, 0.0, 0.0], [0.019846780225634575, 0.03168344870209694, 0.012553277425467968, 0.035718806087970734, 0.004399013705551624, 0.004350573755800724, 0.00742737203836441, 0.0009372890344820917, 0.012662884779274464, 0.001605055294930935, 0.0007319959113374352, 0.4563407897949219, 0.00201086956076324, 0.009759276174008846, 0.008237503468990326, 0.00025941262720152736, 0.3914756774902344, 0.0, 0.0, 0.0, 0.0, 0.0, 0.0, 0.0, 0.0, 0.0, 0.0, 0.0, 0.0, 0.0, 0.0, 0.0, 0.0, 0.0, 0.0], [0.027297209948301315, 0.0024357072543352842, 0.0002706822706386447, 7.525584078393877e-05, 1.3686860256711952e-05, 5.773238626716193e-06, 0.0004301840381231159, 1.443816927348962e-05, 4.835145955439657e-05, 5.326117025106214e-05, 9.613328074919991e-06, 6.846700853202492e-05, 0.0003037679416593164, 2.8783944799215533e-05, 3.86640167562291e-05, 2.5926843591150828e-05, 4.6800560085102916e-05, 0.9688335061073303, 0.0, 0.0, 0.0, 0.0, 0.0, 0.0, 0.0, 0.0, 0.0, 0.0, 0.0, 0.0, 0.0, 0.0, 0.0, 0.0, 0.0], [0.006310693453997374, 3.294685302535072e-05, 9.895686162053607e-06, 7.334584211093897e-07, 9.119841706706211e-05, 4.094936957699247e-05, 8.511712621839251e-06, 9.950702224159613e-05, 1.9264814454800216e-07, 8.829226771922549e-07, 1.890608700705343e-06, 1.1808706403826363e-06, 3.1165191103355028e-06, 9.47476834767258e-08, 3.301757942608674e-06, 2.585522634035442e-05, 7.711307148383639e-07, 2.6708685254561715e-06, 0.993365466594696, 0.0, 0.0, 0.0, 0.0, 0.0, 0.0, 0.0, 0.0, 0.0, 0.0, 0.0, 0.0, 0.0, 0.0, 0.0, 0.0], [0.0011340522905811667, 6.961923190829111e-06, 1.2364377653284464e-05, 4.006546703294589e-07, 5.351815343601629e-05, 5.2400919230422005e-06, 4.459505726117641e-05, 0.00016450765542685986, 1.4344478493910628e-08, 1.0388021109974943e-06, 4.77888788736891e-05, 5.0586844935196495e-08, 9.468209896112967e-07, 7.475676966350875e-09, 6.603928000004089e-07, 3.843115337076597e-06, 3.346431753925572e-08, 2.411975685845391e-07, 1.6647783922962844e-05, 0.9985072016716003, 0.0, 0.0, 0.0, 0.0, 0.0, 0.0, 0.0, 0.0, 0.0, 0.0, 0.0, 0.0, 0.0, 0.0, 0.0], [0.08800848573446274, 0.1892128884792328, 0.04556255787611008, 0.08163288980722427, 0.01735807955265045, 0.004830402322113514, 0.018958795815706253, 0.004620133899152279, 0.06910263746976852, 0.012970473617315292, 0.010343019850552082, 0.05366411432623863, 0.009830265305936337, 0.05797472223639488, 0.011936409398913383, 0.00944663118571043, 0.04662338271737099, 0.07882604748010635, 0.010427415370941162, 0.0020946753211319447, 0.17657586932182312, 0.0, 0.0, 0.0, 0.0, 0.0, 0.0, 0.0, 0.0, 0.0, 0.0, 0.0, 0.0, 0.0, 0.0], [0.015971165150403976, 0.0030620144680142403, 0.00014189504145178944, 0.0007885739323683083, 4.299372449168004e-05, 4.13119669246953e-05, 6.306867726380005e-05, 3.5465084238239797e-06, 2.173125722038094e-05, 1.786093707778491e-05, 1.0213978384854272e-05, 2.659637902979739e-05, 3.7855479604331776e-05, 1.3186846445023548e-05, 0.00018817662203218788, 4.9638774726190604e-06, 1.8085078409058042e-05, 4.864023139816709e-05, 4.463590812520124e-06, 2.4802479856589343e-06, 1.217890439875191e-05, 0.9794788956642151, 0.0, 0.0, 0.0, 0.0, 0.0, 0.0, 0.0, 0.0, 0.0, 0.0, 0.0, 0.0, 0.0], [0.007472236640751362, 0.0003719074302352965, 7.639086834387854e-05, 1.1135914974147454e-05, 3.0148716177791357e-05, 1.1014429219358135e-05, 5.4528787586605176e-05, 2.2444422938860953e-05, 1.1283858839306049e-05, 2.8587872293428518e-05, 5.627739938063314e-06, 7.513614400522783e-05, 7.734288374194875e-05, 6.529718575620791e-06, 8.796916517894715e-06, 8.651502866996452e-06, 5.0727925554383546e-05, 7.0408632382168435e-06, 3.187641777913086e-05, 1.4034895912118373e-06, 7.003588507359382e-06, 7.040087803034112e-05, 0.9915598034858704, 0.0, 0.0, 0.0, 0.0, 0.0, 0.0, 0.0, 0.0, 0.0, 0.0, 0.0, 0.0], [0.0220454353839159, 0.28049421310424805, 0.016674762591719627, 0.00015087136125657707, 0.0006804473814554513, 2.7394111384637654e-05, 0.0008938325336202979, 1.2499203876359388e-05, 0.0002665531646925956, 5.584165592154022e-06, 5.109101766720414e-05, 9.500431042397395e-05, 1.81947852979647e-05, 0.00018282824021298438, 0.0016493599396198988, 2.7935182515648194e-05, 6.991916598053649e-05, 7.677565008634701e-05, 2.088614201056771e-05, 4.5125620999897365e-06, 0.00014541391283273697, 0.00044705011532641947, 5.5147811508504674e-05, 0.6759042739868164, 0.0, 0.0, 0.0, 0.0, 0.0, 0.0, 0.0, 0.0, 0.0, 0.0, 0.0], [0.01879945769906044, 0.0019184600096195936, 0.0010523874079808593, 7.228145841509104e-05, 0.00013796627172268927, 5.208816219237633e-05, 6.334375939331949e-05, 9.731957106851041e-06, 8.120811253320426e-05, 5.9983929531881586e-05, 9.63596539804712e-06, 4.8187135689659044e-05, 4.688356784754433e-05, 5.250570393400267e-05, 0.00044942068052478135, 0.00028932970599271357, 3.537202792358585e-05, 0.00022377951245289296, 0.00020209007197991014, 3.112009608230437e-06, 3.5228513297624886e-05, 9.855003008851781e-05, 0.00018101489695254713, 0.00012300803791731596, 0.9759548306465149, 0.0, 0.0, 0.0, 0.0, 0.0, 0.0, 0.0, 0.0, 0.0, 0.0], [0.0016589750302955508, 6.63247010379564e-06, 3.9323400415014476e-05, 5.51213543076301e-06, 7.328286301344633e-05, 5.176194122213928e-07, 8.362663356820121e-05, 1.6115389371407218e-05, 1.840794965346504e-07, 0.0002003257832257077, 1.8497462406230625e-06, 7.683021863158501e-08, 1.805103056540247e-05, 9.259753852575159e-08, 6.612172455788823e-06, 1.962784381248639e-06, 5.0048473809738425e-08, 6.371125493842555e-08, 4.881644599663559e-07, 3.839147211692762e-06, 1.8601461704292888e-08, 1.6708659131836612e-06, 8.816599006422621e-07, 6.673342767271606e-08, 1.878516115993989e-07, 0.9978796243667603, 0.0, 0.0, 0.0, 0.0, 0.0, 0.0, 0.0, 0.0, 0.0], [0.005040670745074749, 0.00039155586273409426, 0.0005618713330477476, 0.00014523064601235092, 3.9371960156131536e-05, 5.4099655244499445e-05, 0.000284795300103724, 4.8287405661540106e-05, 3.104319375779596e-06, 6.896281411172822e-05, 0.0002681417390704155, 4.2109372770937625e-06, 1.2119896382500883e-05, 2.0253992261132225e-06, 3.188784830854274e-05, 1.1356536560924724e-05, 3.0188034543243703e-06, 1.2622916983673349e-05, 7.4655908974818885e-06, 3.027810407729703e-06, 4.951124878971314e-07, 3.015464244526811e-05, 1.886378049675841e-05, 4.1512544157740194e-06, 5.031331511418102e-06, 6.06908906775061e-06, 0.9929414987564087, 0.0, 0.0, 0.0, 0.0, 0.0, 0.0, 0.0, 0.0], [0.0012448688503354788, 0.00017617059347685426, 2.4151799152605236e-05, 1.2456704098440241e-05, 5.211318421061151e-05, 2.3546110242023133e-05, 5.673462510458194e-05, 0.00045827782014384866, 2.4983903585962253e-06, 0.00011349451960995793, 4.920261199004017e-05, 1.3444576325127855e-05, 7.735948747722432e-05, 1.3437108918878948e-06, 6.060910891392268e-06, 0.00010331803059671074, 8.745508239371702e-06, 1.081159552995814e-05, 0.0001585643331054598, 1.9056102473768988e-06, 5.418800128609291e-07, 1.2321393114689272e-06, 6.472245149780065e-05, 3.5890639082936104e-06, 8.650926247355528e-06, 2.962806775030913e-06, 1.3278987353260163e-05, 0.9973099231719971, 0.0, 0.0, 0.0, 0.0, 0.0, 0.0, 0.0], [0.001973335398361087, 0.0009750569588504732, 7.218521932372823e-05, 9.848416084423661e-05, 4.960862497682683e-05, 5.4340576753020287e-05, 0.0003797206445597112, 6.184627181937685e-06, 1.0831159897861653e-06, 4.491219897317933e-06, 0.00047983546392060816, 9.928658073476981e-07, 1.3564573237090372e-05, 6.477191618614597e-07, 1.0186123290623073e-05, 5.581327059189789e-06, 7.11347752258007e-07, 5.998077767799259e-07, 3.201087793058832e-06, 2.288285941176582e-06, 1.5130844133182109e-07, 7.130767698981799e-06, 1.7937974234882859e-06, 2.402572863502428e-05, 2.833118344369723e-07, 1.2269152648514137e-05, 0.00023325464280787855, 0.00031319609843194485, 0.9952758550643921, 0.0, 0.0, 0.0, 0.0, 0.0, 0.0], [0.030099276453256607, 0.09027378261089325, 0.02814972773194313, 0.15763874351978302, 0.026473550125956535, 0.003006007056683302, 0.0172195415943861, 0.0022446673829108477, 0.03120044805109501, 0.011351726949214935, 0.0013561318628489971, 0.029119187965989113, 0.016773520037531853, 0.023998098447918892, 0.00945052970200777, 0.006288202479481697, 0.02392304502427578, 0.058296240866184235, 0.00990422535687685, 0.0003779733960982412, 0.02459513023495674, 0.0404200479388237, 0.027886735275387764, 0.009823566302657127, 0.049947116523981094, 0.0010651142802089453, 0.014632527716457844, 0.011246386915445328, 0.0020601546857506037, 0.24117852747440338, 0.0, 0.0, 0.0, 0.0, 0.0], [0.004169422667473555, 0.0006143288919702172, 0.0005938464310020208, 0.0001103623362723738, 9.005518222693354e-05, 1.3705171113542747e-05, 0.000590349140111357, 2.6892355435848003e-06, 8.671509931446053e-06, 4.6116430894471705e-05, 1.0056795872515067e-05, 5.362908268580213e-06, 5.1998555136378855e-05, 4.8024185161921196e-06, 2.1195266526774503e-05, 2.4785071218502708e-05, 3.4400409276713617e-06, 1.8410868506180122e-05, 7.05515849404037e-05, 5.603979502666334e-07, 5.060184321337147e-06, 2.259217217215337e-05, 6.252556340768933e-05, 1.861938289948739e-05, 0.00014118572289589792, 2.6331110348110087e-05, 1.2610458952622139e-06, 1.0759871429399936e-06, 3.0932002914596524e-07, 5.793060154246632e-06, 0.9932644367218018, 0.0, 0.0, 0.0, 0.0], [0.010566670447587967, 0.0013905909145250916, 0.00043136338354088366, 0.00102959293872118, 0.003916394896805286, 0.00015029536734800786, 0.0019936009775847197, 0.0003044376790057868, 2.9845123208360747e-05, 0.0006592926802113652, 1.2659849744522944e-05, 7.52750929677859e-05, 0.00039767735870555043, 1.7276557628065348e-05, 0.00038583565037697554, 2.1061921870568767e-05, 5.3403142374008894e-05, 6.335034413496032e-05, 0.00012688453716691583, 6.783208391425433e-06, 2.717058850976173e-05, 0.00013008975656703115, 3.859863136312924e-05, 4.366650682641193e-05, 8.064091161941178e-06, 0.0007468670373782516, 8.195245754905045e-06, 9.368619794258848e-05, 6.2524600252800155e-06, 4.447249375516549e-05, 0.00020698668959084898, 0.9770136475563049, 0.0, 0.0, 0.0], [0.017131483182311058, 0.10981206595897675, 0.045284971594810486, 0.16663993895053864, 0.04683493450284004, 0.012714347802102566, 0.02494184300303459, 0.002460506046190858, 0.016514169052243233, 0.014018191024661064, 0.0028046516235917807, 0.017261294648051262, 0.05619135499000549, 0.011843177489936352, 0.024518396705389023, 0.008004879578948021, 0.013582986779510975, 0.027696529403328896, 0.00788149144500494, 0.0013759646099060774, 0.009033634327352047, 0.03747998923063278, 0.014368826523423195, 0.01657966896891594, 0.03148625046014786, 0.002235109219327569, 0.007032560650259256, 0.02033880352973938, 0.0021573666017502546, 0.01573573797941208, 0.03529256209731102, 0.01779499463737011, 0.16295136511325836, 0.0, 0.0], [0.0027362373657524586, 0.0032704402692615986, 0.00024938516435213387, 2.9521108444896527e-05, 0.0027190777473151684, 1.5680814613006078e-05, 0.0011440067319199443, 3.528553861542605e-05, 1.9352071831235662e-05, 3.620963980210945e-05, 1.2202220204926562e-05, 0.00012145638902438805, 4.9556045269127935e-05, 1.1851489034597762e-05, 8.826622797641903e-05, 3.184519300702959e-05, 8.618916035629809e-05, 0.0001305781042901799, 9.26754655665718e-05, 1.844452526711393e-05, 4.454882855497999e-06, 1.421102206222713e-05, 0.00020819788915105164, 6.224938988452777e-05, 2.7289990612189285e-05, 8.527088539267424e-06, 0.0010931704891845584, 0.0010258982656523585, 1.8266413462697528e-05, 9.816321835387498e-06, 7.599958280479768e-07, 4.151809662289452e-06, 8.365893336303998e-06, 0.9866164922714233, 0.0], [0.013301754370331764, 0.0020241746678948402, 0.0009810624178498983, 0.00027103928732685745, 0.02624255046248436, 6.968403613427654e-05, 0.00018824616563506424, 0.00033232715213671327, 0.00020717488951049745, 0.00035583574208430946, 1.8688768250285648e-05, 0.00031016304274089634, 0.0002884422428905964, 0.00014157555415295064, 0.00021018910047132522, 0.00013730116188526154, 0.00024542518076486886, 0.0005858629592694342, 0.0008409071597270668, 0.00037898405571468174, 0.00011255494609940797, 0.0009485270129516721, 0.00025817184359766543, 0.0005371627048589289, 0.00023706414503976703, 9.896148549159989e-05, 1.4541812561219558e-05, 7.51436164136976e-05, 1.0142423889192287e-05, 7.690762140555307e-05, 6.643275992246345e-05, 5.445994975161739e-05, 0.00010781989840324968, 0.002189120277762413, 0.9480817317962646]], [[1.0, 0.0, 0.0, 0.0, 0.0, 0.0, 0.0, 0.0, 0.0, 0.0, 0.0, 0.0, 0.0, 0.0, 0.0, 0.0, 0.0, 0.0, 0.0, 0.0, 0.0, 0.0, 0.0, 0.0, 0.0, 0.0, 0.0, 0.0, 0.0, 0.0, 0.0, 0.0, 0.0, 0.0, 0.0], [0.9360752105712891, 0.06392481178045273, 0.0, 0.0, 0.0, 0.0, 0.0, 0.0, 0.0, 0.0, 0.0, 0.0, 0.0, 0.0, 0.0, 0.0, 0.0, 0.0, 0.0, 0.0, 0.0, 0.0, 0.0, 0.0, 0.0, 0.0, 0.0, 0.0, 0.0, 0.0, 0.0, 0.0, 0.0, 0.0, 0.0], [0.8446658253669739, 0.06946853548288345, 0.08586560189723969, 0.0, 0.0, 0.0, 0.0, 0.0, 0.0, 0.0, 0.0, 0.0, 0.0, 0.0, 0.0, 0.0, 0.0, 0.0, 0.0, 0.0, 0.0, 0.0, 0.0, 0.0, 0.0, 0.0, 0.0, 0.0, 0.0, 0.0, 0.0, 0.0, 0.0, 0.0, 0.0], [0.6426600217819214, 0.12988689541816711, 0.17117170989513397, 0.05628129467368126, 0.0, 0.0, 0.0, 0.0, 0.0, 0.0, 0.0, 0.0, 0.0, 0.0, 0.0, 0.0, 0.0, 0.0, 0.0, 0.0, 0.0, 0.0, 0.0, 0.0, 0.0, 0.0, 0.0, 0.0, 0.0, 0.0, 0.0, 0.0, 0.0, 0.0, 0.0], [0.5074959397315979, 0.0778626874089241, 0.0726853534579277, 0.10711851716041565, 0.23483750224113464, 0.0, 0.0, 0.0, 0.0, 0.0, 0.0, 0.0, 0.0, 0.0, 0.0, 0.0, 0.0, 0.0, 0.0, 0.0, 0.0, 0.0, 0.0, 0.0, 0.0, 0.0, 0.0, 0.0, 0.0, 0.0, 0.0, 0.0, 0.0, 0.0, 0.0], [0.4970755875110626, 0.06315258890390396, 0.1155911237001419, 0.08851398527622223, 0.10196362435817719, 0.1337031126022339, 0.0, 0.0, 0.0, 0.0, 0.0, 0.0, 0.0, 0.0, 0.0, 0.0, 0.0, 0.0, 0.0, 0.0, 0.0, 0.0, 0.0, 0.0, 0.0, 0.0, 0.0, 0.0, 0.0, 0.0, 0.0, 0.0, 0.0, 0.0, 0.0], [0.30812814831733704, 0.06775974482297897, 0.13057540357112885, 0.05440937727689743, 0.040503207594156265, 0.3605913817882538, 0.03803271800279617, 0.0, 0.0, 0.0, 0.0, 0.0, 0.0, 0.0, 0.0, 0.0, 0.0, 0.0, 0.0, 0.0, 0.0, 0.0, 0.0, 0.0, 0.0, 0.0, 0.0, 0.0, 0.0, 0.0, 0.0, 0.0, 0.0, 0.0, 0.0], [0.32434967160224915, 0.06349693983793259, 0.07783649116754532, 0.07798173278570175, 0.07410475611686707, 0.13590551912784576, 0.07038860768079758, 0.17593631148338318, 0.0, 0.0, 0.0, 0.0, 0.0, 0.0, 0.0, 0.0, 0.0, 0.0, 0.0, 0.0, 0.0, 0.0, 0.0, 0.0, 0.0, 0.0, 0.0, 0.0, 0.0, 0.0, 0.0, 0.0, 0.0, 0.0, 0.0], [0.16412921249866486, 0.03469284623861313, 0.05131254345178604, 0.013316989876329899, 0.17712701857089996, 0.1595190018415451, 0.09812308102846146, 0.29690471291542053, 0.004874553997069597, 0.0, 0.0, 0.0, 0.0, 0.0, 0.0, 0.0, 0.0, 0.0, 0.0, 0.0, 0.0, 0.0, 0.0, 0.0, 0.0, 0.0, 0.0, 0.0, 0.0, 0.0, 0.0, 0.0, 0.0, 0.0, 0.0], [0.18775463104248047, 0.054880447685718536, 0.10758273303508759, 0.04391004517674446, 0.14065435528755188, 0.11696729063987732, 0.05246005207300186, 0.1536639928817749, 0.049352701753377914, 0.09277381747961044, 0.0, 0.0, 0.0, 0.0, 0.0, 0.0, 0.0, 0.0, 0.0, 0.0, 0.0, 0.0, 0.0, 0.0, 0.0, 0.0, 0.0, 0.0, 0.0, 0.0, 0.0, 0.0, 0.0, 0.0, 0.0], [0.2051711082458496, 0.04006879776716232, 0.0833922028541565, 0.045652780681848526, 0.056970130652189255, 0.1331988424062729, 0.026416391134262085, 0.09950855374336243, 0.050134602934122086, 0.21417362987995148, 0.045312926173210144, 0.0, 0.0, 0.0, 0.0, 0.0, 0.0, 0.0, 0.0, 0.0, 0.0, 0.0, 0.0, 0.0, 0.0, 0.0, 0.0, 0.0, 0.0, 0.0, 0.0, 0.0, 0.0, 0.0, 0.0], [0.10754457116127014, 0.020955443382263184, 0.05246841907501221, 0.008330845274031162, 0.17997518181800842, 0.10652033239603043, 0.07210807502269745, 0.20191138982772827, 0.0033460448030382395, 0.14021329581737518, 0.1035674586892128, 0.0030589583329856396, 0.0, 0.0, 0.0, 0.0, 0.0, 0.0, 0.0, 0.0, 0.0, 0.0, 0.0, 0.0, 0.0, 0.0, 0.0, 0.0, 0.0, 0.0, 0.0, 0.0, 0.0, 0.0, 0.0], [0.09423350542783737, 0.02283540740609169, 0.055588554590940475, 0.02696784771978855, 0.12799425423145294, 0.07631109654903412, 0.07361149787902832, 0.16634687781333923, 0.030196350067853928, 0.11622443795204163, 0.13079150021076202, 0.022433556616306305, 0.05646512284874916, 0.0, 0.0, 0.0, 0.0, 0.0, 0.0, 0.0, 0.0, 0.0, 0.0, 0.0, 0.0, 0.0, 0.0, 0.0, 0.0, 0.0, 0.0, 0.0, 0.0, 0.0, 0.0], [0.11027710884809494, 0.019917305558919907, 0.033872101455926895, 0.008012216538190842, 0.1268695443868637, 0.12052713334560394, 0.06604591757059097, 0.21159586310386658, 0.002910379786044359, 0.13361386954784393, 0.07830420881509781, 0.005965666379779577, 0.0786396861076355, 0.0034490113612264395, 0.0, 0.0, 0.0, 0.0, 0.0, 0.0, 0.0, 0.0, 0.0, 0.0, 0.0, 0.0, 0.0, 0.0, 0.0, 0.0, 0.0, 0.0, 0.0, 0.0, 0.0], [0.16007709503173828, 0.05452115461230278, 0.0597362257540226, 0.020207509398460388, 0.052660420536994934, 0.10011062771081924, 0.1172926053404808, 0.14998750388622284, 0.017248373478651047, 0.056252818554639816, 0.09442038089036942, 0.01204691268503666, 0.020297687500715256, 0.018244557082653046, 0.06689617782831192, 0.0, 0.0, 0.0, 0.0, 0.0, 0.0, 0.0, 0.0, 0.0, 0.0, 0.0, 0.0, 0.0, 0.0, 0.0, 0.0, 0.0, 0.0, 0.0, 0.0], [0.17850056290626526, 0.04271138831973076, 0.058762867003679276, 0.025501519441604614, 0.02821972966194153, 0.09395948797464371, 0.035697728395462036, 0.038533005863428116, 0.02757410518825054, 0.12417211383581161, 0.09900186955928802, 0.029919534921646118, 0.04168913513422012, 0.03003855049610138, 0.08029220253229141, 0.06542613357305527, 0.0, 0.0, 0.0, 0.0, 0.0, 0.0, 0.0, 0.0, 0.0, 0.0, 0.0, 0.0, 0.0, 0.0, 0.0, 0.0, 0.0, 0.0, 0.0], [0.0826260969042778, 0.014221640303730965, 0.039103325456380844, 0.0058097741566598415, 0.14161065220832825, 0.08671101927757263, 0.05503493919968605, 0.15626993775367737, 0.002328180940821767, 0.11679326742887497, 0.08067944645881653, 0.0021917985286563635, 0.09792860597372055, 0.0027368690352886915, 0.03297451511025429, 0.08037842810153961, 0.002601495012640953, 0.0, 0.0, 0.0, 0.0, 0.0, 0.0, 0.0, 0.0, 0.0, 0.0, 0.0, 0.0, 0.0, 0.0, 0.0, 0.0, 0.0, 0.0], [0.09858327358961105, 0.028320664539933205, 0.05263177305459976, 0.017858652397990227, 0.061636604368686676, 0.08070766180753708, 0.07397957891225815, 0.09560464322566986, 0.009335826151072979, 0.08467231690883636, 0.11269154399633408, 0.01846788078546524, 0.03856263309717178, 0.011051510460674763, 0.06964195519685745, 0.09237805008888245, 0.02256043814122677, 0.031314946711063385, 0.0, 0.0, 0.0, 0.0, 0.0, 0.0, 0.0, 0.0, 0.0, 0.0, 0.0, 0.0, 0.0, 0.0, 0.0, 0.0, 0.0], [0.14957919716835022, 0.013048064894974232, 0.03394851088523865, 0.015061764977872372, 0.04509882628917694, 0.08479966968297958, 0.027256978675723076, 0.17206285893917084, 0.016850333660840988, 0.10883241146802902, 0.11793848872184753, 0.008323254995048046, 0.016134321689605713, 0.01772647351026535, 0.026173418387770653, 0.05189087241888046, 0.008976071141660213, 0.010605724528431892, 0.07569275796413422, 0.0, 0.0, 0.0, 0.0, 0.0, 0.0, 0.0, 0.0, 0.0, 0.0, 0.0, 0.0, 0.0, 0.0, 0.0, 0.0], [0.2303973287343979, 0.024296816438436508, 0.02655998058617115, 0.03924617916345596, 0.04230226203799248, 0.04924340918660164, 0.007979443296790123, 0.0732208788394928, 0.034551847726106644, 0.0660192221403122, 0.03830168396234512, 0.036723218858242035, 0.024140123277902603, 0.0371052585542202, 0.028557127341628075, 0.054463937878608704, 0.03901505470275879, 0.01594439707696438, 0.04610008746385574, 0.08583168685436249, 0.0, 0.0, 0.0, 0.0, 0.0, 0.0, 0.0, 0.0, 0.0, 0.0, 0.0, 0.0, 0.0, 0.0, 0.0], [0.05691665783524513, 0.006225022953003645, 0.011754417791962624, 0.0035496759228408337, 0.07110725343227386, 0.0800657719373703, 0.02216235175728798, 0.11016806215047836, 0.001048493548296392, 0.08122199773788452, 0.02667204663157463, 0.0021960814483463764, 0.03059852495789528, 0.0012014044914394617, 0.014937762171030045, 0.14736878871917725, 0.00262674898840487, 0.033389173448085785, 0.11049012839794159, 0.18504442274570465, 0.0012552259722724557, 0.0, 0.0, 0.0, 0.0, 0.0, 0.0, 0.0, 0.0, 0.0, 0.0, 0.0, 0.0, 0.0, 0.0], [0.09241704642772675, 0.026059623807668686, 0.024830594658851624, 0.014753975905478, 0.07309960573911667, 0.041600827127695084, 0.028182964771986008, 0.10522370040416718, 0.010200561955571175, 0.02671687863767147, 0.03863626345992088, 0.008342119865119457, 0.03416535630822182, 0.011011878028512001, 0.027021968737244606, 0.10600951313972473, 0.00949846487492323, 0.016123091802001, 0.06257017701864243, 0.19003154337406158, 0.010448914021253586, 0.043055012822151184, 0.0, 0.0, 0.0, 0.0, 0.0, 0.0, 0.0, 0.0, 0.0, 0.0, 0.0, 0.0, 0.0], [0.06173655018210411, 0.007029624190181494, 0.019486606121063232, 0.010366822592914104, 0.04601287841796875, 0.07236863672733307, 0.022752374410629272, 0.08978493511676788, 0.005041902419179678, 0.07019014656543732, 0.07947879284620285, 0.0064753941260278225, 0.0383506678044796, 0.005680921021848917, 0.015840986743569374, 0.05344108119606972, 0.0075249820947647095, 0.018862154334783554, 0.09784607589244843, 0.19087882339954376, 0.0069852969609200954, 0.027727823704481125, 0.046136584132909775, 0.0, 0.0, 0.0, 0.0, 0.0, 0.0, 0.0, 0.0, 0.0, 0.0, 0.0, 0.0], [0.0434984527528286, 0.006029139738529921, 0.0162718053907156, 0.004962887614965439, 0.09232780337333679, 0.05643608421087265, 0.024273201823234558, 0.10004422813653946, 0.0013475852319970727, 0.04695267975330353, 0.043369993567466736, 0.0026120946276932955, 0.025980019941926003, 0.0015367745654657483, 0.013811737298965454, 0.12162508815526962, 0.003084054682403803, 0.014781145378947258, 0.08252860605716705, 0.20843425393104553, 0.0021058099810034037, 0.033566415309906006, 0.04992131143808365, 0.004498818889260292, 0.0, 0.0, 0.0, 0.0, 0.0, 0.0, 0.0, 0.0, 0.0, 0.0, 0.0], [0.05493931472301483, 0.005164692178368568, 0.013282537460327148, 0.0068168118596076965, 0.08581957966089249, 0.042583733797073364, 0.010111803188920021, 0.10901322960853577, 0.003067042911425233, 0.041951458901166916, 0.03668752685189247, 0.0038776015862822533, 0.036396291106939316, 0.0036428291350603104, 0.015713080763816833, 0.04514279589056969, 0.004770631901919842, 0.010733413510024548, 0.12949077785015106, 0.18343369662761688, 0.005763913970440626, 0.06008810177445412, 0.06420367956161499, 0.008479912765324116, 0.018825510516762733, 0.0, 0.0, 0.0, 0.0, 0.0, 0.0, 0.0, 0.0, 0.0, 0.0], [0.1161927878856659, 0.024008186534047127, 0.017500849440693855, 0.022795287892222404, 0.0502765066921711, 0.03202548623085022, 0.020647749304771423, 0.039747416973114014, 0.023735981434583664, 0.026677900925278664, 0.01885642111301422, 0.028171351179480553, 0.034608807414770126, 0.026643717661499977, 0.022768065333366394, 0.023577356711030006, 0.031199203804135323, 0.022620439529418945, 0.09706809371709824, 0.06436185538768768, 0.03251432254910469, 0.04557201266288757, 0.04268260300159454, 0.02825285866856575, 0.025809552520513535, 0.0816851332783699, 0.0, 0.0, 0.0, 0.0, 0.0, 0.0, 0.0, 0.0, 0.0], [0.11220824718475342, 0.0052759344689548016, 0.013701362535357475, 0.0064756376668810844, 0.05825746804475784, 0.05591834709048271, 0.013027258217334747, 0.10451263189315796, 0.004013674799352884, 0.040113676339387894, 0.037872299551963806, 0.0031745280139148235, 0.01212999690324068, 0.004096257966011763, 0.007334525231271982, 0.017732828855514526, 0.0034752320498228073, 0.003059554612264037, 0.09483388066291809, 0.20002642273902893, 0.005673966370522976, 0.016374558210372925, 0.017230229452252388, 0.004368432331830263, 0.00930806528776884, 0.09713462740182877, 0.05267035588622093, 0.0, 0.0, 0.0, 0.0, 0.0, 0.0, 0.0, 0.0], [0.06115270406007767, 0.004939328413456678, 0.009762825444340706, 0.005227165296673775, 0.036462731659412384, 0.031370535492897034, 0.00821889378130436, 0.11535758525133133, 0.003272867063060403, 0.03824919834733009, 0.03337175399065018, 0.0021793784108012915, 0.00769295496866107, 0.0034548097755759954, 0.009085442870855331, 0.02790052630007267, 0.0023665910121053457, 0.003948241472244263, 0.040771495550870895, 0.2757468819618225, 0.0035466651897877455, 0.012455110438168049, 0.03261314705014229, 0.003209815127775073, 0.00360309099778533, 0.10009618103504181, 0.0889286920428276, 0.03501542657613754, 0.0, 0.0, 0.0, 0.0, 0.0, 0.0, 0.0], [0.11957035958766937, 0.008050519041717052, 0.013377300463616848, 0.0070892637595534325, 0.025275403633713722, 0.05149080976843834, 0.006585441995412111, 0.061659857630729675, 0.005620485171675682, 0.0556148886680603, 0.02729180082678795, 0.004286488052457571, 0.00769842928275466, 0.00599625101312995, 0.00794201623648405, 0.028790520504117012, 0.004870964679867029, 0.0043137590400874615, 0.02622806467115879, 0.15385547280311584, 0.010709961876273155, 0.009564648382365704, 0.029178397729992867, 0.0053292810916900635, 0.008051516488194466, 0.07812707871198654, 0.10984010249376297, 0.029521048069000244, 0.09406991302967072, 0.0, 0.0, 0.0, 0.0, 0.0, 0.0], [0.02588074281811714, 0.003286872524768114, 0.009190610609948635, 0.0022713197395205498, 0.042062561959028244, 0.0403556190431118, 0.015107078477740288, 0.04801337048411369, 0.0008096098899841309, 0.03906421363353729, 0.026566799730062485, 0.0015204467345029116, 0.021220147609710693, 0.0009539539460092783, 0.0078103686682879925, 0.033135153353214264, 0.0018792496994137764, 0.01011968869715929, 0.06751002371311188, 0.1226290613412857, 0.001583221834152937, 0.02216803841292858, 0.030785229057073593, 0.004318806808441877, 0.018729006871581078, 0.1447751522064209, 0.06957435607910156, 0.11388754099607468, 0.07182329148054123, 0.0029684777837246656, 0.0, 0.0, 0.0, 0.0, 0.0], [0.04612509906291962, 0.0049293749034404755, 0.011905020102858543, 0.005939910653978586, 0.05086231604218483, 0.03915585204958916, 0.011702249757945538, 0.07777240872383118, 0.0027224950026720762, 0.029330715537071228, 0.03543661907315254, 0.0025086586829274893, 0.011883248575031757, 0.002963858423754573, 0.008878662250936031, 0.018936675041913986, 0.002804588060826063, 0.004066930152475834, 0.06637164950370789, 0.16173595190048218, 0.004074746277183294, 0.017417902126908302, 0.048458125442266464, 0.005489853676408529, 0.014467379078269005, 0.08884269744157791, 0.05744141340255737, 0.04815756902098656, 0.09182097762823105, 0.004751020111143589, 0.023045994341373444, 0.0, 0.0, 0.0, 0.0], [0.02861654944717884, 0.0035397151950746775, 0.012825739569962025, 0.0037311010528355837, 0.022132840007543564, 0.026339098811149597, 0.015483644790947437, 0.04692447558045387, 0.0016770168440416455, 0.05343089625239372, 0.03818726912140846, 0.002529488643631339, 0.027682237327098846, 0.0019447177182883024, 0.010427959263324738, 0.02030639722943306, 0.003083114977926016, 0.00833756010979414, 0.06147444620728493, 0.056954700499773026, 0.003090916434302926, 0.01978728175163269, 0.0377042330801487, 0.004031909164041281, 0.020770886912941933, 0.12126167118549347, 0.08733708411455154, 0.07036237418651581, 0.09933115541934967, 0.005798675119876862, 0.06381494551897049, 0.021079925820231438, 0.0, 0.0, 0.0], [0.022769231349229813, 0.0023638156708329916, 0.006953613366931677, 0.0009745152783580124, 0.0334312804043293, 0.030963124707341194, 0.01288108341395855, 0.0763968974351883, 0.00026210382930003107, 0.030449917539954185, 0.036742568016052246, 0.0005670604296028614, 0.014569040387868881, 0.00030553340911865234, 0.005948358681052923, 0.022492563351988792, 0.0007025572122074664, 0.004866451025009155, 0.06026184558868408, 0.15585903823375702, 0.0005001768586225808, 0.019988082349300385, 0.030868511646986008, 0.0031281516421586275, 0.012151176109910011, 0.11994652450084686, 0.07597392052412033, 0.09628817439079285, 0.07584252953529358, 0.0010643762070685625, 0.03271330147981644, 0.011111116036772728, 0.0006633000448346138, 0.0, 0.0], [0.06755810976028442, 0.003352794796228409, 0.00897220429033041, 0.003402543952688575, 0.056073058396577835, 0.030404718592762947, 0.013628310523927212, 0.07952426373958588, 0.0025889379903674126, 0.03472939878702164, 0.01531597413122654, 0.002527098171412945, 0.007685469929128885, 0.002692824462428689, 0.0071129933930933475, 0.026128452271223068, 0.002773368265479803, 0.007069499231874943, 0.05076206475496292, 0.1759389340877533, 0.003935438115149736, 0.010542862117290497, 0.012697338126599789, 0.002831441117450595, 0.004983489867299795, 0.056103698909282684, 0.10278663784265518, 0.0786440372467041, 0.06361381709575653, 0.004290642682462931, 0.012449045665562153, 0.007846902124583721, 0.003574161324650049, 0.03745955228805542, 0.0], [0.058894284069538116, 0.004834291525185108, 0.008816237561404705, 0.004917600192129612, 0.057244494557380676, 0.047199659049510956, 0.010384357534348965, 0.04373683035373688, 0.0032532147597521544, 0.02700052224099636, 0.015385986305773258, 0.005444499664008617, 0.018304407596588135, 0.0036100544966757298, 0.011856130324304104, 0.07255370169878006, 0.006018077954649925, 0.006411907263100147, 0.05586155503988266, 0.08374673128128052, 0.003973666578531265, 0.018590599298477173, 0.01944512128829956, 0.0038806728553026915, 0.008932657539844513, 0.1224270835518837, 0.0409863106906414, 0.07429768890142441, 0.0577455572783947, 0.006318630650639534, 0.013084120117127895, 0.023065807297825813, 0.005796521436423063, 0.040941353887319565, 0.01503958459943533]], [[1.0, 0.0, 0.0, 0.0, 0.0, 0.0, 0.0, 0.0, 0.0, 0.0, 0.0, 0.0, 0.0, 0.0, 0.0, 0.0, 0.0, 0.0, 0.0, 0.0, 0.0, 0.0, 0.0, 0.0, 0.0, 0.0, 0.0, 0.0, 0.0, 0.0, 0.0, 0.0, 0.0, 0.0, 0.0], [0.9780336022377014, 0.021966347470879555, 0.0, 0.0, 0.0, 0.0, 0.0, 0.0, 0.0, 0.0, 0.0, 0.0, 0.0, 0.0, 0.0, 0.0, 0.0, 0.0, 0.0, 0.0, 0.0, 0.0, 0.0, 0.0, 0.0, 0.0, 0.0, 0.0, 0.0, 0.0, 0.0, 0.0, 0.0, 0.0, 0.0], [0.5068986415863037, 0.4279147684574127, 0.06518658250570297, 0.0, 0.0, 0.0, 0.0, 0.0, 0.0, 0.0, 0.0, 0.0, 0.0, 0.0, 0.0, 0.0, 0.0, 0.0, 0.0, 0.0, 0.0, 0.0, 0.0, 0.0, 0.0, 0.0, 0.0, 0.0, 0.0, 0.0, 0.0, 0.0, 0.0, 0.0, 0.0], [0.34595048427581787, 0.23385104537010193, 0.1913881003856659, 0.2288103848695755, 0.0, 0.0, 0.0, 0.0, 0.0, 0.0, 0.0, 0.0, 0.0, 0.0, 0.0, 0.0, 0.0, 0.0, 0.0, 0.0, 0.0, 0.0, 0.0, 0.0, 0.0, 0.0, 0.0, 0.0, 0.0, 0.0, 0.0, 0.0, 0.0, 0.0, 0.0], [0.2785968780517578, 0.17525745928287506, 0.11037102341651917, 0.2518094480037689, 0.18396520614624023, 0.0, 0.0, 0.0, 0.0, 0.0, 0.0, 0.0, 0.0, 0.0, 0.0, 0.0, 0.0, 0.0, 0.0, 0.0, 0.0, 0.0, 0.0, 0.0, 0.0, 0.0, 0.0, 0.0, 0.0, 0.0, 0.0, 0.0, 0.0, 0.0, 0.0], [0.20804201066493988, 0.08827144652605057, 0.061608124524354935, 0.2584841251373291, 0.27056989073753357, 0.11302439868450165, 0.0, 0.0, 0.0, 0.0, 0.0, 0.0, 0.0, 0.0, 0.0, 0.0, 0.0, 0.0, 0.0, 0.0, 0.0, 0.0, 0.0, 0.0, 0.0, 0.0, 0.0, 0.0, 0.0, 0.0, 0.0, 0.0, 0.0, 0.0, 0.0], [0.1632561981678009, 0.12141189724206924, 0.11990711838006973, 0.1616644561290741, 0.10774072259664536, 0.29750365018844604, 0.028515920042991638, 0.0, 0.0, 0.0, 0.0, 0.0, 0.0, 0.0, 0.0, 0.0, 0.0, 0.0, 0.0, 0.0, 0.0, 0.0, 0.0, 0.0, 0.0, 0.0, 0.0, 0.0, 0.0, 0.0, 0.0, 0.0, 0.0, 0.0, 0.0], [0.12280930578708649, 0.03978990018367767, 0.0451454296708107, 0.13578493893146515, 0.09269553422927856, 0.1180870458483696, 0.33698490262031555, 0.10870299488306046, 0.0, 0.0, 0.0, 0.0, 0.0, 0.0, 0.0, 0.0, 0.0, 0.0, 0.0, 0.0, 0.0, 0.0, 0.0, 0.0, 0.0, 0.0, 0.0, 0.0, 0.0, 0.0, 0.0, 0.0, 0.0, 0.0, 0.0], [0.07854475826025009, 0.03570389747619629, 0.029105328023433685, 0.05200904235243797, 0.10322195291519165, 0.062225162982940674, 0.06801243126392365, 0.17029154300689697, 0.4008859097957611, 0.0, 0.0, 0.0, 0.0, 0.0, 0.0, 0.0, 0.0, 0.0, 0.0, 0.0, 0.0, 0.0, 0.0, 0.0, 0.0, 0.0, 0.0, 0.0, 0.0, 0.0, 0.0, 0.0, 0.0, 0.0, 0.0], [0.0855533704161644, 0.04508212208747864, 0.020755313336849213, 0.05748790130019188, 0.05853366479277611, 0.03812538459897041, 0.03164031729102135, 0.14470811188220978, 0.39396733045578003, 0.12414640933275223, 0.0, 0.0, 0.0, 0.0, 0.0, 0.0, 0.0, 0.0, 0.0, 0.0, 0.0, 0.0, 0.0, 0.0, 0.0, 0.0, 0.0, 0.0, 0.0, 0.0, 0.0, 0.0, 0.0, 0.0, 0.0], [0.034007567912340164, 0.005801304243505001, 0.004264355171471834, 0.014554583467543125, 0.0020581260323524475, 0.01005222462117672, 0.015462432987987995, 0.014919930137693882, 0.07456016540527344, 0.8029415607452393, 0.021377794444561005, 0.0, 0.0, 0.0, 0.0, 0.0, 0.0, 0.0, 0.0, 0.0, 0.0, 0.0, 0.0, 0.0, 0.0, 0.0, 0.0, 0.0, 0.0, 0.0, 0.0, 0.0, 0.0, 0.0, 0.0], [0.03658132627606392, 0.008552641607820988, 0.00908592063933611, 0.010718585923314095, 0.03151050955057144, 0.07786066085100174, 0.02809952013194561, 0.052033886313438416, 0.09175646305084229, 0.2498079240322113, 0.2238456904888153, 0.18014691770076752, 0.0, 0.0, 0.0, 0.0, 0.0, 0.0, 0.0, 0.0, 0.0, 0.0, 0.0, 0.0, 0.0, 0.0, 0.0, 0.0, 0.0, 0.0, 0.0, 0.0, 0.0, 0.0, 0.0], [0.03899506852030754, 0.013953074812889099, 0.02715037390589714, 0.015978625044226646, 0.006068873684853315, 0.015332890674471855, 0.007358453702181578, 0.008143589831888676, 0.09236101806163788, 0.0958237275481224, 0.39708971977233887, 0.22508248686790466, 0.056662000715732574, 0.0, 0.0, 0.0, 0.0, 0.0, 0.0, 0.0, 0.0, 0.0, 0.0, 0.0, 0.0, 0.0, 0.0, 0.0, 0.0, 0.0, 0.0, 0.0, 0.0, 0.0, 0.0], [0.02941766194999218, 0.0068539828062057495, 0.005433525890111923, 0.008306879550218582, 0.015738271176815033, 0.008708895184099674, 0.008349092677235603, 0.023920074105262756, 0.04694683849811554, 0.04814504086971283, 0.09309997409582138, 0.15290862321853638, 0.14854168891906738, 0.40362945199012756, 0.0, 0.0, 0.0, 0.0, 0.0, 0.0, 0.0, 0.0, 0.0, 0.0, 0.0, 0.0, 0.0, 0.0, 0.0, 0.0, 0.0, 0.0, 0.0, 0.0, 0.0], [0.03712828457355499, 0.007584473583847284, 0.0035451469011604786, 0.008117969147861004, 0.01883419044315815, 0.005904970224946737, 0.009632598608732224, 0.011076658964157104, 0.04249940812587738, 0.0150839788839221, 0.01984347216784954, 0.11177274584770203, 0.12816859781742096, 0.33317869901657104, 0.247628852725029, 0.0, 0.0, 0.0, 0.0, 0.0, 0.0, 0.0, 0.0, 0.0, 0.0, 0.0, 0.0, 0.0, 0.0, 0.0, 0.0, 0.0, 0.0, 0.0, 0.0], [0.024791507050395012, 0.002257240004837513, 0.0019112302688881755, 0.003149645635858178, 0.0017746689263731241, 0.0030808579176664352, 0.01988072320818901, 0.006427102722227573, 0.015317474491894245, 0.0032266073394566774, 0.020296083763241768, 0.05772731453180313, 0.022555232048034668, 0.08885955810546875, 0.7141123414039612, 0.014632444828748703, 0.0, 0.0, 0.0, 0.0, 0.0, 0.0, 0.0, 0.0, 0.0, 0.0, 0.0, 0.0, 0.0, 0.0, 0.0, 0.0, 0.0, 0.0, 0.0], [0.019352810457348824, 0.002735720481723547, 0.0027006426826119423, 0.002816396066918969, 0.007300613913685083, 0.016268694773316383, 0.00513470359146595, 0.010258639231324196, 0.013791474513709545, 0.033804409205913544, 0.033944856375455856, 0.02411041595041752, 0.05347484350204468, 0.09691011160612106, 0.2761884033679962, 0.22190362215042114, 0.17930364608764648, 0.0, 0.0, 0.0, 0.0, 0.0, 0.0, 0.0, 0.0, 0.0, 0.0, 0.0, 0.0, 0.0, 0.0, 0.0, 0.0, 0.0, 0.0], [0.01677829772233963, 0.0013836671132594347, 0.0012504439800977707, 0.0019532644655555487, 0.0012283112155273557, 0.0034270514734089375, 0.0017710169777274132, 0.002587685827165842, 0.00995652936398983, 0.007537424564361572, 0.004963123705238104, 0.023668866604566574, 0.017456647008657455, 0.06967754662036896, 0.26127687096595764, 0.24082408845424652, 0.17677909135818481, 0.15748006105422974, 0.0, 0.0, 0.0, 0.0, 0.0, 0.0, 0.0, 0.0, 0.0, 0.0, 0.0, 0.0, 0.0, 0.0, 0.0, 0.0, 0.0], [0.054750364273786545, 0.00920194573700428, 0.0037833009846508503, 0.006891886703670025, 0.007006870117038488, 0.005267777480185032, 0.0019135902402922511, 0.006649008020758629, 0.022490739822387695, 0.007203700952231884, 0.03985989838838577, 0.026306968182325363, 0.03598389774560928, 0.10654620081186295, 0.14742791652679443, 0.029531946405768394, 0.148341566324234, 0.23425281047821045, 0.10658957064151764, 0.0, 0.0, 0.0, 0.0, 0.0, 0.0, 0.0, 0.0, 0.0, 0.0, 0.0, 0.0, 0.0, 0.0, 0.0, 0.0], [0.08004868775606155, 0.003562747500836849, 0.003394146915525198, 0.01128555741161108, 0.012208586558699608, 0.0019434950081631541, 0.003920829854905605, 0.024116618558764458, 0.02334994450211525, 0.008975899778306484, 0.005343950353562832, 0.02533605881035328, 0.01387019082903862, 0.10103653371334076, 0.03973817825317383, 0.08061381429433823, 0.12086474895477295, 0.12294694036245346, 0.14132508635520935, 0.17611798644065857, 0.0, 0.0, 0.0, 0.0, 0.0, 0.0, 0.0, 0.0, 0.0, 0.0, 0.0, 0.0, 0.0, 0.0, 0.0], [0.013053354807198048, 0.0019795650150626898, 0.0016182106919586658, 0.0014078509993851185, 0.0014868254074826837, 0.0013099159114062786, 0.0016642971895635128, 0.0025665161665529013, 0.003062670351937413, 0.010340584442019463, 0.007755246479064226, 0.008929400704801083, 0.008869537152349949, 0.017165103927254677, 0.07265806198120117, 0.08664470911026001, 0.06223943084478378, 0.16528479754924774, 0.07255073636770248, 0.09155543148517609, 0.36785778403282166, 0.0, 0.0, 0.0, 0.0, 0.0, 0.0, 0.0, 0.0, 0.0, 0.0, 0.0, 0.0, 0.0, 0.0], [0.0123160220682621, 0.0011592368828132749, 0.0007622389239259064, 0.0019507519900798798, 0.0012718515936285257, 0.0006892279488965869, 0.0005458984524011612, 0.0026030000299215317, 0.003917664755135775, 0.0005409368895925581, 0.001274191658012569, 0.006503169424831867, 0.005551586858928204, 0.017973439767956734, 0.013353332877159119, 0.03805125877261162, 0.043033964931964874, 0.039586566388607025, 0.022300690412521362, 0.03898366540670395, 0.5949540138244629, 0.1526772677898407, 0.0, 0.0, 0.0, 0.0, 0.0, 0.0, 0.0, 0.0, 0.0, 0.0, 0.0, 0.0, 0.0], [0.01372495386749506, 0.0016125737456604838, 0.00032898664358071983, 0.0010084306122735143, 0.001175803947262466, 0.0007259270059876144, 0.0005918750539422035, 0.0009615586022846401, 0.003118618857115507, 0.005970010068267584, 0.0030334647744894028, 0.0033444976434111595, 0.008407535962760448, 0.013658497482538223, 0.0056070322170853615, 0.005321718752384186, 0.019289914518594742, 0.029109656810760498, 0.013599611818790436, 0.031337760388851166, 0.25137242674827576, 0.5305222868919373, 0.05617688596248627, 0.0, 0.0, 0.0, 0.0, 0.0, 0.0, 0.0, 0.0, 0.0, 0.0, 0.0, 0.0], [0.016002371907234192, 0.0009560454054735601, 0.0005680464673787355, 0.001554971793666482, 0.0015755729982629418, 0.0006219735369086266, 0.0011257653823122382, 0.0014368745032697916, 0.0023100462276488543, 0.0009028317872434855, 0.0013921459903940558, 0.0036725939717143774, 0.0036322828382253647, 0.009217396378517151, 0.008623880334198475, 0.027025748044252396, 0.021376444026827812, 0.03330116346478462, 0.03885401412844658, 0.03905840218067169, 0.26596635580062866, 0.19372600317001343, 0.09792888909578323, 0.22917017340660095, 0.0, 0.0, 0.0, 0.0, 0.0, 0.0, 0.0, 0.0, 0.0, 0.0, 0.0], [0.009987290017306805, 0.0009651763830333948, 0.0006041585002094507, 0.0009222126682288945, 0.0008805808611214161, 0.000597433652728796, 0.00021149202075321227, 0.0006455684779211879, 0.0012417678954079747, 0.0006859697168692946, 0.0007031511049717665, 0.0014577420661225915, 0.001848770771175623, 0.005077202804386616, 0.0019275668310001493, 0.01241339836269617, 0.008568299934267998, 0.012073683552443981, 0.021936645731329918, 0.02919415384531021, 0.14272743463516235, 0.09834034740924835, 0.11847680807113647, 0.3163195252418518, 0.2121935933828354, 0.0, 0.0, 0.0, 0.0, 0.0, 0.0, 0.0, 0.0, 0.0, 0.0], [0.01686088927090168, 0.00197032792493701, 0.0008858366054482758, 0.0017656396375969052, 0.002392832189798355, 0.0005271150730550289, 0.0003617895708885044, 0.0006361054256558418, 0.0022411311510950327, 0.0008515871595591307, 0.00038157866219989955, 0.0022748310584574938, 0.0018798470264300704, 0.007292230147868395, 0.0021466757170856, 0.002526304218918085, 0.010355683043599129, 0.011969330720603466, 0.006590918637812138, 0.012827490456402302, 0.12130486965179443, 0.06624645739793777, 0.14612405002117157, 0.28280723094940186, 0.24703308939933777, 0.04974617809057236, 0.0, 0.0, 0.0, 0.0, 0.0, 0.0, 0.0, 0.0, 0.0], [0.026405036449432373, 0.0014230996603146195, 0.001623444608412683, 0.0025764042511582375, 0.00268970406614244, 0.0012257524067535996, 0.0010898782638832927, 0.0009538462036289275, 0.0019223529379814863, 0.002411524998024106, 0.0024579439777880907, 0.0014354201266542077, 0.005378496367484331, 0.00473234336823225, 0.0019391141831874847, 0.0079575190320611, 0.0060868836008012295, 0.012657458893954754, 0.01160250511020422, 0.02909662388265133, 0.08598875254392624, 0.07665879279375076, 0.03624012693762779, 0.13133355975151062, 0.19490276277065277, 0.21766334772109985, 0.1315472275018692, 0.0, 0.0, 0.0, 0.0, 0.0, 0.0, 0.0, 0.0], [0.0238961149007082, 0.002067502588033676, 0.0025093769654631615, 0.001851196982897818, 0.003160967258736491, 0.0009005637257359922, 0.0002685425861272961, 0.0005213554250076413, 0.00178721419069916, 0.0019308954942971468, 0.0010158243821933866, 0.0010442667407914996, 0.0015677034389227629, 0.004060098901391029, 0.0008207393111661077, 0.0033582986798137426, 0.004117121454328299, 0.007223027758300304, 0.01454730425029993, 0.04635158181190491, 0.05601862445473671, 0.03840019553899765, 0.041609980165958405, 0.10494538396596909, 0.15788212418556213, 0.12118806689977646, 0.19090242683887482, 0.16605345904827118, 0.0, 0.0, 0.0, 0.0, 0.0, 0.0, 0.0], [0.04075776785612106, 0.003958364017307758, 0.00569809228181839, 0.003957986366003752, 0.0014047817094251513, 0.00032769437530077994, 0.0006401941645890474, 0.0012045818148180842, 0.0022385583724826574, 0.0007448497926816344, 0.003836577758193016, 0.0016206816071644425, 0.0010148308938369155, 0.00426118727773428, 0.0009652958833612502, 0.0003954320854973048, 0.005401064176112413, 0.00726340152323246, 0.005766802001744509, 0.029991837218403816, 0.04173656925559044, 0.01752765104174614, 0.025155048817396164, 0.07565261423587799, 0.24542643129825592, 0.06668500602245331, 0.26483169198036194, 0.05502409487962723, 0.08651085942983627, 0.0, 0.0, 0.0, 0.0, 0.0, 0.0], [0.011784784495830536, 0.0013947553234174848, 0.0009515650453977287, 0.0008953195647336543, 0.0010372704127803445, 0.0004972646129317582, 0.0002528382174205035, 0.0004317566053941846, 0.0005345687386579812, 0.0002822917595040053, 0.000427473132731393, 0.0005479570245370269, 0.0008038745727390051, 0.0011037485674023628, 0.0010882844217121601, 0.002635375829413533, 0.0020033151376992464, 0.002939455443993211, 0.0051142009906470776, 0.009162314236164093, 0.020236428827047348, 0.014397252351045609, 0.014386603608727455, 0.05287313833832741, 0.044258084148168564, 0.07174724340438843, 0.08077166974544525, 0.1177971363067627, 0.14486125111579895, 0.3947827219963074, 0.0, 0.0, 0.0, 0.0, 0.0], [0.012992868199944496, 0.0016676140949130058, 0.0010021078633144498, 0.001176123390905559, 0.0007638346287421882, 0.0004005830851383507, 0.00012849245104007423, 0.00010518668568693101, 0.0005606432096101344, 0.00014079386892262846, 0.00012207550753373653, 0.0003985988150816411, 0.00022988287673797458, 0.0011077829403802752, 0.00036310352152213454, 0.0008891797042451799, 0.001440245658159256, 0.0014520242111757398, 0.002630566479638219, 0.003167383372783661, 0.017224682494997978, 0.010722357779741287, 0.005022997967898846, 0.045778486877679825, 0.04751968011260033, 0.027067186310887337, 0.0521685890853405, 0.055007971823215485, 0.11481018364429474, 0.44568806886672974, 0.1482507735490799, 0.0, 0.0, 0.0, 0.0], [0.011720024049282074, 0.0009638686315156519, 0.0016792798414826393, 0.0009598792530596256, 0.0011835340410470963, 0.00035873439628630877, 0.00013125204714015126, 0.00020985884475521743, 0.00035185890737921, 0.00011673843255266547, 0.0003326720034237951, 0.00020899801165796816, 0.000163040473125875, 0.0005591610097326338, 0.0001787791115930304, 0.0005847541615366936, 0.0006520412280224264, 0.0008100889390334487, 0.0008232023101300001, 0.006545150652527809, 0.007790673989802599, 0.00662250816822052, 0.005052974447607994, 0.014489836059510708, 0.024942070245742798, 0.019010353833436966, 0.028525514528155327, 0.036787766963243484, 0.1426696628332138, 0.23489883542060852, 0.30085399746894836, 0.14982284605503082, 0.0, 0.0, 0.0], [0.011463283561170101, 0.0009014825336635113, 0.0005477444501593709, 0.000586986425332725, 0.0005616628914140165, 0.00023434770992025733, 0.00013944675447419286, 0.00019926803361158818, 0.0003140309127047658, 0.0001251464564120397, 0.00021479518909472972, 0.0002481347764842212, 0.00022906187223270535, 0.0005020775715820491, 0.0004519018984865397, 0.0006676740595139563, 0.0007638585520908237, 0.0009467180352658033, 0.0010094373719766736, 0.003719573374837637, 0.007444895803928375, 0.004500555340200663, 0.0018344365525990725, 0.01297363918274641, 0.015522489324212074, 0.021838268265128136, 0.016228968277573586, 0.024697432294487953, 0.038053229451179504, 0.1630234271287918, 0.11826051026582718, 0.2288476526737213, 0.3229478895664215, 0.0, 0.0], [0.009539731778204441, 0.0014243266778066754, 0.0009944570483639836, 0.0009655572939664125, 0.0007854417781345546, 0.00030160605092532933, 0.0001115954146371223, 0.0008093696087598801, 0.00040054586133919656, 8.517084643244743e-05, 0.0006307567819021642, 0.00020861576194874942, 0.0002525565796531737, 0.0005451841279864311, 0.00024275531177408993, 0.0005828308640047908, 0.00055039202561602, 0.0010548591380938888, 0.0010979119688272476, 0.004033547360450029, 0.005151547025889158, 0.007251260336488485, 0.003988182637840509, 0.012260395102202892, 0.013561544008553028, 0.03828655928373337, 0.06675273925065994, 0.013111528940498829, 0.10093273967504501, 0.1317911148071289, 0.054323043674230576, 0.1525149643421173, 0.30832457542419434, 0.0671326220035553, 0.0], [0.00923457182943821, 0.0018696906045079231, 0.001543495338410139, 0.0012878909474238753, 0.0009349415195174515, 0.00028256073710508645, 0.00044942786917090416, 0.0005594989052042365, 0.0003277680661994964, 7.203824497992173e-05, 0.00010657910752343014, 0.000263624096987769, 0.0003654725442174822, 0.0003748315793927759, 0.00031175342155620456, 0.000896913290489465, 0.0006347448215819895, 0.0008650033269077539, 0.0008020040113478899, 0.0006307900766842067, 0.0032187788747251034, 0.0038458341732621193, 0.0030004363507032394, 0.007814157754182816, 0.010107206180691719, 0.016721567139029503, 0.007672078441828489, 0.010031218640506268, 0.005356382578611374, 0.07757056504487991, 0.03774446249008179, 0.13809101283550262, 0.1956760585308075, 0.030743557959794998, 0.4305931031703949]], [[1.0, 0.0, 0.0, 0.0, 0.0, 0.0, 0.0, 0.0, 0.0, 0.0, 0.0, 0.0, 0.0, 0.0, 0.0, 0.0, 0.0, 0.0, 0.0, 0.0, 0.0, 0.0, 0.0, 0.0, 0.0, 0.0, 0.0, 0.0, 0.0, 0.0, 0.0, 0.0, 0.0, 0.0, 0.0], [0.8970723748207092, 0.10292765498161316, 0.0, 0.0, 0.0, 0.0, 0.0, 0.0, 0.0, 0.0, 0.0, 0.0, 0.0, 0.0, 0.0, 0.0, 0.0, 0.0, 0.0, 0.0, 0.0, 0.0, 0.0, 0.0, 0.0, 0.0, 0.0, 0.0, 0.0, 0.0, 0.0, 0.0, 0.0, 0.0, 0.0], [0.7731762528419495, 0.17108601331710815, 0.05573772266507149, 0.0, 0.0, 0.0, 0.0, 0.0, 0.0, 0.0, 0.0, 0.0, 0.0, 0.0, 0.0, 0.0, 0.0, 0.0, 0.0, 0.0, 0.0, 0.0, 0.0, 0.0, 0.0, 0.0, 0.0, 0.0, 0.0, 0.0, 0.0, 0.0, 0.0, 0.0, 0.0], [0.2190985381603241, 0.09592846035957336, 0.1539974808692932, 0.5309755206108093, 0.0, 0.0, 0.0, 0.0, 0.0, 0.0, 0.0, 0.0, 0.0, 0.0, 0.0, 0.0, 0.0, 0.0, 0.0, 0.0, 0.0, 0.0, 0.0, 0.0, 0.0, 0.0, 0.0, 0.0, 0.0, 0.0, 0.0, 0.0, 0.0, 0.0, 0.0], [0.4932920038700104, 0.12421077489852905, 0.08378953486680984, 0.2104450762271881, 0.08826270699501038, 0.0, 0.0, 0.0, 0.0, 0.0, 0.0, 0.0, 0.0, 0.0, 0.0, 0.0, 0.0, 0.0, 0.0, 0.0, 0.0, 0.0, 0.0, 0.0, 0.0, 0.0, 0.0, 0.0, 0.0, 0.0, 0.0, 0.0, 0.0, 0.0, 0.0], [0.4792534112930298, 0.1148393526673317, 0.058252837508916855, 0.12140911817550659, 0.19296900928020477, 0.0332762710750103, 0.0, 0.0, 0.0, 0.0, 0.0, 0.0, 0.0, 0.0, 0.0, 0.0, 0.0, 0.0, 0.0, 0.0, 0.0, 0.0, 0.0, 0.0, 0.0, 0.0, 0.0, 0.0, 0.0, 0.0, 0.0, 0.0, 0.0, 0.0, 0.0], [0.33760708570480347, 0.13038289546966553, 0.12365780770778656, 0.16848313808441162, 0.03948561102151871, 0.15522730350494385, 0.04515616595745087, 0.0, 0.0, 0.0, 0.0, 0.0, 0.0, 0.0, 0.0, 0.0, 0.0, 0.0, 0.0, 0.0, 0.0, 0.0, 0.0, 0.0, 0.0, 0.0, 0.0, 0.0, 0.0, 0.0, 0.0, 0.0, 0.0, 0.0, 0.0], [0.3124314546585083, 0.10335507243871689, 0.07322119176387787, 0.13077440857887268, 0.08650772273540497, 0.20371751487255096, 0.04714130610227585, 0.04285133257508278, 0.0, 0.0, 0.0, 0.0, 0.0, 0.0, 0.0, 0.0, 0.0, 0.0, 0.0, 0.0, 0.0, 0.0, 0.0, 0.0, 0.0, 0.0, 0.0, 0.0, 0.0, 0.0, 0.0, 0.0, 0.0, 0.0, 0.0], [0.1071995347738266, 0.032564785331487656, 0.0461539551615715, 0.12522779405117035, 0.011105235666036606, 0.034330032765865326, 0.007858376018702984, 0.011366572231054306, 0.6241937279701233, 0.0, 0.0, 0.0, 0.0, 0.0, 0.0, 0.0, 0.0, 0.0, 0.0, 0.0, 0.0, 0.0, 0.0, 0.0, 0.0, 0.0, 0.0, 0.0, 0.0, 0.0, 0.0, 0.0, 0.0, 0.0, 0.0], [0.30288904905319214, 0.07804973423480988, 0.059376489371061325, 0.09426911175251007, 0.17377153038978577, 0.03861627355217934, 0.048025283962488174, 0.03951255977153778, 0.13237619400024414, 0.03311379998922348, 0.0, 0.0, 0.0, 0.0, 0.0, 0.0, 0.0, 0.0, 0.0, 0.0, 0.0, 0.0, 0.0, 0.0, 0.0, 0.0, 0.0, 0.0, 0.0, 0.0, 0.0, 0.0, 0.0, 0.0, 0.0], [0.13027670979499817, 0.04213486239314079, 0.07258210331201553, 0.10922865569591522, 0.03630434721708298, 0.19112573564052582, 0.033697981387376785, 0.05715860053896904, 0.11187221854925156, 0.16414132714271545, 0.05147743225097656, 0.0, 0.0, 0.0, 0.0, 0.0, 0.0, 0.0, 0.0, 0.0, 0.0, 0.0, 0.0, 0.0, 0.0, 0.0, 0.0, 0.0, 0.0, 0.0, 0.0, 0.0, 0.0, 0.0, 0.0], [0.0946442186832428, 0.029253456741571426, 0.03811940178275108, 0.14989574253559113, 0.020670868456363678, 0.07631714642047882, 0.008947473019361496, 0.020045075565576553, 0.3057856559753418, 0.0475209578871727, 0.010440828278660774, 0.1983591765165329, 0.0, 0.0, 0.0, 0.0, 0.0, 0.0, 0.0, 0.0, 0.0, 0.0, 0.0, 0.0, 0.0, 0.0, 0.0, 0.0, 0.0, 0.0, 0.0, 0.0, 0.0, 0.0, 0.0], [0.14440801739692688, 0.06329525262117386, 0.07617760449647903, 0.07194554805755615, 0.03394106402993202, 0.08442071080207825, 0.03594021499156952, 0.07685542851686478, 0.1158827692270279, 0.059519533067941666, 0.06183495745062828, 0.14841707050800323, 0.027361802756786346, 0.0, 0.0, 0.0, 0.0, 0.0, 0.0, 0.0, 0.0, 0.0, 0.0, 0.0, 0.0, 0.0, 0.0, 0.0, 0.0, 0.0, 0.0, 0.0, 0.0, 0.0, 0.0], [0.0414787195622921, 0.011494406498968601, 0.01764351688325405, 0.04599723592400551, 0.004085008054971695, 0.013701110146939754, 0.0028709035832434893, 0.004510780330747366, 0.24164843559265137, 0.009729514829814434, 0.002616732381284237, 0.2641770839691162, 0.008053767494857311, 0.3319927752017975, 0.0, 0.0, 0.0, 0.0, 0.0, 0.0, 0.0, 0.0, 0.0, 0.0, 0.0, 0.0, 0.0, 0.0, 0.0, 0.0, 0.0, 0.0, 0.0, 0.0, 0.0], [0.15155856311321259, 0.03772507235407829, 0.027330651879310608, 0.06052476167678833, 0.030143283307552338, 0.028034886345267296, 0.013341411016881466, 0.022503050044178963, 0.11653435230255127, 0.05189972743391991, 0.010558661073446274, 0.10229875892400742, 0.015167287550866604, 0.14137379825115204, 0.19100576639175415, 0.0, 0.0, 0.0, 0.0, 0.0, 0.0, 0.0, 0.0, 0.0, 0.0, 0.0, 0.0, 0.0, 0.0, 0.0, 0.0, 0.0, 0.0, 0.0, 0.0], [0.2839045822620392, 0.06502403318881989, 0.032383352518081665, 0.02959110215306282, 0.0424320325255394, 0.028469771146774292, 0.04153314605355263, 0.08465307205915451, 0.043854981660842896, 0.027530400082468987, 0.0921814888715744, 0.03751114383339882, 0.048919036984443665, 0.049849677830934525, 0.07913838326931, 0.013023805804550648, 0.0, 0.0, 0.0, 0.0, 0.0, 0.0, 0.0, 0.0, 0.0, 0.0, 0.0, 0.0, 0.0, 0.0, 0.0, 0.0, 0.0, 0.0, 0.0], [0.04885760322213173, 0.014007380232214928, 0.01954260654747486, 0.07337553799152374, 0.010089147835969925, 0.03972570225596428, 0.0043100533075630665, 0.01059033628553152, 0.15303605794906616, 0.02649904601275921, 0.00541725056245923, 0.09647625684738159, 0.012806719169020653, 0.2047864943742752, 0.14743390679359436, 0.00968919787555933, 0.12335667759180069, 0.0, 0.0, 0.0, 0.0, 0.0, 0.0, 0.0, 0.0, 0.0, 0.0, 0.0, 0.0, 0.0, 0.0, 0.0, 0.0, 0.0, 0.0], [0.05943121388554573, 0.02595120295882225, 0.035473890602588654, 0.03907974809408188, 0.018049323931336403, 0.02308724634349346, 0.010503754019737244, 0.03006955422461033, 0.09918283671140671, 0.036144088953733444, 0.018410028889775276, 0.11741489171981812, 0.017167571932077408, 0.12769997119903564, 0.08459016680717468, 0.037902720272541046, 0.145772323012352, 0.07406947761774063, 0.0, 0.0, 0.0, 0.0, 0.0, 0.0, 0.0, 0.0, 0.0, 0.0, 0.0, 0.0, 0.0, 0.0, 0.0, 0.0, 0.0], [0.272489070892334, 0.04502272605895996, 0.046122368425130844, 0.04205198213458061, 0.03813563659787178, 0.05454430356621742, 0.025706563144922256, 0.019254149869084358, 0.045364584773778915, 0.051068760454654694, 0.021479343995451927, 0.05142936110496521, 0.035683102905750275, 0.051102492958307266, 0.04221019148826599, 0.03813278675079346, 0.057898204773664474, 0.023540081456303596, 0.03876426815986633, 0.0, 0.0, 0.0, 0.0, 0.0, 0.0, 0.0, 0.0, 0.0, 0.0, 0.0, 0.0, 0.0, 0.0, 0.0, 0.0], [0.23981240391731262, 0.03723885491490364, 0.04641321673989296, 0.018074776977300644, 0.028609449043869972, 0.0315636470913887, 0.023263653740286827, 0.05314115807414055, 0.03672981634736061, 0.044361554086208344, 0.014090004377067089, 0.040796566754579544, 0.013384060934185982, 0.040182750672101974, 0.025124981999397278, 0.022283170372247696, 0.044574398547410965, 0.0263572596013546, 0.018502118065953255, 0.19549614191055298, 0.0, 0.0, 0.0, 0.0, 0.0, 0.0, 0.0, 0.0, 0.0, 0.0, 0.0, 0.0, 0.0, 0.0, 0.0], [0.03447256237268448, 0.007049787789583206, 0.008516230620443821, 0.019823288545012474, 0.0020061926916241646, 0.008738485164940357, 0.0013805321650579572, 0.0025849875528365374, 0.129638671875, 0.00498052267357707, 0.0014542954741045833, 0.09793515503406525, 0.004242659080773592, 0.17474929988384247, 0.02057534269988537, 0.0029217295814305544, 0.1251920759677887, 0.01766674965620041, 0.008172443136572838, 0.006463976111263037, 0.32143503427505493, 0.0, 0.0, 0.0, 0.0, 0.0, 0.0, 0.0, 0.0, 0.0, 0.0, 0.0, 0.0, 0.0, 0.0], [0.07532121986150742, 0.017385119572281837, 0.026499589905142784, 0.038201138377189636, 0.01346430741250515, 0.017004944384098053, 0.005682718008756638, 0.00816139206290245, 0.0879102572798729, 0.0156520027667284, 0.00462237698957324, 0.06870013475418091, 0.017068391665816307, 0.11098405718803406, 0.08843356370925903, 0.01554049551486969, 0.08290650695562363, 0.03445708379149437, 0.0349029004573822, 0.02266903594136238, 0.1672758311033249, 0.047156915068626404, 0.0, 0.0, 0.0, 0.0, 0.0, 0.0, 0.0, 0.0, 0.0, 0.0, 0.0, 0.0, 0.0], [0.11039689928293228, 0.017618604004383087, 0.012073222547769547, 0.07903023064136505, 0.047071799635887146, 0.028393464162945747, 0.010853300802409649, 0.03898293897509575, 0.042541783303022385, 0.05313576012849808, 0.010616576299071312, 0.04066742584109306, 0.016578689217567444, 0.05044255033135414, 0.04148310795426369, 0.011694181710481644, 0.048943907022476196, 0.04587531089782715, 0.06803460419178009, 0.03145819157361984, 0.07373650372028351, 0.09332364052534103, 0.027047282084822655, 0.0, 0.0, 0.0, 0.0, 0.0, 0.0, 0.0, 0.0, 0.0, 0.0, 0.0, 0.0], [0.050105903297662735, 0.011403637006878853, 0.0189800001680851, 0.048291102051734924, 0.0054781632497906685, 0.027938112616539, 0.0034753414802253246, 0.009667656384408474, 0.08883962780237198, 0.021459806710481644, 0.009184246882796288, 0.06738951802253723, 0.006293777376413345, 0.11730517446994781, 0.05559384077787399, 0.023259557783603668, 0.08538824319839478, 0.030172355473041534, 0.01855376735329628, 0.049727194011211395, 0.1386995166540146, 0.03593091294169426, 0.029570573940873146, 0.047291941940784454, 0.0, 0.0, 0.0, 0.0, 0.0, 0.0, 0.0, 0.0, 0.0, 0.0, 0.0], [0.03365062549710274, 0.03973434492945671, 0.013943269848823547, 0.022155024111270905, 0.00737410131841898, 0.01253434643149376, 0.003937930800020695, 0.005588038358837366, 0.0527641586959362, 0.011353474110364914, 0.0029761551413685083, 0.06122000515460968, 0.007114537991583347, 0.06609286367893219, 0.018457185477018356, 0.004707181826233864, 0.0778060182929039, 0.015934070572257042, 0.016269713640213013, 0.027332929894328117, 0.08945077657699585, 0.02828320302069187, 0.0134283397346735, 0.24125005304813385, 0.12664158642292023, 0.0, 0.0, 0.0, 0.0, 0.0, 0.0, 0.0, 0.0, 0.0, 0.0], [0.10162997245788574, 0.0481734462082386, 0.02274150773882866, 0.017647163942456245, 0.016357652842998505, 0.014718174934387207, 0.020238902419805527, 0.030098319053649902, 0.03836438059806824, 0.025297490879893303, 0.039593446999788284, 0.04179812967777252, 0.01849495619535446, 0.043456632643938065, 0.02387693151831627, 0.013411911204457283, 0.04804753512144089, 0.021995291113853455, 0.030744770541787148, 0.05168473348021507, 0.057864848524332047, 0.04216013103723526, 0.05038999021053314, 0.08024893701076508, 0.07608186453580856, 0.02488282509148121, 0.0, 0.0, 0.0, 0.0, 0.0, 0.0, 0.0, 0.0, 0.0], [0.06603525578975677, 0.020660119131207466, 0.021681692451238632, 0.03408760204911232, 0.015279389917850494, 0.018441995605826378, 0.010789589025080204, 0.05595836788415909, 0.03565486893057823, 0.021738862618803978, 0.025664949789643288, 0.03946557268500328, 0.019091861322522163, 0.04260499030351639, 0.045140340924263, 0.012913588434457779, 0.04735578969120979, 0.025561850517988205, 0.035244133323431015, 0.09746363759040833, 0.05611315369606018, 0.035938482731580734, 0.03256699815392494, 0.043019864708185196, 0.04697674885392189, 0.03246127814054489, 0.062089044600725174, 0.0, 0.0, 0.0, 0.0, 0.0, 0.0, 0.0, 0.0], [0.10541098564863205, 0.0169731043279171, 0.020341025665402412, 0.03266655281186104, 0.021851172670722008, 0.031789932399988174, 0.00557120842859149, 0.024194514378905296, 0.0167404655367136, 0.01608256809413433, 0.013484924100339413, 0.022790374234318733, 0.020844897255301476, 0.01981642283499241, 0.007411995902657509, 0.013035089708864689, 0.026982467621564865, 0.010132262483239174, 0.01766771823167801, 0.29726237058639526, 0.02345714159309864, 0.03235582634806633, 0.032245345413684845, 0.019980132579803467, 0.05017193406820297, 0.04827895388007164, 0.03308821842074394, 0.01937241666018963, 0.0, 0.0, 0.0, 0.0, 0.0, 0.0, 0.0], [0.1147821694612503, 0.02845187485218048, 0.030158085748553276, 0.029890699312090874, 0.015577693469822407, 0.04523627832531929, 0.008156667463481426, 0.04677770286798477, 0.020574580878019333, 0.018089191988110542, 0.016638461500406265, 0.024351511150598526, 0.014281017705798149, 0.02287057600915432, 0.024558430537581444, 0.021522242575883865, 0.0277401190251112, 0.012263164855539799, 0.016789689660072327, 0.030601762235164642, 0.03310445323586464, 0.04230615496635437, 0.05013415962457657, 0.0398956798017025, 0.025471439585089684, 0.038356512784957886, 0.148365780711174, 0.04062194004654884, 0.012431958690285683, 0.0, 0.0, 0.0, 0.0, 0.0, 0.0], [0.010402972809970379, 0.003988316282629967, 0.007536560762673616, 0.023714061826467514, 0.0015746995341032743, 0.004556496161967516, 0.0011461444664746523, 0.002020654734224081, 0.08388331532478333, 0.006093548610806465, 0.001224363804794848, 0.08011975884437561, 0.003282928839325905, 0.11485147476196289, 0.020138543099164963, 0.003874024609103799, 0.1035565435886383, 0.016239918768405914, 0.006219519302248955, 0.011158781126141548, 0.12897230684757233, 0.01691609062254429, 0.008813073858618736, 0.02879594825208187, 0.060593508183956146, 0.005618594121187925, 0.01689356006681919, 0.008791645988821983, 0.017022399231791496, 0.20200029015541077, 0.0, 0.0, 0.0, 0.0, 0.0], [0.05472036823630333, 0.015954433009028435, 0.012098252773284912, 0.022833745926618576, 0.01898520067334175, 0.0287838913500309, 0.008076782338321209, 0.00837206281721592, 0.039564043283462524, 0.012315304949879646, 0.009588333778083324, 0.02357129193842411, 0.01064310222864151, 0.04663844406604767, 0.014515903778374195, 0.012394607067108154, 0.027597352862358093, 0.021691443398594856, 0.02018054947257042, 0.01823921501636505, 0.05496657267212868, 0.037117861211299896, 0.024244997650384903, 0.034996047616004944, 0.1494767814874649, 0.029019519686698914, 0.04327641800045967, 0.015866436064243317, 0.04511541500687599, 0.11428384482860565, 0.024871760979294777, 0.0, 0.0, 0.0, 0.0], [0.028266316279768944, 0.008342588320374489, 0.00969315879046917, 0.024003302678465843, 0.012406980618834496, 0.009731610305607319, 0.007254776544868946, 0.011378856375813484, 0.0452534519135952, 0.014661086723208427, 0.00475979782640934, 0.032793078571558, 0.00959976576268673, 0.05662674456834793, 0.02379572205245495, 0.004614099860191345, 0.039821431040763855, 0.02123899757862091, 0.025286557152867317, 0.10159789025783539, 0.0927831307053566, 0.02612387202680111, 0.015091435983777046, 0.034585677087306976, 0.061821918934583664, 0.01340700313448906, 0.016889788210392, 0.03089355118572712, 0.02819487266242504, 0.1103137731552124, 0.04056955501437187, 0.038199227303266525, 0.0, 0.0, 0.0], [0.005920093506574631, 0.002644825726747513, 0.0057548885233700275, 0.02199716866016388, 0.0013081278884783387, 0.005726535804569721, 0.0008704044739715755, 0.0018940430600196123, 0.05295495688915253, 0.004725010134279728, 0.000999945099465549, 0.04342707619071007, 0.0021749830339103937, 0.07363718748092651, 0.017015766352415085, 0.0030869953334331512, 0.057790838181972504, 0.010734478943049908, 0.0034258216619491577, 0.010332697071135044, 0.08509067445993423, 0.012429159134626389, 0.006230231374502182, 0.022221002727746964, 0.06411109864711761, 0.005053484812378883, 0.018152380362153053, 0.0075941504910588264, 0.006786441896110773, 0.16716447472572327, 0.013871799223124981, 0.014755628071725368, 0.25011757016181946, 0.0, 0.0], [0.05958712473511696, 0.014287116006016731, 0.009688672609627247, 0.02847462333738804, 0.02860480546951294, 0.026259340345859528, 0.008819643408060074, 0.022136038169264793, 0.01791021041572094, 0.026397544890642166, 0.017243582755327225, 0.025983816012740135, 0.006316181737929583, 0.020043157041072845, 0.015440613962709904, 0.025940271094441414, 0.030103031545877457, 0.018365345895290375, 0.02313040755689144, 0.026214582845568657, 0.031157253310084343, 0.028986172750592232, 0.028961284086108208, 0.016435235738754272, 0.034800902009010315, 0.037943702191114426, 0.07380678504705429, 0.030772414058446884, 0.028517264872789383, 0.0738709568977356, 0.0245877243578434, 0.035234108567237854, 0.08090807497501373, 0.023072002455592155, 0.0], [0.052589889615774155, 0.008282379247248173, 0.004686589818447828, 0.011556106619536877, 0.002124358434230089, 0.007376659195870161, 0.0025699099060148, 0.005167305935174227, 0.06430477648973465, 0.008688684552907944, 0.004349816590547562, 0.054052066057920456, 0.003567330539226532, 0.08101727068424225, 0.021457022055983543, 0.00414407579228282, 0.06621558964252472, 0.01871693879365921, 0.009488232433795929, 0.006038546096533537, 0.10274297744035721, 0.014565217308700085, 0.009106305427849293, 0.0216576736420393, 0.035247985273599625, 0.004852632991969585, 0.008422160521149635, 0.019589491188526154, 0.011885891668498516, 0.14464659988880157, 0.016607554629445076, 0.0228347759693861, 0.08476627618074417, 0.01512685976922512, 0.05155406519770622]], [[1.0, 0.0, 0.0, 0.0, 0.0, 0.0, 0.0, 0.0, 0.0, 0.0, 0.0, 0.0, 0.0, 0.0, 0.0, 0.0, 0.0, 0.0, 0.0, 0.0, 0.0, 0.0, 0.0, 0.0, 0.0, 0.0, 0.0, 0.0, 0.0, 0.0, 0.0, 0.0, 0.0, 0.0, 0.0], [0.8803902268409729, 0.11960974335670471, 0.0, 0.0, 0.0, 0.0, 0.0, 0.0, 0.0, 0.0, 0.0, 0.0, 0.0, 0.0, 0.0, 0.0, 0.0, 0.0, 0.0, 0.0, 0.0, 0.0, 0.0, 0.0, 0.0, 0.0, 0.0, 0.0, 0.0, 0.0, 0.0, 0.0, 0.0, 0.0, 0.0], [0.800162672996521, 0.14422565698623657, 0.055611640214920044, 0.0, 0.0, 0.0, 0.0, 0.0, 0.0, 0.0, 0.0, 0.0, 0.0, 0.0, 0.0, 0.0, 0.0, 0.0, 0.0, 0.0, 0.0, 0.0, 0.0, 0.0, 0.0, 0.0, 0.0, 0.0, 0.0, 0.0, 0.0, 0.0, 0.0, 0.0, 0.0], [0.6471941471099854, 0.14701780676841736, 0.0793100968003273, 0.12647798657417297, 0.0, 0.0, 0.0, 0.0, 0.0, 0.0, 0.0, 0.0, 0.0, 0.0, 0.0, 0.0, 0.0, 0.0, 0.0, 0.0, 0.0, 0.0, 0.0, 0.0, 0.0, 0.0, 0.0, 0.0, 0.0, 0.0, 0.0, 0.0, 0.0, 0.0, 0.0], [0.6291002035140991, 0.1326994001865387, 0.08307391405105591, 0.10306606441736221, 0.052060455083847046, 0.0, 0.0, 0.0, 0.0, 0.0, 0.0, 0.0, 0.0, 0.0, 0.0, 0.0, 0.0, 0.0, 0.0, 0.0, 0.0, 0.0, 0.0, 0.0, 0.0, 0.0, 0.0, 0.0, 0.0, 0.0, 0.0, 0.0, 0.0, 0.0, 0.0], [0.5631014108657837, 0.12375941127538681, 0.11159723252058029, 0.10842733830213547, 0.08343346416950226, 0.009681185707449913, 0.0, 0.0, 0.0, 0.0, 0.0, 0.0, 0.0, 0.0, 0.0, 0.0, 0.0, 0.0, 0.0, 0.0, 0.0, 0.0, 0.0, 0.0, 0.0, 0.0, 0.0, 0.0, 0.0, 0.0, 0.0, 0.0, 0.0, 0.0, 0.0], [0.4973389506340027, 0.11400076001882553, 0.07851859927177429, 0.10408835113048553, 0.08229988068342209, 0.0872018039226532, 0.036551643162965775, 0.0, 0.0, 0.0, 0.0, 0.0, 0.0, 0.0, 0.0, 0.0, 0.0, 0.0, 0.0, 0.0, 0.0, 0.0, 0.0, 0.0, 0.0, 0.0, 0.0, 0.0, 0.0, 0.0, 0.0, 0.0, 0.0, 0.0, 0.0], [0.4618663191795349, 0.10720601677894592, 0.07680260390043259, 0.09525883942842484, 0.11179576814174652, 0.04683659225702286, 0.0632898211479187, 0.03694410249590874, 0.0, 0.0, 0.0, 0.0, 0.0, 0.0, 0.0, 0.0, 0.0, 0.0, 0.0, 0.0, 0.0, 0.0, 0.0, 0.0, 0.0, 0.0, 0.0, 0.0, 0.0, 0.0, 0.0, 0.0, 0.0, 0.0, 0.0], [0.408801794052124, 0.11223535984754562, 0.061949536204338074, 0.08138209581375122, 0.06888709217309952, 0.047599393874406815, 0.0577956847846508, 0.06300586462020874, 0.09834323078393936, 0.0, 0.0, 0.0, 0.0, 0.0, 0.0, 0.0, 0.0, 0.0, 0.0, 0.0, 0.0, 0.0, 0.0, 0.0, 0.0, 0.0, 0.0, 0.0, 0.0, 0.0, 0.0, 0.0, 0.0, 0.0, 0.0], [0.337785542011261, 0.07768953591585159, 0.061640240252017975, 0.08030419796705246, 0.09243477135896683, 0.12569795548915863, 0.043102774769067764, 0.08006508648395538, 0.08753130584955215, 0.013748610392212868, 0.0, 0.0, 0.0, 0.0, 0.0, 0.0, 0.0, 0.0, 0.0, 0.0, 0.0, 0.0, 0.0, 0.0, 0.0, 0.0, 0.0, 0.0, 0.0, 0.0, 0.0, 0.0, 0.0, 0.0, 0.0], [0.4084457457065582, 0.07972614467144012, 0.05943280830979347, 0.07098965346813202, 0.06258384138345718, 0.07298710197210312, 0.05290915444493294, 0.06663116067647934, 0.08486583828926086, 0.03078523650765419, 0.010643371380865574, 0.0, 0.0, 0.0, 0.0, 0.0, 0.0, 0.0, 0.0, 0.0, 0.0, 0.0, 0.0, 0.0, 0.0, 0.0, 0.0, 0.0, 0.0, 0.0, 0.0, 0.0, 0.0, 0.0, 0.0], [0.328408807516098, 0.0812605693936348, 0.0522211492061615, 0.0667019933462143, 0.06221219152212143, 0.046883292496204376, 0.047482263296842575, 0.04943712800741196, 0.08644374459981918, 0.051085107028484344, 0.04660408943891525, 0.08125966042280197, 0.0, 0.0, 0.0, 0.0, 0.0, 0.0, 0.0, 0.0, 0.0, 0.0, 0.0, 0.0, 0.0, 0.0, 0.0, 0.0, 0.0, 0.0, 0.0, 0.0, 0.0, 0.0, 0.0], [0.28456372022628784, 0.07334227114915848, 0.05956625938415527, 0.05995684117078781, 0.06261259317398071, 0.04492252320051193, 0.0535489059984684, 0.055395204573869705, 0.0760505273938179, 0.05439150705933571, 0.05521009862422943, 0.0848141759634018, 0.03562537953257561, 0.0, 0.0, 0.0, 0.0, 0.0, 0.0, 0.0, 0.0, 0.0, 0.0, 0.0, 0.0, 0.0, 0.0, 0.0, 0.0, 0.0, 0.0, 0.0, 0.0, 0.0, 0.0], [0.2986924350261688, 0.08053489774465561, 0.04630003869533539, 0.05841611325740814, 0.05245250090956688, 0.03589676320552826, 0.043130047619342804, 0.04816412180662155, 0.07179587334394455, 0.035882286727428436, 0.03498635068535805, 0.0663861334323883, 0.0474989116191864, 0.0798635482788086, 0.0, 0.0, 0.0, 0.0, 0.0, 0.0, 0.0, 0.0, 0.0, 0.0, 0.0, 0.0, 0.0, 0.0, 0.0, 0.0, 0.0, 0.0, 0.0, 0.0, 0.0], [0.26184865832328796, 0.06895224750041962, 0.046620942652225494, 0.05860461667180061, 0.046928782016038895, 0.05568014085292816, 0.04915206879377365, 0.04117777943611145, 0.07490759342908859, 0.03198425844311714, 0.03257223218679428, 0.07257073372602463, 0.037398796528577805, 0.08542974293231964, 0.036171410232782364, 0.0, 0.0, 0.0, 0.0, 0.0, 0.0, 0.0, 0.0, 0.0, 0.0, 0.0, 0.0, 0.0, 0.0, 0.0, 0.0, 0.0, 0.0, 0.0, 0.0], [0.2941747307777405, 0.05360918119549751, 0.03860875219106674, 0.04952673986554146, 0.04060918092727661, 0.04149327427148819, 0.0297162476927042, 0.045369818806648254, 0.06024930253624916, 0.04159967228770256, 0.06637392938137054, 0.05982465669512749, 0.04050291329622269, 0.06734267622232437, 0.060957372188568115, 0.010041496716439724, 0.0, 0.0, 0.0, 0.0, 0.0, 0.0, 0.0, 0.0, 0.0, 0.0, 0.0, 0.0, 0.0, 0.0, 0.0, 0.0, 0.0, 0.0, 0.0], [0.24078042805194855, 0.057315025478601456, 0.038129787892103195, 0.04762374982237816, 0.04672614485025406, 0.035154763609170914, 0.03462180867791176, 0.0374724306166172, 0.06234780699014664, 0.03954546898603439, 0.03574429824948311, 0.05874500051140785, 0.0340784452855587, 0.07071567326784134, 0.05439115688204765, 0.03945150598883629, 0.06715652346611023, 0.0, 0.0, 0.0, 0.0, 0.0, 0.0, 0.0, 0.0, 0.0, 0.0, 0.0, 0.0, 0.0, 0.0, 0.0, 0.0, 0.0, 0.0], [0.19008122384548187, 0.05546913668513298, 0.03824986144900322, 0.044684696942567825, 0.0434919036924839, 0.03729136660695076, 0.03500029817223549, 0.03413337841629982, 0.05614840239286423, 0.029018186032772064, 0.026478586718440056, 0.06265049427747726, 0.035022035241127014, 0.06568854302167892, 0.057141970843076706, 0.04781633988022804, 0.07356443256139755, 0.06806917488574982, 0.0, 0.0, 0.0, 0.0, 0.0, 0.0, 0.0, 0.0, 0.0, 0.0, 0.0, 0.0, 0.0, 0.0, 0.0, 0.0, 0.0], [0.23406487703323364, 0.047656793147325516, 0.03626636788249016, 0.04350152611732483, 0.044823307543992996, 0.0309261754155159, 0.024145551025867462, 0.03047105111181736, 0.05100265517830849, 0.0385214164853096, 0.04128359630703926, 0.05289096385240555, 0.027892813086509705, 0.057388786226511, 0.060669999569654465, 0.04387105628848076, 0.05933021754026413, 0.05117017775774002, 0.024122707545757294, 0.0, 0.0, 0.0, 0.0, 0.0, 0.0, 0.0, 0.0, 0.0, 0.0, 0.0, 0.0, 0.0, 0.0, 0.0, 0.0], [0.31211698055267334, 0.04305700212717056, 0.030739204958081245, 0.03990122303366661, 0.040739163756370544, 0.033973559737205505, 0.013991206884384155, 0.0325017049908638, 0.042142923921346664, 0.03136738762259483, 0.05722319334745407, 0.0420997217297554, 0.03285329043865204, 0.0466272234916687, 0.04874774441123009, 0.021730609238147736, 0.0472237728536129, 0.029857587069272995, 0.04530387744307518, 0.007802659645676613, 0.0, 0.0, 0.0, 0.0, 0.0, 0.0, 0.0, 0.0, 0.0, 0.0, 0.0, 0.0, 0.0, 0.0, 0.0], [0.1958305835723877, 0.05227475240826607, 0.03251207247376442, 0.03705889359116554, 0.043354280292987823, 0.027641311287879944, 0.02745206467807293, 0.03308156132698059, 0.045324407517910004, 0.02540675923228264, 0.02478163316845894, 0.03888050839304924, 0.030247308313846588, 0.05089511349797249, 0.041287779808044434, 0.03749212995171547, 0.04425322636961937, 0.044287215918302536, 0.04519396275281906, 0.05072398483753204, 0.07202056050300598, 0.0, 0.0, 0.0, 0.0, 0.0, 0.0, 0.0, 0.0, 0.0, 0.0, 0.0, 0.0, 0.0, 0.0], [0.16079992055892944, 0.04841073602437973, 0.03302096948027611, 0.03441707789897919, 0.03531979024410248, 0.02389703318476677, 0.02606348507106304, 0.02863972634077072, 0.04453874006867409, 0.024949492886662483, 0.029716160148382187, 0.04012999311089516, 0.024859078228473663, 0.05134393274784088, 0.053735386580228806, 0.04527632147073746, 0.04680594801902771, 0.034605976194143295, 0.04245501384139061, 0.054854538291692734, 0.06976335495710373, 0.04639733210206032, 0.0, 0.0, 0.0, 0.0, 0.0, 0.0, 0.0, 0.0, 0.0, 0.0, 0.0, 0.0, 0.0], [0.18932509422302246, 0.039103634655475616, 0.024852007627487183, 0.03345049172639847, 0.0386015847325325, 0.024109292775392532, 0.020502109080553055, 0.02430175058543682, 0.03976472467184067, 0.034181687980890274, 0.034847863018512726, 0.03619781509041786, 0.02366894856095314, 0.0450248159468174, 0.03498943895101547, 0.02682553417980671, 0.041537921875715256, 0.037366610020399094, 0.04202280193567276, 0.055910415947437286, 0.06404418498277664, 0.05618630722165108, 0.03318497911095619, 0.0, 0.0, 0.0, 0.0, 0.0, 0.0, 0.0, 0.0, 0.0, 0.0, 0.0, 0.0], [0.16596604883670807, 0.033881112933158875, 0.02065751701593399, 0.03212727606296539, 0.037472523748874664, 0.02651948854327202, 0.01988290436565876, 0.02560962736606598, 0.04091743752360344, 0.02261033095419407, 0.019720884039998055, 0.03376534581184387, 0.02350381389260292, 0.04644524306058884, 0.035414308309555054, 0.02736842632293701, 0.0387694276869297, 0.03146073594689369, 0.04639926925301552, 0.04867472127079964, 0.06382153183221817, 0.06529748439788818, 0.04629907011985779, 0.04741538316011429, 0.0, 0.0, 0.0, 0.0, 0.0, 0.0, 0.0, 0.0, 0.0, 0.0, 0.0], [0.15514090657234192, 0.03631480038166046, 0.022236887365579605, 0.028097422793507576, 0.040156640112400055, 0.024055983871221542, 0.017400912940502167, 0.0214985478669405, 0.036750685423612595, 0.017986753955483437, 0.01970391534268856, 0.02832779660820961, 0.02260460890829563, 0.04168052226305008, 0.030497955158352852, 0.02558559738099575, 0.03248758986592293, 0.027014946565032005, 0.04112286493182182, 0.04738449677824974, 0.063823401927948, 0.05655010789632797, 0.04119999334216118, 0.06263258308172226, 0.05974406749010086, 0.0, 0.0, 0.0, 0.0, 0.0, 0.0, 0.0, 0.0, 0.0, 0.0], [0.12975940108299255, 0.027339711785316467, 0.029957516118884087, 0.022702831774950027, 0.03781532496213913, 0.03144636005163193, 0.01713675446808338, 0.046564918011426926, 0.030618302524089813, 0.018781673163175583, 0.025273190811276436, 0.028721965849399567, 0.019090941175818443, 0.034810010343790054, 0.026170222088694572, 0.026817740872502327, 0.032960399985313416, 0.024960245937108994, 0.05474759265780449, 0.05780106037855148, 0.05617622658610344, 0.03305984288454056, 0.05767423287034035, 0.04667418450117111, 0.06228700280189514, 0.020652364939451218, 0.0, 0.0, 0.0, 0.0, 0.0, 0.0, 0.0, 0.0, 0.0], [0.18126998841762543, 0.02792493812739849, 0.028055911883711815, 0.029457401484251022, 0.02853274717926979, 0.020307771861553192, 0.019550150260329247, 0.03153110295534134, 0.029232848435640335, 0.021110523492097855, 0.01458084024488926, 0.02250531129539013, 0.016256751492619514, 0.031508829444646835, 0.024519702419638634, 0.036590538918972015, 0.025034507736563683, 0.020030668005347252, 0.04726612567901611, 0.12142349779605865, 0.04189625754952431, 0.03646089881658554, 0.03734689950942993, 0.03705745190382004, 0.03521091118454933, 0.024784501641988754, 0.010552845895290375, 0.0, 0.0, 0.0, 0.0, 0.0, 0.0, 0.0, 0.0], [0.1419324278831482, 0.026873422786593437, 0.02339441142976284, 0.02419889159500599, 0.034410905092954636, 0.03176819905638695, 0.014282825402915478, 0.027884989976882935, 0.027823271229863167, 0.02026795595884323, 0.020075347274541855, 0.02603542059659958, 0.015271059237420559, 0.03118356503546238, 0.02134445309638977, 0.030780883505940437, 0.029686490073800087, 0.024966172873973846, 0.032906223088502884, 0.08126566559076309, 0.047380201518535614, 0.03950498625636101, 0.0381060428917408, 0.03920022398233414, 0.047230422496795654, 0.03223777562379837, 0.04768497124314308, 0.022302793338894844, 0.0, 0.0, 0.0, 0.0, 0.0, 0.0, 0.0], [0.19361068308353424, 0.028910446912050247, 0.01741071790456772, 0.02499196119606495, 0.020412275567650795, 0.03692351654171944, 0.018564045429229736, 0.022491103038191795, 0.026469893753528595, 0.019851718097925186, 0.01670690067112446, 0.02012958936393261, 0.017302941530942917, 0.02887752093374729, 0.01937028393149376, 0.021512912586331367, 0.022604651749134064, 0.019465504214167595, 0.03218545392155647, 0.09415606409311295, 0.03964082524180412, 0.04692869633436203, 0.03296549245715141, 0.03432747349143028, 0.03549889475107193, 0.04152423515915871, 0.03800846263766289, 0.024193787947297096, 0.004963916260749102, 0.0, 0.0, 0.0, 0.0, 0.0, 0.0], [0.13062259554862976, 0.029238132759928703, 0.020562469959259033, 0.024924930185079575, 0.02643335796892643, 0.02088005840778351, 0.016895074397325516, 0.020366203039884567, 0.03079468011856079, 0.016811523586511612, 0.014352640137076378, 0.026399679481983185, 0.017968155443668365, 0.03419143706560135, 0.025793636217713356, 0.020880062133073807, 0.029983336105942726, 0.022576821967959404, 0.03198402002453804, 0.0387752391397953, 0.04729927331209183, 0.039518095552921295, 0.03569554165005684, 0.04647783562541008, 0.045603714883327484, 0.027694014832377434, 0.028376275673508644, 0.02950698882341385, 0.03388816490769386, 0.06550602614879608, 0.0, 0.0, 0.0, 0.0, 0.0], [0.10399015247821808, 0.021966123953461647, 0.016451172530651093, 0.022787995636463165, 0.02435714192688465, 0.01997542753815651, 0.013678611256182194, 0.020524609833955765, 0.026416650041937828, 0.01582499034702778, 0.01812475360929966, 0.02293805591762066, 0.015249830670654774, 0.029951756820082664, 0.019568638876080513, 0.017790066078305244, 0.02633139118552208, 0.02006237395107746, 0.030405661091208458, 0.05837804451584816, 0.04746948182582855, 0.03560006618499756, 0.033618565648794174, 0.039051592350006104, 0.0462346114218235, 0.034158360213041306, 0.05063631758093834, 0.03304954990744591, 0.04132760688662529, 0.06007478013634682, 0.03400558605790138, 0.0, 0.0, 0.0, 0.0], [0.10689455270767212, 0.023425230756402016, 0.018311113119125366, 0.022276202216744423, 0.01998625323176384, 0.018345670774579048, 0.01589350216090679, 0.019802743569016457, 0.02582934871315956, 0.0160794910043478, 0.016656847670674324, 0.02581821009516716, 0.012892833910882473, 0.029111431911587715, 0.020739194005727768, 0.01762152463197708, 0.02965444326400757, 0.024281151592731476, 0.0280458927154541, 0.05205395445227623, 0.04263104870915413, 0.032518111169338226, 0.037380319088697433, 0.03843436390161514, 0.03982121869921684, 0.02629014663398266, 0.035206388682127, 0.03138630837202072, 0.032823435962200165, 0.061947017908096313, 0.037625428289175034, 0.040216583758592606, 0.0, 0.0, 0.0], [0.12229020148515701, 0.02516898512840271, 0.01671406626701355, 0.02203325740993023, 0.023000730201601982, 0.015408724546432495, 0.014958009123802185, 0.018676770851016045, 0.026191167533397675, 0.012370305135846138, 0.010715775191783905, 0.021631909534335136, 0.013984639197587967, 0.028899217024445534, 0.023200983181595802, 0.018216604366898537, 0.02428123541176319, 0.018235327675938606, 0.02165396697819233, 0.03633745014667511, 0.03855650871992111, 0.03691944107413292, 0.03379227593541145, 0.042588263750076294, 0.03839156776666641, 0.023295771330595016, 0.03080526553094387, 0.024493301287293434, 0.03010578267276287, 0.056526098400354385, 0.03756684437394142, 0.041599173098802567, 0.05139036476612091, 0.0, 0.0], [0.13871710002422333, 0.021967237815260887, 0.016682986170053482, 0.02155136503279209, 0.026049219071865082, 0.015379129908978939, 0.01252230815589428, 0.020025217905640602, 0.02187984809279442, 0.014553073793649673, 0.015628252178430557, 0.018288588151335716, 0.012421748600900173, 0.02363341487944126, 0.01722067967057228, 0.020091678947210312, 0.02015187218785286, 0.01853018067777157, 0.024212490767240524, 0.07234082370996475, 0.03423937037587166, 0.030147060751914978, 0.031458836048841476, 0.030202945694327354, 0.030948743224143982, 0.02483321540057659, 0.030743278563022614, 0.02263658121228218, 0.04456688463687897, 0.041731372475624084, 0.028924647718667984, 0.029865330085158348, 0.04288144037127495, 0.02497302182018757, 0.0], [0.12327978014945984, 0.026707451790571213, 0.014834705740213394, 0.018021512776613235, 0.017764991149306297, 0.013351652771234512, 0.014073796570301056, 0.018723031505942345, 0.023980090394616127, 0.021256309002637863, 0.017004813998937607, 0.020616671070456505, 0.012905537150800228, 0.026097450405359268, 0.02155427075922489, 0.015845783054828644, 0.022780923172831535, 0.023595375940203667, 0.01986173912882805, 0.021922383457422256, 0.035971153527498245, 0.033696822822093964, 0.021171675994992256, 0.035360533744096756, 0.03450924530625343, 0.021897651255130768, 0.03512426093220711, 0.024112917482852936, 0.03299051150679588, 0.04677634686231613, 0.03042445331811905, 0.032703179866075516, 0.037907253950834274, 0.042624928057193756, 0.04055078327655792]], [[1.0, 0.0, 0.0, 0.0, 0.0, 0.0, 0.0, 0.0, 0.0, 0.0, 0.0, 0.0, 0.0, 0.0, 0.0, 0.0, 0.0, 0.0, 0.0, 0.0, 0.0, 0.0, 0.0, 0.0, 0.0, 0.0, 0.0, 0.0, 0.0, 0.0, 0.0, 0.0, 0.0, 0.0, 0.0], [0.6533873081207275, 0.34661269187927246, 0.0, 0.0, 0.0, 0.0, 0.0, 0.0, 0.0, 0.0, 0.0, 0.0, 0.0, 0.0, 0.0, 0.0, 0.0, 0.0, 0.0, 0.0, 0.0, 0.0, 0.0, 0.0, 0.0, 0.0, 0.0, 0.0, 0.0, 0.0, 0.0, 0.0, 0.0, 0.0, 0.0], [0.4451117515563965, 0.33376824855804443, 0.22111999988555908, 0.0, 0.0, 0.0, 0.0, 0.0, 0.0, 0.0, 0.0, 0.0, 0.0, 0.0, 0.0, 0.0, 0.0, 0.0, 0.0, 0.0, 0.0, 0.0, 0.0, 0.0, 0.0, 0.0, 0.0, 0.0, 0.0, 0.0, 0.0, 0.0, 0.0, 0.0, 0.0], [0.5459808707237244, 0.15291070938110352, 0.0764545351266861, 0.22465385496616364, 0.0, 0.0, 0.0, 0.0, 0.0, 0.0, 0.0, 0.0, 0.0, 0.0, 0.0, 0.0, 0.0, 0.0, 0.0, 0.0, 0.0, 0.0, 0.0, 0.0, 0.0, 0.0, 0.0, 0.0, 0.0, 0.0, 0.0, 0.0, 0.0, 0.0, 0.0], [0.42720285058021545, 0.1412525624036789, 0.06143973022699356, 0.11979994177818298, 0.2503049373626709, 0.0, 0.0, 0.0, 0.0, 0.0, 0.0, 0.0, 0.0, 0.0, 0.0, 0.0, 0.0, 0.0, 0.0, 0.0, 0.0, 0.0, 0.0, 0.0, 0.0, 0.0, 0.0, 0.0, 0.0, 0.0, 0.0, 0.0, 0.0, 0.0, 0.0], [0.4097931385040283, 0.11732905358076096, 0.06548825651407242, 0.1236746534705162, 0.042223721742630005, 0.24149122834205627, 0.0, 0.0, 0.0, 0.0, 0.0, 0.0, 0.0, 0.0, 0.0, 0.0, 0.0, 0.0, 0.0, 0.0, 0.0, 0.0, 0.0, 0.0, 0.0, 0.0, 0.0, 0.0, 0.0, 0.0, 0.0, 0.0, 0.0, 0.0, 0.0], [0.3643514811992645, 0.15547122061252594, 0.08527875691652298, 0.088326096534729, 0.049937326461076736, 0.034096237272024155, 0.22253884375095367, 0.0, 0.0, 0.0, 0.0, 0.0, 0.0, 0.0, 0.0, 0.0, 0.0, 0.0, 0.0, 0.0, 0.0, 0.0, 0.0, 0.0, 0.0, 0.0, 0.0, 0.0, 0.0, 0.0, 0.0, 0.0, 0.0, 0.0, 0.0], [0.35626858472824097, 0.09063339233398438, 0.05006815120577812, 0.10755760222673416, 0.06895480304956436, 0.04669608175754547, 0.04097529873251915, 0.238846093416214, 0.0, 0.0, 0.0, 0.0, 0.0, 0.0, 0.0, 0.0, 0.0, 0.0, 0.0, 0.0, 0.0, 0.0, 0.0, 0.0, 0.0, 0.0, 0.0, 0.0, 0.0, 0.0, 0.0, 0.0, 0.0, 0.0, 0.0], [0.3461388945579529, 0.14562256634235382, 0.09470635652542114, 0.10499643534421921, 0.06400176882743835, 0.04047239571809769, 0.03757920861244202, 0.04448217153549194, 0.12200023233890533, 0.0, 0.0, 0.0, 0.0, 0.0, 0.0, 0.0, 0.0, 0.0, 0.0, 0.0, 0.0, 0.0, 0.0, 0.0, 0.0, 0.0, 0.0, 0.0, 0.0, 0.0, 0.0, 0.0, 0.0, 0.0, 0.0], [0.20510227978229523, 0.04824316129088402, 0.05157081410288811, 0.09953971207141876, 0.06673122942447662, 0.04558688402175903, 0.03648392856121063, 0.08169861137866974, 0.08583586663007736, 0.2792075276374817, 0.0, 0.0, 0.0, 0.0, 0.0, 0.0, 0.0, 0.0, 0.0, 0.0, 0.0, 0.0, 0.0, 0.0, 0.0, 0.0, 0.0, 0.0, 0.0, 0.0, 0.0, 0.0, 0.0, 0.0, 0.0], [0.2301696091890335, 0.07576315850019455, 0.06243027001619339, 0.061968378722667694, 0.050248246639966965, 0.03796260803937912, 0.05770514905452728, 0.05617325380444527, 0.06585752964019775, 0.041665587574243546, 0.2600562572479248, 0.0, 0.0, 0.0, 0.0, 0.0, 0.0, 0.0, 0.0, 0.0, 0.0, 0.0, 0.0, 0.0, 0.0, 0.0, 0.0, 0.0, 0.0, 0.0, 0.0, 0.0, 0.0, 0.0, 0.0], [0.2668822705745697, 0.0996926873922348, 0.06880499422550201, 0.10110108554363251, 0.03625767305493355, 0.0487603023648262, 0.031795434653759, 0.03426746279001236, 0.09192278981208801, 0.04406016692519188, 0.024279989302158356, 0.1521751582622528, 0.0, 0.0, 0.0, 0.0, 0.0, 0.0, 0.0, 0.0, 0.0, 0.0, 0.0, 0.0, 0.0, 0.0, 0.0, 0.0, 0.0, 0.0, 0.0, 0.0, 0.0, 0.0, 0.0], [0.24808602035045624, 0.05943756550550461, 0.03645307943224907, 0.09643886238336563, 0.04665256291627884, 0.043580614030361176, 0.026409661397337914, 0.03871847689151764, 0.06937098503112793, 0.035532157868146896, 0.02358422242105007, 0.05824919044971466, 0.21748659014701843, 0.0, 0.0, 0.0, 0.0, 0.0, 0.0, 0.0, 0.0, 0.0, 0.0, 0.0, 0.0, 0.0, 0.0, 0.0, 0.0, 0.0, 0.0, 0.0, 0.0, 0.0, 0.0], [0.22227588295936584, 0.08784301578998566, 0.06428328156471252, 0.07245951890945435, 0.05153009295463562, 0.033541664481163025, 0.031511496752500534, 0.04395980387926102, 0.10531803965568542, 0.03629285469651222, 0.03349635750055313, 0.07923728227615356, 0.034966111183166504, 0.10328469425439835, 0.0, 0.0, 0.0, 0.0, 0.0, 0.0, 0.0, 0.0, 0.0, 0.0, 0.0, 0.0, 0.0, 0.0, 0.0, 0.0, 0.0, 0.0, 0.0, 0.0, 0.0], [0.2625540494918823, 0.07451014220714569, 0.04962189495563507, 0.0651395246386528, 0.0221824012696743, 0.03923412412405014, 0.02143390104174614, 0.028292488306760788, 0.06496230512857437, 0.02216963842511177, 0.018070967867970467, 0.05796552449464798, 0.01818801835179329, 0.06176505982875824, 0.1939098984003067, 0.0, 0.0, 0.0, 0.0, 0.0, 0.0, 0.0, 0.0, 0.0, 0.0, 0.0, 0.0, 0.0, 0.0, 0.0, 0.0, 0.0, 0.0, 0.0, 0.0], [0.21454612910747528, 0.052079543471336365, 0.04338601976633072, 0.051086749881505966, 0.02305704541504383, 0.03987295925617218, 0.021457551047205925, 0.043103162199258804, 0.057124000042676926, 0.04732411354780197, 0.020076347514986992, 0.04863850399851799, 0.03173767775297165, 0.05389070883393288, 0.03922811895608902, 0.21339137852191925, 0.0, 0.0, 0.0, 0.0, 0.0, 0.0, 0.0, 0.0, 0.0, 0.0, 0.0, 0.0, 0.0, 0.0, 0.0, 0.0, 0.0, 0.0, 0.0], [0.1693464070558548, 0.0575847364962101, 0.04318230599164963, 0.06501620262861252, 0.025769710540771484, 0.035840604454278946, 0.02340392768383026, 0.028633078560233116, 0.06884393095970154, 0.03735613077878952, 0.02107931859791279, 0.12265525013208389, 0.02518490143120289, 0.07096561044454575, 0.049235545098781586, 0.02845790795981884, 0.12744438648223877, 0.0, 0.0, 0.0, 0.0, 0.0, 0.0, 0.0, 0.0, 0.0, 0.0, 0.0, 0.0, 0.0, 0.0, 0.0, 0.0, 0.0, 0.0], [0.12944908440113068, 0.04351518303155899, 0.028707355260849, 0.045572564005851746, 0.02128218673169613, 0.019885344430804253, 0.028857694938778877, 0.03478112816810608, 0.055325936526060104, 0.030885061249136925, 0.02108754962682724, 0.06504064053297043, 0.040431588888168335, 0.05797604098916054, 0.04136981442570686, 0.028544064611196518, 0.06784920394420624, 0.23943956196308136, 0.0, 0.0, 0.0, 0.0, 0.0, 0.0, 0.0, 0.0, 0.0, 0.0, 0.0, 0.0, 0.0, 0.0, 0.0, 0.0, 0.0], [0.14163610339164734, 0.035789649933576584, 0.028365224599838257, 0.045387569814920425, 0.046378400176763535, 0.039788708090782166, 0.014343786984682083, 0.04959797486662865, 0.04732619598507881, 0.03078245185315609, 0.018412165343761444, 0.04871036857366562, 0.023401634767651558, 0.04745563864707947, 0.037512097507715225, 0.023782702162861824, 0.04894063621759415, 0.03379067778587341, 0.2385980188846588, 0.0, 0.0, 0.0, 0.0, 0.0, 0.0, 0.0, 0.0, 0.0, 0.0, 0.0, 0.0, 0.0, 0.0, 0.0, 0.0], [0.13350322842597961, 0.03222055733203888, 0.02058890089392662, 0.03780217468738556, 0.04108011722564697, 0.03671092540025711, 0.02595440112054348, 0.04136638343334198, 0.0432656966149807, 0.03009646385908127, 0.02681291103363037, 0.04010694473981857, 0.024385903030633926, 0.04430919513106346, 0.033737413585186005, 0.020710930228233337, 0.04079743102192879, 0.032650165259838104, 0.03506242483854294, 0.25883781909942627, 0.0, 0.0, 0.0, 0.0, 0.0, 0.0, 0.0, 0.0, 0.0, 0.0, 0.0, 0.0, 0.0, 0.0, 0.0], [0.11974352598190308, 0.03914883732795715, 0.028956569731235504, 0.03342708200216293, 0.03769592195749283, 0.02054389752447605, 0.017558956518769264, 0.0326584093272686, 0.06372418254613876, 0.03310193121433258, 0.02986794151365757, 0.053869184106588364, 0.022512979805469513, 0.07236673682928085, 0.04143425449728966, 0.03790142014622688, 0.06002622842788696, 0.045860208570957184, 0.05091095715761185, 0.031955886632204056, 0.1267348974943161, 0.0, 0.0, 0.0, 0.0, 0.0, 0.0, 0.0, 0.0, 0.0, 0.0, 0.0, 0.0, 0.0, 0.0], [0.11878618597984314, 0.039572034031152725, 0.023222969844937325, 0.053640805184841156, 0.03261677920818329, 0.01737094856798649, 0.01166390161961317, 0.016273818910121918, 0.05014301836490631, 0.013260258361697197, 0.010486899875104427, 0.038132086396217346, 0.04193667694926262, 0.05336223915219307, 0.03097999282181263, 0.019617723301053047, 0.0402415506541729, 0.032441604882478714, 0.02054012380540371, 0.02684551477432251, 0.05771109089255333, 0.2511536777019501, 0.0, 0.0, 0.0, 0.0, 0.0, 0.0, 0.0, 0.0, 0.0, 0.0, 0.0, 0.0, 0.0], [0.10596500337123871, 0.03639822453260422, 0.023730656132102013, 0.027703464031219482, 0.029520340263843536, 0.016958512365818024, 0.009277223609387875, 0.019281184300780296, 0.04353449493646622, 0.025435728952288628, 0.01544105727225542, 0.0416172556579113, 0.018472323194146156, 0.04617343842983246, 0.026975220069289207, 0.016877293586730957, 0.0436592660844326, 0.020190222188830376, 0.01864578388631344, 0.016359716653823853, 0.057034820318222046, 0.06433959305286407, 0.27640920877456665, 0.0, 0.0, 0.0, 0.0, 0.0, 0.0, 0.0, 0.0, 0.0, 0.0, 0.0, 0.0], [0.08669395744800568, 0.14005151391029358, 0.054043419659137726, 0.026910433545708656, 0.026933513581752777, 0.016936616972088814, 0.01752723753452301, 0.011132634244859219, 0.033167168498039246, 0.009116588160395622, 0.014021693728864193, 0.028125261887907982, 0.012107602320611477, 0.03627435863018036, 0.030991656705737114, 0.015099073760211468, 0.030221451073884964, 0.02081548608839512, 0.018955033272504807, 0.021182598546147346, 0.043649885803461075, 0.04377347230911255, 0.025040630251169205, 0.23722875118255615, 0.0, 0.0, 0.0, 0.0, 0.0, 0.0, 0.0, 0.0, 0.0, 0.0, 0.0], [0.10505460947751999, 0.02472284622490406, 0.023438595235347748, 0.02425645850598812, 0.021477701142430305, 0.014111104421317577, 0.012018012814223766, 0.015707306563854218, 0.04219583794474602, 0.016803376376628876, 0.011159353889524937, 0.03127181902527809, 0.020320698618888855, 0.047023359686136246, 0.039886780083179474, 0.02585337869822979, 0.03450959920883179, 0.024522604420781136, 0.017594216391444206, 0.021597156301140785, 0.06303170323371887, 0.050369858741760254, 0.026549139991402626, 0.04091529920697212, 0.24560919404029846, 0.0, 0.0, 0.0, 0.0, 0.0, 0.0, 0.0, 0.0, 0.0, 0.0], [0.07146887481212616, 0.015683097764849663, 0.019199568778276443, 0.027655113488435745, 0.025888735428452492, 0.011495739221572876, 0.013834543526172638, 0.02500624768435955, 0.032857514917850494, 0.04069041833281517, 0.01940706931054592, 0.03628277778625488, 0.026671351864933968, 0.03698844835162163, 0.025391357019543648, 0.012203284539282322, 0.04081624373793602, 0.022441422566771507, 0.018680064007639885, 0.03714069724082947, 0.052913516759872437, 0.033748988062143326, 0.03600706532597542, 0.027396054938435555, 0.04157792404294014, 0.24855391681194305, 0.0, 0.0, 0.0, 0.0, 0.0, 0.0, 0.0, 0.0, 0.0], [0.09520065039396286, 0.023399099707603455, 0.016249947249889374, 0.03728702291846275, 0.027069469913840294, 0.02442619763314724, 0.016916710883378983, 0.02051924541592598, 0.03561446815729141, 0.01724679209291935, 0.01696517877280712, 0.030670614913105965, 0.01476180087774992, 0.037838954478502274, 0.0255902037024498, 0.013281548395752907, 0.03275727108120918, 0.01698147878050804, 0.012912829406559467, 0.040966764092445374, 0.04452374204993248, 0.03288854658603668, 0.021862005814909935, 0.02890506386756897, 0.025222206488251686, 0.015681952238082886, 0.2742602825164795, 0.0, 0.0, 0.0, 0.0, 0.0, 0.0, 0.0, 0.0], [0.07106206566095352, 0.022234495729207993, 0.01544252596795559, 0.02880682982504368, 0.02491171471774578, 0.014096672646701336, 0.010925306007266045, 0.022356446832418442, 0.028251029551029205, 0.025925250723958015, 0.012314552441239357, 0.036213599145412445, 0.0176627766340971, 0.031407058238983154, 0.01859503984451294, 0.018171407282352448, 0.04006665199995041, 0.022728290408849716, 0.025000523775815964, 0.040149640291929245, 0.04249803349375725, 0.02628159336745739, 0.023634910583496094, 0.03034823201596737, 0.028446577489376068, 0.04931707680225372, 0.04533270001411438, 0.22781892120838165, 0.0, 0.0, 0.0, 0.0, 0.0, 0.0, 0.0], [0.11998689919710159, 0.03201313689351082, 0.020363764837384224, 0.03192231431603432, 0.020111484453082085, 0.017741894349455833, 0.014963150024414062, 0.014099689200520515, 0.0323602668941021, 0.012826556339859962, 0.01920422725379467, 0.024741899222135544, 0.014775939285755157, 0.03365084528923035, 0.032850779592990875, 0.015633024275302887, 0.026330983266234398, 0.009946918115019798, 0.010015268810093403, 0.023254679515957832, 0.03898429125547409, 0.03491940721869469, 0.011989153921604156, 0.03053087182343006, 0.023813730105757713, 0.0189790241420269, 0.06846079975366592, 0.019141538068652153, 0.22638750076293945, 0.0, 0.0, 0.0, 0.0, 0.0, 0.0], [0.0711139589548111, 0.023045018315315247, 0.017407840117812157, 0.025577740743756294, 0.018817275762557983, 0.014406664296984673, 0.011364503763616085, 0.019742924720048904, 0.0378037691116333, 0.01749837026000023, 0.012214532122015953, 0.034711796790361404, 0.016245102509856224, 0.044948264956474304, 0.03146103769540787, 0.017976265400648117, 0.04077500104904175, 0.026232004165649414, 0.02910453826189041, 0.032863155007362366, 0.06312329322099686, 0.03996739163994789, 0.03193743899464607, 0.050057608634233475, 0.05003983899950981, 0.02629847452044487, 0.040675755590200424, 0.03425348922610283, 0.033614419400691986, 0.0867224931716919, 0.0, 0.0, 0.0, 0.0, 0.0], [0.06342679262161255, 0.01892857439815998, 0.015915198251605034, 0.022974470630288124, 0.01581357792019844, 0.011996149085462093, 0.006959729827940464, 0.010440586134791374, 0.027604442089796066, 0.01420377567410469, 0.011755004525184631, 0.02697419933974743, 0.015696220099925995, 0.03244095668196678, 0.02146400883793831, 0.01630021259188652, 0.0315910242497921, 0.018295634537935257, 0.024074891582131386, 0.018299635499715805, 0.04905860871076584, 0.03294461593031883, 0.03169502690434456, 0.04070066660642624, 0.05526785925030708, 0.03228399530053139, 0.01833721064031124, 0.020621933043003082, 0.020615678280591965, 0.06142154708504677, 0.21189774572849274, 0.0, 0.0, 0.0, 0.0], [0.05903123319149017, 0.011650343425571918, 0.011906319297850132, 0.020305125042796135, 0.01582455448806286, 0.011342637240886688, 0.012165096588432789, 0.02051454968750477, 0.02463514171540737, 0.01787753403186798, 0.008976954035460949, 0.027097534388303757, 0.010151371359825134, 0.029500093311071396, 0.022961722686886787, 0.01152713131159544, 0.032491881400346756, 0.020219076424837112, 0.02027125470340252, 0.027604972943663597, 0.042306944727897644, 0.02292037196457386, 0.027398400008678436, 0.02483934722840786, 0.02841997891664505, 0.04172161966562271, 0.0314212366938591, 0.03520329296588898, 0.030631236732006073, 0.060064759105443954, 0.045377377420663834, 0.19364091753959656, 0.0, 0.0, 0.0], [0.08590573817491531, 0.01470410730689764, 0.01051056943833828, 0.02869984693825245, 0.016654495149850845, 0.012795396149158478, 0.00923528429120779, 0.014819218777120113, 0.028232716023921967, 0.011867675930261612, 0.009268179535865784, 0.023044349625706673, 0.01755327358841896, 0.032954033464193344, 0.025013739243149757, 0.012247500009834766, 0.02679956890642643, 0.01332654058933258, 0.01647983305156231, 0.034728217869997025, 0.039808016270399094, 0.050673384219408035, 0.030861180275678635, 0.027551839128136635, 0.036164212971925735, 0.01740611530840397, 0.04716060310602188, 0.025891847908496857, 0.02839728631079197, 0.06047139689326286, 0.03584858402609825, 0.03886668384075165, 0.11605865508317947, 0.0, 0.0], [0.05670773237943649, 0.015243272297084332, 0.009892582893371582, 0.017495427280664444, 0.035292454063892365, 0.015370235778391361, 0.010747749358415604, 0.017091596499085426, 0.02124500647187233, 0.013064507395029068, 0.00639411760494113, 0.021768178790807724, 0.011015364900231361, 0.023290839046239853, 0.020971029996871948, 0.012346651405096054, 0.024119654670357704, 0.013815038837492466, 0.016820503398776054, 0.0345151461660862, 0.030974801629781723, 0.032177556306123734, 0.03227026388049126, 0.02327035740017891, 0.027259422466158867, 0.01785033755004406, 0.05776430666446686, 0.024271585047245026, 0.02524302899837494, 0.03774581104516983, 0.015895819291472435, 0.02659658156335354, 0.04215161129832268, 0.20932146906852722, 0.0], [0.047369711101055145, 0.01349155604839325, 0.00860119890421629, 0.011534372344613075, 0.03260952606797218, 0.008750018663704395, 0.010495416820049286, 0.015973461791872978, 0.024224912747740746, 0.013959751464426517, 0.011584166437387466, 0.020906994119286537, 0.012310201302170753, 0.028499381616711617, 0.014403232373297215, 0.011428190395236015, 0.024424539878964424, 0.021284058690071106, 0.027576269581913948, 0.025762226432561874, 0.04914955422282219, 0.02154945395886898, 0.020725883543491364, 0.030232440680265427, 0.04683732986450195, 0.02172248251736164, 0.02025720663368702, 0.019149543717503548, 0.010533906519412994, 0.050025928765535355, 0.030405579134821892, 0.022812236100435257, 0.02946249023079872, 0.03996318206191063, 0.20198367536067963]], [[1.0, 0.0, 0.0, 0.0, 0.0, 0.0, 0.0, 0.0, 0.0, 0.0, 0.0, 0.0, 0.0, 0.0, 0.0, 0.0, 0.0, 0.0, 0.0, 0.0, 0.0, 0.0, 0.0, 0.0, 0.0, 0.0, 0.0, 0.0, 0.0, 0.0, 0.0, 0.0, 0.0, 0.0, 0.0], [0.8253123164176941, 0.1746876984834671, 0.0, 0.0, 0.0, 0.0, 0.0, 0.0, 0.0, 0.0, 0.0, 0.0, 0.0, 0.0, 0.0, 0.0, 0.0, 0.0, 0.0, 0.0, 0.0, 0.0, 0.0, 0.0, 0.0, 0.0, 0.0, 0.0, 0.0, 0.0, 0.0, 0.0, 0.0, 0.0, 0.0], [0.758050262928009, 0.13029678165912628, 0.11165294796228409, 0.0, 0.0, 0.0, 0.0, 0.0, 0.0, 0.0, 0.0, 0.0, 0.0, 0.0, 0.0, 0.0, 0.0, 0.0, 0.0, 0.0, 0.0, 0.0, 0.0, 0.0, 0.0, 0.0, 0.0, 0.0, 0.0, 0.0, 0.0, 0.0, 0.0, 0.0, 0.0], [0.7232240438461304, 0.0827442929148674, 0.07870825380086899, 0.11532339453697205, 0.0, 0.0, 0.0, 0.0, 0.0, 0.0, 0.0, 0.0, 0.0, 0.0, 0.0, 0.0, 0.0, 0.0, 0.0, 0.0, 0.0, 0.0, 0.0, 0.0, 0.0, 0.0, 0.0, 0.0, 0.0, 0.0, 0.0, 0.0, 0.0, 0.0, 0.0], [0.5594542622566223, 0.08694442361593246, 0.09115545451641083, 0.09393443912267685, 0.1685115247964859, 0.0, 0.0, 0.0, 0.0, 0.0, 0.0, 0.0, 0.0, 0.0, 0.0, 0.0, 0.0, 0.0, 0.0, 0.0, 0.0, 0.0, 0.0, 0.0, 0.0, 0.0, 0.0, 0.0, 0.0, 0.0, 0.0, 0.0, 0.0, 0.0, 0.0], [0.5031396746635437, 0.08192654699087143, 0.05872315540909767, 0.10480903834104538, 0.15214206278324127, 0.09925957024097443, 0.0, 0.0, 0.0, 0.0, 0.0, 0.0, 0.0, 0.0, 0.0, 0.0, 0.0, 0.0, 0.0, 0.0, 0.0, 0.0, 0.0, 0.0, 0.0, 0.0, 0.0, 0.0, 0.0, 0.0, 0.0, 0.0, 0.0, 0.0, 0.0], [0.527961015701294, 0.05825979262590408, 0.06836593151092529, 0.11652134358882904, 0.11039453744888306, 0.06918039172887802, 0.04931706190109253, 0.0, 0.0, 0.0, 0.0, 0.0, 0.0, 0.0, 0.0, 0.0, 0.0, 0.0, 0.0, 0.0, 0.0, 0.0, 0.0, 0.0, 0.0, 0.0, 0.0, 0.0, 0.0, 0.0, 0.0, 0.0, 0.0, 0.0, 0.0], [0.300100713968277, 0.08826003223657608, 0.05834932252764702, 0.10984239727258682, 0.1686263084411621, 0.12896905839443207, 0.023227624595165253, 0.12262452393770218, 0.0, 0.0, 0.0, 0.0, 0.0, 0.0, 0.0, 0.0, 0.0, 0.0, 0.0, 0.0, 0.0, 0.0, 0.0, 0.0, 0.0, 0.0, 0.0, 0.0, 0.0, 0.0, 0.0, 0.0, 0.0, 0.0, 0.0], [0.3934404253959656, 0.04758617281913757, 0.05194966867566109, 0.074715755879879, 0.11950990557670593, 0.05938040092587471, 0.023368606343865395, 0.1026640236377716, 0.12738502025604248, 0.0, 0.0, 0.0, 0.0, 0.0, 0.0, 0.0, 0.0, 0.0, 0.0, 0.0, 0.0, 0.0, 0.0, 0.0, 0.0, 0.0, 0.0, 0.0, 0.0, 0.0, 0.0, 0.0, 0.0, 0.0, 0.0], [0.3446025848388672, 0.050329018384218216, 0.059913281351327896, 0.0448312982916832, 0.15738151967525482, 0.06782461702823639, 0.03229009732604027, 0.07052528113126755, 0.0895390436053276, 0.08276323974132538, 0.0, 0.0, 0.0, 0.0, 0.0, 0.0, 0.0, 0.0, 0.0, 0.0, 0.0, 0.0, 0.0, 0.0, 0.0, 0.0, 0.0, 0.0, 0.0, 0.0, 0.0, 0.0, 0.0, 0.0, 0.0], [0.3350847661495209, 0.046269986778497696, 0.04785764962434769, 0.10917432606220245, 0.04435235261917114, 0.04490725323557854, 0.028443872928619385, 0.07920617610216141, 0.10731324553489685, 0.06832481920719147, 0.0890655443072319, 0.0, 0.0, 0.0, 0.0, 0.0, 0.0, 0.0, 0.0, 0.0, 0.0, 0.0, 0.0, 0.0, 0.0, 0.0, 0.0, 0.0, 0.0, 0.0, 0.0, 0.0, 0.0, 0.0, 0.0], [0.31157219409942627, 0.039277613162994385, 0.03521273657679558, 0.0755099505186081, 0.08078575879335403, 0.045036908239126205, 0.028806498274207115, 0.10218672454357147, 0.087976835668087, 0.05585258826613426, 0.08571924269199371, 0.0520629957318306, 0.0, 0.0, 0.0, 0.0, 0.0, 0.0, 0.0, 0.0, 0.0, 0.0, 0.0, 0.0, 0.0, 0.0, 0.0, 0.0, 0.0, 0.0, 0.0, 0.0, 0.0, 0.0, 0.0], [0.36146947741508484, 0.06311224400997162, 0.026989931240677834, 0.07095801830291748, 0.039851728826761246, 0.029446518048644066, 0.02279636636376381, 0.07072700560092926, 0.1130438968539238, 0.03335518762469292, 0.037144195288419724, 0.04763941466808319, 0.08346597105264664, 0.0, 0.0, 0.0, 0.0, 0.0, 0.0, 0.0, 0.0, 0.0, 0.0, 0.0, 0.0, 0.0, 0.0, 0.0, 0.0, 0.0, 0.0, 0.0, 0.0, 0.0, 0.0], [0.26885920763015747, 0.03265075013041496, 0.03938186168670654, 0.05081145837903023, 0.08684234321117401, 0.043101999908685684, 0.017922360450029373, 0.06655361503362656, 0.07785408198833466, 0.04528900980949402, 0.06586872786283493, 0.0460660494863987, 0.07721766829490662, 0.08158092200756073, 0.0, 0.0, 0.0, 0.0, 0.0, 0.0, 0.0, 0.0, 0.0, 0.0, 0.0, 0.0, 0.0, 0.0, 0.0, 0.0, 0.0, 0.0, 0.0, 0.0, 0.0], [0.2079053372144699, 0.03081468865275383, 0.02946295589208603, 0.0506742000579834, 0.0874347910284996, 0.047705844044685364, 0.027333201840519905, 0.09152106195688248, 0.052141424268484116, 0.04708249121904373, 0.0808199867606163, 0.05453275144100189, 0.12074842303991318, 0.055161673575639725, 0.016661200672388077, 0.0, 0.0, 0.0, 0.0, 0.0, 0.0, 0.0, 0.0, 0.0, 0.0, 0.0, 0.0, 0.0, 0.0, 0.0, 0.0, 0.0, 0.0, 0.0, 0.0], [0.19932863116264343, 0.04206705838441849, 0.05715768784284592, 0.07193329930305481, 0.05065882205963135, 0.03152458369731903, 0.02713680826127529, 0.04140906408429146, 0.0932227149605751, 0.0520220585167408, 0.0254228413105011, 0.059279121458530426, 0.06613776087760925, 0.09582274407148361, 0.031632158905267715, 0.05524466559290886, 0.0, 0.0, 0.0, 0.0, 0.0, 0.0, 0.0, 0.0, 0.0, 0.0, 0.0, 0.0, 0.0, 0.0, 0.0, 0.0, 0.0, 0.0, 0.0], [0.23719795048236847, 0.030675798654556274, 0.029208479449152946, 0.05821240320801735, 0.06082988902926445, 0.03495609015226364, 0.02444053255021572, 0.0708492174744606, 0.059838566929101944, 0.039703454822301865, 0.05932590365409851, 0.03675239160656929, 0.07694026082754135, 0.06171642243862152, 0.014049733988940716, 0.06745625287294388, 0.03784665837883949, 0.0, 0.0, 0.0, 0.0, 0.0, 0.0, 0.0, 0.0, 0.0, 0.0, 0.0, 0.0, 0.0, 0.0, 0.0, 0.0, 0.0, 0.0], [0.2499532550573349, 0.02662949450314045, 0.03931760415434837, 0.04463213309645653, 0.07087575644254684, 0.03409422188997269, 0.02126503922045231, 0.05726420134305954, 0.05179664120078087, 0.03503984957933426, 0.0439227931201458, 0.03922874480485916, 0.06155913695693016, 0.051224224269390106, 0.015611977316439152, 0.08278117328882217, 0.0389174222946167, 0.03588636964559555, 0.0, 0.0, 0.0, 0.0, 0.0, 0.0, 0.0, 0.0, 0.0, 0.0, 0.0, 0.0, 0.0, 0.0, 0.0, 0.0, 0.0], [0.22269795835018158, 0.026518139988183975, 0.03978949785232544, 0.027604009956121445, 0.08196065574884415, 0.035829655826091766, 0.01537895668298006, 0.06874663382768631, 0.05343083664774895, 0.05469821020960808, 0.05721570551395416, 0.03161529079079628, 0.03717072308063507, 0.05228296294808388, 0.01185118779540062, 0.0720609724521637, 0.03087829239666462, 0.024411164224147797, 0.05585915967822075, 0.0, 0.0, 0.0, 0.0, 0.0, 0.0, 0.0, 0.0, 0.0, 0.0, 0.0, 0.0, 0.0, 0.0, 0.0, 0.0], [0.07419290393590927, 0.05092698335647583, 0.02823096513748169, 0.03420006111264229, 0.03361425921320915, 0.05182219296693802, 0.009658373892307281, 0.04940614104270935, 0.09883320331573486, 0.05356481298804283, 0.024581870064139366, 0.05879184231162071, 0.01302679255604744, 0.10889022052288055, 0.015677114948630333, 0.04766633361577988, 0.06507277488708496, 0.0388617068529129, 0.039842639118433, 0.10313881933689117, 0.0, 0.0, 0.0, 0.0, 0.0, 0.0, 0.0, 0.0, 0.0, 0.0, 0.0, 0.0, 0.0, 0.0, 0.0], [0.22614891827106476, 0.025769874453544617, 0.033361680805683136, 0.04034486413002014, 0.061168424785137177, 0.03166025131940842, 0.023036975413560867, 0.048158254474401474, 0.04964130371809006, 0.025703273713588715, 0.05132424458861351, 0.029225800186395645, 0.046272359788417816, 0.04679546132683754, 0.010471492074429989, 0.04346739873290062, 0.027977751567959785, 0.033561088144779205, 0.03209925815463066, 0.05562404915690422, 0.05818727985024452, 0.0, 0.0, 0.0, 0.0, 0.0, 0.0, 0.0, 0.0, 0.0, 0.0, 0.0, 0.0, 0.0, 0.0], [0.19442987442016602, 0.02000580169260502, 0.02566998265683651, 0.027610067278146744, 0.07351989299058914, 0.02511858195066452, 0.016428450122475624, 0.054433658719062805, 0.04450269788503647, 0.022272853180766106, 0.029331281781196594, 0.03064262494444847, 0.0628659799695015, 0.043391644954681396, 0.010216005146503448, 0.09763482213020325, 0.02960141748189926, 0.02808046154677868, 0.03757164254784584, 0.05037400871515274, 0.06089742109179497, 0.015400813892483711, 0.0, 0.0, 0.0, 0.0, 0.0, 0.0, 0.0, 0.0, 0.0, 0.0, 0.0, 0.0, 0.0], [0.19766587018966675, 0.04115748777985573, 0.03360118344426155, 0.023870179429650307, 0.06633445620536804, 0.02801697887480259, 0.019582942128181458, 0.051785651594400406, 0.031591471284627914, 0.026536153629422188, 0.0416431650519371, 0.025757959112524986, 0.043284062296152115, 0.029939448460936546, 0.012750311754643917, 0.05606917291879654, 0.024677341803908348, 0.02150590531527996, 0.045592937618494034, 0.07480886578559875, 0.04433406516909599, 0.02199736051261425, 0.03749702870845795, 0.0, 0.0, 0.0, 0.0, 0.0, 0.0, 0.0, 0.0, 0.0, 0.0, 0.0, 0.0], [0.18043571710586548, 0.023349838331341743, 0.023929737508296967, 0.04454164579510689, 0.04070594534277916, 0.03654100000858307, 0.01661658100783825, 0.05323559790849686, 0.050283901393413544, 0.025846898555755615, 0.04605168476700783, 0.024920549243688583, 0.03976092487573624, 0.04893423989415169, 0.012390011921525002, 0.06191657483577728, 0.023965341970324516, 0.028754502534866333, 0.025095419958233833, 0.06865919381380081, 0.0735766813158989, 0.018046917393803596, 0.022800737991929054, 0.009640377946197987, 0.0, 0.0, 0.0, 0.0, 0.0, 0.0, 0.0, 0.0, 0.0, 0.0, 0.0], [0.24246364831924438, 0.024696456268429756, 0.03868826478719711, 0.03357229009270668, 0.05476619303226471, 0.03380467742681503, 0.02072160691022873, 0.032754622399806976, 0.04349980130791664, 0.018562661483883858, 0.036468494683504105, 0.031002476811408997, 0.038625478744506836, 0.039931803941726685, 0.010727159678936005, 0.038317691534757614, 0.029280314221978188, 0.024678148329257965, 0.027889326214790344, 0.04502157121896744, 0.04307597875595093, 0.016905829310417175, 0.02358630858361721, 0.0072986227460205555, 0.04366063326597214, 0.0, 0.0, 0.0, 0.0, 0.0, 0.0, 0.0, 0.0, 0.0, 0.0], [0.11111285537481308, 0.029458772391080856, 0.024559466168284416, 0.030902523547410965, 0.0338648185133934, 0.033630646765232086, 0.012831446714699268, 0.030669283121824265, 0.06390532851219177, 0.023481516167521477, 0.025704622268676758, 0.03766978159546852, 0.016167866066098213, 0.06660737842321396, 0.01723175309598446, 0.030658666044473648, 0.039240460842847824, 0.02429523691534996, 0.026388797909021378, 0.0586402602493763, 0.10666141659021378, 0.017623892053961754, 0.02424544095993042, 0.018279604613780975, 0.03675020486116409, 0.05941801518201828, 0.0, 0.0, 0.0, 0.0, 0.0, 0.0, 0.0, 0.0, 0.0], [0.17855209112167358, 0.043738726526498795, 0.027772294357419014, 0.03288249671459198, 0.08083148300647736, 0.036148544400930405, 0.01943814568221569, 0.03604714944958687, 0.03154062479734421, 0.022283833473920822, 0.02674206718802452, 0.020272959023714066, 0.04929490387439728, 0.02805704064667225, 0.010035553015768528, 0.028219014406204224, 0.018526621162891388, 0.025377942249178886, 0.039212293922901154, 0.052739884704351425, 0.0247350987046957, 0.02867477759718895, 0.029405994340777397, 0.01389315351843834, 0.017606467008590698, 0.05648736655712128, 0.021483484655618668, 0.0, 0.0, 0.0, 0.0, 0.0, 0.0, 0.0, 0.0], [0.15546511113643646, 0.04916936531662941, 0.024515939876437187, 0.0257005263119936, 0.05483129248023033, 0.042092740535736084, 0.011645031161606312, 0.06493963301181793, 0.031219754368066788, 0.02656278759241104, 0.028326861560344696, 0.018289046362042427, 0.03490861505270004, 0.02966100350022316, 0.00855859275907278, 0.0466504842042923, 0.01766982674598694, 0.023724379017949104, 0.01903872936964035, 0.07715766131877899, 0.027307387441396713, 0.019747745245695114, 0.024364110082387924, 0.014429946430027485, 0.018928349018096924, 0.05850560590624809, 0.024364063516259193, 0.02222544327378273, 0.0, 0.0, 0.0, 0.0, 0.0, 0.0, 0.0], [0.19332920014858246, 0.026298359036445618, 0.030392475426197052, 0.029611900448799133, 0.0452016219496727, 0.033079080283641815, 0.021840760484337807, 0.026594171300530434, 0.045382820069789886, 0.03843945264816284, 0.02691539376974106, 0.024535102769732475, 0.015795713290572166, 0.04036760330200195, 0.01063427235931158, 0.026345491409301758, 0.022409794852137566, 0.019946040585637093, 0.044018518179655075, 0.06709349155426025, 0.033454760909080505, 0.0160849429666996, 0.025615878403186798, 0.01140951830893755, 0.013623225502669811, 0.04055492579936981, 0.01666298136115074, 0.035898882895708084, 0.018463704735040665, 0.0, 0.0, 0.0, 0.0, 0.0, 0.0], [0.15965193510055542, 0.01864234171807766, 0.026677699759602547, 0.0280478335916996, 0.04907771199941635, 0.026045674458146095, 0.017807701602578163, 0.03679423779249191, 0.04596943408250809, 0.01911088638007641, 0.037963204085826874, 0.027620624750852585, 0.028341034427285194, 0.04296436160802841, 0.008847585879266262, 0.03253019228577614, 0.02565997838973999, 0.024485118687152863, 0.02996622584760189, 0.04054070636630058, 0.042335037142038345, 0.017694564536213875, 0.021217679604887962, 0.006380947772413492, 0.031033918261528015, 0.03557971492409706, 0.025066183879971504, 0.026607491075992584, 0.024308426305651665, 0.043031517416238785, 0.0, 0.0, 0.0, 0.0, 0.0], [0.1966170072555542, 0.0197913758456707, 0.033033337444067, 0.0256870836019516, 0.0422060489654541, 0.03137582913041115, 0.016243640333414078, 0.030698411166667938, 0.03629426658153534, 0.02683933824300766, 0.026712186634540558, 0.023046309128403664, 0.021950099617242813, 0.03344834968447685, 0.010305729694664478, 0.02274365723133087, 0.02148078940808773, 0.02109473943710327, 0.03149040415883064, 0.036927301436662674, 0.03723211959004402, 0.015422001481056213, 0.019252333790063858, 0.00732048973441124, 0.024766921997070312, 0.0443916879594326, 0.0198507197201252, 0.026133663952350616, 0.01812445931136608, 0.042709071189165115, 0.036810602992773056, 0.0, 0.0, 0.0, 0.0], [0.16313210129737854, 0.022932488471269608, 0.029583677649497986, 0.02861548401415348, 0.0377846285700798, 0.02651870995759964, 0.02622900903224945, 0.031034141778945923, 0.03483206033706665, 0.01897560991346836, 0.03320294991135597, 0.026435943320393562, 0.03230734542012215, 0.031329210847616196, 0.01172788254916668, 0.027169138193130493, 0.024106508120894432, 0.022620312869548798, 0.02575555630028248, 0.03801414743065834, 0.03207403048872948, 0.017354246228933334, 0.017987219616770744, 0.009293689392507076, 0.04247137904167175, 0.031215855851769447, 0.019006580114364624, 0.021523458883166313, 0.017541181296110153, 0.04014518857002258, 0.01816076599061489, 0.040919505059719086, 0.0, 0.0, 0.0], [0.15803851187229156, 0.01682881824672222, 0.020642369985580444, 0.045382533222436905, 0.04664171487092972, 0.02783522941172123, 0.020206503570079803, 0.04211510345339775, 0.03703446686267853, 0.01774458959698677, 0.03035333752632141, 0.024713629856705666, 0.03428485989570618, 0.03341372683644295, 0.009082169272005558, 0.035213783383369446, 0.022280124947428703, 0.020850010216236115, 0.027390213683247566, 0.03231462836265564, 0.03764922916889191, 0.014920787885785103, 0.01655367575585842, 0.00630908040329814, 0.023218732327222824, 0.027949869632720947, 0.02383226901292801, 0.015323559753596783, 0.017670487985014915, 0.026815271005034447, 0.022188851609826088, 0.028694558888673782, 0.03650736063718796, 0.0, 0.0], [0.17019407451152802, 0.03212590515613556, 0.02987010031938553, 0.019615577533841133, 0.05489379167556763, 0.036220598965883255, 0.01715221256017685, 0.0323265977203846, 0.0315006859600544, 0.029624544084072113, 0.029094273224473, 0.01662425510585308, 0.02998979762196541, 0.027614137157797813, 0.010949766263365746, 0.03436654806137085, 0.014830092899501324, 0.015176062472164631, 0.030502911657094955, 0.041597455739974976, 0.020641224458813667, 0.017041219398379326, 0.02617543935775757, 0.01053882110863924, 0.0074417972937226295, 0.034391358494758606, 0.026077095419168472, 0.02961566112935543, 0.013693016953766346, 0.018074292689561844, 0.03374852240085602, 0.029002603143453598, 0.013117283582687378, 0.01617228239774704, 0.0], [0.11417391896247864, 0.01670067384839058, 0.023576242849230766, 0.03235282376408577, 0.055113621056079865, 0.029616661369800568, 0.017176378518342972, 0.059527840465307236, 0.0384342335164547, 0.020421097055077553, 0.03235999122262001, 0.019217433407902718, 0.01913510262966156, 0.03519750386476517, 0.010996292345225811, 0.04401443898677826, 0.016835946589708328, 0.01621249131858349, 0.023840535432100296, 0.042316604405641556, 0.03716840595006943, 0.009007311426103115, 0.01597953401505947, 0.005828782916069031, 0.020826414227485657, 0.028255823999643326, 0.03160591423511505, 0.024252017959952354, 0.02328527718782425, 0.019917480647563934, 0.024559777230024338, 0.021957380697131157, 0.01319314818829298, 0.020208805799484253, 0.036734022200107574]]]}\n",
              "    )\n",
              "    </script>"
            ],
            "text/plain": [
              "<circuitsvis.utils.render.RenderedHTML at 0x744e8c398510>"
            ]
          },
          "metadata": {},
          "output_type": "display_data"
        }
      ],
      "source": [
        "import circuitsvis as cv\n",
        "from IPython.display import display\n",
        "\n",
        "display(\n",
        "    cv.attention.attention_patterns(\n",
        "        tokens=reference_gpt2.to_str_tokens(reference_text), attention=cache[\"pattern\", 0][0]\n",
        "    )\n",
        ")"
      ]
    },
    {
      "cell_type": "markdown",
      "metadata": {
        "id": "w-Q-vrzhrjyu"
      },
      "source": [
        "You can also use the `attention_heads` function, which presents the data in a different way (the syntax is exactly the same as `attention_patterns`). Note, if you display this in VSCode then it may exhibit a bug where the main plot continually shrinks in size - if this happens, you should instead save the HTML (i.e. with `html = cv.attention.attention_heads(...); with open(\"attn_heads.html\", \"w\") as f: f.write(str(html))`) and open the plot in your browser.\n",
        "\n",
        "<!-- <details>\n",
        "<summary>Help - my <code>attention_heads</code> plots are behaving weirdly.</summary>\n",
        "\n",
        "This seems to be a bug in `circuitsvis` - on VSCode, the attention head plots continually shrink in size.\n",
        "\n",
        "Until this is fixed, one way to get around it is to open the plots in your browser. You can do this inline with the `webbrowser` library:\n",
        "\n",
        "```python\n",
        "attn_heads = cv.attention.attention_heads(\n",
        "    tokens=reference_gpt2.to_str_tokens(reference_text),\n",
        "    attention=cache[\"pattern\", 0][0]\n",
        ")\n",
        "\n",
        "path = \"attn_heads.html\"\n",
        "\n",
        "with open(path, \"w\") as f:\n",
        "    f.write(str(attn_heads))\n",
        "\n",
        "webbrowser.open(path)\n",
        "```\n",
        "\n",
        "To check exactly where this is getting saved, you can print your current working directory with `os.getcwd()`.\n",
        "</details> -->"
      ]
    },
    {
      "cell_type": "code",
      "execution_count": 24,
      "metadata": {
        "colab": {
          "base_uri": "https://localhost:8080/",
          "height": 416
        },
        "id": "yjp5cgVBrjyu",
        "outputId": "01183ec8-ffaa-4549-fc40-7bbb08136d46"
      },
      "outputs": [
        {
          "data": {
            "text/html": [
              "<div id=\"circuits-vis-610bebae-9abb\" style=\"margin: 15px 0;\"/>\n",
              "    <script crossorigin type=\"module\">\n",
              "    import { render, AttentionHeads } from \"https://unpkg.com/circuitsvis@1.41.0/dist/cdn/esm.js\";\n",
              "    render(\n",
              "      \"circuits-vis-610bebae-9abb\",\n",
              "      AttentionHeads,\n",
              "      {\"attention\": [[[1.0, 0.0, 0.0, 0.0, 0.0, 0.0, 0.0, 0.0, 0.0, 0.0, 0.0, 0.0, 0.0, 0.0, 0.0, 0.0, 0.0, 0.0, 0.0, 0.0, 0.0, 0.0, 0.0, 0.0, 0.0, 0.0, 0.0, 0.0, 0.0, 0.0, 0.0, 0.0, 0.0, 0.0, 0.0], [0.9679255485534668, 0.0320744626224041, 0.0, 0.0, 0.0, 0.0, 0.0, 0.0, 0.0, 0.0, 0.0, 0.0, 0.0, 0.0, 0.0, 0.0, 0.0, 0.0, 0.0, 0.0, 0.0, 0.0, 0.0, 0.0, 0.0, 0.0, 0.0, 0.0, 0.0, 0.0, 0.0, 0.0, 0.0, 0.0, 0.0], [0.8024235367774963, 0.16839203238487244, 0.029184352606534958, 0.0, 0.0, 0.0, 0.0, 0.0, 0.0, 0.0, 0.0, 0.0, 0.0, 0.0, 0.0, 0.0, 0.0, 0.0, 0.0, 0.0, 0.0, 0.0, 0.0, 0.0, 0.0, 0.0, 0.0, 0.0, 0.0, 0.0, 0.0, 0.0, 0.0, 0.0, 0.0], [0.6959055066108704, 0.12269631028175354, 0.1458849012851715, 0.035513244569301605, 0.0, 0.0, 0.0, 0.0, 0.0, 0.0, 0.0, 0.0, 0.0, 0.0, 0.0, 0.0, 0.0, 0.0, 0.0, 0.0, 0.0, 0.0, 0.0, 0.0, 0.0, 0.0, 0.0, 0.0, 0.0, 0.0, 0.0, 0.0, 0.0, 0.0, 0.0], [0.5661025047302246, 0.14705191552639008, 0.08665254712104797, 0.11258414387702942, 0.08760888129472733, 0.0, 0.0, 0.0, 0.0, 0.0, 0.0, 0.0, 0.0, 0.0, 0.0, 0.0, 0.0, 0.0, 0.0, 0.0, 0.0, 0.0, 0.0, 0.0, 0.0, 0.0, 0.0, 0.0, 0.0, 0.0, 0.0, 0.0, 0.0, 0.0, 0.0], [0.4621872901916504, 0.13512831926345825, 0.09698349982500076, 0.17473752796649933, 0.0462459996342659, 0.08471737056970596, 0.0, 0.0, 0.0, 0.0, 0.0, 0.0, 0.0, 0.0, 0.0, 0.0, 0.0, 0.0, 0.0, 0.0, 0.0, 0.0, 0.0, 0.0, 0.0, 0.0, 0.0, 0.0, 0.0, 0.0, 0.0, 0.0, 0.0, 0.0, 0.0], [0.43251609802246094, 0.10382883995771408, 0.0833013653755188, 0.06995750963687897, 0.074793741106987, 0.2156866192817688, 0.01991591975092888, 0.0, 0.0, 0.0, 0.0, 0.0, 0.0, 0.0, 0.0, 0.0, 0.0, 0.0, 0.0, 0.0, 0.0, 0.0, 0.0, 0.0, 0.0, 0.0, 0.0, 0.0, 0.0, 0.0, 0.0, 0.0, 0.0, 0.0, 0.0], [0.22236740589141846, 0.0916769877076149, 0.08796326071023941, 0.251687228679657, 0.08263691514730453, 0.10428163409233093, 0.06469019502401352, 0.09469636529684067, 0.0, 0.0, 0.0, 0.0, 0.0, 0.0, 0.0, 0.0, 0.0, 0.0, 0.0, 0.0, 0.0, 0.0, 0.0, 0.0, 0.0, 0.0, 0.0, 0.0, 0.0, 0.0, 0.0, 0.0, 0.0, 0.0, 0.0], [0.4049955904483795, 0.09078017622232437, 0.05237354338169098, 0.026201874017715454, 0.11047191917896271, 0.03667403757572174, 0.025538958609104156, 0.24528278410434723, 0.007681120187044144, 0.0, 0.0, 0.0, 0.0, 0.0, 0.0, 0.0, 0.0, 0.0, 0.0, 0.0, 0.0, 0.0, 0.0, 0.0, 0.0, 0.0, 0.0, 0.0, 0.0, 0.0, 0.0, 0.0, 0.0, 0.0, 0.0], [0.39985963702201843, 0.04361317306756973, 0.061838824301958084, 0.0729835107922554, 0.03661304712295532, 0.09147469699382782, 0.07241712510585785, 0.07013335824012756, 0.06429055333137512, 0.08677610754966736, 0.0, 0.0, 0.0, 0.0, 0.0, 0.0, 0.0, 0.0, 0.0, 0.0, 0.0, 0.0, 0.0, 0.0, 0.0, 0.0, 0.0, 0.0, 0.0, 0.0, 0.0, 0.0, 0.0, 0.0, 0.0], [0.09702549129724503, 0.03552757203578949, 0.023214807733893394, 0.036767058074474335, 0.02515840157866478, 0.2775616943836212, 0.07676514238119125, 0.19501188397407532, 0.05580098554491997, 0.1452939212322235, 0.03187306597828865, 0.0, 0.0, 0.0, 0.0, 0.0, 0.0, 0.0, 0.0, 0.0, 0.0, 0.0, 0.0, 0.0, 0.0, 0.0, 0.0, 0.0, 0.0, 0.0, 0.0, 0.0, 0.0, 0.0, 0.0], [0.2414383888244629, 0.03971061483025551, 0.0768737941980362, 0.02804270200431347, 0.12435992062091827, 0.05601579323410988, 0.0606367364525795, 0.12840096652507782, 0.015699448063969612, 0.09114035964012146, 0.13185448944568634, 0.005826781038194895, 0.0, 0.0, 0.0, 0.0, 0.0, 0.0, 0.0, 0.0, 0.0, 0.0, 0.0, 0.0, 0.0, 0.0, 0.0, 0.0, 0.0, 0.0, 0.0, 0.0, 0.0, 0.0, 0.0], [0.1436309963464737, 0.05110502988100052, 0.05505894124507904, 0.07798512279987335, 0.07854277640581131, 0.03501972183585167, 0.1349860280752182, 0.22634069621562958, 0.041628532111644745, 0.03513140603899956, 0.02023601345717907, 0.041144467890262604, 0.059190284460783005, 0.0, 0.0, 0.0, 0.0, 0.0, 0.0, 0.0, 0.0, 0.0, 0.0, 0.0, 0.0, 0.0, 0.0, 0.0, 0.0, 0.0, 0.0, 0.0, 0.0, 0.0, 0.0], [0.3156285285949707, 0.0679200068116188, 0.03787237033247948, 0.017874596640467644, 0.08683169633150101, 0.029227817431092262, 0.017664169892668724, 0.1830163300037384, 0.004987794905900955, 0.043228644877672195, 0.05172262340784073, 0.008913458324968815, 0.12899243831634521, 0.006119511555880308, 0.0, 0.0, 0.0, 0.0, 0.0, 0.0, 0.0, 0.0, 0.0, 0.0, 0.0, 0.0, 0.0, 0.0, 0.0, 0.0, 0.0, 0.0, 0.0, 0.0, 0.0], [0.28410208225250244, 0.053453970700502396, 0.023969216272234917, 0.02256225235760212, 0.04619823396205902, 0.06391074508428574, 0.04539215564727783, 0.07758502662181854, 0.027644306421279907, 0.05804118141531944, 0.17727358639240265, 0.03400600329041481, 0.030527280643582344, 0.03213079646229744, 0.023203179240226746, 0.0, 0.0, 0.0, 0.0, 0.0, 0.0, 0.0, 0.0, 0.0, 0.0, 0.0, 0.0, 0.0, 0.0, 0.0, 0.0, 0.0, 0.0, 0.0, 0.0], [0.14103920757770538, 0.02857782132923603, 0.037603959441185, 0.03137827664613724, 0.03697335720062256, 0.07347069680690765, 0.07151783257722855, 0.09211234003305435, 0.03358154371380806, 0.03639131411910057, 0.18937668204307556, 0.03244517371058464, 0.06021038070321083, 0.039169248193502426, 0.04040950536727905, 0.05574265122413635, 0.0, 0.0, 0.0, 0.0, 0.0, 0.0, 0.0, 0.0, 0.0, 0.0, 0.0, 0.0, 0.0, 0.0, 0.0, 0.0, 0.0, 0.0, 0.0], [0.2026529461145401, 0.030252814292907715, 0.060034073889255524, 0.021786145865917206, 0.1031423881649971, 0.04516838863492012, 0.04681028798222542, 0.10542109608650208, 0.011398818343877792, 0.07159950584173203, 0.10570328682661057, 0.004199368413537741, 0.1107979267835617, 0.013912520371377468, 0.028923513367772102, 0.03286944702267647, 0.00532751576974988, 0.0, 0.0, 0.0, 0.0, 0.0, 0.0, 0.0, 0.0, 0.0, 0.0, 0.0, 0.0, 0.0, 0.0, 0.0, 0.0, 0.0, 0.0], [0.20498362183570862, 0.04007228463888168, 0.04229811578989029, 0.02493900991976261, 0.04992290958762169, 0.029371699318289757, 0.030769702047109604, 0.10315564274787903, 0.025490224361419678, 0.07886797934770584, 0.10560183972120285, 0.01735270768404007, 0.08083696663379669, 0.03128695487976074, 0.054510585963726044, 0.052883170545101166, 0.02174280770123005, 0.005913801956921816, 0.0, 0.0, 0.0, 0.0, 0.0, 0.0, 0.0, 0.0, 0.0, 0.0, 0.0, 0.0, 0.0, 0.0, 0.0, 0.0, 0.0], [0.24350903928279877, 0.03636490926146507, 0.04196161404252052, 0.026215719059109688, 0.0404457226395607, 0.09965366870164871, 0.025752244517207146, 0.03249461576342583, 0.024459946900606155, 0.03520265221595764, 0.033835381269454956, 0.033476900309324265, 0.046648625284433365, 0.02796792984008789, 0.018640782684087753, 0.1176425889134407, 0.03875285014510155, 0.022786682471632957, 0.05418813228607178, 0.0, 0.0, 0.0, 0.0, 0.0, 0.0, 0.0, 0.0, 0.0, 0.0, 0.0, 0.0, 0.0, 0.0, 0.0, 0.0], [0.14194568991661072, 0.03406405448913574, 0.03300990164279938, 0.020238708704710007, 0.039273131638765335, 0.026005540043115616, 0.006318643223494291, 0.0407978780567646, 0.03638002276420593, 0.1463104784488678, 0.01638617552816868, 0.023598453029990196, 0.01584276743233204, 0.0422760471701622, 0.022458229213953018, 0.0686740130186081, 0.027878446504473686, 0.03722241893410683, 0.08677618205547333, 0.13454319536685944, 0.0, 0.0, 0.0, 0.0, 0.0, 0.0, 0.0, 0.0, 0.0, 0.0, 0.0, 0.0, 0.0, 0.0, 0.0], [0.21778136491775513, 0.026903679594397545, 0.023647211492061615, 0.007102564908564091, 0.03517003357410431, 0.013998536393046379, 0.010392283089458942, 0.09431244432926178, 0.002962287748232484, 0.037838030606508255, 0.03792331740260124, 0.003733973950147629, 0.06506101042032242, 0.0036364588886499405, 0.014758042991161346, 0.12028630077838898, 0.004900879226624966, 0.008107362315058708, 0.017449842765927315, 0.24998727440834045, 0.004047099035233259, 0.0, 0.0, 0.0, 0.0, 0.0, 0.0, 0.0, 0.0, 0.0, 0.0, 0.0, 0.0, 0.0, 0.0], [0.1218722015619278, 0.07663217931985855, 0.03023196943104267, 0.016371838748455048, 0.052687909454107285, 0.0214021485298872, 0.02340387925505638, 0.10649685561656952, 0.018582480028271675, 0.035091664642095566, 0.0839414894580841, 0.017393292859196663, 0.04183056950569153, 0.02145387977361679, 0.0333310104906559, 0.05027427151799202, 0.020740864798426628, 0.040903590619564056, 0.03054095432162285, 0.09200657904148102, 0.028245704248547554, 0.036564696580171585, 0.0, 0.0, 0.0, 0.0, 0.0, 0.0, 0.0, 0.0, 0.0, 0.0, 0.0, 0.0, 0.0], [0.21260197460651398, 0.02028409205377102, 0.050003692507743835, 0.015904178842902184, 0.05722508206963539, 0.02285732701420784, 0.04604588821530342, 0.03530845046043396, 0.011784469708800316, 0.0414048433303833, 0.016803614795207977, 0.015782054513692856, 0.02020842768251896, 0.01309018861502409, 0.020854242146015167, 0.06297555565834045, 0.018039442598819733, 0.018052957952022552, 0.024445291608572006, 0.17059147357940674, 0.015939772129058838, 0.041521888226270676, 0.048275116831064224, 0.0, 0.0, 0.0, 0.0, 0.0, 0.0, 0.0, 0.0, 0.0, 0.0, 0.0, 0.0], [0.2671400308609009, 0.03564617782831192, 0.020422885194420815, 0.006622722838073969, 0.04034103453159332, 0.01911034621298313, 0.014575301669538021, 0.05641632154583931, 0.008403629995882511, 0.015526890754699707, 0.04414669796824455, 0.011055911891162395, 0.040019966661930084, 0.009353084489703178, 0.019351867958903313, 0.07054155319929123, 0.012798828072845936, 0.012832630425691605, 0.014165614731609821, 0.11736989766359329, 0.007312785368412733, 0.09727413952350616, 0.020751146599650383, 0.03882048651576042, 0.0, 0.0, 0.0, 0.0, 0.0, 0.0, 0.0, 0.0, 0.0, 0.0, 0.0], [0.14591236412525177, 0.03319380432367325, 0.03138771653175354, 0.00992790050804615, 0.05209650099277496, 0.019840894266963005, 0.019401727244257927, 0.07582409679889679, 0.012863258831202984, 0.03345129266381264, 0.016568411141633987, 0.014797174371778965, 0.05908384174108505, 0.015597397461533546, 0.011369229294359684, 0.021859487518668175, 0.019473882392048836, 0.014793707057833672, 0.05341862142086029, 0.09521486610174179, 0.016204558312892914, 0.06210914999246597, 0.061828482896089554, 0.0665796771645546, 0.03720193728804588, 0.0, 0.0, 0.0, 0.0, 0.0, 0.0, 0.0, 0.0, 0.0, 0.0], [0.06265703588724136, 0.014285167679190636, 0.025387220084667206, 0.030092516914010048, 0.021246911957859993, 0.029529916122555733, 0.026446692645549774, 0.014830506406724453, 0.015861935913562775, 0.043314334005117416, 0.02196396142244339, 0.019970128312706947, 0.04342854395508766, 0.018692897632718086, 0.009475365281105042, 0.024197489023208618, 0.023853622376918793, 0.026908744126558304, 0.014060708694159985, 0.1752849817276001, 0.035836778581142426, 0.04792255535721779, 0.03575059399008751, 0.012070519849658012, 0.059274256229400635, 0.1476566046476364, 0.0, 0.0, 0.0, 0.0, 0.0, 0.0, 0.0, 0.0, 0.0], [0.09766799956560135, 0.03152173385024071, 0.026686416938900948, 0.03645576909184456, 0.03492368757724762, 0.08635793626308441, 0.013895386829972267, 0.03018672950565815, 0.019402580335736275, 0.035141684114933014, 0.048781562596559525, 0.012551559135317802, 0.04099080339074135, 0.020208824425935745, 0.012653255835175514, 0.007451049983501434, 0.013522964902222157, 0.02407808043062687, 0.04302708059549332, 0.1506679505109787, 0.029252586886286736, 0.018810171633958817, 0.016104497015476227, 0.02854987233877182, 0.02987590804696083, 0.051215607672929764, 0.04001832380890846, 0.0, 0.0, 0.0, 0.0, 0.0, 0.0, 0.0, 0.0], [0.09151812642812729, 0.01142112072557211, 0.0397990383207798, 0.011658591218292713, 0.03344331309199333, 0.04107605665922165, 0.009538299404084682, 0.04061255231499672, 0.009114386513829231, 0.04690402373671532, 0.02731761522591114, 0.010844956152141094, 0.024547524750232697, 0.010004598647356033, 0.008095636032521725, 0.008396818302571774, 0.011855484917759895, 0.008184154517948627, 0.04104065150022507, 0.3625810444355011, 0.007537385914474726, 0.009961559437215328, 0.021045755594968796, 0.011855038814246655, 0.030058305710554123, 0.032811928540468216, 0.028863219544291496, 0.009912803769111633, 0.0, 0.0, 0.0, 0.0, 0.0, 0.0, 0.0], [0.10946288704872131, 0.025872742757201195, 0.023928716778755188, 0.020045245066285133, 0.03590444102883339, 0.03167986497282982, 0.02914527803659439, 0.11399827897548676, 0.013954712077975273, 0.03480717912316322, 0.018105626106262207, 0.01762225851416588, 0.01900731958448887, 0.015307599678635597, 0.0097030159085989, 0.012407941743731499, 0.020091678947210312, 0.027262559160590172, 0.0656459704041481, 0.027155403047800064, 0.026226619258522987, 0.01894299127161503, 0.04077143222093582, 0.019073307514190674, 0.021573416888713837, 0.030219418928027153, 0.07011833041906357, 0.060314666479825974, 0.041651058942079544, 0.0, 0.0, 0.0, 0.0, 0.0, 0.0], [0.11406350880861282, 0.02655624970793724, 0.01995842345058918, 0.00893146451562643, 0.034943222999572754, 0.016834313049912453, 0.00937775056809187, 0.0445132851600647, 0.0037722226697951555, 0.028760338202118874, 0.02074114792048931, 0.0056509943678975105, 0.060077618807554245, 0.004424978978931904, 0.010821842588484287, 0.041129276156425476, 0.007085718214511871, 0.01043400727212429, 0.026548538357019424, 0.11019264161586761, 0.00719001330435276, 0.05651939660310745, 0.028027096763253212, 0.06370093673467636, 0.03407692909240723, 0.07150980830192566, 0.04093320667743683, 0.014252983033657074, 0.06984366476535797, 0.009128457866609097, 0.0, 0.0, 0.0, 0.0, 0.0], [0.14399930834770203, 0.02045460231602192, 0.04262388497591019, 0.011592096649110317, 0.02778942696750164, 0.014342915266752243, 0.029106194153428078, 0.04215822368860245, 0.013669715262949467, 0.02058149129152298, 0.008641066029667854, 0.012402210384607315, 0.019577063620090485, 0.014879736118018627, 0.023319043219089508, 0.02236717753112316, 0.014413882978260517, 0.006065309979021549, 0.006985306739807129, 0.08859118819236755, 0.014219223521649837, 0.027541182935237885, 0.05707305297255516, 0.024985700845718384, 0.057333000004291534, 0.048089709132909775, 0.018268704414367676, 0.07940171658992767, 0.04377175495028496, 0.024849100038409233, 0.020906994119286537, 0.0, 0.0, 0.0, 0.0], [0.07786805182695389, 0.019732864573597908, 0.01990637369453907, 0.01517957728356123, 0.02926989272236824, 0.008963337168097496, 0.011427867226302624, 0.03169625997543335, 0.006965262349694967, 0.040641702711582184, 0.01998521387577057, 0.008789058774709702, 0.03574991598725319, 0.007953666150569916, 0.009612186811864376, 0.01496591791510582, 0.010367297567427158, 0.013544999063014984, 0.01374734565615654, 0.0681854784488678, 0.01183705497533083, 0.019355515018105507, 0.016761232167482376, 0.016301220282912254, 0.061250220984220505, 0.12023527175188065, 0.047391459345817566, 0.02382204309105873, 0.14942999184131622, 0.01412149891257286, 0.04741879925131798, 0.007523441221565008, 0.0, 0.0, 0.0], [0.14836616814136505, 0.036274224519729614, 0.02376876398921013, 0.00530839990824461, 0.032260362058877945, 0.017439452931284904, 0.015090284869074821, 0.04443071782588959, 0.004935790318995714, 0.021151509135961533, 0.023849118500947952, 0.0061277905479073524, 0.04430978000164032, 0.005717848893254995, 0.006861448287963867, 0.016362620517611504, 0.00770712411031127, 0.009109633043408394, 0.028427604585886, 0.14491388201713562, 0.006351599004119635, 0.03453823924064636, 0.023273004218935966, 0.04803792014718056, 0.03441665694117546, 0.06975366920232773, 0.02756190113723278, 0.012016541324555874, 0.03535730019211769, 0.008575202897191048, 0.03916303068399429, 0.009715795516967773, 0.00882657989859581, 0.0, 0.0], [0.11389314383268356, 0.021931475028395653, 0.02644759602844715, 0.007602885365486145, 0.020530682057142258, 0.029713165014982224, 0.03694961965084076, 0.028757939115166664, 0.007981305941939354, 0.029359182342886925, 0.015349611639976501, 0.018420172855257988, 0.020850984379649162, 0.008514756336808205, 0.01093092281371355, 0.009227696806192398, 0.021279290318489075, 0.009222989901900291, 0.027651090174913406, 0.12458859384059906, 0.010509626939892769, 0.06096193939447403, 0.022033264860510826, 0.030366934835910797, 0.027411185204982758, 0.03459944948554039, 0.032027289271354675, 0.0395297110080719, 0.053537964820861816, 0.017732905223965645, 0.017497556284070015, 0.017771480605006218, 0.012080204673111439, 0.034737348556518555, 0.0], [0.13933588564395905, 0.0213712677359581, 0.014541358686983585, 0.005123288370668888, 0.031635090708732605, 0.010921815410256386, 0.012541360221803188, 0.02249285951256752, 0.004774261265993118, 0.024901429191231728, 0.010858357883989811, 0.010577707551419735, 0.02590608410537243, 0.005286505911499262, 0.016752298921346664, 0.045204393565654755, 0.012112229131162167, 0.014714703895151615, 0.014629190787672997, 0.08781159669160843, 0.007287844084203243, 0.07496529072523117, 0.015995563939213753, 0.04392344132065773, 0.041024114936590195, 0.07587806135416031, 0.027924571186304092, 0.015250182710587978, 0.013413443230092525, 0.014532777480781078, 0.02721545286476612, 0.03453553467988968, 0.018207406625151634, 0.0350533202290535, 0.0233012605458498]], [[1.0, 0.0, 0.0, 0.0, 0.0, 0.0, 0.0, 0.0, 0.0, 0.0, 0.0, 0.0, 0.0, 0.0, 0.0, 0.0, 0.0, 0.0, 0.0, 0.0, 0.0, 0.0, 0.0, 0.0, 0.0, 0.0, 0.0, 0.0, 0.0, 0.0, 0.0, 0.0, 0.0, 0.0, 0.0], [0.00041899754432961345, 0.9995810389518738, 0.0, 0.0, 0.0, 0.0, 0.0, 0.0, 0.0, 0.0, 0.0, 0.0, 0.0, 0.0, 0.0, 0.0, 0.0, 0.0, 0.0, 0.0, 0.0, 0.0, 0.0, 0.0, 0.0, 0.0, 0.0, 0.0, 0.0, 0.0, 0.0, 0.0, 0.0, 0.0, 0.0], [0.00013394761481322348, 0.00951184332370758, 0.9903541803359985, 0.0, 0.0, 0.0, 0.0, 0.0, 0.0, 0.0, 0.0, 0.0, 0.0, 0.0, 0.0, 0.0, 0.0, 0.0, 0.0, 0.0, 0.0, 0.0, 0.0, 0.0, 0.0, 0.0, 0.0, 0.0, 0.0, 0.0, 0.0, 0.0, 0.0, 0.0, 0.0], [0.0008606771007180214, 0.0026100408285856247, 0.015066809952259064, 0.9814624786376953, 0.0, 0.0, 0.0, 0.0, 0.0, 0.0, 0.0, 0.0, 0.0, 0.0, 0.0, 0.0, 0.0, 0.0, 0.0, 0.0, 0.0, 0.0, 0.0, 0.0, 0.0, 0.0, 0.0, 0.0, 0.0, 0.0, 0.0, 0.0, 0.0, 0.0, 0.0], [3.7170477298786864e-05, 0.0006769579485990107, 0.0012692962773144245, 0.0002140784781659022, 0.9978025555610657, 0.0, 0.0, 0.0, 0.0, 0.0, 0.0, 0.0, 0.0, 0.0, 0.0, 0.0, 0.0, 0.0, 0.0, 0.0, 0.0, 0.0, 0.0, 0.0, 0.0, 0.0, 0.0, 0.0, 0.0, 0.0, 0.0, 0.0, 0.0, 0.0, 0.0], [8.425424312008545e-05, 0.0007904724916443229, 0.00321528990752995, 0.0027085731271654367, 0.0013058268232271075, 0.9918956160545349, 0.0, 0.0, 0.0, 0.0, 0.0, 0.0, 0.0, 0.0, 0.0, 0.0, 0.0, 0.0, 0.0, 0.0, 0.0, 0.0, 0.0, 0.0, 0.0, 0.0, 0.0, 0.0, 0.0, 0.0, 0.0, 0.0, 0.0, 0.0, 0.0], [0.00014960527187213302, 0.0018361854599788785, 0.001637504086829722, 0.001013060798868537, 0.0042098104022443295, 8.004387927940115e-05, 0.9910737872123718, 0.0, 0.0, 0.0, 0.0, 0.0, 0.0, 0.0, 0.0, 0.0, 0.0, 0.0, 0.0, 0.0, 0.0, 0.0, 0.0, 0.0, 0.0, 0.0, 0.0, 0.0, 0.0, 0.0, 0.0, 0.0, 0.0, 0.0, 0.0], [0.0002685565559659153, 0.000925964443013072, 0.0008250505197793245, 0.0006819659029133618, 0.007268859073519707, 0.001351707149296999, 0.00034691678592935205, 0.9883310198783875, 0.0, 0.0, 0.0, 0.0, 0.0, 0.0, 0.0, 0.0, 0.0, 0.0, 0.0, 0.0, 0.0, 0.0, 0.0, 0.0, 0.0, 0.0, 0.0, 0.0, 0.0, 0.0, 0.0, 0.0, 0.0, 0.0, 0.0], [0.007326364051550627, 0.007828546687960625, 0.0039318762719631195, 0.0001837400923250243, 6.433094677049667e-05, 0.0001008316467050463, 6.769890751456842e-05, 7.164074486354366e-05, 0.9804249405860901, 0.0, 0.0, 0.0, 0.0, 0.0, 0.0, 0.0, 0.0, 0.0, 0.0, 0.0, 0.0, 0.0, 0.0, 0.0, 0.0, 0.0, 0.0, 0.0, 0.0, 0.0, 0.0, 0.0, 0.0, 0.0, 0.0], [3.917570938938297e-05, 9.137415327131748e-05, 0.00033399087260477245, 6.816770473960787e-05, 7.81232156441547e-05, 0.0009843026055023074, 0.00016941336798481643, 0.002541461493819952, 4.413309216033667e-05, 0.9956498742103577, 0.0, 0.0, 0.0, 0.0, 0.0, 0.0, 0.0, 0.0, 0.0, 0.0, 0.0, 0.0, 0.0, 0.0, 0.0, 0.0, 0.0, 0.0, 0.0, 0.0, 0.0, 0.0, 0.0, 0.0, 0.0], [5.5203117881319486e-06, 2.3466483980882913e-05, 9.186465467792004e-05, 8.01341884653084e-05, 3.939209636882879e-05, 8.521587733412161e-05, 2.5735924282344058e-05, 7.120813097571954e-05, 4.276960225979565e-06, 0.00015049739158712327, 0.9994226694107056, 0.0, 0.0, 0.0, 0.0, 0.0, 0.0, 0.0, 0.0, 0.0, 0.0, 0.0, 0.0, 0.0, 0.0, 0.0, 0.0, 0.0, 0.0, 0.0, 0.0, 0.0, 0.0, 0.0, 0.0], [0.0010400308528915048, 0.002299361629411578, 0.0023920699022710323, 0.0003133234567940235, 0.00013362923345994204, 0.0005168464849703014, 0.0011971102794632316, 6.827450124546885e-05, 0.005444327834993601, 0.00028217470389790833, 4.3057352741016075e-05, 0.9862697720527649, 0.0, 0.0, 0.0, 0.0, 0.0, 0.0, 0.0, 0.0, 0.0, 0.0, 0.0, 0.0, 0.0, 0.0, 0.0, 0.0, 0.0, 0.0, 0.0, 0.0, 0.0, 0.0, 0.0], [4.6304139686981216e-05, 0.0003248231369070709, 0.0002445945283398032, 0.001531168702058494, 0.0008613723330199718, 0.0012943893671035767, 6.198471237439662e-05, 2.6642746888683178e-05, 4.8408732254756615e-05, 0.001985569018870592, 0.0001397189626004547, 0.00011434302723500878, 0.9933207035064697, 0.0, 0.0, 0.0, 0.0, 0.0, 0.0, 0.0, 0.0, 0.0, 0.0, 0.0, 0.0, 0.0, 0.0, 0.0, 0.0, 0.0, 0.0, 0.0, 0.0, 0.0, 0.0], [0.0030442432034760714, 0.0018223640508949757, 0.0009289864101447165, 4.88023433717899e-05, 1.6391149983974174e-05, 2.909564136643894e-05, 2.5079834813368507e-05, 2.9130291295587085e-05, 0.45632198452949524, 2.4578685042797588e-05, 2.483217576809693e-05, 0.0030043956357985735, 1.6773815332271624e-06, 0.5346784591674805, 0.0, 0.0, 0.0, 0.0, 0.0, 0.0, 0.0, 0.0, 0.0, 0.0, 0.0, 0.0, 0.0, 0.0, 0.0, 0.0, 0.0, 0.0, 0.0, 0.0, 0.0], [0.00039817841025069356, 0.0010284995660185814, 0.0008281109039671719, 0.00023753145069349557, 7.348858343902975e-05, 0.0014350296696648002, 6.76565759931691e-05, 0.00029547372832894325, 0.00014295782602857798, 9.929083898896351e-05, 4.608212293533143e-06, 0.0005140060093253851, 5.0356525207462255e-06, 0.00012475508265197277, 0.9947453737258911, 0.0, 0.0, 0.0, 0.0, 0.0, 0.0, 0.0, 0.0, 0.0, 0.0, 0.0, 0.0, 0.0, 0.0, 0.0, 0.0, 0.0, 0.0, 0.0, 0.0], [9.074855915969238e-05, 0.0002652601688168943, 0.00011011186870746315, 0.00021231947175692767, 8.290550613310188e-05, 0.0011814209865406156, 1.5688718121964484e-05, 0.0016655955696478486, 1.1725332115020137e-05, 0.0020509453024715185, 0.00013842586486134678, 1.557363611937035e-05, 1.150744083133759e-05, 9.066193342732731e-06, 0.00022655802604276687, 0.9939122200012207, 0.0, 0.0, 0.0, 0.0, 0.0, 0.0, 0.0, 0.0, 0.0, 0.0, 0.0, 0.0, 0.0, 0.0, 0.0, 0.0, 0.0, 0.0, 0.0], [0.00044135426287539303, 0.0006528961239382625, 0.0006495665293186903, 9.398067049914971e-05, 4.112711030757055e-05, 0.00017028431466314942, 0.0005066706798970699, 2.889607821998652e-05, 0.0023701833561062813, 0.0001045431854436174, 1.923093805089593e-05, 0.4705588221549988, 1.680400782788638e-05, 0.002284094225615263, 0.000216981177800335, 3.276941424701363e-05, 0.5218117833137512, 0.0, 0.0, 0.0, 0.0, 0.0, 0.0, 0.0, 0.0, 0.0, 0.0, 0.0, 0.0, 0.0, 0.0, 0.0, 0.0, 0.0, 0.0], [0.0005350520368665457, 0.0006631254218518734, 0.00018957522115670145, 0.00011594560055527836, 3.9305876271100715e-05, 8.452115434920415e-05, 0.00026859997888095677, 0.0003003481833729893, 0.00012727576540783048, 0.00015363430429715663, 2.1524516341742128e-05, 0.0004102020466234535, 0.0015090389642864466, 0.00011659036681521684, 0.0001377397566102445, 7.38915623514913e-05, 0.00039899448165670037, 0.9948546886444092, 0.0, 0.0, 0.0, 0.0, 0.0, 0.0, 0.0, 0.0, 0.0, 0.0, 0.0, 0.0, 0.0, 0.0, 0.0, 0.0, 0.0], [0.0002235247375210747, 0.0002502534771338105, 0.00011739338515326381, 1.8608267055242322e-05, 0.0006291492027230561, 0.0007579223602078855, 3.784089858527295e-05, 0.003385146614164114, 1.791827889974229e-05, 0.00017818294872995466, 3.4344266168773174e-05, 7.747584459139034e-05, 6.471157394116744e-05, 1.5270292351488024e-05, 0.0002935958909802139, 0.0005734387668780982, 7.154404011089355e-05, 0.000158831593580544, 0.993094801902771, 0.0, 0.0, 0.0, 0.0, 0.0, 0.0, 0.0, 0.0, 0.0, 0.0, 0.0, 0.0, 0.0, 0.0, 0.0, 0.0], [0.00030641030753031373, 0.00041680148569867015, 0.00045197230065241456, 0.00015746410645078868, 0.0015800752444192767, 0.0022666333243250847, 0.0001448363036615774, 0.002518873196095228, 4.471190186450258e-05, 0.002739465096965432, 0.00043489778181537986, 0.00015683120000176132, 2.8505737645900808e-05, 4.0058319427771494e-05, 0.0005936679663136601, 0.00011775231541832909, 0.00014039635425433517, 0.0001806039217626676, 0.0009641890646889806, 0.9867159128189087, 0.0, 0.0, 0.0, 0.0, 0.0, 0.0, 0.0, 0.0, 0.0, 0.0, 0.0, 0.0, 0.0, 0.0, 0.0], [0.009046882390975952, 0.0007260903948917985, 6.491786189144477e-05, 4.5782704546581954e-05, 3.669528086902574e-05, 3.389695848454721e-05, 4.131328751100227e-05, 9.000120917335153e-05, 0.016163911670446396, 1.895378591143526e-05, 3.3513781090732664e-05, 0.0021810815669596195, 5.341176802176051e-06, 0.018749460577964783, 0.0001789774833014235, 0.00049936881987378, 0.002435564761981368, 4.271611032891087e-05, 7.329281652346253e-05, 1.9154360415996052e-05, 0.9495131969451904, 0.0, 0.0, 0.0, 0.0, 0.0, 0.0, 0.0, 0.0, 0.0, 0.0, 0.0, 0.0, 0.0, 0.0], [0.00021946291963104159, 0.0011669580126181245, 0.00021983245096635073, 0.0009876289404928684, 0.00031338463304564357, 0.00012072654499206692, 5.631537533190567e-06, 2.4260070858872496e-05, 4.544197872746736e-05, 1.852959394454956e-05, 1.4025716154719703e-05, 1.0154987649002578e-05, 0.0004018019244540483, 4.0526429074816406e-05, 0.0001710674405330792, 9.8690579761751e-06, 9.488572686677799e-06, 0.0003931091050617397, 5.709413926524576e-06, 1.7844293324742466e-05, 2.8530415875138715e-05, 0.9957762360572815, 0.0, 0.0, 0.0, 0.0, 0.0, 0.0, 0.0, 0.0, 0.0, 0.0, 0.0, 0.0, 0.0], [0.00019361003069207072, 0.0008434180053882301, 0.0005215295823290944, 2.566456350905355e-05, 0.00046233212924562395, 0.00025401596212759614, 1.8471217117621563e-05, 0.00011509784235386178, 0.00027288994169794023, 0.00015436687681358308, 1.21491457321099e-05, 0.0006913748802617192, 5.695979416486807e-05, 0.00024024784215725958, 3.827492764685303e-05, 9.934457921190187e-05, 0.0006488919025287032, 8.011747559066862e-05, 0.00019218817760702223, 2.5529448976158164e-05, 0.00032434804597869515, 0.0010871072299778461, 0.9936420321464539, 0.0, 0.0, 0.0, 0.0, 0.0, 0.0, 0.0, 0.0, 0.0, 0.0, 0.0, 0.0], [0.0016077648615464568, 0.1769733428955078, 0.015483601950109005, 0.000371388130588457, 0.0003786341694649309, 0.00016452741692773998, 0.00032773835118860006, 0.00016989713185466826, 0.00212296424433589, 3.573103458620608e-05, 6.090146052883938e-05, 0.0004562170070130378, 1.5447807527380064e-05, 0.0022543182130903006, 0.0015666899271309376, 0.00011843765969388187, 0.0004699892597272992, 5.037321534473449e-05, 0.00012108073133276775, 6.008972559357062e-05, 0.0008920581312850118, 0.0007518462371081114, 0.00026899686781689525, 0.7952780723571777, 0.0, 0.0, 0.0, 0.0, 0.0, 0.0, 0.0, 0.0, 0.0, 0.0, 0.0], [0.0003919867449440062, 0.00021421202109195292, 0.0005306123057380319, 1.0745795407274272e-05, 0.00011862390965688974, 4.225783050060272e-05, 0.00021160392498131841, 4.692554284702055e-05, 0.00044815847650170326, 0.00010691297211451456, 3.935468339477666e-05, 0.00016830874665174633, 0.00017352365830447525, 0.000452450942248106, 0.00014294125139713287, 0.00011699349124683067, 0.00017526814190205187, 0.00010119981016032398, 4.251394420862198e-05, 2.0371742721181363e-05, 3.83713559131138e-05, 0.00011344622180331498, 0.00025279319379478693, 6.991033296799287e-05, 0.9959704875946045, 0.0, 0.0, 0.0, 0.0, 0.0, 0.0, 0.0, 0.0, 0.0, 0.0], [0.00021530696540139616, 0.00010005840158555657, 0.002380918012931943, 0.0019831403624266386, 0.0011120112612843513, 5.563466766034253e-05, 0.0006109262467361987, 0.0002456433139741421, 8.819004870019853e-05, 0.001151039730757475, 0.00010669898620108142, 0.00017554868827573955, 5.736283492296934e-05, 7.814793207217008e-05, 0.0002457347291056067, 9.594668881618418e-06, 0.00017032393952831626, 2.8972648578928784e-05, 1.401169993187068e-05, 0.00016692063945811242, 1.2888870514871087e-05, 0.00024495532852597535, 0.0005147010087966919, 4.942114173900336e-05, 0.0005746553069911897, 0.9896071553230286, 0.0, 0.0, 0.0, 0.0, 0.0, 0.0, 0.0, 0.0, 0.0], [0.00011423427349654958, 0.0008627412607893348, 0.0007732235244475305, 0.0007090758881531656, 0.0007292139925993979, 0.0014031626051291823, 0.00021403632126748562, 0.00017666495114099234, 6.622055661864579e-05, 3.2159430702449754e-05, 0.0004533061583060771, 0.0001200851402245462, 2.2129046556074172e-05, 5.8075143897440284e-05, 0.00012917444109916687, 1.9079687263001688e-05, 0.00011076675582444295, 8.56419592309976e-06, 2.363056773901917e-05, 0.0003379980626050383, 5.211896859691478e-05, 0.00014455695054493845, 0.0001969498407561332, 0.0004510532016865909, 2.0576282622641884e-05, 8.76431877259165e-05, 0.992683470249176, 0.0, 0.0, 0.0, 0.0, 0.0, 0.0, 0.0, 0.0], [0.0001979833614313975, 0.00019567940034903586, 0.00022612242901232094, 0.00041943672113120556, 0.0005979695124551654, 0.000451744650490582, 0.0003478288999758661, 0.0002585809852462262, 2.80198801192455e-05, 0.0007220012485049665, 0.00013010468683205545, 0.001163206878118217, 6.916908751009032e-05, 2.4789154849713668e-05, 0.00010386014764662832, 0.00038124938146211207, 0.0011587801855057478, 0.00033144469489343464, 0.00024494543322362006, 0.00012755172792822123, 0.0001609843602636829, 1.9267921743448824e-05, 0.00027174208662472665, 2.0765552108059637e-05, 6.82506724842824e-05, 0.0008764250087551773, 0.0006782166310586035, 0.9907240271568298, 0.0, 0.0, 0.0, 0.0, 0.0, 0.0, 0.0], [3.157186438329518e-05, 0.0006791105843149126, 0.0007090711151249707, 0.0002416483621345833, 0.00041205441812053323, 0.0009237418416887522, 0.00020848562417086214, 6.639292405452579e-05, 0.00011664830526569858, 8.601935405749828e-05, 0.010591307654976845, 0.000337290926836431, 2.189849146816414e-05, 0.00010110736184287816, 0.00010436093725729734, 5.85874222451821e-05, 0.00032512127654626966, 1.5854117009439506e-05, 5.033608431403991e-06, 0.0004094902833458036, 1.3119506547809578e-05, 5.3133546316530555e-05, 1.1887261280207895e-05, 5.536676326300949e-05, 1.219769455929054e-05, 8.952644566306844e-05, 0.0022435509599745274, 0.0002104191662510857, 0.981866180896759, 0.0, 0.0, 0.0, 0.0, 0.0, 0.0], [0.0007582928519695997, 0.0012331446632742882, 8.604941103840247e-05, 6.291332101682201e-05, 2.879176099668257e-05, 3.3166903449455276e-05, 7.622712291777134e-05, 0.00010868187382584438, 0.006450857501477003, 0.00014789080887567252, 1.0376486898167059e-05, 0.0023889727890491486, 7.88359175203368e-05, 0.007510701194405556, 0.00028743132133968174, 0.0001367574732284993, 0.002760295057669282, 0.0007447169627994299, 8.81111845956184e-05, 2.470205072313547e-05, 0.006188869941979647, 0.00011647049541352317, 0.0001724402973195538, 0.00026217513368465006, 0.00018419795378576964, 4.4321401219349355e-05, 4.855170482187532e-05, 8.903052366804332e-05, 2.6887826606980525e-05, 0.9698501229286194, 0.0, 0.0, 0.0, 0.0, 0.0], [0.00024627428501844406, 0.00035919909714721143, 0.00020521896658465266, 9.38774537644349e-05, 8.57732302392833e-05, 5.495211007655598e-05, 4.531835293164477e-05, 1.0722159458964597e-05, 4.867112875217572e-05, 0.0001101760717574507, 0.00010064091475214809, 9.7722360806074e-05, 0.0005496814846992493, 4.362939216662198e-05, 3.945788193959743e-05, 7.140220259316266e-05, 9.814348595682532e-05, 5.7009699958143756e-05, 2.4251108698081225e-05, 2.31456533583696e-06, 5.0569389713928103e-05, 0.0001131849130615592, 0.0002906991576310247, 6.889962241984904e-05, 0.0006683259271085262, 0.0002321746142115444, 8.348713890882209e-06, 1.743463144521229e-05, 1.027311009238474e-05, 0.00013885677617508918, 0.9960569143295288, 0.0, 0.0, 0.0, 0.0], [0.00011105907469755039, 3.599160481826402e-05, 4.416058072820306e-05, 0.00022596407507080585, 0.0002402585232630372, 1.734895158733707e-05, 7.204312714748085e-05, 0.00023738990421406925, 8.27475669211708e-05, 0.00010178552474826574, 7.876390554883983e-06, 6.391840724973008e-05, 3.295211718068458e-05, 7.889196422183886e-05, 0.00011627464118646458, 7.1391496021533385e-06, 6.571760604856536e-05, 5.396369942900492e-06, 8.334031008416787e-06, 1.961390080396086e-05, 4.110632653464563e-05, 8.538004476577044e-05, 3.161620406899601e-05, 9.91701290331548e-06, 2.3832411898183636e-05, 0.0018293529283255339, 2.611126001283992e-05, 3.31351111526601e-05, 1.4612738596042618e-05, 0.0008547287434339523, 0.0001674516242928803, 0.995307981967926, 0.0, 0.0, 0.0], [0.0022552241571247578, 0.00046477504656650126, 0.00012283731484785676, 0.006661206018179655, 8.828952559269965e-05, 0.00024942768504843116, 0.0001755515404511243, 2.6563478968455456e-05, 0.004149139393121004, 0.00020833070448134094, 1.597335358383134e-05, 0.0007248213514685631, 1.2318059816607274e-05, 0.004929241258651018, 0.0007067761616781354, 2.746017162280623e-05, 0.0008252441766671836, 5.1487335440469906e-05, 9.107254300033674e-06, 0.00117019796743989, 0.0011320497142150998, 0.000387227424653247, 0.00010000279144151136, 0.0005395386251620948, 0.0001279767748201266, 7.41870971978642e-05, 0.0006351852207444608, 5.9918384067714214e-05, 0.00020302319899201393, 0.022641249001026154, 7.11138709448278e-05, 0.0034798511769622564, 0.9476746916770935, 0.0, 0.0], [0.00010488800762686878, 0.000540397537406534, 0.00027006055461242795, 2.7819894967251457e-05, 0.0008878528606146574, 0.00025317250401712954, 0.000292140175588429, 0.0009951454121619463, 3.9432081393897533e-05, 6.531627877848223e-05, 5.1983279263367876e-05, 0.0006716338102705777, 1.9524130038917065e-05, 3.796430610236712e-05, 0.00031547003891319036, 0.00015760320820845664, 0.0006809104816056788, 0.00017366719839628786, 0.0002327583497390151, 0.0004935197648592293, 0.00015254216850735247, 8.968851761892438e-05, 0.0014225784689188004, 0.00022503049694932997, 0.00015392240311484784, 0.00010696897516027093, 0.00565023347735405, 0.0008653216063976288, 0.0002874947094824165, 0.00013868475798517466, 1.4354158338392153e-05, 2.8161950467620045e-05, 0.0001161200343631208, 0.9844375848770142, 0.0], [0.0018830366898328066, 0.00023013926693238318, 7.19053641660139e-05, 3.7982904359523673e-06, 0.0022563592065125704, 4.367969449958764e-05, 0.00012782943667843938, 0.0006368017056956887, 0.000536399136763066, 5.325698111846577e-06, 7.917846960481256e-05, 2.6015983166871592e-05, 1.125324433814967e-05, 0.0005611242959275842, 9.103780939767603e-06, 0.00021052206284366548, 2.689109169295989e-05, 3.2424319215351716e-05, 0.0002593929530121386, 0.00045266642700880766, 0.0011520981788635254, 1.149352829088457e-05, 4.8182344471570104e-05, 0.00010571489838184789, 8.452797192148864e-05, 0.000100208621006459, 2.8483702408266254e-05, 2.041542757069692e-05, 1.8022952872343012e-06, 7.628946332260966e-05, 4.604330752044916e-05, 9.973564010579139e-05, 5.258398232399486e-06, 0.0001948850112967193, 0.9905609488487244]], [[1.0, 0.0, 0.0, 0.0, 0.0, 0.0, 0.0, 0.0, 0.0, 0.0, 0.0, 0.0, 0.0, 0.0, 0.0, 0.0, 0.0, 0.0, 0.0, 0.0, 0.0, 0.0, 0.0, 0.0, 0.0, 0.0, 0.0, 0.0, 0.0, 0.0, 0.0, 0.0, 0.0, 0.0, 0.0], [0.9424744844436646, 0.05752556025981903, 0.0, 0.0, 0.0, 0.0, 0.0, 0.0, 0.0, 0.0, 0.0, 0.0, 0.0, 0.0, 0.0, 0.0, 0.0, 0.0, 0.0, 0.0, 0.0, 0.0, 0.0, 0.0, 0.0, 0.0, 0.0, 0.0, 0.0, 0.0, 0.0, 0.0, 0.0, 0.0, 0.0], [0.8506749868392944, 0.09740971028804779, 0.05191529169678688, 0.0, 0.0, 0.0, 0.0, 0.0, 0.0, 0.0, 0.0, 0.0, 0.0, 0.0, 0.0, 0.0, 0.0, 0.0, 0.0, 0.0, 0.0, 0.0, 0.0, 0.0, 0.0, 0.0, 0.0, 0.0, 0.0, 0.0, 0.0, 0.0, 0.0, 0.0, 0.0], [0.7641512751579285, 0.10970377177000046, 0.07497037947177887, 0.05117453634738922, 0.0, 0.0, 0.0, 0.0, 0.0, 0.0, 0.0, 0.0, 0.0, 0.0, 0.0, 0.0, 0.0, 0.0, 0.0, 0.0, 0.0, 0.0, 0.0, 0.0, 0.0, 0.0, 0.0, 0.0, 0.0, 0.0, 0.0, 0.0, 0.0, 0.0, 0.0], [0.6748191714286804, 0.08416195213794708, 0.0547025091946125, 0.07581549882888794, 0.11050094664096832, 0.0, 0.0, 0.0, 0.0, 0.0, 0.0, 0.0, 0.0, 0.0, 0.0, 0.0, 0.0, 0.0, 0.0, 0.0, 0.0, 0.0, 0.0, 0.0, 0.0, 0.0, 0.0, 0.0, 0.0, 0.0, 0.0, 0.0, 0.0, 0.0, 0.0], [0.6857607364654541, 0.08229532092809677, 0.052021149545907974, 0.08139174431562424, 0.04085882380604744, 0.05767221376299858, 0.0, 0.0, 0.0, 0.0, 0.0, 0.0, 0.0, 0.0, 0.0, 0.0, 0.0, 0.0, 0.0, 0.0, 0.0, 0.0, 0.0, 0.0, 0.0, 0.0, 0.0, 0.0, 0.0, 0.0, 0.0, 0.0, 0.0, 0.0, 0.0], [0.6174605488777161, 0.05653456225991249, 0.09111698716878891, 0.06854881346225739, 0.06338423490524292, 0.035969749093055725, 0.066985122859478, 0.0, 0.0, 0.0, 0.0, 0.0, 0.0, 0.0, 0.0, 0.0, 0.0, 0.0, 0.0, 0.0, 0.0, 0.0, 0.0, 0.0, 0.0, 0.0, 0.0, 0.0, 0.0, 0.0, 0.0, 0.0, 0.0, 0.0, 0.0], [0.6047279834747314, 0.06088969483971596, 0.05921151489019394, 0.09558156877756119, 0.042659152299165726, 0.03184344246983528, 0.042630646377801895, 0.062456026673316956, 0.0, 0.0, 0.0, 0.0, 0.0, 0.0, 0.0, 0.0, 0.0, 0.0, 0.0, 0.0, 0.0, 0.0, 0.0, 0.0, 0.0, 0.0, 0.0, 0.0, 0.0, 0.0, 0.0, 0.0, 0.0, 0.0, 0.0], [0.4008438289165497, 0.07533580809831619, 0.04270840808749199, 0.011760726571083069, 0.026680568233132362, 0.013492081314325333, 0.028465459123253822, 0.013900598511099815, 0.3868125379085541, 0.0, 0.0, 0.0, 0.0, 0.0, 0.0, 0.0, 0.0, 0.0, 0.0, 0.0, 0.0, 0.0, 0.0, 0.0, 0.0, 0.0, 0.0, 0.0, 0.0, 0.0, 0.0, 0.0, 0.0, 0.0, 0.0], [0.49680259823799133, 0.06792883574962616, 0.05792003497481346, 0.07101526856422424, 0.06963260471820831, 0.018800098448991776, 0.06757567077875137, 0.06346482038497925, 0.06656692177057266, 0.02029319852590561, 0.0, 0.0, 0.0, 0.0, 0.0, 0.0, 0.0, 0.0, 0.0, 0.0, 0.0, 0.0, 0.0, 0.0, 0.0, 0.0, 0.0, 0.0, 0.0, 0.0, 0.0, 0.0, 0.0, 0.0, 0.0], [0.5176077485084534, 0.08289017528295517, 0.052397653460502625, 0.06842365115880966, 0.04608829319477081, 0.026865951716899872, 0.08181484043598175, 0.032308343797922134, 0.055162765085697174, 0.018549641594290733, 0.01789088174700737, 0.0, 0.0, 0.0, 0.0, 0.0, 0.0, 0.0, 0.0, 0.0, 0.0, 0.0, 0.0, 0.0, 0.0, 0.0, 0.0, 0.0, 0.0, 0.0, 0.0, 0.0, 0.0, 0.0, 0.0], [0.3038182854652405, 0.031856462359428406, 0.029157694429159164, 0.011053642258048058, 0.013536772690713406, 0.016536911949515343, 0.01518196240067482, 0.015511736273765564, 0.026294957846403122, 0.016891004517674446, 0.011886644177138805, 0.5082740187644958, 0.0, 0.0, 0.0, 0.0, 0.0, 0.0, 0.0, 0.0, 0.0, 0.0, 0.0, 0.0, 0.0, 0.0, 0.0, 0.0, 0.0, 0.0, 0.0, 0.0, 0.0, 0.0, 0.0], [0.3585990071296692, 0.07880906760692596, 0.05902862176299095, 0.04445865377783775, 0.07822325080633163, 0.019679531455039978, 0.05133117735385895, 0.0400983951985836, 0.08024681359529495, 0.027811914682388306, 0.010250615887343884, 0.1361035406589508, 0.015359452925622463, 0.0, 0.0, 0.0, 0.0, 0.0, 0.0, 0.0, 0.0, 0.0, 0.0, 0.0, 0.0, 0.0, 0.0, 0.0, 0.0, 0.0, 0.0, 0.0, 0.0, 0.0, 0.0], [0.2511677145957947, 0.046233996748924255, 0.027838556095957756, 0.0070564947091042995, 0.017244167625904083, 0.008997935801744461, 0.017309946939349174, 0.00992414727807045, 0.25275108218193054, 0.012778300791978836, 0.008546065539121628, 0.047919970005750656, 0.006098273675888777, 0.28613337874412537, 0.0, 0.0, 0.0, 0.0, 0.0, 0.0, 0.0, 0.0, 0.0, 0.0, 0.0, 0.0, 0.0, 0.0, 0.0, 0.0, 0.0, 0.0, 0.0, 0.0, 0.0], [0.398007869720459, 0.06433820724487305, 0.04979853704571724, 0.05949562042951584, 0.0318211205303669, 0.0307147353887558, 0.05899549648165703, 0.054803892970085144, 0.03919370844960213, 0.035564471036195755, 0.024916458874940872, 0.04571930319070816, 0.016671661287546158, 0.038943082094192505, 0.05101581662893295, 0.0, 0.0, 0.0, 0.0, 0.0, 0.0, 0.0, 0.0, 0.0, 0.0, 0.0, 0.0, 0.0, 0.0, 0.0, 0.0, 0.0, 0.0, 0.0, 0.0], [0.39033839106559753, 0.0754939541220665, 0.03844676539301872, 0.04366777464747429, 0.017820753157138824, 0.012712185271084309, 0.04530723765492439, 0.03603019937872887, 0.042170681059360504, 0.016753027215600014, 0.042248643934726715, 0.05092340707778931, 0.030772073194384575, 0.04072083532810211, 0.05648885667324066, 0.06010529771447182, 0.0, 0.0, 0.0, 0.0, 0.0, 0.0, 0.0, 0.0, 0.0, 0.0, 0.0, 0.0, 0.0, 0.0, 0.0, 0.0, 0.0, 0.0, 0.0], [0.18182353675365448, 0.018224792554974556, 0.01747790537774563, 0.006372255738824606, 0.007922591641545296, 0.010062881745398045, 0.008703156374394894, 0.010297474451363087, 0.015354440547525883, 0.011538185179233551, 0.007091044913977385, 0.3139553964138031, 0.006019816733896732, 0.015887580811977386, 0.01542199868708849, 0.013188587501645088, 0.34065836668014526, 0.0, 0.0, 0.0, 0.0, 0.0, 0.0, 0.0, 0.0, 0.0, 0.0, 0.0, 0.0, 0.0, 0.0, 0.0, 0.0, 0.0, 0.0], [0.23881429433822632, 0.07684366405010223, 0.04843556508421898, 0.02831975743174553, 0.04297623410820961, 0.01943075843155384, 0.033217210322618484, 0.027472954243421555, 0.01897592656314373, 0.040467482060194016, 0.02009560354053974, 0.0585731565952301, 0.035305723547935486, 0.019691891968250275, 0.0970376580953598, 0.03909807652235031, 0.06199450045824051, 0.09324945509433746, 0.0, 0.0, 0.0, 0.0, 0.0, 0.0, 0.0, 0.0, 0.0, 0.0, 0.0, 0.0, 0.0, 0.0, 0.0, 0.0, 0.0], [0.35636118054389954, 0.043545376509428024, 0.05439372733235359, 0.035997189581394196, 0.055608708411455154, 0.032856810837984085, 0.019443828612565994, 0.06911689788103104, 0.020649438723921776, 0.033605340868234634, 0.027618732303380966, 0.03408000245690346, 0.026847446337342262, 0.02033730410039425, 0.022298933938145638, 0.03622739389538765, 0.03464473783969879, 0.02265501394867897, 0.0537119023501873, 0.0, 0.0, 0.0, 0.0, 0.0, 0.0, 0.0, 0.0, 0.0, 0.0, 0.0, 0.0, 0.0, 0.0, 0.0, 0.0], [0.39670121669769287, 0.05178240314126015, 0.039961930364370346, 0.0663074478507042, 0.04557184502482414, 0.02398340031504631, 0.019396748393774033, 0.021365970373153687, 0.020253777503967285, 0.03685581684112549, 0.00949204433709383, 0.04181000217795372, 0.014498692005872726, 0.01978372223675251, 0.02971522882580757, 0.04631546512246132, 0.04246639087796211, 0.031475216150283813, 0.02202763967216015, 0.02023506909608841, 0.0, 0.0, 0.0, 0.0, 0.0, 0.0, 0.0, 0.0, 0.0, 0.0, 0.0, 0.0, 0.0, 0.0, 0.0], [0.23151393234729767, 0.13258202373981476, 0.06026103347539902, 0.011383598670363426, 0.024262716993689537, 0.01455345842987299, 0.01697956584393978, 0.013957410119473934, 0.02247590571641922, 0.027721287682652473, 0.02060706913471222, 0.040846843272447586, 0.02772320620715618, 0.024550696834921837, 0.03857919201254845, 0.04770103096961975, 0.044071100652217865, 0.07720751315355301, 0.04604469984769821, 0.04773346707224846, 0.029244298115372658, 0.0, 0.0, 0.0, 0.0, 0.0, 0.0, 0.0, 0.0, 0.0, 0.0, 0.0, 0.0, 0.0, 0.0], [0.20264171063899994, 0.04893086850643158, 0.03894680738449097, 0.026632271707057953, 0.040943484753370285, 0.01617504097521305, 0.043880145996809006, 0.04927309602499008, 0.037442922592163086, 0.01874796487390995, 0.010438330471515656, 0.030274193733930588, 0.011668822728097439, 0.03915899246931076, 0.08361908048391342, 0.026806533336639404, 0.03237595409154892, 0.026771074160933495, 0.04136868938803673, 0.04380553215742111, 0.09921548515558243, 0.03088301047682762, 0.0, 0.0, 0.0, 0.0, 0.0, 0.0, 0.0, 0.0, 0.0, 0.0, 0.0, 0.0, 0.0], [0.22999970614910126, 0.029275361448526382, 0.02482369914650917, 0.030747542157769203, 0.024439768865704536, 0.02507817931473255, 0.01904827356338501, 0.041617508977651596, 0.02524641901254654, 0.055363453924655914, 0.013840338215231895, 0.03206310793757439, 0.02337372675538063, 0.026896368712186813, 0.037655845284461975, 0.02870967984199524, 0.03498142957687378, 0.038269270211458206, 0.05304877832531929, 0.07750778645277023, 0.042357493191957474, 0.0629706159234047, 0.02268565446138382, 0.0, 0.0, 0.0, 0.0, 0.0, 0.0, 0.0, 0.0, 0.0, 0.0, 0.0, 0.0], [0.2523007094860077, 0.04309260472655296, 0.04779433086514473, 0.021534807980060577, 0.05364761874079704, 0.014357616193592548, 0.016968199983239174, 0.012399841099977493, 0.028107933700084686, 0.022964568808674812, 0.013637283816933632, 0.03462430089712143, 0.013057569973170757, 0.029753552749753, 0.025925690308213234, 0.03689543902873993, 0.0364658385515213, 0.02009117230772972, 0.03424844145774841, 0.0322706364095211, 0.07516520470380783, 0.03381401300430298, 0.057944510132074356, 0.042938102036714554, 0.0, 0.0, 0.0, 0.0, 0.0, 0.0, 0.0, 0.0, 0.0, 0.0, 0.0], [0.24815583229064941, 0.041838373988866806, 0.037253525108098984, 0.019914167001843452, 0.06031177192926407, 0.013761509209871292, 0.010237004607915878, 0.02711835876107216, 0.02124747820198536, 0.014996428042650223, 0.015956399962306023, 0.01974193938076496, 0.016942845657467842, 0.022782426327466965, 0.021159417927265167, 0.013419795781373978, 0.02113155461847782, 0.01588008925318718, 0.03851576894521713, 0.03509928286075592, 0.06386472284793854, 0.04215889796614647, 0.055951785296201706, 0.06510591506958008, 0.0574546717107296, 0.0, 0.0, 0.0, 0.0, 0.0, 0.0, 0.0, 0.0, 0.0, 0.0], [0.24590620398521423, 0.03979460895061493, 0.034050021320581436, 0.03872011974453926, 0.02834436297416687, 0.024568283930420876, 0.013687249273061752, 0.019880935549736023, 0.017507940530776978, 0.04131212458014488, 0.024649063125252724, 0.017028072848916054, 0.015493784099817276, 0.018039915710687637, 0.028712527826428413, 0.008945342153310776, 0.017858801409602165, 0.029846547171473503, 0.02698221057653427, 0.0611925944685936, 0.03972142934799194, 0.04008689522743225, 0.046563781797885895, 0.046592097729444504, 0.04635816439986229, 0.028156941756606102, 0.0, 0.0, 0.0, 0.0, 0.0, 0.0, 0.0, 0.0, 0.0], [0.24299508333206177, 0.030936650931835175, 0.0372810997068882, 0.029979784041643143, 0.03951823711395264, 0.02068972960114479, 0.02446378953754902, 0.01616225764155388, 0.023514611646533012, 0.015184110961854458, 0.009779490530490875, 0.010400431230664253, 0.008830741047859192, 0.023988919332623482, 0.024419227614998817, 0.03784201666712761, 0.01058998703956604, 0.013367556035518646, 0.0162633266299963, 0.09984052926301956, 0.02563280612230301, 0.027902808040380478, 0.05468779802322388, 0.031704071909189224, 0.027479570358991623, 0.01651724800467491, 0.08002809435129166, 0.0, 0.0, 0.0, 0.0, 0.0, 0.0, 0.0, 0.0], [0.24383296072483063, 0.021781548857688904, 0.019058482721447945, 0.026608387008309364, 0.03740560635924339, 0.027086623013019562, 0.0050316122360527515, 0.02665604092180729, 0.017429379746317863, 0.02866247668862343, 0.012150995433330536, 0.030223211273550987, 0.014068293385207653, 0.018160907551646233, 0.015435300767421722, 0.015721842646598816, 0.032153066247701645, 0.024973010644316673, 0.047933753579854965, 0.0459899939596653, 0.031192146241664886, 0.03841527923941612, 0.037881284952163696, 0.03472226858139038, 0.03550754487514496, 0.03336038440465927, 0.05460802838206291, 0.02394956350326538, 0.0, 0.0, 0.0, 0.0, 0.0, 0.0, 0.0], [0.308788001537323, 0.04082433134317398, 0.010766163468360901, 0.02708975411951542, 0.019433287903666496, 0.03355548903346062, 0.010839532129466534, 0.011495564132928848, 0.0112864188849926, 0.019319290295243263, 0.03442363440990448, 0.010595868341624737, 0.01946372538805008, 0.01157797034829855, 0.014172402210533619, 0.021593410521745682, 0.010569151490926743, 0.01821252517402172, 0.007991209626197815, 0.05231862515211105, 0.019707778468728065, 0.03532519191503525, 0.029598258435726166, 0.028512977063655853, 0.021019769832491875, 0.018976135179400444, 0.031007949262857437, 0.017736954614520073, 0.10379862785339355, 0.0, 0.0, 0.0, 0.0, 0.0, 0.0], [0.11270298808813095, 0.013211608864367008, 0.015115484595298767, 0.008062331937253475, 0.018075058236718178, 0.020267318934202194, 0.009121793322265148, 0.0216544009745121, 0.024600304663181305, 0.012220291420817375, 0.005230673588812351, 0.021195191890001297, 0.0075057619251310825, 0.0272400863468647, 0.016828985884785652, 0.0093071972951293, 0.023774148896336555, 0.009840184822678566, 0.023520387709140778, 0.018096182495355606, 0.11592710763216019, 0.008296087384223938, 0.015038424171507359, 0.01626184768974781, 0.022837141528725624, 0.007970291189849377, 0.010346011258661747, 0.013601286336779594, 0.00992316659539938, 0.3622281849384308, 0.0, 0.0, 0.0, 0.0, 0.0], [0.19907140731811523, 0.02335296757519245, 0.02753550000488758, 0.020741203799843788, 0.049442410469055176, 0.0396454855799675, 0.011580479331314564, 0.038496047258377075, 0.012212716042995453, 0.012634865008294582, 0.01889784447848797, 0.01150271575897932, 0.014417962171137333, 0.01285513024777174, 0.015916291624307632, 0.009284359402954578, 0.0119291041046381, 0.014574809931218624, 0.029562365263700485, 0.030921462923288345, 0.0493488572537899, 0.026833010837435722, 0.03316977620124817, 0.02651391364634037, 0.03841780871152878, 0.036665916442871094, 0.03740686923265457, 0.037449173629283905, 0.041813671588897705, 0.04080500081181526, 0.027000807225704193, 0.0, 0.0, 0.0, 0.0], [0.135808527469635, 0.021598203107714653, 0.028431447222828865, 0.021366791799664497, 0.03184177726507187, 0.02831076644361019, 0.011232438497245312, 0.016139332205057144, 0.02343672700226307, 0.025144265964627266, 0.012804518453776836, 0.01200049463659525, 0.02091226540505886, 0.02500329725444317, 0.027692245319485664, 0.017305932939052582, 0.01285973284393549, 0.016066301614046097, 0.03278999775648117, 0.03829027712345123, 0.060804810374975204, 0.03674997761845589, 0.035247333347797394, 0.03857800364494324, 0.03904813900589943, 0.03664339706301689, 0.014530438929796219, 0.021632274612784386, 0.010491002351045609, 0.06733930855989456, 0.038672856986522675, 0.04122712463140488, 0.0, 0.0, 0.0], [0.13088132441043854, 0.023744333535432816, 0.020114338025450706, 0.00970239844173193, 0.0269522275775671, 0.013591105118393898, 0.009517530910670757, 0.013271717354655266, 0.02761789783835411, 0.011498373933136463, 0.008886140771210194, 0.016865797340869904, 0.0099719800055027, 0.03131860867142677, 0.014953812584280968, 0.015636609867215157, 0.018755855038762093, 0.00882246345281601, 0.024258317425847054, 0.018599875271320343, 0.06659714877605438, 0.023935332894325256, 0.03021501749753952, 0.03847971558570862, 0.06054788827896118, 0.038860984146595, 0.021039582788944244, 0.026919951662421227, 0.030786722898483276, 0.06339395046234131, 0.05302291363477707, 0.07499752193689346, 0.016242539510130882, 0.0, 0.0], [0.21679525077342987, 0.03523937985301018, 0.014480574056506157, 0.03231681510806084, 0.021502697840332985, 0.019766855984926224, 0.0077169653959572315, 0.03142578899860382, 0.011421251110732555, 0.039850786328315735, 0.0056975469924509525, 0.013826766982674599, 0.011217729188501835, 0.011028860695660114, 0.014342347159981728, 0.016691602766513824, 0.013800657354295254, 0.009054169058799744, 0.016551567241549492, 0.045164525508880615, 0.016743391752243042, 0.040494970977306366, 0.04600660502910614, 0.03918023034930229, 0.02077178843319416, 0.04241836816072464, 0.029444053769111633, 0.01654653251171112, 0.0433904193341732, 0.018028808757662773, 0.017493009567260742, 0.03195444494485855, 0.02317996881902218, 0.026455221697688103, 0.0], [0.12406575679779053, 0.05575520172715187, 0.025793109089136124, 0.007745691575109959, 0.019214730709791183, 0.011872395873069763, 0.009303725324571133, 0.015842612832784653, 0.01272842288017273, 0.012888254597783089, 0.013962876982986927, 0.016627255827188492, 0.01550709456205368, 0.013195217587053776, 0.017325090244412422, 0.021147985011339188, 0.017335504293441772, 0.015824289992451668, 0.02479437366127968, 0.011903028003871441, 0.03651026636362076, 0.02387475036084652, 0.04022137075662613, 0.06286035478115082, 0.10149352997541428, 0.053322598338127136, 0.021689631044864655, 0.018244290724396706, 0.008406994864344597, 0.02320230007171631, 0.049604177474975586, 0.020869329571723938, 0.016017969697713852, 0.01110194344073534, 0.049747951328754425]], [[1.0, 0.0, 0.0, 0.0, 0.0, 0.0, 0.0, 0.0, 0.0, 0.0, 0.0, 0.0, 0.0, 0.0, 0.0, 0.0, 0.0, 0.0, 0.0, 0.0, 0.0, 0.0, 0.0, 0.0, 0.0, 0.0, 0.0, 0.0, 0.0, 0.0, 0.0, 0.0, 0.0, 0.0, 0.0], [0.1077801063656807, 0.8922199010848999, 0.0, 0.0, 0.0, 0.0, 0.0, 0.0, 0.0, 0.0, 0.0, 0.0, 0.0, 0.0, 0.0, 0.0, 0.0, 0.0, 0.0, 0.0, 0.0, 0.0, 0.0, 0.0, 0.0, 0.0, 0.0, 0.0, 0.0, 0.0, 0.0, 0.0, 0.0, 0.0, 0.0], [0.01184743084013462, 0.5536141991615295, 0.43453842401504517, 0.0, 0.0, 0.0, 0.0, 0.0, 0.0, 0.0, 0.0, 0.0, 0.0, 0.0, 0.0, 0.0, 0.0, 0.0, 0.0, 0.0, 0.0, 0.0, 0.0, 0.0, 0.0, 0.0, 0.0, 0.0, 0.0, 0.0, 0.0, 0.0, 0.0, 0.0, 0.0], [0.06322263181209564, 0.021719148382544518, 0.0942729189991951, 0.8207852244377136, 0.0, 0.0, 0.0, 0.0, 0.0, 0.0, 0.0, 0.0, 0.0, 0.0, 0.0, 0.0, 0.0, 0.0, 0.0, 0.0, 0.0, 0.0, 0.0, 0.0, 0.0, 0.0, 0.0, 0.0, 0.0, 0.0, 0.0, 0.0, 0.0, 0.0, 0.0], [0.005095744971185923, 0.0005348753184080124, 0.0010105493711307645, 0.0046575660817325115, 0.9887012243270874, 0.0, 0.0, 0.0, 0.0, 0.0, 0.0, 0.0, 0.0, 0.0, 0.0, 0.0, 0.0, 0.0, 0.0, 0.0, 0.0, 0.0, 0.0, 0.0, 0.0, 0.0, 0.0, 0.0, 0.0, 0.0, 0.0, 0.0, 0.0, 0.0, 0.0], [0.005585955921560526, 0.0003024004108738154, 0.0007955087930895388, 0.0006780328112654388, 0.028760112822055817, 0.9638779759407043, 0.0, 0.0, 0.0, 0.0, 0.0, 0.0, 0.0, 0.0, 0.0, 0.0, 0.0, 0.0, 0.0, 0.0, 0.0, 0.0, 0.0, 0.0, 0.0, 0.0, 0.0, 0.0, 0.0, 0.0, 0.0, 0.0, 0.0, 0.0, 0.0], [0.0002665734791662544, 0.0001539620861876756, 4.34421599493362e-05, 0.00031633960315957665, 0.007582381833344698, 0.008635708130896091, 0.9830015897750854, 0.0, 0.0, 0.0, 0.0, 0.0, 0.0, 0.0, 0.0, 0.0, 0.0, 0.0, 0.0, 0.0, 0.0, 0.0, 0.0, 0.0, 0.0, 0.0, 0.0, 0.0, 0.0, 0.0, 0.0, 0.0, 0.0, 0.0, 0.0], [0.0006940615130588412, 4.833174170926213e-05, 4.511346196522936e-05, 2.3520820832345635e-05, 0.0022377651184797287, 0.001208051573485136, 0.00932135060429573, 0.9864218235015869, 0.0, 0.0, 0.0, 0.0, 0.0, 0.0, 0.0, 0.0, 0.0, 0.0, 0.0, 0.0, 0.0, 0.0, 0.0, 0.0, 0.0, 0.0, 0.0, 0.0, 0.0, 0.0, 0.0, 0.0, 0.0, 0.0, 0.0], [0.04771990701556206, 0.0063469125889241695, 0.005507620982825756, 0.01277671568095684, 0.012552585452795029, 0.012200531549751759, 0.0077605959959328175, 0.017114851623773575, 0.8780203461647034, 0.0, 0.0, 0.0, 0.0, 0.0, 0.0, 0.0, 0.0, 0.0, 0.0, 0.0, 0.0, 0.0, 0.0, 0.0, 0.0, 0.0, 0.0, 0.0, 0.0, 0.0, 0.0, 0.0, 0.0, 0.0, 0.0], [9.40378158702515e-05, 7.29912756014528e-07, 1.2948547691848944e-06, 1.0040562301583122e-06, 1.519241322966991e-05, 3.6095178074901924e-05, 3.151434430037625e-05, 0.0010808248771354556, 4.236837776261382e-05, 0.9986969828605652, 0.0, 0.0, 0.0, 0.0, 0.0, 0.0, 0.0, 0.0, 0.0, 0.0, 0.0, 0.0, 0.0, 0.0, 0.0, 0.0, 0.0, 0.0, 0.0, 0.0, 0.0, 0.0, 0.0, 0.0, 0.0], [0.0002984422317240387, 1.0225188816548325e-05, 2.0773863070644438e-05, 1.0716744327510241e-05, 7.453822763636708e-05, 0.00016580548253841698, 0.0013668601168319583, 0.0025834832340478897, 5.024061829317361e-05, 0.3243952989578247, 0.6710236072540283, 0.0, 0.0, 0.0, 0.0, 0.0, 0.0, 0.0, 0.0, 0.0, 0.0, 0.0, 0.0, 0.0, 0.0, 0.0, 0.0, 0.0, 0.0, 0.0, 0.0, 0.0, 0.0, 0.0, 0.0], [0.00923367589712143, 0.0007820429746061563, 0.0006810433696955442, 0.0018207866232842207, 0.00438338378444314, 0.01750912331044674, 0.003324248129501939, 0.017607424408197403, 0.08099661767482758, 0.10943027585744858, 0.014291892759501934, 0.7399395704269409, 0.0, 0.0, 0.0, 0.0, 0.0, 0.0, 0.0, 0.0, 0.0, 0.0, 0.0, 0.0, 0.0, 0.0, 0.0, 0.0, 0.0, 0.0, 0.0, 0.0, 0.0, 0.0, 0.0], [0.0002393030736129731, 3.3237947718589567e-06, 2.2832813556306064e-05, 1.024476659949869e-05, 1.0253623258904554e-05, 4.496405381360091e-05, 2.3576663807034492e-05, 6.216625479282811e-05, 0.00032929572626017034, 0.00874954555183649, 0.001878876704722643, 0.0014183479361236095, 0.9872072339057922, 0.0, 0.0, 0.0, 0.0, 0.0, 0.0, 0.0, 0.0, 0.0, 0.0, 0.0, 0.0, 0.0, 0.0, 0.0, 0.0, 0.0, 0.0, 0.0, 0.0, 0.0, 0.0], [0.01229533739387989, 0.0005298616015352309, 0.0003560508193913847, 0.0006006707553751767, 0.0005327530670911074, 0.000534971070010215, 0.00034733471693471074, 0.0008671165560372174, 0.034323085099458694, 0.013273628428578377, 0.00753119308501482, 0.0594179667532444, 0.09377507865428925, 0.775614857673645, 0.0, 0.0, 0.0, 0.0, 0.0, 0.0, 0.0, 0.0, 0.0, 0.0, 0.0, 0.0, 0.0, 0.0, 0.0, 0.0, 0.0, 0.0, 0.0, 0.0, 0.0], [7.850881229387596e-05, 1.1863348845508881e-05, 5.970536676613847e-06, 4.359465037850896e-06, 6.93304127707961e-06, 5.567320476984605e-05, 8.762012839724775e-06, 2.2130028810352087e-05, 0.0002223829651484266, 0.00028025032952427864, 0.0008127270266413689, 0.0015677291667088866, 0.00018956410349346697, 0.005879410542547703, 0.9908537864685059, 0.0, 0.0, 0.0, 0.0, 0.0, 0.0, 0.0, 0.0, 0.0, 0.0, 0.0, 0.0, 0.0, 0.0, 0.0, 0.0, 0.0, 0.0, 0.0, 0.0], [9.475018305238336e-05, 8.603468813817017e-06, 3.7448662624228746e-06, 1.4634224498877302e-07, 2.701746780076064e-06, 1.141736993304221e-05, 8.62084016262088e-06, 9.92812420008704e-05, 3.119514076388441e-06, 0.00022620831441599876, 0.0005323363584466279, 2.9804918085574172e-05, 0.0013675675727427006, 5.108002733322792e-05, 0.009570839814841747, 0.9879898428916931, 0.0, 0.0, 0.0, 0.0, 0.0, 0.0, 0.0, 0.0, 0.0, 0.0, 0.0, 0.0, 0.0, 0.0, 0.0, 0.0, 0.0, 0.0, 0.0], [0.003944708965718746, 0.00013029153342358768, 9.947711077984422e-05, 0.00019776367116719484, 0.0004265847092028707, 0.0014889852609485388, 0.00028346836916171014, 0.0015356714138761163, 0.004810093902051449, 0.005567715968936682, 0.0010473597794771194, 0.040826570242643356, 0.009189032949507236, 0.09278515726327896, 0.01585300825536251, 0.027940869331359863, 0.7938733696937561, 0.0, 0.0, 0.0, 0.0, 0.0, 0.0, 0.0, 0.0, 0.0, 0.0, 0.0, 0.0, 0.0, 0.0, 0.0, 0.0, 0.0, 0.0], [0.000217236447497271, 2.3531203623861074e-05, 7.806306712154765e-06, 4.732958132080967e-06, 1.5671192841182346e-06, 8.667426300235093e-06, 1.264625825569965e-05, 6.129281973699108e-05, 0.0001886943937279284, 0.0005901299300603569, 0.0004205670265946537, 0.00097465276485309, 0.00042177739669568837, 0.0040667117573320866, 0.0014422440435737371, 0.011960023082792759, 0.022401947528123856, 0.9571956396102905, 0.0, 0.0, 0.0, 0.0, 0.0, 0.0, 0.0, 0.0, 0.0, 0.0, 0.0, 0.0, 0.0, 0.0, 0.0, 0.0, 0.0], [0.0007360453018918633, 3.016829850821523e-06, 1.3554752058553277e-06, 1.4014691487318487e-06, 3.387712058611214e-05, 3.752295015146956e-05, 1.0748701242846437e-05, 0.00043027111678384244, 1.6196763681364246e-05, 0.0006748259766027331, 0.0005265927757136524, 0.0001240915444213897, 4.710721259471029e-05, 0.0002413816109765321, 0.0006886586197651923, 0.0003870207874570042, 0.002144157886505127, 0.0017651690868660808, 0.9921305775642395, 0.0, 0.0, 0.0, 0.0, 0.0, 0.0, 0.0, 0.0, 0.0, 0.0, 0.0, 0.0, 0.0, 0.0, 0.0, 0.0], [6.529802703880705e-06, 4.013182230977463e-09, 4.275882758975058e-09, 9.052371297002537e-09, 5.135171932124649e-07, 3.7317561236704933e-06, 1.4824270522240113e-07, 4.6551231207558885e-06, 1.663049964406582e-08, 3.029677600352443e-06, 3.191981159034185e-05, 1.401741371864773e-07, 4.954933956469176e-07, 2.3671073279274424e-07, 7.952925216159201e-07, 0.00018607258971314877, 2.4466733066219604e-06, 1.1982298929069657e-05, 0.0005082334391772747, 0.9992390871047974, 0.0, 0.0, 0.0, 0.0, 0.0, 0.0, 0.0, 0.0, 0.0, 0.0, 0.0, 0.0, 0.0, 0.0, 0.0], [0.00941789522767067, 0.00017362421203870326, 0.00019593235629145056, 0.00010542466770857573, 0.00012100111780455336, 0.0001375036226818338, 0.00020822332589887083, 0.0002620878804009408, 0.0009803816210478544, 0.00017425189435016364, 0.0013313930248841643, 0.0032773094717413187, 0.004840625915676355, 0.012378796935081482, 0.0018258995842188597, 0.024282049387693405, 0.05479969456791878, 0.07428493350744247, 0.07759270071983337, 0.10845336318016052, 0.6251569390296936, 0.0, 0.0, 0.0, 0.0, 0.0, 0.0, 0.0, 0.0, 0.0, 0.0, 0.0, 0.0, 0.0, 0.0], [0.00017886294517666101, 2.97178257824271e-06, 1.2879254427389242e-06, 1.6619693496977561e-06, 3.1533948003925616e-06, 7.608538908243645e-06, 4.48056283630649e-07, 4.628855549526634e-06, 4.462076049094321e-06, 4.640815859602299e-06, 4.678124696511077e-06, 2.225517346232664e-05, 0.0006885037291795015, 5.880856406292878e-05, 5.5112923291744664e-05, 0.0013147675199434161, 0.0004210414772387594, 0.0005279300967231393, 0.00030591568793170154, 0.0011363020166754723, 0.004935144446790218, 0.9903199076652527, 0.0, 0.0, 0.0, 0.0, 0.0, 0.0, 0.0, 0.0, 0.0, 0.0, 0.0, 0.0, 0.0], [0.0009000818245112896, 3.4609056456247345e-05, 6.00008161200094e-06, 1.3317902585185948e-06, 8.382407031604089e-06, 7.950181498017628e-06, 8.352956228918629e-07, 5.017450348532293e-06, 1.108554261008976e-05, 1.5506169802392833e-05, 2.244969073217362e-05, 3.2394586014561355e-05, 7.153382466640323e-05, 0.0001110611847252585, 6.552057584485738e-06, 3.557855961844325e-05, 0.00046084189671091735, 0.0006021015578880906, 0.00773558858782053, 0.0047313859686255455, 0.012920125387609005, 0.016999121755361557, 0.9552805423736572, 0.0, 0.0, 0.0, 0.0, 0.0, 0.0, 0.0, 0.0, 0.0, 0.0, 0.0, 0.0], [8.094528311630711e-05, 5.4195348639041185e-05, 2.1191066480241716e-05, 8.660325079290487e-07, 5.2414015954127535e-06, 2.811407057379256e-06, 9.647682190916385e-07, 4.259624347469071e-06, 6.819966074544936e-06, 2.637013039930025e-06, 1.038735263136914e-05, 3.11777948809322e-05, 2.574704740254674e-05, 8.829358557704836e-05, 0.0001053006635629572, 0.0003744474961422384, 0.0005833793547935784, 0.0009019345161505044, 0.00043120188638567924, 0.004991126712411642, 0.003515928518027067, 0.01512748934328556, 0.0183850284665823, 0.9552487730979919, 0.0, 0.0, 0.0, 0.0, 0.0, 0.0, 0.0, 0.0, 0.0, 0.0, 0.0], [0.00019926753884647042, 5.897880441807501e-07, 4.093079439826397e-07, 5.283635005071119e-07, 4.043735088998801e-07, 6.811440016463166e-07, 2.501955975731107e-07, 3.1909843301036744e-07, 5.018000592826866e-06, 3.059930349991191e-06, 4.7768617150723e-06, 8.106241693894845e-06, 1.7871010641101748e-05, 5.904932550038211e-05, 7.019503755145706e-06, 5.101941860630177e-05, 0.0001541965757496655, 0.0001555776543682441, 0.00046309534809552133, 0.00018736706988420337, 0.0029354484286159277, 0.006998688913881779, 0.004895057994872332, 0.010302471928298473, 0.9735496640205383, 0.0, 0.0, 0.0, 0.0, 0.0, 0.0, 0.0, 0.0, 0.0, 0.0], [4.041891952510923e-05, 7.668172763430903e-09, 6.183981327012589e-08, 4.109946871722059e-08, 3.1613390660822915e-07, 1.0004030315258206e-07, 6.658504503320728e-08, 4.780262656822742e-07, 4.035153366999111e-08, 6.753229627065593e-06, 8.574250642823245e-08, 1.0514231973957067e-07, 3.2702735097700497e-06, 4.896545533483732e-07, 1.2450341273506638e-06, 9.069827683561016e-06, 2.0693112219305476e-06, 8.541710485587828e-06, 4.513621024671011e-05, 8.528171747457236e-05, 8.476262155454606e-05, 0.0010267909383401275, 0.001334777451120317, 0.000296006997814402, 0.005626782309263945, 0.9914274215698242, 0.0, 0.0, 0.0, 0.0, 0.0, 0.0, 0.0, 0.0, 0.0], [0.0003747466835193336, 1.2430140827746072e-07, 2.5229209654753504e-07, 3.0524432759193587e-07, 4.772525244334247e-06, 6.075460419197043e-07, 8.501729666932079e-07, 1.1030846508219838e-05, 8.098998449668215e-08, 9.651313348513213e-07, 7.193358442236786e-07, 3.2339383437829383e-07, 1.7605461835046299e-06, 4.4468220039561857e-07, 3.298762862868898e-07, 2.4300346922245808e-05, 3.6642684335674858e-06, 3.0616486128565157e-06, 2.627130743348971e-05, 0.00034267170121893287, 2.078816032735631e-05, 0.00013409749954007566, 0.000304724439047277, 9.803617285797372e-05, 0.0004919684724882245, 0.004237071610987186, 0.9939160943031311, 0.0, 0.0, 0.0, 0.0, 0.0, 0.0, 0.0, 0.0], [0.00023197632981464267, 7.363630061263393e-07, 1.0658050086931325e-06, 4.7498031108261785e-07, 2.187789050367428e-06, 2.0741697426274186e-06, 1.3842094404026284e-07, 2.51064807343937e-06, 1.9716030408289953e-07, 6.67200083626085e-06, 8.991812592284987e-07, 6.362197382259183e-07, 6.544802886310208e-07, 7.71796749177156e-07, 4.801889303962525e-07, 1.112231893785065e-05, 5.561920261243358e-06, 3.862761786876945e-06, 6.753717025276273e-05, 0.0002897954545915127, 4.3724994611693546e-05, 0.00015209012781269848, 0.0009337736410088837, 0.0001815938885556534, 8.42330337036401e-05, 0.009933865629136562, 0.008723154664039612, 0.979318380355835, 0.0, 0.0, 0.0, 0.0, 0.0, 0.0, 0.0], [0.00015704930410720408, 3.123189458165143e-07, 2.9319340910660685e-07, 3.137157023047621e-07, 2.196096374973422e-06, 1.4164426147544873e-06, 1.1236390946578467e-06, 1.3091786286167917e-06, 5.921515011664269e-08, 7.97808183961024e-07, 2.8036797630193178e-06, 1.9766942216392636e-07, 3.994022108599893e-07, 2.3049015851484e-07, 2.264250724692829e-06, 1.6729492926970124e-05, 1.6667632962708012e-06, 2.872546701837564e-06, 2.4946943085524254e-05, 0.00025532784638926387, 4.849699962505838e-06, 4.708065534941852e-05, 5.325670281308703e-05, 4.240341513650492e-05, 0.00020874878100585192, 0.0020438116043806076, 0.08346717059612274, 0.003673004684969783, 0.9099873304367065, 0.0, 0.0, 0.0, 0.0, 0.0, 0.0], [0.0010030765552073717, 7.60591501602903e-06, 5.4789093155704904e-06, 4.704082584794378e-06, 1.081826439985889e-06, 7.246849236253183e-07, 6.057210271137592e-07, 1.5847847407712834e-06, 3.183100852766074e-05, 1.844486860136385e-06, 1.3723778238272644e-06, 6.841019512648927e-06, 4.9961076911131386e-06, 0.00014220463344827294, 2.1025923615525244e-06, 2.0461138774408028e-05, 6.875464896438643e-05, 8.339442138094455e-05, 7.060819916659966e-05, 0.00022270050249062479, 0.0013453519204631448, 0.0011953136418014765, 0.0007637697272002697, 0.003412766382098198, 0.009595134295523167, 0.008245964534580708, 0.004028411116451025, 0.015673451125621796, 0.03710905462503433, 0.916948676109314, 0.0, 0.0, 0.0, 0.0, 0.0], [0.00014598063717130572, 1.3442448221212544e-07, 3.0679643714393023e-07, 1.2700814977506525e-07, 9.539689216353509e-08, 4.421373134277928e-08, 7.2709593901265634e-09, 2.1630626179103274e-07, 1.7861790979623038e-07, 1.1440969416298685e-07, 4.546686227513419e-08, 1.140669425581109e-07, 1.7846296884727053e-07, 8.568714520151843e-07, 1.0497480928961522e-07, 1.2474922641558805e-06, 1.168266066997603e-06, 6.485002472800261e-07, 9.923046491167042e-06, 2.663560189830605e-05, 2.1481013391166925e-05, 7.19235249562189e-05, 0.00015873301890678704, 0.00014563217700924724, 0.002426166320219636, 0.0015144931385293603, 0.0007063172524794936, 0.0022442839108407497, 0.004566811490803957, 0.00983233842998743, 0.9781237244606018, 0.0, 0.0, 0.0, 0.0], [1.0698774531192612e-05, 5.1284295921050216e-08, 7.382487865470466e-08, 9.797515332365947e-08, 4.944874376633379e-07, 6.269730761232495e-07, 2.625739625727874e-07, 7.361927032434323e-07, 2.510116701159859e-07, 2.176487896576873e-06, 5.36374670900841e-07, 8.606915571363061e-07, 2.151581099951727e-07, 1.0358829740653164e-06, 2.489502151092893e-07, 1.3481044334184844e-05, 8.521091331203934e-06, 5.148516720510088e-06, 4.645082753995666e-06, 1.683262780716177e-05, 5.864661943633109e-05, 3.652455779956654e-05, 0.0001648574398132041, 1.1944978723477107e-05, 0.0005173994577489793, 0.0024279076606035233, 0.0003477357386145741, 0.0015964085469022393, 0.009022930637001991, 0.013163730502128601, 0.06333823502063751, 0.9092468023300171, 0.0, 0.0, 0.0], [0.0012287312420085073, 8.407650966546498e-06, 8.363969755009748e-06, 8.199035619327333e-06, 3.972179001721088e-06, 3.987268883065553e-06, 1.5942543996061431e-06, 4.764996447192971e-06, 4.461924163479125e-06, 8.699217687535565e-06, 3.482301281110267e-06, 4.0872232602851e-06, 4.3831901166413445e-06, 1.2878711459052283e-05, 2.764997361737187e-06, 1.1550822819117457e-05, 2.850843702617567e-05, 1.972621066670399e-05, 8.007972064660862e-05, 0.00016381598834414035, 0.00027661025524139404, 0.00048299733316525817, 0.0005903015844523907, 0.0011750622652471066, 0.0034667097497731447, 0.005802726838737726, 0.011907552368938923, 0.016952967271208763, 0.02846650406718254, 0.06137573719024658, 0.11517594009637833, 0.2017773985862732, 0.5509371161460876, 0.0, 0.0], [3.782525527640246e-05, 6.459638512978927e-08, 1.927358184161676e-08, 7.975797444714772e-08, 6.700323638142436e-07, 1.2464336407447263e-07, 3.072165100093116e-08, 3.3671460641926387e-07, 9.953986790378622e-08, 4.5415069394039165e-07, 3.406016446660942e-08, 1.7256121509490185e-07, 3.3590188763810147e-07, 3.2563309559918707e-07, 1.1636584140717332e-08, 3.2042096336226678e-06, 1.2533502058431623e-06, 1.7663021480984753e-06, 1.112595055019483e-05, 2.0410294382600114e-05, 8.103424079308752e-06, 1.2881071597803384e-05, 0.00014193178503774107, 1.1411083505663555e-05, 0.00010671326890587807, 0.00010951125295832753, 0.0017927108565345407, 0.0015404927544295788, 0.0012465205509215593, 0.001597587252035737, 0.0008927034214138985, 0.009557007811963558, 0.009279928170144558, 0.9736242294311523, 0.0], [0.0003539699537213892, 2.644042524480028e-06, 1.7576171558175702e-06, 1.234809019479144e-06, 5.949707883701194e-06, 1.3091906794215902e-06, 3.362109453064477e-07, 2.485052732481563e-07, 6.705465693812585e-07, 6.69953053034078e-08, 6.061922590561153e-07, 4.619062110577943e-07, 2.3573272756038932e-06, 1.4622190747104469e-06, 2.976369444240845e-07, 1.6005805036911624e-06, 2.4609062165836804e-06, 1.9317240003147162e-06, 3.2001538784243166e-05, 2.4652015781612135e-05, 3.4296444937353954e-05, 0.0001655087253311649, 7.883973739808425e-05, 0.00018387149611953646, 0.001165153575129807, 0.00012255363981239498, 0.001172520569525659, 0.0004984789993613958, 0.0035014848690479994, 0.0034007488284260035, 0.011839520186185837, 0.005179090425372124, 0.016713878139853477, 0.029127709567546844, 0.9263803958892822]], [[1.0, 0.0, 0.0, 0.0, 0.0, 0.0, 0.0, 0.0, 0.0, 0.0, 0.0, 0.0, 0.0, 0.0, 0.0, 0.0, 0.0, 0.0, 0.0, 0.0, 0.0, 0.0, 0.0, 0.0, 0.0, 0.0, 0.0, 0.0, 0.0, 0.0, 0.0, 0.0, 0.0, 0.0, 0.0], [0.9238101243972778, 0.07618988305330276, 0.0, 0.0, 0.0, 0.0, 0.0, 0.0, 0.0, 0.0, 0.0, 0.0, 0.0, 0.0, 0.0, 0.0, 0.0, 0.0, 0.0, 0.0, 0.0, 0.0, 0.0, 0.0, 0.0, 0.0, 0.0, 0.0, 0.0, 0.0, 0.0, 0.0, 0.0, 0.0, 0.0], [0.3758924603462219, 0.10050594061613083, 0.5236015915870667, 0.0, 0.0, 0.0, 0.0, 0.0, 0.0, 0.0, 0.0, 0.0, 0.0, 0.0, 0.0, 0.0, 0.0, 0.0, 0.0, 0.0, 0.0, 0.0, 0.0, 0.0, 0.0, 0.0, 0.0, 0.0, 0.0, 0.0, 0.0, 0.0, 0.0, 0.0, 0.0], [0.41213729977607727, 0.08231580257415771, 0.1808476746082306, 0.32469919323921204, 0.0, 0.0, 0.0, 0.0, 0.0, 0.0, 0.0, 0.0, 0.0, 0.0, 0.0, 0.0, 0.0, 0.0, 0.0, 0.0, 0.0, 0.0, 0.0, 0.0, 0.0, 0.0, 0.0, 0.0, 0.0, 0.0, 0.0, 0.0, 0.0, 0.0, 0.0], [0.1405227929353714, 0.0058123162016272545, 0.02827640250325203, 0.057330381125211716, 0.768058180809021, 0.0, 0.0, 0.0, 0.0, 0.0, 0.0, 0.0, 0.0, 0.0, 0.0, 0.0, 0.0, 0.0, 0.0, 0.0, 0.0, 0.0, 0.0, 0.0, 0.0, 0.0, 0.0, 0.0, 0.0, 0.0, 0.0, 0.0, 0.0, 0.0, 0.0], [0.019230686128139496, 0.0014746810775250196, 0.001681079505942762, 0.004905834794044495, 0.02590656280517578, 0.9468011260032654, 0.0, 0.0, 0.0, 0.0, 0.0, 0.0, 0.0, 0.0, 0.0, 0.0, 0.0, 0.0, 0.0, 0.0, 0.0, 0.0, 0.0, 0.0, 0.0, 0.0, 0.0, 0.0, 0.0, 0.0, 0.0, 0.0, 0.0, 0.0, 0.0], [0.006040878128260374, 0.0046582273207604885, 0.012865055352449417, 0.008953898213803768, 0.07021685689687729, 0.12025348842144012, 0.7770116925239563, 0.0, 0.0, 0.0, 0.0, 0.0, 0.0, 0.0, 0.0, 0.0, 0.0, 0.0, 0.0, 0.0, 0.0, 0.0, 0.0, 0.0, 0.0, 0.0, 0.0, 0.0, 0.0, 0.0, 0.0, 0.0, 0.0, 0.0, 0.0], [0.01624826341867447, 0.0039293840527534485, 0.01283666118979454, 0.005099630914628506, 0.01735418662428856, 0.01559933740645647, 0.1360277384519577, 0.7929047346115112, 0.0, 0.0, 0.0, 0.0, 0.0, 0.0, 0.0, 0.0, 0.0, 0.0, 0.0, 0.0, 0.0, 0.0, 0.0, 0.0, 0.0, 0.0, 0.0, 0.0, 0.0, 0.0, 0.0, 0.0, 0.0, 0.0, 0.0], [0.13423283398151398, 0.07014793902635574, 0.03862921893596649, 0.03592688962817192, 0.05720482021570206, 0.06419361382722855, 0.03908976912498474, 0.21457350254058838, 0.34600138664245605, 0.0, 0.0, 0.0, 0.0, 0.0, 0.0, 0.0, 0.0, 0.0, 0.0, 0.0, 0.0, 0.0, 0.0, 0.0, 0.0, 0.0, 0.0, 0.0, 0.0, 0.0, 0.0, 0.0, 0.0, 0.0, 0.0], [0.003595880465582013, 0.00038495013723149896, 0.0004921666695736349, 0.0008088786853477359, 0.002590097952634096, 0.002407651860266924, 0.0001713183446554467, 0.011153006926178932, 0.0021147800143808126, 0.9762812852859497, 0.0, 0.0, 0.0, 0.0, 0.0, 0.0, 0.0, 0.0, 0.0, 0.0, 0.0, 0.0, 0.0, 0.0, 0.0, 0.0, 0.0, 0.0, 0.0, 0.0, 0.0, 0.0, 0.0, 0.0, 0.0], [0.00022834523406345397, 4.6662524255225435e-05, 8.206470374716446e-05, 7.730667130090296e-05, 0.00012034244718961418, 0.004319252911955118, 0.003844223218038678, 0.001196500612422824, 0.00016446948575321585, 0.8530564308166504, 0.13686434924602509, 0.0, 0.0, 0.0, 0.0, 0.0, 0.0, 0.0, 0.0, 0.0, 0.0, 0.0, 0.0, 0.0, 0.0, 0.0, 0.0, 0.0, 0.0, 0.0, 0.0, 0.0, 0.0, 0.0, 0.0], [0.06578908115625381, 0.01929076574742794, 0.020492710173130035, 0.021956786513328552, 0.026686685159802437, 0.08618339151144028, 0.031040914356708527, 0.16103026270866394, 0.030162539333105087, 0.2132367640733719, 0.07554478198289871, 0.24858534336090088, 0.0, 0.0, 0.0, 0.0, 0.0, 0.0, 0.0, 0.0, 0.0, 0.0, 0.0, 0.0, 0.0, 0.0, 0.0, 0.0, 0.0, 0.0, 0.0, 0.0, 0.0, 0.0, 0.0], [0.009123364463448524, 0.003399315755814314, 0.016818268224596977, 0.004648813512176275, 0.014602278359234333, 0.05833256617188454, 0.07909012585878372, 0.0176636204123497, 0.016087276861071587, 0.1505357027053833, 0.3343389332294464, 0.054388973861932755, 0.24097071588039398, 0.0, 0.0, 0.0, 0.0, 0.0, 0.0, 0.0, 0.0, 0.0, 0.0, 0.0, 0.0, 0.0, 0.0, 0.0, 0.0, 0.0, 0.0, 0.0, 0.0, 0.0, 0.0], [0.04253434017300606, 0.01655057817697525, 0.007813408970832825, 0.006833461578935385, 0.009650958701968193, 0.00917330663651228, 0.005910308100283146, 0.03009309247136116, 0.05324171110987663, 0.03575889766216278, 0.11968681961297989, 0.07133744657039642, 0.2969222068786621, 0.2944933772087097, 0.0, 0.0, 0.0, 0.0, 0.0, 0.0, 0.0, 0.0, 0.0, 0.0, 0.0, 0.0, 0.0, 0.0, 0.0, 0.0, 0.0, 0.0, 0.0, 0.0, 0.0], [0.010158015415072441, 0.004377412144094706, 0.0065031819976866245, 0.003546681022271514, 0.006157048046588898, 0.0051498133689165115, 0.0041582416743040085, 0.014994010329246521, 0.017724106088280678, 0.008609633892774582, 0.013557260856032372, 0.027689794078469276, 0.027776112779974937, 0.08518608659505844, 0.7644126415252686, 0.0, 0.0, 0.0, 0.0, 0.0, 0.0, 0.0, 0.0, 0.0, 0.0, 0.0, 0.0, 0.0, 0.0, 0.0, 0.0, 0.0, 0.0, 0.0, 0.0], [0.0005760943167842925, 3.758491584449075e-05, 3.100582762272097e-05, 2.8090938940295018e-05, 0.00011757250467780977, 0.0010626517469063401, 0.0008489806205034256, 0.00236443430185318, 0.00031711836345493793, 0.000504071416798979, 0.0005438973312266171, 0.000996467424556613, 0.004787208046764135, 0.0016582167008891702, 0.02118115872144699, 0.964945375919342, 0.0, 0.0, 0.0, 0.0, 0.0, 0.0, 0.0, 0.0, 0.0, 0.0, 0.0, 0.0, 0.0, 0.0, 0.0, 0.0, 0.0, 0.0, 0.0], [0.05710108205676079, 0.01298272144049406, 0.01246335357427597, 0.012371201999485493, 0.013064746744930744, 0.03530251234769821, 0.013208805583417416, 0.06362836807966232, 0.010588893666863441, 0.061131980270147324, 0.027357181534171104, 0.08200792968273163, 0.039974603801965714, 0.04302835837006569, 0.06893424689769745, 0.0673389583826065, 0.3795151710510254, 0.0, 0.0, 0.0, 0.0, 0.0, 0.0, 0.0, 0.0, 0.0, 0.0, 0.0, 0.0, 0.0, 0.0, 0.0, 0.0, 0.0, 0.0], [0.05038188397884369, 0.010253243148326874, 0.00901739951223135, 0.007853329181671143, 0.008382107131183147, 0.016030553728342056, 0.00757975596934557, 0.016568154096603394, 0.00955806951969862, 0.020098436623811722, 0.02802768535912037, 0.031728412955999374, 0.021793972700834274, 0.039423298090696335, 0.11988721042871475, 0.04783089458942413, 0.14773687720298767, 0.4078487455844879, 0.0, 0.0, 0.0, 0.0, 0.0, 0.0, 0.0, 0.0, 0.0, 0.0, 0.0, 0.0, 0.0, 0.0, 0.0, 0.0, 0.0], [0.009583805687725544, 0.0005122207221575081, 0.0006106940563768148, 0.0009717896464280784, 0.0022611061576753855, 0.004041271284222603, 0.0003397607943043113, 0.0023014855105429888, 0.0014669836964458227, 0.004360882565379143, 0.010039575397968292, 0.003883794415742159, 0.0019065389642491937, 0.004968372173607349, 0.003599882125854492, 0.0027956583071500063, 0.01562882587313652, 0.014497033320367336, 0.916230320930481, 0.0, 0.0, 0.0, 0.0, 0.0, 0.0, 0.0, 0.0, 0.0, 0.0, 0.0, 0.0, 0.0, 0.0, 0.0, 0.0], [0.03377579152584076, 0.0008472931804135442, 0.0009361571865156293, 0.0006967569352127612, 0.00460014259442687, 0.0032576010562479496, 0.0004218367685098201, 0.007556708063930273, 0.0010570590384304523, 0.003643788630142808, 0.00017823856614995748, 0.0020456223282963037, 0.0014812102308496833, 0.002918048994615674, 0.0056848181411623955, 0.06616657972335815, 0.00682071503251791, 0.005966112483292818, 0.022306198254227638, 0.8296393752098083, 0.0, 0.0, 0.0, 0.0, 0.0, 0.0, 0.0, 0.0, 0.0, 0.0, 0.0, 0.0, 0.0, 0.0, 0.0], [0.014338111504912376, 0.004506281577050686, 0.0022934828884899616, 0.004502632189542055, 0.006348527502268553, 0.006440699566155672, 0.0030759212095290422, 0.003429380478337407, 0.008825041353702545, 0.013563876040279865, 0.008806235156953335, 0.015333065763115883, 0.01093036774545908, 0.03256243094801903, 0.041650138795375824, 0.029358427971601486, 0.06823208183050156, 0.10101231187582016, 0.1282440423965454, 0.08141807466745377, 0.41512882709503174, 0.0, 0.0, 0.0, 0.0, 0.0, 0.0, 0.0, 0.0, 0.0, 0.0, 0.0, 0.0, 0.0, 0.0], [0.012516950257122517, 0.003707385854795575, 0.0011323619401082397, 0.002044017193838954, 0.0021038008853793144, 0.0007217564270831645, 0.000358771561877802, 0.001065458171069622, 0.003341871313750744, 0.0035347756929695606, 0.0018008316401392221, 0.005131388548761606, 0.0059568509459495544, 0.011681470088660717, 0.02335316129028797, 0.024626389145851135, 0.023082606494426727, 0.024053948000073433, 0.04505404084920883, 0.04447479918599129, 0.09848443418741226, 0.6617729663848877, 0.0, 0.0, 0.0, 0.0, 0.0, 0.0, 0.0, 0.0, 0.0, 0.0, 0.0, 0.0, 0.0], [0.02337806671857834, 0.002970092697069049, 0.0022721642162650824, 0.003121251007542014, 0.01044877152889967, 0.0027957106940448284, 0.0009500712039880455, 0.006640288047492504, 0.0025093008298426867, 0.006215896923094988, 0.0018756621284410357, 0.004366474226117134, 0.005894928704947233, 0.007904239930212498, 0.011842513456940651, 0.011780310422182083, 0.016934016719460487, 0.015606733039021492, 0.036991920322179794, 0.056762684136629105, 0.03885181248188019, 0.3010690212249756, 0.4288181662559509, 0.0, 0.0, 0.0, 0.0, 0.0, 0.0, 0.0, 0.0, 0.0, 0.0, 0.0, 0.0], [0.04225083813071251, 0.009647669270634651, 0.013069662265479565, 0.0034939253237098455, 0.008718245662748814, 0.0008717639720998704, 0.0021130710374563932, 0.002520154695957899, 0.002825927222147584, 0.0030562570318579674, 0.005475990939885378, 0.004467590246349573, 0.005966207478195429, 0.008145664818584919, 0.027670912444591522, 0.013382632285356522, 0.01818913035094738, 0.0327802449464798, 0.028848374262452126, 0.05995950847864151, 0.09605942666530609, 0.20931924879550934, 0.10138265788555145, 0.2997848391532898, 0.0, 0.0, 0.0, 0.0, 0.0, 0.0, 0.0, 0.0, 0.0, 0.0, 0.0], [0.025818021968007088, 0.0012453028466552496, 0.0012367712333798409, 0.0031558217015117407, 0.002605455694720149, 0.0011178317945450544, 0.0002305325906490907, 0.001061455113813281, 0.001255299779586494, 0.0014470170717686415, 0.0006083034677430987, 0.0021444344893097878, 0.0017222750466316938, 0.0030636771116405725, 0.0021307130809873343, 0.0017395158065482974, 0.007489563897252083, 0.004201176110655069, 0.016367286443710327, 0.017187532037496567, 0.016647029668092728, 0.06787319481372833, 0.07546127587556839, 0.04369648918509483, 0.7004939913749695, 0.0, 0.0, 0.0, 0.0, 0.0, 0.0, 0.0, 0.0, 0.0, 0.0], [0.007508307695388794, 0.00012913922546431422, 0.00022904043726157397, 0.00030994019471108913, 0.0015875742537900805, 0.00015740803792141378, 0.0003654665488284081, 0.0002631953975651413, 0.00024618758470751345, 0.004963845480233431, 0.00084932881873101, 0.00020542491984087974, 0.003599659539759159, 0.0006757512455806136, 0.0006743195117451251, 0.0028660341631621122, 0.0007401989423669875, 0.001241066143848002, 0.0034339362755417824, 0.003348803846165538, 0.005896295420825481, 0.015315234661102295, 0.01358442846685648, 0.0038060720544308424, 0.10587513446807861, 0.8221281170845032, 0.0, 0.0, 0.0, 0.0, 0.0, 0.0, 0.0, 0.0, 0.0], [0.015146843157708645, 0.00028372748056426644, 0.0004323893808759749, 0.0012392145581543446, 0.0026600731071084738, 0.0003459543804638088, 0.000295427133096382, 0.0018772091716527939, 0.00023691265960223973, 0.00013219252286944538, 0.00033548110513947904, 0.00022997907944954932, 0.00027149065863341093, 0.000420953962020576, 0.0008192590321414173, 0.0003039469593204558, 0.0006469368236139417, 0.0003804271691478789, 0.0023925972636789083, 0.0029768033418804407, 0.0025756140239536762, 0.00594180915504694, 0.005901214201003313, 0.005208786576986313, 0.025423740968108177, 0.023241285234689713, 0.900279700756073, 0.0, 0.0, 0.0, 0.0, 0.0, 0.0, 0.0, 0.0], [0.020882174372673035, 0.0006866249605081975, 0.0014190301299095154, 0.0016247221501544118, 0.005466726142913103, 0.0019930722191929817, 0.0003444562607910484, 0.0014866304118186235, 0.00038602773565799, 0.0002986799809150398, 0.00037154846359044313, 0.0005332499276846647, 0.0002567081246525049, 0.0006083351909182966, 0.00037862517638131976, 0.0013748231576755643, 0.0013781337765976787, 0.000923665938898921, 0.023375000804662704, 0.03773234039545059, 0.004063981119543314, 0.021846618503332138, 0.018512383103370667, 0.005047199781984091, 0.01844027265906334, 0.06399489939212799, 0.33002805709838867, 0.4365459680557251, 0.0, 0.0, 0.0, 0.0, 0.0, 0.0, 0.0], [0.00272978818975389, 0.00011315729352645576, 0.0002574323443695903, 0.0003065294004045427, 0.0008012373000383377, 0.0008870935998857021, 0.00010111568553838879, 0.002048570429906249, 0.00014291208935901523, 0.00019898037135135382, 0.0004309819487389177, 7.4357507401146e-05, 0.00011077820090577006, 0.0002229757228633389, 0.0001040011047734879, 0.0007566187414340675, 0.00018428827752359211, 0.0003102095506619662, 0.0010590297169983387, 0.005394389852881432, 0.001371139194816351, 0.0017238218570128083, 0.0034383481834083796, 0.0007791533716954291, 0.0027107938658446074, 0.01124661136418581, 0.2618618607521057, 0.04286465793848038, 0.6577691435813904, 0.0, 0.0, 0.0, 0.0, 0.0, 0.0], [0.007169214077293873, 0.0026512276381254196, 0.00244502373971045, 0.0030232490971684456, 0.0026861887890845537, 0.0007135470514185727, 0.0005127678741700947, 0.0003864858881570399, 0.0009532016119919717, 0.0004407836531754583, 0.0008591750520281494, 0.0012491049710661173, 0.0009424774907529354, 0.0016617259243503213, 0.00044353128760121763, 0.0014648402575403452, 0.0035774626303464174, 0.0037673418410122395, 0.012122930027544498, 0.006853906903415918, 0.005249567795544863, 0.01970423199236393, 0.02666923962533474, 0.04096020758152008, 0.2385396510362625, 0.05725710839033127, 0.040405385196208954, 0.10933990031480789, 0.077363021671772, 0.3305874764919281, 0.0, 0.0, 0.0, 0.0, 0.0], [0.011626659892499447, 0.001965817529708147, 0.000917952274903655, 0.001819743076339364, 0.0020789778791368008, 0.00029357135645113885, 0.00010028546239482239, 0.0005799980135634542, 0.0004854121943935752, 9.76482915575616e-05, 0.00015712760796304792, 0.0004106425039935857, 0.0004877774917986244, 0.0007517863996326923, 0.0007532844902016222, 0.0012242123484611511, 0.0010826843790709972, 0.0014821900986135006, 0.002774250227957964, 0.0036103350576013327, 0.002137242117896676, 0.009361447766423225, 0.014277669601142406, 0.011846720241010189, 0.04729336127638817, 0.0450628325343132, 0.041560713201761246, 0.042807914316654205, 0.07079776376485825, 0.1008482575416565, 0.581305742263794, 0.0, 0.0, 0.0, 0.0], [0.0038734320551156998, 0.00025570965954102576, 0.0006259246729314327, 0.0005843954859301448, 0.0012326468713581562, 0.0003945602511521429, 0.0003326677542645484, 0.00015581924526486546, 0.0001647272438276559, 0.0007726290496066213, 0.00038669785135425627, 0.0002782443189062178, 0.0001523970568086952, 0.000251985591603443, 6.45292893750593e-05, 0.00017264131747651845, 0.0007133574690669775, 0.0005384791875258088, 0.0075395600870251656, 0.0067232465371489525, 0.0013963916571810842, 0.003110353136435151, 0.005501283798366785, 0.002413585316389799, 0.038960542529821396, 0.023422328755259514, 0.009641133248806, 0.025750894099473953, 0.1270247846841812, 0.04005928337574005, 0.514208972454071, 0.18329676985740662, 0.0, 0.0, 0.0], [0.015151125378906727, 0.001376068452373147, 0.0015560508472844958, 0.0021717094350606203, 0.0025110093411058187, 0.00178549496922642, 0.0004700867284554988, 0.0006788125610910356, 0.0003899074508808553, 0.0009900364093482494, 0.00038026587571948767, 0.00041824980871751904, 0.00044352939585223794, 0.0005140131688676775, 0.00016592239262536168, 0.0006932563846930861, 0.0009629506384953856, 0.0007656948873773217, 0.004365222062915564, 0.006436272989958525, 0.001868826919235289, 0.008356149308383465, 0.0063847568817436695, 0.005890706554055214, 0.031187018379569054, 0.041009463369846344, 0.028566081076860428, 0.041577283293008804, 0.040764566510915756, 0.06712846457958221, 0.30426740646362305, 0.21618817746639252, 0.1645854413509369, 0.0, 0.0], [0.017354117706418037, 0.0005264725768938661, 0.0006208932027220726, 0.0016926322132349014, 0.0062972623854875565, 0.0010202121920883656, 7.362555334111676e-05, 0.000676227908115834, 0.00044483147212304175, 7.778879080433398e-05, 4.9738027882995084e-05, 0.0003035978879779577, 0.0001734179531922564, 0.000516243395395577, 0.0002735278685577214, 0.0007444006041623652, 0.0006022217567078769, 0.0004544501716736704, 0.0026653388049453497, 0.0026638773269951344, 0.002551593817770481, 0.007818796671926975, 0.009490981698036194, 0.0009830400813370943, 0.007624233141541481, 0.011552365496754646, 0.09579719603061676, 0.08069905638694763, 0.09889819473028183, 0.03799610957503319, 0.05835620313882828, 0.11718901991844177, 0.11656811833381653, 0.31724420189857483, 0.0], [0.010796334594488144, 0.0030184616334736347, 0.0017010800074785948, 0.0027613991405814886, 0.005546447820961475, 0.0005509481416083872, 0.00022208354494068772, 0.00023305873037315905, 0.0008555080858059227, 8.429396984865889e-05, 0.0001349102967651561, 0.00040303400601260364, 0.0002156855771318078, 0.0009122330229729414, 0.0007261998252943158, 0.0003818845725618303, 0.0007406803779304028, 0.0007301232544705272, 0.0007852279231883585, 0.001347338198684156, 0.0043137818574905396, 0.007729174103587866, 0.005422808229923248, 0.006747079081833363, 0.013981974683701992, 0.00463099405169487, 0.019391819834709167, 0.028133701533079147, 0.016861919313669205, 0.07724325358867645, 0.05435159429907799, 0.13139019906520844, 0.150140643119812, 0.08434388041496277, 0.36317023634910583]], [[1.0, 0.0, 0.0, 0.0, 0.0, 0.0, 0.0, 0.0, 0.0, 0.0, 0.0, 0.0, 0.0, 0.0, 0.0, 0.0, 0.0, 0.0, 0.0, 0.0, 0.0, 0.0, 0.0, 0.0, 0.0, 0.0, 0.0, 0.0, 0.0, 0.0, 0.0, 0.0, 0.0, 0.0, 0.0], [0.19326095283031464, 0.8067390322685242, 0.0, 0.0, 0.0, 0.0, 0.0, 0.0, 0.0, 0.0, 0.0, 0.0, 0.0, 0.0, 0.0, 0.0, 0.0, 0.0, 0.0, 0.0, 0.0, 0.0, 0.0, 0.0, 0.0, 0.0, 0.0, 0.0, 0.0, 0.0, 0.0, 0.0, 0.0, 0.0, 0.0], [0.09132367372512817, 0.002221881179139018, 0.9064545035362244, 0.0, 0.0, 0.0, 0.0, 0.0, 0.0, 0.0, 0.0, 0.0, 0.0, 0.0, 0.0, 0.0, 0.0, 0.0, 0.0, 0.0, 0.0, 0.0, 0.0, 0.0, 0.0, 0.0, 0.0, 0.0, 0.0, 0.0, 0.0, 0.0, 0.0, 0.0, 0.0], [0.07127517461776733, 0.010394573211669922, 0.014608733355998993, 0.9037216305732727, 0.0, 0.0, 0.0, 0.0, 0.0, 0.0, 0.0, 0.0, 0.0, 0.0, 0.0, 0.0, 0.0, 0.0, 0.0, 0.0, 0.0, 0.0, 0.0, 0.0, 0.0, 0.0, 0.0, 0.0, 0.0, 0.0, 0.0, 0.0, 0.0, 0.0, 0.0], [0.00752516184002161, 8.942761633079499e-05, 7.544139225501567e-05, 3.413583499423112e-06, 0.9923065304756165, 0.0, 0.0, 0.0, 0.0, 0.0, 0.0, 0.0, 0.0, 0.0, 0.0, 0.0, 0.0, 0.0, 0.0, 0.0, 0.0, 0.0, 0.0, 0.0, 0.0, 0.0, 0.0, 0.0, 0.0, 0.0, 0.0, 0.0, 0.0, 0.0, 0.0], [0.004521061200648546, 4.2805177145055495e-06, 9.23044208320789e-05, 2.363634303037543e-05, 1.1194444596185349e-05, 0.9953475594520569, 0.0, 0.0, 0.0, 0.0, 0.0, 0.0, 0.0, 0.0, 0.0, 0.0, 0.0, 0.0, 0.0, 0.0, 0.0, 0.0, 0.0, 0.0, 0.0, 0.0, 0.0, 0.0, 0.0, 0.0, 0.0, 0.0, 0.0, 0.0, 0.0], [0.007938149385154247, 0.00010465273953741416, 4.1882518416969106e-05, 8.376296136702877e-06, 0.00021111464593559504, 3.1297931855078787e-06, 0.9916926622390747, 0.0, 0.0, 0.0, 0.0, 0.0, 0.0, 0.0, 0.0, 0.0, 0.0, 0.0, 0.0, 0.0, 0.0, 0.0, 0.0, 0.0, 0.0, 0.0, 0.0, 0.0, 0.0, 0.0, 0.0, 0.0, 0.0, 0.0, 0.0], [0.002452848246321082, 1.0800496966112405e-05, 1.541074198030401e-05, 2.252152597748136e-07, 3.925124474335462e-05, 5.133605554874521e-06, 2.3800475901225582e-05, 0.9974525570869446, 0.0, 0.0, 0.0, 0.0, 0.0, 0.0, 0.0, 0.0, 0.0, 0.0, 0.0, 0.0, 0.0, 0.0, 0.0, 0.0, 0.0, 0.0, 0.0, 0.0, 0.0, 0.0, 0.0, 0.0, 0.0, 0.0, 0.0], [0.1994483917951584, 0.17831812798976898, 0.06548024713993073, 0.1327645629644394, 0.03858450800180435, 0.010353407822549343, 0.021433593705296516, 0.0067232889123260975, 0.3468938171863556, 0.0, 0.0, 0.0, 0.0, 0.0, 0.0, 0.0, 0.0, 0.0, 0.0, 0.0, 0.0, 0.0, 0.0, 0.0, 0.0, 0.0, 0.0, 0.0, 0.0, 0.0, 0.0, 0.0, 0.0, 0.0, 0.0], [0.0014458447694778442, 8.054703926063667e-07, 3.064588599954732e-05, 7.412921263494354e-07, 2.0274023881938774e-06, 1.1259034181421157e-05, 1.8223380493509467e-06, 8.012925536604598e-05, 1.0569634412149753e-07, 0.9984266757965088, 0.0, 0.0, 0.0, 0.0, 0.0, 0.0, 0.0, 0.0, 0.0, 0.0, 0.0, 0.0, 0.0, 0.0, 0.0, 0.0, 0.0, 0.0, 0.0, 0.0, 0.0, 0.0, 0.0, 0.0, 0.0], [0.002338015241548419, 1.2498665455495939e-05, 2.2450083633884788e-05, 4.236496351950336e-06, 2.952029092284647e-07, 1.8947017679238343e-06, 7.769844523863867e-05, 8.969038390205242e-06, 4.6951914356441193e-08, 1.1347646022841218e-06, 0.9975327253341675, 0.0, 0.0, 0.0, 0.0, 0.0, 0.0, 0.0, 0.0, 0.0, 0.0, 0.0, 0.0, 0.0, 0.0, 0.0, 0.0, 0.0, 0.0, 0.0, 0.0, 0.0, 0.0, 0.0, 0.0], [0.047514546662569046, 0.05268261581659317, 0.02040812186896801, 0.0585300549864769, 0.0071665639989078045, 0.008201424032449722, 0.01184640172868967, 0.0017474382184445858, 0.024963321164250374, 0.0026972556952387094, 0.0014261910691857338, 0.7628160715103149, 0.0, 0.0, 0.0, 0.0, 0.0, 0.0, 0.0, 0.0, 0.0, 0.0, 0.0, 0.0, 0.0, 0.0, 0.0, 0.0, 0.0, 0.0, 0.0, 0.0, 0.0, 0.0, 0.0], [0.006070807110518217, 0.0001295793626923114, 5.943352516624145e-05, 5.659351245412836e-06, 0.0002615326957311481, 0.00012241843796800822, 1.0399356142443139e-05, 1.1076414921262767e-05, 4.060484855017421e-07, 0.00036004738649353385, 2.011543074331712e-05, 1.3643945351304865e-07, 0.9929484128952026, 0.0, 0.0, 0.0, 0.0, 0.0, 0.0, 0.0, 0.0, 0.0, 0.0, 0.0, 0.0, 0.0, 0.0, 0.0, 0.0, 0.0, 0.0, 0.0, 0.0, 0.0, 0.0], [0.0953056588768959, 0.14180321991443634, 0.05038182809948921, 0.10299669951200485, 0.029812093824148178, 0.006589412223547697, 0.016824398189783096, 0.004481853451579809, 0.23106452822685242, 0.019435426220297813, 0.010874397121369839, 0.05543201044201851, 0.03543871268630028, 0.1995597630739212, 0.0, 0.0, 0.0, 0.0, 0.0, 0.0, 0.0, 0.0, 0.0, 0.0, 0.0, 0.0, 0.0, 0.0, 0.0, 0.0, 0.0, 0.0, 0.0, 0.0, 0.0], [0.027447829023003578, 0.00014065347204450518, 0.0001984664995688945, 3.49676665791776e-05, 5.282148777041584e-06, 0.00015024204913061112, 8.128349873004481e-05, 1.21251378004672e-05, 6.303894042503089e-05, 6.543214112753049e-05, 2.8324877803243e-06, 3.890726657118648e-05, 5.673631449099048e-07, 4.2104868043679744e-05, 0.9717161655426025, 0.0, 0.0, 0.0, 0.0, 0.0, 0.0, 0.0, 0.0, 0.0, 0.0, 0.0, 0.0, 0.0, 0.0, 0.0, 0.0, 0.0, 0.0, 0.0, 0.0], [0.004212117288261652, 3.0696890462422743e-05, 6.369442417053506e-05, 8.254556860265438e-07, 8.262148867288488e-07, 3.86834581149742e-05, 4.26881160819903e-06, 3.81940662919078e-06, 1.2628012768800545e-07, 0.00013782775204163045, 1.7806130927056074e-05, 1.7100234117606306e-08, 5.979883553663967e-06, 6.190309420617268e-08, 2.2941594579606317e-06, 0.9954808950424194, 0.0, 0.0, 0.0, 0.0, 0.0, 0.0, 0.0, 0.0, 0.0, 0.0, 0.0, 0.0, 0.0, 0.0, 0.0, 0.0, 0.0, 0.0, 0.0], [0.019846780225634575, 0.03168344870209694, 0.012553277425467968, 0.035718806087970734, 0.004399013705551624, 0.004350573755800724, 0.00742737203836441, 0.0009372890344820917, 0.012662884779274464, 0.001605055294930935, 0.0007319959113374352, 0.4563407897949219, 0.00201086956076324, 0.009759276174008846, 0.008237503468990326, 0.00025941262720152736, 0.3914756774902344, 0.0, 0.0, 0.0, 0.0, 0.0, 0.0, 0.0, 0.0, 0.0, 0.0, 0.0, 0.0, 0.0, 0.0, 0.0, 0.0, 0.0, 0.0], [0.027297209948301315, 0.0024357072543352842, 0.0002706822706386447, 7.525584078393877e-05, 1.3686860256711952e-05, 5.773238626716193e-06, 0.0004301840381231159, 1.443816927348962e-05, 4.835145955439657e-05, 5.326117025106214e-05, 9.613328074919991e-06, 6.846700853202492e-05, 0.0003037679416593164, 2.8783944799215533e-05, 3.86640167562291e-05, 2.5926843591150828e-05, 4.6800560085102916e-05, 0.9688335061073303, 0.0, 0.0, 0.0, 0.0, 0.0, 0.0, 0.0, 0.0, 0.0, 0.0, 0.0, 0.0, 0.0, 0.0, 0.0, 0.0, 0.0], [0.006310693453997374, 3.294685302535072e-05, 9.895686162053607e-06, 7.334584211093897e-07, 9.119841706706211e-05, 4.094936957699247e-05, 8.511712621839251e-06, 9.950702224159613e-05, 1.9264814454800216e-07, 8.829226771922549e-07, 1.890608700705343e-06, 1.1808706403826363e-06, 3.1165191103355028e-06, 9.47476834767258e-08, 3.301757942608674e-06, 2.585522634035442e-05, 7.711307148383639e-07, 2.6708685254561715e-06, 0.993365466594696, 0.0, 0.0, 0.0, 0.0, 0.0, 0.0, 0.0, 0.0, 0.0, 0.0, 0.0, 0.0, 0.0, 0.0, 0.0, 0.0], [0.0011340522905811667, 6.961923190829111e-06, 1.2364377653284464e-05, 4.006546703294589e-07, 5.351815343601629e-05, 5.2400919230422005e-06, 4.459505726117641e-05, 0.00016450765542685986, 1.4344478493910628e-08, 1.0388021109974943e-06, 4.77888788736891e-05, 5.0586844935196495e-08, 9.468209896112967e-07, 7.475676966350875e-09, 6.603928000004089e-07, 3.843115337076597e-06, 3.346431753925572e-08, 2.411975685845391e-07, 1.6647783922962844e-05, 0.9985072016716003, 0.0, 0.0, 0.0, 0.0, 0.0, 0.0, 0.0, 0.0, 0.0, 0.0, 0.0, 0.0, 0.0, 0.0, 0.0], [0.08800848573446274, 0.1892128884792328, 0.04556255787611008, 0.08163288980722427, 0.01735807955265045, 0.004830402322113514, 0.018958795815706253, 0.004620133899152279, 0.06910263746976852, 0.012970473617315292, 0.010343019850552082, 0.05366411432623863, 0.009830265305936337, 0.05797472223639488, 0.011936409398913383, 0.00944663118571043, 0.04662338271737099, 0.07882604748010635, 0.010427415370941162, 0.0020946753211319447, 0.17657586932182312, 0.0, 0.0, 0.0, 0.0, 0.0, 0.0, 0.0, 0.0, 0.0, 0.0, 0.0, 0.0, 0.0, 0.0], [0.015971165150403976, 0.0030620144680142403, 0.00014189504145178944, 0.0007885739323683083, 4.299372449168004e-05, 4.13119669246953e-05, 6.306867726380005e-05, 3.5465084238239797e-06, 2.173125722038094e-05, 1.786093707778491e-05, 1.0213978384854272e-05, 2.659637902979739e-05, 3.7855479604331776e-05, 1.3186846445023548e-05, 0.00018817662203218788, 4.9638774726190604e-06, 1.8085078409058042e-05, 4.864023139816709e-05, 4.463590812520124e-06, 2.4802479856589343e-06, 1.217890439875191e-05, 0.9794788956642151, 0.0, 0.0, 0.0, 0.0, 0.0, 0.0, 0.0, 0.0, 0.0, 0.0, 0.0, 0.0, 0.0], [0.007472236640751362, 0.0003719074302352965, 7.639086834387854e-05, 1.1135914974147454e-05, 3.0148716177791357e-05, 1.1014429219358135e-05, 5.4528787586605176e-05, 2.2444422938860953e-05, 1.1283858839306049e-05, 2.8587872293428518e-05, 5.627739938063314e-06, 7.513614400522783e-05, 7.734288374194875e-05, 6.529718575620791e-06, 8.796916517894715e-06, 8.651502866996452e-06, 5.0727925554383546e-05, 7.0408632382168435e-06, 3.187641777913086e-05, 1.4034895912118373e-06, 7.003588507359382e-06, 7.040087803034112e-05, 0.9915598034858704, 0.0, 0.0, 0.0, 0.0, 0.0, 0.0, 0.0, 0.0, 0.0, 0.0, 0.0, 0.0], [0.0220454353839159, 0.28049421310424805, 0.016674762591719627, 0.00015087136125657707, 0.0006804473814554513, 2.7394111384637654e-05, 0.0008938325336202979, 1.2499203876359388e-05, 0.0002665531646925956, 5.584165592154022e-06, 5.109101766720414e-05, 9.500431042397395e-05, 1.81947852979647e-05, 0.00018282824021298438, 0.0016493599396198988, 2.7935182515648194e-05, 6.991916598053649e-05, 7.677565008634701e-05, 2.088614201056771e-05, 4.5125620999897365e-06, 0.00014541391283273697, 0.00044705011532641947, 5.5147811508504674e-05, 0.6759042739868164, 0.0, 0.0, 0.0, 0.0, 0.0, 0.0, 0.0, 0.0, 0.0, 0.0, 0.0], [0.01879945769906044, 0.0019184600096195936, 0.0010523874079808593, 7.228145841509104e-05, 0.00013796627172268927, 5.208816219237633e-05, 6.334375939331949e-05, 9.731957106851041e-06, 8.120811253320426e-05, 5.9983929531881586e-05, 9.63596539804712e-06, 4.8187135689659044e-05, 4.688356784754433e-05, 5.250570393400267e-05, 0.00044942068052478135, 0.00028932970599271357, 3.537202792358585e-05, 0.00022377951245289296, 0.00020209007197991014, 3.112009608230437e-06, 3.5228513297624886e-05, 9.855003008851781e-05, 0.00018101489695254713, 0.00012300803791731596, 0.9759548306465149, 0.0, 0.0, 0.0, 0.0, 0.0, 0.0, 0.0, 0.0, 0.0, 0.0], [0.0016589750302955508, 6.63247010379564e-06, 3.9323400415014476e-05, 5.51213543076301e-06, 7.328286301344633e-05, 5.176194122213928e-07, 8.362663356820121e-05, 1.6115389371407218e-05, 1.840794965346504e-07, 0.0002003257832257077, 1.8497462406230625e-06, 7.683021863158501e-08, 1.805103056540247e-05, 9.259753852575159e-08, 6.612172455788823e-06, 1.962784381248639e-06, 5.0048473809738425e-08, 6.371125493842555e-08, 4.881644599663559e-07, 3.839147211692762e-06, 1.8601461704292888e-08, 1.6708659131836612e-06, 8.816599006422621e-07, 6.673342767271606e-08, 1.878516115993989e-07, 0.9978796243667603, 0.0, 0.0, 0.0, 0.0, 0.0, 0.0, 0.0, 0.0, 0.0], [0.005040670745074749, 0.00039155586273409426, 0.0005618713330477476, 0.00014523064601235092, 3.9371960156131536e-05, 5.4099655244499445e-05, 0.000284795300103724, 4.8287405661540106e-05, 3.104319375779596e-06, 6.896281411172822e-05, 0.0002681417390704155, 4.2109372770937625e-06, 1.2119896382500883e-05, 2.0253992261132225e-06, 3.188784830854274e-05, 1.1356536560924724e-05, 3.0188034543243703e-06, 1.2622916983673349e-05, 7.4655908974818885e-06, 3.027810407729703e-06, 4.951124878971314e-07, 3.015464244526811e-05, 1.886378049675841e-05, 4.1512544157740194e-06, 5.031331511418102e-06, 6.06908906775061e-06, 0.9929414987564087, 0.0, 0.0, 0.0, 0.0, 0.0, 0.0, 0.0, 0.0], [0.0012448688503354788, 0.00017617059347685426, 2.4151799152605236e-05, 1.2456704098440241e-05, 5.211318421061151e-05, 2.3546110242023133e-05, 5.673462510458194e-05, 0.00045827782014384866, 2.4983903585962253e-06, 0.00011349451960995793, 4.920261199004017e-05, 1.3444576325127855e-05, 7.735948747722432e-05, 1.3437108918878948e-06, 6.060910891392268e-06, 0.00010331803059671074, 8.745508239371702e-06, 1.081159552995814e-05, 0.0001585643331054598, 1.9056102473768988e-06, 5.418800128609291e-07, 1.2321393114689272e-06, 6.472245149780065e-05, 3.5890639082936104e-06, 8.650926247355528e-06, 2.962806775030913e-06, 1.3278987353260163e-05, 0.9973099231719971, 0.0, 0.0, 0.0, 0.0, 0.0, 0.0, 0.0], [0.001973335398361087, 0.0009750569588504732, 7.218521932372823e-05, 9.848416084423661e-05, 4.960862497682683e-05, 5.4340576753020287e-05, 0.0003797206445597112, 6.184627181937685e-06, 1.0831159897861653e-06, 4.491219897317933e-06, 0.00047983546392060816, 9.928658073476981e-07, 1.3564573237090372e-05, 6.477191618614597e-07, 1.0186123290623073e-05, 5.581327059189789e-06, 7.11347752258007e-07, 5.998077767799259e-07, 3.201087793058832e-06, 2.288285941176582e-06, 1.5130844133182109e-07, 7.130767698981799e-06, 1.7937974234882859e-06, 2.402572863502428e-05, 2.833118344369723e-07, 1.2269152648514137e-05, 0.00023325464280787855, 0.00031319609843194485, 0.9952758550643921, 0.0, 0.0, 0.0, 0.0, 0.0, 0.0], [0.030099276453256607, 0.09027378261089325, 0.02814972773194313, 0.15763874351978302, 0.026473550125956535, 0.003006007056683302, 0.0172195415943861, 0.0022446673829108477, 0.03120044805109501, 0.011351726949214935, 0.0013561318628489971, 0.029119187965989113, 0.016773520037531853, 0.023998098447918892, 0.00945052970200777, 0.006288202479481697, 0.02392304502427578, 0.058296240866184235, 0.00990422535687685, 0.0003779733960982412, 0.02459513023495674, 0.0404200479388237, 0.027886735275387764, 0.009823566302657127, 0.049947116523981094, 0.0010651142802089453, 0.014632527716457844, 0.011246386915445328, 0.0020601546857506037, 0.24117852747440338, 0.0, 0.0, 0.0, 0.0, 0.0], [0.004169422667473555, 0.0006143288919702172, 0.0005938464310020208, 0.0001103623362723738, 9.005518222693354e-05, 1.3705171113542747e-05, 0.000590349140111357, 2.6892355435848003e-06, 8.671509931446053e-06, 4.6116430894471705e-05, 1.0056795872515067e-05, 5.362908268580213e-06, 5.1998555136378855e-05, 4.8024185161921196e-06, 2.1195266526774503e-05, 2.4785071218502708e-05, 3.4400409276713617e-06, 1.8410868506180122e-05, 7.05515849404037e-05, 5.603979502666334e-07, 5.060184321337147e-06, 2.259217217215337e-05, 6.252556340768933e-05, 1.861938289948739e-05, 0.00014118572289589792, 2.6331110348110087e-05, 1.2610458952622139e-06, 1.0759871429399936e-06, 3.0932002914596524e-07, 5.793060154246632e-06, 0.9932644367218018, 0.0, 0.0, 0.0, 0.0], [0.010566670447587967, 0.0013905909145250916, 0.00043136338354088366, 0.00102959293872118, 0.003916394896805286, 0.00015029536734800786, 0.0019936009775847197, 0.0003044376790057868, 2.9845123208360747e-05, 0.0006592926802113652, 1.2659849744522944e-05, 7.52750929677859e-05, 0.00039767735870555043, 1.7276557628065348e-05, 0.00038583565037697554, 2.1061921870568767e-05, 5.3403142374008894e-05, 6.335034413496032e-05, 0.00012688453716691583, 6.783208391425433e-06, 2.717058850976173e-05, 0.00013008975656703115, 3.859863136312924e-05, 4.366650682641193e-05, 8.064091161941178e-06, 0.0007468670373782516, 8.195245754905045e-06, 9.368619794258848e-05, 6.2524600252800155e-06, 4.447249375516549e-05, 0.00020698668959084898, 0.9770136475563049, 0.0, 0.0, 0.0], [0.017131483182311058, 0.10981206595897675, 0.045284971594810486, 0.16663993895053864, 0.04683493450284004, 0.012714347802102566, 0.02494184300303459, 0.002460506046190858, 0.016514169052243233, 0.014018191024661064, 0.0028046516235917807, 0.017261294648051262, 0.05619135499000549, 0.011843177489936352, 0.024518396705389023, 0.008004879578948021, 0.013582986779510975, 0.027696529403328896, 0.00788149144500494, 0.0013759646099060774, 0.009033634327352047, 0.03747998923063278, 0.014368826523423195, 0.01657966896891594, 0.03148625046014786, 0.002235109219327569, 0.007032560650259256, 0.02033880352973938, 0.0021573666017502546, 0.01573573797941208, 0.03529256209731102, 0.01779499463737011, 0.16295136511325836, 0.0, 0.0], [0.0027362373657524586, 0.0032704402692615986, 0.00024938516435213387, 2.9521108444896527e-05, 0.0027190777473151684, 1.5680814613006078e-05, 0.0011440067319199443, 3.528553861542605e-05, 1.9352071831235662e-05, 3.620963980210945e-05, 1.2202220204926562e-05, 0.00012145638902438805, 4.9556045269127935e-05, 1.1851489034597762e-05, 8.826622797641903e-05, 3.184519300702959e-05, 8.618916035629809e-05, 0.0001305781042901799, 9.26754655665718e-05, 1.844452526711393e-05, 4.454882855497999e-06, 1.421102206222713e-05, 0.00020819788915105164, 6.224938988452777e-05, 2.7289990612189285e-05, 8.527088539267424e-06, 0.0010931704891845584, 0.0010258982656523585, 1.8266413462697528e-05, 9.816321835387498e-06, 7.599958280479768e-07, 4.151809662289452e-06, 8.365893336303998e-06, 0.9866164922714233, 0.0], [0.013301754370331764, 0.0020241746678948402, 0.0009810624178498983, 0.00027103928732685745, 0.02624255046248436, 6.968403613427654e-05, 0.00018824616563506424, 0.00033232715213671327, 0.00020717488951049745, 0.00035583574208430946, 1.8688768250285648e-05, 0.00031016304274089634, 0.0002884422428905964, 0.00014157555415295064, 0.00021018910047132522, 0.00013730116188526154, 0.00024542518076486886, 0.0005858629592694342, 0.0008409071597270668, 0.00037898405571468174, 0.00011255494609940797, 0.0009485270129516721, 0.00025817184359766543, 0.0005371627048589289, 0.00023706414503976703, 9.896148549159989e-05, 1.4541812561219558e-05, 7.51436164136976e-05, 1.0142423889192287e-05, 7.690762140555307e-05, 6.643275992246345e-05, 5.445994975161739e-05, 0.00010781989840324968, 0.002189120277762413, 0.9480817317962646]], [[1.0, 0.0, 0.0, 0.0, 0.0, 0.0, 0.0, 0.0, 0.0, 0.0, 0.0, 0.0, 0.0, 0.0, 0.0, 0.0, 0.0, 0.0, 0.0, 0.0, 0.0, 0.0, 0.0, 0.0, 0.0, 0.0, 0.0, 0.0, 0.0, 0.0, 0.0, 0.0, 0.0, 0.0, 0.0], [0.9360752105712891, 0.06392481178045273, 0.0, 0.0, 0.0, 0.0, 0.0, 0.0, 0.0, 0.0, 0.0, 0.0, 0.0, 0.0, 0.0, 0.0, 0.0, 0.0, 0.0, 0.0, 0.0, 0.0, 0.0, 0.0, 0.0, 0.0, 0.0, 0.0, 0.0, 0.0, 0.0, 0.0, 0.0, 0.0, 0.0], [0.8446658253669739, 0.06946853548288345, 0.08586560189723969, 0.0, 0.0, 0.0, 0.0, 0.0, 0.0, 0.0, 0.0, 0.0, 0.0, 0.0, 0.0, 0.0, 0.0, 0.0, 0.0, 0.0, 0.0, 0.0, 0.0, 0.0, 0.0, 0.0, 0.0, 0.0, 0.0, 0.0, 0.0, 0.0, 0.0, 0.0, 0.0], [0.6426600217819214, 0.12988689541816711, 0.17117170989513397, 0.05628129467368126, 0.0, 0.0, 0.0, 0.0, 0.0, 0.0, 0.0, 0.0, 0.0, 0.0, 0.0, 0.0, 0.0, 0.0, 0.0, 0.0, 0.0, 0.0, 0.0, 0.0, 0.0, 0.0, 0.0, 0.0, 0.0, 0.0, 0.0, 0.0, 0.0, 0.0, 0.0], [0.5074959397315979, 0.0778626874089241, 0.0726853534579277, 0.10711851716041565, 0.23483750224113464, 0.0, 0.0, 0.0, 0.0, 0.0, 0.0, 0.0, 0.0, 0.0, 0.0, 0.0, 0.0, 0.0, 0.0, 0.0, 0.0, 0.0, 0.0, 0.0, 0.0, 0.0, 0.0, 0.0, 0.0, 0.0, 0.0, 0.0, 0.0, 0.0, 0.0], [0.4970755875110626, 0.06315258890390396, 0.1155911237001419, 0.08851398527622223, 0.10196362435817719, 0.1337031126022339, 0.0, 0.0, 0.0, 0.0, 0.0, 0.0, 0.0, 0.0, 0.0, 0.0, 0.0, 0.0, 0.0, 0.0, 0.0, 0.0, 0.0, 0.0, 0.0, 0.0, 0.0, 0.0, 0.0, 0.0, 0.0, 0.0, 0.0, 0.0, 0.0], [0.30812814831733704, 0.06775974482297897, 0.13057540357112885, 0.05440937727689743, 0.040503207594156265, 0.3605913817882538, 0.03803271800279617, 0.0, 0.0, 0.0, 0.0, 0.0, 0.0, 0.0, 0.0, 0.0, 0.0, 0.0, 0.0, 0.0, 0.0, 0.0, 0.0, 0.0, 0.0, 0.0, 0.0, 0.0, 0.0, 0.0, 0.0, 0.0, 0.0, 0.0, 0.0], [0.32434967160224915, 0.06349693983793259, 0.07783649116754532, 0.07798173278570175, 0.07410475611686707, 0.13590551912784576, 0.07038860768079758, 0.17593631148338318, 0.0, 0.0, 0.0, 0.0, 0.0, 0.0, 0.0, 0.0, 0.0, 0.0, 0.0, 0.0, 0.0, 0.0, 0.0, 0.0, 0.0, 0.0, 0.0, 0.0, 0.0, 0.0, 0.0, 0.0, 0.0, 0.0, 0.0], [0.16412921249866486, 0.03469284623861313, 0.05131254345178604, 0.013316989876329899, 0.17712701857089996, 0.1595190018415451, 0.09812308102846146, 0.29690471291542053, 0.004874553997069597, 0.0, 0.0, 0.0, 0.0, 0.0, 0.0, 0.0, 0.0, 0.0, 0.0, 0.0, 0.0, 0.0, 0.0, 0.0, 0.0, 0.0, 0.0, 0.0, 0.0, 0.0, 0.0, 0.0, 0.0, 0.0, 0.0], [0.18775463104248047, 0.054880447685718536, 0.10758273303508759, 0.04391004517674446, 0.14065435528755188, 0.11696729063987732, 0.05246005207300186, 0.1536639928817749, 0.049352701753377914, 0.09277381747961044, 0.0, 0.0, 0.0, 0.0, 0.0, 0.0, 0.0, 0.0, 0.0, 0.0, 0.0, 0.0, 0.0, 0.0, 0.0, 0.0, 0.0, 0.0, 0.0, 0.0, 0.0, 0.0, 0.0, 0.0, 0.0], [0.2051711082458496, 0.04006879776716232, 0.0833922028541565, 0.045652780681848526, 0.056970130652189255, 0.1331988424062729, 0.026416391134262085, 0.09950855374336243, 0.050134602934122086, 0.21417362987995148, 0.045312926173210144, 0.0, 0.0, 0.0, 0.0, 0.0, 0.0, 0.0, 0.0, 0.0, 0.0, 0.0, 0.0, 0.0, 0.0, 0.0, 0.0, 0.0, 0.0, 0.0, 0.0, 0.0, 0.0, 0.0, 0.0], [0.10754457116127014, 0.020955443382263184, 0.05246841907501221, 0.008330845274031162, 0.17997518181800842, 0.10652033239603043, 0.07210807502269745, 0.20191138982772827, 0.0033460448030382395, 0.14021329581737518, 0.1035674586892128, 0.0030589583329856396, 0.0, 0.0, 0.0, 0.0, 0.0, 0.0, 0.0, 0.0, 0.0, 0.0, 0.0, 0.0, 0.0, 0.0, 0.0, 0.0, 0.0, 0.0, 0.0, 0.0, 0.0, 0.0, 0.0], [0.09423350542783737, 0.02283540740609169, 0.055588554590940475, 0.02696784771978855, 0.12799425423145294, 0.07631109654903412, 0.07361149787902832, 0.16634687781333923, 0.030196350067853928, 0.11622443795204163, 0.13079150021076202, 0.022433556616306305, 0.05646512284874916, 0.0, 0.0, 0.0, 0.0, 0.0, 0.0, 0.0, 0.0, 0.0, 0.0, 0.0, 0.0, 0.0, 0.0, 0.0, 0.0, 0.0, 0.0, 0.0, 0.0, 0.0, 0.0], [0.11027710884809494, 0.019917305558919907, 0.033872101455926895, 0.008012216538190842, 0.1268695443868637, 0.12052713334560394, 0.06604591757059097, 0.21159586310386658, 0.002910379786044359, 0.13361386954784393, 0.07830420881509781, 0.005965666379779577, 0.0786396861076355, 0.0034490113612264395, 0.0, 0.0, 0.0, 0.0, 0.0, 0.0, 0.0, 0.0, 0.0, 0.0, 0.0, 0.0, 0.0, 0.0, 0.0, 0.0, 0.0, 0.0, 0.0, 0.0, 0.0], [0.16007709503173828, 0.05452115461230278, 0.0597362257540226, 0.020207509398460388, 0.052660420536994934, 0.10011062771081924, 0.1172926053404808, 0.14998750388622284, 0.017248373478651047, 0.056252818554639816, 0.09442038089036942, 0.01204691268503666, 0.020297687500715256, 0.018244557082653046, 0.06689617782831192, 0.0, 0.0, 0.0, 0.0, 0.0, 0.0, 0.0, 0.0, 0.0, 0.0, 0.0, 0.0, 0.0, 0.0, 0.0, 0.0, 0.0, 0.0, 0.0, 0.0], [0.17850056290626526, 0.04271138831973076, 0.058762867003679276, 0.025501519441604614, 0.02821972966194153, 0.09395948797464371, 0.035697728395462036, 0.038533005863428116, 0.02757410518825054, 0.12417211383581161, 0.09900186955928802, 0.029919534921646118, 0.04168913513422012, 0.03003855049610138, 0.08029220253229141, 0.06542613357305527, 0.0, 0.0, 0.0, 0.0, 0.0, 0.0, 0.0, 0.0, 0.0, 0.0, 0.0, 0.0, 0.0, 0.0, 0.0, 0.0, 0.0, 0.0, 0.0], [0.0826260969042778, 0.014221640303730965, 0.039103325456380844, 0.0058097741566598415, 0.14161065220832825, 0.08671101927757263, 0.05503493919968605, 0.15626993775367737, 0.002328180940821767, 0.11679326742887497, 0.08067944645881653, 0.0021917985286563635, 0.09792860597372055, 0.0027368690352886915, 0.03297451511025429, 0.08037842810153961, 0.002601495012640953, 0.0, 0.0, 0.0, 0.0, 0.0, 0.0, 0.0, 0.0, 0.0, 0.0, 0.0, 0.0, 0.0, 0.0, 0.0, 0.0, 0.0, 0.0], [0.09858327358961105, 0.028320664539933205, 0.05263177305459976, 0.017858652397990227, 0.061636604368686676, 0.08070766180753708, 0.07397957891225815, 0.09560464322566986, 0.009335826151072979, 0.08467231690883636, 0.11269154399633408, 0.01846788078546524, 0.03856263309717178, 0.011051510460674763, 0.06964195519685745, 0.09237805008888245, 0.02256043814122677, 0.031314946711063385, 0.0, 0.0, 0.0, 0.0, 0.0, 0.0, 0.0, 0.0, 0.0, 0.0, 0.0, 0.0, 0.0, 0.0, 0.0, 0.0, 0.0], [0.14957919716835022, 0.013048064894974232, 0.03394851088523865, 0.015061764977872372, 0.04509882628917694, 0.08479966968297958, 0.027256978675723076, 0.17206285893917084, 0.016850333660840988, 0.10883241146802902, 0.11793848872184753, 0.008323254995048046, 0.016134321689605713, 0.01772647351026535, 0.026173418387770653, 0.05189087241888046, 0.008976071141660213, 0.010605724528431892, 0.07569275796413422, 0.0, 0.0, 0.0, 0.0, 0.0, 0.0, 0.0, 0.0, 0.0, 0.0, 0.0, 0.0, 0.0, 0.0, 0.0, 0.0], [0.2303973287343979, 0.024296816438436508, 0.02655998058617115, 0.03924617916345596, 0.04230226203799248, 0.04924340918660164, 0.007979443296790123, 0.0732208788394928, 0.034551847726106644, 0.0660192221403122, 0.03830168396234512, 0.036723218858242035, 0.024140123277902603, 0.0371052585542202, 0.028557127341628075, 0.054463937878608704, 0.03901505470275879, 0.01594439707696438, 0.04610008746385574, 0.08583168685436249, 0.0, 0.0, 0.0, 0.0, 0.0, 0.0, 0.0, 0.0, 0.0, 0.0, 0.0, 0.0, 0.0, 0.0, 0.0], [0.05691665783524513, 0.006225022953003645, 0.011754417791962624, 0.0035496759228408337, 0.07110725343227386, 0.0800657719373703, 0.02216235175728798, 0.11016806215047836, 0.001048493548296392, 0.08122199773788452, 0.02667204663157463, 0.0021960814483463764, 0.03059852495789528, 0.0012014044914394617, 0.014937762171030045, 0.14736878871917725, 0.00262674898840487, 0.033389173448085785, 0.11049012839794159, 0.18504442274570465, 0.0012552259722724557, 0.0, 0.0, 0.0, 0.0, 0.0, 0.0, 0.0, 0.0, 0.0, 0.0, 0.0, 0.0, 0.0, 0.0], [0.09241704642772675, 0.026059623807668686, 0.024830594658851624, 0.014753975905478, 0.07309960573911667, 0.041600827127695084, 0.028182964771986008, 0.10522370040416718, 0.010200561955571175, 0.02671687863767147, 0.03863626345992088, 0.008342119865119457, 0.03416535630822182, 0.011011878028512001, 0.027021968737244606, 0.10600951313972473, 0.00949846487492323, 0.016123091802001, 0.06257017701864243, 0.19003154337406158, 0.010448914021253586, 0.043055012822151184, 0.0, 0.0, 0.0, 0.0, 0.0, 0.0, 0.0, 0.0, 0.0, 0.0, 0.0, 0.0, 0.0], [0.06173655018210411, 0.007029624190181494, 0.019486606121063232, 0.010366822592914104, 0.04601287841796875, 0.07236863672733307, 0.022752374410629272, 0.08978493511676788, 0.005041902419179678, 0.07019014656543732, 0.07947879284620285, 0.0064753941260278225, 0.0383506678044796, 0.005680921021848917, 0.015840986743569374, 0.05344108119606972, 0.0075249820947647095, 0.018862154334783554, 0.09784607589244843, 0.19087882339954376, 0.0069852969609200954, 0.027727823704481125, 0.046136584132909775, 0.0, 0.0, 0.0, 0.0, 0.0, 0.0, 0.0, 0.0, 0.0, 0.0, 0.0, 0.0], [0.0434984527528286, 0.006029139738529921, 0.0162718053907156, 0.004962887614965439, 0.09232780337333679, 0.05643608421087265, 0.024273201823234558, 0.10004422813653946, 0.0013475852319970727, 0.04695267975330353, 0.043369993567466736, 0.0026120946276932955, 0.025980019941926003, 0.0015367745654657483, 0.013811737298965454, 0.12162508815526962, 0.003084054682403803, 0.014781145378947258, 0.08252860605716705, 0.20843425393104553, 0.0021058099810034037, 0.033566415309906006, 0.04992131143808365, 0.004498818889260292, 0.0, 0.0, 0.0, 0.0, 0.0, 0.0, 0.0, 0.0, 0.0, 0.0, 0.0], [0.05493931472301483, 0.005164692178368568, 0.013282537460327148, 0.0068168118596076965, 0.08581957966089249, 0.042583733797073364, 0.010111803188920021, 0.10901322960853577, 0.003067042911425233, 0.041951458901166916, 0.03668752685189247, 0.0038776015862822533, 0.036396291106939316, 0.0036428291350603104, 0.015713080763816833, 0.04514279589056969, 0.004770631901919842, 0.010733413510024548, 0.12949077785015106, 0.18343369662761688, 0.005763913970440626, 0.06008810177445412, 0.06420367956161499, 0.008479912765324116, 0.018825510516762733, 0.0, 0.0, 0.0, 0.0, 0.0, 0.0, 0.0, 0.0, 0.0, 0.0], [0.1161927878856659, 0.024008186534047127, 0.017500849440693855, 0.022795287892222404, 0.0502765066921711, 0.03202548623085022, 0.020647749304771423, 0.039747416973114014, 0.023735981434583664, 0.026677900925278664, 0.01885642111301422, 0.028171351179480553, 0.034608807414770126, 0.026643717661499977, 0.022768065333366394, 0.023577356711030006, 0.031199203804135323, 0.022620439529418945, 0.09706809371709824, 0.06436185538768768, 0.03251432254910469, 0.04557201266288757, 0.04268260300159454, 0.02825285866856575, 0.025809552520513535, 0.0816851332783699, 0.0, 0.0, 0.0, 0.0, 0.0, 0.0, 0.0, 0.0, 0.0], [0.11220824718475342, 0.0052759344689548016, 0.013701362535357475, 0.0064756376668810844, 0.05825746804475784, 0.05591834709048271, 0.013027258217334747, 0.10451263189315796, 0.004013674799352884, 0.040113676339387894, 0.037872299551963806, 0.0031745280139148235, 0.01212999690324068, 0.004096257966011763, 0.007334525231271982, 0.017732828855514526, 0.0034752320498228073, 0.003059554612264037, 0.09483388066291809, 0.20002642273902893, 0.005673966370522976, 0.016374558210372925, 0.017230229452252388, 0.004368432331830263, 0.00930806528776884, 0.09713462740182877, 0.05267035588622093, 0.0, 0.0, 0.0, 0.0, 0.0, 0.0, 0.0, 0.0], [0.06115270406007767, 0.004939328413456678, 0.009762825444340706, 0.005227165296673775, 0.036462731659412384, 0.031370535492897034, 0.00821889378130436, 0.11535758525133133, 0.003272867063060403, 0.03824919834733009, 0.03337175399065018, 0.0021793784108012915, 0.00769295496866107, 0.0034548097755759954, 0.009085442870855331, 0.02790052630007267, 0.0023665910121053457, 0.003948241472244263, 0.040771495550870895, 0.2757468819618225, 0.0035466651897877455, 0.012455110438168049, 0.03261314705014229, 0.003209815127775073, 0.00360309099778533, 0.10009618103504181, 0.0889286920428276, 0.03501542657613754, 0.0, 0.0, 0.0, 0.0, 0.0, 0.0, 0.0], [0.11957035958766937, 0.008050519041717052, 0.013377300463616848, 0.0070892637595534325, 0.025275403633713722, 0.05149080976843834, 0.006585441995412111, 0.061659857630729675, 0.005620485171675682, 0.0556148886680603, 0.02729180082678795, 0.004286488052457571, 0.00769842928275466, 0.00599625101312995, 0.00794201623648405, 0.028790520504117012, 0.004870964679867029, 0.0043137590400874615, 0.02622806467115879, 0.15385547280311584, 0.010709961876273155, 0.009564648382365704, 0.029178397729992867, 0.0053292810916900635, 0.008051516488194466, 0.07812707871198654, 0.10984010249376297, 0.029521048069000244, 0.09406991302967072, 0.0, 0.0, 0.0, 0.0, 0.0, 0.0], [0.02588074281811714, 0.003286872524768114, 0.009190610609948635, 0.0022713197395205498, 0.042062561959028244, 0.0403556190431118, 0.015107078477740288, 0.04801337048411369, 0.0008096098899841309, 0.03906421363353729, 0.026566799730062485, 0.0015204467345029116, 0.021220147609710693, 0.0009539539460092783, 0.0078103686682879925, 0.033135153353214264, 0.0018792496994137764, 0.01011968869715929, 0.06751002371311188, 0.1226290613412857, 0.001583221834152937, 0.02216803841292858, 0.030785229057073593, 0.004318806808441877, 0.018729006871581078, 0.1447751522064209, 0.06957435607910156, 0.11388754099607468, 0.07182329148054123, 0.0029684777837246656, 0.0, 0.0, 0.0, 0.0, 0.0], [0.04612509906291962, 0.0049293749034404755, 0.011905020102858543, 0.005939910653978586, 0.05086231604218483, 0.03915585204958916, 0.011702249757945538, 0.07777240872383118, 0.0027224950026720762, 0.029330715537071228, 0.03543661907315254, 0.0025086586829274893, 0.011883248575031757, 0.002963858423754573, 0.008878662250936031, 0.018936675041913986, 0.002804588060826063, 0.004066930152475834, 0.06637164950370789, 0.16173595190048218, 0.004074746277183294, 0.017417902126908302, 0.048458125442266464, 0.005489853676408529, 0.014467379078269005, 0.08884269744157791, 0.05744141340255737, 0.04815756902098656, 0.09182097762823105, 0.004751020111143589, 0.023045994341373444, 0.0, 0.0, 0.0, 0.0], [0.02861654944717884, 0.0035397151950746775, 0.012825739569962025, 0.0037311010528355837, 0.022132840007543564, 0.026339098811149597, 0.015483644790947437, 0.04692447558045387, 0.0016770168440416455, 0.05343089625239372, 0.03818726912140846, 0.002529488643631339, 0.027682237327098846, 0.0019447177182883024, 0.010427959263324738, 0.02030639722943306, 0.003083114977926016, 0.00833756010979414, 0.06147444620728493, 0.056954700499773026, 0.003090916434302926, 0.01978728175163269, 0.0377042330801487, 0.004031909164041281, 0.020770886912941933, 0.12126167118549347, 0.08733708411455154, 0.07036237418651581, 0.09933115541934967, 0.005798675119876862, 0.06381494551897049, 0.021079925820231438, 0.0, 0.0, 0.0], [0.022769231349229813, 0.0023638156708329916, 0.006953613366931677, 0.0009745152783580124, 0.0334312804043293, 0.030963124707341194, 0.01288108341395855, 0.0763968974351883, 0.00026210382930003107, 0.030449917539954185, 0.036742568016052246, 0.0005670604296028614, 0.014569040387868881, 0.00030553340911865234, 0.005948358681052923, 0.022492563351988792, 0.0007025572122074664, 0.004866451025009155, 0.06026184558868408, 0.15585903823375702, 0.0005001768586225808, 0.019988082349300385, 0.030868511646986008, 0.0031281516421586275, 0.012151176109910011, 0.11994652450084686, 0.07597392052412033, 0.09628817439079285, 0.07584252953529358, 0.0010643762070685625, 0.03271330147981644, 0.011111116036772728, 0.0006633000448346138, 0.0, 0.0], [0.06755810976028442, 0.003352794796228409, 0.00897220429033041, 0.003402543952688575, 0.056073058396577835, 0.030404718592762947, 0.013628310523927212, 0.07952426373958588, 0.0025889379903674126, 0.03472939878702164, 0.01531597413122654, 0.002527098171412945, 0.007685469929128885, 0.002692824462428689, 0.0071129933930933475, 0.026128452271223068, 0.002773368265479803, 0.007069499231874943, 0.05076206475496292, 0.1759389340877533, 0.003935438115149736, 0.010542862117290497, 0.012697338126599789, 0.002831441117450595, 0.004983489867299795, 0.056103698909282684, 0.10278663784265518, 0.0786440372467041, 0.06361381709575653, 0.004290642682462931, 0.012449045665562153, 0.007846902124583721, 0.003574161324650049, 0.03745955228805542, 0.0], [0.058894284069538116, 0.004834291525185108, 0.008816237561404705, 0.004917600192129612, 0.057244494557380676, 0.047199659049510956, 0.010384357534348965, 0.04373683035373688, 0.0032532147597521544, 0.02700052224099636, 0.015385986305773258, 0.005444499664008617, 0.018304407596588135, 0.0036100544966757298, 0.011856130324304104, 0.07255370169878006, 0.006018077954649925, 0.006411907263100147, 0.05586155503988266, 0.08374673128128052, 0.003973666578531265, 0.018590599298477173, 0.01944512128829956, 0.0038806728553026915, 0.008932657539844513, 0.1224270835518837, 0.0409863106906414, 0.07429768890142441, 0.0577455572783947, 0.006318630650639534, 0.013084120117127895, 0.023065807297825813, 0.005796521436423063, 0.040941353887319565, 0.01503958459943533]], [[1.0, 0.0, 0.0, 0.0, 0.0, 0.0, 0.0, 0.0, 0.0, 0.0, 0.0, 0.0, 0.0, 0.0, 0.0, 0.0, 0.0, 0.0, 0.0, 0.0, 0.0, 0.0, 0.0, 0.0, 0.0, 0.0, 0.0, 0.0, 0.0, 0.0, 0.0, 0.0, 0.0, 0.0, 0.0], [0.9780336022377014, 0.021966347470879555, 0.0, 0.0, 0.0, 0.0, 0.0, 0.0, 0.0, 0.0, 0.0, 0.0, 0.0, 0.0, 0.0, 0.0, 0.0, 0.0, 0.0, 0.0, 0.0, 0.0, 0.0, 0.0, 0.0, 0.0, 0.0, 0.0, 0.0, 0.0, 0.0, 0.0, 0.0, 0.0, 0.0], [0.5068986415863037, 0.4279147684574127, 0.06518658250570297, 0.0, 0.0, 0.0, 0.0, 0.0, 0.0, 0.0, 0.0, 0.0, 0.0, 0.0, 0.0, 0.0, 0.0, 0.0, 0.0, 0.0, 0.0, 0.0, 0.0, 0.0, 0.0, 0.0, 0.0, 0.0, 0.0, 0.0, 0.0, 0.0, 0.0, 0.0, 0.0], [0.34595048427581787, 0.23385104537010193, 0.1913881003856659, 0.2288103848695755, 0.0, 0.0, 0.0, 0.0, 0.0, 0.0, 0.0, 0.0, 0.0, 0.0, 0.0, 0.0, 0.0, 0.0, 0.0, 0.0, 0.0, 0.0, 0.0, 0.0, 0.0, 0.0, 0.0, 0.0, 0.0, 0.0, 0.0, 0.0, 0.0, 0.0, 0.0], [0.2785968780517578, 0.17525745928287506, 0.11037102341651917, 0.2518094480037689, 0.18396520614624023, 0.0, 0.0, 0.0, 0.0, 0.0, 0.0, 0.0, 0.0, 0.0, 0.0, 0.0, 0.0, 0.0, 0.0, 0.0, 0.0, 0.0, 0.0, 0.0, 0.0, 0.0, 0.0, 0.0, 0.0, 0.0, 0.0, 0.0, 0.0, 0.0, 0.0], [0.20804201066493988, 0.08827144652605057, 0.061608124524354935, 0.2584841251373291, 0.27056989073753357, 0.11302439868450165, 0.0, 0.0, 0.0, 0.0, 0.0, 0.0, 0.0, 0.0, 0.0, 0.0, 0.0, 0.0, 0.0, 0.0, 0.0, 0.0, 0.0, 0.0, 0.0, 0.0, 0.0, 0.0, 0.0, 0.0, 0.0, 0.0, 0.0, 0.0, 0.0], [0.1632561981678009, 0.12141189724206924, 0.11990711838006973, 0.1616644561290741, 0.10774072259664536, 0.29750365018844604, 0.028515920042991638, 0.0, 0.0, 0.0, 0.0, 0.0, 0.0, 0.0, 0.0, 0.0, 0.0, 0.0, 0.0, 0.0, 0.0, 0.0, 0.0, 0.0, 0.0, 0.0, 0.0, 0.0, 0.0, 0.0, 0.0, 0.0, 0.0, 0.0, 0.0], [0.12280930578708649, 0.03978990018367767, 0.0451454296708107, 0.13578493893146515, 0.09269553422927856, 0.1180870458483696, 0.33698490262031555, 0.10870299488306046, 0.0, 0.0, 0.0, 0.0, 0.0, 0.0, 0.0, 0.0, 0.0, 0.0, 0.0, 0.0, 0.0, 0.0, 0.0, 0.0, 0.0, 0.0, 0.0, 0.0, 0.0, 0.0, 0.0, 0.0, 0.0, 0.0, 0.0], [0.07854475826025009, 0.03570389747619629, 0.029105328023433685, 0.05200904235243797, 0.10322195291519165, 0.062225162982940674, 0.06801243126392365, 0.17029154300689697, 0.4008859097957611, 0.0, 0.0, 0.0, 0.0, 0.0, 0.0, 0.0, 0.0, 0.0, 0.0, 0.0, 0.0, 0.0, 0.0, 0.0, 0.0, 0.0, 0.0, 0.0, 0.0, 0.0, 0.0, 0.0, 0.0, 0.0, 0.0], [0.0855533704161644, 0.04508212208747864, 0.020755313336849213, 0.05748790130019188, 0.05853366479277611, 0.03812538459897041, 0.03164031729102135, 0.14470811188220978, 0.39396733045578003, 0.12414640933275223, 0.0, 0.0, 0.0, 0.0, 0.0, 0.0, 0.0, 0.0, 0.0, 0.0, 0.0, 0.0, 0.0, 0.0, 0.0, 0.0, 0.0, 0.0, 0.0, 0.0, 0.0, 0.0, 0.0, 0.0, 0.0], [0.034007567912340164, 0.005801304243505001, 0.004264355171471834, 0.014554583467543125, 0.0020581260323524475, 0.01005222462117672, 0.015462432987987995, 0.014919930137693882, 0.07456016540527344, 0.8029415607452393, 0.021377794444561005, 0.0, 0.0, 0.0, 0.0, 0.0, 0.0, 0.0, 0.0, 0.0, 0.0, 0.0, 0.0, 0.0, 0.0, 0.0, 0.0, 0.0, 0.0, 0.0, 0.0, 0.0, 0.0, 0.0, 0.0], [0.03658132627606392, 0.008552641607820988, 0.00908592063933611, 0.010718585923314095, 0.03151050955057144, 0.07786066085100174, 0.02809952013194561, 0.052033886313438416, 0.09175646305084229, 0.2498079240322113, 0.2238456904888153, 0.18014691770076752, 0.0, 0.0, 0.0, 0.0, 0.0, 0.0, 0.0, 0.0, 0.0, 0.0, 0.0, 0.0, 0.0, 0.0, 0.0, 0.0, 0.0, 0.0, 0.0, 0.0, 0.0, 0.0, 0.0], [0.03899506852030754, 0.013953074812889099, 0.02715037390589714, 0.015978625044226646, 0.006068873684853315, 0.015332890674471855, 0.007358453702181578, 0.008143589831888676, 0.09236101806163788, 0.0958237275481224, 0.39708971977233887, 0.22508248686790466, 0.056662000715732574, 0.0, 0.0, 0.0, 0.0, 0.0, 0.0, 0.0, 0.0, 0.0, 0.0, 0.0, 0.0, 0.0, 0.0, 0.0, 0.0, 0.0, 0.0, 0.0, 0.0, 0.0, 0.0], [0.02941766194999218, 0.0068539828062057495, 0.005433525890111923, 0.008306879550218582, 0.015738271176815033, 0.008708895184099674, 0.008349092677235603, 0.023920074105262756, 0.04694683849811554, 0.04814504086971283, 0.09309997409582138, 0.15290862321853638, 0.14854168891906738, 0.40362945199012756, 0.0, 0.0, 0.0, 0.0, 0.0, 0.0, 0.0, 0.0, 0.0, 0.0, 0.0, 0.0, 0.0, 0.0, 0.0, 0.0, 0.0, 0.0, 0.0, 0.0, 0.0], [0.03712828457355499, 0.007584473583847284, 0.0035451469011604786, 0.008117969147861004, 0.01883419044315815, 0.005904970224946737, 0.009632598608732224, 0.011076658964157104, 0.04249940812587738, 0.0150839788839221, 0.01984347216784954, 0.11177274584770203, 0.12816859781742096, 0.33317869901657104, 0.247628852725029, 0.0, 0.0, 0.0, 0.0, 0.0, 0.0, 0.0, 0.0, 0.0, 0.0, 0.0, 0.0, 0.0, 0.0, 0.0, 0.0, 0.0, 0.0, 0.0, 0.0], [0.024791507050395012, 0.002257240004837513, 0.0019112302688881755, 0.003149645635858178, 0.0017746689263731241, 0.0030808579176664352, 0.01988072320818901, 0.006427102722227573, 0.015317474491894245, 0.0032266073394566774, 0.020296083763241768, 0.05772731453180313, 0.022555232048034668, 0.08885955810546875, 0.7141123414039612, 0.014632444828748703, 0.0, 0.0, 0.0, 0.0, 0.0, 0.0, 0.0, 0.0, 0.0, 0.0, 0.0, 0.0, 0.0, 0.0, 0.0, 0.0, 0.0, 0.0, 0.0], [0.019352810457348824, 0.002735720481723547, 0.0027006426826119423, 0.002816396066918969, 0.007300613913685083, 0.016268694773316383, 0.00513470359146595, 0.010258639231324196, 0.013791474513709545, 0.033804409205913544, 0.033944856375455856, 0.02411041595041752, 0.05347484350204468, 0.09691011160612106, 0.2761884033679962, 0.22190362215042114, 0.17930364608764648, 0.0, 0.0, 0.0, 0.0, 0.0, 0.0, 0.0, 0.0, 0.0, 0.0, 0.0, 0.0, 0.0, 0.0, 0.0, 0.0, 0.0, 0.0], [0.01677829772233963, 0.0013836671132594347, 0.0012504439800977707, 0.0019532644655555487, 0.0012283112155273557, 0.0034270514734089375, 0.0017710169777274132, 0.002587685827165842, 0.00995652936398983, 0.007537424564361572, 0.004963123705238104, 0.023668866604566574, 0.017456647008657455, 0.06967754662036896, 0.26127687096595764, 0.24082408845424652, 0.17677909135818481, 0.15748006105422974, 0.0, 0.0, 0.0, 0.0, 0.0, 0.0, 0.0, 0.0, 0.0, 0.0, 0.0, 0.0, 0.0, 0.0, 0.0, 0.0, 0.0], [0.054750364273786545, 0.00920194573700428, 0.0037833009846508503, 0.006891886703670025, 0.007006870117038488, 0.005267777480185032, 0.0019135902402922511, 0.006649008020758629, 0.022490739822387695, 0.007203700952231884, 0.03985989838838577, 0.026306968182325363, 0.03598389774560928, 0.10654620081186295, 0.14742791652679443, 0.029531946405768394, 0.148341566324234, 0.23425281047821045, 0.10658957064151764, 0.0, 0.0, 0.0, 0.0, 0.0, 0.0, 0.0, 0.0, 0.0, 0.0, 0.0, 0.0, 0.0, 0.0, 0.0, 0.0], [0.08004868775606155, 0.003562747500836849, 0.003394146915525198, 0.01128555741161108, 0.012208586558699608, 0.0019434950081631541, 0.003920829854905605, 0.024116618558764458, 0.02334994450211525, 0.008975899778306484, 0.005343950353562832, 0.02533605881035328, 0.01387019082903862, 0.10103653371334076, 0.03973817825317383, 0.08061381429433823, 0.12086474895477295, 0.12294694036245346, 0.14132508635520935, 0.17611798644065857, 0.0, 0.0, 0.0, 0.0, 0.0, 0.0, 0.0, 0.0, 0.0, 0.0, 0.0, 0.0, 0.0, 0.0, 0.0], [0.013053354807198048, 0.0019795650150626898, 0.0016182106919586658, 0.0014078509993851185, 0.0014868254074826837, 0.0013099159114062786, 0.0016642971895635128, 0.0025665161665529013, 0.003062670351937413, 0.010340584442019463, 0.007755246479064226, 0.008929400704801083, 0.008869537152349949, 0.017165103927254677, 0.07265806198120117, 0.08664470911026001, 0.06223943084478378, 0.16528479754924774, 0.07255073636770248, 0.09155543148517609, 0.36785778403282166, 0.0, 0.0, 0.0, 0.0, 0.0, 0.0, 0.0, 0.0, 0.0, 0.0, 0.0, 0.0, 0.0, 0.0], [0.0123160220682621, 0.0011592368828132749, 0.0007622389239259064, 0.0019507519900798798, 0.0012718515936285257, 0.0006892279488965869, 0.0005458984524011612, 0.0026030000299215317, 0.003917664755135775, 0.0005409368895925581, 0.001274191658012569, 0.006503169424831867, 0.005551586858928204, 0.017973439767956734, 0.013353332877159119, 0.03805125877261162, 0.043033964931964874, 0.039586566388607025, 0.022300690412521362, 0.03898366540670395, 0.5949540138244629, 0.1526772677898407, 0.0, 0.0, 0.0, 0.0, 0.0, 0.0, 0.0, 0.0, 0.0, 0.0, 0.0, 0.0, 0.0], [0.01372495386749506, 0.0016125737456604838, 0.00032898664358071983, 0.0010084306122735143, 0.001175803947262466, 0.0007259270059876144, 0.0005918750539422035, 0.0009615586022846401, 0.003118618857115507, 0.005970010068267584, 0.0030334647744894028, 0.0033444976434111595, 0.008407535962760448, 0.013658497482538223, 0.0056070322170853615, 0.005321718752384186, 0.019289914518594742, 0.029109656810760498, 0.013599611818790436, 0.031337760388851166, 0.25137242674827576, 0.5305222868919373, 0.05617688596248627, 0.0, 0.0, 0.0, 0.0, 0.0, 0.0, 0.0, 0.0, 0.0, 0.0, 0.0, 0.0], [0.016002371907234192, 0.0009560454054735601, 0.0005680464673787355, 0.001554971793666482, 0.0015755729982629418, 0.0006219735369086266, 0.0011257653823122382, 0.0014368745032697916, 0.0023100462276488543, 0.0009028317872434855, 0.0013921459903940558, 0.0036725939717143774, 0.0036322828382253647, 0.009217396378517151, 0.008623880334198475, 0.027025748044252396, 0.021376444026827812, 0.03330116346478462, 0.03885401412844658, 0.03905840218067169, 0.26596635580062866, 0.19372600317001343, 0.09792888909578323, 0.22917017340660095, 0.0, 0.0, 0.0, 0.0, 0.0, 0.0, 0.0, 0.0, 0.0, 0.0, 0.0], [0.009987290017306805, 0.0009651763830333948, 0.0006041585002094507, 0.0009222126682288945, 0.0008805808611214161, 0.000597433652728796, 0.00021149202075321227, 0.0006455684779211879, 0.0012417678954079747, 0.0006859697168692946, 0.0007031511049717665, 0.0014577420661225915, 0.001848770771175623, 0.005077202804386616, 0.0019275668310001493, 0.01241339836269617, 0.008568299934267998, 0.012073683552443981, 0.021936645731329918, 0.02919415384531021, 0.14272743463516235, 0.09834034740924835, 0.11847680807113647, 0.3163195252418518, 0.2121935933828354, 0.0, 0.0, 0.0, 0.0, 0.0, 0.0, 0.0, 0.0, 0.0, 0.0], [0.01686088927090168, 0.00197032792493701, 0.0008858366054482758, 0.0017656396375969052, 0.002392832189798355, 0.0005271150730550289, 0.0003617895708885044, 0.0006361054256558418, 0.0022411311510950327, 0.0008515871595591307, 0.00038157866219989955, 0.0022748310584574938, 0.0018798470264300704, 0.007292230147868395, 0.0021466757170856, 0.002526304218918085, 0.010355683043599129, 0.011969330720603466, 0.006590918637812138, 0.012827490456402302, 0.12130486965179443, 0.06624645739793777, 0.14612405002117157, 0.28280723094940186, 0.24703308939933777, 0.04974617809057236, 0.0, 0.0, 0.0, 0.0, 0.0, 0.0, 0.0, 0.0, 0.0], [0.026405036449432373, 0.0014230996603146195, 0.001623444608412683, 0.0025764042511582375, 0.00268970406614244, 0.0012257524067535996, 0.0010898782638832927, 0.0009538462036289275, 0.0019223529379814863, 0.002411524998024106, 0.0024579439777880907, 0.0014354201266542077, 0.005378496367484331, 0.00473234336823225, 0.0019391141831874847, 0.0079575190320611, 0.0060868836008012295, 0.012657458893954754, 0.01160250511020422, 0.02909662388265133, 0.08598875254392624, 0.07665879279375076, 0.03624012693762779, 0.13133355975151062, 0.19490276277065277, 0.21766334772109985, 0.1315472275018692, 0.0, 0.0, 0.0, 0.0, 0.0, 0.0, 0.0, 0.0], [0.0238961149007082, 0.002067502588033676, 0.0025093769654631615, 0.001851196982897818, 0.003160967258736491, 0.0009005637257359922, 0.0002685425861272961, 0.0005213554250076413, 0.00178721419069916, 0.0019308954942971468, 0.0010158243821933866, 0.0010442667407914996, 0.0015677034389227629, 0.004060098901391029, 0.0008207393111661077, 0.0033582986798137426, 0.004117121454328299, 0.007223027758300304, 0.01454730425029993, 0.04635158181190491, 0.05601862445473671, 0.03840019553899765, 0.041609980165958405, 0.10494538396596909, 0.15788212418556213, 0.12118806689977646, 0.19090242683887482, 0.16605345904827118, 0.0, 0.0, 0.0, 0.0, 0.0, 0.0, 0.0], [0.04075776785612106, 0.003958364017307758, 0.00569809228181839, 0.003957986366003752, 0.0014047817094251513, 0.00032769437530077994, 0.0006401941645890474, 0.0012045818148180842, 0.0022385583724826574, 0.0007448497926816344, 0.003836577758193016, 0.0016206816071644425, 0.0010148308938369155, 0.00426118727773428, 0.0009652958833612502, 0.0003954320854973048, 0.005401064176112413, 0.00726340152323246, 0.005766802001744509, 0.029991837218403816, 0.04173656925559044, 0.01752765104174614, 0.025155048817396164, 0.07565261423587799, 0.24542643129825592, 0.06668500602245331, 0.26483169198036194, 0.05502409487962723, 0.08651085942983627, 0.0, 0.0, 0.0, 0.0, 0.0, 0.0], [0.011784784495830536, 0.0013947553234174848, 0.0009515650453977287, 0.0008953195647336543, 0.0010372704127803445, 0.0004972646129317582, 0.0002528382174205035, 0.0004317566053941846, 0.0005345687386579812, 0.0002822917595040053, 0.000427473132731393, 0.0005479570245370269, 0.0008038745727390051, 0.0011037485674023628, 0.0010882844217121601, 0.002635375829413533, 0.0020033151376992464, 0.002939455443993211, 0.0051142009906470776, 0.009162314236164093, 0.020236428827047348, 0.014397252351045609, 0.014386603608727455, 0.05287313833832741, 0.044258084148168564, 0.07174724340438843, 0.08077166974544525, 0.1177971363067627, 0.14486125111579895, 0.3947827219963074, 0.0, 0.0, 0.0, 0.0, 0.0], [0.012992868199944496, 0.0016676140949130058, 0.0010021078633144498, 0.001176123390905559, 0.0007638346287421882, 0.0004005830851383507, 0.00012849245104007423, 0.00010518668568693101, 0.0005606432096101344, 0.00014079386892262846, 0.00012207550753373653, 0.0003985988150816411, 0.00022988287673797458, 0.0011077829403802752, 0.00036310352152213454, 0.0008891797042451799, 0.001440245658159256, 0.0014520242111757398, 0.002630566479638219, 0.003167383372783661, 0.017224682494997978, 0.010722357779741287, 0.005022997967898846, 0.045778486877679825, 0.04751968011260033, 0.027067186310887337, 0.0521685890853405, 0.055007971823215485, 0.11481018364429474, 0.44568806886672974, 0.1482507735490799, 0.0, 0.0, 0.0, 0.0], [0.011720024049282074, 0.0009638686315156519, 0.0016792798414826393, 0.0009598792530596256, 0.0011835340410470963, 0.00035873439628630877, 0.00013125204714015126, 0.00020985884475521743, 0.00035185890737921, 0.00011673843255266547, 0.0003326720034237951, 0.00020899801165796816, 0.000163040473125875, 0.0005591610097326338, 0.0001787791115930304, 0.0005847541615366936, 0.0006520412280224264, 0.0008100889390334487, 0.0008232023101300001, 0.006545150652527809, 0.007790673989802599, 0.00662250816822052, 0.005052974447607994, 0.014489836059510708, 0.024942070245742798, 0.019010353833436966, 0.028525514528155327, 0.036787766963243484, 0.1426696628332138, 0.23489883542060852, 0.30085399746894836, 0.14982284605503082, 0.0, 0.0, 0.0], [0.011463283561170101, 0.0009014825336635113, 0.0005477444501593709, 0.000586986425332725, 0.0005616628914140165, 0.00023434770992025733, 0.00013944675447419286, 0.00019926803361158818, 0.0003140309127047658, 0.0001251464564120397, 0.00021479518909472972, 0.0002481347764842212, 0.00022906187223270535, 0.0005020775715820491, 0.0004519018984865397, 0.0006676740595139563, 0.0007638585520908237, 0.0009467180352658033, 0.0010094373719766736, 0.003719573374837637, 0.007444895803928375, 0.004500555340200663, 0.0018344365525990725, 0.01297363918274641, 0.015522489324212074, 0.021838268265128136, 0.016228968277573586, 0.024697432294487953, 0.038053229451179504, 0.1630234271287918, 0.11826051026582718, 0.2288476526737213, 0.3229478895664215, 0.0, 0.0], [0.009539731778204441, 0.0014243266778066754, 0.0009944570483639836, 0.0009655572939664125, 0.0007854417781345546, 0.00030160605092532933, 0.0001115954146371223, 0.0008093696087598801, 0.00040054586133919656, 8.517084643244743e-05, 0.0006307567819021642, 0.00020861576194874942, 0.0002525565796531737, 0.0005451841279864311, 0.00024275531177408993, 0.0005828308640047908, 0.00055039202561602, 0.0010548591380938888, 0.0010979119688272476, 0.004033547360450029, 0.005151547025889158, 0.007251260336488485, 0.003988182637840509, 0.012260395102202892, 0.013561544008553028, 0.03828655928373337, 0.06675273925065994, 0.013111528940498829, 0.10093273967504501, 0.1317911148071289, 0.054323043674230576, 0.1525149643421173, 0.30832457542419434, 0.0671326220035553, 0.0], [0.00923457182943821, 0.0018696906045079231, 0.001543495338410139, 0.0012878909474238753, 0.0009349415195174515, 0.00028256073710508645, 0.00044942786917090416, 0.0005594989052042365, 0.0003277680661994964, 7.203824497992173e-05, 0.00010657910752343014, 0.000263624096987769, 0.0003654725442174822, 0.0003748315793927759, 0.00031175342155620456, 0.000896913290489465, 0.0006347448215819895, 0.0008650033269077539, 0.0008020040113478899, 0.0006307900766842067, 0.0032187788747251034, 0.0038458341732621193, 0.0030004363507032394, 0.007814157754182816, 0.010107206180691719, 0.016721567139029503, 0.007672078441828489, 0.010031218640506268, 0.005356382578611374, 0.07757056504487991, 0.03774446249008179, 0.13809101283550262, 0.1956760585308075, 0.030743557959794998, 0.4305931031703949]], [[1.0, 0.0, 0.0, 0.0, 0.0, 0.0, 0.0, 0.0, 0.0, 0.0, 0.0, 0.0, 0.0, 0.0, 0.0, 0.0, 0.0, 0.0, 0.0, 0.0, 0.0, 0.0, 0.0, 0.0, 0.0, 0.0, 0.0, 0.0, 0.0, 0.0, 0.0, 0.0, 0.0, 0.0, 0.0], [0.8970723748207092, 0.10292765498161316, 0.0, 0.0, 0.0, 0.0, 0.0, 0.0, 0.0, 0.0, 0.0, 0.0, 0.0, 0.0, 0.0, 0.0, 0.0, 0.0, 0.0, 0.0, 0.0, 0.0, 0.0, 0.0, 0.0, 0.0, 0.0, 0.0, 0.0, 0.0, 0.0, 0.0, 0.0, 0.0, 0.0], [0.7731762528419495, 0.17108601331710815, 0.05573772266507149, 0.0, 0.0, 0.0, 0.0, 0.0, 0.0, 0.0, 0.0, 0.0, 0.0, 0.0, 0.0, 0.0, 0.0, 0.0, 0.0, 0.0, 0.0, 0.0, 0.0, 0.0, 0.0, 0.0, 0.0, 0.0, 0.0, 0.0, 0.0, 0.0, 0.0, 0.0, 0.0], [0.2190985381603241, 0.09592846035957336, 0.1539974808692932, 0.5309755206108093, 0.0, 0.0, 0.0, 0.0, 0.0, 0.0, 0.0, 0.0, 0.0, 0.0, 0.0, 0.0, 0.0, 0.0, 0.0, 0.0, 0.0, 0.0, 0.0, 0.0, 0.0, 0.0, 0.0, 0.0, 0.0, 0.0, 0.0, 0.0, 0.0, 0.0, 0.0], [0.4932920038700104, 0.12421077489852905, 0.08378953486680984, 0.2104450762271881, 0.08826270699501038, 0.0, 0.0, 0.0, 0.0, 0.0, 0.0, 0.0, 0.0, 0.0, 0.0, 0.0, 0.0, 0.0, 0.0, 0.0, 0.0, 0.0, 0.0, 0.0, 0.0, 0.0, 0.0, 0.0, 0.0, 0.0, 0.0, 0.0, 0.0, 0.0, 0.0], [0.4792534112930298, 0.1148393526673317, 0.058252837508916855, 0.12140911817550659, 0.19296900928020477, 0.0332762710750103, 0.0, 0.0, 0.0, 0.0, 0.0, 0.0, 0.0, 0.0, 0.0, 0.0, 0.0, 0.0, 0.0, 0.0, 0.0, 0.0, 0.0, 0.0, 0.0, 0.0, 0.0, 0.0, 0.0, 0.0, 0.0, 0.0, 0.0, 0.0, 0.0], [0.33760708570480347, 0.13038289546966553, 0.12365780770778656, 0.16848313808441162, 0.03948561102151871, 0.15522730350494385, 0.04515616595745087, 0.0, 0.0, 0.0, 0.0, 0.0, 0.0, 0.0, 0.0, 0.0, 0.0, 0.0, 0.0, 0.0, 0.0, 0.0, 0.0, 0.0, 0.0, 0.0, 0.0, 0.0, 0.0, 0.0, 0.0, 0.0, 0.0, 0.0, 0.0], [0.3124314546585083, 0.10335507243871689, 0.07322119176387787, 0.13077440857887268, 0.08650772273540497, 0.20371751487255096, 0.04714130610227585, 0.04285133257508278, 0.0, 0.0, 0.0, 0.0, 0.0, 0.0, 0.0, 0.0, 0.0, 0.0, 0.0, 0.0, 0.0, 0.0, 0.0, 0.0, 0.0, 0.0, 0.0, 0.0, 0.0, 0.0, 0.0, 0.0, 0.0, 0.0, 0.0], [0.1071995347738266, 0.032564785331487656, 0.0461539551615715, 0.12522779405117035, 0.011105235666036606, 0.034330032765865326, 0.007858376018702984, 0.011366572231054306, 0.6241937279701233, 0.0, 0.0, 0.0, 0.0, 0.0, 0.0, 0.0, 0.0, 0.0, 0.0, 0.0, 0.0, 0.0, 0.0, 0.0, 0.0, 0.0, 0.0, 0.0, 0.0, 0.0, 0.0, 0.0, 0.0, 0.0, 0.0], [0.30288904905319214, 0.07804973423480988, 0.059376489371061325, 0.09426911175251007, 0.17377153038978577, 0.03861627355217934, 0.048025283962488174, 0.03951255977153778, 0.13237619400024414, 0.03311379998922348, 0.0, 0.0, 0.0, 0.0, 0.0, 0.0, 0.0, 0.0, 0.0, 0.0, 0.0, 0.0, 0.0, 0.0, 0.0, 0.0, 0.0, 0.0, 0.0, 0.0, 0.0, 0.0, 0.0, 0.0, 0.0], [0.13027670979499817, 0.04213486239314079, 0.07258210331201553, 0.10922865569591522, 0.03630434721708298, 0.19112573564052582, 0.033697981387376785, 0.05715860053896904, 0.11187221854925156, 0.16414132714271545, 0.05147743225097656, 0.0, 0.0, 0.0, 0.0, 0.0, 0.0, 0.0, 0.0, 0.0, 0.0, 0.0, 0.0, 0.0, 0.0, 0.0, 0.0, 0.0, 0.0, 0.0, 0.0, 0.0, 0.0, 0.0, 0.0], [0.0946442186832428, 0.029253456741571426, 0.03811940178275108, 0.14989574253559113, 0.020670868456363678, 0.07631714642047882, 0.008947473019361496, 0.020045075565576553, 0.3057856559753418, 0.0475209578871727, 0.010440828278660774, 0.1983591765165329, 0.0, 0.0, 0.0, 0.0, 0.0, 0.0, 0.0, 0.0, 0.0, 0.0, 0.0, 0.0, 0.0, 0.0, 0.0, 0.0, 0.0, 0.0, 0.0, 0.0, 0.0, 0.0, 0.0], [0.14440801739692688, 0.06329525262117386, 0.07617760449647903, 0.07194554805755615, 0.03394106402993202, 0.08442071080207825, 0.03594021499156952, 0.07685542851686478, 0.1158827692270279, 0.059519533067941666, 0.06183495745062828, 0.14841707050800323, 0.027361802756786346, 0.0, 0.0, 0.0, 0.0, 0.0, 0.0, 0.0, 0.0, 0.0, 0.0, 0.0, 0.0, 0.0, 0.0, 0.0, 0.0, 0.0, 0.0, 0.0, 0.0, 0.0, 0.0], [0.0414787195622921, 0.011494406498968601, 0.01764351688325405, 0.04599723592400551, 0.004085008054971695, 0.013701110146939754, 0.0028709035832434893, 0.004510780330747366, 0.24164843559265137, 0.009729514829814434, 0.002616732381284237, 0.2641770839691162, 0.008053767494857311, 0.3319927752017975, 0.0, 0.0, 0.0, 0.0, 0.0, 0.0, 0.0, 0.0, 0.0, 0.0, 0.0, 0.0, 0.0, 0.0, 0.0, 0.0, 0.0, 0.0, 0.0, 0.0, 0.0], [0.15155856311321259, 0.03772507235407829, 0.027330651879310608, 0.06052476167678833, 0.030143283307552338, 0.028034886345267296, 0.013341411016881466, 0.022503050044178963, 0.11653435230255127, 0.05189972743391991, 0.010558661073446274, 0.10229875892400742, 0.015167287550866604, 0.14137379825115204, 0.19100576639175415, 0.0, 0.0, 0.0, 0.0, 0.0, 0.0, 0.0, 0.0, 0.0, 0.0, 0.0, 0.0, 0.0, 0.0, 0.0, 0.0, 0.0, 0.0, 0.0, 0.0], [0.2839045822620392, 0.06502403318881989, 0.032383352518081665, 0.02959110215306282, 0.0424320325255394, 0.028469771146774292, 0.04153314605355263, 0.08465307205915451, 0.043854981660842896, 0.027530400082468987, 0.0921814888715744, 0.03751114383339882, 0.048919036984443665, 0.049849677830934525, 0.07913838326931, 0.013023805804550648, 0.0, 0.0, 0.0, 0.0, 0.0, 0.0, 0.0, 0.0, 0.0, 0.0, 0.0, 0.0, 0.0, 0.0, 0.0, 0.0, 0.0, 0.0, 0.0], [0.04885760322213173, 0.014007380232214928, 0.01954260654747486, 0.07337553799152374, 0.010089147835969925, 0.03972570225596428, 0.0043100533075630665, 0.01059033628553152, 0.15303605794906616, 0.02649904601275921, 0.00541725056245923, 0.09647625684738159, 0.012806719169020653, 0.2047864943742752, 0.14743390679359436, 0.00968919787555933, 0.12335667759180069, 0.0, 0.0, 0.0, 0.0, 0.0, 0.0, 0.0, 0.0, 0.0, 0.0, 0.0, 0.0, 0.0, 0.0, 0.0, 0.0, 0.0, 0.0], [0.05943121388554573, 0.02595120295882225, 0.035473890602588654, 0.03907974809408188, 0.018049323931336403, 0.02308724634349346, 0.010503754019737244, 0.03006955422461033, 0.09918283671140671, 0.036144088953733444, 0.018410028889775276, 0.11741489171981812, 0.017167571932077408, 0.12769997119903564, 0.08459016680717468, 0.037902720272541046, 0.145772323012352, 0.07406947761774063, 0.0, 0.0, 0.0, 0.0, 0.0, 0.0, 0.0, 0.0, 0.0, 0.0, 0.0, 0.0, 0.0, 0.0, 0.0, 0.0, 0.0], [0.272489070892334, 0.04502272605895996, 0.046122368425130844, 0.04205198213458061, 0.03813563659787178, 0.05454430356621742, 0.025706563144922256, 0.019254149869084358, 0.045364584773778915, 0.051068760454654694, 0.021479343995451927, 0.05142936110496521, 0.035683102905750275, 0.051102492958307266, 0.04221019148826599, 0.03813278675079346, 0.057898204773664474, 0.023540081456303596, 0.03876426815986633, 0.0, 0.0, 0.0, 0.0, 0.0, 0.0, 0.0, 0.0, 0.0, 0.0, 0.0, 0.0, 0.0, 0.0, 0.0, 0.0], [0.23981240391731262, 0.03723885491490364, 0.04641321673989296, 0.018074776977300644, 0.028609449043869972, 0.0315636470913887, 0.023263653740286827, 0.05314115807414055, 0.03672981634736061, 0.044361554086208344, 0.014090004377067089, 0.040796566754579544, 0.013384060934185982, 0.040182750672101974, 0.025124981999397278, 0.022283170372247696, 0.044574398547410965, 0.0263572596013546, 0.018502118065953255, 0.19549614191055298, 0.0, 0.0, 0.0, 0.0, 0.0, 0.0, 0.0, 0.0, 0.0, 0.0, 0.0, 0.0, 0.0, 0.0, 0.0], [0.03447256237268448, 0.007049787789583206, 0.008516230620443821, 0.019823288545012474, 0.0020061926916241646, 0.008738485164940357, 0.0013805321650579572, 0.0025849875528365374, 0.129638671875, 0.00498052267357707, 0.0014542954741045833, 0.09793515503406525, 0.004242659080773592, 0.17474929988384247, 0.02057534269988537, 0.0029217295814305544, 0.1251920759677887, 0.01766674965620041, 0.008172443136572838, 0.006463976111263037, 0.32143503427505493, 0.0, 0.0, 0.0, 0.0, 0.0, 0.0, 0.0, 0.0, 0.0, 0.0, 0.0, 0.0, 0.0, 0.0], [0.07532121986150742, 0.017385119572281837, 0.026499589905142784, 0.038201138377189636, 0.01346430741250515, 0.017004944384098053, 0.005682718008756638, 0.00816139206290245, 0.0879102572798729, 0.0156520027667284, 0.00462237698957324, 0.06870013475418091, 0.017068391665816307, 0.11098405718803406, 0.08843356370925903, 0.01554049551486969, 0.08290650695562363, 0.03445708379149437, 0.0349029004573822, 0.02266903594136238, 0.1672758311033249, 0.047156915068626404, 0.0, 0.0, 0.0, 0.0, 0.0, 0.0, 0.0, 0.0, 0.0, 0.0, 0.0, 0.0, 0.0], [0.11039689928293228, 0.017618604004383087, 0.012073222547769547, 0.07903023064136505, 0.047071799635887146, 0.028393464162945747, 0.010853300802409649, 0.03898293897509575, 0.042541783303022385, 0.05313576012849808, 0.010616576299071312, 0.04066742584109306, 0.016578689217567444, 0.05044255033135414, 0.04148310795426369, 0.011694181710481644, 0.048943907022476196, 0.04587531089782715, 0.06803460419178009, 0.03145819157361984, 0.07373650372028351, 0.09332364052534103, 0.027047282084822655, 0.0, 0.0, 0.0, 0.0, 0.0, 0.0, 0.0, 0.0, 0.0, 0.0, 0.0, 0.0], [0.050105903297662735, 0.011403637006878853, 0.0189800001680851, 0.048291102051734924, 0.0054781632497906685, 0.027938112616539, 0.0034753414802253246, 0.009667656384408474, 0.08883962780237198, 0.021459806710481644, 0.009184246882796288, 0.06738951802253723, 0.006293777376413345, 0.11730517446994781, 0.05559384077787399, 0.023259557783603668, 0.08538824319839478, 0.030172355473041534, 0.01855376735329628, 0.049727194011211395, 0.1386995166540146, 0.03593091294169426, 0.029570573940873146, 0.047291941940784454, 0.0, 0.0, 0.0, 0.0, 0.0, 0.0, 0.0, 0.0, 0.0, 0.0, 0.0], [0.03365062549710274, 0.03973434492945671, 0.013943269848823547, 0.022155024111270905, 0.00737410131841898, 0.01253434643149376, 0.003937930800020695, 0.005588038358837366, 0.0527641586959362, 0.011353474110364914, 0.0029761551413685083, 0.06122000515460968, 0.007114537991583347, 0.06609286367893219, 0.018457185477018356, 0.004707181826233864, 0.0778060182929039, 0.015934070572257042, 0.016269713640213013, 0.027332929894328117, 0.08945077657699585, 0.02828320302069187, 0.0134283397346735, 0.24125005304813385, 0.12664158642292023, 0.0, 0.0, 0.0, 0.0, 0.0, 0.0, 0.0, 0.0, 0.0, 0.0], [0.10162997245788574, 0.0481734462082386, 0.02274150773882866, 0.017647163942456245, 0.016357652842998505, 0.014718174934387207, 0.020238902419805527, 0.030098319053649902, 0.03836438059806824, 0.025297490879893303, 0.039593446999788284, 0.04179812967777252, 0.01849495619535446, 0.043456632643938065, 0.02387693151831627, 0.013411911204457283, 0.04804753512144089, 0.021995291113853455, 0.030744770541787148, 0.05168473348021507, 0.057864848524332047, 0.04216013103723526, 0.05038999021053314, 0.08024893701076508, 0.07608186453580856, 0.02488282509148121, 0.0, 0.0, 0.0, 0.0, 0.0, 0.0, 0.0, 0.0, 0.0], [0.06603525578975677, 0.020660119131207466, 0.021681692451238632, 0.03408760204911232, 0.015279389917850494, 0.018441995605826378, 0.010789589025080204, 0.05595836788415909, 0.03565486893057823, 0.021738862618803978, 0.025664949789643288, 0.03946557268500328, 0.019091861322522163, 0.04260499030351639, 0.045140340924263, 0.012913588434457779, 0.04735578969120979, 0.025561850517988205, 0.035244133323431015, 0.09746363759040833, 0.05611315369606018, 0.035938482731580734, 0.03256699815392494, 0.043019864708185196, 0.04697674885392189, 0.03246127814054489, 0.062089044600725174, 0.0, 0.0, 0.0, 0.0, 0.0, 0.0, 0.0, 0.0], [0.10541098564863205, 0.0169731043279171, 0.020341025665402412, 0.03266655281186104, 0.021851172670722008, 0.031789932399988174, 0.00557120842859149, 0.024194514378905296, 0.0167404655367136, 0.01608256809413433, 0.013484924100339413, 0.022790374234318733, 0.020844897255301476, 0.01981642283499241, 0.007411995902657509, 0.013035089708864689, 0.026982467621564865, 0.010132262483239174, 0.01766771823167801, 0.29726237058639526, 0.02345714159309864, 0.03235582634806633, 0.032245345413684845, 0.019980132579803467, 0.05017193406820297, 0.04827895388007164, 0.03308821842074394, 0.01937241666018963, 0.0, 0.0, 0.0, 0.0, 0.0, 0.0, 0.0], [0.1147821694612503, 0.02845187485218048, 0.030158085748553276, 0.029890699312090874, 0.015577693469822407, 0.04523627832531929, 0.008156667463481426, 0.04677770286798477, 0.020574580878019333, 0.018089191988110542, 0.016638461500406265, 0.024351511150598526, 0.014281017705798149, 0.02287057600915432, 0.024558430537581444, 0.021522242575883865, 0.0277401190251112, 0.012263164855539799, 0.016789689660072327, 0.030601762235164642, 0.03310445323586464, 0.04230615496635437, 0.05013415962457657, 0.0398956798017025, 0.025471439585089684, 0.038356512784957886, 0.148365780711174, 0.04062194004654884, 0.012431958690285683, 0.0, 0.0, 0.0, 0.0, 0.0, 0.0], [0.010402972809970379, 0.003988316282629967, 0.007536560762673616, 0.023714061826467514, 0.0015746995341032743, 0.004556496161967516, 0.0011461444664746523, 0.002020654734224081, 0.08388331532478333, 0.006093548610806465, 0.001224363804794848, 0.08011975884437561, 0.003282928839325905, 0.11485147476196289, 0.020138543099164963, 0.003874024609103799, 0.1035565435886383, 0.016239918768405914, 0.006219519302248955, 0.011158781126141548, 0.12897230684757233, 0.01691609062254429, 0.008813073858618736, 0.02879594825208187, 0.060593508183956146, 0.005618594121187925, 0.01689356006681919, 0.008791645988821983, 0.017022399231791496, 0.20200029015541077, 0.0, 0.0, 0.0, 0.0, 0.0], [0.05472036823630333, 0.015954433009028435, 0.012098252773284912, 0.022833745926618576, 0.01898520067334175, 0.0287838913500309, 0.008076782338321209, 0.00837206281721592, 0.039564043283462524, 0.012315304949879646, 0.009588333778083324, 0.02357129193842411, 0.01064310222864151, 0.04663844406604767, 0.014515903778374195, 0.012394607067108154, 0.027597352862358093, 0.021691443398594856, 0.02018054947257042, 0.01823921501636505, 0.05496657267212868, 0.037117861211299896, 0.024244997650384903, 0.034996047616004944, 0.1494767814874649, 0.029019519686698914, 0.04327641800045967, 0.015866436064243317, 0.04511541500687599, 0.11428384482860565, 0.024871760979294777, 0.0, 0.0, 0.0, 0.0], [0.028266316279768944, 0.008342588320374489, 0.00969315879046917, 0.024003302678465843, 0.012406980618834496, 0.009731610305607319, 0.007254776544868946, 0.011378856375813484, 0.0452534519135952, 0.014661086723208427, 0.00475979782640934, 0.032793078571558, 0.00959976576268673, 0.05662674456834793, 0.02379572205245495, 0.004614099860191345, 0.039821431040763855, 0.02123899757862091, 0.025286557152867317, 0.10159789025783539, 0.0927831307053566, 0.02612387202680111, 0.015091435983777046, 0.034585677087306976, 0.061821918934583664, 0.01340700313448906, 0.016889788210392, 0.03089355118572712, 0.02819487266242504, 0.1103137731552124, 0.04056955501437187, 0.038199227303266525, 0.0, 0.0, 0.0], [0.005920093506574631, 0.002644825726747513, 0.0057548885233700275, 0.02199716866016388, 0.0013081278884783387, 0.005726535804569721, 0.0008704044739715755, 0.0018940430600196123, 0.05295495688915253, 0.004725010134279728, 0.000999945099465549, 0.04342707619071007, 0.0021749830339103937, 0.07363718748092651, 0.017015766352415085, 0.0030869953334331512, 0.057790838181972504, 0.010734478943049908, 0.0034258216619491577, 0.010332697071135044, 0.08509067445993423, 0.012429159134626389, 0.006230231374502182, 0.022221002727746964, 0.06411109864711761, 0.005053484812378883, 0.018152380362153053, 0.0075941504910588264, 0.006786441896110773, 0.16716447472572327, 0.013871799223124981, 0.014755628071725368, 0.25011757016181946, 0.0, 0.0], [0.05958712473511696, 0.014287116006016731, 0.009688672609627247, 0.02847462333738804, 0.02860480546951294, 0.026259340345859528, 0.008819643408060074, 0.022136038169264793, 0.01791021041572094, 0.026397544890642166, 0.017243582755327225, 0.025983816012740135, 0.006316181737929583, 0.020043157041072845, 0.015440613962709904, 0.025940271094441414, 0.030103031545877457, 0.018365345895290375, 0.02313040755689144, 0.026214582845568657, 0.031157253310084343, 0.028986172750592232, 0.028961284086108208, 0.016435235738754272, 0.034800902009010315, 0.037943702191114426, 0.07380678504705429, 0.030772414058446884, 0.028517264872789383, 0.0738709568977356, 0.0245877243578434, 0.035234108567237854, 0.08090807497501373, 0.023072002455592155, 0.0], [0.052589889615774155, 0.008282379247248173, 0.004686589818447828, 0.011556106619536877, 0.002124358434230089, 0.007376659195870161, 0.0025699099060148, 0.005167305935174227, 0.06430477648973465, 0.008688684552907944, 0.004349816590547562, 0.054052066057920456, 0.003567330539226532, 0.08101727068424225, 0.021457022055983543, 0.00414407579228282, 0.06621558964252472, 0.01871693879365921, 0.009488232433795929, 0.006038546096533537, 0.10274297744035721, 0.014565217308700085, 0.009106305427849293, 0.0216576736420393, 0.035247985273599625, 0.004852632991969585, 0.008422160521149635, 0.019589491188526154, 0.011885891668498516, 0.14464659988880157, 0.016607554629445076, 0.0228347759693861, 0.08476627618074417, 0.01512685976922512, 0.05155406519770622]], [[1.0, 0.0, 0.0, 0.0, 0.0, 0.0, 0.0, 0.0, 0.0, 0.0, 0.0, 0.0, 0.0, 0.0, 0.0, 0.0, 0.0, 0.0, 0.0, 0.0, 0.0, 0.0, 0.0, 0.0, 0.0, 0.0, 0.0, 0.0, 0.0, 0.0, 0.0, 0.0, 0.0, 0.0, 0.0], [0.8803902268409729, 0.11960974335670471, 0.0, 0.0, 0.0, 0.0, 0.0, 0.0, 0.0, 0.0, 0.0, 0.0, 0.0, 0.0, 0.0, 0.0, 0.0, 0.0, 0.0, 0.0, 0.0, 0.0, 0.0, 0.0, 0.0, 0.0, 0.0, 0.0, 0.0, 0.0, 0.0, 0.0, 0.0, 0.0, 0.0], [0.800162672996521, 0.14422565698623657, 0.055611640214920044, 0.0, 0.0, 0.0, 0.0, 0.0, 0.0, 0.0, 0.0, 0.0, 0.0, 0.0, 0.0, 0.0, 0.0, 0.0, 0.0, 0.0, 0.0, 0.0, 0.0, 0.0, 0.0, 0.0, 0.0, 0.0, 0.0, 0.0, 0.0, 0.0, 0.0, 0.0, 0.0], [0.6471941471099854, 0.14701780676841736, 0.0793100968003273, 0.12647798657417297, 0.0, 0.0, 0.0, 0.0, 0.0, 0.0, 0.0, 0.0, 0.0, 0.0, 0.0, 0.0, 0.0, 0.0, 0.0, 0.0, 0.0, 0.0, 0.0, 0.0, 0.0, 0.0, 0.0, 0.0, 0.0, 0.0, 0.0, 0.0, 0.0, 0.0, 0.0], [0.6291002035140991, 0.1326994001865387, 0.08307391405105591, 0.10306606441736221, 0.052060455083847046, 0.0, 0.0, 0.0, 0.0, 0.0, 0.0, 0.0, 0.0, 0.0, 0.0, 0.0, 0.0, 0.0, 0.0, 0.0, 0.0, 0.0, 0.0, 0.0, 0.0, 0.0, 0.0, 0.0, 0.0, 0.0, 0.0, 0.0, 0.0, 0.0, 0.0], [0.5631014108657837, 0.12375941127538681, 0.11159723252058029, 0.10842733830213547, 0.08343346416950226, 0.009681185707449913, 0.0, 0.0, 0.0, 0.0, 0.0, 0.0, 0.0, 0.0, 0.0, 0.0, 0.0, 0.0, 0.0, 0.0, 0.0, 0.0, 0.0, 0.0, 0.0, 0.0, 0.0, 0.0, 0.0, 0.0, 0.0, 0.0, 0.0, 0.0, 0.0], [0.4973389506340027, 0.11400076001882553, 0.07851859927177429, 0.10408835113048553, 0.08229988068342209, 0.0872018039226532, 0.036551643162965775, 0.0, 0.0, 0.0, 0.0, 0.0, 0.0, 0.0, 0.0, 0.0, 0.0, 0.0, 0.0, 0.0, 0.0, 0.0, 0.0, 0.0, 0.0, 0.0, 0.0, 0.0, 0.0, 0.0, 0.0, 0.0, 0.0, 0.0, 0.0], [0.4618663191795349, 0.10720601677894592, 0.07680260390043259, 0.09525883942842484, 0.11179576814174652, 0.04683659225702286, 0.0632898211479187, 0.03694410249590874, 0.0, 0.0, 0.0, 0.0, 0.0, 0.0, 0.0, 0.0, 0.0, 0.0, 0.0, 0.0, 0.0, 0.0, 0.0, 0.0, 0.0, 0.0, 0.0, 0.0, 0.0, 0.0, 0.0, 0.0, 0.0, 0.0, 0.0], [0.408801794052124, 0.11223535984754562, 0.061949536204338074, 0.08138209581375122, 0.06888709217309952, 0.047599393874406815, 0.0577956847846508, 0.06300586462020874, 0.09834323078393936, 0.0, 0.0, 0.0, 0.0, 0.0, 0.0, 0.0, 0.0, 0.0, 0.0, 0.0, 0.0, 0.0, 0.0, 0.0, 0.0, 0.0, 0.0, 0.0, 0.0, 0.0, 0.0, 0.0, 0.0, 0.0, 0.0], [0.337785542011261, 0.07768953591585159, 0.061640240252017975, 0.08030419796705246, 0.09243477135896683, 0.12569795548915863, 0.043102774769067764, 0.08006508648395538, 0.08753130584955215, 0.013748610392212868, 0.0, 0.0, 0.0, 0.0, 0.0, 0.0, 0.0, 0.0, 0.0, 0.0, 0.0, 0.0, 0.0, 0.0, 0.0, 0.0, 0.0, 0.0, 0.0, 0.0, 0.0, 0.0, 0.0, 0.0, 0.0], [0.4084457457065582, 0.07972614467144012, 0.05943280830979347, 0.07098965346813202, 0.06258384138345718, 0.07298710197210312, 0.05290915444493294, 0.06663116067647934, 0.08486583828926086, 0.03078523650765419, 0.010643371380865574, 0.0, 0.0, 0.0, 0.0, 0.0, 0.0, 0.0, 0.0, 0.0, 0.0, 0.0, 0.0, 0.0, 0.0, 0.0, 0.0, 0.0, 0.0, 0.0, 0.0, 0.0, 0.0, 0.0, 0.0], [0.328408807516098, 0.0812605693936348, 0.0522211492061615, 0.0667019933462143, 0.06221219152212143, 0.046883292496204376, 0.047482263296842575, 0.04943712800741196, 0.08644374459981918, 0.051085107028484344, 0.04660408943891525, 0.08125966042280197, 0.0, 0.0, 0.0, 0.0, 0.0, 0.0, 0.0, 0.0, 0.0, 0.0, 0.0, 0.0, 0.0, 0.0, 0.0, 0.0, 0.0, 0.0, 0.0, 0.0, 0.0, 0.0, 0.0], [0.28456372022628784, 0.07334227114915848, 0.05956625938415527, 0.05995684117078781, 0.06261259317398071, 0.04492252320051193, 0.0535489059984684, 0.055395204573869705, 0.0760505273938179, 0.05439150705933571, 0.05521009862422943, 0.0848141759634018, 0.03562537953257561, 0.0, 0.0, 0.0, 0.0, 0.0, 0.0, 0.0, 0.0, 0.0, 0.0, 0.0, 0.0, 0.0, 0.0, 0.0, 0.0, 0.0, 0.0, 0.0, 0.0, 0.0, 0.0], [0.2986924350261688, 0.08053489774465561, 0.04630003869533539, 0.05841611325740814, 0.05245250090956688, 0.03589676320552826, 0.043130047619342804, 0.04816412180662155, 0.07179587334394455, 0.035882286727428436, 0.03498635068535805, 0.0663861334323883, 0.0474989116191864, 0.0798635482788086, 0.0, 0.0, 0.0, 0.0, 0.0, 0.0, 0.0, 0.0, 0.0, 0.0, 0.0, 0.0, 0.0, 0.0, 0.0, 0.0, 0.0, 0.0, 0.0, 0.0, 0.0], [0.26184865832328796, 0.06895224750041962, 0.046620942652225494, 0.05860461667180061, 0.046928782016038895, 0.05568014085292816, 0.04915206879377365, 0.04117777943611145, 0.07490759342908859, 0.03198425844311714, 0.03257223218679428, 0.07257073372602463, 0.037398796528577805, 0.08542974293231964, 0.036171410232782364, 0.0, 0.0, 0.0, 0.0, 0.0, 0.0, 0.0, 0.0, 0.0, 0.0, 0.0, 0.0, 0.0, 0.0, 0.0, 0.0, 0.0, 0.0, 0.0, 0.0], [0.2941747307777405, 0.05360918119549751, 0.03860875219106674, 0.04952673986554146, 0.04060918092727661, 0.04149327427148819, 0.0297162476927042, 0.045369818806648254, 0.06024930253624916, 0.04159967228770256, 0.06637392938137054, 0.05982465669512749, 0.04050291329622269, 0.06734267622232437, 0.060957372188568115, 0.010041496716439724, 0.0, 0.0, 0.0, 0.0, 0.0, 0.0, 0.0, 0.0, 0.0, 0.0, 0.0, 0.0, 0.0, 0.0, 0.0, 0.0, 0.0, 0.0, 0.0], [0.24078042805194855, 0.057315025478601456, 0.038129787892103195, 0.04762374982237816, 0.04672614485025406, 0.035154763609170914, 0.03462180867791176, 0.0374724306166172, 0.06234780699014664, 0.03954546898603439, 0.03574429824948311, 0.05874500051140785, 0.0340784452855587, 0.07071567326784134, 0.05439115688204765, 0.03945150598883629, 0.06715652346611023, 0.0, 0.0, 0.0, 0.0, 0.0, 0.0, 0.0, 0.0, 0.0, 0.0, 0.0, 0.0, 0.0, 0.0, 0.0, 0.0, 0.0, 0.0], [0.19008122384548187, 0.05546913668513298, 0.03824986144900322, 0.044684696942567825, 0.0434919036924839, 0.03729136660695076, 0.03500029817223549, 0.03413337841629982, 0.05614840239286423, 0.029018186032772064, 0.026478586718440056, 0.06265049427747726, 0.035022035241127014, 0.06568854302167892, 0.057141970843076706, 0.04781633988022804, 0.07356443256139755, 0.06806917488574982, 0.0, 0.0, 0.0, 0.0, 0.0, 0.0, 0.0, 0.0, 0.0, 0.0, 0.0, 0.0, 0.0, 0.0, 0.0, 0.0, 0.0], [0.23406487703323364, 0.047656793147325516, 0.03626636788249016, 0.04350152611732483, 0.044823307543992996, 0.0309261754155159, 0.024145551025867462, 0.03047105111181736, 0.05100265517830849, 0.0385214164853096, 0.04128359630703926, 0.05289096385240555, 0.027892813086509705, 0.057388786226511, 0.060669999569654465, 0.04387105628848076, 0.05933021754026413, 0.05117017775774002, 0.024122707545757294, 0.0, 0.0, 0.0, 0.0, 0.0, 0.0, 0.0, 0.0, 0.0, 0.0, 0.0, 0.0, 0.0, 0.0, 0.0, 0.0], [0.31211698055267334, 0.04305700212717056, 0.030739204958081245, 0.03990122303366661, 0.040739163756370544, 0.033973559737205505, 0.013991206884384155, 0.0325017049908638, 0.042142923921346664, 0.03136738762259483, 0.05722319334745407, 0.0420997217297554, 0.03285329043865204, 0.0466272234916687, 0.04874774441123009, 0.021730609238147736, 0.0472237728536129, 0.029857587069272995, 0.04530387744307518, 0.007802659645676613, 0.0, 0.0, 0.0, 0.0, 0.0, 0.0, 0.0, 0.0, 0.0, 0.0, 0.0, 0.0, 0.0, 0.0, 0.0], [0.1958305835723877, 0.05227475240826607, 0.03251207247376442, 0.03705889359116554, 0.043354280292987823, 0.027641311287879944, 0.02745206467807293, 0.03308156132698059, 0.045324407517910004, 0.02540675923228264, 0.02478163316845894, 0.03888050839304924, 0.030247308313846588, 0.05089511349797249, 0.041287779808044434, 0.03749212995171547, 0.04425322636961937, 0.044287215918302536, 0.04519396275281906, 0.05072398483753204, 0.07202056050300598, 0.0, 0.0, 0.0, 0.0, 0.0, 0.0, 0.0, 0.0, 0.0, 0.0, 0.0, 0.0, 0.0, 0.0], [0.16079992055892944, 0.04841073602437973, 0.03302096948027611, 0.03441707789897919, 0.03531979024410248, 0.02389703318476677, 0.02606348507106304, 0.02863972634077072, 0.04453874006867409, 0.024949492886662483, 0.029716160148382187, 0.04012999311089516, 0.024859078228473663, 0.05134393274784088, 0.053735386580228806, 0.04527632147073746, 0.04680594801902771, 0.034605976194143295, 0.04245501384139061, 0.054854538291692734, 0.06976335495710373, 0.04639733210206032, 0.0, 0.0, 0.0, 0.0, 0.0, 0.0, 0.0, 0.0, 0.0, 0.0, 0.0, 0.0, 0.0], [0.18932509422302246, 0.039103634655475616, 0.024852007627487183, 0.03345049172639847, 0.0386015847325325, 0.024109292775392532, 0.020502109080553055, 0.02430175058543682, 0.03976472467184067, 0.034181687980890274, 0.034847863018512726, 0.03619781509041786, 0.02366894856095314, 0.0450248159468174, 0.03498943895101547, 0.02682553417980671, 0.041537921875715256, 0.037366610020399094, 0.04202280193567276, 0.055910415947437286, 0.06404418498277664, 0.05618630722165108, 0.03318497911095619, 0.0, 0.0, 0.0, 0.0, 0.0, 0.0, 0.0, 0.0, 0.0, 0.0, 0.0, 0.0], [0.16596604883670807, 0.033881112933158875, 0.02065751701593399, 0.03212727606296539, 0.037472523748874664, 0.02651948854327202, 0.01988290436565876, 0.02560962736606598, 0.04091743752360344, 0.02261033095419407, 0.019720884039998055, 0.03376534581184387, 0.02350381389260292, 0.04644524306058884, 0.035414308309555054, 0.02736842632293701, 0.0387694276869297, 0.03146073594689369, 0.04639926925301552, 0.04867472127079964, 0.06382153183221817, 0.06529748439788818, 0.04629907011985779, 0.04741538316011429, 0.0, 0.0, 0.0, 0.0, 0.0, 0.0, 0.0, 0.0, 0.0, 0.0, 0.0], [0.15514090657234192, 0.03631480038166046, 0.022236887365579605, 0.028097422793507576, 0.040156640112400055, 0.024055983871221542, 0.017400912940502167, 0.0214985478669405, 0.036750685423612595, 0.017986753955483437, 0.01970391534268856, 0.02832779660820961, 0.02260460890829563, 0.04168052226305008, 0.030497955158352852, 0.02558559738099575, 0.03248758986592293, 0.027014946565032005, 0.04112286493182182, 0.04738449677824974, 0.063823401927948, 0.05655010789632797, 0.04119999334216118, 0.06263258308172226, 0.05974406749010086, 0.0, 0.0, 0.0, 0.0, 0.0, 0.0, 0.0, 0.0, 0.0, 0.0], [0.12975940108299255, 0.027339711785316467, 0.029957516118884087, 0.022702831774950027, 0.03781532496213913, 0.03144636005163193, 0.01713675446808338, 0.046564918011426926, 0.030618302524089813, 0.018781673163175583, 0.025273190811276436, 0.028721965849399567, 0.019090941175818443, 0.034810010343790054, 0.026170222088694572, 0.026817740872502327, 0.032960399985313416, 0.024960245937108994, 0.05474759265780449, 0.05780106037855148, 0.05617622658610344, 0.03305984288454056, 0.05767423287034035, 0.04667418450117111, 0.06228700280189514, 0.020652364939451218, 0.0, 0.0, 0.0, 0.0, 0.0, 0.0, 0.0, 0.0, 0.0], [0.18126998841762543, 0.02792493812739849, 0.028055911883711815, 0.029457401484251022, 0.02853274717926979, 0.020307771861553192, 0.019550150260329247, 0.03153110295534134, 0.029232848435640335, 0.021110523492097855, 0.01458084024488926, 0.02250531129539013, 0.016256751492619514, 0.031508829444646835, 0.024519702419638634, 0.036590538918972015, 0.025034507736563683, 0.020030668005347252, 0.04726612567901611, 0.12142349779605865, 0.04189625754952431, 0.03646089881658554, 0.03734689950942993, 0.03705745190382004, 0.03521091118454933, 0.024784501641988754, 0.010552845895290375, 0.0, 0.0, 0.0, 0.0, 0.0, 0.0, 0.0, 0.0], [0.1419324278831482, 0.026873422786593437, 0.02339441142976284, 0.02419889159500599, 0.034410905092954636, 0.03176819905638695, 0.014282825402915478, 0.027884989976882935, 0.027823271229863167, 0.02026795595884323, 0.020075347274541855, 0.02603542059659958, 0.015271059237420559, 0.03118356503546238, 0.02134445309638977, 0.030780883505940437, 0.029686490073800087, 0.024966172873973846, 0.032906223088502884, 0.08126566559076309, 0.047380201518535614, 0.03950498625636101, 0.0381060428917408, 0.03920022398233414, 0.047230422496795654, 0.03223777562379837, 0.04768497124314308, 0.022302793338894844, 0.0, 0.0, 0.0, 0.0, 0.0, 0.0, 0.0], [0.19361068308353424, 0.028910446912050247, 0.01741071790456772, 0.02499196119606495, 0.020412275567650795, 0.03692351654171944, 0.018564045429229736, 0.022491103038191795, 0.026469893753528595, 0.019851718097925186, 0.01670690067112446, 0.02012958936393261, 0.017302941530942917, 0.02887752093374729, 0.01937028393149376, 0.021512912586331367, 0.022604651749134064, 0.019465504214167595, 0.03218545392155647, 0.09415606409311295, 0.03964082524180412, 0.04692869633436203, 0.03296549245715141, 0.03432747349143028, 0.03549889475107193, 0.04152423515915871, 0.03800846263766289, 0.024193787947297096, 0.004963916260749102, 0.0, 0.0, 0.0, 0.0, 0.0, 0.0], [0.13062259554862976, 0.029238132759928703, 0.020562469959259033, 0.024924930185079575, 0.02643335796892643, 0.02088005840778351, 0.016895074397325516, 0.020366203039884567, 0.03079468011856079, 0.016811523586511612, 0.014352640137076378, 0.026399679481983185, 0.017968155443668365, 0.03419143706560135, 0.025793636217713356, 0.020880062133073807, 0.029983336105942726, 0.022576821967959404, 0.03198402002453804, 0.0387752391397953, 0.04729927331209183, 0.039518095552921295, 0.03569554165005684, 0.04647783562541008, 0.045603714883327484, 0.027694014832377434, 0.028376275673508644, 0.02950698882341385, 0.03388816490769386, 0.06550602614879608, 0.0, 0.0, 0.0, 0.0, 0.0], [0.10399015247821808, 0.021966123953461647, 0.016451172530651093, 0.022787995636463165, 0.02435714192688465, 0.01997542753815651, 0.013678611256182194, 0.020524609833955765, 0.026416650041937828, 0.01582499034702778, 0.01812475360929966, 0.02293805591762066, 0.015249830670654774, 0.029951756820082664, 0.019568638876080513, 0.017790066078305244, 0.02633139118552208, 0.02006237395107746, 0.030405661091208458, 0.05837804451584816, 0.04746948182582855, 0.03560006618499756, 0.033618565648794174, 0.039051592350006104, 0.0462346114218235, 0.034158360213041306, 0.05063631758093834, 0.03304954990744591, 0.04132760688662529, 0.06007478013634682, 0.03400558605790138, 0.0, 0.0, 0.0, 0.0], [0.10689455270767212, 0.023425230756402016, 0.018311113119125366, 0.022276202216744423, 0.01998625323176384, 0.018345670774579048, 0.01589350216090679, 0.019802743569016457, 0.02582934871315956, 0.0160794910043478, 0.016656847670674324, 0.02581821009516716, 0.012892833910882473, 0.029111431911587715, 0.020739194005727768, 0.01762152463197708, 0.02965444326400757, 0.024281151592731476, 0.0280458927154541, 0.05205395445227623, 0.04263104870915413, 0.032518111169338226, 0.037380319088697433, 0.03843436390161514, 0.03982121869921684, 0.02629014663398266, 0.035206388682127, 0.03138630837202072, 0.032823435962200165, 0.061947017908096313, 0.037625428289175034, 0.040216583758592606, 0.0, 0.0, 0.0], [0.12229020148515701, 0.02516898512840271, 0.01671406626701355, 0.02203325740993023, 0.023000730201601982, 0.015408724546432495, 0.014958009123802185, 0.018676770851016045, 0.026191167533397675, 0.012370305135846138, 0.010715775191783905, 0.021631909534335136, 0.013984639197587967, 0.028899217024445534, 0.023200983181595802, 0.018216604366898537, 0.02428123541176319, 0.018235327675938606, 0.02165396697819233, 0.03633745014667511, 0.03855650871992111, 0.03691944107413292, 0.03379227593541145, 0.042588263750076294, 0.03839156776666641, 0.023295771330595016, 0.03080526553094387, 0.024493301287293434, 0.03010578267276287, 0.056526098400354385, 0.03756684437394142, 0.041599173098802567, 0.05139036476612091, 0.0, 0.0], [0.13871710002422333, 0.021967237815260887, 0.016682986170053482, 0.02155136503279209, 0.026049219071865082, 0.015379129908978939, 0.01252230815589428, 0.020025217905640602, 0.02187984809279442, 0.014553073793649673, 0.015628252178430557, 0.018288588151335716, 0.012421748600900173, 0.02363341487944126, 0.01722067967057228, 0.020091678947210312, 0.02015187218785286, 0.01853018067777157, 0.024212490767240524, 0.07234082370996475, 0.03423937037587166, 0.030147060751914978, 0.031458836048841476, 0.030202945694327354, 0.030948743224143982, 0.02483321540057659, 0.030743278563022614, 0.02263658121228218, 0.04456688463687897, 0.041731372475624084, 0.028924647718667984, 0.029865330085158348, 0.04288144037127495, 0.02497302182018757, 0.0], [0.12327978014945984, 0.026707451790571213, 0.014834705740213394, 0.018021512776613235, 0.017764991149306297, 0.013351652771234512, 0.014073796570301056, 0.018723031505942345, 0.023980090394616127, 0.021256309002637863, 0.017004813998937607, 0.020616671070456505, 0.012905537150800228, 0.026097450405359268, 0.02155427075922489, 0.015845783054828644, 0.022780923172831535, 0.023595375940203667, 0.01986173912882805, 0.021922383457422256, 0.035971153527498245, 0.033696822822093964, 0.021171675994992256, 0.035360533744096756, 0.03450924530625343, 0.021897651255130768, 0.03512426093220711, 0.024112917482852936, 0.03299051150679588, 0.04677634686231613, 0.03042445331811905, 0.032703179866075516, 0.037907253950834274, 0.042624928057193756, 0.04055078327655792]], [[1.0, 0.0, 0.0, 0.0, 0.0, 0.0, 0.0, 0.0, 0.0, 0.0, 0.0, 0.0, 0.0, 0.0, 0.0, 0.0, 0.0, 0.0, 0.0, 0.0, 0.0, 0.0, 0.0, 0.0, 0.0, 0.0, 0.0, 0.0, 0.0, 0.0, 0.0, 0.0, 0.0, 0.0, 0.0], [0.6533873081207275, 0.34661269187927246, 0.0, 0.0, 0.0, 0.0, 0.0, 0.0, 0.0, 0.0, 0.0, 0.0, 0.0, 0.0, 0.0, 0.0, 0.0, 0.0, 0.0, 0.0, 0.0, 0.0, 0.0, 0.0, 0.0, 0.0, 0.0, 0.0, 0.0, 0.0, 0.0, 0.0, 0.0, 0.0, 0.0], [0.4451117515563965, 0.33376824855804443, 0.22111999988555908, 0.0, 0.0, 0.0, 0.0, 0.0, 0.0, 0.0, 0.0, 0.0, 0.0, 0.0, 0.0, 0.0, 0.0, 0.0, 0.0, 0.0, 0.0, 0.0, 0.0, 0.0, 0.0, 0.0, 0.0, 0.0, 0.0, 0.0, 0.0, 0.0, 0.0, 0.0, 0.0], [0.5459808707237244, 0.15291070938110352, 0.0764545351266861, 0.22465385496616364, 0.0, 0.0, 0.0, 0.0, 0.0, 0.0, 0.0, 0.0, 0.0, 0.0, 0.0, 0.0, 0.0, 0.0, 0.0, 0.0, 0.0, 0.0, 0.0, 0.0, 0.0, 0.0, 0.0, 0.0, 0.0, 0.0, 0.0, 0.0, 0.0, 0.0, 0.0], [0.42720285058021545, 0.1412525624036789, 0.06143973022699356, 0.11979994177818298, 0.2503049373626709, 0.0, 0.0, 0.0, 0.0, 0.0, 0.0, 0.0, 0.0, 0.0, 0.0, 0.0, 0.0, 0.0, 0.0, 0.0, 0.0, 0.0, 0.0, 0.0, 0.0, 0.0, 0.0, 0.0, 0.0, 0.0, 0.0, 0.0, 0.0, 0.0, 0.0], [0.4097931385040283, 0.11732905358076096, 0.06548825651407242, 0.1236746534705162, 0.042223721742630005, 0.24149122834205627, 0.0, 0.0, 0.0, 0.0, 0.0, 0.0, 0.0, 0.0, 0.0, 0.0, 0.0, 0.0, 0.0, 0.0, 0.0, 0.0, 0.0, 0.0, 0.0, 0.0, 0.0, 0.0, 0.0, 0.0, 0.0, 0.0, 0.0, 0.0, 0.0], [0.3643514811992645, 0.15547122061252594, 0.08527875691652298, 0.088326096534729, 0.049937326461076736, 0.034096237272024155, 0.22253884375095367, 0.0, 0.0, 0.0, 0.0, 0.0, 0.0, 0.0, 0.0, 0.0, 0.0, 0.0, 0.0, 0.0, 0.0, 0.0, 0.0, 0.0, 0.0, 0.0, 0.0, 0.0, 0.0, 0.0, 0.0, 0.0, 0.0, 0.0, 0.0], [0.35626858472824097, 0.09063339233398438, 0.05006815120577812, 0.10755760222673416, 0.06895480304956436, 0.04669608175754547, 0.04097529873251915, 0.238846093416214, 0.0, 0.0, 0.0, 0.0, 0.0, 0.0, 0.0, 0.0, 0.0, 0.0, 0.0, 0.0, 0.0, 0.0, 0.0, 0.0, 0.0, 0.0, 0.0, 0.0, 0.0, 0.0, 0.0, 0.0, 0.0, 0.0, 0.0], [0.3461388945579529, 0.14562256634235382, 0.09470635652542114, 0.10499643534421921, 0.06400176882743835, 0.04047239571809769, 0.03757920861244202, 0.04448217153549194, 0.12200023233890533, 0.0, 0.0, 0.0, 0.0, 0.0, 0.0, 0.0, 0.0, 0.0, 0.0, 0.0, 0.0, 0.0, 0.0, 0.0, 0.0, 0.0, 0.0, 0.0, 0.0, 0.0, 0.0, 0.0, 0.0, 0.0, 0.0], [0.20510227978229523, 0.04824316129088402, 0.05157081410288811, 0.09953971207141876, 0.06673122942447662, 0.04558688402175903, 0.03648392856121063, 0.08169861137866974, 0.08583586663007736, 0.2792075276374817, 0.0, 0.0, 0.0, 0.0, 0.0, 0.0, 0.0, 0.0, 0.0, 0.0, 0.0, 0.0, 0.0, 0.0, 0.0, 0.0, 0.0, 0.0, 0.0, 0.0, 0.0, 0.0, 0.0, 0.0, 0.0], [0.2301696091890335, 0.07576315850019455, 0.06243027001619339, 0.061968378722667694, 0.050248246639966965, 0.03796260803937912, 0.05770514905452728, 0.05617325380444527, 0.06585752964019775, 0.041665587574243546, 0.2600562572479248, 0.0, 0.0, 0.0, 0.0, 0.0, 0.0, 0.0, 0.0, 0.0, 0.0, 0.0, 0.0, 0.0, 0.0, 0.0, 0.0, 0.0, 0.0, 0.0, 0.0, 0.0, 0.0, 0.0, 0.0], [0.2668822705745697, 0.0996926873922348, 0.06880499422550201, 0.10110108554363251, 0.03625767305493355, 0.0487603023648262, 0.031795434653759, 0.03426746279001236, 0.09192278981208801, 0.04406016692519188, 0.024279989302158356, 0.1521751582622528, 0.0, 0.0, 0.0, 0.0, 0.0, 0.0, 0.0, 0.0, 0.0, 0.0, 0.0, 0.0, 0.0, 0.0, 0.0, 0.0, 0.0, 0.0, 0.0, 0.0, 0.0, 0.0, 0.0], [0.24808602035045624, 0.05943756550550461, 0.03645307943224907, 0.09643886238336563, 0.04665256291627884, 0.043580614030361176, 0.026409661397337914, 0.03871847689151764, 0.06937098503112793, 0.035532157868146896, 0.02358422242105007, 0.05824919044971466, 0.21748659014701843, 0.0, 0.0, 0.0, 0.0, 0.0, 0.0, 0.0, 0.0, 0.0, 0.0, 0.0, 0.0, 0.0, 0.0, 0.0, 0.0, 0.0, 0.0, 0.0, 0.0, 0.0, 0.0], [0.22227588295936584, 0.08784301578998566, 0.06428328156471252, 0.07245951890945435, 0.05153009295463562, 0.033541664481163025, 0.031511496752500534, 0.04395980387926102, 0.10531803965568542, 0.03629285469651222, 0.03349635750055313, 0.07923728227615356, 0.034966111183166504, 0.10328469425439835, 0.0, 0.0, 0.0, 0.0, 0.0, 0.0, 0.0, 0.0, 0.0, 0.0, 0.0, 0.0, 0.0, 0.0, 0.0, 0.0, 0.0, 0.0, 0.0, 0.0, 0.0], [0.2625540494918823, 0.07451014220714569, 0.04962189495563507, 0.0651395246386528, 0.0221824012696743, 0.03923412412405014, 0.02143390104174614, 0.028292488306760788, 0.06496230512857437, 0.02216963842511177, 0.018070967867970467, 0.05796552449464798, 0.01818801835179329, 0.06176505982875824, 0.1939098984003067, 0.0, 0.0, 0.0, 0.0, 0.0, 0.0, 0.0, 0.0, 0.0, 0.0, 0.0, 0.0, 0.0, 0.0, 0.0, 0.0, 0.0, 0.0, 0.0, 0.0], [0.21454612910747528, 0.052079543471336365, 0.04338601976633072, 0.051086749881505966, 0.02305704541504383, 0.03987295925617218, 0.021457551047205925, 0.043103162199258804, 0.057124000042676926, 0.04732411354780197, 0.020076347514986992, 0.04863850399851799, 0.03173767775297165, 0.05389070883393288, 0.03922811895608902, 0.21339137852191925, 0.0, 0.0, 0.0, 0.0, 0.0, 0.0, 0.0, 0.0, 0.0, 0.0, 0.0, 0.0, 0.0, 0.0, 0.0, 0.0, 0.0, 0.0, 0.0], [0.1693464070558548, 0.0575847364962101, 0.04318230599164963, 0.06501620262861252, 0.025769710540771484, 0.035840604454278946, 0.02340392768383026, 0.028633078560233116, 0.06884393095970154, 0.03735613077878952, 0.02107931859791279, 0.12265525013208389, 0.02518490143120289, 0.07096561044454575, 0.049235545098781586, 0.02845790795981884, 0.12744438648223877, 0.0, 0.0, 0.0, 0.0, 0.0, 0.0, 0.0, 0.0, 0.0, 0.0, 0.0, 0.0, 0.0, 0.0, 0.0, 0.0, 0.0, 0.0], [0.12944908440113068, 0.04351518303155899, 0.028707355260849, 0.045572564005851746, 0.02128218673169613, 0.019885344430804253, 0.028857694938778877, 0.03478112816810608, 0.055325936526060104, 0.030885061249136925, 0.02108754962682724, 0.06504064053297043, 0.040431588888168335, 0.05797604098916054, 0.04136981442570686, 0.028544064611196518, 0.06784920394420624, 0.23943956196308136, 0.0, 0.0, 0.0, 0.0, 0.0, 0.0, 0.0, 0.0, 0.0, 0.0, 0.0, 0.0, 0.0, 0.0, 0.0, 0.0, 0.0], [0.14163610339164734, 0.035789649933576584, 0.028365224599838257, 0.045387569814920425, 0.046378400176763535, 0.039788708090782166, 0.014343786984682083, 0.04959797486662865, 0.04732619598507881, 0.03078245185315609, 0.018412165343761444, 0.04871036857366562, 0.023401634767651558, 0.04745563864707947, 0.037512097507715225, 0.023782702162861824, 0.04894063621759415, 0.03379067778587341, 0.2385980188846588, 0.0, 0.0, 0.0, 0.0, 0.0, 0.0, 0.0, 0.0, 0.0, 0.0, 0.0, 0.0, 0.0, 0.0, 0.0, 0.0], [0.13350322842597961, 0.03222055733203888, 0.02058890089392662, 0.03780217468738556, 0.04108011722564697, 0.03671092540025711, 0.02595440112054348, 0.04136638343334198, 0.0432656966149807, 0.03009646385908127, 0.02681291103363037, 0.04010694473981857, 0.024385903030633926, 0.04430919513106346, 0.033737413585186005, 0.020710930228233337, 0.04079743102192879, 0.032650165259838104, 0.03506242483854294, 0.25883781909942627, 0.0, 0.0, 0.0, 0.0, 0.0, 0.0, 0.0, 0.0, 0.0, 0.0, 0.0, 0.0, 0.0, 0.0, 0.0], [0.11974352598190308, 0.03914883732795715, 0.028956569731235504, 0.03342708200216293, 0.03769592195749283, 0.02054389752447605, 0.017558956518769264, 0.0326584093272686, 0.06372418254613876, 0.03310193121433258, 0.02986794151365757, 0.053869184106588364, 0.022512979805469513, 0.07236673682928085, 0.04143425449728966, 0.03790142014622688, 0.06002622842788696, 0.045860208570957184, 0.05091095715761185, 0.031955886632204056, 0.1267348974943161, 0.0, 0.0, 0.0, 0.0, 0.0, 0.0, 0.0, 0.0, 0.0, 0.0, 0.0, 0.0, 0.0, 0.0], [0.11878618597984314, 0.039572034031152725, 0.023222969844937325, 0.053640805184841156, 0.03261677920818329, 0.01737094856798649, 0.01166390161961317, 0.016273818910121918, 0.05014301836490631, 0.013260258361697197, 0.010486899875104427, 0.038132086396217346, 0.04193667694926262, 0.05336223915219307, 0.03097999282181263, 0.019617723301053047, 0.0402415506541729, 0.032441604882478714, 0.02054012380540371, 0.02684551477432251, 0.05771109089255333, 0.2511536777019501, 0.0, 0.0, 0.0, 0.0, 0.0, 0.0, 0.0, 0.0, 0.0, 0.0, 0.0, 0.0, 0.0], [0.10596500337123871, 0.03639822453260422, 0.023730656132102013, 0.027703464031219482, 0.029520340263843536, 0.016958512365818024, 0.009277223609387875, 0.019281184300780296, 0.04353449493646622, 0.025435728952288628, 0.01544105727225542, 0.0416172556579113, 0.018472323194146156, 0.04617343842983246, 0.026975220069289207, 0.016877293586730957, 0.0436592660844326, 0.020190222188830376, 0.01864578388631344, 0.016359716653823853, 0.057034820318222046, 0.06433959305286407, 0.27640920877456665, 0.0, 0.0, 0.0, 0.0, 0.0, 0.0, 0.0, 0.0, 0.0, 0.0, 0.0, 0.0], [0.08669395744800568, 0.14005151391029358, 0.054043419659137726, 0.026910433545708656, 0.026933513581752777, 0.016936616972088814, 0.01752723753452301, 0.011132634244859219, 0.033167168498039246, 0.009116588160395622, 0.014021693728864193, 0.028125261887907982, 0.012107602320611477, 0.03627435863018036, 0.030991656705737114, 0.015099073760211468, 0.030221451073884964, 0.02081548608839512, 0.018955033272504807, 0.021182598546147346, 0.043649885803461075, 0.04377347230911255, 0.025040630251169205, 0.23722875118255615, 0.0, 0.0, 0.0, 0.0, 0.0, 0.0, 0.0, 0.0, 0.0, 0.0, 0.0], [0.10505460947751999, 0.02472284622490406, 0.023438595235347748, 0.02425645850598812, 0.021477701142430305, 0.014111104421317577, 0.012018012814223766, 0.015707306563854218, 0.04219583794474602, 0.016803376376628876, 0.011159353889524937, 0.03127181902527809, 0.020320698618888855, 0.047023359686136246, 0.039886780083179474, 0.02585337869822979, 0.03450959920883179, 0.024522604420781136, 0.017594216391444206, 0.021597156301140785, 0.06303170323371887, 0.050369858741760254, 0.026549139991402626, 0.04091529920697212, 0.24560919404029846, 0.0, 0.0, 0.0, 0.0, 0.0, 0.0, 0.0, 0.0, 0.0, 0.0], [0.07146887481212616, 0.015683097764849663, 0.019199568778276443, 0.027655113488435745, 0.025888735428452492, 0.011495739221572876, 0.013834543526172638, 0.02500624768435955, 0.032857514917850494, 0.04069041833281517, 0.01940706931054592, 0.03628277778625488, 0.026671351864933968, 0.03698844835162163, 0.025391357019543648, 0.012203284539282322, 0.04081624373793602, 0.022441422566771507, 0.018680064007639885, 0.03714069724082947, 0.052913516759872437, 0.033748988062143326, 0.03600706532597542, 0.027396054938435555, 0.04157792404294014, 0.24855391681194305, 0.0, 0.0, 0.0, 0.0, 0.0, 0.0, 0.0, 0.0, 0.0], [0.09520065039396286, 0.023399099707603455, 0.016249947249889374, 0.03728702291846275, 0.027069469913840294, 0.02442619763314724, 0.016916710883378983, 0.02051924541592598, 0.03561446815729141, 0.01724679209291935, 0.01696517877280712, 0.030670614913105965, 0.01476180087774992, 0.037838954478502274, 0.0255902037024498, 0.013281548395752907, 0.03275727108120918, 0.01698147878050804, 0.012912829406559467, 0.040966764092445374, 0.04452374204993248, 0.03288854658603668, 0.021862005814909935, 0.02890506386756897, 0.025222206488251686, 0.015681952238082886, 0.2742602825164795, 0.0, 0.0, 0.0, 0.0, 0.0, 0.0, 0.0, 0.0], [0.07106206566095352, 0.022234495729207993, 0.01544252596795559, 0.02880682982504368, 0.02491171471774578, 0.014096672646701336, 0.010925306007266045, 0.022356446832418442, 0.028251029551029205, 0.025925250723958015, 0.012314552441239357, 0.036213599145412445, 0.0176627766340971, 0.031407058238983154, 0.01859503984451294, 0.018171407282352448, 0.04006665199995041, 0.022728290408849716, 0.025000523775815964, 0.040149640291929245, 0.04249803349375725, 0.02628159336745739, 0.023634910583496094, 0.03034823201596737, 0.028446577489376068, 0.04931707680225372, 0.04533270001411438, 0.22781892120838165, 0.0, 0.0, 0.0, 0.0, 0.0, 0.0, 0.0], [0.11998689919710159, 0.03201313689351082, 0.020363764837384224, 0.03192231431603432, 0.020111484453082085, 0.017741894349455833, 0.014963150024414062, 0.014099689200520515, 0.0323602668941021, 0.012826556339859962, 0.01920422725379467, 0.024741899222135544, 0.014775939285755157, 0.03365084528923035, 0.032850779592990875, 0.015633024275302887, 0.026330983266234398, 0.009946918115019798, 0.010015268810093403, 0.023254679515957832, 0.03898429125547409, 0.03491940721869469, 0.011989153921604156, 0.03053087182343006, 0.023813730105757713, 0.0189790241420269, 0.06846079975366592, 0.019141538068652153, 0.22638750076293945, 0.0, 0.0, 0.0, 0.0, 0.0, 0.0], [0.0711139589548111, 0.023045018315315247, 0.017407840117812157, 0.025577740743756294, 0.018817275762557983, 0.014406664296984673, 0.011364503763616085, 0.019742924720048904, 0.0378037691116333, 0.01749837026000023, 0.012214532122015953, 0.034711796790361404, 0.016245102509856224, 0.044948264956474304, 0.03146103769540787, 0.017976265400648117, 0.04077500104904175, 0.026232004165649414, 0.02910453826189041, 0.032863155007362366, 0.06312329322099686, 0.03996739163994789, 0.03193743899464607, 0.050057608634233475, 0.05003983899950981, 0.02629847452044487, 0.040675755590200424, 0.03425348922610283, 0.033614419400691986, 0.0867224931716919, 0.0, 0.0, 0.0, 0.0, 0.0], [0.06342679262161255, 0.01892857439815998, 0.015915198251605034, 0.022974470630288124, 0.01581357792019844, 0.011996149085462093, 0.006959729827940464, 0.010440586134791374, 0.027604442089796066, 0.01420377567410469, 0.011755004525184631, 0.02697419933974743, 0.015696220099925995, 0.03244095668196678, 0.02146400883793831, 0.01630021259188652, 0.0315910242497921, 0.018295634537935257, 0.024074891582131386, 0.018299635499715805, 0.04905860871076584, 0.03294461593031883, 0.03169502690434456, 0.04070066660642624, 0.05526785925030708, 0.03228399530053139, 0.01833721064031124, 0.020621933043003082, 0.020615678280591965, 0.06142154708504677, 0.21189774572849274, 0.0, 0.0, 0.0, 0.0], [0.05903123319149017, 0.011650343425571918, 0.011906319297850132, 0.020305125042796135, 0.01582455448806286, 0.011342637240886688, 0.012165096588432789, 0.02051454968750477, 0.02463514171540737, 0.01787753403186798, 0.008976954035460949, 0.027097534388303757, 0.010151371359825134, 0.029500093311071396, 0.022961722686886787, 0.01152713131159544, 0.032491881400346756, 0.020219076424837112, 0.02027125470340252, 0.027604972943663597, 0.042306944727897644, 0.02292037196457386, 0.027398400008678436, 0.02483934722840786, 0.02841997891664505, 0.04172161966562271, 0.0314212366938591, 0.03520329296588898, 0.030631236732006073, 0.060064759105443954, 0.045377377420663834, 0.19364091753959656, 0.0, 0.0, 0.0], [0.08590573817491531, 0.01470410730689764, 0.01051056943833828, 0.02869984693825245, 0.016654495149850845, 0.012795396149158478, 0.00923528429120779, 0.014819218777120113, 0.028232716023921967, 0.011867675930261612, 0.009268179535865784, 0.023044349625706673, 0.01755327358841896, 0.032954033464193344, 0.025013739243149757, 0.012247500009834766, 0.02679956890642643, 0.01332654058933258, 0.01647983305156231, 0.034728217869997025, 0.039808016270399094, 0.050673384219408035, 0.030861180275678635, 0.027551839128136635, 0.036164212971925735, 0.01740611530840397, 0.04716060310602188, 0.025891847908496857, 0.02839728631079197, 0.06047139689326286, 0.03584858402609825, 0.03886668384075165, 0.11605865508317947, 0.0, 0.0], [0.05670773237943649, 0.015243272297084332, 0.009892582893371582, 0.017495427280664444, 0.035292454063892365, 0.015370235778391361, 0.010747749358415604, 0.017091596499085426, 0.02124500647187233, 0.013064507395029068, 0.00639411760494113, 0.021768178790807724, 0.011015364900231361, 0.023290839046239853, 0.020971029996871948, 0.012346651405096054, 0.024119654670357704, 0.013815038837492466, 0.016820503398776054, 0.0345151461660862, 0.030974801629781723, 0.032177556306123734, 0.03227026388049126, 0.02327035740017891, 0.027259422466158867, 0.01785033755004406, 0.05776430666446686, 0.024271585047245026, 0.02524302899837494, 0.03774581104516983, 0.015895819291472435, 0.02659658156335354, 0.04215161129832268, 0.20932146906852722, 0.0], [0.047369711101055145, 0.01349155604839325, 0.00860119890421629, 0.011534372344613075, 0.03260952606797218, 0.008750018663704395, 0.010495416820049286, 0.015973461791872978, 0.024224912747740746, 0.013959751464426517, 0.011584166437387466, 0.020906994119286537, 0.012310201302170753, 0.028499381616711617, 0.014403232373297215, 0.011428190395236015, 0.024424539878964424, 0.021284058690071106, 0.027576269581913948, 0.025762226432561874, 0.04914955422282219, 0.02154945395886898, 0.020725883543491364, 0.030232440680265427, 0.04683732986450195, 0.02172248251736164, 0.02025720663368702, 0.019149543717503548, 0.010533906519412994, 0.050025928765535355, 0.030405579134821892, 0.022812236100435257, 0.02946249023079872, 0.03996318206191063, 0.20198367536067963]], [[1.0, 0.0, 0.0, 0.0, 0.0, 0.0, 0.0, 0.0, 0.0, 0.0, 0.0, 0.0, 0.0, 0.0, 0.0, 0.0, 0.0, 0.0, 0.0, 0.0, 0.0, 0.0, 0.0, 0.0, 0.0, 0.0, 0.0, 0.0, 0.0, 0.0, 0.0, 0.0, 0.0, 0.0, 0.0], [0.8253123164176941, 0.1746876984834671, 0.0, 0.0, 0.0, 0.0, 0.0, 0.0, 0.0, 0.0, 0.0, 0.0, 0.0, 0.0, 0.0, 0.0, 0.0, 0.0, 0.0, 0.0, 0.0, 0.0, 0.0, 0.0, 0.0, 0.0, 0.0, 0.0, 0.0, 0.0, 0.0, 0.0, 0.0, 0.0, 0.0], [0.758050262928009, 0.13029678165912628, 0.11165294796228409, 0.0, 0.0, 0.0, 0.0, 0.0, 0.0, 0.0, 0.0, 0.0, 0.0, 0.0, 0.0, 0.0, 0.0, 0.0, 0.0, 0.0, 0.0, 0.0, 0.0, 0.0, 0.0, 0.0, 0.0, 0.0, 0.0, 0.0, 0.0, 0.0, 0.0, 0.0, 0.0], [0.7232240438461304, 0.0827442929148674, 0.07870825380086899, 0.11532339453697205, 0.0, 0.0, 0.0, 0.0, 0.0, 0.0, 0.0, 0.0, 0.0, 0.0, 0.0, 0.0, 0.0, 0.0, 0.0, 0.0, 0.0, 0.0, 0.0, 0.0, 0.0, 0.0, 0.0, 0.0, 0.0, 0.0, 0.0, 0.0, 0.0, 0.0, 0.0], [0.5594542622566223, 0.08694442361593246, 0.09115545451641083, 0.09393443912267685, 0.1685115247964859, 0.0, 0.0, 0.0, 0.0, 0.0, 0.0, 0.0, 0.0, 0.0, 0.0, 0.0, 0.0, 0.0, 0.0, 0.0, 0.0, 0.0, 0.0, 0.0, 0.0, 0.0, 0.0, 0.0, 0.0, 0.0, 0.0, 0.0, 0.0, 0.0, 0.0], [0.5031396746635437, 0.08192654699087143, 0.05872315540909767, 0.10480903834104538, 0.15214206278324127, 0.09925957024097443, 0.0, 0.0, 0.0, 0.0, 0.0, 0.0, 0.0, 0.0, 0.0, 0.0, 0.0, 0.0, 0.0, 0.0, 0.0, 0.0, 0.0, 0.0, 0.0, 0.0, 0.0, 0.0, 0.0, 0.0, 0.0, 0.0, 0.0, 0.0, 0.0], [0.527961015701294, 0.05825979262590408, 0.06836593151092529, 0.11652134358882904, 0.11039453744888306, 0.06918039172887802, 0.04931706190109253, 0.0, 0.0, 0.0, 0.0, 0.0, 0.0, 0.0, 0.0, 0.0, 0.0, 0.0, 0.0, 0.0, 0.0, 0.0, 0.0, 0.0, 0.0, 0.0, 0.0, 0.0, 0.0, 0.0, 0.0, 0.0, 0.0, 0.0, 0.0], [0.300100713968277, 0.08826003223657608, 0.05834932252764702, 0.10984239727258682, 0.1686263084411621, 0.12896905839443207, 0.023227624595165253, 0.12262452393770218, 0.0, 0.0, 0.0, 0.0, 0.0, 0.0, 0.0, 0.0, 0.0, 0.0, 0.0, 0.0, 0.0, 0.0, 0.0, 0.0, 0.0, 0.0, 0.0, 0.0, 0.0, 0.0, 0.0, 0.0, 0.0, 0.0, 0.0], [0.3934404253959656, 0.04758617281913757, 0.05194966867566109, 0.074715755879879, 0.11950990557670593, 0.05938040092587471, 0.023368606343865395, 0.1026640236377716, 0.12738502025604248, 0.0, 0.0, 0.0, 0.0, 0.0, 0.0, 0.0, 0.0, 0.0, 0.0, 0.0, 0.0, 0.0, 0.0, 0.0, 0.0, 0.0, 0.0, 0.0, 0.0, 0.0, 0.0, 0.0, 0.0, 0.0, 0.0], [0.3446025848388672, 0.050329018384218216, 0.059913281351327896, 0.0448312982916832, 0.15738151967525482, 0.06782461702823639, 0.03229009732604027, 0.07052528113126755, 0.0895390436053276, 0.08276323974132538, 0.0, 0.0, 0.0, 0.0, 0.0, 0.0, 0.0, 0.0, 0.0, 0.0, 0.0, 0.0, 0.0, 0.0, 0.0, 0.0, 0.0, 0.0, 0.0, 0.0, 0.0, 0.0, 0.0, 0.0, 0.0], [0.3350847661495209, 0.046269986778497696, 0.04785764962434769, 0.10917432606220245, 0.04435235261917114, 0.04490725323557854, 0.028443872928619385, 0.07920617610216141, 0.10731324553489685, 0.06832481920719147, 0.0890655443072319, 0.0, 0.0, 0.0, 0.0, 0.0, 0.0, 0.0, 0.0, 0.0, 0.0, 0.0, 0.0, 0.0, 0.0, 0.0, 0.0, 0.0, 0.0, 0.0, 0.0, 0.0, 0.0, 0.0, 0.0], [0.31157219409942627, 0.039277613162994385, 0.03521273657679558, 0.0755099505186081, 0.08078575879335403, 0.045036908239126205, 0.028806498274207115, 0.10218672454357147, 0.087976835668087, 0.05585258826613426, 0.08571924269199371, 0.0520629957318306, 0.0, 0.0, 0.0, 0.0, 0.0, 0.0, 0.0, 0.0, 0.0, 0.0, 0.0, 0.0, 0.0, 0.0, 0.0, 0.0, 0.0, 0.0, 0.0, 0.0, 0.0, 0.0, 0.0], [0.36146947741508484, 0.06311224400997162, 0.026989931240677834, 0.07095801830291748, 0.039851728826761246, 0.029446518048644066, 0.02279636636376381, 0.07072700560092926, 0.1130438968539238, 0.03335518762469292, 0.037144195288419724, 0.04763941466808319, 0.08346597105264664, 0.0, 0.0, 0.0, 0.0, 0.0, 0.0, 0.0, 0.0, 0.0, 0.0, 0.0, 0.0, 0.0, 0.0, 0.0, 0.0, 0.0, 0.0, 0.0, 0.0, 0.0, 0.0], [0.26885920763015747, 0.03265075013041496, 0.03938186168670654, 0.05081145837903023, 0.08684234321117401, 0.043101999908685684, 0.017922360450029373, 0.06655361503362656, 0.07785408198833466, 0.04528900980949402, 0.06586872786283493, 0.0460660494863987, 0.07721766829490662, 0.08158092200756073, 0.0, 0.0, 0.0, 0.0, 0.0, 0.0, 0.0, 0.0, 0.0, 0.0, 0.0, 0.0, 0.0, 0.0, 0.0, 0.0, 0.0, 0.0, 0.0, 0.0, 0.0], [0.2079053372144699, 0.03081468865275383, 0.02946295589208603, 0.0506742000579834, 0.0874347910284996, 0.047705844044685364, 0.027333201840519905, 0.09152106195688248, 0.052141424268484116, 0.04708249121904373, 0.0808199867606163, 0.05453275144100189, 0.12074842303991318, 0.055161673575639725, 0.016661200672388077, 0.0, 0.0, 0.0, 0.0, 0.0, 0.0, 0.0, 0.0, 0.0, 0.0, 0.0, 0.0, 0.0, 0.0, 0.0, 0.0, 0.0, 0.0, 0.0, 0.0], [0.19932863116264343, 0.04206705838441849, 0.05715768784284592, 0.07193329930305481, 0.05065882205963135, 0.03152458369731903, 0.02713680826127529, 0.04140906408429146, 0.0932227149605751, 0.0520220585167408, 0.0254228413105011, 0.059279121458530426, 0.06613776087760925, 0.09582274407148361, 0.031632158905267715, 0.05524466559290886, 0.0, 0.0, 0.0, 0.0, 0.0, 0.0, 0.0, 0.0, 0.0, 0.0, 0.0, 0.0, 0.0, 0.0, 0.0, 0.0, 0.0, 0.0, 0.0], [0.23719795048236847, 0.030675798654556274, 0.029208479449152946, 0.05821240320801735, 0.06082988902926445, 0.03495609015226364, 0.02444053255021572, 0.0708492174744606, 0.059838566929101944, 0.039703454822301865, 0.05932590365409851, 0.03675239160656929, 0.07694026082754135, 0.06171642243862152, 0.014049733988940716, 0.06745625287294388, 0.03784665837883949, 0.0, 0.0, 0.0, 0.0, 0.0, 0.0, 0.0, 0.0, 0.0, 0.0, 0.0, 0.0, 0.0, 0.0, 0.0, 0.0, 0.0, 0.0], [0.2499532550573349, 0.02662949450314045, 0.03931760415434837, 0.04463213309645653, 0.07087575644254684, 0.03409422188997269, 0.02126503922045231, 0.05726420134305954, 0.05179664120078087, 0.03503984957933426, 0.0439227931201458, 0.03922874480485916, 0.06155913695693016, 0.051224224269390106, 0.015611977316439152, 0.08278117328882217, 0.0389174222946167, 0.03588636964559555, 0.0, 0.0, 0.0, 0.0, 0.0, 0.0, 0.0, 0.0, 0.0, 0.0, 0.0, 0.0, 0.0, 0.0, 0.0, 0.0, 0.0], [0.22269795835018158, 0.026518139988183975, 0.03978949785232544, 0.027604009956121445, 0.08196065574884415, 0.035829655826091766, 0.01537895668298006, 0.06874663382768631, 0.05343083664774895, 0.05469821020960808, 0.05721570551395416, 0.03161529079079628, 0.03717072308063507, 0.05228296294808388, 0.01185118779540062, 0.0720609724521637, 0.03087829239666462, 0.024411164224147797, 0.05585915967822075, 0.0, 0.0, 0.0, 0.0, 0.0, 0.0, 0.0, 0.0, 0.0, 0.0, 0.0, 0.0, 0.0, 0.0, 0.0, 0.0], [0.07419290393590927, 0.05092698335647583, 0.02823096513748169, 0.03420006111264229, 0.03361425921320915, 0.05182219296693802, 0.009658373892307281, 0.04940614104270935, 0.09883320331573486, 0.05356481298804283, 0.024581870064139366, 0.05879184231162071, 0.01302679255604744, 0.10889022052288055, 0.015677114948630333, 0.04766633361577988, 0.06507277488708496, 0.0388617068529129, 0.039842639118433, 0.10313881933689117, 0.0, 0.0, 0.0, 0.0, 0.0, 0.0, 0.0, 0.0, 0.0, 0.0, 0.0, 0.0, 0.0, 0.0, 0.0], [0.22614891827106476, 0.025769874453544617, 0.033361680805683136, 0.04034486413002014, 0.061168424785137177, 0.03166025131940842, 0.023036975413560867, 0.048158254474401474, 0.04964130371809006, 0.025703273713588715, 0.05132424458861351, 0.029225800186395645, 0.046272359788417816, 0.04679546132683754, 0.010471492074429989, 0.04346739873290062, 0.027977751567959785, 0.033561088144779205, 0.03209925815463066, 0.05562404915690422, 0.05818727985024452, 0.0, 0.0, 0.0, 0.0, 0.0, 0.0, 0.0, 0.0, 0.0, 0.0, 0.0, 0.0, 0.0, 0.0], [0.19442987442016602, 0.02000580169260502, 0.02566998265683651, 0.027610067278146744, 0.07351989299058914, 0.02511858195066452, 0.016428450122475624, 0.054433658719062805, 0.04450269788503647, 0.022272853180766106, 0.029331281781196594, 0.03064262494444847, 0.0628659799695015, 0.043391644954681396, 0.010216005146503448, 0.09763482213020325, 0.02960141748189926, 0.02808046154677868, 0.03757164254784584, 0.05037400871515274, 0.06089742109179497, 0.015400813892483711, 0.0, 0.0, 0.0, 0.0, 0.0, 0.0, 0.0, 0.0, 0.0, 0.0, 0.0, 0.0, 0.0], [0.19766587018966675, 0.04115748777985573, 0.03360118344426155, 0.023870179429650307, 0.06633445620536804, 0.02801697887480259, 0.019582942128181458, 0.051785651594400406, 0.031591471284627914, 0.026536153629422188, 0.0416431650519371, 0.025757959112524986, 0.043284062296152115, 0.029939448460936546, 0.012750311754643917, 0.05606917291879654, 0.024677341803908348, 0.02150590531527996, 0.045592937618494034, 0.07480886578559875, 0.04433406516909599, 0.02199736051261425, 0.03749702870845795, 0.0, 0.0, 0.0, 0.0, 0.0, 0.0, 0.0, 0.0, 0.0, 0.0, 0.0, 0.0], [0.18043571710586548, 0.023349838331341743, 0.023929737508296967, 0.04454164579510689, 0.04070594534277916, 0.03654100000858307, 0.01661658100783825, 0.05323559790849686, 0.050283901393413544, 0.025846898555755615, 0.04605168476700783, 0.024920549243688583, 0.03976092487573624, 0.04893423989415169, 0.012390011921525002, 0.06191657483577728, 0.023965341970324516, 0.028754502534866333, 0.025095419958233833, 0.06865919381380081, 0.0735766813158989, 0.018046917393803596, 0.022800737991929054, 0.009640377946197987, 0.0, 0.0, 0.0, 0.0, 0.0, 0.0, 0.0, 0.0, 0.0, 0.0, 0.0], [0.24246364831924438, 0.024696456268429756, 0.03868826478719711, 0.03357229009270668, 0.05476619303226471, 0.03380467742681503, 0.02072160691022873, 0.032754622399806976, 0.04349980130791664, 0.018562661483883858, 0.036468494683504105, 0.031002476811408997, 0.038625478744506836, 0.039931803941726685, 0.010727159678936005, 0.038317691534757614, 0.029280314221978188, 0.024678148329257965, 0.027889326214790344, 0.04502157121896744, 0.04307597875595093, 0.016905829310417175, 0.02358630858361721, 0.0072986227460205555, 0.04366063326597214, 0.0, 0.0, 0.0, 0.0, 0.0, 0.0, 0.0, 0.0, 0.0, 0.0], [0.11111285537481308, 0.029458772391080856, 0.024559466168284416, 0.030902523547410965, 0.0338648185133934, 0.033630646765232086, 0.012831446714699268, 0.030669283121824265, 0.06390532851219177, 0.023481516167521477, 0.025704622268676758, 0.03766978159546852, 0.016167866066098213, 0.06660737842321396, 0.01723175309598446, 0.030658666044473648, 0.039240460842847824, 0.02429523691534996, 0.026388797909021378, 0.0586402602493763, 0.10666141659021378, 0.017623892053961754, 0.02424544095993042, 0.018279604613780975, 0.03675020486116409, 0.05941801518201828, 0.0, 0.0, 0.0, 0.0, 0.0, 0.0, 0.0, 0.0, 0.0], [0.17855209112167358, 0.043738726526498795, 0.027772294357419014, 0.03288249671459198, 0.08083148300647736, 0.036148544400930405, 0.01943814568221569, 0.03604714944958687, 0.03154062479734421, 0.022283833473920822, 0.02674206718802452, 0.020272959023714066, 0.04929490387439728, 0.02805704064667225, 0.010035553015768528, 0.028219014406204224, 0.018526621162891388, 0.025377942249178886, 0.039212293922901154, 0.052739884704351425, 0.0247350987046957, 0.02867477759718895, 0.029405994340777397, 0.01389315351843834, 0.017606467008590698, 0.05648736655712128, 0.021483484655618668, 0.0, 0.0, 0.0, 0.0, 0.0, 0.0, 0.0, 0.0], [0.15546511113643646, 0.04916936531662941, 0.024515939876437187, 0.0257005263119936, 0.05483129248023033, 0.042092740535736084, 0.011645031161606312, 0.06493963301181793, 0.031219754368066788, 0.02656278759241104, 0.028326861560344696, 0.018289046362042427, 0.03490861505270004, 0.02966100350022316, 0.00855859275907278, 0.0466504842042923, 0.01766982674598694, 0.023724379017949104, 0.01903872936964035, 0.07715766131877899, 0.027307387441396713, 0.019747745245695114, 0.024364110082387924, 0.014429946430027485, 0.018928349018096924, 0.05850560590624809, 0.024364063516259193, 0.02222544327378273, 0.0, 0.0, 0.0, 0.0, 0.0, 0.0, 0.0], [0.19332920014858246, 0.026298359036445618, 0.030392475426197052, 0.029611900448799133, 0.0452016219496727, 0.033079080283641815, 0.021840760484337807, 0.026594171300530434, 0.045382820069789886, 0.03843945264816284, 0.02691539376974106, 0.024535102769732475, 0.015795713290572166, 0.04036760330200195, 0.01063427235931158, 0.026345491409301758, 0.022409794852137566, 0.019946040585637093, 0.044018518179655075, 0.06709349155426025, 0.033454760909080505, 0.0160849429666996, 0.025615878403186798, 0.01140951830893755, 0.013623225502669811, 0.04055492579936981, 0.01666298136115074, 0.035898882895708084, 0.018463704735040665, 0.0, 0.0, 0.0, 0.0, 0.0, 0.0], [0.15965193510055542, 0.01864234171807766, 0.026677699759602547, 0.0280478335916996, 0.04907771199941635, 0.026045674458146095, 0.017807701602578163, 0.03679423779249191, 0.04596943408250809, 0.01911088638007641, 0.037963204085826874, 0.027620624750852585, 0.028341034427285194, 0.04296436160802841, 0.008847585879266262, 0.03253019228577614, 0.02565997838973999, 0.024485118687152863, 0.02996622584760189, 0.04054070636630058, 0.042335037142038345, 0.017694564536213875, 0.021217679604887962, 0.006380947772413492, 0.031033918261528015, 0.03557971492409706, 0.025066183879971504, 0.026607491075992584, 0.024308426305651665, 0.043031517416238785, 0.0, 0.0, 0.0, 0.0, 0.0], [0.1966170072555542, 0.0197913758456707, 0.033033337444067, 0.0256870836019516, 0.0422060489654541, 0.03137582913041115, 0.016243640333414078, 0.030698411166667938, 0.03629426658153534, 0.02683933824300766, 0.026712186634540558, 0.023046309128403664, 0.021950099617242813, 0.03344834968447685, 0.010305729694664478, 0.02274365723133087, 0.02148078940808773, 0.02109473943710327, 0.03149040415883064, 0.036927301436662674, 0.03723211959004402, 0.015422001481056213, 0.019252333790063858, 0.00732048973441124, 0.024766921997070312, 0.0443916879594326, 0.0198507197201252, 0.026133663952350616, 0.01812445931136608, 0.042709071189165115, 0.036810602992773056, 0.0, 0.0, 0.0, 0.0], [0.16313210129737854, 0.022932488471269608, 0.029583677649497986, 0.02861548401415348, 0.0377846285700798, 0.02651870995759964, 0.02622900903224945, 0.031034141778945923, 0.03483206033706665, 0.01897560991346836, 0.03320294991135597, 0.026435943320393562, 0.03230734542012215, 0.031329210847616196, 0.01172788254916668, 0.027169138193130493, 0.024106508120894432, 0.022620312869548798, 0.02575555630028248, 0.03801414743065834, 0.03207403048872948, 0.017354246228933334, 0.017987219616770744, 0.009293689392507076, 0.04247137904167175, 0.031215855851769447, 0.019006580114364624, 0.021523458883166313, 0.017541181296110153, 0.04014518857002258, 0.01816076599061489, 0.040919505059719086, 0.0, 0.0, 0.0], [0.15803851187229156, 0.01682881824672222, 0.020642369985580444, 0.045382533222436905, 0.04664171487092972, 0.02783522941172123, 0.020206503570079803, 0.04211510345339775, 0.03703446686267853, 0.01774458959698677, 0.03035333752632141, 0.024713629856705666, 0.03428485989570618, 0.03341372683644295, 0.009082169272005558, 0.035213783383369446, 0.022280124947428703, 0.020850010216236115, 0.027390213683247566, 0.03231462836265564, 0.03764922916889191, 0.014920787885785103, 0.01655367575585842, 0.00630908040329814, 0.023218732327222824, 0.027949869632720947, 0.02383226901292801, 0.015323559753596783, 0.017670487985014915, 0.026815271005034447, 0.022188851609826088, 0.028694558888673782, 0.03650736063718796, 0.0, 0.0], [0.17019407451152802, 0.03212590515613556, 0.02987010031938553, 0.019615577533841133, 0.05489379167556763, 0.036220598965883255, 0.01715221256017685, 0.0323265977203846, 0.0315006859600544, 0.029624544084072113, 0.029094273224473, 0.01662425510585308, 0.02998979762196541, 0.027614137157797813, 0.010949766263365746, 0.03436654806137085, 0.014830092899501324, 0.015176062472164631, 0.030502911657094955, 0.041597455739974976, 0.020641224458813667, 0.017041219398379326, 0.02617543935775757, 0.01053882110863924, 0.0074417972937226295, 0.034391358494758606, 0.026077095419168472, 0.02961566112935543, 0.013693016953766346, 0.018074292689561844, 0.03374852240085602, 0.029002603143453598, 0.013117283582687378, 0.01617228239774704, 0.0], [0.11417391896247864, 0.01670067384839058, 0.023576242849230766, 0.03235282376408577, 0.055113621056079865, 0.029616661369800568, 0.017176378518342972, 0.059527840465307236, 0.0384342335164547, 0.020421097055077553, 0.03235999122262001, 0.019217433407902718, 0.01913510262966156, 0.03519750386476517, 0.010996292345225811, 0.04401443898677826, 0.016835946589708328, 0.01621249131858349, 0.023840535432100296, 0.042316604405641556, 0.03716840595006943, 0.009007311426103115, 0.01597953401505947, 0.005828782916069031, 0.020826414227485657, 0.028255823999643326, 0.03160591423511505, 0.024252017959952354, 0.02328527718782425, 0.019917480647563934, 0.024559777230024338, 0.021957380697131157, 0.01319314818829298, 0.020208805799484253, 0.036734022200107574]]], \"tokens\": [\"<|endoftext|>\", \"I\", \" am\", \" an\", \" amazing\", \" aut\", \"ore\", \"gressive\", \",\", \" dec\", \"oder\", \"-\", \"only\", \",\", \" G\", \"PT\", \"-\", \"2\", \" style\", \" transformer\", \".\", \" One\", \" day\", \" I\", \" will\", \" exceed\", \" human\", \" level\", \" intelligence\", \" and\", \" take\", \" over\", \" the\", \" world\", \"!\"], \"maskUpperTri\": true}\n",
              "    )\n",
              "    </script>"
            ],
            "text/plain": [
              "<circuitsvis.utils.render.RenderedHTML at 0x744e8c6c3090>"
            ]
          },
          "metadata": {},
          "output_type": "display_data"
        }
      ],
      "source": [
        "display(\n",
        "    cv.attention.attention_heads(\n",
        "        tokens=reference_gpt2.to_str_tokens(reference_text), attention=cache[\"pattern\", 0][0]\n",
        "    )\n",
        ")"
      ]
    },
    {
      "cell_type": "markdown",
      "metadata": {
        "id": "j2zulSQ4rjyu"
      },
      "source": [
        "You should fill in the forward method for `Attention` below. You should also copy your code for `apply_causal_mask` to this new implementation of `Attention` (you can delete the rest of the old implementation code).\n",
        "\n",
        "Note, this implementation will probably be the most challenging exercise on this page, so don't worry if it takes you some time! You should look at parts of the solution if you're stuck. A few tips:\n",
        "\n",
        "* Don't forget the attention score scaling (this should come before the masking).\n",
        "* Try not to combine a large number of operations into a single line of code.\n",
        "* Try to make your variable names descriptive (i.e. it's not just `x = some_fn_of(x), x = some_other_fn_of(x), ...`)."
      ]
    },
    {
      "cell_type": "code",
      "execution_count": 25,
      "metadata": {
        "colab": {
          "base_uri": "https://localhost:8080/"
        },
        "id": "WHLCM5dfrjyu",
        "outputId": "f20b5fe2-d6e7-4ac0-c86f-50d3402fb70e"
      },
      "outputs": [
        {
          "name": "stdout",
          "output_type": "stream",
          "text": [
            "All tests in `test_causal_mask` passed!\n",
            "Input shape: torch.Size([2, 4, 768])\n",
            "Output shape: torch.Size([2, 4, 768]) \n",
            "\n",
            "Input shape: torch.Size([1, 35, 768])\n",
            "Output shape: torch.Size([1, 35, 768])\n",
            "Reference output shape: torch.Size([1, 35, 768]) \n",
            "\n",
            "100.00% of the values are correct\n",
            "\n"
          ]
        }
      ],
      "source": [
        "class Attention(nn.Module):\n",
        "    IGNORE: Float[Tensor, \"\"]\n",
        "\n",
        "    def __init__(self, cfg: Config):\n",
        "        super().__init__()\n",
        "        self.cfg = cfg\n",
        "        self.W_Q = nn.Parameter(t.empty((cfg.n_heads, cfg.d_model, cfg.d_head)))\n",
        "        self.W_K = nn.Parameter(t.empty((cfg.n_heads, cfg.d_model, cfg.d_head)))\n",
        "        self.W_V = nn.Parameter(t.empty((cfg.n_heads, cfg.d_model, cfg.d_head)))\n",
        "        self.W_O = nn.Parameter(t.empty((cfg.n_heads, cfg.d_head, cfg.d_model)))\n",
        "        self.b_Q = nn.Parameter(t.zeros((cfg.n_heads, cfg.d_head)))\n",
        "        self.b_K = nn.Parameter(t.zeros((cfg.n_heads, cfg.d_head)))\n",
        "        self.b_V = nn.Parameter(t.zeros((cfg.n_heads, cfg.d_head)))\n",
        "        self.b_O = nn.Parameter(t.zeros((cfg.d_model)))\n",
        "        nn.init.normal_(self.W_Q, std=self.cfg.init_range)\n",
        "        nn.init.normal_(self.W_K, std=self.cfg.init_range)\n",
        "        nn.init.normal_(self.W_V, std=self.cfg.init_range)\n",
        "        nn.init.normal_(self.W_O, std=self.cfg.init_range)\n",
        "        self.register_buffer(\"IGNORE\", t.tensor(float(\"-inf\"), dtype=t.float32, device=device))\n",
        "\n",
        "\n",
        "\n",
        "    '''\n",
        "    Step 1: Produce an attention pattern - for each destination token, probability distribution over previous tokens (including current token)\n",
        "        Linear map from input -> query, key shape [batch, seq_posn, head_index, d_head]\n",
        "        Dot product every pair of queries and keys to get attn_scores [batch, head_index, query_pos, key_pos] (query = dest, key = source)\n",
        "        Scale and mask attn_scores to make it lower triangular, i.e. causal\n",
        "        Softmax along the key_pos dimension, to get a probability distribution for each query (destination) token - this is our attention pattern!\n",
        "    Step 2: Move information from source tokens to destination token using attention pattern (move = apply linear map)\n",
        "        Linear map from input -> value [batch, key_pos, head_index, d_head]\n",
        "        Mix along the key_pos with attn pattern to get z, which is a weighted average of the value vectors [batch, query_pos, head_index, d_head]\n",
        "        Map to output, [batch, position, d_model] (position = query_pos, we've summed over all heads)\n",
        "    '''\n",
        "    def forward(self, normalized_resid_pre: Float[Tensor, \"batch posn d_model\"]) -> Float[Tensor, \"batch posn d_model\"]:\n",
        "\n",
        "        batch, posn, d_model = normalized_resid_pre.shape\n",
        "        d_head = d_model // cfg.n_heads\n",
        "\n",
        "        query_embed = einops.einsum(\n",
        "            normalized_resid_pre,\n",
        "            self.W_Q,\n",
        "            'batch posn d_model, n_heads d_model d_head -> batch posn n_heads d_head'\n",
        "        ) + self.b_Q\n",
        "\n",
        "        key_embed = einops.einsum(\n",
        "            normalized_resid_pre,\n",
        "            self.W_K,\n",
        "            'batch posn d_model, n_heads d_model d_head -> batch posn n_heads d_head'\n",
        "        ) + self.b_K\n",
        "\n",
        "        value_embed = einops.einsum(\n",
        "            normalized_resid_pre,\n",
        "            self.W_V,\n",
        "            'batch posn d_model, n_heads d_model d_head -> batch posn n_heads d_head'\n",
        "        ) + self.b_V\n",
        "\n",
        "        attn_mat = einops.einsum(\n",
        "            query_embed, key_embed,\n",
        "            'batch posn_q n_heads d_head, batch posn_k n_heads d_head -> batch n_heads posn_q posn_k'\n",
        "        )\n",
        "\n",
        "        # Mask and softmax.\n",
        "        attn_mat = nn.functional.softmax(self.apply_causal_mask(attn_mat) / math.sqrt(d_head), dim = -1)\n",
        "\n",
        "        # Apply to values.\n",
        "        value_embed_attended = einops.einsum(\n",
        "            value_embed, attn_mat,\n",
        "            'batch posn_k n_heads d_head, batch n_heads posn_q posn_k -> batch posn_q n_heads d_head'\n",
        "        )\n",
        "\n",
        "        # Apply out projection\n",
        "        output = einops.einsum(\n",
        "            value_embed_attended,\n",
        "            self.W_O,\n",
        "            'batch posn n_heads d_head, n_heads d_head d_model -> batch posn d_model'\n",
        "        ) + self.b_O\n",
        "\n",
        "        return output\n",
        "\n",
        "    def apply_causal_mask(\n",
        "        self,\n",
        "        attn_scores: Float[Tensor, \"batch n_heads query_pos key_pos\"],\n",
        "    ) -> Float[Tensor, \"batch n_heads query_pos key_pos\"]:\n",
        "        \"\"\"\n",
        "        Applies a causal mask to attention scores, and returns masked scores.\n",
        "        \"\"\"\n",
        "        batch, n_heads, query_pos, key_pos = attn_scores.shape\n",
        "        mask = t.triu(t.ones(query_pos, key_pos), diagonal = 1).tile(batch, n_heads, 1, 1).to(device) # Let every token attend to ITSELF\n",
        "        # 1 -> mask -> -torch.inf\n",
        "        # diagonal = 1? ->\n",
        "        # raise NotImplementedError()\n",
        "        # print(mask.shape)\n",
        "        return t.where(mask == 1, self.IGNORE, attn_scores)\n",
        "\n",
        "tests.test_causal_mask(Attention.apply_causal_mask)\n",
        "rand_float_test(Attention, [2, 4, 768])\n",
        "load_gpt2_test(Attention, reference_gpt2.blocks[0].attn, cache[\"normalized\", 0, \"ln1\"])"
      ]
    },
    {
      "cell_type": "markdown",
      "metadata": {
        "id": "pqruKDmarjyu"
      },
      "source": [
        "<details>\n",
        "<summary>Hint (pseudocode for the forward method)</summary>\n",
        "\n",
        "```python\n",
        "def forward(\n",
        "    self, normalized_resid_pre: Float[Tensor, \"batch posn d_model\"]\n",
        ") -> Float[Tensor, \"batch posn d_model\"]:\n",
        "\n",
        "    # Calculate query, key and value vectors\n",
        "    q, k, v = ...\n",
        "\n",
        "    # Calculate attention scores, then scale and mask, and apply softmax to get probabilities\n",
        "    attn_scores = ...\n",
        "    attn_scores_masked = ...\n",
        "    attn_pattern = ...\n",
        "\n",
        "    # Take weighted sum of value vectors, according to attention probabilities\n",
        "    z = ...\n",
        "\n",
        "    # Calculate output (by applying matrix W_O and summing over heads, then adding bias b_O)\n",
        "    attn_out = ...\n",
        "    return attn_out\n",
        "```\n",
        "</details>\n",
        "\n",
        "\n",
        "<details><summary>Solution</summary>\n",
        "\n",
        "```python\n",
        "class Attention(nn.Module):\n",
        "    IGNORE: Float[Tensor, \"\"]\n",
        "\n",
        "    def __init__(self, cfg: Config):\n",
        "        super().__init__()\n",
        "        self.cfg = cfg\n",
        "        self.W_Q = nn.Parameter(t.empty((cfg.n_heads, cfg.d_model, cfg.d_head)))\n",
        "        self.W_K = nn.Parameter(t.empty((cfg.n_heads, cfg.d_model, cfg.d_head)))\n",
        "        self.W_V = nn.Parameter(t.empty((cfg.n_heads, cfg.d_model, cfg.d_head)))\n",
        "        self.W_O = nn.Parameter(t.empty((cfg.n_heads, cfg.d_head, cfg.d_model)))\n",
        "        self.b_Q = nn.Parameter(t.zeros((cfg.n_heads, cfg.d_head)))\n",
        "        self.b_K = nn.Parameter(t.zeros((cfg.n_heads, cfg.d_head)))\n",
        "        self.b_V = nn.Parameter(t.zeros((cfg.n_heads, cfg.d_head)))\n",
        "        self.b_O = nn.Parameter(t.zeros((cfg.d_model)))\n",
        "        nn.init.normal_(self.W_Q, std=self.cfg.init_range)\n",
        "        nn.init.normal_(self.W_K, std=self.cfg.init_range)\n",
        "        nn.init.normal_(self.W_V, std=self.cfg.init_range)\n",
        "        nn.init.normal_(self.W_O, std=self.cfg.init_range)\n",
        "        self.register_buffer(\"IGNORE\", t.tensor(float(\"-inf\"), dtype=t.float32, device=device))\n",
        "\n",
        "    def forward(self, normalized_resid_pre: Float[Tensor, \"batch posn d_model\"]) -> Float[Tensor, \"batch posn d_model\"]:\n",
        "        # Calculate query, key and value vectors\n",
        "        q = (\n",
        "            einops.einsum(\n",
        "                normalized_resid_pre, self.W_Q, \"batch posn d_model, nheads d_model d_head -> batch posn nheads d_head\"\n",
        "            )\n",
        "            + self.b_Q\n",
        "        )\n",
        "        k = (\n",
        "            einops.einsum(\n",
        "                normalized_resid_pre, self.W_K, \"batch posn d_model, nheads d_model d_head -> batch posn nheads d_head\"\n",
        "            )\n",
        "            + self.b_K\n",
        "        )\n",
        "        v = (\n",
        "            einops.einsum(\n",
        "                normalized_resid_pre, self.W_V, \"batch posn d_model, nheads d_model d_head -> batch posn nheads d_head\"\n",
        "            )\n",
        "            + self.b_V\n",
        "        )\n",
        "\n",
        "        # Calculate attention scores, then scale and mask, and apply softmax to get probabilities\n",
        "        attn_scores = einops.einsum(\n",
        "            q, k, \"batch posn_Q nheads d_head, batch posn_K nheads d_head -> batch nheads posn_Q posn_K\"\n",
        "        )\n",
        "        attn_scores_masked = self.apply_causal_mask(attn_scores / self.cfg.d_head**0.5)\n",
        "        attn_pattern = attn_scores_masked.softmax(-1)\n",
        "\n",
        "        # Take weighted sum of value vectors, according to attention probabilities\n",
        "        z = einops.einsum(\n",
        "            v, attn_pattern, \"batch posn_K nheads d_head, batch nheads posn_Q posn_K -> batch posn_Q nheads d_head\"\n",
        "        )\n",
        "\n",
        "        # Calculate output (by applying matrix W_O and summing over heads, then adding bias b_O)\n",
        "        attn_out = (\n",
        "            einops.einsum(z, self.W_O, \"batch posn_Q nheads d_head, nheads d_head d_model -> batch posn_Q d_model\")\n",
        "            + self.b_O\n",
        "        )\n",
        "\n",
        "        return attn_out\n",
        "\n",
        "    def apply_causal_mask(\n",
        "        self, attn_scores: Float[Tensor, \"batch n_heads query_pos key_pos\"]\n",
        "    ) -> Float[Tensor, \"batch n_heads query_pos key_pos\"]:\n",
        "        \"\"\"\n",
        "        Applies a causal mask to attention scores, and returns masked scores.\n",
        "        \"\"\"\n",
        "        # Define a mask that is True for all positions we want to set probabilities to zero for\n",
        "        all_ones = t.ones(attn_scores.size(-2), attn_scores.size(-1), device=attn_scores.device)\n",
        "        mask = t.triu(all_ones, diagonal=1).bool()\n",
        "        # Apply the mask to attention scores, then return the masked scores\n",
        "        attn_scores.masked_fill_(mask, self.IGNORE)\n",
        "        return attn_scores\n",
        "```\n",
        "</details>"
      ]
    },
    {
      "cell_type": "markdown",
      "metadata": {
        "id": "tE82VkwBrjyu"
      },
      "source": [
        "### Exercise - implement `MLP`\n",
        "\n",
        "> ```yaml\n",
        "> Difficulty: 🔴🔴⚪⚪⚪\n",
        "> Importance: 🔵🔵🔵🔵⚪\n",
        ">\n",
        "> You should spend up to 10-15 minutes on this exercise.\n",
        "> ```\n",
        "\n",
        "Next, you should implement the MLP layer, which consists of:\n",
        "\n",
        "* A linear layer, with weight `W_in`, bias `b_in`\n",
        "* A nonlinear function (we usually use GELU; the function `gelu_new` has been imported for this purpose)\n",
        "* A linear layer, with weight `W_out`, bias `b_out`"
      ]
    },
    {
      "cell_type": "code",
      "execution_count": 26,
      "metadata": {
        "colab": {
          "base_uri": "https://localhost:8080/"
        },
        "id": "83QXXrS5rjyu",
        "outputId": "8da046b5-aab1-4f3a-ccab-d922d6eff1b0"
      },
      "outputs": [
        {
          "name": "stdout",
          "output_type": "stream",
          "text": [
            "Input shape: torch.Size([2, 4, 768])\n",
            "Output shape: torch.Size([2, 4, 768]) \n",
            "\n",
            "Input shape: torch.Size([1, 35, 768])\n",
            "Output shape: torch.Size([1, 35, 768])\n",
            "Reference output shape: torch.Size([1, 35, 768]) \n",
            "\n",
            "100.00% of the values are correct\n",
            "\n"
          ]
        }
      ],
      "source": [
        "class MLP(nn.Module):\n",
        "    def __init__(self, cfg: Config):\n",
        "        super().__init__()\n",
        "        self.cfg = cfg\n",
        "        self.W_in = nn.Parameter(t.empty((cfg.d_model, cfg.d_mlp)))\n",
        "        self.W_out = nn.Parameter(t.empty((cfg.d_mlp, cfg.d_model)))\n",
        "        self.b_in = nn.Parameter(t.zeros((cfg.d_mlp)))\n",
        "        self.b_out = nn.Parameter(t.zeros((cfg.d_model)))\n",
        "        nn.init.normal_(self.W_in, std=self.cfg.init_range)\n",
        "        nn.init.normal_(self.W_out, std=self.cfg.init_range)\n",
        "\n",
        "    def forward(self, normalized_resid_mid: Float[Tensor, \"batch posn d_model\"]) -> Float[Tensor, \"batch posn d_model\"]:\n",
        "        # raise NotImplementedError()\n",
        "        resid_in = einops.einsum(\n",
        "            normalized_resid_mid, self.W_in,\n",
        "            'batch seq_len d_model, d_model d_mlp -> batch seq_len d_mlp'\n",
        "        ) + self.b_in\n",
        "        resid_gelu = gelu_new(resid_in)\n",
        "        resid_out = einops.einsum(\n",
        "            resid_gelu, self.W_out,\n",
        "            'batch seq_len d_mlp, d_mlp d_model -> batch seq_len d_model'\n",
        "        ) + self.b_out\n",
        "        return resid_out\n",
        "\n",
        "\n",
        "rand_float_test(MLP, [2, 4, 768])\n",
        "load_gpt2_test(MLP, reference_gpt2.blocks[0].mlp, cache[\"normalized\", 0, \"ln2\"])"
      ]
    },
    {
      "cell_type": "markdown",
      "metadata": {
        "id": "8lV1I9g8rjyu"
      },
      "source": [
        "<details><summary>Solution</summary>\n",
        "\n",
        "```python\n",
        "class MLP(nn.Module):\n",
        "    def __init__(self, cfg: Config):\n",
        "        super().__init__()\n",
        "        self.cfg = cfg\n",
        "        self.W_in = nn.Parameter(t.empty((cfg.d_model, cfg.d_mlp)))\n",
        "        self.W_out = nn.Parameter(t.empty((cfg.d_mlp, cfg.d_model)))\n",
        "        self.b_in = nn.Parameter(t.zeros((cfg.d_mlp)))\n",
        "        self.b_out = nn.Parameter(t.zeros((cfg.d_model)))\n",
        "        nn.init.normal_(self.W_in, std=self.cfg.init_range)\n",
        "        nn.init.normal_(self.W_out, std=self.cfg.init_range)\n",
        "\n",
        "    def forward(self, normalized_resid_mid: Float[Tensor, \"batch posn d_model\"]) -> Float[Tensor, \"batch posn d_model\"]:\n",
        "        pre = (\n",
        "            einops.einsum(\n",
        "                normalized_resid_mid, self.W_in, \"batch position d_model, d_model d_mlp -> batch position d_mlp\"\n",
        "            )\n",
        "            + self.b_in\n",
        "        )\n",
        "        post = gelu_new(pre)\n",
        "        mlp_out = (\n",
        "            einops.einsum(post, self.W_out, \"batch position d_mlp, d_mlp d_model -> batch position d_model\")\n",
        "            + self.b_out\n",
        "        )\n",
        "        return mlp_out\n",
        "```\n",
        "</details>"
      ]
    },
    {
      "cell_type": "markdown",
      "metadata": {
        "id": "4rjX42eLrjyu"
      },
      "source": [
        "### Exercise - implement `TransformerBlock`\n",
        "\n",
        "> ```yaml\n",
        "> Difficulty: 🔴🔴⚪⚪⚪\n",
        "> Importance: 🔵🔵🔵⚪⚪\n",
        ">\n",
        "> You should spend up to 10-15 minutes on this exercise.\n",
        "> ```\n",
        "\n",
        "Now, we can put together the attention, MLP and layernorms into a single transformer block. Remember to implement the residual connections correctly!"
      ]
    },
    {
      "cell_type": "code",
      "execution_count": 27,
      "metadata": {
        "colab": {
          "base_uri": "https://localhost:8080/"
        },
        "id": "-axt3Gvdrjyu",
        "outputId": "36a2492a-341d-42be-8e92-628256d2776e"
      },
      "outputs": [
        {
          "name": "stdout",
          "output_type": "stream",
          "text": [
            "Input shape: torch.Size([2, 4, 768])\n",
            "Output shape: torch.Size([2, 4, 768]) \n",
            "\n",
            "Input shape: torch.Size([1, 35, 768])\n",
            "Output shape: torch.Size([1, 35, 768])\n",
            "Reference output shape: torch.Size([1, 35, 768]) \n",
            "\n",
            "100.00% of the values are correct\n",
            "\n"
          ]
        }
      ],
      "source": [
        "class TransformerBlock(nn.Module):\n",
        "    def __init__(self, cfg: Config):\n",
        "        super().__init__()\n",
        "        self.cfg = cfg\n",
        "        self.ln1 = LayerNorm(cfg)\n",
        "        self.attn = Attention(cfg)\n",
        "        self.ln2 = LayerNorm(cfg)\n",
        "        self.mlp = MLP(cfg)\n",
        "\n",
        "    def forward(self, resid_pre: Float[Tensor, \"batch position d_model\"]) -> Float[Tensor, \"batch position d_model\"]:\n",
        "        # raise NotImplementedError()\n",
        "        # Pre-norm architecture\n",
        "        # Norm, Attention, Residual, Norm, FFN, Residual.\n",
        "        resid_norm_1 = self.ln1(resid_pre)\n",
        "        resid_attn = self.attn(resid_norm_1)\n",
        "        resid_mid = resid_pre + resid_attn\n",
        "        resid_norm_2 = self.ln2(resid_mid)\n",
        "        resid_mlp = self.mlp(resid_norm_2)\n",
        "        return resid_mid + resid_mlp\n",
        "\n",
        "rand_float_test(TransformerBlock, [2, 4, 768])\n",
        "load_gpt2_test(TransformerBlock, reference_gpt2.blocks[0], cache[\"resid_pre\", 0])"
      ]
    },
    {
      "cell_type": "markdown",
      "metadata": {
        "id": "4-PasnY7rjyv"
      },
      "source": [
        "<details>\n",
        "<summary>Help - I'm getting 100% accuracy on all modules before this point, but only about 90% accuracy on this one.</summary>\n",
        "\n",
        "This might be because your layernorm implementation divides by `std + eps` rather than `(var + eps).sqrt()`. The latter matches the implementation used by GPT-2 (and this error only shows up in these tests).\n",
        "\n",
        "</details>\n",
        "\n",
        "\n",
        "<details><summary>Solution</summary>\n",
        "\n",
        "```python\n",
        "class TransformerBlock(nn.Module):\n",
        "    def __init__(self, cfg: Config):\n",
        "        super().__init__()\n",
        "        self.cfg = cfg\n",
        "        self.ln1 = LayerNorm(cfg)\n",
        "        self.attn = Attention(cfg)\n",
        "        self.ln2 = LayerNorm(cfg)\n",
        "        self.mlp = MLP(cfg)\n",
        "\n",
        "    def forward(self, resid_pre: Float[Tensor, \"batch position d_model\"]) -> Float[Tensor, \"batch position d_model\"]:\n",
        "        resid_mid = self.attn(self.ln1(resid_pre)) + resid_pre\n",
        "        resid_post = self.mlp(self.ln2(resid_mid)) + resid_mid\n",
        "        return resid_post\n",
        "```\n",
        "</details>"
      ]
    },
    {
      "cell_type": "markdown",
      "metadata": {
        "id": "jgiUD7R_rjyv"
      },
      "source": [
        "### Exercise - implement `Unembed`\n",
        "\n",
        "> ```yaml\n",
        "> Difficulty: 🔴🔴⚪⚪⚪\n",
        "> Importance: 🔵🔵🔵⚪⚪\n",
        ">\n",
        "> You should spend up to ~10 minutes on this exercise.\n",
        "> ```\n",
        "\n",
        "The unembedding is just a linear layer (with weight `W_U` and bias `b_U`)."
      ]
    },
    {
      "cell_type": "code",
      "execution_count": 28,
      "metadata": {
        "colab": {
          "base_uri": "https://localhost:8080/"
        },
        "id": "9xwUWzGnrjyv",
        "outputId": "ac3e9098-e505-4799-b66b-f605f653d13b"
      },
      "outputs": [
        {
          "name": "stdout",
          "output_type": "stream",
          "text": [
            "Input shape: torch.Size([2, 4, 768])\n",
            "Output shape: torch.Size([2, 4, 50257]) \n",
            "\n",
            "Input shape: torch.Size([1, 35, 768])\n",
            "Output shape: torch.Size([1, 35, 50257])\n",
            "Reference output shape: torch.Size([1, 35, 50257]) \n",
            "\n",
            "100.00% of the values are correct\n",
            "\n"
          ]
        }
      ],
      "source": [
        "class Unembed(nn.Module):\n",
        "    def __init__(self, cfg):\n",
        "        super().__init__()\n",
        "        self.cfg = cfg\n",
        "        self.W_U = nn.Parameter(t.empty((cfg.d_model, cfg.d_vocab)))\n",
        "        nn.init.normal_(self.W_U, std=self.cfg.init_range)\n",
        "        self.b_U = nn.Parameter(t.zeros((cfg.d_vocab), requires_grad=False))\n",
        "\n",
        "    def forward(\n",
        "        self, normalized_resid_final: Float[Tensor, \"batch position d_model\"]\n",
        "    ) -> Float[Tensor, \"batch position d_vocab\"]:\n",
        "        # raise NotImplementedError()\n",
        "        return einops.einsum(\n",
        "            normalized_resid_final, self.W_U,\n",
        "            'batch position d_model, d_model d_vocab -> batch position d_vocab'\n",
        "        ) + self.b_U\n",
        "\n",
        "\n",
        "rand_float_test(Unembed, [2, 4, 768])\n",
        "load_gpt2_test(Unembed, reference_gpt2.unembed, cache[\"ln_final.hook_normalized\"])"
      ]
    },
    {
      "cell_type": "markdown",
      "metadata": {
        "id": "3O1R-ZlQrjyv"
      },
      "source": [
        "<details><summary>Solution</summary>\n",
        "\n",
        "```python\n",
        "class Unembed(nn.Module):\n",
        "    def __init__(self, cfg):\n",
        "        super().__init__()\n",
        "        self.cfg = cfg\n",
        "        self.W_U = nn.Parameter(t.empty((cfg.d_model, cfg.d_vocab)))\n",
        "        nn.init.normal_(self.W_U, std=self.cfg.init_range)\n",
        "        self.b_U = nn.Parameter(t.zeros((cfg.d_vocab), requires_grad=False))\n",
        "\n",
        "    def forward(\n",
        "        self, normalized_resid_final: Float[Tensor, \"batch position d_model\"]\n",
        "    ) -> Float[Tensor, \"batch position d_vocab\"]:\n",
        "        return (\n",
        "            einops.einsum(\n",
        "                normalized_resid_final,\n",
        "                self.W_U,\n",
        "                \"batch posn d_model, d_model d_vocab -> batch posn d_vocab\",\n",
        "            )\n",
        "            + self.b_U\n",
        "        )\n",
        "```\n",
        "</details>"
      ]
    },
    {
      "cell_type": "markdown",
      "metadata": {
        "id": "31vLi3Ryrjyv"
      },
      "source": [
        "### Exercise - implement `DemoTransformer`\n",
        "\n",
        "> ```yaml\n",
        "> Difficulty: 🔴🔴⚪⚪⚪\n",
        "> Importance: 🔵🔵🔵⚪⚪\n",
        ">\n",
        "> You should spend up to 10-15 minutes on this exercise.\n",
        "> ```"
      ]
    },
    {
      "cell_type": "code",
      "execution_count": 29,
      "metadata": {
        "colab": {
          "base_uri": "https://localhost:8080/"
        },
        "id": "Dq-xR1xerjyv",
        "outputId": "977a9e20-be72-4f23-acaf-c9fc5b10034a"
      },
      "outputs": [
        {
          "name": "stdout",
          "output_type": "stream",
          "text": [
            "Input shape: torch.Size([2, 4])\n",
            "Output shape: torch.Size([2, 4, 50257]) \n",
            "\n",
            "Input shape: torch.Size([1, 45])\n",
            "Output shape: torch.Size([1, 45, 50257])\n",
            "Reference output shape: torch.Size([1, 45, 50257]) \n",
            "\n",
            "100.00% of the values are correct\n",
            "\n"
          ]
        }
      ],
      "source": [
        "class DemoTransformer(nn.Module):\n",
        "    def __init__(self, cfg: Config):\n",
        "        super().__init__()\n",
        "        self.cfg = cfg\n",
        "        self.embed = Embed(cfg)\n",
        "        self.pos_embed = PosEmbed(cfg)\n",
        "        self.blocks = nn.ModuleList([TransformerBlock(cfg) for _ in range(cfg.n_layers)])\n",
        "        self.ln_final = LayerNorm(cfg)\n",
        "        self.unembed = Unembed(cfg)\n",
        "\n",
        "    def forward(self, tokens: Int[Tensor, \"batch position\"]) -> Float[Tensor, \"batch position d_vocab\"]:\n",
        "        # raise NotImplementedError()\n",
        "        # Embed tokens.\n",
        "        embeddings = self.embed(tokens) + self.pos_embed(tokens)\n",
        "        # Transformer them.\n",
        "        transformed_embeddings = embeddings\n",
        "        for block in self.blocks:\n",
        "          transformed_embeddings = block(transformed_embeddings)\n",
        "        # Final LayerNorm.\n",
        "        final_ln = self.ln_final(transformed_embeddings)\n",
        "        # Unembed.\n",
        "        return self.unembed(final_ln)\n",
        "\n",
        "rand_int_test(DemoTransformer, [2, 4])\n",
        "load_gpt2_test(DemoTransformer, reference_gpt2, tokens)"
      ]
    },
    {
      "cell_type": "markdown",
      "metadata": {
        "id": "-LL8usWxrjyv"
      },
      "source": [
        "<details><summary>Solution</summary>\n",
        "\n",
        "```python\n",
        "class DemoTransformer(nn.Module):\n",
        "    def __init__(self, cfg: Config):\n",
        "        super().__init__()\n",
        "        self.cfg = cfg\n",
        "        self.embed = Embed(cfg)\n",
        "        self.pos_embed = PosEmbed(cfg)\n",
        "        self.blocks = nn.ModuleList([TransformerBlock(cfg) for _ in range(cfg.n_layers)])\n",
        "        self.ln_final = LayerNorm(cfg)\n",
        "        self.unembed = Unembed(cfg)\n",
        "\n",
        "    def forward(self, tokens: Int[Tensor, \"batch position\"]) -> Float[Tensor, \"batch position d_vocab\"]:\n",
        "        residual = self.embed(tokens) + self.pos_embed(tokens)\n",
        "        for block in self.blocks:\n",
        "            residual = block(residual)\n",
        "        logits = self.unembed(self.ln_final(residual))\n",
        "        return logits\n",
        "```\n",
        "</details>"
      ]
    },
    {
      "cell_type": "markdown",
      "metadata": {
        "id": "bdbMOWPHrjyw"
      },
      "source": [
        "**Try it out!**"
      ]
    },
    {
      "cell_type": "code",
      "execution_count": 30,
      "metadata": {
        "id": "WUd3yYOhrjyw"
      },
      "outputs": [],
      "source": [
        "demo_gpt2 = DemoTransformer(Config(debug=False)).to(device)\n",
        "demo_gpt2.load_state_dict(reference_gpt2.state_dict(), strict=False)\n",
        "\n",
        "demo_logits = demo_gpt2(tokens)"
      ]
    },
    {
      "cell_type": "markdown",
      "metadata": {
        "id": "gFYgTifxrjyx"
      },
      "source": [
        "Let's take a test string, and calculate the loss!\n",
        "\n",
        "We're using the formula for **cross-entropy loss**. The cross entropy loss between a modelled distribution $Q$ and target distribution $P$ is:\n",
        "\n",
        "$$\n",
        "-\\sum_x P(x) \\log Q(x)\n",
        "$$\n",
        "\n",
        "In the case where $P$ is just the empirical distribution from target classes (i.e. $P(x^*) = 1$ for the correct class $x^*$) then this becomes:\n",
        "\n",
        "$$\n",
        "-\\log Q(x^*)\n",
        "$$\n",
        "\n",
        "in other words, the negative log prob of the true classification."
      ]
    },
    {
      "cell_type": "code",
      "execution_count": 31,
      "metadata": {
        "colab": {
          "base_uri": "https://localhost:8080/"
        },
        "id": "SBdPrnq6rjyx",
        "outputId": "f94a2fd1-7f6d-4b1b-bdde-23caca722ef7"
      },
      "outputs": [
        {
          "name": "stdout",
          "output_type": "stream",
          "text": [
            "Avg cross entropy loss: 4.0442\n",
            "Avg cross entropy loss for uniform distribution: 10.824905\n",
            "Avg probability assigned to correct token: 0.098628\n"
          ]
        }
      ],
      "source": [
        "def get_log_probs(\n",
        "    logits: Float[Tensor, \"batch posn d_vocab\"], tokens: Int[Tensor, \"batch posn\"]\n",
        ") -> Float[Tensor, \"batch posn-1\"]:\n",
        "    log_probs = logits.log_softmax(dim=-1)\n",
        "    # Get logprobs the first seq_len-1 predictions (so we can compare them with the actual next tokens)\n",
        "    log_probs_for_tokens = log_probs[:, :-1].gather(dim=-1, index=tokens[:, 1:].unsqueeze(-1)).squeeze(-1)\n",
        "\n",
        "    return log_probs_for_tokens\n",
        "\n",
        "\n",
        "pred_log_probs = get_log_probs(demo_logits, tokens)\n",
        "print(f\"Avg cross entropy loss: {-pred_log_probs.mean():.4f}\")\n",
        "print(f\"Avg cross entropy loss for uniform distribution: {math.log(demo_gpt2.cfg.d_vocab):4f}\")\n",
        "print(f\"Avg probability assigned to correct token: {pred_log_probs.exp().mean():4f}\")"
      ]
    },
    {
      "cell_type": "markdown",
      "metadata": {
        "id": "GzGwUbU0rjyy"
      },
      "source": [
        "We can also greedily generate text, by taking the most likely next token and continually appending it to our prompt before feeding it back into the model:"
      ]
    },
    {
      "cell_type": "code",
      "execution_count": 32,
      "metadata": {
        "colab": {
          "base_uri": "https://localhost:8080/",
          "height": 87,
          "referenced_widgets": [
            "bba7a8d608e84a60b3653b48bca900aa",
            "6d3ffd66781a449682fc48466d82a4c6",
            "4833bc520414419984798ef3717e9fa5",
            "047fa8d5fb7045dda2db32f278f74ffe",
            "d31da8ae2d594ec4bbec63db5c5da79b",
            "c33e938ad78f4e75a55ffe95f91f80b2",
            "141e002b4cbe453b99fac27c9dac0ecb",
            "7e3ea45bc9754bfc8af89feaaf91ad46",
            "352ca4d68536440d820138de2a1de742",
            "3cf0c6fe0d1548bb9ea8fe556f47e234",
            "3fdae02b42ab457e8063b869e7622c23"
          ]
        },
        "id": "Fwr2TM4Drjyy",
        "outputId": "741454a7-7c02-48d1-ae52-a2c5f2dd3da9"
      },
      "outputs": [
        {
          "data": {
            "application/vnd.jupyter.widget-view+json": {
              "model_id": "d16b67858e164e0a86e48fbb587b1400",
              "version_major": 2,
              "version_minor": 0
            },
            "text/plain": [
              "  0%|          | 0/100 [00:00<?, ?it/s]"
            ]
          },
          "metadata": {},
          "output_type": "display_data"
        },
        {
          "name": "stdout",
          "output_type": "stream",
          "text": [
            "The Total Perspective Vortex derives its picture of the whole Universe on the principle of the total perspective. The total perspective is the view of the whole Universe from the point of view of the observer. The total perspective is the view of the whole Universe from the point of view of the observer. The total perspective is the view of the whole Universe from the point of view of the observer. The total perspective is the view of the whole Universe from the point of view of the observer. The total perspective is the view of the whole Universe from the point of view of the observer. The\n"
          ]
        }
      ],
      "source": [
        "test_string = \"\"\"The Total Perspective Vortex derives its picture of the whole Universe on the principle of\"\"\"\n",
        "for i in tqdm(range(100)):\n",
        "    test_tokens = reference_gpt2.to_tokens(test_string).to(device)\n",
        "    demo_logits = demo_gpt2(test_tokens)\n",
        "    test_string += reference_gpt2.tokenizer.decode(demo_logits[-1, -1].argmax())\n",
        "\n",
        "print(test_string)"
      ]
    },
    {
      "cell_type": "markdown",
      "metadata": {
        "id": "io9XqdWerjyy"
      },
      "source": [
        "In section 4️⃣ we'll learn to generate text in slightly more interesting ways than just argmaxing the output (which can lead to unnatural patterns like repetition, as you can see above)."
      ]
    },
    {
      "cell_type": "markdown",
      "metadata": {
        "id": "-1MpVSr8rjyy"
      },
      "source": [
        "# 3️⃣ Training a Transformer\n",
        "\n",
        "> ##### Learning Objectives\n",
        ">\n",
        "> * Understand how to train a transformer from scratch\n",
        "> * Write a basic transformer training loop\n",
        "> * Interpret the transformer's falling cross entropy loss with reference to features of the training data (e.g. bigram frequencies)"
      ]
    },
    {
      "cell_type": "markdown",
      "metadata": {
        "id": "jeKOsijYrjyy"
      },
      "source": [
        "Now that we've built our transformer, and verified that it performs as expected when we load in weights, let's try training it from scratch!\n",
        "\n",
        "This is a lightweight demonstration of how you can actually train your own GPT-2 with this code! Here we train a tiny model on a tiny dataset, but it's fundamentally the same code for training a larger/more real model (though you'll need beefier GPUs and data parallelism to do it remotely efficiently, and fancier parallelism for much bigger ones).\n",
        "\n",
        "For our purposes, we'll train 2L 4 heads per layer model, with context length 256, for 10*200 steps of batch size 16, just to show what it looks like (and so the notebook doesn't melt your colab / machine!)."
      ]
    },
    {
      "cell_type": "markdown",
      "metadata": {
        "id": "5tbfSTfKrjyy"
      },
      "source": [
        "## Create Model"
      ]
    },
    {
      "cell_type": "code",
      "execution_count": 33,
      "metadata": {
        "id": "kqnwbBWNrjyy"
      },
      "outputs": [],
      "source": [
        "model_cfg = Config(\n",
        "    debug=False,\n",
        "    d_model=32,\n",
        "    n_heads=16,\n",
        "    d_head=2,\n",
        "    d_mlp=32 * 4,\n",
        "    n_layers=4,\n",
        "    n_ctx=128,\n",
        "    d_vocab=reference_gpt2.cfg.d_vocab,\n",
        ")\n",
        "model = DemoTransformer(model_cfg)"
      ]
    },
    {
      "cell_type": "markdown",
      "metadata": {
        "id": "XeGeLmWPrjyy"
      },
      "source": [
        "## Training Args\n",
        "\n",
        "\n",
        "Note, for this optimization we'll be using **weight decay**."
      ]
    },
    {
      "cell_type": "code",
      "execution_count": 34,
      "metadata": {
        "id": "-NMVzA3Xrjyy"
      },
      "outputs": [],
      "source": [
        "@dataclass\n",
        "class TransformerTrainingArgs:\n",
        "    batch_size = 32\n",
        "    epochs = 10\n",
        "    max_steps_per_epoch = 500\n",
        "    lr = 1e-3\n",
        "    weight_decay = 1e-2\n",
        "    wandb_project: str | None = \"day1-demotransformer\"\n",
        "    wandb_name: str | None = None\n",
        "\n",
        "\n",
        "args = TransformerTrainingArgs()"
      ]
    },
    {
      "cell_type": "markdown",
      "metadata": {
        "id": "M9_sqI_Zrjyy"
      },
      "source": [
        "## Create Data\n",
        "\n",
        "We load in the [TinyStories dataset](https://huggingface.co/datasets/roneneldan/TinyStories), a dataset of synthetically generated simple stories only using a small vocabulary of words that typical 3 to 4-year-olds can understand. This dataset was designed for [exploring how small a LLM can be](https://arxiv.org/pdf/2305.07759) that can still generate coherant text."
      ]
    },
    {
      "cell_type": "code",
      "execution_count": 39,
      "metadata": {
        "colab": {
          "base_uri": "https://localhost:8080/",
          "height": 458,
          "referenced_widgets": [
            "37c5320f85b845c7a6bba457b0c187ef",
            "6fd3658366c248bd935ae33b1ff3acc5",
            "5641f14b641442ec9951726692b17eba",
            "5f2a512cc14942cbbad5eaf2ea206bad",
            "3d7ca44ef3314a2b90631ca2680b6a0a",
            "c3db58c33b984907844ba643904cd91b",
            "043a125b07074e1e9b75c3de1efb09fd",
            "6409c6d4c06d470c8e153269ad1073e8",
            "92702652d34149ea843d02b6ceff9feb",
            "c4d08e26920f46f383c5dcf97962813d",
            "0e8955e6b925476eb1f217389783a882",
            "fefc16d8fb134fad983fe6a136ffc157",
            "c50955c41184421bbca936f05b0e7042",
            "64282f9e05fa40f48b8bf6da036e5e4a",
            "b2357e0f716c40cd89bfde94cacec331",
            "2ec8472d2b6a4b3393ba2cb2b437f370",
            "b7caa7550b6f4090b674879a2afe00f7",
            "c9746701501f45c0bceeb6563bb804b1",
            "9a59271cc0e643c3990ce6d372bb23e1",
            "aaa073340ecf4ea8afd021944186c0ea",
            "2122f79ba27a49ddaa0f7a0270cb13cd",
            "79cd75b1498940b1b4c30a541fa2812d",
            "f24ef09d472b4030a39072e505efe508",
            "067e9b85f70b4a96849048c16ff3e040",
            "0e468303b268471b8a5ab28d0eda6815",
            "7c2eafd1ff6b43be94fa285a16f029f2",
            "089c9c23b24448a1be2bb9225804d49d",
            "167b94ef8b0b46e1a2a8900dad173b0e",
            "24097103f2494aa488b2633bb3a42866",
            "ac413b7c12c74d2188edb74b08cf8bbc",
            "81e2f01bc89641d5a19d7f931bc684e7",
            "1c71f4c441474dc696aae96e480f1ba8",
            "6d9429ba4d1948cb9a4f1967dfd39886",
            "603509a4c1224c729b1ea7ad2592e0df",
            "842259d8edf845728c38ad69a643e59f",
            "32be2277f54841559a3719bf2f9a614d",
            "a0dda1e5b92f4d108798eca65aa3db17",
            "2271e60ef6544cd1bb166b2a66bd7fb0",
            "dcb6b0ba1f0c454dbad33b10dc3c5287",
            "544ca245da1d498698c8fea6bf7074bf",
            "9e7b736970df4062a60484419bb84152",
            "22a8d472a4464b2faf54fc3a393d328d",
            "286183590fec4c538456b246bc81bfee",
            "72e894a4cd1545b58750cb41819d9fae",
            "6e78e5a6eaef4d099e935094bb7f6873",
            "67af139f45a549cea0c314c3116ae66e",
            "d0a0280ef9014dfa8c01b49215b46224",
            "a31c1eb1e97147bebe2eea802f17bc3f",
            "a037fd4c27984b809f4f976f31ee9a7a",
            "3af82a7a415f4799b1c9ab86562b8249",
            "9b31fddc200b44d9876479f4dbd4fbb6",
            "5013e1f140504ef18feecde72c18cff6",
            "fd47556bb00f457ebd9d1647cae27fcd",
            "0883b021a34440fa8f0258071a6e90a7",
            "141cb5a01ac643eb92deb06ac1da75a7",
            "e3bc87344af84a2aa38bac55ed54a85a",
            "5a69d035a143427b9fac426ab4827fdb",
            "788a08a25da64fb4bc3e224de6f5a00b",
            "f7dbcfa261034af081418160047b3bb0",
            "1da510591a7c4e38b466bd033796ae54",
            "afaf18b3eb9f4b57a40b724ac0cbe9d6",
            "74c7bcf3c47342f9bf40569a10fe2777",
            "8b35bbc88bd24488bad388d02eaedaf1",
            "f71e5898251a4b68bbb9385ea1822d8a",
            "9582168925f54f8e812008a2dd16be21",
            "ba0ee47d16764aef8cf1d850d0cffc6f",
            "569b3bd9ecc14ea0a42f0f6e3e0eb0e3",
            "98b02c11523b4f8db38cdeb56d9e8d8a",
            "6f766a572f424b779b0378f9075367a5",
            "e7e0dfb1d6174f74a5d83bb08006bddf",
            "ee3ca2f8054a45e9a0a47e9fb6246b5a",
            "77292e42623d49a683df1388dcae1147",
            "6f42919d3dff4375b53e5faa8e73f9ad",
            "65b6afb320ea48dfa272a4f9af11c644",
            "785691a0a0d942fb872e346c8c12fda4",
            "0be2dbbebe33401993ddfa9e105138c5",
            "3193f2ee8d6248e3b3c2d874cdb9a303",
            "667845d76a69442b82b0dff0b4c536c5",
            "0cd93ea1ea434a54b9d51133a5b25348",
            "8888f2b7b65048788e4054840d027f67",
            "8ace4f17a7bb4288a30d62e94ad84c44",
            "e74bcb27ca3d4a09bf8da31da1ba502a",
            "e0fcdd81dbe44dd7a7df18ecfb9a9f7e",
            "f718424336a6432383ee55b2c0dea165",
            "26772b97717f4018b2751d8e28563271",
            "bb1c62a63fd2426fa7b48e179c82493d",
            "5a40876a872d43f6b34683be47e6d52a",
            "1650cce501bd4a46943ecb4d7534d6eb"
          ]
        },
        "id": "655b5dLGrjyy",
        "outputId": "94f5daa0-5dd3-445c-b021-5723be2ef034"
      },
      "outputs": [
        {
          "data": {
            "application/vnd.jupyter.widget-view+json": {
              "model_id": "340f22a4df6c48ee9088c5bab7560198",
              "version_major": 2,
              "version_minor": 0
            },
            "text/plain": [
              "Downloading readme:   0%|          | 0.00/1.06k [00:00<?, ?B/s]"
            ]
          },
          "metadata": {},
          "output_type": "display_data"
        },
        {
          "data": {
            "application/vnd.jupyter.widget-view+json": {
              "model_id": "4c86bd352237481c854aa1f53e95a24b",
              "version_major": 2,
              "version_minor": 0
            },
            "text/plain": [
              "Downloading data:   0%|          | 0.00/249M [00:00<?, ?B/s]"
            ]
          },
          "metadata": {},
          "output_type": "display_data"
        },
        {
          "data": {
            "application/vnd.jupyter.widget-view+json": {
              "model_id": "aba42f4d35e4453297d81b92166244dc",
              "version_major": 2,
              "version_minor": 0
            },
            "text/plain": [
              "Downloading data:   0%|          | 0.00/248M [00:00<?, ?B/s]"
            ]
          },
          "metadata": {},
          "output_type": "display_data"
        },
        {
          "data": {
            "application/vnd.jupyter.widget-view+json": {
              "model_id": "b91878dec3824a9d848b81a76b2f324c",
              "version_major": 2,
              "version_minor": 0
            },
            "text/plain": [
              "Downloading data:   0%|          | 0.00/246M [00:00<?, ?B/s]"
            ]
          },
          "metadata": {},
          "output_type": "display_data"
        },
        {
          "data": {
            "application/vnd.jupyter.widget-view+json": {
              "model_id": "b76dd68254374c4e926f772fd5aa1f7b",
              "version_major": 2,
              "version_minor": 0
            },
            "text/plain": [
              "Downloading data:   0%|          | 0.00/248M [00:00<?, ?B/s]"
            ]
          },
          "metadata": {},
          "output_type": "display_data"
        },
        {
          "data": {
            "application/vnd.jupyter.widget-view+json": {
              "model_id": "3ba97b0f0ee54ab4a54e17df9d6999e1",
              "version_major": 2,
              "version_minor": 0
            },
            "text/plain": [
              "Downloading data:   0%|          | 0.00/9.99M [00:00<?, ?B/s]"
            ]
          },
          "metadata": {},
          "output_type": "display_data"
        },
        {
          "data": {
            "application/vnd.jupyter.widget-view+json": {
              "model_id": "42c698564f7a4b45911dc3edc2a212fb",
              "version_major": 2,
              "version_minor": 0
            },
            "text/plain": [
              "Generating train split:   0%|          | 0/2119719 [00:00<?, ? examples/s]"
            ]
          },
          "metadata": {},
          "output_type": "display_data"
        },
        {
          "data": {
            "application/vnd.jupyter.widget-view+json": {
              "model_id": "c6e7adc9014249d1bedcfc4729b87f11",
              "version_major": 2,
              "version_minor": 0
            },
            "text/plain": [
              "Generating validation split:   0%|          | 0/21990 [00:00<?, ? examples/s]"
            ]
          },
          "metadata": {},
          "output_type": "display_data"
        },
        {
          "name": "stdout",
          "output_type": "stream",
          "text": [
            "Dataset({\n",
            "    features: ['text'],\n",
            "    num_rows: 2119719\n",
            "})\n",
            "One day, a little girl named Lily found a needle in her room. She knew it was difficult to play with it because it was sharp. Lily wanted to share the needle with her mom, so she could sew a button on her shirt.\n",
            "\n",
            "Lily went to her mom and said, \"Mom, I found this needle. Can you share it with me and sew my shirt?\" Her mom smiled and said, \"Yes, Lily, we can share the needle and fix your shirt.\"\n",
            "\n",
            "Together, they shared the needle and sewed the button on Lily's shirt. It was not difficult for them because they were sharing and helping each other. After they finished, Lily thanked her mom for sharing the needle and fixing her shirt. They both felt happy because they had shared and worked together.\n"
          ]
        }
      ],
      "source": [
        "dataset = datasets.load_dataset(\"roneneldan/TinyStories\", split=\"train\")\n",
        "print(dataset)\n",
        "print(dataset[0][\"text\"])"
      ]
    },
    {
      "cell_type": "markdown",
      "metadata": {
        "id": "S1pORmlkrjyy"
      },
      "source": [
        "`tokenize_and_concatenate` is a useful function which takes our dataset of strings, and returns a dataset of token IDs ready to feed into the model. We then create a dataloader from this tokenized dataset. The useful method `train_test_split` can give us a training and testing set."
      ]
    },
    {
      "cell_type": "code",
      "execution_count": 40,
      "metadata": {
        "colab": {
          "base_uri": "https://localhost:8080/",
          "height": 179,
          "referenced_widgets": [
            "62f49af4be3a41faa0091a481a057014",
            "1019a36f00944f3bb24da510f304990d",
            "73fcc23e398247e288de44a35c4c1c61",
            "7d19fcf50d5c40e5b8b426a5d94b6e85",
            "6523bb4de0394e48a24422662dddee99",
            "76acb959b3f547ed903d38249ef38f17",
            "6fb7c1290d0d4207a0cf79ae649c93af",
            "787d464969334a27950ed8e4779e531a",
            "c4f69dea549b40d7a4c19369041b9aa7",
            "c3180566fa2e47c091eb38c95a3f97a8",
            "360170d926b84848abd1d0bf43a41555"
          ]
        },
        "id": "rpqfcDYfrjyy",
        "outputId": "7a2b8765-785f-427e-e20a-0198abcd8c7e"
      },
      "outputs": [
        {
          "data": {
            "application/vnd.jupyter.widget-view+json": {
              "model_id": "b5ab60168a8f428d944a41c16eca8b93",
              "version_major": 2,
              "version_minor": 0
            },
            "text/plain": [
              "Map (num_proc=4):   0%|          | 0/2119719 [00:00<?, ? examples/s]"
            ]
          },
          "metadata": {},
          "output_type": "display_data"
        },
        {
          "name": "stderr",
          "output_type": "stream",
          "text": [
            "Token indices sequence length is longer than the specified maximum sequence length for this model (12536 > 1024). Running this sequence through the model will result in indexing errors\n",
            "Token indices sequence length is longer than the specified maximum sequence length for this model (12297 > 1024). Running this sequence through the model will result in indexing errors\n",
            "Token indices sequence length is longer than the specified maximum sequence length for this model (13147 > 1024). Running this sequence through the model will result in indexing errors\n",
            "Token indices sequence length is longer than the specified maximum sequence length for this model (10666 > 1024). Running this sequence through the model will result in indexing errors\n"
          ]
        }
      ],
      "source": [
        "tokenized_dataset = tokenize_and_concatenate(\n",
        "    dataset,\n",
        "    reference_gpt2.tokenizer,\n",
        "    streaming=False,\n",
        "    max_length=model.cfg.n_ctx,\n",
        "    column_name=\"text\",\n",
        "    add_bos_token=True,\n",
        "    num_proc=4,\n",
        ")\n",
        "\n",
        "dataset_dict = tokenized_dataset.train_test_split(test_size=1000)\n",
        "train_loader = DataLoader(\n",
        "    dataset_dict[\"train\"], batch_size=args.batch_size, shuffle=True, num_workers=4, pin_memory=True\n",
        ")\n",
        "test_loader = DataLoader(\n",
        "    dataset_dict[\"test\"], batch_size=args.batch_size, shuffle=False, num_workers=4, pin_memory=True\n",
        ")"
      ]
    },
    {
      "cell_type": "markdown",
      "metadata": {
        "id": "1L3ygS6lrjyz"
      },
      "source": [
        "When we iterate through these dataloaders, we will find dictionaries with the single key `'tokens'`, which maps to a tensor of token IDs with shape `(batch, seq_len)`."
      ]
    },
    {
      "cell_type": "code",
      "execution_count": 41,
      "metadata": {
        "colab": {
          "base_uri": "https://localhost:8080/"
        },
        "id": "LyQsOyjNrjyz",
        "outputId": "fe9ec3dd-895c-4585-bdea-555bcbed802b"
      },
      "outputs": [
        {
          "name": "stdout",
          "output_type": "stream",
          "text": [
            "dict_keys(['tokens'])\n",
            "torch.Size([32, 128])\n"
          ]
        }
      ],
      "source": [
        "first_batch = train_loader.dataset[: args.batch_size]\n",
        "\n",
        "print(first_batch.keys())\n",
        "print(first_batch[\"tokens\"].shape)"
      ]
    },
    {
      "cell_type": "markdown",
      "metadata": {
        "id": "ihx2i4zyrjyz"
      },
      "source": [
        "## Training Loop\n",
        "\n",
        "If you did the material on [training loops](https://arena-ch0-fundamentals.streamlit.app/[0.3]_ResNets#training-loop) during the first week, this should all be familiar to you. If not, you can skim that section for an overview of the key concepts. The start of the **Training loop** section is most important, and the subsections on [Modularisation](https://arena-ch0-fundamentals.streamlit.app/[0.3]_ResNets#modularisation) and [dataclasses](https://arena-ch0-fundamentals.streamlit.app/[0.3]_ResNets#aside-dataclasses) are also very useful. Lastly, we'll also be using Weights and Biases to train our model - you can read about how to use it [here](https://arena-ch0-fundamentals.streamlit.app/[0.4]_Optimization#what-is-weights-and-biases). Here are (roughly) all the things you should know for the following exercises:\n",
        "                \n",
        "* The key parts of a gradient update step are:\n",
        "    * Calculating the (cross-entropy) loss between a model's output and the true labels,\n",
        "    * `loss.backward()` - calculate gradients of the loss with respect to the model parameters,\n",
        "    * `optimizer.step()` - update the model parameters using the gradients,\n",
        "    * `optimizer.zero_grad()` - zero the gradients so they don't accumulate.\n",
        "* We can nicely package up training loops into a class, which includes methods for training and validation steps among other things. This helps with writing code that can be reused in different contexts.\n",
        "* We can use dataclasses to store all the arguments relevant to training in one place, and then pass them to our trainer class. Autocompletion is one nice bonus of this!\n",
        "    * Be careful of scope here, you want to make sure you're referring to `self.args` within the trainer class, rather than the global `args`.\n",
        "* You can use Weights and Biases to track experiments and log relevant variables. The three essential functions are:\n",
        "    * `wandb.init()` - initialize a new run, takes arguments `project`, `name` and `config` (among others).\n",
        "    * `wandb.log()` - log a dictionary of variables, e.g. `{\"loss\": loss}`. Also takes a `step` argument.\n",
        "    * `wandb.finish()` - called at the end of training (no arguments)."
      ]
    },
    {
      "cell_type": "markdown",
      "metadata": {
        "id": "ew2-6cF3rjyz"
      },
      "source": [
        "### Exercise - write training loop\n",
        "\n",
        "> ```yaml\n",
        "> Difficulty: 🔴🔴🔴⚪⚪\n",
        "> Importance: 🔵🔵🔵🔵⚪\n",
        ">\n",
        "> You should spend up to 10-20 minutes on this exercise.\n",
        "> ```\n",
        "\n",
        "You should fill in the methods below. Some guidance:\n",
        "\n",
        "* Remember we were able to calculate cross entropy loss using the `get_log_probs` function in the previous section.\n",
        "* You should use the optimizer `t.optim.AdamW` (Adam with weight decay), and with hyperparameters `lr` and `weight_decay` taken from your `TransformerTrainingArgs` dataclass instance.\n",
        "* We've given you the argument `max_steps_per_epoch`, a hacky way of making sure the training phase in each epoch doesn't go on for too long. You can terminate each training phase after this many steps. It's set to a default value that should lead to a very short run demonstrating nontrivial model performance.\n",
        "* Remember to move tokens to your device, via `tokens.to(device)` (this should be a global variable, defined at the top of your notebook).\n",
        "* You can refer back to the training loops from the [previous chapter of the course](https://arena-ch0-fundamentals.streamlit.app/[0.3]_ResNets#training-loop) if you'd like.\n",
        "* We've also provided an instance of the `TransformerSampler` class so you can generate text from your model during training to see how it's doing. We will cover how sampling works in the next section."
      ]
    },
    {
      "cell_type": "code",
      "execution_count": 49,
      "metadata": {
        "colab": {
          "base_uri": "https://localhost:8080/",
          "height": 331
        },
        "id": "9sGbm3Y1rjyz",
        "outputId": "7f7f4ce2-24e1-4119-8b3f-7d55b055f7e1"
      },
      "outputs": [
        {
          "data": {
            "text/html": [
              "Finishing previous runs because reinit is set to 'default'."
            ],
            "text/plain": [
              "<IPython.core.display.HTML object>"
            ]
          },
          "metadata": {},
          "output_type": "display_data"
        },
        {
          "data": {
            "text/html": [],
            "text/plain": [
              "<IPython.core.display.HTML object>"
            ]
          },
          "metadata": {},
          "output_type": "display_data"
        },
        {
          "data": {
            "text/html": [
              " View run <strong style=\"color:#cdcd00\">morning-oath-1</strong> at: <a href='https://wandb.ai/n00bcak-national-university-of-singapore/day1-demotransformer/runs/us1h4r5r' target=\"_blank\">https://wandb.ai/n00bcak-national-university-of-singapore/day1-demotransformer/runs/us1h4r5r</a><br> View project at: <a href='https://wandb.ai/n00bcak-national-university-of-singapore/day1-demotransformer' target=\"_blank\">https://wandb.ai/n00bcak-national-university-of-singapore/day1-demotransformer</a><br>Synced 5 W&B file(s), 0 media file(s), 0 artifact file(s) and 0 other file(s)"
            ],
            "text/plain": [
              "<IPython.core.display.HTML object>"
            ]
          },
          "metadata": {},
          "output_type": "display_data"
        },
        {
          "data": {
            "text/html": [
              "Find logs at: <code>./wandb/run-20250602_221305-us1h4r5r/logs</code>"
            ],
            "text/plain": [
              "<IPython.core.display.HTML object>"
            ]
          },
          "metadata": {},
          "output_type": "display_data"
        },
        {
          "data": {
            "text/html": [
              "Tracking run with wandb version 0.19.11"
            ],
            "text/plain": [
              "<IPython.core.display.HTML object>"
            ]
          },
          "metadata": {},
          "output_type": "display_data"
        },
        {
          "data": {
            "text/html": [
              "Run data is saved locally in <code>/home/n00bcak/Desktop/programming/ARENA_3.0_Attempt/chapter1_transformer_interp/exercises/wandb/run-20250602_221317-nhj096j9</code>"
            ],
            "text/plain": [
              "<IPython.core.display.HTML object>"
            ]
          },
          "metadata": {},
          "output_type": "display_data"
        },
        {
          "data": {
            "text/html": [
              "Syncing run <strong><a href='https://wandb.ai/n00bcak-national-university-of-singapore/day1-demotransformer/runs/nhj096j9' target=\"_blank\">dry-waterfall-2</a></strong> to <a href='https://wandb.ai/n00bcak-national-university-of-singapore/day1-demotransformer' target=\"_blank\">Weights & Biases</a> (<a href='https://wandb.me/developer-guide' target=\"_blank\">docs</a>)<br>"
            ],
            "text/plain": [
              "<IPython.core.display.HTML object>"
            ]
          },
          "metadata": {},
          "output_type": "display_data"
        },
        {
          "data": {
            "text/html": [
              " View project at <a href='https://wandb.ai/n00bcak-national-university-of-singapore/day1-demotransformer' target=\"_blank\">https://wandb.ai/n00bcak-national-university-of-singapore/day1-demotransformer</a>"
            ],
            "text/plain": [
              "<IPython.core.display.HTML object>"
            ]
          },
          "metadata": {},
          "output_type": "display_data"
        },
        {
          "data": {
            "text/html": [
              " View run at <a href='https://wandb.ai/n00bcak-national-university-of-singapore/day1-demotransformer/runs/nhj096j9' target=\"_blank\">https://wandb.ai/n00bcak-national-university-of-singapore/day1-demotransformer/runs/nhj096j9</a>"
            ],
            "text/plain": [
              "<IPython.core.display.HTML object>"
            ]
          },
          "metadata": {},
          "output_type": "display_data"
        },
        {
          "data": {
            "application/vnd.jupyter.widget-view+json": {
              "model_id": "b4d92ead09f84238883803079b0e0254",
              "version_major": 2,
              "version_minor": 0
            },
            "text/plain": [
              "  0%|          | 0/5000 [00:00<?, ?it/s]"
            ]
          },
          "metadata": {},
          "output_type": "display_data"
        },
        {
          "data": {
            "application/vnd.jupyter.widget-view+json": {
              "model_id": "1b7fae6f77ef48d590fa33f993d4c575",
              "version_major": 2,
              "version_minor": 0
            },
            "text/plain": [
              "Evaluating:   0%|          | 0/32 [00:00<?, ?it/s]"
            ]
          },
          "metadata": {},
          "output_type": "display_data"
        },
        {
          "name": "stdout",
          "output_type": "stream",
          "text": [
            "Once upon a time, Lily!\"The fruit when the special creatures, longer said, \"Okay, I can turn - wand.\n",
            "Lily, that jealous and went to come around, I must the flowers.\n",
            "\n",
            "Lily pushed the end. Soon, some\n"
          ]
        },
        {
          "data": {
            "application/vnd.jupyter.widget-view+json": {
              "model_id": "22d5a292b5c64ab8b1c870b68cc2cd70",
              "version_major": 2,
              "version_minor": 0
            },
            "text/plain": [
              "Evaluating:   0%|          | 0/32 [00:00<?, ?it/s]"
            ]
          },
          "metadata": {},
          "output_type": "display_data"
        },
        {
          "name": "stdout",
          "output_type": "stream",
          "text": [
            "Once upon a time, there was cocoa, there.:On her parents, kids, but she loved to take a little girl named Sue. Every day, but Anna walked closer to the playing, so; they always talk to walk in a good things it was warning\n"
          ]
        },
        {
          "data": {
            "application/vnd.jupyter.widget-view+json": {
              "model_id": "4b3352f480e3423abd8e262dfcb79017",
              "version_major": 2,
              "version_minor": 0
            },
            "text/plain": [
              "Evaluating:   0%|          | 0/32 [00:00<?, ?it/s]"
            ]
          },
          "metadata": {},
          "output_type": "display_data"
        },
        {
          "name": "stdout",
          "output_type": "stream",
          "text": [
            "Once upon a time there was a sunny day, mom named \"## matter to Leo. I will be friends, I hear a,\" Max said. He wanted to join it.\n",
            "\n",
            "OneBut cotton off the forest was idea. He went and she wanted to sing\n"
          ]
        },
        {
          "data": {
            "application/vnd.jupyter.widget-view+json": {
              "model_id": "cee34dc522c04ce493fa36a21337cb4b",
              "version_major": 2,
              "version_minor": 0
            },
            "text/plain": [
              "Evaluating:   0%|          | 0/32 [00:00<?, ?it/s]"
            ]
          },
          "metadata": {},
          "output_type": "display_data"
        },
        {
          "name": "stdout",
          "output_type": "stream",
          "text": [
            "Once upon a time bears named Ben called Wh because she It's gets the swings. It's do Max. Sophie finds the truth. Bobo named \"Let's go inside and watch with Anna,\" said goodbye to the cookie, and Lily's family went back to the\n"
          ]
        },
        {
          "data": {
            "application/vnd.jupyter.widget-view+json": {
              "model_id": "291de15d72a841b8b80188693e35bc2c",
              "version_major": 2,
              "version_minor": 0
            },
            "text/plain": [
              "Evaluating:   0%|          | 0/32 [00:00<?, ?it/s]"
            ]
          },
          "metadata": {},
          "output_type": "display_data"
        },
        {
          "name": "stdout",
          "output_type": "stream",
          "text": [
            "Once upon a time asked if it was?\" asked \"Please to do wrong small, only a three year old and three years old man who happened to the bought things of what pink if you and Tom were all doing?\"\n",
            "\n",
            "The frog replied, \"Do you can\n"
          ]
        },
        {
          "ename": "KeyboardInterrupt",
          "evalue": "",
          "output_type": "error",
          "traceback": [
            "\u001b[31m---------------------------------------------------------------------------\u001b[39m",
            "\u001b[31mKeyboardInterrupt\u001b[39m                         Traceback (most recent call last)",
            "\u001b[36mCell\u001b[39m\u001b[36m \u001b[39m\u001b[32mIn[49]\u001b[39m\u001b[32m, line 86\u001b[39m\n\u001b[32m     84\u001b[39m args = TransformerTrainingArgs()\n\u001b[32m     85\u001b[39m trainer = TransformerTrainer(args, model)\n\u001b[32m---> \u001b[39m\u001b[32m86\u001b[39m \u001b[43mtrainer\u001b[49m\u001b[43m.\u001b[49m\u001b[43mtrain\u001b[49m\u001b[43m(\u001b[49m\u001b[43m)\u001b[49m\n",
            "\u001b[36mCell\u001b[39m\u001b[36m \u001b[39m\u001b[32mIn[49]\u001b[39m\u001b[32m, line 69\u001b[39m, in \u001b[36mTransformerTrainer.train\u001b[39m\u001b[34m(self)\u001b[39m\n\u001b[32m     67\u001b[39m \u001b[38;5;28;01mfor\u001b[39;00m epoch \u001b[38;5;129;01min\u001b[39;00m \u001b[38;5;28mrange\u001b[39m(\u001b[38;5;28mself\u001b[39m.args.epochs):\n\u001b[32m     68\u001b[39m     \u001b[38;5;28;01mfor\u001b[39;00m i, batch \u001b[38;5;129;01min\u001b[39;00m \u001b[38;5;28menumerate\u001b[39m(\u001b[38;5;28mself\u001b[39m.train_loader):\n\u001b[32m---> \u001b[39m\u001b[32m69\u001b[39m         loss = \u001b[38;5;28;43mself\u001b[39;49m\u001b[43m.\u001b[49m\u001b[43mtraining_step\u001b[49m\u001b[43m(\u001b[49m\u001b[43mbatch\u001b[49m\u001b[43m)\u001b[49m\n\u001b[32m     70\u001b[39m         progress_bar.update()\n\u001b[32m     71\u001b[39m         progress_bar.set_description(\u001b[33mf\u001b[39m\u001b[33m\"\u001b[39m\u001b[33mEpoch \u001b[39m\u001b[38;5;132;01m{\u001b[39;00mepoch\u001b[38;5;250m \u001b[39m+\u001b[38;5;250m \u001b[39m\u001b[32m1\u001b[39m\u001b[38;5;132;01m}\u001b[39;00m\u001b[33m, loss: \u001b[39m\u001b[38;5;132;01m{\u001b[39;00mloss\u001b[38;5;132;01m:\u001b[39;00m\u001b[33m.3f\u001b[39m\u001b[38;5;132;01m}\u001b[39;00m\u001b[33m, accuracy: \u001b[39m\u001b[38;5;132;01m{\u001b[39;00maccuracy\u001b[38;5;132;01m:\u001b[39;00m\u001b[33m.3f\u001b[39m\u001b[38;5;132;01m}\u001b[39;00m\u001b[33m\"\u001b[39m)\n",
            "\u001b[36mCell\u001b[39m\u001b[36m \u001b[39m\u001b[32mIn[49]\u001b[39m\u001b[32m, line 33\u001b[39m, in \u001b[36mTransformerTrainer.training_step\u001b[39m\u001b[34m(self, batch)\u001b[39m\n\u001b[32m     31\u001b[39m \u001b[38;5;28mself\u001b[39m.optimizer.step()\n\u001b[32m     32\u001b[39m \u001b[38;5;28mself\u001b[39m.step += \u001b[32m1\u001b[39m\n\u001b[32m---> \u001b[39m\u001b[32m33\u001b[39m \u001b[43mwandb\u001b[49m\u001b[43m.\u001b[49m\u001b[43mlog\u001b[49m\u001b[43m(\u001b[49m\u001b[43m{\u001b[49m\u001b[33;43m\"\u001b[39;49m\u001b[33;43mtrain_loss\u001b[39;49m\u001b[33;43m\"\u001b[39;49m\u001b[43m:\u001b[49m\u001b[43m \u001b[49m\u001b[43mloss\u001b[49m\u001b[43m}\u001b[49m\u001b[43m,\u001b[49m\u001b[43m \u001b[49m\u001b[43mstep\u001b[49m\u001b[43m=\u001b[49m\u001b[38;5;28;43mself\u001b[39;49m\u001b[43m.\u001b[49m\u001b[43mstep\u001b[49m\u001b[43m)\u001b[49m\n\u001b[32m     34\u001b[39m \u001b[38;5;28;01mreturn\u001b[39;00m loss\n",
            "\u001b[36mFile \u001b[39m\u001b[32m~/.pyenv/versions/recap/lib/python3.11/site-packages/wandb/sdk/wandb_run.py:406\u001b[39m, in \u001b[36m_log_to_run.<locals>.wrapper\u001b[39m\u001b[34m(self, *args, **kwargs)\u001b[39m\n\u001b[32m    403\u001b[39m     run_id = \u001b[38;5;28mself\u001b[39m._attach_id\n\u001b[32m    405\u001b[39m \u001b[38;5;28;01mwith\u001b[39;00m wb_logging.log_to_run(run_id):\n\u001b[32m--> \u001b[39m\u001b[32m406\u001b[39m     \u001b[38;5;28;01mreturn\u001b[39;00m \u001b[43mfunc\u001b[49m\u001b[43m(\u001b[49m\u001b[38;5;28;43mself\u001b[39;49m\u001b[43m,\u001b[49m\u001b[43m \u001b[49m\u001b[43m*\u001b[49m\u001b[43margs\u001b[49m\u001b[43m,\u001b[49m\u001b[43m \u001b[49m\u001b[43m*\u001b[49m\u001b[43m*\u001b[49m\u001b[43mkwargs\u001b[49m\u001b[43m)\u001b[49m\n",
            "\u001b[36mFile \u001b[39m\u001b[32m~/.pyenv/versions/recap/lib/python3.11/site-packages/wandb/sdk/wandb_run.py:503\u001b[39m, in \u001b[36m_noop_if_forked_with_no_service.<locals>.wrapper\u001b[39m\u001b[34m(self, *args, **kwargs)\u001b[39m\n\u001b[32m    500\u001b[39m init_pid = \u001b[38;5;28mself\u001b[39m._init_pid\n\u001b[32m    502\u001b[39m \u001b[38;5;28;01mif\u001b[39;00m is_using_service \u001b[38;5;129;01mor\u001b[39;00m init_pid == os.getpid():\n\u001b[32m--> \u001b[39m\u001b[32m503\u001b[39m     \u001b[38;5;28;01mreturn\u001b[39;00m \u001b[43mfunc\u001b[49m\u001b[43m(\u001b[49m\u001b[38;5;28;43mself\u001b[39;49m\u001b[43m,\u001b[49m\u001b[43m \u001b[49m\u001b[43m*\u001b[49m\u001b[43margs\u001b[49m\u001b[43m,\u001b[49m\u001b[43m \u001b[49m\u001b[43m*\u001b[49m\u001b[43m*\u001b[49m\u001b[43mkwargs\u001b[49m\u001b[43m)\u001b[49m\n\u001b[32m    505\u001b[39m message = (\n\u001b[32m    506\u001b[39m     \u001b[33mf\u001b[39m\u001b[33m\"\u001b[39m\u001b[33m`\u001b[39m\u001b[38;5;132;01m{\u001b[39;00mfunc.\u001b[34m__name__\u001b[39m\u001b[38;5;132;01m}\u001b[39;00m\u001b[33m` ignored (called from pid=\u001b[39m\u001b[38;5;132;01m{\u001b[39;00mos.getpid()\u001b[38;5;132;01m}\u001b[39;00m\u001b[33m,\u001b[39m\u001b[33m\"\u001b[39m\n\u001b[32m    507\u001b[39m     \u001b[33mf\u001b[39m\u001b[33m\"\u001b[39m\u001b[33m `init` called from pid=\u001b[39m\u001b[38;5;132;01m{\u001b[39;00minit_pid\u001b[38;5;132;01m}\u001b[39;00m\u001b[33m).\u001b[39m\u001b[33m\"\u001b[39m\n\u001b[32m    508\u001b[39m     \u001b[33mf\u001b[39m\u001b[33m\"\u001b[39m\u001b[33m See: \u001b[39m\u001b[38;5;132;01m{\u001b[39;00murl_registry.url(\u001b[33m'\u001b[39m\u001b[33mmultiprocess\u001b[39m\u001b[33m'\u001b[39m)\u001b[38;5;132;01m}\u001b[39;00m\u001b[33m\"\u001b[39m\n\u001b[32m    509\u001b[39m )\n\u001b[32m    511\u001b[39m \u001b[38;5;66;03m# This attribute may not exist because it is not included in the run's\u001b[39;00m\n\u001b[32m    512\u001b[39m \u001b[38;5;66;03m# pickled state.\u001b[39;00m\n",
            "\u001b[36mFile \u001b[39m\u001b[32m~/.pyenv/versions/recap/lib/python3.11/site-packages/wandb/sdk/wandb_run.py:464\u001b[39m, in \u001b[36m_raise_if_finished.<locals>.wrapper_fn\u001b[39m\u001b[34m(self, *args, **kwargs)\u001b[39m\n\u001b[32m    461\u001b[39m \u001b[38;5;129m@functools\u001b[39m.wraps(func)\n\u001b[32m    462\u001b[39m \u001b[38;5;28;01mdef\u001b[39;00m\u001b[38;5;250m \u001b[39m\u001b[34mwrapper_fn\u001b[39m(\u001b[38;5;28mself\u001b[39m: Run, *args, **kwargs) -> _T:\n\u001b[32m    463\u001b[39m     \u001b[38;5;28;01mif\u001b[39;00m \u001b[38;5;129;01mnot\u001b[39;00m \u001b[38;5;28mgetattr\u001b[39m(\u001b[38;5;28mself\u001b[39m, \u001b[33m\"\u001b[39m\u001b[33m_is_finished\u001b[39m\u001b[33m\"\u001b[39m, \u001b[38;5;28;01mFalse\u001b[39;00m):\n\u001b[32m--> \u001b[39m\u001b[32m464\u001b[39m         \u001b[38;5;28;01mreturn\u001b[39;00m \u001b[43mfunc\u001b[49m\u001b[43m(\u001b[49m\u001b[38;5;28;43mself\u001b[39;49m\u001b[43m,\u001b[49m\u001b[43m \u001b[49m\u001b[43m*\u001b[49m\u001b[43margs\u001b[49m\u001b[43m,\u001b[49m\u001b[43m \u001b[49m\u001b[43m*\u001b[49m\u001b[43m*\u001b[49m\u001b[43mkwargs\u001b[49m\u001b[43m)\u001b[49m\n\u001b[32m    466\u001b[39m     message = (\n\u001b[32m    467\u001b[39m         \u001b[33mf\u001b[39m\u001b[33m\"\u001b[39m\u001b[33mRun (\u001b[39m\u001b[38;5;132;01m{\u001b[39;00m\u001b[38;5;28mself\u001b[39m.id\u001b[38;5;132;01m}\u001b[39;00m\u001b[33m) is finished. The call to\u001b[39m\u001b[33m\"\u001b[39m\n\u001b[32m    468\u001b[39m         \u001b[33mf\u001b[39m\u001b[33m\"\u001b[39m\u001b[33m `\u001b[39m\u001b[38;5;132;01m{\u001b[39;00mfunc.\u001b[34m__name__\u001b[39m\u001b[38;5;132;01m}\u001b[39;00m\u001b[33m` will be ignored.\u001b[39m\u001b[33m\"\u001b[39m\n\u001b[32m    469\u001b[39m         \u001b[33mf\u001b[39m\u001b[33m\"\u001b[39m\u001b[33m Please make sure that you are using an active run.\u001b[39m\u001b[33m\"\u001b[39m\n\u001b[32m    470\u001b[39m     )\n\u001b[32m    472\u001b[39m     \u001b[38;5;28;01mraise\u001b[39;00m UsageError(message)\n",
            "\u001b[36mFile \u001b[39m\u001b[32m~/.pyenv/versions/recap/lib/python3.11/site-packages/wandb/sdk/wandb_run.py:451\u001b[39m, in \u001b[36m_attach.<locals>.wrapper\u001b[39m\u001b[34m(self, *args, **kwargs)\u001b[39m\n\u001b[32m    448\u001b[39m     \u001b[38;5;28;01mfinally\u001b[39;00m:\n\u001b[32m    449\u001b[39m         _is_attaching = \u001b[33m\"\u001b[39m\u001b[33m\"\u001b[39m\n\u001b[32m--> \u001b[39m\u001b[32m451\u001b[39m \u001b[38;5;28;01mreturn\u001b[39;00m \u001b[43mfunc\u001b[49m\u001b[43m(\u001b[49m\u001b[38;5;28;43mself\u001b[39;49m\u001b[43m,\u001b[49m\u001b[43m \u001b[49m\u001b[43m*\u001b[49m\u001b[43margs\u001b[49m\u001b[43m,\u001b[49m\u001b[43m \u001b[49m\u001b[43m*\u001b[49m\u001b[43m*\u001b[49m\u001b[43mkwargs\u001b[49m\u001b[43m)\u001b[49m\n",
            "\u001b[36mFile \u001b[39m\u001b[32m~/.pyenv/versions/recap/lib/python3.11/site-packages/wandb/sdk/wandb_run.py:2071\u001b[39m, in \u001b[36mRun.log\u001b[39m\u001b[34m(self, data, step, commit, sync)\u001b[39m\n\u001b[32m   2064\u001b[39m \u001b[38;5;28;01mif\u001b[39;00m \u001b[38;5;28mself\u001b[39m._settings._shared \u001b[38;5;129;01mand\u001b[39;00m step \u001b[38;5;129;01mis\u001b[39;00m \u001b[38;5;129;01mnot\u001b[39;00m \u001b[38;5;28;01mNone\u001b[39;00m:\n\u001b[32m   2065\u001b[39m     wandb.termwarn(\n\u001b[32m   2066\u001b[39m         \u001b[33m\"\u001b[39m\u001b[33mIn shared mode, the use of `wandb.log` with the step argument is not supported \u001b[39m\u001b[33m\"\u001b[39m\n\u001b[32m   2067\u001b[39m         \u001b[33mf\u001b[39m\u001b[33m\"\u001b[39m\u001b[33mand will be ignored. Please refer to \u001b[39m\u001b[38;5;132;01m{\u001b[39;00murl_registry.url(\u001b[33m'\u001b[39m\u001b[33mdefine-metric\u001b[39m\u001b[33m'\u001b[39m)\u001b[38;5;132;01m}\u001b[39;00m\u001b[33m \u001b[39m\u001b[33m\"\u001b[39m\n\u001b[32m   2068\u001b[39m         \u001b[33m\"\u001b[39m\u001b[33mon how to customize your x-axis.\u001b[39m\u001b[33m\"\u001b[39m,\n\u001b[32m   2069\u001b[39m         repeat=\u001b[38;5;28;01mFalse\u001b[39;00m,\n\u001b[32m   2070\u001b[39m     )\n\u001b[32m-> \u001b[39m\u001b[32m2071\u001b[39m \u001b[38;5;28;43mself\u001b[39;49m\u001b[43m.\u001b[49m\u001b[43m_log\u001b[49m\u001b[43m(\u001b[49m\u001b[43mdata\u001b[49m\u001b[43m=\u001b[49m\u001b[43mdata\u001b[49m\u001b[43m,\u001b[49m\u001b[43m \u001b[49m\u001b[43mstep\u001b[49m\u001b[43m=\u001b[49m\u001b[43mstep\u001b[49m\u001b[43m,\u001b[49m\u001b[43m \u001b[49m\u001b[43mcommit\u001b[49m\u001b[43m=\u001b[49m\u001b[43mcommit\u001b[49m\u001b[43m)\u001b[49m\n",
            "\u001b[36mFile \u001b[39m\u001b[32m~/.pyenv/versions/recap/lib/python3.11/site-packages/wandb/sdk/wandb_run.py:1783\u001b[39m, in \u001b[36mRun._log\u001b[39m\u001b[34m(self, data, step, commit)\u001b[39m\n\u001b[32m   1780\u001b[39m \u001b[38;5;28;01mif\u001b[39;00m \u001b[38;5;28many\u001b[39m(\u001b[38;5;129;01mnot\u001b[39;00m \u001b[38;5;28misinstance\u001b[39m(key, \u001b[38;5;28mstr\u001b[39m) \u001b[38;5;28;01mfor\u001b[39;00m key \u001b[38;5;129;01min\u001b[39;00m data.keys()):\n\u001b[32m   1781\u001b[39m     \u001b[38;5;28;01mraise\u001b[39;00m \u001b[38;5;167;01mValueError\u001b[39;00m(\u001b[33m\"\u001b[39m\u001b[33mKey values passed to `wandb.log` must be strings.\u001b[39m\u001b[33m\"\u001b[39m)\n\u001b[32m-> \u001b[39m\u001b[32m1783\u001b[39m \u001b[38;5;28;43mself\u001b[39;49m\u001b[43m.\u001b[49m\u001b[43m_partial_history_callback\u001b[49m\u001b[43m(\u001b[49m\u001b[43mdata\u001b[49m\u001b[43m,\u001b[49m\u001b[43m \u001b[49m\u001b[43mstep\u001b[49m\u001b[43m,\u001b[49m\u001b[43m \u001b[49m\u001b[43mcommit\u001b[49m\u001b[43m)\u001b[49m\n\u001b[32m   1785\u001b[39m \u001b[38;5;28;01mif\u001b[39;00m step \u001b[38;5;129;01mis\u001b[39;00m \u001b[38;5;129;01mnot\u001b[39;00m \u001b[38;5;28;01mNone\u001b[39;00m:\n\u001b[32m   1786\u001b[39m     \u001b[38;5;28;01mif\u001b[39;00m os.getpid() != \u001b[38;5;28mself\u001b[39m._init_pid \u001b[38;5;129;01mor\u001b[39;00m \u001b[38;5;28mself\u001b[39m._is_attached:\n",
            "\u001b[36mFile \u001b[39m\u001b[32m~/.pyenv/versions/recap/lib/python3.11/site-packages/wandb/sdk/wandb_run.py:406\u001b[39m, in \u001b[36m_log_to_run.<locals>.wrapper\u001b[39m\u001b[34m(self, *args, **kwargs)\u001b[39m\n\u001b[32m    403\u001b[39m     run_id = \u001b[38;5;28mself\u001b[39m._attach_id\n\u001b[32m    405\u001b[39m \u001b[38;5;28;01mwith\u001b[39;00m wb_logging.log_to_run(run_id):\n\u001b[32m--> \u001b[39m\u001b[32m406\u001b[39m     \u001b[38;5;28;01mreturn\u001b[39;00m \u001b[43mfunc\u001b[49m\u001b[43m(\u001b[49m\u001b[38;5;28;43mself\u001b[39;49m\u001b[43m,\u001b[49m\u001b[43m \u001b[49m\u001b[43m*\u001b[49m\u001b[43margs\u001b[49m\u001b[43m,\u001b[49m\u001b[43m \u001b[49m\u001b[43m*\u001b[49m\u001b[43m*\u001b[49m\u001b[43mkwargs\u001b[49m\u001b[43m)\u001b[49m\n",
            "\u001b[36mFile \u001b[39m\u001b[32m~/.pyenv/versions/recap/lib/python3.11/site-packages/wandb/sdk/wandb_run.py:1610\u001b[39m, in \u001b[36mRun._partial_history_callback\u001b[39m\u001b[34m(self, data, step, commit)\u001b[39m\n\u001b[32m   1607\u001b[39m data = \u001b[38;5;28mself\u001b[39m._serialize_custom_charts(data)\n\u001b[32m   1609\u001b[39m not_using_tensorboard = \u001b[38;5;28mlen\u001b[39m(wandb.patched[\u001b[33m\"\u001b[39m\u001b[33mtensorboard\u001b[39m\u001b[33m\"\u001b[39m]) == \u001b[32m0\u001b[39m\n\u001b[32m-> \u001b[39m\u001b[32m1610\u001b[39m \u001b[38;5;28;43mself\u001b[39;49m\u001b[43m.\u001b[49m\u001b[43m_backend\u001b[49m\u001b[43m.\u001b[49m\u001b[43minterface\u001b[49m\u001b[43m.\u001b[49m\u001b[43mpublish_partial_history\u001b[49m\u001b[43m(\u001b[49m\n\u001b[32m   1611\u001b[39m \u001b[43m    \u001b[49m\u001b[38;5;28;43mself\u001b[39;49m\u001b[43m,\u001b[49m\n\u001b[32m   1612\u001b[39m \u001b[43m    \u001b[49m\u001b[43mdata\u001b[49m\u001b[43m,\u001b[49m\n\u001b[32m   1613\u001b[39m \u001b[43m    \u001b[49m\u001b[43muser_step\u001b[49m\u001b[43m=\u001b[49m\u001b[38;5;28;43mself\u001b[39;49m\u001b[43m.\u001b[49m\u001b[43m_step\u001b[49m\u001b[43m,\u001b[49m\n\u001b[32m   1614\u001b[39m \u001b[43m    \u001b[49m\u001b[43mstep\u001b[49m\u001b[43m=\u001b[49m\u001b[43mstep\u001b[49m\u001b[43m,\u001b[49m\n\u001b[32m   1615\u001b[39m \u001b[43m    \u001b[49m\u001b[43mflush\u001b[49m\u001b[43m=\u001b[49m\u001b[43mcommit\u001b[49m\u001b[43m,\u001b[49m\n\u001b[32m   1616\u001b[39m \u001b[43m    \u001b[49m\u001b[43mpublish_step\u001b[49m\u001b[43m=\u001b[49m\u001b[43mnot_using_tensorboard\u001b[49m\u001b[43m,\u001b[49m\n\u001b[32m   1617\u001b[39m \u001b[43m\u001b[49m\u001b[43m)\u001b[49m\n",
            "\u001b[36mFile \u001b[39m\u001b[32m~/.pyenv/versions/recap/lib/python3.11/site-packages/wandb/sdk/interface/interface.py:685\u001b[39m, in \u001b[36mInterfaceBase.publish_partial_history\u001b[39m\u001b[34m(self, run, data, user_step, step, flush, publish_step)\u001b[39m\n\u001b[32m    683\u001b[39m     item = partial_history.item.add()\n\u001b[32m    684\u001b[39m     item.key = k\n\u001b[32m--> \u001b[39m\u001b[32m685\u001b[39m     item.value_json = \u001b[43mjson_dumps_safer_history\u001b[49m\u001b[43m(\u001b[49m\u001b[43mv\u001b[49m\u001b[43m)\u001b[49m\n\u001b[32m    687\u001b[39m \u001b[38;5;28;01mif\u001b[39;00m publish_step \u001b[38;5;129;01mand\u001b[39;00m step \u001b[38;5;129;01mis\u001b[39;00m \u001b[38;5;129;01mnot\u001b[39;00m \u001b[38;5;28;01mNone\u001b[39;00m:\n\u001b[32m    688\u001b[39m     partial_history.step.num = step\n",
            "\u001b[36mFile \u001b[39m\u001b[32m~/.pyenv/versions/recap/lib/python3.11/site-packages/wandb/util.py:828\u001b[39m, in \u001b[36mjson_dumps_safer_history\u001b[39m\u001b[34m(obj, **kwargs)\u001b[39m\n\u001b[32m    826\u001b[39m \u001b[38;5;28;01mdef\u001b[39;00m\u001b[38;5;250m \u001b[39m\u001b[34mjson_dumps_safer_history\u001b[39m(obj: Any, **kwargs: Any) -> \u001b[38;5;28mstr\u001b[39m:\n\u001b[32m    827\u001b[39m \u001b[38;5;250m    \u001b[39m\u001b[33;03m\"\"\"Convert obj to json, with some extra encodable types, including histograms.\"\"\"\u001b[39;00m\n\u001b[32m--> \u001b[39m\u001b[32m828\u001b[39m     \u001b[38;5;28;01mreturn\u001b[39;00m \u001b[43mdumps\u001b[49m\u001b[43m(\u001b[49m\u001b[43mobj\u001b[49m\u001b[43m,\u001b[49m\u001b[43m \u001b[49m\u001b[38;5;28;43mcls\u001b[39;49m\u001b[43m=\u001b[49m\u001b[43mWandBHistoryJSONEncoder\u001b[49m\u001b[43m,\u001b[49m\u001b[43m \u001b[49m\u001b[43m*\u001b[49m\u001b[43m*\u001b[49m\u001b[43mkwargs\u001b[49m\u001b[43m)\u001b[49m\n",
            "\u001b[36mFile \u001b[39m\u001b[32m~/.pyenv/versions/3.11.9/lib/python3.11/json/__init__.py:238\u001b[39m, in \u001b[36mdumps\u001b[39m\u001b[34m(obj, skipkeys, ensure_ascii, check_circular, allow_nan, cls, indent, separators, default, sort_keys, **kw)\u001b[39m\n\u001b[32m    232\u001b[39m \u001b[38;5;28;01mif\u001b[39;00m \u001b[38;5;28mcls\u001b[39m \u001b[38;5;129;01mis\u001b[39;00m \u001b[38;5;28;01mNone\u001b[39;00m:\n\u001b[32m    233\u001b[39m     \u001b[38;5;28mcls\u001b[39m = JSONEncoder\n\u001b[32m    234\u001b[39m \u001b[38;5;28;01mreturn\u001b[39;00m \u001b[38;5;28;43mcls\u001b[39;49m\u001b[43m(\u001b[49m\n\u001b[32m    235\u001b[39m \u001b[43m    \u001b[49m\u001b[43mskipkeys\u001b[49m\u001b[43m=\u001b[49m\u001b[43mskipkeys\u001b[49m\u001b[43m,\u001b[49m\u001b[43m \u001b[49m\u001b[43mensure_ascii\u001b[49m\u001b[43m=\u001b[49m\u001b[43mensure_ascii\u001b[49m\u001b[43m,\u001b[49m\n\u001b[32m    236\u001b[39m \u001b[43m    \u001b[49m\u001b[43mcheck_circular\u001b[49m\u001b[43m=\u001b[49m\u001b[43mcheck_circular\u001b[49m\u001b[43m,\u001b[49m\u001b[43m \u001b[49m\u001b[43mallow_nan\u001b[49m\u001b[43m=\u001b[49m\u001b[43mallow_nan\u001b[49m\u001b[43m,\u001b[49m\u001b[43m \u001b[49m\u001b[43mindent\u001b[49m\u001b[43m=\u001b[49m\u001b[43mindent\u001b[49m\u001b[43m,\u001b[49m\n\u001b[32m    237\u001b[39m \u001b[43m    \u001b[49m\u001b[43mseparators\u001b[49m\u001b[43m=\u001b[49m\u001b[43mseparators\u001b[49m\u001b[43m,\u001b[49m\u001b[43m \u001b[49m\u001b[43mdefault\u001b[49m\u001b[43m=\u001b[49m\u001b[43mdefault\u001b[49m\u001b[43m,\u001b[49m\u001b[43m \u001b[49m\u001b[43msort_keys\u001b[49m\u001b[43m=\u001b[49m\u001b[43msort_keys\u001b[49m\u001b[43m,\u001b[49m\n\u001b[32m--> \u001b[39m\u001b[32m238\u001b[39m \u001b[43m    \u001b[49m\u001b[43m*\u001b[49m\u001b[43m*\u001b[49m\u001b[43mkw\u001b[49m\u001b[43m)\u001b[49m\u001b[43m.\u001b[49m\u001b[43mencode\u001b[49m\u001b[43m(\u001b[49m\u001b[43mobj\u001b[49m\u001b[43m)\u001b[49m\n",
            "\u001b[36mFile \u001b[39m\u001b[32m~/.pyenv/versions/3.11.9/lib/python3.11/json/encoder.py:200\u001b[39m, in \u001b[36mJSONEncoder.encode\u001b[39m\u001b[34m(self, o)\u001b[39m\n\u001b[32m    196\u001b[39m         \u001b[38;5;28;01mreturn\u001b[39;00m encode_basestring(o)\n\u001b[32m    197\u001b[39m \u001b[38;5;66;03m# This doesn't pass the iterator directly to ''.join() because the\u001b[39;00m\n\u001b[32m    198\u001b[39m \u001b[38;5;66;03m# exceptions aren't as detailed.  The list call should be roughly\u001b[39;00m\n\u001b[32m    199\u001b[39m \u001b[38;5;66;03m# equivalent to the PySequence_Fast that ''.join() would do.\u001b[39;00m\n\u001b[32m--> \u001b[39m\u001b[32m200\u001b[39m chunks = \u001b[38;5;28;43mself\u001b[39;49m\u001b[43m.\u001b[49m\u001b[43miterencode\u001b[49m\u001b[43m(\u001b[49m\u001b[43mo\u001b[49m\u001b[43m,\u001b[49m\u001b[43m \u001b[49m\u001b[43m_one_shot\u001b[49m\u001b[43m=\u001b[49m\u001b[38;5;28;43;01mTrue\u001b[39;49;00m\u001b[43m)\u001b[49m\n\u001b[32m    201\u001b[39m \u001b[38;5;28;01mif\u001b[39;00m \u001b[38;5;129;01mnot\u001b[39;00m \u001b[38;5;28misinstance\u001b[39m(chunks, (\u001b[38;5;28mlist\u001b[39m, \u001b[38;5;28mtuple\u001b[39m)):\n\u001b[32m    202\u001b[39m     chunks = \u001b[38;5;28mlist\u001b[39m(chunks)\n",
            "\u001b[36mFile \u001b[39m\u001b[32m~/.pyenv/versions/3.11.9/lib/python3.11/json/encoder.py:258\u001b[39m, in \u001b[36mJSONEncoder.iterencode\u001b[39m\u001b[34m(self, o, _one_shot)\u001b[39m\n\u001b[32m    253\u001b[39m \u001b[38;5;28;01melse\u001b[39;00m:\n\u001b[32m    254\u001b[39m     _iterencode = _make_iterencode(\n\u001b[32m    255\u001b[39m         markers, \u001b[38;5;28mself\u001b[39m.default, _encoder, \u001b[38;5;28mself\u001b[39m.indent, floatstr,\n\u001b[32m    256\u001b[39m         \u001b[38;5;28mself\u001b[39m.key_separator, \u001b[38;5;28mself\u001b[39m.item_separator, \u001b[38;5;28mself\u001b[39m.sort_keys,\n\u001b[32m    257\u001b[39m         \u001b[38;5;28mself\u001b[39m.skipkeys, _one_shot)\n\u001b[32m--> \u001b[39m\u001b[32m258\u001b[39m \u001b[38;5;28;01mreturn\u001b[39;00m \u001b[43m_iterencode\u001b[49m\u001b[43m(\u001b[49m\u001b[43mo\u001b[49m\u001b[43m,\u001b[49m\u001b[43m \u001b[49m\u001b[32;43m0\u001b[39;49m\u001b[43m)\u001b[49m\n",
            "\u001b[36mFile \u001b[39m\u001b[32m~/.pyenv/versions/recap/lib/python3.11/site-packages/wandb/util.py:787\u001b[39m, in \u001b[36mWandBHistoryJSONEncoder.default\u001b[39m\u001b[34m(self, obj)\u001b[39m\n\u001b[32m    786\u001b[39m \u001b[38;5;28;01mdef\u001b[39;00m\u001b[38;5;250m \u001b[39m\u001b[34mdefault\u001b[39m(\u001b[38;5;28mself\u001b[39m, obj: Any) -> Any:\n\u001b[32m--> \u001b[39m\u001b[32m787\u001b[39m     obj, converted = \u001b[43mjson_friendly\u001b[49m\u001b[43m(\u001b[49m\u001b[43mobj\u001b[49m\u001b[43m)\u001b[49m\n\u001b[32m    788\u001b[39m     obj, compressed = maybe_compress_history(obj)\n\u001b[32m    789\u001b[39m     \u001b[38;5;28;01mif\u001b[39;00m converted:\n",
            "\u001b[36mFile \u001b[39m\u001b[32m~/.pyenv/versions/recap/lib/python3.11/site-packages/wandb/util.py:597\u001b[39m, in \u001b[36mjson_friendly\u001b[39m\u001b[34m(obj)\u001b[39m\n\u001b[32m    595\u001b[39m         obj = obj.cpu().detach().numpy()\n\u001b[32m    596\u001b[39m     \u001b[38;5;28;01melse\u001b[39;00m:\n\u001b[32m--> \u001b[39m\u001b[32m597\u001b[39m         \u001b[38;5;28;01mreturn\u001b[39;00m \u001b[43mobj\u001b[49m\u001b[43m.\u001b[49m\u001b[43mitem\u001b[49m\u001b[43m(\u001b[49m\u001b[43m)\u001b[49m, \u001b[38;5;28;01mTrue\u001b[39;00m\n\u001b[32m    598\u001b[39m \u001b[38;5;28;01melif\u001b[39;00m is_jax_tensor_typename(typename):\n\u001b[32m    599\u001b[39m     obj = get_jax_tensor(obj)\n",
            "\u001b[31mKeyboardInterrupt\u001b[39m: "
          ]
        }
      ],
      "source": [
        "class TransformerTrainer:\n",
        "    def __init__(self, args: TransformerTrainingArgs, model: DemoTransformer):\n",
        "        super().__init__()\n",
        "        self.model = model\n",
        "        self.args = args\n",
        "        self.sampler = solutions.TransformerSampler(self.model, reference_gpt2.tokenizer)\n",
        "        self.optimizer = t.optim.AdamW(self.model.parameters(), lr=args.lr, weight_decay=args.weight_decay)\n",
        "        self.step = 0\n",
        "\n",
        "        self.train_loader = DataLoader(\n",
        "            dataset_dict[\"train\"], batch_size=args.batch_size, shuffle=True, num_workers=4, pin_memory=True\n",
        "        )\n",
        "        self.test_loader = DataLoader(\n",
        "            dataset_dict[\"test\"], batch_size=args.batch_size, shuffle=False, num_workers=4, pin_memory=True\n",
        "        )\n",
        "\n",
        "    def training_step(self, batch: dict[str, Int[Tensor, \"batch seq\"]]) -> Float[Tensor, \"\"]:\n",
        "        \"\"\"\n",
        "        Calculates the loss on the tokens in the batch, performs a gradient update step, and logs the loss.\n",
        "\n",
        "        Remember that `batch` is a dictionary with the single key 'tokens'.\n",
        "        \"\"\"\n",
        "        # raise NotImplementedError()\n",
        "\n",
        "        self.optimizer.zero_grad()\n",
        "        tokens = batch[\"tokens\"].to(device)\n",
        "        logits = self.model(tokens)\n",
        "        pred_log_probs = get_log_probs(logits, tokens)\n",
        "        loss = -pred_log_probs.mean()\n",
        "        loss.backward()\n",
        "        self.optimizer.step()\n",
        "        self.step += 1\n",
        "        wandb.log({\"train_loss\": loss}, step=self.step)\n",
        "        return loss\n",
        "\n",
        "    @t.inference_mode()\n",
        "    def evaluate(self) -> float:\n",
        "        \"\"\"\n",
        "        Evaluate the model on the test set and return the accuracy.\n",
        "        \"\"\"\n",
        "        self.model.eval()\n",
        "        self.model.eval()\n",
        "        total_correct, total_samples = 0, 0\n",
        "\n",
        "        for batch in tqdm(self.test_loader, desc=\"Evaluating\"):\n",
        "            tokens = batch[\"tokens\"].to(device)\n",
        "            logits: Tensor = self.model(tokens)[:, :-1]\n",
        "            predicted_tokens = logits.argmax(dim=-1)\n",
        "            total_correct += (predicted_tokens == tokens[:, 1:]).sum().item()\n",
        "            total_samples += tokens.size(0) * (tokens.size(1) - 1)\n",
        "\n",
        "        accuracy = total_correct / total_samples\n",
        "        wandb.log({\"accuracy\": accuracy}, step=self.step)\n",
        "        self.model.train()\n",
        "        return accuracy\n",
        "\n",
        "    def train(self):\n",
        "        \"\"\"\n",
        "        Trains the model, for `self.args.epochs` epochs. Also handles wandb initialisation, and early stopping\n",
        "        for each epoch at `self.args.max_steps_per_epoch` steps.\n",
        "        \"\"\"\n",
        "        wandb.init(project=self.args.wandb_project, name=self.args.wandb_name, config=self.args)\n",
        "        accuracy = np.nan\n",
        "\n",
        "        progress_bar = tqdm(total=self.args.max_steps_per_epoch * self.args.epochs)\n",
        "\n",
        "        for epoch in range(self.args.epochs):\n",
        "            for i, batch in enumerate(self.train_loader):\n",
        "                loss = self.training_step(batch)\n",
        "                progress_bar.update()\n",
        "                progress_bar.set_description(f\"Epoch {epoch + 1}, loss: {loss:.3f}, accuracy: {accuracy:.3f}\")\n",
        "                if i >= self.args.max_steps_per_epoch:\n",
        "                    break\n",
        "\n",
        "            accuracy = self.evaluate()\n",
        "            sample_text = self.sampler.sample(\"Once upon a time\", max_tokens_generated=50)\n",
        "            print(sample_text)\n",
        "\n",
        "        wandb.finish()\n",
        "\n",
        "\n",
        "# See the full run here: https://api.wandb.ai/links/dquarel/nrxuwnv7\n",
        "model = DemoTransformer(model_cfg).to(device)\n",
        "args = TransformerTrainingArgs()\n",
        "trainer = TransformerTrainer(args, model)\n",
        "trainer.train()"
      ]
    },
    {
      "cell_type": "markdown",
      "metadata": {
        "id": "Ji7vQfbjrjyz"
      },
      "source": [
        "<details><summary>Solution</summary>\n",
        "\n",
        "```python\n",
        "class TransformerTrainer:\n",
        "    def __init__(self, args: TransformerTrainingArgs, model: DemoTransformer):\n",
        "        super().__init__()\n",
        "        self.model = model\n",
        "        self.args = args\n",
        "        self.sampler = TransformerSampler(self.model, reference_gpt2.tokenizer)\n",
        "        self.optimizer = t.optim.AdamW(self.model.parameters(), lr=args.lr, weight_decay=args.weight_decay)\n",
        "        self.step = 0\n",
        "\n",
        "        self.train_loader = DataLoader(\n",
        "            dataset_dict[\"train\"], batch_size=args.batch_size, shuffle=True, num_workers=4, pin_memory=True\n",
        "        )\n",
        "        self.test_loader = DataLoader(\n",
        "            dataset_dict[\"test\"], batch_size=args.batch_size, shuffle=False, num_workers=4, pin_memory=True\n",
        "        )\n",
        "\n",
        "    def training_step(self, batch: dict[str, Int[Tensor, \"batch seq\"]]) -> Float[Tensor, \"\"]:\n",
        "        \"\"\"\n",
        "        Calculates the loss on the tokens in the batch, performs a gradient update step, and logs the loss.\n",
        "\n",
        "        Remember that `batch` is a dictionary with the single key 'tokens'.\n",
        "        \"\"\"\n",
        "        tokens = batch[\"tokens\"].to(device)\n",
        "        logits = self.model(tokens)\n",
        "        loss = -get_log_probs(logits, tokens).mean()\n",
        "        loss.backward()\n",
        "        self.optimizer.step()\n",
        "        self.optimizer.zero_grad()\n",
        "        self.step += 1\n",
        "        wandb.log({\"train_loss\": loss}, step=self.step)\n",
        "        return loss\n",
        "\n",
        "    @t.inference_mode()\n",
        "    def evaluate(self) -> float:\n",
        "        \"\"\"\n",
        "        Evaluate the model on the test set and return the accuracy.\n",
        "        \"\"\"\n",
        "        self.model.eval()\n",
        "        total_correct, total_samples = 0, 0\n",
        "\n",
        "        for batch in tqdm(self.test_loader, desc=\"Evaluating\"):\n",
        "            tokens = batch[\"tokens\"].to(device)\n",
        "            logits: Tensor = self.model(tokens)[:, :-1]\n",
        "            predicted_tokens = logits.argmax(dim=-1)\n",
        "            total_correct += (predicted_tokens == tokens[:, 1:]).sum().item()\n",
        "            total_samples += tokens.size(0) * (tokens.size(1) - 1)\n",
        "\n",
        "        accuracy = total_correct / total_samples\n",
        "        wandb.log({\"accuracy\": accuracy}, step=self.step)\n",
        "        self.model.train()\n",
        "        return accuracy\n",
        "\n",
        "    def train(self):\n",
        "        \"\"\"\n",
        "        Trains the model, for `self.args.epochs` epochs. Also handles wandb initialisation, and early stopping\n",
        "        for each epoch at `self.args.max_steps_per_epoch` steps.\n",
        "        \"\"\"\n",
        "        wandb.init(project=self.args.wandb_project, name=self.args.wandb_name, config=self.args)\n",
        "        accuracy = np.nan\n",
        "\n",
        "        progress_bar = tqdm(total=self.args.max_steps_per_epoch * self.args.epochs)\n",
        "\n",
        "        for epoch in range(self.args.epochs):\n",
        "            for i, batch in enumerate(self.train_loader):\n",
        "                loss = self.training_step(batch)\n",
        "                progress_bar.update()\n",
        "                progress_bar.set_description(f\"Epoch {epoch + 1}, loss: {loss:.3f}, accuracy: {accuracy:.3f}\")\n",
        "                if i >= self.args.max_steps_per_epoch:\n",
        "                    break\n",
        "\n",
        "            accuracy = self.evaluate()\n",
        "            sample_text = self.sampler.sample(\"Once upon a time\", max_tokens_generated=50)\n",
        "            print(sample_text)\n",
        "\n",
        "        wandb.finish()\n",
        "```\n",
        "</details>"
      ]
    },
    {
      "cell_type": "markdown",
      "metadata": {
        "id": "YXu0cJxprjyz"
      },
      "source": [
        "<!-- Note - this section of the course used to use PyTorch Lightning, but this has now been taken out. If you want, you can look at the old version of the training code which used PyTorch Lightning in the dropdown below.\n",
        "\n",
        "<details>\n",
        "<summary>PyTorch Lighting training loop</summary>\n",
        "\n",
        "```python\n",
        "class LitTransformer(pl.LightningModule):\n",
        "\tdef __init__(self, args: TransformerTrainingArgs, model: DemoTransformer, data_loader: DataLoader):\n",
        "\t\tsuper().__init__()\n",
        "\t\tself.model = model\n",
        "\t\tself.cfg = model.cfg\n",
        "\t\tself.args = args\n",
        "\t\tself.data_loader = data_loader\n",
        "\n",
        "\tdef forward(self, tokens: Int[Tensor, \"batch position\"]) -> Float[Tensor, \"batch position d_vocab\"]:\n",
        "\t\tlogits = self.model(tokens)\n",
        "\t\treturn logits\n",
        "\n",
        "\tdef training_step(self, batch: Dict[str, Tensor], batch_idx: int) -> Float[Tensor, \"\"]:\n",
        "\t\t'''\n",
        "\t\tHere you compute and return the training loss and some additional metrics for e.g.\n",
        "\t\tthe progress bar or logger.\n",
        "\t\t'''\n",
        "\t\ttokens = batch[\"tokens\"].to(device)\n",
        "\t\tlogits = self.model(tokens)\n",
        "\t\tloss = -get_log_probs(logits, tokens).mean()\n",
        "\t\tself.log(\"train_loss\", loss)\n",
        "\t\treturn loss\n",
        "\n",
        "\tdef configure_optimizers(self):\n",
        "\t\t'''\n",
        "\t\tChoose what optimizers and learning-rate schedulers to use in your optimization.\n",
        "\t\t'''\n",
        "\t\toptimizer = t.optim.AdamW(self.model.parameters(), lr=self.args.lr, weight_decay=self.args.weight_decay)\n",
        "\t\treturn optimizer\n",
        "\n",
        "\tdef train_dataloader(self):\n",
        "\t\treturn self.data_loader\n",
        "\n",
        "\n",
        "litmodel = LitTransformer(args, model, data_loader)\n",
        "logger = WandbLogger(save_dir=args.log_dir, project=args.log_name, name=args.run_name)\n",
        "\n",
        "trainer = pl.Trainer(\n",
        "    max_epochs=args.max_epochs,\n",
        "    logger=logger,\n",
        "    log_every_n_steps=args.log_every_n_steps\n",
        ")\n",
        "trainer.fit(model=litmodel, train_dataloaders=litmodel.data_loader)\n",
        "wandb.finish()\n",
        "```\n",
        "\n",
        "</details>\n",
        "\n",
        "<details>\n",
        "<summary>Explanation for why PyTorch Lightning is no longer used</summary>\n",
        "\n",
        "TLDR - it provides nice modularization and saving of code, but it abstracts away a lot of the details of training loops, and so isn't very useful for educational purposes. Also, it imposes a lot of structure on how the training loops work without allowing for much flexibility, and lots of the code we'll write later (e.g. linear probes or RL) doesn't fit well into this framework. However, it can be a very useful tool to learn about once you've got the basics down and you're looking to benefit from the suite of extra features it provides.\n",
        "\n",
        "</details> -->\n",
        "\n",
        "When you run the code for the first time, you'll have to login to Weights and Biases, and paste an API key into VSCode. After this is done, your Weights and Biases training run will start. It'll give you a lot of output text, one line of which will look like:\n",
        "\n",
        "```\n",
        "View run at https://wandb.ai/<USERNAME>/<PROJECT-NAME>/runs/<RUN-NAME>\n",
        "```\n",
        "\n",
        "which you can click on to visit the run page.\n",
        "\n",
        "> Note - to see the plots more clearly in Weights and Biases, you can click on the **edit panel** of your plot (the small pencil symbol at the top-right), then move the **smoothing** slider to the right."
      ]
    },
    {
      "cell_type": "markdown",
      "metadata": {
        "id": "jKHFuaINrjy0"
      },
      "source": [
        "### A note on this loss curve (optional)\n",
        "\n",
        "\n",
        "What's up with the shape of our loss curve? It seems like we start at around 10-11, drops down very fast, but then levels out. It turns out, this is all to do with the kinds of algorithms the model learns during training.\n",
        "\n",
        "When it starts out, your model will be outputting random noise, which might look a lot like \"predict each token with approximately uniform probability\", i.e. $Q(x) = 1/d_\\text{vocab}$ for all $x$. This gives us a cross entropy loss of $\\log (d_\\text{vocab})$."
      ]
    },
    {
      "cell_type": "code",
      "execution_count": null,
      "metadata": {
        "id": "f7hEg60Hrjy0"
      },
      "outputs": [],
      "source": [
        "d_vocab = model.cfg.d_vocab\n",
        "\n",
        "print(f\"d_vocab = {d_vocab}\")\n",
        "print(f\"Cross entropy loss on uniform distribution = {math.log(d_vocab):.3f}\")"
      ]
    },
    {
      "cell_type": "markdown",
      "metadata": {
        "id": "iDDj8WoGrjy0"
      },
      "source": [
        "The next thing we might expect the model to learn is the frequencies of words in the english language. After all, small common tokens like `\" and\"` or `\" the\"` might appear much more frequently than others. This would give us an average cross entropy loss of:\n",
        "\n",
        "$$\n",
        "- \\sum_x p_x \\log p_x\n",
        "$$\n",
        "\n",
        "where $p_x$ is the actual frequency of the word in our training data.\n",
        "\n",
        "We can evaluate this quantity as follows:"
      ]
    },
    {
      "cell_type": "code",
      "execution_count": null,
      "metadata": {
        "id": "zf6CybYMrjy0"
      },
      "outputs": [],
      "source": [
        "toks = tokenized_dataset[:][\"tokens\"].flatten()\n",
        "\n",
        "d_vocab = model.cfg.d_vocab\n",
        "freqs = t.bincount(toks, minlength=d_vocab)\n",
        "probs = freqs.float() / freqs.sum()\n",
        "\n",
        "distn = t.distributions.categorical.Categorical(probs=probs)\n",
        "entropy = distn.entropy()\n",
        "\n",
        "print(f\"Entropy of training data = {entropy:.3f}\")"
      ]
    },
    {
      "cell_type": "markdown",
      "metadata": {
        "id": "andly3tNrjy0"
      },
      "source": [
        "After unigram frequencies, the next thing our model usually learns is **bigram frequencies** (i.e. the frequency of pairs of adjacent tokens in the training data). For instance, `\"I\"` and `\" am\"` are common tokens, but their bigram frequency is much higher than it would be if they occurred independently. Bigram frequencies actually take you pretty far, since they also help with:\n",
        "\n",
        "* Some simple grammatical rules (e.g. a full stop being followed by a capitalized word)\n",
        "* Weird quirks of tokenization (e.g. `\" manip\"` being followed by `\"ulative\"`)\n",
        "* Common names (e.g. `\"Barack\"` being followed by `\" Obama\"`)\n",
        "\n",
        "\n",
        "After approximating bigram frequencies, we need to start using smarter techniques, like trigrams (which can only be implemented using attention heads), **induction heads** (which we'll learn a lot more about in the next set of exercises!), and fact memorization or more basic grammar and syntax rules. Marginal improvements start getting harder around this point, leading to a flattening of our loss curve."
      ]
    },
    {
      "cell_type": "markdown",
      "metadata": {
        "id": "Y0sdRlrOrjy0"
      },
      "source": [
        "### Exercise (optional) - log completions\n",
        "\n",
        "> ```yaml\n",
        "> Difficulty: 🔴🔴🔴🔴⚪\n",
        "> Importance: 🔵⚪⚪⚪⚪\n",
        ">\n",
        "> You should spend up to 20-40 minutes on this exercise, if you choose to attempt it.\n",
        "> Note, you might want to come back to this exercise *after* you learn how sampling works.\n",
        "> ```\n",
        "\n",
        "Choose a handful of prompts, and log the model's completions on those sentences. We recommend you do this with a lower frequency than loss is logged (e.g. once every 10-100 batches).\n",
        "\n",
        "The `wandb` syntax for logging text is pretty simple. Firstly, you can just print output as stdout and this is also logged to Weights & Biases (you can find it under the \"Logs\" section of your run). Alternatively, you can log data in the form of a table, and have it appear next to your other charts:\n",
        "\n",
        "```python\n",
        "wandb.log({\"completions_table\": wandb.Table(\n",
        "    data = data,\n",
        "    columns = [\"epoch\", \"step\", \"text\"]\n",
        ")})\n",
        "```\n",
        "\n",
        "where `data` is a list of length-3 lists, with each list containing (epoch, step, text). If you choose this option, we recommend logging the table less frequently than you're sampling from the model, to make sure you're not sending too much data (because unfortunately wandb doesn't have methods to incrementally update the table during logging).\n",
        "\n",
        "If you want to try this before going through the sampling exercises (which are quite long!), you can use the code below to sample output from the model. Note that the `TransformerSampler` object is already in inference mode, so you don't need to worry about this."
      ]
    },
    {
      "cell_type": "code",
      "execution_count": null,
      "metadata": {
        "id": "QsgvLp1Wrjy0"
      },
      "outputs": [],
      "source": [
        "def sampling_fn(model: DemoTransformer, prompt: str) -> str:\n",
        "    sampler = solutions.TransformerSampler(model, reference_gpt2.tokenizer)\n",
        "    output = sampler.sample(prompt, temperature=0.7, top_p=0.95, max_tokens_generated=16)\n",
        "    return output\n",
        "\n",
        "\n",
        "model = DemoTransformer(model_cfg).to(device)\n",
        "\n",
        "# Should be entirely random, because it uses a newly initialized model\n",
        "print(sampling_fn(model, prompt=\"John and Mary went to the\"))"
      ]
    },
    {
      "cell_type": "code",
      "execution_count": null,
      "metadata": {
        "id": "EBVIF4hSrjy0"
      },
      "outputs": [],
      "source": [
        "# YOUR CODE HERE - rewrite the TransformerTrainer.train method, so that it logs completions\n",
        "\n",
        "\n",
        "prompt_list = [\n",
        "    \"Eliezer Shlomo Yudkowsky (born September 11, 1979) is an American decision and artificial intelligence (AI) theorist and writer, best known for\",\n",
        "    \"In a shocking finding, scientist discovered a herd of unicorns living in a remote, previously unexplored valley, in the Andes Mountains. Even more surprising to the researchers was the fact that the unicorns spoke perfect English.\",\n",
        "    \"John and Mary went to the\",\n",
        "]\n",
        "\n",
        "model = DemoTransformer(model_cfg).to(device)\n",
        "args = TransformerTrainingArgsLogText()\n",
        "trainer = TransformerTrainer(args, model)\n",
        "trainer.train(sampling_fn, prompt_list)\n",
        "# Read full report here - https://api.wandb.ai/links/callum-mcdougall/5ex16e5w"
      ]
    },
    {
      "cell_type": "markdown",
      "metadata": {
        "id": "FzyK1k7rrjy0"
      },
      "source": [
        "<details><summary>Solution</summary>\n",
        "\n",
        "```python\n",
        "@dataclass\n",
        "class TransformerTrainingArgsLogText(TransformerTrainingArgs):\n",
        "    text_sample_freq: int = 20\n",
        "    table_log_freq: int = 200\n",
        "\n",
        "    def __post_init__(self):\n",
        "        assert self.table_log_freq >= self.text_sample_freq, (\n",
        "            \"You should log the table less frequently than you add text to it.\"\n",
        "        )\n",
        "\n",
        "\n",
        "def train_log_text(self: TransformerTrainer, sampling_fn: Callable, prompt_list: list[str]):\n",
        "    \"\"\"\n",
        "    Trains the model, for `self.args.epochs` epochs. Also handles wandb initialisation, and early stopping\n",
        "    for each epoch at `self.args.max_steps_per_epoch` steps.\n",
        "\n",
        "    This also takes 2 extra arguments:\n",
        "        sampling_fn: function which takes model & a single prompt (i.e. text string) and returns text string output\n",
        "        prompt_list: list of prompts we'll log output on\n",
        "    \"\"\"\n",
        "    wandb.init(project=self.args.wandb_project, name=self.args.wandb_name, config=self.args)\n",
        "    accuracy = np.nan\n",
        "    progress_bar = tqdm(total=self.args.max_steps_per_epoch * self.args.epochs)\n",
        "\n",
        "    # Create a list for storing data\n",
        "    completions_list = []\n",
        "\n",
        "    for epoch in range(self.args.epochs):\n",
        "        for i, batch in enumerate(self.train_loader()):\n",
        "            loss = self.training_step(batch)\n",
        "            progress_bar.update()\n",
        "            progress_bar.set_description(f\"Epoch {epoch + 1}, loss: {loss:.3f}, accuracy: {accuracy:.3f}\")\n",
        "\n",
        "            # Control the adding of text to the table, and the logging of text\n",
        "            if self.step % self.args.text_sample_freq == 0:\n",
        "                text_completions = [sampling_fn(self.model, prompt) for prompt in prompt_list]\n",
        "                completions_list.append([epoch, self.step, *text_completions])\n",
        "            if self.step % self.args.table_log_freq == 0:\n",
        "                wandb.log(\n",
        "                    {\n",
        "                        \"completions_table\": wandb.Table(\n",
        "                            data=completions_list,\n",
        "                            columns=[\"epoch\", \"step\", *[f\"prompt_{i}\" for i in range(len(prompt_list))]],\n",
        "                        )\n",
        "                    }\n",
        "                )\n",
        "\n",
        "            if i >= self.args.max_steps_per_epoch:\n",
        "                break\n",
        "\n",
        "        accuracy = self.evaluate()\n",
        "\n",
        "    wandb.finish()\n",
        "\n",
        "\n",
        "TransformerTrainer.train = train_log_text\n",
        "\n",
        "\n",
        "prompt_list = [\n",
        "    \"Eliezer Shlomo Yudkowsky (born September 11, 1979) is an American decision and artificial intelligence (AI) theorist and writer, best known for\",\n",
        "    \"In a shocking finding, scientist discovered a herd of unicorns living in a remote, previously unexplored valley, in the Andes Mountains. Even more surprising to the researchers was the fact that the unicorns spoke perfect English.\",\n",
        "    \"John and Mary went to the\",\n",
        "]\n",
        "\n",
        "model = DemoTransformer(model_cfg).to(device)\n",
        "args = TransformerTrainingArgsLogText()\n",
        "trainer = TransformerTrainer(args, model)\n",
        "trainer.train(sampling_fn, prompt_list)\n",
        "# Read full report here - https://api.wandb.ai/links/callum-mcdougall/5ex16e5w\n",
        "```\n",
        "</details>"
      ]
    },
    {
      "cell_type": "markdown",
      "metadata": {
        "id": "BDyWbKwErjy0"
      },
      "source": [
        "You shouldn't expect to see perfect logical coherence from your model, but you should at least see that it respects basic word frequencies, and follows basic rules of grammar some of the time. Hopefully this gives some perspective on how difficult training a transformer can be!"
      ]
    },
    {
      "cell_type": "markdown",
      "metadata": {
        "id": "O3VPKgw8rjy0"
      },
      "source": [
        "# 4️⃣ Sampling from a Transformer\n",
        "\n",
        "> ##### Learning Objectives\n",
        ">\n",
        "> * Learn how to sample from a transformer\n",
        ">     * This includes basic methods like greedy search or top-k, and more advanced methods like beam search\n",
        "> * Learn how to cache the output of a transformer, so that it can be used to generate text more efficiently\n",
        ">     * Optionally, rewrite your sampling functions to make use of your caching methods"
      ]
    },
    {
      "cell_type": "markdown",
      "metadata": {
        "id": "v2N34KVYrjy0"
      },
      "source": [
        "Let's discuss how we might go about producing output from a transformer.\n",
        "\n",
        "One obvious method to sample tokens from a distribution would be to always take the token assigned the highest probability. But this can lead to some boring and repetitive outcomes, and at worst it can lock our transformer's output into a loop.\n",
        "\n",
        "First, you should read HuggingFace's blog post [How to generate text: using different decoding methods for language generation with Transformers](https://huggingface.co/blog/how-to-generate). Once you've done that, you can start the exercises below."
      ]
    },
    {
      "cell_type": "markdown",
      "metadata": {
        "id": "bnFB8Mmdrjy0"
      },
      "source": [
        "## `TransformerSampler` class\n",
        "\n",
        "Below, we've given you the `TransformerSampler` class. This contains the following important methods:\n",
        "\n",
        "- `sample`, which is the highest-level method. It repeatedly calls `sample_next_token` to generate new tokens, until one of the termination criteria is met.\n",
        "- `sample_next_token`, which samples a single new token based on some hyperparameters. This might involve various different sampling methods and techniques e.g. temperature scaling, top-k sampling, top-p sampling, etc.\n",
        "- A set of other methods, which apply the previously mentioned sampling methods and techniques.\n",
        "\n",
        "You can see how `sample_next_token` works, and as an example how greedy sampling is implemented via `greedy_search` - we just continually take the tokens with the highest logits at each step.\n",
        "\n",
        "<details>\n",
        "<summary>Question - why do you think <code>temperature=0.0</code> correspond to greedy sampling?</summary>\n",
        "\n",
        "To apply a temperature to our sampling (as we'll see later) means to scale all logits by `(1 / temperature)`. The basic intuition here is:\n",
        "\n",
        "* A higher temperature means a smaller scale factor, so the logits all approach zero, i.e. uniform distribution, and the sampling process is a lot more random (producing more diverse and varied outputs)\n",
        "* A lower temperature means a larger scale factor, so the logits all approach infinity, i.e. a dirac delta function, and the sampling process is a lot more deterministic (producing less varied output)\n",
        "\n",
        "As temperature gets close to zero, the difference between the largest logit and second largest logit becomes very large, so the distribution tends to \"probability of 1 on the highest-likelihood token\", i.e. greedy sampling. You can derive this formally if you prefer.\n",
        "</details>\n",
        "\n",
        "In the next exercise you'll implement the `sample` method, and then you'll go on to implement all the other methods."
      ]
    },
    {
      "cell_type": "markdown",
      "metadata": {
        "id": "wZ9Di7r9rjy1"
      },
      "source": [
        "### Exercise - implement `sample`\n",
        "\n",
        "> ```yaml\n",
        "> Difficulty: 🔴🔴🔴🔴⚪\n",
        "> Importance: 🔵🔵🔵⚪⚪\n",
        ">\n",
        "> You should spend up to 25-40 minutes on this exercise.\n",
        "> ```\n",
        "\n",
        "The `sample` method generates new tokens autoregressively, by repeatedly:\n",
        "\n",
        "- Passing the current sequence of tokens through the model to get logits,\n",
        "- Using some sampling technique to select a new token, i.e. `sample_next_token(input_ids, logits, **kwargs)`,\n",
        "- Appending this new token to the input sequence,\n",
        "- Repeating the process until one of the termination criteria is met: either we generate `max_tokens_generated` new tokens, or we generate the end-of-sequence token (which we can access via `self.tokenizer.eos_token_id`).\n",
        "\n",
        "Lastly, we use the `tokenizer.decode` method to return the sampled string. You're also invited to use the `verbose` argument, for printing the decoded sequences while they're being generated (this can help with debugging).\n",
        "\n",
        "Below is some code which tests your sampling function by performing greedy sampling (which means always choosing the most likely next token at each step).\n",
        "\n",
        "A few hints:\n",
        "\n",
        "- Don't forget about tensor shapes! Your model's input should always have a batch dimension, i.e. it should be shape `(1, seq_len)`.\n",
        "- The `sample_next_token` method will return an integer, so make sure you wrap this in a tensor before concatenating it to the end of your input IDs.\n",
        "- Also remember to have your tensors be on the same device (we have a global `device` variable).\n",
        "- Remember to put your model in evaluation mode, using `model.eval()`."
      ]
    },
    {
      "cell_type": "code",
      "execution_count": 87,
      "metadata": {
        "colab": {
          "base_uri": "https://localhost:8080/",
          "height": 410
        },
        "id": "yVYwEOh8rjy1",
        "outputId": "68c05d8e-a8ec-4ccf-e70e-d32d0c331bec"
      },
      "outputs": [
        {
          "name": "stdout",
          "output_type": "stream",
          "text": [
            "Testing greedy decoding\n",
            "Prompt:   'Jingle bells, jingle bells, jingle all the way'\n",
            "Expected: 'Jingle bells, jingle bells, jingle all the way up to the top of the mountain.'\n",
            "Actual:   'Jingle bells, jingle bells, jingle all the way up to the top of the mountain.'\n",
            "\n",
            "Tests passed!\n"
          ]
        }
      ],
      "source": [
        "class TransformerSampler:\n",
        "    def __init__(self, model: DemoTransformer, tokenizer: GPT2TokenizerFast):\n",
        "        self.model = model\n",
        "        self.cfg = model.cfg\n",
        "        self.tokenizer = tokenizer\n",
        "\n",
        "    @t.inference_mode()\n",
        "    def sample(self, prompt: str, max_tokens_generated=100, verbose=False, **kwargs) -> str:\n",
        "        \"\"\"\n",
        "        Returns a string of autoregressively generated text, starting from the prompt.\n",
        "\n",
        "        Sampling terminates at max_tokens_generated, or when the model generates an end-of-sequence token. kwargs are\n",
        "        passed to sample_next_token, to give detailed instructions on how new tokens are chosen.\n",
        "        \"\"\"\n",
        "        tokens = t.tensor([self.tokenizer.encode(prompt)]).to(device)\n",
        "        output = tokens.clone()\n",
        "\n",
        "        toks = 0\n",
        "        while output[0, -1] != self.tokenizer.eos_token_id and toks < max_tokens_generated:\n",
        "            # print(output.shape)\n",
        "            # print(output)\n",
        "            logits = self.model(output)[0, -1]\n",
        "            next_tok = t.tensor([self.sample_next_token(output[0], logits, **kwargs)]).view(1, 1).to(device)\n",
        "            # print(next_tok.shape)\n",
        "            output = t.cat([output, next_tok], dim=-1)\n",
        "            toks += 1\n",
        "        return self.tokenizer.decode(output[0])\n",
        "\n",
        "    @staticmethod\n",
        "    def sample_next_token(\n",
        "        input_ids: Int[Tensor, \"seq_len\"],\n",
        "        logits: Float[Tensor, \"d_vocab\"],\n",
        "        temperature=1.0,\n",
        "        top_k=0,\n",
        "        top_p=0.0,\n",
        "        frequency_penalty=0.0,\n",
        "        seed=None,\n",
        "    ) -> int:\n",
        "        assert input_ids.ndim == 1, \"input_ids should be a 1D sequence of token ids\"\n",
        "        assert temperature >= 0, \"Temperature should be non-negative\"\n",
        "        assert 0 <= top_p <= 1.0, \"Top-p must be a probability\"\n",
        "        assert 0 <= top_k, \"Top-k must be non-negative\"\n",
        "        assert not (top_p != 0 and top_k != 0), \"At most one of top-p and top-k supported\"\n",
        "\n",
        "        # Set random seeds for reproducibility\n",
        "        if seed is not None:\n",
        "            t.manual_seed(seed)\n",
        "            np.random.seed(seed)\n",
        "\n",
        "        # Apply all the specialized sampling methods\n",
        "        if temperature == 0:\n",
        "            return TransformerSampler.greedy_search(logits)\n",
        "        elif temperature != 1.0:\n",
        "            logits = TransformerSampler.apply_temperature(logits, temperature)\n",
        "        if frequency_penalty != 0.0:\n",
        "            logits = TransformerSampler.apply_frequency_penalty(input_ids, logits, frequency_penalty)\n",
        "        if top_k > 0:\n",
        "            return TransformerSampler.sample_top_k(logits, top_k)\n",
        "        if top_p > 0.0:\n",
        "            return TransformerSampler.sample_top_p(logits, top_p)\n",
        "        return TransformerSampler.sample_basic(logits)\n",
        "\n",
        "    @staticmethod\n",
        "    def greedy_search(logits: Float[Tensor, \"d_vocab\"]) -> int:\n",
        "        \"\"\"\n",
        "        Returns the most likely token (as an int).\n",
        "        \"\"\"\n",
        "        # raise NotImplementedError()\n",
        "        return t.argmax(logits).item()\n",
        "\n",
        "    @staticmethod\n",
        "    def apply_temperature(logits: Float[Tensor, \"d_vocab\"], temperature: float) -> Float[Tensor, \"d_vocab\"]:\n",
        "        \"\"\"\n",
        "        Applies temperature scaling to the logits.\n",
        "        \"\"\"\n",
        "        return logits / temperature\n",
        "\n",
        "    @staticmethod\n",
        "    def apply_frequency_penalty(\n",
        "        input_ids: Int[Tensor, \"seq_len\"], logits: Float[Tensor, \"d_vocab\"], freq_penalty: float\n",
        "    ) -> Float[Tensor, \"d_vocab\"]:\n",
        "        \"\"\"\n",
        "        Applies a frequency penalty to the logits.\n",
        "        \"\"\"\n",
        "        token_freqs = t.bincount(input_ids, minlength = cfg.d_vocab)\n",
        "        return logits - freq_penalty * token_freqs.float()\n",
        "\n",
        "    @staticmethod\n",
        "    def sample_basic(logits: Float[Tensor, \"d_vocab\"]) -> int:\n",
        "        \"\"\"\n",
        "        Samples from the distribution defined by the logits.\n",
        "        \"\"\"\n",
        "        # raise NotImplementedError()\n",
        "        # print(f\"Sampling from logits: {logits.shape}\")\n",
        "        return t.multinomial(nn.functional.softmax(logits), num_samples=1).item()\n",
        "\n",
        "    @staticmethod\n",
        "    def sample_top_k(logits: Float[Tensor, \"d_vocab\"], k: int) -> int:\n",
        "        \"\"\"\n",
        "        Samples from the top k most likely tokens.\n",
        "        \"\"\"\n",
        "        topk, topk_ids = logits.topk(k=k, dim=-1)\n",
        "        sampled_token_idx = t.distributions.categorical.Categorical(logits=topk).sample()\n",
        "        return topk_ids[sampled_token_idx].item()\n",
        "\n",
        "    @staticmethod\n",
        "    def sample_top_p(logits: Float[Tensor, \"d_vocab\"], top_p: float, min_tokens_to_keep: int = 1) -> int:\n",
        "        \"\"\"\n",
        "        Samples from the most likely tokens which make up at least p cumulative probability.\n",
        "        \"\"\"\n",
        "        # raise NotImplementedError()\n",
        "        top_p, top_p_ids = logits.sort(descending=True)\n",
        "        top_p = top_p.softmax(dim=-1) # Softmax first\n",
        "        cumulative_probs = top_p.cumsum(dim=-1)\n",
        "        # print(top_p)\n",
        "        # print(cumulative_probs)\n",
        "        # Find the index where cumulative probability exceeds top_p\n",
        "        cutoff_index = (cumulative_probs > top_p).nonzero(as_tuple=True)[0]\n",
        "        # print((cumulative_probs > top_p))\n",
        "        # Cutoff_index should be at least min_tokens_to_keep\n",
        "        # print(cutoff_index)\n",
        "        cutoff_index = max(cutoff_index[0].item(), min_tokens_to_keep - 1)\n",
        "        # Sample from the top p tokens (with probabilities normalised)\n",
        "        top_p_probs = top_p[:cutoff_index + 1]\n",
        "        top_p_probs = top_p_probs / top_p_probs.sum()  # Normalize probabilities\n",
        "        top_p_ids = top_p_ids[:cutoff_index + 1]\n",
        "        sampled_token_idx = t.distributions.categorical.Categorical(probs=top_p_probs).sample()\n",
        "        return top_p_ids[sampled_token_idx].item()\n",
        "\n",
        "    @t.inference_mode()\n",
        "    def beam_search(\n",
        "        self,\n",
        "        prompt: str,\n",
        "        num_return_sequences: int,\n",
        "        num_beams: int,\n",
        "        max_new_tokens: int,\n",
        "        no_repeat_ngram_size: int | None = None,\n",
        "    ) -> list[tuple[float, str]]:\n",
        "        \"\"\"\n",
        "        Implements a beam search, by repeatedly performing the `generate` and `filter` steps (starting from the initial\n",
        "        prompt) until either of the two stopping criteria are met: (1) we've generated `max_new_tokens` tokens, or (2)\n",
        "        we've generated `num_returns_sequences` terminating sequences.\n",
        "        \"\"\"\n",
        "        raise NotImplementedError()\n",
        "\n",
        "\n",
        "t.set_grad_enabled(False)  # gradients are not necessary for sampling\n",
        "\n",
        "model = DemoTransformer(Config()).to(device)\n",
        "model.load_state_dict(reference_gpt2.state_dict(), strict=False)\n",
        "tokenizer = reference_gpt2.tokenizer\n",
        "sampler = TransformerSampler(model, tokenizer)\n",
        "\n",
        "prompt = \"Jingle bells, jingle bells, jingle all the way\"\n",
        "print(f\"Testing greedy decoding\\nPrompt:   {prompt!r}\")\n",
        "\n",
        "expected = \"Jingle bells, jingle bells, jingle all the way up to the top of the mountain.\"\n",
        "output = sampler.sample(prompt, max_tokens_generated=8, temperature=0.0)\n",
        "\n",
        "print(f\"Expected: {expected!r}\\nActual:   {output!r}\\n\")\n",
        "assert output == expected\n",
        "\n",
        "print(\"Tests passed!\")"
      ]
    },
    {
      "cell_type": "markdown",
      "metadata": {
        "id": "ES9rpazYrjy1"
      },
      "source": [
        "<details>\n",
        "<summary>Solution</summary>\n",
        "\n",
        "```python\n",
        "@t.inference_mode()\n",
        "def sample(self, prompt: str, max_tokens_generated=100, verbose=False, **kwargs):\n",
        "    \"\"\"\n",
        "    Returns a string of autoregressively generated text, starting from the prompt.\n",
        "\n",
        "    Sampling terminates at max_tokens_generated, or when the model generates an end-of-sequence token. kwargs are\n",
        "    passed to sample_next_token, to give detailed instructions on how new tokens are chosen.\n",
        "    \"\"\"\n",
        "    self.model.eval()\n",
        "    input_ids = self.tokenizer.encode(prompt, return_tensors=\"pt\").to(device)[0]\n",
        "\n",
        "    for i in range(max_tokens_generated):\n",
        "        # Get new logits (make sure we don't pass in more tokens than the model's context length)\n",
        "        logits = self.model(input_ids[None, -self.cfg.n_ctx :])\n",
        "        # We only take logits for the last token, because this is what we're sampling\n",
        "        logits = logits[0, -1]\n",
        "        # Get next token (as a tensor of size (1, 1) so we can concat it to input_ids)\n",
        "        next_token = t.tensor([TransformerSampler.sample_next_token(input_ids, logits, **kwargs)], device=device)\n",
        "        # Create new input ids string, with shape (1, old_seq_len + 1)\n",
        "        input_ids = t.cat([input_ids, next_token], dim=-1)\n",
        "        # Print out results, if required\n",
        "        if verbose:\n",
        "            print(self.tokenizer.decode(input_ids), end=\"\\r\")\n",
        "        # If our new token was the end-of-text token, stop\n",
        "        if next_token == getattr(self.tokenizer, \"eos_token_id\", None):\n",
        "            break\n",
        "\n",
        "    return self.tokenizer.decode(input_ids)\n",
        "```\n",
        "\n",
        "</details>"
      ]
    },
    {
      "cell_type": "markdown",
      "metadata": {
        "id": "Ta6e6chVrjy1"
      },
      "source": [
        "## Sampling with Categorical\n",
        "\n",
        "Now, we'll move into implementing specific sampling methods. In each of these cases, you should return to the class definition above and fill in the corresponding method.\n",
        "\n",
        "PyTorch provides a [`distributions`](https://pytorch.org/docs/stable/distributions.html#distribution) package with a number of convenient methods for sampling from various distributions.\n",
        "\n",
        "For now, we just need [`t.distributions.categorical.Categorical`](https://pytorch.org/docs/stable/distributions.html#categorical). Use this to implement `sample_basic`, which just samples from the provided logits (which may have already been modified by the temperature and frequency penalties).\n",
        "\n",
        "Note that this will be slow since we aren't batching the samples, but don't worry about speed for now."
      ]
    },
    {
      "cell_type": "markdown",
      "metadata": {
        "id": "X48M2Ryurjy1"
      },
      "source": [
        "### Exercise - `sample_basic`\n",
        "\n",
        "> ```yaml\n",
        "> Difficulty: 🔴🔴⚪⚪⚪\n",
        "> Importance: 🔵🔵⚪⚪⚪\n",
        ">\n",
        "> You should spend up to 5-15 minutes on this exercise.\n",
        "> ```\n",
        "\n",
        "Implement basic sampling in the `TransformerSampler` class above (i.e. the `sample_basic` method), then run the code below to verify your solution works."
      ]
    },
    {
      "cell_type": "code",
      "execution_count": 38,
      "metadata": {
        "id": "_BZ0EJfArjy1"
      },
      "outputs": [
        {
          "data": {
            "application/vnd.jupyter.widget-view+json": {
              "model_id": "62f97cf2faa04567837cecf9fa0a77ff",
              "version_major": 2,
              "version_minor": 0
            },
            "text/plain": [
              "  0%|          | 0/10000 [00:00<?, ?it/s]"
            ]
          },
          "metadata": {},
          "output_type": "display_data"
        },
        {
          "name": "stderr",
          "output_type": "stream",
          "text": [
            "/tmp/ipykernel_637713/2410443512.py:94: UserWarning: Implicit dimension choice for softmax has been deprecated. Change the call to include dim=X as an argument.\n",
            "  return t.multinomial(nn.functional.softmax(logits), num_samples=1).item()\n"
          ]
        },
        {
          "name": "stdout",
          "output_type": "stream",
          "text": [
            "Word: ' church'. Expected freq 0.0648, observed freq 0.0668\n",
            "Word: ' house' . Expected freq 0.0367, observed freq 0.0362\n",
            "Word: ' temple'. Expected freq 0.0145, observed freq 0.0138\n",
            "Word: ' same'  . Expected freq 0.0104, observed freq 0.0102\n",
            "Word: ' Church'. Expected freq 0.0097, observed freq 0.0119\n",
            "Tests passed!\n"
          ]
        }
      ],
      "source": [
        "prompt = \"John and Mary went to the\"\n",
        "input_ids = tokenizer.encode(prompt, return_tensors=\"pt\").to(device)\n",
        "logits = model(input_ids)[0, -1]\n",
        "\n",
        "expected_top_5 = {\" church\": 0.0648, \" house\": 0.0367, \" temple\": 0.0145, \" same\": 0.0104, \" Church\": 0.0097}\n",
        "frequency_of_top_5 = defaultdict(int)\n",
        "\n",
        "N = 10_000\n",
        "for _ in tqdm(range(N)):\n",
        "    token = TransformerSampler.sample_next_token(input_ids.squeeze(), logits)\n",
        "    frequency_of_top_5[tokenizer.decode(token)] += 1\n",
        "\n",
        "for word in expected_top_5:\n",
        "    expected_freq = expected_top_5[word]\n",
        "    observed_freq = frequency_of_top_5[word] / N\n",
        "    print(f\"Word: {word!r:<9}. Expected freq {expected_freq:.4f}, observed freq {observed_freq:.4f}\")\n",
        "    assert abs(observed_freq - expected_freq) < 0.01, \"Try increasing N if this fails by a small amount.\"\n",
        "\n",
        "print(\"Tests passed!\")"
      ]
    },
    {
      "cell_type": "markdown",
      "metadata": {
        "id": "cdFHX6h2rjy1"
      },
      "source": [
        "<details>\n",
        "<summary>Solution</summary>\n",
        "\n",
        "```python\n",
        "@staticmethod\n",
        "def sample_basic(logits: Float[Tensor, \"d_vocab\"]) -> int:\n",
        "    \"\"\"\n",
        "    Samples from the distribution defined by the logits.\n",
        "    \"\"\"\n",
        "    sampled_token = t.distributions.categorical.Categorical(logits=logits).sample()\n",
        "    return sampled_token.item()\n",
        "```\n",
        "\n",
        "</details>"
      ]
    },
    {
      "cell_type": "markdown",
      "metadata": {
        "id": "3l47oygerjy2"
      },
      "source": [
        "### Exercise - `apply_temperature`\n",
        "\n",
        "> ```yaml\n",
        "> Difficulty: 🔴⚪⚪⚪⚪\n",
        "> Importance: 🔵🔵⚪⚪⚪\n",
        ">\n",
        "> You should spend up to 5-10 minutes on this exercise.\n",
        "> ```\n",
        "\n",
        "Temperature sounds fancy, but it's literally just dividing the logits by the temperature. You should implement this in your `TransformerSampler` class now."
      ]
    },
    {
      "cell_type": "code",
      "execution_count": 42,
      "metadata": {
        "id": "vnOUyTxDrjy2"
      },
      "outputs": [
        {
          "name": "stdout",
          "output_type": "stream",
          "text": [
            "A low temperature \"sharpens\" or \"peaks\" the distribution:  tensor([  0.0000, 693.1472])\n",
            "A high temperature flattens the distribution:  tensor([0.0000, 0.0007])\n",
            "Tests passed!\n"
          ]
        }
      ],
      "source": [
        "logits = t.tensor([1, 2]).log()\n",
        "\n",
        "cold_logits = TransformerSampler.apply_temperature(logits, temperature=0.001)\n",
        "print('A low temperature \"sharpens\" or \"peaks\" the distribution: ', cold_logits)\n",
        "t.testing.assert_close(cold_logits, 1000.0 * logits)\n",
        "\n",
        "hot_logits = TransformerSampler.apply_temperature(logits, temperature=1000.0)\n",
        "print(\"A high temperature flattens the distribution: \", hot_logits)\n",
        "t.testing.assert_close(hot_logits, 0.001 * logits)\n",
        "\n",
        "print(\"Tests passed!\")"
      ]
    },
    {
      "cell_type": "markdown",
      "metadata": {
        "id": "1XrZ6AZHrjy2"
      },
      "source": [
        "<details>\n",
        "<summary>Solution</summary>\n",
        "\n",
        "```python\n",
        "@staticmethod\n",
        "def apply_temperature(logits: Float[Tensor, \"d_vocab\"], temperature: float) -> Float[Tensor, \"d_vocab\"]:\n",
        "    \"\"\"\n",
        "    Applies temperature scaling to the logits.\n",
        "    \"\"\"\n",
        "    return logits / temperature\n",
        "```\n",
        "\n",
        "</details>"
      ]
    },
    {
      "cell_type": "markdown",
      "metadata": {
        "id": "7MwFM_azrjy2"
      },
      "source": [
        "### Exercise - `apply_frequency_penalty`\n",
        "\n",
        "> ```yaml\n",
        "> Difficulty: 🔴🔴⚪⚪⚪\n",
        "> Importance: 🔵⚪⚪⚪⚪\n",
        ">\n",
        "> You should spend up to 10-15 minutes on this exercise.\n",
        "> ```\n",
        "\n",
        "The frequency penalty is simple as well: count the number of occurrences of each token, then subtract `freq_penalty` for each occurrence. Hint: use `t.bincount` (documentation [here](https://pytorch.org/docs/stable/generated/torch.bincount.html)) to do this in a vectorized way.\n",
        "\n",
        "You should implement the `apply_frequency_penalty` method in your `TransformerSampler` class now, then run the cell below to check your solution."
      ]
    },
    {
      "cell_type": "markdown",
      "metadata": {
        "id": "9iEWrRYqrjy2"
      },
      "source": [
        "<details>\n",
        "<summary>Help - I'm getting a <code>RuntimeError</code>; my tensor sizes don't match.</summary>\n",
        "\n",
        "Look at the documentation page for `t.bincount`. You might need to use the `minlength` argument - why?\n",
        "</details>"
      ]
    },
    {
      "cell_type": "code",
      "execution_count": 56,
      "metadata": {
        "id": "NN8Iahaprjy2"
      },
      "outputs": [
        {
          "name": "stdout",
          "output_type": "stream",
          "text": [
            "Tests passed!\n"
          ]
        }
      ],
      "source": [
        "bieber_prompt = \"And I was like Baby, baby, baby, oh Like, Baby, baby, baby, no Like, Baby, baby, baby, oh I thought you'd always be mine, mine\"\n",
        "input_ids = tokenizer.encode(bieber_prompt, return_tensors=\"pt\")\n",
        "logits = t.ones(tokenizer.vocab_size)\n",
        "penalized_logits = TransformerSampler.apply_frequency_penalty(input_ids.squeeze(), logits, 2.0)\n",
        "\n",
        "assert penalized_logits[5156].item() == -11, \"Expected 6 occurrences of ' baby' with leading space, 1-2*6=-11\"\n",
        "assert penalized_logits[14801].item() == -5, \"Expected 3 occurrences of ' Baby' with leading space, 1-2*3=-5\"\n",
        "\n",
        "print(\"Tests passed!\")"
      ]
    },
    {
      "cell_type": "markdown",
      "metadata": {
        "id": "ZRjizl1Erjy2"
      },
      "source": [
        "<details>\n",
        "<summary>Solution</summary>\n",
        "\n",
        "```python\n",
        "@staticmethod\n",
        "def apply_frequency_penalty(\n",
        "    input_ids: Int[Tensor, \"seq_len\"], logits: Float[Tensor, \"d_vocab\"], freq_penalty: float\n",
        ") -> Float[Tensor, \"d_vocab\"]:\n",
        "    \"\"\"\n",
        "    Applies a frequency penalty to the logits.\n",
        "    \"\"\"\n",
        "    d_vocab = logits.size(0)\n",
        "    id_freqs = t.bincount(input_ids, minlength=d_vocab)\n",
        "    return logits - freq_penalty * id_freqs\n",
        "```\n",
        "\n",
        "</details>"
      ]
    },
    {
      "cell_type": "markdown",
      "metadata": {
        "id": "Rn4pUMXTrjy2"
      },
      "source": [
        "### Sampling - Manual Testing\n",
        "\n",
        "Run the below cell to get a sense for the `temperature` and `freq_penalty` arguments. Play with your own prompt and try other values.\n",
        "\n",
        "Note: your model can generate newlines or non-printing characters, so calling `print` on generated text sometimes looks awkward on screen. You can call `repr` on the string before printing to have the string escaped nicely."
      ]
    },
    {
      "cell_type": "code",
      "execution_count": null,
      "metadata": {
        "id": "xFiLoSe9rjy2"
      },
      "outputs": [],
      "source": [
        "sampler = TransformerSampler(model, tokenizer)\n",
        "\n",
        "N_RUNS = 1\n",
        "your_prompt = \"Jingle bells, jingle bells, jingle all the way\"\n",
        "cases = [\n",
        "    (\"High freq penalty\", dict(frequency_penalty=100.0)),\n",
        "    (\"Negative freq penalty\", dict(frequency_penalty=-3.0)),\n",
        "    (\"Too hot!\", dict(temperature=2.0)),\n",
        "    (\"Pleasantly cool\", dict(temperature=0.7)),\n",
        "    (\"Pleasantly warm\", dict(temperature=0.9)),\n",
        "    (\"Too cold!\", dict(temperature=0.01)),\n",
        "]\n",
        "\n",
        "table = Table(\"Name\", \"Kwargs\", \"Output\", title=\"Sampling - Manual Testing\")\n",
        "\n",
        "for name, kwargs in cases:\n",
        "    for i in range(N_RUNS):\n",
        "        output = sampler.sample(your_prompt, max_tokens_generated=24, **kwargs)\n",
        "        table.add_row(name, str(kwargs), repr(output) + \"\\n\")\n",
        "\n",
        "rprint(table)"
      ]
    },
    {
      "cell_type": "markdown",
      "metadata": {
        "id": "9MicfL1Xrjy2"
      },
      "source": [
        "## Top-K Sampling\n",
        "\n",
        "Conceptually, the steps in top-k sampling are:\n",
        "- Find the `top_k` largest probabilities (you can use [`torch.topk`](https://pytorch.org/docs/stable/generated/torch.topk.html))\n",
        "- Set all other probabilities to zero\n",
        "- Normalize and sample"
      ]
    },
    {
      "cell_type": "markdown",
      "metadata": {
        "id": "pxJD32_Mrjy2"
      },
      "source": [
        "### Exercise - `sample_top_k`\n",
        "\n",
        "> ```yaml\n",
        "> Difficulty: 🔴🔴⚪⚪⚪\n",
        "> Importance: 🔵⚪⚪⚪⚪\n",
        ">\n",
        "> You should spend up to 5-10 minutes on this exercise.\n",
        "> ```\n",
        "\n",
        "Implement the method `sample_top_k` now. Your implementation should stay in log-space throughout (don't exponentiate to obtain probabilities). This means you don't actually need to worry about normalizing, because `Categorical` accepts unnormalised logits."
      ]
    },
    {
      "cell_type": "code",
      "execution_count": 60,
      "metadata": {
        "id": "xqYHw5VSrjy2"
      },
      "outputs": [
        {
          "data": {
            "application/vnd.jupyter.widget-view+json": {
              "model_id": "08875693c2644a7c91c164999606fa53",
              "version_major": 2,
              "version_minor": 0
            },
            "text/plain": [
              "  0%|          | 0/10000 [00:00<?, ?it/s]"
            ]
          },
          "metadata": {},
          "output_type": "display_data"
        },
        {
          "name": "stdout",
          "output_type": "stream",
          "text": [
            "Word: ' church'. Expected freq = 0.4761, observed freq = 0.4845\n",
            "Word: ' house' . Expected freq = 0.2697, observed freq = 0.2687\n",
            "Word: ' temple'. Expected freq = 0.1065, observed freq = 0.1001\n",
            "Word: ' same'  . Expected freq = 0.0764, observed freq = 0.0769\n",
            "Word: ' Church'. Expected freq = 0.0713, observed freq = 0.0698\n"
          ]
        }
      ],
      "source": [
        "prompt = \"John and Mary went to the\"\n",
        "input_ids = tokenizer.encode(prompt, return_tensors=\"pt\").to(device)\n",
        "logits = model(input_ids)[0, -1]\n",
        "\n",
        "expected_top_5 = {\" church\": 0.0648, \" house\": 0.0367, \" temple\": 0.0145, \" same\": 0.0104, \" Church\": 0.0097}\n",
        "topk_5_sum = sum(expected_top_5.values())\n",
        "\n",
        "observed_freqs = defaultdict(int)\n",
        "\n",
        "N = 10000\n",
        "for _ in tqdm(range(N)):\n",
        "    token = TransformerSampler.sample_next_token(input_ids.squeeze(), logits, top_k=5)\n",
        "    observed_freqs[tokenizer.decode(token)] += 1\n",
        "\n",
        "for word in expected_top_5:\n",
        "    expected_freq = expected_top_5[word] / topk_5_sum\n",
        "    observed_freq = observed_freqs[word] / N\n",
        "    print(f\"Word: {word!r:<9}. Expected freq = {expected_freq:.4f}, observed freq = {observed_freq:.4f}\")\n",
        "    assert abs(observed_freq - expected_freq) < 0.01"
      ]
    },
    {
      "cell_type": "markdown",
      "metadata": {
        "id": "EHSZqvkArjy2"
      },
      "source": [
        "<details>\n",
        "<summary>Solution</summary>\n",
        "\n",
        "```python\n",
        "@staticmethod\n",
        "def sample_top_k(logits: Float[Tensor, \"d_vocab\"], k: int) -> int:\n",
        "    \"\"\"\n",
        "    Samples from the top k most likely tokens.\n",
        "    \"\"\"\n",
        "    top_k_logits, top_k_token_ids = logits.topk(k)\n",
        "    # Get sampled token (which is an index corresponding to the list of top-k tokens)\n",
        "    sampled_token_idx = t.distributions.categorical.Categorical(logits=top_k_logits).sample()\n",
        "    # Get the actual token id, as an int\n",
        "    return top_k_token_ids[sampled_token_idx].item()\n",
        "```\n",
        "\n",
        "</details>"
      ]
    },
    {
      "cell_type": "markdown",
      "metadata": {
        "id": "wNB9TqjUrjy2"
      },
      "source": [
        "The [GPT-2 paper](https://d4mucfpksywv.cloudfront.net/better-language-models/language_models_are_unsupervised_multitask_learners.pdf) famously included an example prompt about unicorns. Now it's your turn to see just how cherry picked this example was.\n",
        "\n",
        "The paper claims they used `top_k=40` and best of 10 samples."
      ]
    },
    {
      "cell_type": "code",
      "execution_count": 62,
      "metadata": {
        "id": "Y9b2IdsErjy2"
      },
      "outputs": [
        {
          "data": {
            "text/html": [
              "<pre style=\"white-space:pre;overflow-x:auto;line-height:normal;font-family:Menlo,'DejaVu Sans Mono',consolas,'Courier New',monospace\">Your model said:\n",
              "\n",
              "<span style=\"color: #ff8700; text-decoration-color: #ff8700; font-weight: bold\">In a shocking finding, scientist discovered a herd of unicorns living in a remote, previously unexplored valley, in</span>\n",
              "<span style=\"color: #ff8700; text-decoration-color: #ff8700; font-weight: bold\">the Andes Mountains. Even more surprising to the researchers was the fact that the unicorns spoke perfect English.</span>\n",
              "\n",
              "<span style=\"color: #ff8700; text-decoration-color: #ff8700; font-weight: bold\">The researchers, led by Dr. Joseph E. Ahern, PhD, a geology professor in the National Center for Atmospheric </span>\n",
              "<span style=\"color: #ff8700; text-decoration-color: #ff8700; font-weight: bold\">Research and a research scientist at the University of South Florida, did not observe the unicorn culture in the </span>\n",
              "<span style=\"color: #ff8700; text-decoration-color: #ff8700; font-weight: bold\">region, which is still in its infancy. Instead, they conducted a random survey to</span>\n",
              "</pre>\n"
            ],
            "text/plain": [
              "Your model said:\n",
              "\n",
              "\u001b[1;38;5;208mIn a shocking finding, scientist discovered a herd of unicorns living in a remote, previously unexplored valley, in\u001b[0m\n",
              "\u001b[1;38;5;208mthe Andes Mountains. Even more surprising to the researchers was the fact that the unicorns spoke perfect English.\u001b[0m\n",
              "\n",
              "\u001b[1;38;5;208mThe researchers, led by Dr. Joseph E. Ahern, PhD, a geology professor in the National Center for Atmospheric \u001b[0m\n",
              "\u001b[1;38;5;208mResearch and a research scientist at the University of South Florida, did not observe the unicorn culture in the \u001b[0m\n",
              "\u001b[1;38;5;208mregion, which is still in its infancy. Instead, they conducted a random survey to\u001b[0m\n"
            ]
          },
          "metadata": {},
          "output_type": "display_data"
        }
      ],
      "source": [
        "sampler = TransformerSampler(model, tokenizer)\n",
        "\n",
        "your_prompt = \"In a shocking finding, scientist discovered a herd of unicorns living in a remote, previously unexplored valley, in the Andes Mountains. Even more surprising to the researchers was the fact that the unicorns spoke perfect English.\"\n",
        "\n",
        "output = sampler.sample(your_prompt, temperature=0.7, top_k=40, max_tokens_generated=64)\n",
        "\n",
        "rprint(f\"Your model said:\\n\\n[bold dark_orange]{output}\")"
      ]
    },
    {
      "cell_type": "markdown",
      "metadata": {
        "id": "ojZQn8r7rjy2"
      },
      "source": [
        "This is pretty incredible! For some perspective on how much of a paradigm shift even basic models like this represented, we recommend reading [this section from Simulators](https://www.lesswrong.com/posts/vJFdjigzmcXMhNTsx/simulators#The_limit_of_sequence_modeling)."
      ]
    },
    {
      "cell_type": "markdown",
      "metadata": {
        "id": "YilLNn5Grjy2"
      },
      "source": [
        "## Top-p aka Nucleus Sampling\n",
        "\n",
        "The basic idea is that we choose the most likely words, up until the total probability of words we've chosen crosses some threshold. Then we sample from those chosen words based on their logits.\n",
        "\n",
        "The steps are:\n",
        "\n",
        "- Sort the probabilities from largest to smallest\n",
        "- Find the cutoff point where the cumulative probability first equals or exceeds `top_p`. We do the cutoff inclusively, keeping the first probability above the threshold.\n",
        "- If the number of kept probabilities is less than `min_tokens_to_keep`, keep that many tokens instead.\n",
        "- Set all other probabilities to zero\n",
        "- Normalize and sample\n",
        "\n",
        "For example, if our probabilities were `(0.4, 0.3, 0.2, 0.1)` and our cutoff was `top_p=0.8`, then we'd sample from the first three elements (because their total probability is `0.9` which is over the threshold, but the first two only have a total prob of `0.7` which is under the threshold). Once we've chosen to sample from those three, we would renormalise them by dividing by their sum, so the probabilities we use when sampling are `(0.4/0.9, 0.3/0.9, 0.2/0.9)`.\n",
        "\n",
        "Optionally, refer to the paper [The Curious Case of Neural Text Degeneration](https://arxiv.org/pdf/1904.09751.pdf) for some comparison of different methods."
      ]
    },
    {
      "cell_type": "markdown",
      "metadata": {
        "id": "MZ7RWk4_rjy2"
      },
      "source": [
        "### Exercise - `sample_top_p`\n",
        "\n",
        "> ```yaml\n",
        "> Difficulty: 🔴🔴🔴⚪⚪\n",
        "> Importance: 🔵⚪⚪⚪⚪\n",
        ">\n",
        "> You should spend up to 15-20 minutes on this exercise.\n",
        "> ```"
      ]
    },
    {
      "cell_type": "code",
      "execution_count": null,
      "metadata": {
        "id": "I2UEMsHKrjy2"
      },
      "outputs": [
        {
          "data": {
            "application/vnd.jupyter.widget-view+json": {
              "model_id": "39d41fbabf284ecc88218d3e71cbcaee",
              "version_major": 2,
              "version_minor": 0
            },
            "text/plain": [
              "  0%|          | 0/5000 [00:00<?, ?it/s]"
            ]
          },
          "metadata": {},
          "output_type": "display_data"
        },
        {
          "name": "stdout",
          "output_type": "stream",
          "text": [
            "Word: ' church'. Expected freq 0.6384, observed freq 0.6468\n",
            "Word: ' house' . Expected freq 0.3616, observed freq 0.3532\n"
          ]
        }
      ],
      "source": [
        "prompt = \"John and Mary went to the\"\n",
        "input_ids = tokenizer.encode(prompt, return_tensors=\"pt\").to(device)\n",
        "logits = model(input_ids)[0, -1]\n",
        "\n",
        "expected_top_10pct = {\n",
        "    \" church\": 0.0648,\n",
        "    \" house\": 0.0367,  # These are the two most likely tokens, and add up to >10%\n",
        "}\n",
        "top_10pct_sum = sum(expected_top_10pct.values())\n",
        "\n",
        "observed_freqs = defaultdict(int)\n",
        "\n",
        "N = 10000\n",
        "for _ in tqdm(range(N)):\n",
        "    token = TransformerSampler.sample_next_token(input_ids.squeeze(), logits, top_p=0.1)\n",
        "    observed_freqs[tokenizer.decode(token)] += 1\n",
        "\n",
        "for word in expected_top_10pct:\n",
        "    expected_freq = expected_top_10pct[word] / top_10pct_sum\n",
        "    observed_freq = observed_freqs[word] / N\n",
        "    print(f\"Word: {word!r:<9}. Expected freq {expected_freq:.4f}, observed freq {observed_freq:.4f}\")\n",
        "    assert abs(observed_freq - expected_freq) < 0.01, \"Try increasing N if this fails by a small amount.\""
      ]
    },
    {
      "cell_type": "markdown",
      "metadata": {
        "id": "juJPUGxIrjy2"
      },
      "source": [
        "<details>\n",
        "<summary>Help - I'm stuck on how to implement this function.</summary>\n",
        "\n",
        "First, sort the logits using the `sort(descending=True)` method (this returns values and indices). Then you can get `cumulative_probs` by applying softmax to these logits and taking the cumsum. Then, you can decide how many probabilities to keep by using the `t.searchsorted` function.\n",
        "\n",
        "Once you've decided which probabilities to keep, it's easiest to sample from them using the original logits (you should have preserved the indices when you called `logits.sort`). This way, you don't need to worry about renormalising like you would if you were using probabilities.\n",
        "</details>\n",
        "\n",
        "<details>\n",
        "<summary>Solution</summary>\n",
        "\n",
        "```python\n",
        "@staticmethod\n",
        "def sample_top_p(logits: Float[Tensor, \"d_vocab\"], top_p: float, min_tokens_to_keep: int = 1) -> int:\n",
        "    \"\"\"\n",
        "    Samples from the most likely tokens which make up at least p cumulative probability.\n",
        "    \"\"\"\n",
        "    # Sort logits, and get cumulative probabilities\n",
        "    logits_sorted, indices = logits.sort(descending=True, stable=True)\n",
        "    cumul_probs = logits_sorted.softmax(-1).cumsum(-1)\n",
        "    # Choose which tokens to keep, in the set we sample from\n",
        "    n_keep = t.searchsorted(cumul_probs, top_p, side=\"left\").item() + 1\n",
        "    n_keep = max(n_keep, min_tokens_to_keep)\n",
        "    keep_idx = indices[:n_keep]\n",
        "    keep_logits = logits[keep_idx]\n",
        "    # Perform the sampling\n",
        "    sample = t.distributions.categorical.Categorical(logits=keep_logits).sample()\n",
        "    return keep_idx[sample].item()\n",
        "```\n",
        "\n",
        "</details>"
      ]
    },
    {
      "cell_type": "markdown",
      "metadata": {
        "id": "IMLgfS7irjy2"
      },
      "source": [
        "Now, an example of top-p sampling:"
      ]
    },
    {
      "cell_type": "code",
      "execution_count": 91,
      "metadata": {
        "id": "fcYgtaR5rjy2"
      },
      "outputs": [
        {
          "data": {
            "text/html": [
              "<pre style=\"white-space:pre;overflow-x:auto;line-height:normal;font-family:Menlo,'DejaVu Sans Mono',consolas,'Courier New',monospace\">Your model said:\n",
              "\n",
              "<span style=\"color: #ff8700; text-decoration-color: #ff8700; font-weight: bold\">Eliezer Shlomo Yudkowsky (born September </span><span style=\"color: #ff8700; text-decoration-color: #ff8700; font-weight: bold\">11</span><span style=\"color: #ff8700; text-decoration-color: #ff8700; font-weight: bold\">, </span><span style=\"color: #ff8700; text-decoration-color: #ff8700; font-weight: bold\">1979</span><span style=\"color: #ff8700; text-decoration-color: #ff8700; font-weight: bold\">) is an American decision and artificial intelligence (AI) </span>\n",
              "<span style=\"color: #ff8700; text-decoration-color: #ff8700; font-weight: bold\">theorist and writer, best known for his work on artificial intelligence and the Internet. He is also the author of </span>\n",
              "<span style=\"color: #ff8700; text-decoration-color: #ff8700; font-weight: bold\">the book </span><span style=\"color: #ff8700; text-decoration-color: #ff8700; font-weight: bold\">\"The Internet: A History of the World's Most Powerful People.\"</span><span style=\"color: #ff8700; text-decoration-color: #ff8700; font-weight: bold\"> He is the co-author of the book </span><span style=\"color: #ff8700; text-decoration-color: #ff8700; font-weight: bold\">\"The </span>\n",
              "<span style=\"color: #ff8700; text-decoration-color: #ff8700; font-weight: bold\">Internet: A History of the World's Most Powerful People.\"</span>\n",
              "\n",
              "<span style=\"color: #ff8700; text-decoration-color: #ff8700; font-weight: bold\">In addition to his work on artificial intelligence</span>\n",
              "</pre>\n"
            ],
            "text/plain": [
              "Your model said:\n",
              "\n",
              "\u001b[1;38;5;208mEliezer Shlomo Yudkowsky \u001b[0m\u001b[1;38;5;208m(\u001b[0m\u001b[1;38;5;208mborn September \u001b[0m\u001b[1;38;5;208m11\u001b[0m\u001b[1;38;5;208m, \u001b[0m\u001b[1;38;5;208m1979\u001b[0m\u001b[1;38;5;208m)\u001b[0m\u001b[1;38;5;208m is an American decision and artificial intelligence \u001b[0m\u001b[1;38;5;208m(\u001b[0m\u001b[1;38;5;208mAI\u001b[0m\u001b[1;38;5;208m)\u001b[0m\u001b[1;38;5;208m \u001b[0m\n",
              "\u001b[1;38;5;208mtheorist and writer, best known for his work on artificial intelligence and the Internet. He is also the author of \u001b[0m\n",
              "\u001b[1;38;5;208mthe book \u001b[0m\u001b[1;38;5;208m\"The Internet: A History of the World's Most Powerful People.\"\u001b[0m\u001b[1;38;5;208m He is the co-author of the book \u001b[0m\u001b[1;38;5;208m\"The \u001b[0m\n",
              "\u001b[1;38;5;208mInternet: A History of the World's Most Powerful People.\"\u001b[0m\n",
              "\n",
              "\u001b[1;38;5;208mIn addition to his work on artificial intelligence\u001b[0m\n"
            ]
          },
          "metadata": {},
          "output_type": "display_data"
        }
      ],
      "source": [
        "sampler = TransformerSampler(model, tokenizer)\n",
        "\n",
        "your_prompt = \"Eliezer Shlomo Yudkowsky (born September 11, 1979) is an American decision and artificial intelligence (AI) theorist and writer, best known for\"\n",
        "output = sampler.sample(your_prompt, temperature=0.7, top_p=0.95, max_tokens_generated=64)\n",
        "rprint(f\"Your model said:\\n\\n[bold dark_orange]{output}\")"
      ]
    },
    {
      "cell_type": "markdown",
      "metadata": {
        "id": "NMa13ywcrjy2"
      },
      "source": [
        "## Beam search\n",
        "\n",
        "Finally, we'll implement a more advanced way of searching over output: **beam search**. You should read the [HuggingFace page](https://huggingface.co/blog/how-to-generate#beam-search) on beam search before moving on.\n",
        "\n",
        "In beam search, we maintain a list of size `num_beams` completions which are the most likely completions so far as measured by the product of their probabilities. Since this product can become very small, we use the sum of log probabilities instead. Note - log probabilities are *not* the same as your model's output. We get log probabilities by first taking softmax of our output and then taking log. You can do this with the [`log_softmax`](https://pytorch.org/docs/stable/generated/torch.nn.functional.log_softmax.html) function / tensor method.\n",
        "\n",
        "<details>\n",
        "<summary>Log probabilities are equal to the logit output after being translated by some amount X (where X is a function of the original logit output). Can you prove this?</summary>\n",
        "\n",
        "Suppose our vector of logits is $x$, and we take softmax to get a vector of probabilities $p$, then log again to get a vector of log probabilities $l$. Then the $i$-th element of this vector of logprobs is:\n",
        "\n",
        "$$\n",
        "\\begin{align}\n",
        "l_i &= \\log p_i \\\\\n",
        "&= \\log \\frac{\\exp(x_i)}{\\sum_j \\exp(x_j)} \\\\\n",
        "&= x_i - \\log \\sum_j \\exp(x_j) \\\\\n",
        "&= x_i - C\n",
        "\\end{align}\n",
        "$$\n",
        "\n",
        "where $C = \\log \\sum_j \\exp(x_j)$ is the same for all elements. So we can see that $l_i$ is equal to the logit output $x_i$ after being translated by $C$.\n",
        "\n",
        "It's important not to mix up logits and logprobs!\n",
        "</details>\n",
        "\n",
        "<details>\n",
        "<summary>Why do you think we use log softmax rather than logit output?</summary>\n",
        "\n",
        "Logit output is translation invariant. If we had two different beams and we were generating the next tokens in those beams, there would be no reasonable way to compare the two beams to each other, because we could shift the logit vector for one beam by a constant amount without changing the distribution.\n",
        "\n",
        "</details>\n",
        "\n",
        "At each iteration, we run the batch of completions through the model and take the log-softmax to obtain `d_vocab` log-probs for each completion, or `num_beams * d_vocab` possible next completions in total.\n",
        "\n",
        "If we kept all of these, then we would have `num_beams * d_vocab * d_vocab` completions after the next iteration which is way too many, so instead we sort them by their score and loop through from best (highest) log probability to worst (lowest).\n",
        "\n",
        "The illustration below might help (based on real results from this method). Here, we have the following hyperparameters:\n",
        "\n",
        "```python\n",
        "num_beams = 3\n",
        "max_new_tokens = 3\n",
        "num_return_sequences = 2\n",
        "```\n",
        "\n",
        "<img src=\"https://raw.githubusercontent.com/info-arena/ARENA_img/main/misc/beam-search-3.png\" width=\"1000\">\n",
        "\n",
        "Note how after each \"generate\" stage, we have `num_beams ** 2` possible completions, which we then filter down to `num_beams`. This is because we need this many in order to find the best `num_beams` completions overall - for example, it's possible that all the best beams of length `n+1` come from the same beam of length `n`, in which case we'll need to keep all `num_beams` that we generated from that single beam.\n",
        "\n",
        "How do we deal with sequences that terminate early (i.e. by generating an EOS token)? Answer - we append them to the list of completions which we'll return at the end, and remove them from the generation tree. Our algorithm terminates when either all our sequences have length `max_new_tokens` larger than the initial prompt length, or we've generated `num_returns_sequences` terminating sequences."
      ]
    },
    {
      "cell_type": "markdown",
      "metadata": {
        "id": "A7PNpetRrjy2"
      },
      "source": [
        "### Exercise - implement `beam_search`\n",
        "\n",
        "> ```yaml\n",
        "> Difficulty: 🔴🔴🔴🔴🔴\n",
        "> Importance: 🔵⚪⚪⚪⚪\n",
        ">\n",
        "> You should spend up to 30-50 minutes on this exercise.\n",
        "> ```\n",
        "\n",
        "We've given you one implementation of `beam_search` below, which calls the `generate` and `filter` methods of the `Beams` class (these correspond to the two stages in the diagram above). The `beam_search` method works as follows:\n",
        "\n",
        "- Create a list `final_logprobs_and_completions` for storing the final output, as tuples of (logprob sum, string completion).\n",
        "- Perform `max_new_tokens` steps of generation (producing a new set of beams) and filtering (getting the best beams from these combinations), while also adding terminated beams to the list of best beams\n",
        "- Return these terminated beams plus the best ones we have at the end of the steps.\n",
        "\n",
        "So all you need to do is fill in the `generate` and `filter` methods. Below, you'll find some unit tests for the `generate` and `filter` methods. When you've passed these tests, you should be able to run the full `beam_search` function.\n",
        "\n",
        "**Important note** - by default, beam search produces a lot of repeated words / phrases / sentences. This makes sense - if the model finds some completion with a much higher logit sum than most completions in its beam search space, then it will want to repeat this completion even if it doesn't make a lot of sense in context. A common solution is to ban repetition of n-grams, which you should also implement in the function below. In other words, rather than sampling tokens from each sequence by taking `logprobs.topk(k)` in your `generate` method, you should take the `k` top tokens after filtering out those that give you repeated n-grams of length `no_repeat_ngram_size`. Good values of this parameter to try are 2 or 3 (although we recommend you try without this parameter first, so you can see how much of a difference it makes!)."
      ]
    },
    {
      "cell_type": "code",
      "execution_count": null,
      "metadata": {
        "id": "-P8pg9kwrjy3"
      },
      "outputs": [],
      "source": [
        "@dataclass\n",
        "class Beams:\n",
        "    \"\"\"Class to store beams during beam search.\"\"\"\n",
        "\n",
        "    model: DemoTransformer\n",
        "    tokenizer: GPT2TokenizerFast\n",
        "    logprob_sums: Float[Tensor, \"batch\"]\n",
        "    tokens: Int[Tensor, \"batch seq\"]\n",
        "\n",
        "    def __getitem__(self, batch_idx) -> \"Beams\":\n",
        "        \"\"\"Allows you to create new beams from old beams by slicing along batch dim (useful for `filter`).\"\"\"\n",
        "        return Beams(self.model, self.tokenizer, self.logprob_sums[batch_idx], self.tokens[batch_idx])\n",
        "\n",
        "    @property\n",
        "    def logprobs_and_completions(self) -> list[tuple[float, str]]:\n",
        "        \"\"\"Returns self as a list of logprob sums and completions (useful for getting final output).\"\"\"\n",
        "        return [\n",
        "            (logprob_sum.item(), self.tokenizer.decode(tokens))\n",
        "            for (logprob_sum, tokens) in zip(self.logprob_sums, self.tokens)\n",
        "        ]\n",
        "\n",
        "    \n",
        "    def get_topk_non_repeating(\n",
        "        self,\n",
        "        logprobs: Float[Tensor, \"batch d_vocab\"],\n",
        "        no_repeat_ngram_size: int | None,\n",
        "        k: int,\n",
        "    ) -> tuple[Float[Tensor, \"k\"], Int[Tensor, \"k\"]]:\n",
        "        \"\"\"\n",
        "        logprobs:\n",
        "            tensor of the log-probs for the next token\n",
        "        no_repeat_ngram_size:\n",
        "            size of ngram to avoid repeating\n",
        "        k:\n",
        "            number of top logits to return, for each beam in our collection\n",
        "\n",
        "        Returns:\n",
        "            equivalent to the output of `logprobs.topk(dim=-1)`, but makes sure that no returned tokens would produce an\n",
        "            ngram of size `no_repeat_ngram_size` which has already appeared in `self.tokens`.\n",
        "        \"\"\"\n",
        "        batch, seq_len = self.tokens.shape\n",
        "\n",
        "        # If completion isn't long enough for a repetition, or we have no restrictions, just return topk\n",
        "        if (no_repeat_ngram_size is not None) and (seq_len > no_repeat_ngram_size - 1):\n",
        "            # Otherwise, we need to check for ngram repetitions\n",
        "            # First, get the most recent `no_repeat_ngram_size-1` tokens\n",
        "            last_ngram_prefix = self.tokens[:, seq_len - (no_repeat_ngram_size - 1) :]\n",
        "            # Next, find all the tokens we're not allowed to generate, by checking all past ngrams for a match\n",
        "            for i in range(seq_len - (no_repeat_ngram_size - 1)):\n",
        "                ngrams = self.tokens[:, i : i + no_repeat_ngram_size]  # (batch, ngram)\n",
        "                ngrams_are_repeated = (ngrams[:, :-1] == last_ngram_prefix).all(-1)  # (batch,)\n",
        "                ngram_end_tokens = ngrams[:, [-1]]  # (batch, 1)\n",
        "                # Fill logprobs with neginf wherever the ngrams are repeated\n",
        "                logprobs[range(batch), ngram_end_tokens] = t.where(\n",
        "                    ngrams_are_repeated, -1.0e4, logprobs[range(batch), ngram_end_tokens]\n",
        "                )\n",
        "\n",
        "        # Finally, get our actual tokens\n",
        "        return logprobs.topk(k=k, dim=-1)\n",
        "\n",
        "    def generate(self, k: int, no_repeat_ngram_size: int | None = None) -> \"Beams\":\n",
        "        \"\"\"\n",
        "        Starting from the current set of beams (i.e. self.tokens) and returns a new set of `len(self.tokens) * k` beams,\n",
        "        containing the best `k` continuations for each of the original beams.\n",
        "\n",
        "        Optional argument `no_repeat_ngram_size` means your model won't generate any sequences with a repeating n-gram\n",
        "        of this length.\n",
        "        \"\"\"\n",
        "        # raise NotImplementedError()\n",
        "        batch_size, seq_len = self.tokens.shape\n",
        "\n",
        "        # Generate logits for each beam.\n",
        "        logits = self.model(self.tokens)[:, -1, :].log_softmax(-1) # Last token's logits for ALL beams.\n",
        "\n",
        "        topk_probs, topk_ids = self.get_topk_non_repeating(logits, no_repeat_ngram_size, k)\n",
        "        # print(topk_probs, topk_ids)\n",
        "\n",
        "        # Create the beams by taking the top k tokens for each beam\n",
        "        new_logprob_sums = self.logprob_sums.unsqueeze(-1) + topk_probs  # (batch, k)\n",
        "        toks = einops.repeat(self.tokens, \"batch seq -> (batch k) seq\", k=k)\n",
        "        new_tokens = einops.repeat(topk_ids, \"batch k -> (batch k)\")#, batch = batch_size)\n",
        "        toks = t.cat([toks, new_tokens.unsqueeze(-1)], dim=-1)  # (batch * k, seq + 1)\n",
        "        new_beams = Beams(self.model, self.tokenizer, new_logprob_sums.flatten(), toks)\n",
        "        # Don't worry, we filter them later.\n",
        "        return new_beams\n",
        "\n",
        "\n",
        "    def filter(self, k: int) -> tuple[\"Beams\", \"Beams\"]:\n",
        "        \"\"\"\n",
        "        Returns:\n",
        "            best_beams: Beams\n",
        "                filtered version of self, containing all best `k` which are also not terminated.\n",
        "            early_terminations: Beams\n",
        "                filtered version of self, containing all best `k` which are also terminated.\n",
        "        \"\"\"\n",
        "        # raise NotImplementedError()\n",
        "        batch_size, seq_len = self.tokens.shape\n",
        "        # Eliminate all except best `k` beams.\n",
        "        best_beam_logprobs, best_beam_ids = self.logprob_sums.topk(k=k, dim=0)\n",
        "        best_beams = self[best_beam_ids]  # (k, seq_len)\n",
        "\n",
        "        # Check which of the best beams are terminated (i.e. have an end-of-sequence token)\n",
        "        terminated_mask = best_beams.tokens[:, -1] == self.tokenizer.eos_token_id\n",
        "\n",
        "        # Split the best beams into terminated and ongoing\n",
        "        return best_beams[~terminated_mask], best_beams[terminated_mask]\n",
        "\n",
        "\n",
        "    def print(self, title=\"Best completions\", max_print_chars=80) -> None:\n",
        "        \"\"\"\n",
        "        Prints out a set of sequences with their corresponding logprob sums.\n",
        "        \"\"\"\n",
        "        if len(self.tokens) == 0:\n",
        "            return\n",
        "        table = Table(\"logprob sum\", \"completion\", title=title)\n",
        "        for logprob_sum, tokens in zip(self.logprob_sums, self.tokens):\n",
        "            text = self.tokenizer.decode(tokens)\n",
        "            if len(repr(text)) > max_print_chars:\n",
        "                text = text[: int(0.3 * max_print_chars)] + \" ... \" + text[-int(0.7 * max_print_chars) :]\n",
        "            table.add_row(f\"{logprob_sum:>8.3f}\", repr(text))\n",
        "        rprint(table)\n",
        "\n",
        "\n",
        "@t.inference_mode()\n",
        "def beam_search(\n",
        "    self: TransformerSampler,\n",
        "    prompt: str,\n",
        "    num_return_sequences: int,\n",
        "    num_beams: int,\n",
        "    max_new_tokens: int,\n",
        "    no_repeat_ngram_size: int | None = None,\n",
        ") -> list[tuple[float, str]]:\n",
        "    \"\"\"\n",
        "    Implements a beam search, by repeatedly performing the `generate` and `filter` steps (starting from the initial\n",
        "    prompt) until either of the two stopping criteria are met: (1) we've generated `max_new_tokens` tokens, or (2)\n",
        "    we've generated `num_returns_sequences` terminating sequences.\n",
        "    \"\"\"\n",
        "    assert num_return_sequences <= num_beams\n",
        "    self.model.eval()\n",
        "\n",
        "    tokens = self.tokenizer.encode(prompt, return_tensors=\"pt\").to(device)\n",
        "\n",
        "    final_logprobs_and_completions = []  # we add to this list as we get terminated beams\n",
        "    best_beams = Beams(self.model, self.tokenizer, t.tensor([0.0]).to(device), tokens)  # start with just 1 beam\n",
        "\n",
        "    for _ in tqdm(range(max_new_tokens)):\n",
        "        t.cuda.empty_cache()\n",
        "\n",
        "        # Generate & filter beams\n",
        "        best_beams = best_beams.generate(k=num_beams, no_repeat_ngram_size=no_repeat_ngram_size)\n",
        "        best_beams, best_beams_terminated = best_beams.filter(k=num_beams)\n",
        "\n",
        "        # Add terminated beams to our list, and return early if we have enough\n",
        "        final_logprobs_and_completions.extend(best_beams_terminated.logprobs_and_completions)\n",
        "        if len(final_logprobs_and_completions) >= num_return_sequences:\n",
        "            return final_logprobs_and_completions[:num_return_sequences]\n",
        "\n",
        "    # Return terminated beams plus the best ongoing beams of length `orig_len + max_new_tokens`\n",
        "    final_logprobs_and_completions.extend(best_beams.logprobs_and_completions)\n",
        "    return final_logprobs_and_completions[:num_return_sequences]\n",
        "\n",
        "\n",
        "TransformerSampler.beam_search = beam_search"
      ]
    },
    {
      "cell_type": "markdown",
      "metadata": {
        "id": "4ccsxjhorjy3"
      },
      "source": [
        "<details>\n",
        "<summary>Help - I'm stuck on the implementation of <code>no_repeat_ngram_size</code>.</summary>\n",
        "\n",
        "Here's a method, which you can use in your `generate` function in place of `logprobs.topk(k)`, which filters out the ngrams of length `no_repeat_ngram_size` which have already appeared in `self.tokens`:\n",
        "\n",
        "```python\n",
        "def get_topk_non_repeating(\n",
        "    self,\n",
        "    logprobs: Float[Tensor, \"batch d_vocab\"],\n",
        "    no_repeat_ngram_size: int | None,\n",
        "    k: int,\n",
        ") -> tuple[Float[Tensor, \"k\"], Int[Tensor, \"k\"]]:\n",
        "    \"\"\"\n",
        "    logprobs:\n",
        "        tensor of the log-probs for the next token\n",
        "    no_repeat_ngram_size:\n",
        "        size of ngram to avoid repeating\n",
        "    k:\n",
        "        number of top logits to return, for each beam in our collection\n",
        "\n",
        "    Returns:\n",
        "        equivalent to the output of `logprobs.topk(dim=-1)`, but makes sure that no returned tokens would produce an\n",
        "        ngram of size `no_repeat_ngram_size` which has already appeared in `self.tokens`.\n",
        "    \"\"\"\n",
        "    batch, seq_len = self.tokens.shape\n",
        "\n",
        "    # If completion isn't long enough for a repetition, or we have no restrictions, just return topk\n",
        "    if (no_repeat_ngram_size is not None) and (seq_len > no_repeat_ngram_size - 1):\n",
        "        # Otherwise, we need to check for ngram repetitions\n",
        "        # First, get the most recent `no_repeat_ngram_size-1` tokens\n",
        "        last_ngram_prefix = self.tokens[:, seq_len - (no_repeat_ngram_size - 1) :]\n",
        "        # Next, find all the tokens we're not allowed to generate, by checking all past ngrams for a match\n",
        "        for i in range(seq_len - (no_repeat_ngram_size - 1)):\n",
        "            ngrams = self.tokens[:, i : i + no_repeat_ngram_size]  # (batch, ngram)\n",
        "            ngrams_are_repeated = (ngrams[:, :-1] == last_ngram_prefix).all(-1)  # (batch,)\n",
        "            ngram_end_tokens = ngrams[:, [-1]]  # (batch, 1)\n",
        "            # Fill logprobs with neginf wherever the ngrams are repeated\n",
        "            logprobs[range(batch), ngram_end_tokens] = t.where(\n",
        "                ngrams_are_repeated, -1.0e4, logprobs[range(batch), ngram_end_tokens]\n",
        "            )\n",
        "\n",
        "    # Finally, get our actual tokens\n",
        "    return logprobs.topk(k=k, dim=-1)\n",
        "```\n",
        "\n",
        "</details>\n",
        "\n",
        "<details>\n",
        "<summary>Solution</summary>\n",
        "\n",
        "```python\n",
        "def generate(self, k: int, no_repeat_ngram_size: int | None = None) -> \"Beams\":\n",
        "    \"\"\"\n",
        "    Starting from the current set of beams (i.e. self.tokens) and returns a new set of `len(self.tokens) * k` beams,\n",
        "    containing the best `k` continuations for each of the original beams.\n",
        "\n",
        "    Optional argument `no_repeat_ngram_size` means your model won't generate any sequences with a repeating n-gram\n",
        "    of this length.\n",
        "    \"\"\"\n",
        "    # Get the output logprobs for the next token (for every sequence in current beams)\n",
        "    logprobs = self.model(self.tokens)[:, -1, :].log_softmax(-1)\n",
        "\n",
        "    # Get the top `toks_per_beam` tokens for each sequence\n",
        "    topk_logprobs, topk_tokenIDs = self.get_topk_non_repeating(logprobs, no_repeat_ngram_size, k=k)\n",
        "\n",
        "    # Add new logprobs & concat new tokens. When doing this, we need to add an extra `k` dimension since our current\n",
        "    # logprobs & tokens have shape (batch,) and (batch, seq), but our new ones both have shape (batch, k)\n",
        "    new_logprob_sums = einops.repeat(self.logprob_sums, \"b -> b k\", k=k) + topk_logprobs\n",
        "    new_tokens = t.concat([einops.repeat(self.tokens, \"b s -> b k s\", k=k), topk_tokenIDs.unsqueeze(-1)], dim=-1)\n",
        "\n",
        "    return Beams(self.model, self.tokenizer, new_logprob_sums.flatten(), new_tokens.flatten(0, 1))\n",
        "\n",
        "def filter(self, k: int) -> tuple[\"Beams\", \"Beams\"]:\n",
        "    \"\"\"\n",
        "    Returns:\n",
        "        best_beams: Beams\n",
        "            filtered version of self, containing all best `k` which are also not terminated.\n",
        "        early_terminations: Beams\n",
        "            filtered version of self, containing all best `k` which are also terminated.\n",
        "    \"\"\"\n",
        "    # Get the indices of top `k` beams\n",
        "    top_beam_indices = self.logprob_sums.topk(k=k, dim=0).indices.tolist()\n",
        "    # Get the indices of terminated sequences\n",
        "    new_tokens = self.tokens[:, -1]\n",
        "    terminated_indices = t.nonzero(new_tokens == self.tokenizer.eos_token_id)\n",
        "\n",
        "    # Get the indices of the `k` best sequences (some terminated, some not terminated)\n",
        "    best_continuing = [i for i in top_beam_indices if i not in terminated_indices]\n",
        "    best_terminated = [i for i in top_beam_indices if i in terminated_indices]\n",
        "\n",
        "    # Return the beam objects from these indices\n",
        "    return self[best_continuing], self[best_terminated]\n",
        "\n",
        "def get_topk_non_repeating(\n",
        "    self,\n",
        "    logprobs: Float[Tensor, \"batch d_vocab\"],\n",
        "    no_repeat_ngram_size: int | None,\n",
        "    k: int,\n",
        ") -> tuple[Float[Tensor, \"k\"], Int[Tensor, \"k\"]]:\n",
        "    \"\"\"\n",
        "    logprobs:\n",
        "        tensor of the log-probs for the next token\n",
        "    no_repeat_ngram_size:\n",
        "        size of ngram to avoid repeating\n",
        "    k:\n",
        "        number of top logits to return, for each beam in our collection\n",
        "\n",
        "    Returns:\n",
        "        equivalent to the output of `logprobs.topk(dim=-1)`, but makes sure that no returned tokens would produce an\n",
        "        ngram of size `no_repeat_ngram_size` which has already appeared in `self.tokens`.\n",
        "    \"\"\"\n",
        "    batch, seq_len = self.tokens.shape\n",
        "\n",
        "    # If completion isn't long enough for a repetition, or we have no restrictions, just return topk\n",
        "    if (no_repeat_ngram_size is not None) and (seq_len > no_repeat_ngram_size - 1):\n",
        "        # Otherwise, we need to check for ngram repetitions\n",
        "        # First, get the most recent `no_repeat_ngram_size-1` tokens\n",
        "        last_ngram_prefix = self.tokens[:, seq_len - (no_repeat_ngram_size - 1) :]\n",
        "        # Next, find all the tokens we're not allowed to generate, by checking all past ngrams for a match\n",
        "        for i in range(seq_len - (no_repeat_ngram_size - 1)):\n",
        "            ngrams = self.tokens[:, i : i + no_repeat_ngram_size]  # (batch, ngram)\n",
        "            ngrams_are_repeated = (ngrams[:, :-1] == last_ngram_prefix).all(-1)  # (batch,)\n",
        "            ngram_end_tokens = ngrams[:, [-1]]  # (batch, 1)\n",
        "            # Fill logprobs with neginf wherever the ngrams are repeated\n",
        "            logprobs[range(batch), ngram_end_tokens] = t.where(\n",
        "                ngrams_are_repeated, -1.0e4, logprobs[range(batch), ngram_end_tokens]\n",
        "            )\n",
        "\n",
        "    # Finally, get our actual tokens\n",
        "    return logprobs.topk(k=k, dim=-1)\n",
        "```\n",
        "\n",
        "</details>"
      ]
    },
    {
      "cell_type": "markdown",
      "metadata": {
        "id": "F1zDbkl8rjy3"
      },
      "source": [
        "Example usage of the `Beams` class, and the `print` method, corresponding to the diagram above:"
      ]
    },
    {
      "cell_type": "code",
      "execution_count": 112,
      "metadata": {
        "id": "0GxaR1F3rjy3"
      },
      "outputs": [
        {
          "data": {
            "text/html": [
              "<pre style=\"white-space:pre;overflow-x:auto;line-height:normal;font-family:Menlo,'DejaVu Sans Mono',consolas,'Courier New',monospace\"><span style=\"font-style: italic\">           Best completions           </span>\n",
              "┏━━━━━━━━━━━━━┳━━━━━━━━━━━━━━━━━━━━━━┓\n",
              "┃<span style=\"font-weight: bold\"> logprob sum </span>┃<span style=\"font-weight: bold\"> completion           </span>┃\n",
              "┡━━━━━━━━━━━━━╇━━━━━━━━━━━━━━━━━━━━━━┩\n",
              "│   -2.393    │ 'When I was a'       │\n",
              "│   -2.556    │ 'When I was in'      │\n",
              "│   -3.168    │ 'When I was growing' │\n",
              "└─────────────┴──────────────────────┘\n",
              "</pre>\n"
            ],
            "text/plain": [
              "\u001b[3m           Best completions           \u001b[0m\n",
              "┏━━━━━━━━━━━━━┳━━━━━━━━━━━━━━━━━━━━━━┓\n",
              "┃\u001b[1m \u001b[0m\u001b[1mlogprob sum\u001b[0m\u001b[1m \u001b[0m┃\u001b[1m \u001b[0m\u001b[1mcompletion          \u001b[0m\u001b[1m \u001b[0m┃\n",
              "┡━━━━━━━━━━━━━╇━━━━━━━━━━━━━━━━━━━━━━┩\n",
              "│   -2.393    │ 'When I was a'       │\n",
              "│   -2.556    │ 'When I was in'      │\n",
              "│   -3.168    │ 'When I was growing' │\n",
              "└─────────────┴──────────────────────┘\n"
            ]
          },
          "metadata": {},
          "output_type": "display_data"
        }
      ],
      "source": [
        "# Start with prompt \"When I was\", get top 3 tokens (and their logprobs), and use that to create & display the top 3 beams\n",
        "prompt = \"When I was\"\n",
        "tokens = tokenizer.encode(prompt, return_tensors=\"pt\").to(device)\n",
        "logprobs = model(tokens)[0, -1].log_softmax(-1)\n",
        "top_logprobs, top_tokens = logprobs.topk(k=3, dim=-1)\n",
        "\n",
        "new_tokens = t.concat([tokens.repeat(3, 1), top_tokens.unsqueeze(-1)], dim=-1)\n",
        "\n",
        "beams = Beams(model, tokenizer, logprob_sums=top_logprobs, tokens=new_tokens)\n",
        "beams.print()"
      ]
    },
    {
      "cell_type": "markdown",
      "metadata": {
        "id": "53SlhZmWrjy3"
      },
      "source": [
        "And here are some unit tests for your `generate` and `filter` methods, starting from the prompt `\"When I was\"` (so your output should match the diagram above)."
      ]
    },
    {
      "cell_type": "code",
      "execution_count": 113,
      "metadata": {
        "id": "2YcqZ2dxrjy3"
      },
      "outputs": [
        {
          "name": "stdout",
          "output_type": "stream",
          "text": [
            "Testing generate...\n",
            "tensor([[-0.6985, -2.4151, -2.5230],\n",
            "        [-2.0549, -2.1144, -2.5835],\n",
            "        [-0.0126, -6.1836, -6.8360]], device='cuda:0') tensor([[5141, 1200, 1310],\n",
            "        [ 262, 4152, 1029],\n",
            "        [ 510, 4697,  616]], device='cuda:0')\n"
          ]
        },
        {
          "data": {
            "text/html": [
              "<pre style=\"white-space:pre;overflow-x:auto;line-height:normal;font-family:Menlo,'DejaVu Sans Mono',consolas,'Courier New',monospace\"><span style=\"font-style: italic\">              Best completions              </span>\n",
              "┏━━━━━━━━━━━━━┳━━━━━━━━━━━━━━━━━━━━━━━━━━━━┓\n",
              "┃<span style=\"font-weight: bold\"> logprob sum </span>┃<span style=\"font-weight: bold\"> completion                 </span>┃\n",
              "┡━━━━━━━━━━━━━╇━━━━━━━━━━━━━━━━━━━━━━━━━━━━┩\n",
              "│   -3.091    │ 'When I was a kid'         │\n",
              "│   -4.808    │ 'When I was a child'       │\n",
              "│   -4.916    │ 'When I was a little'      │\n",
              "│   -4.611    │ 'When I was in the'        │\n",
              "│   -4.671    │ 'When I was in college'    │\n",
              "│   -5.140    │ 'When I was in high'       │\n",
              "│   -3.181    │ 'When I was growing up'    │\n",
              "│   -9.352    │ 'When I was growing older' │\n",
              "│  -10.004    │ 'When I was growing my'    │\n",
              "└─────────────┴────────────────────────────┘\n",
              "</pre>\n"
            ],
            "text/plain": [
              "\u001b[3m              Best completions              \u001b[0m\n",
              "┏━━━━━━━━━━━━━┳━━━━━━━━━━━━━━━━━━━━━━━━━━━━┓\n",
              "┃\u001b[1m \u001b[0m\u001b[1mlogprob sum\u001b[0m\u001b[1m \u001b[0m┃\u001b[1m \u001b[0m\u001b[1mcompletion                \u001b[0m\u001b[1m \u001b[0m┃\n",
              "┡━━━━━━━━━━━━━╇━━━━━━━━━━━━━━━━━━━━━━━━━━━━┩\n",
              "│   -3.091    │ 'When I was a kid'         │\n",
              "│   -4.808    │ 'When I was a child'       │\n",
              "│   -4.916    │ 'When I was a little'      │\n",
              "│   -4.611    │ 'When I was in the'        │\n",
              "│   -4.671    │ 'When I was in college'    │\n",
              "│   -5.140    │ 'When I was in high'       │\n",
              "│   -3.181    │ 'When I was growing up'    │\n",
              "│   -9.352    │ 'When I was growing older' │\n",
              "│  -10.004    │ 'When I was growing my'    │\n",
              "└─────────────┴────────────────────────────┘\n"
            ]
          },
          "metadata": {},
          "output_type": "display_data"
        },
        {
          "name": "stdout",
          "output_type": "stream",
          "text": [
            "All tests for `generate` passed!\n"
          ]
        }
      ],
      "source": [
        "print(\"Testing generate...\")\n",
        "new_beams = beams.generate(k=3, no_repeat_ngram_size=1)\n",
        "new_beams.print()\n",
        "\n",
        "expected_values = [(-3.1, \"When I was a kid\"), (-4.8, \"When I was a child\"), (-4.9, \"When I was a little\")]\n",
        "\n",
        "for i, (logprob_sum, completion) in enumerate(new_beams.logprobs_and_completions[:3]):\n",
        "    assert abs(logprob_sum - expected_values[i][0]) < 0.1, f\"{i}\"\n",
        "    assert completion == expected_values[i][1], f\"{i}\"\n",
        "\n",
        "print(\"All tests for `generate` passed!\")"
      ]
    },
    {
      "cell_type": "code",
      "execution_count": 114,
      "metadata": {
        "id": "YAUge-pwrjy3"
      },
      "outputs": [
        {
          "name": "stdout",
          "output_type": "stream",
          "text": [
            "Testing `filter`...\n"
          ]
        },
        {
          "data": {
            "text/html": [
              "<pre style=\"white-space:pre;overflow-x:auto;line-height:normal;font-family:Menlo,'DejaVu Sans Mono',consolas,'Courier New',monospace\"><span style=\"font-style: italic\">            Best completions             </span>\n",
              "┏━━━━━━━━━━━━━┳━━━━━━━━━━━━━━━━━━━━━━━━━┓\n",
              "┃<span style=\"font-weight: bold\"> logprob sum </span>┃<span style=\"font-weight: bold\"> completion              </span>┃\n",
              "┡━━━━━━━━━━━━━╇━━━━━━━━━━━━━━━━━━━━━━━━━┩\n",
              "│   -3.091    │ 'When I was a kid'      │\n",
              "│   -3.181    │ 'When I was growing up' │\n",
              "│   -4.611    │ 'When I was in the'     │\n",
              "└─────────────┴─────────────────────────┘\n",
              "</pre>\n"
            ],
            "text/plain": [
              "\u001b[3m            Best completions             \u001b[0m\n",
              "┏━━━━━━━━━━━━━┳━━━━━━━━━━━━━━━━━━━━━━━━━┓\n",
              "┃\u001b[1m \u001b[0m\u001b[1mlogprob sum\u001b[0m\u001b[1m \u001b[0m┃\u001b[1m \u001b[0m\u001b[1mcompletion             \u001b[0m\u001b[1m \u001b[0m┃\n",
              "┡━━━━━━━━━━━━━╇━━━━━━━━━━━━━━━━━━━━━━━━━┩\n",
              "│   -3.091    │ 'When I was a kid'      │\n",
              "│   -3.181    │ 'When I was growing up' │\n",
              "│   -4.611    │ 'When I was in the'     │\n",
              "└─────────────┴─────────────────────────┘\n"
            ]
          },
          "metadata": {},
          "output_type": "display_data"
        },
        {
          "name": "stdout",
          "output_type": "stream",
          "text": [
            "All tests for `filter` passed!\n"
          ]
        }
      ],
      "source": [
        "print(\"Testing `filter`...\")\n",
        "\n",
        "best_beams, terminated_beams = new_beams.filter(3)\n",
        "best_beams.print()\n",
        "\n",
        "expected_values = [(-3.1, \"When I was a kid\"), (-3.2, \"When I was growing up\"), (-4.6, \"When I was in the\")]\n",
        "\n",
        "for i, (logprob_sum, completion) in enumerate(best_beams.logprobs_and_completions):\n",
        "    assert abs(logprob_sum - expected_values[i][0]) < 0.1, f\"{i}\"\n",
        "    assert completion == expected_values[i][1], f\"{i}\"\n",
        "\n",
        "assert len(terminated_beams.logprobs_and_completions) == 0\n",
        "\n",
        "print(\"All tests for `filter` passed!\")"
      ]
    },
    {
      "cell_type": "markdown",
      "metadata": {
        "id": "J4rkeAzRrjy3"
      },
      "source": [
        "Lastly, we'll test the `no_repeat_ngram_size` argument. We do this by continually generating new tokens from our starting beams `beams`, and seeing if the model repeats the `I was` ngram (which it will by default unless we prohibit repeating n-grams)."
      ]
    },
    {
      "cell_type": "code",
      "execution_count": 115,
      "metadata": {
        "id": "NSe1AaiRrjy3"
      },
      "outputs": [
        {
          "name": "stdout",
          "output_type": "stream",
          "text": [
            "Testing `no_repeat_ngram_size`...\n",
            "tensor([[-0.6985],\n",
            "        [-2.0549],\n",
            "        [-0.0126]], device='cuda:0') tensor([[5141],\n",
            "        [ 262],\n",
            "        [ 510]], device='cuda:0')\n",
            "tensor([[-0.5006],\n",
            "        [-2.7536],\n",
            "        [-0.5810]], device='cuda:0') tensor([[  11],\n",
            "        [4436],\n",
            "        [  11]], device='cuda:0')\n",
            "tensor([[-0.8749],\n",
            "        [-0.8074],\n",
            "        [-1.0668]], device='cuda:0') tensor([[314],\n",
            "        [ 11],\n",
            "        [314]], device='cuda:0')\n",
            "tensor([[-2.1539],\n",
            "        [-0.8590],\n",
            "        [-2.0884]], device='cuda:0') tensor([[373],\n",
            "        [314],\n",
            "        [373]], device='cuda:0')\n",
            "tensor([[-2.5236],\n",
            "        [-1.7795],\n",
            "        [-2.2044]], device='cuda:0') tensor([[1464],\n",
            "        [ 373],\n",
            "        [1464]], device='cuda:0')\n"
          ]
        },
        {
          "data": {
            "text/html": [
              "<pre style=\"white-space:pre;overflow-x:auto;line-height:normal;font-family:Menlo,'DejaVu Sans Mono',consolas,'Courier New',monospace\"><span style=\"font-style: italic\">         Completions with no ngram restriction         </span>\n",
              "┏━━━━━━━━━━━━━┳━━━━━━━━━━━━━━━━━━━━━━━━━━━━━━━━━━━━━━━┓\n",
              "┃<span style=\"font-weight: bold\"> logprob sum </span>┃<span style=\"font-weight: bold\"> completion                            </span>┃\n",
              "┡━━━━━━━━━━━━━╇━━━━━━━━━━━━━━━━━━━━━━━━━━━━━━━━━━━━━━━┩\n",
              "│   -9.144    │ 'When I was a kid, I was always'      │\n",
              "│  -10.811    │ 'When I was in the hospital, I was'   │\n",
              "│   -9.121    │ 'When I was growing up, I was always' │\n",
              "└─────────────┴───────────────────────────────────────┘\n",
              "</pre>\n"
            ],
            "text/plain": [
              "\u001b[3m         Completions with no ngram restriction         \u001b[0m\n",
              "┏━━━━━━━━━━━━━┳━━━━━━━━━━━━━━━━━━━━━━━━━━━━━━━━━━━━━━━┓\n",
              "┃\u001b[1m \u001b[0m\u001b[1mlogprob sum\u001b[0m\u001b[1m \u001b[0m┃\u001b[1m \u001b[0m\u001b[1mcompletion                           \u001b[0m\u001b[1m \u001b[0m┃\n",
              "┡━━━━━━━━━━━━━╇━━━━━━━━━━━━━━━━━━━━━━━━━━━━━━━━━━━━━━━┩\n",
              "│   -9.144    │ 'When I was a kid, I was always'      │\n",
              "│  -10.811    │ 'When I was in the hospital, I was'   │\n",
              "│   -9.121    │ 'When I was growing up, I was always' │\n",
              "└─────────────┴───────────────────────────────────────┘\n"
            ]
          },
          "metadata": {},
          "output_type": "display_data"
        },
        {
          "name": "stdout",
          "output_type": "stream",
          "text": [
            "tensor([[-0.6985],\n",
            "        [-2.0549],\n",
            "        [-0.0126]], device='cuda:0') tensor([[5141],\n",
            "        [ 262],\n",
            "        [ 510]], device='cuda:0')\n",
            "tensor([[-0.5006],\n",
            "        [-2.7536],\n",
            "        [-0.5810]], device='cuda:0') tensor([[  11],\n",
            "        [4436],\n",
            "        [  11]], device='cuda:0')\n",
            "tensor([[-0.8749],\n",
            "        [-0.8074],\n",
            "        [-1.0668]], device='cuda:0') tensor([[314],\n",
            "        [ 11],\n",
            "        [314]], device='cuda:0')\n",
            "tensor([[-2.2783],\n",
            "        [-0.8590],\n",
            "        [-2.2427]], device='cuda:0') tensor([[561],\n",
            "        [314],\n",
            "        [561]], device='cuda:0')\n",
            "tensor([[-1.9049],\n",
            "        [-2.8782],\n",
            "        [-1.9717]], device='cuda:0') tensor([[ 467],\n",
            "        [2497],\n",
            "        [ 467]], device='cuda:0')\n"
          ]
        },
        {
          "data": {
            "text/html": [
              "<pre style=\"white-space:pre;overflow-x:auto;line-height:normal;font-family:Menlo,'DejaVu Sans Mono',consolas,'Courier New',monospace\"><span style=\"font-style: italic\">        Completions with no repeated bigrams         </span>\n",
              "┏━━━━━━━━━━━━━┳━━━━━━━━━━━━━━━━━━━━━━━━━━━━━━━━━━━━━┓\n",
              "┃<span style=\"font-weight: bold\"> logprob sum </span>┃<span style=\"font-weight: bold\"> completion                          </span>┃\n",
              "┡━━━━━━━━━━━━━╇━━━━━━━━━━━━━━━━━━━━━━━━━━━━━━━━━━━━━┩\n",
              "│   -8.650    │ 'When I was a kid, I would go'      │\n",
              "│  -11.909    │ 'When I was in the hospital, I saw' │\n",
              "│   -9.043    │ 'When I was growing up, I would go' │\n",
              "└─────────────┴─────────────────────────────────────┘\n",
              "</pre>\n"
            ],
            "text/plain": [
              "\u001b[3m        Completions with no repeated bigrams         \u001b[0m\n",
              "┏━━━━━━━━━━━━━┳━━━━━━━━━━━━━━━━━━━━━━━━━━━━━━━━━━━━━┓\n",
              "┃\u001b[1m \u001b[0m\u001b[1mlogprob sum\u001b[0m\u001b[1m \u001b[0m┃\u001b[1m \u001b[0m\u001b[1mcompletion                         \u001b[0m\u001b[1m \u001b[0m┃\n",
              "┡━━━━━━━━━━━━━╇━━━━━━━━━━━━━━━━━━━━━━━━━━━━━━━━━━━━━┩\n",
              "│   -8.650    │ 'When I was a kid, I would go'      │\n",
              "│  -11.909    │ 'When I was in the hospital, I saw' │\n",
              "│   -9.043    │ 'When I was growing up, I would go' │\n",
              "└─────────────┴─────────────────────────────────────┘\n"
            ]
          },
          "metadata": {},
          "output_type": "display_data"
        }
      ],
      "source": [
        "print(\"Testing `no_repeat_ngram_size`...\")\n",
        "\n",
        "new_beams = beams\n",
        "for _ in range(5):\n",
        "    new_beams = new_beams.generate(k=1)\n",
        "new_beams.print(title=\"Completions with no ngram restriction\")\n",
        "assert all(\"I was\" in completion.removeprefix(prompt) for _, completion in new_beams.logprobs_and_completions), (\n",
        "    \"Without restriction, all beams should be completed as '...I was...'\"\n",
        ")\n",
        "\n",
        "new_beams = beams\n",
        "for _ in range(5):\n",
        "    new_beams = new_beams.generate(k=1, no_repeat_ngram_size=2)\n",
        "new_beams.print(title=\"Completions with no repeated bigrams\")\n",
        "assert all(\"I was\" not in completion.removeprefix(prompt) for _, completion in new_beams.logprobs_and_completions), (\n",
        "    \"With no repeated bigrams, no beams should contain a second '...I was...'\"\n",
        ")"
      ]
    },
    {
      "cell_type": "markdown",
      "metadata": {
        "id": "nPt31ObLrjy3"
      },
      "source": [
        "Once you've passed all of these unit tests, you can try implementing the full beam search function. It should create a `Beams` object from the initial prompt, and then repeatedly call `generate` and `filter` until the stopping criteria are met."
      ]
    },
    {
      "cell_type": "code",
      "execution_count": 116,
      "metadata": {
        "id": "USKzpX57rjy3"
      },
      "outputs": [
        {
          "data": {
            "application/vnd.jupyter.widget-view+json": {
              "model_id": "c2d9718e2ffa4b9093c02b5575feaea5",
              "version_major": 2,
              "version_minor": 0
            },
            "text/plain": [
              "  0%|          | 0/60 [00:00<?, ?it/s]"
            ]
          },
          "metadata": {},
          "output_type": "display_data"
        },
        {
          "name": "stdout",
          "output_type": "stream",
          "text": [
            "tensor([[-1.5538, -2.3993, -2.5837, -3.9461, -4.2403, -4.2932, -4.6353, -4.6377,\n",
            "         -4.9976, -5.1097, -5.1265, -5.1614, -5.2816, -5.3764, -5.4064, -5.4158,\n",
            "         -5.6516, -5.7128, -5.7764, -5.8200, -5.8556, -5.8623, -5.8768, -5.8774,\n",
            "         -5.9252, -6.0204, -6.0302, -6.0610, -6.0803, -6.0854, -6.1501, -6.1646,\n",
            "         -6.1951, -6.2257, -6.3306, -6.3517, -6.3628, -6.3632, -6.3969, -6.4086]],\n",
            "       device='cuda:0') tensor([[  262,   484,   257,   356,   511,  7937,   345,   281,   617, 10087,\n",
            "           314,   674,   340,   584,   883,   661,   734, 29996,   612,   618,\n",
            "           477,   867,   287, 32808,   530,   749,  6175,   597,   339, 24635,\n",
            "         27516, 13016,  5384,   534, 25368,  7150,  1588,  6156, 16659,   611]],\n",
            "       device='cuda:0')\n",
            "tensor([[-3.6724, -4.0811, -4.5707,  ..., -6.1242, -6.1362, -6.1526],\n",
            "        [-1.8027, -2.1320, -2.3978,  ..., -5.9773, -5.9792, -6.0225],\n",
            "        [-3.4326, -4.3601, -4.4505,  ..., -5.7964, -5.8401, -5.8529],\n",
            "        ...,\n",
            "        [-2.6224, -3.3493, -3.3797,  ..., -5.8519, -5.8522, -5.8615],\n",
            "        [-1.0591, -1.9764, -3.4001,  ..., -6.1125, -6.1205, -6.1398],\n",
            "        [-1.2619, -2.0838, -2.1171,  ..., -7.2897, -7.4176, -7.4909]],\n",
            "       device='cuda:0') tensor([[ 7937,  4252, 10087,  ...,  3797,  2907,  5384],\n",
            "        [  750,   550,   547,  ..., 33835,  4120, 13066],\n",
            "        [ 4074,  1588,  6175,  ...,  2344, 40663,  8824],\n",
            "        ...,\n",
            "        [ 7937, 32658, 14075,  ..., 18837,  5384,  5060],\n",
            "        [ 8181,   466,   389,  ...,   714,  1752,   779],\n",
            "        [  345,   484,   257,  ...,   883,   319,   465]], device='cuda:0')\n",
            "tensor([[-1.1670, -2.1495, -2.2709,  ..., -6.3200, -6.3844, -6.3955],\n",
            "        [-1.7801, -1.8290, -3.1195,  ..., -5.9215, -5.9374, -6.0032],\n",
            "        [-2.3428, -3.2550, -3.2679,  ..., -5.6800, -5.6815, -5.6854],\n",
            "        ...,\n",
            "        [-1.9815, -2.3484, -2.7685,  ..., -6.0497, -6.1786, -6.1904],\n",
            "        [-0.7318, -1.3803, -2.3056,  ..., -7.5784, -7.6390, -7.6746],\n",
            "        [-1.8137, -2.2008, -2.9235,  ..., -6.1580, -6.1793, -6.2019]],\n",
            "       device='cuda:0') tensor([[  287,   618,   319,  ...,   611,   326,   572],\n",
            "        [  587,   287,   618,  ...,  9658,  2714,    11],\n",
            "        [  287,  1775, 10938,  ...,  2029,  1043, 39871],\n",
            "        ...,\n",
            "        [  287,   750,   550,  ...,   991,  1464,  1752],\n",
            "        [  750,  9174,   547,  ...,  4983, 29263,  2376],\n",
            "        [  750,   466,  8181,  ...,  1752,  1244,   625]], device='cuda:0')\n",
            "tensor([[-3.8625, -3.9953, -4.3910,  ..., -6.3394, -6.3492, -6.3577],\n",
            "        [-2.8705, -4.1944, -4.4243,  ..., -6.6232, -6.6355, -6.6359],\n",
            "        [-1.5311, -1.7702, -2.3912,  ..., -6.3181, -6.3253, -6.3667],\n",
            "        ...,\n",
            "        [-1.2950, -2.2499, -2.5732,  ..., -6.3421, -6.4049, -6.4317],\n",
            "        [-3.7517, -4.2752, -4.4716,  ..., -6.3186, -6.3203, -6.3275],\n",
            "        [-1.1583, -2.2332, -2.4785,  ..., -5.9110, -6.1680, -6.1918]],\n",
            "       device='cuda:0') tensor([[  257,   511,   674,  ...,  2253,  1029,  6365],\n",
            "        [  257,  9538, 15114,  ...,  6766, 10598, 12269],\n",
            "        [ 8181,    13,    11,  ...,     0,  2121,   262],\n",
            "        ...,\n",
            "        [  606,   257,   287,  ...,   484,   584,   355],\n",
            "        [  257,   674,   584,  ...,   317,  5783,  1103],\n",
            "        [  287,   319,   422,  ...,   290,   257,   510]], device='cuda:0')\n",
            "tensor([[-2.3899, -2.7341, -3.3394,  ..., -5.8113, -5.9038, -5.9183],\n",
            "        [-3.8677, -3.9514, -3.9795,  ..., -5.6648, -5.7139, -5.7421],\n",
            "        [-3.2897, -3.3167, -3.3630,  ..., -5.7795, -5.8053, -5.8440],\n",
            "        ...,\n",
            "        [-4.3187, -4.4029, -4.4070,  ..., -5.8030, -5.8183, -5.8359],\n",
            "        [-2.0036, -2.1369, -2.6952,  ..., -5.7766, -5.8287, -5.8365],\n",
            "        [-1.5765, -2.3382, -2.6932,  ..., -5.9870, -6.0298, -6.0454]],\n",
            "       device='cuda:0') tensor([[11406, 33835,  1625,  ..., 14113,  3088,  6204],\n",
            "        [ 6156, 11858,  5706,  ..., 38929, 18711,  7439],\n",
            "        [ 5838,  3878,  1175,  ..., 25872,   968,  4756],\n",
            "        ...,\n",
            "        [ 3807,  2180,  4320,  ...,  4286,  2646,  1181],\n",
            "        [  290,   475,   351,  ...,  4305,   326,   783],\n",
            "        [  287,   319, 10938,  ...,   290, 28499,  9581]], device='cuda:0')\n",
            "tensor([[-3.1194, -4.1317, -4.5245,  ..., -6.5301, -6.5466, -6.5488],\n",
            "        [-3.1545, -4.2823, -5.1427,  ..., -6.8676, -6.8783, -7.0663],\n",
            "        [-1.3646, -1.4848, -1.6360,  ..., -6.6909, -6.7036, -6.7432],\n",
            "        ...,\n",
            "        [-0.8551, -1.4682, -2.9923,  ..., -6.7738, -6.8074, -6.8125],\n",
            "        [-1.0585, -1.3821, -2.0454,  ..., -7.0821, -7.0983, -7.1743],\n",
            "        [-0.3711, -2.1130, -2.4629,  ..., -7.5632, -7.5832, -7.6887]],\n",
            "       device='cuda:0') tensor([[  257,   511,  7937,  ...,  7777,   520,  4074],\n",
            "        [  257,   511,   281,  ...,  6342, 11225, 12076],\n",
            "        [  319,   287,    13,  ...,  1377,   625,   511],\n",
            "        ...,\n",
            "        [   13,    11,   290,  ...,     0,   422,  3693],\n",
            "        [  287,   379,   319,  ...,   532,   938,   784],\n",
            "        [  286,    13,    11,  ...,  1909,   422,  7937]], device='cuda:0')\n",
            "tensor([[-2.1439, -2.5916, -3.5798,  ..., -5.5870, -5.6456, -5.6506],\n",
            "        [-2.1368, -2.9734, -3.4693,  ..., -5.6116, -5.6464, -5.6701],\n",
            "        [-1.1148, -2.4716, -3.2101,  ..., -6.3906, -6.3906, -6.4185],\n",
            "        ...,\n",
            "        [-1.7494, -3.4534, -3.7643,  ..., -5.5658, -5.5870, -5.6078],\n",
            "        [-1.1337, -3.5171, -3.6807,  ..., -5.7907, -5.8482, -5.8702],\n",
            "        [-0.5337, -2.5976, -3.8338,  ..., -6.7021, -6.7324, -6.7383]],\n",
            "       device='cuda:0') tensor([[  464,     1,  2990,  ...,  4366,  2949,  2514],\n",
            "        [  464,     1,  1537,  ...,  4863,  1639,  1544],\n",
            "        [  262,   383,   366,  ...,   554,   428,   281],\n",
            "        ...,\n",
            "        [  262,  4492,   511,  ...,   509,  3284, 10315],\n",
            "        [  262,   968,   257,  ...,  2520,  3908, 12926],\n",
            "        [  262,  2272,   257,  ..., 15725,  2159,   597]], device='cuda:0')\n",
            "tensor([[-2.7200, -2.8668, -3.5150,  ..., -5.7258, -5.7792, -5.7874],\n",
            "        [-2.8405, -3.3614, -3.5051,  ..., -5.9229, -5.9302, -5.9603],\n",
            "        [-3.6424, -3.7595, -3.9613,  ..., -5.7029, -5.7208, -5.7523],\n",
            "        ...,\n",
            "        [-1.4328, -2.8075, -3.3340,  ..., -5.8248, -5.8494, -5.8626],\n",
            "        [-2.2240, -3.0013, -3.1284,  ..., -5.2157, -5.2473, -5.3000],\n",
            "        [-2.2554, -3.0592, -3.1938,  ..., -5.4340, -5.4414, -5.4447]],\n",
            "       device='cuda:0') tensor([[  983,  1175,  5498,  ...,   649,  2368,  2479],\n",
            "        [  717,  5498,  1175,  ..., 15692, 28028,  8211],\n",
            "        [ 1026,  1870,    32,  ...,  3886,    39,  7191],\n",
            "        ...,\n",
            "        [  262,  1109,   257,  ...,  3389,   674,   663],\n",
            "        [  262,   484,   340,  ...,   617,   416,   655],\n",
            "        [  262,   484,   340,  ...,   345,  2427,  5023]], device='cuda:0')\n",
            "tensor([[-2.5021, -3.5221, -3.6123,  ..., -5.6208, -5.6504, -5.6658],\n",
            "        [-1.7740, -2.2404, -2.4518,  ..., -5.5504, -5.6093, -5.6221],\n",
            "        [-0.6434, -1.5680, -3.8222,  ..., -6.5832, -6.6803, -6.7821],\n",
            "        ...,\n",
            "        [-0.1752, -2.5278, -3.7016,  ..., -8.2832, -8.2919, -8.3292],\n",
            "        [-2.7351, -2.9740, -3.0695,  ..., -5.8849, -5.9614, -5.9702],\n",
            "        [-0.3869, -2.7241, -2.7584,  ..., -7.3107, -7.3992, -7.4888]],\n",
            "       device='cuda:0') tensor([[    1,   818,  1537,  ...,  2514,  7454,  4863],\n",
            "        [  198,   383,  1119,  ...,  1675,  3574,  5455],\n",
            "        [   13,    11,    25,  ...,   198,  2346,   286],\n",
            "        ...,\n",
            "        [  286,    13,    11,  ...,  1399,  2174,  2029],\n",
            "        [ 1175,  2646,  3807,  ...,    11, 26298,  3797],\n",
            "        [ 2159, 33744,  1810,  ..., 18318,  7778, 12282]], device='cuda:0')\n",
            "tensor([[-0.7493, -1.5113, -3.2095,  ..., -6.6574, -6.7210, -6.7342],\n",
            "        [-0.6874, -1.3521, -3.3459,  ..., -7.2596, -7.2618, -7.2681],\n",
            "        [-1.8072, -2.2053, -2.4207,  ..., -5.6157, -5.6259, -5.6804],\n",
            "        ...,\n",
            "        [-0.5778, -1.9810, -3.4060,  ..., -6.6582, -6.6973, -6.7025],\n",
            "        [-3.5288, -3.6263, -3.7089,  ..., -5.4995, -5.5068, -5.5079],\n",
            "        [-1.6516, -2.2546, -3.1680,  ..., -5.6406, -5.6803, -5.7863]],\n",
            "       device='cuda:0') tensor([[   13,    11,   290,  ...,   553,   422,   706],\n",
            "        [   13,    11,   290,  ...,  1906,     0,   986],\n",
            "        [  198,   383,  1119,  ...,  1867,  1675,  2893],\n",
            "        ...,\n",
            "        [   13,    11,   290,  ...,   326,   780,   416],\n",
            "        [ 3170,   407,   262,  ...,  3049,  3221, 13232],\n",
            "        [  484,   262,   287,  ...,   356,   772,   314]], device='cuda:0')\n",
            "tensor([[-1.7565, -2.1438, -2.6628,  ..., -5.6652, -5.6722, -5.6824],\n",
            "        [-0.6102, -1.4011, -3.6127,  ..., -7.1811, -7.2123, -7.2627],\n",
            "        [-1.7704, -2.1257, -2.4649,  ..., -5.6302, -5.6422, -5.6594],\n",
            "        ...,\n",
            "        [-2.2704, -2.4644, -3.0686,  ..., -5.5479, -5.5488, -5.5616],\n",
            "        [-2.4317, -3.1003, -3.4132,  ..., -5.7802, -5.8072, -5.8276],\n",
            "        [-0.0487, -5.4063, -6.0303,  ..., -8.5126, -8.5381, -8.5425]],\n",
            "       device='cuda:0') tensor([[  198,   383,  1119,  ..., 50256,  4525,  4874],\n",
            "        [   13,    11,   290,  ...,   416,  2845,  1022],\n",
            "        [  198,   383,  1119,  ...,  1400,  2773,  2750],\n",
            "        ...,\n",
            "        [  262,   484,   547,  ...,  1752,   691,    11],\n",
            "        [ 2159, 24414, 23234,  ...,  2805,  1105, 49658],\n",
            "        [  198,   464,     1,  ...,  4366, 50256,  2953]], device='cuda:0')\n",
            "tensor([[-1.9103, -2.0504, -2.4357,  ..., -5.6120, -5.6302, -5.6437],\n",
            "        [-1.8259, -2.0965, -2.4913,  ..., -5.6260, -5.6348, -5.6429],\n",
            "        [-1.9348, -2.1537, -2.3970,  ..., -5.5725, -5.6069, -5.6158],\n",
            "        ...,\n",
            "        [-3.4059, -3.5600, -3.7942,  ..., -5.6331, -5.6354, -5.6448],\n",
            "        [-3.2220, -4.2364, -4.3875,  ..., -6.0253, -6.0562, -6.0787],\n",
            "        [-0.7247, -2.3231, -2.5521,  ..., -6.2965, -6.3135, -6.3742]],\n",
            "       device='cuda:0') tensor([[  198,   383,  1119,  ...,  2773,  5747, 34844],\n",
            "        [  198,   383,  1119,  ..., 50256,  2750,  1400],\n",
            "        [  198,   383,  1119,  ...,  2102,  2293,  1675],\n",
            "        ...,\n",
            "        [  407,   477,   262,  ...,   973,  7348,   691],\n",
            "        [ 7937,   717,  4074,  ..., 44304,  1402,  1109],\n",
            "        [  373,   338,   318,  ...,  2067,  1625,  2921]], device='cuda:0')\n",
            "tensor([[-3.1389, -3.2745, -3.8148,  ..., -5.5464, -5.6118, -5.6332],\n",
            "        [-3.0794, -3.1830, -3.2288,  ..., -5.6523, -5.7000, -5.7235],\n",
            "        [-0.0160, -6.2336, -7.2396,  ..., -9.5855, -9.6175, -9.6192],\n",
            "        ...,\n",
            "        [-1.6125, -2.6306, -2.7998,  ..., -6.0781, -6.2020, -6.2637],\n",
            "        [-2.1444, -2.3334, -3.1303,  ..., -5.2717, -5.2806, -5.3657],\n",
            "        [-1.7453, -2.0745, -3.6294,  ..., -5.6681, -5.6881, -5.7075]],\n",
            "       device='cuda:0') tensor([[  818,     1,  1026,  ...,  2061,  4863,  2514],\n",
            "        [    1,  1537,   818,  ...,  7594,  4863,  4864],\n",
            "        [  198,   464,   818,  ...,  4342,  7085, 14231],\n",
            "        ...,\n",
            "        [  262,   257,   511,  ...,  2330,  1178,  7009],\n",
            "        [  262,   484,   287,  ...,   319,   994,   645],\n",
            "        [  262,  1109,   428,  ..., 24414, 20033, 28684]], device='cuda:0')\n",
            "tensor([[-1.9673, -4.3883, -4.4306,  ..., -5.8757, -5.8788, -5.8894],\n",
            "        [-2.0433, -4.3969, -4.4806,  ..., -5.8746, -5.8787, -5.8915],\n",
            "        [-2.0462, -4.4601, -4.4771,  ..., -5.7627, -5.7847, -5.8035],\n",
            "        ...,\n",
            "        [-1.1160, -2.4199, -3.1700,  ..., -6.0021, -6.1052, -6.1066],\n",
            "        [-2.2240, -2.8159, -2.8656,  ..., -5.8107, -5.8139, -5.8350],\n",
            "        [-2.8986, -3.5975, -3.9123,  ..., -5.6288, -5.6579, -5.6871]],\n",
            "       device='cuda:0') tensor([[  464,  1858,  2202,  ..., 11486,    34,  2949],\n",
            "        [  464,  1858,    40,  ...,  2949,  7085,    33],\n",
            "        [  464,  4723,  1858,  ...,  5159,  7085,    34],\n",
            "        ...,\n",
            "        [  547,   550,  1422,  ...,  2626,  2540,  1464],\n",
            "        [  257,   587,   262,  ..., 12098,  2048,    11],\n",
            "        [ 1903,   717,  2739,  ...,   640,  1306,   890]], device='cuda:0')\n",
            "tensor([[-3.3763, -3.6715, -5.0676,  ..., -6.0199, -6.0271, -6.0390],\n",
            "        [-3.5893, -3.6872, -5.0599,  ..., -6.0292, -6.0941, -6.0951],\n",
            "        [-3.4128, -3.6458, -4.8286,  ..., -6.1915, -6.1931, -6.2080],\n",
            "        ...,\n",
            "        [-1.6588, -2.9542, -3.2142,  ..., -5.6516, -5.6916, -5.7900],\n",
            "        [-2.0956, -2.3118, -2.9099,  ..., -5.7330, -5.8575, -5.9424],\n",
            "        [-1.0976, -2.5888, -2.8461,  ..., -6.1672, -6.1908, -6.2505]],\n",
            "       device='cuda:0') tensor([[  717,  4074,  1175,  ...,  2656,  9976, 41184],\n",
            "        [  717,  4074,  8565,  ..., 10181,   995, 16659],\n",
            "        [  717,  4074,   749,  ..., 14555,  4094, 23644],\n",
            "        ...,\n",
            "        [  262,   257,  1672,  ...,   379,  1440,  2237],\n",
            "        [   11,   644,   340,  ...,  3737,   379,   466],\n",
            "        [  262,   717,  1551,  ...,   642,   807,  6384]], device='cuda:0')\n",
            "tensor([[-10.3373, -11.1288, -11.1441,  ..., -14.4566, -14.4573, -14.4858],\n",
            "        [ -2.7345,  -2.7804,  -3.0265,  ...,  -5.8341,  -5.8794,  -5.8881],\n",
            "        [ -2.5993,  -2.9662,  -3.1658,  ...,  -8.2291,  -8.2802,  -8.3000],\n",
            "        ...,\n",
            "        [ -1.3523,  -1.5906,  -3.1112,  ...,  -6.1975,  -6.2985,  -6.4358],\n",
            "        [ -1.5953,  -2.5079,  -3.0313,  ...,  -5.5265,  -5.5585,  -5.7641],\n",
            "        [ -2.1239,  -3.7888,  -3.8717,  ...,  -6.0086,  -6.1029,  -6.1153]],\n",
            "       device='cuda:0') tensor([[   13,   628,    11,  ...,   851,   930,   284],\n",
            "        [  640,  4074,  7937,  ...,  1625,  6215,   614],\n",
            "        [  606,   777,   883,  ...,  1770,   399,   509],\n",
            "        ...,\n",
            "        [  645,   257,  2147,  ...,  5600,  1865,  1690],\n",
            "        [ 1528,   812,  1160,  ...,  2106,  4019,  6180],\n",
            "        [  717,   749,   938,  ..., 23116,   835,  6846]], device='cuda:0')\n",
            "tensor([[-0.4881, -2.5361, -3.3087,  ..., -6.9983, -7.0161, -7.0467],\n",
            "        [-3.3772, -3.4106, -3.5305,  ..., -5.8764, -5.8868, -5.9277],\n",
            "        [-3.0034, -3.1337, -3.5019,  ..., -5.6474, -5.6794, -5.6842],\n",
            "        ...,\n",
            "        [-0.6180, -3.0161, -3.4632,  ..., -6.8887, -6.8985, -6.9322],\n",
            "        [-3.9857, -4.0335, -4.1730,  ..., -5.9163, -5.9260, -5.9341],\n",
            "        [-1.6220, -1.7314, -2.6317,  ..., -6.0590, -6.0787, -6.1091]],\n",
            "       device='cuda:0') tensor([[   11,  4444,   373,  ...,   663,  1111,   379],\n",
            "        [  761,   835,  4719,  ...,  2562,  5149,  1743],\n",
            "        [ 1256,   640,  1049,  ...,  1643,  1611,  7310],\n",
            "        ...,\n",
            "        [ 7937,   373, 14891,  ...,  2679,   640,  1310],\n",
            "        [  517,  5895,   584,  ..., 13016,  9168,  2330],\n",
            "        [  547,   284,   286,  ...,  2497, 13112,  1718]], device='cuda:0')\n",
            "tensor([[-1.2889, -3.0399, -3.7687,  ..., -5.7897, -5.8048, -5.8286],\n",
            "        [-1.3516, -3.0350, -3.4758,  ..., -5.8398, -5.8527, -5.8549],\n",
            "        [-1.3741, -3.0503, -3.5277,  ..., -5.8190, -5.8527, -5.8999],\n",
            "        ...,\n",
            "        [-2.2243, -2.8598, -2.9010,  ..., -5.4726, -5.4965, -5.5059],\n",
            "        [-0.4172, -2.2876, -2.7599,  ..., -7.2750, -7.2864, -7.3698],\n",
            "        [-0.8339, -1.5559, -2.4221,  ..., -7.3631, -7.4038, -7.4227]],\n",
            "       device='cuda:0') tensor([[  262,   484,   867,  ...,  3284,  5491,   734],\n",
            "        [  262,   340,   484,  ...,   326, 11908,   281],\n",
            "        [  262,   340,   484,  ...,   281, 34031,  3284],\n",
            "        ...,\n",
            "        [  547, 11406, 13112,  ...,  1682, 30895,  4978],\n",
            "        [  618,    11,   287,  ...,   784,   783,   655],\n",
            "        [  373,  3947,  3114,  ...,  6150,  1816,  5238]], device='cuda:0')\n",
            "tensor([[-3.3491e+00, -3.9672e+00, -3.9838e+00,  ..., -5.8968e+00,\n",
            "         -5.9173e+00, -5.9201e+00],\n",
            "        [-3.5540e+00, -3.6972e+00, -3.7609e+00,  ..., -5.8305e+00,\n",
            "         -5.8660e+00, -5.8987e+00],\n",
            "        [-3.7504e+00, -3.7723e+00, -3.8071e+00,  ..., -5.8897e+00,\n",
            "         -5.9055e+00, -5.9155e+00],\n",
            "        ...,\n",
            "        [-1.4153e+00, -2.3879e+00, -3.2184e+00,  ..., -5.9582e+00,\n",
            "         -6.0579e+00, -6.0600e+00],\n",
            "        [-1.0913e+00, -1.4249e+00, -2.5110e+00,  ..., -7.2415e+00,\n",
            "         -7.2505e+00, -7.3044e+00],\n",
            "        [-1.7461e-03, -7.7471e+00, -8.5857e+00,  ..., -1.2288e+01,\n",
            "         -1.2317e+01, -1.2472e+01]], device='cuda:0') tensor([[ 7937,  8565,  1578,  ...,  9976, 11773, 28234],\n",
            "        [16064,  1578,  7937,  ...,  3878, 10914, 12267],\n",
            "        [ 7937,  1578,   471,  ...,  3878,  3427, 10181],\n",
            "        ...,\n",
            "        [  286,  7937,   661,  ...,  1862,  6154, 14982],\n",
            "        [ 3114,   547,  3947,  ...,  2714,  9066,  1625],\n",
            "        [   11,   960,   851,  ..., 17414,   355,   553]], device='cuda:0')\n",
            "tensor([[ -2.9423,  -3.8606,  -4.0786,  ...,  -5.8228,  -5.8484,  -5.8679],\n",
            "        [ -3.5409,  -3.8839,  -4.1210,  ...,  -5.9117,  -5.9149,  -5.9209],\n",
            "        [ -4.1087,  -4.2162,  -4.2585,  ...,  -5.8396,  -5.8540,  -5.8550],\n",
            "        ...,\n",
            "        [ -0.0966,  -2.6960,  -4.0797,  ..., -10.5955, -10.6815, -10.6834],\n",
            "        [ -0.5239,  -1.8617,  -2.6788,  ...,  -7.0159,  -7.1051,  -7.2262],\n",
            "        [ -1.4260,  -2.2181,  -2.5225,  ...,  -5.7121,  -5.7256,  -5.7824]],\n",
            "       device='cuda:0') tensor([[ 7937,  1578,  4074,  ..., 10181, 34031,  2104],\n",
            "        [ 7937,  1578, 16064,  ...,  9976,   661, 28234],\n",
            "        [16064,   717,  7937,  ...,  6215,  3274, 23116],\n",
            "        ...,\n",
            "        [ 1829,  7973,  7526,  ...,  2547,  7570,  8284],\n",
            "        [  286,    11,   373,  ...,    13,  1718,  3214],\n",
            "        [  547,   550,   714,  ...,   477,  2067,  5257]], device='cuda:0')\n",
            "tensor([[-1.4604, -2.4185, -3.3067,  ..., -5.8450, -5.8491, -5.8530],\n",
            "        [-2.9465, -3.8410, -3.9477,  ..., -5.8550, -5.8972, -5.9656],\n",
            "        [-1.3456, -3.1054, -3.4605,  ..., -5.6904, -5.7306, -5.7458],\n",
            "        ...,\n",
            "        [-1.3829, -2.1043, -2.4104,  ..., -6.2647, -6.3188, -6.3264],\n",
            "        [-2.1035, -3.1474, -3.5727,  ..., -6.2696, -6.2730, -6.2925],\n",
            "        [-2.4168, -2.6085, -3.1765,  ..., -5.9118, -5.9670, -5.9751]],\n",
            "       device='cuda:0') tensor([[  262,   257,  7937,  ...,   345, 19014,  2679],\n",
            "        [ 7937,  1578,   471,  ...,   649,   661, 19014],\n",
            "        [  262,   257,  7937,  ...,  5519,  2031,  6215],\n",
            "        ...,\n",
            "        [  262,   257,   484,  ...,  1123,    11,  2506],\n",
            "        [ 1807,   550,  2936,  ...,   925,  7342,  1682],\n",
            "        [  749,   691,  4387,  ...,  4960, 23116, 23956]], device='cuda:0')\n",
            "tensor([[-3.0062, -3.3807, -3.6917,  ..., -5.8769, -5.8837, -5.9239],\n",
            "        [-0.9494, -2.4289, -3.9571,  ..., -6.0391, -6.1227, -6.1435],\n",
            "        [-4.1775, -4.4807, -4.5232,  ..., -7.4676, -7.5046, -7.5153],\n",
            "        ...,\n",
            "        [-1.4063, -2.0252, -2.0584,  ..., -6.4346, -6.4502, -6.4524],\n",
            "        [-3.9360, -3.9943, -4.0540,  ..., -5.5890, -5.5892, -5.6022],\n",
            "        [-2.4510, -2.5281, -2.5451,  ..., -6.1986, -6.2471, -6.2707]],\n",
            "       device='cuda:0') tensor([[1578, 7937,  471,  ..., 4472, 5462, 6215],\n",
            "        [ 262,  257,  281,  ..., 2692,  996, 3999],\n",
            "        [ 257,  612,  356,  ...,  867,  674,  532],\n",
            "        ...,\n",
            "        [ 287,  379,  319,  ...,  826, 1115,  407],\n",
            "        [1402, 2168, 6175,  ..., 3190, 6283, 3272],\n",
            "        [2223,  428,  257,  ...,  340, 9978,  465]], device='cuda:0')\n",
            "tensor([[-2.8259, -3.3194, -3.5695,  ..., -5.8205, -5.8932, -5.9309],\n",
            "        [-1.0078, -1.5571, -2.1878,  ..., -6.5613, -6.5669, -6.6006],\n",
            "        [-3.0744, -3.2809, -3.7136,  ..., -5.6727, -5.7771, -5.8061],\n",
            "        ...,\n",
            "        [-2.7983, -3.6508, -3.7621,  ..., -5.4423, -5.4794, -5.5863],\n",
            "        [-2.1745, -2.7863, -3.0884,  ..., -5.7599, -5.7684, -5.7833],\n",
            "        [-2.7611, -3.5973, -3.7905,  ..., -5.4614, -5.4880, -5.4978]],\n",
            "       device='cuda:0') tensor([[ 1578,   471,  7937,  ..., 28905, 11773,  3482],\n",
            "        [  373,    11,   314,  ...,   339,   925,  7348],\n",
            "        [16064,  7937,  2679,  ...,  2258, 14891,  3274],\n",
            "        ...,\n",
            "        [  257, 15761, 23234,  ...,  2739,  3576, 27937],\n",
            "        [ 7937,   734,   645,  ...,  1450,   477,  1811],\n",
            "        [  257, 15761, 23234,  ..., 27937, 24648, 15589]], device='cuda:0')\n",
            "tensor([[-1.4296, -1.9776, -1.9856,  ..., -6.4531, -6.4719, -6.4738],\n",
            "        [-2.3858, -2.6395, -2.7063,  ..., -5.8579, -5.8885, -5.9078],\n",
            "        [-0.9766, -1.6097, -3.0540,  ..., -6.5493, -6.5588, -6.5897],\n",
            "        ...,\n",
            "        [-2.2753, -2.9655, -3.6744,  ..., -5.3737, -5.3884, -5.3922],\n",
            "        [-1.0024, -2.0972, -2.9417,  ..., -6.2834, -6.3532, -6.3549],\n",
            "        [-0.9054, -1.3456, -2.3900,  ..., -7.6710, -7.7307, -7.7413]],\n",
            "       device='cuda:0') tensor([[  287,   319,   379,  ...,   691,   326,   407],\n",
            "        [  373,  8565,   290,  ...,   783,  2626,  5281],\n",
            "        [  314,   340,   262,  ...,   284,   286,   477],\n",
            "        ...,\n",
            "        [ 1498,  1775,  3170,  ...,  5055, 10911, 12462],\n",
            "        [  338,   373,   550,  ...,  2626,  1392,  2900],\n",
            "        [  257,   262,   616,  ..., 17691,   883, 15761]], device='cuda:0')\n",
            "tensor([[ -0.0451,  -4.0191,  -4.3549,  ..., -10.2684, -10.3284, -10.3785],\n",
            "        [ -2.2148,  -2.3921,  -2.7552,  ...,  -5.7760,  -5.7886,  -5.8211],\n",
            "        [ -2.7648,  -3.4422,  -3.6024,  ...,  -5.5456,  -5.5481,  -5.5514],\n",
            "        ...,\n",
            "        [ -1.3044,  -1.9415,  -2.7827,  ...,  -6.0280,  -6.0355,  -6.0382],\n",
            "        [ -3.5830,  -3.5921,  -3.7435,  ...,  -5.4075,  -5.4205,  -5.4628],\n",
            "        [ -0.4190,  -1.7276,  -3.2087,  ...,  -7.3195,  -7.3321,  -7.4926]],\n",
            "       device='cuda:0') tensor([[   13,  7874,  1539,  ...,  2732, 44388,   550],\n",
            "        [ 8565,   373,   550,  ...,  1625,  1908, 19014],\n",
            "        [  257, 15761, 16994,  ..., 27937, 19322, 10249],\n",
            "        ...,\n",
            "        [  257,   262,   281,  ...,  1588,   790, 14982],\n",
            "        [  407,   287,  2263,  ...,  2712,  5137,   546],\n",
            "        [  373,    11,   314,  ...,    13,   532,  5091]], device='cuda:0')\n",
            "tensor([[ -0.8438,  -2.2665,  -3.1763,  ...,  -6.5335,  -6.5735,  -6.5846],\n",
            "        [ -0.0429,  -3.7765,  -4.7518,  ..., -10.4287, -10.4970, -10.5119],\n",
            "        [ -1.8277,  -2.1730,  -2.2879,  ...,  -5.9341,  -5.9406,  -5.9624],\n",
            "        ...,\n",
            "        [ -1.9575,  -3.3645,  -3.8348,  ...,  -5.6264,  -5.6914,  -5.6985],\n",
            "        [ -2.4298,  -2.9048,  -2.9523,  ...,  -5.5849,  -5.6202,  -5.6510],\n",
            "        [ -3.0522,  -3.2071,  -3.3596,  ...,  -5.7262,  -5.7301,  -5.7384]],\n",
            "       device='cuda:0') tensor([[ 8565,  2422,  1230,  ...,  6215, 41056,  2732],\n",
            "        [   13,  7874,  1539,  ...,  6215, 40791,   468],\n",
            "        [  287,   319,   379,  ...,   780,   739,   588],\n",
            "        ...,\n",
            "        [ 4074,  2060, 24927,  ...,  8565,  6614,  1729],\n",
            "        [  373,   468,   550,  ...,  1625,  2627,   531],\n",
            "        [  717, 23116,  4074,  ...,  2297, 10851, 11561]], device='cuda:0')\n",
            "tensor([[-2.3868, -2.5158, -2.6545,  ..., -5.9499, -5.9684, -5.9692],\n",
            "        [-2.3725, -3.4277, -3.5235,  ..., -6.4806, -6.4964, -6.5949],\n",
            "        [-2.1933, -2.6521, -2.7622,  ..., -5.7346, -5.7358, -5.7661],\n",
            "        ...,\n",
            "        [-0.1591, -3.0635, -3.9348,  ..., -8.2472, -8.2725, -8.2768],\n",
            "        [-1.0812, -2.6032, -2.8401,  ..., -5.8210, -5.8599, -5.9223],\n",
            "        [-0.4995, -1.9200, -3.0278,  ..., -7.1963, -7.2364, -7.2562]],\n",
            "       device='cuda:0') tensor([[  373,   338,   550,  ...,  2722,  7907, 36385],\n",
            "        [ 2422, 23956,  1230,  ...,  2732,  7965,   311],\n",
            "        [  373,   468,   550,  ...,  5257,   287,   783],\n",
            "        ...,\n",
            "        [  284,   416,   287,  ...,   339,  1022,   357],\n",
            "        [ 9906, 11796,  1175,  ...,  3298,  4885,  9572],\n",
            "        [  611,   996,   257,  ...,  2829,   880,  1903]], device='cuda:0')\n",
            "tensor([[-2.1448, -2.5247, -2.5977,  ..., -5.7746, -5.7969, -5.7995],\n",
            "        [-1.3399, -3.6518, -3.8924,  ..., -5.7295, -5.7597, -5.7828],\n",
            "        [-2.8568, -3.1511, -3.2727,  ..., -5.8356, -5.8994, -5.9084],\n",
            "        ...,\n",
            "        [-0.1135, -4.4918, -4.6776,  ..., -8.2809, -8.2811, -8.2840],\n",
            "        [-0.3581, -3.4397, -3.5006,  ..., -6.9245, -7.0109, -7.0366],\n",
            "        [-2.5386, -2.8611, -3.7300,  ..., -5.3943, -5.4012, -5.4283]],\n",
            "       device='cuda:0') tensor([[  373,   468,   550,  ...,   635,  3142,  5257],\n",
            "        [ 1498,   287,  3142,  ...,   852,  6872,  4497],\n",
            "        [11026, 21336,  7937,  ...,  4117,  2422,  1115],\n",
            "        ...,\n",
            "        [ 3386,   351,  2700,  ...,  1450, 41056, 20729],\n",
            "        [  407,  1223,   257,  ...,   881,  1282,  6129],\n",
            "        [  587,   257,   925,  ...,  7907,  5281,  3377]], device='cuda:0')\n",
            "tensor([[-0.0165, -5.1072, -6.9514,  ..., -9.7948, -9.7996, -9.8814],\n",
            "        [-2.2222, -3.0243, -3.6589,  ..., -5.7188, -5.7271, -5.7829],\n",
            "        [-1.6991, -3.5543, -3.9388,  ..., -5.5186, -5.5696, -5.6469],\n",
            "        ...,\n",
            "        [-3.4046, -3.4763, -3.6423,  ..., -5.4151, -5.4226, -5.4382],\n",
            "        [-1.9761, -2.5573, -2.6714,  ..., -6.0811, -6.2374, -6.3300],\n",
            "        [-1.6770, -2.4608, -3.2783,  ..., -5.6373, -5.6750, -5.6838]],\n",
            "       device='cuda:0') tensor([[  284,    11,   290,  ...,   651,  6061,   772],\n",
            "        [11026,  4074, 23956,  ...,  2272,  5249,  3236],\n",
            "        [ 1498,   287,   407,  ...,  8720,   852, 12380],\n",
            "        ...,\n",
            "        [  779,   307,  3283,  ...,  2496,  5368,  4404],\n",
            "        [  257,  1630,  3877,  ...,   884,   329,   319],\n",
            "        [  307,   423,   407,  ...,  1656,  1752,  8076]], device='cuda:0')\n",
            "tensor([[ -3.4250,  -3.7148,  -3.7460,  ...,  -5.3101,  -5.3260,  -5.3393],\n",
            "        [ -3.1685,  -3.8360,  -3.8976,  ...,  -5.3621,  -5.3917,  -5.3924],\n",
            "        [ -2.4221,  -2.7520,  -2.7961,  ...,  -5.6842,  -5.7117,  -5.7175],\n",
            "        ...,\n",
            "        [ -1.3641,  -2.5439,  -2.6364,  ...,  -6.1403,  -6.2154,  -6.2327],\n",
            "        [ -2.5051,  -3.0422,  -3.3342,  ...,  -5.7135,  -5.7468,  -5.7605],\n",
            "        [ -0.0114,  -5.5185,  -6.5737,  ..., -11.0751, -11.0961, -11.1441]],\n",
            "       device='cuda:0') tensor([[  779,  3283,  3189,  ..., 12831,  4439,  4474],\n",
            "        [  779,  6061,  5587,  ...,  1956,  3802,  1205],\n",
            "        [  547,   423,   481,  ...,  3414,  2497,  1123],\n",
            "        ...,\n",
            "        [ 2694,  3038, 12971,  ...,  3141, 19014,  3306],\n",
            "        [11026, 23956,  4074,  ...,  1402,  2272,  5249],\n",
            "        [ 5221,  2351, 12700,  ...,  5407,  3340,  9327]], device='cuda:0')\n",
            "tensor([[-2.8494, -3.2121, -3.2661,  ..., -5.3703, -5.3726, -5.3849],\n",
            "        [-3.1164, -3.2860, -3.3745,  ..., -5.3093, -5.3626, -5.3841],\n",
            "        [-3.3804, -3.5975, -3.7045,  ..., -5.3053, -5.3285, -5.3325],\n",
            "        ...,\n",
            "        [-2.7751, -2.9058, -3.1930,  ..., -5.4170, -5.4268, -5.4883],\n",
            "        [-2.0095, -2.2481, -3.3732,  ..., -5.7421, -5.7590, -5.7786],\n",
            "        [-0.2694, -2.7776, -3.1810,  ..., -7.3245, -7.3319, -7.3721]],\n",
            "       device='cuda:0') tensor([[ 3283,   779,  3189,  ...,  5001, 26450,   466],\n",
            "        [ 3283,  3189,   779,  ...,  5203,  8209,  1907],\n",
            "        [  779,  3283,  3189,  ..., 23423, 10176,  3802],\n",
            "        ...,\n",
            "        [  262,   257,   832,  ...,   290,  3049,   428],\n",
            "        [  257,   262,   587,  ...,  2077,  1336,  8720],\n",
            "        [  373,   550,  3114,  ...,  2067,  1549,   750]], device='cuda:0')\n",
            "tensor([[-3.1033, -3.8107, -3.8573,  ..., -5.3606, -5.3612, -5.4118],\n",
            "        [-1.6321, -2.4538, -2.7074,  ..., -5.7676, -5.7955, -5.8149],\n",
            "        [-2.7923, -2.8489, -3.2492,  ..., -5.7423, -5.7619, -5.8180],\n",
            "        ...,\n",
            "        [-1.7521, -2.5110, -2.6828,  ..., -5.8710, -5.8823, -5.8843],\n",
            "        [-2.2313, -2.4947, -2.6398,  ..., -5.8832, -5.8980, -5.9179],\n",
            "        [-1.6003, -2.9305, -3.5865,  ..., -5.4382, -5.5059, -5.5165]],\n",
            "       device='cuda:0') tensor([[  779,  3283,  3189,  ...,  2148,  1745,  1592],\n",
            "        [  257,   663,   262,  ..., 39471,  5254,  8956],\n",
            "        [  262,   287,   319,  ...,  1611,   734,   572],\n",
            "        ...,\n",
            "        [  257,  4472,   262,  ...,  5775,  9826,  4833],\n",
            "        [  319,   257,   262,  ...,   884,  1588,  4074],\n",
            "        [  257,   281,   663,  ...,  5417,   477,   987]], device='cuda:0')\n",
            "tensor([[-3.5500, -3.5503, -3.7804,  ..., -5.3005, -5.3229, -5.3247],\n",
            "        [-2.0350, -3.3425, -3.4871,  ..., -5.5080, -5.5237, -5.5928],\n",
            "        [-1.8982, -2.3167, -2.7785,  ..., -5.7392, -5.7805, -5.7856],\n",
            "        ...,\n",
            "        [-1.9677, -2.9695, -3.0502,  ..., -5.6425, -5.6493, -5.7399],\n",
            "        [-1.9733, -2.5770, -3.4645,  ..., -5.5170, -5.5204, -5.5670],\n",
            "        [-3.9703, -3.9969, -4.1848,  ..., -5.9571, -5.9579, -5.9752]],\n",
            "       device='cuda:0') tensor([[  779,  3189,  3283,  ...,   766,  4474,   467],\n",
            "        [ 1688,  1336,  4365,  ...,  4988,  2769,  1628],\n",
            "        [  257,   663,   262,  ...,  1956, 11920,   649],\n",
            "        ...,\n",
            "        [ 4074,  2060,  1588,  ...,  5440,   995,  1218],\n",
            "        [19014, 38255,  3344,  ...,  1398,  2323,  1487],\n",
            "        [ 3452,  4074,  3037,  ..., 19159,  4387,   995]], device='cuda:0')\n",
            "tensor([[-2.9125, -3.0163, -3.0380,  ..., -5.3520, -5.3630, -5.3997],\n",
            "        [-3.5782, -3.6294, -3.8035,  ..., -5.2765, -5.2951, -5.3311],\n",
            "        [-3.5591, -3.5700, -3.6764,  ..., -5.2736, -5.2749, -5.2997],\n",
            "        ...,\n",
            "        [-2.6075, -2.9788, -3.3308,  ..., -5.5943, -5.6036, -5.6302],\n",
            "        [-3.9792, -4.0897, -4.1571,  ..., -5.9220, -5.9614, -5.9718],\n",
            "        [-3.1586, -3.6027, -3.7961,  ..., -5.7505, -5.8242, -5.8512]],\n",
            "       device='cuda:0') tensor([[ 3283,  3189,  8076,  ...,  2222,   466,  2822],\n",
            "        [  779,  3189,  1382,  ...,  4474,   467,  1205],\n",
            "        [  779,  3189,  1382,  ..., 26913,  2148,  1445],\n",
            "        ...,\n",
            "        [ 2422, 19014,   898,  ..., 19159,   366,  8308],\n",
            "        [ 7937,  4074,  2422,  ...,  3517,  1294,  1175],\n",
            "        [  749,  3297,  4387,  ...,  3047,  5103,  4074]], device='cuda:0')\n",
            "tensor([[-1.3974, -3.2107, -3.5526,  ..., -5.7928, -5.8042, -5.8256],\n",
            "        [-0.9904, -3.0071, -3.7359,  ..., -5.9019, -5.9944, -6.0379],\n",
            "        [-1.5044, -3.1726, -3.4017,  ..., -5.4112, -5.4222, -5.4294],\n",
            "        ...,\n",
            "        [-1.6973, -2.8506, -2.9393,  ..., -6.0692, -6.0941, -6.1001],\n",
            "        [-3.7669, -4.2351, -4.2734,  ..., -5.9911, -6.0292, -6.0378],\n",
            "        [-1.9590, -2.0353, -2.5823,  ..., -6.0199, -6.0958, -6.0982]],\n",
            "       device='cuda:0') tensor([[ 6872, 28499,  5361,  ...,  4330, 12538, 10941],\n",
            "        [  503,   257,   319,  ...,  3016,   884,   572],\n",
            "        [ 3283,  6129, 14936,  ..., 20186,  8181,   407],\n",
            "        ...,\n",
            "        [  257,  7937,   511,  ..., 13767,   617, 38255],\n",
            "        [ 7937,  4074,   649,  ...,  5417,  1578,  4960],\n",
            "        [  287,   286,   284,  ..., 11512,   784,  1141]], device='cuda:0')\n",
            "tensor([[-2.7064, -3.0019, -3.0795,  ..., -5.3074, -5.3414, -5.3903],\n",
            "        [-2.3029, -2.7440, -3.4407,  ..., -5.6028, -5.7169, -5.7589],\n",
            "        [-2.0680, -2.9904, -3.1352,  ..., -5.3454, -5.3553, -5.3968],\n",
            "        ...,\n",
            "        [-2.6007, -2.9029, -2.9518,  ..., -5.6702, -5.6826, -5.6942],\n",
            "        [-3.4581, -3.9166, -4.3075,  ..., -6.0726, -6.0856, -6.1035],\n",
            "        [-1.2411, -1.8184, -2.4751,  ..., -6.0908, -6.1112, -6.1445]],\n",
            "       device='cuda:0') tensor([[38255,  1368, 19014,  ..., 24927, 39471,  5859],\n",
            "        [  257,   262,   511,  ..., 39471,  4365,   471],\n",
            "        [  257,   517,   262,  ...,   838,  2319,  5242],\n",
            "        ...,\n",
            "        [ 2060,  4523,  1588,  ...,  8837, 34737,  1271],\n",
            "        [ 7937,  4074,   649,  ...,  1294,   376,  1321],\n",
            "        [ 4560, 10566, 13565,  ..., 20371, 40854,  8452]], device='cuda:0')\n",
            "tensor([[-1.4341e+00, -3.2664e+00, -3.3334e+00,  ..., -5.6520e+00,\n",
            "         -5.6898e+00, -5.7089e+00],\n",
            "        [-1.4509e+00, -2.7400e+00, -3.4960e+00,  ..., -5.6830e+00,\n",
            "         -5.7751e+00, -5.7755e+00],\n",
            "        [-2.1305e+00, -3.0292e+00, -3.7549e+00,  ..., -5.4667e+00,\n",
            "         -5.4740e+00, -5.5123e+00],\n",
            "        ...,\n",
            "        [-5.3513e-01, -2.4385e+00, -3.1599e+00,  ..., -6.6312e+00,\n",
            "         -6.6431e+00, -6.6600e+00],\n",
            "        [-5.7375e-03, -6.9659e+00, -7.7768e+00,  ..., -1.0456e+01,\n",
            "         -1.0476e+01, -1.0518e+01],\n",
            "        [-2.1283e+00, -2.4857e+00, -2.7584e+00,  ..., -5.6402e+00,\n",
            "         -5.6415e+00, -5.7158e+00]], device='cuda:0') tensor([[ 6872,  5361, 28499,  ..., 33038,  8871,  6079],\n",
            "        [ 6872,  5361, 28499,  ...,  8871,  1804,  1642],\n",
            "        [ 6872,  5361, 11749,  ..., 29682,  8440,  8282],\n",
            "        ...,\n",
            "        [  319,  1028,   286,  ..., 15500,   572,   706],\n",
            "        [  284,   257,   262,  ...,   790,   422,  5179],\n",
            "        [  262,  1719,   257,  ...,  1688,   717,  1605]], device='cuda:0')\n",
            "tensor([[-0.6671, -2.3344, -2.4946,  ..., -6.6674, -6.6901, -6.7346],\n",
            "        [-1.7853, -2.8300, -2.8482,  ..., -5.6016, -5.6016, -5.6025],\n",
            "        [-1.9205, -2.2168, -2.3925,  ..., -5.7452, -5.7610, -5.7614],\n",
            "        ...,\n",
            "        [-1.5967, -2.4234, -2.4470,  ..., -5.9174, -5.9294, -5.9596],\n",
            "        [-2.7114, -3.4058, -3.8097,  ..., -5.5523, -5.5666, -5.5969],\n",
            "        [-2.9866, -3.0686, -3.2586,  ..., -5.3514, -5.3988, -5.3993]],\n",
            "       device='cuda:0') tensor([[ 4641,  1368,  9581,  ..., 11026,  1332,    12],\n",
            "        [  503,   257,   262,  ..., 34031,  1175,   352],\n",
            "        [   13,    11,   287,  ...,   523,   611,  3264],\n",
            "        ...,\n",
            "        [  287,  1028,   319,  ...,  3264,   588,   878],\n",
            "        [ 2060,  1402,  1499,  ...,  4988,  8837,  1171],\n",
            "        [38255, 19014, 18708,  ..., 19304,    12, 13471]], device='cuda:0')\n",
            "tensor([[-0.9404, -2.7021, -2.7254,  ..., -5.9107, -5.9120, -5.9443],\n",
            "        [-2.7742, -3.1350, -3.2504,  ..., -5.4631, -5.5129, -5.5579],\n",
            "        [-0.9245, -2.0548, -2.7425,  ..., -6.1436, -6.1756, -6.2238],\n",
            "        ...,\n",
            "        [-1.1347, -2.1545, -2.2345,  ..., -6.0985, -6.1178, -6.1577],\n",
            "        [-2.0845, -3.2483, -3.2606,  ..., -5.3230, -5.4353, -5.4548],\n",
            "        [-2.1258, -3.3958, -3.4883,  ..., -5.6547, -5.6600, -5.6896]],\n",
            "       device='cuda:0') tensor([[  319,    11,   287,  ...,   739,   832,  1923],\n",
            "        [ 1688, 12524,  2060,  ..., 23586,   845,  2176],\n",
            "        [  319,  1028,    13,  ..., 24927,   655, 15500],\n",
            "        ...,\n",
            "        [  257,   262,   281,  ...,  3294,   617,  3394],\n",
            "        [ 1588,  2060,  2472,  ..., 34282,   845,  2368],\n",
            "        [ 4814, 31781,  3793,  ...,  2104, 21258,  2042]], device='cuda:0')\n",
            "tensor([[-0.9910, -2.0714, -2.2057,  ..., -6.3922, -6.4118, -6.4262],\n",
            "        [-0.9933, -2.0979, -2.2757,  ..., -6.3522, -6.3532, -6.3755],\n",
            "        [-2.4216, -3.1179, -3.1515,  ..., -5.5651, -5.5748, -5.5855],\n",
            "        ...,\n",
            "        [-1.6451, -2.6243, -3.1234,  ..., -5.3968, -5.4086, -5.4105],\n",
            "        [-2.6797, -3.0475, -3.1020,  ..., -5.4641, -5.4670, -5.5428],\n",
            "        [-1.5442, -2.0545, -3.1708,  ..., -5.8240, -5.8345, -5.9021]],\n",
            "       device='cuda:0') tensor([[  257,   262,   281,  ..., 34031,  4392,  2031],\n",
            "        [  257,   281,   262,  ...,  1440,  7570,  1223],\n",
            "        [  543,   257,   351,  ..., 10911,   810,  9581],\n",
            "        ...,\n",
            "        [ 1368,  5587, 14833,  ...,   329, 13646,  5103],\n",
            "        [  543,   351,   290,  ...,  6872,   739,   884],\n",
            "        [ 4365, 10566, 10741,  ...,  5249,  3215,   366]], device='cuda:0')\n",
            "tensor([[-2.5865, -2.6846, -3.4891,  ..., -5.4929, -5.5617, -5.5984],\n",
            "        [-2.4901, -2.5595, -3.2743,  ..., -5.7424, -5.7435, -5.7670],\n",
            "        [-0.5277, -3.0715, -3.4782,  ..., -6.2420, -6.2499, -6.2576],\n",
            "        ...,\n",
            "        [-1.5976, -3.1981, -3.2005,  ..., -5.8482, -5.8596, -5.8656],\n",
            "        [-1.6156, -3.1730, -3.1808,  ..., -5.8185, -5.8245, -5.8590],\n",
            "        [-2.3103, -2.4397, -2.6901,  ..., -5.6656, -5.6919, -5.7257]],\n",
            "       device='cuda:0') tensor([[ 1688,  1588,  2060,  ...,  1729,  2383, 29843],\n",
            "        [ 4960,  4472,  7570,  ..., 25585,  7840, 32882],\n",
            "        [ 4472, 38255,  7022,  ...,  6156,  3098,  1468],\n",
            "        ...,\n",
            "        [  383,   632,   554,  ..., 12101,  4362,  1400],\n",
            "        [  383,   632,   770,  ...,  1400,  4362,  3125],\n",
            "        [ 7937,  6670,  7674,  ...,  4074,  6285, 10380]], device='cuda:0')\n",
            "tensor([[-1.5425, -2.9334, -2.9546,  ..., -5.6846, -5.6918, -5.7885],\n",
            "        [-1.7067, -3.1701, -3.2501,  ..., -5.3871, -5.4069, -5.4463],\n",
            "        [-2.6861, -2.8025, -2.9785,  ..., -5.5904, -5.6117, -5.6374],\n",
            "        ...,\n",
            "        [-2.6812, -2.9012, -2.9097,  ..., -5.4858, -5.4904, -5.6007],\n",
            "        [-1.8378, -2.0289, -2.3642,  ..., -5.8163, -5.8383, -5.8587],\n",
            "        [-1.8713, -3.0974, -3.1444,  ..., -5.9682, -6.0525, -6.0902]],\n",
            "       device='cuda:0') tensor([[ 4074, 19014,  2779,  ..., 15191,  5249,  5440],\n",
            "        [ 4472, 19014,  2496,  ...,  1294, 17475,  7850],\n",
            "        [ 5046,    11,    12,  ..., 16058,   357, 22156],\n",
            "        ...,\n",
            "        [  290,   543,   351,  ...,   739,   618,  1844],\n",
            "        [   12,   326,  1175,  ...,   319,  5046, 28757],\n",
            "        [  257,   281,  1342,  ...,  4692, 35382,  4036]], device='cuda:0')\n",
            "tensor([[-1.3507, -1.8618, -2.4787,  ..., -5.9906, -6.0434, -6.0466],\n",
            "        [-2.0935, -2.5218, -2.6817,  ..., -5.3343, -5.4506, -5.4640],\n",
            "        [-1.3765, -1.8944, -2.5034,  ..., -5.8663, -5.9064, -5.9456],\n",
            "        ...,\n",
            "        [-1.8990, -2.3407, -2.6529,  ..., -5.8293, -5.8786, -5.9084],\n",
            "        [-0.9340, -1.9284, -3.1006,  ..., -6.0715, -6.1988, -6.2146],\n",
            "        [-1.5039, -1.9416, -2.7567,  ..., -5.7277, -5.8018, -5.8248]],\n",
            "       device='cuda:0') tensor([[   13,    11,   287,  ...,   286,   611,   780],\n",
            "        [ 4074,   287,    13,  ...,   357,   981,  2323],\n",
            "        [   13,    11,   287,  ...,  2138,   286,   780],\n",
            "        ...,\n",
            "        [ 4074,  2700, 19014,  ...,   357, 16050, 17475],\n",
            "        [ 2779,  2496,  1176,  ..., 34114,  3761, 38255],\n",
            "        [   13,    11,   287,  ...,   338,   625,   739]], device='cuda:0')\n",
            "tensor([[-1.6903, -2.7834, -3.0793,  ..., -5.8055, -5.8493, -5.8618],\n",
            "        [-2.5783, -2.9820, -3.2919,  ..., -5.5216, -5.5220, -5.5629],\n",
            "        [-1.3465, -1.5067, -1.9760,  ..., -6.1248, -6.2352, -6.2864],\n",
            "        ...,\n",
            "        [-2.4295, -2.8598, -3.1756,  ..., -5.6255, -5.6338, -5.6614],\n",
            "        [-2.8197, -2.9863, -3.1489,  ..., -5.5153, -5.6205, -5.6472],\n",
            "        [-2.6242, -2.7602, -3.1725,  ..., -5.5405, -5.5793, -5.5944]],\n",
            "       device='cuda:0') tensor([[  383,   770,   554,  ...,  3827,  1406,  4362],\n",
            "        [  290,   543,   257,  ...,  1900,   739,  5023],\n",
            "        [   13,   287,    11,  ...,    25,   543,    26],\n",
            "        ...,\n",
            "        [  471, 38255,   717,  ...,  4876,  2700, 11920],\n",
            "        [  290,   351,   543,  ...,  9581,  4305, 29682],\n",
            "        [  290,   543,   257,  ...,  3584,   523,  7216]], device='cuda:0')\n",
            "tensor([[-2.3994, -2.9768, -3.3166,  ..., -5.6951, -5.6969, -5.7842],\n",
            "        [-1.7017, -2.8060, -3.0977,  ..., -5.8132, -5.8317, -5.8932],\n",
            "        [-2.6176, -2.9210, -3.3835,  ..., -5.6528, -5.7006, -5.7784],\n",
            "        ...,\n",
            "        [-1.5778, -3.2565, -3.6518,  ..., -5.5507, -5.5730, -5.6044],\n",
            "        [-1.4584, -2.2044, -2.2332,  ..., -6.1628, -6.1886, -6.2249],\n",
            "        [-2.2989, -3.0639, -3.2030,  ..., -5.6868, -5.6957, -5.7072]],\n",
            "       device='cuda:0') tensor([[  471, 38255,   717,  ..., 11920,  4387,  1943],\n",
            "        [  383,   770,   554,  ...,  2735,  4930,  1406],\n",
            "        [  257,  2869,  2520,  ...,  4318, 13465,  8050],\n",
            "        ...,\n",
            "        [  373,  4001,  2223,  ...,   714,  1175,  4858],\n",
            "        [  287,    11,    13,  ...,   543,   393,  1900],\n",
            "        [  471, 38255,   717,  ...,  8837,  4960,   366]], device='cuda:0')\n",
            "tensor([[ -2.5452,  -2.6325,  -3.4129,  ...,  -5.6931,  -5.6935,  -5.7031],\n",
            "        [ -1.3410,  -1.5927,  -2.8255,  ...,  -6.1307,  -6.1656,  -6.1904],\n",
            "        [ -6.5562,  -9.5791,  -9.6382,  ..., -12.4197, -12.5014, -12.5479],\n",
            "        ...,\n",
            "        [ -0.9306,  -1.5866,  -3.1841,  ...,  -6.3616,  -6.4362,  -6.4682],\n",
            "        [ -1.3413,  -1.8050,  -2.2259,  ...,  -6.0749,  -6.1042,  -6.1140],\n",
            "        [ -1.7825,  -2.7675,  -2.9422,  ...,  -5.6095,  -5.7089,  -5.7648]],\n",
            "       device='cuda:0') tensor([[  471, 38255,   717,  ...,  4387,  2700,  4858],\n",
            "        [  262,   257,   281,  ...,   881,   991,  5292],\n",
            "        [   12,    11,    39,  ..., 13534,  1921,    45],\n",
            "        ...,\n",
            "        [   13,    11,   287,  ...,   198,  1444,  3436],\n",
            "        [   13,    11,   287,  ...,  6872,  1474,   543],\n",
            "        [  373,   561,   318,  ...,   691,  1244,  4721]], device='cuda:0')\n",
            "tensor([[-2.7140, -3.9767, -3.9891,  ..., -6.9926, -7.0288, -7.0978],\n",
            "        [-2.2864, -3.3105, -3.3658,  ..., -5.6798, -5.6828, -5.6981],\n",
            "        [-3.0004, -3.1244, -3.1864,  ..., -5.3665, -5.3780, -5.3885],\n",
            "        ...,\n",
            "        [-1.6766, -2.0152, -2.8310,  ..., -5.8045, -5.8196, -5.8259],\n",
            "        [-2.8148, -2.8263, -3.1007,  ..., -5.5266, -5.5578, -5.5838],\n",
            "        [-3.2377, -4.1653, -4.2041,  ..., -5.6718, -5.6976, -5.6980]],\n",
            "       device='cuda:0') tensor([[ 4387,   691,  1218,  ...,  2060,   530,  8713],\n",
            "        [  340,   287,   428,  ...,   878,  1864,   611],\n",
            "        [ 1688,  2218,  3236,  ...,  1175,  1844, 13646],\n",
            "        ...,\n",
            "        [ 1989,  3626,  2230,  ...,   287,   366, 35272],\n",
            "        [  543,   290,   257,  ...,  5176,  1912,   618],\n",
            "        [ 8565,  7937, 19586,  ...,  2779, 29996,   995]], device='cuda:0')\n",
            "tensor([[-1.8552, -2.8869, -3.1771,  ..., -5.9726, -5.9908, -6.0151],\n",
            "        [-1.6276, -2.9486, -3.2670,  ..., -5.9934, -5.9968, -6.0061],\n",
            "        [-0.4861, -2.7979, -3.6313,  ..., -6.5176, -6.5297, -6.5695],\n",
            "        ...,\n",
            "        [-1.2521, -2.8588, -3.4454,  ..., -5.8775, -5.8790, -5.8967],\n",
            "        [-1.8416, -2.7704, -3.0353,  ..., -6.1018, -6.1038, -6.1062],\n",
            "        [-1.5985, -2.9972, -3.2122,  ..., -5.6790, -5.6887, -5.7464]],\n",
            "       device='cuda:0') tensor([[  383,   770,   632,  ...,  1892,  3574,  3827],\n",
            "        [  383,   770,   632,  ...,  3412,  2102,  6363],\n",
            "        [ 1110,  1755,  4365,  ..., 11506, 13766,   983],\n",
            "        ...,\n",
            "        [  373,   318, 38255,  ...,  1244,   719,  3452],\n",
            "        [  257,  2223,   281,  ...,  2769, 21577,  2795],\n",
            "        [ 2218,  1445, 13293,  ...,  5517,   717,  6482]], device='cuda:0')\n",
            "tensor([[-0.5466, -1.6956, -3.7851,  ..., -6.9168, -6.9433, -7.0320],\n",
            "        [-1.8657, -2.9573, -3.1772,  ..., -5.9554, -6.0185, -6.0213],\n",
            "        [-2.4699, -2.9828, -3.3463,  ..., -5.6970, -5.6998, -5.7020],\n",
            "        ...,\n",
            "        [-1.5374, -1.8588, -1.9810,  ..., -6.8317, -6.9565, -7.0131],\n",
            "        [-0.7719, -1.2555, -2.7236,  ..., -7.7085, -7.7178, -7.7550],\n",
            "        [-1.8090, -2.0274, -2.3326,  ..., -5.9997, -6.0036, -6.0137]],\n",
            "       device='cuda:0') tensor([[   13,    11,   287,  ...,   780,  1973,  3436],\n",
            "        [  383,   770,   632,  ...,  3827,  1892,  4930],\n",
            "        [  471, 38255,  8565,  ...,   366,  4858,  4387],\n",
            "        ...,\n",
            "        [   11,    13,   286,  ...,   475, 13013,   878],\n",
            "        [  287,   329,    11,  ...,  1683,   532,  1111],\n",
            "        [ 5373,  2239, 23554,  ...,   636, 16106,   719]], device='cuda:0')\n",
            "tensor([[-1.8346e+00, -2.7948e+00, -3.2284e+00,  ..., -5.9681e+00,\n",
            "         -5.9870e+00, -6.0247e+00],\n",
            "        [-2.7247e+00, -2.7389e+00, -3.3497e+00,  ..., -5.5650e+00,\n",
            "         -5.5823e+00, -5.6018e+00],\n",
            "        [-4.4667e-03, -8.0160e+00, -8.2927e+00,  ..., -1.0798e+01,\n",
            "         -1.0819e+01, -1.0883e+01],\n",
            "        ...,\n",
            "        [-2.0939e+00, -2.3472e+00, -2.9084e+00,  ..., -5.6631e+00,\n",
            "         -5.7259e+00, -5.7623e+00],\n",
            "        [-3.2028e+00, -3.8779e+00, -4.1890e+00,  ..., -6.8208e+00,\n",
            "         -6.8707e+00, -6.8848e+00],\n",
            "        [-1.0034e+00, -2.9258e+00, -3.2457e+00,  ..., -5.9762e+00,\n",
            "         -5.9787e+00, -5.9789e+00]], device='cuda:0') tensor([[  383,   770,   632,  ..., 12101,  6363,  2735],\n",
            "        [  290,   351,   287,  ...,   618,   416,   531],\n",
            "        [  640,   546,  1115,  ...,  2431,  1160,  5193],\n",
            "        ...,\n",
            "        [  262,   340,   284,  ...,   991,  4117,  4219],\n",
            "        [ 4387,  1218, 41089,  ..., 21112, 11695,  4074],\n",
            "        [ 4388,  1588,   881,  ...,  8157,  2068,  2562]], device='cuda:0')\n",
            "tensor([[-4.8104e-01, -1.7244e+00, -3.9054e+00,  ..., -7.2894e+00,\n",
            "         -7.5091e+00, -7.5518e+00],\n",
            "        [-2.6722e+00, -2.8574e+00, -3.0739e+00,  ..., -5.5927e+00,\n",
            "         -5.5962e+00, -5.6151e+00],\n",
            "        [-1.8239e+00, -2.7105e+00, -3.2804e+00,  ..., -5.9606e+00,\n",
            "         -5.9843e+00, -6.0132e+00],\n",
            "        ...,\n",
            "        [-1.4728e+00, -2.5614e+00, -2.9665e+00,  ..., -5.6915e+00,\n",
            "         -5.7528e+00, -5.7544e+00],\n",
            "        [-1.1628e+00, -2.6600e+00, -2.7385e+00,  ..., -6.0597e+00,\n",
            "         -6.1176e+00, -6.1650e+00],\n",
            "        [-1.0438e-03, -8.4257e+00, -8.9912e+00,  ..., -1.3014e+01,\n",
            "         -1.3032e+01, -1.3043e+01]], device='cuda:0') tensor([[   13,    11,  1231,  ...,   780,  1973,     0],\n",
            "        [  471, 38255,  8565,  ...,  2126,   691,  1388],\n",
            "        [  383,   770,   632,  ..., 32028,  1892,  2735],\n",
            "        ...,\n",
            "        [13029, 11359,  1593,  ...,  9113,  4050, 36005],\n",
            "        [38255,   471, 19014,  ...,  8837, 34737,  1336],\n",
            "        [  284,   262,   257,  ...,   383,   656,   783]], device='cuda:0')\n",
            "tensor([[ -1.7248,  -2.6297,  -3.2283,  ...,  -6.0190,  -6.0229,  -6.0504],\n",
            "        [ -2.6844,  -2.8647,  -3.2262,  ...,  -5.5473,  -5.5839,  -5.6001],\n",
            "        [ -2.5644,  -2.9324,  -3.2425,  ...,  -5.5720,  -5.6617,  -5.6636],\n",
            "        ...,\n",
            "        [ -3.1477,  -3.5322,  -3.8214,  ...,  -5.2917,  -5.2996,  -5.3022],\n",
            "        [ -5.1563,  -7.5211,  -7.7816,  ..., -10.4687, -10.5118, -10.5320],\n",
            "        [ -2.9270,  -3.2809,  -3.4652,  ...,  -5.5514,  -5.5550,  -5.5817]],\n",
            "       device='cuda:0') tensor([[  383,   770,   554,  ...,  6363, 32028,  4698],\n",
            "        [  290,   351,  1390,  ...,   416,  6079,  1111],\n",
            "        [  471, 38255,  8565,  ...,  2694,  1175,  1109],\n",
            "        ...,\n",
            "        [ 1169,   259,  3826,  ..., 14145, 19419, 27078],\n",
            "        [  666,  2013,   295,  ...,   571,   516,   375],\n",
            "        [ 4502,  8124, 36494,  ..., 21168, 19297, 15080]], device='cuda:0')\n",
            "tensor([[-2.5775, -2.8447, -3.0560,  ..., -5.6178, -5.6190, -5.6331],\n",
            "        [-1.6444, -2.9734, -3.4484,  ..., -5.7146, -5.7531, -5.7970],\n",
            "        [-2.0702, -2.0941, -2.2377,  ..., -5.4403, -5.5471, -5.6827],\n",
            "        ...,\n",
            "        [-1.0898, -2.1924, -2.4422,  ..., -6.2267, -6.2432, -6.2482],\n",
            "        [-1.4698, -3.2841, -3.6393,  ..., -5.5071, -5.5797, -5.5980],\n",
            "        [-1.3611, -2.6440, -2.8725,  ..., -5.9268, -5.9307, -5.9704]],\n",
            "       device='cuda:0') tensor([[  471, 38255,  8565,  ...,  2496,  2126,  2700],\n",
            "        [  373,   318,  3142,  ..., 20186,  3626,   635],\n",
            "        [  262,  3090,  1109,  ..., 22458,  2274,   777],\n",
            "        ...,\n",
            "        [  880,   262,   340,  ...,  2582,  2938,   530],\n",
            "        [ 2218,  1688,   649,  ...,  8565,  3721, 10733],\n",
            "        [  262,   691,   523,  ...,  1760,  9826,   783]], device='cuda:0')\n",
            "tensor([[ -1.4733,  -1.5529,  -2.7880,  ...,  -6.0083,  -6.0120,  -6.0141],\n",
            "        [ -1.8233,  -2.1449,  -2.4551,  ...,  -5.7836,  -5.8309,  -5.8774],\n",
            "        [ -7.0539,  -9.4913,  -9.9960,  ..., -12.5947, -12.6065, -12.6273],\n",
            "        ...,\n",
            "        [ -2.7290,  -2.7349,  -3.5616,  ...,  -5.4238,  -5.4241,  -5.4335],\n",
            "        [ -1.6870,  -2.5779,  -2.6037,  ...,  -5.7193,  -5.7215,  -5.7420],\n",
            "        [ -2.2775,  -2.5965,  -2.7825,  ...,  -5.3960,  -5.4506,  -5.4978]],\n",
            "       device='cuda:0') tensor([[  262,   257,   281,  ...,   284,  4388,   319],\n",
            "        [  262,   257, 13013,  ...,   845,   925,  1744],\n",
            "        [   12,    11,    39,  ..., 10116, 12298,    54],\n",
            "        ...,\n",
            "        [  550,   338,  2540,  ...,  3170,  1568,   287],\n",
            "        [  257,   407,   262,  ...,  8036,  3499,  1444],\n",
            "        [  257,   262,   407,  ...,  1807,  1223,  2081]], device='cuda:0')\n",
            "tensor([[-2.3941, -3.2467, -3.2695,  ..., -5.6680, -5.6706, -5.7102],\n",
            "        [-2.4486, -3.9260, -4.1032,  ..., -7.0318, -7.0546, -7.0813],\n",
            "        [-2.8016, -2.9894, -3.2277,  ..., -5.4012, -5.4150, -5.4396],\n",
            "        ...,\n",
            "        [-1.8736, -2.0442, -2.3361,  ..., -5.5432, -5.5700, -5.6677],\n",
            "        [-0.0841, -4.1529, -4.3123,  ..., -8.4937, -8.4957, -8.5169],\n",
            "        [-2.6071, -3.1992, -3.2941,  ..., -5.5736, -5.5854, -5.5894]],\n",
            "       device='cuda:0') tensor([[  340,   287,   428,  ...,  1201,   878,   981],\n",
            "        [ 4387,   749,  1218,  ..., 19014,  8713, 18197],\n",
            "        [ 1688,  3236,  2218,  ...,  2589,  5365,  4047],\n",
            "        ...,\n",
            "        [ 1566,   691,   257,  ...,  3446,   416,  3016],\n",
            "        [  286,  2239,  1517,  ...,   640,   290,  4905],\n",
            "        [ 2218,  3236, 11004,  ..., 12971,  6547,  1430]], device='cuda:0')\n",
            "tensor([[-0.7432, -3.1733, -4.7739,  ..., -7.3162, -7.3572, -7.3572],\n",
            "        [-2.9477, -3.7523, -3.8985,  ..., -5.8067, -5.8302, -5.8333],\n",
            "        [-2.6694, -4.1081, -4.2108,  ..., -5.6807, -5.6967, -5.7124],\n",
            "        ...,\n",
            "        [-1.8523, -2.3640, -2.4173,  ..., -6.0396, -6.0433, -6.1223],\n",
            "        [-2.0404, -2.1715, -2.3910,  ..., -6.0775, -6.0900, -6.0947],\n",
            "        [-1.2603, -2.0150, -3.3840,  ..., -5.7525, -5.7991, -5.8273]],\n",
            "       device='cuda:0') tensor([[  340,   484,  2158,  ...,   673,  3016, 20818],\n",
            "        [  340,   612,   257,  ...,   734,  2869,   326],\n",
            "        [38255,  4238,  4858,  ...,  4025,  1578,   649],\n",
            "        ...,\n",
            "        [23554, 13293,  2239,  ...,  3580, 11044,  4621],\n",
            "        [ 2239, 23554, 13293,  ...,  6611,   719, 16106],\n",
            "        [  262,   257,   281,  ...,  3614,  7937,  1633]], device='cuda:0')\n",
            "tensor([[-2.4422, -3.3807, -3.6662,  ..., -5.3300, -5.3638, -5.3840],\n",
            "        [-3.4747, -3.4821, -3.6543,  ..., -5.2750, -5.2754, -5.3013],\n",
            "        [-1.4129, -2.5804, -2.9232,  ..., -5.8175, -5.8824, -5.8879],\n",
            "        ...,\n",
            "        [-1.6366, -1.7706, -2.0191,  ..., -6.8389, -6.8795, -6.9052],\n",
            "        [-0.8606, -2.6376, -3.2139,  ..., -6.1059, -6.1423, -6.2476],\n",
            "        [-1.5218, -1.7036, -1.9507,  ..., -6.6179, -6.6534, -6.7208]],\n",
            "       device='cuda:0') tensor([[  373,   635,  1718,  ..., 12034,  4920,  3751],\n",
            "        [ 3189,  2952,  1011,  ...,  4117,  2148,  4512],\n",
            "        [   11,  1943, 38255,  ..., 21112, 12465,  2383],\n",
            "        ...,\n",
            "        [  286,    11,    13,  ...,   532,  1111,  1377],\n",
            "        [  286,   471,  7937,  ...,   649,  4991,  3006],\n",
            "        [   11,   329,    13,  ...,  1141,   611,  1028]], device='cuda:0')\n",
            "tensor([[ -3.4514,  -4.5237,  -4.9542,  ...,  -7.1046,  -7.1182,  -7.1275],\n",
            "        [ -2.6449,  -2.6857,  -3.7132,  ...,  -6.6284,  -6.6289,  -6.6635],\n",
            "        [ -2.9555,  -3.7392,  -3.8427,  ...,  -5.8981,  -5.9369,  -5.9495],\n",
            "        ...,\n",
            "        [ -1.8259,  -2.9859,  -3.9140,  ...,  -9.0083,  -9.0154,  -9.0591],\n",
            "        [ -6.5269,  -7.1943,  -7.4182,  ..., -11.0903, -11.1952, -11.2461],\n",
            "        [ -1.5945,  -2.8657,  -3.1843,  ...,  -5.6273,  -5.6682,  -5.6770]],\n",
            "       device='cuda:0') tensor([[  262,   635,   257,  ..., 17742,  1762,  7675],\n",
            "        [ 4387,   691,  8565,  ...,   614, 18197,  8150],\n",
            "        [  340,   257,   612,  ...,  5179,   663,   319],\n",
            "        ...,\n",
            "        [  777,   883,   663,  ...,  8037,  8884,  2520],\n",
            "        [  666,  2013,   295,  ...,  3920,   680,  4365],\n",
            "        [  257,   281,  4560,  ...,  3434,  2048,   884]], device='cuda:0')\n",
            "tensor([[ -3.1053,  -3.8776,  -3.9420,  ...,  -5.9711,  -6.0286,  -6.0555],\n",
            "        [ -2.0047,  -3.0419,  -3.2639,  ...,  -6.4382,  -6.4434,  -6.4962],\n",
            "        [ -1.5427,  -3.0713,  -3.6034,  ...,  -6.4544,  -6.4572,  -6.4814],\n",
            "        ...,\n",
            "        [ -4.4819,  -4.9925,  -6.8010,  ...,  -9.9389, -10.0416, -10.1183],\n",
            "        [ -2.9892,  -3.1916,  -3.4936,  ...,  -5.6313,  -5.6762,  -5.6814],\n",
            "        [ -1.9988,  -2.0325,  -2.5181,  ...,  -5.6975,  -5.7020,  -5.7051]],\n",
            "       device='cuda:0') tensor([[  340,   257,   471,  ...,  2048,  5179,  2807],\n",
            "        [ 1578,  8565,  1605,  ..., 11026,  3517,  2260],\n",
            "        [ 8565,  1578,  2422,  ..., 32430,  2732, 24927],\n",
            "        ...,\n",
            "        [15611,   666,  2013,  ...,  1359, 22552,  3386],\n",
            "        [ 1688,  4858,  3094,  ...,  5365,  1218,  3716],\n",
            "        [13029,  1593,  3663,  ..., 15313,  8468,  3499]], device='cuda:0')\n",
            "tensor([[-2.1088e+00, -2.9286e+00, -3.2122e+00,  ..., -6.4907e+00,\n",
            "         -6.5419e+00, -6.5765e+00],\n",
            "        [-1.6304e-01, -4.0348e+00, -4.0944e+00,  ..., -7.6924e+00,\n",
            "         -7.7090e+00, -7.7128e+00],\n",
            "        [-8.2376e-03, -5.9563e+00, -6.3577e+00,  ..., -1.1088e+01,\n",
            "         -1.1102e+01, -1.1134e+01],\n",
            "        ...,\n",
            "        [-2.5154e+00, -3.0787e+00, -3.2051e+00,  ..., -5.2571e+00,\n",
            "         -5.2606e+00, -5.3395e+00],\n",
            "        [-1.7680e+00, -2.2126e+00, -2.2969e+00,  ..., -5.5706e+00,\n",
            "         -5.6531e+00, -5.7643e+00],\n",
            "        [-7.3053e-03, -5.7967e+00, -6.2092e+00,  ..., -1.1797e+01,\n",
            "         -1.1825e+01, -1.1852e+01]], device='cuda:0') tensor([[ 8565,  1578,  2422,  ...,  3626,  1230,  3274],\n",
            "        [  284,   290,   338,  ...,   784, 36160,   617],\n",
            "        [ 1829,  7526,  7973,  ..., 21852,   509,   554],\n",
            "        ...,\n",
            "        [ 2383,  7667,  1844,  ...,  2726, 27939,  8361],\n",
            "        [  257,   379,   262,  ...,   422,  1588,   407],\n",
            "        [ 1829,  7526,  7973,  ...,  3701, 47023,   554]], device='cuda:0')\n"
          ]
        },
        {
          "data": {
            "text/html": [
              "<pre style=\"white-space:pre;overflow-x:auto;line-height:normal;font-family:Menlo,'DejaVu Sans Mono',consolas,'Courier New',monospace\">Avg token prob = <span style=\"color: #008080; text-decoration-color: #008080; font-weight: bold\">0.255</span>\n",
              "Best output:\n",
              "<span style=\"color: #ff8700; text-decoration-color: #ff8700; font-weight: bold\">The ships hung in the sky in much the same way that they did at the beginning of the Second World War.</span>\n",
              "\n",
              "<span style=\"color: #ff8700; text-decoration-color: #ff8700; font-weight: bold\">For the first time in history, the U.S. Navy was able to carry out a full-scale amphibious assault on a large </span>\n",
              "<span style=\"color: #ff8700; text-decoration-color: #ff8700; font-weight: bold\">number of targets in a short period of time. In doing so, it allowed the Navy to</span>\n",
              "</pre>\n"
            ],
            "text/plain": [
              "Avg token prob = \u001b[1;36m0.255\u001b[0m\n",
              "Best output:\n",
              "\u001b[1;38;5;208mThe ships hung in the sky in much the same way that they did at the beginning of the Second World War.\u001b[0m\n",
              "\n",
              "\u001b[1;38;5;208mFor the first time in history, the U.S. Navy was able to carry out a full-scale amphibious assault on a large \u001b[0m\n",
              "\u001b[1;38;5;208mnumber of targets in a short period of time. In doing so, it allowed the Navy to\u001b[0m\n"
            ]
          },
          "metadata": {},
          "output_type": "display_data"
        },
        {
          "data": {
            "text/html": [
              "<pre style=\"white-space:pre;overflow-x:auto;line-height:normal;font-family:Menlo,'DejaVu Sans Mono',consolas,'Courier New',monospace\">Avg token prob = <span style=\"color: #008080; text-decoration-color: #008080; font-weight: bold\">0.254</span>\n",
              "Best output:\n",
              "<span style=\"color: #ff8700; text-decoration-color: #ff8700; font-weight: bold\">The ships hung in the sky in much the same way that they did at the beginning of the Second World War.</span>\n",
              "\n",
              "<span style=\"color: #ff8700; text-decoration-color: #ff8700; font-weight: bold\">For the first time in history, the U.S. Navy was able to carry out a full-scale amphibious assault on a large </span>\n",
              "<span style=\"color: #ff8700; text-decoration-color: #ff8700; font-weight: bold\">number of targets in a short period of time. It was a major victory for the United States</span>\n",
              "</pre>\n"
            ],
            "text/plain": [
              "Avg token prob = \u001b[1;36m0.254\u001b[0m\n",
              "Best output:\n",
              "\u001b[1;38;5;208mThe ships hung in the sky in much the same way that they did at the beginning of the Second World War.\u001b[0m\n",
              "\n",
              "\u001b[1;38;5;208mFor the first time in history, the U.S. Navy was able to carry out a full-scale amphibious assault on a large \u001b[0m\n",
              "\u001b[1;38;5;208mnumber of targets in a short period of time. It was a major victory for the United States\u001b[0m\n"
            ]
          },
          "metadata": {},
          "output_type": "display_data"
        },
        {
          "data": {
            "text/html": [
              "<pre style=\"white-space:pre;overflow-x:auto;line-height:normal;font-family:Menlo,'DejaVu Sans Mono',consolas,'Courier New',monospace\">Avg token prob = <span style=\"color: #008080; text-decoration-color: #008080; font-weight: bold\">0.254</span>\n",
              "Best output:\n",
              "<span style=\"color: #ff8700; text-decoration-color: #ff8700; font-weight: bold\">The ships hung in the sky in much the same way that they did at the beginning of the Second World War.</span>\n",
              "\n",
              "<span style=\"color: #ff8700; text-decoration-color: #ff8700; font-weight: bold\">For the first time in history, the U.S. Navy was able to carry out a full-scale amphibious assault on a large </span>\n",
              "<span style=\"color: #ff8700; text-decoration-color: #ff8700; font-weight: bold\">number of targets in a short period of time. In fact, it was only a matter of</span>\n",
              "</pre>\n"
            ],
            "text/plain": [
              "Avg token prob = \u001b[1;36m0.254\u001b[0m\n",
              "Best output:\n",
              "\u001b[1;38;5;208mThe ships hung in the sky in much the same way that they did at the beginning of the Second World War.\u001b[0m\n",
              "\n",
              "\u001b[1;38;5;208mFor the first time in history, the U.S. Navy was able to carry out a full-scale amphibious assault on a large \u001b[0m\n",
              "\u001b[1;38;5;208mnumber of targets in a short period of time. In fact, it was only a matter of\u001b[0m\n"
            ]
          },
          "metadata": {},
          "output_type": "display_data"
        }
      ],
      "source": [
        "sampler = TransformerSampler(model, tokenizer)\n",
        "\n",
        "prompt = \"The ships hung in the sky in much the same way that\"\n",
        "orig_len = len(tokenizer.encode(prompt))\n",
        "\n",
        "final_logitsums_and_completions = sampler.beam_search(\n",
        "    prompt=prompt,\n",
        "    num_return_sequences=3,\n",
        "    num_beams=40,\n",
        "    max_new_tokens=60,\n",
        "    no_repeat_ngram_size=2,\n",
        ")\n",
        "\n",
        "# Print all the best output\n",
        "for logprob_sum, text in final_logitsums_and_completions:\n",
        "    avg_logprob_as_prob = t.tensor(logprob_sum / (len(tokenizer.encode(text)) - orig_len)).exp()\n",
        "    rprint(f\"Avg token prob = {avg_logprob_as_prob:.3f}\\nBest output:\\n[bold dark_orange]{text}\")"
      ]
    },
    {
      "cell_type": "markdown",
      "metadata": {
        "id": "BfL_DGyKrjy3"
      },
      "source": [
        "## KV Caching"
      ]
    },
    {
      "cell_type": "markdown",
      "metadata": {
        "id": "5Tlas2OBrjy3"
      },
      "source": [
        "*This section is also designed to be challenging, and take quite some time. There are many different ways to solve it, and you're expected to try and find your own way (you should think about this for a while before looking at the suggestions in the dropdowns). Additionally, you might not find it as interesting as some of the other sections. In this case, and if you have a lot of extra time, you might want to start on the \"building BERT\" exercises from this chapter.*"
      ]
    },
    {
      "cell_type": "markdown",
      "metadata": {
        "id": "_HtMT1eSrjy4"
      },
      "source": [
        "### How can caching help us?\n",
        "\n",
        "The text generation we've done so far is needlessly re-computing certain values, which is very noticeable when you try to generate longer sequences.\n",
        "\n",
        "Suppose you're generating text, and you've already run GPT on the sentence \"My life motto:\". Now you want to run the model on the sentence \"My life motto: Always\". Which computations from the first sentence can you reuse?\n",
        "\n",
        "<details>\n",
        "<summary>Answer</summary>\n",
        "\n",
        "At each attention layer, the only things the attention layer needs from the previous sequence positions are the key and value vectors. This is explained in the following diagram, which compares the attention layer with and without caching (it's a big diagram so you might want to open it in a separate window to zoom in).\n",
        "\n",
        "\n",
        "<img src=\"https://raw.githubusercontent.com/info-arena/ARENA_img/main/misc/tl-cache-full.png\" width=\"1200\">\n",
        "\n",
        "</details>"
      ]
    },
    {
      "cell_type": "markdown",
      "metadata": {
        "id": "jiI4p0Ssrjy4"
      },
      "source": [
        "### Exercise - implement KV caching\n",
        "\n",
        "> ```yaml\n",
        "> Difficulty: 🔴🔴🔴🔴🔴\n",
        "> Importance: 🔵⚪⚪⚪⚪\n",
        ">\n",
        "> You are expected to spend well over an hour on this exercise, if you choose to do it.\n",
        "> ```\n",
        "\n",
        "Modify your GPT-2 to optionally use a cache. When you run your GPT on `\"My life motto:\"`, it should store the necessary values in the cache. Then in the next forward pass with just `\" Always\"` as input, it should load the cached values instead of recomputing them (and update the cache). This only needs to work with a single input sequence (batch size of 1), and you can assume that after the first forward pass, the input will be just one token.\n",
        "\n",
        "The design of the cache is completely up to you - discuss possible designs with your partner before writing code. It should be possible to have only one GPT2 instance and many different cache instances at one time. Imagine that you want to use one instance to serve multiple users submitting requests for text generation like in [AI Dungeon](https://aidungeon.io/).\n",
        "\n",
        "You'll also need to rewrite parts of your `DemoTransformer` code, in order to get this to work. The tests have been built to accommodate modules which return their output as the first element in a tuple (i.e. `(output, cache)`) rather than just returning the output, so you should use the tests to verify that your modules still work as expected.\n",
        "\n",
        "Some example considerations:\n",
        "\n",
        "* Which GPT-2 classes need to interact with the cache?\n",
        "    * Will you need to change the positional embedding, and if so then how?\n",
        "* Should the cache be mutable and be updated in place, or does updating actually just create a separate instance?\n",
        "    * *(Hint here - think about how you might use the cache during beam search.)*\n",
        "* Is it possible for other programmers to incorrectly use your cache? Is there a way to prevent this failure mode or at least detect this and complain loudly?"
      ]
    },
    {
      "cell_type": "markdown",
      "metadata": {
        "id": "-OpChkXxrjy4"
      },
      "source": [
        "<details>\n",
        "<summary>Cache implentation (example)</summary>\n",
        "\n",
        "This KeyValueCache object is structured as just a fancy tensor (it inherits all the methods from Tensor). The main difference is that it has a few extra helper methods, e.g. constructing an empty cache from a Config object.\n",
        "\n",
        "There are other ways you could do this, e.g. having your `KeyValueCache` class contain list of `KeyValueCacheEntry` objects (where each of these corresponds to a different layer).\n",
        "\n",
        "```python\n",
        "# Define a type for a single layer's cache entry (useful for type checking in later functions)\n",
        "KeyValueCacheTensor = Float[Tensor, \"2 batch seq_len n_heads d_head\"]\n",
        "\n",
        "class KeyValueCache(Tensor):\n",
        "    '''\n",
        "    This class holds tensors of key and value vectors, to be used for caching.\n",
        "\n",
        "    If we define it using cfg and batch then it's initialized as empty, but\n",
        "    we can also define it from kv_cache_entries.\n",
        "    '''\n",
        "    @classmethod\n",
        "    def new_empty(cls, cfg: Config, batch: int = 1) -> \"KeyValueCache\":\n",
        "        '''\n",
        "        Doing a forward pass on a cache created in this way indicates \"we don't\n",
        "        yet have a cache, but we want this forward pass to return a cache\".\n",
        "        Whereas using cache=None in a forward pass indicates we don't want to\n",
        "        return a cache.\n",
        "        '''\n",
        "        shape = (cfg.n_layers, 2, batch, 0, cfg.n_heads, cfg.d_head)\n",
        "        return cls(*shape).to(device)\n",
        "\n",
        "    # Define a handful of properties, so they can be referenced directly rather than\n",
        "    # indexing (which is more likely to lead to mistakes)\n",
        "\n",
        "    @property\n",
        "    def k(self) -> Tensor:\n",
        "        return self[:, 0]\n",
        "\n",
        "    @property\n",
        "    def v(self) -> Tensor:\n",
        "        return self[:, 1]\n",
        "\n",
        "    @property\n",
        "    def batch(self) -> int:\n",
        "        return self.shape[2]\n",
        "\n",
        "    @property\n",
        "    def seq_len(self) -> int:\n",
        "        return self.shape[3]\n",
        "\n",
        "\n",
        "# Example implementation:\n",
        "cfg = model.cfg\n",
        "batch = 6\n",
        "kv_cache = KeyValueCache.new_empty(cfg, batch)\n",
        "\n",
        "print(f\"Shape of all kv-cache = {tuple(kv_cache.shape)}\")\n",
        "print(f\"Shape of just k-cache = {tuple(kv_cache.k.shape)}\")\n",
        "for kv_cache_entry in kv_cache:\n",
        "    print(f\"Shape of cache entry for one layer = {tuple(kv_cache_entry.shape)}\")\n",
        "    break\n",
        "print(f\"Batch size = {kv_cache.batch}\")\n",
        "print(f\"Current sequence length = {kv_cache.seq_len}\")\n",
        "```\n",
        "\n",
        "</details>\n",
        "\n",
        "<details>\n",
        "<summary>New <code>DemoTransformer</code> components (and testing)</summary>\n",
        "\n",
        "```python\n",
        "# Define new model parts where necessary, and create a new model & test it\n",
        "# Note that sometimes our modules return a tuple of (tensor output, cache) rather than just output. The\n",
        "# tests have been built to accommodate this.\n",
        "\n",
        "\n",
        "class PosEmbed(nn.Module):\n",
        "    def __init__(self, cfg: Config):\n",
        "        super().__init__()\n",
        "        self.cfg = cfg\n",
        "        self.W_pos = nn.Parameter(t.empty((cfg.n_ctx, cfg.d_model)))\n",
        "        nn.init.normal_(self.W_pos, std=self.cfg.init_range)\n",
        "\n",
        "    def forward(\n",
        "        self,\n",
        "        tokens: Int[Tensor, \"batch position\"],\n",
        "        past_kv_pos_offset: int = 0\n",
        "    ) -> Float[Tensor, \"batch position d_model\"]:\n",
        "\n",
        "        batch, seq_len = tokens.shape\n",
        "        return einops.repeat(\n",
        "            self.W_pos[past_kv_pos_offset: seq_len+past_kv_pos_offset],\n",
        "            \"seq d_model -> batch seq d_model\",\n",
        "            batch=batch\n",
        "        )\n",
        "\n",
        "\n",
        "class Attention(nn.Module):\n",
        "    IGNORE: Float[Tensor, \"\"]\n",
        "\n",
        "    def __init__(self, cfg: Config):\n",
        "        super().__init__()\n",
        "        self.cfg = cfg\n",
        "        self.W_Q = nn.Parameter(t.empty((cfg.n_heads, cfg.d_model, cfg.d_head)))\n",
        "        self.W_K = nn.Parameter(t.empty((cfg.n_heads, cfg.d_model, cfg.d_head)))\n",
        "        self.W_V = nn.Parameter(t.empty((cfg.n_heads, cfg.d_model, cfg.d_head)))\n",
        "        self.W_O = nn.Parameter(t.empty((cfg.n_heads, cfg.d_head, cfg.d_model)))\n",
        "        self.b_Q = nn.Parameter(t.zeros((cfg.n_heads, cfg.d_head)))\n",
        "        self.b_K = nn.Parameter(t.zeros((cfg.n_heads, cfg.d_head)))\n",
        "        self.b_V = nn.Parameter(t.zeros((cfg.n_heads, cfg.d_head)))\n",
        "        self.b_O = nn.Parameter(t.zeros((cfg.d_model)))\n",
        "        nn.init.normal_(self.W_Q, std=self.cfg.init_range)\n",
        "        nn.init.normal_(self.W_K, std=self.cfg.init_range)\n",
        "        nn.init.normal_(self.W_V, std=self.cfg.init_range)\n",
        "        nn.init.normal_(self.W_O, std=self.cfg.init_range)\n",
        "        self.register_buffer(\"IGNORE\", t.tensor(-1e5, dtype=t.float32, device=device))\n",
        "\n",
        "    def forward(\n",
        "        self,\n",
        "        normalized_resid_pre: Float[Tensor, \"batch posn d_model\"],\n",
        "        kv_cache_entry: KeyValueCacheTensor | None = None,\n",
        "    ) -> tuple[\n",
        "        Float[Tensor, \"batch posn d_model\"],\n",
        "        KeyValueCacheTensor | None\n",
        "    ]:\n",
        "        '''\n",
        "        Returns the result of applying attention layer to normlized_resid_pre, as well as\n",
        "        the new cached key and value vectors (which we get from concatenating the old cached\n",
        "        ones with the new key and value vectors).\n",
        "        '''\n",
        "        # Calculate the new query, key and value vectors\n",
        "        q = einops.einsum(\n",
        "            normalized_resid_pre, self.W_Q,\n",
        "            \"batch posn d_model, nheads d_model d_head -> batch posn nheads d_head\"\n",
        "        ) + self.b_Q\n",
        "        k = einops.einsum(\n",
        "            normalized_resid_pre, self.W_K,\n",
        "            \"batch posn d_model, nheads d_model d_head -> batch posn nheads d_head\"\n",
        "        ) + self.b_K\n",
        "        v = einops.einsum(\n",
        "            normalized_resid_pre, self.W_V,\n",
        "            \"batch posn d_model, nheads d_model d_head -> batch posn nheads d_head\"\n",
        "        ) + self.b_V\n",
        "\n",
        "        # If cache_entry is not None, this means we use the previous key and value vectors\n",
        "        # Also we'll need to get a new cache entry which will be used later to construct a new cache\n",
        "        if kv_cache_entry is not None:\n",
        "            k = t.concat([kv_cache_entry[0], k], dim=1)\n",
        "            v = t.concat([kv_cache_entry[1], v], dim=1)\n",
        "            kv_cache_entry = t.stack([k, v])\n",
        "\n",
        "        # Calculate attention scores, then scale and mask, and apply softmax to get probabilities\n",
        "        attn_scores = einops.einsum(\n",
        "            q, k,\n",
        "            \"batch posn_Q nheads d_head, batch posn_K nheads d_head -> batch nheads posn_Q posn_K\"\n",
        "        )\n",
        "        attn_scores_masked = self.apply_causal_mask(attn_scores / self.cfg.d_head ** 0.5)\n",
        "        attn_pattern = attn_scores_masked.softmax(-1)\n",
        "\n",
        "        # Take weighted sum of value vectors, according to attention probabilities\n",
        "        z = einops.einsum(\n",
        "            v, attn_pattern,\n",
        "            \"batch posn_K nheads d_head, batch nheads posn_Q posn_K -> batch posn_Q nheads d_head\"\n",
        "        )\n",
        "\n",
        "        # Calculate output (by applying matrix W_O and summing over heads, then adding bias b_O)\n",
        "        out = einops.einsum(\n",
        "            z, self.W_O,\n",
        "            \"batch posn_Q nheads d_head, nheads d_head d_model -> batch posn_Q d_model\"\n",
        "        ) + self.b_O\n",
        "\n",
        "        return out, kv_cache_entry\n",
        "\n",
        "    def apply_causal_mask(\n",
        "        self, attn_scores: Float[Tensor, \"batch n_heads query_pos key_pos\"]\n",
        "    ) -> Float[Tensor, \"batch n_heads query_pos key_pos\"]:\n",
        "        '''\n",
        "        Here, attn_scores have shape (batch, n_heads, query_pos, key_pos), where query_pos represents the\n",
        "        new (non-cached) positions, and key_pos represent all the positions (cached and non-cached).\n",
        "\n",
        "        So when we create our mask, the query indices and key indices will both go up to the same value\n",
        "        (the full sequence length), but the query indices will start at >0.\n",
        "        '''\n",
        "        new_seq_len, full_seq_len = attn_scores.shape[-2:]\n",
        "        assert new_seq_len <= full_seq_len\n",
        "        q_posn = einops.repeat(attn_scores.new_tensor(range(full_seq_len-new_seq_len, full_seq_len)), \"q -> q k\", k=full_seq_len)\n",
        "        k_posn = einops.repeat(attn_scores.new_tensor(range(full_seq_len)), \"k -> q k\", q=new_seq_len)\n",
        "        mask = q_posn < k_posn\n",
        "        attn_scores = attn_scores.masked_fill(mask, self.IGNORE)\n",
        "        return attn_scores\n",
        "\n",
        "\n",
        "class TransformerBlock(nn.Module):\n",
        "    def __init__(self, cfg: Config):\n",
        "        super().__init__()\n",
        "        self.cfg = cfg\n",
        "        self.ln1 = LayerNorm(cfg)\n",
        "        self.attn = Attention(cfg)\n",
        "        self.ln2 = LayerNorm(cfg)\n",
        "        self.mlp = MLP(cfg)\n",
        "\n",
        "    def forward(\n",
        "        self,\n",
        "        resid_pre: Float[Tensor, \"batch position d_model\"],\n",
        "        kv_cache_entry: KeyValueCacheTensor | None = None,\n",
        "    ) -> Float[Tensor, \"batch position d_model\"]:\n",
        "\n",
        "        attn_out, kv_cache_entry = self.attn(self.ln1(resid_pre), kv_cache_entry)\n",
        "        resid_mid = attn_out + resid_pre\n",
        "        resid_post = self.mlp(self.ln2(resid_mid)) + resid_mid\n",
        "        return resid_post, kv_cache_entry\n",
        "\n",
        "\n",
        "class DemoTransformer(nn.Module):\n",
        "    def __init__(self, cfg: Config):\n",
        "        super().__init__()\n",
        "        self.cfg = cfg\n",
        "        self.embed = Embed(cfg)\n",
        "        self.pos_embed = PosEmbed(cfg)\n",
        "        self.blocks = nn.ModuleList([TransformerBlock(cfg) for _ in range(cfg.n_layers)])\n",
        "        self.ln_final = LayerNorm(cfg)\n",
        "        self.unembed = Unembed(cfg)\n",
        "\n",
        "    def forward(\n",
        "        self,\n",
        "        tokens: Int[Tensor, \"batch seq_pos\"],\n",
        "        kv_cache: KeyValueCache | None = None\n",
        "    ) -> Float[Tensor, \"batch position d_vocab\"]:\n",
        "\n",
        "        using_kv_cache = kv_cache is not None\n",
        "\n",
        "        if using_kv_cache:\n",
        "            # If using kv_cache, then we only need to pass forward the newest tokens\n",
        "            # Remember to add positional offset!\n",
        "            n_cached_tokens = kv_cache.seq_len\n",
        "            tokens = tokens[:, n_cached_tokens:]\n",
        "            residual = self.embed(tokens) + self.pos_embed(tokens, n_cached_tokens)\n",
        "        else:\n",
        "            # If not using cache, turn it into a list of None's (so we can iterate through it)\n",
        "            kv_cache = [None for _ in range(self.cfg.n_layers)]\n",
        "            residual = self.embed(tokens) + self.pos_embed(tokens)\n",
        "\n",
        "        # Apply all layers, and create a (new) kv_cache from the key & value vectors\n",
        "        new_kv_cache_entries: list[KeyValueCacheTensor] = []\n",
        "        for block, kv_cache_entry in zip(self.blocks, kv_cache):\n",
        "            residual, kv_cache_entry = block(residual, kv_cache_entry)\n",
        "            if using_kv_cache: new_kv_cache_entries.append(kv_cache_entry)\n",
        "\n",
        "        logits = self.unembed(self.ln_final(residual))\n",
        "\n",
        "        if using_kv_cache:\n",
        "            return logits, KeyValueCache(t.stack(new_kv_cache_entries))\n",
        "        else:\n",
        "            return logits, None\n",
        "\n",
        "\n",
        "tokens = reference_gpt2.to_tokens(reference_text).to(device)\n",
        "logits, cache = reference_gpt2.run_with_cache(tokens)\n",
        "\n",
        "rand_int_test(PosEmbed, [2, 4])\n",
        "load_gpt2_test(PosEmbed, reference_gpt2.pos_embed, tokens)\n",
        "rand_float_test(Attention, [2, 4, 768])\n",
        "load_gpt2_test(Attention, reference_gpt2.blocks[0].attn, cache[\"normalized\", 0, \"ln1\"])\n",
        "rand_float_test(TransformerBlock, [2, 4, 768])\n",
        "load_gpt2_test(TransformerBlock, reference_gpt2.blocks[0], cache[\"resid_pre\", 0])\n",
        "rand_int_test(DemoTransformer, [2, 4])\n",
        "load_gpt2_test(DemoTransformer, reference_gpt2, tokens)\n",
        "```\n",
        "\n",
        "</details>\n",
        "\n",
        "<details>\n",
        "<summary>New sampling function</summary>\n",
        "\n",
        "```python\n",
        "@t.inference_mode()\n",
        "def sample_with_cache(\n",
        "    self: TransformerSampler,\n",
        "    prompt: str,\n",
        "    max_tokens_generated=100,\n",
        "    kv_cache: KeyValueCache | None = None,\n",
        "    verbose=False,\n",
        "    seed: int | None = None,\n",
        "    **kwargs\n",
        ") -> str:\n",
        "\n",
        "    self.model.eval()\n",
        "    input_ids = self.tokenizer.encode(prompt, return_tensors=\"pt\").to(device)[0]\n",
        "    if seed is not None:\n",
        "        np.random.seed(seed)\n",
        "        t.manual_seed(seed)\n",
        "\n",
        "    for i in tqdm(range(max_tokens_generated)):\n",
        "        # Get new logits (make sure we don't pass in more tokens than the model's context length)\n",
        "        logits, kv_cache = self.model(input_ids[None, -self.cfg.n_ctx:], kv_cache)\n",
        "        # We only take logits for the last token, because this is what we're sampling\n",
        "        logits = logits[0, -1]\n",
        "        # Get next token (as a tensor of size (1, 1) so we can concat it to input_ids)\n",
        "        next_token = t.tensor([TransformerSampler.sample_next_token(input_ids, logits, **kwargs)], device=device)\n",
        "        # Create new input ids string, with shape (1, old_seq_len + 1)\n",
        "        input_ids = t.cat([input_ids, next_token], dim=-1)\n",
        "        # Print out results, if required\n",
        "        if verbose:\n",
        "            print(self.tokenizer.decode(input_ids), end=\"\\r\")\n",
        "        # If our new token was the end-of-text token, stop\n",
        "        if next_token == getattr(self.tokenizer, \"eos_token_id\", None):\n",
        "            break\n",
        "\n",
        "    return self.tokenizer.decode(input_ids)\n",
        "\n",
        "\n",
        "TransformerSampler.sample = sample_with_cache\n",
        "```\n",
        "</details>\n",
        "\n",
        "<details>\n",
        "<summary>Code to verify that the same output is being produced by cache and no-cache versions (and to compare speeds)</summary>\n",
        "\n",
        "```python\n",
        "device = t.device(\"cuda\") # can also try \"cpu\"\n",
        "\n",
        "model = DemoTransformer(Config()).to(device)\n",
        "model.load_state_dict(reference_gpt2.state_dict(), strict=False);\n",
        "\n",
        "initial_text = \"Eliezer Shlomo Yudkowsky (born September 11, 1979) is an American decision and artificial intelligence (AI) theorist and writer, best known for\"\n",
        "# input_ids = tokenizer.encode(initial_text, return_tensors=\"pt\").squeeze()\n",
        "\n",
        "sampler = TransformerSampler(model, tokenizer)\n",
        "\n",
        "# Run the noncached version\n",
        "t0 = time.time()\n",
        "text = sampler.sample(\n",
        "    initial_text,\n",
        "    temperature=0.7,\n",
        "    top_p=0.95,\n",
        "    seed=0,\n",
        ")\n",
        "print(f\"Time taken (without cache): {time.time() - t0:.2f} seconds\")\n",
        "rprint(f\"Model output:\\n\\n[bold dark_orange]{text}[/]\")\n",
        "\n",
        "# Run the cached version\n",
        "t0 = time.time()\n",
        "text_with_cache = sampler.sample(\n",
        "    initial_text,\n",
        "    temperature=0.7,\n",
        "    top_p=0.95,\n",
        "    seed=0,\n",
        "    kv_cache=KeyValueCache.new_empty(sampler.cfg)\n",
        ")\n",
        "print(f\"Time taken (with cache): {time.time() - t0:.2f} seconds\")\n",
        "rprint(f\"Model output:\\n\\n[bold dark_orange]{text_with_cache}[/]\")\n",
        "\n",
        "# # Check they are the same\n",
        "assert text == text_with_cache, \"Your outputs are different, meaning you've probably made a mistake in your cache implementation (or failed to use random seeds).\"\n",
        "print(\"Tests passed!\")\n",
        "```\n",
        "\n",
        "</details>"
      ]
    },
    {
      "cell_type": "markdown",
      "metadata": {
        "id": "WamdfoBXrjy4"
      },
      "source": [
        "You may find that your cache implementation provides a modest speedup, but probably not close to the `seq_len`-factor speedup you'd expect from the fact that you only compute one additional token at each step rather than all of them. Why is this? The answer is that, much like everything to do with computational and memory costs in deep learning, it's not so simple. There are a host of different factors which might be bottlenecking our model's forward pass speed. If you try this on the CPU, you should get a much more noticeable speedup.\n",
        "\n",
        "For a bit more on these topics, see [here](https://kipp.ly/blog/transformer-inference-arithmetic/#kv-cache)."
      ]
    },
    {
      "cell_type": "markdown",
      "metadata": {
        "id": "eQ2OI6NFrjy4"
      },
      "source": [
        "## Bonus - cached beam search\n",
        "\n",
        "Can you modify your beam search function to use caching?\n",
        "\n",
        "Depending on how you implemented your cache earlier, you might find that a different form of caching is better suited to beam search.\n",
        "\n",
        "Again, we've provided an example implementation in a dropdown below, which is based on the cache implementation above and the previous solution for `beam_search`.\n",
        "\n",
        "<details>\n",
        "<summary>Cached beam search function</summary>\n",
        "\n",
        "As we touched on earlier, thanks to our modular code, not a lot needs to be changed when adding cache support.\n",
        "\n",
        "```python\n",
        "@dataclass\n",
        "class Beams:\n",
        "    '''Class to store beams during beam search.'''\n",
        "    model: DemoTransformer\n",
        "    tokenizer: GPT2TokenizerFast\n",
        "    logprob_sums: Float[Tensor, \"batch\"]\n",
        "    tokens: Int[Tensor, \"batch seq\"]\n",
        "    kv_cache: KeyValueCache | None = None\n",
        "\n",
        "    def __getitem__(self, idx) -> \"Beams\":\n",
        "        '''Helpful function allowing you to take a slice of the beams object along the batch dimension.'''\n",
        "        return Beams(\n",
        "            self.model,\n",
        "            self.tokenizer,\n",
        "            self.logprob_sums[idx],\n",
        "            self.tokens[idx],\n",
        "            self.kv_cache[:, :, idx] if self.kv_cache is not None else None\n",
        "        )\n",
        "\n",
        "    @property\n",
        "    def logprobs_and_completions(self) -> list[tuple[float, str]]:\n",
        "        '''Returns self as a list of logprob sums and completions (useful for getting final output).'''\n",
        "        return [\n",
        "            (logprob_sum.item(), self.tokenizer.decode(tokens))\n",
        "            for (logprob_sum, tokens) in zip(self.logprob_sums, self.tokens)\n",
        "        ]\n",
        "\n",
        "\n",
        "    def generate(self, k: int, no_repeat_ngram_size: int | None = None) -> \"Beams\":\n",
        "        '''\n",
        "        Starting from the current set of beams (i.e. self.tokens) and returns a new set of `len(self.tokens) * k` beams,\n",
        "        containing the best `k` continuations for each of the original beams.\n",
        "\n",
        "        Optional argument `no_repeat_ngram_size` means your model won't generate any sequences with a repeating n-gram\n",
        "        of this length.\n",
        "        '''\n",
        "        # Get the output logprobs for the next token (for every sequence in current beams)\n",
        "        logprobs, kv_cache = self.model(self.tokens, self.kv_cache)\n",
        "        logprobs = logprobs[:, -1, :].log_softmax(-1)\n",
        "\n",
        "        # Get the top `toks_per_beam` tokens for each sequence\n",
        "        topk_logprobs, topk_tokenIDs = self.get_topk_non_repeating(logprobs, no_repeat_ngram_size, k=k)\n",
        "\n",
        "        # Add new logprobs & concat new tokens. When doing this, we need to add an extra `k` dimension since our current\n",
        "        # logprobs & tokens have shape (batch,) and (batch, seq), but our new ones both have shape (batch, k)\n",
        "        new_logprob_sums = einops.repeat(self.logprob_sums, \"b -> b k\", k=k) + topk_logprobs\n",
        "        new_tokens = t.concat([einops.repeat(self.tokens, \"b s -> b k s\", k=k), topk_tokenIDs.unsqueeze(-1)], dim=-1)\n",
        "\n",
        "        return Beams(self.model, self.tokenizer, new_logprob_sums.flatten(), new_tokens.flatten(0, 1), new_kv_cache)\n",
        "\n",
        "\n",
        "    def filter(self, k: int) -> tuple[\"Beams\", \"Beams\"]:\n",
        "        '''\n",
        "        Returns:\n",
        "            best_beams: Beams\n",
        "                filtered version of self, containing all best `k` which are also not terminated.\n",
        "            early_terminations: Beams\n",
        "                filtered version of self, containing all best `k` which are also terminated.\n",
        "        '''\n",
        "        # Get the indices of top `k` beams\n",
        "        top_beam_indices = self.logprob_sums.topk(k=k, dim=0).indices.tolist()\n",
        "        # Get the indices of terminated sequences\n",
        "        new_tokens = self.tokens[:, -1]\n",
        "        terminated_indices = t.nonzero(new_tokens == self.tokenizer.eos_token_id)\n",
        "\n",
        "        # Get the indices of the `k` best sequences (some terminated, some not terminated)\n",
        "        best_continuing = [i for i in top_beam_indices if i not in terminated_indices]\n",
        "        best_terminated = [i for i in top_beam_indices if i in terminated_indices]\n",
        "\n",
        "        # Return the beam objects from these indices\n",
        "        return self[best_continuing], self[best_terminated]\n",
        "\n",
        "\n",
        "    def get_topk_non_repeating(\n",
        "        self,\n",
        "        logprobs: Float[Tensor, \"batch d_vocab\"],\n",
        "        no_repeat_ngram_size: int | None,\n",
        "        k: int,\n",
        "    ) -> tuple[Float[Tensor, \"k\"], Int[Tensor, \"k\"]]:\n",
        "        \"\"\"\n",
        "        logprobs:\n",
        "            tensor of the log-probs for the next token\n",
        "        no_repeat_ngram_size:\n",
        "            size of ngram to avoid repeating\n",
        "        k:\n",
        "            number of top logits to return, for each beam in our collection\n",
        "\n",
        "        Returns:\n",
        "            equivalent to the output of `logprobs.topk(dim=-1)`, but makes sure that no returned tokens would produce an\n",
        "            ngram of size  `no_repeat_ngram_size` which has already appeared in `self.tokens`.\n",
        "        \"\"\"\n",
        "        batch, seq_len = self.tokens.shape\n",
        "\n",
        "        # If completion isn't long enough for a repetition, or we have no restrictions, just return topk\n",
        "        if (no_repeat_ngram_size is not None) and (seq_len > no_repeat_ngram_size - 1):\n",
        "            # Otherwise, we need to check for ngram repetitions\n",
        "            # First, get the most recent `no_repeat_ngram_size-1` tokens\n",
        "            last_ngram_prefix = self.tokens[:, seq_len - (no_repeat_ngram_size - 1) :]\n",
        "            # Next, find all the tokens we're not allowed to generate, by checking all past ngrams for a match\n",
        "            for i in range(seq_len - (no_repeat_ngram_size - 1)):\n",
        "                ngrams = self.tokens[:, i : i + no_repeat_ngram_size]  # (batch, ngram)\n",
        "                ngrams_are_repeated = (ngrams[:, :-1] == last_ngram_prefix).all(-1)  # (batch,)\n",
        "                ngram_end_tokens = ngrams[:, [-1]]  # (batch, 1)\n",
        "                # Fill logprobs with neginf wherever the ngrams are repeated\n",
        "                logprobs[range(batch), ngram_end_tokens] = t.where(\n",
        "                    ngrams_are_repeated, -1.0e4, logprobs[range(batch), ngram_end_tokens]\n",
        "                )\n",
        "\n",
        "        # Finally, get our actual tokens\n",
        "        return logprobs.topk(k=k, dim=-1)\n",
        "\n",
        "    def print(self, title=\"Best completions\", max_print_chars=80) -> None:\n",
        "        '''\n",
        "        Prints out a set of sequences with their corresponding logitsums.\n",
        "        '''\n",
        "        if len(self.tokens) == 0:\n",
        "            return\n",
        "        table = Table(\"logitsum\", \"completion\", title=title)\n",
        "        for logprob_sum, tokens in zip(self.logprob_sums, self.tokens):\n",
        "            text = self.tokenizer.decode(tokens)\n",
        "            if len(repr(text)) > max_print_chars:\n",
        "                text = text[:int(0.3 * max_print_chars)] + \" ... \" + text[-int(0.7 * max_print_chars):]\n",
        "            table.add_row(f\"{logprob_sum:>8.3f}\", repr(text))\n",
        "        rprint(table)\n",
        "\n",
        "\n",
        "    @t.inference_mode()\n",
        "    def beam_search(\n",
        "        self,\n",
        "        prompt: str,\n",
        "        num_return_sequences: int,\n",
        "        num_beams: int,\n",
        "        max_new_tokens: int,\n",
        "        no_repeat_ngram_size: int | None = None,\n",
        "        kv_cache: KeyValueCache | None = None,\n",
        "    ) -> list[tuple[float, Tensor]]:\n",
        "        '''\n",
        "        Implements a beam search, by repeatedly performing the `generate` and `filter` steps (starting from the initial\n",
        "        prompt) until either of the two stopping criteria are met: (1) we've generated `max_new_tokens` tokens, or (2)\n",
        "        we've generated `num_returns_sequences` terminating sequences.\n",
        "        '''\n",
        "        assert num_return_sequences <= num_beams\n",
        "        self.model.eval()\n",
        "\n",
        "        tokens = self.tokenizer.encode(prompt, return_tensors=\"pt\").to(device)\n",
        "\n",
        "        final_logprobs_and_completions = []  # we add to this list as we get terminated beams\n",
        "        best_beams = Beams(self.model, self.tokenizer, t.tensor([0.0]).to(device), tokens)  # start with just 1 beam\n",
        "\n",
        "        for _ in tqdm(range(max_new_tokens)):\n",
        "            # Generate & filter beams\n",
        "            best_beams = best_beams.generate(k=num_beams, no_repeat_ngram_size=no_repeat_ngram_size)\n",
        "            best_beams, best_beams_terminated = best_beams.filter(k=num_beams)\n",
        "\n",
        "            # Add terminated beams to our list, and return early if we have enough\n",
        "            final_logprobs_and_completions.extend(best_beams_terminated.logprobs_and_completions)\n",
        "            if len(final_logprobs_and_completions) >= num_return_sequences:\n",
        "                return final_logprobs_and_completions[:num_return_sequences]\n",
        "\n",
        "        # Return terminated beams plus the best ongoing beams of length `orig_len + max_new_tokens`\n",
        "        final_logprobs_and_completions.extend(best_beams.logprobs_and_completions)\n",
        "        return final_logprobs_and_completions[:num_return_sequences]\n",
        "\n",
        "\n",
        "```\n",
        "\n",
        "</details>\n",
        "\n",
        "<details>\n",
        "<summary>Code to verify that the same output is being produced by cache and no-cache versions (and to compare speeds)</summary>\n",
        "\n",
        "```python\n",
        "prompt = \"For you, the day Bison graced your village was the most important day of your life. But for me, it was\"\n",
        "orig_len = len(tokenizer.encode(prompt))\n",
        "\n",
        "beam_search_kwargs = dict(\n",
        "    prompt=prompt,\n",
        "    num_return_sequences=3,\n",
        "    num_beams=20,\n",
        "    max_new_tokens=60,\n",
        "    no_repeat_ngram_size=2,\n",
        "    verbose=False\n",
        ")\n",
        "\n",
        "sampler = TransformerSampler(model, tokenizer)\n",
        "\n",
        "# Run the noncached version\n",
        "t0 = time.time()\n",
        "final_logitsums_and_completions = sampler.beam_search(**beam_search_kwargs)\n",
        "logprob_sum, text = final_logitsums_and_completions[0]\n",
        "avg_logprob_as_prob = t.tensor(logprob_sum / (len(tokenizer.encode(text)) - orig_len)).exp().item()\n",
        "print(f\"Time (without cache): {time.time() - t0:.2f} seconds\")\n",
        "print(f\"Avg logprob (expressed as a probability) = {avg_logprob_as_prob:.3f}\")\n",
        "rprint(f\"Output:\\n\\n[bold dark_orange]{text}[/]\\n\\n\")\n",
        "\n",
        "# Run the cached version\n",
        "t0 = time.time()\n",
        "beam_search_kwargs[\"kv_cache\"] = KeyValueCache.new_empty(model.cfg)\n",
        "final_logitsums_and_completions = sampler.beam_search(**beam_search_kwargs)\n",
        "logprob_sum, text_with_cache = final_logitsums_and_completions[0]\n",
        "avg_logprob_as_prob = t.tensor(logprob_sum / (len(tokenizer.encode(text)) - orig_len)).exp().item()\n",
        "print(f\"Time (with cache): {time.time() - t0:.2f} seconds\")\n",
        "print(f\"Avg logprob (as probability) = {avg_logprob_as_prob:.3f}\", end=\"\")\n",
        "rprint(f\"Output:\\n\\n[bold dark_orange]{text_with_cache}[/]\\n\\n\")\n",
        "\n",
        "# Check they are the same\n",
        "assert text == text_with_cache, \"Your outputs are different, meaning you've probably made a mistake in your cache implementation.\"\n",
        "print(\"Tests passed!\")\n",
        "```\n",
        "\n",
        "</details>"
      ]
    }
  ],
  "metadata": {
    "colab": {
      "provenance": []
    },
    "kernelspec": {
      "display_name": "recap",
      "language": "python",
      "name": "python3"
    },
    "language_info": {
      "codemirror_mode": {
        "name": "ipython",
        "version": 3
      },
      "file_extension": ".py",
      "mimetype": "text/x-python",
      "name": "python",
      "nbconvert_exporter": "python",
      "pygments_lexer": "ipython3",
      "version": "3.11.9"
    },
    "widgets": {
      "application/vnd.jupyter.widget-state+json": {
        "043a125b07074e1e9b75c3de1efb09fd": {
          "model_module": "@jupyter-widgets/controls",
          "model_module_version": "1.5.0",
          "model_name": "DescriptionStyleModel",
          "state": {
            "_model_module": "@jupyter-widgets/controls",
            "_model_module_version": "1.5.0",
            "_model_name": "DescriptionStyleModel",
            "_view_count": null,
            "_view_module": "@jupyter-widgets/base",
            "_view_module_version": "1.2.0",
            "_view_name": "StyleView",
            "description_width": ""
          }
        },
        "047fa8d5fb7045dda2db32f278f74ffe": {
          "model_module": "@jupyter-widgets/controls",
          "model_module_version": "1.5.0",
          "model_name": "HTMLModel",
          "state": {
            "_dom_classes": [],
            "_model_module": "@jupyter-widgets/controls",
            "_model_module_version": "1.5.0",
            "_model_name": "HTMLModel",
            "_view_count": null,
            "_view_module": "@jupyter-widgets/controls",
            "_view_module_version": "1.5.0",
            "_view_name": "HTMLView",
            "description": "",
            "description_tooltip": null,
            "layout": "IPY_MODEL_3cf0c6fe0d1548bb9ea8fe556f47e234",
            "placeholder": "​",
            "style": "IPY_MODEL_3fdae02b42ab457e8063b869e7622c23",
            "value": " 100/100 [01:00&lt;00:00,  1.08s/it]"
          }
        },
        "067e9b85f70b4a96849048c16ff3e040": {
          "model_module": "@jupyter-widgets/controls",
          "model_module_version": "1.5.0",
          "model_name": "HTMLModel",
          "state": {
            "_dom_classes": [],
            "_model_module": "@jupyter-widgets/controls",
            "_model_module_version": "1.5.0",
            "_model_name": "HTMLModel",
            "_view_count": null,
            "_view_module": "@jupyter-widgets/controls",
            "_view_module_version": "1.5.0",
            "_view_name": "HTMLView",
            "description": "",
            "description_tooltip": null,
            "layout": "IPY_MODEL_167b94ef8b0b46e1a2a8900dad173b0e",
            "placeholder": "​",
            "style": "IPY_MODEL_24097103f2494aa488b2633bb3a42866",
            "value": "(…)-00001-of-00004-5852b56a2bd28fd9.parquet: 100%"
          }
        },
        "0883b021a34440fa8f0258071a6e90a7": {
          "model_module": "@jupyter-widgets/base",
          "model_module_version": "1.2.0",
          "model_name": "LayoutModel",
          "state": {
            "_model_module": "@jupyter-widgets/base",
            "_model_module_version": "1.2.0",
            "_model_name": "LayoutModel",
            "_view_count": null,
            "_view_module": "@jupyter-widgets/base",
            "_view_module_version": "1.2.0",
            "_view_name": "LayoutView",
            "align_content": null,
            "align_items": null,
            "align_self": null,
            "border": null,
            "bottom": null,
            "display": null,
            "flex": null,
            "flex_flow": null,
            "grid_area": null,
            "grid_auto_columns": null,
            "grid_auto_flow": null,
            "grid_auto_rows": null,
            "grid_column": null,
            "grid_gap": null,
            "grid_row": null,
            "grid_template_areas": null,
            "grid_template_columns": null,
            "grid_template_rows": null,
            "height": null,
            "justify_content": null,
            "justify_items": null,
            "left": null,
            "margin": null,
            "max_height": null,
            "max_width": null,
            "min_height": null,
            "min_width": null,
            "object_fit": null,
            "object_position": null,
            "order": null,
            "overflow": null,
            "overflow_x": null,
            "overflow_y": null,
            "padding": null,
            "right": null,
            "top": null,
            "visibility": null,
            "width": null
          }
        },
        "089c9c23b24448a1be2bb9225804d49d": {
          "model_module": "@jupyter-widgets/base",
          "model_module_version": "1.2.0",
          "model_name": "LayoutModel",
          "state": {
            "_model_module": "@jupyter-widgets/base",
            "_model_module_version": "1.2.0",
            "_model_name": "LayoutModel",
            "_view_count": null,
            "_view_module": "@jupyter-widgets/base",
            "_view_module_version": "1.2.0",
            "_view_name": "LayoutView",
            "align_content": null,
            "align_items": null,
            "align_self": null,
            "border": null,
            "bottom": null,
            "display": null,
            "flex": null,
            "flex_flow": null,
            "grid_area": null,
            "grid_auto_columns": null,
            "grid_auto_flow": null,
            "grid_auto_rows": null,
            "grid_column": null,
            "grid_gap": null,
            "grid_row": null,
            "grid_template_areas": null,
            "grid_template_columns": null,
            "grid_template_rows": null,
            "height": null,
            "justify_content": null,
            "justify_items": null,
            "left": null,
            "margin": null,
            "max_height": null,
            "max_width": null,
            "min_height": null,
            "min_width": null,
            "object_fit": null,
            "object_position": null,
            "order": null,
            "overflow": null,
            "overflow_x": null,
            "overflow_y": null,
            "padding": null,
            "right": null,
            "top": null,
            "visibility": null,
            "width": null
          }
        },
        "0be2dbbebe33401993ddfa9e105138c5": {
          "model_module": "@jupyter-widgets/base",
          "model_module_version": "1.2.0",
          "model_name": "LayoutModel",
          "state": {
            "_model_module": "@jupyter-widgets/base",
            "_model_module_version": "1.2.0",
            "_model_name": "LayoutModel",
            "_view_count": null,
            "_view_module": "@jupyter-widgets/base",
            "_view_module_version": "1.2.0",
            "_view_name": "LayoutView",
            "align_content": null,
            "align_items": null,
            "align_self": null,
            "border": null,
            "bottom": null,
            "display": null,
            "flex": null,
            "flex_flow": null,
            "grid_area": null,
            "grid_auto_columns": null,
            "grid_auto_flow": null,
            "grid_auto_rows": null,
            "grid_column": null,
            "grid_gap": null,
            "grid_row": null,
            "grid_template_areas": null,
            "grid_template_columns": null,
            "grid_template_rows": null,
            "height": null,
            "justify_content": null,
            "justify_items": null,
            "left": null,
            "margin": null,
            "max_height": null,
            "max_width": null,
            "min_height": null,
            "min_width": null,
            "object_fit": null,
            "object_position": null,
            "order": null,
            "overflow": null,
            "overflow_x": null,
            "overflow_y": null,
            "padding": null,
            "right": null,
            "top": null,
            "visibility": null,
            "width": null
          }
        },
        "0cd93ea1ea434a54b9d51133a5b25348": {
          "model_module": "@jupyter-widgets/controls",
          "model_module_version": "1.5.0",
          "model_name": "HTMLModel",
          "state": {
            "_dom_classes": [],
            "_model_module": "@jupyter-widgets/controls",
            "_model_module_version": "1.5.0",
            "_model_name": "HTMLModel",
            "_view_count": null,
            "_view_module": "@jupyter-widgets/controls",
            "_view_module_version": "1.5.0",
            "_view_name": "HTMLView",
            "description": "",
            "description_tooltip": null,
            "layout": "IPY_MODEL_e0fcdd81dbe44dd7a7df18ecfb9a9f7e",
            "placeholder": "​",
            "style": "IPY_MODEL_f718424336a6432383ee55b2c0dea165",
            "value": "Generating validation split: 100%"
          }
        },
        "0e468303b268471b8a5ab28d0eda6815": {
          "model_module": "@jupyter-widgets/controls",
          "model_module_version": "1.5.0",
          "model_name": "FloatProgressModel",
          "state": {
            "_dom_classes": [],
            "_model_module": "@jupyter-widgets/controls",
            "_model_module_version": "1.5.0",
            "_model_name": "FloatProgressModel",
            "_view_count": null,
            "_view_module": "@jupyter-widgets/controls",
            "_view_module_version": "1.5.0",
            "_view_name": "ProgressView",
            "bar_style": "success",
            "description": "",
            "description_tooltip": null,
            "layout": "IPY_MODEL_ac413b7c12c74d2188edb74b08cf8bbc",
            "max": 248171980,
            "min": 0,
            "orientation": "horizontal",
            "style": "IPY_MODEL_81e2f01bc89641d5a19d7f931bc684e7",
            "value": 248171980
          }
        },
        "0e8955e6b925476eb1f217389783a882": {
          "model_module": "@jupyter-widgets/controls",
          "model_module_version": "1.5.0",
          "model_name": "DescriptionStyleModel",
          "state": {
            "_model_module": "@jupyter-widgets/controls",
            "_model_module_version": "1.5.0",
            "_model_name": "DescriptionStyleModel",
            "_view_count": null,
            "_view_module": "@jupyter-widgets/base",
            "_view_module_version": "1.2.0",
            "_view_name": "StyleView",
            "description_width": ""
          }
        },
        "1019a36f00944f3bb24da510f304990d": {
          "model_module": "@jupyter-widgets/controls",
          "model_module_version": "1.5.0",
          "model_name": "HTMLModel",
          "state": {
            "_dom_classes": [],
            "_model_module": "@jupyter-widgets/controls",
            "_model_module_version": "1.5.0",
            "_model_name": "HTMLModel",
            "_view_count": null,
            "_view_module": "@jupyter-widgets/controls",
            "_view_module_version": "1.5.0",
            "_view_name": "HTMLView",
            "description": "",
            "description_tooltip": null,
            "layout": "IPY_MODEL_76acb959b3f547ed903d38249ef38f17",
            "placeholder": "​",
            "style": "IPY_MODEL_6fb7c1290d0d4207a0cf79ae649c93af",
            "value": "Map (num_proc=4): 100%"
          }
        },
        "141cb5a01ac643eb92deb06ac1da75a7": {
          "model_module": "@jupyter-widgets/controls",
          "model_module_version": "1.5.0",
          "model_name": "DescriptionStyleModel",
          "state": {
            "_model_module": "@jupyter-widgets/controls",
            "_model_module_version": "1.5.0",
            "_model_name": "DescriptionStyleModel",
            "_view_count": null,
            "_view_module": "@jupyter-widgets/base",
            "_view_module_version": "1.2.0",
            "_view_name": "StyleView",
            "description_width": ""
          }
        },
        "141e002b4cbe453b99fac27c9dac0ecb": {
          "model_module": "@jupyter-widgets/controls",
          "model_module_version": "1.5.0",
          "model_name": "DescriptionStyleModel",
          "state": {
            "_model_module": "@jupyter-widgets/controls",
            "_model_module_version": "1.5.0",
            "_model_name": "DescriptionStyleModel",
            "_view_count": null,
            "_view_module": "@jupyter-widgets/base",
            "_view_module_version": "1.2.0",
            "_view_name": "StyleView",
            "description_width": ""
          }
        },
        "1650cce501bd4a46943ecb4d7534d6eb": {
          "model_module": "@jupyter-widgets/controls",
          "model_module_version": "1.5.0",
          "model_name": "DescriptionStyleModel",
          "state": {
            "_model_module": "@jupyter-widgets/controls",
            "_model_module_version": "1.5.0",
            "_model_name": "DescriptionStyleModel",
            "_view_count": null,
            "_view_module": "@jupyter-widgets/base",
            "_view_module_version": "1.2.0",
            "_view_name": "StyleView",
            "description_width": ""
          }
        },
        "167b94ef8b0b46e1a2a8900dad173b0e": {
          "model_module": "@jupyter-widgets/base",
          "model_module_version": "1.2.0",
          "model_name": "LayoutModel",
          "state": {
            "_model_module": "@jupyter-widgets/base",
            "_model_module_version": "1.2.0",
            "_model_name": "LayoutModel",
            "_view_count": null,
            "_view_module": "@jupyter-widgets/base",
            "_view_module_version": "1.2.0",
            "_view_name": "LayoutView",
            "align_content": null,
            "align_items": null,
            "align_self": null,
            "border": null,
            "bottom": null,
            "display": null,
            "flex": null,
            "flex_flow": null,
            "grid_area": null,
            "grid_auto_columns": null,
            "grid_auto_flow": null,
            "grid_auto_rows": null,
            "grid_column": null,
            "grid_gap": null,
            "grid_row": null,
            "grid_template_areas": null,
            "grid_template_columns": null,
            "grid_template_rows": null,
            "height": null,
            "justify_content": null,
            "justify_items": null,
            "left": null,
            "margin": null,
            "max_height": null,
            "max_width": null,
            "min_height": null,
            "min_width": null,
            "object_fit": null,
            "object_position": null,
            "order": null,
            "overflow": null,
            "overflow_x": null,
            "overflow_y": null,
            "padding": null,
            "right": null,
            "top": null,
            "visibility": null,
            "width": null
          }
        },
        "1c71f4c441474dc696aae96e480f1ba8": {
          "model_module": "@jupyter-widgets/base",
          "model_module_version": "1.2.0",
          "model_name": "LayoutModel",
          "state": {
            "_model_module": "@jupyter-widgets/base",
            "_model_module_version": "1.2.0",
            "_model_name": "LayoutModel",
            "_view_count": null,
            "_view_module": "@jupyter-widgets/base",
            "_view_module_version": "1.2.0",
            "_view_name": "LayoutView",
            "align_content": null,
            "align_items": null,
            "align_self": null,
            "border": null,
            "bottom": null,
            "display": null,
            "flex": null,
            "flex_flow": null,
            "grid_area": null,
            "grid_auto_columns": null,
            "grid_auto_flow": null,
            "grid_auto_rows": null,
            "grid_column": null,
            "grid_gap": null,
            "grid_row": null,
            "grid_template_areas": null,
            "grid_template_columns": null,
            "grid_template_rows": null,
            "height": null,
            "justify_content": null,
            "justify_items": null,
            "left": null,
            "margin": null,
            "max_height": null,
            "max_width": null,
            "min_height": null,
            "min_width": null,
            "object_fit": null,
            "object_position": null,
            "order": null,
            "overflow": null,
            "overflow_x": null,
            "overflow_y": null,
            "padding": null,
            "right": null,
            "top": null,
            "visibility": null,
            "width": null
          }
        },
        "1da510591a7c4e38b466bd033796ae54": {
          "model_module": "@jupyter-widgets/base",
          "model_module_version": "1.2.0",
          "model_name": "LayoutModel",
          "state": {
            "_model_module": "@jupyter-widgets/base",
            "_model_module_version": "1.2.0",
            "_model_name": "LayoutModel",
            "_view_count": null,
            "_view_module": "@jupyter-widgets/base",
            "_view_module_version": "1.2.0",
            "_view_name": "LayoutView",
            "align_content": null,
            "align_items": null,
            "align_self": null,
            "border": null,
            "bottom": null,
            "display": null,
            "flex": null,
            "flex_flow": null,
            "grid_area": null,
            "grid_auto_columns": null,
            "grid_auto_flow": null,
            "grid_auto_rows": null,
            "grid_column": null,
            "grid_gap": null,
            "grid_row": null,
            "grid_template_areas": null,
            "grid_template_columns": null,
            "grid_template_rows": null,
            "height": null,
            "justify_content": null,
            "justify_items": null,
            "left": null,
            "margin": null,
            "max_height": null,
            "max_width": null,
            "min_height": null,
            "min_width": null,
            "object_fit": null,
            "object_position": null,
            "order": null,
            "overflow": null,
            "overflow_x": null,
            "overflow_y": null,
            "padding": null,
            "right": null,
            "top": null,
            "visibility": null,
            "width": null
          }
        },
        "2122f79ba27a49ddaa0f7a0270cb13cd": {
          "model_module": "@jupyter-widgets/base",
          "model_module_version": "1.2.0",
          "model_name": "LayoutModel",
          "state": {
            "_model_module": "@jupyter-widgets/base",
            "_model_module_version": "1.2.0",
            "_model_name": "LayoutModel",
            "_view_count": null,
            "_view_module": "@jupyter-widgets/base",
            "_view_module_version": "1.2.0",
            "_view_name": "LayoutView",
            "align_content": null,
            "align_items": null,
            "align_self": null,
            "border": null,
            "bottom": null,
            "display": null,
            "flex": null,
            "flex_flow": null,
            "grid_area": null,
            "grid_auto_columns": null,
            "grid_auto_flow": null,
            "grid_auto_rows": null,
            "grid_column": null,
            "grid_gap": null,
            "grid_row": null,
            "grid_template_areas": null,
            "grid_template_columns": null,
            "grid_template_rows": null,
            "height": null,
            "justify_content": null,
            "justify_items": null,
            "left": null,
            "margin": null,
            "max_height": null,
            "max_width": null,
            "min_height": null,
            "min_width": null,
            "object_fit": null,
            "object_position": null,
            "order": null,
            "overflow": null,
            "overflow_x": null,
            "overflow_y": null,
            "padding": null,
            "right": null,
            "top": null,
            "visibility": null,
            "width": null
          }
        },
        "2271e60ef6544cd1bb166b2a66bd7fb0": {
          "model_module": "@jupyter-widgets/base",
          "model_module_version": "1.2.0",
          "model_name": "LayoutModel",
          "state": {
            "_model_module": "@jupyter-widgets/base",
            "_model_module_version": "1.2.0",
            "_model_name": "LayoutModel",
            "_view_count": null,
            "_view_module": "@jupyter-widgets/base",
            "_view_module_version": "1.2.0",
            "_view_name": "LayoutView",
            "align_content": null,
            "align_items": null,
            "align_self": null,
            "border": null,
            "bottom": null,
            "display": null,
            "flex": null,
            "flex_flow": null,
            "grid_area": null,
            "grid_auto_columns": null,
            "grid_auto_flow": null,
            "grid_auto_rows": null,
            "grid_column": null,
            "grid_gap": null,
            "grid_row": null,
            "grid_template_areas": null,
            "grid_template_columns": null,
            "grid_template_rows": null,
            "height": null,
            "justify_content": null,
            "justify_items": null,
            "left": null,
            "margin": null,
            "max_height": null,
            "max_width": null,
            "min_height": null,
            "min_width": null,
            "object_fit": null,
            "object_position": null,
            "order": null,
            "overflow": null,
            "overflow_x": null,
            "overflow_y": null,
            "padding": null,
            "right": null,
            "top": null,
            "visibility": null,
            "width": null
          }
        },
        "22a8d472a4464b2faf54fc3a393d328d": {
          "model_module": "@jupyter-widgets/controls",
          "model_module_version": "1.5.0",
          "model_name": "ProgressStyleModel",
          "state": {
            "_model_module": "@jupyter-widgets/controls",
            "_model_module_version": "1.5.0",
            "_model_name": "ProgressStyleModel",
            "_view_count": null,
            "_view_module": "@jupyter-widgets/base",
            "_view_module_version": "1.2.0",
            "_view_name": "StyleView",
            "bar_color": null,
            "description_width": ""
          }
        },
        "24097103f2494aa488b2633bb3a42866": {
          "model_module": "@jupyter-widgets/controls",
          "model_module_version": "1.5.0",
          "model_name": "DescriptionStyleModel",
          "state": {
            "_model_module": "@jupyter-widgets/controls",
            "_model_module_version": "1.5.0",
            "_model_name": "DescriptionStyleModel",
            "_view_count": null,
            "_view_module": "@jupyter-widgets/base",
            "_view_module_version": "1.2.0",
            "_view_name": "StyleView",
            "description_width": ""
          }
        },
        "26772b97717f4018b2751d8e28563271": {
          "model_module": "@jupyter-widgets/base",
          "model_module_version": "1.2.0",
          "model_name": "LayoutModel",
          "state": {
            "_model_module": "@jupyter-widgets/base",
            "_model_module_version": "1.2.0",
            "_model_name": "LayoutModel",
            "_view_count": null,
            "_view_module": "@jupyter-widgets/base",
            "_view_module_version": "1.2.0",
            "_view_name": "LayoutView",
            "align_content": null,
            "align_items": null,
            "align_self": null,
            "border": null,
            "bottom": null,
            "display": null,
            "flex": null,
            "flex_flow": null,
            "grid_area": null,
            "grid_auto_columns": null,
            "grid_auto_flow": null,
            "grid_auto_rows": null,
            "grid_column": null,
            "grid_gap": null,
            "grid_row": null,
            "grid_template_areas": null,
            "grid_template_columns": null,
            "grid_template_rows": null,
            "height": null,
            "justify_content": null,
            "justify_items": null,
            "left": null,
            "margin": null,
            "max_height": null,
            "max_width": null,
            "min_height": null,
            "min_width": null,
            "object_fit": null,
            "object_position": null,
            "order": null,
            "overflow": null,
            "overflow_x": null,
            "overflow_y": null,
            "padding": null,
            "right": null,
            "top": null,
            "visibility": null,
            "width": null
          }
        },
        "286183590fec4c538456b246bc81bfee": {
          "model_module": "@jupyter-widgets/base",
          "model_module_version": "1.2.0",
          "model_name": "LayoutModel",
          "state": {
            "_model_module": "@jupyter-widgets/base",
            "_model_module_version": "1.2.0",
            "_model_name": "LayoutModel",
            "_view_count": null,
            "_view_module": "@jupyter-widgets/base",
            "_view_module_version": "1.2.0",
            "_view_name": "LayoutView",
            "align_content": null,
            "align_items": null,
            "align_self": null,
            "border": null,
            "bottom": null,
            "display": null,
            "flex": null,
            "flex_flow": null,
            "grid_area": null,
            "grid_auto_columns": null,
            "grid_auto_flow": null,
            "grid_auto_rows": null,
            "grid_column": null,
            "grid_gap": null,
            "grid_row": null,
            "grid_template_areas": null,
            "grid_template_columns": null,
            "grid_template_rows": null,
            "height": null,
            "justify_content": null,
            "justify_items": null,
            "left": null,
            "margin": null,
            "max_height": null,
            "max_width": null,
            "min_height": null,
            "min_width": null,
            "object_fit": null,
            "object_position": null,
            "order": null,
            "overflow": null,
            "overflow_x": null,
            "overflow_y": null,
            "padding": null,
            "right": null,
            "top": null,
            "visibility": null,
            "width": null
          }
        },
        "2ec8472d2b6a4b3393ba2cb2b437f370": {
          "model_module": "@jupyter-widgets/base",
          "model_module_version": "1.2.0",
          "model_name": "LayoutModel",
          "state": {
            "_model_module": "@jupyter-widgets/base",
            "_model_module_version": "1.2.0",
            "_model_name": "LayoutModel",
            "_view_count": null,
            "_view_module": "@jupyter-widgets/base",
            "_view_module_version": "1.2.0",
            "_view_name": "LayoutView",
            "align_content": null,
            "align_items": null,
            "align_self": null,
            "border": null,
            "bottom": null,
            "display": null,
            "flex": null,
            "flex_flow": null,
            "grid_area": null,
            "grid_auto_columns": null,
            "grid_auto_flow": null,
            "grid_auto_rows": null,
            "grid_column": null,
            "grid_gap": null,
            "grid_row": null,
            "grid_template_areas": null,
            "grid_template_columns": null,
            "grid_template_rows": null,
            "height": null,
            "justify_content": null,
            "justify_items": null,
            "left": null,
            "margin": null,
            "max_height": null,
            "max_width": null,
            "min_height": null,
            "min_width": null,
            "object_fit": null,
            "object_position": null,
            "order": null,
            "overflow": null,
            "overflow_x": null,
            "overflow_y": null,
            "padding": null,
            "right": null,
            "top": null,
            "visibility": null,
            "width": null
          }
        },
        "3193f2ee8d6248e3b3c2d874cdb9a303": {
          "model_module": "@jupyter-widgets/controls",
          "model_module_version": "1.5.0",
          "model_name": "DescriptionStyleModel",
          "state": {
            "_model_module": "@jupyter-widgets/controls",
            "_model_module_version": "1.5.0",
            "_model_name": "DescriptionStyleModel",
            "_view_count": null,
            "_view_module": "@jupyter-widgets/base",
            "_view_module_version": "1.2.0",
            "_view_name": "StyleView",
            "description_width": ""
          }
        },
        "32be2277f54841559a3719bf2f9a614d": {
          "model_module": "@jupyter-widgets/controls",
          "model_module_version": "1.5.0",
          "model_name": "FloatProgressModel",
          "state": {
            "_dom_classes": [],
            "_model_module": "@jupyter-widgets/controls",
            "_model_module_version": "1.5.0",
            "_model_name": "FloatProgressModel",
            "_view_count": null,
            "_view_module": "@jupyter-widgets/controls",
            "_view_module_version": "1.5.0",
            "_view_name": "ProgressView",
            "bar_style": "success",
            "description": "",
            "description_tooltip": null,
            "layout": "IPY_MODEL_9e7b736970df4062a60484419bb84152",
            "max": 245894874,
            "min": 0,
            "orientation": "horizontal",
            "style": "IPY_MODEL_22a8d472a4464b2faf54fc3a393d328d",
            "value": 245894874
          }
        },
        "352ca4d68536440d820138de2a1de742": {
          "model_module": "@jupyter-widgets/controls",
          "model_module_version": "1.5.0",
          "model_name": "ProgressStyleModel",
          "state": {
            "_model_module": "@jupyter-widgets/controls",
            "_model_module_version": "1.5.0",
            "_model_name": "ProgressStyleModel",
            "_view_count": null,
            "_view_module": "@jupyter-widgets/base",
            "_view_module_version": "1.2.0",
            "_view_name": "StyleView",
            "bar_color": null,
            "description_width": ""
          }
        },
        "360170d926b84848abd1d0bf43a41555": {
          "model_module": "@jupyter-widgets/controls",
          "model_module_version": "1.5.0",
          "model_name": "DescriptionStyleModel",
          "state": {
            "_model_module": "@jupyter-widgets/controls",
            "_model_module_version": "1.5.0",
            "_model_name": "DescriptionStyleModel",
            "_view_count": null,
            "_view_module": "@jupyter-widgets/base",
            "_view_module_version": "1.2.0",
            "_view_name": "StyleView",
            "description_width": ""
          }
        },
        "37c5320f85b845c7a6bba457b0c187ef": {
          "model_module": "@jupyter-widgets/controls",
          "model_module_version": "1.5.0",
          "model_name": "HBoxModel",
          "state": {
            "_dom_classes": [],
            "_model_module": "@jupyter-widgets/controls",
            "_model_module_version": "1.5.0",
            "_model_name": "HBoxModel",
            "_view_count": null,
            "_view_module": "@jupyter-widgets/controls",
            "_view_module_version": "1.5.0",
            "_view_name": "HBoxView",
            "box_style": "",
            "children": [
              "IPY_MODEL_6fd3658366c248bd935ae33b1ff3acc5",
              "IPY_MODEL_5641f14b641442ec9951726692b17eba",
              "IPY_MODEL_5f2a512cc14942cbbad5eaf2ea206bad"
            ],
            "layout": "IPY_MODEL_3d7ca44ef3314a2b90631ca2680b6a0a"
          }
        },
        "3af82a7a415f4799b1c9ab86562b8249": {
          "model_module": "@jupyter-widgets/base",
          "model_module_version": "1.2.0",
          "model_name": "LayoutModel",
          "state": {
            "_model_module": "@jupyter-widgets/base",
            "_model_module_version": "1.2.0",
            "_model_name": "LayoutModel",
            "_view_count": null,
            "_view_module": "@jupyter-widgets/base",
            "_view_module_version": "1.2.0",
            "_view_name": "LayoutView",
            "align_content": null,
            "align_items": null,
            "align_self": null,
            "border": null,
            "bottom": null,
            "display": null,
            "flex": null,
            "flex_flow": null,
            "grid_area": null,
            "grid_auto_columns": null,
            "grid_auto_flow": null,
            "grid_auto_rows": null,
            "grid_column": null,
            "grid_gap": null,
            "grid_row": null,
            "grid_template_areas": null,
            "grid_template_columns": null,
            "grid_template_rows": null,
            "height": null,
            "justify_content": null,
            "justify_items": null,
            "left": null,
            "margin": null,
            "max_height": null,
            "max_width": null,
            "min_height": null,
            "min_width": null,
            "object_fit": null,
            "object_position": null,
            "order": null,
            "overflow": null,
            "overflow_x": null,
            "overflow_y": null,
            "padding": null,
            "right": null,
            "top": null,
            "visibility": null,
            "width": null
          }
        },
        "3cf0c6fe0d1548bb9ea8fe556f47e234": {
          "model_module": "@jupyter-widgets/base",
          "model_module_version": "1.2.0",
          "model_name": "LayoutModel",
          "state": {
            "_model_module": "@jupyter-widgets/base",
            "_model_module_version": "1.2.0",
            "_model_name": "LayoutModel",
            "_view_count": null,
            "_view_module": "@jupyter-widgets/base",
            "_view_module_version": "1.2.0",
            "_view_name": "LayoutView",
            "align_content": null,
            "align_items": null,
            "align_self": null,
            "border": null,
            "bottom": null,
            "display": null,
            "flex": null,
            "flex_flow": null,
            "grid_area": null,
            "grid_auto_columns": null,
            "grid_auto_flow": null,
            "grid_auto_rows": null,
            "grid_column": null,
            "grid_gap": null,
            "grid_row": null,
            "grid_template_areas": null,
            "grid_template_columns": null,
            "grid_template_rows": null,
            "height": null,
            "justify_content": null,
            "justify_items": null,
            "left": null,
            "margin": null,
            "max_height": null,
            "max_width": null,
            "min_height": null,
            "min_width": null,
            "object_fit": null,
            "object_position": null,
            "order": null,
            "overflow": null,
            "overflow_x": null,
            "overflow_y": null,
            "padding": null,
            "right": null,
            "top": null,
            "visibility": null,
            "width": null
          }
        },
        "3d7ca44ef3314a2b90631ca2680b6a0a": {
          "model_module": "@jupyter-widgets/base",
          "model_module_version": "1.2.0",
          "model_name": "LayoutModel",
          "state": {
            "_model_module": "@jupyter-widgets/base",
            "_model_module_version": "1.2.0",
            "_model_name": "LayoutModel",
            "_view_count": null,
            "_view_module": "@jupyter-widgets/base",
            "_view_module_version": "1.2.0",
            "_view_name": "LayoutView",
            "align_content": null,
            "align_items": null,
            "align_self": null,
            "border": null,
            "bottom": null,
            "display": null,
            "flex": null,
            "flex_flow": null,
            "grid_area": null,
            "grid_auto_columns": null,
            "grid_auto_flow": null,
            "grid_auto_rows": null,
            "grid_column": null,
            "grid_gap": null,
            "grid_row": null,
            "grid_template_areas": null,
            "grid_template_columns": null,
            "grid_template_rows": null,
            "height": null,
            "justify_content": null,
            "justify_items": null,
            "left": null,
            "margin": null,
            "max_height": null,
            "max_width": null,
            "min_height": null,
            "min_width": null,
            "object_fit": null,
            "object_position": null,
            "order": null,
            "overflow": null,
            "overflow_x": null,
            "overflow_y": null,
            "padding": null,
            "right": null,
            "top": null,
            "visibility": null,
            "width": null
          }
        },
        "3fdae02b42ab457e8063b869e7622c23": {
          "model_module": "@jupyter-widgets/controls",
          "model_module_version": "1.5.0",
          "model_name": "DescriptionStyleModel",
          "state": {
            "_model_module": "@jupyter-widgets/controls",
            "_model_module_version": "1.5.0",
            "_model_name": "DescriptionStyleModel",
            "_view_count": null,
            "_view_module": "@jupyter-widgets/base",
            "_view_module_version": "1.2.0",
            "_view_name": "StyleView",
            "description_width": ""
          }
        },
        "4833bc520414419984798ef3717e9fa5": {
          "model_module": "@jupyter-widgets/controls",
          "model_module_version": "1.5.0",
          "model_name": "FloatProgressModel",
          "state": {
            "_dom_classes": [],
            "_model_module": "@jupyter-widgets/controls",
            "_model_module_version": "1.5.0",
            "_model_name": "FloatProgressModel",
            "_view_count": null,
            "_view_module": "@jupyter-widgets/controls",
            "_view_module_version": "1.5.0",
            "_view_name": "ProgressView",
            "bar_style": "success",
            "description": "",
            "description_tooltip": null,
            "layout": "IPY_MODEL_7e3ea45bc9754bfc8af89feaaf91ad46",
            "max": 100,
            "min": 0,
            "orientation": "horizontal",
            "style": "IPY_MODEL_352ca4d68536440d820138de2a1de742",
            "value": 100
          }
        },
        "5013e1f140504ef18feecde72c18cff6": {
          "model_module": "@jupyter-widgets/base",
          "model_module_version": "1.2.0",
          "model_name": "LayoutModel",
          "state": {
            "_model_module": "@jupyter-widgets/base",
            "_model_module_version": "1.2.0",
            "_model_name": "LayoutModel",
            "_view_count": null,
            "_view_module": "@jupyter-widgets/base",
            "_view_module_version": "1.2.0",
            "_view_name": "LayoutView",
            "align_content": null,
            "align_items": null,
            "align_self": null,
            "border": null,
            "bottom": null,
            "display": null,
            "flex": null,
            "flex_flow": null,
            "grid_area": null,
            "grid_auto_columns": null,
            "grid_auto_flow": null,
            "grid_auto_rows": null,
            "grid_column": null,
            "grid_gap": null,
            "grid_row": null,
            "grid_template_areas": null,
            "grid_template_columns": null,
            "grid_template_rows": null,
            "height": null,
            "justify_content": null,
            "justify_items": null,
            "left": null,
            "margin": null,
            "max_height": null,
            "max_width": null,
            "min_height": null,
            "min_width": null,
            "object_fit": null,
            "object_position": null,
            "order": null,
            "overflow": null,
            "overflow_x": null,
            "overflow_y": null,
            "padding": null,
            "right": null,
            "top": null,
            "visibility": null,
            "width": null
          }
        },
        "544ca245da1d498698c8fea6bf7074bf": {
          "model_module": "@jupyter-widgets/controls",
          "model_module_version": "1.5.0",
          "model_name": "DescriptionStyleModel",
          "state": {
            "_model_module": "@jupyter-widgets/controls",
            "_model_module_version": "1.5.0",
            "_model_name": "DescriptionStyleModel",
            "_view_count": null,
            "_view_module": "@jupyter-widgets/base",
            "_view_module_version": "1.2.0",
            "_view_name": "StyleView",
            "description_width": ""
          }
        },
        "5641f14b641442ec9951726692b17eba": {
          "model_module": "@jupyter-widgets/controls",
          "model_module_version": "1.5.0",
          "model_name": "FloatProgressModel",
          "state": {
            "_dom_classes": [],
            "_model_module": "@jupyter-widgets/controls",
            "_model_module_version": "1.5.0",
            "_model_name": "FloatProgressModel",
            "_view_count": null,
            "_view_module": "@jupyter-widgets/controls",
            "_view_module_version": "1.5.0",
            "_view_name": "ProgressView",
            "bar_style": "success",
            "description": "",
            "description_tooltip": null,
            "layout": "IPY_MODEL_6409c6d4c06d470c8e153269ad1073e8",
            "max": 1061,
            "min": 0,
            "orientation": "horizontal",
            "style": "IPY_MODEL_92702652d34149ea843d02b6ceff9feb",
            "value": 1061
          }
        },
        "569b3bd9ecc14ea0a42f0f6e3e0eb0e3": {
          "model_module": "@jupyter-widgets/controls",
          "model_module_version": "1.5.0",
          "model_name": "HBoxModel",
          "state": {
            "_dom_classes": [],
            "_model_module": "@jupyter-widgets/controls",
            "_model_module_version": "1.5.0",
            "_model_name": "HBoxModel",
            "_view_count": null,
            "_view_module": "@jupyter-widgets/controls",
            "_view_module_version": "1.5.0",
            "_view_name": "HBoxView",
            "box_style": "",
            "children": [
              "IPY_MODEL_98b02c11523b4f8db38cdeb56d9e8d8a",
              "IPY_MODEL_6f766a572f424b779b0378f9075367a5",
              "IPY_MODEL_e7e0dfb1d6174f74a5d83bb08006bddf"
            ],
            "layout": "IPY_MODEL_ee3ca2f8054a45e9a0a47e9fb6246b5a"
          }
        },
        "5a40876a872d43f6b34683be47e6d52a": {
          "model_module": "@jupyter-widgets/base",
          "model_module_version": "1.2.0",
          "model_name": "LayoutModel",
          "state": {
            "_model_module": "@jupyter-widgets/base",
            "_model_module_version": "1.2.0",
            "_model_name": "LayoutModel",
            "_view_count": null,
            "_view_module": "@jupyter-widgets/base",
            "_view_module_version": "1.2.0",
            "_view_name": "LayoutView",
            "align_content": null,
            "align_items": null,
            "align_self": null,
            "border": null,
            "bottom": null,
            "display": null,
            "flex": null,
            "flex_flow": null,
            "grid_area": null,
            "grid_auto_columns": null,
            "grid_auto_flow": null,
            "grid_auto_rows": null,
            "grid_column": null,
            "grid_gap": null,
            "grid_row": null,
            "grid_template_areas": null,
            "grid_template_columns": null,
            "grid_template_rows": null,
            "height": null,
            "justify_content": null,
            "justify_items": null,
            "left": null,
            "margin": null,
            "max_height": null,
            "max_width": null,
            "min_height": null,
            "min_width": null,
            "object_fit": null,
            "object_position": null,
            "order": null,
            "overflow": null,
            "overflow_x": null,
            "overflow_y": null,
            "padding": null,
            "right": null,
            "top": null,
            "visibility": null,
            "width": null
          }
        },
        "5a69d035a143427b9fac426ab4827fdb": {
          "model_module": "@jupyter-widgets/controls",
          "model_module_version": "1.5.0",
          "model_name": "HTMLModel",
          "state": {
            "_dom_classes": [],
            "_model_module": "@jupyter-widgets/controls",
            "_model_module_version": "1.5.0",
            "_model_name": "HTMLModel",
            "_view_count": null,
            "_view_module": "@jupyter-widgets/controls",
            "_view_module_version": "1.5.0",
            "_view_name": "HTMLView",
            "description": "",
            "description_tooltip": null,
            "layout": "IPY_MODEL_afaf18b3eb9f4b57a40b724ac0cbe9d6",
            "placeholder": "​",
            "style": "IPY_MODEL_74c7bcf3c47342f9bf40569a10fe2777",
            "value": "(…)-00000-of-00001-869c898b519ad725.parquet: 100%"
          }
        },
        "5f2a512cc14942cbbad5eaf2ea206bad": {
          "model_module": "@jupyter-widgets/controls",
          "model_module_version": "1.5.0",
          "model_name": "HTMLModel",
          "state": {
            "_dom_classes": [],
            "_model_module": "@jupyter-widgets/controls",
            "_model_module_version": "1.5.0",
            "_model_name": "HTMLModel",
            "_view_count": null,
            "_view_module": "@jupyter-widgets/controls",
            "_view_module_version": "1.5.0",
            "_view_name": "HTMLView",
            "description": "",
            "description_tooltip": null,
            "layout": "IPY_MODEL_c4d08e26920f46f383c5dcf97962813d",
            "placeholder": "​",
            "style": "IPY_MODEL_0e8955e6b925476eb1f217389783a882",
            "value": " 1.06k/1.06k [00:00&lt;00:00, 52.8kB/s]"
          }
        },
        "603509a4c1224c729b1ea7ad2592e0df": {
          "model_module": "@jupyter-widgets/controls",
          "model_module_version": "1.5.0",
          "model_name": "HBoxModel",
          "state": {
            "_dom_classes": [],
            "_model_module": "@jupyter-widgets/controls",
            "_model_module_version": "1.5.0",
            "_model_name": "HBoxModel",
            "_view_count": null,
            "_view_module": "@jupyter-widgets/controls",
            "_view_module_version": "1.5.0",
            "_view_name": "HBoxView",
            "box_style": "",
            "children": [
              "IPY_MODEL_842259d8edf845728c38ad69a643e59f",
              "IPY_MODEL_32be2277f54841559a3719bf2f9a614d",
              "IPY_MODEL_a0dda1e5b92f4d108798eca65aa3db17"
            ],
            "layout": "IPY_MODEL_2271e60ef6544cd1bb166b2a66bd7fb0"
          }
        },
        "62f49af4be3a41faa0091a481a057014": {
          "model_module": "@jupyter-widgets/controls",
          "model_module_version": "1.5.0",
          "model_name": "HBoxModel",
          "state": {
            "_dom_classes": [],
            "_model_module": "@jupyter-widgets/controls",
            "_model_module_version": "1.5.0",
            "_model_name": "HBoxModel",
            "_view_count": null,
            "_view_module": "@jupyter-widgets/controls",
            "_view_module_version": "1.5.0",
            "_view_name": "HBoxView",
            "box_style": "",
            "children": [
              "IPY_MODEL_1019a36f00944f3bb24da510f304990d",
              "IPY_MODEL_73fcc23e398247e288de44a35c4c1c61",
              "IPY_MODEL_7d19fcf50d5c40e5b8b426a5d94b6e85"
            ],
            "layout": "IPY_MODEL_6523bb4de0394e48a24422662dddee99"
          }
        },
        "6409c6d4c06d470c8e153269ad1073e8": {
          "model_module": "@jupyter-widgets/base",
          "model_module_version": "1.2.0",
          "model_name": "LayoutModel",
          "state": {
            "_model_module": "@jupyter-widgets/base",
            "_model_module_version": "1.2.0",
            "_model_name": "LayoutModel",
            "_view_count": null,
            "_view_module": "@jupyter-widgets/base",
            "_view_module_version": "1.2.0",
            "_view_name": "LayoutView",
            "align_content": null,
            "align_items": null,
            "align_self": null,
            "border": null,
            "bottom": null,
            "display": null,
            "flex": null,
            "flex_flow": null,
            "grid_area": null,
            "grid_auto_columns": null,
            "grid_auto_flow": null,
            "grid_auto_rows": null,
            "grid_column": null,
            "grid_gap": null,
            "grid_row": null,
            "grid_template_areas": null,
            "grid_template_columns": null,
            "grid_template_rows": null,
            "height": null,
            "justify_content": null,
            "justify_items": null,
            "left": null,
            "margin": null,
            "max_height": null,
            "max_width": null,
            "min_height": null,
            "min_width": null,
            "object_fit": null,
            "object_position": null,
            "order": null,
            "overflow": null,
            "overflow_x": null,
            "overflow_y": null,
            "padding": null,
            "right": null,
            "top": null,
            "visibility": null,
            "width": null
          }
        },
        "64282f9e05fa40f48b8bf6da036e5e4a": {
          "model_module": "@jupyter-widgets/controls",
          "model_module_version": "1.5.0",
          "model_name": "FloatProgressModel",
          "state": {
            "_dom_classes": [],
            "_model_module": "@jupyter-widgets/controls",
            "_model_module_version": "1.5.0",
            "_model_name": "FloatProgressModel",
            "_view_count": null,
            "_view_module": "@jupyter-widgets/controls",
            "_view_module_version": "1.5.0",
            "_view_name": "ProgressView",
            "bar_style": "success",
            "description": "",
            "description_tooltip": null,
            "layout": "IPY_MODEL_9a59271cc0e643c3990ce6d372bb23e1",
            "max": 248731111,
            "min": 0,
            "orientation": "horizontal",
            "style": "IPY_MODEL_aaa073340ecf4ea8afd021944186c0ea",
            "value": 248731111
          }
        },
        "6523bb4de0394e48a24422662dddee99": {
          "model_module": "@jupyter-widgets/base",
          "model_module_version": "1.2.0",
          "model_name": "LayoutModel",
          "state": {
            "_model_module": "@jupyter-widgets/base",
            "_model_module_version": "1.2.0",
            "_model_name": "LayoutModel",
            "_view_count": null,
            "_view_module": "@jupyter-widgets/base",
            "_view_module_version": "1.2.0",
            "_view_name": "LayoutView",
            "align_content": null,
            "align_items": null,
            "align_self": null,
            "border": null,
            "bottom": null,
            "display": null,
            "flex": null,
            "flex_flow": null,
            "grid_area": null,
            "grid_auto_columns": null,
            "grid_auto_flow": null,
            "grid_auto_rows": null,
            "grid_column": null,
            "grid_gap": null,
            "grid_row": null,
            "grid_template_areas": null,
            "grid_template_columns": null,
            "grid_template_rows": null,
            "height": null,
            "justify_content": null,
            "justify_items": null,
            "left": null,
            "margin": null,
            "max_height": null,
            "max_width": null,
            "min_height": null,
            "min_width": null,
            "object_fit": null,
            "object_position": null,
            "order": null,
            "overflow": null,
            "overflow_x": null,
            "overflow_y": null,
            "padding": null,
            "right": null,
            "top": null,
            "visibility": null,
            "width": null
          }
        },
        "65b6afb320ea48dfa272a4f9af11c644": {
          "model_module": "@jupyter-widgets/base",
          "model_module_version": "1.2.0",
          "model_name": "LayoutModel",
          "state": {
            "_model_module": "@jupyter-widgets/base",
            "_model_module_version": "1.2.0",
            "_model_name": "LayoutModel",
            "_view_count": null,
            "_view_module": "@jupyter-widgets/base",
            "_view_module_version": "1.2.0",
            "_view_name": "LayoutView",
            "align_content": null,
            "align_items": null,
            "align_self": null,
            "border": null,
            "bottom": null,
            "display": null,
            "flex": null,
            "flex_flow": null,
            "grid_area": null,
            "grid_auto_columns": null,
            "grid_auto_flow": null,
            "grid_auto_rows": null,
            "grid_column": null,
            "grid_gap": null,
            "grid_row": null,
            "grid_template_areas": null,
            "grid_template_columns": null,
            "grid_template_rows": null,
            "height": null,
            "justify_content": null,
            "justify_items": null,
            "left": null,
            "margin": null,
            "max_height": null,
            "max_width": null,
            "min_height": null,
            "min_width": null,
            "object_fit": null,
            "object_position": null,
            "order": null,
            "overflow": null,
            "overflow_x": null,
            "overflow_y": null,
            "padding": null,
            "right": null,
            "top": null,
            "visibility": null,
            "width": null
          }
        },
        "667845d76a69442b82b0dff0b4c536c5": {
          "model_module": "@jupyter-widgets/controls",
          "model_module_version": "1.5.0",
          "model_name": "HBoxModel",
          "state": {
            "_dom_classes": [],
            "_model_module": "@jupyter-widgets/controls",
            "_model_module_version": "1.5.0",
            "_model_name": "HBoxModel",
            "_view_count": null,
            "_view_module": "@jupyter-widgets/controls",
            "_view_module_version": "1.5.0",
            "_view_name": "HBoxView",
            "box_style": "",
            "children": [
              "IPY_MODEL_0cd93ea1ea434a54b9d51133a5b25348",
              "IPY_MODEL_8888f2b7b65048788e4054840d027f67",
              "IPY_MODEL_8ace4f17a7bb4288a30d62e94ad84c44"
            ],
            "layout": "IPY_MODEL_e74bcb27ca3d4a09bf8da31da1ba502a"
          }
        },
        "67af139f45a549cea0c314c3116ae66e": {
          "model_module": "@jupyter-widgets/controls",
          "model_module_version": "1.5.0",
          "model_name": "HTMLModel",
          "state": {
            "_dom_classes": [],
            "_model_module": "@jupyter-widgets/controls",
            "_model_module_version": "1.5.0",
            "_model_name": "HTMLModel",
            "_view_count": null,
            "_view_module": "@jupyter-widgets/controls",
            "_view_module_version": "1.5.0",
            "_view_name": "HTMLView",
            "description": "",
            "description_tooltip": null,
            "layout": "IPY_MODEL_3af82a7a415f4799b1c9ab86562b8249",
            "placeholder": "​",
            "style": "IPY_MODEL_9b31fddc200b44d9876479f4dbd4fbb6",
            "value": "(…)-00003-of-00004-d243063613e5a057.parquet: 100%"
          }
        },
        "6d3ffd66781a449682fc48466d82a4c6": {
          "model_module": "@jupyter-widgets/controls",
          "model_module_version": "1.5.0",
          "model_name": "HTMLModel",
          "state": {
            "_dom_classes": [],
            "_model_module": "@jupyter-widgets/controls",
            "_model_module_version": "1.5.0",
            "_model_name": "HTMLModel",
            "_view_count": null,
            "_view_module": "@jupyter-widgets/controls",
            "_view_module_version": "1.5.0",
            "_view_name": "HTMLView",
            "description": "",
            "description_tooltip": null,
            "layout": "IPY_MODEL_c33e938ad78f4e75a55ffe95f91f80b2",
            "placeholder": "​",
            "style": "IPY_MODEL_141e002b4cbe453b99fac27c9dac0ecb",
            "value": "100%"
          }
        },
        "6d9429ba4d1948cb9a4f1967dfd39886": {
          "model_module": "@jupyter-widgets/controls",
          "model_module_version": "1.5.0",
          "model_name": "DescriptionStyleModel",
          "state": {
            "_model_module": "@jupyter-widgets/controls",
            "_model_module_version": "1.5.0",
            "_model_name": "DescriptionStyleModel",
            "_view_count": null,
            "_view_module": "@jupyter-widgets/base",
            "_view_module_version": "1.2.0",
            "_view_name": "StyleView",
            "description_width": ""
          }
        },
        "6e78e5a6eaef4d099e935094bb7f6873": {
          "model_module": "@jupyter-widgets/controls",
          "model_module_version": "1.5.0",
          "model_name": "HBoxModel",
          "state": {
            "_dom_classes": [],
            "_model_module": "@jupyter-widgets/controls",
            "_model_module_version": "1.5.0",
            "_model_name": "HBoxModel",
            "_view_count": null,
            "_view_module": "@jupyter-widgets/controls",
            "_view_module_version": "1.5.0",
            "_view_name": "HBoxView",
            "box_style": "",
            "children": [
              "IPY_MODEL_67af139f45a549cea0c314c3116ae66e",
              "IPY_MODEL_d0a0280ef9014dfa8c01b49215b46224",
              "IPY_MODEL_a31c1eb1e97147bebe2eea802f17bc3f"
            ],
            "layout": "IPY_MODEL_a037fd4c27984b809f4f976f31ee9a7a"
          }
        },
        "6f42919d3dff4375b53e5faa8e73f9ad": {
          "model_module": "@jupyter-widgets/controls",
          "model_module_version": "1.5.0",
          "model_name": "DescriptionStyleModel",
          "state": {
            "_model_module": "@jupyter-widgets/controls",
            "_model_module_version": "1.5.0",
            "_model_name": "DescriptionStyleModel",
            "_view_count": null,
            "_view_module": "@jupyter-widgets/base",
            "_view_module_version": "1.2.0",
            "_view_name": "StyleView",
            "description_width": ""
          }
        },
        "6f766a572f424b779b0378f9075367a5": {
          "model_module": "@jupyter-widgets/controls",
          "model_module_version": "1.5.0",
          "model_name": "FloatProgressModel",
          "state": {
            "_dom_classes": [],
            "_model_module": "@jupyter-widgets/controls",
            "_model_module_version": "1.5.0",
            "_model_name": "FloatProgressModel",
            "_view_count": null,
            "_view_module": "@jupyter-widgets/controls",
            "_view_module_version": "1.5.0",
            "_view_name": "ProgressView",
            "bar_style": "success",
            "description": "",
            "description_tooltip": null,
            "layout": "IPY_MODEL_65b6afb320ea48dfa272a4f9af11c644",
            "max": 2119719,
            "min": 0,
            "orientation": "horizontal",
            "style": "IPY_MODEL_785691a0a0d942fb872e346c8c12fda4",
            "value": 2119719
          }
        },
        "6fb7c1290d0d4207a0cf79ae649c93af": {
          "model_module": "@jupyter-widgets/controls",
          "model_module_version": "1.5.0",
          "model_name": "DescriptionStyleModel",
          "state": {
            "_model_module": "@jupyter-widgets/controls",
            "_model_module_version": "1.5.0",
            "_model_name": "DescriptionStyleModel",
            "_view_count": null,
            "_view_module": "@jupyter-widgets/base",
            "_view_module_version": "1.2.0",
            "_view_name": "StyleView",
            "description_width": ""
          }
        },
        "6fd3658366c248bd935ae33b1ff3acc5": {
          "model_module": "@jupyter-widgets/controls",
          "model_module_version": "1.5.0",
          "model_name": "HTMLModel",
          "state": {
            "_dom_classes": [],
            "_model_module": "@jupyter-widgets/controls",
            "_model_module_version": "1.5.0",
            "_model_name": "HTMLModel",
            "_view_count": null,
            "_view_module": "@jupyter-widgets/controls",
            "_view_module_version": "1.5.0",
            "_view_name": "HTMLView",
            "description": "",
            "description_tooltip": null,
            "layout": "IPY_MODEL_c3db58c33b984907844ba643904cd91b",
            "placeholder": "​",
            "style": "IPY_MODEL_043a125b07074e1e9b75c3de1efb09fd",
            "value": "README.md: 100%"
          }
        },
        "72e894a4cd1545b58750cb41819d9fae": {
          "model_module": "@jupyter-widgets/controls",
          "model_module_version": "1.5.0",
          "model_name": "DescriptionStyleModel",
          "state": {
            "_model_module": "@jupyter-widgets/controls",
            "_model_module_version": "1.5.0",
            "_model_name": "DescriptionStyleModel",
            "_view_count": null,
            "_view_module": "@jupyter-widgets/base",
            "_view_module_version": "1.2.0",
            "_view_name": "StyleView",
            "description_width": ""
          }
        },
        "73fcc23e398247e288de44a35c4c1c61": {
          "model_module": "@jupyter-widgets/controls",
          "model_module_version": "1.5.0",
          "model_name": "FloatProgressModel",
          "state": {
            "_dom_classes": [],
            "_model_module": "@jupyter-widgets/controls",
            "_model_module_version": "1.5.0",
            "_model_name": "FloatProgressModel",
            "_view_count": null,
            "_view_module": "@jupyter-widgets/controls",
            "_view_module_version": "1.5.0",
            "_view_name": "ProgressView",
            "bar_style": "success",
            "description": "",
            "description_tooltip": null,
            "layout": "IPY_MODEL_787d464969334a27950ed8e4779e531a",
            "max": 2119719,
            "min": 0,
            "orientation": "horizontal",
            "style": "IPY_MODEL_c4f69dea549b40d7a4c19369041b9aa7",
            "value": 2119719
          }
        },
        "74c7bcf3c47342f9bf40569a10fe2777": {
          "model_module": "@jupyter-widgets/controls",
          "model_module_version": "1.5.0",
          "model_name": "DescriptionStyleModel",
          "state": {
            "_model_module": "@jupyter-widgets/controls",
            "_model_module_version": "1.5.0",
            "_model_name": "DescriptionStyleModel",
            "_view_count": null,
            "_view_module": "@jupyter-widgets/base",
            "_view_module_version": "1.2.0",
            "_view_name": "StyleView",
            "description_width": ""
          }
        },
        "76acb959b3f547ed903d38249ef38f17": {
          "model_module": "@jupyter-widgets/base",
          "model_module_version": "1.2.0",
          "model_name": "LayoutModel",
          "state": {
            "_model_module": "@jupyter-widgets/base",
            "_model_module_version": "1.2.0",
            "_model_name": "LayoutModel",
            "_view_count": null,
            "_view_module": "@jupyter-widgets/base",
            "_view_module_version": "1.2.0",
            "_view_name": "LayoutView",
            "align_content": null,
            "align_items": null,
            "align_self": null,
            "border": null,
            "bottom": null,
            "display": null,
            "flex": null,
            "flex_flow": null,
            "grid_area": null,
            "grid_auto_columns": null,
            "grid_auto_flow": null,
            "grid_auto_rows": null,
            "grid_column": null,
            "grid_gap": null,
            "grid_row": null,
            "grid_template_areas": null,
            "grid_template_columns": null,
            "grid_template_rows": null,
            "height": null,
            "justify_content": null,
            "justify_items": null,
            "left": null,
            "margin": null,
            "max_height": null,
            "max_width": null,
            "min_height": null,
            "min_width": null,
            "object_fit": null,
            "object_position": null,
            "order": null,
            "overflow": null,
            "overflow_x": null,
            "overflow_y": null,
            "padding": null,
            "right": null,
            "top": null,
            "visibility": null,
            "width": null
          }
        },
        "77292e42623d49a683df1388dcae1147": {
          "model_module": "@jupyter-widgets/base",
          "model_module_version": "1.2.0",
          "model_name": "LayoutModel",
          "state": {
            "_model_module": "@jupyter-widgets/base",
            "_model_module_version": "1.2.0",
            "_model_name": "LayoutModel",
            "_view_count": null,
            "_view_module": "@jupyter-widgets/base",
            "_view_module_version": "1.2.0",
            "_view_name": "LayoutView",
            "align_content": null,
            "align_items": null,
            "align_self": null,
            "border": null,
            "bottom": null,
            "display": null,
            "flex": null,
            "flex_flow": null,
            "grid_area": null,
            "grid_auto_columns": null,
            "grid_auto_flow": null,
            "grid_auto_rows": null,
            "grid_column": null,
            "grid_gap": null,
            "grid_row": null,
            "grid_template_areas": null,
            "grid_template_columns": null,
            "grid_template_rows": null,
            "height": null,
            "justify_content": null,
            "justify_items": null,
            "left": null,
            "margin": null,
            "max_height": null,
            "max_width": null,
            "min_height": null,
            "min_width": null,
            "object_fit": null,
            "object_position": null,
            "order": null,
            "overflow": null,
            "overflow_x": null,
            "overflow_y": null,
            "padding": null,
            "right": null,
            "top": null,
            "visibility": null,
            "width": null
          }
        },
        "785691a0a0d942fb872e346c8c12fda4": {
          "model_module": "@jupyter-widgets/controls",
          "model_module_version": "1.5.0",
          "model_name": "ProgressStyleModel",
          "state": {
            "_model_module": "@jupyter-widgets/controls",
            "_model_module_version": "1.5.0",
            "_model_name": "ProgressStyleModel",
            "_view_count": null,
            "_view_module": "@jupyter-widgets/base",
            "_view_module_version": "1.2.0",
            "_view_name": "StyleView",
            "bar_color": null,
            "description_width": ""
          }
        },
        "787d464969334a27950ed8e4779e531a": {
          "model_module": "@jupyter-widgets/base",
          "model_module_version": "1.2.0",
          "model_name": "LayoutModel",
          "state": {
            "_model_module": "@jupyter-widgets/base",
            "_model_module_version": "1.2.0",
            "_model_name": "LayoutModel",
            "_view_count": null,
            "_view_module": "@jupyter-widgets/base",
            "_view_module_version": "1.2.0",
            "_view_name": "LayoutView",
            "align_content": null,
            "align_items": null,
            "align_self": null,
            "border": null,
            "bottom": null,
            "display": null,
            "flex": null,
            "flex_flow": null,
            "grid_area": null,
            "grid_auto_columns": null,
            "grid_auto_flow": null,
            "grid_auto_rows": null,
            "grid_column": null,
            "grid_gap": null,
            "grid_row": null,
            "grid_template_areas": null,
            "grid_template_columns": null,
            "grid_template_rows": null,
            "height": null,
            "justify_content": null,
            "justify_items": null,
            "left": null,
            "margin": null,
            "max_height": null,
            "max_width": null,
            "min_height": null,
            "min_width": null,
            "object_fit": null,
            "object_position": null,
            "order": null,
            "overflow": null,
            "overflow_x": null,
            "overflow_y": null,
            "padding": null,
            "right": null,
            "top": null,
            "visibility": null,
            "width": null
          }
        },
        "788a08a25da64fb4bc3e224de6f5a00b": {
          "model_module": "@jupyter-widgets/controls",
          "model_module_version": "1.5.0",
          "model_name": "FloatProgressModel",
          "state": {
            "_dom_classes": [],
            "_model_module": "@jupyter-widgets/controls",
            "_model_module_version": "1.5.0",
            "_model_name": "FloatProgressModel",
            "_view_count": null,
            "_view_module": "@jupyter-widgets/controls",
            "_view_module_version": "1.5.0",
            "_view_name": "ProgressView",
            "bar_style": "success",
            "description": "",
            "description_tooltip": null,
            "layout": "IPY_MODEL_8b35bbc88bd24488bad388d02eaedaf1",
            "max": 9989127,
            "min": 0,
            "orientation": "horizontal",
            "style": "IPY_MODEL_f71e5898251a4b68bbb9385ea1822d8a",
            "value": 9989127
          }
        },
        "79cd75b1498940b1b4c30a541fa2812d": {
          "model_module": "@jupyter-widgets/controls",
          "model_module_version": "1.5.0",
          "model_name": "DescriptionStyleModel",
          "state": {
            "_model_module": "@jupyter-widgets/controls",
            "_model_module_version": "1.5.0",
            "_model_name": "DescriptionStyleModel",
            "_view_count": null,
            "_view_module": "@jupyter-widgets/base",
            "_view_module_version": "1.2.0",
            "_view_name": "StyleView",
            "description_width": ""
          }
        },
        "7c2eafd1ff6b43be94fa285a16f029f2": {
          "model_module": "@jupyter-widgets/controls",
          "model_module_version": "1.5.0",
          "model_name": "HTMLModel",
          "state": {
            "_dom_classes": [],
            "_model_module": "@jupyter-widgets/controls",
            "_model_module_version": "1.5.0",
            "_model_name": "HTMLModel",
            "_view_count": null,
            "_view_module": "@jupyter-widgets/controls",
            "_view_module_version": "1.5.0",
            "_view_name": "HTMLView",
            "description": "",
            "description_tooltip": null,
            "layout": "IPY_MODEL_1c71f4c441474dc696aae96e480f1ba8",
            "placeholder": "​",
            "style": "IPY_MODEL_6d9429ba4d1948cb9a4f1967dfd39886",
            "value": " 248M/248M [00:04&lt;00:00, 75.8MB/s]"
          }
        },
        "7d19fcf50d5c40e5b8b426a5d94b6e85": {
          "model_module": "@jupyter-widgets/controls",
          "model_module_version": "1.5.0",
          "model_name": "HTMLModel",
          "state": {
            "_dom_classes": [],
            "_model_module": "@jupyter-widgets/controls",
            "_model_module_version": "1.5.0",
            "_model_name": "HTMLModel",
            "_view_count": null,
            "_view_module": "@jupyter-widgets/controls",
            "_view_module_version": "1.5.0",
            "_view_name": "HTMLView",
            "description": "",
            "description_tooltip": null,
            "layout": "IPY_MODEL_c3180566fa2e47c091eb38c95a3f97a8",
            "placeholder": "​",
            "style": "IPY_MODEL_360170d926b84848abd1d0bf43a41555",
            "value": " 2119719/2119719 [34:53&lt;00:00, 709.81 examples/s]"
          }
        },
        "7e3ea45bc9754bfc8af89feaaf91ad46": {
          "model_module": "@jupyter-widgets/base",
          "model_module_version": "1.2.0",
          "model_name": "LayoutModel",
          "state": {
            "_model_module": "@jupyter-widgets/base",
            "_model_module_version": "1.2.0",
            "_model_name": "LayoutModel",
            "_view_count": null,
            "_view_module": "@jupyter-widgets/base",
            "_view_module_version": "1.2.0",
            "_view_name": "LayoutView",
            "align_content": null,
            "align_items": null,
            "align_self": null,
            "border": null,
            "bottom": null,
            "display": null,
            "flex": null,
            "flex_flow": null,
            "grid_area": null,
            "grid_auto_columns": null,
            "grid_auto_flow": null,
            "grid_auto_rows": null,
            "grid_column": null,
            "grid_gap": null,
            "grid_row": null,
            "grid_template_areas": null,
            "grid_template_columns": null,
            "grid_template_rows": null,
            "height": null,
            "justify_content": null,
            "justify_items": null,
            "left": null,
            "margin": null,
            "max_height": null,
            "max_width": null,
            "min_height": null,
            "min_width": null,
            "object_fit": null,
            "object_position": null,
            "order": null,
            "overflow": null,
            "overflow_x": null,
            "overflow_y": null,
            "padding": null,
            "right": null,
            "top": null,
            "visibility": null,
            "width": null
          }
        },
        "81e2f01bc89641d5a19d7f931bc684e7": {
          "model_module": "@jupyter-widgets/controls",
          "model_module_version": "1.5.0",
          "model_name": "ProgressStyleModel",
          "state": {
            "_model_module": "@jupyter-widgets/controls",
            "_model_module_version": "1.5.0",
            "_model_name": "ProgressStyleModel",
            "_view_count": null,
            "_view_module": "@jupyter-widgets/base",
            "_view_module_version": "1.2.0",
            "_view_name": "StyleView",
            "bar_color": null,
            "description_width": ""
          }
        },
        "842259d8edf845728c38ad69a643e59f": {
          "model_module": "@jupyter-widgets/controls",
          "model_module_version": "1.5.0",
          "model_name": "HTMLModel",
          "state": {
            "_dom_classes": [],
            "_model_module": "@jupyter-widgets/controls",
            "_model_module_version": "1.5.0",
            "_model_name": "HTMLModel",
            "_view_count": null,
            "_view_module": "@jupyter-widgets/controls",
            "_view_module_version": "1.5.0",
            "_view_name": "HTMLView",
            "description": "",
            "description_tooltip": null,
            "layout": "IPY_MODEL_dcb6b0ba1f0c454dbad33b10dc3c5287",
            "placeholder": "​",
            "style": "IPY_MODEL_544ca245da1d498698c8fea6bf7074bf",
            "value": "(…)-00002-of-00004-a26307300439e943.parquet: 100%"
          }
        },
        "8888f2b7b65048788e4054840d027f67": {
          "model_module": "@jupyter-widgets/controls",
          "model_module_version": "1.5.0",
          "model_name": "FloatProgressModel",
          "state": {
            "_dom_classes": [],
            "_model_module": "@jupyter-widgets/controls",
            "_model_module_version": "1.5.0",
            "_model_name": "FloatProgressModel",
            "_view_count": null,
            "_view_module": "@jupyter-widgets/controls",
            "_view_module_version": "1.5.0",
            "_view_name": "ProgressView",
            "bar_style": "success",
            "description": "",
            "description_tooltip": null,
            "layout": "IPY_MODEL_26772b97717f4018b2751d8e28563271",
            "max": 21990,
            "min": 0,
            "orientation": "horizontal",
            "style": "IPY_MODEL_bb1c62a63fd2426fa7b48e179c82493d",
            "value": 21990
          }
        },
        "8ace4f17a7bb4288a30d62e94ad84c44": {
          "model_module": "@jupyter-widgets/controls",
          "model_module_version": "1.5.0",
          "model_name": "HTMLModel",
          "state": {
            "_dom_classes": [],
            "_model_module": "@jupyter-widgets/controls",
            "_model_module_version": "1.5.0",
            "_model_name": "HTMLModel",
            "_view_count": null,
            "_view_module": "@jupyter-widgets/controls",
            "_view_module_version": "1.5.0",
            "_view_name": "HTMLView",
            "description": "",
            "description_tooltip": null,
            "layout": "IPY_MODEL_5a40876a872d43f6b34683be47e6d52a",
            "placeholder": "​",
            "style": "IPY_MODEL_1650cce501bd4a46943ecb4d7534d6eb",
            "value": " 21990/21990 [00:00&lt;00:00, 182967.35 examples/s]"
          }
        },
        "8b35bbc88bd24488bad388d02eaedaf1": {
          "model_module": "@jupyter-widgets/base",
          "model_module_version": "1.2.0",
          "model_name": "LayoutModel",
          "state": {
            "_model_module": "@jupyter-widgets/base",
            "_model_module_version": "1.2.0",
            "_model_name": "LayoutModel",
            "_view_count": null,
            "_view_module": "@jupyter-widgets/base",
            "_view_module_version": "1.2.0",
            "_view_name": "LayoutView",
            "align_content": null,
            "align_items": null,
            "align_self": null,
            "border": null,
            "bottom": null,
            "display": null,
            "flex": null,
            "flex_flow": null,
            "grid_area": null,
            "grid_auto_columns": null,
            "grid_auto_flow": null,
            "grid_auto_rows": null,
            "grid_column": null,
            "grid_gap": null,
            "grid_row": null,
            "grid_template_areas": null,
            "grid_template_columns": null,
            "grid_template_rows": null,
            "height": null,
            "justify_content": null,
            "justify_items": null,
            "left": null,
            "margin": null,
            "max_height": null,
            "max_width": null,
            "min_height": null,
            "min_width": null,
            "object_fit": null,
            "object_position": null,
            "order": null,
            "overflow": null,
            "overflow_x": null,
            "overflow_y": null,
            "padding": null,
            "right": null,
            "top": null,
            "visibility": null,
            "width": null
          }
        },
        "92702652d34149ea843d02b6ceff9feb": {
          "model_module": "@jupyter-widgets/controls",
          "model_module_version": "1.5.0",
          "model_name": "ProgressStyleModel",
          "state": {
            "_model_module": "@jupyter-widgets/controls",
            "_model_module_version": "1.5.0",
            "_model_name": "ProgressStyleModel",
            "_view_count": null,
            "_view_module": "@jupyter-widgets/base",
            "_view_module_version": "1.2.0",
            "_view_name": "StyleView",
            "bar_color": null,
            "description_width": ""
          }
        },
        "9582168925f54f8e812008a2dd16be21": {
          "model_module": "@jupyter-widgets/base",
          "model_module_version": "1.2.0",
          "model_name": "LayoutModel",
          "state": {
            "_model_module": "@jupyter-widgets/base",
            "_model_module_version": "1.2.0",
            "_model_name": "LayoutModel",
            "_view_count": null,
            "_view_module": "@jupyter-widgets/base",
            "_view_module_version": "1.2.0",
            "_view_name": "LayoutView",
            "align_content": null,
            "align_items": null,
            "align_self": null,
            "border": null,
            "bottom": null,
            "display": null,
            "flex": null,
            "flex_flow": null,
            "grid_area": null,
            "grid_auto_columns": null,
            "grid_auto_flow": null,
            "grid_auto_rows": null,
            "grid_column": null,
            "grid_gap": null,
            "grid_row": null,
            "grid_template_areas": null,
            "grid_template_columns": null,
            "grid_template_rows": null,
            "height": null,
            "justify_content": null,
            "justify_items": null,
            "left": null,
            "margin": null,
            "max_height": null,
            "max_width": null,
            "min_height": null,
            "min_width": null,
            "object_fit": null,
            "object_position": null,
            "order": null,
            "overflow": null,
            "overflow_x": null,
            "overflow_y": null,
            "padding": null,
            "right": null,
            "top": null,
            "visibility": null,
            "width": null
          }
        },
        "98b02c11523b4f8db38cdeb56d9e8d8a": {
          "model_module": "@jupyter-widgets/controls",
          "model_module_version": "1.5.0",
          "model_name": "HTMLModel",
          "state": {
            "_dom_classes": [],
            "_model_module": "@jupyter-widgets/controls",
            "_model_module_version": "1.5.0",
            "_model_name": "HTMLModel",
            "_view_count": null,
            "_view_module": "@jupyter-widgets/controls",
            "_view_module_version": "1.5.0",
            "_view_name": "HTMLView",
            "description": "",
            "description_tooltip": null,
            "layout": "IPY_MODEL_77292e42623d49a683df1388dcae1147",
            "placeholder": "​",
            "style": "IPY_MODEL_6f42919d3dff4375b53e5faa8e73f9ad",
            "value": "Generating train split: 100%"
          }
        },
        "9a59271cc0e643c3990ce6d372bb23e1": {
          "model_module": "@jupyter-widgets/base",
          "model_module_version": "1.2.0",
          "model_name": "LayoutModel",
          "state": {
            "_model_module": "@jupyter-widgets/base",
            "_model_module_version": "1.2.0",
            "_model_name": "LayoutModel",
            "_view_count": null,
            "_view_module": "@jupyter-widgets/base",
            "_view_module_version": "1.2.0",
            "_view_name": "LayoutView",
            "align_content": null,
            "align_items": null,
            "align_self": null,
            "border": null,
            "bottom": null,
            "display": null,
            "flex": null,
            "flex_flow": null,
            "grid_area": null,
            "grid_auto_columns": null,
            "grid_auto_flow": null,
            "grid_auto_rows": null,
            "grid_column": null,
            "grid_gap": null,
            "grid_row": null,
            "grid_template_areas": null,
            "grid_template_columns": null,
            "grid_template_rows": null,
            "height": null,
            "justify_content": null,
            "justify_items": null,
            "left": null,
            "margin": null,
            "max_height": null,
            "max_width": null,
            "min_height": null,
            "min_width": null,
            "object_fit": null,
            "object_position": null,
            "order": null,
            "overflow": null,
            "overflow_x": null,
            "overflow_y": null,
            "padding": null,
            "right": null,
            "top": null,
            "visibility": null,
            "width": null
          }
        },
        "9b31fddc200b44d9876479f4dbd4fbb6": {
          "model_module": "@jupyter-widgets/controls",
          "model_module_version": "1.5.0",
          "model_name": "DescriptionStyleModel",
          "state": {
            "_model_module": "@jupyter-widgets/controls",
            "_model_module_version": "1.5.0",
            "_model_name": "DescriptionStyleModel",
            "_view_count": null,
            "_view_module": "@jupyter-widgets/base",
            "_view_module_version": "1.2.0",
            "_view_name": "StyleView",
            "description_width": ""
          }
        },
        "9e7b736970df4062a60484419bb84152": {
          "model_module": "@jupyter-widgets/base",
          "model_module_version": "1.2.0",
          "model_name": "LayoutModel",
          "state": {
            "_model_module": "@jupyter-widgets/base",
            "_model_module_version": "1.2.0",
            "_model_name": "LayoutModel",
            "_view_count": null,
            "_view_module": "@jupyter-widgets/base",
            "_view_module_version": "1.2.0",
            "_view_name": "LayoutView",
            "align_content": null,
            "align_items": null,
            "align_self": null,
            "border": null,
            "bottom": null,
            "display": null,
            "flex": null,
            "flex_flow": null,
            "grid_area": null,
            "grid_auto_columns": null,
            "grid_auto_flow": null,
            "grid_auto_rows": null,
            "grid_column": null,
            "grid_gap": null,
            "grid_row": null,
            "grid_template_areas": null,
            "grid_template_columns": null,
            "grid_template_rows": null,
            "height": null,
            "justify_content": null,
            "justify_items": null,
            "left": null,
            "margin": null,
            "max_height": null,
            "max_width": null,
            "min_height": null,
            "min_width": null,
            "object_fit": null,
            "object_position": null,
            "order": null,
            "overflow": null,
            "overflow_x": null,
            "overflow_y": null,
            "padding": null,
            "right": null,
            "top": null,
            "visibility": null,
            "width": null
          }
        },
        "a037fd4c27984b809f4f976f31ee9a7a": {
          "model_module": "@jupyter-widgets/base",
          "model_module_version": "1.2.0",
          "model_name": "LayoutModel",
          "state": {
            "_model_module": "@jupyter-widgets/base",
            "_model_module_version": "1.2.0",
            "_model_name": "LayoutModel",
            "_view_count": null,
            "_view_module": "@jupyter-widgets/base",
            "_view_module_version": "1.2.0",
            "_view_name": "LayoutView",
            "align_content": null,
            "align_items": null,
            "align_self": null,
            "border": null,
            "bottom": null,
            "display": null,
            "flex": null,
            "flex_flow": null,
            "grid_area": null,
            "grid_auto_columns": null,
            "grid_auto_flow": null,
            "grid_auto_rows": null,
            "grid_column": null,
            "grid_gap": null,
            "grid_row": null,
            "grid_template_areas": null,
            "grid_template_columns": null,
            "grid_template_rows": null,
            "height": null,
            "justify_content": null,
            "justify_items": null,
            "left": null,
            "margin": null,
            "max_height": null,
            "max_width": null,
            "min_height": null,
            "min_width": null,
            "object_fit": null,
            "object_position": null,
            "order": null,
            "overflow": null,
            "overflow_x": null,
            "overflow_y": null,
            "padding": null,
            "right": null,
            "top": null,
            "visibility": null,
            "width": null
          }
        },
        "a0dda1e5b92f4d108798eca65aa3db17": {
          "model_module": "@jupyter-widgets/controls",
          "model_module_version": "1.5.0",
          "model_name": "HTMLModel",
          "state": {
            "_dom_classes": [],
            "_model_module": "@jupyter-widgets/controls",
            "_model_module_version": "1.5.0",
            "_model_name": "HTMLModel",
            "_view_count": null,
            "_view_module": "@jupyter-widgets/controls",
            "_view_module_version": "1.5.0",
            "_view_name": "HTMLView",
            "description": "",
            "description_tooltip": null,
            "layout": "IPY_MODEL_286183590fec4c538456b246bc81bfee",
            "placeholder": "​",
            "style": "IPY_MODEL_72e894a4cd1545b58750cb41819d9fae",
            "value": " 246M/246M [00:04&lt;00:00, 102MB/s]"
          }
        },
        "a31c1eb1e97147bebe2eea802f17bc3f": {
          "model_module": "@jupyter-widgets/controls",
          "model_module_version": "1.5.0",
          "model_name": "HTMLModel",
          "state": {
            "_dom_classes": [],
            "_model_module": "@jupyter-widgets/controls",
            "_model_module_version": "1.5.0",
            "_model_name": "HTMLModel",
            "_view_count": null,
            "_view_module": "@jupyter-widgets/controls",
            "_view_module_version": "1.5.0",
            "_view_name": "HTMLView",
            "description": "",
            "description_tooltip": null,
            "layout": "IPY_MODEL_0883b021a34440fa8f0258071a6e90a7",
            "placeholder": "​",
            "style": "IPY_MODEL_141cb5a01ac643eb92deb06ac1da75a7",
            "value": " 248M/248M [00:04&lt;00:00, 52.9MB/s]"
          }
        },
        "aaa073340ecf4ea8afd021944186c0ea": {
          "model_module": "@jupyter-widgets/controls",
          "model_module_version": "1.5.0",
          "model_name": "ProgressStyleModel",
          "state": {
            "_model_module": "@jupyter-widgets/controls",
            "_model_module_version": "1.5.0",
            "_model_name": "ProgressStyleModel",
            "_view_count": null,
            "_view_module": "@jupyter-widgets/base",
            "_view_module_version": "1.2.0",
            "_view_name": "StyleView",
            "bar_color": null,
            "description_width": ""
          }
        },
        "ac413b7c12c74d2188edb74b08cf8bbc": {
          "model_module": "@jupyter-widgets/base",
          "model_module_version": "1.2.0",
          "model_name": "LayoutModel",
          "state": {
            "_model_module": "@jupyter-widgets/base",
            "_model_module_version": "1.2.0",
            "_model_name": "LayoutModel",
            "_view_count": null,
            "_view_module": "@jupyter-widgets/base",
            "_view_module_version": "1.2.0",
            "_view_name": "LayoutView",
            "align_content": null,
            "align_items": null,
            "align_self": null,
            "border": null,
            "bottom": null,
            "display": null,
            "flex": null,
            "flex_flow": null,
            "grid_area": null,
            "grid_auto_columns": null,
            "grid_auto_flow": null,
            "grid_auto_rows": null,
            "grid_column": null,
            "grid_gap": null,
            "grid_row": null,
            "grid_template_areas": null,
            "grid_template_columns": null,
            "grid_template_rows": null,
            "height": null,
            "justify_content": null,
            "justify_items": null,
            "left": null,
            "margin": null,
            "max_height": null,
            "max_width": null,
            "min_height": null,
            "min_width": null,
            "object_fit": null,
            "object_position": null,
            "order": null,
            "overflow": null,
            "overflow_x": null,
            "overflow_y": null,
            "padding": null,
            "right": null,
            "top": null,
            "visibility": null,
            "width": null
          }
        },
        "afaf18b3eb9f4b57a40b724ac0cbe9d6": {
          "model_module": "@jupyter-widgets/base",
          "model_module_version": "1.2.0",
          "model_name": "LayoutModel",
          "state": {
            "_model_module": "@jupyter-widgets/base",
            "_model_module_version": "1.2.0",
            "_model_name": "LayoutModel",
            "_view_count": null,
            "_view_module": "@jupyter-widgets/base",
            "_view_module_version": "1.2.0",
            "_view_name": "LayoutView",
            "align_content": null,
            "align_items": null,
            "align_self": null,
            "border": null,
            "bottom": null,
            "display": null,
            "flex": null,
            "flex_flow": null,
            "grid_area": null,
            "grid_auto_columns": null,
            "grid_auto_flow": null,
            "grid_auto_rows": null,
            "grid_column": null,
            "grid_gap": null,
            "grid_row": null,
            "grid_template_areas": null,
            "grid_template_columns": null,
            "grid_template_rows": null,
            "height": null,
            "justify_content": null,
            "justify_items": null,
            "left": null,
            "margin": null,
            "max_height": null,
            "max_width": null,
            "min_height": null,
            "min_width": null,
            "object_fit": null,
            "object_position": null,
            "order": null,
            "overflow": null,
            "overflow_x": null,
            "overflow_y": null,
            "padding": null,
            "right": null,
            "top": null,
            "visibility": null,
            "width": null
          }
        },
        "b2357e0f716c40cd89bfde94cacec331": {
          "model_module": "@jupyter-widgets/controls",
          "model_module_version": "1.5.0",
          "model_name": "HTMLModel",
          "state": {
            "_dom_classes": [],
            "_model_module": "@jupyter-widgets/controls",
            "_model_module_version": "1.5.0",
            "_model_name": "HTMLModel",
            "_view_count": null,
            "_view_module": "@jupyter-widgets/controls",
            "_view_module_version": "1.5.0",
            "_view_name": "HTMLView",
            "description": "",
            "description_tooltip": null,
            "layout": "IPY_MODEL_2122f79ba27a49ddaa0f7a0270cb13cd",
            "placeholder": "​",
            "style": "IPY_MODEL_79cd75b1498940b1b4c30a541fa2812d",
            "value": " 249M/249M [00:03&lt;00:00, 57.0MB/s]"
          }
        },
        "b7caa7550b6f4090b674879a2afe00f7": {
          "model_module": "@jupyter-widgets/base",
          "model_module_version": "1.2.0",
          "model_name": "LayoutModel",
          "state": {
            "_model_module": "@jupyter-widgets/base",
            "_model_module_version": "1.2.0",
            "_model_name": "LayoutModel",
            "_view_count": null,
            "_view_module": "@jupyter-widgets/base",
            "_view_module_version": "1.2.0",
            "_view_name": "LayoutView",
            "align_content": null,
            "align_items": null,
            "align_self": null,
            "border": null,
            "bottom": null,
            "display": null,
            "flex": null,
            "flex_flow": null,
            "grid_area": null,
            "grid_auto_columns": null,
            "grid_auto_flow": null,
            "grid_auto_rows": null,
            "grid_column": null,
            "grid_gap": null,
            "grid_row": null,
            "grid_template_areas": null,
            "grid_template_columns": null,
            "grid_template_rows": null,
            "height": null,
            "justify_content": null,
            "justify_items": null,
            "left": null,
            "margin": null,
            "max_height": null,
            "max_width": null,
            "min_height": null,
            "min_width": null,
            "object_fit": null,
            "object_position": null,
            "order": null,
            "overflow": null,
            "overflow_x": null,
            "overflow_y": null,
            "padding": null,
            "right": null,
            "top": null,
            "visibility": null,
            "width": null
          }
        },
        "ba0ee47d16764aef8cf1d850d0cffc6f": {
          "model_module": "@jupyter-widgets/controls",
          "model_module_version": "1.5.0",
          "model_name": "DescriptionStyleModel",
          "state": {
            "_model_module": "@jupyter-widgets/controls",
            "_model_module_version": "1.5.0",
            "_model_name": "DescriptionStyleModel",
            "_view_count": null,
            "_view_module": "@jupyter-widgets/base",
            "_view_module_version": "1.2.0",
            "_view_name": "StyleView",
            "description_width": ""
          }
        },
        "bb1c62a63fd2426fa7b48e179c82493d": {
          "model_module": "@jupyter-widgets/controls",
          "model_module_version": "1.5.0",
          "model_name": "ProgressStyleModel",
          "state": {
            "_model_module": "@jupyter-widgets/controls",
            "_model_module_version": "1.5.0",
            "_model_name": "ProgressStyleModel",
            "_view_count": null,
            "_view_module": "@jupyter-widgets/base",
            "_view_module_version": "1.2.0",
            "_view_name": "StyleView",
            "bar_color": null,
            "description_width": ""
          }
        },
        "bba7a8d608e84a60b3653b48bca900aa": {
          "model_module": "@jupyter-widgets/controls",
          "model_module_version": "1.5.0",
          "model_name": "HBoxModel",
          "state": {
            "_dom_classes": [],
            "_model_module": "@jupyter-widgets/controls",
            "_model_module_version": "1.5.0",
            "_model_name": "HBoxModel",
            "_view_count": null,
            "_view_module": "@jupyter-widgets/controls",
            "_view_module_version": "1.5.0",
            "_view_name": "HBoxView",
            "box_style": "",
            "children": [
              "IPY_MODEL_6d3ffd66781a449682fc48466d82a4c6",
              "IPY_MODEL_4833bc520414419984798ef3717e9fa5",
              "IPY_MODEL_047fa8d5fb7045dda2db32f278f74ffe"
            ],
            "layout": "IPY_MODEL_d31da8ae2d594ec4bbec63db5c5da79b"
          }
        },
        "c3180566fa2e47c091eb38c95a3f97a8": {
          "model_module": "@jupyter-widgets/base",
          "model_module_version": "1.2.0",
          "model_name": "LayoutModel",
          "state": {
            "_model_module": "@jupyter-widgets/base",
            "_model_module_version": "1.2.0",
            "_model_name": "LayoutModel",
            "_view_count": null,
            "_view_module": "@jupyter-widgets/base",
            "_view_module_version": "1.2.0",
            "_view_name": "LayoutView",
            "align_content": null,
            "align_items": null,
            "align_self": null,
            "border": null,
            "bottom": null,
            "display": null,
            "flex": null,
            "flex_flow": null,
            "grid_area": null,
            "grid_auto_columns": null,
            "grid_auto_flow": null,
            "grid_auto_rows": null,
            "grid_column": null,
            "grid_gap": null,
            "grid_row": null,
            "grid_template_areas": null,
            "grid_template_columns": null,
            "grid_template_rows": null,
            "height": null,
            "justify_content": null,
            "justify_items": null,
            "left": null,
            "margin": null,
            "max_height": null,
            "max_width": null,
            "min_height": null,
            "min_width": null,
            "object_fit": null,
            "object_position": null,
            "order": null,
            "overflow": null,
            "overflow_x": null,
            "overflow_y": null,
            "padding": null,
            "right": null,
            "top": null,
            "visibility": null,
            "width": null
          }
        },
        "c33e938ad78f4e75a55ffe95f91f80b2": {
          "model_module": "@jupyter-widgets/base",
          "model_module_version": "1.2.0",
          "model_name": "LayoutModel",
          "state": {
            "_model_module": "@jupyter-widgets/base",
            "_model_module_version": "1.2.0",
            "_model_name": "LayoutModel",
            "_view_count": null,
            "_view_module": "@jupyter-widgets/base",
            "_view_module_version": "1.2.0",
            "_view_name": "LayoutView",
            "align_content": null,
            "align_items": null,
            "align_self": null,
            "border": null,
            "bottom": null,
            "display": null,
            "flex": null,
            "flex_flow": null,
            "grid_area": null,
            "grid_auto_columns": null,
            "grid_auto_flow": null,
            "grid_auto_rows": null,
            "grid_column": null,
            "grid_gap": null,
            "grid_row": null,
            "grid_template_areas": null,
            "grid_template_columns": null,
            "grid_template_rows": null,
            "height": null,
            "justify_content": null,
            "justify_items": null,
            "left": null,
            "margin": null,
            "max_height": null,
            "max_width": null,
            "min_height": null,
            "min_width": null,
            "object_fit": null,
            "object_position": null,
            "order": null,
            "overflow": null,
            "overflow_x": null,
            "overflow_y": null,
            "padding": null,
            "right": null,
            "top": null,
            "visibility": null,
            "width": null
          }
        },
        "c3db58c33b984907844ba643904cd91b": {
          "model_module": "@jupyter-widgets/base",
          "model_module_version": "1.2.0",
          "model_name": "LayoutModel",
          "state": {
            "_model_module": "@jupyter-widgets/base",
            "_model_module_version": "1.2.0",
            "_model_name": "LayoutModel",
            "_view_count": null,
            "_view_module": "@jupyter-widgets/base",
            "_view_module_version": "1.2.0",
            "_view_name": "LayoutView",
            "align_content": null,
            "align_items": null,
            "align_self": null,
            "border": null,
            "bottom": null,
            "display": null,
            "flex": null,
            "flex_flow": null,
            "grid_area": null,
            "grid_auto_columns": null,
            "grid_auto_flow": null,
            "grid_auto_rows": null,
            "grid_column": null,
            "grid_gap": null,
            "grid_row": null,
            "grid_template_areas": null,
            "grid_template_columns": null,
            "grid_template_rows": null,
            "height": null,
            "justify_content": null,
            "justify_items": null,
            "left": null,
            "margin": null,
            "max_height": null,
            "max_width": null,
            "min_height": null,
            "min_width": null,
            "object_fit": null,
            "object_position": null,
            "order": null,
            "overflow": null,
            "overflow_x": null,
            "overflow_y": null,
            "padding": null,
            "right": null,
            "top": null,
            "visibility": null,
            "width": null
          }
        },
        "c4d08e26920f46f383c5dcf97962813d": {
          "model_module": "@jupyter-widgets/base",
          "model_module_version": "1.2.0",
          "model_name": "LayoutModel",
          "state": {
            "_model_module": "@jupyter-widgets/base",
            "_model_module_version": "1.2.0",
            "_model_name": "LayoutModel",
            "_view_count": null,
            "_view_module": "@jupyter-widgets/base",
            "_view_module_version": "1.2.0",
            "_view_name": "LayoutView",
            "align_content": null,
            "align_items": null,
            "align_self": null,
            "border": null,
            "bottom": null,
            "display": null,
            "flex": null,
            "flex_flow": null,
            "grid_area": null,
            "grid_auto_columns": null,
            "grid_auto_flow": null,
            "grid_auto_rows": null,
            "grid_column": null,
            "grid_gap": null,
            "grid_row": null,
            "grid_template_areas": null,
            "grid_template_columns": null,
            "grid_template_rows": null,
            "height": null,
            "justify_content": null,
            "justify_items": null,
            "left": null,
            "margin": null,
            "max_height": null,
            "max_width": null,
            "min_height": null,
            "min_width": null,
            "object_fit": null,
            "object_position": null,
            "order": null,
            "overflow": null,
            "overflow_x": null,
            "overflow_y": null,
            "padding": null,
            "right": null,
            "top": null,
            "visibility": null,
            "width": null
          }
        },
        "c4f69dea549b40d7a4c19369041b9aa7": {
          "model_module": "@jupyter-widgets/controls",
          "model_module_version": "1.5.0",
          "model_name": "ProgressStyleModel",
          "state": {
            "_model_module": "@jupyter-widgets/controls",
            "_model_module_version": "1.5.0",
            "_model_name": "ProgressStyleModel",
            "_view_count": null,
            "_view_module": "@jupyter-widgets/base",
            "_view_module_version": "1.2.0",
            "_view_name": "StyleView",
            "bar_color": null,
            "description_width": ""
          }
        },
        "c50955c41184421bbca936f05b0e7042": {
          "model_module": "@jupyter-widgets/controls",
          "model_module_version": "1.5.0",
          "model_name": "HTMLModel",
          "state": {
            "_dom_classes": [],
            "_model_module": "@jupyter-widgets/controls",
            "_model_module_version": "1.5.0",
            "_model_name": "HTMLModel",
            "_view_count": null,
            "_view_module": "@jupyter-widgets/controls",
            "_view_module_version": "1.5.0",
            "_view_name": "HTMLView",
            "description": "",
            "description_tooltip": null,
            "layout": "IPY_MODEL_b7caa7550b6f4090b674879a2afe00f7",
            "placeholder": "​",
            "style": "IPY_MODEL_c9746701501f45c0bceeb6563bb804b1",
            "value": "(…)-00000-of-00004-2d5a1467fff1081b.parquet: 100%"
          }
        },
        "c9746701501f45c0bceeb6563bb804b1": {
          "model_module": "@jupyter-widgets/controls",
          "model_module_version": "1.5.0",
          "model_name": "DescriptionStyleModel",
          "state": {
            "_model_module": "@jupyter-widgets/controls",
            "_model_module_version": "1.5.0",
            "_model_name": "DescriptionStyleModel",
            "_view_count": null,
            "_view_module": "@jupyter-widgets/base",
            "_view_module_version": "1.2.0",
            "_view_name": "StyleView",
            "description_width": ""
          }
        },
        "d0a0280ef9014dfa8c01b49215b46224": {
          "model_module": "@jupyter-widgets/controls",
          "model_module_version": "1.5.0",
          "model_name": "FloatProgressModel",
          "state": {
            "_dom_classes": [],
            "_model_module": "@jupyter-widgets/controls",
            "_model_module_version": "1.5.0",
            "_model_name": "FloatProgressModel",
            "_view_count": null,
            "_view_module": "@jupyter-widgets/controls",
            "_view_module_version": "1.5.0",
            "_view_name": "ProgressView",
            "bar_style": "success",
            "description": "",
            "description_tooltip": null,
            "layout": "IPY_MODEL_5013e1f140504ef18feecde72c18cff6",
            "max": 247988350,
            "min": 0,
            "orientation": "horizontal",
            "style": "IPY_MODEL_fd47556bb00f457ebd9d1647cae27fcd",
            "value": 247988350
          }
        },
        "d31da8ae2d594ec4bbec63db5c5da79b": {
          "model_module": "@jupyter-widgets/base",
          "model_module_version": "1.2.0",
          "model_name": "LayoutModel",
          "state": {
            "_model_module": "@jupyter-widgets/base",
            "_model_module_version": "1.2.0",
            "_model_name": "LayoutModel",
            "_view_count": null,
            "_view_module": "@jupyter-widgets/base",
            "_view_module_version": "1.2.0",
            "_view_name": "LayoutView",
            "align_content": null,
            "align_items": null,
            "align_self": null,
            "border": null,
            "bottom": null,
            "display": null,
            "flex": null,
            "flex_flow": null,
            "grid_area": null,
            "grid_auto_columns": null,
            "grid_auto_flow": null,
            "grid_auto_rows": null,
            "grid_column": null,
            "grid_gap": null,
            "grid_row": null,
            "grid_template_areas": null,
            "grid_template_columns": null,
            "grid_template_rows": null,
            "height": null,
            "justify_content": null,
            "justify_items": null,
            "left": null,
            "margin": null,
            "max_height": null,
            "max_width": null,
            "min_height": null,
            "min_width": null,
            "object_fit": null,
            "object_position": null,
            "order": null,
            "overflow": null,
            "overflow_x": null,
            "overflow_y": null,
            "padding": null,
            "right": null,
            "top": null,
            "visibility": null,
            "width": null
          }
        },
        "dcb6b0ba1f0c454dbad33b10dc3c5287": {
          "model_module": "@jupyter-widgets/base",
          "model_module_version": "1.2.0",
          "model_name": "LayoutModel",
          "state": {
            "_model_module": "@jupyter-widgets/base",
            "_model_module_version": "1.2.0",
            "_model_name": "LayoutModel",
            "_view_count": null,
            "_view_module": "@jupyter-widgets/base",
            "_view_module_version": "1.2.0",
            "_view_name": "LayoutView",
            "align_content": null,
            "align_items": null,
            "align_self": null,
            "border": null,
            "bottom": null,
            "display": null,
            "flex": null,
            "flex_flow": null,
            "grid_area": null,
            "grid_auto_columns": null,
            "grid_auto_flow": null,
            "grid_auto_rows": null,
            "grid_column": null,
            "grid_gap": null,
            "grid_row": null,
            "grid_template_areas": null,
            "grid_template_columns": null,
            "grid_template_rows": null,
            "height": null,
            "justify_content": null,
            "justify_items": null,
            "left": null,
            "margin": null,
            "max_height": null,
            "max_width": null,
            "min_height": null,
            "min_width": null,
            "object_fit": null,
            "object_position": null,
            "order": null,
            "overflow": null,
            "overflow_x": null,
            "overflow_y": null,
            "padding": null,
            "right": null,
            "top": null,
            "visibility": null,
            "width": null
          }
        },
        "e0fcdd81dbe44dd7a7df18ecfb9a9f7e": {
          "model_module": "@jupyter-widgets/base",
          "model_module_version": "1.2.0",
          "model_name": "LayoutModel",
          "state": {
            "_model_module": "@jupyter-widgets/base",
            "_model_module_version": "1.2.0",
            "_model_name": "LayoutModel",
            "_view_count": null,
            "_view_module": "@jupyter-widgets/base",
            "_view_module_version": "1.2.0",
            "_view_name": "LayoutView",
            "align_content": null,
            "align_items": null,
            "align_self": null,
            "border": null,
            "bottom": null,
            "display": null,
            "flex": null,
            "flex_flow": null,
            "grid_area": null,
            "grid_auto_columns": null,
            "grid_auto_flow": null,
            "grid_auto_rows": null,
            "grid_column": null,
            "grid_gap": null,
            "grid_row": null,
            "grid_template_areas": null,
            "grid_template_columns": null,
            "grid_template_rows": null,
            "height": null,
            "justify_content": null,
            "justify_items": null,
            "left": null,
            "margin": null,
            "max_height": null,
            "max_width": null,
            "min_height": null,
            "min_width": null,
            "object_fit": null,
            "object_position": null,
            "order": null,
            "overflow": null,
            "overflow_x": null,
            "overflow_y": null,
            "padding": null,
            "right": null,
            "top": null,
            "visibility": null,
            "width": null
          }
        },
        "e3bc87344af84a2aa38bac55ed54a85a": {
          "model_module": "@jupyter-widgets/controls",
          "model_module_version": "1.5.0",
          "model_name": "HBoxModel",
          "state": {
            "_dom_classes": [],
            "_model_module": "@jupyter-widgets/controls",
            "_model_module_version": "1.5.0",
            "_model_name": "HBoxModel",
            "_view_count": null,
            "_view_module": "@jupyter-widgets/controls",
            "_view_module_version": "1.5.0",
            "_view_name": "HBoxView",
            "box_style": "",
            "children": [
              "IPY_MODEL_5a69d035a143427b9fac426ab4827fdb",
              "IPY_MODEL_788a08a25da64fb4bc3e224de6f5a00b",
              "IPY_MODEL_f7dbcfa261034af081418160047b3bb0"
            ],
            "layout": "IPY_MODEL_1da510591a7c4e38b466bd033796ae54"
          }
        },
        "e74bcb27ca3d4a09bf8da31da1ba502a": {
          "model_module": "@jupyter-widgets/base",
          "model_module_version": "1.2.0",
          "model_name": "LayoutModel",
          "state": {
            "_model_module": "@jupyter-widgets/base",
            "_model_module_version": "1.2.0",
            "_model_name": "LayoutModel",
            "_view_count": null,
            "_view_module": "@jupyter-widgets/base",
            "_view_module_version": "1.2.0",
            "_view_name": "LayoutView",
            "align_content": null,
            "align_items": null,
            "align_self": null,
            "border": null,
            "bottom": null,
            "display": null,
            "flex": null,
            "flex_flow": null,
            "grid_area": null,
            "grid_auto_columns": null,
            "grid_auto_flow": null,
            "grid_auto_rows": null,
            "grid_column": null,
            "grid_gap": null,
            "grid_row": null,
            "grid_template_areas": null,
            "grid_template_columns": null,
            "grid_template_rows": null,
            "height": null,
            "justify_content": null,
            "justify_items": null,
            "left": null,
            "margin": null,
            "max_height": null,
            "max_width": null,
            "min_height": null,
            "min_width": null,
            "object_fit": null,
            "object_position": null,
            "order": null,
            "overflow": null,
            "overflow_x": null,
            "overflow_y": null,
            "padding": null,
            "right": null,
            "top": null,
            "visibility": null,
            "width": null
          }
        },
        "e7e0dfb1d6174f74a5d83bb08006bddf": {
          "model_module": "@jupyter-widgets/controls",
          "model_module_version": "1.5.0",
          "model_name": "HTMLModel",
          "state": {
            "_dom_classes": [],
            "_model_module": "@jupyter-widgets/controls",
            "_model_module_version": "1.5.0",
            "_model_name": "HTMLModel",
            "_view_count": null,
            "_view_module": "@jupyter-widgets/controls",
            "_view_module_version": "1.5.0",
            "_view_name": "HTMLView",
            "description": "",
            "description_tooltip": null,
            "layout": "IPY_MODEL_0be2dbbebe33401993ddfa9e105138c5",
            "placeholder": "​",
            "style": "IPY_MODEL_3193f2ee8d6248e3b3c2d874cdb9a303",
            "value": " 2119719/2119719 [00:39&lt;00:00, 143443.71 examples/s]"
          }
        },
        "ee3ca2f8054a45e9a0a47e9fb6246b5a": {
          "model_module": "@jupyter-widgets/base",
          "model_module_version": "1.2.0",
          "model_name": "LayoutModel",
          "state": {
            "_model_module": "@jupyter-widgets/base",
            "_model_module_version": "1.2.0",
            "_model_name": "LayoutModel",
            "_view_count": null,
            "_view_module": "@jupyter-widgets/base",
            "_view_module_version": "1.2.0",
            "_view_name": "LayoutView",
            "align_content": null,
            "align_items": null,
            "align_self": null,
            "border": null,
            "bottom": null,
            "display": null,
            "flex": null,
            "flex_flow": null,
            "grid_area": null,
            "grid_auto_columns": null,
            "grid_auto_flow": null,
            "grid_auto_rows": null,
            "grid_column": null,
            "grid_gap": null,
            "grid_row": null,
            "grid_template_areas": null,
            "grid_template_columns": null,
            "grid_template_rows": null,
            "height": null,
            "justify_content": null,
            "justify_items": null,
            "left": null,
            "margin": null,
            "max_height": null,
            "max_width": null,
            "min_height": null,
            "min_width": null,
            "object_fit": null,
            "object_position": null,
            "order": null,
            "overflow": null,
            "overflow_x": null,
            "overflow_y": null,
            "padding": null,
            "right": null,
            "top": null,
            "visibility": null,
            "width": null
          }
        },
        "f24ef09d472b4030a39072e505efe508": {
          "model_module": "@jupyter-widgets/controls",
          "model_module_version": "1.5.0",
          "model_name": "HBoxModel",
          "state": {
            "_dom_classes": [],
            "_model_module": "@jupyter-widgets/controls",
            "_model_module_version": "1.5.0",
            "_model_name": "HBoxModel",
            "_view_count": null,
            "_view_module": "@jupyter-widgets/controls",
            "_view_module_version": "1.5.0",
            "_view_name": "HBoxView",
            "box_style": "",
            "children": [
              "IPY_MODEL_067e9b85f70b4a96849048c16ff3e040",
              "IPY_MODEL_0e468303b268471b8a5ab28d0eda6815",
              "IPY_MODEL_7c2eafd1ff6b43be94fa285a16f029f2"
            ],
            "layout": "IPY_MODEL_089c9c23b24448a1be2bb9225804d49d"
          }
        },
        "f718424336a6432383ee55b2c0dea165": {
          "model_module": "@jupyter-widgets/controls",
          "model_module_version": "1.5.0",
          "model_name": "DescriptionStyleModel",
          "state": {
            "_model_module": "@jupyter-widgets/controls",
            "_model_module_version": "1.5.0",
            "_model_name": "DescriptionStyleModel",
            "_view_count": null,
            "_view_module": "@jupyter-widgets/base",
            "_view_module_version": "1.2.0",
            "_view_name": "StyleView",
            "description_width": ""
          }
        },
        "f71e5898251a4b68bbb9385ea1822d8a": {
          "model_module": "@jupyter-widgets/controls",
          "model_module_version": "1.5.0",
          "model_name": "ProgressStyleModel",
          "state": {
            "_model_module": "@jupyter-widgets/controls",
            "_model_module_version": "1.5.0",
            "_model_name": "ProgressStyleModel",
            "_view_count": null,
            "_view_module": "@jupyter-widgets/base",
            "_view_module_version": "1.2.0",
            "_view_name": "StyleView",
            "bar_color": null,
            "description_width": ""
          }
        },
        "f7dbcfa261034af081418160047b3bb0": {
          "model_module": "@jupyter-widgets/controls",
          "model_module_version": "1.5.0",
          "model_name": "HTMLModel",
          "state": {
            "_dom_classes": [],
            "_model_module": "@jupyter-widgets/controls",
            "_model_module_version": "1.5.0",
            "_model_name": "HTMLModel",
            "_view_count": null,
            "_view_module": "@jupyter-widgets/controls",
            "_view_module_version": "1.5.0",
            "_view_name": "HTMLView",
            "description": "",
            "description_tooltip": null,
            "layout": "IPY_MODEL_9582168925f54f8e812008a2dd16be21",
            "placeholder": "​",
            "style": "IPY_MODEL_ba0ee47d16764aef8cf1d850d0cffc6f",
            "value": " 9.99M/9.99M [00:00&lt;00:00, 145MB/s]"
          }
        },
        "fd47556bb00f457ebd9d1647cae27fcd": {
          "model_module": "@jupyter-widgets/controls",
          "model_module_version": "1.5.0",
          "model_name": "ProgressStyleModel",
          "state": {
            "_model_module": "@jupyter-widgets/controls",
            "_model_module_version": "1.5.0",
            "_model_name": "ProgressStyleModel",
            "_view_count": null,
            "_view_module": "@jupyter-widgets/base",
            "_view_module_version": "1.2.0",
            "_view_name": "StyleView",
            "bar_color": null,
            "description_width": ""
          }
        },
        "fefc16d8fb134fad983fe6a136ffc157": {
          "model_module": "@jupyter-widgets/controls",
          "model_module_version": "1.5.0",
          "model_name": "HBoxModel",
          "state": {
            "_dom_classes": [],
            "_model_module": "@jupyter-widgets/controls",
            "_model_module_version": "1.5.0",
            "_model_name": "HBoxModel",
            "_view_count": null,
            "_view_module": "@jupyter-widgets/controls",
            "_view_module_version": "1.5.0",
            "_view_name": "HBoxView",
            "box_style": "",
            "children": [
              "IPY_MODEL_c50955c41184421bbca936f05b0e7042",
              "IPY_MODEL_64282f9e05fa40f48b8bf6da036e5e4a",
              "IPY_MODEL_b2357e0f716c40cd89bfde94cacec331"
            ],
            "layout": "IPY_MODEL_2ec8472d2b6a4b3393ba2cb2b437f370"
          }
        }
      }
    }
  },
  "nbformat": 4,
  "nbformat_minor": 0
}
