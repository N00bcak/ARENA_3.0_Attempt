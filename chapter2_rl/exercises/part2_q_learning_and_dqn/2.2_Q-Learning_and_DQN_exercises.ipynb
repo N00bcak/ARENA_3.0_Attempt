{
 "cells": [
  {
   "cell_type": "markdown",
   "metadata": {},
   "source": [
    "# [2.2] - Q-Learning and DQN (exercises)\n",
    "\n",
    "> **ARENA [Streamlit Page](https://arena-chapter2-rl.streamlit.app/02_[2.2]_Q-Learning_and_DQN)**\n",
    ">\n",
    "> **Colab: [exercises](https://colab.research.google.com/github/callummcdougall/ARENA_3.0/blob/main/chapter2_rl/exercises/part2_q_learning_and_dqn/2.2_Q-Learning_and_DQN_exercises.ipynb?t=20250530) | [solutions](https://colab.research.google.com/github/callummcdougall/ARENA_3.0/blob/main/chapter2_rl/exercises/part2_q_learning_and_dqn/2.2_Q-Learning_and_DQN_solutions.ipynb?t=20250530)**\n",
    "\n",
    "Please send any problems / bugs on the `#errata` channel in the [Slack group](https://join.slack.com/t/arena-uk/shared_invite/zt-2zick19fl-6GY1yoGaoUozyM3wObwmnQ), and ask any questions on the dedicated channels for this chapter of material.\n",
    "\n",
    "You can collapse each section so only the headers are visible, by clicking the arrow symbol on the left hand side of the markdown header cells.\n",
    "\n",
    "Links to all other chapters: [(0) Fundamentals](https://arena-chapter0-fundamentals.streamlit.app/), [(1) Transformer Interpretability](https://arena-chapter1-transformer-interp.streamlit.app/), [(2) RL](https://arena-chapter2-rl.streamlit.app/)."
   ]
  },
  {
   "cell_type": "markdown",
   "metadata": {},
   "source": [
    "<img src=\"https://raw.githubusercontent.com/info-arena/ARENA_img/main/misc/headers/header-22.png\" width=\"350\">"
   ]
  },
  {
   "cell_type": "markdown",
   "metadata": {},
   "source": [
    "# Introduction"
   ]
  },
  {
   "cell_type": "markdown",
   "metadata": {},
   "source": [
    "In this section, you'll implement Deep Q-Learning, often referred to as DQN for \"Deep Q-Network\". This was used in a landmark paper [Playing Atari with Deep Reinforcement Learning](https://www.cs.toronto.edu/~vmnih/docs/dqn.pdf).\n",
    "\n",
    "At the time, the idea that convolutional neural networks could look at Atari game pixels and \"see\" gameplay-relevant features like a Space Invader was new and noteworthy. In 2022, we take for granted that convnets work, so we're going to focus on the RL aspect and not the vision aspect today."
   ]
  },
  {
   "cell_type": "markdown",
   "metadata": {},
   "source": [
    "## Content & Learning Objectives\n",
    "\n",
    "### 1️⃣ Q-Learning\n",
    "\n",
    "Now, we deal with situations where the environment is a black-box, and the agent must learn the rules of the world via interaction with it. This is different from everything else we've done so far, e.g. in the previous section we could calculate optimal policies by using the tensors $R$ and $T$, which we will now assume the agent doesn't have direct knowledge of.\n",
    "\n",
    "We call algorithms which have access to the transition probability distribution and reward function **model-based algorithms**. **Q-learning** is a **model-free algorithm**. From the original paper introducing Q-learning:\n",
    "\n",
    "*[Q-learning] provides agents with the capability of learning to act optimally in Markovian domains by experiencing the consequences of actions, without requiring them to build maps of the domains.*\n",
    "\n",
    "> ##### Learning Objectives\n",
    ">\n",
    "> - Understand the basic Q-learning algorithm\n",
    "> - Implement SARSA and Q-Learning, and compare them on different envionments\n",
    "> - Understand the difference between model-based and model-free algorithms\n",
    "> - Learn more about exploration vs exploitation, and create an epsilon-greedy policy based on your Q-values\n",
    "\n",
    "### 2️⃣ DQN\n",
    "\n",
    "In this section, you'll implement Deep Q-Learning, often referred to as DQN for \"Deep Q-Network\". This was used in a landmark paper Playing Atari with [Deep Reinforcement Learning](https://www.cs.toronto.edu/~vmnih/docs/dqn.pdf).\n",
    "\n",
    "You'll apply the technique of DQN to master the famous CartPole environment (below), and then (if you have time) move on to harder challenges like Acrobot and MountainCar.\n",
    "\n",
    "> ##### Learning Objectives\n",
    ">\n",
    "> - Understand the DQN algorithm\n",
    "> - Learn more about RL debugging, and build probe environments to debug your agents\n",
    "> - Create a replay buffer to store environment transitions\n",
    "> - Implement DQN using PyTorch Lightning, on the CartPole environment"
   ]
  },
  {
   "cell_type": "markdown",
   "metadata": {},
   "source": [
    "## Setup (don't read, just run!)"
   ]
  },
  {
   "cell_type": "code",
   "execution_count": 1,
   "metadata": {},
   "outputs": [],
   "source": [
    "import os\n",
    "import sys\n",
    "from pathlib import Path\n",
    "\n",
    "IN_COLAB = \"google.colab\" in sys.modules\n",
    "\n",
    "chapter = \"chapter2_rl\"\n",
    "repo = \"ARENA_3.0_Attempt\"\n",
    "branch = \"main\"\n",
    "\n",
    "# Install dependencies\n",
    "try:\n",
    "    import jaxtyping\n",
    "except:\n",
    "    %pip install wandb==0.18.7 einops \"gymnasium[atari, accept-rom-license, other]==0.29.0\" pygame jaxtyping\n",
    "\n",
    "# Get root directory, handling 3 different cases: (1) Colab, (2) notebook not in ARENA repo, (3) notebook in ARENA repo\n",
    "root = (\n",
    "    \"/content\"\n",
    "    if IN_COLAB\n",
    "    else \"/root\"\n",
    "    if repo not in os.getcwd()\n",
    "    else str(next(p for p in Path.cwd().parents if p.name == repo))\n",
    ")\n",
    "\n",
    "if Path(root).exists() and not Path(f\"{root}/{chapter}\").exists():\n",
    "    if not IN_COLAB:\n",
    "        !sudo apt-get install unzip\n",
    "        %pip install jupyter ipython --upgrade\n",
    "\n",
    "    if not os.path.exists(f\"{root}/{chapter}\"):\n",
    "        !wget -P {root} https://github.com/callummcdougall/ARENA_3.0/archive/refs/heads/{branch}.zip\n",
    "        !unzip {root}/{branch}.zip '{repo}-{branch}/{chapter}/exercises/*' -d {root}\n",
    "        !mv {root}/{repo}-{branch}/{chapter} {root}/{chapter}\n",
    "        !rm {root}/{branch}.zip\n",
    "        !rmdir {root}/{repo}-{branch}\n",
    "\n",
    "\n",
    "if f\"{root}/{chapter}/exercises\" not in sys.path:\n",
    "    sys.path.append(f\"{root}/{chapter}/exercises\")\n",
    "\n",
    "os.chdir(f\"{root}/{chapter}/exercises\")"
   ]
  },
  {
   "cell_type": "code",
   "execution_count": 2,
   "metadata": {},
   "outputs": [],
   "source": [
    "import os\n",
    "import sys\n",
    "import time\n",
    "import warnings\n",
    "from dataclasses import dataclass\n",
    "from pathlib import Path\n",
    "from typing import Literal, TypeAlias\n",
    "\n",
    "import gymnasium as gym\n",
    "import numpy as np\n",
    "import torch as t\n",
    "import wandb\n",
    "from gymnasium.spaces import Box, Discrete\n",
    "from jaxtyping import Bool, Float, Int\n",
    "from torch import Tensor, nn\n",
    "from tqdm import tqdm, trange\n",
    "\n",
    "warnings.filterwarnings(\"ignore\")\n",
    "\n",
    "Arr = np.ndarray\n",
    "\n",
    "# Make sure exercises are in the path\n",
    "chapter = \"chapter2_rl\"\n",
    "section = \"part2_q_learning_and_dqn\"\n",
    "root_dir = next(p for p in Path.cwd().parents if (p / chapter).exists())\n",
    "exercises_dir = root_dir / chapter / \"exercises\"\n",
    "section_dir = exercises_dir / section\n",
    "if str(exercises_dir) not in sys.path:\n",
    "    sys.path.append(str(exercises_dir))\n",
    "\n",
    "import part2_q_learning_and_dqn.tests as tests\n",
    "import part2_q_learning_and_dqn.utils as utils\n",
    "from part1_intro_to_rl.solutions import Environment, Norvig, Toy, find_optimal_policy\n",
    "from part1_intro_to_rl.utils import set_global_seeds\n",
    "from part3_ppo.utils import make_env\n",
    "from plotly_utils import cliffwalk_imshow, line, plot_cartpole_obs_and_dones\n",
    "\n",
    "device = t.device(\"mps\" if t.backends.mps.is_available() else \"cuda\" if t.cuda.is_available() else \"cpu\")"
   ]
  },
  {
   "cell_type": "markdown",
   "metadata": {},
   "source": [
    "# 1️⃣ Q-Learning\n",
    "\n",
    "> ##### Learning Objectives\n",
    ">\n",
    "> - Understand the basic Q-learning algorithm\n",
    "> - Implement SARSA and Q-Learning, and compare them on different envionments\n",
    "> - Understand the difference between model-based and model-free algorithms\n",
    "> - Learn more about exploration vs exploitation, and create an epsilon-greedy policy based on your Q-values"
   ]
  },
  {
   "cell_type": "markdown",
   "metadata": {},
   "source": [
    "Now, we deal with situations where the environment is a black-box, and the agent must learn the rules of the world via interaction with it. This is different from everything else we've done so far, e.g. in the previous section we could calculate optimal policies by using the tensors $R$ and $T$, which we will now assume the agent doesn't have direct knowledge of.\n",
    "\n",
    "We call algorithms which have access to the transition probability distribution and reward function **model-based algorithms**. **Q-learning** is a **model-free algorithm**. From the original paper introducing Q-learning:\n",
    "\n",
    "> <i>[Q-learning] provides agents with the capability of learning to act optimally in Markovian domains by experiencing the consequences of actions, without requiring them to build maps of the domains.</i>\n",
    "\n",
    "The \"Q\" part of Q-learning refers to the function $Q$ which we encountered yesterday - the expected rewards for an action $a$ taken in a particular state $s$, based on some policy $\\pi$."
   ]
  },
  {
   "cell_type": "markdown",
   "metadata": {},
   "source": [
    "## Readings\n",
    "\n",
    "Don't worry about absorbing every detail, we will repeat a lot of the details here. Don't worry too much about the maths, we will also cover that here.\n",
    "\n",
    "- [Sutton and Barto](https://www.andrew.cmu.edu/course/10-703/textbook/BartoSutton.pdf)\n",
    "   - Chapter 6, Section 6.1, 6.3 (Especially Example 6.4)\n",
    "   - Note that Section 6.1 talks about temporal difference (TD) updates for the value function $V$. We will instead be using TD updates for the Q-value $Q$.\n",
    "   - Don't worry about the references to Monte Carlo in Chapter 5.\n",
    "\n",
    "### Optional Readings\n",
    "\n",
    "- [Q-Learning](https://link.springer.com/content/pdf/10.1007/BF00992698.pdf) The original paper where Q-learning is first described."
   ]
  },
  {
   "cell_type": "markdown",
   "metadata": {},
   "source": [
    "Again, we'll be using NumPy for this section, and we'll start off with our gridworld environment from last week:\n",
    "\n",
    "<img src=\"https://raw.githubusercontent.com/info-arena/ARENA_img/main/misc/gridworld.png\" width=\"300\">\n",
    "\n",
    "but this time we'll use it within the `gym` framework.\n",
    "\n",
    "### Recap of `gym.Env`\n",
    "\n",
    "Let's have a speed recap of the key features the `gym.Env` class provides, and see how we can use it to wrap our gridworld environment from last week.\n",
    "\n",
    "#### The `step` method\n",
    "\n",
    "The environment's `step` method takes the action selected by the agent and returns four values: `obs`, `reward`, `done`, and the `info` dictionary.\n",
    "\n",
    "`obs` and `reward` is the next observation and reward that the agent receives based on the action chosen.\n",
    "\n",
    "`done` indicates if the environment has entered a terminal state and ended. Here, both the goal-states (+1 and -1) are terminal. Early termination is equivalent to an infinite trajectory where the agent remains trapped for all future states, and always receives reward zero.\n",
    "\n",
    "`info` can contain anything extra that doesn't fit into the uniform interface - it's up to the environment what to put into it. A good use of this is for debugging information that the agent isn't \"supposed\" to see, like the dynamics of the environment. Agents that cheat and peek at `info` are helpful because we know that they should obtain the maximum possible rewards; if they aren't, then there's a bug. We will throw the entire underlying environment into `info`, from which an agent could cheat by peeking at the values for `T` and `R`.\n",
    "\n",
    "#### The `render` method\n",
    "\n",
    "Render is only used for debugging or entertainment, and what it does is up to the environment. It might render a little popup window showing the Atari game, or it might give you a RGB image tensor, or just some ASCII text describing what's happening.\n",
    "\n",
    "#### Terminology note - observation vs. state\n",
    "\n",
    "We use the word *observation* here as some environments are *partially observable*, the agent receives not an exact description of the state they are in, but merely an observation giving a partial description (for our gridworld, it could be a description of which cells directly adjacent to the agent are free to move into, rather than precisely which state they are in). This means that the agent would be unable to distinguish the cell north of the wall from the cell south of the wall. Returning the state as the observation is a special case, and we will often refer to one or the other as required.\n",
    "\n",
    "#### Observation and Action Types\n",
    "\n",
    "A `gym.Env` is a generic type: both the type of the observations and the type of the actions depends on the specifics of the environment. Right now, we're only dealing with the simplest case: a discrete set of actions which are the same in every state. In general, the actions could be continuous, or depend on the state. We're also just dealing with a single discrete observation here, although later we'll be taking arrays as our observations.\n",
    "\n",
    "Below, we define a class that allows us to use our old environment definition from yesterday, and wrap it in a `gym.Env` instance so we can learn from experience instead. This is very similar to our `MultiArmedBandit` class from last week, but more general. Read the code below carefully and make sure you understand how the Gym environment API works."
   ]
  },
  {
   "cell_type": "code",
   "execution_count": 3,
   "metadata": {},
   "outputs": [],
   "source": [
    "ObsType: TypeAlias = int | np.ndarray\n",
    "ActType: TypeAlias = int\n",
    "\n",
    "\n",
    "class DiscreteEnviroGym(gym.Env):\n",
    "    action_space: gym.spaces.Discrete\n",
    "    observation_space: gym.spaces.Discrete\n",
    "    \"\"\"\n",
    "    A discrete environment class for reinforcement learning, compatible with OpenAI Gym.\n",
    "\n",
    "    This class represents a discrete environment where actions and observations are discrete.\n",
    "    It is designed to interface with a provided `Environment` object which defines the\n",
    "    underlying dynamics, states, and actions.\n",
    "\n",
    "    Attributes:\n",
    "        action_space (gym.spaces.Discrete): The space of possible actions.\n",
    "        observation_space (gym.spaces.Discrete): The space of possible observations (states).\n",
    "        env (Environment): The underlying environment with its own dynamics and properties.\n",
    "    \"\"\"\n",
    "\n",
    "    def __init__(self, env: Environment):\n",
    "        super().__init__()\n",
    "        self.env = env\n",
    "        self.observation_space = gym.spaces.Discrete(env.num_states)\n",
    "        self.action_space = gym.spaces.Discrete(env.num_actions)\n",
    "        self.reset()\n",
    "\n",
    "    def step(self, action: ActType) -> tuple[ObsType, float, bool, dict]:\n",
    "        \"\"\"\n",
    "        Execute an action and return the new state, reward, done flag, and additional info.\n",
    "        The behaviour of this function depends primarily on the dynamics of the underlying\n",
    "        environment.\n",
    "        \"\"\"\n",
    "        states, rewards, probs = self.env.dynamics(self.pos, action)\n",
    "        idx = self.np_random.choice(len(states), p=probs)\n",
    "        new_state, reward = states[idx], rewards[idx]\n",
    "        self.pos = new_state\n",
    "        terminated = self.pos in self.env.terminal\n",
    "        truncated = False\n",
    "        info = {\"env\": self.env}\n",
    "        return new_state, reward, terminated, truncated, info\n",
    "\n",
    "    def reset(self, seed: int | None = None, options=None) -> tuple[ObsType, dict]:\n",
    "        \"\"\"\n",
    "        Resets the environment to its initial state.\n",
    "        \"\"\"\n",
    "        super().reset(seed=seed)\n",
    "        self.pos = self.env.start\n",
    "        return self.pos, {}\n",
    "\n",
    "    def render(self, mode=\"human\"):\n",
    "        assert mode == \"human\", f\"Mode {mode} not supported!\""
   ]
  },
  {
   "cell_type": "markdown",
   "metadata": {},
   "source": [
    "We already discussed how to register an environment and use a time limit wrapper in yesterday's exercises. Use these dropdowns to remind yourself if you've forgotten.\n",
    "\n",
    "<details>\n",
    "<summary>Registering an Environment</summary>\n",
    "\n",
    "Usually we won't use a class like `MultiArmedBandit` directly, because we'll want to wrap it in classes that add various other features that help it work with the rest of the gymnasium library. The `register` function does this for us: it stores information about our `Env` in a registry so that a later call to `gym.make` can look it up using the `id` string that is passed in, and then create an instance of our class with a bunch of extra wrapper classes.\n",
    "\n",
    "By convention, the `id` strings have a suffix with a version number. There can be multiple versions of the \"same\" environment with different parameters, and benchmarks should always report the version number for a fair comparison. For instance, `id=\"ArmedBanditTestbed-v0\"` below.\n",
    "\n",
    "</details>\n",
    "\n",
    "<details>\n",
    "<summary>TimeLimit Wrapper</summary>\n",
    "\n",
    "One important wrapper class is the `TimeLimit` wrapper - this is used to ensure that the environment terminates after a fixed number of steps. It works by having the `truncated` flag returned by the `step` method be overridden after `max_episode_steps`, and set to `True`. You can see from looking at the `step` method above that without this, the agent might keep playing forever, because it always returns `terminated=truncated=False`. The time limit is also an essential part of the problem definition: if it were larger or shorter, there would be more or less time to explore, which means that different algorithms (or at least different hyperparameters) would then have improved performance.\n",
    "\n",
    "</details>"
   ]
  },
  {
   "cell_type": "code",
   "execution_count": 4,
   "metadata": {},
   "outputs": [],
   "source": [
    "gym.envs.registration.register(\n",
    "    id=\"NorvigGrid-v0\",\n",
    "    entry_point=DiscreteEnviroGym,\n",
    "    max_episode_steps=100,\n",
    "    nondeterministic=True,\n",
    "    kwargs={\"env\": Norvig(penalty=-0.04)},\n",
    ")\n",
    "\n",
    "gym.envs.registration.register(\n",
    "    id=\"ToyGym-v0\",\n",
    "    entry_point=DiscreteEnviroGym,\n",
    "    max_episode_steps=3,  # use 3 not 2, because of 1-indexing\n",
    "    nondeterministic=False,\n",
    "    kwargs={\"env\": Toy()},\n",
    ")"
   ]
  },
  {
   "cell_type": "markdown",
   "metadata": {},
   "source": [
    "## Agent class\n",
    "\n",
    "Just like yesterday, we've provided you with a base `Agent` class. This is different from yesterday's class in the following main ways:\n",
    "\n",
    "* The `run_episode` function is now a method of this class, not a separate function. The `train` method is equivalent to yesterday's `run_agent` function.\n",
    "* We've introduced the following dataclasses:\n",
    "    * `Experience`, to store the agent's experiences. The 5 values we store here are $(s_t, a_t, r_{t+1}, s_{t+1}, a_{t+1})$ using previously established notation (we'll see later on why it's necessary to store these 5 values). The `observe` method now takes a single experience as input.\n",
    "    * `AgentConfig`, which allows us to more easily package up the arguments we use to initialize our agent.\n",
    "\n",
    "We've also given you the `RandomAgent` subclass, which picks an action at random using the random number generator provided by gym. This is useful as a baseline to ensure the environment has no bugs. If your later agents are doing worse than random, you have a bug! $\\,$"
   ]
  },
  {
   "cell_type": "code",
   "execution_count": 5,
   "metadata": {},
   "outputs": [],
   "source": [
    "@dataclass\n",
    "class Experience:\n",
    "    \"\"\"\n",
    "    A class for storing one piece of experience during an episode run.\n",
    "    \"\"\"\n",
    "\n",
    "    obs: ObsType\n",
    "    act: ActType\n",
    "    reward: float\n",
    "    new_obs: ObsType\n",
    "    new_act: ActType | None = None\n",
    "\n",
    "\n",
    "@dataclass\n",
    "class AgentConfig:\n",
    "    \"\"\"Hyperparameters for agents\"\"\"\n",
    "\n",
    "    epsilon: float = 0.1\n",
    "    lr: float = 0.05\n",
    "    optimism: float = 0\n",
    "\n",
    "\n",
    "defaultConfig = AgentConfig()\n",
    "\n",
    "\n",
    "class Agent:\n",
    "    \"\"\"Base class for agents interacting with an environment (you do not need to add any implementation here)\"\"\"\n",
    "\n",
    "    rng: np.random.Generator\n",
    "\n",
    "    def __init__(self, env: DiscreteEnviroGym, config: AgentConfig = defaultConfig, gamma: float = 0.99, seed: int = 0):\n",
    "        self.env = env\n",
    "        self.reset(seed)\n",
    "        self.config = config\n",
    "        self.gamma = gamma\n",
    "        self.num_actions = env.action_space.n\n",
    "        self.num_states = env.observation_space.n\n",
    "        self.name = type(self).__name__\n",
    "\n",
    "    def get_action(self, obs: ObsType) -> ActType:\n",
    "        raise NotImplementedError()\n",
    "\n",
    "    def observe(self, exp: Experience) -> None:\n",
    "        \"\"\"\n",
    "        Agent observes experience, and updates model as appropriate.\n",
    "        Implementation depends on type of agent.\n",
    "        \"\"\"\n",
    "        pass\n",
    "\n",
    "    def reset(self, seed: int) -> tuple[ObsType, dict]:\n",
    "        self.rng = np.random.default_rng(seed)\n",
    "        return None, {}\n",
    "\n",
    "    def run_episode(self, seed) -> list[int]:\n",
    "        \"\"\"\n",
    "        Simulates one episode of interaction, agent learns as appropriate\n",
    "        Inputs:\n",
    "            seed : Seed for the random number generator\n",
    "        Outputs:\n",
    "            The rewards obtained during the episode\n",
    "        \"\"\"\n",
    "        rewards = []\n",
    "        obs, info = self.env.reset(seed=seed)\n",
    "        self.reset(seed=seed)\n",
    "        done = False\n",
    "        while not done:\n",
    "            act = self.get_action(obs)\n",
    "            new_obs, reward, terminated, truncated, info = self.env.step(act)\n",
    "            done = terminated or truncated\n",
    "            exp = Experience(obs, act, reward, new_obs)\n",
    "            self.observe(exp)\n",
    "            rewards.append(reward)\n",
    "            obs = new_obs\n",
    "        return rewards\n",
    "\n",
    "    def train(self, n_runs=500):\n",
    "        \"\"\"\n",
    "        Run a batch of episodes, and return the total reward obtained per episode\n",
    "        Inputs:\n",
    "            n_runs : The number of episodes to simulate\n",
    "        Outputs:\n",
    "            The discounted sum of rewards obtained for each episode\n",
    "        \"\"\"\n",
    "        all_rewards = []\n",
    "        for seed in trange(n_runs):\n",
    "            rewards = self.run_episode(seed)\n",
    "            all_rewards.append(utils.sum_rewards(rewards, self.gamma))\n",
    "        return all_rewards\n",
    "\n",
    "\n",
    "class Random(Agent):\n",
    "    def get_action(self, obs: ObsType) -> ActType:\n",
    "        return self.rng.integers(0, self.num_actions)"
   ]
  },
  {
   "cell_type": "markdown",
   "metadata": {},
   "source": [
    "## Cheater Agent\n",
    "\n",
    "Just like yesterday, you'll implement a cheating agent that peeks at the info and finds the optimal policy directly using your previous code. If your agent gets more than this in the long run, you have a bug!"
   ]
  },
  {
   "cell_type": "markdown",
   "metadata": {},
   "source": [
    "### Exercise - implement `Cheater`\n",
    "\n",
    "> ```yaml\n",
    "> Difficulty: 🔴🔴🔴⚪⚪\n",
    "> Importance: 🔵🔵🔵⚪⚪\n",
    "> \n",
    "> You should spend up to 10-15 minutes on this exercise.\n",
    "> ```\n",
    "\n",
    "Below, you should implement the cheater agent. Last time we only implemented cheater for the multi-armed bandit problem, but here we're implementing a more general version. Recall that at the end of yesterday's exercises we wrote the function `find_optimal_policy` to find the optimal policy for any environment and value of gamma. You should use this function to define the optimal policy on initialization, and then fill in the `get_action` method so that it always returns the corresponding optimal action.\n",
    "\n",
    "Once you've done this, run the code below to check that your cheating agent outperforms the random agent. The cheating agent represents the best possible behavior, as it omnisciently always knows to play optimally.\n",
    "\n",
    "On the environment `ToyGym-v0`, (assuming $\\gamma = 0.99$ and that the environment terminates after 2 timesteps) the cheating agent should always get reward $2 \\gamma = 1.98$,\n",
    "and the random agent should get a fluctuating reward, with average $\\frac{2 \\gamma + 1}{2} = 1.49$.\n",
    "\n",
    "Hint: Use `env.unwrapped.env` to extract the `Environment` wrapped inside `gym.Env`, to get access to the underlying dynamics.\n",
    "\n",
    "<details>\n",
    "<summary>Help - I get 'AttributeError: 'DiscreteEnviroGym' object has no attribute 'num_states''.</summary>\n",
    "\n",
    "This is probably because you're passing the `DiscreteEnviroGym` object to your `find_optimal_policy` function. In the following line of code:\n",
    "\n",
    "```python\n",
    "env_toy = gym.make(\"ToyGym-v0\")\n",
    "```\n",
    "\n",
    "the object `env_toy` wraps around the `Toy` environment you used last week. As mentioned, you'll need to use `env.unwrapped.env` to access this environment, and its dynamics.\n",
    "\n",
    "</details>"
   ]
  },
  {
   "cell_type": "code",
   "execution_count": 6,
   "metadata": {},
   "outputs": [
    {
     "name": "stderr",
     "output_type": "stream",
     "text": [
      "100%|██████████| 100/100 [00:00<00:00, 10643.01it/s]\n",
      "100%|██████████| 100/100 [00:00<00:00, 10264.06it/s]\n"
     ]
    },
    {
     "data": {
      "application/vnd.plotly.v1+json": {
       "config": {
        "plotlyServerURL": "https://plot.ly"
       },
       "data": [
        {
         "hovertemplate": "Agent=wide_variable_0<br>index=%{x}<br>value=%{y}<extra></extra>",
         "legendgroup": "wide_variable_0",
         "line": {
          "color": "#1F77B4",
          "dash": "solid"
         },
         "marker": {
          "symbol": "circle"
         },
         "mode": "lines",
         "name": "Cheater",
         "orientation": "v",
         "showlegend": true,
         "type": "scatter",
         "x": [
          0,
          1,
          2,
          3,
          4,
          5,
          6,
          7,
          8,
          9,
          10,
          11,
          12,
          13,
          14,
          15,
          16,
          17,
          18,
          19,
          20,
          21,
          22,
          23,
          24,
          25,
          26,
          27,
          28,
          29,
          30,
          31,
          32,
          33,
          34,
          35,
          36,
          37,
          38,
          39,
          40,
          41,
          42,
          43,
          44,
          45,
          46,
          47,
          48,
          49,
          50,
          51,
          52,
          53,
          54,
          55,
          56,
          57,
          58,
          59,
          60,
          61,
          62,
          63,
          64,
          65,
          66,
          67,
          68,
          69,
          70,
          71,
          72,
          73,
          74,
          75,
          76,
          77,
          78,
          79,
          80,
          81,
          82,
          83,
          84,
          85,
          86,
          87,
          88,
          89,
          90,
          91,
          92,
          93,
          94,
          95,
          96,
          97,
          98,
          99
         ],
         "xaxis": "x",
         "y": [
          1.9602,
          1.9602,
          1.9601999999999997,
          1.9602,
          1.9602,
          1.9602000000000002,
          1.9602000000000002,
          1.9602000000000002,
          1.9602,
          1.9602,
          1.9602000000000002,
          1.9602000000000002,
          1.9602000000000002,
          1.9602000000000002,
          1.9602000000000002,
          1.9602000000000002,
          1.9602,
          1.9602,
          1.9602,
          1.9602,
          1.9602,
          1.9602000000000002,
          1.9602000000000002,
          1.9602000000000002,
          1.9602000000000002,
          1.9602000000000002,
          1.9602000000000002,
          1.9602000000000002,
          1.9602000000000002,
          1.9602000000000002,
          1.9602000000000002,
          1.9602000000000002,
          1.9602,
          1.9602,
          1.9602,
          1.9602,
          1.9602,
          1.9602,
          1.9602,
          1.9602,
          1.9602,
          1.9602,
          1.9602000000000002,
          1.9602000000000002,
          1.9602000000000002,
          1.9602000000000002,
          1.9602000000000002,
          1.9602000000000002,
          1.9602000000000002,
          1.9602000000000002,
          1.9602000000000002,
          1.9602000000000002,
          1.9602000000000002,
          1.9602000000000002,
          1.9602000000000002,
          1.9602000000000002,
          1.9602000000000002,
          1.9602000000000002,
          1.9602000000000002,
          1.9602000000000002,
          1.9602000000000002,
          1.9602000000000002,
          1.9602000000000002,
          1.9602000000000002,
          1.9602000000000002,
          1.9602,
          1.9601999999999997,
          1.9601999999999995,
          1.9601999999999993,
          1.9601999999999993,
          1.960199999999999,
          1.9601999999999988,
          1.9601999999999986,
          1.9601999999999984,
          1.9601999999999984,
          1.9601999999999982,
          1.960199999999998,
          1.960199999999998,
          1.9601999999999977,
          1.9601999999999975,
          1.9601999999999975,
          1.9601999999999973,
          1.960199999999997,
          1.960199999999997,
          1.9601999999999968,
          1.9601999999999968,
          1.9601999999999966,
          1.9601999999999966,
          1.9601999999999964,
          1.9601999999999964,
          1.9601999999999962,
          1.9601999999999962,
          1.960199999999996,
          1.960199999999996,
          1.9601999999999957,
          1.9601999999999957,
          1.9601999999999955,
          1.9601999999999955,
          1.9601999999999953,
          1.9601999999999953
         ],
         "yaxis": "y"
        },
        {
         "hovertemplate": "Agent=wide_variable_1<br>index=%{x}<br>value=%{y}<extra></extra>",
         "legendgroup": "wide_variable_1",
         "line": {
          "color": "#FF7F0E",
          "dash": "solid"
         },
         "marker": {
          "symbol": "circle"
         },
         "mode": "lines",
         "name": "Random",
         "orientation": "v",
         "showlegend": true,
         "type": "scatter",
         "x": [
          0,
          1,
          2,
          3,
          4,
          5,
          6,
          7,
          8,
          9,
          10,
          11,
          12,
          13,
          14,
          15,
          16,
          17,
          18,
          19,
          20,
          21,
          22,
          23,
          24,
          25,
          26,
          27,
          28,
          29,
          30,
          31,
          32,
          33,
          34,
          35,
          36,
          37,
          38,
          39,
          40,
          41,
          42,
          43,
          44,
          45,
          46,
          47,
          48,
          49,
          50,
          51,
          52,
          53,
          54,
          55,
          56,
          57,
          58,
          59,
          60,
          61,
          62,
          63,
          64,
          65,
          66,
          67,
          68,
          69,
          70,
          71,
          72,
          73,
          74,
          75,
          76,
          77,
          78,
          79,
          80,
          81,
          82,
          83,
          84,
          85,
          86,
          87,
          88,
          89,
          90,
          91,
          92,
          93,
          94,
          95,
          96,
          97,
          98,
          99
         ],
         "xaxis": "x",
         "y": [
          1.9602,
          1.9602,
          1.6368,
          1.4751,
          1.57212,
          1.6368,
          1.683,
          1.7176500000000001,
          1.6368,
          1.66914,
          1.6956000000000002,
          1.6368,
          1.5870461538461538,
          1.6137,
          1.6368,
          1.6570125,
          1.6748470588235294,
          1.6907,
          1.6538210526315789,
          1.6206299999999998,
          1.5906,
          1.6074,
          1.5805565217391304,
          1.596375,
          1.5721200000000002,
          1.5497307692307696,
          1.5290000000000004,
          1.5444000000000002,
          1.558737931034483,
          1.5397800000000004,
          1.522045161290323,
          1.5357375000000004,
          1.5192000000000005,
          1.5036352941176476,
          1.4889600000000005,
          1.4751000000000005,
          1.4619891891891899,
          1.4751000000000005,
          1.4626615384615391,
          1.4751000000000007,
          1.4869317073170738,
          1.4982000000000006,
          1.508944186046512,
          1.5192000000000005,
          1.5074400000000003,
          1.5172826086956526,
          1.5267063829787237,
          1.5357375000000004,
          1.5246000000000002,
          1.513908,
          1.5226588235294118,
          1.5310730769230771,
          1.5391698113207548,
          1.5290000000000001,
          1.5191999999999999,
          1.527075,
          1.5346736842105262,
          1.5420103448275861,
          1.5326542372881355,
          1.53978,
          1.5307672131147538,
          1.5220451612903223,
          1.5289999999999997,
          1.5357374999999998,
          1.5422676923076921,
          1.5338999999999996,
          1.5402626865671638,
          1.5321705882352938,
          1.5243130434782604,
          1.5305399999999996,
          1.5229267605633798,
          1.5155249999999993,
          1.521616438356164,
          1.5144324324324319,
          1.5203759999999995,
          1.513397368421052,
          1.5191999999999994,
          1.5248538461538454,
          1.5180835443037968,
          1.5236099999999992,
          1.5289999999999992,
          1.5224268292682919,
          1.5277012048192764,
          1.5212999999999992,
          1.5264635294117639,
          1.520225581395348,
          1.5252827586206887,
          1.5302249999999988,
          1.5241550561797743,
          1.5289999999999988,
          1.523076923076922,
          1.5172826086956512,
          1.5220451612903216,
          1.5267063829787222,
          1.5210568421052622,
          1.5256312499999989,
          1.5301113402061843,
          1.5344999999999986,
          1.5387999999999984,
          1.5430139999999983
         ],
         "yaxis": "y"
        }
       ],
       "layout": {
        "height": 400,
        "hovermode": "x unified",
        "legend": {
         "title": {
          "text": "Agent"
         },
         "tracegroupgap": 0
        },
        "template": {
         "data": {
          "bar": [
           {
            "error_x": {
             "color": "rgb(36,36,36)"
            },
            "error_y": {
             "color": "rgb(36,36,36)"
            },
            "marker": {
             "line": {
              "color": "white",
              "width": 0.5
             },
             "pattern": {
              "fillmode": "overlay",
              "size": 10,
              "solidity": 0.2
             }
            },
            "type": "bar"
           }
          ],
          "barpolar": [
           {
            "marker": {
             "line": {
              "color": "white",
              "width": 0.5
             },
             "pattern": {
              "fillmode": "overlay",
              "size": 10,
              "solidity": 0.2
             }
            },
            "type": "barpolar"
           }
          ],
          "carpet": [
           {
            "aaxis": {
             "endlinecolor": "rgb(36,36,36)",
             "gridcolor": "white",
             "linecolor": "white",
             "minorgridcolor": "white",
             "startlinecolor": "rgb(36,36,36)"
            },
            "baxis": {
             "endlinecolor": "rgb(36,36,36)",
             "gridcolor": "white",
             "linecolor": "white",
             "minorgridcolor": "white",
             "startlinecolor": "rgb(36,36,36)"
            },
            "type": "carpet"
           }
          ],
          "choropleth": [
           {
            "colorbar": {
             "outlinewidth": 1,
             "tickcolor": "rgb(36,36,36)",
             "ticks": "outside"
            },
            "type": "choropleth"
           }
          ],
          "contour": [
           {
            "colorbar": {
             "outlinewidth": 1,
             "tickcolor": "rgb(36,36,36)",
             "ticks": "outside"
            },
            "colorscale": [
             [
              0,
              "#440154"
             ],
             [
              0.1111111111111111,
              "#482878"
             ],
             [
              0.2222222222222222,
              "#3e4989"
             ],
             [
              0.3333333333333333,
              "#31688e"
             ],
             [
              0.4444444444444444,
              "#26828e"
             ],
             [
              0.5555555555555556,
              "#1f9e89"
             ],
             [
              0.6666666666666666,
              "#35b779"
             ],
             [
              0.7777777777777778,
              "#6ece58"
             ],
             [
              0.8888888888888888,
              "#b5de2b"
             ],
             [
              1,
              "#fde725"
             ]
            ],
            "type": "contour"
           }
          ],
          "contourcarpet": [
           {
            "colorbar": {
             "outlinewidth": 1,
             "tickcolor": "rgb(36,36,36)",
             "ticks": "outside"
            },
            "type": "contourcarpet"
           }
          ],
          "heatmap": [
           {
            "colorbar": {
             "outlinewidth": 1,
             "tickcolor": "rgb(36,36,36)",
             "ticks": "outside"
            },
            "colorscale": [
             [
              0,
              "#440154"
             ],
             [
              0.1111111111111111,
              "#482878"
             ],
             [
              0.2222222222222222,
              "#3e4989"
             ],
             [
              0.3333333333333333,
              "#31688e"
             ],
             [
              0.4444444444444444,
              "#26828e"
             ],
             [
              0.5555555555555556,
              "#1f9e89"
             ],
             [
              0.6666666666666666,
              "#35b779"
             ],
             [
              0.7777777777777778,
              "#6ece58"
             ],
             [
              0.8888888888888888,
              "#b5de2b"
             ],
             [
              1,
              "#fde725"
             ]
            ],
            "type": "heatmap"
           }
          ],
          "heatmapgl": [
           {
            "colorbar": {
             "outlinewidth": 1,
             "tickcolor": "rgb(36,36,36)",
             "ticks": "outside"
            },
            "colorscale": [
             [
              0,
              "#440154"
             ],
             [
              0.1111111111111111,
              "#482878"
             ],
             [
              0.2222222222222222,
              "#3e4989"
             ],
             [
              0.3333333333333333,
              "#31688e"
             ],
             [
              0.4444444444444444,
              "#26828e"
             ],
             [
              0.5555555555555556,
              "#1f9e89"
             ],
             [
              0.6666666666666666,
              "#35b779"
             ],
             [
              0.7777777777777778,
              "#6ece58"
             ],
             [
              0.8888888888888888,
              "#b5de2b"
             ],
             [
              1,
              "#fde725"
             ]
            ],
            "type": "heatmapgl"
           }
          ],
          "histogram": [
           {
            "marker": {
             "line": {
              "color": "white",
              "width": 0.6
             }
            },
            "type": "histogram"
           }
          ],
          "histogram2d": [
           {
            "colorbar": {
             "outlinewidth": 1,
             "tickcolor": "rgb(36,36,36)",
             "ticks": "outside"
            },
            "colorscale": [
             [
              0,
              "#440154"
             ],
             [
              0.1111111111111111,
              "#482878"
             ],
             [
              0.2222222222222222,
              "#3e4989"
             ],
             [
              0.3333333333333333,
              "#31688e"
             ],
             [
              0.4444444444444444,
              "#26828e"
             ],
             [
              0.5555555555555556,
              "#1f9e89"
             ],
             [
              0.6666666666666666,
              "#35b779"
             ],
             [
              0.7777777777777778,
              "#6ece58"
             ],
             [
              0.8888888888888888,
              "#b5de2b"
             ],
             [
              1,
              "#fde725"
             ]
            ],
            "type": "histogram2d"
           }
          ],
          "histogram2dcontour": [
           {
            "colorbar": {
             "outlinewidth": 1,
             "tickcolor": "rgb(36,36,36)",
             "ticks": "outside"
            },
            "colorscale": [
             [
              0,
              "#440154"
             ],
             [
              0.1111111111111111,
              "#482878"
             ],
             [
              0.2222222222222222,
              "#3e4989"
             ],
             [
              0.3333333333333333,
              "#31688e"
             ],
             [
              0.4444444444444444,
              "#26828e"
             ],
             [
              0.5555555555555556,
              "#1f9e89"
             ],
             [
              0.6666666666666666,
              "#35b779"
             ],
             [
              0.7777777777777778,
              "#6ece58"
             ],
             [
              0.8888888888888888,
              "#b5de2b"
             ],
             [
              1,
              "#fde725"
             ]
            ],
            "type": "histogram2dcontour"
           }
          ],
          "mesh3d": [
           {
            "colorbar": {
             "outlinewidth": 1,
             "tickcolor": "rgb(36,36,36)",
             "ticks": "outside"
            },
            "type": "mesh3d"
           }
          ],
          "parcoords": [
           {
            "line": {
             "colorbar": {
              "outlinewidth": 1,
              "tickcolor": "rgb(36,36,36)",
              "ticks": "outside"
             }
            },
            "type": "parcoords"
           }
          ],
          "pie": [
           {
            "automargin": true,
            "type": "pie"
           }
          ],
          "scatter": [
           {
            "fillpattern": {
             "fillmode": "overlay",
             "size": 10,
             "solidity": 0.2
            },
            "type": "scatter"
           }
          ],
          "scatter3d": [
           {
            "line": {
             "colorbar": {
              "outlinewidth": 1,
              "tickcolor": "rgb(36,36,36)",
              "ticks": "outside"
             }
            },
            "marker": {
             "colorbar": {
              "outlinewidth": 1,
              "tickcolor": "rgb(36,36,36)",
              "ticks": "outside"
             }
            },
            "type": "scatter3d"
           }
          ],
          "scattercarpet": [
           {
            "marker": {
             "colorbar": {
              "outlinewidth": 1,
              "tickcolor": "rgb(36,36,36)",
              "ticks": "outside"
             }
            },
            "type": "scattercarpet"
           }
          ],
          "scattergeo": [
           {
            "marker": {
             "colorbar": {
              "outlinewidth": 1,
              "tickcolor": "rgb(36,36,36)",
              "ticks": "outside"
             }
            },
            "type": "scattergeo"
           }
          ],
          "scattergl": [
           {
            "marker": {
             "colorbar": {
              "outlinewidth": 1,
              "tickcolor": "rgb(36,36,36)",
              "ticks": "outside"
             }
            },
            "type": "scattergl"
           }
          ],
          "scattermapbox": [
           {
            "marker": {
             "colorbar": {
              "outlinewidth": 1,
              "tickcolor": "rgb(36,36,36)",
              "ticks": "outside"
             }
            },
            "type": "scattermapbox"
           }
          ],
          "scatterpolar": [
           {
            "marker": {
             "colorbar": {
              "outlinewidth": 1,
              "tickcolor": "rgb(36,36,36)",
              "ticks": "outside"
             }
            },
            "type": "scatterpolar"
           }
          ],
          "scatterpolargl": [
           {
            "marker": {
             "colorbar": {
              "outlinewidth": 1,
              "tickcolor": "rgb(36,36,36)",
              "ticks": "outside"
             }
            },
            "type": "scatterpolargl"
           }
          ],
          "scatterternary": [
           {
            "marker": {
             "colorbar": {
              "outlinewidth": 1,
              "tickcolor": "rgb(36,36,36)",
              "ticks": "outside"
             }
            },
            "type": "scatterternary"
           }
          ],
          "surface": [
           {
            "colorbar": {
             "outlinewidth": 1,
             "tickcolor": "rgb(36,36,36)",
             "ticks": "outside"
            },
            "colorscale": [
             [
              0,
              "#440154"
             ],
             [
              0.1111111111111111,
              "#482878"
             ],
             [
              0.2222222222222222,
              "#3e4989"
             ],
             [
              0.3333333333333333,
              "#31688e"
             ],
             [
              0.4444444444444444,
              "#26828e"
             ],
             [
              0.5555555555555556,
              "#1f9e89"
             ],
             [
              0.6666666666666666,
              "#35b779"
             ],
             [
              0.7777777777777778,
              "#6ece58"
             ],
             [
              0.8888888888888888,
              "#b5de2b"
             ],
             [
              1,
              "#fde725"
             ]
            ],
            "type": "surface"
           }
          ],
          "table": [
           {
            "cells": {
             "fill": {
              "color": "rgb(237,237,237)"
             },
             "line": {
              "color": "white"
             }
            },
            "header": {
             "fill": {
              "color": "rgb(217,217,217)"
             },
             "line": {
              "color": "white"
             }
            },
            "type": "table"
           }
          ]
         },
         "layout": {
          "annotationdefaults": {
           "arrowhead": 0,
           "arrowwidth": 1
          },
          "autotypenumbers": "strict",
          "coloraxis": {
           "colorbar": {
            "outlinewidth": 1,
            "tickcolor": "rgb(36,36,36)",
            "ticks": "outside"
           }
          },
          "colorscale": {
           "diverging": [
            [
             0,
             "rgb(103,0,31)"
            ],
            [
             0.1,
             "rgb(178,24,43)"
            ],
            [
             0.2,
             "rgb(214,96,77)"
            ],
            [
             0.3,
             "rgb(244,165,130)"
            ],
            [
             0.4,
             "rgb(253,219,199)"
            ],
            [
             0.5,
             "rgb(247,247,247)"
            ],
            [
             0.6,
             "rgb(209,229,240)"
            ],
            [
             0.7,
             "rgb(146,197,222)"
            ],
            [
             0.8,
             "rgb(67,147,195)"
            ],
            [
             0.9,
             "rgb(33,102,172)"
            ],
            [
             1,
             "rgb(5,48,97)"
            ]
           ],
           "sequential": [
            [
             0,
             "#440154"
            ],
            [
             0.1111111111111111,
             "#482878"
            ],
            [
             0.2222222222222222,
             "#3e4989"
            ],
            [
             0.3333333333333333,
             "#31688e"
            ],
            [
             0.4444444444444444,
             "#26828e"
            ],
            [
             0.5555555555555556,
             "#1f9e89"
            ],
            [
             0.6666666666666666,
             "#35b779"
            ],
            [
             0.7777777777777778,
             "#6ece58"
            ],
            [
             0.8888888888888888,
             "#b5de2b"
            ],
            [
             1,
             "#fde725"
            ]
           ],
           "sequentialminus": [
            [
             0,
             "#440154"
            ],
            [
             0.1111111111111111,
             "#482878"
            ],
            [
             0.2222222222222222,
             "#3e4989"
            ],
            [
             0.3333333333333333,
             "#31688e"
            ],
            [
             0.4444444444444444,
             "#26828e"
            ],
            [
             0.5555555555555556,
             "#1f9e89"
            ],
            [
             0.6666666666666666,
             "#35b779"
            ],
            [
             0.7777777777777778,
             "#6ece58"
            ],
            [
             0.8888888888888888,
             "#b5de2b"
            ],
            [
             1,
             "#fde725"
            ]
           ]
          },
          "colorway": [
           "#1F77B4",
           "#FF7F0E",
           "#2CA02C",
           "#D62728",
           "#9467BD",
           "#8C564B",
           "#E377C2",
           "#7F7F7F",
           "#BCBD22",
           "#17BECF"
          ],
          "font": {
           "color": "rgb(36,36,36)"
          },
          "geo": {
           "bgcolor": "white",
           "lakecolor": "white",
           "landcolor": "white",
           "showlakes": true,
           "showland": true,
           "subunitcolor": "white"
          },
          "hoverlabel": {
           "align": "left"
          },
          "hovermode": "closest",
          "mapbox": {
           "style": "light"
          },
          "paper_bgcolor": "white",
          "plot_bgcolor": "white",
          "polar": {
           "angularaxis": {
            "gridcolor": "rgb(232,232,232)",
            "linecolor": "rgb(36,36,36)",
            "showgrid": false,
            "showline": true,
            "ticks": "outside"
           },
           "bgcolor": "white",
           "radialaxis": {
            "gridcolor": "rgb(232,232,232)",
            "linecolor": "rgb(36,36,36)",
            "showgrid": false,
            "showline": true,
            "ticks": "outside"
           }
          },
          "scene": {
           "xaxis": {
            "backgroundcolor": "white",
            "gridcolor": "rgb(232,232,232)",
            "gridwidth": 2,
            "linecolor": "rgb(36,36,36)",
            "showbackground": true,
            "showgrid": false,
            "showline": true,
            "ticks": "outside",
            "zeroline": false,
            "zerolinecolor": "rgb(36,36,36)"
           },
           "yaxis": {
            "backgroundcolor": "white",
            "gridcolor": "rgb(232,232,232)",
            "gridwidth": 2,
            "linecolor": "rgb(36,36,36)",
            "showbackground": true,
            "showgrid": false,
            "showline": true,
            "ticks": "outside",
            "zeroline": false,
            "zerolinecolor": "rgb(36,36,36)"
           },
           "zaxis": {
            "backgroundcolor": "white",
            "gridcolor": "rgb(232,232,232)",
            "gridwidth": 2,
            "linecolor": "rgb(36,36,36)",
            "showbackground": true,
            "showgrid": false,
            "showline": true,
            "ticks": "outside",
            "zeroline": false,
            "zerolinecolor": "rgb(36,36,36)"
           }
          },
          "shapedefaults": {
           "fillcolor": "black",
           "line": {
            "width": 0
           },
           "opacity": 0.3
          },
          "ternary": {
           "aaxis": {
            "gridcolor": "rgb(232,232,232)",
            "linecolor": "rgb(36,36,36)",
            "showgrid": false,
            "showline": true,
            "ticks": "outside"
           },
           "baxis": {
            "gridcolor": "rgb(232,232,232)",
            "linecolor": "rgb(36,36,36)",
            "showgrid": false,
            "showline": true,
            "ticks": "outside"
           },
           "bgcolor": "white",
           "caxis": {
            "gridcolor": "rgb(232,232,232)",
            "linecolor": "rgb(36,36,36)",
            "showgrid": false,
            "showline": true,
            "ticks": "outside"
           }
          },
          "title": {
           "x": 0.05
          },
          "xaxis": {
           "automargin": true,
           "gridcolor": "rgb(232,232,232)",
           "linecolor": "rgb(36,36,36)",
           "showgrid": false,
           "showline": true,
           "ticks": "outside",
           "title": {
            "standoff": 15
           },
           "zeroline": false,
           "zerolinecolor": "rgb(36,36,36)"
          },
          "yaxis": {
           "automargin": true,
           "gridcolor": "rgb(232,232,232)",
           "linecolor": "rgb(36,36,36)",
           "showgrid": false,
           "showline": true,
           "ticks": "outside",
           "title": {
            "standoff": 15
           },
           "zeroline": false,
           "zerolinecolor": "rgb(36,36,36)"
          }
         }
        },
        "title": {
         "text": "Avg. reward on ToyGym"
        },
        "width": 700,
        "xaxis": {
         "anchor": "y",
         "domain": [
          0,
          1
         ],
         "title": {
          "text": "index"
         }
        },
        "yaxis": {
         "anchor": "x",
         "domain": [
          0,
          1
         ],
         "title": {
          "text": "value"
         }
        }
       }
      }
     },
     "metadata": {},
     "output_type": "display_data"
    }
   ],
   "source": [
    "class Cheater(Agent):\n",
    "    def __init__(self, env: DiscreteEnviroGym, config: AgentConfig = defaultConfig, gamma=0.99, seed=0):\n",
    "        super().__init__(env, config, gamma, seed)\n",
    "        # raise NotImplementedError()\n",
    "        unwrapped_env = env.unwrapped.env\n",
    "        self.optimal_policy = find_optimal_policy(unwrapped_env)#, seed=seed)\n",
    "\n",
    "    def get_action(self, obs):\n",
    "        # raise NotImplementedError()\n",
    "        return self.optimal_policy[obs]\n",
    "\n",
    "\n",
    "env_toy = gym.make(\"ToyGym-v0\")\n",
    "agents_toy: list[Agent] = [Cheater(env_toy), Random(env_toy)]\n",
    "returns_dict = {}\n",
    "for agent in agents_toy:\n",
    "    returns = agent.train(n_runs=100)\n",
    "    returns_dict[agent.name] = utils.cummean(returns)\n",
    "\n",
    "line(\n",
    "    list(returns_dict.values()),\n",
    "    names=list(returns_dict.keys()),\n",
    "    title=f\"Avg. reward on {env_toy.spec.name}\",\n",
    "    labels={\"x\": \"Episode\", \"y\": \"Avg. reward\", \"variable\": \"Agent\"},\n",
    "    template=\"simple_white\",\n",
    "    width=700,\n",
    "    height=400,\n",
    ")"
   ]
  },
  {
   "cell_type": "markdown",
   "metadata": {},
   "source": [
    "<details><summary>Solution</summary>\n",
    "\n",
    "```python\n",
    "class Cheater(Agent):\n",
    "    def __init__(self, env: DiscreteEnviroGym, config: AgentConfig = defaultConfig, gamma=0.99, seed=0):\n",
    "        super().__init__(env, config, gamma, seed)\n",
    "        self.pi_opt = find_optimal_policy(self.env.unwrapped.env, self.gamma)\n",
    "\n",
    "    def get_action(self, obs):\n",
    "        return self.pi_opt[obs]\n",
    "\n",
    "\n",
    "env_toy = gym.make(\"ToyGym-v0\")\n",
    "agents_toy: list[Agent] = [Cheater(env_toy), Random(env_toy)]\n",
    "returns_dict = {}\n",
    "for agent in agents_toy:\n",
    "    returns = agent.train(n_runs=100)\n",
    "    returns_dict[agent.name] = utils.cummean(returns)\n",
    "\n",
    "line(\n",
    "    list(returns_dict.values()),\n",
    "    names=list(returns_dict.keys()),\n",
    "    title=f\"Avg. reward on {env_toy.spec.name}\",\n",
    "    labels={\"x\": \"Episode\", \"y\": \"Avg. reward\", \"variable\": \"Agent\"},\n",
    "    template=\"simple_white\",\n",
    "    width=700,\n",
    "    height=400,\n",
    ")\n",
    "```\n",
    "</details>"
   ]
  },
  {
   "cell_type": "markdown",
   "metadata": {},
   "source": [
    "## SARSA: On-Policy TD Control\n",
    "\n",
    "Now we wish to train an agent on the same gridworld environment as before, but this time it doesn't have access to the underlying dynamics (`T` and `R`). The rough idea here is to try and estimate the Q-value function directly from samples received from the environment. Recall that the optimal Q-value function satisfies\n",
    "\n",
    "$$\n",
    "\\begin{aligned}\n",
    "Q^*(s,a) &= \\mathbb{E}_{\\pi^*} \\left[ \\sum_{i=t+1}^\\infty \\gamma^{i-t}r_i  \\mid s_t = s, a_t = a\\right] \\\\\n",
    "&= \\mathbb{E}_{\\pi^*} \\left[r + \\gamma \\max_{a'} Q^*(s', a') \\right] \\\\\n",
    "\\end{aligned}\n",
    "$$\n",
    "\n",
    "where\n",
    "* $s'$ represents the next state after $s$,\n",
    "* $a'$ the next action after $a$\n",
    "* $r$ is the reward obtained from taking action $a$ in state $s$\n",
    "* the expectation $\\mathbb{E}_{\\pi^*}$ is with respect to both the optimal policy $\\pi^*$, as well as the stochasticity in the environment itself.\n",
    "\n",
    "Intuitively, this last line of the formula says <i>\"if our policy is optimal, then (current value if next action is $a$) = (reward from action $a$) + (reward for choosing the best possible action at the next step)\"</i>.\n",
    "\n",
    "This means that, for any particular episode $s_0, a_0, r_1, s_1, a_1, r_2, s_2, a_2, r_3,\\ldots$ we have that *on average* that:\n",
    "\n",
    "$$\n",
    "Q^*(s_t, a_t) \\approx r_{t+1} + \\gamma  Q^*(s_{t+1}, a_{t+1})\n",
    "$$\n",
    "\n",
    "where $a_{t+1} = \\pi^*(s_{t+1}) = \\text{argmax}_a Q^*(s_{t+1}, a)$. Since this approximation is only valid on the assumption that future decisions are made optimally, it will not hold for non-optimal policies.\n",
    "\n",
    "Letting $Q$ denote our best current estimate of $Q^*$, the error $\\delta_t := r_{t+1} + \\gamma Q(s_{t+1}, a_{t+1}) - Q(s_t,a_t)$  in this \"guess\" is called the **TD error**, and tells us in which direction we should bump our estimate of $Q^*$.\n",
    "Of course, this estimate might be wildly inaccurate (even for the same state-action pair!), due to the stochasticity of the environment, or poor estimates of $Q$. So, we update our estimate slightly in the direction of $\\delta_t$, much like stochastic gradient descent does. The update rule for Q-learning (with learning rate $\\eta > 0$) is\n",
    "\n",
    "$$\n",
    "Q(s_t,a_t) \\leftarrow Q(s_t,a_t) + \\eta \\left( r_{t+1} + \\gamma Q(s_{t+1}, a_{t+1}) - Q(s_t,a_t) \\right)\n",
    "$$\n",
    "\n",
    "This update depends on the information $(s_t, a_t, r_{t+1}, s_{t+1}, a_{t+1})$, and so is called **SARSA** learning (recall these are the exact 5 values we store in our `Experience` dataclass). Note that SARSA learns *on-policy*, in that it only learns from data that was actually generated by the current policy $\\pi$, derived from the current estimate of $Q$, $\\pi(s) = \\text{argmax}_a Q(s,a)$.\n",
    "\n",
    "<img src=\"https://raw.githubusercontent.com/info-arena/ARENA_img/main/misc/sarsa.png\" width=\"700\">\n",
    "\n",
    "Note - we can intuitively describe this update step as \"changing your $Q$-function based on the action you *actually* took, in a way which makes it more consistent with the current policy\". On its own this wouldn't get us to the optimal value $Q^*$, instead it'd just get us to the correct value of $Q^\\pi$. This is why we have to combine it with some kind of **policy improvement**. We use an epsilon-greedy policy (see below)."
   ]
  },
  {
   "cell_type": "markdown",
   "metadata": {},
   "source": [
    "## Q-Learning: Off-Policy TD Control\n",
    "\n",
    "As mentioned at the end of the last section, what SARSA is essentially doing is estimating $Q^\\pi$ by using the rewards gathered by following policy $\\pi$. But we don't actually care about $Q^\\pi$, what we care about is $Q^*$. $Q$-Learning provides a slight modification to SARSA, by modifying the TD-error $\\delta_t$ to use the action that $\\pi$ *should* have taken in state $s_t$ (namely $\\text{argmax}_a Q(s_t,a)$) rather than the action $a_t = \\pi(s_t)$ that was actually taken.\n",
    "\n",
    "$$\n",
    "Q(s_t,a_t) \\leftarrow Q(s_t,a_t) + \\eta \\left( r_{t+1} + \\gamma \\max_a Q(s_{t+1}, a) - Q(s_t,a_t) \\right)\n",
    "$$\n",
    "\n",
    "Intuitively, if the SARSA update is \"changing your $Q$-function based on the action you *actually* took, in a way which makes it more consistent with the current policy\", then this update is \"changing your $Q$-function based on the best possible action you can take, in a way which makes it more consistent with the optimal policy\".\n",
    "\n",
    "Note that each Q-learning update depends on the information $(s_t, a_t, r_{t+1}, s_{t+1})$. This means that $Q$-learning tries to estimate $Q^*$ directly, regardless of what policy $\\pi$ generated the episode, and so Q-Learning learns *off-policy*.\n",
    "\n",
    "<img src=\"https://raw.githubusercontent.com/info-arena/ARENA_img/main/misc/qlearn.png\" width=\"700\">"
   ]
  },
  {
   "cell_type": "markdown",
   "metadata": {},
   "source": [
    "## Explore vs. Exploit\n",
    "\n",
    "Lastly, methods to learn the Q-value often have trouble exploring. If a state-action pair $(s,a)$ with low Q-value $Q^*(s,a)$ just so happens to return a high reward by chance, the greedy policy with respect to $Q$ will often choose action $a$ in state $s$ instead of exploring potentially other good actions first. To remedy this, we use instead an $\\epsilon$-greedy policy with respect to the current Q-value estimates: With probability $\\epsilon$, a random action is chosen, and with probability $1-\\epsilon$ the greedy action $\\text{argmax}_a Q(s,a)$ is chosen. The exploration probability $\\epsilon$ is a hyperparameter that for now we will set to a constant $\\epsilon = 0.1$, but more sophisticated techniques include the use of a schedule to start exploring often early, and then decay exploration as times goes on.\n",
    "\n",
    "We also have the choice of how the estimate $Q(s,a)$ is initialized. By choosing \"optimistic\" values (initial values that are much higher than what we expect $Q^*(s,a)$ to actually be), this will encourage the greedy policy to hop between different actions in each state when they discover they weren't as valuable as first thought."
   ]
  },
  {
   "cell_type": "markdown",
   "metadata": {},
   "source": [
    "### Exercise - Implement Q-learning and SARSA\n",
    "\n",
    "> ```yaml\n",
    "> Difficulty: 🔴🔴🔴⚪⚪\n",
    "> Importance: 🔵🔵🔵🔵⚪\n",
    "> \n",
    "> You should spend up to 20-30 minutes on these exercises.\n",
    "> \n",
    "> They are difficult, so you should use the hints if you need.\n",
    "> ```\n",
    "\n",
    "You should fill in the classes `EpsilonGreedy`, `QLearning` and `SARSA` below.\n",
    "\n",
    "- `EpsilonGreedy`\n",
    "    - This is simply a base class which keeps track of the current Q-value estimates, and selects an action based on an epsilon-greedy policy (i.e. with probability $\\epsilon$ a random action is taken, and with policy $1-\\epsilon$ the Q-maximizing action is taken, according to current Q-value estimates.\n",
    "    - We've already filled in the initialization for you (with optimism), all that's left is for you to implement epsilon-greedy action selection.\n",
    "- `QLearning`\n",
    "    - You should fill in the `observe` method for the `QLearning` class, to update Q-values based on observations (according to the formula above).\n",
    "- `SARSA`\n",
    "    - You should fill in the `observe` method for the `SARSA` class, to update Q-values based on observations (according to the formula above).\n",
    "\n",
    "Note that we've given the SARSA agent a slightly different `run_episode` function. Can you see what's different about this, and why we've done this? (This is pretty subtle so don't worry about it too much.)\n",
    "\n",
    "<details>\n",
    "<summary>Answer - what's different?</summary>\n",
    "\n",
    "We've reordered the `while` loop contents. Before, it looked like this:\n",
    "\n",
    "```python\n",
    "while not done:\n",
    "    act = self.get_action(obs)\n",
    "    (new_obs, reward, done, info) = self.env.step(act)\n",
    "    exp = Experience(obs, act, reward, new_obs)\n",
    "    self.observe(exp)\n",
    "    rewards.append(reward)\n",
    "    obs = new_obs\n",
    "```\n",
    "\n",
    "Now, it looks like this:\n",
    "\n",
    "```python\n",
    "while not done:\n",
    "    (new_obs, reward, done, info) = self.env.step(act)\n",
    "    new_act = self.get_action(new_obs)\n",
    "    exp = Experience(obs, act, reward, new_obs, new_act)\n",
    "    self.observe(exp)\n",
    "    rewards.append(reward)\n",
    "    obs = new_obs\n",
    "    act = new_act\n",
    "```\n",
    "\n",
    "</details>\n",
    "\n",
    "<details>\n",
    "<summary>Answer - why is it different?</summary>\n",
    "\n",
    "It's different in SARSA because the order of operations is different. We have:\n",
    "\n",
    "- **SARSA** = take action $a_t$, observe $(r_{t+1}, s_{t+1})$, then take action $a_{t+1}$, then update\n",
    "- **Q-learning** = take action $a_t$, observe $(r_{t+1}, s_{t+1})$, then update, then take action $a_{t+1}$\n",
    "\n",
    "The key point being that *the action $a_{t+1}$ has to be computed before the SARSA update step, since SARSA updates on actions taken*. Whereas Q-learning updates should happen after the action $a_t$.\n",
    "\n",
    "Don't worry if you don't fully understand this, the order of operations for these 2 algorithms can get a bit messy. All you really need to understand is this: in both cases, the code variables `exp.obs, exp.act, exp.reward, exp.new_obs` in the observe methods correspond to the pseudocode variables $S, A, R, S'$, and in the case of SARSA we also have `exp.new_action` which corresponds to $A'$.\n",
    "\n",
    "</details>\n",
    "\n",
    "#### Tips\n",
    "\n",
    "- Use `self.rng.random()` to generate random numbers in the range $[0,1)$, and `self.rng.integers(0, n)` for random integers in the range $0, 1, \\ldots, n-1$.\n",
    "- The random agent results in very long episodes, which slows evaluation. You can remove them from the experiment once you've convinced yourself that your agents are doing something intelligent and outperforming a random agent.\n",
    "- Leave $\\gamma =0.99$ for now.\n",
    "\n",
    "\n",
    "When you run the code below, you should expect to see SARSA outperform  Q-Learning (by a lot at first, then this gap will narrow). They should both be slightly worse than the cheater, and *much* better than the random agent."
   ]
  },
  {
   "cell_type": "code",
   "execution_count": 7,
   "metadata": {},
   "outputs": [
    {
     "name": "stderr",
     "output_type": "stream",
     "text": [
      "  0%|          | 0/1000 [00:00<?, ?it/s]"
     ]
    },
    {
     "name": "stderr",
     "output_type": "stream",
     "text": [
      "100%|██████████| 1000/1000 [00:00<00:00, 2746.16it/s]\n",
      "100%|██████████| 1000/1000 [00:00<00:00, 1628.19it/s]\n",
      "100%|██████████| 1000/1000 [00:00<00:00, 2154.62it/s]\n",
      "100%|██████████| 1000/1000 [00:01<00:00, 760.69it/s]\n"
     ]
    },
    {
     "data": {
      "application/vnd.plotly.v1+json": {
       "config": {
        "plotlyServerURL": "https://plot.ly"
       },
       "data": [
        {
         "hovertemplate": "Agent=wide_variable_0<br>index=%{x}<br>value=%{y}<extra></extra>",
         "legendgroup": "wide_variable_0",
         "line": {
          "color": "#1F77B4",
          "dash": "solid"
         },
         "marker": {
          "symbol": "circle"
         },
         "mode": "lines",
         "name": "Cheater",
         "orientation": "v",
         "showlegend": true,
         "type": "scatter",
         "x": [
          0,
          1,
          2,
          3,
          4,
          5,
          6,
          7,
          8,
          9,
          10,
          11,
          12,
          13,
          14,
          15,
          16,
          17,
          18,
          19,
          20,
          21,
          22,
          23,
          24,
          25,
          26,
          27,
          28,
          29,
          30,
          31,
          32,
          33,
          34,
          35,
          36,
          37,
          38,
          39,
          40,
          41,
          42,
          43,
          44,
          45,
          46,
          47,
          48,
          49,
          50,
          51,
          52,
          53,
          54,
          55,
          56,
          57,
          58,
          59,
          60,
          61,
          62,
          63,
          64,
          65,
          66,
          67,
          68,
          69,
          70,
          71,
          72,
          73,
          74,
          75,
          76,
          77,
          78,
          79,
          80,
          81,
          82,
          83,
          84,
          85,
          86,
          87,
          88,
          89,
          90,
          91,
          92,
          93,
          94,
          95,
          96,
          97,
          98,
          99,
          100,
          101,
          102,
          103,
          104,
          105,
          106,
          107,
          108,
          109,
          110,
          111,
          112,
          113,
          114,
          115,
          116,
          117,
          118,
          119,
          120,
          121,
          122,
          123,
          124,
          125,
          126,
          127,
          128,
          129,
          130,
          131,
          132,
          133,
          134,
          135,
          136,
          137,
          138,
          139,
          140,
          141,
          142,
          143,
          144,
          145,
          146,
          147,
          148,
          149,
          150,
          151,
          152,
          153,
          154,
          155,
          156,
          157,
          158,
          159,
          160,
          161,
          162,
          163,
          164,
          165,
          166,
          167,
          168,
          169,
          170,
          171,
          172,
          173,
          174,
          175,
          176,
          177,
          178,
          179,
          180,
          181,
          182,
          183,
          184,
          185,
          186,
          187,
          188,
          189,
          190,
          191,
          192,
          193,
          194,
          195,
          196,
          197,
          198,
          199,
          200,
          201,
          202,
          203,
          204,
          205,
          206,
          207,
          208,
          209,
          210,
          211,
          212,
          213,
          214,
          215,
          216,
          217,
          218,
          219,
          220,
          221,
          222,
          223,
          224,
          225,
          226,
          227,
          228,
          229,
          230,
          231,
          232,
          233,
          234,
          235,
          236,
          237,
          238,
          239,
          240,
          241,
          242,
          243,
          244,
          245,
          246,
          247,
          248,
          249,
          250,
          251,
          252,
          253,
          254,
          255,
          256,
          257,
          258,
          259,
          260,
          261,
          262,
          263,
          264,
          265,
          266,
          267,
          268,
          269,
          270,
          271,
          272,
          273,
          274,
          275,
          276,
          277,
          278,
          279,
          280,
          281,
          282,
          283,
          284,
          285,
          286,
          287,
          288,
          289,
          290,
          291,
          292,
          293,
          294,
          295,
          296,
          297,
          298,
          299,
          300,
          301,
          302,
          303,
          304,
          305,
          306,
          307,
          308,
          309,
          310,
          311,
          312,
          313,
          314,
          315,
          316,
          317,
          318,
          319,
          320,
          321,
          322,
          323,
          324,
          325,
          326,
          327,
          328,
          329,
          330,
          331,
          332,
          333,
          334,
          335,
          336,
          337,
          338,
          339,
          340,
          341,
          342,
          343,
          344,
          345,
          346,
          347,
          348,
          349,
          350,
          351,
          352,
          353,
          354,
          355,
          356,
          357,
          358,
          359,
          360,
          361,
          362,
          363,
          364,
          365,
          366,
          367,
          368,
          369,
          370,
          371,
          372,
          373,
          374,
          375,
          376,
          377,
          378,
          379,
          380,
          381,
          382,
          383,
          384,
          385,
          386,
          387,
          388,
          389,
          390,
          391,
          392,
          393,
          394,
          395,
          396,
          397,
          398,
          399,
          400,
          401,
          402,
          403,
          404,
          405,
          406,
          407,
          408,
          409,
          410,
          411,
          412,
          413,
          414,
          415,
          416,
          417,
          418,
          419,
          420,
          421,
          422,
          423,
          424,
          425,
          426,
          427,
          428,
          429,
          430,
          431,
          432,
          433,
          434,
          435,
          436,
          437,
          438,
          439,
          440,
          441,
          442,
          443,
          444,
          445,
          446,
          447,
          448,
          449,
          450,
          451,
          452,
          453,
          454,
          455,
          456,
          457,
          458,
          459,
          460,
          461,
          462,
          463,
          464,
          465,
          466,
          467,
          468,
          469,
          470,
          471,
          472,
          473,
          474,
          475,
          476,
          477,
          478,
          479,
          480,
          481,
          482,
          483,
          484,
          485,
          486,
          487,
          488,
          489,
          490,
          491,
          492,
          493,
          494,
          495,
          496,
          497,
          498,
          499,
          500,
          501,
          502,
          503,
          504,
          505,
          506,
          507,
          508,
          509,
          510,
          511,
          512,
          513,
          514,
          515,
          516,
          517,
          518,
          519,
          520,
          521,
          522,
          523,
          524,
          525,
          526,
          527,
          528,
          529,
          530,
          531,
          532,
          533,
          534,
          535,
          536,
          537,
          538,
          539,
          540,
          541,
          542,
          543,
          544,
          545,
          546,
          547,
          548,
          549,
          550,
          551,
          552,
          553,
          554,
          555,
          556,
          557,
          558,
          559,
          560,
          561,
          562,
          563,
          564,
          565,
          566,
          567,
          568,
          569,
          570,
          571,
          572,
          573,
          574,
          575,
          576,
          577,
          578,
          579,
          580,
          581,
          582,
          583,
          584,
          585,
          586,
          587,
          588,
          589,
          590,
          591,
          592,
          593,
          594,
          595,
          596,
          597,
          598,
          599,
          600,
          601,
          602,
          603,
          604,
          605,
          606,
          607,
          608,
          609,
          610,
          611,
          612,
          613,
          614,
          615,
          616,
          617,
          618,
          619,
          620,
          621,
          622,
          623,
          624,
          625,
          626,
          627,
          628,
          629,
          630,
          631,
          632,
          633,
          634,
          635,
          636,
          637,
          638,
          639,
          640,
          641,
          642,
          643,
          644,
          645,
          646,
          647,
          648,
          649,
          650,
          651,
          652,
          653,
          654,
          655,
          656,
          657,
          658,
          659,
          660,
          661,
          662,
          663,
          664,
          665,
          666,
          667,
          668,
          669,
          670,
          671,
          672,
          673,
          674,
          675,
          676,
          677,
          678,
          679,
          680,
          681,
          682,
          683,
          684,
          685,
          686,
          687,
          688,
          689,
          690,
          691,
          692,
          693,
          694,
          695,
          696,
          697,
          698,
          699,
          700,
          701,
          702,
          703,
          704,
          705,
          706,
          707,
          708,
          709,
          710,
          711,
          712,
          713,
          714,
          715,
          716,
          717,
          718,
          719,
          720,
          721,
          722,
          723,
          724,
          725,
          726,
          727,
          728,
          729,
          730,
          731,
          732,
          733,
          734,
          735,
          736,
          737,
          738,
          739,
          740,
          741,
          742,
          743,
          744,
          745,
          746,
          747,
          748,
          749,
          750,
          751,
          752,
          753,
          754,
          755,
          756,
          757,
          758,
          759,
          760,
          761,
          762,
          763,
          764,
          765,
          766,
          767,
          768,
          769,
          770,
          771,
          772,
          773,
          774,
          775,
          776,
          777,
          778,
          779,
          780,
          781,
          782,
          783,
          784,
          785,
          786,
          787,
          788,
          789,
          790,
          791,
          792,
          793,
          794,
          795,
          796,
          797,
          798,
          799,
          800,
          801,
          802,
          803,
          804,
          805,
          806,
          807,
          808,
          809,
          810,
          811,
          812,
          813,
          814,
          815,
          816,
          817,
          818,
          819,
          820,
          821,
          822,
          823,
          824,
          825,
          826,
          827,
          828,
          829,
          830,
          831,
          832,
          833,
          834,
          835,
          836,
          837,
          838,
          839,
          840,
          841,
          842,
          843,
          844,
          845,
          846,
          847,
          848,
          849,
          850,
          851,
          852,
          853,
          854,
          855,
          856,
          857,
          858,
          859,
          860,
          861,
          862,
          863,
          864,
          865,
          866,
          867,
          868,
          869,
          870,
          871,
          872,
          873,
          874,
          875,
          876,
          877,
          878,
          879,
          880,
          881,
          882,
          883,
          884,
          885,
          886,
          887,
          888,
          889,
          890,
          891,
          892,
          893,
          894,
          895,
          896,
          897,
          898,
          899,
          900,
          901,
          902,
          903,
          904,
          905,
          906,
          907,
          908,
          909,
          910,
          911,
          912,
          913,
          914,
          915,
          916,
          917,
          918,
          919,
          920,
          921,
          922,
          923,
          924,
          925,
          926,
          927,
          928,
          929,
          930,
          931,
          932,
          933,
          934,
          935,
          936,
          937,
          938,
          939,
          940,
          941,
          942,
          943,
          944,
          945,
          946,
          947,
          948,
          949,
          950,
          951,
          952,
          953,
          954,
          955,
          956,
          957,
          958,
          959,
          960,
          961,
          962,
          963,
          964,
          965,
          966,
          967,
          968,
          969,
          970,
          971,
          972,
          973,
          974,
          975,
          976,
          977,
          978,
          979,
          980,
          981,
          982,
          983,
          984,
          985,
          986,
          987,
          988,
          989,
          990,
          991,
          992,
          993,
          994,
          995,
          996,
          997,
          998,
          999
         ],
         "xaxis": "x",
         "y": [
          0.30029177320644224,
          0.4570076226730212,
          0.5404719974503474,
          0.5704356829714979,
          0.5427334180933275,
          0.5317263936267033,
          0.5568227298236027,
          0.5301860215762638,
          0.5498765466239012,
          0.35290639835389753,
          0.36008984928360194,
          0.3735748930969703,
          0.4029114589741264,
          0.39250984443843,
          0.40725741961850803,
          0.42601637758016375,
          0.4263639058743097,
          0.4446187027424036,
          0.4559717573104324,
          0.46854320679516076,
          0.484468770757296,
          0.48411524805439987,
          0.48575851444525303,
          0.49897607842670083,
          0.5111362372896329,
          0.5205136992977238,
          0.5274354418054008,
          0.5321815595814561,
          0.5197811198459037,
          0.5292210841843736,
          0.5334502988731019,
          0.5374151876437846,
          0.5454626077151851,
          0.5516240089441501,
          0.5482040189337642,
          0.5366106606072134,
          0.5412266088882346,
          0.5383502338801401,
          0.5402828810149981,
          0.5468503102396232,
          0.5484813629688908,
          0.5511443481252256,
          0.5525996765906761,
          0.5550480189303187,
          0.5573875460548661,
          0.561682387434108,
          0.5627896445555015,
          0.5628895735734745,
          0.5677893792148321,
          0.5724931926305354,
          0.5733016294836544,
          0.5767948721762763,
          0.5774916382133202,
          0.576462355562037,
          0.5788430535882726,
          0.5811387266849998,
          0.5809009637154069,
          0.5830819944617791,
          0.5836013415410642,
          0.5818195070369395,
          0.5808373901190228,
          0.5798869543920067,
          0.5775383417600803,
          0.5803104028185165,
          0.579411940852755,
          0.5813511651883951,
          0.5825299051040154,
          0.5857718189995446,
          0.5868523250942607,
          0.5859245829506858,
          0.5876355148387746,
          0.5906264111604584,
          0.5928774226445617,
          0.5678459945338369,
          0.5703407179333857,
          0.5613771137105218,
          0.5614577516807515,
          0.5621278250199675,
          0.5633708492543343,
          0.564582797882842,
          0.5651894728736662,
          0.5675036286861824,
          0.5669543123772408,
          0.5697641425870356,
          0.568669167630642,
          0.5487191790500531,
          0.5516417177966042,
          0.5539520420205064,
          0.5562104488461187,
          0.5568494824382685,
          0.5595542139499359,
          0.5572082884053158,
          0.5578159785529962,
          0.5584107391230665,
          0.5599790549955078,
          0.5620100049382629,
          0.5606689158005556,
          0.5612102888244234,
          0.5617407250195261,
          0.5631973252393808,
          0.5632407798154088,
          0.5619533639209503,
          0.56156459703865,
          0.5629668677114034,
          0.5647952808712947,
          0.5665891956696787,
          0.5674652474815037,
          0.5696459400974158,
          0.5709097456653752,
          0.5712989613605953,
          0.5712655133971504,
          0.5733343931882473,
          0.5547960876866412,
          0.5569731399876356,
          0.5426594344225257,
          0.543272055437328,
          0.5438742042980312,
          0.5456629843421157,
          0.5443347669526428,
          0.5430286865196611,
          0.5447801043955317,
          0.5461130604824945,
          0.5474243424867425,
          0.5494852756118495,
          0.5492646764073068,
          0.550897101590582,
          0.5510285121089098,
          0.5487336710414524,
          0.5503322491690381,
          0.5477505854594272,
          0.5496989019826377,
          0.550183936605039,
          0.5479817179499211,
          0.5495262592301455,
          0.5510479184173297,
          0.5508336717748789,
          0.5512927214125775,
          0.5527685006016168,
          0.5528751030247576,
          0.5399299361635159,
          0.5417955398077463,
          0.5429617736612481,
          0.5434566107135442,
          0.5442682088303595,
          0.5434934236562237,
          0.5439744513855618,
          0.5447659635498433,
          0.5452318926619363,
          0.5469617460668897,
          0.5486685347597772,
          0.5490993621596435,
          0.5507696298428038,
          0.5521041436967724,
          0.5483117234014574,
          0.5354476046265101,
          0.5365498683597055,
          0.537041419976138,
          0.5369456538689726,
          0.5365666954879953,
          0.5364750934852205,
          0.5381304037741321,
          0.5394687978835511,
          0.5404990552401243,
          0.5418066844734163,
          0.5433895533553955,
          0.5421867793221997,
          0.5428942042336533,
          0.5444423342679768,
          0.5445792804404633,
          0.5458167567290488,
          0.5446349573554573,
          0.5455812700859779,
          0.5467914954005098,
          0.5482638434154494,
          0.546357855549759,
          0.5467406147349285,
          0.546344855732435,
          0.5472496641103707,
          0.545870011088561,
          0.5452369796857393,
          0.546660974549354,
          0.5470294498108389,
          0.5484280869703425,
          0.5487829531940884,
          0.5488845925682728,
          0.5502506971781208,
          0.5505901237821929,
          0.5514242228418886,
          0.5517538484995484,
          0.5525730427022087,
          0.5531371981830084,
          0.5541883078252844,
          0.5547382478859563,
          0.5557702685128327,
          0.5551351612824114,
          0.5563996760207663,
          0.5550996359049576,
          0.5540321077632401,
          0.5543320643681464,
          0.5546290214070037,
          0.555625644432342,
          0.5566123999029738,
          0.5573551996423928,
          0.5578599620928465,
          0.5576845982535839,
          0.5579566316219625,
          0.5554961616194715,
          0.554902066412554,
          0.5547442114299294,
          0.5556975735159774,
          0.5561934463407118,
          0.5573575340938217,
          0.5585106914454939,
          0.5577120672564722,
          0.5575455477578095,
          0.5573805701063568,
          0.5574276008312962,
          0.555855529116105,
          0.5565475164124013,
          0.5565976924169731,
          0.555634485952846,
          0.5561060726806933,
          0.5561575532400543,
          0.557045020634072,
          0.5581380652090316,
          0.5585902274848101,
          0.5586298574845167,
          0.5586691398526468,
          0.5597359997222858,
          0.5603780203626455,
          0.5596300857073736,
          0.5602670282129669,
          0.5613087150017525,
          0.562341498484651,
          0.5631611101910994,
          0.5633753574874913,
          0.563784435048873,
          0.5641900749836884,
          0.5642042848683517,
          0.5648009367939211,
          0.5657892318694651,
          0.5667693592171118,
          0.5673480892080086,
          0.5675381522528102,
          0.5684991395905539,
          0.5694523140231126,
          0.5703977704440717,
          0.5709502018011722,
          0.571689157816027,
          0.571490042684939,
          0.5718439737480865,
          0.5723818974514869,
          0.5729155687935957,
          0.5734450379991525,
          0.5743451753011166,
          0.574864923628085,
          0.5744829249808691,
          0.5730884794069883,
          0.5732453712708208,
          0.57412896618901,
          0.574459225857002,
          0.5749666362430632,
          0.5747649014096068,
          0.5754474216675249,
          0.576124790829157,
          0.5760926910043038,
          0.5767625695005424,
          0.5772500253867531,
          0.5772141005244165,
          0.5775219251133443,
          0.578001182758701,
          0.578476916450783,
          0.5792992722513297,
          0.5762210284535437,
          0.5758591020638711,
          0.5754997983291963,
          0.5751430888453132,
          0.575789877192992,
          0.5766041788876407,
          0.57707130948806,
          0.576875007230252,
          0.5775064797205703,
          0.5783032061173174,
          0.5781046398107214,
          0.5785583103622802,
          0.5786812654733898,
          0.5789657444770886,
          0.5786106247785348,
          0.5787321225202686,
          0.5791758074322849,
          0.579944894176504,
          0.5803813868231769,
          0.5804951823362022,
          0.5806082037300914,
          0.581362006598803,
          0.5817878131542293,
          0.5825325681604441,
          0.5832723248109124,
          0.583530031883568,
          0.5824425612955374,
          0.5831752439822632,
          0.582822648046208,
          0.5830784371270289,
          0.5830274759437761,
          0.5834352571603704,
          0.5832341954541078,
          0.5825969671789962,
          0.5830021742563534,
          0.583101595932351,
          0.5836559464277306,
          0.5842067319681559,
          0.5849079285003093,
          0.5854511947015862,
          0.5861439617566767,
          0.5863794626385126,
          0.5863199904068027,
          0.5862608933942204,
          0.5804567765673546,
          0.5804164300496456,
          0.5808132560401311,
          0.5813557388858006,
          0.5816009904406116,
          0.5822863745259348,
          0.5818222942298074,
          0.5825027796321772,
          0.5831790902774773,
          0.5834150158103748,
          0.5840844214024163,
          0.5838954425381051,
          0.5837076090002443,
          0.583249049331303,
          0.5778663595553682,
          0.5783981430086554,
          0.5778269063978356,
          0.5783556327951556,
          0.5787396956350659,
          0.5791214791702882,
          0.578952215548613,
          0.5787839505323752,
          0.57888671383122,
          0.5788535746042024,
          0.5785548544190836,
          0.5792091552808356,
          0.5790425890592169,
          0.5787459185729398,
          0.5793939940972954,
          0.5798999199053725,
          0.5801310314560322,
          0.5807695673257857,
          0.5814044544191406,
          0.5818988868837585,
          0.5825269583698841,
          0.5824846333813525,
          0.5823135196572357,
          0.581765045277905,
          0.5823864357406076,
          0.5830043450242473,
          0.5833518210074338,
          0.5839635988040704,
          0.5829379109377248,
          0.5831522844241437,
          0.5837595434450715,
          0.5842311431862697,
          0.58405993228478,
          0.5845281249346848,
          0.5847352249745762,
          0.5845640400973813,
          0.5843937855727798,
          0.5849861602731246,
          0.585317010507535,
          0.5855191930655604,
          0.5858468316514192,
          0.5854341708657067,
          0.5857602847056513,
          0.5854694340032192,
          0.5847109827776958,
          0.5851625458193996,
          0.5857387826029462,
          0.5858126208339136,
          0.5862577198567192,
          0.5865756805578958,
          0.5864063996534092,
          0.585772777366703,
          0.5857254165855871,
          0.5857981388078053,
          0.5858704842309447,
          0.5861845159176994,
          0.5866194791485816,
          0.5859950821940735,
          0.5860661806298313,
          0.585902099285622,
          0.5863333445667812,
          0.5867623952154662,
          0.586949106749272,
          0.5865566390323895,
          0.5861661534756932,
          0.5867122841974169,
          0.5871349926529511,
          0.5875555822691091,
          0.5875056589069818,
          0.5879232264645704,
          0.5869948501970458,
          0.5870611743209727,
          0.586787981491697,
          0.5873217890682607,
          0.5875016042171934,
          0.5872293429569388,
          0.5875238807119587,
          0.5879332361368683,
          0.5875527266794142,
          0.5876164024591227,
          0.5871309381691608,
          0.587083614438529,
          0.5872605301996314,
          0.5877803362714396,
          0.5871936745588757,
          0.5877111478812765,
          0.5876630021624654,
          0.5872913108890004,
          0.5874652047667289,
          0.5875275759481372,
          0.5870538260406649,
          0.5875642899270935,
          0.5879590681336335,
          0.5876972615528334,
          0.587978255650139,
          0.5884817727329256,
          0.5887596208036547,
          0.5892589691234597,
          0.589644297682475,
          0.5852904738480061,
          0.5854641689074667,
          0.5859665150531769,
          0.5862463174309461,
          0.5866341425621393,
          0.5868031622799669,
          0.5861475298106911,
          0.5864243636399019,
          0.5861744021539194,
          0.5863429301934217,
          0.586510693933425,
          0.5867842008408268,
          0.5871638081741433,
          0.586914996154142,
          0.5868715607412522,
          0.5873561089234467,
          0.5831025488649516,
          0.5835933468585566,
          0.5840819586695619,
          0.5843560004214186,
          0.5844211167666916,
          0.584798393609022,
          0.5847603976792409,
          0.5850305306072712,
          0.5855095405400025,
          0.5856736133448158,
          0.5858369681067198,
          0.586102391204751,
          0.5858640227517855,
          0.586231601505586,
          0.5863923284861268,
          0.5860579822309202,
          0.5863200616364798,
          0.5858917966652692,
          0.5856569568257602,
          0.5859182095943852,
          0.5862801625706285,
          0.5865389672382234,
          0.5863047504025205,
          0.5866635706133662,
          0.587122841270238,
          0.5873776673417099,
          0.5877319434139262,
          0.5879844092442871,
          0.5878453060143918,
          0.5880964729072292,
          0.5884462711810086,
          0.5885966487298662,
          0.5890442132419123,
          0.5892907893539188,
          0.588963624217176,
          0.5890149931962682,
          0.5888760602394312,
          0.5888320730021972,
          0.5886008548543444,
          0.5886525474825034,
          0.5885154999004941,
          0.5887591172101346,
          0.5887158188874517,
          0.5889580330264671,
          0.589199260549845,
          0.5894395074735344,
          0.5895832949625027,
          0.5893547685988004,
          0.5891271655739414,
          0.5892707131020886,
          0.589135179222696,
          0.5895645865937348,
          0.5898007312037774,
          0.5896649504914578,
          0.5898059919865546,
          0.5894032013949375,
          0.5893598277090991,
          0.5892259994300016,
          0.5884843954052287,
          0.5877457226216604,
          0.5881702479222093,
          0.5884985550119293,
          0.5885481128058934,
          0.5886888552112444,
          0.5889211681110365,
          0.5883574388241134,
          0.5886821811451189,
          0.5890991030689611,
          0.5892374091591863,
          0.5891954495240294,
          0.5895160584214684,
          0.589652758578058,
          0.5899712508534375,
          0.5903808831594884,
          0.5907889429806794,
          0.59057036506557,
          0.5907037424546128,
          0.5910171899871421,
          0.5914209287681189,
          0.5907856966896138,
          0.5910972043799559,
          0.5914984976481757,
          0.5917175945278673,
          0.5918470457448617,
          0.591976009386651,
          0.5917593087511377,
          0.5916282600950267,
          0.5919341065171334,
          0.5918885964814344,
          0.5921928159833347,
          0.5924959024517084,
          0.5927094802296885,
          0.5928349296903661,
          0.5927035879225024,
          0.5925727317064609,
          0.5926977391009783,
          0.5929089785262159,
          0.5932951385840721,
          0.5935045066729179,
          0.5932085723357525,
          0.5929955608164799,
          0.5932043294044151,
          0.5935864345421119,
          0.5939671502065808,
          0.5939192719619558,
          0.5941248543442802,
          0.5945025310091187,
          0.594289875305661,
          0.5944088606466147,
          0.5945274179827447,
          0.5914007442515369,
          0.5916938437233084,
          0.5920718154697783,
          0.5913979657402244,
          0.5917751174055715,
          0.5918141714175539,
          0.5914514555091653,
          0.5910900258274022,
          0.5914650524188582,
          0.5917538955232418,
          0.5919578582242678,
          0.5920782259730542,
          0.5921981706366075,
          0.5919955269535496,
          0.5920335793969578,
          0.592402366932977,
          0.5923590578064242,
          0.5923158995827513,
          0.5921934551922492,
          0.5925594041415682,
          0.5925161230900545,
          0.5927971509904176,
          0.5930772081553738,
          0.5933562996059679,
          0.5934715671445719,
          0.5938315473556637,
          0.5937081834237398,
          0.5940665256610278,
          0.594341540573573,
          0.5943746155421158,
          0.5944869700974698,
          0.5944412205520969,
          0.5945530805164141,
          0.5948249401248609,
          0.594549304623094,
          0.5942746003223466,
          0.5946265488040964,
          0.5946586985066814,
          0.5949280960713761,
          0.5947297121371852,
          0.5949184408388063,
          0.5947207365419079,
          0.5949088500819132,
          0.5942751952766426,
          0.5937860381683727,
          0.5939747669205931,
          0.5939310048484499,
          0.594040931561507,
          0.5937729702838526,
          0.5939604748659008,
          0.5939930333457586,
          0.5941795591905928,
          0.5939131302897556,
          0.5940991755630592,
          0.5942075676481196,
          0.5943156055106797,
          0.594656004278199,
          0.5943909690246199,
          0.5946520410253928,
          0.5949122653897997,
          0.5949427535692969,
          0.5950485528993383,
          0.5951540103898644,
          0.5954117462593969,
          0.5955920828145427,
          0.595547057339629,
          0.5956510375678719,
          0.5955328634292117,
          0.5956365336309809,
          0.5958150707130481,
          0.5957700486503769,
          0.5960235203077807,
          0.5961257511809558,
          0.595936172641452,
          0.5961128201444054,
          0.5960676831464209,
          0.5963186824613554,
          0.5965688899803437,
          0.5968183094441543,
          0.5969181654663095,
          0.5971662535103185,
          0.5970482975879574,
          0.5973705695009653,
          0.5974689385166434,
          0.5977146191890043,
          0.597667690245436,
          0.597620907270588,
          0.5979397879270002,
          0.598257679806183,
          0.5985745874999815,
          0.5987427886738688,
          0.598837825635074,
          0.59907836866106,
          0.5991725969239429,
          0.5994856652082379,
          0.5990934004822205,
          0.5994056311859229,
          0.5992871369104766,
          0.5995247905174835,
          0.5996892355731047,
          0.5997815300996828,
          0.5995264280153074,
          0.5994086494827258,
          0.5995009496191686,
          0.5996641868315525,
          0.5996157307146139,
          0.5999224642278649,
          0.6002282738449916,
          0.6001791880759286,
          0.6004115770570458,
          0.6005719806101912,
          0.6003195141101471,
          0.6003395499218502,
          0.6004993427533177,
          0.6003822205957777,
          0.6000002962553745,
          0.5998842636829951,
          0.5999739409468704,
          0.6002035354780602,
          0.5998890407732033,
          0.5971426045866121,
          0.5973753592251273,
          0.597331487175338,
          0.5975632794728744,
          0.5978649193708583,
          0.5980255290887969,
          0.5980485128999987,
          0.5976767008399766,
          0.5979062972613781,
          0.5982052385919008,
          0.5983641840189942,
          0.5982530592966467,
          0.5985501957127619,
          0.5985053204108857,
          0.5985947870087497,
          0.5986166492704995,
          0.5989115459526488,
          0.5990678704498424,
          0.5993612692693391,
          0.5994488633358126,
          0.5996037440871314,
          0.5994924355354937,
          0.5995794660133184,
          0.5994685101690764,
          0.5994888453502042,
          0.599250149500105,
          0.5994039910328289,
          0.5994905290278604,
          0.5993163456835564,
          0.599604821185421,
          0.5996907079157598,
          0.5999100010535906,
          0.6000616100041568,
          0.6002127918872566,
          0.6000390626037212,
          0.6002566344954294,
          0.6005409590613545,
          0.6005594219648254,
          0.6007753531921474,
          0.6008585255194417,
          0.6006229130132509,
          0.6009047474658786,
          0.6009225760120174,
          0.600505033230343,
          0.6007858584963203,
          0.6009335245468863,
          0.6010807821159847,
          0.6013596485080897,
          0.6010042959775197,
          0.6006499223795408,
          0.6009282306706281,
          0.600819689660152,
          0.6006494174813226,
          0.6007956521793003,
          0.6008770900552998,
          0.6009583054234413,
          0.6009757203848549,
          0.6011207136091331,
          0.6009514218508807,
          0.6008440291242408,
          0.6010531284734617,
          0.6011334450196154,
          0.6005535199346774,
          0.6005713171673869,
          0.6002839133857775,
          0.6005570887720499,
          0.6007008891196044,
          0.5983517886633952,
          0.5984349765169141,
          0.5983936243197308,
          0.5985395508561234,
          0.5985598502161281,
          0.5987686491470812,
          0.598200382691219,
          0.5983457893014904,
          0.5986179093290149,
          0.5985766986093458,
          0.5962615705603945,
          0.5963464250888376,
          0.5963694106008095,
          0.5966423440742562,
          0.596914557406612,
          0.59693670353933,
          0.5970820509649428,
          0.5972894993204422,
          0.5975594344263209,
          0.5978286619696678,
          0.5979720809291381,
          0.5976970914311847,
          0.5979650848496818,
          0.5979254774866681,
          0.5976516228480069,
          0.5973214244617869,
          0.5975261372215768,
          0.5975471454380723,
          0.5978132502367276,
          0.5980165322538857,
          0.5977446828775821,
          0.5980095027061271,
          0.5982736400093408,
          0.598414086736491,
          0.5985541724180701,
          0.5988165933135539,
          0.5988357046966643,
          0.5989144384160474,
          0.5989929707704194,
          0.599011783671274,
          0.5992719472762851,
          0.599409690970207,
          0.5995470841712691,
          0.5996243137206512,
          0.5998214278523508,
          0.5998981139254592,
          0.6000943824515029,
          0.5999955404699512,
          0.60019119035509,
          0.6002082550231664,
          0.600283970998622,
          0.6003008760315037,
          0.6005554981093536,
          0.6008094812359416,
          0.6007678480983254,
          0.6010209297027079,
          0.601036807880754,
          0.6011108277704595,
          0.6012433588418243,
          0.6013755598233477,
          0.6016263116768011,
          0.6017577084908735,
          0.6020073640014306,
          0.6022564007870547,
          0.6022705927070454,
          0.6025186884515361,
          0.6024755619687788,
          0.6026635702148099,
          0.6026203715290999,
          0.6028668163980677,
          0.6028801538129835,
          0.6031256751579983,
          0.602861556824465,
          0.6028748517024517,
          0.603060762946703,
          0.603130684774039,
          0.6032004360603328,
          0.6033273548312763,
          0.6033400021759336,
          0.6034664429351427,
          0.6035925767993052,
          0.603776040645003,
          0.6037880835402749,
          0.6038000973112536,
          0.6039252188688548,
          0.6040500385650382,
          0.6019403037591768,
          0.6021822288449058,
          0.6017165242031687,
          0.6015126920715691,
          0.6017542596470228,
          0.6018807823863737,
          0.6020638798350741,
          0.6023039230491302,
          0.6021540272833121,
          0.6020583852663404,
          0.6022975777243565,
          0.6023111638057065,
          0.6025494878985738,
          0.6022945123672526,
          0.6024753840937132,
          0.6023800408877372,
          0.6025041788382304,
          0.6026280236648736,
          0.6028076489311885,
          0.6028753981545145,
          0.6029429879679034,
          0.6031780491453793,
          0.6031904264024147,
          0.6030951391206347,
          0.6031075844754578,
          0.6031745074638315,
          0.6032962670894637,
          0.6033628137317572,
          0.6034292052536723,
          0.6034954421969567,
          0.6035073352550295,
          0.6034656150484827,
          0.6034775151147137,
          0.6035433890711682,
          0.6034489064160442,
          0.6035690819542974,
          0.6036346219745984,
          0.6037000108068479,
          0.6039295961054575,
          0.6040486653239839,
          0.603954253496076,
          0.6041276128485489,
          0.6040333270253786,
          0.6041517318592613,
          0.6043242702089646,
          0.6044964141852972,
          0.6046681651388528,
          0.6048942904351597,
          0.6050110403856948,
          0.6049684638180413,
          0.6047214600125603,
          0.6049464981396743,
          0.6049041395674278,
          0.6051284610967965,
          0.605138183959967,
          0.6053074631300687,
          0.6054763601801476,
          0.6056990249939243,
          0.6056561051880958,
          0.6058240401085816,
          0.6059381712399258,
          0.6060520461846677,
          0.6061128922534461,
          0.6059178323053243,
          0.6056736346349546,
          0.6055295202625061,
          0.6057498891573024,
          0.6058107329146911,
          0.6057173026720735,
          0.6058304099516428,
          0.6059432658817021,
          0.6061086454417668,
          0.6060659376723394,
          0.6061781578377132,
          0.6061354676602582,
          0.6063529754860478,
          0.6063101865919333,
          0.6064216425571075,
          0.6065328530245611,
          0.606439758989379,
          0.6066557373311489,
          0.6068185194520807,
          0.6070336088496112,
          0.6069904025282188,
          0.6069977691251677,
          0.604927986016863,
          0.6050398558432692,
          0.6049990122026749,
          0.6052146778211905,
          0.6054298740912436,
          0.6052899408273331,
          0.605349698480653,
          0.6051135329888029,
          0.6052243533723524,
          0.6051836194806272,
          0.6051429736621813,
          0.605202567361828,
          0.6052620324882283,
          0.6054233344462151,
          0.6055331056115097,
          0.605745414153863,
          0.6058040407117374,
          0.6059640688327549,
          0.6059229350370265,
          0.6060824931895565,
          0.6060906653595565,
          0.6063010172662237,
          0.6064089145231486,
          0.6066184786334651,
          0.6064801110005152,
          0.6064878167038547,
          0.60669662885401,
          0.6067535610309537,
          0.6069616485060003,
          0.6071184160917991,
          0.6071747211959717,
          0.6073817035731429,
          0.6074873203032716,
          0.6076935362628673,
          0.6078487066666999,
          0.6080541080807349,
          0.608259077525445,
          0.6081208760483106,
          0.6082749467444823,
          0.6083788521954892,
          0.6082883092874771,
          0.6084919617359212,
          0.6082611499838406,
          0.6083646359932572,
          0.608517488562086,
          0.6086204919562973,
          0.6085302629064406,
          0.6087323936622551,
          0.6087375765059491,
          0.6087427485968553,
          0.6088942589604854,
          0.608899258145971,
          0.6090999621706391,
          0.6093002515175703,
          0.609401490419002,
          0.6095515406860958,
          0.6097012818898176,
          0.6099001283590667,
          0.6098096969579208,
          0.6100080238090934,
          0.6101079137816019,
          0.6102563178141003,
          0.6102598665902778,
          0.6102162330226173,
          0.6101726885940122,
          0.6103694307995284,
          0.610420355681012,
          0.610567534798954,
          0.6107144144680293,
          0.6109098063740578,
          0.6111048015452516,
          0.6112994011887147,
          0.6114449440948052,
          0.6115420653528114,
          0.6113156376982533,
          0.6114607231647197,
          0.6115100329693315,
          0.6115592433590146,
          0.6112895251520517,
          0.6111996064899712,
          0.6113923506543029,
          0.6114887446265425,
          0.6116326378109692,
          0.611588503141237,
          0.611544456829202,
          0.6115932391119078
         ],
         "yaxis": "y"
        },
        {
         "hovertemplate": "Agent=wide_variable_1<br>index=%{x}<br>value=%{y}<extra></extra>",
         "legendgroup": "wide_variable_1",
         "line": {
          "color": "#FF7F0E",
          "dash": "solid"
         },
         "marker": {
          "symbol": "circle"
         },
         "mode": "lines",
         "name": "QLearning",
         "orientation": "v",
         "showlegend": true,
         "type": "scatter",
         "x": [
          0,
          1,
          2,
          3,
          4,
          5,
          6,
          7,
          8,
          9,
          10,
          11,
          12,
          13,
          14,
          15,
          16,
          17,
          18,
          19,
          20,
          21,
          22,
          23,
          24,
          25,
          26,
          27,
          28,
          29,
          30,
          31,
          32,
          33,
          34,
          35,
          36,
          37,
          38,
          39,
          40,
          41,
          42,
          43,
          44,
          45,
          46,
          47,
          48,
          49,
          50,
          51,
          52,
          53,
          54,
          55,
          56,
          57,
          58,
          59,
          60,
          61,
          62,
          63,
          64,
          65,
          66,
          67,
          68,
          69,
          70,
          71,
          72,
          73,
          74,
          75,
          76,
          77,
          78,
          79,
          80,
          81,
          82,
          83,
          84,
          85,
          86,
          87,
          88,
          89,
          90,
          91,
          92,
          93,
          94,
          95,
          96,
          97,
          98,
          99,
          100,
          101,
          102,
          103,
          104,
          105,
          106,
          107,
          108,
          109,
          110,
          111,
          112,
          113,
          114,
          115,
          116,
          117,
          118,
          119,
          120,
          121,
          122,
          123,
          124,
          125,
          126,
          127,
          128,
          129,
          130,
          131,
          132,
          133,
          134,
          135,
          136,
          137,
          138,
          139,
          140,
          141,
          142,
          143,
          144,
          145,
          146,
          147,
          148,
          149,
          150,
          151,
          152,
          153,
          154,
          155,
          156,
          157,
          158,
          159,
          160,
          161,
          162,
          163,
          164,
          165,
          166,
          167,
          168,
          169,
          170,
          171,
          172,
          173,
          174,
          175,
          176,
          177,
          178,
          179,
          180,
          181,
          182,
          183,
          184,
          185,
          186,
          187,
          188,
          189,
          190,
          191,
          192,
          193,
          194,
          195,
          196,
          197,
          198,
          199,
          200,
          201,
          202,
          203,
          204,
          205,
          206,
          207,
          208,
          209,
          210,
          211,
          212,
          213,
          214,
          215,
          216,
          217,
          218,
          219,
          220,
          221,
          222,
          223,
          224,
          225,
          226,
          227,
          228,
          229,
          230,
          231,
          232,
          233,
          234,
          235,
          236,
          237,
          238,
          239,
          240,
          241,
          242,
          243,
          244,
          245,
          246,
          247,
          248,
          249,
          250,
          251,
          252,
          253,
          254,
          255,
          256,
          257,
          258,
          259,
          260,
          261,
          262,
          263,
          264,
          265,
          266,
          267,
          268,
          269,
          270,
          271,
          272,
          273,
          274,
          275,
          276,
          277,
          278,
          279,
          280,
          281,
          282,
          283,
          284,
          285,
          286,
          287,
          288,
          289,
          290,
          291,
          292,
          293,
          294,
          295,
          296,
          297,
          298,
          299,
          300,
          301,
          302,
          303,
          304,
          305,
          306,
          307,
          308,
          309,
          310,
          311,
          312,
          313,
          314,
          315,
          316,
          317,
          318,
          319,
          320,
          321,
          322,
          323,
          324,
          325,
          326,
          327,
          328,
          329,
          330,
          331,
          332,
          333,
          334,
          335,
          336,
          337,
          338,
          339,
          340,
          341,
          342,
          343,
          344,
          345,
          346,
          347,
          348,
          349,
          350,
          351,
          352,
          353,
          354,
          355,
          356,
          357,
          358,
          359,
          360,
          361,
          362,
          363,
          364,
          365,
          366,
          367,
          368,
          369,
          370,
          371,
          372,
          373,
          374,
          375,
          376,
          377,
          378,
          379,
          380,
          381,
          382,
          383,
          384,
          385,
          386,
          387,
          388,
          389,
          390,
          391,
          392,
          393,
          394,
          395,
          396,
          397,
          398,
          399,
          400,
          401,
          402,
          403,
          404,
          405,
          406,
          407,
          408,
          409,
          410,
          411,
          412,
          413,
          414,
          415,
          416,
          417,
          418,
          419,
          420,
          421,
          422,
          423,
          424,
          425,
          426,
          427,
          428,
          429,
          430,
          431,
          432,
          433,
          434,
          435,
          436,
          437,
          438,
          439,
          440,
          441,
          442,
          443,
          444,
          445,
          446,
          447,
          448,
          449,
          450,
          451,
          452,
          453,
          454,
          455,
          456,
          457,
          458,
          459,
          460,
          461,
          462,
          463,
          464,
          465,
          466,
          467,
          468,
          469,
          470,
          471,
          472,
          473,
          474,
          475,
          476,
          477,
          478,
          479,
          480,
          481,
          482,
          483,
          484,
          485,
          486,
          487,
          488,
          489,
          490,
          491,
          492,
          493,
          494,
          495,
          496,
          497,
          498,
          499,
          500,
          501,
          502,
          503,
          504,
          505,
          506,
          507,
          508,
          509,
          510,
          511,
          512,
          513,
          514,
          515,
          516,
          517,
          518,
          519,
          520,
          521,
          522,
          523,
          524,
          525,
          526,
          527,
          528,
          529,
          530,
          531,
          532,
          533,
          534,
          535,
          536,
          537,
          538,
          539,
          540,
          541,
          542,
          543,
          544,
          545,
          546,
          547,
          548,
          549,
          550,
          551,
          552,
          553,
          554,
          555,
          556,
          557,
          558,
          559,
          560,
          561,
          562,
          563,
          564,
          565,
          566,
          567,
          568,
          569,
          570,
          571,
          572,
          573,
          574,
          575,
          576,
          577,
          578,
          579,
          580,
          581,
          582,
          583,
          584,
          585,
          586,
          587,
          588,
          589,
          590,
          591,
          592,
          593,
          594,
          595,
          596,
          597,
          598,
          599,
          600,
          601,
          602,
          603,
          604,
          605,
          606,
          607,
          608,
          609,
          610,
          611,
          612,
          613,
          614,
          615,
          616,
          617,
          618,
          619,
          620,
          621,
          622,
          623,
          624,
          625,
          626,
          627,
          628,
          629,
          630,
          631,
          632,
          633,
          634,
          635,
          636,
          637,
          638,
          639,
          640,
          641,
          642,
          643,
          644,
          645,
          646,
          647,
          648,
          649,
          650,
          651,
          652,
          653,
          654,
          655,
          656,
          657,
          658,
          659,
          660,
          661,
          662,
          663,
          664,
          665,
          666,
          667,
          668,
          669,
          670,
          671,
          672,
          673,
          674,
          675,
          676,
          677,
          678,
          679,
          680,
          681,
          682,
          683,
          684,
          685,
          686,
          687,
          688,
          689,
          690,
          691,
          692,
          693,
          694,
          695,
          696,
          697,
          698,
          699,
          700,
          701,
          702,
          703,
          704,
          705,
          706,
          707,
          708,
          709,
          710,
          711,
          712,
          713,
          714,
          715,
          716,
          717,
          718,
          719,
          720,
          721,
          722,
          723,
          724,
          725,
          726,
          727,
          728,
          729,
          730,
          731,
          732,
          733,
          734,
          735,
          736,
          737,
          738,
          739,
          740,
          741,
          742,
          743,
          744,
          745,
          746,
          747,
          748,
          749,
          750,
          751,
          752,
          753,
          754,
          755,
          756,
          757,
          758,
          759,
          760,
          761,
          762,
          763,
          764,
          765,
          766,
          767,
          768,
          769,
          770,
          771,
          772,
          773,
          774,
          775,
          776,
          777,
          778,
          779,
          780,
          781,
          782,
          783,
          784,
          785,
          786,
          787,
          788,
          789,
          790,
          791,
          792,
          793,
          794,
          795,
          796,
          797,
          798,
          799,
          800,
          801,
          802,
          803,
          804,
          805,
          806,
          807,
          808,
          809,
          810,
          811,
          812,
          813,
          814,
          815,
          816,
          817,
          818,
          819,
          820,
          821,
          822,
          823,
          824,
          825,
          826,
          827,
          828,
          829,
          830,
          831,
          832,
          833,
          834,
          835,
          836,
          837,
          838,
          839,
          840,
          841,
          842,
          843,
          844,
          845,
          846,
          847,
          848,
          849,
          850,
          851,
          852,
          853,
          854,
          855,
          856,
          857,
          858,
          859,
          860,
          861,
          862,
          863,
          864,
          865,
          866,
          867,
          868,
          869,
          870,
          871,
          872,
          873,
          874,
          875,
          876,
          877,
          878,
          879,
          880,
          881,
          882,
          883,
          884,
          885,
          886,
          887,
          888,
          889,
          890,
          891,
          892,
          893,
          894,
          895,
          896,
          897,
          898,
          899,
          900,
          901,
          902,
          903,
          904,
          905,
          906,
          907,
          908,
          909,
          910,
          911,
          912,
          913,
          914,
          915,
          916,
          917,
          918,
          919,
          920,
          921,
          922,
          923,
          924,
          925,
          926,
          927,
          928,
          929,
          930,
          931,
          932,
          933,
          934,
          935,
          936,
          937,
          938,
          939,
          940,
          941,
          942,
          943,
          944,
          945,
          946,
          947,
          948,
          949,
          950,
          951,
          952,
          953,
          954,
          955,
          956,
          957,
          958,
          959,
          960,
          961,
          962,
          963,
          964,
          965,
          966,
          967,
          968,
          969,
          970,
          971,
          972,
          973,
          974,
          975,
          976,
          977,
          978,
          979,
          980,
          981,
          982,
          983,
          984,
          985,
          986,
          987,
          988,
          989,
          990,
          991,
          992,
          993,
          994,
          995,
          996,
          997,
          998,
          999
         ],
         "xaxis": "x",
         "y": [
          -2.0131538770480493,
          -1.6902954040255729,
          -1.7054776488134162,
          -1.8645956287382734,
          -1.7909682461205663,
          -1.7892900184063318,
          -1.5767483204995127,
          -1.6105058307127205,
          -1.5805435589503751,
          -1.4672125894191914,
          -1.4899161050429404,
          -1.3222638983690267,
          -1.162478194686794,
          -1.1845276393411814,
          -1.0615373474161058,
          -0.9509787165147868,
          -0.9061144642647688,
          -0.8138330912778372,
          -0.7362457317613748,
          -0.6640634078230561,
          -0.5942041955457676,
          -0.5455271288712518,
          -0.4991168026140659,
          -0.44486276708847977,
          -0.3949490544049406,
          -0.35615395723015053,
          -0.3167630422584783,
          -0.2818669786229987,
          -0.2704702089771611,
          -0.23468853367792242,
          -0.2058170732517007,
          -0.1830755904924594,
          -0.15319511653814244,
          -0.1264849587134912,
          -0.1237833479440121,
          -0.11671039052395808,
          -0.09443711653668894,
          -0.08058549877044328,
          -0.06278270464454473,
          -0.04113863577843112,
          -0.025166389243844994,
          -0.01105323146617716,
          0.003476459315352544,
          0.018404874774888842,
          0.0326698051028902,
          0.04837155389413171,
          0.0604003181121204,
          0.07096669143099714,
          0.08590573956505843,
          0.10024722577375725,
          0.11031538746720514,
          0.12271221173706658,
          0.12854640318694543,
          0.1358309211842987,
          0.14536720879067416,
          0.15540352197307286,
          0.154972637713509,
          0.16449726028750022,
          0.1721112638782138,
          0.1771875973351366,
          0.1813636098145712,
          0.18685629957633654,
          0.19074626876688114,
          0.19956195596583612,
          0.20452116241319285,
          0.20933008987729632,
          0.21606138315576875,
          0.2246925400211251,
          0.23100607914451388,
          0.23516185480022114,
          0.24181310680310536,
          0.24960709212528442,
          0.2565296011304175,
          0.25950475883532514,
          0.2661106987108541,
          0.26115012105670776,
          0.26512981087958437,
          0.2695989603829179,
          0.2745448816380069,
          0.27936715486171865,
          0.2834950106305814,
          0.28924446476313526,
          0.2920476685014592,
          0.2981301968526323,
          0.300230915375467,
          0.2834023018211011,
          0.2893744598461459,
          0.29466509381948514,
          0.2998368371417381,
          0.3033244664194921,
          0.308815187118179,
          0.30919468577825193,
          0.3124691888574062,
          0.2926952699630901,
          0.29706059077405755,
          0.30183027471911944,
          0.30317145084140323,
          0.30634034901791546,
          0.30897919637549415,
          0.31296341188178917,
          0.31548442995640713,
          0.3166259978840958,
          0.31861905008953195,
          0.32145659260924414,
          0.3255851036272513,
          0.3296357182109565,
          0.3327262885037041,
          0.3370804899990402,
          0.34047792354955353,
          0.3409063525626925,
          0.3425370194318937,
          0.34664811791910893,
          0.33011588564997313,
          0.3342638169162015,
          0.33107953518839345,
          0.33272462863542474,
          0.32995051170431194,
          0.3159792457240714,
          0.31079036018808254,
          0.31143048314480554,
          0.3143139232802613,
          0.31564488514922295,
          0.316229927668293,
          0.31473487276111267,
          0.31675768367836943,
          0.32023540245473153,
          0.32218304682452265,
          0.32167606095459966,
          0.32503477559448646,
          0.3241861693739107,
          0.3278410844931938,
          0.3300068601571817,
          0.32946010824227345,
          0.3326354078038983,
          0.335763665890536,
          0.3371323916931352,
          0.33915130468909477,
          0.3421643405210578,
          0.34378608078650497,
          0.34441563991360596,
          0.3476678697723747,
          0.3502011998937312,
          0.3520440129863596,
          0.35322364050064897,
          0.3413570158695886,
          0.3422839628245475,
          0.3444475191286999,
          0.3456465924794791,
          0.34871594454337523,
          0.3517443719130861,
          0.3534793328417385,
          0.3564365744019902,
          0.3590412389451144,
          0.3559897165947938,
          0.35223234059107356,
          0.35450906114500896,
          0.35616010834879613,
          0.3566396289198838,
          0.35548195079617656,
          0.35652212844772563,
          0.3592951590163733,
          0.36173747438972903,
          0.3638581079640558,
          0.366242816144153,
          0.3688897084705521,
          0.36873813832220476,
          0.3688511142304241,
          0.37143521503857635,
          0.3725958719757339,
          0.37484501537293546,
          0.3741575524495521,
          0.376095012883014,
          0.37828492754553994,
          0.38072570411137013,
          0.37977707704170305,
          0.3811063179229411,
          0.38164634590808594,
          0.3834764268131247,
          0.38049731676962,
          0.3805368045375379,
          0.38287074512020347,
          0.3841391666972331,
          0.3864279146934231,
          0.38766321663606534,
          0.38863577350515793,
          0.39086343090566783,
          0.3920551958320525,
          0.3937325657851001,
          0.39489653883459475,
          0.39604825953620004,
          0.3974319164995443,
          0.3983181369209956,
          0.3996756944474928,
          0.40150700658693866,
          0.40166299300741926,
          0.40371052901248344,
          0.40275116575312886,
          0.40245307432934985,
          0.4035147346198536,
          0.40433509213384533,
          0.4060794461505923,
          0.4078065293354904,
          0.40928236292006925,
          0.4105129726093579,
          0.41018719744465315,
          0.41117523761307523,
          0.4090346394517477,
          0.4091446861783289,
          0.40968423492888245,
          0.4113283588077925,
          0.4125084459202435,
          0.414350293109299,
          0.4161748459585511,
          0.40847418818904274,
          0.4090017983604612,
          0.4095245232525147,
          0.4098340474370357,
          0.40855427253676463,
          0.40991886831059215,
          0.4106355381701722,
          0.410332793942456,
          0.41145889279647624,
          0.4121590154180983,
          0.4136893334273925,
          0.4154195143899374,
          0.4165031746781897,
          0.4171687388312294,
          0.41782846470222484,
          0.41951034935418025,
          0.42076204673527073,
          0.42042857061886213,
          0.42166551965500926,
          0.42330206270370024,
          0.42492461820496646,
          0.426328982593456,
          0.4271230270406854,
          0.4281070089499439,
          0.42908272210366244,
          0.4296622347200412,
          0.42948699672118623,
          0.4306401658095008,
          0.4321787603722715,
          0.4333113611403074,
          0.43405075503784546,
          0.43555658889483384,
          0.4370501802001394,
          0.4385316776487218,
          0.4390520589381149,
          0.44032072637009034,
          0.440647084964786,
          0.44079068730075727,
          0.44184866372815507,
          0.4428982767055339,
          0.44375429427572843,
          0.4451630227295491,
          0.4461873888400001,
          0.4463060809896249,
          0.4454084448885784,
          0.4448481488589176,
          0.4462255792479218,
          0.4465155593084432,
          0.4475113042996514,
          0.44779419050020036,
          0.44895766042065416,
          0.4501123494360479,
          0.4505539805938755,
          0.4516940415261082,
          0.4526481710241637,
          0.4530754500813906,
          0.45384304744973714,
          0.45426276401788646,
          0.45519341836710375,
          0.45646736207271876,
          0.4537010646452322,
          0.4537846653966807,
          0.4537054613864777,
          0.4537884426496802,
          0.4547007171257785,
          0.455949030146833,
          0.4560231095795,
          0.45609666175641844,
          0.4571564262519631,
          0.4583784178553131,
          0.4586021219299212,
          0.45947509956176363,
          0.46001442953581206,
          0.46071238183546065,
          0.4543646411658824,
          0.45491605580592986,
          0.45578669267213356,
          0.4568147461320232,
          0.45719410055423615,
          0.4574149752111979,
          0.45732827243354296,
          0.45849997337444626,
          0.4593408543664414,
          0.46049788869517394,
          0.46164715769284115,
          0.46231163789967095,
          0.46040095509665785,
          0.4591688412524369,
          0.45741129775172057,
          0.45553570533998466,
          0.45393220439550536,
          0.45476324879750374,
          0.44822389443147165,
          0.44719008083129724,
          0.4480349206565366,
          0.448127659655362,
          0.44911740994518345,
          0.44979653962232097,
          0.4509285380530187,
          0.4515975418916191,
          0.4527165944652127,
          0.4506816642343247,
          0.4464631367350262,
          0.4468452285352886,
          0.44147952574885974,
          0.4410369309133036,
          0.4418693178385902,
          0.4428446478437659,
          0.4435200580664094,
          0.4446329372984019,
          0.4444569255011687,
          0.44556007357654975,
          0.4466564538723272,
          0.4473098798223658,
          0.4483942400972976,
          0.44861769339500807,
          0.44883979243030814,
          0.44878868840055086,
          0.44372677693935575,
          0.43910847451788787,
          0.4379394052561765,
          0.43805508246822844,
          0.438856706469826,
          0.4396535730589512,
          0.4398969363784337,
          0.43910835782643365,
          0.438700073754022,
          0.43907803904335974,
          0.4391880192546177,
          0.44024863742005615,
          0.4411634676877304,
          0.441266446828617,
          0.4423118618666846,
          0.44321283704718406,
          0.4438367275715742,
          0.4448657915326872,
          0.44588897512830805,
          0.4467694915795095,
          0.4477814533932041,
          0.4481208437162211,
          0.4478259516826863,
          0.4476563155230022,
          0.4486544159007466,
          0.4496469246797361,
          0.4503669074236615,
          0.45134911673445904,
          0.45045882229680206,
          0.45104017386809886,
          0.4520123834706732,
          0.4528469230465116,
          0.45303665780474656,
          0.4537335457203637,
          0.45429800799854564,
          0.4544822378815033,
          0.45466546651509715,
          0.45560940847576087,
          0.456289925606921,
          0.456839890064948,
          0.45751344075564715,
          0.4569766456208448,
          0.45764622877962596,
          0.4576970155596632,
          0.4572783845959579,
          0.45806796513946996,
          0.4589804309724343,
          0.4593887239570443,
          0.4599175082085651,
          0.4603211984026098,
          0.460482426613713,
          0.46017758754643157,
          0.46045729757213927,
          0.4608553915320548,
          0.46125142282896553,
          0.46188746759427834,
          0.462642784042489,
          0.4623370932450659,
          0.4622591118741315,
          0.4624116726495021,
          0.46315794452922276,
          0.4639004185876726,
          0.4643989625494678,
          0.46398350131062466,
          0.4639025438794884,
          0.464756643391127,
          0.46548577305471717,
          0.46621124793302615,
          0.4664646854067391,
          0.4671841007785428,
          0.4663474316700835,
          0.46659864458757266,
          0.46662362633684495,
          0.46745413602490216,
          0.4679291916985722,
          0.46795072014966566,
          0.4685376074703895,
          0.4692378828787749,
          0.46914687428292584,
          0.46949864216092263,
          0.4696258551048137,
          0.4697524520053929,
          0.47021277637140635,
          0.4705585852768719,
          0.46935068343298103,
          0.47015075385640315,
          0.4703838530993739,
          0.47029206432963955,
          0.47074452784203313,
          0.4710841452869205,
          0.4707823559944039,
          0.47156769333247855,
          0.47223604841777933,
          0.47224653129513416,
          0.4727985364963311,
          0.47357179531015703,
          0.47411812463654684,
          0.474884702551147,
          0.4755360177766095,
          0.4739958264864909,
          0.47255189107570217,
          0.47331500460670517,
          0.47374590722174725,
          0.4743923539856053,
          0.4748188089983332,
          0.47432102878431953,
          0.47485317425970924,
          0.47485736126889805,
          0.47527888258313905,
          0.475698492236091,
          0.47622270548217455,
          0.47685188729711325,
          0.47300364899978586,
          0.47321619414229915,
          0.47395557498502944,
          0.4738615454181293,
          0.4745961849372852,
          0.475327552120053,
          0.47584327033090845,
          0.47614899139922046,
          0.4767658083419213,
          0.47676564380097575,
          0.47676547998488017,
          0.47748243508381455,
          0.47788340943568103,
          0.4782826289763797,
          0.4787828868760055,
          0.47868079857906576,
          0.4792813843419374,
          0.4796741074551543,
          0.4791927540958886,
          0.47968564392938556,
          0.4794871945135784,
          0.4791018280161437,
          0.47959173985946746,
          0.48018137264242367,
          0.4806668841261044,
          0.4806584073396811,
          0.48124200700385206,
          0.48192510263654026,
          0.4824028052729141,
          0.4829790155144091,
          0.47907518440361263,
          0.4788826158364363,
          0.4793626959439333,
          0.4799404476285372,
          0.4802203284329537,
          0.4808941483109643,
          0.4813660370582435,
          0.4812632477058993,
          0.48134757784560495,
          0.4814315587921855,
          0.4815151927100612,
          0.4814129435675264,
          0.48168518745347716,
          0.48167493300551023,
          0.4821374859030502,
          0.4820348005711026,
          0.4824947310740289,
          0.4829527881329515,
          0.4803717011863878,
          0.4794959763180711,
          0.4795818354248038,
          0.475788140026474,
          0.4731775337569032,
          0.4690159929819741,
          0.46817186315893056,
          0.4641263310985339,
          0.46397328866632653,
          0.4628258505591996,
          0.45892289325599456,
          0.45719273375248637,
          0.4559120211294368,
          0.45543440518050654,
          0.4546304623661306,
          0.45485325482185457,
          0.45544399693736276,
          0.4557549585782316,
          0.45615607971736244,
          0.45664775225608584,
          0.45283309118595727,
          0.4516583984721947,
          0.4523419036308091,
          0.4527457576811084,
          0.45296831675036636,
          0.4534604491106268,
          0.4538598048836467,
          0.4544399406150848,
          0.45511021005620966,
          0.45577790648604416,
          0.4558179704033,
          0.45620900055460334,
          0.45677911744190375,
          0.4569031769801935,
          0.4564427450219035,
          0.4568296216718334,
          0.4574852096042731,
          0.4579576397316847,
          0.45833946822187954,
          0.4587198585633354,
          0.458341228858281,
          0.458460495549061,
          0.4590157198073961,
          0.459048758221389,
          0.4596008132424312,
          0.45946674304085283,
          0.4599275869143922,
          0.4602993849712021,
          0.4604134793972629,
          0.46052715203246947,
          0.4608957859577508,
          0.461349754578464,
          0.4619777514450477,
          0.4624280688680935,
          0.4621311159456363,
          0.46191465881199695,
          0.4621916821939816,
          0.46281242603333683,
          0.46343091262236713,
          0.4636199422499458,
          0.464061574142618,
          0.46467444661252283,
          0.46253296945775424,
          0.4616420477438093,
          0.46199939431177894,
          0.45921465033635384,
          0.4587009481086013,
          0.4593168320118059,
          0.4588800447527127,
          0.45949341374602337,
          0.45976784445490876,
          0.4593325835711871,
          0.4596889561881441,
          0.4602965510444482,
          0.46081714061769125,
          0.46125203233971473,
          0.46067032650668344,
          0.46102121651200545,
          0.4610487078361837,
          0.45813302891479096,
          0.45873590832228256,
          0.45892587399260704,
          0.4591151777616412,
          0.45906788938045684,
          0.4596649591037546,
          0.4598519977143516,
          0.4601182113379247,
          0.46038350539803125,
          0.46080939719390535,
          0.4610725883728136,
          0.46166005823815237,
          0.4606779771725565,
          0.4612641108589048,
          0.4617661384463254,
          0.4620254513024573,
          0.46220528228391516,
          0.459324378884255,
          0.4596656392588741,
          0.4601661216491133,
          0.4591998622165357,
          0.4563907341447526,
          0.456814022530689,
          0.4559244209844017,
          0.4563470702718313,
          0.4545961070248181,
          0.45486265202501036,
          0.4548991547328174,
          0.45524210562564227,
          0.4546325932629098,
          0.4543042342982034,
          0.45010744122836277,
          0.45000378894605175,
          0.45004797351947484,
          0.4500180171311462,
          0.45028815814601164,
          0.4505574090751609,
          0.45074989070072513,
          0.45029310731246525,
          0.44870584990744133,
          0.4488256609142115,
          0.44917125091195775,
          0.4480076117940883,
          0.4479092363921351,
          0.4465120712321338,
          0.4470127825604907,
          0.44684538593372314,
          0.4471908250172202,
          0.4475351479808999,
          0.4480309787898016,
          0.4484486434729179,
          0.44864018301302283,
          0.4489051642154732,
          0.44902215974564713,
          0.44936024707330996,
          0.44977245234476637,
          0.44946546096219797,
          0.44995190170827726,
          0.4502863609099094,
          0.450328273466074,
          0.45073567833697564,
          0.45092056846210415,
          0.451325750418728,
          0.45180465341412435,
          0.4522820480536296,
          0.45260916234841153,
          0.4530837951382884,
          0.4531916737901782,
          0.45373907343995884,
          0.45406186666823223,
          0.4545312713216359,
          0.4547073693996679,
          0.4548829197387325,
          0.45542344323292694,
          0.45559733903786537,
          0.4557706964656987,
          0.45615961462727417,
          0.4561912992826234,
          0.4566516366481355,
          0.45696498296026905,
          0.45749649612008425,
          0.4573220061932818,
          0.4578513446983456,
          0.4579492942860301,
          0.45840273085887584,
          0.4587823010054401,
          0.45908906575206027,
          0.4590477820025597,
          0.45914317288729634,
          0.45937738546192103,
          0.45975260991206185,
          0.45991550058805303,
          0.460432943347347,
          0.460948827544113,
          0.460707237988718,
          0.46114904431230846,
          0.46151823726986874,
          0.46121250466239044,
          0.46137150874722727,
          0.46173871656552246,
          0.46182839116832197,
          0.4616526481217097,
          0.46174218412010837,
          0.46203681995900275,
          0.4624707657805449,
          0.46168070651760934,
          0.45913841853523607,
          0.45923100254188615,
          0.45939058315289694,
          0.45890742511763966,
          0.4589999404626123,
          0.45598805164758954,
          0.4555730893571106,
          0.45463177427286855,
          0.45507019540458693,
          0.45550733834058604,
          0.4558739954128778,
          0.45564785846199635,
          0.45615196904478006,
          0.45631346798445166,
          0.4565412682799005,
          0.4567684101929926,
          0.45726799408881796,
          0.45762841592299114,
          0.4581253247490012,
          0.4584158440231189,
          0.45877306770028087,
          0.45860824821051666,
          0.4588968297431696,
          0.4589868490935994,
          0.45920758607369355,
          0.4591687210772647,
          0.4595218249548291,
          0.45980705920849396,
          0.4577290066881001,
          0.4582180308287685,
          0.45752475414898003,
          0.4579448466565379,
          0.45816456263042094,
          0.4585155995098218,
          0.4584781997335501,
          0.45869624084648,
          0.4591791073389814,
          0.4593955560291783,
          0.4598089192368298,
          0.46008897205847515,
          0.4600496908681296,
          0.4605273097527143,
          0.46074037812877394,
          0.4603986775576502,
          0.4608738250922442,
          0.4612152751225943,
          0.4615557806162076,
          0.4620273610987819,
          0.45915676177441245,
          0.4587620125257569,
          0.4581421926291537,
          0.45774992149539173,
          0.4565085171262094,
          0.4545475881105402,
          0.45238921076686595,
          0.45260961276327677,
          0.4495625343286268,
          0.4489611588699982,
          0.4480941553500874,
          0.4468294057843914,
          0.4469932549453599,
          0.4472823247076764,
          0.4465801709584591,
          0.445569254331409,
          0.4452577114334174,
          0.44573981701100035,
          0.4453721575093038,
          0.44323183222999024,
          0.4435232347901311,
          0.44344827752498994,
          0.4438016275510676,
          0.4440287957924961,
          0.4444439112180068,
          0.4422089647807611,
          0.4421952702318928,
          0.4426750372262652,
          0.4425436348711771,
          0.44043544722506145,
          0.44072669396984276,
          0.44095552568699853,
          0.4414337615183235,
          0.4419107355136818,
          0.44213710275561324,
          0.4423628742942764,
          0.4427736330001972,
          0.4432463448335302,
          0.44371781757948886,
          0.4440629523038678,
          0.44381880315768546,
          0.4442876820700122,
          0.44432992925283304,
          0.4432157661457217,
          0.4430863946212733,
          0.44349141261462227,
          0.4428747848657295,
          0.4433412424630537,
          0.44374435890165254,
          0.4429277816572519,
          0.44339236522930703,
          0.4438557514210218,
          0.4441949341695211,
          0.44453324498293434,
          0.44487068721916295,
          0.4450871651485481,
          0.4453627599941133,
          0.44563764999352606,
          0.44585231898732697,
          0.44630783905239413,
          0.446640441482907,
          0.4469721975968028,
          0.44724329612531377,
          0.4476337871828958,
          0.44790335999956504,
          0.4481722503534073,
          0.44820830474144796,
          0.4485956051767491,
          0.4488038370392496,
          0.4490702386796724,
          0.4492773496651566,
          0.44972169979120535,
          0.45016493486047604,
          0.45031207934989675,
          0.45075346604658023,
          0.4509571785541965,
          0.4512185637738978,
          0.4515379929300463,
          0.4517399673748901,
          0.4521768331492994,
          0.4524938814894928,
          0.45292872785240906,
          0.4533624965291718,
          0.45356096308314514,
          0.45399287790010046,
          0.4541331166155549,
          0.4545040378644876,
          0.4546433016570414,
          0.4550717601420881,
          0.4552666639651809,
          0.4556933061566346,
          0.4556098647458971,
          0.4556910159212926,
          0.45605685850512956,
          0.45608205314833894,
          0.45633113203417625,
          0.45663694155302015,
          0.4568280443882836,
          0.4571325069674048,
          0.45743623055968347,
          0.4577968536129444,
          0.45765875701516223,
          0.4575209943873868,
          0.45782278152822936,
          0.4581238405939432,
          0.45618992048443247,
          0.45660723712644874,
          0.45556402249407485,
          0.45359999119727756,
          0.45316346205673663,
          0.4534679378470938,
          0.453131934102361,
          0.4532686775949725,
          0.4532966281841117,
          0.4534878401554532,
          0.45390390231002997,
          0.45382506903141495,
          0.4541826998870784,
          0.4529473384104056,
          0.45330516176477714,
          0.453386351366291,
          0.45368660478903183,
          0.45398614923084524,
          0.4543410597264457,
          0.4544206466702826,
          0.45460806175907004,
          0.45501742954783725,
          0.45520370424571494,
          0.4552288948284205,
          0.45541448566836334,
          0.4553870118355122,
          0.4556814204046355,
          0.45592021307573266,
          0.4561584491205569,
          0.4563961304830882,
          0.45652542130510576,
          0.45634396526782506,
          0.45652654010178306,
          0.4567626932876847,
          0.4568380956971249,
          0.4571277635021051,
          0.4573624043520275,
          0.45759650393124657,
          0.45799441124238566,
          0.4582814150810078,
          0.45825111961376597,
          0.4585371697026193,
          0.4585579886264622,
          0.45837669857443464,
          0.4587160275800703,
          0.45905458097655016,
          0.45939236142007006,
          0.45978413757580544,
          0.4600661610489594,
          0.460188481954954,
          0.4601060008561357,
          0.4604951881990912,
          0.46061660662224213,
          0.4610043341911863,
          0.46117709339701035,
          0.46150904046605323,
          0.46184023821891323,
          0.46222483778123685,
          0.46234348800605324,
          0.4626726294700509,
          0.46294760488301157,
          0.4632219630672113,
          0.4634429325475563,
          0.46311720564352815,
          0.4630327402177466,
          0.463048001146323,
          0.4634273895937043,
          0.4636468983450323,
          0.4637117797222026,
          0.4639828464266329,
          0.4642533107606089,
          0.46457594887241727,
          0.46469015096614874,
          0.46495893346453065,
          0.4650724592432405,
          0.4654458377965628,
          0.46555857554448954,
          0.46582521520431375,
          0.46609126755211183,
          0.4661526747110688,
          0.46652281468391377,
          0.46683941999106643,
          0.46720799524326917,
          0.4673179385534279,
          0.46747811966238434,
          0.4672018768725016,
          0.4674641027132576,
          0.46757328715677443,
          0.46793865400083023,
          0.4683032257048554,
          0.4680738622589527,
          0.46828260588248793,
          0.4680537623354076,
          0.46831307651164766,
          0.4684205149974772,
          0.46852772118387803,
          0.4684403317603477,
          0.46859705575212685,
          0.4689056260040103,
          0.4691623484162827,
          0.4695212921814264,
          0.4696266250978999,
          0.4699327663257991,
          0.47003743242557655,
          0.47034247826826864,
          0.47049582692481556,
          0.47085104511186165,
          0.47110349943618735,
          0.4714573123898801,
          0.4713680129251356,
          0.4712789034592523,
          0.47163140202093207,
          0.47183171554270914,
          0.4721828802664178,
          0.4724824219711144,
          0.47268119902673744,
          0.4730303521461595,
          0.47327783936353945,
          0.47362562650556106,
          0.47392206973316314,
          0.4742684465544966,
          0.47461409492825635,
          0.4746162768362031,
          0.47491043630384616,
          0.4751541368391723,
          0.4752030962509051,
          0.4755459591732368,
          0.4754082194706993,
          0.47565038286060984,
          0.47594162359746006,
          0.4760370867368567,
          0.47608482168826893,
          0.4764246296179069,
          0.47656720370152234,
          0.4766616217862907,
          0.47695000378392144,
          0.47709159122528344,
          0.4774286010068498,
          0.47776491448721464,
          0.4780018967705147,
          0.4782874105362152,
          0.478572336220009,
          0.4789060890119637,
          0.47890381273476085,
          0.4792365398777436,
          0.4794705544491562,
          0.47975280823506894,
          0.4798899327631186,
          0.4799796017862833,
          0.4785246544889167,
          0.4788557314231116,
          0.47904071716022867,
          0.4793216840974382,
          0.47960207938269,
          0.4799307155316913,
          0.4802586843991718,
          0.4805859880153998,
          0.48081579020282594,
          0.4810451272036379,
          0.48095064791930137,
          0.4812274151936253,
          0.4814081410506801,
          0.4815885025410876,
          0.48131974872878,
          0.48136058436893614,
          0.4816838200127864,
          0.48191044343346134,
          0.48218430482369856,
          0.48226987790245057,
          0.48217511838002053,
          0.4821696345329341
         ],
         "yaxis": "y"
        },
        {
         "hovertemplate": "Agent=wide_variable_2<br>index=%{x}<br>value=%{y}<extra></extra>",
         "legendgroup": "wide_variable_2",
         "line": {
          "color": "#2CA02C",
          "dash": "solid"
         },
         "marker": {
          "symbol": "circle"
         },
         "mode": "lines",
         "name": "SARSA",
         "orientation": "v",
         "showlegend": true,
         "type": "scatter",
         "x": [
          0,
          1,
          2,
          3,
          4,
          5,
          6,
          7,
          8,
          9,
          10,
          11,
          12,
          13,
          14,
          15,
          16,
          17,
          18,
          19,
          20,
          21,
          22,
          23,
          24,
          25,
          26,
          27,
          28,
          29,
          30,
          31,
          32,
          33,
          34,
          35,
          36,
          37,
          38,
          39,
          40,
          41,
          42,
          43,
          44,
          45,
          46,
          47,
          48,
          49,
          50,
          51,
          52,
          53,
          54,
          55,
          56,
          57,
          58,
          59,
          60,
          61,
          62,
          63,
          64,
          65,
          66,
          67,
          68,
          69,
          70,
          71,
          72,
          73,
          74,
          75,
          76,
          77,
          78,
          79,
          80,
          81,
          82,
          83,
          84,
          85,
          86,
          87,
          88,
          89,
          90,
          91,
          92,
          93,
          94,
          95,
          96,
          97,
          98,
          99,
          100,
          101,
          102,
          103,
          104,
          105,
          106,
          107,
          108,
          109,
          110,
          111,
          112,
          113,
          114,
          115,
          116,
          117,
          118,
          119,
          120,
          121,
          122,
          123,
          124,
          125,
          126,
          127,
          128,
          129,
          130,
          131,
          132,
          133,
          134,
          135,
          136,
          137,
          138,
          139,
          140,
          141,
          142,
          143,
          144,
          145,
          146,
          147,
          148,
          149,
          150,
          151,
          152,
          153,
          154,
          155,
          156,
          157,
          158,
          159,
          160,
          161,
          162,
          163,
          164,
          165,
          166,
          167,
          168,
          169,
          170,
          171,
          172,
          173,
          174,
          175,
          176,
          177,
          178,
          179,
          180,
          181,
          182,
          183,
          184,
          185,
          186,
          187,
          188,
          189,
          190,
          191,
          192,
          193,
          194,
          195,
          196,
          197,
          198,
          199,
          200,
          201,
          202,
          203,
          204,
          205,
          206,
          207,
          208,
          209,
          210,
          211,
          212,
          213,
          214,
          215,
          216,
          217,
          218,
          219,
          220,
          221,
          222,
          223,
          224,
          225,
          226,
          227,
          228,
          229,
          230,
          231,
          232,
          233,
          234,
          235,
          236,
          237,
          238,
          239,
          240,
          241,
          242,
          243,
          244,
          245,
          246,
          247,
          248,
          249,
          250,
          251,
          252,
          253,
          254,
          255,
          256,
          257,
          258,
          259,
          260,
          261,
          262,
          263,
          264,
          265,
          266,
          267,
          268,
          269,
          270,
          271,
          272,
          273,
          274,
          275,
          276,
          277,
          278,
          279,
          280,
          281,
          282,
          283,
          284,
          285,
          286,
          287,
          288,
          289,
          290,
          291,
          292,
          293,
          294,
          295,
          296,
          297,
          298,
          299,
          300,
          301,
          302,
          303,
          304,
          305,
          306,
          307,
          308,
          309,
          310,
          311,
          312,
          313,
          314,
          315,
          316,
          317,
          318,
          319,
          320,
          321,
          322,
          323,
          324,
          325,
          326,
          327,
          328,
          329,
          330,
          331,
          332,
          333,
          334,
          335,
          336,
          337,
          338,
          339,
          340,
          341,
          342,
          343,
          344,
          345,
          346,
          347,
          348,
          349,
          350,
          351,
          352,
          353,
          354,
          355,
          356,
          357,
          358,
          359,
          360,
          361,
          362,
          363,
          364,
          365,
          366,
          367,
          368,
          369,
          370,
          371,
          372,
          373,
          374,
          375,
          376,
          377,
          378,
          379,
          380,
          381,
          382,
          383,
          384,
          385,
          386,
          387,
          388,
          389,
          390,
          391,
          392,
          393,
          394,
          395,
          396,
          397,
          398,
          399,
          400,
          401,
          402,
          403,
          404,
          405,
          406,
          407,
          408,
          409,
          410,
          411,
          412,
          413,
          414,
          415,
          416,
          417,
          418,
          419,
          420,
          421,
          422,
          423,
          424,
          425,
          426,
          427,
          428,
          429,
          430,
          431,
          432,
          433,
          434,
          435,
          436,
          437,
          438,
          439,
          440,
          441,
          442,
          443,
          444,
          445,
          446,
          447,
          448,
          449,
          450,
          451,
          452,
          453,
          454,
          455,
          456,
          457,
          458,
          459,
          460,
          461,
          462,
          463,
          464,
          465,
          466,
          467,
          468,
          469,
          470,
          471,
          472,
          473,
          474,
          475,
          476,
          477,
          478,
          479,
          480,
          481,
          482,
          483,
          484,
          485,
          486,
          487,
          488,
          489,
          490,
          491,
          492,
          493,
          494,
          495,
          496,
          497,
          498,
          499,
          500,
          501,
          502,
          503,
          504,
          505,
          506,
          507,
          508,
          509,
          510,
          511,
          512,
          513,
          514,
          515,
          516,
          517,
          518,
          519,
          520,
          521,
          522,
          523,
          524,
          525,
          526,
          527,
          528,
          529,
          530,
          531,
          532,
          533,
          534,
          535,
          536,
          537,
          538,
          539,
          540,
          541,
          542,
          543,
          544,
          545,
          546,
          547,
          548,
          549,
          550,
          551,
          552,
          553,
          554,
          555,
          556,
          557,
          558,
          559,
          560,
          561,
          562,
          563,
          564,
          565,
          566,
          567,
          568,
          569,
          570,
          571,
          572,
          573,
          574,
          575,
          576,
          577,
          578,
          579,
          580,
          581,
          582,
          583,
          584,
          585,
          586,
          587,
          588,
          589,
          590,
          591,
          592,
          593,
          594,
          595,
          596,
          597,
          598,
          599,
          600,
          601,
          602,
          603,
          604,
          605,
          606,
          607,
          608,
          609,
          610,
          611,
          612,
          613,
          614,
          615,
          616,
          617,
          618,
          619,
          620,
          621,
          622,
          623,
          624,
          625,
          626,
          627,
          628,
          629,
          630,
          631,
          632,
          633,
          634,
          635,
          636,
          637,
          638,
          639,
          640,
          641,
          642,
          643,
          644,
          645,
          646,
          647,
          648,
          649,
          650,
          651,
          652,
          653,
          654,
          655,
          656,
          657,
          658,
          659,
          660,
          661,
          662,
          663,
          664,
          665,
          666,
          667,
          668,
          669,
          670,
          671,
          672,
          673,
          674,
          675,
          676,
          677,
          678,
          679,
          680,
          681,
          682,
          683,
          684,
          685,
          686,
          687,
          688,
          689,
          690,
          691,
          692,
          693,
          694,
          695,
          696,
          697,
          698,
          699,
          700,
          701,
          702,
          703,
          704,
          705,
          706,
          707,
          708,
          709,
          710,
          711,
          712,
          713,
          714,
          715,
          716,
          717,
          718,
          719,
          720,
          721,
          722,
          723,
          724,
          725,
          726,
          727,
          728,
          729,
          730,
          731,
          732,
          733,
          734,
          735,
          736,
          737,
          738,
          739,
          740,
          741,
          742,
          743,
          744,
          745,
          746,
          747,
          748,
          749,
          750,
          751,
          752,
          753,
          754,
          755,
          756,
          757,
          758,
          759,
          760,
          761,
          762,
          763,
          764,
          765,
          766,
          767,
          768,
          769,
          770,
          771,
          772,
          773,
          774,
          775,
          776,
          777,
          778,
          779,
          780,
          781,
          782,
          783,
          784,
          785,
          786,
          787,
          788,
          789,
          790,
          791,
          792,
          793,
          794,
          795,
          796,
          797,
          798,
          799,
          800,
          801,
          802,
          803,
          804,
          805,
          806,
          807,
          808,
          809,
          810,
          811,
          812,
          813,
          814,
          815,
          816,
          817,
          818,
          819,
          820,
          821,
          822,
          823,
          824,
          825,
          826,
          827,
          828,
          829,
          830,
          831,
          832,
          833,
          834,
          835,
          836,
          837,
          838,
          839,
          840,
          841,
          842,
          843,
          844,
          845,
          846,
          847,
          848,
          849,
          850,
          851,
          852,
          853,
          854,
          855,
          856,
          857,
          858,
          859,
          860,
          861,
          862,
          863,
          864,
          865,
          866,
          867,
          868,
          869,
          870,
          871,
          872,
          873,
          874,
          875,
          876,
          877,
          878,
          879,
          880,
          881,
          882,
          883,
          884,
          885,
          886,
          887,
          888,
          889,
          890,
          891,
          892,
          893,
          894,
          895,
          896,
          897,
          898,
          899,
          900,
          901,
          902,
          903,
          904,
          905,
          906,
          907,
          908,
          909,
          910,
          911,
          912,
          913,
          914,
          915,
          916,
          917,
          918,
          919,
          920,
          921,
          922,
          923,
          924,
          925,
          926,
          927,
          928,
          929,
          930,
          931,
          932,
          933,
          934,
          935,
          936,
          937,
          938,
          939,
          940,
          941,
          942,
          943,
          944,
          945,
          946,
          947,
          948,
          949,
          950,
          951,
          952,
          953,
          954,
          955,
          956,
          957,
          958,
          959,
          960,
          961,
          962,
          963,
          964,
          965,
          966,
          967,
          968,
          969,
          970,
          971,
          972,
          973,
          974,
          975,
          976,
          977,
          978,
          979,
          980,
          981,
          982,
          983,
          984,
          985,
          986,
          987,
          988,
          989,
          990,
          991,
          992,
          993,
          994,
          995,
          996,
          997,
          998,
          999
         ],
         "xaxis": "x",
         "y": [
          -0.1108932030042665,
          -0.3830172050779321,
          -0.12614309838700824,
          0.07047436109348125,
          0.14276436059091419,
          -0.21986675588716628,
          -0.09412482796972113,
          -0.2662555269545335,
          -0.3972967669279601,
          -0.40229047659901795,
          -0.4191028900852949,
          -0.47493623257818696,
          -0.5853842412915017,
          -0.5677484491798239,
          -0.647130800368183,
          -0.5624725786573591,
          -0.5902781780300146,
          -0.6274542935588515,
          -0.5596763444486514,
          -0.5123122714764768,
          -0.4496793037871208,
          -0.4995247530335384,
          -0.45511453007364444,
          -0.49201998235605976,
          -0.5380578061649511,
          -0.4955330352579067,
          -0.5431391776496568,
          -0.5067166616159697,
          -0.4861562702503792,
          -0.45406135219891386,
          -0.4756473166478314,
          -0.4486706781589979,
          -0.41074186821478587,
          -0.3792398503397936,
          -0.36931667123813444,
          -0.35542334372657697,
          -0.33293375953684295,
          -0.3704482321018,
          -0.347567242174984,
          -0.31880355987060943,
          -0.29718429652210177,
          -0.2899143621359748,
          -0.28108996562150673,
          -0.27266667803951444,
          -0.2519334909823041,
          -0.2300447140152975,
          -0.2120921994162571,
          -0.19584889864887248,
          -0.17546463439073223,
          -0.1558957407029176,
          -0.14523886117943216,
          -0.12792753212790464,
          -0.11393411695304605,
          -0.10215921895310034,
          -0.08829583788968126,
          -0.07408697030227625,
          -0.09536358091054484,
          -0.0815228166361389,
          -0.06973898123316026,
          -0.06063181035771457,
          -0.05108193846588282,
          -0.04184012695765855,
          -0.03432005575863784,
          -0.02198770723897163,
          -0.013620044434617883,
          -0.004114839638038822,
          0.003061370972880888,
          0.014824880958573813,
          0.024179980358231434,
          0.03064442737159358,
          0.04017620652135987,
          0.050770704347452095,
          0.05976563643865137,
          0.041938421655033406,
          0.05144524602629962,
          0.049309213802213224,
          0.055446891220938016,
          0.06503064966682343,
          0.07256604320945792,
          0.07991305191352657,
          0.08593370852469544,
          0.09409244682927231,
          0.09924687969932953,
          0.10762465553624229,
          0.11196661572162275,
          0.11889026841096435,
          0.12675336934876935,
          0.1338919702595788,
          0.14087015317239251,
          0.14510393341541064,
          0.15233334128996656,
          0.15441372957860705,
          0.1583653064115685,
          0.1632095422171859,
          0.16465251306970438,
          0.1708014478241866,
          0.17349343659487174,
          0.1779855798147159,
          0.18238697266648243,
          0.1871663703351671,
          0.1909329036726229,
          0.19329556499525055,
          0.19648600004426778,
          0.20139864184196712,
          0.20667056191490074,
          0.21051068370947337,
          0.21471457208167408,
          0.22016147465499192,
          0.22334885779960853,
          0.2268977179299721,
          0.22955548961568426,
          0.2346753517619728,
          0.21913402892785586,
          0.2230041404244093,
          0.21159451311637092,
          0.21506114207346774,
          0.2184685124159133,
          0.223014967814931,
          0.22439807829543443,
          0.22575813693459615,
          0.22934961298914452,
          0.23326806490730728,
          0.23712280216013404,
          0.23660220542699134,
          0.23888467078392758,
          0.24298042934516625,
          0.24553638058983585,
          0.24562819679987133,
          0.24957642976653902,
          0.24930827236002437,
          0.2531681347809402,
          0.25589961460941485,
          0.25591006002945216,
          0.2596342405478891,
          0.2633032480216084,
          0.2652047710144203,
          0.26774870313942156,
          0.2712791491275417,
          0.2730822514722646,
          0.26213560497925503,
          0.2659713811850759,
          0.26874853159599055,
          0.2711609437676242,
          0.27386348401600835,
          0.2749535590130059,
          0.27727390088373594,
          0.2798797025072136,
          0.28213540365337836,
          0.2837446316492887,
          0.2856369090210815,
          0.2878096677172306,
          0.2911989465480383,
          0.2933069499832773,
          0.2911950309458422,
          0.29268351703679824,
          0.2953419608186456,
          0.2973698685340657,
          0.29879101098033123,
          0.2999098805420498,
          0.30129738363268715,
          0.3044134250386953,
          0.3071945165477157,
          0.30907506228754317,
          0.3117938134290826,
          0.31477069971133054,
          0.3149451476880387,
          0.317013300932631,
          0.31990596015327016,
          0.3213715239240686,
          0.3239219870156917,
          0.324037817874342,
          0.3262666721134737,
          0.32874461186715304,
          0.33092079655185325,
          0.3302567689539549,
          0.3318673752220551,
          0.33268558932415415,
          0.33479073065943976,
          0.3345979990535571,
          0.3351387010509298,
          0.33772345988490254,
          0.33923994346871955,
          0.3417740424115135,
          0.34325202844264435,
          0.3444646457884582,
          0.3469297823702407,
          0.34835648659360624,
          0.3502662964894115,
          0.35166024979972993,
          0.3535325682060734,
          0.3551388204119838,
          0.35722117160515054,
          0.3587916667757713,
          0.36034597127452994,
          0.3607130399273818,
          0.36296950426448704,
          0.36265134319312636,
          0.36255577612571105,
          0.3638179253519115,
          0.36506745308584987,
          0.36700716849089543,
          0.36892767879292065,
          0.3705950338087437,
          0.37111511340425757,
          0.37141174386853265,
          0.37170549442538753,
          0.37014478837070597,
          0.3704418055351768,
          0.37116653553282675,
          0.37299407702790854,
          0.3736998414734825,
          0.3757247481174755,
          0.3777306415535437,
          0.37757175567640044,
          0.3782430980920638,
          0.37890822437424876,
          0.3795672204602845,
          0.3788110220495476,
          0.3803114317525405,
          0.3811626808692026,
          0.38099329798673964,
          0.3822515567324523,
          0.38287782946030685,
          0.38453886704976975,
          0.38639860564065964,
          0.38761067702957247,
          0.38820230565518676,
          0.3889890772857263,
          0.3907968981272733,
          0.3919687670029589,
          0.39194987673452547,
          0.39330957876155337,
          0.39506782112738364,
          0.3968110357806854,
          0.39833503243481017,
          0.39924769531491516,
          0.40034929465761576,
          0.4010519708877022,
          0.4017487669819721,
          0.4030223168987347,
          0.4040899701046941,
          0.40573827621996394,
          0.40697968556475833,
          0.4078269961654749,
          0.40885760736290133,
          0.4104597311134586,
          0.41204888220206815,
          0.4132398171407896,
          0.4140449723817487,
          0.41447643399239775,
          0.4147243018700917,
          0.4158857163349127,
          0.4170379496577194,
          0.4179957795391258,
          0.4195055217762273,
          0.42063011249977716,
          0.4208482493044223,
          0.4200492869695975,
          0.42079706374631565,
          0.42226699830882986,
          0.42282377700273543,
          0.4239099486439655,
          0.42428257383940293,
          0.4251766805276436,
          0.4242234432699938,
          0.42511104964692975,
          0.4263464024553682,
          0.42739511269622504,
          0.42791626929370447,
          0.4287770488131165,
          0.42980518054076183,
          0.43082575247629207,
          0.432188955031324,
          0.4296476102014943,
          0.42981867806001095,
          0.4299885062963644,
          0.4301571083360656,
          0.4313254289877344,
          0.432657524403549,
          0.43363875019855413,
          0.4333187869019219,
          0.4344593240033335,
          0.4357615173814136,
          0.43574800625887566,
          0.43670117377026557,
          0.43732013285547305,
          0.4377740217215452,
          0.43822475858160304,
          0.43883202056623277,
          0.43748652856809506,
          0.43874252005067893,
          0.4396625824717554,
          0.44025664694161154,
          0.44084667015657075,
          0.442074240935701,
          0.4429706142670162,
          0.4441827672492822,
          0.44429185618902817,
          0.44485851711193986,
          0.4442332849064813,
          0.4454251346243999,
          0.4455286648782714,
          0.4462375694150922,
          0.4466367426651024,
          0.4474917066137578,
          0.4475871300277442,
          0.44739174887128524,
          0.4482359339301609,
          0.4487714923062433,
          0.4497591657165458,
          0.45074048752935436,
          0.4518694604859911,
          0.4518057381156865,
          0.4529241276439805,
          0.45358254863411057,
          0.4539433198011488,
          0.45430181480940446,
          0.4489126636384658,
          0.44928468111112957,
          0.45009129381704793,
          0.45104101018989207,
          0.4516909658710879,
          0.4527785481748926,
          0.4529919180109085,
          0.4536298713079055,
          0.45470149762291195,
          0.4551878033553789,
          0.4562481455707589,
          0.4564477268153585,
          0.4566460984766575,
          0.45643751544499034,
          0.45143678812052046,
          0.4523482399564949,
          0.45189298107400977,
          0.4526556908230575,
          0.45327375942041437,
          0.4536129655865799,
          0.45381502892816994,
          0.45401590015565035,
          0.4544856283085444,
          0.45416082899926685,
          0.4540958100799142,
          0.4551129652983401,
          0.45530714381504267,
          0.4553691267932414,
          0.45637378264065975,
          0.4572342335537991,
          0.45781783270891735,
          0.4588068361968574,
          0.45979018823629497,
          0.4606311000917472,
          0.46160368233580473,
          0.4619039162028936,
          0.4622024538334453,
          0.4619923204846042,
          0.46295015118549016,
          0.4639026158880518,
          0.4645827782654735,
          0.4655253890502493,
          0.4645957160783818,
          0.46513790727909254,
          0.46607117286671934,
          0.46622499986996263,
          0.46637798166989136,
          0.4671685906228506,
          0.46769634512807495,
          0.4678440672804345,
          0.4679909865950095,
          0.4688988160351314,
          0.4695434158485635,
          0.46980768221398034,
          0.4704463732483648,
          0.470343097069631,
          0.4708510747232816,
          0.47074727014690126,
          0.4702939310592937,
          0.4710489876068818,
          0.4719271121105673,
          0.4723012449866334,
          0.47304505815640546,
          0.47366016495128366,
          0.4737864744017882,
          0.4734468989173055,
          0.4736920534446516,
          0.4739359344419855,
          0.47429807832203114,
          0.47490041079924816,
          0.47562218873404394,
          0.47528313185772225,
          0.4751719555159862,
          0.47529149111580216,
          0.47600490631576187,
          0.47671469090401697,
          0.47718071133201423,
          0.4770661382870741,
          0.4769521438938761,
          0.47777337287651117,
          0.47846979718963556,
          0.47916273065407256,
          0.4793837894209829,
          0.4800709875757934,
          0.47941090045973334,
          0.4797441822753162,
          0.4794075111900924,
          0.4802064557303638,
          0.4806501017495869,
          0.48064037489342964,
          0.480853477497657,
          0.481407382802076,
          0.48128669249909695,
          0.4816089231064948,
          0.4813807585236995,
          0.48158948849680966,
          0.48202122098723993,
          0.4827946157559454,
          0.4823559069998168,
          0.482895582875129,
          0.48309819209652394,
          0.48297605884230943,
          0.48339832236776814,
          0.48348979992756924,
          0.4832625850343637,
          0.48401841828487346,
          0.4846574084528337,
          0.4846386646006943,
          0.48516158028708944,
          0.48590588583676836,
          0.4864233971946381,
          0.4871612914902217,
          0.4870328335067111,
          0.4829170873153415,
          0.4833277578065906,
          0.4840659848093467,
          0.4844721155806039,
          0.4849845951930738,
          0.48538675607459186,
          0.48496319776139246,
          0.48547104604733676,
          0.4854510465604262,
          0.4858484913171865,
          0.48613845726009447,
          0.48663905067580693,
          0.4860252288163122,
          0.4858035618932909,
          0.4856824850319142,
          0.48639391454977987,
          0.4823662206979373,
          0.4830818765669151,
          0.4837943446591937,
          0.48429124777551774,
          0.4845782371865246,
          0.4851764053553598,
          0.48535832551443886,
          0.4858474057379864,
          0.48654440056054027,
          0.4869255021810982,
          0.48730493596086594,
          0.48768271282456477,
          0.48765876632885463,
          0.488239834770531,
          0.48861312523639744,
          0.48849042227826817,
          0.48896323075499976,
          0.4890342375314848,
          0.48900769351806994,
          0.48947634813928653,
          0.4900448147374894,
          0.4905092504901978,
          0.4904797878479875,
          0.49104249095788544,
          0.4917047787690152,
          0.49216176175256604,
          0.492616812461345,
          0.49306994312493924,
          0.49313065982371623,
          0.49358080706569374,
          0.49383267848094303,
          0.4941809924162025,
          0.49482566685792234,
          0.49526853160822876,
          0.4951368389408118,
          0.49538286930014536,
          0.4954377916722859,
          0.49558685870895103,
          0.49554789873489874,
          0.4957910583509578,
          0.49584469144478344,
          0.496278207952079,
          0.49642403214321623,
          0.49685459686742395,
          0.497187534021533,
          0.49678733938573,
          0.49711906230692515,
          0.4971692471505225,
          0.49712787750232673,
          0.49736294926570834,
          0.49732135635228353,
          0.4979351288294878,
          0.4980747102094251,
          0.4981223815390943,
          0.4984461427326988,
          0.49822534387266326,
          0.4983632382932309,
          0.4984099588026571,
          0.4978481885217006,
          0.49728863867663725,
          0.4978915803163283,
          0.4983976013186584,
          0.4986241747387389,
          0.4989412385912805,
          0.49934918283475155,
          0.4989603988315713,
          0.4991841085261289,
          0.49977515121382116,
          0.5000869018707553,
          0.500217714536545,
          0.5006184554117258,
          0.5009267725625427,
          0.5014162204949848,
          0.5019961509363405,
          0.5025738551571921,
          0.5025242716632005,
          0.5028259972231847,
          0.5033071503763846,
          0.5038779558994773,
          0.5034091553283269,
          0.5036184804076651,
          0.5041854530773475,
          0.5045696029713507,
          0.5048634843610933,
          0.505156258852946,
          0.505102753237233,
          0.5051342872368705,
          0.5056021073909213,
          0.5054643919725843,
          0.505929850662001,
          0.5055469119702775,
          0.5059221049722008,
          0.5058678733698285,
          0.505813842625243,
          0.5058435959199171,
          0.5061286201701294,
          0.5064992870703777,
          0.5070442884728219,
          0.5074119150022387,
          0.507273659404397,
          0.5072177501025491,
          0.5073279115757529,
          0.5078664400610429,
          0.5083156833509318,
          0.5084232524145748,
          0.5087837188902821,
          0.5093157194890338,
          0.5095883025577087,
          0.5099447213765327,
          0.5102151926322133,
          0.5072398873486724,
          0.507683812728872,
          0.5081261498250635,
          0.5076022030698754,
          0.5081287232961321,
          0.5083166143083092,
          0.5081022066718731,
          0.5048239308003776,
          0.5053516407458636,
          0.5057926276871253,
          0.5061481975624655,
          0.5064196386574874,
          0.506690125653757,
          0.5066374960847042,
          0.5068250371986357,
          0.5073427907175192,
          0.5042593857467222,
          0.5043697112722824,
          0.504400216774494,
          0.5045900140928362,
          0.5046200320494241,
          0.5048087923263967,
          0.5052408155684928,
          0.5056713490752711,
          0.5059375373548919,
          0.5062836940725037,
          0.5030697650414993,
          0.5035010672409145,
          0.5039308949028958,
          0.5038080168545643,
          0.5040746586308512,
          0.5041826715199453,
          0.5044477718052,
          0.504872352275869,
          0.5047489208144559,
          0.5046259063512231,
          0.5051290330690118,
          0.5052341798776805,
          0.5056538707509953,
          0.505309303473236,
          0.5056478151039424,
          0.5055993927898783,
          0.5058577022168317,
          0.5053724659913363,
          0.505031233557418,
          0.5019208213239288,
          0.5019539714959356,
          0.5022161780655365,
          0.5020999932399417,
          0.5024387733616662,
          0.5026221089444964,
          0.5026538330663706,
          0.5026112016020474,
          0.5029469221682819,
          0.5032044996107804,
          0.5033850861672001,
          0.5038738218341378,
          0.5037566402978942,
          0.5041650851909059,
          0.5045722039641348,
          0.5047491103955376,
          0.505000854132009,
          0.5052517844799944,
          0.505654523939704,
          0.5059035935300344,
          0.5059293279054589,
          0.5061771568165816,
          0.5062023703073307,
          0.5064489692980948,
          0.5067699785276586,
          0.5063720819996629,
          0.5067679071071475,
          0.5070120387962219,
          0.5069639105938367,
          0.5072815600968655,
          0.5073769788900955,
          0.507692972204653,
          0.5080829679101662,
          0.5084717352827486,
          0.5087105010127048,
          0.5090970626272845,
          0.50883786513703,
          0.5092981815452662,
          0.5093892566325676,
          0.5097723471050597,
          0.5098623998937094,
          0.5099521725803727,
          0.5104071848123908,
          0.5108607861537668,
          0.511238633620247,
          0.5115418208124956,
          0.511488039100275,
          0.511863173476854,
          0.5118786307100341,
          0.512325791108329,
          0.5120672071708083,
          0.5123663396973538,
          0.5123809330235719,
          0.512751267857887,
          0.5130479896248796,
          0.5132721581939969,
          0.5131485293192046,
          0.5131618249879828,
          0.5133848021312357,
          0.5136783209585788,
          0.513690756085596,
          0.5141270898622391,
          0.5145621093805188,
          0.5146418449114025,
          0.5147906161234569,
          0.5150793869343738,
          0.514954903358994,
          0.5151025394857214,
          0.5153895517357502,
          0.5153992698032737,
          0.5151438081872641,
          0.5151538625213752,
          0.5153001082329749,
          0.5156551454792965,
          0.5153365606090703,
          0.512715017303076,
          0.5128639973249588,
          0.5129445897256851,
          0.5128912760221086,
          0.5132467223855122,
          0.5135314057060687,
          0.5136780998004077,
          0.5134296362975487,
          0.5137822211343406,
          0.514203792313445,
          0.5144164894709726,
          0.5144273817465148,
          0.5148461809747491,
          0.51492261583916,
          0.515065598265065,
          0.5152081674469647,
          0.5155541156173153,
          0.5158305516855973,
          0.5162437164313735,
          0.5164507322691659,
          0.5167246921181413,
          0.5164146163030815,
          0.5164878232002419,
          0.5164955697028759,
          0.5163749260350838,
          0.516254626081445,
          0.5163932730886401,
          0.5165977240352968,
          0.5164776199708222,
          0.5166813722648222,
          0.5168845481732666,
          0.5170871501384666,
          0.5173555755219174,
          0.5175569433585554,
          0.5174365037175176,
          0.5176371922509689,
          0.5180373926124683,
          0.5181067887536528,
          0.517172675383404,
          0.5171792922823713,
          0.517060387214447,
          0.517458604014984,
          0.5149491292180597,
          0.514591267726749,
          0.5148586872541807,
          0.5151253660072982,
          0.5153913070598538,
          0.5157885290804893,
          0.516052821794868,
          0.5158154612467275,
          0.5162104606810511,
          0.5162182902337474,
          0.5161640693572863,
          0.516171941008912,
          0.5162422752037263,
          0.5161270867930391,
          0.516260233294194,
          0.5165206427134186,
          0.5164664530924392,
          0.5163515861162004,
          0.5166753292144145,
          0.5168699788218948,
          0.5164040773718658,
          0.5165355900674979,
          0.5163023828796132,
          0.5166887409215543,
          0.5169454192608322,
          0.5147088933608849,
          0.5149043535570916,
          0.5149749727043585,
          0.512636631486928,
          0.5127717743220251,
          0.5130951100699263,
          0.5125854407487369,
          0.5125376455830177,
          0.512923872184636,
          0.5129964649671507,
          0.5107948385543296,
          0.5109928940523171,
          0.5109475215354404,
          0.5113332976628705,
          0.5117180559113363,
          0.5118524503991206,
          0.5121097507893916,
          0.5124288578836236,
          0.5128101586606791,
          0.5131904599599443,
          0.5134446619063384,
          0.5132801657665848,
          0.5136583640488738,
          0.5136101670570155,
          0.5134460979788095,
          0.5132253996249292,
          0.5135393280013903,
          0.5136692685255644,
          0.5140440234238474,
          0.5143556744278268,
          0.5146665201320544,
          0.5150385375899486,
          0.5154095962399614,
          0.5155361263247743,
          0.5157827389477566,
          0.5161514132880034,
          0.516158796572306,
          0.5163433906093899,
          0.5163505095153166,
          0.5162998591472173,
          0.5166655226559581,
          0.5168485305755491,
          0.5170909634208792,
          0.5172729656776951,
          0.5174545059998489,
          0.5176355861437463,
          0.5179359844517922,
          0.5179410089658152,
          0.5182402630573988,
          0.518360670635056,
          0.5185394692104967,
          0.5186591975160679,
          0.5190163845166758,
          0.5193726751885495,
          0.519433093186331,
          0.5197879704789639,
          0.5199053898560396,
          0.5200225160511502,
          0.5202561547431126,
          0.5204892115205247,
          0.5208405682848026,
          0.5210723200596103,
          0.5214220815111492,
          0.5217709761437253,
          0.5218847787377795,
          0.5222322389000319,
          0.5222882314907951,
          0.5225751143736671,
          0.5226873660457927,
          0.5230321294946908,
          0.5231435439205445,
          0.5234869015967156,
          0.5228553648885029,
          0.5229665865620049,
          0.5231920561957983,
          0.5233594978115971,
          0.5233577305887097,
          0.5235245625119085,
          0.5236342935455188,
          0.5238575820673409,
          0.5240803286267313,
          0.5243601709550625,
          0.5245247793915998,
          0.5246326375448622,
          0.5248533719765773,
          0.525073573876491,
          0.5230589914377242,
          0.5233380422897846,
          0.5229671022953494,
          0.5228578072848876,
          0.5231936852737546,
          0.5233021041801807,
          0.5235791952630993,
          0.5236317723743956,
          0.5235757574566381,
          0.5235737724954789,
          0.5238492206823889,
          0.5239560866175342,
          0.5242874689968483,
          0.5241253309731211,
          0.5243988202130818,
          0.5243958753075564,
          0.524556550087967,
          0.5247724228115997,
          0.5250438589279776,
          0.5251483107692163,
          0.5252525168414167,
          0.5255788711694527,
          0.5256823272738778,
          0.5256779052900209,
          0.5257810031434748,
          0.5237253927108902,
          0.5239399667229161,
          0.5219568867713176,
          0.5220638408335184,
          0.5222247988063955,
          0.5223311926125969,
          0.5223837536402457,
          0.5222788123466731,
          0.5224933221203212,
          0.522492647413057,
          0.5227064140021807,
          0.5228653289277381,
          0.5230238772675387,
          0.5233464074204562,
          0.523558207581083,
          0.5235563135206954,
          0.5238219782003503,
          0.5238197859948956,
          0.5217770963688431,
          0.521829509573705,
          0.5220959332764779,
          0.5223617487059568,
          0.5226817239639887,
          0.5228921100950149,
          0.522738199975447,
          0.5225846396516054,
          0.5229029091298668,
          0.5229535704998083,
          0.5232707012806692,
          0.5233730234196499,
          0.5236346926016615,
          0.5238957711083188,
          0.5242104095287152,
          0.524259256181744,
          0.5245187511123607,
          0.5247242365010041,
          0.5249292606429838,
          0.5250810515386026,
          0.5249767327334985,
          0.5248230732058267,
          0.524769294656204,
          0.5250797977313645,
          0.5250762643727387,
          0.5250727388835085,
          0.5252755509058905,
          0.5254779122348896,
          0.5257325985137632,
          0.5257283610154596,
          0.5259295485968434,
          0.5259756290048316,
          0.5262817112379754,
          0.5263782253228558,
          0.5265259083594733,
          0.5267251097236204,
          0.5266700669970747,
          0.526973704341034,
          0.5272239530184861,
          0.5275263171599132,
          0.5275701944000647,
          0.5276644540037184,
          0.5256813739720493,
          0.5258797575670634,
          0.5259252390063777,
          0.5262270416327324,
          0.5260762016690349,
          0.5260225223968877,
          0.5261683467368855,
          0.5260180612360807,
          0.5261635744303373,
          0.5262084041521856,
          0.5262531369449056,
          0.5263979248526702,
          0.5265424003809144,
          0.5265374089743012,
          0.526732095021697,
          0.5270291358335016,
          0.5271723126366181,
          0.5251968217032914,
          0.5252422551606494,
          0.52528759133009,
          0.5253821751598328,
          0.525678754085944,
          0.5258726943131788,
          0.5261681179333141,
          0.5261154269358277,
          0.5259680755401458,
          0.5255481765429489,
          0.5256912535737259,
          0.5259853031987803,
          0.5262278508113876,
          0.5263697543973384,
          0.5266621542869817,
          0.5268530081335688,
          0.5271442813844828,
          0.5273342249731241,
          0.5275237686805261,
          0.527813417767087,
          0.5277597180333963,
          0.5278988229877526,
          0.5280869801408105,
          0.5279862862962449,
          0.5282739366766881,
          0.5281269473123392,
          0.5283140807149412,
          0.528550406229837,
          0.5287367086681445,
          0.528729605303291,
          0.5288664006611201,
          0.5289545180769857,
          0.5289945924746425,
          0.5291794693187155,
          0.5290329120161027,
          0.5293162079188782,
          0.5295989184995405,
          0.529782408518638,
          0.5300145403134641,
          0.5301487444321268,
          0.5304294350757152,
          0.5304206796183342,
          0.5306512027906973,
          0.5308324843745068,
          0.5310621132322173,
          0.5310994971873719,
          0.5311368046927205,
          0.5309453769696889,
          0.5312229633707403,
          0.5313070617486901,
          0.5313440059194331,
          0.5315714792089351,
          0.5318473009272188,
          0.5321225626014042,
          0.532300329522706,
          0.5324777362273486,
          0.5326547838091074,
          0.5325081208477178,
          0.5327328098665585,
          0.5328145360646139,
          0.5329430765923059,
          0.5327525287446246,
          0.5327416211453283,
          0.5330132175562375,
          0.5328672254853927,
          0.5330899767632409,
          0.5330334650343134,
          0.533068052394057,
          0.533056894716707
         ],
         "yaxis": "y"
        },
        {
         "hovertemplate": "Agent=wide_variable_3<br>index=%{x}<br>value=%{y}<extra></extra>",
         "legendgroup": "wide_variable_3",
         "line": {
          "color": "#D62728",
          "dash": "solid"
         },
         "marker": {
          "symbol": "circle"
         },
         "mode": "lines",
         "name": "Random",
         "orientation": "v",
         "showlegend": true,
         "type": "scatter",
         "x": [
          0,
          1,
          2,
          3,
          4,
          5,
          6,
          7,
          8,
          9,
          10,
          11,
          12,
          13,
          14,
          15,
          16,
          17,
          18,
          19,
          20,
          21,
          22,
          23,
          24,
          25,
          26,
          27,
          28,
          29,
          30,
          31,
          32,
          33,
          34,
          35,
          36,
          37,
          38,
          39,
          40,
          41,
          42,
          43,
          44,
          45,
          46,
          47,
          48,
          49,
          50,
          51,
          52,
          53,
          54,
          55,
          56,
          57,
          58,
          59,
          60,
          61,
          62,
          63,
          64,
          65,
          66,
          67,
          68,
          69,
          70,
          71,
          72,
          73,
          74,
          75,
          76,
          77,
          78,
          79,
          80,
          81,
          82,
          83,
          84,
          85,
          86,
          87,
          88,
          89,
          90,
          91,
          92,
          93,
          94,
          95,
          96,
          97,
          98,
          99,
          100,
          101,
          102,
          103,
          104,
          105,
          106,
          107,
          108,
          109,
          110,
          111,
          112,
          113,
          114,
          115,
          116,
          117,
          118,
          119,
          120,
          121,
          122,
          123,
          124,
          125,
          126,
          127,
          128,
          129,
          130,
          131,
          132,
          133,
          134,
          135,
          136,
          137,
          138,
          139,
          140,
          141,
          142,
          143,
          144,
          145,
          146,
          147,
          148,
          149,
          150,
          151,
          152,
          153,
          154,
          155,
          156,
          157,
          158,
          159,
          160,
          161,
          162,
          163,
          164,
          165,
          166,
          167,
          168,
          169,
          170,
          171,
          172,
          173,
          174,
          175,
          176,
          177,
          178,
          179,
          180,
          181,
          182,
          183,
          184,
          185,
          186,
          187,
          188,
          189,
          190,
          191,
          192,
          193,
          194,
          195,
          196,
          197,
          198,
          199,
          200,
          201,
          202,
          203,
          204,
          205,
          206,
          207,
          208,
          209,
          210,
          211,
          212,
          213,
          214,
          215,
          216,
          217,
          218,
          219,
          220,
          221,
          222,
          223,
          224,
          225,
          226,
          227,
          228,
          229,
          230,
          231,
          232,
          233,
          234,
          235,
          236,
          237,
          238,
          239,
          240,
          241,
          242,
          243,
          244,
          245,
          246,
          247,
          248,
          249,
          250,
          251,
          252,
          253,
          254,
          255,
          256,
          257,
          258,
          259,
          260,
          261,
          262,
          263,
          264,
          265,
          266,
          267,
          268,
          269,
          270,
          271,
          272,
          273,
          274,
          275,
          276,
          277,
          278,
          279,
          280,
          281,
          282,
          283,
          284,
          285,
          286,
          287,
          288,
          289,
          290,
          291,
          292,
          293,
          294,
          295,
          296,
          297,
          298,
          299,
          300,
          301,
          302,
          303,
          304,
          305,
          306,
          307,
          308,
          309,
          310,
          311,
          312,
          313,
          314,
          315,
          316,
          317,
          318,
          319,
          320,
          321,
          322,
          323,
          324,
          325,
          326,
          327,
          328,
          329,
          330,
          331,
          332,
          333,
          334,
          335,
          336,
          337,
          338,
          339,
          340,
          341,
          342,
          343,
          344,
          345,
          346,
          347,
          348,
          349,
          350,
          351,
          352,
          353,
          354,
          355,
          356,
          357,
          358,
          359,
          360,
          361,
          362,
          363,
          364,
          365,
          366,
          367,
          368,
          369,
          370,
          371,
          372,
          373,
          374,
          375,
          376,
          377,
          378,
          379,
          380,
          381,
          382,
          383,
          384,
          385,
          386,
          387,
          388,
          389,
          390,
          391,
          392,
          393,
          394,
          395,
          396,
          397,
          398,
          399,
          400,
          401,
          402,
          403,
          404,
          405,
          406,
          407,
          408,
          409,
          410,
          411,
          412,
          413,
          414,
          415,
          416,
          417,
          418,
          419,
          420,
          421,
          422,
          423,
          424,
          425,
          426,
          427,
          428,
          429,
          430,
          431,
          432,
          433,
          434,
          435,
          436,
          437,
          438,
          439,
          440,
          441,
          442,
          443,
          444,
          445,
          446,
          447,
          448,
          449,
          450,
          451,
          452,
          453,
          454,
          455,
          456,
          457,
          458,
          459,
          460,
          461,
          462,
          463,
          464,
          465,
          466,
          467,
          468,
          469,
          470,
          471,
          472,
          473,
          474,
          475,
          476,
          477,
          478,
          479,
          480,
          481,
          482,
          483,
          484,
          485,
          486,
          487,
          488,
          489,
          490,
          491,
          492,
          493,
          494,
          495,
          496,
          497,
          498,
          499,
          500,
          501,
          502,
          503,
          504,
          505,
          506,
          507,
          508,
          509,
          510,
          511,
          512,
          513,
          514,
          515,
          516,
          517,
          518,
          519,
          520,
          521,
          522,
          523,
          524,
          525,
          526,
          527,
          528,
          529,
          530,
          531,
          532,
          533,
          534,
          535,
          536,
          537,
          538,
          539,
          540,
          541,
          542,
          543,
          544,
          545,
          546,
          547,
          548,
          549,
          550,
          551,
          552,
          553,
          554,
          555,
          556,
          557,
          558,
          559,
          560,
          561,
          562,
          563,
          564,
          565,
          566,
          567,
          568,
          569,
          570,
          571,
          572,
          573,
          574,
          575,
          576,
          577,
          578,
          579,
          580,
          581,
          582,
          583,
          584,
          585,
          586,
          587,
          588,
          589,
          590,
          591,
          592,
          593,
          594,
          595,
          596,
          597,
          598,
          599,
          600,
          601,
          602,
          603,
          604,
          605,
          606,
          607,
          608,
          609,
          610,
          611,
          612,
          613,
          614,
          615,
          616,
          617,
          618,
          619,
          620,
          621,
          622,
          623,
          624,
          625,
          626,
          627,
          628,
          629,
          630,
          631,
          632,
          633,
          634,
          635,
          636,
          637,
          638,
          639,
          640,
          641,
          642,
          643,
          644,
          645,
          646,
          647,
          648,
          649,
          650,
          651,
          652,
          653,
          654,
          655,
          656,
          657,
          658,
          659,
          660,
          661,
          662,
          663,
          664,
          665,
          666,
          667,
          668,
          669,
          670,
          671,
          672,
          673,
          674,
          675,
          676,
          677,
          678,
          679,
          680,
          681,
          682,
          683,
          684,
          685,
          686,
          687,
          688,
          689,
          690,
          691,
          692,
          693,
          694,
          695,
          696,
          697,
          698,
          699,
          700,
          701,
          702,
          703,
          704,
          705,
          706,
          707,
          708,
          709,
          710,
          711,
          712,
          713,
          714,
          715,
          716,
          717,
          718,
          719,
          720,
          721,
          722,
          723,
          724,
          725,
          726,
          727,
          728,
          729,
          730,
          731,
          732,
          733,
          734,
          735,
          736,
          737,
          738,
          739,
          740,
          741,
          742,
          743,
          744,
          745,
          746,
          747,
          748,
          749,
          750,
          751,
          752,
          753,
          754,
          755,
          756,
          757,
          758,
          759,
          760,
          761,
          762,
          763,
          764,
          765,
          766,
          767,
          768,
          769,
          770,
          771,
          772,
          773,
          774,
          775,
          776,
          777,
          778,
          779,
          780,
          781,
          782,
          783,
          784,
          785,
          786,
          787,
          788,
          789,
          790,
          791,
          792,
          793,
          794,
          795,
          796,
          797,
          798,
          799,
          800,
          801,
          802,
          803,
          804,
          805,
          806,
          807,
          808,
          809,
          810,
          811,
          812,
          813,
          814,
          815,
          816,
          817,
          818,
          819,
          820,
          821,
          822,
          823,
          824,
          825,
          826,
          827,
          828,
          829,
          830,
          831,
          832,
          833,
          834,
          835,
          836,
          837,
          838,
          839,
          840,
          841,
          842,
          843,
          844,
          845,
          846,
          847,
          848,
          849,
          850,
          851,
          852,
          853,
          854,
          855,
          856,
          857,
          858,
          859,
          860,
          861,
          862,
          863,
          864,
          865,
          866,
          867,
          868,
          869,
          870,
          871,
          872,
          873,
          874,
          875,
          876,
          877,
          878,
          879,
          880,
          881,
          882,
          883,
          884,
          885,
          886,
          887,
          888,
          889,
          890,
          891,
          892,
          893,
          894,
          895,
          896,
          897,
          898,
          899,
          900,
          901,
          902,
          903,
          904,
          905,
          906,
          907,
          908,
          909,
          910,
          911,
          912,
          913,
          914,
          915,
          916,
          917,
          918,
          919,
          920,
          921,
          922,
          923,
          924,
          925,
          926,
          927,
          928,
          929,
          930,
          931,
          932,
          933,
          934,
          935,
          936,
          937,
          938,
          939,
          940,
          941,
          942,
          943,
          944,
          945,
          946,
          947,
          948,
          949,
          950,
          951,
          952,
          953,
          954,
          955,
          956,
          957,
          958,
          959,
          960,
          961,
          962,
          963,
          964,
          965,
          966,
          967,
          968,
          969,
          970,
          971,
          972,
          973,
          974,
          975,
          976,
          977,
          978,
          979,
          980,
          981,
          982,
          983,
          984,
          985,
          986,
          987,
          988,
          989,
          990,
          991,
          992,
          993,
          994,
          995,
          996,
          997,
          998,
          999
         ],
         "xaxis": "x",
         "y": [
          -2.374944772099439,
          -1.0373264994464986,
          -1.1021396385364124,
          -0.6961271351413039,
          -0.9975281042333464,
          -0.8432083028551062,
          -0.9065862274434606,
          -0.9641925653884151,
          -1.0574033793493476,
          -1.1087446809480352,
          -1.185434820404472,
          -1.2979711382796897,
          -1.1649022539058176,
          -1.2351327769963405,
          -1.32184863419039,
          -1.2008753775447656,
          -1.2794045103307843,
          -1.2782958296206894,
          -1.2773038521432363,
          -1.2750269553718865,
          -1.1894585110663671,
          -1.1507778129146238,
          -1.1055654385706952,
          -1.1096587101418758,
          -1.1309909848393347,
          -1.1506823153292964,
          -1.15160369445773,
          -1.1012861033887262,
          -1.156770477734919,
          -1.1819034733387979,
          -1.1835119392541993,
          -1.1616134888088228,
          -1.1803797127793176,
          -1.1843092870276863,
          -1.1925053193939874,
          -1.2169403159037613,
          -1.180513736577229,
          -1.1332969679267861,
          -1.1510344557267773,
          -1.165082890757575,
          -1.129342045295038,
          -1.1437825237020396,
          -1.157551351950576,
          -1.1674958264831279,
          -1.1974511196990445,
          -1.1771617372782397,
          -1.164609934888236,
          -1.1665857332770033,
          -1.1442392753726545,
          -1.1219930615008358,
          -1.1370452939224132,
          -1.146316675752156,
          -1.159939763345193,
          -1.1518242843411945,
          -1.156697023463648,
          -1.1351731598106134,
          -1.1526161537670305,
          -1.1553983793438722,
          -1.168201124538913,
          -1.1596501259157912,
          -1.1497010184524932,
          -1.156561375390827,
          -1.1417969656859224,
          -1.1212600004837916,
          -1.1430232410133807,
          -1.1452024915279293,
          -1.1522764416404834,
          -1.1534454045092444,
          -1.1400100155160935,
          -1.1559598832608018,
          -1.1562359349303255,
          -1.1565043184979182,
          -1.1608148130369633,
          -1.1606956126934127,
          -1.1733600592760378,
          -1.171147689649632,
          -1.1644463067600472,
          -1.1434060814003852,
          -1.1240261928384205,
          -1.1023043220261952,
          -1.0816883891935485,
          -1.076486594290598,
          -1.0609299369266192,
          -1.0639425000253957,
          -1.0690309260915645,
          -1.0705980543495583,
          -1.0737043455047544,
          -1.079353346071021,
          -1.0813768844022351,
          -1.0862670760032465,
          -1.0881701659103435,
          -1.095699825844309,
          -1.1010698086995623,
          -1.0921662950787372,
          -1.1103736700245042,
          -1.092414324793628,
          -1.0970933439937796,
          -1.1041103516251607,
          -1.089042518628999,
          -1.093614885314792,
          -1.1078946452117455,
          -1.1167697357199446,
          -1.122333821417659,
          -1.1256880194794914,
          -1.1264319807823442,
          -1.1289539673947093,
          -1.1321522519970786,
          -1.1355254599938627,
          -1.1231379239671333,
          -1.1238712515336051,
          -1.136591966699132,
          -1.1384156579326363,
          -1.1409060055268265,
          -1.1259192314659052,
          -1.1261028020644626,
          -1.1228992163411307,
          -1.1273442279756367,
          -1.127992191774818,
          -1.1204158167513476,
          -1.1089349444828,
          -1.1119286260973902,
          -1.1131378034043713,
          -1.1138749265984742,
          -1.1122593973137167,
          -1.120986377980019,
          -1.1132784247498144,
          -1.1158953401983622,
          -1.1269888971882742,
          -1.1228046966282728,
          -1.1313899655325748,
          -1.1235999139102213,
          -1.1235590961533255,
          -1.132077454510411,
          -1.1388009237922554,
          -1.12845951801991,
          -1.1389824306101,
          -1.1394555804325008,
          -1.1290226285945373,
          -1.1211298656678266,
          -1.1209011023416278,
          -1.1123164513463952,
          -1.1189388151742008,
          -1.1099072933390637,
          -1.0995079016145226,
          -1.1007999421204473,
          -1.099728804176716,
          -1.1006270158266445,
          -1.1020686254306797,
          -1.1114539964700874,
          -1.1182404619291293,
          -1.1224804834859246,
          -1.115566857252227,
          -1.10975533245961,
          -1.114282326995265,
          -1.1183178071350866,
          -1.1126004081405145,
          -1.1135357447609513,
          -1.1148044124347671,
          -1.1050765585290097,
          -1.1081392564843462,
          -1.0974444569276756,
          -1.0979266488713133,
          -1.0950028949193336,
          -1.0845838317055594,
          -1.0761906462212443,
          -1.079887513187288,
          -1.0806295278165798,
          -1.0832537218682265,
          -1.07750010933057,
          -1.0816377491570675,
          -1.0870852118932721,
          -1.0971711520271865,
          -1.0885886302524928,
          -1.094352164226952,
          -1.0914543062882156,
          -1.0958684313558003,
          -1.0990925414713186,
          -1.0904913229317008,
          -1.0970053421200472,
          -1.1004273783135952,
          -1.0970148597870126,
          -1.1035762967803175,
          -1.1087627220159157,
          -1.1126556365273859,
          -1.1145935542750662,
          -1.1156655525704897,
          -1.1182294171630691,
          -1.118833334713884,
          -1.120697552095547,
          -1.1209862994623967,
          -1.111904049349297,
          -1.1128152458369238,
          -1.1173762275905716,
          -1.1179658651633841,
          -1.120288175574527,
          -1.110720632589453,
          -1.1092401855696112,
          -1.1121929632329441,
          -1.1059465507585176,
          -1.10629461576371,
          -1.113596532471268,
          -1.1188096599412192,
          -1.1205454272314013,
          -1.1154035834506784,
          -1.1082858632199681,
          -1.1126952083882686,
          -1.1168503660908333,
          -1.1199351418163832,
          -1.124303980076963,
          -1.1249475242554017,
          -1.1316343636423765,
          -1.138258119638908,
          -1.1412752124097825,
          -1.1469633192341653,
          -1.140629927205543,
          -1.1397215192200343,
          -1.1346164826419776,
          -1.1398427178136623,
          -1.1412389916442636,
          -1.1354568002314354,
          -1.1311709614442547,
          -1.1317487871023846,
          -1.131817312049459,
          -1.1325094391160846,
          -1.1329505790165297,
          -1.1341046143381073,
          -1.1383365958144913,
          -1.1308544781248742,
          -1.1329868041988662,
          -1.1253924116930467,
          -1.1276329881687408,
          -1.1308256921774236,
          -1.1321767694072002,
          -1.134460355528548,
          -1.1345138427403412,
          -1.128250101610743,
          -1.1227614142315816,
          -1.1249471460103497,
          -1.1271145871466175,
          -1.1230423774958993,
          -1.1289047354104687,
          -1.1288605504294336,
          -1.1301641147762895,
          -1.1318695044174043,
          -1.126199470295397,
          -1.126167000782001,
          -1.1279672007599535,
          -1.1287172734876305,
          -1.1266796730105662,
          -1.1288390980057341,
          -1.1294686385514225,
          -1.1243018232903041,
          -1.1298811466563783,
          -1.1312248052122515,
          -1.1319415127887678,
          -1.134563186141299,
          -1.1372499402501908,
          -1.1399158668078506,
          -1.13468562806759,
          -1.138438872214985,
          -1.1406401480186008,
          -1.1441955871244298,
          -1.1504836116644335,
          -1.1511029360036737,
          -1.1557212070832803,
          -1.152509842143338,
          -1.1573280765624605,
          -1.1585934893948757,
          -1.1602162207777307,
          -1.1633752491342875,
          -1.163627613221306,
          -1.1647582853044929,
          -1.167792448084663,
          -1.1727854341679567,
          -1.1754689793013504,
          -1.1734613190672825,
          -1.174256630412502,
          -1.1678250473097964,
          -1.1714050589015228,
          -1.1713180045850886,
          -1.1721096222260423,
          -1.1744250455235614,
          -1.1747254809017436,
          -1.1763742136365203,
          -1.1780940792792083,
          -1.1732241140827087,
          -1.1741732519664463,
          -1.1757183349424971,
          -1.1778891707767334,
          -1.1816686417398108,
          -1.1813505467510144,
          -1.1752030329876904,
          -1.1762131605878967,
          -1.1808378458746969,
          -1.1797193509530328,
          -1.176108451804557,
          -1.1702374259149182,
          -1.1666825795293119,
          -1.1619201332583966,
          -1.1636799680228171,
          -1.1665021404780505,
          -1.1680798339783827,
          -1.1689958301920362,
          -1.1705549412031755,
          -1.1714568157786254,
          -1.1720972736715158,
          -1.1678531681573483,
          -1.1661885189333034,
          -1.1666668254649881,
          -1.1697115425002311,
          -1.1656625192510788,
          -1.1625299035748395,
          -1.1574358005008603,
          -1.1573108838432142,
          -1.1589274712653075,
          -1.1632848863401233,
          -1.1665651610854275,
          -1.1619524034304216,
          -1.1616479008814629,
          -1.1610645313921844,
          -1.1619648639073246,
          -1.1655774003062347,
          -1.1599244463129186,
          -1.1623063237699551,
          -1.1650459723580315,
          -1.1598712596359393,
          -1.1643252744313821,
          -1.1641999725279797,
          -1.1673026528503487,
          -1.1647910786045232,
          -1.1659436106546859,
          -1.1668629685137024,
          -1.1668034096001476,
          -1.1639878412000928,
          -1.167403651908877,
          -1.1684574926129971,
          -1.1695050790696153,
          -1.1667148379007164,
          -1.1699809762846942,
          -1.1718430613280828,
          -1.1748673690092366,
          -1.1700382501779418,
          -1.1703788202210776,
          -1.1711039542787958,
          -1.1686905606482139,
          -1.168792044450615,
          -1.16405001760409,
          -1.1609108201281124,
          -1.1652373107727927,
          -1.169153405984605,
          -1.1662492204147747,
          -1.163792541189331,
          -1.164218016248919,
          -1.1642500544849306,
          -1.1668618671252782,
          -1.1668862988237942,
          -1.1630162644659694,
          -1.1632856275751402,
          -1.166182135522289,
          -1.163571639490232,
          -1.1642092874741734,
          -1.1640822230612613,
          -1.1607413923059788,
          -1.1595352453412076,
          -1.1567688043155446,
          -1.1585347089240725,
          -1.1599189084142048,
          -1.163657907670979,
          -1.1662239542799744,
          -1.1663255218529447,
          -1.167921635586509,
          -1.1685287348502362,
          -1.169736853923209,
          -1.1711893539313252,
          -1.1688701773423311,
          -1.1665633367990234,
          -1.1663578717146759,
          -1.1674921319254383,
          -1.1669035347497396,
          -1.1703731105362898,
          -1.1729880059978781,
          -1.1745793957199653,
          -1.1748848662798759,
          -1.1707004672568015,
          -1.1729913546532638,
          -1.1738942115803104,
          -1.1745296914885683,
          -1.1743845427218451,
          -1.174880821354959,
          -1.1768742967231998,
          -1.178126628245142,
          -1.1782045432426305,
          -1.179850483316126,
          -1.1779910502712592,
          -1.1780563994003928,
          -1.1767359064906735,
          -1.173123753437865,
          -1.175382651529091,
          -1.1757300264305817,
          -1.173728447165032,
          -1.173803448434643,
          -1.1750871974748167,
          -1.177638177085553,
          -1.1814319760517482,
          -1.1816246088455686,
          -1.1849601901905478,
          -1.18608551055268,
          -1.181899246127198,
          -1.1792806494447459,
          -1.1809612827831322,
          -1.1814149948225967,
          -1.1789110367550037,
          -1.180314360435997,
          -1.1843639843134133,
          -1.1845449102730172,
          -1.186439785134907,
          -1.1856350898323864,
          -1.185678556020058,
          -1.185865998101266,
          -1.1864844759312996,
          -1.1872802233245585,
          -1.1850926861326567,
          -1.1872804790883484,
          -1.185278598599291,
          -1.185581437748996,
          -1.1863111966173074,
          -1.1865466593300855,
          -1.1827651849891725,
          -1.1805359038213232,
          -1.18242555224102,
          -1.1843990946680192,
          -1.1850037881681288,
          -1.1881235730335766,
          -1.1908203622036093,
          -1.18842717578699,
          -1.1887151529921205,
          -1.190171317383732,
          -1.1927240870441411,
          -1.1919454031191747,
          -1.1913828312992123,
          -1.18819439865019,
          -1.1851157488630846,
          -1.1880507975871832,
          -1.1867744551482449,
          -1.189726622463198,
          -1.1910521207981126,
          -1.192708945454924,
          -1.1964235653215118,
          -1.1921834220869318,
          -1.1886727808934168,
          -1.1878532682299738,
          -1.1853837019196507,
          -1.1826595892418892,
          -1.1830080161044656,
          -1.1830537214674866,
          -1.1821138818549657,
          -1.1829644344008765,
          -1.1835379327683755,
          -1.1823131328161538,
          -1.1827155758556906,
          -1.1844734265030556,
          -1.1856668652733717,
          -1.1835126958629854,
          -1.184603984368851,
          -1.1856905791607126,
          -1.1856688387586447,
          -1.1889885999894307,
          -1.187012426759415,
          -1.1876722269489466,
          -1.184597841667195,
          -1.18445689501822,
          -1.1851179158246425,
          -1.1849764656220534,
          -1.1849565987152495,
          -1.1857172778489191,
          -1.1823188710496972,
          -1.1782575102099704,
          -1.1785414594296648,
          -1.178990772795559,
          -1.1795994803935854,
          -1.1808576105629733,
          -1.1775115898801027,
          -1.179745521904462,
          -1.1786616286921627,
          -1.175788685196056,
          -1.1768940003642918,
          -1.1796845068007245,
          -1.1767398892550789,
          -1.1731727601616773,
          -1.1737287885832155,
          -1.1736744119268343,
          -1.1752570578679764,
          -1.1757622452006602,
          -1.1777680873792042,
          -1.1784624834218589,
          -1.1773392823558846,
          -1.1784170138943206,
          -1.179802402055543,
          -1.1786148762497166,
          -1.1776348260873775,
          -1.1777981263497759,
          -1.1791308161423166,
          -1.1818281120046719,
          -1.1817590678346228,
          -1.183244005804045,
          -1.182832396433508,
          -1.1829289122526059,
          -1.1850075751304308,
          -1.1859536033164269,
          -1.186257312691986,
          -1.1861241515516885,
          -1.1878923534857837,
          -1.1881381485807896,
          -1.1881136766026112,
          -1.189042651836009,
          -1.191403583462557,
          -1.1903663254812977,
          -1.1885782428613378,
          -1.1911741819596917,
          -1.1910338700136154,
          -1.190949409323186,
          -1.1889548400926326,
          -1.185683587291224,
          -1.1863717468330504,
          -1.186458211918542,
          -1.1871889308984236,
          -1.1861152417595244,
          -1.1866551189907533,
          -1.183510796891917,
          -1.1827625538592463,
          -1.1834471426226154,
          -1.1859892920442028,
          -1.1831192763671126,
          -1.1810377970030614,
          -1.182739489984006,
          -1.1801322969673949,
          -1.1782135855595863,
          -1.1783131252085763,
          -1.1779358646132216,
          -1.1804505586322842,
          -1.18183910241003,
          -1.1822781906640265,
          -1.1831700096900641,
          -1.1832593404015093,
          -1.1806161327026545,
          -1.1794024289976168,
          -1.1804610785186547,
          -1.1783652162983316,
          -1.1784624853337011,
          -1.1811268609043684,
          -1.1813273105582003,
          -1.1791724550178861,
          -1.176497112833032,
          -1.173673823613126,
          -1.1746455317813163,
          -1.1716755015599585,
          -1.168301935584079,
          -1.1695946864432496,
          -1.1695027674514011,
          -1.17031311927733,
          -1.170803874299501,
          -1.1734730062938463,
          -1.174348784118906,
          -1.1763593083113244,
          -1.1781766050764397,
          -1.1784640057474207,
          -1.1784085663198238,
          -1.1788868457255144,
          -1.1765117039803898,
          -1.1759956712112032,
          -1.1728613119408866,
          -1.1736415494183832,
          -1.1759307305426772,
          -1.173937695440306,
          -1.1764219040995239,
          -1.1787979526847288,
          -1.1796836937764097,
          -1.1793818534198228,
          -1.1769005568586928,
          -1.177090131372684,
          -1.1752550247834095,
          -1.1756752479986892,
          -1.1768264197897809,
          -1.1756981791904013,
          -1.1776342240612603,
          -1.1781426478360102,
          -1.1760527296265684,
          -1.1773022323752498,
          -1.178011580421103,
          -1.179151484407475,
          -1.1793796295053032,
          -1.177640448156433,
          -1.1784251448333671,
          -1.177600506197419,
          -1.1775006935315409,
          -1.1781194493934146,
          -1.1803937394864021,
          -1.1826604232580087,
          -1.183056357336169,
          -1.1843384904322234,
          -1.1858795729878941,
          -1.18715275677856,
          -1.1880626894180468,
          -1.1883156409005529,
          -1.1856375582567822,
          -1.1854381828971383,
          -1.1856052596550894,
          -1.1842721890310035,
          -1.1864915625053485,
          -1.1867005685294771,
          -1.1834441354385943,
          -1.1834312521319903,
          -1.1835101015032534,
          -1.1857126430886016,
          -1.1883922131742743,
          -1.1885520533720004,
          -1.1887553486456663,
          -1.18908707552762,
          -1.1910808129458683,
          -1.1913223687070065,
          -1.1921251838340237,
          -1.190869913983822,
          -1.1910675308750578,
          -1.1924795463604276,
          -1.1926380984785163,
          -1.1900429507835335,
          -1.1897481772857434,
          -1.1922896675798187,
          -1.1924400079731317,
          -1.1934441650908352,
          -1.193370608332054,
          -1.1938101649958455,
          -1.1908810387643594,
          -1.1881074310732196,
          -1.189438005730234,
          -1.1882145927290995,
          -1.1901533618730464,
          -1.190750012395716,
          -1.1910265177456494,
          -1.1932096639292389,
          -1.1938741685862433,
          -1.1950555736429138,
          -1.1966233441047467,
          -1.1938122465639949,
          -1.193998561278196,
          -1.1913423554944156,
          -1.1916954970409097,
          -1.1898438790706378,
          -1.1901175201367897,
          -1.191863803312512,
          -1.1931861202273848,
          -1.1945342476407568,
          -1.1945912639793104,
          -1.1954534848554967,
          -1.195756246804867,
          -1.1929978935747687,
          -1.1931820447827581,
          -1.1940752314621692,
          -1.1944636928237624,
          -1.1948442428145074,
          -1.195449785913703,
          -1.1934463223108456,
          -1.1905075642839815,
          -1.1881308885621762,
          -1.1854907124328822,
          -1.1856836471547907,
          -1.1859162734481892,
          -1.1842481492303982,
          -1.1862602285005879,
          -1.187695854394129,
          -1.1870986057133277,
          -1.188015259411726,
          -1.1888351204655978,
          -1.1888988160089964,
          -1.1889208976982852,
          -1.1885135432568508,
          -1.1889684105720544,
          -1.1892704668421445,
          -1.1875069566587315,
          -1.1869178905306694,
          -1.1851035627309088,
          -1.1868720257245269,
          -1.1872130987997123,
          -1.1885350731315965,
          -1.186104085767472,
          -1.1839373279555567,
          -1.185741219090153,
          -1.1865075426917062,
          -1.1844738365819656,
          -1.1863811048047488,
          -1.1869726057115186,
          -1.1846972043810182,
          -1.1848446164597954,
          -1.1849521145017108,
          -1.1861148952352203,
          -1.185104330048104,
          -1.1854781067434659,
          -1.1844713494630341,
          -1.1835676058595888,
          -1.18425756059665,
          -1.185411379660408,
          -1.1859254363663165,
          -1.18625815258212,
          -1.1867695460972139,
          -1.18831162581916,
          -1.1894228173588202,
          -1.190352641382648,
          -1.1904502340608492,
          -1.1927175060031403,
          -1.190238204956068,
          -1.1892926292947403,
          -1.1874965235120425,
          -1.1854701765569424,
          -1.185375977388095,
          -1.1848636649297628,
          -1.183471797280789,
          -1.1853579881282454,
          -1.1853443412809876,
          -1.1876038993330778,
          -1.1881079892436972,
          -1.1887058382864508,
          -1.1873202158348968,
          -1.1875325604670084,
          -1.187555034770616,
          -1.187385739674812,
          -1.1892431568858757,
          -1.1904308445860254,
          -1.1882632127734143,
          -1.189978871510418,
          -1.1912914067236546,
          -1.1914221349975942,
          -1.1895011813064507,
          -1.190518576208257,
          -1.1913229090469857,
          -1.1923017354916174,
          -1.1941272367136493,
          -1.194140366590943,
          -1.194935432327046,
          -1.1943833437712266,
          -1.194086838798985,
          -1.1926250390205844,
          -1.1926777895296081,
          -1.1911689490268278,
          -1.188743018353217,
          -1.1889111287141172,
          -1.1902706740919824,
          -1.1901027295353834,
          -1.1906763317005353,
          -1.1909474748647444,
          -1.1922970542057265,
          -1.190074699577898,
          -1.1900553975196788,
          -1.190625253763436,
          -1.189244828056819,
          -1.1912422600986308,
          -1.1912958628190242,
          -1.1923012001402262,
          -1.1923532644101154,
          -1.1941546114007286,
          -1.1941301442170398,
          -1.1942159761662277,
          -1.1943375480806728,
          -1.1944588013269284,
          -1.193040521747972,
          -1.193054591597032,
          -1.1933843201807375,
          -1.1942078855939653,
          -1.1947922055054032,
          -1.1939573061102788,
          -1.19438267860688,
          -1.195760263663999,
          -1.1959481977588018,
          -1.1968180452625847,
          -1.1970041270966791,
          -1.1976099745737188,
          -1.1977599426956906,
          -1.198144368400908,
          -1.1984624690671222,
          -1.1994825233100284,
          -1.200256378909678,
          -1.1982794449240768,
          -1.1981770568487262,
          -1.1962633035536365,
          -1.1969515418633758,
          -1.1969602710537142,
          -1.1973413123318262,
          -1.1982743637042035,
          -1.1977931431534121,
          -1.1980745522699174,
          -1.1961229021229367,
          -1.197155811067216,
          -1.1971642051899583,
          -1.1963950536385815,
          -1.1966764514754045,
          -1.1968240096964717,
          -1.195156086167735,
          -1.1953051817148568,
          -1.1958661596545355,
          -1.1957325386787476,
          -1.195947169169153,
          -1.1975378003702544,
          -1.19806351028135,
          -1.196088829552488,
          -1.196524389698826,
          -1.196602555994292,
          -1.1956728181625853,
          -1.1958856609294262,
          -1.196409511781084,
          -1.196620917738095,
          -1.1966643066257223,
          -1.195128790413969,
          -1.1938414203161367,
          -1.195082860119686,
          -1.1950935739970314,
          -1.1928741665784588,
          -1.193511541199023,
          -1.1912995032390001,
          -1.1898821793741379,
          -1.191288855062952,
          -1.192609156154423,
          -1.1932429718679483,
          -1.1932898367643574,
          -1.1925115436099105,
          -1.1925927774860503,
          -1.1931098252091812,
          -1.193507384898387,
          -1.1923379727811967,
          -1.1927355043702208,
          -1.1937728464818307,
          -1.1941728872716102,
          -1.193053713554487,
          -1.1947134805742325,
          -1.1946963864171662,
          -1.1948068868830612,
          -1.1951378611740375,
          -1.1935018484127642,
          -1.192161474992873,
          -1.1931213977378008,
          -1.1935423247812698,
          -1.1938728344182543,
          -1.1942326273804797,
          -1.1954733126854762,
          -1.1969297032249042,
          -1.1985442126171564,
          -1.1999169769487665,
          -1.1997919780746067,
          -1.1999585110223954,
          -1.1978741422152719,
          -1.1958484831843421,
          -1.1978026127872856,
          -1.1979072557510768,
          -1.1981677225120217,
          -1.1968005019484458,
          -1.1950474664974446,
          -1.1956532260184518,
          -1.1973609095846787,
          -1.1980156619854028,
          -1.1990383938543387,
          -1.199355194815915,
          -1.1999790168433253,
          -1.1987141088133149,
          -1.1993894971787695,
          -1.198082683504129,
          -1.1983691927671047,
          -1.1991437258600712,
          -1.198592409660613,
          -1.1984996986575442,
          -1.1984404015972245,
          -1.1984787508666366,
          -1.1967060982060487,
          -1.195592088407858,
          -1.1948149574690325,
          -1.1934828997649234,
          -1.1936819318372784,
          -1.193885743986461,
          -1.1945302622205007,
          -1.1948457013968152,
          -1.1932402780843818,
          -1.192183280644402,
          -1.191128685471331,
          -1.1910459196194905,
          -1.1911545453058332,
          -1.1926774400845435,
          -1.1908396552444245,
          -1.1919249797150537,
          -1.1936677250353933,
          -1.1927035936111459,
          -1.192870419952633,
          -1.193531869288834,
          -1.1935434109596093,
          -1.1940788236567939,
          -1.195704149021753,
          -1.1957132193546278,
          -1.19618687028272,
          -1.196659462772984,
          -1.1976148563579414,
          -1.1977143423318721,
          -1.1978136067334777,
          -1.1987861891439475,
          -1.1989735788571243,
          -1.1993590456810435,
          -1.197838061365155,
          -1.1984085306847492,
          -1.1999770324182237,
          -1.2000121582572272,
          -1.2004214344570936,
          -1.2006633346793856,
          -1.2007582580717804,
          -1.2009123693223633,
          -1.2005965857245238,
          -1.200537785795408,
          -1.2008622604991956,
          -1.2023662228359795,
          -1.202687987051312,
          -1.2027197662094158,
          -1.2032768099766096,
          -1.2046749185084111,
          -1.2050470364481713,
          -1.2034558113209433,
          -1.2035759520012728,
          -1.202171923076205,
          -1.202940457157306,
          -1.2041007987530936,
          -1.2054029443941991,
          -1.206841287843402,
          -1.20598222310168,
          -1.2040192180366949,
          -1.2023513858363915,
          -1.202694919466808,
          -1.2036298337402263,
          -1.2046839174833488,
          -1.206058014496391,
          -1.2049671553471608,
          -1.2060929943217844,
          -1.2050855574597739,
          -1.2051436372675617,
          -1.2037178242937672,
          -1.2036266666665882,
          -1.2023788518797036,
          -1.2025824515709944,
          -1.2016248699360186,
          -1.2021431774653695,
          -1.203742530362467,
          -1.204232777599162,
          -1.2046718510081247,
          -1.20535064228846,
          -1.2056313389912685,
          -1.2057456363522734,
          -1.2039251347596536,
          -1.2040692613386978,
          -1.2040392826746162,
          -1.205303194532242,
          -1.2052118081476333,
          -1.2047049864379706,
          -1.2047623092349455,
          -1.2029083881610405,
          -1.2043012431733144,
          -1.2043588079064833,
          -1.2042689780442242,
          -1.20403012459242,
          -1.2050508859597404,
          -1.2032557079337491,
          -1.2040120911471022,
          -1.2025841026632873,
          -1.202466505665709,
          -1.2016475417229997,
          -1.2015910601393152,
          -1.2018431630593316,
          -1.1999214190938061,
          -1.2012986863266033,
          -1.2026731167576852,
          -1.2014274109300587,
          -1.2014870418104484,
          -1.2018662300584213,
          -1.202718697861723,
          -1.2026616396162704,
          -1.2009885730879215,
          -1.2003610050427886,
          -1.2005585551517268,
          -1.200503934024327,
          -1.1998436390565699,
          -1.1993901189130889,
          -1.2002179559000012,
          -1.200360869953814,
          -1.1988373647323316,
          -1.199164602829452,
          -1.199541149731688,
          -1.1989901376440564,
          -1.1994864778108312,
          -1.1996561247332478,
          -1.199716459882406,
          -1.2000905525592747,
          -1.200949164404527,
          -1.2015326148224652,
          -1.2010833226047122,
          -1.200667518053479,
          -1.2005848143944484,
          -1.2011211443784109,
          -1.201633507454067,
          -1.2015500859166126
         ],
         "yaxis": "y"
        }
       ],
       "layout": {
        "height": 400,
        "hovermode": "x unified",
        "legend": {
         "title": {
          "text": "Agent"
         },
         "tracegroupgap": 0
        },
        "template": {
         "data": {
          "bar": [
           {
            "error_x": {
             "color": "rgb(36,36,36)"
            },
            "error_y": {
             "color": "rgb(36,36,36)"
            },
            "marker": {
             "line": {
              "color": "white",
              "width": 0.5
             },
             "pattern": {
              "fillmode": "overlay",
              "size": 10,
              "solidity": 0.2
             }
            },
            "type": "bar"
           }
          ],
          "barpolar": [
           {
            "marker": {
             "line": {
              "color": "white",
              "width": 0.5
             },
             "pattern": {
              "fillmode": "overlay",
              "size": 10,
              "solidity": 0.2
             }
            },
            "type": "barpolar"
           }
          ],
          "carpet": [
           {
            "aaxis": {
             "endlinecolor": "rgb(36,36,36)",
             "gridcolor": "white",
             "linecolor": "white",
             "minorgridcolor": "white",
             "startlinecolor": "rgb(36,36,36)"
            },
            "baxis": {
             "endlinecolor": "rgb(36,36,36)",
             "gridcolor": "white",
             "linecolor": "white",
             "minorgridcolor": "white",
             "startlinecolor": "rgb(36,36,36)"
            },
            "type": "carpet"
           }
          ],
          "choropleth": [
           {
            "colorbar": {
             "outlinewidth": 1,
             "tickcolor": "rgb(36,36,36)",
             "ticks": "outside"
            },
            "type": "choropleth"
           }
          ],
          "contour": [
           {
            "colorbar": {
             "outlinewidth": 1,
             "tickcolor": "rgb(36,36,36)",
             "ticks": "outside"
            },
            "colorscale": [
             [
              0,
              "#440154"
             ],
             [
              0.1111111111111111,
              "#482878"
             ],
             [
              0.2222222222222222,
              "#3e4989"
             ],
             [
              0.3333333333333333,
              "#31688e"
             ],
             [
              0.4444444444444444,
              "#26828e"
             ],
             [
              0.5555555555555556,
              "#1f9e89"
             ],
             [
              0.6666666666666666,
              "#35b779"
             ],
             [
              0.7777777777777778,
              "#6ece58"
             ],
             [
              0.8888888888888888,
              "#b5de2b"
             ],
             [
              1,
              "#fde725"
             ]
            ],
            "type": "contour"
           }
          ],
          "contourcarpet": [
           {
            "colorbar": {
             "outlinewidth": 1,
             "tickcolor": "rgb(36,36,36)",
             "ticks": "outside"
            },
            "type": "contourcarpet"
           }
          ],
          "heatmap": [
           {
            "colorbar": {
             "outlinewidth": 1,
             "tickcolor": "rgb(36,36,36)",
             "ticks": "outside"
            },
            "colorscale": [
             [
              0,
              "#440154"
             ],
             [
              0.1111111111111111,
              "#482878"
             ],
             [
              0.2222222222222222,
              "#3e4989"
             ],
             [
              0.3333333333333333,
              "#31688e"
             ],
             [
              0.4444444444444444,
              "#26828e"
             ],
             [
              0.5555555555555556,
              "#1f9e89"
             ],
             [
              0.6666666666666666,
              "#35b779"
             ],
             [
              0.7777777777777778,
              "#6ece58"
             ],
             [
              0.8888888888888888,
              "#b5de2b"
             ],
             [
              1,
              "#fde725"
             ]
            ],
            "type": "heatmap"
           }
          ],
          "heatmapgl": [
           {
            "colorbar": {
             "outlinewidth": 1,
             "tickcolor": "rgb(36,36,36)",
             "ticks": "outside"
            },
            "colorscale": [
             [
              0,
              "#440154"
             ],
             [
              0.1111111111111111,
              "#482878"
             ],
             [
              0.2222222222222222,
              "#3e4989"
             ],
             [
              0.3333333333333333,
              "#31688e"
             ],
             [
              0.4444444444444444,
              "#26828e"
             ],
             [
              0.5555555555555556,
              "#1f9e89"
             ],
             [
              0.6666666666666666,
              "#35b779"
             ],
             [
              0.7777777777777778,
              "#6ece58"
             ],
             [
              0.8888888888888888,
              "#b5de2b"
             ],
             [
              1,
              "#fde725"
             ]
            ],
            "type": "heatmapgl"
           }
          ],
          "histogram": [
           {
            "marker": {
             "line": {
              "color": "white",
              "width": 0.6
             }
            },
            "type": "histogram"
           }
          ],
          "histogram2d": [
           {
            "colorbar": {
             "outlinewidth": 1,
             "tickcolor": "rgb(36,36,36)",
             "ticks": "outside"
            },
            "colorscale": [
             [
              0,
              "#440154"
             ],
             [
              0.1111111111111111,
              "#482878"
             ],
             [
              0.2222222222222222,
              "#3e4989"
             ],
             [
              0.3333333333333333,
              "#31688e"
             ],
             [
              0.4444444444444444,
              "#26828e"
             ],
             [
              0.5555555555555556,
              "#1f9e89"
             ],
             [
              0.6666666666666666,
              "#35b779"
             ],
             [
              0.7777777777777778,
              "#6ece58"
             ],
             [
              0.8888888888888888,
              "#b5de2b"
             ],
             [
              1,
              "#fde725"
             ]
            ],
            "type": "histogram2d"
           }
          ],
          "histogram2dcontour": [
           {
            "colorbar": {
             "outlinewidth": 1,
             "tickcolor": "rgb(36,36,36)",
             "ticks": "outside"
            },
            "colorscale": [
             [
              0,
              "#440154"
             ],
             [
              0.1111111111111111,
              "#482878"
             ],
             [
              0.2222222222222222,
              "#3e4989"
             ],
             [
              0.3333333333333333,
              "#31688e"
             ],
             [
              0.4444444444444444,
              "#26828e"
             ],
             [
              0.5555555555555556,
              "#1f9e89"
             ],
             [
              0.6666666666666666,
              "#35b779"
             ],
             [
              0.7777777777777778,
              "#6ece58"
             ],
             [
              0.8888888888888888,
              "#b5de2b"
             ],
             [
              1,
              "#fde725"
             ]
            ],
            "type": "histogram2dcontour"
           }
          ],
          "mesh3d": [
           {
            "colorbar": {
             "outlinewidth": 1,
             "tickcolor": "rgb(36,36,36)",
             "ticks": "outside"
            },
            "type": "mesh3d"
           }
          ],
          "parcoords": [
           {
            "line": {
             "colorbar": {
              "outlinewidth": 1,
              "tickcolor": "rgb(36,36,36)",
              "ticks": "outside"
             }
            },
            "type": "parcoords"
           }
          ],
          "pie": [
           {
            "automargin": true,
            "type": "pie"
           }
          ],
          "scatter": [
           {
            "fillpattern": {
             "fillmode": "overlay",
             "size": 10,
             "solidity": 0.2
            },
            "type": "scatter"
           }
          ],
          "scatter3d": [
           {
            "line": {
             "colorbar": {
              "outlinewidth": 1,
              "tickcolor": "rgb(36,36,36)",
              "ticks": "outside"
             }
            },
            "marker": {
             "colorbar": {
              "outlinewidth": 1,
              "tickcolor": "rgb(36,36,36)",
              "ticks": "outside"
             }
            },
            "type": "scatter3d"
           }
          ],
          "scattercarpet": [
           {
            "marker": {
             "colorbar": {
              "outlinewidth": 1,
              "tickcolor": "rgb(36,36,36)",
              "ticks": "outside"
             }
            },
            "type": "scattercarpet"
           }
          ],
          "scattergeo": [
           {
            "marker": {
             "colorbar": {
              "outlinewidth": 1,
              "tickcolor": "rgb(36,36,36)",
              "ticks": "outside"
             }
            },
            "type": "scattergeo"
           }
          ],
          "scattergl": [
           {
            "marker": {
             "colorbar": {
              "outlinewidth": 1,
              "tickcolor": "rgb(36,36,36)",
              "ticks": "outside"
             }
            },
            "type": "scattergl"
           }
          ],
          "scattermapbox": [
           {
            "marker": {
             "colorbar": {
              "outlinewidth": 1,
              "tickcolor": "rgb(36,36,36)",
              "ticks": "outside"
             }
            },
            "type": "scattermapbox"
           }
          ],
          "scatterpolar": [
           {
            "marker": {
             "colorbar": {
              "outlinewidth": 1,
              "tickcolor": "rgb(36,36,36)",
              "ticks": "outside"
             }
            },
            "type": "scatterpolar"
           }
          ],
          "scatterpolargl": [
           {
            "marker": {
             "colorbar": {
              "outlinewidth": 1,
              "tickcolor": "rgb(36,36,36)",
              "ticks": "outside"
             }
            },
            "type": "scatterpolargl"
           }
          ],
          "scatterternary": [
           {
            "marker": {
             "colorbar": {
              "outlinewidth": 1,
              "tickcolor": "rgb(36,36,36)",
              "ticks": "outside"
             }
            },
            "type": "scatterternary"
           }
          ],
          "surface": [
           {
            "colorbar": {
             "outlinewidth": 1,
             "tickcolor": "rgb(36,36,36)",
             "ticks": "outside"
            },
            "colorscale": [
             [
              0,
              "#440154"
             ],
             [
              0.1111111111111111,
              "#482878"
             ],
             [
              0.2222222222222222,
              "#3e4989"
             ],
             [
              0.3333333333333333,
              "#31688e"
             ],
             [
              0.4444444444444444,
              "#26828e"
             ],
             [
              0.5555555555555556,
              "#1f9e89"
             ],
             [
              0.6666666666666666,
              "#35b779"
             ],
             [
              0.7777777777777778,
              "#6ece58"
             ],
             [
              0.8888888888888888,
              "#b5de2b"
             ],
             [
              1,
              "#fde725"
             ]
            ],
            "type": "surface"
           }
          ],
          "table": [
           {
            "cells": {
             "fill": {
              "color": "rgb(237,237,237)"
             },
             "line": {
              "color": "white"
             }
            },
            "header": {
             "fill": {
              "color": "rgb(217,217,217)"
             },
             "line": {
              "color": "white"
             }
            },
            "type": "table"
           }
          ]
         },
         "layout": {
          "annotationdefaults": {
           "arrowhead": 0,
           "arrowwidth": 1
          },
          "autotypenumbers": "strict",
          "coloraxis": {
           "colorbar": {
            "outlinewidth": 1,
            "tickcolor": "rgb(36,36,36)",
            "ticks": "outside"
           }
          },
          "colorscale": {
           "diverging": [
            [
             0,
             "rgb(103,0,31)"
            ],
            [
             0.1,
             "rgb(178,24,43)"
            ],
            [
             0.2,
             "rgb(214,96,77)"
            ],
            [
             0.3,
             "rgb(244,165,130)"
            ],
            [
             0.4,
             "rgb(253,219,199)"
            ],
            [
             0.5,
             "rgb(247,247,247)"
            ],
            [
             0.6,
             "rgb(209,229,240)"
            ],
            [
             0.7,
             "rgb(146,197,222)"
            ],
            [
             0.8,
             "rgb(67,147,195)"
            ],
            [
             0.9,
             "rgb(33,102,172)"
            ],
            [
             1,
             "rgb(5,48,97)"
            ]
           ],
           "sequential": [
            [
             0,
             "#440154"
            ],
            [
             0.1111111111111111,
             "#482878"
            ],
            [
             0.2222222222222222,
             "#3e4989"
            ],
            [
             0.3333333333333333,
             "#31688e"
            ],
            [
             0.4444444444444444,
             "#26828e"
            ],
            [
             0.5555555555555556,
             "#1f9e89"
            ],
            [
             0.6666666666666666,
             "#35b779"
            ],
            [
             0.7777777777777778,
             "#6ece58"
            ],
            [
             0.8888888888888888,
             "#b5de2b"
            ],
            [
             1,
             "#fde725"
            ]
           ],
           "sequentialminus": [
            [
             0,
             "#440154"
            ],
            [
             0.1111111111111111,
             "#482878"
            ],
            [
             0.2222222222222222,
             "#3e4989"
            ],
            [
             0.3333333333333333,
             "#31688e"
            ],
            [
             0.4444444444444444,
             "#26828e"
            ],
            [
             0.5555555555555556,
             "#1f9e89"
            ],
            [
             0.6666666666666666,
             "#35b779"
            ],
            [
             0.7777777777777778,
             "#6ece58"
            ],
            [
             0.8888888888888888,
             "#b5de2b"
            ],
            [
             1,
             "#fde725"
            ]
           ]
          },
          "colorway": [
           "#1F77B4",
           "#FF7F0E",
           "#2CA02C",
           "#D62728",
           "#9467BD",
           "#8C564B",
           "#E377C2",
           "#7F7F7F",
           "#BCBD22",
           "#17BECF"
          ],
          "font": {
           "color": "rgb(36,36,36)"
          },
          "geo": {
           "bgcolor": "white",
           "lakecolor": "white",
           "landcolor": "white",
           "showlakes": true,
           "showland": true,
           "subunitcolor": "white"
          },
          "hoverlabel": {
           "align": "left"
          },
          "hovermode": "closest",
          "mapbox": {
           "style": "light"
          },
          "paper_bgcolor": "white",
          "plot_bgcolor": "white",
          "polar": {
           "angularaxis": {
            "gridcolor": "rgb(232,232,232)",
            "linecolor": "rgb(36,36,36)",
            "showgrid": false,
            "showline": true,
            "ticks": "outside"
           },
           "bgcolor": "white",
           "radialaxis": {
            "gridcolor": "rgb(232,232,232)",
            "linecolor": "rgb(36,36,36)",
            "showgrid": false,
            "showline": true,
            "ticks": "outside"
           }
          },
          "scene": {
           "xaxis": {
            "backgroundcolor": "white",
            "gridcolor": "rgb(232,232,232)",
            "gridwidth": 2,
            "linecolor": "rgb(36,36,36)",
            "showbackground": true,
            "showgrid": false,
            "showline": true,
            "ticks": "outside",
            "zeroline": false,
            "zerolinecolor": "rgb(36,36,36)"
           },
           "yaxis": {
            "backgroundcolor": "white",
            "gridcolor": "rgb(232,232,232)",
            "gridwidth": 2,
            "linecolor": "rgb(36,36,36)",
            "showbackground": true,
            "showgrid": false,
            "showline": true,
            "ticks": "outside",
            "zeroline": false,
            "zerolinecolor": "rgb(36,36,36)"
           },
           "zaxis": {
            "backgroundcolor": "white",
            "gridcolor": "rgb(232,232,232)",
            "gridwidth": 2,
            "linecolor": "rgb(36,36,36)",
            "showbackground": true,
            "showgrid": false,
            "showline": true,
            "ticks": "outside",
            "zeroline": false,
            "zerolinecolor": "rgb(36,36,36)"
           }
          },
          "shapedefaults": {
           "fillcolor": "black",
           "line": {
            "width": 0
           },
           "opacity": 0.3
          },
          "ternary": {
           "aaxis": {
            "gridcolor": "rgb(232,232,232)",
            "linecolor": "rgb(36,36,36)",
            "showgrid": false,
            "showline": true,
            "ticks": "outside"
           },
           "baxis": {
            "gridcolor": "rgb(232,232,232)",
            "linecolor": "rgb(36,36,36)",
            "showgrid": false,
            "showline": true,
            "ticks": "outside"
           },
           "bgcolor": "white",
           "caxis": {
            "gridcolor": "rgb(232,232,232)",
            "linecolor": "rgb(36,36,36)",
            "showgrid": false,
            "showline": true,
            "ticks": "outside"
           }
          },
          "title": {
           "x": 0.05
          },
          "xaxis": {
           "automargin": true,
           "gridcolor": "rgb(232,232,232)",
           "linecolor": "rgb(36,36,36)",
           "showgrid": false,
           "showline": true,
           "ticks": "outside",
           "title": {
            "standoff": 15
           },
           "zeroline": false,
           "zerolinecolor": "rgb(36,36,36)"
          },
          "yaxis": {
           "automargin": true,
           "gridcolor": "rgb(232,232,232)",
           "linecolor": "rgb(36,36,36)",
           "showgrid": false,
           "showline": true,
           "ticks": "outside",
           "title": {
            "standoff": 15
           },
           "zeroline": false,
           "zerolinecolor": "rgb(36,36,36)"
          }
         }
        },
        "title": {
         "text": "Avg. reward on NorvigGrid"
        },
        "width": 700,
        "xaxis": {
         "anchor": "y",
         "domain": [
          0,
          1
         ],
         "title": {
          "text": "index"
         }
        },
        "yaxis": {
         "anchor": "x",
         "domain": [
          0,
          1
         ],
         "title": {
          "text": "value"
         }
        }
       }
      }
     },
     "metadata": {},
     "output_type": "display_data"
    }
   ],
   "source": [
    "class EpsilonGreedy(Agent):\n",
    "    \"\"\"\n",
    "    A class for SARSA and Q-Learning to inherit from.\n",
    "    \"\"\"\n",
    "\n",
    "    def __init__(self, env: DiscreteEnviroGym, config: AgentConfig = defaultConfig, gamma: float = 0.99, seed: int = 0):\n",
    "        super().__init__(env, config, gamma, seed)\n",
    "        self.Q = np.zeros((self.num_states, self.num_actions)) + self.config.optimism\n",
    "\n",
    "    def get_action(self, obs: ObsType) -> ActType:\n",
    "        \"\"\"\n",
    "        Selects an action using epsilon-greedy with respect to Q-value estimates\n",
    "        \"\"\"\n",
    "        if self.rng.random() < self.config.epsilon:\n",
    "            return self.rng.integers(0, self.num_actions)\n",
    "        else:\n",
    "            # Greedy\n",
    "            # I hope the max Q action is unambiguous\n",
    "            return self.Q[obs].argmax()\n",
    "\n",
    "\n",
    "class QLearning(EpsilonGreedy):\n",
    "    def observe(self, exp: Experience) -> None:\n",
    "        for i in range(8):\n",
    "            # raise NotImplementedError()\n",
    "            # Same as SARSA except we look at the maximum value.\n",
    "            self.Q[exp.obs, exp.act] = self.Q[exp.obs, exp.act] + self.config.lr * (\n",
    "                exp.reward \n",
    "                + self.gamma * self.Q[exp.new_obs].max() \n",
    "                - self.Q[exp.obs, exp.act]\n",
    "            )\n",
    "\n",
    "\n",
    "class SARSA(EpsilonGreedy):\n",
    "    def observe(self, exp: Experience):\n",
    "        # raise NotImplementedError()\n",
    "        # Enforce consistency with the Bellman equation.\n",
    "        self.Q[exp.obs, exp.act] = self.Q[exp.obs, exp.act] + self.config.lr * (\n",
    "            exp.reward \n",
    "            + self.gamma * self.Q[exp.new_obs, exp.new_act] \n",
    "            - self.Q[exp.obs, exp.act]\n",
    "        )\n",
    "\n",
    "    def run_episode(self, seed) -> list[int]:\n",
    "        rewards = []\n",
    "        obs, info = self.env.reset(seed=seed)\n",
    "        act = self.get_action(obs)\n",
    "        self.reset(seed=seed)\n",
    "        done = False\n",
    "        while not done:\n",
    "            new_obs, reward, terminated, truncated, info = self.env.step(act)\n",
    "            done = terminated or truncated\n",
    "            new_act = self.get_action(new_obs)\n",
    "            exp = Experience(obs, act, reward, new_obs, new_act)\n",
    "            self.observe(exp)\n",
    "            rewards.append(reward)\n",
    "            obs = new_obs\n",
    "            act = new_act\n",
    "        return rewards\n",
    "\n",
    "\n",
    "n_runs = 1000\n",
    "gamma = 0.99\n",
    "seed = 1\n",
    "env_norvig = gym.make(\"NorvigGrid-v0\")\n",
    "config_norvig = AgentConfig()#optimism=10)\n",
    "# config_norvig = AgentConfig(optimism = 10, lr = 0.3, epsilon = 0.2)\n",
    "args_norvig = (env_norvig, config_norvig, gamma, seed)\n",
    "agents_norvig: list[Agent] = [\n",
    "    Cheater(*args_norvig),\n",
    "    QLearning(*args_norvig),\n",
    "    SARSA(*args_norvig),\n",
    "    Random(*args_norvig),\n",
    "]\n",
    "returns_dict = {}\n",
    "for agent in agents_norvig:\n",
    "    returns = agent.train(n_runs)\n",
    "    returns_dict[agent.name] = utils.cummean(returns)\n",
    "\n",
    "line(\n",
    "    list(returns_dict.values()),\n",
    "    names=list(returns_dict.keys()),\n",
    "    title=f\"Avg. reward on {env_norvig.spec.name}\",\n",
    "    labels={\"x\": \"Episode\", \"y\": \"Avg. reward\", \"variable\": \"Agent\"},\n",
    "    template=\"simple_white\",\n",
    "    width=700,\n",
    "    height=400,\n",
    "    render_mode=\"svg\"\n",
    ")"
   ]
  },
  {
   "cell_type": "markdown",
   "metadata": {},
   "source": [
    "<details><summary>Solution</summary>\n",
    "\n",
    "```python\n",
    "class EpsilonGreedy(Agent):\n",
    "    \"\"\"\n",
    "    A class for SARSA and Q-Learning to inherit from.\n",
    "    \"\"\"\n",
    "\n",
    "    def __init__(self, env: DiscreteEnviroGym, config: AgentConfig = defaultConfig, gamma: float = 0.99, seed: int = 0):\n",
    "        super().__init__(env, config, gamma, seed)\n",
    "        self.Q = np.zeros((self.num_states, self.num_actions)) + self.config.optimism\n",
    "\n",
    "    def get_action(self, obs: ObsType) -> ActType:\n",
    "        \"\"\"\n",
    "        Selects an action using epsilon-greedy with respect to Q-value estimates\n",
    "        \"\"\"\n",
    "        if self.rng.random() < self.config.epsilon:\n",
    "            return self.rng.integers(0, self.num_actions)\n",
    "        else:\n",
    "            return self.Q[obs].argmax()\n",
    "\n",
    "\n",
    "class QLearning(EpsilonGreedy):\n",
    "    def observe(self, exp: Experience) -> None:\n",
    "        s_t, a_t, r_t_1, s_t_1 = exp.obs, exp.act, exp.reward, exp.new_obs\n",
    "        self.Q[s_t, a_t] += self.config.lr * (r_t_1 + self.gamma * np.max(self.Q[s_t_1]) - self.Q[s_t, a_t])\n",
    "\n",
    "\n",
    "class SARSA(EpsilonGreedy):\n",
    "    def observe(self, exp: Experience):\n",
    "        s_t, a_t, r_t_1, s_t_1, a_t_1 = exp.obs, exp.act, exp.reward, exp.new_obs, exp.new_act\n",
    "        self.Q[s_t, a_t] += self.config.lr * (r_t_1 + self.gamma * self.Q[s_t_1, a_t_1] - self.Q[s_t, a_t])\n",
    "\n",
    "    def run_episode(self, seed) -> list[int]:\n",
    "        rewards = []\n",
    "        obs, info = self.env.reset(seed=seed)\n",
    "        act = self.get_action(obs)\n",
    "        self.reset(seed=seed)\n",
    "        done = False\n",
    "        while not done:\n",
    "            new_obs, reward, terminated, truncated, info = self.env.step(act)\n",
    "            done = terminated or truncated\n",
    "            new_act = self.get_action(new_obs)\n",
    "            exp = Experience(obs, act, reward, new_obs, new_act)\n",
    "            self.observe(exp)\n",
    "            rewards.append(reward)\n",
    "            obs = new_obs\n",
    "            act = new_act\n",
    "        return rewards\n",
    "```\n",
    "</details>"
   ]
  },
  {
   "cell_type": "markdown",
   "metadata": {},
   "source": [
    "Compare the performance of SARSA and Q-Learning on the gridworld environment v.s. the cheating agent and the random agent. Try to tune the hyperparameters to get the best performance you can.\n",
    "\n",
    "- Which seems to work better? SARSA or Q-Learning?\n",
    "- Does the optimism parameter seems to help?\n",
    "- What's the best choice of exploration parameter $\\epsilon$?\n",
    "- The feedback from the environment is very noisy. At the moment, the code provided plots the cumulative average reward per episode. You might want to try plotting a sliding average instead, or an exponential weighted moving average (see `part2_dqn/utils.py`)."
   ]
  },
  {
   "cell_type": "markdown",
   "metadata": {},
   "source": [
    "## Other Environments\n",
    "\n",
    "`gym` provides a large set of environments with which to test agents against. We can see all available environments via the dictionary `gym.envs.registry` (keys are env names, values are env classes).\n",
    "\n",
    "Have a look at [the gymnasium library](https://gymnasium.farama.org/) for descriptions of these environments. As written, our SARSA and Q-Learning agents will only work with environments that have both discrete observation and discrete action spaces.\n",
    "\n",
    "We'll modify the above code to use environment `gym.make(\"CliffWalking-v0\")` instead (see [this link](https://gymnasium.farama.org/environments/toy_text/cliff_walking/)). We have the following graph from Sutton & Barto, Example 6.6, that displays the sum of reward obtained for each episode, as well as the policies obtained (SARSA takes the safer path, Q-Learning takes the optimal path). You may want to check out [this post](https://towardsdatascience.com/walking-off-the-cliff-with-off-policy-reinforcement-learning-7fdbcdfe31ff).\n",
    "\n",
    "<img src=\"https://raw.githubusercontent.com/info-arena/ARENA_img/main/misc/cliff_pi.png\" width=\"450\"><br>\n",
    "<img src=\"https://raw.githubusercontent.com/info-arena/ARENA_img/main/misc/cliff.png\" width=\"450\">\n",
    "\n",
    "Do you get a similar result when you run the code below?\n",
    "\n",
    "Some notes:\n",
    "\n",
    "* Use $\\gamma = 1$ as described in Sutton & Barto, Example 6.6.\n",
    "* Try tweaking the learning rate and epsilon (start with $\\epsilon = 0.1$) to try and cause SARSA to take the cautious path, while Q-Learning takes the risky path.\n",
    "* We've included some helper functions to display the value of each state, as well as the policy an agent would take, given the Q-value function.\n",
    "* One of the bonus exercises we've suggested is to write your own version of `CliffWalking-v0` by writing a class similar to the `Norvig` class you have been working with. If you do this correctly, then you'll also be able to make a cheating agent.\n",
    "* We've defined a `cliffwalk_imshow` helper function for you, which visualises your agent's path (and reward at each square).\n",
    "\n",
    "<details>\n",
    "<summary>Question - why do you think it's okay to use gamma=1 here?</summary>\n",
    "\n",
    "The penalty term `-1` makes sure that the agent is continually penalised until it hits the terminal state. Unlike our `Norvig` environment, there is no wall to get stuck in perpetually, rather hitting the cliff will send you back to the start, so the agent must eventually reach the terminal state.\n",
    "\n",
    "</details>"
   ]
  },
  {
   "cell_type": "code",
   "execution_count": 8,
   "metadata": {},
   "outputs": [
    {
     "name": "stderr",
     "output_type": "stream",
     "text": [
      "100%|██████████| 2500/2500 [00:01<00:00, 1981.88it/s]\n"
     ]
    },
    {
     "data": {
      "application/vnd.plotly.v1+json": {
       "config": {
        "displaylogo": false,
        "plotlyServerURL": "https://plot.ly"
       },
       "data": [
        {
         "coloraxis": "coloraxis",
         "hovertemplate": "x: %{x}<br>y: %{y}<br>color: %{z}<extra></extra>",
         "name": "0",
         "text": [
          [
           "-12.44<br>🡪",
           "-12.44<br>🡪",
           "-11.68<br>🡫",
           "-10.88<br>🡪",
           "-9.94<br>🡫",
           "-8.99<br>🡫",
           "-8.00<br>🡪",
           "-7.00<br>🡪",
           "-6.00<br>🡫",
           "-5.00<br>🡫",
           "-4.00<br>🡪",
           "-3.00<br>🡫"
          ],
          [
           "-13.00<br>🡪",
           "-12.00<br>🡪",
           "-11.00<br>🡪",
           "-10.00<br>🡪",
           "-9.00<br>🡪",
           "-8.00<br>🡪",
           "-7.00<br>🡪",
           "-6.00<br>🡪",
           "-5.00<br>🡪",
           "-4.00<br>🡪",
           "-3.00<br>🡪",
           "-2.00<br>🡫"
          ],
          [
           "-12.00<br>🡪",
           "-11.00<br>🡪",
           "-10.00<br>🡪",
           "-9.00<br>🡪",
           "-8.00<br>🡪",
           "-7.00<br>🡪",
           "-6.00<br>🡪",
           "-5.00<br>🡪",
           "-4.00<br>🡪",
           "-3.00<br>🡪",
           "-2.00<br>🡪",
           "-1.00<br>🡫"
          ],
          [
           "-13.00<br>🡩",
           "0.00",
           "0.00",
           "0.00",
           "0.00",
           "0.00",
           "0.00",
           "0.00",
           "0.00",
           "0.00",
           "0.00",
           "0.00"
          ]
         ],
         "texttemplate": "%{text}",
         "type": "heatmap",
         "xaxis": "x",
         "yaxis": "y",
         "z": [
          [
           -12.436334636939286,
           -12.442661984861253,
           -11.68495621139285,
           -10.883404154436464,
           -9.935022671256792,
           -8.993769874084565,
           -7.998517411455957,
           -6.999848513832623,
           -5.999954524871872,
           -4.999993581600287,
           -3.9999998634347014,
           -2.9999999999992535
          ],
          [
           -12.999999999999899,
           -11.99999999999995,
           -10.999999999999957,
           -9.999999999999964,
           -8.999999999999972,
           -7.9999999999999805,
           -6.999999999999984,
           -5.999999999999988,
           -4.999999999999991,
           -3.9999999999999947,
           -2.9999999999999964,
           -1.9999999999999987
          ],
          [
           -11.99999999999995,
           -10.999999999999957,
           -9.999999999999964,
           -8.999999999999972,
           -7.9999999999999805,
           -6.999999999999984,
           -5.999999999999988,
           -4.999999999999991,
           -3.9999999999999947,
           -2.9999999999999964,
           -1.9999999999999987,
           -0.9999999999999996
          ],
          [
           -12.999999999999943,
           0,
           0,
           0,
           0,
           0,
           0,
           0,
           0,
           0,
           0,
           0
          ]
         ]
        }
       ],
       "layout": {
        "coloraxis": {
         "cmid": 0,
         "colorscale": [
          [
           0,
           "rgb(103,0,31)"
          ],
          [
           0.1,
           "rgb(178,24,43)"
          ],
          [
           0.2,
           "rgb(214,96,77)"
          ],
          [
           0.3,
           "rgb(244,165,130)"
          ],
          [
           0.4,
           "rgb(253,219,199)"
          ],
          [
           0.5,
           "rgb(247,247,247)"
          ],
          [
           0.6,
           "rgb(209,229,240)"
          ],
          [
           0.7,
           "rgb(146,197,222)"
          ],
          [
           0.8,
           "rgb(67,147,195)"
          ],
          [
           0.9,
           "rgb(33,102,172)"
          ],
          [
           1,
           "rgb(5,48,97)"
          ]
         ]
        },
        "height": 400,
        "template": {
         "data": {
          "bar": [
           {
            "error_x": {
             "color": "#2a3f5f"
            },
            "error_y": {
             "color": "#2a3f5f"
            },
            "marker": {
             "line": {
              "color": "#E5ECF6",
              "width": 0.5
             },
             "pattern": {
              "fillmode": "overlay",
              "size": 10,
              "solidity": 0.2
             }
            },
            "type": "bar"
           }
          ],
          "barpolar": [
           {
            "marker": {
             "line": {
              "color": "#E5ECF6",
              "width": 0.5
             },
             "pattern": {
              "fillmode": "overlay",
              "size": 10,
              "solidity": 0.2
             }
            },
            "type": "barpolar"
           }
          ],
          "carpet": [
           {
            "aaxis": {
             "endlinecolor": "#2a3f5f",
             "gridcolor": "white",
             "linecolor": "white",
             "minorgridcolor": "white",
             "startlinecolor": "#2a3f5f"
            },
            "baxis": {
             "endlinecolor": "#2a3f5f",
             "gridcolor": "white",
             "linecolor": "white",
             "minorgridcolor": "white",
             "startlinecolor": "#2a3f5f"
            },
            "type": "carpet"
           }
          ],
          "choropleth": [
           {
            "colorbar": {
             "outlinewidth": 0,
             "ticks": ""
            },
            "type": "choropleth"
           }
          ],
          "contour": [
           {
            "colorbar": {
             "outlinewidth": 0,
             "ticks": ""
            },
            "colorscale": [
             [
              0,
              "#0d0887"
             ],
             [
              0.1111111111111111,
              "#46039f"
             ],
             [
              0.2222222222222222,
              "#7201a8"
             ],
             [
              0.3333333333333333,
              "#9c179e"
             ],
             [
              0.4444444444444444,
              "#bd3786"
             ],
             [
              0.5555555555555556,
              "#d8576b"
             ],
             [
              0.6666666666666666,
              "#ed7953"
             ],
             [
              0.7777777777777778,
              "#fb9f3a"
             ],
             [
              0.8888888888888888,
              "#fdca26"
             ],
             [
              1,
              "#f0f921"
             ]
            ],
            "type": "contour"
           }
          ],
          "contourcarpet": [
           {
            "colorbar": {
             "outlinewidth": 0,
             "ticks": ""
            },
            "type": "contourcarpet"
           }
          ],
          "heatmap": [
           {
            "colorbar": {
             "outlinewidth": 0,
             "ticks": ""
            },
            "colorscale": [
             [
              0,
              "#0d0887"
             ],
             [
              0.1111111111111111,
              "#46039f"
             ],
             [
              0.2222222222222222,
              "#7201a8"
             ],
             [
              0.3333333333333333,
              "#9c179e"
             ],
             [
              0.4444444444444444,
              "#bd3786"
             ],
             [
              0.5555555555555556,
              "#d8576b"
             ],
             [
              0.6666666666666666,
              "#ed7953"
             ],
             [
              0.7777777777777778,
              "#fb9f3a"
             ],
             [
              0.8888888888888888,
              "#fdca26"
             ],
             [
              1,
              "#f0f921"
             ]
            ],
            "type": "heatmap"
           }
          ],
          "heatmapgl": [
           {
            "colorbar": {
             "outlinewidth": 0,
             "ticks": ""
            },
            "colorscale": [
             [
              0,
              "#0d0887"
             ],
             [
              0.1111111111111111,
              "#46039f"
             ],
             [
              0.2222222222222222,
              "#7201a8"
             ],
             [
              0.3333333333333333,
              "#9c179e"
             ],
             [
              0.4444444444444444,
              "#bd3786"
             ],
             [
              0.5555555555555556,
              "#d8576b"
             ],
             [
              0.6666666666666666,
              "#ed7953"
             ],
             [
              0.7777777777777778,
              "#fb9f3a"
             ],
             [
              0.8888888888888888,
              "#fdca26"
             ],
             [
              1,
              "#f0f921"
             ]
            ],
            "type": "heatmapgl"
           }
          ],
          "histogram": [
           {
            "marker": {
             "pattern": {
              "fillmode": "overlay",
              "size": 10,
              "solidity": 0.2
             }
            },
            "type": "histogram"
           }
          ],
          "histogram2d": [
           {
            "colorbar": {
             "outlinewidth": 0,
             "ticks": ""
            },
            "colorscale": [
             [
              0,
              "#0d0887"
             ],
             [
              0.1111111111111111,
              "#46039f"
             ],
             [
              0.2222222222222222,
              "#7201a8"
             ],
             [
              0.3333333333333333,
              "#9c179e"
             ],
             [
              0.4444444444444444,
              "#bd3786"
             ],
             [
              0.5555555555555556,
              "#d8576b"
             ],
             [
              0.6666666666666666,
              "#ed7953"
             ],
             [
              0.7777777777777778,
              "#fb9f3a"
             ],
             [
              0.8888888888888888,
              "#fdca26"
             ],
             [
              1,
              "#f0f921"
             ]
            ],
            "type": "histogram2d"
           }
          ],
          "histogram2dcontour": [
           {
            "colorbar": {
             "outlinewidth": 0,
             "ticks": ""
            },
            "colorscale": [
             [
              0,
              "#0d0887"
             ],
             [
              0.1111111111111111,
              "#46039f"
             ],
             [
              0.2222222222222222,
              "#7201a8"
             ],
             [
              0.3333333333333333,
              "#9c179e"
             ],
             [
              0.4444444444444444,
              "#bd3786"
             ],
             [
              0.5555555555555556,
              "#d8576b"
             ],
             [
              0.6666666666666666,
              "#ed7953"
             ],
             [
              0.7777777777777778,
              "#fb9f3a"
             ],
             [
              0.8888888888888888,
              "#fdca26"
             ],
             [
              1,
              "#f0f921"
             ]
            ],
            "type": "histogram2dcontour"
           }
          ],
          "mesh3d": [
           {
            "colorbar": {
             "outlinewidth": 0,
             "ticks": ""
            },
            "type": "mesh3d"
           }
          ],
          "parcoords": [
           {
            "line": {
             "colorbar": {
              "outlinewidth": 0,
              "ticks": ""
             }
            },
            "type": "parcoords"
           }
          ],
          "pie": [
           {
            "automargin": true,
            "type": "pie"
           }
          ],
          "scatter": [
           {
            "fillpattern": {
             "fillmode": "overlay",
             "size": 10,
             "solidity": 0.2
            },
            "type": "scatter"
           }
          ],
          "scatter3d": [
           {
            "line": {
             "colorbar": {
              "outlinewidth": 0,
              "ticks": ""
             }
            },
            "marker": {
             "colorbar": {
              "outlinewidth": 0,
              "ticks": ""
             }
            },
            "type": "scatter3d"
           }
          ],
          "scattercarpet": [
           {
            "marker": {
             "colorbar": {
              "outlinewidth": 0,
              "ticks": ""
             }
            },
            "type": "scattercarpet"
           }
          ],
          "scattergeo": [
           {
            "marker": {
             "colorbar": {
              "outlinewidth": 0,
              "ticks": ""
             }
            },
            "type": "scattergeo"
           }
          ],
          "scattergl": [
           {
            "marker": {
             "colorbar": {
              "outlinewidth": 0,
              "ticks": ""
             }
            },
            "type": "scattergl"
           }
          ],
          "scattermapbox": [
           {
            "marker": {
             "colorbar": {
              "outlinewidth": 0,
              "ticks": ""
             }
            },
            "type": "scattermapbox"
           }
          ],
          "scatterpolar": [
           {
            "marker": {
             "colorbar": {
              "outlinewidth": 0,
              "ticks": ""
             }
            },
            "type": "scatterpolar"
           }
          ],
          "scatterpolargl": [
           {
            "marker": {
             "colorbar": {
              "outlinewidth": 0,
              "ticks": ""
             }
            },
            "type": "scatterpolargl"
           }
          ],
          "scatterternary": [
           {
            "marker": {
             "colorbar": {
              "outlinewidth": 0,
              "ticks": ""
             }
            },
            "type": "scatterternary"
           }
          ],
          "surface": [
           {
            "colorbar": {
             "outlinewidth": 0,
             "ticks": ""
            },
            "colorscale": [
             [
              0,
              "#0d0887"
             ],
             [
              0.1111111111111111,
              "#46039f"
             ],
             [
              0.2222222222222222,
              "#7201a8"
             ],
             [
              0.3333333333333333,
              "#9c179e"
             ],
             [
              0.4444444444444444,
              "#bd3786"
             ],
             [
              0.5555555555555556,
              "#d8576b"
             ],
             [
              0.6666666666666666,
              "#ed7953"
             ],
             [
              0.7777777777777778,
              "#fb9f3a"
             ],
             [
              0.8888888888888888,
              "#fdca26"
             ],
             [
              1,
              "#f0f921"
             ]
            ],
            "type": "surface"
           }
          ],
          "table": [
           {
            "cells": {
             "fill": {
              "color": "#EBF0F8"
             },
             "line": {
              "color": "white"
             }
            },
            "header": {
             "fill": {
              "color": "#C8D4E3"
             },
             "line": {
              "color": "white"
             }
            },
            "type": "table"
           }
          ]
         },
         "layout": {
          "annotationdefaults": {
           "arrowcolor": "#2a3f5f",
           "arrowhead": 0,
           "arrowwidth": 1
          },
          "autotypenumbers": "strict",
          "coloraxis": {
           "colorbar": {
            "outlinewidth": 0,
            "ticks": ""
           }
          },
          "colorscale": {
           "diverging": [
            [
             0,
             "#8e0152"
            ],
            [
             0.1,
             "#c51b7d"
            ],
            [
             0.2,
             "#de77ae"
            ],
            [
             0.3,
             "#f1b6da"
            ],
            [
             0.4,
             "#fde0ef"
            ],
            [
             0.5,
             "#f7f7f7"
            ],
            [
             0.6,
             "#e6f5d0"
            ],
            [
             0.7,
             "#b8e186"
            ],
            [
             0.8,
             "#7fbc41"
            ],
            [
             0.9,
             "#4d9221"
            ],
            [
             1,
             "#276419"
            ]
           ],
           "sequential": [
            [
             0,
             "#0d0887"
            ],
            [
             0.1111111111111111,
             "#46039f"
            ],
            [
             0.2222222222222222,
             "#7201a8"
            ],
            [
             0.3333333333333333,
             "#9c179e"
            ],
            [
             0.4444444444444444,
             "#bd3786"
            ],
            [
             0.5555555555555556,
             "#d8576b"
            ],
            [
             0.6666666666666666,
             "#ed7953"
            ],
            [
             0.7777777777777778,
             "#fb9f3a"
            ],
            [
             0.8888888888888888,
             "#fdca26"
            ],
            [
             1,
             "#f0f921"
            ]
           ],
           "sequentialminus": [
            [
             0,
             "#0d0887"
            ],
            [
             0.1111111111111111,
             "#46039f"
            ],
            [
             0.2222222222222222,
             "#7201a8"
            ],
            [
             0.3333333333333333,
             "#9c179e"
            ],
            [
             0.4444444444444444,
             "#bd3786"
            ],
            [
             0.5555555555555556,
             "#d8576b"
            ],
            [
             0.6666666666666666,
             "#ed7953"
            ],
            [
             0.7777777777777778,
             "#fb9f3a"
            ],
            [
             0.8888888888888888,
             "#fdca26"
            ],
            [
             1,
             "#f0f921"
            ]
           ]
          },
          "colorway": [
           "#636efa",
           "#EF553B",
           "#00cc96",
           "#ab63fa",
           "#FFA15A",
           "#19d3f3",
           "#FF6692",
           "#B6E880",
           "#FF97FF",
           "#FECB52"
          ],
          "font": {
           "color": "#2a3f5f"
          },
          "geo": {
           "bgcolor": "white",
           "lakecolor": "white",
           "landcolor": "#E5ECF6",
           "showlakes": true,
           "showland": true,
           "subunitcolor": "white"
          },
          "hoverlabel": {
           "align": "left"
          },
          "hovermode": "closest",
          "mapbox": {
           "style": "light"
          },
          "paper_bgcolor": "white",
          "plot_bgcolor": "#E5ECF6",
          "polar": {
           "angularaxis": {
            "gridcolor": "white",
            "linecolor": "white",
            "ticks": ""
           },
           "bgcolor": "#E5ECF6",
           "radialaxis": {
            "gridcolor": "white",
            "linecolor": "white",
            "ticks": ""
           }
          },
          "scene": {
           "xaxis": {
            "backgroundcolor": "#E5ECF6",
            "gridcolor": "white",
            "gridwidth": 2,
            "linecolor": "white",
            "showbackground": true,
            "ticks": "",
            "zerolinecolor": "white"
           },
           "yaxis": {
            "backgroundcolor": "#E5ECF6",
            "gridcolor": "white",
            "gridwidth": 2,
            "linecolor": "white",
            "showbackground": true,
            "ticks": "",
            "zerolinecolor": "white"
           },
           "zaxis": {
            "backgroundcolor": "#E5ECF6",
            "gridcolor": "white",
            "gridwidth": 2,
            "linecolor": "white",
            "showbackground": true,
            "ticks": "",
            "zerolinecolor": "white"
           }
          },
          "shapedefaults": {
           "line": {
            "color": "#2a3f5f"
           }
          },
          "ternary": {
           "aaxis": {
            "gridcolor": "white",
            "linecolor": "white",
            "ticks": ""
           },
           "baxis": {
            "gridcolor": "white",
            "linecolor": "white",
            "ticks": ""
           },
           "bgcolor": "#E5ECF6",
           "caxis": {
            "gridcolor": "white",
            "linecolor": "white",
            "ticks": ""
           }
          },
          "title": {
           "x": 0.05
          },
          "xaxis": {
           "automargin": true,
           "gridcolor": "white",
           "linecolor": "white",
           "ticks": "",
           "title": {
            "standoff": 15
           },
           "zerolinecolor": "white",
           "zerolinewidth": 2
          },
          "yaxis": {
           "automargin": true,
           "gridcolor": "white",
           "linecolor": "white",
           "ticks": "",
           "title": {
            "standoff": 15
           },
           "zerolinecolor": "white",
           "zerolinewidth": 2
          }
         }
        },
        "title": {
         "text": "CliffWalking: QLearning Agent"
        },
        "width": 800,
        "xaxis": {
         "anchor": "y",
         "constrain": "domain",
         "domain": [
          0,
          1
         ],
         "scaleanchor": "y"
        },
        "yaxis": {
         "anchor": "x",
         "autorange": "reversed",
         "constrain": "domain",
         "domain": [
          0,
          1
         ]
        }
       }
      }
     },
     "metadata": {},
     "output_type": "display_data"
    },
    {
     "name": "stdout",
     "output_type": "stream",
     "text": [
      "10\n"
     ]
    },
    {
     "name": "stderr",
     "output_type": "stream",
     "text": [
      "100%|██████████| 2500/2500 [00:01<00:00, 1749.13it/s]\n"
     ]
    },
    {
     "data": {
      "application/vnd.plotly.v1+json": {
       "config": {
        "displaylogo": false,
        "plotlyServerURL": "https://plot.ly"
       },
       "data": [
        {
         "coloraxis": "coloraxis",
         "hovertemplate": "x: %{x}<br>y: %{y}<br>color: %{z}<extra></extra>",
         "name": "0",
         "text": [
          [
           "-14.78<br>🡪",
           "-13.79<br>🡪",
           "-12.70<br>🡪",
           "-11.64<br>🡪",
           "-10.67<br>🡪",
           "-9.63<br>🡪",
           "-8.61<br>🡪",
           "-7.53<br>🡪",
           "-6.38<br>🡪",
           "-5.22<br>🡪",
           "-4.18<br>🡪",
           "-3.40<br>🡫"
          ],
          [
           "-15.00<br>🡪",
           "-13.99<br>🡪",
           "-12.61<br>🡪",
           "-11.39<br>🡪",
           "-10.43<br>🡪",
           "-9.07<br>🡪",
           "-8.01<br>🡪",
           "-7.12<br>🡪",
           "-5.69<br>🡪",
           "-4.48<br>🡪",
           "-3.20<br>🡪",
           "-2.16<br>🡫"
          ],
          [
           "-16.14<br>🡩",
           "-15.36<br>🡩",
           "-13.79<br>🡩",
           "-12.63<br>🡩",
           "-11.35<br>🡩",
           "-10.27<br>🡩",
           "-8.89<br>🡩",
           "-7.76<br>🡩",
           "-7.02<br>🡩",
           "-5.18<br>🡩",
           "-2.03<br>🡪",
           "-1.00<br>🡫"
          ],
          [
           "-17.28<br>🡩",
           "0.00",
           "0.00",
           "0.00",
           "0.00",
           "0.00",
           "0.00",
           "0.00",
           "0.00",
           "0.00",
           "0.00",
           "0.00"
          ]
         ],
         "texttemplate": "%{text}",
         "type": "heatmap",
         "xaxis": "x",
         "yaxis": "y",
         "z": [
          [
           -14.777755046641671,
           -13.785927141672827,
           -12.696941979297081,
           -11.643984715937545,
           -10.671389593021553,
           -9.634996796836834,
           -8.61478087712866,
           -7.527335867924252,
           -6.384146379748864,
           -5.220181850435524,
           -4.176558055532668,
           -3.404227662209284
          ],
          [
           -14.99912914914679,
           -13.99051602358156,
           -12.605456951772684,
           -11.38677267375829,
           -10.42591654803,
           -9.066278470658709,
           -8.006772416999631,
           -7.116799085861876,
           -5.692585347813393,
           -4.475994816484009,
           -3.2007301663721415,
           -2.155824755709498
          ],
          [
           -16.135997352595442,
           -15.359516003787967,
           -13.788581249276092,
           -12.62781295230622,
           -11.350052179957077,
           -10.265165224599459,
           -8.886561494642493,
           -7.764939065951564,
           -7.017324475126038,
           -5.183046723122168,
           -2.0269986898554837,
           -0.9999999999999996
          ],
          [
           -17.284134365735312,
           0,
           0,
           0,
           0,
           0,
           0,
           0,
           0,
           0,
           0,
           0
          ]
         ]
        }
       ],
       "layout": {
        "coloraxis": {
         "cmid": 0,
         "colorscale": [
          [
           0,
           "rgb(103,0,31)"
          ],
          [
           0.1,
           "rgb(178,24,43)"
          ],
          [
           0.2,
           "rgb(214,96,77)"
          ],
          [
           0.3,
           "rgb(244,165,130)"
          ],
          [
           0.4,
           "rgb(253,219,199)"
          ],
          [
           0.5,
           "rgb(247,247,247)"
          ],
          [
           0.6,
           "rgb(209,229,240)"
          ],
          [
           0.7,
           "rgb(146,197,222)"
          ],
          [
           0.8,
           "rgb(67,147,195)"
          ],
          [
           0.9,
           "rgb(33,102,172)"
          ],
          [
           1,
           "rgb(5,48,97)"
          ]
         ]
        },
        "height": 400,
        "template": {
         "data": {
          "bar": [
           {
            "error_x": {
             "color": "#2a3f5f"
            },
            "error_y": {
             "color": "#2a3f5f"
            },
            "marker": {
             "line": {
              "color": "#E5ECF6",
              "width": 0.5
             },
             "pattern": {
              "fillmode": "overlay",
              "size": 10,
              "solidity": 0.2
             }
            },
            "type": "bar"
           }
          ],
          "barpolar": [
           {
            "marker": {
             "line": {
              "color": "#E5ECF6",
              "width": 0.5
             },
             "pattern": {
              "fillmode": "overlay",
              "size": 10,
              "solidity": 0.2
             }
            },
            "type": "barpolar"
           }
          ],
          "carpet": [
           {
            "aaxis": {
             "endlinecolor": "#2a3f5f",
             "gridcolor": "white",
             "linecolor": "white",
             "minorgridcolor": "white",
             "startlinecolor": "#2a3f5f"
            },
            "baxis": {
             "endlinecolor": "#2a3f5f",
             "gridcolor": "white",
             "linecolor": "white",
             "minorgridcolor": "white",
             "startlinecolor": "#2a3f5f"
            },
            "type": "carpet"
           }
          ],
          "choropleth": [
           {
            "colorbar": {
             "outlinewidth": 0,
             "ticks": ""
            },
            "type": "choropleth"
           }
          ],
          "contour": [
           {
            "colorbar": {
             "outlinewidth": 0,
             "ticks": ""
            },
            "colorscale": [
             [
              0,
              "#0d0887"
             ],
             [
              0.1111111111111111,
              "#46039f"
             ],
             [
              0.2222222222222222,
              "#7201a8"
             ],
             [
              0.3333333333333333,
              "#9c179e"
             ],
             [
              0.4444444444444444,
              "#bd3786"
             ],
             [
              0.5555555555555556,
              "#d8576b"
             ],
             [
              0.6666666666666666,
              "#ed7953"
             ],
             [
              0.7777777777777778,
              "#fb9f3a"
             ],
             [
              0.8888888888888888,
              "#fdca26"
             ],
             [
              1,
              "#f0f921"
             ]
            ],
            "type": "contour"
           }
          ],
          "contourcarpet": [
           {
            "colorbar": {
             "outlinewidth": 0,
             "ticks": ""
            },
            "type": "contourcarpet"
           }
          ],
          "heatmap": [
           {
            "colorbar": {
             "outlinewidth": 0,
             "ticks": ""
            },
            "colorscale": [
             [
              0,
              "#0d0887"
             ],
             [
              0.1111111111111111,
              "#46039f"
             ],
             [
              0.2222222222222222,
              "#7201a8"
             ],
             [
              0.3333333333333333,
              "#9c179e"
             ],
             [
              0.4444444444444444,
              "#bd3786"
             ],
             [
              0.5555555555555556,
              "#d8576b"
             ],
             [
              0.6666666666666666,
              "#ed7953"
             ],
             [
              0.7777777777777778,
              "#fb9f3a"
             ],
             [
              0.8888888888888888,
              "#fdca26"
             ],
             [
              1,
              "#f0f921"
             ]
            ],
            "type": "heatmap"
           }
          ],
          "heatmapgl": [
           {
            "colorbar": {
             "outlinewidth": 0,
             "ticks": ""
            },
            "colorscale": [
             [
              0,
              "#0d0887"
             ],
             [
              0.1111111111111111,
              "#46039f"
             ],
             [
              0.2222222222222222,
              "#7201a8"
             ],
             [
              0.3333333333333333,
              "#9c179e"
             ],
             [
              0.4444444444444444,
              "#bd3786"
             ],
             [
              0.5555555555555556,
              "#d8576b"
             ],
             [
              0.6666666666666666,
              "#ed7953"
             ],
             [
              0.7777777777777778,
              "#fb9f3a"
             ],
             [
              0.8888888888888888,
              "#fdca26"
             ],
             [
              1,
              "#f0f921"
             ]
            ],
            "type": "heatmapgl"
           }
          ],
          "histogram": [
           {
            "marker": {
             "pattern": {
              "fillmode": "overlay",
              "size": 10,
              "solidity": 0.2
             }
            },
            "type": "histogram"
           }
          ],
          "histogram2d": [
           {
            "colorbar": {
             "outlinewidth": 0,
             "ticks": ""
            },
            "colorscale": [
             [
              0,
              "#0d0887"
             ],
             [
              0.1111111111111111,
              "#46039f"
             ],
             [
              0.2222222222222222,
              "#7201a8"
             ],
             [
              0.3333333333333333,
              "#9c179e"
             ],
             [
              0.4444444444444444,
              "#bd3786"
             ],
             [
              0.5555555555555556,
              "#d8576b"
             ],
             [
              0.6666666666666666,
              "#ed7953"
             ],
             [
              0.7777777777777778,
              "#fb9f3a"
             ],
             [
              0.8888888888888888,
              "#fdca26"
             ],
             [
              1,
              "#f0f921"
             ]
            ],
            "type": "histogram2d"
           }
          ],
          "histogram2dcontour": [
           {
            "colorbar": {
             "outlinewidth": 0,
             "ticks": ""
            },
            "colorscale": [
             [
              0,
              "#0d0887"
             ],
             [
              0.1111111111111111,
              "#46039f"
             ],
             [
              0.2222222222222222,
              "#7201a8"
             ],
             [
              0.3333333333333333,
              "#9c179e"
             ],
             [
              0.4444444444444444,
              "#bd3786"
             ],
             [
              0.5555555555555556,
              "#d8576b"
             ],
             [
              0.6666666666666666,
              "#ed7953"
             ],
             [
              0.7777777777777778,
              "#fb9f3a"
             ],
             [
              0.8888888888888888,
              "#fdca26"
             ],
             [
              1,
              "#f0f921"
             ]
            ],
            "type": "histogram2dcontour"
           }
          ],
          "mesh3d": [
           {
            "colorbar": {
             "outlinewidth": 0,
             "ticks": ""
            },
            "type": "mesh3d"
           }
          ],
          "parcoords": [
           {
            "line": {
             "colorbar": {
              "outlinewidth": 0,
              "ticks": ""
             }
            },
            "type": "parcoords"
           }
          ],
          "pie": [
           {
            "automargin": true,
            "type": "pie"
           }
          ],
          "scatter": [
           {
            "fillpattern": {
             "fillmode": "overlay",
             "size": 10,
             "solidity": 0.2
            },
            "type": "scatter"
           }
          ],
          "scatter3d": [
           {
            "line": {
             "colorbar": {
              "outlinewidth": 0,
              "ticks": ""
             }
            },
            "marker": {
             "colorbar": {
              "outlinewidth": 0,
              "ticks": ""
             }
            },
            "type": "scatter3d"
           }
          ],
          "scattercarpet": [
           {
            "marker": {
             "colorbar": {
              "outlinewidth": 0,
              "ticks": ""
             }
            },
            "type": "scattercarpet"
           }
          ],
          "scattergeo": [
           {
            "marker": {
             "colorbar": {
              "outlinewidth": 0,
              "ticks": ""
             }
            },
            "type": "scattergeo"
           }
          ],
          "scattergl": [
           {
            "marker": {
             "colorbar": {
              "outlinewidth": 0,
              "ticks": ""
             }
            },
            "type": "scattergl"
           }
          ],
          "scattermapbox": [
           {
            "marker": {
             "colorbar": {
              "outlinewidth": 0,
              "ticks": ""
             }
            },
            "type": "scattermapbox"
           }
          ],
          "scatterpolar": [
           {
            "marker": {
             "colorbar": {
              "outlinewidth": 0,
              "ticks": ""
             }
            },
            "type": "scatterpolar"
           }
          ],
          "scatterpolargl": [
           {
            "marker": {
             "colorbar": {
              "outlinewidth": 0,
              "ticks": ""
             }
            },
            "type": "scatterpolargl"
           }
          ],
          "scatterternary": [
           {
            "marker": {
             "colorbar": {
              "outlinewidth": 0,
              "ticks": ""
             }
            },
            "type": "scatterternary"
           }
          ],
          "surface": [
           {
            "colorbar": {
             "outlinewidth": 0,
             "ticks": ""
            },
            "colorscale": [
             [
              0,
              "#0d0887"
             ],
             [
              0.1111111111111111,
              "#46039f"
             ],
             [
              0.2222222222222222,
              "#7201a8"
             ],
             [
              0.3333333333333333,
              "#9c179e"
             ],
             [
              0.4444444444444444,
              "#bd3786"
             ],
             [
              0.5555555555555556,
              "#d8576b"
             ],
             [
              0.6666666666666666,
              "#ed7953"
             ],
             [
              0.7777777777777778,
              "#fb9f3a"
             ],
             [
              0.8888888888888888,
              "#fdca26"
             ],
             [
              1,
              "#f0f921"
             ]
            ],
            "type": "surface"
           }
          ],
          "table": [
           {
            "cells": {
             "fill": {
              "color": "#EBF0F8"
             },
             "line": {
              "color": "white"
             }
            },
            "header": {
             "fill": {
              "color": "#C8D4E3"
             },
             "line": {
              "color": "white"
             }
            },
            "type": "table"
           }
          ]
         },
         "layout": {
          "annotationdefaults": {
           "arrowcolor": "#2a3f5f",
           "arrowhead": 0,
           "arrowwidth": 1
          },
          "autotypenumbers": "strict",
          "coloraxis": {
           "colorbar": {
            "outlinewidth": 0,
            "ticks": ""
           }
          },
          "colorscale": {
           "diverging": [
            [
             0,
             "#8e0152"
            ],
            [
             0.1,
             "#c51b7d"
            ],
            [
             0.2,
             "#de77ae"
            ],
            [
             0.3,
             "#f1b6da"
            ],
            [
             0.4,
             "#fde0ef"
            ],
            [
             0.5,
             "#f7f7f7"
            ],
            [
             0.6,
             "#e6f5d0"
            ],
            [
             0.7,
             "#b8e186"
            ],
            [
             0.8,
             "#7fbc41"
            ],
            [
             0.9,
             "#4d9221"
            ],
            [
             1,
             "#276419"
            ]
           ],
           "sequential": [
            [
             0,
             "#0d0887"
            ],
            [
             0.1111111111111111,
             "#46039f"
            ],
            [
             0.2222222222222222,
             "#7201a8"
            ],
            [
             0.3333333333333333,
             "#9c179e"
            ],
            [
             0.4444444444444444,
             "#bd3786"
            ],
            [
             0.5555555555555556,
             "#d8576b"
            ],
            [
             0.6666666666666666,
             "#ed7953"
            ],
            [
             0.7777777777777778,
             "#fb9f3a"
            ],
            [
             0.8888888888888888,
             "#fdca26"
            ],
            [
             1,
             "#f0f921"
            ]
           ],
           "sequentialminus": [
            [
             0,
             "#0d0887"
            ],
            [
             0.1111111111111111,
             "#46039f"
            ],
            [
             0.2222222222222222,
             "#7201a8"
            ],
            [
             0.3333333333333333,
             "#9c179e"
            ],
            [
             0.4444444444444444,
             "#bd3786"
            ],
            [
             0.5555555555555556,
             "#d8576b"
            ],
            [
             0.6666666666666666,
             "#ed7953"
            ],
            [
             0.7777777777777778,
             "#fb9f3a"
            ],
            [
             0.8888888888888888,
             "#fdca26"
            ],
            [
             1,
             "#f0f921"
            ]
           ]
          },
          "colorway": [
           "#636efa",
           "#EF553B",
           "#00cc96",
           "#ab63fa",
           "#FFA15A",
           "#19d3f3",
           "#FF6692",
           "#B6E880",
           "#FF97FF",
           "#FECB52"
          ],
          "font": {
           "color": "#2a3f5f"
          },
          "geo": {
           "bgcolor": "white",
           "lakecolor": "white",
           "landcolor": "#E5ECF6",
           "showlakes": true,
           "showland": true,
           "subunitcolor": "white"
          },
          "hoverlabel": {
           "align": "left"
          },
          "hovermode": "closest",
          "mapbox": {
           "style": "light"
          },
          "paper_bgcolor": "white",
          "plot_bgcolor": "#E5ECF6",
          "polar": {
           "angularaxis": {
            "gridcolor": "white",
            "linecolor": "white",
            "ticks": ""
           },
           "bgcolor": "#E5ECF6",
           "radialaxis": {
            "gridcolor": "white",
            "linecolor": "white",
            "ticks": ""
           }
          },
          "scene": {
           "xaxis": {
            "backgroundcolor": "#E5ECF6",
            "gridcolor": "white",
            "gridwidth": 2,
            "linecolor": "white",
            "showbackground": true,
            "ticks": "",
            "zerolinecolor": "white"
           },
           "yaxis": {
            "backgroundcolor": "#E5ECF6",
            "gridcolor": "white",
            "gridwidth": 2,
            "linecolor": "white",
            "showbackground": true,
            "ticks": "",
            "zerolinecolor": "white"
           },
           "zaxis": {
            "backgroundcolor": "#E5ECF6",
            "gridcolor": "white",
            "gridwidth": 2,
            "linecolor": "white",
            "showbackground": true,
            "ticks": "",
            "zerolinecolor": "white"
           }
          },
          "shapedefaults": {
           "line": {
            "color": "#2a3f5f"
           }
          },
          "ternary": {
           "aaxis": {
            "gridcolor": "white",
            "linecolor": "white",
            "ticks": ""
           },
           "baxis": {
            "gridcolor": "white",
            "linecolor": "white",
            "ticks": ""
           },
           "bgcolor": "#E5ECF6",
           "caxis": {
            "gridcolor": "white",
            "linecolor": "white",
            "ticks": ""
           }
          },
          "title": {
           "x": 0.05
          },
          "xaxis": {
           "automargin": true,
           "gridcolor": "white",
           "linecolor": "white",
           "ticks": "",
           "title": {
            "standoff": 15
           },
           "zerolinecolor": "white",
           "zerolinewidth": 2
          },
          "yaxis": {
           "automargin": true,
           "gridcolor": "white",
           "linecolor": "white",
           "ticks": "",
           "title": {
            "standoff": 15
           },
           "zerolinecolor": "white",
           "zerolinewidth": 2
          }
         }
        },
        "title": {
         "text": "CliffWalking: SARSA Agent"
        },
        "width": 800,
        "xaxis": {
         "anchor": "y",
         "constrain": "domain",
         "domain": [
          0,
          1
         ],
         "scaleanchor": "y"
        },
        "yaxis": {
         "anchor": "x",
         "autorange": "reversed",
         "constrain": "domain",
         "domain": [
          0,
          1
         ]
        }
       }
      }
     },
     "metadata": {},
     "output_type": "display_data"
    },
    {
     "name": "stdout",
     "output_type": "stream",
     "text": [
      "10\n"
     ]
    },
    {
     "data": {
      "application/vnd.plotly.v1+json": {
       "config": {
        "plotlyServerURL": "https://plot.ly"
       },
       "data": [
        {
         "hovertemplate": "Agent=wide_variable_0<br>index=%{x}<br>value=%{y}<extra></extra>",
         "legendgroup": "wide_variable_0",
         "line": {
          "color": "#1F77B4",
          "dash": "solid"
         },
         "marker": {
          "symbol": "circle"
         },
         "mode": "lines",
         "name": "QLearning",
         "orientation": "v",
         "showlegend": true,
         "type": "scatter",
         "x": [
          0,
          1,
          2,
          3,
          4,
          5,
          6,
          7,
          8,
          9
         ],
         "xaxis": "x",
         "y": [
          -13,
          -13,
          -13,
          -13,
          -13,
          -13,
          -13,
          -13,
          -13,
          -13
         ],
         "yaxis": "y"
        },
        {
         "hovertemplate": "Agent=wide_variable_1<br>index=%{x}<br>value=%{y}<extra></extra>",
         "legendgroup": "wide_variable_1",
         "line": {
          "color": "#FF7F0E",
          "dash": "solid"
         },
         "marker": {
          "symbol": "circle"
         },
         "mode": "lines",
         "name": "SARSA",
         "orientation": "v",
         "showlegend": true,
         "type": "scatter",
         "x": [
          0,
          1,
          2,
          3,
          4,
          5,
          6,
          7,
          8,
          9
         ],
         "xaxis": "x",
         "y": [
          -15,
          -15,
          -15,
          -15,
          -15,
          -15,
          -15,
          -15,
          -15,
          -15
         ],
         "yaxis": "y"
        }
       ],
       "layout": {
        "height": 400,
        "hovermode": "x unified",
        "legend": {
         "title": {
          "text": "Agent"
         },
         "tracegroupgap": 0
        },
        "template": {
         "data": {
          "bar": [
           {
            "error_x": {
             "color": "rgb(36,36,36)"
            },
            "error_y": {
             "color": "rgb(36,36,36)"
            },
            "marker": {
             "line": {
              "color": "white",
              "width": 0.5
             },
             "pattern": {
              "fillmode": "overlay",
              "size": 10,
              "solidity": 0.2
             }
            },
            "type": "bar"
           }
          ],
          "barpolar": [
           {
            "marker": {
             "line": {
              "color": "white",
              "width": 0.5
             },
             "pattern": {
              "fillmode": "overlay",
              "size": 10,
              "solidity": 0.2
             }
            },
            "type": "barpolar"
           }
          ],
          "carpet": [
           {
            "aaxis": {
             "endlinecolor": "rgb(36,36,36)",
             "gridcolor": "white",
             "linecolor": "white",
             "minorgridcolor": "white",
             "startlinecolor": "rgb(36,36,36)"
            },
            "baxis": {
             "endlinecolor": "rgb(36,36,36)",
             "gridcolor": "white",
             "linecolor": "white",
             "minorgridcolor": "white",
             "startlinecolor": "rgb(36,36,36)"
            },
            "type": "carpet"
           }
          ],
          "choropleth": [
           {
            "colorbar": {
             "outlinewidth": 1,
             "tickcolor": "rgb(36,36,36)",
             "ticks": "outside"
            },
            "type": "choropleth"
           }
          ],
          "contour": [
           {
            "colorbar": {
             "outlinewidth": 1,
             "tickcolor": "rgb(36,36,36)",
             "ticks": "outside"
            },
            "colorscale": [
             [
              0,
              "#440154"
             ],
             [
              0.1111111111111111,
              "#482878"
             ],
             [
              0.2222222222222222,
              "#3e4989"
             ],
             [
              0.3333333333333333,
              "#31688e"
             ],
             [
              0.4444444444444444,
              "#26828e"
             ],
             [
              0.5555555555555556,
              "#1f9e89"
             ],
             [
              0.6666666666666666,
              "#35b779"
             ],
             [
              0.7777777777777778,
              "#6ece58"
             ],
             [
              0.8888888888888888,
              "#b5de2b"
             ],
             [
              1,
              "#fde725"
             ]
            ],
            "type": "contour"
           }
          ],
          "contourcarpet": [
           {
            "colorbar": {
             "outlinewidth": 1,
             "tickcolor": "rgb(36,36,36)",
             "ticks": "outside"
            },
            "type": "contourcarpet"
           }
          ],
          "heatmap": [
           {
            "colorbar": {
             "outlinewidth": 1,
             "tickcolor": "rgb(36,36,36)",
             "ticks": "outside"
            },
            "colorscale": [
             [
              0,
              "#440154"
             ],
             [
              0.1111111111111111,
              "#482878"
             ],
             [
              0.2222222222222222,
              "#3e4989"
             ],
             [
              0.3333333333333333,
              "#31688e"
             ],
             [
              0.4444444444444444,
              "#26828e"
             ],
             [
              0.5555555555555556,
              "#1f9e89"
             ],
             [
              0.6666666666666666,
              "#35b779"
             ],
             [
              0.7777777777777778,
              "#6ece58"
             ],
             [
              0.8888888888888888,
              "#b5de2b"
             ],
             [
              1,
              "#fde725"
             ]
            ],
            "type": "heatmap"
           }
          ],
          "heatmapgl": [
           {
            "colorbar": {
             "outlinewidth": 1,
             "tickcolor": "rgb(36,36,36)",
             "ticks": "outside"
            },
            "colorscale": [
             [
              0,
              "#440154"
             ],
             [
              0.1111111111111111,
              "#482878"
             ],
             [
              0.2222222222222222,
              "#3e4989"
             ],
             [
              0.3333333333333333,
              "#31688e"
             ],
             [
              0.4444444444444444,
              "#26828e"
             ],
             [
              0.5555555555555556,
              "#1f9e89"
             ],
             [
              0.6666666666666666,
              "#35b779"
             ],
             [
              0.7777777777777778,
              "#6ece58"
             ],
             [
              0.8888888888888888,
              "#b5de2b"
             ],
             [
              1,
              "#fde725"
             ]
            ],
            "type": "heatmapgl"
           }
          ],
          "histogram": [
           {
            "marker": {
             "line": {
              "color": "white",
              "width": 0.6
             }
            },
            "type": "histogram"
           }
          ],
          "histogram2d": [
           {
            "colorbar": {
             "outlinewidth": 1,
             "tickcolor": "rgb(36,36,36)",
             "ticks": "outside"
            },
            "colorscale": [
             [
              0,
              "#440154"
             ],
             [
              0.1111111111111111,
              "#482878"
             ],
             [
              0.2222222222222222,
              "#3e4989"
             ],
             [
              0.3333333333333333,
              "#31688e"
             ],
             [
              0.4444444444444444,
              "#26828e"
             ],
             [
              0.5555555555555556,
              "#1f9e89"
             ],
             [
              0.6666666666666666,
              "#35b779"
             ],
             [
              0.7777777777777778,
              "#6ece58"
             ],
             [
              0.8888888888888888,
              "#b5de2b"
             ],
             [
              1,
              "#fde725"
             ]
            ],
            "type": "histogram2d"
           }
          ],
          "histogram2dcontour": [
           {
            "colorbar": {
             "outlinewidth": 1,
             "tickcolor": "rgb(36,36,36)",
             "ticks": "outside"
            },
            "colorscale": [
             [
              0,
              "#440154"
             ],
             [
              0.1111111111111111,
              "#482878"
             ],
             [
              0.2222222222222222,
              "#3e4989"
             ],
             [
              0.3333333333333333,
              "#31688e"
             ],
             [
              0.4444444444444444,
              "#26828e"
             ],
             [
              0.5555555555555556,
              "#1f9e89"
             ],
             [
              0.6666666666666666,
              "#35b779"
             ],
             [
              0.7777777777777778,
              "#6ece58"
             ],
             [
              0.8888888888888888,
              "#b5de2b"
             ],
             [
              1,
              "#fde725"
             ]
            ],
            "type": "histogram2dcontour"
           }
          ],
          "mesh3d": [
           {
            "colorbar": {
             "outlinewidth": 1,
             "tickcolor": "rgb(36,36,36)",
             "ticks": "outside"
            },
            "type": "mesh3d"
           }
          ],
          "parcoords": [
           {
            "line": {
             "colorbar": {
              "outlinewidth": 1,
              "tickcolor": "rgb(36,36,36)",
              "ticks": "outside"
             }
            },
            "type": "parcoords"
           }
          ],
          "pie": [
           {
            "automargin": true,
            "type": "pie"
           }
          ],
          "scatter": [
           {
            "fillpattern": {
             "fillmode": "overlay",
             "size": 10,
             "solidity": 0.2
            },
            "type": "scatter"
           }
          ],
          "scatter3d": [
           {
            "line": {
             "colorbar": {
              "outlinewidth": 1,
              "tickcolor": "rgb(36,36,36)",
              "ticks": "outside"
             }
            },
            "marker": {
             "colorbar": {
              "outlinewidth": 1,
              "tickcolor": "rgb(36,36,36)",
              "ticks": "outside"
             }
            },
            "type": "scatter3d"
           }
          ],
          "scattercarpet": [
           {
            "marker": {
             "colorbar": {
              "outlinewidth": 1,
              "tickcolor": "rgb(36,36,36)",
              "ticks": "outside"
             }
            },
            "type": "scattercarpet"
           }
          ],
          "scattergeo": [
           {
            "marker": {
             "colorbar": {
              "outlinewidth": 1,
              "tickcolor": "rgb(36,36,36)",
              "ticks": "outside"
             }
            },
            "type": "scattergeo"
           }
          ],
          "scattergl": [
           {
            "marker": {
             "colorbar": {
              "outlinewidth": 1,
              "tickcolor": "rgb(36,36,36)",
              "ticks": "outside"
             }
            },
            "type": "scattergl"
           }
          ],
          "scattermapbox": [
           {
            "marker": {
             "colorbar": {
              "outlinewidth": 1,
              "tickcolor": "rgb(36,36,36)",
              "ticks": "outside"
             }
            },
            "type": "scattermapbox"
           }
          ],
          "scatterpolar": [
           {
            "marker": {
             "colorbar": {
              "outlinewidth": 1,
              "tickcolor": "rgb(36,36,36)",
              "ticks": "outside"
             }
            },
            "type": "scatterpolar"
           }
          ],
          "scatterpolargl": [
           {
            "marker": {
             "colorbar": {
              "outlinewidth": 1,
              "tickcolor": "rgb(36,36,36)",
              "ticks": "outside"
             }
            },
            "type": "scatterpolargl"
           }
          ],
          "scatterternary": [
           {
            "marker": {
             "colorbar": {
              "outlinewidth": 1,
              "tickcolor": "rgb(36,36,36)",
              "ticks": "outside"
             }
            },
            "type": "scatterternary"
           }
          ],
          "surface": [
           {
            "colorbar": {
             "outlinewidth": 1,
             "tickcolor": "rgb(36,36,36)",
             "ticks": "outside"
            },
            "colorscale": [
             [
              0,
              "#440154"
             ],
             [
              0.1111111111111111,
              "#482878"
             ],
             [
              0.2222222222222222,
              "#3e4989"
             ],
             [
              0.3333333333333333,
              "#31688e"
             ],
             [
              0.4444444444444444,
              "#26828e"
             ],
             [
              0.5555555555555556,
              "#1f9e89"
             ],
             [
              0.6666666666666666,
              "#35b779"
             ],
             [
              0.7777777777777778,
              "#6ece58"
             ],
             [
              0.8888888888888888,
              "#b5de2b"
             ],
             [
              1,
              "#fde725"
             ]
            ],
            "type": "surface"
           }
          ],
          "table": [
           {
            "cells": {
             "fill": {
              "color": "rgb(237,237,237)"
             },
             "line": {
              "color": "white"
             }
            },
            "header": {
             "fill": {
              "color": "rgb(217,217,217)"
             },
             "line": {
              "color": "white"
             }
            },
            "type": "table"
           }
          ]
         },
         "layout": {
          "annotationdefaults": {
           "arrowhead": 0,
           "arrowwidth": 1
          },
          "autotypenumbers": "strict",
          "coloraxis": {
           "colorbar": {
            "outlinewidth": 1,
            "tickcolor": "rgb(36,36,36)",
            "ticks": "outside"
           }
          },
          "colorscale": {
           "diverging": [
            [
             0,
             "rgb(103,0,31)"
            ],
            [
             0.1,
             "rgb(178,24,43)"
            ],
            [
             0.2,
             "rgb(214,96,77)"
            ],
            [
             0.3,
             "rgb(244,165,130)"
            ],
            [
             0.4,
             "rgb(253,219,199)"
            ],
            [
             0.5,
             "rgb(247,247,247)"
            ],
            [
             0.6,
             "rgb(209,229,240)"
            ],
            [
             0.7,
             "rgb(146,197,222)"
            ],
            [
             0.8,
             "rgb(67,147,195)"
            ],
            [
             0.9,
             "rgb(33,102,172)"
            ],
            [
             1,
             "rgb(5,48,97)"
            ]
           ],
           "sequential": [
            [
             0,
             "#440154"
            ],
            [
             0.1111111111111111,
             "#482878"
            ],
            [
             0.2222222222222222,
             "#3e4989"
            ],
            [
             0.3333333333333333,
             "#31688e"
            ],
            [
             0.4444444444444444,
             "#26828e"
            ],
            [
             0.5555555555555556,
             "#1f9e89"
            ],
            [
             0.6666666666666666,
             "#35b779"
            ],
            [
             0.7777777777777778,
             "#6ece58"
            ],
            [
             0.8888888888888888,
             "#b5de2b"
            ],
            [
             1,
             "#fde725"
            ]
           ],
           "sequentialminus": [
            [
             0,
             "#440154"
            ],
            [
             0.1111111111111111,
             "#482878"
            ],
            [
             0.2222222222222222,
             "#3e4989"
            ],
            [
             0.3333333333333333,
             "#31688e"
            ],
            [
             0.4444444444444444,
             "#26828e"
            ],
            [
             0.5555555555555556,
             "#1f9e89"
            ],
            [
             0.6666666666666666,
             "#35b779"
            ],
            [
             0.7777777777777778,
             "#6ece58"
            ],
            [
             0.8888888888888888,
             "#b5de2b"
            ],
            [
             1,
             "#fde725"
            ]
           ]
          },
          "colorway": [
           "#1F77B4",
           "#FF7F0E",
           "#2CA02C",
           "#D62728",
           "#9467BD",
           "#8C564B",
           "#E377C2",
           "#7F7F7F",
           "#BCBD22",
           "#17BECF"
          ],
          "font": {
           "color": "rgb(36,36,36)"
          },
          "geo": {
           "bgcolor": "white",
           "lakecolor": "white",
           "landcolor": "white",
           "showlakes": true,
           "showland": true,
           "subunitcolor": "white"
          },
          "hoverlabel": {
           "align": "left"
          },
          "hovermode": "closest",
          "mapbox": {
           "style": "light"
          },
          "paper_bgcolor": "white",
          "plot_bgcolor": "white",
          "polar": {
           "angularaxis": {
            "gridcolor": "rgb(232,232,232)",
            "linecolor": "rgb(36,36,36)",
            "showgrid": false,
            "showline": true,
            "ticks": "outside"
           },
           "bgcolor": "white",
           "radialaxis": {
            "gridcolor": "rgb(232,232,232)",
            "linecolor": "rgb(36,36,36)",
            "showgrid": false,
            "showline": true,
            "ticks": "outside"
           }
          },
          "scene": {
           "xaxis": {
            "backgroundcolor": "white",
            "gridcolor": "rgb(232,232,232)",
            "gridwidth": 2,
            "linecolor": "rgb(36,36,36)",
            "showbackground": true,
            "showgrid": false,
            "showline": true,
            "ticks": "outside",
            "zeroline": false,
            "zerolinecolor": "rgb(36,36,36)"
           },
           "yaxis": {
            "backgroundcolor": "white",
            "gridcolor": "rgb(232,232,232)",
            "gridwidth": 2,
            "linecolor": "rgb(36,36,36)",
            "showbackground": true,
            "showgrid": false,
            "showline": true,
            "ticks": "outside",
            "zeroline": false,
            "zerolinecolor": "rgb(36,36,36)"
           },
           "zaxis": {
            "backgroundcolor": "white",
            "gridcolor": "rgb(232,232,232)",
            "gridwidth": 2,
            "linecolor": "rgb(36,36,36)",
            "showbackground": true,
            "showgrid": false,
            "showline": true,
            "ticks": "outside",
            "zeroline": false,
            "zerolinecolor": "rgb(36,36,36)"
           }
          },
          "shapedefaults": {
           "fillcolor": "black",
           "line": {
            "width": 0
           },
           "opacity": 0.3
          },
          "ternary": {
           "aaxis": {
            "gridcolor": "rgb(232,232,232)",
            "linecolor": "rgb(36,36,36)",
            "showgrid": false,
            "showline": true,
            "ticks": "outside"
           },
           "baxis": {
            "gridcolor": "rgb(232,232,232)",
            "linecolor": "rgb(36,36,36)",
            "showgrid": false,
            "showline": true,
            "ticks": "outside"
           },
           "bgcolor": "white",
           "caxis": {
            "gridcolor": "rgb(232,232,232)",
            "linecolor": "rgb(36,36,36)",
            "showgrid": false,
            "showline": true,
            "ticks": "outside"
           }
          },
          "title": {
           "x": 0.05
          },
          "xaxis": {
           "automargin": true,
           "gridcolor": "rgb(232,232,232)",
           "linecolor": "rgb(36,36,36)",
           "showgrid": false,
           "showline": true,
           "ticks": "outside",
           "title": {
            "standoff": 15
           },
           "zeroline": false,
           "zerolinecolor": "rgb(36,36,36)"
          },
          "yaxis": {
           "automargin": true,
           "gridcolor": "rgb(232,232,232)",
           "linecolor": "rgb(36,36,36)",
           "showgrid": false,
           "showline": true,
           "ticks": "outside",
           "title": {
            "standoff": 15
           },
           "zeroline": false,
           "zerolinecolor": "rgb(36,36,36)"
          }
         }
        },
        "title": {
         "text": "Q-Learning vs SARSA on CliffWalking-v0"
        },
        "width": 700,
        "xaxis": {
         "anchor": "y",
         "domain": [
          0,
          1
         ],
         "title": {
          "text": "index"
         }
        },
        "yaxis": {
         "anchor": "x",
         "domain": [
          0,
          1
         ],
         "title": {
          "text": "value"
         }
        }
       }
      }
     },
     "metadata": {},
     "output_type": "display_data"
    }
   ],
   "source": [
    "gamma = 1\n",
    "seed = 0\n",
    "\n",
    "config_cliff = AgentConfig(epsilon=0.1, lr=0.1, optimism=0)\n",
    "env = gym.make(\"CliffWalking-v0\")\n",
    "n_runs = 2500\n",
    "args_cliff = (env, config_cliff, gamma, seed)\n",
    "\n",
    "returns_list = []\n",
    "name_list = []\n",
    "agents = [QLearning(*args_cliff), SARSA(*args_cliff)]\n",
    "\n",
    "for agent in agents:\n",
    "    assert isinstance(agent, (QLearning, SARSA))  # for typechecker\n",
    "    returns = agent.train(n_runs)[1:]\n",
    "    # returns_list.append(returns)\n",
    "    name_list.append(agent.name)\n",
    "    V = agent.Q.max(axis=-1).reshape(4, 12)\n",
    "    pi = agent.Q.argmax(axis=-1).reshape(4, 12)\n",
    "    cliffwalk_imshow(V, pi, title=f\"CliffWalking: {agent.name} Agent\", width=800, height=400)\n",
    "    # Compute returns from deterministically following the policy\n",
    "    det_agent = EpsilonGreedy(env, AgentConfig(epsilon = 0), gamma, seed)\n",
    "    det_agent.Q = agent.Q.copy()\n",
    "    eval_returns = []\n",
    "    for i in range(10):\n",
    "        dones = False\n",
    "        ep_rew = 0\n",
    "        obs, _ = det_agent.env.reset(seed=i)\n",
    "        while not dones:\n",
    "            obs, reward, terminated, truncated, info = env.step(det_agent.get_action(obs))\n",
    "            ep_rew = ep_rew + reward\n",
    "            dones = terminated or truncated\n",
    "        eval_returns.append(ep_rew)\n",
    "    returns_list.append(eval_returns)\n",
    "    print(len(eval_returns))\n",
    "\n",
    "# print(returns_list)\n",
    "# print(len(returns_list), len(name_list))\n",
    "\n",
    "line(\n",
    "    returns_list,\n",
    "    names=name_list,\n",
    "    template=\"simple_white\",\n",
    "    title=\"Q-Learning vs SARSA on CliffWalking-v0\",\n",
    "    labels={\"x\": \"Episode\", \"y\": \"Avg. reward\", \"variable\": \"Agent\"},\n",
    "    width=700,\n",
    "    height=400,\n",
    "    render_mode = \"svg\"\n",
    ")"
   ]
  },
  {
   "cell_type": "markdown",
   "metadata": {},
   "source": [
    "## Tabular Methods\n",
    "\n",
    "The methods used here are called tabular methods, because they create a lookup table from `(state, action)` to the Q value. This is pure memorization, and if our reward function was sampled from the space of all functions, this is usually the best you can do because there's no structure that you can exploit to do better.\n",
    "\n",
    "We can hope to do better on most \"natural\" reward functions that do have structure. For example in a game of poker, there is structure in both of the actions (betting £100 will have a similar reward to betting £99 or £101), and between states (having a pair of threes in your hand is similar to having a pair of twos or fours). We need to take advantage of this, otherwise there are just too many states and actions to have any hope of training an agent.\n",
    "\n",
    "One idea is to use domain knowledge to hand-code a function that \"buckets\" states or actions into a smaller number of equivalence classes and use those as the states and actions in a smaller version of the problem (see Sutton and Barto, Section 9.5). This was one component in the RL agent [Libratus: The Superhuman AI for No-Limit Poker](https://www.cs.cmu.edu/~noamb/papers/17-IJCAI-Libratus.pdf). The details are beyond the scope of today's material, but I found them fascinating.\n",
    "\n",
    "If you don't have domain knowledge to leverage, or you care specifically about making your algorithm \"general\", you can follow the approach that we'll be using in the second half of today's exercises: make a neural network that takes in a state (technically, an observation) and outputs a value for each action. We then train the neural network using environmental interaction as training data."
   ]
  },
  {
   "cell_type": "markdown",
   "metadata": {},
   "source": [
    "## Bonus - build your own CliffWalking environment\n",
    "\n",
    "> ```yaml\n",
    "> Difficulty: 🔴🔴🔴🔴🔴\n",
    "> Importance: 🔵⚪⚪⚪⚪\n",
    "> \n",
    "> You should spend up to 30-45 minutes on this exercise, if you choose to do it (but we recommend you skip it for now).\n",
    "> ```\n",
    "\n",
    "You should return to this exercise at the end if you want to. For now, you should progress to part 2️⃣.\n",
    "\n",
    "You can modify the code used to define the `Norvig` class to define your own version of `CliffWalking-v0`. You can do this without guidance, or you can get some more guidance from the hint below.\n",
    "\n",
    "Some notes for this task:\n",
    "\n",
    "* The random agent will take a *very* long time to accidentally stumble into the goal state, and will slow down learning. You should probably neglect it.\n",
    "* As soon as you hit the cliff, you should immediately move back to the start square, i.e. in pseudocode:\n",
    "    ```python\n",
    "    if new_state in cliff:\n",
    "        new_state = start_state\n",
    "        reward -= 100\n",
    "    ```\n",
    "    This means you'll never calculate Q from the cliff, so your Q-values will always be zero here.\n",
    "\n",
    "\n",
    "<details>\n",
    "<summary>Hints (for both methods)</summary>\n",
    "\n",
    "The main way in which the `CliffWalking` environment differs from the `Norvig` gridworld is that the former has cliffs while the latter has walls. Cliffs and walls have different behaviour; you can see how the cliffs affect the agent by visiting the documentation page for `CliffWalking-v0`.\n",
    "\n",
    "#### `__init__`\n",
    "\n",
    "This mainly just involves changing the dimensions of the space, position of the start and terminal states, and parameters like `penalty`. Also, rather than walls, you'll need to define the position of the **cliffs** (which behave differently).\n",
    "\n",
    "#### `dynamics`\n",
    "\n",
    "You'll need to modify `dynamics` in the following two ways:\n",
    "\n",
    "* Remove the slippage probability (although it would be interesting to experiment with this and see what effect it has!)\n",
    "* Remove the \"when you hit a wall, you get trapped forever\" behaviour, and replace it with \"when you hit a cliff, you get a reward of -100 and go back to the start state\".\n",
    "\n",
    "</details>"
   ]
  },
  {
   "cell_type": "code",
   "execution_count": 9,
   "metadata": {},
   "outputs": [],
   "source": [
    "# # This is too painful I will do it later.\n",
    "# class CliffWalking(Environment):\n",
    "#     def __init__(self, penalty=-1):\n",
    "#         self.height = 4\n",
    "#         self.width = 12\n",
    "#         self.penalty = penalty\n",
    "#         num_states = self.height * self.width\n",
    "#         num_actions = 4\n",
    "#         self.states = np.array([[x, y] for y in range(self.height) for x in range(self.width)])\n",
    "#         self.actions = np.array([[0, -1], [1, 0], [0, 1], [-1, 0]])  # up, right, down, left\n",
    "#         self.dim = (self.height, self.width)\n",
    "\n",
    "#         # special states: tuples of state and reward\n",
    "#         # all other states get penalty\n",
    "#         start = 36\n",
    "#         terminal = np.array([47], dtype=int)\n",
    "#         self.cliff = np.arange(37, 47, dtype=int)\n",
    "#         self.goal_rewards = np.array([1.0, -1.0])\n",
    "\n",
    "#         super().__init__(num_states, num_actions, start=start, terminal=terminal)\n",
    "\n",
    "#     def dynamics(self, state: int, action: int) -> tuple[Arr, Arr, Arr]:\n",
    "#         \"\"\"\n",
    "#         Returns tuple of (out_states, out_rewards, out_probs) for this given (state, action) pair.\n",
    "#         \"\"\"\n",
    "\n",
    "#         raise NotImplementedError()\n",
    "\n",
    "#     @staticmethod\n",
    "#     def render(Q: Arr, name: str):\n",
    "#         V = Q.max(axis=-1).reshape(4, 12)\n",
    "#         pi = Q.argmax(axis=-1).reshape(4, 12)\n",
    "#         cliffwalk_imshow(V, pi, title=f\"CliffWalking: {name} Agent\")\n",
    "\n",
    "\n",
    "# gym.envs.registration.register(\n",
    "#     id=\"CliffWalking-myversion\",\n",
    "#     entry_point=DiscreteEnviroGym,\n",
    "#     max_episode_steps=200,\n",
    "#     nondeterministic=True,\n",
    "#     kwargs={\"env\": CliffWalking(penalty=-1)},\n",
    "# )\n",
    "# gamma = 0.99\n",
    "# seed = 0\n",
    "# config_cliff = AgentConfig(epsilon=0.1, lr=0.1, optimism=0)\n",
    "# env = gym.make(\"CliffWalking-myversion\")\n",
    "# n_runs = 500\n",
    "# args_cliff = (env, config_cliff, gamma, seed)\n",
    "\n",
    "# agents = [Cheater(*args_cliff), QLearning(*args_cliff), SARSA(*args_cliff), Random(*args_cliff)]\n",
    "# returns_list = []\n",
    "# name_list = []\n",
    "\n",
    "# for agent in agents:\n",
    "#     returns = agent.train(n_runs)[1:]\n",
    "#     returns_list.append(utils.cummean(returns))\n",
    "#     name_list.append(agent.name)\n",
    "\n",
    "# line(\n",
    "#     returns_list,\n",
    "#     names=name_list,\n",
    "#     template=\"simple_white\",\n",
    "#     title=\"Q-Learning vs SARSA on CliffWalking-v0\",\n",
    "#     labels={\"x\": \"Episode\", \"y\": \"Avg. reward\", \"variable\": \"Agent\"},\n",
    "#     width=700,\n",
    "#     height=400,\n",
    "# )"
   ]
  },
  {
   "cell_type": "markdown",
   "metadata": {},
   "source": [
    "<details><summary>Solution</summary>\n",
    "\n",
    "```python\n",
    "class CliffWalking(Environment):\n",
    "    def __init__(self, penalty=-1):\n",
    "        self.height = 4\n",
    "        self.width = 12\n",
    "        self.penalty = penalty\n",
    "        num_states = self.height * self.width\n",
    "        num_actions = 4\n",
    "        self.states = np.array([[x, y] for y in range(self.height) for x in range(self.width)])\n",
    "        self.actions = np.array([[0, -1], [1, 0], [0, 1], [-1, 0]])  # up, right, down, left\n",
    "        self.dim = (self.height, self.width)\n",
    "\n",
    "        # special states: tuples of state and reward\n",
    "        # all other states get penalty\n",
    "        start = 36\n",
    "        terminal = np.array([47], dtype=int)\n",
    "        self.cliff = np.arange(37, 47, dtype=int)\n",
    "        self.goal_rewards = np.array([1.0, -1.0])\n",
    "\n",
    "        super().__init__(num_states, num_actions, start=start, terminal=terminal)\n",
    "\n",
    "    def dynamics(self, state: int, action: int) -> tuple[Arr, Arr, Arr]:\n",
    "        \"\"\"\n",
    "        Returns tuple of (out_states, out_rewards, out_probs) for this given (state, action) pair.\n",
    "        \"\"\"\n",
    "\n",
    "        def state_index(state):\n",
    "            assert 0 <= state[0] < self.width and 0 <= state[1] < self.height, print(state)\n",
    "            pos = state[0] + state[1] * self.width\n",
    "            assert 0 <= pos < self.num_states, print(state, pos)\n",
    "            return pos\n",
    "\n",
    "        pos = self.states[state]\n",
    "\n",
    "        if state in self.terminal:\n",
    "            return (np.array([state]), np.array([0]), np.array([1]))\n",
    "\n",
    "        # No slipping; each action is deterministic\n",
    "        out_probs = np.zeros(self.num_actions)\n",
    "        out_probs[action] = 1\n",
    "\n",
    "        out_states = np.zeros(self.num_actions, dtype=int) + self.num_actions\n",
    "        out_rewards = np.zeros(self.num_actions) + self.penalty\n",
    "        new_states = [pos + x for x in self.actions]\n",
    "\n",
    "        for i, s_new in enumerate(new_states):\n",
    "            if not (0 <= s_new[0] < self.width and 0 <= s_new[1] < self.height):\n",
    "                out_states[i] = state\n",
    "                continue\n",
    "\n",
    "            new_state = state_index(s_new)\n",
    "\n",
    "            # Check if would hit the cliff, if so then get -100 penalty and go back to start\n",
    "            if new_state in self.cliff:\n",
    "                out_states[i] = self.start\n",
    "                out_rewards[i] -= 100\n",
    "\n",
    "            else:\n",
    "                out_states[i] = new_state\n",
    "\n",
    "            for idx in range(len(self.terminal)):\n",
    "                if new_state == self.terminal[idx]:\n",
    "                    out_rewards[i] = self.goal_rewards[idx]\n",
    "\n",
    "        return (out_states, out_rewards, out_probs)\n",
    "\n",
    "    @staticmethod\n",
    "    def render(Q: Arr, name: str):\n",
    "        V = Q.max(axis=-1).reshape(4, 12)\n",
    "        pi = Q.argmax(axis=-1).reshape(4, 12)\n",
    "        cliffwalk_imshow(V, pi, title=f\"CliffWalking: {name} Agent\")\n",
    "```\n",
    "</details>"
   ]
  },
  {
   "cell_type": "markdown",
   "metadata": {},
   "source": [
    "## Bonus - other suggestions\n",
    "\n",
    "### Monte-Carlo Q-learning\n",
    "\n",
    "Implement Monte-Carlo Q-learning (Chapter 5 Sutton and Barto) and $\\text{TD}(\\lambda)$ with eligibility traces (Chapter 7 Sutton and Barto).\n",
    "\n",
    "### LR scheduler\n",
    "\n",
    "Try using a schedule for the exploration rate $\\epsilon$ (Large values early to encourage exploration, low values later once the agent has sufficient statistics to play optimally).\n",
    "\n",
    "Would Q-Learning or SARSA be better off with a scheduled exploration rate?\n",
    "\n",
    "The Sutton book mentions that if $\\epsilon$ is gradually reduced, both methods asymptotically converge to the optimal policy. Is this what you find?\n",
    "\n",
    "### Other environments\n",
    "\n",
    "Try other environments like [Frozen Lake](https://gymnasium.farama.org/environments/toy_text/frozen_lake/) and [BlackJack](https://gymnasium.farama.org/environments/toy_text/blackjack/) (source code [here](https://github.com/Farama-Foundation/Gymnasium/blob/v0.29.0/gymnasium/envs/toy_text/frozen_lake.py), [here](https://github.com/Farama-Foundation/Gymnasium/blob/v0.29.0/gymnasium/envs/toy_text/blackjack.py)). Note that BlackJack uses `Tuple(Discrete(32), Discrete(11), Discrete(2))` as it's observation space, so you will have to write some glue code to convert this back and forth between an observation space of `Discrete(32 * 11 * 2)` to work with our agents as written.\n",
    "\n",
    "### Double-Q learning\n",
    "\n",
    "Read Sutton and Barto Section 6.7 Maximisation Bias and Double Learning. Implement Double-Q learning, and compare its performance against SARSA and Q-Learning."
   ]
  },
  {
   "cell_type": "markdown",
   "metadata": {},
   "source": [
    "# 2️⃣ Deep Q-Learning\n",
    "\n",
    "> ##### Learning Objectives\n",
    ">\n",
    "> - Understand the DQN algorithm\n",
    "> - Learn more about RL debugging, and build probe environments to debug your agents\n",
    "> - Create a replay buffer to store environment transitions\n",
    "> - Implement DQN using PyTorch Lightning, on the CartPole environment"
   ]
  },
  {
   "cell_type": "markdown",
   "metadata": {},
   "source": [
    "In this section, you'll implement Deep Q-Learning, often referred to as DQN for \"Deep Q-Network\". This was used in a landmark paper [Playing Atari with Deep Reinforcement Learning](https://www.cs.toronto.edu/~vmnih/docs/dqn.pdf).\n",
    "\n",
    "At the time, the paper was very exciting: The agent would play the game by only looking at the same screen pixel data that a human player would be looking at, rather than a description of where the enemies in the game world are. The idea that convolutional neural networks could look at Atari game pixels and \"see\" gameplay-relevant features like a Space Invader was new and noteworthy. In 2022, we take for granted that convnets work, so we're going to focus on the RL aspect solely, and not the vision component."
   ]
  },
  {
   "cell_type": "markdown",
   "metadata": {},
   "source": [
    "## Readings\n",
    "\n",
    "* [Deep Q Networks Explained](https://www.lesswrong.com/posts/kyvCNgx9oAwJCuevo/deep-q-networks-explained) (25 minutes)\n",
    "    * A high-level distillation as to how DQN works.\n",
    "    * Read sections 1-4 (further sections optional).\n",
    "* [Andy Jones - Debugging RL, Without the Agonizing Pain](https://andyljones.com/posts/rl-debugging.html) (10 minutes)\n",
    "    * Useful tips for debugging your code when it's not working.\n",
    "    * Read up to (not including) the Common Fixes section. Also read the Practical Advice section, up to and including \"Use probe agents\". The rest of the post is optional, and you're recommended to come back to it near the end if you're stuck.\n",
    "    * The \"probe environments\" (a collection of simple environments of increasing complexity) section will be our first line of defense against bugs, you'll implement these in exercises below.\n",
    "\n",
    "### Interesting Resources (not required reading)\n",
    "\n",
    "- [An Outsider's Tour of Reinforcement Learning](http://www.argmin.net/2018/06/25/outsider-rl/) - comparison of RL techniques with the engineering discipline of control theory.\n",
    "- [Towards Characterizing Divergence in Deep Q-Learning](https://arxiv.org/pdf/1903.08894.pdf) - analysis of what causes learning to diverge\n",
    "- [Divergence in Deep Q-Learning: Tips and Tricks](https://amanhussain.com/post/divergence-deep-q-learning/) - includes some plots of average returns for comparison\n",
    "- [Deep RL Bootcamp](https://sites.google.com/view/deep-rl-bootcamp/lectures) - 2017 bootcamp with video and slides. Good if you like videos.\n",
    "- [DQN debugging using OpenAI gym Cartpole](https://adgefficiency.com/dqn-debugging/) - random dude's adventures in trying to get it to work.\n",
    "- [CleanRL DQN](https://github.com/vwxyzjn/cleanrl) - single file implementations of RL algorithms. Your starter code today is based on this; try not to spoiler yourself by looking at the solutions too early!\n",
    "- [Deep Reinforcement Learning Doesn't Work Yet](https://www.alexirpan.com/2018/02/14/rl-hard.html) - 2018 article describing difficulties preventing industrial adoption of RL.\n",
    "- [Deep Reinforcement Learning Works - Now What?](https://tesslerc.github.io/posts/drl_works_now_what/) - 2020 response to the previous article highlighting recent progress.\n",
    "- [Seed RL](https://github.com/google-research/seed_rl) - example of distributed RL using Docker and GCP."
   ]
  },
  {
   "cell_type": "markdown",
   "metadata": {},
   "source": [
    "### Conceptual overview of DQN\n",
    "\n",
    "DQN is the natural extension of Q-Learning into the domain of deep learning. The main difference is that, instead of a table to store all the Q-values for each state-action pair, we train a neural network to learn this function for us. The usual implementation (which we'll use here) is for the Q-network to take the state as input, and output a vector of Q-values for each action, i.e. we're learning the function:\n",
    "\n",
    "$$\n",
    "s \\to (Q(s, a_1), ..., Q(s, a_n))\n",
    "$$\n",
    "\n",
    "Below is an algorithm showing the conceptual overview of DQN. We cycle through the following process:\n",
    "\n",
    "* Generate a batch of experiences using our current policy, by **epsilon-greedy sampling** (i.e. we mostly take the action with the highest Q-value, but occasionally take a random action to encourage exploration). Store these experiences in the **replay buffer**.\n",
    "* Use these values to calculate a **TD (temporal difference) error**, and update our network.\n",
    "    * To increase stability, we also have a **target network** we use for the \"next step\" part of the TD error. This is a lagged copy of the Q-network (i.e. we update our Q-network via gradient descent, and then every so often we copy the Q-network weights over to our target network).\n",
    "* Repeat this until convergence.\n",
    "\n",
    "<img src=\"https://raw.githubusercontent.com/info-arena/ARENA_img/main/misc/ppo-alg-conceptual-2.png\" width=\"750\">"
   ]
  },
  {
   "cell_type": "markdown",
   "metadata": {},
   "source": [
    "### Fast Feedback Loops\n",
    "\n",
    "We want to have faster feedback loops, and learning from Atari pixels doesn't achieve that. It might take 15 minutes per training run to get an agent to do well on Breakout, and that's if your implementation is relatively optimized. Even waiting 5 minutes to learn Pong from pixels is going to limit your ability to iterate, compared to using environments that are as simple as possible."
   ]
  },
  {
   "cell_type": "markdown",
   "metadata": {},
   "source": [
    "### CartPole\n",
    "\n",
    "The classic environment \"CartPole-v1\" is simple to understand, yet hard enough for a RL agent to be interesting, by the end of the day your agent will be able to do this and more! (Click to watch!)\n",
    "\n",
    "\n",
    "[![CartPole](https://img.youtube.com/vi/46wjA6dqxOM/0.jpg)](https://www.youtube.com/watch?v=46wjA6dqxOM \"CartPole\")\n",
    "\n",
    "If you'd like to try the CartPole environment yourself, [click here to open the simulation](https://davidquarel.github.io/cartpole) in a new tab. Use Left/Right arrow keys to move the cart, R to reset, and Q to quit. By default, the cart will alternate Left/Right actions (there's no no-op action) if you're not pressing a button. Use F/S to make the simulation faster/slower. Unlike the real CartPole environment, this simulation will not terminate the episode if the pole falls over.\n",
    "\n",
    "The description of the task is [here](https://gymnasium.farama.org/environments/classic_control/cart_pole/). Note that unlike the previous environments, the observation here is now continuous. You can see the source for CartPole [here](https://github.com/Farama-Foundation/Gymnasium/blob/v0.29.0/gymnasium/envs/classic_control/cartpole.py); don't worry about the implementation but do read the documentation to understand the format of the actions and observations.\n",
    "\n",
    "The simple physics involved would be very easy for a model-based algorithm to fit, (this is a common assignment in control theory using [proportional-integral-derivative](https://en.wikipedia.org/wiki/PID_controller) (PID) controllers) but today we're doing it model-free: your agent has no idea that these observations represent positions or velocities, and it has no idea what the laws of physics are. The network has to learn in which direction to bump the cart in response to the current state of the world.\n",
    "\n",
    "Each environment can have different versions registered to it. By consulting [the Gym source](https://github.com/Farama-Foundation/Gymnasium/blob/v0.29.0/gymnasium/envs/__init__.py) you can see that CartPole-v0 and CartPole-v1 are the same environment, except that v1 has longer episodes. Again, a minor change like this can affect what algorithms score well; an agent might consistently survive for 200 steps in an unstable fashion that means it would fall over if ran for 500 steps."
   ]
  },
  {
   "cell_type": "code",
   "execution_count": 10,
   "metadata": {},
   "outputs": [
    {
     "name": "stdout",
     "output_type": "stream",
     "text": [
      "Discrete(2)\n",
      "Box([-4.8000002e+00 -3.4028235e+38 -4.1887903e-01 -3.4028235e+38], [4.8000002e+00 3.4028235e+38 4.1887903e-01 3.4028235e+38], (4,), float32)\n"
     ]
    }
   ],
   "source": [
    "env = gym.make(\"CartPole-v1\", render_mode=\"rgb_array\")\n",
    "\n",
    "print(env.action_space)  # 2 actions: left and right\n",
    "print(env.observation_space)  # Box(4): each action can take a continuous range of values"
   ]
  },
  {
   "cell_type": "markdown",
   "metadata": {},
   "source": [
    "### Outline of the Exercises\n",
    "\n",
    "The exercises are roughly split into 4 sections:\n",
    "\n",
    "1. Implement the Q-network that maps a state to an estimated value for each action.\n",
    "2. Implement a replay buffer to store experiences $e_t = (s_t, a_t, r_{t+1}, d_{t+1}, s_{t+1})$.\n",
    "3. Implement the policy which chooses actions based on the Q-network, plus epsilon greedy randomness to encourage exploration.\n",
    "4. Piece everything together into a training loop and train your agent."
   ]
  },
  {
   "cell_type": "markdown",
   "metadata": {},
   "source": [
    "## The Q-Network\n",
    "\n",
    "The Q-Network takes in an observation $s$ and outputs a vector $[Q(s, a^1), \\ldots Q(s,a^n)]$ representing an estimate of the Q-value for the given state $s$, and each possible action $\\mathcal{A} = \\{a^1, \\ldots, a^n\\}$. This replaces our Q-value table used in Q-learning.\n",
    "\n",
    "For best results, the architecture of the Q-network can be customized to each particular problem. For example, [the architecture of OpenAI Five](https://cdn.openai.com/research-covers/openai-five/network-architecture.pdf) used to play DOTA 2 is pretty complex and involves LSTMs.\n",
    "\n",
    "For learning from pixels, a simple convolutional network and some fully connected layers does quite well. Where we have already processed features here, it's even easier: an MLP of this size should be plenty large for any environment today.\n",
    "\n",
    "Implement the Q-network using a standard MLP, constructed of alternating Linear and ReLU layers.\n",
    "The size of the input will match the dimensionality of the observation space, and the size of the output will match the number of actions to choose from (associating a reward to each.)\n",
    "The dimensions of the hidden_sizes are provided.\n",
    "\n",
    "Here is a diagram of what our particular Q-Network will look like for CartPole (you can open it in a new tab if it's hard to see clearly):\n",
    "\n",
    "<img src=\"https://raw.githubusercontent.com/info-arena/ARENA_img/main/misc/mermaid-diagram-2024-11-28-200952.svg\" style=\"background-color: #fffbe0; padding: 10px\" width=\"160\"><br>\n",
    "\n",
    "<!-- \n",
    "flowchart TD\n",
    "    A[\"Input (num_obs,)\"] -> B[\"Linear(num_obs, 120)\"]\n",
    "    B -> C[ReLU]\n",
    "    C -> D[\"Linear(120, 84)\"]\n",
    "    D -> E[ReLU]\n",
    "    E -> F[\"Linear(84, num_actions)\"]\n",
    "    F -> G[\"Output (num_actions,)\"]\n",
    "{\n",
    "  \"theme\": \"default\",\n",
    "  \"themeVariables\": {\n",
    "    \"fontSize\": \"22px\"\n",
    "  }\n",
    "}\n",
    "-->\n",
    "\n",
    "<details>\n",
    "<summary>Question - why do we not include a ReLU at the end?</summary>\n",
    "\n",
    "If you end with a ReLU, then your network can only predict 0 or positive Q-values. This will cause problems as soon as you encounter an environment with negative rewards, or you try to do some scaling of the rewards.\n",
    "\n",
    "</details>\n",
    "\n",
    "<details>\n",
    "<summary>Question - since CartPole-v1 gives +1 reward on every timestep, why do you think the network doesn't just learn the constant +1 function regardless of observation?</summary>\n",
    "\n",
    "The network is learning Q-values (the sum of all future expected discounted rewards from this state/action pair), not rewards. Correspondingly, once the agent has learned a good policy, the Q-value associated with state action pair (pole is slightly left of vertical, move cart left) should be large, as we would expect a long episode (and correspondingly lots of reward) by taking actions to help to balance the pole. Pairs like (cart near right boundary, move cart right) cause the episode to terminate, and as such the network will learn low Q-values.\n",
    "\n",
    "</details>"
   ]
  },
  {
   "cell_type": "markdown",
   "metadata": {},
   "source": [
    "### Exercise - implement `QNetwork`\n",
    "\n",
    "> ```yaml\n",
    "> Difficulty: 🔴🔴⚪⚪⚪\n",
    "> Importance: 🔵🔵🔵⚪⚪\n",
    "> \n",
    "> You should spend up to 10-15 minutes on this exercise.\n",
    "> ```\n",
    "\n",
    "Note - in this implementation we can assume that `obs_shape` is a tuple of length 1 (in the case of CartPole this will be `(4,)`), so you can treat it as just an integer value above, e.g. your first linear layer should be from `obs_shape[0]` to `120`."
   ]
  },
  {
   "cell_type": "code",
   "execution_count": 11,
   "metadata": {},
   "outputs": [
    {
     "name": "stdout",
     "output_type": "stream",
     "text": [
      "QNetwork(\n",
      "  (layers): Sequential(\n",
      "    (0): Linear(in_features=4, out_features=120, bias=True)\n",
      "    (1): ReLU()\n",
      "    (2): Linear(in_features=120, out_features=84, bias=True)\n",
      "    (3): ReLU()\n",
      "    (4): Linear(in_features=84, out_features=2, bias=True)\n",
      "  )\n",
      ")\n",
      "Total number of parameters: 10934\n",
      "You should manually verify network is Linear-ReLU-Linear-ReLU-Linear\n"
     ]
    }
   ],
   "source": [
    "class QNetwork(nn.Module):\n",
    "    \"\"\"For consistency with your tests, please wrap your modules in a `nn.Sequential` called `layers`.\"\"\"\n",
    "\n",
    "    layers: nn.Sequential\n",
    "\n",
    "    def __init__(self, obs_shape: tuple[int], num_actions: int, hidden_sizes: list[int] = [120, 84]):\n",
    "        super().__init__()\n",
    "        assert len(obs_shape) == 1, \"Expecting a single vector of observations\"\n",
    "        # raise NotImplementedError()\n",
    "        self.layers = nn.Sequential(\n",
    "            nn.Linear(obs_shape[0], hidden_sizes[0]),\n",
    "            nn.ReLU(),\n",
    "            nn.Linear(hidden_sizes[0], hidden_sizes[1]),\n",
    "            nn.ReLU(),\n",
    "            nn.Linear(hidden_sizes[1], num_actions),\n",
    "        )\n",
    "\n",
    "    def forward(self, x: t.Tensor) -> t.Tensor:\n",
    "        return self.layers(x)\n",
    "\n",
    "\n",
    "net = QNetwork(obs_shape=(4,), num_actions=2)\n",
    "n_params = sum((p.nelement() for p in net.parameters()))\n",
    "assert isinstance(getattr(net, \"layers\", None), nn.Sequential)\n",
    "print(net)\n",
    "print(f\"Total number of parameters: {n_params}\")\n",
    "print(\"You should manually verify network is Linear-ReLU-Linear-ReLU-Linear\")\n",
    "assert not isinstance(net.layers[-1], nn.ReLU)\n",
    "assert n_params == 10934"
   ]
  },
  {
   "cell_type": "markdown",
   "metadata": {},
   "source": [
    "<details><summary>Solution</summary>\n",
    "\n",
    "```python\n",
    "class QNetwork(nn.Module):\n",
    "    \"\"\"For consistency with your tests, please wrap your modules in a `nn.Sequential` called `layers`.\"\"\"\n",
    "\n",
    "    layers: nn.Sequential\n",
    "\n",
    "    def __init__(self, obs_shape: tuple[int], num_actions: int, hidden_sizes: list[int] = [120, 84]):\n",
    "        super().__init__()\n",
    "        assert len(obs_shape) == 1, \"Expecting a single vector of observations\"\n",
    "        in_features_list = [obs_shape[0]] + hidden_sizes\n",
    "        out_features_list = hidden_sizes + [num_actions]\n",
    "        layers = []\n",
    "        for i, (in_features, out_features) in enumerate(zip(in_features_list, out_features_list)):\n",
    "            layers.append(nn.Linear(in_features, out_features))\n",
    "            if i < len(in_features_list) - 1:\n",
    "                layers.append(nn.ReLU())\n",
    "        self.layers = nn.Sequential(*layers)\n",
    "\n",
    "    def forward(self, x: t.Tensor) -> t.Tensor:\n",
    "        return self.layers(x)\n",
    "```\n",
    "</details>"
   ]
  },
  {
   "cell_type": "markdown",
   "metadata": {},
   "source": [
    "## Replay Buffer\n",
    "\n",
    "The goal of DQN is to reduce the reinforcement learning problem to a supervised learning problem. In supervised learning, training examples should be drawn **i.i.d**. from some distribution, and we hope to generalize to future examples from that distribution. Obviously perfect i.i.d. sampling isn't attainable, but we can approximate this by filling a buffer of past experiences and sampling from it. Note that for very complex problems we may need a very large buffer, because we want the policy to get a representative sample of all the diverse scenarios that can happen in the environment. [OpenAI Five](https://cdn.openai.com/dota-2.pdf) used batch sizes of over 2 million experiences for Dota 2! However we'll be working with the fairly simple CartPole environment, and so we can get away with a much smaller buffer.\n",
    "\n",
    "In RL, the distribution of experiences $e_t = (s_t, a_t, r_{t+1}, s_{t+1})$ to train from depend on the policy $\\pi$ followed, which depends on the current state of the Q-value network, so DQN is always chasing a moving target. This is why the training loss curve isn't going to have a nice steady decrease like in supervised learning. We will extend experiences to $e_t = (s_t, a_t, r_{t+1}, s_{t+1}, d_{t+1})$. Here, $d_{t+1}$ is a boolean indicating that $s_{t+1}$ is a terminal observation, and that no further interaction happened beyond $s_{t+1}$ in the episode from which it was generated. \n",
    "\n",
    "### Termination vs Truncation\n",
    "\n",
    "Note that we take $d_{t+1}$ to be `terminated`, not `done = terminated | truncated`. The reason is as follows: our time limit was imposed for practical reasons to help with learning, but if the agent views the environment timing out as a form of failure that terminates its reward then it would have no reason to prefer the behaviour \"stay perfectly level\" to the behaviour \"stay level for the first 499 timesteps then immediately fall over\"! We want to encourage the agent to perform well all the time, not just perform well until the environment times out. See [this page](https://farama.org/Gymnasium-Terminated-Truncated-Step-API#theory) for more discussion.\n",
    "\n",
    "### `ReplayBuffer` and `ReplayBufferSamples`\n",
    "\n",
    "We've given you 2 classes below. The first, `ReplayBuffer`, holds data from past experiences and also contains methods for sampling that data (the samples are instances of `ReplayBufferSamples`).\n",
    "\n",
    "You should read these implementations carefully, making sure you understand how they work. A few things to note:\n",
    "\n",
    "- The `add` method adds multiple experiences at once: the tensors like `obs` have shape `(num_envs, *obs_shape)`. This is because we're using the `SyncVectorEnv` class which allows us to step through & generate experiences for multiple environments simultaneously. We'll see how this works in practice later.\n",
    "- The `add` method will add these experiences to the end of the buffer, slicing the buffer if it's too long. Note that the slicing is done so that we remove the oldest experiences when the buffer is full.\n",
    "- The `sample` method will return a `ReplayBufferSamples` object containing the experiences sampled from the buffer. These are sampled with replacement, and the data is converted to PyTorch tensors on the correct device."
   ]
  },
  {
   "cell_type": "code",
   "execution_count": 12,
   "metadata": {},
   "outputs": [],
   "source": [
    "@dataclass\n",
    "class ReplayBufferSamples:\n",
    "    \"\"\"\n",
    "    Samples from the replay buffer, converted to PyTorch for use in neural network training.\n",
    "\n",
    "    Data is equivalent to (s_t, a_t, r_{t+1}, d_{t+1}, s_{t+1}). Note - here, d_{t+1} is actually **terminated** rather\n",
    "    than **done** (i.e. it records the times when we went out of bounds, not when the environment timed out).\n",
    "    \"\"\"\n",
    "\n",
    "    obs: Float[Tensor, \"sample_size *obs_shape\"]\n",
    "    actions: Float[Tensor, \"sample_size *action_shape\"]\n",
    "    rewards: Float[Tensor, \"sample_size\"]\n",
    "    terminated: Bool[Tensor, \"sample_size\"]\n",
    "    next_obs: Float[Tensor, \"sample_size *obs_shape\"]\n",
    "\n",
    "\n",
    "class ReplayBuffer:\n",
    "    \"\"\"\n",
    "    Contains buffer; has a method to sample from it to return a ReplayBufferSamples object.\n",
    "    \"\"\"\n",
    "\n",
    "    rng: np.random.Generator\n",
    "    obs: Float[Arr, \"buffer_size *obs_shape\"]\n",
    "    actions: Float[Arr, \"buffer_size *action_shape\"]\n",
    "    rewards: Float[Arr, \"buffer_size\"]\n",
    "    terminated: Bool[Arr, \"buffer_size\"]\n",
    "    next_obs: Float[Arr, \"buffer_size *obs_shape\"]\n",
    "\n",
    "    def __init__(self, num_envs: int, obs_shape: tuple[int], action_shape: tuple[int], buffer_size: int, seed: int):\n",
    "        self.num_envs = num_envs\n",
    "        self.obs_shape = obs_shape\n",
    "        self.action_shape = action_shape\n",
    "        self.buffer_size = buffer_size\n",
    "        self.rng = np.random.default_rng(seed)\n",
    "\n",
    "        self.obs = np.empty((0, *self.obs_shape), dtype=np.float32)\n",
    "        self.actions = np.empty((0, *self.action_shape), dtype=np.int32)\n",
    "        self.rewards = np.empty(0, dtype=np.float32)\n",
    "        self.terminated = np.empty(0, dtype=bool)\n",
    "        self.next_obs = np.empty((0, *self.obs_shape), dtype=np.float32)\n",
    "\n",
    "    def add(\n",
    "        self,\n",
    "        obs: Float[Arr, \"num_envs *obs_shape\"],\n",
    "        actions: Int[Arr, \"num_envs *action_shape\"],\n",
    "        rewards: Float[Arr, \"num_envs\"],\n",
    "        terminated: Bool[Arr, \"num_envs\"],\n",
    "        next_obs: Float[Arr, \"num_envs *obs_shape\"],\n",
    "    ) -> None:\n",
    "        \"\"\"\n",
    "        Add a batch of transitions to the replay buffer.\n",
    "        \"\"\"\n",
    "        # Check shapes & datatypes\n",
    "        for data, expected_shape in zip(\n",
    "            [obs, actions, rewards, terminated, next_obs], [self.obs_shape, self.action_shape, (), (), self.obs_shape]\n",
    "        ):\n",
    "            assert isinstance(data, np.ndarray)\n",
    "            assert data.shape == (self.num_envs, *expected_shape)\n",
    "\n",
    "        # Add data to buffer, slicing off the old elements\n",
    "        self.obs = np.concatenate((self.obs, obs))[-self.buffer_size :]\n",
    "        self.actions = np.concatenate((self.actions, actions))[-self.buffer_size :]\n",
    "        self.rewards = np.concatenate((self.rewards, rewards))[-self.buffer_size :]\n",
    "        self.terminated = np.concatenate((self.terminated, terminated))[-self.buffer_size :]\n",
    "        self.next_obs = np.concatenate((self.next_obs, next_obs))[-self.buffer_size :]\n",
    "\n",
    "    def sample(self, sample_size: int, device: t.device) -> ReplayBufferSamples:\n",
    "        \"\"\"\n",
    "        Sample a batch of transitions from the buffer, with replacement.\n",
    "        \"\"\"\n",
    "        indices = self.rng.integers(0, self.buffer_size, sample_size)\n",
    "\n",
    "        return ReplayBufferSamples(\n",
    "            obs=t.tensor(self.obs[indices], dtype=t.float32, device=device),\n",
    "            actions=t.tensor(self.actions[indices], device=device),\n",
    "            rewards=t.tensor(self.rewards[indices], dtype=t.float32, device=device),\n",
    "            terminated=t.tensor(self.terminated[indices], device=device),\n",
    "            next_obs=t.tensor(self.next_obs[indices], dtype=t.float32, device=device)\n",
    "        )"
   ]
  },
  {
   "cell_type": "markdown",
   "metadata": {},
   "source": [
    "Next, you can run the following code to visualize your cart's position and angle, and see how these look in both the buffer and the buffer's random samples. Do the samples look correctly shuffled? Also, based on the [CartPole source code](https://github.com/Farama-Foundation/Gymnasium/blob/v0.29.0/gymnasium/envs/classic_control/cartpole.py), do the angles & positions at which the cart terminates make sense? points look like they make sense? (Note, the min/max values in the table are different to the termination ranges, the latter can be found *below* the table in the docstring.)\n",
    "\n",
    "Note that the code below uses the `SyncVectorEnv` class, which is what lets us step through multiple environments at once. We create it by passing it a list of functions which can be called to create environments (see the `make_env` function in `utils.py` for exactly how this works). Note that in this case we're just passing it a single environment; tomorrow we'll actually make full use of `SyncVectorEnv` by giving it multiple environments.\n",
    "\n",
    "<!-- Lastly, note how the code below only adds experiences to the buffer if we didn't just finish the episode. The reason for this is as follows: the first time we call `envs.step` after terminating, it'll actually reset the environment rather than taking a step in it (see source code [here](https://github.com/Farama-Foundation/Gymnasium/blob/v1.0.0/gymnasium/vector/sync_vector_env.py#L209)). In other words, `obs` would be an out-of-bounds terminated state and `next_obs` would be a reset state. We don't want to add this experience to the buffer, because we don't want to teach our model that it can start from an out-of-bounds state and move to a reset state! You can see this reflected in the plots below - the vertical grey lines indicate values $t$ where $d_{t+1} = 1$, and we can see that immediately after this line both $s_t$ and $s_{t+1}$ reset to a new episode, without there being any intermediate logged state where $s_t$ refers to the old episode and $s_{t+1}$ to the new one. \n",
    "\n",
    "buffer = ReplayBuffer(num_environments=1, obs_shape=(4,), action_shape=(), buffer_size=256, seed=0)\n",
    "envs = gym.vector.SyncVectorEnv([make_env(\"CartPole-v1\", 0, 0, \"test\")])\n",
    "obs, infos = envs.reset()\n",
    "dones = np.array([False])\n",
    "\n",
    "for i in range(256):\n",
    "    # Choose random action, and take a step in the environment\n",
    "    actions = envs.action_space.sample()\n",
    "    next_obs, rewards, terminated, truncated, infos = envs.step(actions)\n",
    "    next_dones = terminated | truncated\n",
    "\n",
    "    # Add experience to buffer, as long as we didn't just finish an episode (so obs & next_obs are from the same episode)\n",
    "    buffer.add(obs[~dones], actions[~dones], rewards[~dones], terminated[~dones], next_obs[~dones])\n",
    "    obs = next_obs\n",
    "    dones = next_dones\n",
    "-->\n",
    "\n",
    "<!-- Lastly, note how there's actually a slight epsiode mismatch between $s_t$ and $s_{t+1}$ in the plots below. The vertical lines show the values of $t$ where $d_{t+1} = 1$, so we can see that at these points $s_t$ and $s_{t+1}$ both refer to the terminated episode (they're the pre-final and final observations respectively), but immediately after these points $s_t$ refers to the terminal observation while $s_{t+1}$ refers to the first observation of the new episode. This isn't really a problem though, because we don't care what action our agent learns to take when $s_t$ is a terminal state (i.e. out of bounds). If we were being careful then we'd want to filter these terms out of our buffer, but for our purposes this week it doesn't really matter if we keep them in. -->\n",
    "\n",
    "Lastly, note how when we terminate environments we do something slightly different. If `envs.step` results in some environments terminating, it'll actually return `next_obs` as the observation for the next environment. In this case, we want to use this as our starting observation for the next step, but we need to make sure we record the correct terminal observation in our buffer - we do this by extracting it from the `infos` dict, which is where it gets stored. You can see this in the plots below: the vertical lines are the values $t$ where $d_{t+1}=1$ i.e. $s_{t+1}$ is terminal, and we can see that $s_t, s_{t+1}$ both refer to the terminated episode at this point and both refer to the new episode immediately after."
   ]
  },
  {
   "cell_type": "code",
   "execution_count": 13,
   "metadata": {},
   "outputs": [
    {
     "data": {
      "application/vnd.plotly.v1+json": {
       "config": {
        "displaylogo": false,
        "plotlyServerURL": "https://plot.ly"
       },
       "data": [
        {
         "marker": {
          "color": "#1F77B4"
         },
         "mode": "lines",
         "name": "posn",
         "type": "scatter",
         "xaxis": "x",
         "y": [
          0.031327024102211,
          0.032152533531188965,
          0.03687739372253418,
          0.03769667446613312,
          0.034611865878105164,
          0.027622807770967484,
          0.024532543495297432,
          0.025337349623441696,
          0.030035171657800674,
          0.03862576559185982,
          0.051110681146383286,
          0.06749310344457626,
          0.0877775326371193,
          0.10416466742753983,
          0.12446616590023041,
          0.14088386297225952,
          0.16122667491436005,
          0.17770038545131683,
          0.19810819625854492,
          0.004362499341368675,
          0.00523264380171895,
          0.0021915831603109837,
          -0.004760379903018475,
          -0.015624419786036015,
          -0.02259935811161995,
          -0.025690877810120583,
          -0.02490301989018917,
          -0.02803901955485344,
          -0.027297871187329292,
          -0.02268213778734207,
          -0.014192403294146061,
          -0.0018272644374519587,
          0.014416562393307686,
          0.02674160897731781,
          0.03515194356441498,
          0.04745492339134216,
          0.06365276128053665,
          0.0759444385766983,
          0.08433487266302109,
          0.09663236141204834,
          0.11283853650093079,
          0.12515217065811157,
          0.1413823515176773,
          0.15372918546199799,
          0.16999998688697815,
          0.18239738047122955,
          0.19092880189418793,
          0.2033947855234146,
          0.2120027095079422,
          0.22454974055290222,
          0.23324772715568542,
          0.03574042767286301,
          0.03480760008096695,
          0.029965898022055626,
          0.029020125046372414,
          0.02416420169174671,
          0.015398268587887287,
          0.0027209781110286713,
          -0.013870284892618656,
          -0.0265763308852911,
          -0.043205879628658295,
          -0.063761405646801,
          -0.08824514597654343,
          0.036317892372608185,
          0.03640081360936165,
          0.04039180651307106,
          0.04048622399568558,
          0.044490426778793335,
          0.044600002467632294,
          0.04862120375037193,
          0.048749931156635284,
          0.044988345354795456,
          0.04514065384864807,
          0.0492057204246521,
          0.04937988147139549,
          0.05346927046775818,
          0.05367078632116318,
          0.049987200647592545,
          0.050222206860780716,
          0.054375115782022476,
          0.062446556985378265,
          0.06663630902767181,
          0.07475059479475021,
          0.07899145781993866,
          0.08716271072626114,
          0.09926555305719376,
          0.10750819742679596,
          -0.047168031334877014,
          -0.047919467091560364,
          -0.04477343708276749,
          -0.045534711331129074,
          -0.04239700362086296,
          -0.03536044433712959,
          -0.024423470720648766,
          -0.017387868836522102,
          -0.006444125901907682,
          0.008410423062741756,
          0.027179431170225143,
          0.042065005749464035,
          0.060876090079545975,
          0.0836150273680687,
          0.011538511142134666,
          0.011305865831673145,
          0.007157254498451948,
          0.006895964499562979,
          0.010519629344344139,
          0.010224912315607071,
          0.013815882615745068,
          0.01348884403705597,
          0.017047766596078873,
          0.016688697040081024,
          0.020215410739183426,
          0.02762668952345848,
          0.031120214611291885,
          0.03850112482905388,
          0.041966333985328674,
          0.04932127892971039,
          0.060566145926713943,
          0.07570294290781021,
          0.08693075180053711,
          0.10205888003110886,
          0.11328557133674622,
          0.12061572819948196,
          0.12405279278755188,
          0.13140255212783813,
          0.1426648646593094,
          0.1500372290611267,
          0.1535235345363617,
          0.16092868149280548,
          0.1644500195980072,
          0.16408997774124146,
          0.15984903275966644,
          0.15952807664871216,
          0.16312506794929504,
          0.1706392914056778,
          0.18207131326198578,
          0.18962068855762482,
          0.19329288601875305,
          0.20089156925678253,
          0.212417334318161,
          0.2278716266155243,
          0.23946058750152588,
          0.2549855411052704,
          0.018554197624325752,
          0.01885511726140976,
          0.015248293988406658,
          0.007733821403235197,
          0.004114793613553047,
          -0.0034165794495493174,
          -0.0070577822625637054,
          -0.014615988358855247,
          -0.018289700150489807,
          -0.02588510513305664,
          -0.037403400987386703,
          -0.05284664407372475,
          -0.0644197165966034,
          -0.0799262672662735,
          -0.03649035096168518,
          -0.036047372967004776,
          -0.039507560431957245,
          -0.039065927267074585,
          -0.0425289049744606,
          -0.04989639297127724,
          -0.06116987392306328,
          -0.07635223120450974,
          -0.08764347434043884,
          -0.09505109488964081,
          -0.10638222098350525,
          -0.121638722717762,
          -0.13302534818649292,
          -0.1405516415834427,
          -0.14422568678855896,
          -0.15184158086776733,
          -0.001416464103385806,
          -0.0006374884396791458,
          -0.0037728464230895042,
          -0.003018575254827738,
          0.0016234340146183968,
          0.010153166018426418,
          0.02257245033979416,
          0.03888479992747307,
          0.059095099568367004,
          0.08320914953947067,
          0.10342871397733688,
          0.11976362019777298,
          0.14002305269241333,
          0.1642095297574997,
          0.007152982987463474,
          0.006796721834689379,
          0.010340170003473759,
          0.01778343692421913,
          0.0291283056139946,
          0.03657318279147148,
          0.04792775213718414,
          0.06319479644298553,
          0.07457491755485535,
          0.08987728506326675,
          0.10910455882549286,
          0.1244630366563797,
          -0.010838099755346775,
          -0.010057550854980946,
          -0.0053669544868171215,
          -0.004570880904793739,
          -0.00766753451898694,
          -0.006852675229310989,
          -0.009932196699082851,
          -0.009101547300815582,
          -0.004362095613032579,
          0.0042863390408456326,
          0.009041073732078075,
          0.009906189516186714,
          0.014687460847198963,
          0.015581824816763401,
          0.012591885402798653,
          0.005718352273106575,
          0.002762916963547468,
          -0.004079848062247038,
          -0.014810837805271149,
          -0.021628763526678085,
          -0.032341428101062775,
          -0.03914646431803703,
          -0.04204739257693291,
          -0.041046224534511566,
          -0.043948184698820114,
          -0.050751958042383194,
          -0.06145789846777916,
          -0.06826312094926834,
          -0.07117143273353577,
          -0.07798950374126434,
          -0.08871762454509735,
          -0.09555337578058243,
          -0.10630462318658829,
          -0.11316989362239838,
          -0.12395600229501724,
          -0.13086307048797607,
          -0.1338963806629181,
          -0.14085829257965088,
          -0.14395084977149963,
          -0.15097513794898987,
          -0.1541353315114975,
          -0.16123069822788239,
          -0.1644682139158249,
          -0.17164461314678192,
          -0.1749705672264099,
          -0.17445260286331177,
          -0.04159846529364586,
          -0.04093317687511444,
          -0.036373913288116455,
          -0.027920467779040337,
          -0.015570876188576221,
          -0.00712644774466753,
          0.005222489591687918,
          0.013674283400177956,
          0.01823427714407444,
          0.02670983411371708,
          0.0391022264957428
         ],
         "yaxis": "y"
        },
        {
         "marker": {
          "color": "#1F77B4"
         },
         "mode": "lines",
         "name": "posn_min",
         "type": "scatter",
         "xaxis": "x",
         "y": [
          -2.4000000953674316,
          -2.4000000953674316,
          -2.4000000953674316,
          -2.4000000953674316,
          -2.4000000953674316,
          -2.4000000953674316,
          -2.4000000953674316,
          -2.4000000953674316,
          -2.4000000953674316,
          -2.4000000953674316,
          -2.4000000953674316,
          -2.4000000953674316,
          -2.4000000953674316,
          -2.4000000953674316,
          -2.4000000953674316,
          -2.4000000953674316,
          -2.4000000953674316,
          -2.4000000953674316,
          -2.4000000953674316,
          -2.4000000953674316,
          -2.4000000953674316,
          -2.4000000953674316,
          -2.4000000953674316,
          -2.4000000953674316,
          -2.4000000953674316,
          -2.4000000953674316,
          -2.4000000953674316,
          -2.4000000953674316,
          -2.4000000953674316,
          -2.4000000953674316,
          -2.4000000953674316,
          -2.4000000953674316,
          -2.4000000953674316,
          -2.4000000953674316,
          -2.4000000953674316,
          -2.4000000953674316,
          -2.4000000953674316,
          -2.4000000953674316,
          -2.4000000953674316,
          -2.4000000953674316,
          -2.4000000953674316,
          -2.4000000953674316,
          -2.4000000953674316,
          -2.4000000953674316,
          -2.4000000953674316,
          -2.4000000953674316,
          -2.4000000953674316,
          -2.4000000953674316,
          -2.4000000953674316,
          -2.4000000953674316,
          -2.4000000953674316,
          -2.4000000953674316,
          -2.4000000953674316,
          -2.4000000953674316,
          -2.4000000953674316,
          -2.4000000953674316,
          -2.4000000953674316,
          -2.4000000953674316,
          -2.4000000953674316,
          -2.4000000953674316,
          -2.4000000953674316,
          -2.4000000953674316,
          -2.4000000953674316,
          -2.4000000953674316,
          -2.4000000953674316,
          -2.4000000953674316,
          -2.4000000953674316,
          -2.4000000953674316,
          -2.4000000953674316,
          -2.4000000953674316,
          -2.4000000953674316,
          -2.4000000953674316,
          -2.4000000953674316,
          -2.4000000953674316,
          -2.4000000953674316,
          -2.4000000953674316,
          -2.4000000953674316,
          -2.4000000953674316,
          -2.4000000953674316,
          -2.4000000953674316,
          -2.4000000953674316,
          -2.4000000953674316,
          -2.4000000953674316,
          -2.4000000953674316,
          -2.4000000953674316,
          -2.4000000953674316,
          -2.4000000953674316,
          -2.4000000953674316,
          -2.4000000953674316,
          -2.4000000953674316,
          -2.4000000953674316,
          -2.4000000953674316,
          -2.4000000953674316,
          -2.4000000953674316,
          -2.4000000953674316,
          -2.4000000953674316,
          -2.4000000953674316,
          -2.4000000953674316,
          -2.4000000953674316,
          -2.4000000953674316,
          -2.4000000953674316,
          -2.4000000953674316,
          -2.4000000953674316,
          -2.4000000953674316,
          -2.4000000953674316,
          -2.4000000953674316,
          -2.4000000953674316,
          -2.4000000953674316,
          -2.4000000953674316,
          -2.4000000953674316,
          -2.4000000953674316,
          -2.4000000953674316,
          -2.4000000953674316,
          -2.4000000953674316,
          -2.4000000953674316,
          -2.4000000953674316,
          -2.4000000953674316,
          -2.4000000953674316,
          -2.4000000953674316,
          -2.4000000953674316,
          -2.4000000953674316,
          -2.4000000953674316,
          -2.4000000953674316,
          -2.4000000953674316,
          -2.4000000953674316,
          -2.4000000953674316,
          -2.4000000953674316,
          -2.4000000953674316,
          -2.4000000953674316,
          -2.4000000953674316,
          -2.4000000953674316,
          -2.4000000953674316,
          -2.4000000953674316,
          -2.4000000953674316,
          -2.4000000953674316,
          -2.4000000953674316,
          -2.4000000953674316,
          -2.4000000953674316,
          -2.4000000953674316,
          -2.4000000953674316,
          -2.4000000953674316,
          -2.4000000953674316,
          -2.4000000953674316,
          -2.4000000953674316,
          -2.4000000953674316,
          -2.4000000953674316,
          -2.4000000953674316,
          -2.4000000953674316,
          -2.4000000953674316,
          -2.4000000953674316,
          -2.4000000953674316,
          -2.4000000953674316,
          -2.4000000953674316,
          -2.4000000953674316,
          -2.4000000953674316,
          -2.4000000953674316,
          -2.4000000953674316,
          -2.4000000953674316,
          -2.4000000953674316,
          -2.4000000953674316,
          -2.4000000953674316,
          -2.4000000953674316,
          -2.4000000953674316,
          -2.4000000953674316,
          -2.4000000953674316,
          -2.4000000953674316,
          -2.4000000953674316,
          -2.4000000953674316,
          -2.4000000953674316,
          -2.4000000953674316,
          -2.4000000953674316,
          -2.4000000953674316,
          -2.4000000953674316,
          -2.4000000953674316,
          -2.4000000953674316,
          -2.4000000953674316,
          -2.4000000953674316,
          -2.4000000953674316,
          -2.4000000953674316,
          -2.4000000953674316,
          -2.4000000953674316,
          -2.4000000953674316,
          -2.4000000953674316,
          -2.4000000953674316,
          -2.4000000953674316,
          -2.4000000953674316,
          -2.4000000953674316,
          -2.4000000953674316,
          -2.4000000953674316,
          -2.4000000953674316,
          -2.4000000953674316,
          -2.4000000953674316,
          -2.4000000953674316,
          -2.4000000953674316,
          -2.4000000953674316,
          -2.4000000953674316,
          -2.4000000953674316,
          -2.4000000953674316,
          -2.4000000953674316,
          -2.4000000953674316,
          -2.4000000953674316,
          -2.4000000953674316,
          -2.4000000953674316,
          -2.4000000953674316,
          -2.4000000953674316,
          -2.4000000953674316,
          -2.4000000953674316,
          -2.4000000953674316,
          -2.4000000953674316,
          -2.4000000953674316,
          -2.4000000953674316,
          -2.4000000953674316,
          -2.4000000953674316,
          -2.4000000953674316,
          -2.4000000953674316,
          -2.4000000953674316,
          -2.4000000953674316,
          -2.4000000953674316,
          -2.4000000953674316,
          -2.4000000953674316,
          -2.4000000953674316,
          -2.4000000953674316,
          -2.4000000953674316,
          -2.4000000953674316,
          -2.4000000953674316,
          -2.4000000953674316,
          -2.4000000953674316,
          -2.4000000953674316,
          -2.4000000953674316,
          -2.4000000953674316,
          -2.4000000953674316,
          -2.4000000953674316,
          -2.4000000953674316,
          -2.4000000953674316,
          -2.4000000953674316,
          -2.4000000953674316,
          -2.4000000953674316,
          -2.4000000953674316,
          -2.4000000953674316,
          -2.4000000953674316,
          -2.4000000953674316,
          -2.4000000953674316,
          -2.4000000953674316,
          -2.4000000953674316,
          -2.4000000953674316,
          -2.4000000953674316,
          -2.4000000953674316,
          -2.4000000953674316,
          -2.4000000953674316,
          -2.4000000953674316,
          -2.4000000953674316,
          -2.4000000953674316,
          -2.4000000953674316,
          -2.4000000953674316,
          -2.4000000953674316,
          -2.4000000953674316
         ],
         "yaxis": "y"
        },
        {
         "marker": {
          "color": "#1F77B4"
         },
         "mode": "lines",
         "name": "posn_max",
         "type": "scatter",
         "xaxis": "x",
         "y": [
          2.4000000953674316,
          2.4000000953674316,
          2.4000000953674316,
          2.4000000953674316,
          2.4000000953674316,
          2.4000000953674316,
          2.4000000953674316,
          2.4000000953674316,
          2.4000000953674316,
          2.4000000953674316,
          2.4000000953674316,
          2.4000000953674316,
          2.4000000953674316,
          2.4000000953674316,
          2.4000000953674316,
          2.4000000953674316,
          2.4000000953674316,
          2.4000000953674316,
          2.4000000953674316,
          2.4000000953674316,
          2.4000000953674316,
          2.4000000953674316,
          2.4000000953674316,
          2.4000000953674316,
          2.4000000953674316,
          2.4000000953674316,
          2.4000000953674316,
          2.4000000953674316,
          2.4000000953674316,
          2.4000000953674316,
          2.4000000953674316,
          2.4000000953674316,
          2.4000000953674316,
          2.4000000953674316,
          2.4000000953674316,
          2.4000000953674316,
          2.4000000953674316,
          2.4000000953674316,
          2.4000000953674316,
          2.4000000953674316,
          2.4000000953674316,
          2.4000000953674316,
          2.4000000953674316,
          2.4000000953674316,
          2.4000000953674316,
          2.4000000953674316,
          2.4000000953674316,
          2.4000000953674316,
          2.4000000953674316,
          2.4000000953674316,
          2.4000000953674316,
          2.4000000953674316,
          2.4000000953674316,
          2.4000000953674316,
          2.4000000953674316,
          2.4000000953674316,
          2.4000000953674316,
          2.4000000953674316,
          2.4000000953674316,
          2.4000000953674316,
          2.4000000953674316,
          2.4000000953674316,
          2.4000000953674316,
          2.4000000953674316,
          2.4000000953674316,
          2.4000000953674316,
          2.4000000953674316,
          2.4000000953674316,
          2.4000000953674316,
          2.4000000953674316,
          2.4000000953674316,
          2.4000000953674316,
          2.4000000953674316,
          2.4000000953674316,
          2.4000000953674316,
          2.4000000953674316,
          2.4000000953674316,
          2.4000000953674316,
          2.4000000953674316,
          2.4000000953674316,
          2.4000000953674316,
          2.4000000953674316,
          2.4000000953674316,
          2.4000000953674316,
          2.4000000953674316,
          2.4000000953674316,
          2.4000000953674316,
          2.4000000953674316,
          2.4000000953674316,
          2.4000000953674316,
          2.4000000953674316,
          2.4000000953674316,
          2.4000000953674316,
          2.4000000953674316,
          2.4000000953674316,
          2.4000000953674316,
          2.4000000953674316,
          2.4000000953674316,
          2.4000000953674316,
          2.4000000953674316,
          2.4000000953674316,
          2.4000000953674316,
          2.4000000953674316,
          2.4000000953674316,
          2.4000000953674316,
          2.4000000953674316,
          2.4000000953674316,
          2.4000000953674316,
          2.4000000953674316,
          2.4000000953674316,
          2.4000000953674316,
          2.4000000953674316,
          2.4000000953674316,
          2.4000000953674316,
          2.4000000953674316,
          2.4000000953674316,
          2.4000000953674316,
          2.4000000953674316,
          2.4000000953674316,
          2.4000000953674316,
          2.4000000953674316,
          2.4000000953674316,
          2.4000000953674316,
          2.4000000953674316,
          2.4000000953674316,
          2.4000000953674316,
          2.4000000953674316,
          2.4000000953674316,
          2.4000000953674316,
          2.4000000953674316,
          2.4000000953674316,
          2.4000000953674316,
          2.4000000953674316,
          2.4000000953674316,
          2.4000000953674316,
          2.4000000953674316,
          2.4000000953674316,
          2.4000000953674316,
          2.4000000953674316,
          2.4000000953674316,
          2.4000000953674316,
          2.4000000953674316,
          2.4000000953674316,
          2.4000000953674316,
          2.4000000953674316,
          2.4000000953674316,
          2.4000000953674316,
          2.4000000953674316,
          2.4000000953674316,
          2.4000000953674316,
          2.4000000953674316,
          2.4000000953674316,
          2.4000000953674316,
          2.4000000953674316,
          2.4000000953674316,
          2.4000000953674316,
          2.4000000953674316,
          2.4000000953674316,
          2.4000000953674316,
          2.4000000953674316,
          2.4000000953674316,
          2.4000000953674316,
          2.4000000953674316,
          2.4000000953674316,
          2.4000000953674316,
          2.4000000953674316,
          2.4000000953674316,
          2.4000000953674316,
          2.4000000953674316,
          2.4000000953674316,
          2.4000000953674316,
          2.4000000953674316,
          2.4000000953674316,
          2.4000000953674316,
          2.4000000953674316,
          2.4000000953674316,
          2.4000000953674316,
          2.4000000953674316,
          2.4000000953674316,
          2.4000000953674316,
          2.4000000953674316,
          2.4000000953674316,
          2.4000000953674316,
          2.4000000953674316,
          2.4000000953674316,
          2.4000000953674316,
          2.4000000953674316,
          2.4000000953674316,
          2.4000000953674316,
          2.4000000953674316,
          2.4000000953674316,
          2.4000000953674316,
          2.4000000953674316,
          2.4000000953674316,
          2.4000000953674316,
          2.4000000953674316,
          2.4000000953674316,
          2.4000000953674316,
          2.4000000953674316,
          2.4000000953674316,
          2.4000000953674316,
          2.4000000953674316,
          2.4000000953674316,
          2.4000000953674316,
          2.4000000953674316,
          2.4000000953674316,
          2.4000000953674316,
          2.4000000953674316,
          2.4000000953674316,
          2.4000000953674316,
          2.4000000953674316,
          2.4000000953674316,
          2.4000000953674316,
          2.4000000953674316,
          2.4000000953674316,
          2.4000000953674316,
          2.4000000953674316,
          2.4000000953674316,
          2.4000000953674316,
          2.4000000953674316,
          2.4000000953674316,
          2.4000000953674316,
          2.4000000953674316,
          2.4000000953674316,
          2.4000000953674316,
          2.4000000953674316,
          2.4000000953674316,
          2.4000000953674316,
          2.4000000953674316,
          2.4000000953674316,
          2.4000000953674316,
          2.4000000953674316,
          2.4000000953674316,
          2.4000000953674316,
          2.4000000953674316,
          2.4000000953674316,
          2.4000000953674316,
          2.4000000953674316,
          2.4000000953674316,
          2.4000000953674316,
          2.4000000953674316,
          2.4000000953674316,
          2.4000000953674316,
          2.4000000953674316,
          2.4000000953674316,
          2.4000000953674316,
          2.4000000953674316,
          2.4000000953674316,
          2.4000000953674316,
          2.4000000953674316,
          2.4000000953674316,
          2.4000000953674316,
          2.4000000953674316,
          2.4000000953674316,
          2.4000000953674316,
          2.4000000953674316
         ],
         "yaxis": "y"
        },
        {
         "marker": {
          "color": "#FF7F0E"
         },
         "mode": "lines",
         "name": "angle",
         "type": "scatter",
         "xaxis": "x2",
         "y": [
          0.010663577355444431,
          0.011122570373117924,
          0.005795574747025967,
          0.006391983013600111,
          0.012878508307039738,
          0.025258868932724,
          0.03186724707484245,
          0.032783392816782,
          0.028050323948264122,
          0.01767396740615368,
          0.0016233414644375443,
          -0.020168710500001907,
          -0.047804221510887146,
          -0.06971357017755508,
          -0.09776873141527176,
          -0.12042192369699478,
          -0.14950864017009735,
          -0.1735401153564453,
          -0.204282745718956,
          0.03158535435795784,
          0.030590832233428955,
          0.03564588353037834,
          0.04674438759684563,
          0.06391683220863342,
          0.07553675770759583,
          0.08171902596950531,
          0.0825425460934639,
          0.08971219509840012,
          0.09157071262598038,
          0.08816752582788467,
          0.07951537519693375,
          0.06559044122695923,
          0.04633292183279991,
          0.03332633152604103,
          0.02645784430205822,
          0.013949551619589329,
          -0.004243426024913788,
          -0.016495713964104652,
          -0.022921135649085045,
          -0.03530333936214447,
          -0.05368179827928543,
          -0.06643261760473251,
          -0.08536530286073685,
          -0.09887614846229553,
          -0.1187528446316719,
          -0.13342826068401337,
          -0.1430421769618988,
          -0.1592877209186554,
          -0.17064349353313446,
          -0.1887657791376114,
          -0.2021968811750412,
          0.02296554483473301,
          0.022316856309771538,
          0.02766495570540428,
          0.027301829308271408,
          0.03296433389186859,
          0.044650182127952576,
          0.0623936727643013,
          0.0862647294998169,
          0.104685939848423,
          0.1294771283864975,
          0.160739466547966,
          0.19860400259494781,
          -0.02002881094813347,
          -0.020183436572551727,
          -0.026316748932003975,
          -0.02672506496310234,
          -0.033150751143693924,
          -0.033893708139657974,
          -0.04069577157497406,
          -0.04186173155903816,
          -0.03743628412485123,
          -0.039122603833675385,
          -0.046894025057554245,
          -0.049063533544540405,
          -0.057375065982341766,
          -0.06015018746256828,
          -0.05744442343711853,
          -0.060959383845329285,
          -0.07067909091711044,
          -0.0866239070892334,
          -0.0971759632229805,
          -0.11410146951675415,
          -0.125814750790596,
          -0.14405472576618195,
          -0.1688833236694336,
          -0.18882571160793304,
          0.017062442377209663,
          0.01735682040452957,
          0.011906178668141365,
          0.01241766382008791,
          0.007151094730943441,
          -0.003890285035595298,
          -0.020740091800689697,
          -0.03176075592637062,
          -0.048764314502477646,
          -0.07181784510612488,
          -0.10102271288633347,
          -0.12483936548233032,
          -0.1551072597503662,
          -0.19195324182510376,
          0.049720995128154755,
          0.050682663917541504,
          0.05780326575040817,
          0.05939825624227524,
          0.05551524460315704,
          0.0578484944999218,
          0.054688453674316406,
          0.05773555487394333,
          0.055283840745687485,
          0.059038616716861725,
          0.05729852244257927,
          0.050088685005903244,
          0.04908255860209465,
          0.042547065764665604,
          0.04216654598712921,
          0.03620680421590805,
          0.02466522343456745,
          0.007502432446926832,
          -0.003653652034699917,
          -0.02061593346297741,
          -0.03174757957458496,
          -0.037156883627176285,
          -0.03691612929105759,
          -0.042758792638778687,
          -0.054683323949575424,
          -0.0610295869410038,
          -0.061876874417066574,
          -0.0689501017332077,
          -0.0705723762512207,
          -0.06679151207208633,
          -0.057618409395217896,
          -0.05470461770892143,
          -0.05799661576747894,
          -0.06747714430093765,
          -0.08316535502672195,
          -0.09343928843736649,
          -0.09840602427721024,
          -0.10978540033102036,
          -0.12760460376739502,
          -0.15192537009716034,
          -0.1712435632944107,
          -0.1972876340150833,
          0.01884467341005802,
          0.018622515723109245,
          0.024371730163693428,
          0.03609089553356171,
          0.042111922055482864,
          0.054209813475608826,
          0.06072516739368439,
          0.07342599332332611,
          0.0806676596403122,
          0.09420737624168396,
          0.1140861064195633,
          0.14037926495075226,
          0.16157428920269012,
          0.1894342005252838,
          0.002535432344302535,
          0.002155916066840291,
          0.007646035868674517,
          0.0072961123660206795,
          0.01284789852797985,
          0.02429918944835663,
          0.041684530675411224,
          0.06507432460784912,
          0.08287755399942398,
          0.09525003284215927,
          0.11397434771060944,
          0.1391192525625229,
          0.15916572511196136,
          0.17429302632808685,
          0.18464694917201996,
          0.20184370875358582,
          0.04340435191988945,
          0.04311994090676308,
          0.04895664006471634,
          0.04921778663992882,
          0.04394206032156944,
          0.03313109651207924,
          0.016749730333685875,
          -0.005273251328617334,
          -0.03304385766386986,
          -0.0667010024189949,
          -0.09471388161182404,
          -0.11730464547872543,
          -0.1463118940591812,
          -0.1818573921918869,
          0.009430003352463245,
          0.009105825796723366,
          0.0029877920169383287,
          -0.00892618764191866,
          -0.026674972847104073,
          -0.03862648829817772,
          -0.05659729242324829,
          -0.08065949380397797,
          -0.09923325479030609,
          -0.1241450309753418,
          -0.1554977297782898,
          -0.18182000517845154,
          -0.02728424035012722,
          -0.027037866413593292,
          -0.03281479328870773,
          -0.0329110324382782,
          -0.02736424095928669,
          -0.02787502482533455,
          -0.02270730398595333,
          -0.02356644719839096,
          -0.030420789495110512,
          -0.043275535106658936,
          -0.05047127977013588,
          -0.05209244042634964,
          -0.05987699702382088,
          -0.06214526668190956,
          -0.058949392288923264,
          -0.05030455067753792,
          -0.04787306487560272,
          -0.03991363197565079,
          -0.026409925892949104,
          -0.019005773589015007,
          -0.0059168217703700066,
          0.0012000009883195162,
          0.00242596841417253,
          -0.0021941454615443945,
          -0.0009453161619603634,
          0.006143310107290745,
          0.019079631194472313,
          0.02620110847055912,
          0.027590466663241386,
          0.034996483474969864,
          0.04842756688594818,
          0.05622940883040428,
          0.07018224895000458,
          0.07864578068256378,
          0.09338843822479248,
          0.10279246419668198,
          0.1069595143198967,
          0.1175917237997055,
          0.1230807825922966,
          0.1351165473461151,
          0.14212191104888916,
          0.15576830506324768,
          0.16451914608478546,
          0.18001900613307953,
          0.19078415632247925,
          0.1969294399023056,
          0.028709830716252327,
          0.028188569471240044,
          0.021997544914484024,
          0.01013329066336155,
          -0.007444431073963642,
          -0.019105127081274986,
          -0.03666619583964348,
          -0.04849494621157646,
          -0.05470547080039978,
          -0.0670674741268158,
          -0.08561744540929794
         ],
         "yaxis": "y2"
        },
        {
         "marker": {
          "color": "#FF7F0E"
         },
         "mode": "lines",
         "name": "angle_min",
         "type": "scatter",
         "xaxis": "x2",
         "y": [
          -0.2094999998807907,
          -0.2094999998807907,
          -0.2094999998807907,
          -0.2094999998807907,
          -0.2094999998807907,
          -0.2094999998807907,
          -0.2094999998807907,
          -0.2094999998807907,
          -0.2094999998807907,
          -0.2094999998807907,
          -0.2094999998807907,
          -0.2094999998807907,
          -0.2094999998807907,
          -0.2094999998807907,
          -0.2094999998807907,
          -0.2094999998807907,
          -0.2094999998807907,
          -0.2094999998807907,
          -0.2094999998807907,
          -0.2094999998807907,
          -0.2094999998807907,
          -0.2094999998807907,
          -0.2094999998807907,
          -0.2094999998807907,
          -0.2094999998807907,
          -0.2094999998807907,
          -0.2094999998807907,
          -0.2094999998807907,
          -0.2094999998807907,
          -0.2094999998807907,
          -0.2094999998807907,
          -0.2094999998807907,
          -0.2094999998807907,
          -0.2094999998807907,
          -0.2094999998807907,
          -0.2094999998807907,
          -0.2094999998807907,
          -0.2094999998807907,
          -0.2094999998807907,
          -0.2094999998807907,
          -0.2094999998807907,
          -0.2094999998807907,
          -0.2094999998807907,
          -0.2094999998807907,
          -0.2094999998807907,
          -0.2094999998807907,
          -0.2094999998807907,
          -0.2094999998807907,
          -0.2094999998807907,
          -0.2094999998807907,
          -0.2094999998807907,
          -0.2094999998807907,
          -0.2094999998807907,
          -0.2094999998807907,
          -0.2094999998807907,
          -0.2094999998807907,
          -0.2094999998807907,
          -0.2094999998807907,
          -0.2094999998807907,
          -0.2094999998807907,
          -0.2094999998807907,
          -0.2094999998807907,
          -0.2094999998807907,
          -0.2094999998807907,
          -0.2094999998807907,
          -0.2094999998807907,
          -0.2094999998807907,
          -0.2094999998807907,
          -0.2094999998807907,
          -0.2094999998807907,
          -0.2094999998807907,
          -0.2094999998807907,
          -0.2094999998807907,
          -0.2094999998807907,
          -0.2094999998807907,
          -0.2094999998807907,
          -0.2094999998807907,
          -0.2094999998807907,
          -0.2094999998807907,
          -0.2094999998807907,
          -0.2094999998807907,
          -0.2094999998807907,
          -0.2094999998807907,
          -0.2094999998807907,
          -0.2094999998807907,
          -0.2094999998807907,
          -0.2094999998807907,
          -0.2094999998807907,
          -0.2094999998807907,
          -0.2094999998807907,
          -0.2094999998807907,
          -0.2094999998807907,
          -0.2094999998807907,
          -0.2094999998807907,
          -0.2094999998807907,
          -0.2094999998807907,
          -0.2094999998807907,
          -0.2094999998807907,
          -0.2094999998807907,
          -0.2094999998807907,
          -0.2094999998807907,
          -0.2094999998807907,
          -0.2094999998807907,
          -0.2094999998807907,
          -0.2094999998807907,
          -0.2094999998807907,
          -0.2094999998807907,
          -0.2094999998807907,
          -0.2094999998807907,
          -0.2094999998807907,
          -0.2094999998807907,
          -0.2094999998807907,
          -0.2094999998807907,
          -0.2094999998807907,
          -0.2094999998807907,
          -0.2094999998807907,
          -0.2094999998807907,
          -0.2094999998807907,
          -0.2094999998807907,
          -0.2094999998807907,
          -0.2094999998807907,
          -0.2094999998807907,
          -0.2094999998807907,
          -0.2094999998807907,
          -0.2094999998807907,
          -0.2094999998807907,
          -0.2094999998807907,
          -0.2094999998807907,
          -0.2094999998807907,
          -0.2094999998807907,
          -0.2094999998807907,
          -0.2094999998807907,
          -0.2094999998807907,
          -0.2094999998807907,
          -0.2094999998807907,
          -0.2094999998807907,
          -0.2094999998807907,
          -0.2094999998807907,
          -0.2094999998807907,
          -0.2094999998807907,
          -0.2094999998807907,
          -0.2094999998807907,
          -0.2094999998807907,
          -0.2094999998807907,
          -0.2094999998807907,
          -0.2094999998807907,
          -0.2094999998807907,
          -0.2094999998807907,
          -0.2094999998807907,
          -0.2094999998807907,
          -0.2094999998807907,
          -0.2094999998807907,
          -0.2094999998807907,
          -0.2094999998807907,
          -0.2094999998807907,
          -0.2094999998807907,
          -0.2094999998807907,
          -0.2094999998807907,
          -0.2094999998807907,
          -0.2094999998807907,
          -0.2094999998807907,
          -0.2094999998807907,
          -0.2094999998807907,
          -0.2094999998807907,
          -0.2094999998807907,
          -0.2094999998807907,
          -0.2094999998807907,
          -0.2094999998807907,
          -0.2094999998807907,
          -0.2094999998807907,
          -0.2094999998807907,
          -0.2094999998807907,
          -0.2094999998807907,
          -0.2094999998807907,
          -0.2094999998807907,
          -0.2094999998807907,
          -0.2094999998807907,
          -0.2094999998807907,
          -0.2094999998807907,
          -0.2094999998807907,
          -0.2094999998807907,
          -0.2094999998807907,
          -0.2094999998807907,
          -0.2094999998807907,
          -0.2094999998807907,
          -0.2094999998807907,
          -0.2094999998807907,
          -0.2094999998807907,
          -0.2094999998807907,
          -0.2094999998807907,
          -0.2094999998807907,
          -0.2094999998807907,
          -0.2094999998807907,
          -0.2094999998807907,
          -0.2094999998807907,
          -0.2094999998807907,
          -0.2094999998807907,
          -0.2094999998807907,
          -0.2094999998807907,
          -0.2094999998807907,
          -0.2094999998807907,
          -0.2094999998807907,
          -0.2094999998807907,
          -0.2094999998807907,
          -0.2094999998807907,
          -0.2094999998807907,
          -0.2094999998807907,
          -0.2094999998807907,
          -0.2094999998807907,
          -0.2094999998807907,
          -0.2094999998807907,
          -0.2094999998807907,
          -0.2094999998807907,
          -0.2094999998807907,
          -0.2094999998807907,
          -0.2094999998807907,
          -0.2094999998807907,
          -0.2094999998807907,
          -0.2094999998807907,
          -0.2094999998807907,
          -0.2094999998807907,
          -0.2094999998807907,
          -0.2094999998807907,
          -0.2094999998807907,
          -0.2094999998807907,
          -0.2094999998807907,
          -0.2094999998807907,
          -0.2094999998807907,
          -0.2094999998807907,
          -0.2094999998807907,
          -0.2094999998807907,
          -0.2094999998807907,
          -0.2094999998807907,
          -0.2094999998807907,
          -0.2094999998807907,
          -0.2094999998807907,
          -0.2094999998807907,
          -0.2094999998807907,
          -0.2094999998807907,
          -0.2094999998807907,
          -0.2094999998807907,
          -0.2094999998807907,
          -0.2094999998807907,
          -0.2094999998807907,
          -0.2094999998807907,
          -0.2094999998807907,
          -0.2094999998807907,
          -0.2094999998807907,
          -0.2094999998807907,
          -0.2094999998807907,
          -0.2094999998807907,
          -0.2094999998807907,
          -0.2094999998807907,
          -0.2094999998807907,
          -0.2094999998807907,
          -0.2094999998807907
         ],
         "yaxis": "y2"
        },
        {
         "marker": {
          "color": "#FF7F0E"
         },
         "mode": "lines",
         "name": "angle_max",
         "type": "scatter",
         "xaxis": "x2",
         "y": [
          0.2094999998807907,
          0.2094999998807907,
          0.2094999998807907,
          0.2094999998807907,
          0.2094999998807907,
          0.2094999998807907,
          0.2094999998807907,
          0.2094999998807907,
          0.2094999998807907,
          0.2094999998807907,
          0.2094999998807907,
          0.2094999998807907,
          0.2094999998807907,
          0.2094999998807907,
          0.2094999998807907,
          0.2094999998807907,
          0.2094999998807907,
          0.2094999998807907,
          0.2094999998807907,
          0.2094999998807907,
          0.2094999998807907,
          0.2094999998807907,
          0.2094999998807907,
          0.2094999998807907,
          0.2094999998807907,
          0.2094999998807907,
          0.2094999998807907,
          0.2094999998807907,
          0.2094999998807907,
          0.2094999998807907,
          0.2094999998807907,
          0.2094999998807907,
          0.2094999998807907,
          0.2094999998807907,
          0.2094999998807907,
          0.2094999998807907,
          0.2094999998807907,
          0.2094999998807907,
          0.2094999998807907,
          0.2094999998807907,
          0.2094999998807907,
          0.2094999998807907,
          0.2094999998807907,
          0.2094999998807907,
          0.2094999998807907,
          0.2094999998807907,
          0.2094999998807907,
          0.2094999998807907,
          0.2094999998807907,
          0.2094999998807907,
          0.2094999998807907,
          0.2094999998807907,
          0.2094999998807907,
          0.2094999998807907,
          0.2094999998807907,
          0.2094999998807907,
          0.2094999998807907,
          0.2094999998807907,
          0.2094999998807907,
          0.2094999998807907,
          0.2094999998807907,
          0.2094999998807907,
          0.2094999998807907,
          0.2094999998807907,
          0.2094999998807907,
          0.2094999998807907,
          0.2094999998807907,
          0.2094999998807907,
          0.2094999998807907,
          0.2094999998807907,
          0.2094999998807907,
          0.2094999998807907,
          0.2094999998807907,
          0.2094999998807907,
          0.2094999998807907,
          0.2094999998807907,
          0.2094999998807907,
          0.2094999998807907,
          0.2094999998807907,
          0.2094999998807907,
          0.2094999998807907,
          0.2094999998807907,
          0.2094999998807907,
          0.2094999998807907,
          0.2094999998807907,
          0.2094999998807907,
          0.2094999998807907,
          0.2094999998807907,
          0.2094999998807907,
          0.2094999998807907,
          0.2094999998807907,
          0.2094999998807907,
          0.2094999998807907,
          0.2094999998807907,
          0.2094999998807907,
          0.2094999998807907,
          0.2094999998807907,
          0.2094999998807907,
          0.2094999998807907,
          0.2094999998807907,
          0.2094999998807907,
          0.2094999998807907,
          0.2094999998807907,
          0.2094999998807907,
          0.2094999998807907,
          0.2094999998807907,
          0.2094999998807907,
          0.2094999998807907,
          0.2094999998807907,
          0.2094999998807907,
          0.2094999998807907,
          0.2094999998807907,
          0.2094999998807907,
          0.2094999998807907,
          0.2094999998807907,
          0.2094999998807907,
          0.2094999998807907,
          0.2094999998807907,
          0.2094999998807907,
          0.2094999998807907,
          0.2094999998807907,
          0.2094999998807907,
          0.2094999998807907,
          0.2094999998807907,
          0.2094999998807907,
          0.2094999998807907,
          0.2094999998807907,
          0.2094999998807907,
          0.2094999998807907,
          0.2094999998807907,
          0.2094999998807907,
          0.2094999998807907,
          0.2094999998807907,
          0.2094999998807907,
          0.2094999998807907,
          0.2094999998807907,
          0.2094999998807907,
          0.2094999998807907,
          0.2094999998807907,
          0.2094999998807907,
          0.2094999998807907,
          0.2094999998807907,
          0.2094999998807907,
          0.2094999998807907,
          0.2094999998807907,
          0.2094999998807907,
          0.2094999998807907,
          0.2094999998807907,
          0.2094999998807907,
          0.2094999998807907,
          0.2094999998807907,
          0.2094999998807907,
          0.2094999998807907,
          0.2094999998807907,
          0.2094999998807907,
          0.2094999998807907,
          0.2094999998807907,
          0.2094999998807907,
          0.2094999998807907,
          0.2094999998807907,
          0.2094999998807907,
          0.2094999998807907,
          0.2094999998807907,
          0.2094999998807907,
          0.2094999998807907,
          0.2094999998807907,
          0.2094999998807907,
          0.2094999998807907,
          0.2094999998807907,
          0.2094999998807907,
          0.2094999998807907,
          0.2094999998807907,
          0.2094999998807907,
          0.2094999998807907,
          0.2094999998807907,
          0.2094999998807907,
          0.2094999998807907,
          0.2094999998807907,
          0.2094999998807907,
          0.2094999998807907,
          0.2094999998807907,
          0.2094999998807907,
          0.2094999998807907,
          0.2094999998807907,
          0.2094999998807907,
          0.2094999998807907,
          0.2094999998807907,
          0.2094999998807907,
          0.2094999998807907,
          0.2094999998807907,
          0.2094999998807907,
          0.2094999998807907,
          0.2094999998807907,
          0.2094999998807907,
          0.2094999998807907,
          0.2094999998807907,
          0.2094999998807907,
          0.2094999998807907,
          0.2094999998807907,
          0.2094999998807907,
          0.2094999998807907,
          0.2094999998807907,
          0.2094999998807907,
          0.2094999998807907,
          0.2094999998807907,
          0.2094999998807907,
          0.2094999998807907,
          0.2094999998807907,
          0.2094999998807907,
          0.2094999998807907,
          0.2094999998807907,
          0.2094999998807907,
          0.2094999998807907,
          0.2094999998807907,
          0.2094999998807907,
          0.2094999998807907,
          0.2094999998807907,
          0.2094999998807907,
          0.2094999998807907,
          0.2094999998807907,
          0.2094999998807907,
          0.2094999998807907,
          0.2094999998807907,
          0.2094999998807907,
          0.2094999998807907,
          0.2094999998807907,
          0.2094999998807907,
          0.2094999998807907,
          0.2094999998807907,
          0.2094999998807907,
          0.2094999998807907,
          0.2094999998807907,
          0.2094999998807907,
          0.2094999998807907,
          0.2094999998807907,
          0.2094999998807907,
          0.2094999998807907,
          0.2094999998807907,
          0.2094999998807907,
          0.2094999998807907,
          0.2094999998807907,
          0.2094999998807907,
          0.2094999998807907,
          0.2094999998807907,
          0.2094999998807907,
          0.2094999998807907,
          0.2094999998807907,
          0.2094999998807907,
          0.2094999998807907,
          0.2094999998807907,
          0.2094999998807907,
          0.2094999998807907,
          0.2094999998807907,
          0.2094999998807907,
          0.2094999998807907,
          0.2094999998807907
         ],
         "yaxis": "y2"
        }
       ],
       "layout": {
        "annotations": [
         {
          "font": {
           "size": 16
          },
          "showarrow": false,
          "text": "Cart x-position",
          "x": 0.5,
          "xanchor": "center",
          "xref": "paper",
          "y": 1,
          "yanchor": "bottom",
          "yref": "paper"
         },
         {
          "font": {
           "size": 16
          },
          "showarrow": false,
          "text": "Pole angle",
          "x": 0.5,
          "xanchor": "center",
          "xref": "paper",
          "y": 0.375,
          "yanchor": "bottom",
          "yref": "paper"
         },
         {
          "showarrow": false,
          "text": "Min posn",
          "x": 268.8,
          "xref": "x",
          "y": -2.4,
          "yref": "y"
         },
         {
          "showarrow": false,
          "text": "Min angle",
          "x": 268.8,
          "xref": "x2",
          "y": -0.2095,
          "yref": "y2"
         },
         {
          "showarrow": false,
          "text": "Max posn",
          "x": 268.8,
          "xref": "x",
          "y": 2.4,
          "yref": "y"
         },
         {
          "showarrow": false,
          "text": "Max angle",
          "x": 268.8,
          "xref": "x2",
          "y": 0.2095,
          "yref": "y2"
         }
        ],
        "height": 450,
        "hovermode": "x unified",
        "margin": {
         "t": 120
        },
        "shapes": [
         {
          "line": {
           "color": "black",
           "dash": "dash",
           "width": 2
          },
          "type": "line",
          "x0": 18,
          "x1": 18,
          "xref": "x",
          "y0": 0,
          "y1": 1,
          "yref": "y domain"
         },
         {
          "line": {
           "color": "black",
           "dash": "dash",
           "width": 2
          },
          "type": "line",
          "x0": 50,
          "x1": 50,
          "xref": "x",
          "y0": 0,
          "y1": 1,
          "yref": "y domain"
         },
         {
          "line": {
           "color": "black",
           "dash": "dash",
           "width": 2
          },
          "type": "line",
          "x0": 62,
          "x1": 62,
          "xref": "x",
          "y0": 0,
          "y1": 1,
          "yref": "y domain"
         },
         {
          "line": {
           "color": "black",
           "dash": "dash",
           "width": 2
          },
          "type": "line",
          "x0": 86,
          "x1": 86,
          "xref": "x",
          "y0": 0,
          "y1": 1,
          "yref": "y domain"
         },
         {
          "line": {
           "color": "black",
           "dash": "dash",
           "width": 2
          },
          "type": "line",
          "x0": 100,
          "x1": 100,
          "xref": "x",
          "y0": 0,
          "y1": 1,
          "yref": "y domain"
         },
         {
          "line": {
           "color": "black",
           "dash": "dash",
           "width": 2
          },
          "type": "line",
          "x0": 142,
          "x1": 142,
          "xref": "x",
          "y0": 0,
          "y1": 1,
          "yref": "y domain"
         },
         {
          "line": {
           "color": "black",
           "dash": "dash",
           "width": 2
          },
          "type": "line",
          "x0": 156,
          "x1": 156,
          "xref": "x",
          "y0": 0,
          "y1": 1,
          "yref": "y domain"
         },
         {
          "line": {
           "color": "black",
           "dash": "dash",
           "width": 2
          },
          "type": "line",
          "x0": 172,
          "x1": 172,
          "xref": "x",
          "y0": 0,
          "y1": 1,
          "yref": "y domain"
         },
         {
          "line": {
           "color": "black",
           "dash": "dash",
           "width": 2
          },
          "type": "line",
          "x0": 186,
          "x1": 186,
          "xref": "x",
          "y0": 0,
          "y1": 1,
          "yref": "y domain"
         },
         {
          "line": {
           "color": "black",
           "dash": "dash",
           "width": 2
          },
          "type": "line",
          "x0": 198,
          "x1": 198,
          "xref": "x",
          "y0": 0,
          "y1": 1,
          "yref": "y domain"
         },
         {
          "line": {
           "color": "black",
           "dash": "dash",
           "width": 2
          },
          "type": "line",
          "x0": 244,
          "x1": 244,
          "xref": "x",
          "y0": 0,
          "y1": 1,
          "yref": "y domain"
         },
         {
          "line": {
           "color": "black",
           "dash": "dash",
           "width": 2
          },
          "type": "line",
          "x0": 18,
          "x1": 18,
          "xref": "x2",
          "y0": 0,
          "y1": 1,
          "yref": "y2 domain"
         },
         {
          "line": {
           "color": "black",
           "dash": "dash",
           "width": 2
          },
          "type": "line",
          "x0": 50,
          "x1": 50,
          "xref": "x2",
          "y0": 0,
          "y1": 1,
          "yref": "y2 domain"
         },
         {
          "line": {
           "color": "black",
           "dash": "dash",
           "width": 2
          },
          "type": "line",
          "x0": 62,
          "x1": 62,
          "xref": "x2",
          "y0": 0,
          "y1": 1,
          "yref": "y2 domain"
         },
         {
          "line": {
           "color": "black",
           "dash": "dash",
           "width": 2
          },
          "type": "line",
          "x0": 86,
          "x1": 86,
          "xref": "x2",
          "y0": 0,
          "y1": 1,
          "yref": "y2 domain"
         },
         {
          "line": {
           "color": "black",
           "dash": "dash",
           "width": 2
          },
          "type": "line",
          "x0": 100,
          "x1": 100,
          "xref": "x2",
          "y0": 0,
          "y1": 1,
          "yref": "y2 domain"
         },
         {
          "line": {
           "color": "black",
           "dash": "dash",
           "width": 2
          },
          "type": "line",
          "x0": 142,
          "x1": 142,
          "xref": "x2",
          "y0": 0,
          "y1": 1,
          "yref": "y2 domain"
         },
         {
          "line": {
           "color": "black",
           "dash": "dash",
           "width": 2
          },
          "type": "line",
          "x0": 156,
          "x1": 156,
          "xref": "x2",
          "y0": 0,
          "y1": 1,
          "yref": "y2 domain"
         },
         {
          "line": {
           "color": "black",
           "dash": "dash",
           "width": 2
          },
          "type": "line",
          "x0": 172,
          "x1": 172,
          "xref": "x2",
          "y0": 0,
          "y1": 1,
          "yref": "y2 domain"
         },
         {
          "line": {
           "color": "black",
           "dash": "dash",
           "width": 2
          },
          "type": "line",
          "x0": 186,
          "x1": 186,
          "xref": "x2",
          "y0": 0,
          "y1": 1,
          "yref": "y2 domain"
         },
         {
          "line": {
           "color": "black",
           "dash": "dash",
           "width": 2
          },
          "type": "line",
          "x0": 198,
          "x1": 198,
          "xref": "x2",
          "y0": 0,
          "y1": 1,
          "yref": "y2 domain"
         },
         {
          "line": {
           "color": "black",
           "dash": "dash",
           "width": 2
          },
          "type": "line",
          "x0": 244,
          "x1": 244,
          "xref": "x2",
          "y0": 0,
          "y1": 1,
          "yref": "y2 domain"
         }
        ],
        "showlegend": false,
        "template": {
         "data": {
          "bar": [
           {
            "error_x": {
             "color": "rgb(36,36,36)"
            },
            "error_y": {
             "color": "rgb(36,36,36)"
            },
            "marker": {
             "line": {
              "color": "white",
              "width": 0.5
             },
             "pattern": {
              "fillmode": "overlay",
              "size": 10,
              "solidity": 0.2
             }
            },
            "type": "bar"
           }
          ],
          "barpolar": [
           {
            "marker": {
             "line": {
              "color": "white",
              "width": 0.5
             },
             "pattern": {
              "fillmode": "overlay",
              "size": 10,
              "solidity": 0.2
             }
            },
            "type": "barpolar"
           }
          ],
          "carpet": [
           {
            "aaxis": {
             "endlinecolor": "rgb(36,36,36)",
             "gridcolor": "white",
             "linecolor": "white",
             "minorgridcolor": "white",
             "startlinecolor": "rgb(36,36,36)"
            },
            "baxis": {
             "endlinecolor": "rgb(36,36,36)",
             "gridcolor": "white",
             "linecolor": "white",
             "minorgridcolor": "white",
             "startlinecolor": "rgb(36,36,36)"
            },
            "type": "carpet"
           }
          ],
          "choropleth": [
           {
            "colorbar": {
             "outlinewidth": 1,
             "tickcolor": "rgb(36,36,36)",
             "ticks": "outside"
            },
            "type": "choropleth"
           }
          ],
          "contour": [
           {
            "colorbar": {
             "outlinewidth": 1,
             "tickcolor": "rgb(36,36,36)",
             "ticks": "outside"
            },
            "colorscale": [
             [
              0,
              "#440154"
             ],
             [
              0.1111111111111111,
              "#482878"
             ],
             [
              0.2222222222222222,
              "#3e4989"
             ],
             [
              0.3333333333333333,
              "#31688e"
             ],
             [
              0.4444444444444444,
              "#26828e"
             ],
             [
              0.5555555555555556,
              "#1f9e89"
             ],
             [
              0.6666666666666666,
              "#35b779"
             ],
             [
              0.7777777777777778,
              "#6ece58"
             ],
             [
              0.8888888888888888,
              "#b5de2b"
             ],
             [
              1,
              "#fde725"
             ]
            ],
            "type": "contour"
           }
          ],
          "contourcarpet": [
           {
            "colorbar": {
             "outlinewidth": 1,
             "tickcolor": "rgb(36,36,36)",
             "ticks": "outside"
            },
            "type": "contourcarpet"
           }
          ],
          "heatmap": [
           {
            "colorbar": {
             "outlinewidth": 1,
             "tickcolor": "rgb(36,36,36)",
             "ticks": "outside"
            },
            "colorscale": [
             [
              0,
              "#440154"
             ],
             [
              0.1111111111111111,
              "#482878"
             ],
             [
              0.2222222222222222,
              "#3e4989"
             ],
             [
              0.3333333333333333,
              "#31688e"
             ],
             [
              0.4444444444444444,
              "#26828e"
             ],
             [
              0.5555555555555556,
              "#1f9e89"
             ],
             [
              0.6666666666666666,
              "#35b779"
             ],
             [
              0.7777777777777778,
              "#6ece58"
             ],
             [
              0.8888888888888888,
              "#b5de2b"
             ],
             [
              1,
              "#fde725"
             ]
            ],
            "type": "heatmap"
           }
          ],
          "heatmapgl": [
           {
            "colorbar": {
             "outlinewidth": 1,
             "tickcolor": "rgb(36,36,36)",
             "ticks": "outside"
            },
            "colorscale": [
             [
              0,
              "#440154"
             ],
             [
              0.1111111111111111,
              "#482878"
             ],
             [
              0.2222222222222222,
              "#3e4989"
             ],
             [
              0.3333333333333333,
              "#31688e"
             ],
             [
              0.4444444444444444,
              "#26828e"
             ],
             [
              0.5555555555555556,
              "#1f9e89"
             ],
             [
              0.6666666666666666,
              "#35b779"
             ],
             [
              0.7777777777777778,
              "#6ece58"
             ],
             [
              0.8888888888888888,
              "#b5de2b"
             ],
             [
              1,
              "#fde725"
             ]
            ],
            "type": "heatmapgl"
           }
          ],
          "histogram": [
           {
            "marker": {
             "line": {
              "color": "white",
              "width": 0.6
             }
            },
            "type": "histogram"
           }
          ],
          "histogram2d": [
           {
            "colorbar": {
             "outlinewidth": 1,
             "tickcolor": "rgb(36,36,36)",
             "ticks": "outside"
            },
            "colorscale": [
             [
              0,
              "#440154"
             ],
             [
              0.1111111111111111,
              "#482878"
             ],
             [
              0.2222222222222222,
              "#3e4989"
             ],
             [
              0.3333333333333333,
              "#31688e"
             ],
             [
              0.4444444444444444,
              "#26828e"
             ],
             [
              0.5555555555555556,
              "#1f9e89"
             ],
             [
              0.6666666666666666,
              "#35b779"
             ],
             [
              0.7777777777777778,
              "#6ece58"
             ],
             [
              0.8888888888888888,
              "#b5de2b"
             ],
             [
              1,
              "#fde725"
             ]
            ],
            "type": "histogram2d"
           }
          ],
          "histogram2dcontour": [
           {
            "colorbar": {
             "outlinewidth": 1,
             "tickcolor": "rgb(36,36,36)",
             "ticks": "outside"
            },
            "colorscale": [
             [
              0,
              "#440154"
             ],
             [
              0.1111111111111111,
              "#482878"
             ],
             [
              0.2222222222222222,
              "#3e4989"
             ],
             [
              0.3333333333333333,
              "#31688e"
             ],
             [
              0.4444444444444444,
              "#26828e"
             ],
             [
              0.5555555555555556,
              "#1f9e89"
             ],
             [
              0.6666666666666666,
              "#35b779"
             ],
             [
              0.7777777777777778,
              "#6ece58"
             ],
             [
              0.8888888888888888,
              "#b5de2b"
             ],
             [
              1,
              "#fde725"
             ]
            ],
            "type": "histogram2dcontour"
           }
          ],
          "mesh3d": [
           {
            "colorbar": {
             "outlinewidth": 1,
             "tickcolor": "rgb(36,36,36)",
             "ticks": "outside"
            },
            "type": "mesh3d"
           }
          ],
          "parcoords": [
           {
            "line": {
             "colorbar": {
              "outlinewidth": 1,
              "tickcolor": "rgb(36,36,36)",
              "ticks": "outside"
             }
            },
            "type": "parcoords"
           }
          ],
          "pie": [
           {
            "automargin": true,
            "type": "pie"
           }
          ],
          "scatter": [
           {
            "fillpattern": {
             "fillmode": "overlay",
             "size": 10,
             "solidity": 0.2
            },
            "type": "scatter"
           }
          ],
          "scatter3d": [
           {
            "line": {
             "colorbar": {
              "outlinewidth": 1,
              "tickcolor": "rgb(36,36,36)",
              "ticks": "outside"
             }
            },
            "marker": {
             "colorbar": {
              "outlinewidth": 1,
              "tickcolor": "rgb(36,36,36)",
              "ticks": "outside"
             }
            },
            "type": "scatter3d"
           }
          ],
          "scattercarpet": [
           {
            "marker": {
             "colorbar": {
              "outlinewidth": 1,
              "tickcolor": "rgb(36,36,36)",
              "ticks": "outside"
             }
            },
            "type": "scattercarpet"
           }
          ],
          "scattergeo": [
           {
            "marker": {
             "colorbar": {
              "outlinewidth": 1,
              "tickcolor": "rgb(36,36,36)",
              "ticks": "outside"
             }
            },
            "type": "scattergeo"
           }
          ],
          "scattergl": [
           {
            "marker": {
             "colorbar": {
              "outlinewidth": 1,
              "tickcolor": "rgb(36,36,36)",
              "ticks": "outside"
             }
            },
            "type": "scattergl"
           }
          ],
          "scattermapbox": [
           {
            "marker": {
             "colorbar": {
              "outlinewidth": 1,
              "tickcolor": "rgb(36,36,36)",
              "ticks": "outside"
             }
            },
            "type": "scattermapbox"
           }
          ],
          "scatterpolar": [
           {
            "marker": {
             "colorbar": {
              "outlinewidth": 1,
              "tickcolor": "rgb(36,36,36)",
              "ticks": "outside"
             }
            },
            "type": "scatterpolar"
           }
          ],
          "scatterpolargl": [
           {
            "marker": {
             "colorbar": {
              "outlinewidth": 1,
              "tickcolor": "rgb(36,36,36)",
              "ticks": "outside"
             }
            },
            "type": "scatterpolargl"
           }
          ],
          "scatterternary": [
           {
            "marker": {
             "colorbar": {
              "outlinewidth": 1,
              "tickcolor": "rgb(36,36,36)",
              "ticks": "outside"
             }
            },
            "type": "scatterternary"
           }
          ],
          "surface": [
           {
            "colorbar": {
             "outlinewidth": 1,
             "tickcolor": "rgb(36,36,36)",
             "ticks": "outside"
            },
            "colorscale": [
             [
              0,
              "#440154"
             ],
             [
              0.1111111111111111,
              "#482878"
             ],
             [
              0.2222222222222222,
              "#3e4989"
             ],
             [
              0.3333333333333333,
              "#31688e"
             ],
             [
              0.4444444444444444,
              "#26828e"
             ],
             [
              0.5555555555555556,
              "#1f9e89"
             ],
             [
              0.6666666666666666,
              "#35b779"
             ],
             [
              0.7777777777777778,
              "#6ece58"
             ],
             [
              0.8888888888888888,
              "#b5de2b"
             ],
             [
              1,
              "#fde725"
             ]
            ],
            "type": "surface"
           }
          ],
          "table": [
           {
            "cells": {
             "fill": {
              "color": "rgb(237,237,237)"
             },
             "line": {
              "color": "white"
             }
            },
            "header": {
             "fill": {
              "color": "rgb(217,217,217)"
             },
             "line": {
              "color": "white"
             }
            },
            "type": "table"
           }
          ]
         },
         "layout": {
          "annotationdefaults": {
           "arrowhead": 0,
           "arrowwidth": 1
          },
          "autotypenumbers": "strict",
          "coloraxis": {
           "colorbar": {
            "outlinewidth": 1,
            "tickcolor": "rgb(36,36,36)",
            "ticks": "outside"
           }
          },
          "colorscale": {
           "diverging": [
            [
             0,
             "rgb(103,0,31)"
            ],
            [
             0.1,
             "rgb(178,24,43)"
            ],
            [
             0.2,
             "rgb(214,96,77)"
            ],
            [
             0.3,
             "rgb(244,165,130)"
            ],
            [
             0.4,
             "rgb(253,219,199)"
            ],
            [
             0.5,
             "rgb(247,247,247)"
            ],
            [
             0.6,
             "rgb(209,229,240)"
            ],
            [
             0.7,
             "rgb(146,197,222)"
            ],
            [
             0.8,
             "rgb(67,147,195)"
            ],
            [
             0.9,
             "rgb(33,102,172)"
            ],
            [
             1,
             "rgb(5,48,97)"
            ]
           ],
           "sequential": [
            [
             0,
             "#440154"
            ],
            [
             0.1111111111111111,
             "#482878"
            ],
            [
             0.2222222222222222,
             "#3e4989"
            ],
            [
             0.3333333333333333,
             "#31688e"
            ],
            [
             0.4444444444444444,
             "#26828e"
            ],
            [
             0.5555555555555556,
             "#1f9e89"
            ],
            [
             0.6666666666666666,
             "#35b779"
            ],
            [
             0.7777777777777778,
             "#6ece58"
            ],
            [
             0.8888888888888888,
             "#b5de2b"
            ],
            [
             1,
             "#fde725"
            ]
           ],
           "sequentialminus": [
            [
             0,
             "#440154"
            ],
            [
             0.1111111111111111,
             "#482878"
            ],
            [
             0.2222222222222222,
             "#3e4989"
            ],
            [
             0.3333333333333333,
             "#31688e"
            ],
            [
             0.4444444444444444,
             "#26828e"
            ],
            [
             0.5555555555555556,
             "#1f9e89"
            ],
            [
             0.6666666666666666,
             "#35b779"
            ],
            [
             0.7777777777777778,
             "#6ece58"
            ],
            [
             0.8888888888888888,
             "#b5de2b"
            ],
            [
             1,
             "#fde725"
            ]
           ]
          },
          "colorway": [
           "#1F77B4",
           "#FF7F0E",
           "#2CA02C",
           "#D62728",
           "#9467BD",
           "#8C564B",
           "#E377C2",
           "#7F7F7F",
           "#BCBD22",
           "#17BECF"
          ],
          "font": {
           "color": "rgb(36,36,36)"
          },
          "geo": {
           "bgcolor": "white",
           "lakecolor": "white",
           "landcolor": "white",
           "showlakes": true,
           "showland": true,
           "subunitcolor": "white"
          },
          "hoverlabel": {
           "align": "left"
          },
          "hovermode": "closest",
          "mapbox": {
           "style": "light"
          },
          "paper_bgcolor": "white",
          "plot_bgcolor": "white",
          "polar": {
           "angularaxis": {
            "gridcolor": "rgb(232,232,232)",
            "linecolor": "rgb(36,36,36)",
            "showgrid": false,
            "showline": true,
            "ticks": "outside"
           },
           "bgcolor": "white",
           "radialaxis": {
            "gridcolor": "rgb(232,232,232)",
            "linecolor": "rgb(36,36,36)",
            "showgrid": false,
            "showline": true,
            "ticks": "outside"
           }
          },
          "scene": {
           "xaxis": {
            "backgroundcolor": "white",
            "gridcolor": "rgb(232,232,232)",
            "gridwidth": 2,
            "linecolor": "rgb(36,36,36)",
            "showbackground": true,
            "showgrid": false,
            "showline": true,
            "ticks": "outside",
            "zeroline": false,
            "zerolinecolor": "rgb(36,36,36)"
           },
           "yaxis": {
            "backgroundcolor": "white",
            "gridcolor": "rgb(232,232,232)",
            "gridwidth": 2,
            "linecolor": "rgb(36,36,36)",
            "showbackground": true,
            "showgrid": false,
            "showline": true,
            "ticks": "outside",
            "zeroline": false,
            "zerolinecolor": "rgb(36,36,36)"
           },
           "zaxis": {
            "backgroundcolor": "white",
            "gridcolor": "rgb(232,232,232)",
            "gridwidth": 2,
            "linecolor": "rgb(36,36,36)",
            "showbackground": true,
            "showgrid": false,
            "showline": true,
            "ticks": "outside",
            "zeroline": false,
            "zerolinecolor": "rgb(36,36,36)"
           }
          },
          "shapedefaults": {
           "fillcolor": "black",
           "line": {
            "width": 0
           },
           "opacity": 0.3
          },
          "ternary": {
           "aaxis": {
            "gridcolor": "rgb(232,232,232)",
            "linecolor": "rgb(36,36,36)",
            "showgrid": false,
            "showline": true,
            "ticks": "outside"
           },
           "baxis": {
            "gridcolor": "rgb(232,232,232)",
            "linecolor": "rgb(36,36,36)",
            "showgrid": false,
            "showline": true,
            "ticks": "outside"
           },
           "bgcolor": "white",
           "caxis": {
            "gridcolor": "rgb(232,232,232)",
            "linecolor": "rgb(36,36,36)",
            "showgrid": false,
            "showline": true,
            "ticks": "outside"
           }
          },
          "title": {
           "x": 0.05
          },
          "xaxis": {
           "automargin": true,
           "gridcolor": "rgb(232,232,232)",
           "linecolor": "rgb(36,36,36)",
           "showgrid": false,
           "showline": true,
           "ticks": "outside",
           "title": {
            "standoff": 15
           },
           "zeroline": false,
           "zerolinecolor": "rgb(36,36,36)"
          },
          "yaxis": {
           "automargin": true,
           "gridcolor": "rgb(232,232,232)",
           "linecolor": "rgb(36,36,36)",
           "showgrid": false,
           "showline": true,
           "ticks": "outside",
           "title": {
            "standoff": 15
           },
           "zeroline": false,
           "zerolinecolor": "rgb(36,36,36)"
          }
         }
        },
        "title": {
         "text": "Current obs s<sub>t</sub><br>so when d<sub>t+1</sub> = 1, these are the states just before termination",
         "y": 0.9
        },
        "width": 800,
        "xaxis": {
         "anchor": "y",
         "domain": [
          0,
          1
         ]
        },
        "xaxis2": {
         "anchor": "y2",
         "domain": [
          0,
          1
         ]
        },
        "yaxis": {
         "anchor": "x",
         "domain": [
          0.625,
          1
         ]
        },
        "yaxis2": {
         "anchor": "x2",
         "domain": [
          0,
          0.375
         ]
        }
       }
      }
     },
     "metadata": {},
     "output_type": "display_data"
    },
    {
     "data": {
      "application/vnd.plotly.v1+json": {
       "config": {
        "displaylogo": false,
        "plotlyServerURL": "https://plot.ly"
       },
       "data": [
        {
         "marker": {
          "color": "#1F77B4"
         },
         "mode": "lines",
         "name": "posn",
         "type": "scatter",
         "xaxis": "x",
         "y": [
          0.032152533531188965,
          0.03687739372253418,
          0.03769667446613312,
          0.034611865878105164,
          0.027622807770967484,
          0.024532543495297432,
          0.025337349623441696,
          0.030035171657800674,
          0.03862576559185982,
          0.051110681146383286,
          0.06749310344457626,
          0.0877775326371193,
          0.10416466742753983,
          0.12446616590023041,
          0.14088386297225952,
          0.16122667491436005,
          0.17770038545131683,
          0.19810819625854492,
          0.22245068848133087,
          0.00523264380171895,
          0.0021915831603109837,
          -0.004760379903018475,
          -0.015624419786036015,
          -0.02259935811161995,
          -0.025690877810120583,
          -0.02490301989018917,
          -0.02803901955485344,
          -0.027297871187329292,
          -0.02268213778734207,
          -0.014192403294146061,
          -0.0018272644374519587,
          0.014416562393307686,
          0.02674160897731781,
          0.03515194356441498,
          0.04745492339134216,
          0.06365276128053665,
          0.0759444385766983,
          0.08433487266302109,
          0.09663236141204834,
          0.11283853650093079,
          0.12515217065811157,
          0.1413823515176773,
          0.15372918546199799,
          0.16999998688697815,
          0.18239738047122955,
          0.19092880189418793,
          0.2033947855234146,
          0.2120027095079422,
          0.22454974055290222,
          0.23324772715568542,
          0.24588921666145325,
          0.03480760008096695,
          0.029965898022055626,
          0.029020125046372414,
          0.02416420169174671,
          0.015398268587887287,
          0.0027209781110286713,
          -0.013870284892618656,
          -0.0265763308852911,
          -0.043205879628658295,
          -0.063761405646801,
          -0.08824514597654343,
          -0.11665808409452438,
          0.03640081360936165,
          0.04039180651307106,
          0.04048622399568558,
          0.044490426778793335,
          0.044600002467632294,
          0.04862120375037193,
          0.048749931156635284,
          0.044988345354795456,
          0.04514065384864807,
          0.0492057204246521,
          0.04937988147139549,
          0.05346927046775818,
          0.05367078632116318,
          0.049987200647592545,
          0.050222206860780716,
          0.054375115782022476,
          0.062446556985378265,
          0.06663630902767181,
          0.07475059479475021,
          0.07899145781993866,
          0.08716271072626114,
          0.09926555305719376,
          0.10750819742679596,
          0.11968941241502762,
          -0.047919467091560364,
          -0.04477343708276749,
          -0.045534711331129074,
          -0.04239700362086296,
          -0.03536044433712959,
          -0.024423470720648766,
          -0.017387868836522102,
          -0.006444125901907682,
          0.008410423062741756,
          0.027179431170225143,
          0.042065005749464035,
          0.060876090079545975,
          0.0836150273680687,
          0.11028309166431427,
          0.011305865831673145,
          0.007157254498451948,
          0.006895964499562979,
          0.010519629344344139,
          0.010224912315607071,
          0.013815882615745068,
          0.01348884403705597,
          0.017047766596078873,
          0.016688697040081024,
          0.020215410739183426,
          0.02762668952345848,
          0.031120214611291885,
          0.03850112482905388,
          0.041966333985328674,
          0.04932127892971039,
          0.060566145926713943,
          0.07570294290781021,
          0.08693075180053711,
          0.10205888003110886,
          0.11328557133674622,
          0.12061572819948196,
          0.12405279278755188,
          0.13140255212783813,
          0.1426648646593094,
          0.1500372290611267,
          0.1535235345363617,
          0.16092868149280548,
          0.1644500195980072,
          0.16408997774124146,
          0.15984903275966644,
          0.15952807664871216,
          0.16312506794929504,
          0.1706392914056778,
          0.18207131326198578,
          0.18962068855762482,
          0.19329288601875305,
          0.20089156925678253,
          0.212417334318161,
          0.2278716266155243,
          0.23946058750152588,
          0.2549855411052704,
          0.27444711327552795,
          0.01885511726140976,
          0.015248293988406658,
          0.007733821403235197,
          0.004114793613553047,
          -0.0034165794495493174,
          -0.0070577822625637054,
          -0.014615988358855247,
          -0.018289700150489807,
          -0.02588510513305664,
          -0.037403400987386703,
          -0.05284664407372475,
          -0.0644197165966034,
          -0.0799262672662735,
          -0.09157713502645493,
          -0.036047372967004776,
          -0.039507560431957245,
          -0.039065927267074585,
          -0.0425289049744606,
          -0.04989639297127724,
          -0.06116987392306328,
          -0.07635223120450974,
          -0.08764347434043884,
          -0.09505109488964081,
          -0.10638222098350525,
          -0.121638722717762,
          -0.13302534818649292,
          -0.1405516415834427,
          -0.14422568678855896,
          -0.15184158086776733,
          -0.15561364591121674,
          -0.0006374884396791458,
          -0.0037728464230895042,
          -0.003018575254827738,
          0.0016234340146183968,
          0.010153166018426418,
          0.02257245033979416,
          0.03888479992747307,
          0.059095099568367004,
          0.08320914953947067,
          0.10342871397733688,
          0.11976362019777298,
          0.14002305269241333,
          0.1642095297574997,
          0.18453194200992584,
          0.006796721834689379,
          0.010340170003473759,
          0.01778343692421913,
          0.0291283056139946,
          0.03657318279147148,
          0.04792775213718414,
          0.06319479644298553,
          0.07457491755485535,
          0.08987728506326675,
          0.10910455882549286,
          0.1244630366563797,
          0.1437556892633438,
          -0.010057550854980946,
          -0.0053669544868171215,
          -0.004570880904793739,
          -0.00766753451898694,
          -0.006852675229310989,
          -0.009932196699082851,
          -0.009101547300815582,
          -0.004362095613032579,
          0.0042863390408456326,
          0.009041073732078075,
          0.009906189516186714,
          0.014687460847198963,
          0.015581824816763401,
          0.012591885402798653,
          0.005718352273106575,
          0.002762916963547468,
          -0.004079848062247038,
          -0.014810837805271149,
          -0.021628763526678085,
          -0.032341428101062775,
          -0.03914646431803703,
          -0.04204739257693291,
          -0.041046224534511566,
          -0.043948184698820114,
          -0.050751958042383194,
          -0.06145789846777916,
          -0.06826312094926834,
          -0.07117143273353577,
          -0.07798950374126434,
          -0.08871762454509735,
          -0.09555337578058243,
          -0.10630462318658829,
          -0.11316989362239838,
          -0.12395600229501724,
          -0.13086307048797607,
          -0.1338963806629181,
          -0.14085829257965088,
          -0.14395084977149963,
          -0.15097513794898987,
          -0.1541353315114975,
          -0.16123069822788239,
          -0.1644682139158249,
          -0.17164461314678192,
          -0.1749705672264099,
          -0.17445260286331177,
          -0.17787975072860718,
          -0.04093317687511444,
          -0.036373913288116455,
          -0.027920467779040337,
          -0.015570876188576221,
          -0.00712644774466753,
          0.005222489591687918,
          0.013674283400177956,
          0.01823427714407444,
          0.02670983411371708,
          0.0391022264957428,
          0.04761150851845741
         ],
         "yaxis": "y"
        },
        {
         "marker": {
          "color": "#1F77B4"
         },
         "mode": "lines",
         "name": "posn_min",
         "type": "scatter",
         "xaxis": "x",
         "y": [
          -2.4000000953674316,
          -2.4000000953674316,
          -2.4000000953674316,
          -2.4000000953674316,
          -2.4000000953674316,
          -2.4000000953674316,
          -2.4000000953674316,
          -2.4000000953674316,
          -2.4000000953674316,
          -2.4000000953674316,
          -2.4000000953674316,
          -2.4000000953674316,
          -2.4000000953674316,
          -2.4000000953674316,
          -2.4000000953674316,
          -2.4000000953674316,
          -2.4000000953674316,
          -2.4000000953674316,
          -2.4000000953674316,
          -2.4000000953674316,
          -2.4000000953674316,
          -2.4000000953674316,
          -2.4000000953674316,
          -2.4000000953674316,
          -2.4000000953674316,
          -2.4000000953674316,
          -2.4000000953674316,
          -2.4000000953674316,
          -2.4000000953674316,
          -2.4000000953674316,
          -2.4000000953674316,
          -2.4000000953674316,
          -2.4000000953674316,
          -2.4000000953674316,
          -2.4000000953674316,
          -2.4000000953674316,
          -2.4000000953674316,
          -2.4000000953674316,
          -2.4000000953674316,
          -2.4000000953674316,
          -2.4000000953674316,
          -2.4000000953674316,
          -2.4000000953674316,
          -2.4000000953674316,
          -2.4000000953674316,
          -2.4000000953674316,
          -2.4000000953674316,
          -2.4000000953674316,
          -2.4000000953674316,
          -2.4000000953674316,
          -2.4000000953674316,
          -2.4000000953674316,
          -2.4000000953674316,
          -2.4000000953674316,
          -2.4000000953674316,
          -2.4000000953674316,
          -2.4000000953674316,
          -2.4000000953674316,
          -2.4000000953674316,
          -2.4000000953674316,
          -2.4000000953674316,
          -2.4000000953674316,
          -2.4000000953674316,
          -2.4000000953674316,
          -2.4000000953674316,
          -2.4000000953674316,
          -2.4000000953674316,
          -2.4000000953674316,
          -2.4000000953674316,
          -2.4000000953674316,
          -2.4000000953674316,
          -2.4000000953674316,
          -2.4000000953674316,
          -2.4000000953674316,
          -2.4000000953674316,
          -2.4000000953674316,
          -2.4000000953674316,
          -2.4000000953674316,
          -2.4000000953674316,
          -2.4000000953674316,
          -2.4000000953674316,
          -2.4000000953674316,
          -2.4000000953674316,
          -2.4000000953674316,
          -2.4000000953674316,
          -2.4000000953674316,
          -2.4000000953674316,
          -2.4000000953674316,
          -2.4000000953674316,
          -2.4000000953674316,
          -2.4000000953674316,
          -2.4000000953674316,
          -2.4000000953674316,
          -2.4000000953674316,
          -2.4000000953674316,
          -2.4000000953674316,
          -2.4000000953674316,
          -2.4000000953674316,
          -2.4000000953674316,
          -2.4000000953674316,
          -2.4000000953674316,
          -2.4000000953674316,
          -2.4000000953674316,
          -2.4000000953674316,
          -2.4000000953674316,
          -2.4000000953674316,
          -2.4000000953674316,
          -2.4000000953674316,
          -2.4000000953674316,
          -2.4000000953674316,
          -2.4000000953674316,
          -2.4000000953674316,
          -2.4000000953674316,
          -2.4000000953674316,
          -2.4000000953674316,
          -2.4000000953674316,
          -2.4000000953674316,
          -2.4000000953674316,
          -2.4000000953674316,
          -2.4000000953674316,
          -2.4000000953674316,
          -2.4000000953674316,
          -2.4000000953674316,
          -2.4000000953674316,
          -2.4000000953674316,
          -2.4000000953674316,
          -2.4000000953674316,
          -2.4000000953674316,
          -2.4000000953674316,
          -2.4000000953674316,
          -2.4000000953674316,
          -2.4000000953674316,
          -2.4000000953674316,
          -2.4000000953674316,
          -2.4000000953674316,
          -2.4000000953674316,
          -2.4000000953674316,
          -2.4000000953674316,
          -2.4000000953674316,
          -2.4000000953674316,
          -2.4000000953674316,
          -2.4000000953674316,
          -2.4000000953674316,
          -2.4000000953674316,
          -2.4000000953674316,
          -2.4000000953674316,
          -2.4000000953674316,
          -2.4000000953674316,
          -2.4000000953674316,
          -2.4000000953674316,
          -2.4000000953674316,
          -2.4000000953674316,
          -2.4000000953674316,
          -2.4000000953674316,
          -2.4000000953674316,
          -2.4000000953674316,
          -2.4000000953674316,
          -2.4000000953674316,
          -2.4000000953674316,
          -2.4000000953674316,
          -2.4000000953674316,
          -2.4000000953674316,
          -2.4000000953674316,
          -2.4000000953674316,
          -2.4000000953674316,
          -2.4000000953674316,
          -2.4000000953674316,
          -2.4000000953674316,
          -2.4000000953674316,
          -2.4000000953674316,
          -2.4000000953674316,
          -2.4000000953674316,
          -2.4000000953674316,
          -2.4000000953674316,
          -2.4000000953674316,
          -2.4000000953674316,
          -2.4000000953674316,
          -2.4000000953674316,
          -2.4000000953674316,
          -2.4000000953674316,
          -2.4000000953674316,
          -2.4000000953674316,
          -2.4000000953674316,
          -2.4000000953674316,
          -2.4000000953674316,
          -2.4000000953674316,
          -2.4000000953674316,
          -2.4000000953674316,
          -2.4000000953674316,
          -2.4000000953674316,
          -2.4000000953674316,
          -2.4000000953674316,
          -2.4000000953674316,
          -2.4000000953674316,
          -2.4000000953674316,
          -2.4000000953674316,
          -2.4000000953674316,
          -2.4000000953674316,
          -2.4000000953674316,
          -2.4000000953674316,
          -2.4000000953674316,
          -2.4000000953674316,
          -2.4000000953674316,
          -2.4000000953674316,
          -2.4000000953674316,
          -2.4000000953674316,
          -2.4000000953674316,
          -2.4000000953674316,
          -2.4000000953674316,
          -2.4000000953674316,
          -2.4000000953674316,
          -2.4000000953674316,
          -2.4000000953674316,
          -2.4000000953674316,
          -2.4000000953674316,
          -2.4000000953674316,
          -2.4000000953674316,
          -2.4000000953674316,
          -2.4000000953674316,
          -2.4000000953674316,
          -2.4000000953674316,
          -2.4000000953674316,
          -2.4000000953674316,
          -2.4000000953674316,
          -2.4000000953674316,
          -2.4000000953674316,
          -2.4000000953674316,
          -2.4000000953674316,
          -2.4000000953674316,
          -2.4000000953674316,
          -2.4000000953674316,
          -2.4000000953674316,
          -2.4000000953674316,
          -2.4000000953674316,
          -2.4000000953674316,
          -2.4000000953674316,
          -2.4000000953674316,
          -2.4000000953674316,
          -2.4000000953674316,
          -2.4000000953674316,
          -2.4000000953674316,
          -2.4000000953674316,
          -2.4000000953674316,
          -2.4000000953674316,
          -2.4000000953674316,
          -2.4000000953674316,
          -2.4000000953674316,
          -2.4000000953674316,
          -2.4000000953674316,
          -2.4000000953674316,
          -2.4000000953674316,
          -2.4000000953674316,
          -2.4000000953674316,
          -2.4000000953674316,
          -2.4000000953674316,
          -2.4000000953674316
         ],
         "yaxis": "y"
        },
        {
         "marker": {
          "color": "#1F77B4"
         },
         "mode": "lines",
         "name": "posn_max",
         "type": "scatter",
         "xaxis": "x",
         "y": [
          2.4000000953674316,
          2.4000000953674316,
          2.4000000953674316,
          2.4000000953674316,
          2.4000000953674316,
          2.4000000953674316,
          2.4000000953674316,
          2.4000000953674316,
          2.4000000953674316,
          2.4000000953674316,
          2.4000000953674316,
          2.4000000953674316,
          2.4000000953674316,
          2.4000000953674316,
          2.4000000953674316,
          2.4000000953674316,
          2.4000000953674316,
          2.4000000953674316,
          2.4000000953674316,
          2.4000000953674316,
          2.4000000953674316,
          2.4000000953674316,
          2.4000000953674316,
          2.4000000953674316,
          2.4000000953674316,
          2.4000000953674316,
          2.4000000953674316,
          2.4000000953674316,
          2.4000000953674316,
          2.4000000953674316,
          2.4000000953674316,
          2.4000000953674316,
          2.4000000953674316,
          2.4000000953674316,
          2.4000000953674316,
          2.4000000953674316,
          2.4000000953674316,
          2.4000000953674316,
          2.4000000953674316,
          2.4000000953674316,
          2.4000000953674316,
          2.4000000953674316,
          2.4000000953674316,
          2.4000000953674316,
          2.4000000953674316,
          2.4000000953674316,
          2.4000000953674316,
          2.4000000953674316,
          2.4000000953674316,
          2.4000000953674316,
          2.4000000953674316,
          2.4000000953674316,
          2.4000000953674316,
          2.4000000953674316,
          2.4000000953674316,
          2.4000000953674316,
          2.4000000953674316,
          2.4000000953674316,
          2.4000000953674316,
          2.4000000953674316,
          2.4000000953674316,
          2.4000000953674316,
          2.4000000953674316,
          2.4000000953674316,
          2.4000000953674316,
          2.4000000953674316,
          2.4000000953674316,
          2.4000000953674316,
          2.4000000953674316,
          2.4000000953674316,
          2.4000000953674316,
          2.4000000953674316,
          2.4000000953674316,
          2.4000000953674316,
          2.4000000953674316,
          2.4000000953674316,
          2.4000000953674316,
          2.4000000953674316,
          2.4000000953674316,
          2.4000000953674316,
          2.4000000953674316,
          2.4000000953674316,
          2.4000000953674316,
          2.4000000953674316,
          2.4000000953674316,
          2.4000000953674316,
          2.4000000953674316,
          2.4000000953674316,
          2.4000000953674316,
          2.4000000953674316,
          2.4000000953674316,
          2.4000000953674316,
          2.4000000953674316,
          2.4000000953674316,
          2.4000000953674316,
          2.4000000953674316,
          2.4000000953674316,
          2.4000000953674316,
          2.4000000953674316,
          2.4000000953674316,
          2.4000000953674316,
          2.4000000953674316,
          2.4000000953674316,
          2.4000000953674316,
          2.4000000953674316,
          2.4000000953674316,
          2.4000000953674316,
          2.4000000953674316,
          2.4000000953674316,
          2.4000000953674316,
          2.4000000953674316,
          2.4000000953674316,
          2.4000000953674316,
          2.4000000953674316,
          2.4000000953674316,
          2.4000000953674316,
          2.4000000953674316,
          2.4000000953674316,
          2.4000000953674316,
          2.4000000953674316,
          2.4000000953674316,
          2.4000000953674316,
          2.4000000953674316,
          2.4000000953674316,
          2.4000000953674316,
          2.4000000953674316,
          2.4000000953674316,
          2.4000000953674316,
          2.4000000953674316,
          2.4000000953674316,
          2.4000000953674316,
          2.4000000953674316,
          2.4000000953674316,
          2.4000000953674316,
          2.4000000953674316,
          2.4000000953674316,
          2.4000000953674316,
          2.4000000953674316,
          2.4000000953674316,
          2.4000000953674316,
          2.4000000953674316,
          2.4000000953674316,
          2.4000000953674316,
          2.4000000953674316,
          2.4000000953674316,
          2.4000000953674316,
          2.4000000953674316,
          2.4000000953674316,
          2.4000000953674316,
          2.4000000953674316,
          2.4000000953674316,
          2.4000000953674316,
          2.4000000953674316,
          2.4000000953674316,
          2.4000000953674316,
          2.4000000953674316,
          2.4000000953674316,
          2.4000000953674316,
          2.4000000953674316,
          2.4000000953674316,
          2.4000000953674316,
          2.4000000953674316,
          2.4000000953674316,
          2.4000000953674316,
          2.4000000953674316,
          2.4000000953674316,
          2.4000000953674316,
          2.4000000953674316,
          2.4000000953674316,
          2.4000000953674316,
          2.4000000953674316,
          2.4000000953674316,
          2.4000000953674316,
          2.4000000953674316,
          2.4000000953674316,
          2.4000000953674316,
          2.4000000953674316,
          2.4000000953674316,
          2.4000000953674316,
          2.4000000953674316,
          2.4000000953674316,
          2.4000000953674316,
          2.4000000953674316,
          2.4000000953674316,
          2.4000000953674316,
          2.4000000953674316,
          2.4000000953674316,
          2.4000000953674316,
          2.4000000953674316,
          2.4000000953674316,
          2.4000000953674316,
          2.4000000953674316,
          2.4000000953674316,
          2.4000000953674316,
          2.4000000953674316,
          2.4000000953674316,
          2.4000000953674316,
          2.4000000953674316,
          2.4000000953674316,
          2.4000000953674316,
          2.4000000953674316,
          2.4000000953674316,
          2.4000000953674316,
          2.4000000953674316,
          2.4000000953674316,
          2.4000000953674316,
          2.4000000953674316,
          2.4000000953674316,
          2.4000000953674316,
          2.4000000953674316,
          2.4000000953674316,
          2.4000000953674316,
          2.4000000953674316,
          2.4000000953674316,
          2.4000000953674316,
          2.4000000953674316,
          2.4000000953674316,
          2.4000000953674316,
          2.4000000953674316,
          2.4000000953674316,
          2.4000000953674316,
          2.4000000953674316,
          2.4000000953674316,
          2.4000000953674316,
          2.4000000953674316,
          2.4000000953674316,
          2.4000000953674316,
          2.4000000953674316,
          2.4000000953674316,
          2.4000000953674316,
          2.4000000953674316,
          2.4000000953674316,
          2.4000000953674316,
          2.4000000953674316,
          2.4000000953674316,
          2.4000000953674316,
          2.4000000953674316,
          2.4000000953674316,
          2.4000000953674316,
          2.4000000953674316,
          2.4000000953674316,
          2.4000000953674316,
          2.4000000953674316,
          2.4000000953674316,
          2.4000000953674316,
          2.4000000953674316,
          2.4000000953674316,
          2.4000000953674316,
          2.4000000953674316,
          2.4000000953674316,
          2.4000000953674316,
          2.4000000953674316,
          2.4000000953674316,
          2.4000000953674316,
          2.4000000953674316,
          2.4000000953674316
         ],
         "yaxis": "y"
        },
        {
         "marker": {
          "color": "#FF7F0E"
         },
         "mode": "lines",
         "name": "angle",
         "type": "scatter",
         "xaxis": "x2",
         "y": [
          0.011122570373117924,
          0.005795574747025967,
          0.006391983013600111,
          0.012878508307039738,
          0.025258868932724,
          0.03186724707484245,
          0.032783392816782,
          0.028050323948264122,
          0.01767396740615368,
          0.0016233414644375443,
          -0.020168710500001907,
          -0.047804221510887146,
          -0.06971357017755508,
          -0.09776873141527176,
          -0.12042192369699478,
          -0.14950864017009735,
          -0.1735401153564453,
          -0.204282745718956,
          -0.24185404181480408,
          0.030590832233428955,
          0.03564588353037834,
          0.04674438759684563,
          0.06391683220863342,
          0.07553675770759583,
          0.08171902596950531,
          0.0825425460934639,
          0.08971219509840012,
          0.09157071262598038,
          0.08816752582788467,
          0.07951537519693375,
          0.06559044122695923,
          0.04633292183279991,
          0.03332633152604103,
          0.02645784430205822,
          0.013949551619589329,
          -0.004243426024913788,
          -0.016495713964104652,
          -0.022921135649085045,
          -0.03530333936214447,
          -0.05368179827928543,
          -0.06643261760473251,
          -0.08536530286073685,
          -0.09887614846229553,
          -0.1187528446316719,
          -0.13342826068401337,
          -0.1430421769618988,
          -0.1592877209186554,
          -0.17064349353313446,
          -0.1887657791376114,
          -0.2021968811750412,
          -0.22254152595996857,
          0.022316856309771538,
          0.02766495570540428,
          0.027301829308271408,
          0.03296433389186859,
          0.044650182127952576,
          0.0623936727643013,
          0.0862647294998169,
          0.104685939848423,
          0.1294771283864975,
          0.160739466547966,
          0.19860400259494781,
          0.24322745203971863,
          -0.020183436572551727,
          -0.026316748932003975,
          -0.02672506496310234,
          -0.033150751143693924,
          -0.033893708139657974,
          -0.04069577157497406,
          -0.04186173155903816,
          -0.03743628412485123,
          -0.039122603833675385,
          -0.046894025057554245,
          -0.049063533544540405,
          -0.057375065982341766,
          -0.06015018746256828,
          -0.05744442343711853,
          -0.060959383845329285,
          -0.07067909091711044,
          -0.0866239070892334,
          -0.0971759632229805,
          -0.11410146951675415,
          -0.125814750790596,
          -0.14405472576618195,
          -0.1688833236694336,
          -0.18882571160793304,
          -0.21558022499084473,
          0.01735682040452957,
          0.011906178668141365,
          0.01241766382008791,
          0.007151094730943441,
          -0.003890285035595298,
          -0.020740091800689697,
          -0.03176075592637062,
          -0.048764314502477646,
          -0.07181784510612488,
          -0.10102271288633347,
          -0.12483936548233032,
          -0.1551072597503662,
          -0.19195324182510376,
          -0.2355305254459381,
          0.050682663917541504,
          0.05780326575040817,
          0.05939825624227524,
          0.05551524460315704,
          0.0578484944999218,
          0.054688453674316406,
          0.05773555487394333,
          0.055283840745687485,
          0.059038616716861725,
          0.05729852244257927,
          0.050088685005903244,
          0.04908255860209465,
          0.042547065764665604,
          0.04216654598712921,
          0.03620680421590805,
          0.02466522343456745,
          0.007502432446926832,
          -0.003653652034699917,
          -0.02061593346297741,
          -0.03174757957458496,
          -0.037156883627176285,
          -0.03691612929105759,
          -0.042758792638778687,
          -0.054683323949575424,
          -0.0610295869410038,
          -0.061876874417066574,
          -0.0689501017332077,
          -0.0705723762512207,
          -0.06679151207208633,
          -0.057618409395217896,
          -0.05470461770892143,
          -0.05799661576747894,
          -0.06747714430093765,
          -0.08316535502672195,
          -0.09343928843736649,
          -0.09840602427721024,
          -0.10978540033102036,
          -0.12760460376739502,
          -0.15192537009716034,
          -0.1712435632944107,
          -0.1972876340150833,
          -0.23015223443508148,
          0.018622515723109245,
          0.024371730163693428,
          0.03609089553356171,
          0.042111922055482864,
          0.054209813475608826,
          0.06072516739368439,
          0.07342599332332611,
          0.0806676596403122,
          0.09420737624168396,
          0.1140861064195633,
          0.14037926495075226,
          0.16157428920269012,
          0.1894342005252838,
          0.21253184974193573,
          0.002155916066840291,
          0.007646035868674517,
          0.0072961123660206795,
          0.01284789852797985,
          0.02429918944835663,
          0.041684530675411224,
          0.06507432460784912,
          0.08287755399942398,
          0.09525003284215927,
          0.11397434771060944,
          0.1391192525625229,
          0.15916572511196136,
          0.17429302632808685,
          0.18464694917201996,
          0.20184370875358582,
          0.21445229649543762,
          0.04311994090676308,
          0.04895664006471634,
          0.04921778663992882,
          0.04394206032156944,
          0.03313109651207924,
          0.016749730333685875,
          -0.005273251328617334,
          -0.03304385766386986,
          -0.0667010024189949,
          -0.09471388161182404,
          -0.11730464547872543,
          -0.1463118940591812,
          -0.1818573921918869,
          -0.21252599358558655,
          0.009105825796723366,
          0.0029877920169383287,
          -0.00892618764191866,
          -0.026674972847104073,
          -0.03862648829817772,
          -0.05659729242324829,
          -0.08065949380397797,
          -0.09923325479030609,
          -0.1241450309753418,
          -0.1554977297782898,
          -0.18182000517845154,
          -0.2148829847574234,
          -0.027037866413593292,
          -0.03281479328870773,
          -0.0329110324382782,
          -0.02736424095928669,
          -0.02787502482533455,
          -0.02270730398595333,
          -0.02356644719839096,
          -0.030420789495110512,
          -0.043275535106658936,
          -0.05047127977013588,
          -0.05209244042634964,
          -0.05987699702382088,
          -0.06214526668190956,
          -0.058949392288923264,
          -0.05030455067753792,
          -0.04787306487560272,
          -0.03991363197565079,
          -0.026409925892949104,
          -0.019005773589015007,
          -0.0059168217703700066,
          0.0012000009883195162,
          0.00242596841417253,
          -0.0021941454615443945,
          -0.0009453161619603634,
          0.006143310107290745,
          0.019079631194472313,
          0.02620110847055912,
          0.027590466663241386,
          0.034996483474969864,
          0.04842756688594818,
          0.05622940883040428,
          0.07018224895000458,
          0.07864578068256378,
          0.09338843822479248,
          0.10279246419668198,
          0.1069595143198967,
          0.1175917237997055,
          0.1230807825922966,
          0.1351165473461151,
          0.14212191104888916,
          0.15576830506324768,
          0.16451914608478546,
          0.18001900613307953,
          0.19078415632247925,
          0.1969294399023056,
          0.21000003814697266,
          0.028188569471240044,
          0.021997544914484024,
          0.01013329066336155,
          -0.007444431073963642,
          -0.019105127081274986,
          -0.03666619583964348,
          -0.04849494621157646,
          -0.05470547080039978,
          -0.0670674741268158,
          -0.08561744540929794,
          -0.09874991327524185
         ],
         "yaxis": "y2"
        },
        {
         "marker": {
          "color": "#FF7F0E"
         },
         "mode": "lines",
         "name": "angle_min",
         "type": "scatter",
         "xaxis": "x2",
         "y": [
          -0.2094999998807907,
          -0.2094999998807907,
          -0.2094999998807907,
          -0.2094999998807907,
          -0.2094999998807907,
          -0.2094999998807907,
          -0.2094999998807907,
          -0.2094999998807907,
          -0.2094999998807907,
          -0.2094999998807907,
          -0.2094999998807907,
          -0.2094999998807907,
          -0.2094999998807907,
          -0.2094999998807907,
          -0.2094999998807907,
          -0.2094999998807907,
          -0.2094999998807907,
          -0.2094999998807907,
          -0.2094999998807907,
          -0.2094999998807907,
          -0.2094999998807907,
          -0.2094999998807907,
          -0.2094999998807907,
          -0.2094999998807907,
          -0.2094999998807907,
          -0.2094999998807907,
          -0.2094999998807907,
          -0.2094999998807907,
          -0.2094999998807907,
          -0.2094999998807907,
          -0.2094999998807907,
          -0.2094999998807907,
          -0.2094999998807907,
          -0.2094999998807907,
          -0.2094999998807907,
          -0.2094999998807907,
          -0.2094999998807907,
          -0.2094999998807907,
          -0.2094999998807907,
          -0.2094999998807907,
          -0.2094999998807907,
          -0.2094999998807907,
          -0.2094999998807907,
          -0.2094999998807907,
          -0.2094999998807907,
          -0.2094999998807907,
          -0.2094999998807907,
          -0.2094999998807907,
          -0.2094999998807907,
          -0.2094999998807907,
          -0.2094999998807907,
          -0.2094999998807907,
          -0.2094999998807907,
          -0.2094999998807907,
          -0.2094999998807907,
          -0.2094999998807907,
          -0.2094999998807907,
          -0.2094999998807907,
          -0.2094999998807907,
          -0.2094999998807907,
          -0.2094999998807907,
          -0.2094999998807907,
          -0.2094999998807907,
          -0.2094999998807907,
          -0.2094999998807907,
          -0.2094999998807907,
          -0.2094999998807907,
          -0.2094999998807907,
          -0.2094999998807907,
          -0.2094999998807907,
          -0.2094999998807907,
          -0.2094999998807907,
          -0.2094999998807907,
          -0.2094999998807907,
          -0.2094999998807907,
          -0.2094999998807907,
          -0.2094999998807907,
          -0.2094999998807907,
          -0.2094999998807907,
          -0.2094999998807907,
          -0.2094999998807907,
          -0.2094999998807907,
          -0.2094999998807907,
          -0.2094999998807907,
          -0.2094999998807907,
          -0.2094999998807907,
          -0.2094999998807907,
          -0.2094999998807907,
          -0.2094999998807907,
          -0.2094999998807907,
          -0.2094999998807907,
          -0.2094999998807907,
          -0.2094999998807907,
          -0.2094999998807907,
          -0.2094999998807907,
          -0.2094999998807907,
          -0.2094999998807907,
          -0.2094999998807907,
          -0.2094999998807907,
          -0.2094999998807907,
          -0.2094999998807907,
          -0.2094999998807907,
          -0.2094999998807907,
          -0.2094999998807907,
          -0.2094999998807907,
          -0.2094999998807907,
          -0.2094999998807907,
          -0.2094999998807907,
          -0.2094999998807907,
          -0.2094999998807907,
          -0.2094999998807907,
          -0.2094999998807907,
          -0.2094999998807907,
          -0.2094999998807907,
          -0.2094999998807907,
          -0.2094999998807907,
          -0.2094999998807907,
          -0.2094999998807907,
          -0.2094999998807907,
          -0.2094999998807907,
          -0.2094999998807907,
          -0.2094999998807907,
          -0.2094999998807907,
          -0.2094999998807907,
          -0.2094999998807907,
          -0.2094999998807907,
          -0.2094999998807907,
          -0.2094999998807907,
          -0.2094999998807907,
          -0.2094999998807907,
          -0.2094999998807907,
          -0.2094999998807907,
          -0.2094999998807907,
          -0.2094999998807907,
          -0.2094999998807907,
          -0.2094999998807907,
          -0.2094999998807907,
          -0.2094999998807907,
          -0.2094999998807907,
          -0.2094999998807907,
          -0.2094999998807907,
          -0.2094999998807907,
          -0.2094999998807907,
          -0.2094999998807907,
          -0.2094999998807907,
          -0.2094999998807907,
          -0.2094999998807907,
          -0.2094999998807907,
          -0.2094999998807907,
          -0.2094999998807907,
          -0.2094999998807907,
          -0.2094999998807907,
          -0.2094999998807907,
          -0.2094999998807907,
          -0.2094999998807907,
          -0.2094999998807907,
          -0.2094999998807907,
          -0.2094999998807907,
          -0.2094999998807907,
          -0.2094999998807907,
          -0.2094999998807907,
          -0.2094999998807907,
          -0.2094999998807907,
          -0.2094999998807907,
          -0.2094999998807907,
          -0.2094999998807907,
          -0.2094999998807907,
          -0.2094999998807907,
          -0.2094999998807907,
          -0.2094999998807907,
          -0.2094999998807907,
          -0.2094999998807907,
          -0.2094999998807907,
          -0.2094999998807907,
          -0.2094999998807907,
          -0.2094999998807907,
          -0.2094999998807907,
          -0.2094999998807907,
          -0.2094999998807907,
          -0.2094999998807907,
          -0.2094999998807907,
          -0.2094999998807907,
          -0.2094999998807907,
          -0.2094999998807907,
          -0.2094999998807907,
          -0.2094999998807907,
          -0.2094999998807907,
          -0.2094999998807907,
          -0.2094999998807907,
          -0.2094999998807907,
          -0.2094999998807907,
          -0.2094999998807907,
          -0.2094999998807907,
          -0.2094999998807907,
          -0.2094999998807907,
          -0.2094999998807907,
          -0.2094999998807907,
          -0.2094999998807907,
          -0.2094999998807907,
          -0.2094999998807907,
          -0.2094999998807907,
          -0.2094999998807907,
          -0.2094999998807907,
          -0.2094999998807907,
          -0.2094999998807907,
          -0.2094999998807907,
          -0.2094999998807907,
          -0.2094999998807907,
          -0.2094999998807907,
          -0.2094999998807907,
          -0.2094999998807907,
          -0.2094999998807907,
          -0.2094999998807907,
          -0.2094999998807907,
          -0.2094999998807907,
          -0.2094999998807907,
          -0.2094999998807907,
          -0.2094999998807907,
          -0.2094999998807907,
          -0.2094999998807907,
          -0.2094999998807907,
          -0.2094999998807907,
          -0.2094999998807907,
          -0.2094999998807907,
          -0.2094999998807907,
          -0.2094999998807907,
          -0.2094999998807907,
          -0.2094999998807907,
          -0.2094999998807907,
          -0.2094999998807907,
          -0.2094999998807907,
          -0.2094999998807907,
          -0.2094999998807907,
          -0.2094999998807907,
          -0.2094999998807907,
          -0.2094999998807907,
          -0.2094999998807907,
          -0.2094999998807907,
          -0.2094999998807907,
          -0.2094999998807907,
          -0.2094999998807907,
          -0.2094999998807907,
          -0.2094999998807907,
          -0.2094999998807907,
          -0.2094999998807907,
          -0.2094999998807907,
          -0.2094999998807907,
          -0.2094999998807907,
          -0.2094999998807907,
          -0.2094999998807907,
          -0.2094999998807907,
          -0.2094999998807907,
          -0.2094999998807907,
          -0.2094999998807907,
          -0.2094999998807907,
          -0.2094999998807907
         ],
         "yaxis": "y2"
        },
        {
         "marker": {
          "color": "#FF7F0E"
         },
         "mode": "lines",
         "name": "angle_max",
         "type": "scatter",
         "xaxis": "x2",
         "y": [
          0.2094999998807907,
          0.2094999998807907,
          0.2094999998807907,
          0.2094999998807907,
          0.2094999998807907,
          0.2094999998807907,
          0.2094999998807907,
          0.2094999998807907,
          0.2094999998807907,
          0.2094999998807907,
          0.2094999998807907,
          0.2094999998807907,
          0.2094999998807907,
          0.2094999998807907,
          0.2094999998807907,
          0.2094999998807907,
          0.2094999998807907,
          0.2094999998807907,
          0.2094999998807907,
          0.2094999998807907,
          0.2094999998807907,
          0.2094999998807907,
          0.2094999998807907,
          0.2094999998807907,
          0.2094999998807907,
          0.2094999998807907,
          0.2094999998807907,
          0.2094999998807907,
          0.2094999998807907,
          0.2094999998807907,
          0.2094999998807907,
          0.2094999998807907,
          0.2094999998807907,
          0.2094999998807907,
          0.2094999998807907,
          0.2094999998807907,
          0.2094999998807907,
          0.2094999998807907,
          0.2094999998807907,
          0.2094999998807907,
          0.2094999998807907,
          0.2094999998807907,
          0.2094999998807907,
          0.2094999998807907,
          0.2094999998807907,
          0.2094999998807907,
          0.2094999998807907,
          0.2094999998807907,
          0.2094999998807907,
          0.2094999998807907,
          0.2094999998807907,
          0.2094999998807907,
          0.2094999998807907,
          0.2094999998807907,
          0.2094999998807907,
          0.2094999998807907,
          0.2094999998807907,
          0.2094999998807907,
          0.2094999998807907,
          0.2094999998807907,
          0.2094999998807907,
          0.2094999998807907,
          0.2094999998807907,
          0.2094999998807907,
          0.2094999998807907,
          0.2094999998807907,
          0.2094999998807907,
          0.2094999998807907,
          0.2094999998807907,
          0.2094999998807907,
          0.2094999998807907,
          0.2094999998807907,
          0.2094999998807907,
          0.2094999998807907,
          0.2094999998807907,
          0.2094999998807907,
          0.2094999998807907,
          0.2094999998807907,
          0.2094999998807907,
          0.2094999998807907,
          0.2094999998807907,
          0.2094999998807907,
          0.2094999998807907,
          0.2094999998807907,
          0.2094999998807907,
          0.2094999998807907,
          0.2094999998807907,
          0.2094999998807907,
          0.2094999998807907,
          0.2094999998807907,
          0.2094999998807907,
          0.2094999998807907,
          0.2094999998807907,
          0.2094999998807907,
          0.2094999998807907,
          0.2094999998807907,
          0.2094999998807907,
          0.2094999998807907,
          0.2094999998807907,
          0.2094999998807907,
          0.2094999998807907,
          0.2094999998807907,
          0.2094999998807907,
          0.2094999998807907,
          0.2094999998807907,
          0.2094999998807907,
          0.2094999998807907,
          0.2094999998807907,
          0.2094999998807907,
          0.2094999998807907,
          0.2094999998807907,
          0.2094999998807907,
          0.2094999998807907,
          0.2094999998807907,
          0.2094999998807907,
          0.2094999998807907,
          0.2094999998807907,
          0.2094999998807907,
          0.2094999998807907,
          0.2094999998807907,
          0.2094999998807907,
          0.2094999998807907,
          0.2094999998807907,
          0.2094999998807907,
          0.2094999998807907,
          0.2094999998807907,
          0.2094999998807907,
          0.2094999998807907,
          0.2094999998807907,
          0.2094999998807907,
          0.2094999998807907,
          0.2094999998807907,
          0.2094999998807907,
          0.2094999998807907,
          0.2094999998807907,
          0.2094999998807907,
          0.2094999998807907,
          0.2094999998807907,
          0.2094999998807907,
          0.2094999998807907,
          0.2094999998807907,
          0.2094999998807907,
          0.2094999998807907,
          0.2094999998807907,
          0.2094999998807907,
          0.2094999998807907,
          0.2094999998807907,
          0.2094999998807907,
          0.2094999998807907,
          0.2094999998807907,
          0.2094999998807907,
          0.2094999998807907,
          0.2094999998807907,
          0.2094999998807907,
          0.2094999998807907,
          0.2094999998807907,
          0.2094999998807907,
          0.2094999998807907,
          0.2094999998807907,
          0.2094999998807907,
          0.2094999998807907,
          0.2094999998807907,
          0.2094999998807907,
          0.2094999998807907,
          0.2094999998807907,
          0.2094999998807907,
          0.2094999998807907,
          0.2094999998807907,
          0.2094999998807907,
          0.2094999998807907,
          0.2094999998807907,
          0.2094999998807907,
          0.2094999998807907,
          0.2094999998807907,
          0.2094999998807907,
          0.2094999998807907,
          0.2094999998807907,
          0.2094999998807907,
          0.2094999998807907,
          0.2094999998807907,
          0.2094999998807907,
          0.2094999998807907,
          0.2094999998807907,
          0.2094999998807907,
          0.2094999998807907,
          0.2094999998807907,
          0.2094999998807907,
          0.2094999998807907,
          0.2094999998807907,
          0.2094999998807907,
          0.2094999998807907,
          0.2094999998807907,
          0.2094999998807907,
          0.2094999998807907,
          0.2094999998807907,
          0.2094999998807907,
          0.2094999998807907,
          0.2094999998807907,
          0.2094999998807907,
          0.2094999998807907,
          0.2094999998807907,
          0.2094999998807907,
          0.2094999998807907,
          0.2094999998807907,
          0.2094999998807907,
          0.2094999998807907,
          0.2094999998807907,
          0.2094999998807907,
          0.2094999998807907,
          0.2094999998807907,
          0.2094999998807907,
          0.2094999998807907,
          0.2094999998807907,
          0.2094999998807907,
          0.2094999998807907,
          0.2094999998807907,
          0.2094999998807907,
          0.2094999998807907,
          0.2094999998807907,
          0.2094999998807907,
          0.2094999998807907,
          0.2094999998807907,
          0.2094999998807907,
          0.2094999998807907,
          0.2094999998807907,
          0.2094999998807907,
          0.2094999998807907,
          0.2094999998807907,
          0.2094999998807907,
          0.2094999998807907,
          0.2094999998807907,
          0.2094999998807907,
          0.2094999998807907,
          0.2094999998807907,
          0.2094999998807907,
          0.2094999998807907,
          0.2094999998807907,
          0.2094999998807907,
          0.2094999998807907,
          0.2094999998807907,
          0.2094999998807907,
          0.2094999998807907,
          0.2094999998807907,
          0.2094999998807907,
          0.2094999998807907,
          0.2094999998807907,
          0.2094999998807907,
          0.2094999998807907,
          0.2094999998807907,
          0.2094999998807907,
          0.2094999998807907,
          0.2094999998807907,
          0.2094999998807907,
          0.2094999998807907,
          0.2094999998807907,
          0.2094999998807907
         ],
         "yaxis": "y2"
        }
       ],
       "layout": {
        "annotations": [
         {
          "font": {
           "size": 16
          },
          "showarrow": false,
          "text": "Cart x-position",
          "x": 0.5,
          "xanchor": "center",
          "xref": "paper",
          "y": 1,
          "yanchor": "bottom",
          "yref": "paper"
         },
         {
          "font": {
           "size": 16
          },
          "showarrow": false,
          "text": "Pole angle",
          "x": 0.5,
          "xanchor": "center",
          "xref": "paper",
          "y": 0.375,
          "yanchor": "bottom",
          "yref": "paper"
         },
         {
          "showarrow": false,
          "text": "Min posn",
          "x": 268.8,
          "xref": "x",
          "y": -2.4,
          "yref": "y"
         },
         {
          "showarrow": false,
          "text": "Min angle",
          "x": 268.8,
          "xref": "x2",
          "y": -0.2095,
          "yref": "y2"
         },
         {
          "showarrow": false,
          "text": "Max posn",
          "x": 268.8,
          "xref": "x",
          "y": 2.4,
          "yref": "y"
         },
         {
          "showarrow": false,
          "text": "Max angle",
          "x": 268.8,
          "xref": "x2",
          "y": 0.2095,
          "yref": "y2"
         }
        ],
        "height": 450,
        "hovermode": "x unified",
        "margin": {
         "t": 120
        },
        "shapes": [
         {
          "line": {
           "color": "black",
           "dash": "dash",
           "width": 2
          },
          "type": "line",
          "x0": 18,
          "x1": 18,
          "xref": "x",
          "y0": 0,
          "y1": 1,
          "yref": "y domain"
         },
         {
          "line": {
           "color": "black",
           "dash": "dash",
           "width": 2
          },
          "type": "line",
          "x0": 50,
          "x1": 50,
          "xref": "x",
          "y0": 0,
          "y1": 1,
          "yref": "y domain"
         },
         {
          "line": {
           "color": "black",
           "dash": "dash",
           "width": 2
          },
          "type": "line",
          "x0": 62,
          "x1": 62,
          "xref": "x",
          "y0": 0,
          "y1": 1,
          "yref": "y domain"
         },
         {
          "line": {
           "color": "black",
           "dash": "dash",
           "width": 2
          },
          "type": "line",
          "x0": 86,
          "x1": 86,
          "xref": "x",
          "y0": 0,
          "y1": 1,
          "yref": "y domain"
         },
         {
          "line": {
           "color": "black",
           "dash": "dash",
           "width": 2
          },
          "type": "line",
          "x0": 100,
          "x1": 100,
          "xref": "x",
          "y0": 0,
          "y1": 1,
          "yref": "y domain"
         },
         {
          "line": {
           "color": "black",
           "dash": "dash",
           "width": 2
          },
          "type": "line",
          "x0": 142,
          "x1": 142,
          "xref": "x",
          "y0": 0,
          "y1": 1,
          "yref": "y domain"
         },
         {
          "line": {
           "color": "black",
           "dash": "dash",
           "width": 2
          },
          "type": "line",
          "x0": 156,
          "x1": 156,
          "xref": "x",
          "y0": 0,
          "y1": 1,
          "yref": "y domain"
         },
         {
          "line": {
           "color": "black",
           "dash": "dash",
           "width": 2
          },
          "type": "line",
          "x0": 172,
          "x1": 172,
          "xref": "x",
          "y0": 0,
          "y1": 1,
          "yref": "y domain"
         },
         {
          "line": {
           "color": "black",
           "dash": "dash",
           "width": 2
          },
          "type": "line",
          "x0": 186,
          "x1": 186,
          "xref": "x",
          "y0": 0,
          "y1": 1,
          "yref": "y domain"
         },
         {
          "line": {
           "color": "black",
           "dash": "dash",
           "width": 2
          },
          "type": "line",
          "x0": 198,
          "x1": 198,
          "xref": "x",
          "y0": 0,
          "y1": 1,
          "yref": "y domain"
         },
         {
          "line": {
           "color": "black",
           "dash": "dash",
           "width": 2
          },
          "type": "line",
          "x0": 244,
          "x1": 244,
          "xref": "x",
          "y0": 0,
          "y1": 1,
          "yref": "y domain"
         },
         {
          "line": {
           "color": "black",
           "dash": "dash",
           "width": 2
          },
          "type": "line",
          "x0": 18,
          "x1": 18,
          "xref": "x2",
          "y0": 0,
          "y1": 1,
          "yref": "y2 domain"
         },
         {
          "line": {
           "color": "black",
           "dash": "dash",
           "width": 2
          },
          "type": "line",
          "x0": 50,
          "x1": 50,
          "xref": "x2",
          "y0": 0,
          "y1": 1,
          "yref": "y2 domain"
         },
         {
          "line": {
           "color": "black",
           "dash": "dash",
           "width": 2
          },
          "type": "line",
          "x0": 62,
          "x1": 62,
          "xref": "x2",
          "y0": 0,
          "y1": 1,
          "yref": "y2 domain"
         },
         {
          "line": {
           "color": "black",
           "dash": "dash",
           "width": 2
          },
          "type": "line",
          "x0": 86,
          "x1": 86,
          "xref": "x2",
          "y0": 0,
          "y1": 1,
          "yref": "y2 domain"
         },
         {
          "line": {
           "color": "black",
           "dash": "dash",
           "width": 2
          },
          "type": "line",
          "x0": 100,
          "x1": 100,
          "xref": "x2",
          "y0": 0,
          "y1": 1,
          "yref": "y2 domain"
         },
         {
          "line": {
           "color": "black",
           "dash": "dash",
           "width": 2
          },
          "type": "line",
          "x0": 142,
          "x1": 142,
          "xref": "x2",
          "y0": 0,
          "y1": 1,
          "yref": "y2 domain"
         },
         {
          "line": {
           "color": "black",
           "dash": "dash",
           "width": 2
          },
          "type": "line",
          "x0": 156,
          "x1": 156,
          "xref": "x2",
          "y0": 0,
          "y1": 1,
          "yref": "y2 domain"
         },
         {
          "line": {
           "color": "black",
           "dash": "dash",
           "width": 2
          },
          "type": "line",
          "x0": 172,
          "x1": 172,
          "xref": "x2",
          "y0": 0,
          "y1": 1,
          "yref": "y2 domain"
         },
         {
          "line": {
           "color": "black",
           "dash": "dash",
           "width": 2
          },
          "type": "line",
          "x0": 186,
          "x1": 186,
          "xref": "x2",
          "y0": 0,
          "y1": 1,
          "yref": "y2 domain"
         },
         {
          "line": {
           "color": "black",
           "dash": "dash",
           "width": 2
          },
          "type": "line",
          "x0": 198,
          "x1": 198,
          "xref": "x2",
          "y0": 0,
          "y1": 1,
          "yref": "y2 domain"
         },
         {
          "line": {
           "color": "black",
           "dash": "dash",
           "width": 2
          },
          "type": "line",
          "x0": 244,
          "x1": 244,
          "xref": "x2",
          "y0": 0,
          "y1": 1,
          "yref": "y2 domain"
         }
        ],
        "showlegend": false,
        "template": {
         "data": {
          "bar": [
           {
            "error_x": {
             "color": "rgb(36,36,36)"
            },
            "error_y": {
             "color": "rgb(36,36,36)"
            },
            "marker": {
             "line": {
              "color": "white",
              "width": 0.5
             },
             "pattern": {
              "fillmode": "overlay",
              "size": 10,
              "solidity": 0.2
             }
            },
            "type": "bar"
           }
          ],
          "barpolar": [
           {
            "marker": {
             "line": {
              "color": "white",
              "width": 0.5
             },
             "pattern": {
              "fillmode": "overlay",
              "size": 10,
              "solidity": 0.2
             }
            },
            "type": "barpolar"
           }
          ],
          "carpet": [
           {
            "aaxis": {
             "endlinecolor": "rgb(36,36,36)",
             "gridcolor": "white",
             "linecolor": "white",
             "minorgridcolor": "white",
             "startlinecolor": "rgb(36,36,36)"
            },
            "baxis": {
             "endlinecolor": "rgb(36,36,36)",
             "gridcolor": "white",
             "linecolor": "white",
             "minorgridcolor": "white",
             "startlinecolor": "rgb(36,36,36)"
            },
            "type": "carpet"
           }
          ],
          "choropleth": [
           {
            "colorbar": {
             "outlinewidth": 1,
             "tickcolor": "rgb(36,36,36)",
             "ticks": "outside"
            },
            "type": "choropleth"
           }
          ],
          "contour": [
           {
            "colorbar": {
             "outlinewidth": 1,
             "tickcolor": "rgb(36,36,36)",
             "ticks": "outside"
            },
            "colorscale": [
             [
              0,
              "#440154"
             ],
             [
              0.1111111111111111,
              "#482878"
             ],
             [
              0.2222222222222222,
              "#3e4989"
             ],
             [
              0.3333333333333333,
              "#31688e"
             ],
             [
              0.4444444444444444,
              "#26828e"
             ],
             [
              0.5555555555555556,
              "#1f9e89"
             ],
             [
              0.6666666666666666,
              "#35b779"
             ],
             [
              0.7777777777777778,
              "#6ece58"
             ],
             [
              0.8888888888888888,
              "#b5de2b"
             ],
             [
              1,
              "#fde725"
             ]
            ],
            "type": "contour"
           }
          ],
          "contourcarpet": [
           {
            "colorbar": {
             "outlinewidth": 1,
             "tickcolor": "rgb(36,36,36)",
             "ticks": "outside"
            },
            "type": "contourcarpet"
           }
          ],
          "heatmap": [
           {
            "colorbar": {
             "outlinewidth": 1,
             "tickcolor": "rgb(36,36,36)",
             "ticks": "outside"
            },
            "colorscale": [
             [
              0,
              "#440154"
             ],
             [
              0.1111111111111111,
              "#482878"
             ],
             [
              0.2222222222222222,
              "#3e4989"
             ],
             [
              0.3333333333333333,
              "#31688e"
             ],
             [
              0.4444444444444444,
              "#26828e"
             ],
             [
              0.5555555555555556,
              "#1f9e89"
             ],
             [
              0.6666666666666666,
              "#35b779"
             ],
             [
              0.7777777777777778,
              "#6ece58"
             ],
             [
              0.8888888888888888,
              "#b5de2b"
             ],
             [
              1,
              "#fde725"
             ]
            ],
            "type": "heatmap"
           }
          ],
          "heatmapgl": [
           {
            "colorbar": {
             "outlinewidth": 1,
             "tickcolor": "rgb(36,36,36)",
             "ticks": "outside"
            },
            "colorscale": [
             [
              0,
              "#440154"
             ],
             [
              0.1111111111111111,
              "#482878"
             ],
             [
              0.2222222222222222,
              "#3e4989"
             ],
             [
              0.3333333333333333,
              "#31688e"
             ],
             [
              0.4444444444444444,
              "#26828e"
             ],
             [
              0.5555555555555556,
              "#1f9e89"
             ],
             [
              0.6666666666666666,
              "#35b779"
             ],
             [
              0.7777777777777778,
              "#6ece58"
             ],
             [
              0.8888888888888888,
              "#b5de2b"
             ],
             [
              1,
              "#fde725"
             ]
            ],
            "type": "heatmapgl"
           }
          ],
          "histogram": [
           {
            "marker": {
             "line": {
              "color": "white",
              "width": 0.6
             }
            },
            "type": "histogram"
           }
          ],
          "histogram2d": [
           {
            "colorbar": {
             "outlinewidth": 1,
             "tickcolor": "rgb(36,36,36)",
             "ticks": "outside"
            },
            "colorscale": [
             [
              0,
              "#440154"
             ],
             [
              0.1111111111111111,
              "#482878"
             ],
             [
              0.2222222222222222,
              "#3e4989"
             ],
             [
              0.3333333333333333,
              "#31688e"
             ],
             [
              0.4444444444444444,
              "#26828e"
             ],
             [
              0.5555555555555556,
              "#1f9e89"
             ],
             [
              0.6666666666666666,
              "#35b779"
             ],
             [
              0.7777777777777778,
              "#6ece58"
             ],
             [
              0.8888888888888888,
              "#b5de2b"
             ],
             [
              1,
              "#fde725"
             ]
            ],
            "type": "histogram2d"
           }
          ],
          "histogram2dcontour": [
           {
            "colorbar": {
             "outlinewidth": 1,
             "tickcolor": "rgb(36,36,36)",
             "ticks": "outside"
            },
            "colorscale": [
             [
              0,
              "#440154"
             ],
             [
              0.1111111111111111,
              "#482878"
             ],
             [
              0.2222222222222222,
              "#3e4989"
             ],
             [
              0.3333333333333333,
              "#31688e"
             ],
             [
              0.4444444444444444,
              "#26828e"
             ],
             [
              0.5555555555555556,
              "#1f9e89"
             ],
             [
              0.6666666666666666,
              "#35b779"
             ],
             [
              0.7777777777777778,
              "#6ece58"
             ],
             [
              0.8888888888888888,
              "#b5de2b"
             ],
             [
              1,
              "#fde725"
             ]
            ],
            "type": "histogram2dcontour"
           }
          ],
          "mesh3d": [
           {
            "colorbar": {
             "outlinewidth": 1,
             "tickcolor": "rgb(36,36,36)",
             "ticks": "outside"
            },
            "type": "mesh3d"
           }
          ],
          "parcoords": [
           {
            "line": {
             "colorbar": {
              "outlinewidth": 1,
              "tickcolor": "rgb(36,36,36)",
              "ticks": "outside"
             }
            },
            "type": "parcoords"
           }
          ],
          "pie": [
           {
            "automargin": true,
            "type": "pie"
           }
          ],
          "scatter": [
           {
            "fillpattern": {
             "fillmode": "overlay",
             "size": 10,
             "solidity": 0.2
            },
            "type": "scatter"
           }
          ],
          "scatter3d": [
           {
            "line": {
             "colorbar": {
              "outlinewidth": 1,
              "tickcolor": "rgb(36,36,36)",
              "ticks": "outside"
             }
            },
            "marker": {
             "colorbar": {
              "outlinewidth": 1,
              "tickcolor": "rgb(36,36,36)",
              "ticks": "outside"
             }
            },
            "type": "scatter3d"
           }
          ],
          "scattercarpet": [
           {
            "marker": {
             "colorbar": {
              "outlinewidth": 1,
              "tickcolor": "rgb(36,36,36)",
              "ticks": "outside"
             }
            },
            "type": "scattercarpet"
           }
          ],
          "scattergeo": [
           {
            "marker": {
             "colorbar": {
              "outlinewidth": 1,
              "tickcolor": "rgb(36,36,36)",
              "ticks": "outside"
             }
            },
            "type": "scattergeo"
           }
          ],
          "scattergl": [
           {
            "marker": {
             "colorbar": {
              "outlinewidth": 1,
              "tickcolor": "rgb(36,36,36)",
              "ticks": "outside"
             }
            },
            "type": "scattergl"
           }
          ],
          "scattermapbox": [
           {
            "marker": {
             "colorbar": {
              "outlinewidth": 1,
              "tickcolor": "rgb(36,36,36)",
              "ticks": "outside"
             }
            },
            "type": "scattermapbox"
           }
          ],
          "scatterpolar": [
           {
            "marker": {
             "colorbar": {
              "outlinewidth": 1,
              "tickcolor": "rgb(36,36,36)",
              "ticks": "outside"
             }
            },
            "type": "scatterpolar"
           }
          ],
          "scatterpolargl": [
           {
            "marker": {
             "colorbar": {
              "outlinewidth": 1,
              "tickcolor": "rgb(36,36,36)",
              "ticks": "outside"
             }
            },
            "type": "scatterpolargl"
           }
          ],
          "scatterternary": [
           {
            "marker": {
             "colorbar": {
              "outlinewidth": 1,
              "tickcolor": "rgb(36,36,36)",
              "ticks": "outside"
             }
            },
            "type": "scatterternary"
           }
          ],
          "surface": [
           {
            "colorbar": {
             "outlinewidth": 1,
             "tickcolor": "rgb(36,36,36)",
             "ticks": "outside"
            },
            "colorscale": [
             [
              0,
              "#440154"
             ],
             [
              0.1111111111111111,
              "#482878"
             ],
             [
              0.2222222222222222,
              "#3e4989"
             ],
             [
              0.3333333333333333,
              "#31688e"
             ],
             [
              0.4444444444444444,
              "#26828e"
             ],
             [
              0.5555555555555556,
              "#1f9e89"
             ],
             [
              0.6666666666666666,
              "#35b779"
             ],
             [
              0.7777777777777778,
              "#6ece58"
             ],
             [
              0.8888888888888888,
              "#b5de2b"
             ],
             [
              1,
              "#fde725"
             ]
            ],
            "type": "surface"
           }
          ],
          "table": [
           {
            "cells": {
             "fill": {
              "color": "rgb(237,237,237)"
             },
             "line": {
              "color": "white"
             }
            },
            "header": {
             "fill": {
              "color": "rgb(217,217,217)"
             },
             "line": {
              "color": "white"
             }
            },
            "type": "table"
           }
          ]
         },
         "layout": {
          "annotationdefaults": {
           "arrowhead": 0,
           "arrowwidth": 1
          },
          "autotypenumbers": "strict",
          "coloraxis": {
           "colorbar": {
            "outlinewidth": 1,
            "tickcolor": "rgb(36,36,36)",
            "ticks": "outside"
           }
          },
          "colorscale": {
           "diverging": [
            [
             0,
             "rgb(103,0,31)"
            ],
            [
             0.1,
             "rgb(178,24,43)"
            ],
            [
             0.2,
             "rgb(214,96,77)"
            ],
            [
             0.3,
             "rgb(244,165,130)"
            ],
            [
             0.4,
             "rgb(253,219,199)"
            ],
            [
             0.5,
             "rgb(247,247,247)"
            ],
            [
             0.6,
             "rgb(209,229,240)"
            ],
            [
             0.7,
             "rgb(146,197,222)"
            ],
            [
             0.8,
             "rgb(67,147,195)"
            ],
            [
             0.9,
             "rgb(33,102,172)"
            ],
            [
             1,
             "rgb(5,48,97)"
            ]
           ],
           "sequential": [
            [
             0,
             "#440154"
            ],
            [
             0.1111111111111111,
             "#482878"
            ],
            [
             0.2222222222222222,
             "#3e4989"
            ],
            [
             0.3333333333333333,
             "#31688e"
            ],
            [
             0.4444444444444444,
             "#26828e"
            ],
            [
             0.5555555555555556,
             "#1f9e89"
            ],
            [
             0.6666666666666666,
             "#35b779"
            ],
            [
             0.7777777777777778,
             "#6ece58"
            ],
            [
             0.8888888888888888,
             "#b5de2b"
            ],
            [
             1,
             "#fde725"
            ]
           ],
           "sequentialminus": [
            [
             0,
             "#440154"
            ],
            [
             0.1111111111111111,
             "#482878"
            ],
            [
             0.2222222222222222,
             "#3e4989"
            ],
            [
             0.3333333333333333,
             "#31688e"
            ],
            [
             0.4444444444444444,
             "#26828e"
            ],
            [
             0.5555555555555556,
             "#1f9e89"
            ],
            [
             0.6666666666666666,
             "#35b779"
            ],
            [
             0.7777777777777778,
             "#6ece58"
            ],
            [
             0.8888888888888888,
             "#b5de2b"
            ],
            [
             1,
             "#fde725"
            ]
           ]
          },
          "colorway": [
           "#1F77B4",
           "#FF7F0E",
           "#2CA02C",
           "#D62728",
           "#9467BD",
           "#8C564B",
           "#E377C2",
           "#7F7F7F",
           "#BCBD22",
           "#17BECF"
          ],
          "font": {
           "color": "rgb(36,36,36)"
          },
          "geo": {
           "bgcolor": "white",
           "lakecolor": "white",
           "landcolor": "white",
           "showlakes": true,
           "showland": true,
           "subunitcolor": "white"
          },
          "hoverlabel": {
           "align": "left"
          },
          "hovermode": "closest",
          "mapbox": {
           "style": "light"
          },
          "paper_bgcolor": "white",
          "plot_bgcolor": "white",
          "polar": {
           "angularaxis": {
            "gridcolor": "rgb(232,232,232)",
            "linecolor": "rgb(36,36,36)",
            "showgrid": false,
            "showline": true,
            "ticks": "outside"
           },
           "bgcolor": "white",
           "radialaxis": {
            "gridcolor": "rgb(232,232,232)",
            "linecolor": "rgb(36,36,36)",
            "showgrid": false,
            "showline": true,
            "ticks": "outside"
           }
          },
          "scene": {
           "xaxis": {
            "backgroundcolor": "white",
            "gridcolor": "rgb(232,232,232)",
            "gridwidth": 2,
            "linecolor": "rgb(36,36,36)",
            "showbackground": true,
            "showgrid": false,
            "showline": true,
            "ticks": "outside",
            "zeroline": false,
            "zerolinecolor": "rgb(36,36,36)"
           },
           "yaxis": {
            "backgroundcolor": "white",
            "gridcolor": "rgb(232,232,232)",
            "gridwidth": 2,
            "linecolor": "rgb(36,36,36)",
            "showbackground": true,
            "showgrid": false,
            "showline": true,
            "ticks": "outside",
            "zeroline": false,
            "zerolinecolor": "rgb(36,36,36)"
           },
           "zaxis": {
            "backgroundcolor": "white",
            "gridcolor": "rgb(232,232,232)",
            "gridwidth": 2,
            "linecolor": "rgb(36,36,36)",
            "showbackground": true,
            "showgrid": false,
            "showline": true,
            "ticks": "outside",
            "zeroline": false,
            "zerolinecolor": "rgb(36,36,36)"
           }
          },
          "shapedefaults": {
           "fillcolor": "black",
           "line": {
            "width": 0
           },
           "opacity": 0.3
          },
          "ternary": {
           "aaxis": {
            "gridcolor": "rgb(232,232,232)",
            "linecolor": "rgb(36,36,36)",
            "showgrid": false,
            "showline": true,
            "ticks": "outside"
           },
           "baxis": {
            "gridcolor": "rgb(232,232,232)",
            "linecolor": "rgb(36,36,36)",
            "showgrid": false,
            "showline": true,
            "ticks": "outside"
           },
           "bgcolor": "white",
           "caxis": {
            "gridcolor": "rgb(232,232,232)",
            "linecolor": "rgb(36,36,36)",
            "showgrid": false,
            "showline": true,
            "ticks": "outside"
           }
          },
          "title": {
           "x": 0.05
          },
          "xaxis": {
           "automargin": true,
           "gridcolor": "rgb(232,232,232)",
           "linecolor": "rgb(36,36,36)",
           "showgrid": false,
           "showline": true,
           "ticks": "outside",
           "title": {
            "standoff": 15
           },
           "zeroline": false,
           "zerolinecolor": "rgb(36,36,36)"
          },
          "yaxis": {
           "automargin": true,
           "gridcolor": "rgb(232,232,232)",
           "linecolor": "rgb(36,36,36)",
           "showgrid": false,
           "showline": true,
           "ticks": "outside",
           "title": {
            "standoff": 15
           },
           "zeroline": false,
           "zerolinecolor": "rgb(36,36,36)"
          }
         }
        },
        "title": {
         "text": "Next obs s<sub>t+1</sub><br>so when d<sub>t+1</sub> = 1, these are the terminated states",
         "y": 0.9
        },
        "width": 800,
        "xaxis": {
         "anchor": "y",
         "domain": [
          0,
          1
         ]
        },
        "xaxis2": {
         "anchor": "y2",
         "domain": [
          0,
          1
         ]
        },
        "yaxis": {
         "anchor": "x",
         "domain": [
          0.625,
          1
         ]
        },
        "yaxis2": {
         "anchor": "x2",
         "domain": [
          0,
          0.375
         ]
        }
       }
      }
     },
     "metadata": {},
     "output_type": "display_data"
    },
    {
     "data": {
      "application/vnd.plotly.v1+json": {
       "config": {
        "displaylogo": false,
        "plotlyServerURL": "https://plot.ly"
       },
       "data": [
        {
         "marker": {
          "color": "#1F77B4"
         },
         "mode": "lines",
         "name": "posn",
         "type": "scatter",
         "xaxis": "x",
         "y": [
          -0.014810837805271149,
          -0.06116987392306328,
          0.16408997774124146,
          0.04862120375037193,
          0.050222206860780716,
          0.051110681146383286,
          0.004362499341368675,
          0.034611865878105164,
          0.16999998688697815,
          0.0042863390408456326,
          -0.09505109488964081,
          -0.12395600229501724,
          0.16092868149280548,
          -0.0644197165966034,
          -0.027920467779040337,
          0.1642095297574997,
          -0.0425289049744606,
          0.212417334318161,
          0.018554197624325752,
          -0.1541353315114975,
          0.044988345354795456,
          0.0042863390408456326,
          -0.14422568678855896,
          0.031327024102211,
          0.0836150273680687,
          -0.032341428101062775,
          0.23946058750152588,
          0.030035171657800674,
          0.07457491755485535,
          0.1642095297574997,
          -0.004079848062247038,
          0.16999998688697815,
          -0.004760379903018475,
          -0.03914646431803703,
          0.027622807770967484,
          0.20089156925678253,
          0.00523264380171895,
          0.05367078632116318,
          0.12405279278755188,
          0.01348884403705597,
          0.007157254498451948,
          0.025337349623441696,
          0.032152533531188965,
          -0.0018272644374519587,
          0.03687739372253418,
          -0.14422568678855896,
          0.1706392914056778,
          -0.08764347434043884,
          0.04039180651307106,
          -0.03649035096168518,
          0.07457491755485535,
          0.042065005749464035,
          0.060566145926713943,
          0.0391022264957428,
          -0.009101547300815582,
          0.005222489591687918,
          0.027179431170225143,
          -0.0037728464230895042,
          -0.1749705672264099,
          -0.09505109488964081,
          0.002762916963547468,
          -0.003018575254827738,
          0.03888479992747307,
          0.060876090079545975,
          -0.050751958042383194,
          0.03515194356441498,
          -0.0034165794495493174,
          0.11976362019777298,
          -0.004079848062247038,
          0.1706392914056778,
          0.008410423062741756,
          0.054375115782022476,
          0.01348884403705597,
          0.13140255212783813,
          0.11976362019777298,
          -0.07117143273353577,
          0.19810819625854492,
          -0.1541353315114975,
          0.18962068855762482,
          -0.04239700362086296,
          -0.15184158086776733,
          0.007733821403235197,
          0.04039180651307106,
          0.07475059479475021,
          0.11976362019777298,
          -0.02588510513305664,
          0.1644500195980072,
          0.10750819742679596,
          0.06319479644298553,
          0.0836150273680687,
          0.08716271072626114,
          -0.07117143273353577,
          0.044490426778793335,
          -0.013870284892618656,
          0.08320914953947067,
          -0.039507560431957245,
          0.0877775326371193,
          0.0021915831603109837,
          0.008410423062741756,
          0.012591885402798653,
          0.011305865831673145,
          -0.0053669544868171215,
          0.06663630902767181,
          -0.063761405646801,
          -0.004570880904793739,
          -0.050751958042383194,
          0.00523264380171895,
          0.12446616590023041,
          -0.14422568678855896,
          0.10750819742679596,
          0.007733821403235197,
          0.08433487266302109,
          -0.03914646431803703,
          0.041966333985328674,
          -0.08871762454509735,
          -0.00766753451898694,
          0.03888479992747307,
          -0.0265763308852911,
          0.08987728506326675,
          0.10416466742753983,
          0.015248293988406658,
          0.007157254498451948,
          0.0391022264957428,
          0.23324772715568542,
          -0.17164461314678192,
          -0.015624419786036015,
          -0.039507560431957245,
          -0.0034165794495493174,
          -0.09555337578058243,
          0.05367078632116318,
          -0.09555337578058243,
          -0.15184158086776733,
          -0.07117143273353577,
          0.03574042767286301,
          0.06319479644298553,
          -0.1644682139158249,
          0.0877775326371193,
          -0.024423470720648766,
          -0.04989639297127724,
          -0.02803901955485344,
          0.16408997774124146,
          -0.0425289049744606,
          0.07457491755485535,
          -0.14395084977149963,
          0.006895964499562979,
          0.02762668952345848,
          0.11328557133674622,
          -0.17445260286331177,
          0.23324772715568542,
          0.1535235345363617,
          0.0877775326371193,
          0.01348884403705597,
          -0.17164461314678192,
          -0.036047372967004776,
          -0.04477343708276749,
          0.02670983411371708,
          -0.05284664407372475,
          -0.17164461314678192,
          0.034611865878105164,
          0.060566145926713943,
          0.012591885402798653,
          0.04792775213718414,
          0.006895964499562979,
          0.1535235345363617,
          0.013815882615745068,
          0.18207131326198578,
          -0.013870284892618656,
          -0.0053669544868171215,
          0.004362499341368675,
          0.010224912315607071,
          0.04514065384864807,
          0.006796721834689379,
          0.0291283056139946,
          0.08320914953947067,
          -0.14085829257965088,
          -0.15097513794898987,
          0.2033947855234146,
          -0.02268213778734207,
          0.02674160897731781,
          0.1642095297574997,
          -0.027920467779040337,
          -0.14395084977149963,
          -0.14422568678855896,
          -0.036373913288116455,
          -0.043948184698820114,
          0.03769667446613312,
          -0.014192403294146061,
          -0.04204739257693291,
          0.0021915831603109837,
          0.005222489591687918,
          0.014687460847198963,
          -0.04159846529364586,
          -0.03536044433712959,
          0.08433487266302109,
          0.15952807664871216,
          -0.027920467779040337,
          -0.017387868836522102,
          -0.07117143273353577,
          0.042065005749464035,
          0.009906189516186714,
          -0.013870284892618656,
          0.12061572819948196,
          0.07899145781993866,
          -0.0265763308852911,
          -0.07798950374126434,
          -0.009932196699082851,
          0.04745492339134216,
          -0.14085829257965088,
          -0.027920467779040337,
          0.044600002467632294,
          0.017047766596078873,
          0.19329288601875305,
          -0.121638722717762,
          0.031120214611291885,
          0.08433487266302109,
          -0.15097513794898987,
          0.0016234340146183968,
          0.051110681146383286,
          0.0042863390408456326,
          0.007152982987463474,
          0.19092880189418793,
          -0.03649035096168518,
          0.16092868149280548,
          0.025337349623441696,
          -0.14395084977149963,
          0.11976362019777298,
          0.054375115782022476,
          0.034611865878105164,
          -0.015624419786036015,
          0.06319479644298553,
          0.08433487266302109,
          0.15984903275966644,
          -0.09555337578058243,
          -0.14395084977149963,
          0.044600002467632294,
          0.16122667491436005,
          0.1500372290611267,
          0.002762916963547468,
          -0.039507560431957245,
          0.17770038545131683,
          -0.09505109488964081,
          -0.047919467091560364,
          0.0027209781110286713,
          0.016688697040081024,
          -0.043948184698820114,
          -0.036373913288116455,
          0.06365276128053665,
          0.018554197624325752,
          0.06319479644298553,
          0.04048622399568558,
          0.04862120375037193,
          -0.063761405646801,
          0.029965898022055626,
          -0.07117143273353577,
          0.02416420169174671,
          0.0027209781110286713
         ],
         "yaxis": "y"
        },
        {
         "marker": {
          "color": "#1F77B4"
         },
         "mode": "lines",
         "name": "posn_min",
         "type": "scatter",
         "xaxis": "x",
         "y": [
          -2.4000000953674316,
          -2.4000000953674316,
          -2.4000000953674316,
          -2.4000000953674316,
          -2.4000000953674316,
          -2.4000000953674316,
          -2.4000000953674316,
          -2.4000000953674316,
          -2.4000000953674316,
          -2.4000000953674316,
          -2.4000000953674316,
          -2.4000000953674316,
          -2.4000000953674316,
          -2.4000000953674316,
          -2.4000000953674316,
          -2.4000000953674316,
          -2.4000000953674316,
          -2.4000000953674316,
          -2.4000000953674316,
          -2.4000000953674316,
          -2.4000000953674316,
          -2.4000000953674316,
          -2.4000000953674316,
          -2.4000000953674316,
          -2.4000000953674316,
          -2.4000000953674316,
          -2.4000000953674316,
          -2.4000000953674316,
          -2.4000000953674316,
          -2.4000000953674316,
          -2.4000000953674316,
          -2.4000000953674316,
          -2.4000000953674316,
          -2.4000000953674316,
          -2.4000000953674316,
          -2.4000000953674316,
          -2.4000000953674316,
          -2.4000000953674316,
          -2.4000000953674316,
          -2.4000000953674316,
          -2.4000000953674316,
          -2.4000000953674316,
          -2.4000000953674316,
          -2.4000000953674316,
          -2.4000000953674316,
          -2.4000000953674316,
          -2.4000000953674316,
          -2.4000000953674316,
          -2.4000000953674316,
          -2.4000000953674316,
          -2.4000000953674316,
          -2.4000000953674316,
          -2.4000000953674316,
          -2.4000000953674316,
          -2.4000000953674316,
          -2.4000000953674316,
          -2.4000000953674316,
          -2.4000000953674316,
          -2.4000000953674316,
          -2.4000000953674316,
          -2.4000000953674316,
          -2.4000000953674316,
          -2.4000000953674316,
          -2.4000000953674316,
          -2.4000000953674316,
          -2.4000000953674316,
          -2.4000000953674316,
          -2.4000000953674316,
          -2.4000000953674316,
          -2.4000000953674316,
          -2.4000000953674316,
          -2.4000000953674316,
          -2.4000000953674316,
          -2.4000000953674316,
          -2.4000000953674316,
          -2.4000000953674316,
          -2.4000000953674316,
          -2.4000000953674316,
          -2.4000000953674316,
          -2.4000000953674316,
          -2.4000000953674316,
          -2.4000000953674316,
          -2.4000000953674316,
          -2.4000000953674316,
          -2.4000000953674316,
          -2.4000000953674316,
          -2.4000000953674316,
          -2.4000000953674316,
          -2.4000000953674316,
          -2.4000000953674316,
          -2.4000000953674316,
          -2.4000000953674316,
          -2.4000000953674316,
          -2.4000000953674316,
          -2.4000000953674316,
          -2.4000000953674316,
          -2.4000000953674316,
          -2.4000000953674316,
          -2.4000000953674316,
          -2.4000000953674316,
          -2.4000000953674316,
          -2.4000000953674316,
          -2.4000000953674316,
          -2.4000000953674316,
          -2.4000000953674316,
          -2.4000000953674316,
          -2.4000000953674316,
          -2.4000000953674316,
          -2.4000000953674316,
          -2.4000000953674316,
          -2.4000000953674316,
          -2.4000000953674316,
          -2.4000000953674316,
          -2.4000000953674316,
          -2.4000000953674316,
          -2.4000000953674316,
          -2.4000000953674316,
          -2.4000000953674316,
          -2.4000000953674316,
          -2.4000000953674316,
          -2.4000000953674316,
          -2.4000000953674316,
          -2.4000000953674316,
          -2.4000000953674316,
          -2.4000000953674316,
          -2.4000000953674316,
          -2.4000000953674316,
          -2.4000000953674316,
          -2.4000000953674316,
          -2.4000000953674316,
          -2.4000000953674316,
          -2.4000000953674316,
          -2.4000000953674316,
          -2.4000000953674316,
          -2.4000000953674316,
          -2.4000000953674316,
          -2.4000000953674316,
          -2.4000000953674316,
          -2.4000000953674316,
          -2.4000000953674316,
          -2.4000000953674316,
          -2.4000000953674316,
          -2.4000000953674316,
          -2.4000000953674316,
          -2.4000000953674316,
          -2.4000000953674316,
          -2.4000000953674316,
          -2.4000000953674316,
          -2.4000000953674316,
          -2.4000000953674316,
          -2.4000000953674316,
          -2.4000000953674316,
          -2.4000000953674316,
          -2.4000000953674316,
          -2.4000000953674316,
          -2.4000000953674316,
          -2.4000000953674316,
          -2.4000000953674316,
          -2.4000000953674316,
          -2.4000000953674316,
          -2.4000000953674316,
          -2.4000000953674316,
          -2.4000000953674316,
          -2.4000000953674316,
          -2.4000000953674316,
          -2.4000000953674316,
          -2.4000000953674316,
          -2.4000000953674316,
          -2.4000000953674316,
          -2.4000000953674316,
          -2.4000000953674316,
          -2.4000000953674316,
          -2.4000000953674316,
          -2.4000000953674316,
          -2.4000000953674316,
          -2.4000000953674316,
          -2.4000000953674316,
          -2.4000000953674316,
          -2.4000000953674316,
          -2.4000000953674316,
          -2.4000000953674316,
          -2.4000000953674316,
          -2.4000000953674316,
          -2.4000000953674316,
          -2.4000000953674316,
          -2.4000000953674316,
          -2.4000000953674316,
          -2.4000000953674316,
          -2.4000000953674316,
          -2.4000000953674316,
          -2.4000000953674316,
          -2.4000000953674316,
          -2.4000000953674316,
          -2.4000000953674316,
          -2.4000000953674316,
          -2.4000000953674316,
          -2.4000000953674316,
          -2.4000000953674316,
          -2.4000000953674316,
          -2.4000000953674316,
          -2.4000000953674316,
          -2.4000000953674316,
          -2.4000000953674316,
          -2.4000000953674316,
          -2.4000000953674316,
          -2.4000000953674316,
          -2.4000000953674316,
          -2.4000000953674316,
          -2.4000000953674316,
          -2.4000000953674316,
          -2.4000000953674316,
          -2.4000000953674316,
          -2.4000000953674316,
          -2.4000000953674316,
          -2.4000000953674316,
          -2.4000000953674316,
          -2.4000000953674316,
          -2.4000000953674316,
          -2.4000000953674316,
          -2.4000000953674316,
          -2.4000000953674316,
          -2.4000000953674316,
          -2.4000000953674316,
          -2.4000000953674316,
          -2.4000000953674316,
          -2.4000000953674316,
          -2.4000000953674316,
          -2.4000000953674316,
          -2.4000000953674316,
          -2.4000000953674316,
          -2.4000000953674316,
          -2.4000000953674316,
          -2.4000000953674316,
          -2.4000000953674316,
          -2.4000000953674316,
          -2.4000000953674316,
          -2.4000000953674316,
          -2.4000000953674316,
          -2.4000000953674316,
          -2.4000000953674316,
          -2.4000000953674316,
          -2.4000000953674316,
          -2.4000000953674316,
          -2.4000000953674316,
          -2.4000000953674316,
          -2.4000000953674316,
          -2.4000000953674316,
          -2.4000000953674316,
          -2.4000000953674316,
          -2.4000000953674316,
          -2.4000000953674316,
          -2.4000000953674316,
          -2.4000000953674316,
          -2.4000000953674316,
          -2.4000000953674316,
          -2.4000000953674316
         ],
         "yaxis": "y"
        },
        {
         "marker": {
          "color": "#1F77B4"
         },
         "mode": "lines",
         "name": "posn_max",
         "type": "scatter",
         "xaxis": "x",
         "y": [
          2.4000000953674316,
          2.4000000953674316,
          2.4000000953674316,
          2.4000000953674316,
          2.4000000953674316,
          2.4000000953674316,
          2.4000000953674316,
          2.4000000953674316,
          2.4000000953674316,
          2.4000000953674316,
          2.4000000953674316,
          2.4000000953674316,
          2.4000000953674316,
          2.4000000953674316,
          2.4000000953674316,
          2.4000000953674316,
          2.4000000953674316,
          2.4000000953674316,
          2.4000000953674316,
          2.4000000953674316,
          2.4000000953674316,
          2.4000000953674316,
          2.4000000953674316,
          2.4000000953674316,
          2.4000000953674316,
          2.4000000953674316,
          2.4000000953674316,
          2.4000000953674316,
          2.4000000953674316,
          2.4000000953674316,
          2.4000000953674316,
          2.4000000953674316,
          2.4000000953674316,
          2.4000000953674316,
          2.4000000953674316,
          2.4000000953674316,
          2.4000000953674316,
          2.4000000953674316,
          2.4000000953674316,
          2.4000000953674316,
          2.4000000953674316,
          2.4000000953674316,
          2.4000000953674316,
          2.4000000953674316,
          2.4000000953674316,
          2.4000000953674316,
          2.4000000953674316,
          2.4000000953674316,
          2.4000000953674316,
          2.4000000953674316,
          2.4000000953674316,
          2.4000000953674316,
          2.4000000953674316,
          2.4000000953674316,
          2.4000000953674316,
          2.4000000953674316,
          2.4000000953674316,
          2.4000000953674316,
          2.4000000953674316,
          2.4000000953674316,
          2.4000000953674316,
          2.4000000953674316,
          2.4000000953674316,
          2.4000000953674316,
          2.4000000953674316,
          2.4000000953674316,
          2.4000000953674316,
          2.4000000953674316,
          2.4000000953674316,
          2.4000000953674316,
          2.4000000953674316,
          2.4000000953674316,
          2.4000000953674316,
          2.4000000953674316,
          2.4000000953674316,
          2.4000000953674316,
          2.4000000953674316,
          2.4000000953674316,
          2.4000000953674316,
          2.4000000953674316,
          2.4000000953674316,
          2.4000000953674316,
          2.4000000953674316,
          2.4000000953674316,
          2.4000000953674316,
          2.4000000953674316,
          2.4000000953674316,
          2.4000000953674316,
          2.4000000953674316,
          2.4000000953674316,
          2.4000000953674316,
          2.4000000953674316,
          2.4000000953674316,
          2.4000000953674316,
          2.4000000953674316,
          2.4000000953674316,
          2.4000000953674316,
          2.4000000953674316,
          2.4000000953674316,
          2.4000000953674316,
          2.4000000953674316,
          2.4000000953674316,
          2.4000000953674316,
          2.4000000953674316,
          2.4000000953674316,
          2.4000000953674316,
          2.4000000953674316,
          2.4000000953674316,
          2.4000000953674316,
          2.4000000953674316,
          2.4000000953674316,
          2.4000000953674316,
          2.4000000953674316,
          2.4000000953674316,
          2.4000000953674316,
          2.4000000953674316,
          2.4000000953674316,
          2.4000000953674316,
          2.4000000953674316,
          2.4000000953674316,
          2.4000000953674316,
          2.4000000953674316,
          2.4000000953674316,
          2.4000000953674316,
          2.4000000953674316,
          2.4000000953674316,
          2.4000000953674316,
          2.4000000953674316,
          2.4000000953674316,
          2.4000000953674316,
          2.4000000953674316,
          2.4000000953674316,
          2.4000000953674316,
          2.4000000953674316,
          2.4000000953674316,
          2.4000000953674316,
          2.4000000953674316,
          2.4000000953674316,
          2.4000000953674316,
          2.4000000953674316,
          2.4000000953674316,
          2.4000000953674316,
          2.4000000953674316,
          2.4000000953674316,
          2.4000000953674316,
          2.4000000953674316,
          2.4000000953674316,
          2.4000000953674316,
          2.4000000953674316,
          2.4000000953674316,
          2.4000000953674316,
          2.4000000953674316,
          2.4000000953674316,
          2.4000000953674316,
          2.4000000953674316,
          2.4000000953674316,
          2.4000000953674316,
          2.4000000953674316,
          2.4000000953674316,
          2.4000000953674316,
          2.4000000953674316,
          2.4000000953674316,
          2.4000000953674316,
          2.4000000953674316,
          2.4000000953674316,
          2.4000000953674316,
          2.4000000953674316,
          2.4000000953674316,
          2.4000000953674316,
          2.4000000953674316,
          2.4000000953674316,
          2.4000000953674316,
          2.4000000953674316,
          2.4000000953674316,
          2.4000000953674316,
          2.4000000953674316,
          2.4000000953674316,
          2.4000000953674316,
          2.4000000953674316,
          2.4000000953674316,
          2.4000000953674316,
          2.4000000953674316,
          2.4000000953674316,
          2.4000000953674316,
          2.4000000953674316,
          2.4000000953674316,
          2.4000000953674316,
          2.4000000953674316,
          2.4000000953674316,
          2.4000000953674316,
          2.4000000953674316,
          2.4000000953674316,
          2.4000000953674316,
          2.4000000953674316,
          2.4000000953674316,
          2.4000000953674316,
          2.4000000953674316,
          2.4000000953674316,
          2.4000000953674316,
          2.4000000953674316,
          2.4000000953674316,
          2.4000000953674316,
          2.4000000953674316,
          2.4000000953674316,
          2.4000000953674316,
          2.4000000953674316,
          2.4000000953674316,
          2.4000000953674316,
          2.4000000953674316,
          2.4000000953674316,
          2.4000000953674316,
          2.4000000953674316,
          2.4000000953674316,
          2.4000000953674316,
          2.4000000953674316,
          2.4000000953674316,
          2.4000000953674316,
          2.4000000953674316,
          2.4000000953674316,
          2.4000000953674316,
          2.4000000953674316,
          2.4000000953674316,
          2.4000000953674316,
          2.4000000953674316,
          2.4000000953674316,
          2.4000000953674316,
          2.4000000953674316,
          2.4000000953674316,
          2.4000000953674316,
          2.4000000953674316,
          2.4000000953674316,
          2.4000000953674316,
          2.4000000953674316,
          2.4000000953674316,
          2.4000000953674316,
          2.4000000953674316,
          2.4000000953674316,
          2.4000000953674316,
          2.4000000953674316,
          2.4000000953674316,
          2.4000000953674316,
          2.4000000953674316,
          2.4000000953674316,
          2.4000000953674316,
          2.4000000953674316,
          2.4000000953674316,
          2.4000000953674316,
          2.4000000953674316,
          2.4000000953674316,
          2.4000000953674316,
          2.4000000953674316,
          2.4000000953674316,
          2.4000000953674316,
          2.4000000953674316,
          2.4000000953674316,
          2.4000000953674316
         ],
         "yaxis": "y"
        },
        {
         "marker": {
          "color": "#FF7F0E"
         },
         "mode": "lines",
         "name": "angle",
         "type": "scatter",
         "xaxis": "x2",
         "y": [
          -0.026409925892949104,
          0.041684530675411224,
          -0.06679151207208633,
          -0.04069577157497406,
          -0.060959383845329285,
          0.0016233414644375443,
          0.03158535435795784,
          0.012878508307039738,
          -0.1187528446316719,
          -0.043275535106658936,
          0.09525003284215927,
          0.09338843822479248,
          -0.0689501017332077,
          0.16157428920269012,
          0.01013329066336155,
          -0.1818573921918869,
          0.01284789852797985,
          -0.12760460376739502,
          0.01884467341005802,
          0.14212191104888916,
          -0.03743628412485123,
          -0.043275535106658936,
          0.18464694917201996,
          0.010663577355444431,
          -0.19195324182510376,
          -0.0059168217703700066,
          -0.1712435632944107,
          0.028050323948264122,
          -0.09923325479030609,
          -0.1818573921918869,
          -0.03991363197565079,
          -0.1187528446316719,
          0.04674438759684563,
          0.0012000009883195162,
          0.025258868932724,
          -0.10978540033102036,
          0.030590832233428955,
          -0.06015018746256828,
          -0.03691612929105759,
          0.05773555487394333,
          0.05780326575040817,
          0.032783392816782,
          0.011122570373117924,
          0.06559044122695923,
          0.005795574747025967,
          0.18464694917201996,
          -0.06747714430093765,
          0.08287755399942398,
          -0.026316748932003975,
          0.002535432344302535,
          -0.09923325479030609,
          -0.12483936548233032,
          0.02466522343456745,
          -0.08561744540929794,
          -0.02356644719839096,
          -0.03666619583964348,
          -0.10102271288633347,
          0.04895664006471634,
          0.19078415632247925,
          0.09525003284215927,
          -0.04787306487560272,
          0.04921778663992882,
          -0.005273251328617334,
          -0.1551072597503662,
          0.006143310107290745,
          0.02645784430205822,
          0.054209813475608826,
          -0.11730464547872543,
          -0.03991363197565079,
          -0.06747714430093765,
          -0.07181784510612488,
          -0.07067909091711044,
          0.05773555487394333,
          -0.042758792638778687,
          -0.11730464547872543,
          0.027590466663241386,
          -0.204282745718956,
          0.14212191104888916,
          -0.09343928843736649,
          0.007151094730943441,
          0.20184370875358582,
          0.03609089553356171,
          -0.026316748932003975,
          -0.11410146951675415,
          -0.11730464547872543,
          0.09420737624168396,
          -0.0705723762512207,
          -0.18882571160793304,
          -0.08065949380397797,
          -0.19195324182510376,
          -0.14405472576618195,
          0.027590466663241386,
          -0.033150751143693924,
          0.0862647294998169,
          -0.0667010024189949,
          0.007646035868674517,
          -0.047804221510887146,
          0.03564588353037834,
          -0.07181784510612488,
          -0.058949392288923264,
          0.050682663917541504,
          -0.03281479328870773,
          -0.0971759632229805,
          0.160739466547966,
          -0.0329110324382782,
          0.006143310107290745,
          0.030590832233428955,
          -0.09776873141527176,
          0.18464694917201996,
          -0.18882571160793304,
          0.03609089553356171,
          -0.022921135649085045,
          0.0012000009883195162,
          0.04216654598712921,
          0.04842756688594818,
          -0.02736424095928669,
          -0.005273251328617334,
          0.104685939848423,
          -0.1241450309753418,
          -0.06971357017755508,
          0.024371730163693428,
          0.05780326575040817,
          -0.08561744540929794,
          -0.2021968811750412,
          0.18001900613307953,
          0.06391683220863342,
          0.007646035868674517,
          0.054209813475608826,
          0.05622940883040428,
          -0.06015018746256828,
          0.05622940883040428,
          0.20184370875358582,
          0.027590466663241386,
          0.02296554483473301,
          -0.08065949380397797,
          0.16451914608478546,
          -0.047804221510887146,
          -0.020740091800689697,
          0.02429918944835663,
          0.08971219509840012,
          -0.06679151207208633,
          0.01284789852797985,
          -0.09923325479030609,
          0.1230807825922966,
          0.05939825624227524,
          0.050088685005903244,
          -0.03174757957458496,
          0.1969294399023056,
          -0.2021968811750412,
          -0.061876874417066574,
          -0.047804221510887146,
          0.05773555487394333,
          0.18001900613307953,
          0.002155916066840291,
          0.011906178668141365,
          -0.0670674741268158,
          0.14037926495075226,
          0.18001900613307953,
          0.012878508307039738,
          0.02466522343456745,
          -0.058949392288923264,
          -0.05659729242324829,
          0.05939825624227524,
          -0.061876874417066574,
          0.054688453674316406,
          -0.08316535502672195,
          0.0862647294998169,
          -0.03281479328870773,
          0.03158535435795784,
          0.0578484944999218,
          -0.039122603833675385,
          0.009105825796723366,
          -0.026674972847104073,
          -0.0667010024189949,
          0.1175917237997055,
          0.1351165473461151,
          -0.1592877209186554,
          0.08816752582788467,
          0.03332633152604103,
          -0.1818573921918869,
          0.01013329066336155,
          0.1230807825922966,
          0.18464694917201996,
          0.021997544914484024,
          -0.0009453161619603634,
          0.006391983013600111,
          0.07951537519693375,
          0.00242596841417253,
          0.03564588353037834,
          -0.03666619583964348,
          -0.05987699702382088,
          0.028709830716252327,
          -0.003890285035595298,
          -0.022921135649085045,
          -0.05470461770892143,
          0.01013329066336155,
          -0.03176075592637062,
          0.027590466663241386,
          -0.12483936548233032,
          -0.05209244042634964,
          0.0862647294998169,
          -0.037156883627176285,
          -0.125814750790596,
          0.104685939848423,
          0.034996483474969864,
          -0.02270730398595333,
          0.013949551619589329,
          0.1175917237997055,
          0.01013329066336155,
          -0.033893708139657974,
          0.055283840745687485,
          -0.09840602427721024,
          0.1391192525625229,
          0.04908255860209465,
          -0.022921135649085045,
          0.1351165473461151,
          0.04394206032156944,
          0.0016233414644375443,
          -0.043275535106658936,
          0.009430003352463245,
          -0.1430421769618988,
          0.002535432344302535,
          -0.0689501017332077,
          0.032783392816782,
          0.1230807825922966,
          -0.11730464547872543,
          -0.07067909091711044,
          0.012878508307039738,
          0.06391683220863342,
          -0.08065949380397797,
          -0.022921135649085045,
          -0.057618409395217896,
          0.05622940883040428,
          0.1230807825922966,
          -0.033893708139657974,
          -0.14950864017009735,
          -0.0610295869410038,
          -0.04787306487560272,
          0.007646035868674517,
          -0.1735401153564453,
          0.09525003284215927,
          0.01735682040452957,
          0.0623936727643013,
          0.059038616716861725,
          -0.0009453161619603634,
          0.021997544914484024,
          -0.004243426024913788,
          0.01884467341005802,
          -0.08065949380397797,
          -0.02672506496310234,
          -0.04069577157497406,
          0.160739466547966,
          0.02766495570540428,
          0.027590466663241386,
          0.03296433389186859,
          0.0623936727643013
         ],
         "yaxis": "y2"
        },
        {
         "marker": {
          "color": "#FF7F0E"
         },
         "mode": "lines",
         "name": "angle_min",
         "type": "scatter",
         "xaxis": "x2",
         "y": [
          -0.2094999998807907,
          -0.2094999998807907,
          -0.2094999998807907,
          -0.2094999998807907,
          -0.2094999998807907,
          -0.2094999998807907,
          -0.2094999998807907,
          -0.2094999998807907,
          -0.2094999998807907,
          -0.2094999998807907,
          -0.2094999998807907,
          -0.2094999998807907,
          -0.2094999998807907,
          -0.2094999998807907,
          -0.2094999998807907,
          -0.2094999998807907,
          -0.2094999998807907,
          -0.2094999998807907,
          -0.2094999998807907,
          -0.2094999998807907,
          -0.2094999998807907,
          -0.2094999998807907,
          -0.2094999998807907,
          -0.2094999998807907,
          -0.2094999998807907,
          -0.2094999998807907,
          -0.2094999998807907,
          -0.2094999998807907,
          -0.2094999998807907,
          -0.2094999998807907,
          -0.2094999998807907,
          -0.2094999998807907,
          -0.2094999998807907,
          -0.2094999998807907,
          -0.2094999998807907,
          -0.2094999998807907,
          -0.2094999998807907,
          -0.2094999998807907,
          -0.2094999998807907,
          -0.2094999998807907,
          -0.2094999998807907,
          -0.2094999998807907,
          -0.2094999998807907,
          -0.2094999998807907,
          -0.2094999998807907,
          -0.2094999998807907,
          -0.2094999998807907,
          -0.2094999998807907,
          -0.2094999998807907,
          -0.2094999998807907,
          -0.2094999998807907,
          -0.2094999998807907,
          -0.2094999998807907,
          -0.2094999998807907,
          -0.2094999998807907,
          -0.2094999998807907,
          -0.2094999998807907,
          -0.2094999998807907,
          -0.2094999998807907,
          -0.2094999998807907,
          -0.2094999998807907,
          -0.2094999998807907,
          -0.2094999998807907,
          -0.2094999998807907,
          -0.2094999998807907,
          -0.2094999998807907,
          -0.2094999998807907,
          -0.2094999998807907,
          -0.2094999998807907,
          -0.2094999998807907,
          -0.2094999998807907,
          -0.2094999998807907,
          -0.2094999998807907,
          -0.2094999998807907,
          -0.2094999998807907,
          -0.2094999998807907,
          -0.2094999998807907,
          -0.2094999998807907,
          -0.2094999998807907,
          -0.2094999998807907,
          -0.2094999998807907,
          -0.2094999998807907,
          -0.2094999998807907,
          -0.2094999998807907,
          -0.2094999998807907,
          -0.2094999998807907,
          -0.2094999998807907,
          -0.2094999998807907,
          -0.2094999998807907,
          -0.2094999998807907,
          -0.2094999998807907,
          -0.2094999998807907,
          -0.2094999998807907,
          -0.2094999998807907,
          -0.2094999998807907,
          -0.2094999998807907,
          -0.2094999998807907,
          -0.2094999998807907,
          -0.2094999998807907,
          -0.2094999998807907,
          -0.2094999998807907,
          -0.2094999998807907,
          -0.2094999998807907,
          -0.2094999998807907,
          -0.2094999998807907,
          -0.2094999998807907,
          -0.2094999998807907,
          -0.2094999998807907,
          -0.2094999998807907,
          -0.2094999998807907,
          -0.2094999998807907,
          -0.2094999998807907,
          -0.2094999998807907,
          -0.2094999998807907,
          -0.2094999998807907,
          -0.2094999998807907,
          -0.2094999998807907,
          -0.2094999998807907,
          -0.2094999998807907,
          -0.2094999998807907,
          -0.2094999998807907,
          -0.2094999998807907,
          -0.2094999998807907,
          -0.2094999998807907,
          -0.2094999998807907,
          -0.2094999998807907,
          -0.2094999998807907,
          -0.2094999998807907,
          -0.2094999998807907,
          -0.2094999998807907,
          -0.2094999998807907,
          -0.2094999998807907,
          -0.2094999998807907,
          -0.2094999998807907,
          -0.2094999998807907,
          -0.2094999998807907,
          -0.2094999998807907,
          -0.2094999998807907,
          -0.2094999998807907,
          -0.2094999998807907,
          -0.2094999998807907,
          -0.2094999998807907,
          -0.2094999998807907,
          -0.2094999998807907,
          -0.2094999998807907,
          -0.2094999998807907,
          -0.2094999998807907,
          -0.2094999998807907,
          -0.2094999998807907,
          -0.2094999998807907,
          -0.2094999998807907,
          -0.2094999998807907,
          -0.2094999998807907,
          -0.2094999998807907,
          -0.2094999998807907,
          -0.2094999998807907,
          -0.2094999998807907,
          -0.2094999998807907,
          -0.2094999998807907,
          -0.2094999998807907,
          -0.2094999998807907,
          -0.2094999998807907,
          -0.2094999998807907,
          -0.2094999998807907,
          -0.2094999998807907,
          -0.2094999998807907,
          -0.2094999998807907,
          -0.2094999998807907,
          -0.2094999998807907,
          -0.2094999998807907,
          -0.2094999998807907,
          -0.2094999998807907,
          -0.2094999998807907,
          -0.2094999998807907,
          -0.2094999998807907,
          -0.2094999998807907,
          -0.2094999998807907,
          -0.2094999998807907,
          -0.2094999998807907,
          -0.2094999998807907,
          -0.2094999998807907,
          -0.2094999998807907,
          -0.2094999998807907,
          -0.2094999998807907,
          -0.2094999998807907,
          -0.2094999998807907,
          -0.2094999998807907,
          -0.2094999998807907,
          -0.2094999998807907,
          -0.2094999998807907,
          -0.2094999998807907,
          -0.2094999998807907,
          -0.2094999998807907,
          -0.2094999998807907,
          -0.2094999998807907,
          -0.2094999998807907,
          -0.2094999998807907,
          -0.2094999998807907,
          -0.2094999998807907,
          -0.2094999998807907,
          -0.2094999998807907,
          -0.2094999998807907,
          -0.2094999998807907,
          -0.2094999998807907,
          -0.2094999998807907,
          -0.2094999998807907,
          -0.2094999998807907,
          -0.2094999998807907,
          -0.2094999998807907,
          -0.2094999998807907,
          -0.2094999998807907,
          -0.2094999998807907,
          -0.2094999998807907,
          -0.2094999998807907,
          -0.2094999998807907,
          -0.2094999998807907,
          -0.2094999998807907,
          -0.2094999998807907,
          -0.2094999998807907,
          -0.2094999998807907,
          -0.2094999998807907,
          -0.2094999998807907,
          -0.2094999998807907,
          -0.2094999998807907,
          -0.2094999998807907,
          -0.2094999998807907,
          -0.2094999998807907,
          -0.2094999998807907,
          -0.2094999998807907,
          -0.2094999998807907,
          -0.2094999998807907,
          -0.2094999998807907,
          -0.2094999998807907,
          -0.2094999998807907,
          -0.2094999998807907,
          -0.2094999998807907,
          -0.2094999998807907,
          -0.2094999998807907,
          -0.2094999998807907,
          -0.2094999998807907,
          -0.2094999998807907,
          -0.2094999998807907,
          -0.2094999998807907,
          -0.2094999998807907,
          -0.2094999998807907,
          -0.2094999998807907,
          -0.2094999998807907,
          -0.2094999998807907,
          -0.2094999998807907,
          -0.2094999998807907,
          -0.2094999998807907,
          -0.2094999998807907,
          -0.2094999998807907,
          -0.2094999998807907,
          -0.2094999998807907,
          -0.2094999998807907
         ],
         "yaxis": "y2"
        },
        {
         "marker": {
          "color": "#FF7F0E"
         },
         "mode": "lines",
         "name": "angle_max",
         "type": "scatter",
         "xaxis": "x2",
         "y": [
          0.2094999998807907,
          0.2094999998807907,
          0.2094999998807907,
          0.2094999998807907,
          0.2094999998807907,
          0.2094999998807907,
          0.2094999998807907,
          0.2094999998807907,
          0.2094999998807907,
          0.2094999998807907,
          0.2094999998807907,
          0.2094999998807907,
          0.2094999998807907,
          0.2094999998807907,
          0.2094999998807907,
          0.2094999998807907,
          0.2094999998807907,
          0.2094999998807907,
          0.2094999998807907,
          0.2094999998807907,
          0.2094999998807907,
          0.2094999998807907,
          0.2094999998807907,
          0.2094999998807907,
          0.2094999998807907,
          0.2094999998807907,
          0.2094999998807907,
          0.2094999998807907,
          0.2094999998807907,
          0.2094999998807907,
          0.2094999998807907,
          0.2094999998807907,
          0.2094999998807907,
          0.2094999998807907,
          0.2094999998807907,
          0.2094999998807907,
          0.2094999998807907,
          0.2094999998807907,
          0.2094999998807907,
          0.2094999998807907,
          0.2094999998807907,
          0.2094999998807907,
          0.2094999998807907,
          0.2094999998807907,
          0.2094999998807907,
          0.2094999998807907,
          0.2094999998807907,
          0.2094999998807907,
          0.2094999998807907,
          0.2094999998807907,
          0.2094999998807907,
          0.2094999998807907,
          0.2094999998807907,
          0.2094999998807907,
          0.2094999998807907,
          0.2094999998807907,
          0.2094999998807907,
          0.2094999998807907,
          0.2094999998807907,
          0.2094999998807907,
          0.2094999998807907,
          0.2094999998807907,
          0.2094999998807907,
          0.2094999998807907,
          0.2094999998807907,
          0.2094999998807907,
          0.2094999998807907,
          0.2094999998807907,
          0.2094999998807907,
          0.2094999998807907,
          0.2094999998807907,
          0.2094999998807907,
          0.2094999998807907,
          0.2094999998807907,
          0.2094999998807907,
          0.2094999998807907,
          0.2094999998807907,
          0.2094999998807907,
          0.2094999998807907,
          0.2094999998807907,
          0.2094999998807907,
          0.2094999998807907,
          0.2094999998807907,
          0.2094999998807907,
          0.2094999998807907,
          0.2094999998807907,
          0.2094999998807907,
          0.2094999998807907,
          0.2094999998807907,
          0.2094999998807907,
          0.2094999998807907,
          0.2094999998807907,
          0.2094999998807907,
          0.2094999998807907,
          0.2094999998807907,
          0.2094999998807907,
          0.2094999998807907,
          0.2094999998807907,
          0.2094999998807907,
          0.2094999998807907,
          0.2094999998807907,
          0.2094999998807907,
          0.2094999998807907,
          0.2094999998807907,
          0.2094999998807907,
          0.2094999998807907,
          0.2094999998807907,
          0.2094999998807907,
          0.2094999998807907,
          0.2094999998807907,
          0.2094999998807907,
          0.2094999998807907,
          0.2094999998807907,
          0.2094999998807907,
          0.2094999998807907,
          0.2094999998807907,
          0.2094999998807907,
          0.2094999998807907,
          0.2094999998807907,
          0.2094999998807907,
          0.2094999998807907,
          0.2094999998807907,
          0.2094999998807907,
          0.2094999998807907,
          0.2094999998807907,
          0.2094999998807907,
          0.2094999998807907,
          0.2094999998807907,
          0.2094999998807907,
          0.2094999998807907,
          0.2094999998807907,
          0.2094999998807907,
          0.2094999998807907,
          0.2094999998807907,
          0.2094999998807907,
          0.2094999998807907,
          0.2094999998807907,
          0.2094999998807907,
          0.2094999998807907,
          0.2094999998807907,
          0.2094999998807907,
          0.2094999998807907,
          0.2094999998807907,
          0.2094999998807907,
          0.2094999998807907,
          0.2094999998807907,
          0.2094999998807907,
          0.2094999998807907,
          0.2094999998807907,
          0.2094999998807907,
          0.2094999998807907,
          0.2094999998807907,
          0.2094999998807907,
          0.2094999998807907,
          0.2094999998807907,
          0.2094999998807907,
          0.2094999998807907,
          0.2094999998807907,
          0.2094999998807907,
          0.2094999998807907,
          0.2094999998807907,
          0.2094999998807907,
          0.2094999998807907,
          0.2094999998807907,
          0.2094999998807907,
          0.2094999998807907,
          0.2094999998807907,
          0.2094999998807907,
          0.2094999998807907,
          0.2094999998807907,
          0.2094999998807907,
          0.2094999998807907,
          0.2094999998807907,
          0.2094999998807907,
          0.2094999998807907,
          0.2094999998807907,
          0.2094999998807907,
          0.2094999998807907,
          0.2094999998807907,
          0.2094999998807907,
          0.2094999998807907,
          0.2094999998807907,
          0.2094999998807907,
          0.2094999998807907,
          0.2094999998807907,
          0.2094999998807907,
          0.2094999998807907,
          0.2094999998807907,
          0.2094999998807907,
          0.2094999998807907,
          0.2094999998807907,
          0.2094999998807907,
          0.2094999998807907,
          0.2094999998807907,
          0.2094999998807907,
          0.2094999998807907,
          0.2094999998807907,
          0.2094999998807907,
          0.2094999998807907,
          0.2094999998807907,
          0.2094999998807907,
          0.2094999998807907,
          0.2094999998807907,
          0.2094999998807907,
          0.2094999998807907,
          0.2094999998807907,
          0.2094999998807907,
          0.2094999998807907,
          0.2094999998807907,
          0.2094999998807907,
          0.2094999998807907,
          0.2094999998807907,
          0.2094999998807907,
          0.2094999998807907,
          0.2094999998807907,
          0.2094999998807907,
          0.2094999998807907,
          0.2094999998807907,
          0.2094999998807907,
          0.2094999998807907,
          0.2094999998807907,
          0.2094999998807907,
          0.2094999998807907,
          0.2094999998807907,
          0.2094999998807907,
          0.2094999998807907,
          0.2094999998807907,
          0.2094999998807907,
          0.2094999998807907,
          0.2094999998807907,
          0.2094999998807907,
          0.2094999998807907,
          0.2094999998807907,
          0.2094999998807907,
          0.2094999998807907,
          0.2094999998807907,
          0.2094999998807907,
          0.2094999998807907,
          0.2094999998807907,
          0.2094999998807907,
          0.2094999998807907,
          0.2094999998807907,
          0.2094999998807907,
          0.2094999998807907,
          0.2094999998807907,
          0.2094999998807907,
          0.2094999998807907,
          0.2094999998807907,
          0.2094999998807907,
          0.2094999998807907,
          0.2094999998807907,
          0.2094999998807907,
          0.2094999998807907,
          0.2094999998807907,
          0.2094999998807907,
          0.2094999998807907
         ],
         "yaxis": "y2"
        }
       ],
       "layout": {
        "annotations": [
         {
          "font": {
           "size": 16
          },
          "showarrow": false,
          "text": "Cart x-position",
          "x": 0.5,
          "xanchor": "center",
          "xref": "paper",
          "y": 1,
          "yanchor": "bottom",
          "yref": "paper"
         },
         {
          "font": {
           "size": 16
          },
          "showarrow": false,
          "text": "Pole angle",
          "x": 0.5,
          "xanchor": "center",
          "xref": "paper",
          "y": 0.375,
          "yanchor": "bottom",
          "yref": "paper"
         },
         {
          "showarrow": false,
          "text": "Min posn",
          "x": 268.8,
          "xref": "x",
          "y": -2.4,
          "yref": "y"
         },
         {
          "showarrow": false,
          "text": "Min angle",
          "x": 268.8,
          "xref": "x2",
          "y": -0.2095,
          "yref": "y2"
         },
         {
          "showarrow": false,
          "text": "Max posn",
          "x": 268.8,
          "xref": "x",
          "y": 2.4,
          "yref": "y"
         },
         {
          "showarrow": false,
          "text": "Max angle",
          "x": 268.8,
          "xref": "x2",
          "y": 0.2095,
          "yref": "y2"
         }
        ],
        "height": 450,
        "hovermode": "x unified",
        "margin": {
         "t": 120
        },
        "shapes": [
         {
          "line": {
           "color": "black",
           "dash": "dash",
           "width": 2
          },
          "type": "line",
          "x0": 15,
          "x1": 15,
          "xref": "x",
          "y0": 0,
          "y1": 1,
          "yref": "y domain"
         },
         {
          "line": {
           "color": "black",
           "dash": "dash",
           "width": 2
          },
          "type": "line",
          "x0": 24,
          "x1": 24,
          "xref": "x",
          "y0": 0,
          "y1": 1,
          "yref": "y domain"
         },
         {
          "line": {
           "color": "black",
           "dash": "dash",
           "width": 2
          },
          "type": "line",
          "x0": 29,
          "x1": 29,
          "xref": "x",
          "y0": 0,
          "y1": 1,
          "yref": "y domain"
         },
         {
          "line": {
           "color": "black",
           "dash": "dash",
           "width": 2
          },
          "type": "line",
          "x0": 76,
          "x1": 76,
          "xref": "x",
          "y0": 0,
          "y1": 1,
          "yref": "y domain"
         },
         {
          "line": {
           "color": "black",
           "dash": "dash",
           "width": 2
          },
          "type": "line",
          "x0": 80,
          "x1": 80,
          "xref": "x",
          "y0": 0,
          "y1": 1,
          "yref": "y domain"
         },
         {
          "line": {
           "color": "black",
           "dash": "dash",
           "width": 2
          },
          "type": "line",
          "x0": 87,
          "x1": 87,
          "xref": "x",
          "y0": 0,
          "y1": 1,
          "yref": "y domain"
         },
         {
          "line": {
           "color": "black",
           "dash": "dash",
           "width": 2
          },
          "type": "line",
          "x0": 89,
          "x1": 89,
          "xref": "x",
          "y0": 0,
          "y1": 1,
          "yref": "y domain"
         },
         {
          "line": {
           "color": "black",
           "dash": "dash",
           "width": 2
          },
          "type": "line",
          "x0": 109,
          "x1": 109,
          "xref": "x",
          "y0": 0,
          "y1": 1,
          "yref": "y domain"
         },
         {
          "line": {
           "color": "black",
           "dash": "dash",
           "width": 2
          },
          "type": "line",
          "x0": 123,
          "x1": 123,
          "xref": "x",
          "y0": 0,
          "y1": 1,
          "yref": "y domain"
         },
         {
          "line": {
           "color": "black",
           "dash": "dash",
           "width": 2
          },
          "type": "line",
          "x0": 131,
          "x1": 131,
          "xref": "x",
          "y0": 0,
          "y1": 1,
          "yref": "y domain"
         },
         {
          "line": {
           "color": "black",
           "dash": "dash",
           "width": 2
          },
          "type": "line",
          "x0": 147,
          "x1": 147,
          "xref": "x",
          "y0": 0,
          "y1": 1,
          "yref": "y domain"
         },
         {
          "line": {
           "color": "black",
           "dash": "dash",
           "width": 2
          },
          "type": "line",
          "x0": 148,
          "x1": 148,
          "xref": "x",
          "y0": 0,
          "y1": 1,
          "yref": "y domain"
         },
         {
          "line": {
           "color": "black",
           "dash": "dash",
           "width": 2
          },
          "type": "line",
          "x0": 179,
          "x1": 179,
          "xref": "x",
          "y0": 0,
          "y1": 1,
          "yref": "y domain"
         },
         {
          "line": {
           "color": "black",
           "dash": "dash",
           "width": 2
          },
          "type": "line",
          "x0": 15,
          "x1": 15,
          "xref": "x2",
          "y0": 0,
          "y1": 1,
          "yref": "y2 domain"
         },
         {
          "line": {
           "color": "black",
           "dash": "dash",
           "width": 2
          },
          "type": "line",
          "x0": 24,
          "x1": 24,
          "xref": "x2",
          "y0": 0,
          "y1": 1,
          "yref": "y2 domain"
         },
         {
          "line": {
           "color": "black",
           "dash": "dash",
           "width": 2
          },
          "type": "line",
          "x0": 29,
          "x1": 29,
          "xref": "x2",
          "y0": 0,
          "y1": 1,
          "yref": "y2 domain"
         },
         {
          "line": {
           "color": "black",
           "dash": "dash",
           "width": 2
          },
          "type": "line",
          "x0": 76,
          "x1": 76,
          "xref": "x2",
          "y0": 0,
          "y1": 1,
          "yref": "y2 domain"
         },
         {
          "line": {
           "color": "black",
           "dash": "dash",
           "width": 2
          },
          "type": "line",
          "x0": 80,
          "x1": 80,
          "xref": "x2",
          "y0": 0,
          "y1": 1,
          "yref": "y2 domain"
         },
         {
          "line": {
           "color": "black",
           "dash": "dash",
           "width": 2
          },
          "type": "line",
          "x0": 87,
          "x1": 87,
          "xref": "x2",
          "y0": 0,
          "y1": 1,
          "yref": "y2 domain"
         },
         {
          "line": {
           "color": "black",
           "dash": "dash",
           "width": 2
          },
          "type": "line",
          "x0": 89,
          "x1": 89,
          "xref": "x2",
          "y0": 0,
          "y1": 1,
          "yref": "y2 domain"
         },
         {
          "line": {
           "color": "black",
           "dash": "dash",
           "width": 2
          },
          "type": "line",
          "x0": 109,
          "x1": 109,
          "xref": "x2",
          "y0": 0,
          "y1": 1,
          "yref": "y2 domain"
         },
         {
          "line": {
           "color": "black",
           "dash": "dash",
           "width": 2
          },
          "type": "line",
          "x0": 123,
          "x1": 123,
          "xref": "x2",
          "y0": 0,
          "y1": 1,
          "yref": "y2 domain"
         },
         {
          "line": {
           "color": "black",
           "dash": "dash",
           "width": 2
          },
          "type": "line",
          "x0": 131,
          "x1": 131,
          "xref": "x2",
          "y0": 0,
          "y1": 1,
          "yref": "y2 domain"
         },
         {
          "line": {
           "color": "black",
           "dash": "dash",
           "width": 2
          },
          "type": "line",
          "x0": 147,
          "x1": 147,
          "xref": "x2",
          "y0": 0,
          "y1": 1,
          "yref": "y2 domain"
         },
         {
          "line": {
           "color": "black",
           "dash": "dash",
           "width": 2
          },
          "type": "line",
          "x0": 148,
          "x1": 148,
          "xref": "x2",
          "y0": 0,
          "y1": 1,
          "yref": "y2 domain"
         },
         {
          "line": {
           "color": "black",
           "dash": "dash",
           "width": 2
          },
          "type": "line",
          "x0": 179,
          "x1": 179,
          "xref": "x2",
          "y0": 0,
          "y1": 1,
          "yref": "y2 domain"
         }
        ],
        "showlegend": false,
        "template": {
         "data": {
          "bar": [
           {
            "error_x": {
             "color": "rgb(36,36,36)"
            },
            "error_y": {
             "color": "rgb(36,36,36)"
            },
            "marker": {
             "line": {
              "color": "white",
              "width": 0.5
             },
             "pattern": {
              "fillmode": "overlay",
              "size": 10,
              "solidity": 0.2
             }
            },
            "type": "bar"
           }
          ],
          "barpolar": [
           {
            "marker": {
             "line": {
              "color": "white",
              "width": 0.5
             },
             "pattern": {
              "fillmode": "overlay",
              "size": 10,
              "solidity": 0.2
             }
            },
            "type": "barpolar"
           }
          ],
          "carpet": [
           {
            "aaxis": {
             "endlinecolor": "rgb(36,36,36)",
             "gridcolor": "white",
             "linecolor": "white",
             "minorgridcolor": "white",
             "startlinecolor": "rgb(36,36,36)"
            },
            "baxis": {
             "endlinecolor": "rgb(36,36,36)",
             "gridcolor": "white",
             "linecolor": "white",
             "minorgridcolor": "white",
             "startlinecolor": "rgb(36,36,36)"
            },
            "type": "carpet"
           }
          ],
          "choropleth": [
           {
            "colorbar": {
             "outlinewidth": 1,
             "tickcolor": "rgb(36,36,36)",
             "ticks": "outside"
            },
            "type": "choropleth"
           }
          ],
          "contour": [
           {
            "colorbar": {
             "outlinewidth": 1,
             "tickcolor": "rgb(36,36,36)",
             "ticks": "outside"
            },
            "colorscale": [
             [
              0,
              "#440154"
             ],
             [
              0.1111111111111111,
              "#482878"
             ],
             [
              0.2222222222222222,
              "#3e4989"
             ],
             [
              0.3333333333333333,
              "#31688e"
             ],
             [
              0.4444444444444444,
              "#26828e"
             ],
             [
              0.5555555555555556,
              "#1f9e89"
             ],
             [
              0.6666666666666666,
              "#35b779"
             ],
             [
              0.7777777777777778,
              "#6ece58"
             ],
             [
              0.8888888888888888,
              "#b5de2b"
             ],
             [
              1,
              "#fde725"
             ]
            ],
            "type": "contour"
           }
          ],
          "contourcarpet": [
           {
            "colorbar": {
             "outlinewidth": 1,
             "tickcolor": "rgb(36,36,36)",
             "ticks": "outside"
            },
            "type": "contourcarpet"
           }
          ],
          "heatmap": [
           {
            "colorbar": {
             "outlinewidth": 1,
             "tickcolor": "rgb(36,36,36)",
             "ticks": "outside"
            },
            "colorscale": [
             [
              0,
              "#440154"
             ],
             [
              0.1111111111111111,
              "#482878"
             ],
             [
              0.2222222222222222,
              "#3e4989"
             ],
             [
              0.3333333333333333,
              "#31688e"
             ],
             [
              0.4444444444444444,
              "#26828e"
             ],
             [
              0.5555555555555556,
              "#1f9e89"
             ],
             [
              0.6666666666666666,
              "#35b779"
             ],
             [
              0.7777777777777778,
              "#6ece58"
             ],
             [
              0.8888888888888888,
              "#b5de2b"
             ],
             [
              1,
              "#fde725"
             ]
            ],
            "type": "heatmap"
           }
          ],
          "heatmapgl": [
           {
            "colorbar": {
             "outlinewidth": 1,
             "tickcolor": "rgb(36,36,36)",
             "ticks": "outside"
            },
            "colorscale": [
             [
              0,
              "#440154"
             ],
             [
              0.1111111111111111,
              "#482878"
             ],
             [
              0.2222222222222222,
              "#3e4989"
             ],
             [
              0.3333333333333333,
              "#31688e"
             ],
             [
              0.4444444444444444,
              "#26828e"
             ],
             [
              0.5555555555555556,
              "#1f9e89"
             ],
             [
              0.6666666666666666,
              "#35b779"
             ],
             [
              0.7777777777777778,
              "#6ece58"
             ],
             [
              0.8888888888888888,
              "#b5de2b"
             ],
             [
              1,
              "#fde725"
             ]
            ],
            "type": "heatmapgl"
           }
          ],
          "histogram": [
           {
            "marker": {
             "line": {
              "color": "white",
              "width": 0.6
             }
            },
            "type": "histogram"
           }
          ],
          "histogram2d": [
           {
            "colorbar": {
             "outlinewidth": 1,
             "tickcolor": "rgb(36,36,36)",
             "ticks": "outside"
            },
            "colorscale": [
             [
              0,
              "#440154"
             ],
             [
              0.1111111111111111,
              "#482878"
             ],
             [
              0.2222222222222222,
              "#3e4989"
             ],
             [
              0.3333333333333333,
              "#31688e"
             ],
             [
              0.4444444444444444,
              "#26828e"
             ],
             [
              0.5555555555555556,
              "#1f9e89"
             ],
             [
              0.6666666666666666,
              "#35b779"
             ],
             [
              0.7777777777777778,
              "#6ece58"
             ],
             [
              0.8888888888888888,
              "#b5de2b"
             ],
             [
              1,
              "#fde725"
             ]
            ],
            "type": "histogram2d"
           }
          ],
          "histogram2dcontour": [
           {
            "colorbar": {
             "outlinewidth": 1,
             "tickcolor": "rgb(36,36,36)",
             "ticks": "outside"
            },
            "colorscale": [
             [
              0,
              "#440154"
             ],
             [
              0.1111111111111111,
              "#482878"
             ],
             [
              0.2222222222222222,
              "#3e4989"
             ],
             [
              0.3333333333333333,
              "#31688e"
             ],
             [
              0.4444444444444444,
              "#26828e"
             ],
             [
              0.5555555555555556,
              "#1f9e89"
             ],
             [
              0.6666666666666666,
              "#35b779"
             ],
             [
              0.7777777777777778,
              "#6ece58"
             ],
             [
              0.8888888888888888,
              "#b5de2b"
             ],
             [
              1,
              "#fde725"
             ]
            ],
            "type": "histogram2dcontour"
           }
          ],
          "mesh3d": [
           {
            "colorbar": {
             "outlinewidth": 1,
             "tickcolor": "rgb(36,36,36)",
             "ticks": "outside"
            },
            "type": "mesh3d"
           }
          ],
          "parcoords": [
           {
            "line": {
             "colorbar": {
              "outlinewidth": 1,
              "tickcolor": "rgb(36,36,36)",
              "ticks": "outside"
             }
            },
            "type": "parcoords"
           }
          ],
          "pie": [
           {
            "automargin": true,
            "type": "pie"
           }
          ],
          "scatter": [
           {
            "fillpattern": {
             "fillmode": "overlay",
             "size": 10,
             "solidity": 0.2
            },
            "type": "scatter"
           }
          ],
          "scatter3d": [
           {
            "line": {
             "colorbar": {
              "outlinewidth": 1,
              "tickcolor": "rgb(36,36,36)",
              "ticks": "outside"
             }
            },
            "marker": {
             "colorbar": {
              "outlinewidth": 1,
              "tickcolor": "rgb(36,36,36)",
              "ticks": "outside"
             }
            },
            "type": "scatter3d"
           }
          ],
          "scattercarpet": [
           {
            "marker": {
             "colorbar": {
              "outlinewidth": 1,
              "tickcolor": "rgb(36,36,36)",
              "ticks": "outside"
             }
            },
            "type": "scattercarpet"
           }
          ],
          "scattergeo": [
           {
            "marker": {
             "colorbar": {
              "outlinewidth": 1,
              "tickcolor": "rgb(36,36,36)",
              "ticks": "outside"
             }
            },
            "type": "scattergeo"
           }
          ],
          "scattergl": [
           {
            "marker": {
             "colorbar": {
              "outlinewidth": 1,
              "tickcolor": "rgb(36,36,36)",
              "ticks": "outside"
             }
            },
            "type": "scattergl"
           }
          ],
          "scattermapbox": [
           {
            "marker": {
             "colorbar": {
              "outlinewidth": 1,
              "tickcolor": "rgb(36,36,36)",
              "ticks": "outside"
             }
            },
            "type": "scattermapbox"
           }
          ],
          "scatterpolar": [
           {
            "marker": {
             "colorbar": {
              "outlinewidth": 1,
              "tickcolor": "rgb(36,36,36)",
              "ticks": "outside"
             }
            },
            "type": "scatterpolar"
           }
          ],
          "scatterpolargl": [
           {
            "marker": {
             "colorbar": {
              "outlinewidth": 1,
              "tickcolor": "rgb(36,36,36)",
              "ticks": "outside"
             }
            },
            "type": "scatterpolargl"
           }
          ],
          "scatterternary": [
           {
            "marker": {
             "colorbar": {
              "outlinewidth": 1,
              "tickcolor": "rgb(36,36,36)",
              "ticks": "outside"
             }
            },
            "type": "scatterternary"
           }
          ],
          "surface": [
           {
            "colorbar": {
             "outlinewidth": 1,
             "tickcolor": "rgb(36,36,36)",
             "ticks": "outside"
            },
            "colorscale": [
             [
              0,
              "#440154"
             ],
             [
              0.1111111111111111,
              "#482878"
             ],
             [
              0.2222222222222222,
              "#3e4989"
             ],
             [
              0.3333333333333333,
              "#31688e"
             ],
             [
              0.4444444444444444,
              "#26828e"
             ],
             [
              0.5555555555555556,
              "#1f9e89"
             ],
             [
              0.6666666666666666,
              "#35b779"
             ],
             [
              0.7777777777777778,
              "#6ece58"
             ],
             [
              0.8888888888888888,
              "#b5de2b"
             ],
             [
              1,
              "#fde725"
             ]
            ],
            "type": "surface"
           }
          ],
          "table": [
           {
            "cells": {
             "fill": {
              "color": "rgb(237,237,237)"
             },
             "line": {
              "color": "white"
             }
            },
            "header": {
             "fill": {
              "color": "rgb(217,217,217)"
             },
             "line": {
              "color": "white"
             }
            },
            "type": "table"
           }
          ]
         },
         "layout": {
          "annotationdefaults": {
           "arrowhead": 0,
           "arrowwidth": 1
          },
          "autotypenumbers": "strict",
          "coloraxis": {
           "colorbar": {
            "outlinewidth": 1,
            "tickcolor": "rgb(36,36,36)",
            "ticks": "outside"
           }
          },
          "colorscale": {
           "diverging": [
            [
             0,
             "rgb(103,0,31)"
            ],
            [
             0.1,
             "rgb(178,24,43)"
            ],
            [
             0.2,
             "rgb(214,96,77)"
            ],
            [
             0.3,
             "rgb(244,165,130)"
            ],
            [
             0.4,
             "rgb(253,219,199)"
            ],
            [
             0.5,
             "rgb(247,247,247)"
            ],
            [
             0.6,
             "rgb(209,229,240)"
            ],
            [
             0.7,
             "rgb(146,197,222)"
            ],
            [
             0.8,
             "rgb(67,147,195)"
            ],
            [
             0.9,
             "rgb(33,102,172)"
            ],
            [
             1,
             "rgb(5,48,97)"
            ]
           ],
           "sequential": [
            [
             0,
             "#440154"
            ],
            [
             0.1111111111111111,
             "#482878"
            ],
            [
             0.2222222222222222,
             "#3e4989"
            ],
            [
             0.3333333333333333,
             "#31688e"
            ],
            [
             0.4444444444444444,
             "#26828e"
            ],
            [
             0.5555555555555556,
             "#1f9e89"
            ],
            [
             0.6666666666666666,
             "#35b779"
            ],
            [
             0.7777777777777778,
             "#6ece58"
            ],
            [
             0.8888888888888888,
             "#b5de2b"
            ],
            [
             1,
             "#fde725"
            ]
           ],
           "sequentialminus": [
            [
             0,
             "#440154"
            ],
            [
             0.1111111111111111,
             "#482878"
            ],
            [
             0.2222222222222222,
             "#3e4989"
            ],
            [
             0.3333333333333333,
             "#31688e"
            ],
            [
             0.4444444444444444,
             "#26828e"
            ],
            [
             0.5555555555555556,
             "#1f9e89"
            ],
            [
             0.6666666666666666,
             "#35b779"
            ],
            [
             0.7777777777777778,
             "#6ece58"
            ],
            [
             0.8888888888888888,
             "#b5de2b"
            ],
            [
             1,
             "#fde725"
            ]
           ]
          },
          "colorway": [
           "#1F77B4",
           "#FF7F0E",
           "#2CA02C",
           "#D62728",
           "#9467BD",
           "#8C564B",
           "#E377C2",
           "#7F7F7F",
           "#BCBD22",
           "#17BECF"
          ],
          "font": {
           "color": "rgb(36,36,36)"
          },
          "geo": {
           "bgcolor": "white",
           "lakecolor": "white",
           "landcolor": "white",
           "showlakes": true,
           "showland": true,
           "subunitcolor": "white"
          },
          "hoverlabel": {
           "align": "left"
          },
          "hovermode": "closest",
          "mapbox": {
           "style": "light"
          },
          "paper_bgcolor": "white",
          "plot_bgcolor": "white",
          "polar": {
           "angularaxis": {
            "gridcolor": "rgb(232,232,232)",
            "linecolor": "rgb(36,36,36)",
            "showgrid": false,
            "showline": true,
            "ticks": "outside"
           },
           "bgcolor": "white",
           "radialaxis": {
            "gridcolor": "rgb(232,232,232)",
            "linecolor": "rgb(36,36,36)",
            "showgrid": false,
            "showline": true,
            "ticks": "outside"
           }
          },
          "scene": {
           "xaxis": {
            "backgroundcolor": "white",
            "gridcolor": "rgb(232,232,232)",
            "gridwidth": 2,
            "linecolor": "rgb(36,36,36)",
            "showbackground": true,
            "showgrid": false,
            "showline": true,
            "ticks": "outside",
            "zeroline": false,
            "zerolinecolor": "rgb(36,36,36)"
           },
           "yaxis": {
            "backgroundcolor": "white",
            "gridcolor": "rgb(232,232,232)",
            "gridwidth": 2,
            "linecolor": "rgb(36,36,36)",
            "showbackground": true,
            "showgrid": false,
            "showline": true,
            "ticks": "outside",
            "zeroline": false,
            "zerolinecolor": "rgb(36,36,36)"
           },
           "zaxis": {
            "backgroundcolor": "white",
            "gridcolor": "rgb(232,232,232)",
            "gridwidth": 2,
            "linecolor": "rgb(36,36,36)",
            "showbackground": true,
            "showgrid": false,
            "showline": true,
            "ticks": "outside",
            "zeroline": false,
            "zerolinecolor": "rgb(36,36,36)"
           }
          },
          "shapedefaults": {
           "fillcolor": "black",
           "line": {
            "width": 0
           },
           "opacity": 0.3
          },
          "ternary": {
           "aaxis": {
            "gridcolor": "rgb(232,232,232)",
            "linecolor": "rgb(36,36,36)",
            "showgrid": false,
            "showline": true,
            "ticks": "outside"
           },
           "baxis": {
            "gridcolor": "rgb(232,232,232)",
            "linecolor": "rgb(36,36,36)",
            "showgrid": false,
            "showline": true,
            "ticks": "outside"
           },
           "bgcolor": "white",
           "caxis": {
            "gridcolor": "rgb(232,232,232)",
            "linecolor": "rgb(36,36,36)",
            "showgrid": false,
            "showline": true,
            "ticks": "outside"
           }
          },
          "title": {
           "x": 0.05
          },
          "xaxis": {
           "automargin": true,
           "gridcolor": "rgb(232,232,232)",
           "linecolor": "rgb(36,36,36)",
           "showgrid": false,
           "showline": true,
           "ticks": "outside",
           "title": {
            "standoff": 15
           },
           "zeroline": false,
           "zerolinecolor": "rgb(36,36,36)"
          },
          "yaxis": {
           "automargin": true,
           "gridcolor": "rgb(232,232,232)",
           "linecolor": "rgb(36,36,36)",
           "showgrid": false,
           "showline": true,
           "ticks": "outside",
           "title": {
            "standoff": 15
           },
           "zeroline": false,
           "zerolinecolor": "rgb(36,36,36)"
          }
         }
        },
        "title": {
         "text": "Current obs s<sub>t</sub> (sampled)<br>this is what gets fed into our model for training",
         "y": 0.9
        },
        "width": 800,
        "xaxis": {
         "anchor": "y",
         "domain": [
          0,
          1
         ]
        },
        "xaxis2": {
         "anchor": "y2",
         "domain": [
          0,
          1
         ]
        },
        "yaxis": {
         "anchor": "x",
         "domain": [
          0.625,
          1
         ]
        },
        "yaxis2": {
         "anchor": "x2",
         "domain": [
          0,
          0.375
         ]
        }
       }
      }
     },
     "metadata": {},
     "output_type": "display_data"
    }
   ],
   "source": [
    "buffer = ReplayBuffer(num_envs=1, obs_shape=(4,), action_shape=(), buffer_size=256, seed=0)\n",
    "envs = gym.vector.SyncVectorEnv([make_env(\"CartPole-v1\", 0, 0, \"test\")])\n",
    "obs, infos = envs.reset()\n",
    "\n",
    "for i in range(256):\n",
    "    # Choose random action, and take a step in the environment\n",
    "    actions = envs.action_space.sample()\n",
    "    next_obs, rewards, terminated, truncated, infos = envs.step(actions)\n",
    "\n",
    "    # print(infos)\n",
    "\n",
    "    # Get `real_next_obs` by finding all environments where we terminated & replacing `next_obs` with the actual terminal states\n",
    "    true_next_obs = next_obs.copy()\n",
    "    for n in range(envs.num_envs):\n",
    "        if (terminated | truncated)[n]:\n",
    "            true_next_obs[n] = infos[\"final_observation\"][n]\n",
    "\n",
    "    # Add experience to buffer, as long as we didn't just finish an episode (so obs & next_obs are from the same episode)\n",
    "    buffer.add(obs, actions, rewards, terminated, true_next_obs)\n",
    "    obs = next_obs\n",
    "\n",
    "sample = buffer.sample(256, device=\"cpu\")\n",
    "\n",
    "plot_cartpole_obs_and_dones(\n",
    "    buffer.obs,\n",
    "    buffer.terminated,\n",
    "    title=\"Current obs s<sub>t</sub><br>so when d<sub>t+1</sub> = 1, these are the states just before termination\",\n",
    ")\n",
    "\n",
    "plot_cartpole_obs_and_dones(\n",
    "    buffer.next_obs,\n",
    "    buffer.terminated,\n",
    "    title=\"Next obs s<sub>t+1</sub><br>so when d<sub>t+1</sub> = 1, these are the terminated states\",\n",
    ")\n",
    "\n",
    "plot_cartpole_obs_and_dones(\n",
    "    sample.obs,\n",
    "    sample.terminated,\n",
    "    title=\"Current obs s<sub>t</sub> (sampled)<br>this is what gets fed into our model for training\",\n",
    ")"
   ]
  },
  {
   "cell_type": "markdown",
   "metadata": {},
   "source": [
    "## Exploration\n",
    "\n",
    "DQN makes no attempt to explore intelligently. The exploration strategy is the same as\n",
    "for Q-Learning: agents take a random action with probability epsilon, but now we gradually\n",
    "decrease epsilon. The Q-network is also randomly initialized (rather than initialized with zeros),\n",
    "so its predictions of what is the best action to take are also pretty random to start.\n",
    "\n",
    "Some games like [Montezuma's Revenge](https://paperswithcode.com/task/montezumas-revenge) have sparse rewards that require more advanced exploration methods to obtain. The player is required to collect specific keys to unlock specific doors, but unlike humans, DQN has no prior knowledge about what a key or a door is, and it turns out that bumbling around randomly has too low of a probability of correctly matching a key to its door. Even if the agent does manage to do this, the long separation between finding the key and going to the door makes it hard to learn that picking the key up was important.\n",
    "\n",
    "As a result, DQN scored an embarrassing 0% of average human performance on this game.\n",
    "\n",
    "### Reward Shaping\n",
    "\n",
    "One solution to sparse rewards is to use human knowledge to define auxillary reward functions that are more dense and made the problem easier (in exchange for leaking in side knowledge and making\n",
    "the algorithm more specific to the problem at hand). What could possibly go wrong?\n",
    "\n",
    "The canonical example is for a game called [CoastRunners](https://openai.com/blog/faulty-reward-functions/), where the goal was given to maximize the\n",
    "score (hoping that the agent would learn to race around the map). Instead, it found it could\n",
    "gain more score by driving in a loop picking up power-ups just as they respawn, crashing and\n",
    "setting the boat alight in the process.\n",
    "\n",
    "### Reward Hacking\n",
    "\n",
    "For Montezuma's Revenge, the reward was shaped by giving a small reward for\n",
    "picking up the key.\n",
    "One time this was tried, the reward was given slightly too early and the agent learned it could go close to the key without quite picking it up, obtain the auxillary reward, and then back up and repeat.\n",
    "\n",
    "[![Montezuma Reward Hacking](https://img.youtube.com/vi/_sFp1ffKIc8/0.jpg)](https://www.youtube.com/watch?v=_sFp1ffKIc8 \"Montezuma Reward Hacking\")\n",
    "\n",
    "A collected list of examples of Reward Hacking can be found [here](https://docs.google.com/spreadsheets/d/e/2PACX-1vRPiprOaC3HsCf5Tuum8bRfzYUiKLRqJmbOoC-32JorNdfyTiRRsR7Ea5eWtvsWzuxo8bjOxCG84dAg/pubhtml).\n",
    "\n",
    "\n",
    "### Advanced Exploration\n",
    "\n",
    "It would be better if the agent didn't require these auxillary rewards to be hardcoded by humans,\n",
    "but instead reply on other signals from the environment that a state might be worth exploring. One idea is that a state which is \"surprising\" or \"novel\" (according to the agent's current belief\n",
    "of how the environment works) in some sense might be valuable. Designing an agent to be\n",
    "innately curious presents a potential solution to exploration, as the agent will focus exploration\n",
    "in areas it is unfamiliar with. In 2018, OpenAI released [Random Network Distillation](https://openai.com/blog/reinforcement-learning-with-prediction-based-rewards/) which made progress in formalizing this notion, by measuring the agent's ability to predict the output of a neural network\n",
    "on visited states. States that are hard to predict are poorly explored, and thus highly rewarded.\n",
    "In 2019, an excellent paper [First return, then explore](https://arxiv.org/pdf/2004.12919v6.pdf) found an even better approach. Such reward shaping can also be gamed, leading to the\n",
    "noisy TV problem, where agents that seek novelty become entranced by a source of randomness in the\n",
    "environment (like a analog TV out of tune displaying white noise), and ignore everything else\n",
    "in the environment."
   ]
  },
  {
   "cell_type": "markdown",
   "metadata": {},
   "source": [
    "### Exercise - implement linear scheduler\n",
    "\n",
    "> ```yaml\n",
    "> Difficulty: 🔴⚪⚪⚪⚪\n",
    "> Importance: 🔵🔵⚪⚪⚪\n",
    "> \n",
    "> You should spend up to 5-10 minutes on this exercise.\n",
    "> ```\n",
    "\n",
    "For now, implement the basic linearly decreasing exploration schedule."
   ]
  },
  {
   "cell_type": "code",
   "execution_count": 14,
   "metadata": {},
   "outputs": [
    {
     "data": {
      "application/vnd.plotly.v1+json": {
       "config": {
        "plotlyServerURL": "https://plot.ly"
       },
       "data": [
        {
         "hovertemplate": "steps=%{x}<br>epsilon=%{y}<extra></extra>",
         "legendgroup": "",
         "line": {
          "color": "#636efa",
          "dash": "solid"
         },
         "marker": {
          "symbol": "circle"
         },
         "mode": "lines",
         "name": "",
         "orientation": "v",
         "showlegend": false,
         "type": "scatter",
         "x": [
          0,
          1,
          2,
          3,
          4,
          5,
          6,
          7,
          8,
          9,
          10,
          11,
          12,
          13,
          14,
          15,
          16,
          17,
          18,
          19,
          20,
          21,
          22,
          23,
          24,
          25,
          26,
          27,
          28,
          29,
          30,
          31,
          32,
          33,
          34,
          35,
          36,
          37,
          38,
          39,
          40,
          41,
          42,
          43,
          44,
          45,
          46,
          47,
          48,
          49,
          50,
          51,
          52,
          53,
          54,
          55,
          56,
          57,
          58,
          59,
          60,
          61,
          62,
          63,
          64,
          65,
          66,
          67,
          68,
          69,
          70,
          71,
          72,
          73,
          74,
          75,
          76,
          77,
          78,
          79,
          80,
          81,
          82,
          83,
          84,
          85,
          86,
          87,
          88,
          89,
          90,
          91,
          92,
          93,
          94,
          95,
          96,
          97,
          98,
          99,
          100,
          101,
          102,
          103,
          104,
          105,
          106,
          107,
          108,
          109,
          110,
          111,
          112,
          113,
          114,
          115,
          116,
          117,
          118,
          119,
          120,
          121,
          122,
          123,
          124,
          125,
          126,
          127,
          128,
          129,
          130,
          131,
          132,
          133,
          134,
          135,
          136,
          137,
          138,
          139,
          140,
          141,
          142,
          143,
          144,
          145,
          146,
          147,
          148,
          149,
          150,
          151,
          152,
          153,
          154,
          155,
          156,
          157,
          158,
          159,
          160,
          161,
          162,
          163,
          164,
          165,
          166,
          167,
          168,
          169,
          170,
          171,
          172,
          173,
          174,
          175,
          176,
          177,
          178,
          179,
          180,
          181,
          182,
          183,
          184,
          185,
          186,
          187,
          188,
          189,
          190,
          191,
          192,
          193,
          194,
          195,
          196,
          197,
          198,
          199,
          200,
          201,
          202,
          203,
          204,
          205,
          206,
          207,
          208,
          209,
          210,
          211,
          212,
          213,
          214,
          215,
          216,
          217,
          218,
          219,
          220,
          221,
          222,
          223,
          224,
          225,
          226,
          227,
          228,
          229,
          230,
          231,
          232,
          233,
          234,
          235,
          236,
          237,
          238,
          239,
          240,
          241,
          242,
          243,
          244,
          245,
          246,
          247,
          248,
          249,
          250,
          251,
          252,
          253,
          254,
          255,
          256,
          257,
          258,
          259,
          260,
          261,
          262,
          263,
          264,
          265,
          266,
          267,
          268,
          269,
          270,
          271,
          272,
          273,
          274,
          275,
          276,
          277,
          278,
          279,
          280,
          281,
          282,
          283,
          284,
          285,
          286,
          287,
          288,
          289,
          290,
          291,
          292,
          293,
          294,
          295,
          296,
          297,
          298,
          299,
          300,
          301,
          302,
          303,
          304,
          305,
          306,
          307,
          308,
          309,
          310,
          311,
          312,
          313,
          314,
          315,
          316,
          317,
          318,
          319,
          320,
          321,
          322,
          323,
          324,
          325,
          326,
          327,
          328,
          329,
          330,
          331,
          332,
          333,
          334,
          335,
          336,
          337,
          338,
          339,
          340,
          341,
          342,
          343,
          344,
          345,
          346,
          347,
          348,
          349,
          350,
          351,
          352,
          353,
          354,
          355,
          356,
          357,
          358,
          359,
          360,
          361,
          362,
          363,
          364,
          365,
          366,
          367,
          368,
          369,
          370,
          371,
          372,
          373,
          374,
          375,
          376,
          377,
          378,
          379,
          380,
          381,
          382,
          383,
          384,
          385,
          386,
          387,
          388,
          389,
          390,
          391,
          392,
          393,
          394,
          395,
          396,
          397,
          398,
          399,
          400,
          401,
          402,
          403,
          404,
          405,
          406,
          407,
          408,
          409,
          410,
          411,
          412,
          413,
          414,
          415,
          416,
          417,
          418,
          419,
          420,
          421,
          422,
          423,
          424,
          425,
          426,
          427,
          428,
          429,
          430,
          431,
          432,
          433,
          434,
          435,
          436,
          437,
          438,
          439,
          440,
          441,
          442,
          443,
          444,
          445,
          446,
          447,
          448,
          449,
          450,
          451,
          452,
          453,
          454,
          455,
          456,
          457,
          458,
          459,
          460,
          461,
          462,
          463,
          464,
          465,
          466,
          467,
          468,
          469,
          470,
          471,
          472,
          473,
          474,
          475,
          476,
          477,
          478,
          479,
          480,
          481,
          482,
          483,
          484,
          485,
          486,
          487,
          488,
          489,
          490,
          491,
          492,
          493,
          494,
          495,
          496,
          497,
          498,
          499
         ],
         "xaxis": "x",
         "y": [
          1,
          0.9962,
          0.9924,
          0.9886,
          0.9848,
          0.981,
          0.9772,
          0.9734,
          0.9696,
          0.9658,
          0.962,
          0.9582,
          0.9544,
          0.9506,
          0.9468,
          0.9430000000000001,
          0.9392,
          0.9354,
          0.9316,
          0.9278,
          0.924,
          0.9202,
          0.9164,
          0.9126,
          0.9088,
          0.905,
          0.9012,
          0.8974,
          0.8936,
          0.8898,
          0.886,
          0.8822,
          0.8784,
          0.8746,
          0.8708,
          0.867,
          0.8632,
          0.8594,
          0.8556,
          0.8518,
          0.848,
          0.8442000000000001,
          0.8404,
          0.8366,
          0.8328,
          0.829,
          0.8252,
          0.8214,
          0.8176,
          0.8138,
          0.81,
          0.8062,
          0.8024,
          0.7986,
          0.7948,
          0.791,
          0.7872,
          0.7834,
          0.7796,
          0.7758,
          0.772,
          0.7682,
          0.7644,
          0.7605999999999999,
          0.7568,
          0.753,
          0.7492,
          0.7454000000000001,
          0.7416,
          0.7378,
          0.734,
          0.7302,
          0.7264,
          0.7226,
          0.7188000000000001,
          0.7150000000000001,
          0.7112,
          0.7074,
          0.7036,
          0.6998,
          0.696,
          0.6921999999999999,
          0.6884,
          0.6846,
          0.6808000000000001,
          0.677,
          0.6732,
          0.6694,
          0.6656,
          0.6618,
          0.658,
          0.6542,
          0.6504000000000001,
          0.6466000000000001,
          0.6428,
          0.639,
          0.6352,
          0.6314,
          0.6275999999999999,
          0.6238,
          0.62,
          0.6162,
          0.6124,
          0.6086,
          0.6048,
          0.601,
          0.5972,
          0.5934,
          0.5896,
          0.5858000000000001,
          0.5820000000000001,
          0.5782,
          0.5744,
          0.5706,
          0.5668,
          0.563,
          0.5591999999999999,
          0.5554,
          0.5516000000000001,
          0.5478000000000001,
          0.544,
          0.5402,
          0.5364,
          0.5326,
          0.5288,
          0.525,
          0.5212,
          0.5174000000000001,
          0.5136000000000001,
          0.5098,
          0.506,
          0.5022,
          0.49839999999999995,
          0.49460000000000004,
          0.4908,
          0.487,
          0.48319999999999996,
          0.47939999999999994,
          0.4756,
          0.4718,
          0.46799999999999997,
          0.46420000000000006,
          0.46040000000000003,
          0.4566000000000001,
          0.4528000000000001,
          0.44900000000000007,
          0.44520000000000004,
          0.4414,
          0.4376000000000001,
          0.4338000000000001,
          0.43000000000000005,
          0.4262,
          0.4224,
          0.4186000000000001,
          0.41480000000000006,
          0.41100000000000003,
          0.4072,
          0.4034,
          0.39960000000000007,
          0.39580000000000004,
          0.392,
          0.3882,
          0.38439999999999996,
          0.38060000000000005,
          0.3768,
          0.373,
          0.3692,
          0.36539999999999995,
          0.36160000000000003,
          0.3578,
          0.354,
          0.35019999999999996,
          0.34640000000000004,
          0.3426000000000001,
          0.3388000000000001,
          0.3350000000000001,
          0.33120000000000005,
          0.3274,
          0.3236000000000001,
          0.3198000000000001,
          0.31600000000000006,
          0.31220000000000003,
          0.3084,
          0.3046000000000001,
          0.30080000000000007,
          0.29700000000000004,
          0.2932,
          0.2894,
          0.2856000000000001,
          0.28180000000000005,
          0.278,
          0.2742,
          0.2704,
          0.26660000000000006,
          0.26280000000000003,
          0.259,
          0.2552,
          0.25139999999999996,
          0.24760000000000004,
          0.24380000000000002,
          0.24,
          0.23619999999999997,
          0.23239999999999994,
          0.22860000000000003,
          0.2248000000000001,
          0.22100000000000009,
          0.21720000000000006,
          0.21340000000000003,
          0.20960000000000012,
          0.2058000000000001,
          0.20200000000000007,
          0.19820000000000004,
          0.19440000000000002,
          0.1906000000000001,
          0.18680000000000008,
          0.18300000000000005,
          0.17920000000000003,
          0.1754,
          0.17160000000000009,
          0.16780000000000006,
          0.16400000000000003,
          0.1602,
          0.15639999999999998,
          0.15260000000000007,
          0.14880000000000004,
          0.14500000000000002,
          0.1412,
          0.13739999999999997,
          0.13360000000000005,
          0.12980000000000003,
          0.126,
          0.12219999999999998,
          0.11839999999999995,
          0.11460000000000004,
          0.11080000000000001,
          0.1070000000000001,
          0.10320000000000007,
          0.09940000000000004,
          0.09560000000000013,
          0.0918000000000001,
          0.08800000000000008,
          0.08420000000000005,
          0.08040000000000003,
          0.07660000000000011,
          0.07280000000000009,
          0.06900000000000006,
          0.06520000000000004,
          0.06140000000000001,
          0.057600000000000096,
          0.05380000000000007,
          0.050000000000000044,
          0.050000000000000044,
          0.050000000000000044,
          0.050000000000000044,
          0.050000000000000044,
          0.050000000000000044,
          0.050000000000000044,
          0.050000000000000044,
          0.050000000000000044,
          0.050000000000000044,
          0.050000000000000044,
          0.050000000000000044,
          0.050000000000000044,
          0.050000000000000044,
          0.050000000000000044,
          0.050000000000000044,
          0.050000000000000044,
          0.050000000000000044,
          0.050000000000000044,
          0.050000000000000044,
          0.050000000000000044,
          0.050000000000000044,
          0.050000000000000044,
          0.050000000000000044,
          0.050000000000000044,
          0.050000000000000044,
          0.050000000000000044,
          0.050000000000000044,
          0.050000000000000044,
          0.050000000000000044,
          0.050000000000000044,
          0.050000000000000044,
          0.050000000000000044,
          0.050000000000000044,
          0.050000000000000044,
          0.050000000000000044,
          0.050000000000000044,
          0.050000000000000044,
          0.050000000000000044,
          0.050000000000000044,
          0.050000000000000044,
          0.050000000000000044,
          0.050000000000000044,
          0.050000000000000044,
          0.050000000000000044,
          0.050000000000000044,
          0.050000000000000044,
          0.050000000000000044,
          0.050000000000000044,
          0.050000000000000044,
          0.050000000000000044,
          0.050000000000000044,
          0.050000000000000044,
          0.050000000000000044,
          0.050000000000000044,
          0.050000000000000044,
          0.050000000000000044,
          0.050000000000000044,
          0.050000000000000044,
          0.050000000000000044,
          0.050000000000000044,
          0.050000000000000044,
          0.050000000000000044,
          0.050000000000000044,
          0.050000000000000044,
          0.050000000000000044,
          0.050000000000000044,
          0.050000000000000044,
          0.050000000000000044,
          0.050000000000000044,
          0.050000000000000044,
          0.050000000000000044,
          0.050000000000000044,
          0.050000000000000044,
          0.050000000000000044,
          0.050000000000000044,
          0.050000000000000044,
          0.050000000000000044,
          0.050000000000000044,
          0.050000000000000044,
          0.050000000000000044,
          0.050000000000000044,
          0.050000000000000044,
          0.050000000000000044,
          0.050000000000000044,
          0.050000000000000044,
          0.050000000000000044,
          0.050000000000000044,
          0.050000000000000044,
          0.050000000000000044,
          0.050000000000000044,
          0.050000000000000044,
          0.050000000000000044,
          0.050000000000000044,
          0.050000000000000044,
          0.050000000000000044,
          0.050000000000000044,
          0.050000000000000044,
          0.050000000000000044,
          0.050000000000000044,
          0.050000000000000044,
          0.050000000000000044,
          0.050000000000000044,
          0.050000000000000044,
          0.050000000000000044,
          0.050000000000000044,
          0.050000000000000044,
          0.050000000000000044,
          0.050000000000000044,
          0.050000000000000044,
          0.050000000000000044,
          0.050000000000000044,
          0.050000000000000044,
          0.050000000000000044,
          0.050000000000000044,
          0.050000000000000044,
          0.050000000000000044,
          0.050000000000000044,
          0.050000000000000044,
          0.050000000000000044,
          0.050000000000000044,
          0.050000000000000044,
          0.050000000000000044,
          0.050000000000000044,
          0.050000000000000044,
          0.050000000000000044,
          0.050000000000000044,
          0.050000000000000044,
          0.050000000000000044,
          0.050000000000000044,
          0.050000000000000044,
          0.050000000000000044,
          0.050000000000000044,
          0.050000000000000044,
          0.050000000000000044,
          0.050000000000000044,
          0.050000000000000044,
          0.050000000000000044,
          0.050000000000000044,
          0.050000000000000044,
          0.050000000000000044,
          0.050000000000000044,
          0.050000000000000044,
          0.050000000000000044,
          0.050000000000000044,
          0.050000000000000044,
          0.050000000000000044,
          0.050000000000000044,
          0.050000000000000044,
          0.050000000000000044,
          0.050000000000000044,
          0.050000000000000044,
          0.050000000000000044,
          0.050000000000000044,
          0.050000000000000044,
          0.050000000000000044,
          0.050000000000000044,
          0.050000000000000044,
          0.050000000000000044,
          0.050000000000000044,
          0.050000000000000044,
          0.050000000000000044,
          0.050000000000000044,
          0.050000000000000044,
          0.050000000000000044,
          0.050000000000000044,
          0.050000000000000044,
          0.050000000000000044,
          0.050000000000000044,
          0.050000000000000044,
          0.050000000000000044,
          0.050000000000000044,
          0.050000000000000044,
          0.050000000000000044,
          0.050000000000000044,
          0.050000000000000044,
          0.050000000000000044,
          0.050000000000000044,
          0.050000000000000044,
          0.050000000000000044,
          0.050000000000000044,
          0.050000000000000044,
          0.050000000000000044,
          0.050000000000000044,
          0.050000000000000044,
          0.050000000000000044,
          0.050000000000000044,
          0.050000000000000044,
          0.050000000000000044,
          0.050000000000000044,
          0.050000000000000044,
          0.050000000000000044,
          0.050000000000000044,
          0.050000000000000044,
          0.050000000000000044,
          0.050000000000000044,
          0.050000000000000044,
          0.050000000000000044,
          0.050000000000000044,
          0.050000000000000044,
          0.050000000000000044,
          0.050000000000000044,
          0.050000000000000044,
          0.050000000000000044,
          0.050000000000000044,
          0.050000000000000044,
          0.050000000000000044,
          0.050000000000000044,
          0.050000000000000044,
          0.050000000000000044,
          0.050000000000000044,
          0.050000000000000044,
          0.050000000000000044,
          0.050000000000000044,
          0.050000000000000044,
          0.050000000000000044,
          0.050000000000000044,
          0.050000000000000044,
          0.050000000000000044,
          0.050000000000000044,
          0.050000000000000044,
          0.050000000000000044,
          0.050000000000000044,
          0.050000000000000044,
          0.050000000000000044,
          0.050000000000000044,
          0.050000000000000044,
          0.050000000000000044,
          0.050000000000000044,
          0.050000000000000044,
          0.050000000000000044,
          0.050000000000000044,
          0.050000000000000044,
          0.050000000000000044,
          0.050000000000000044,
          0.050000000000000044,
          0.050000000000000044,
          0.050000000000000044,
          0.050000000000000044,
          0.050000000000000044,
          0.050000000000000044,
          0.050000000000000044,
          0.050000000000000044,
          0.050000000000000044,
          0.050000000000000044,
          0.050000000000000044,
          0.050000000000000044,
          0.050000000000000044,
          0.050000000000000044,
          0.050000000000000044
         ],
         "yaxis": "y"
        }
       ],
       "layout": {
        "height": 400,
        "hovermode": "x unified",
        "legend": {
         "tracegroupgap": 0
        },
        "template": {
         "data": {
          "bar": [
           {
            "error_x": {
             "color": "#2a3f5f"
            },
            "error_y": {
             "color": "#2a3f5f"
            },
            "marker": {
             "line": {
              "color": "#E5ECF6",
              "width": 0.5
             },
             "pattern": {
              "fillmode": "overlay",
              "size": 10,
              "solidity": 0.2
             }
            },
            "type": "bar"
           }
          ],
          "barpolar": [
           {
            "marker": {
             "line": {
              "color": "#E5ECF6",
              "width": 0.5
             },
             "pattern": {
              "fillmode": "overlay",
              "size": 10,
              "solidity": 0.2
             }
            },
            "type": "barpolar"
           }
          ],
          "carpet": [
           {
            "aaxis": {
             "endlinecolor": "#2a3f5f",
             "gridcolor": "white",
             "linecolor": "white",
             "minorgridcolor": "white",
             "startlinecolor": "#2a3f5f"
            },
            "baxis": {
             "endlinecolor": "#2a3f5f",
             "gridcolor": "white",
             "linecolor": "white",
             "minorgridcolor": "white",
             "startlinecolor": "#2a3f5f"
            },
            "type": "carpet"
           }
          ],
          "choropleth": [
           {
            "colorbar": {
             "outlinewidth": 0,
             "ticks": ""
            },
            "type": "choropleth"
           }
          ],
          "contour": [
           {
            "colorbar": {
             "outlinewidth": 0,
             "ticks": ""
            },
            "colorscale": [
             [
              0,
              "#0d0887"
             ],
             [
              0.1111111111111111,
              "#46039f"
             ],
             [
              0.2222222222222222,
              "#7201a8"
             ],
             [
              0.3333333333333333,
              "#9c179e"
             ],
             [
              0.4444444444444444,
              "#bd3786"
             ],
             [
              0.5555555555555556,
              "#d8576b"
             ],
             [
              0.6666666666666666,
              "#ed7953"
             ],
             [
              0.7777777777777778,
              "#fb9f3a"
             ],
             [
              0.8888888888888888,
              "#fdca26"
             ],
             [
              1,
              "#f0f921"
             ]
            ],
            "type": "contour"
           }
          ],
          "contourcarpet": [
           {
            "colorbar": {
             "outlinewidth": 0,
             "ticks": ""
            },
            "type": "contourcarpet"
           }
          ],
          "heatmap": [
           {
            "colorbar": {
             "outlinewidth": 0,
             "ticks": ""
            },
            "colorscale": [
             [
              0,
              "#0d0887"
             ],
             [
              0.1111111111111111,
              "#46039f"
             ],
             [
              0.2222222222222222,
              "#7201a8"
             ],
             [
              0.3333333333333333,
              "#9c179e"
             ],
             [
              0.4444444444444444,
              "#bd3786"
             ],
             [
              0.5555555555555556,
              "#d8576b"
             ],
             [
              0.6666666666666666,
              "#ed7953"
             ],
             [
              0.7777777777777778,
              "#fb9f3a"
             ],
             [
              0.8888888888888888,
              "#fdca26"
             ],
             [
              1,
              "#f0f921"
             ]
            ],
            "type": "heatmap"
           }
          ],
          "heatmapgl": [
           {
            "colorbar": {
             "outlinewidth": 0,
             "ticks": ""
            },
            "colorscale": [
             [
              0,
              "#0d0887"
             ],
             [
              0.1111111111111111,
              "#46039f"
             ],
             [
              0.2222222222222222,
              "#7201a8"
             ],
             [
              0.3333333333333333,
              "#9c179e"
             ],
             [
              0.4444444444444444,
              "#bd3786"
             ],
             [
              0.5555555555555556,
              "#d8576b"
             ],
             [
              0.6666666666666666,
              "#ed7953"
             ],
             [
              0.7777777777777778,
              "#fb9f3a"
             ],
             [
              0.8888888888888888,
              "#fdca26"
             ],
             [
              1,
              "#f0f921"
             ]
            ],
            "type": "heatmapgl"
           }
          ],
          "histogram": [
           {
            "marker": {
             "pattern": {
              "fillmode": "overlay",
              "size": 10,
              "solidity": 0.2
             }
            },
            "type": "histogram"
           }
          ],
          "histogram2d": [
           {
            "colorbar": {
             "outlinewidth": 0,
             "ticks": ""
            },
            "colorscale": [
             [
              0,
              "#0d0887"
             ],
             [
              0.1111111111111111,
              "#46039f"
             ],
             [
              0.2222222222222222,
              "#7201a8"
             ],
             [
              0.3333333333333333,
              "#9c179e"
             ],
             [
              0.4444444444444444,
              "#bd3786"
             ],
             [
              0.5555555555555556,
              "#d8576b"
             ],
             [
              0.6666666666666666,
              "#ed7953"
             ],
             [
              0.7777777777777778,
              "#fb9f3a"
             ],
             [
              0.8888888888888888,
              "#fdca26"
             ],
             [
              1,
              "#f0f921"
             ]
            ],
            "type": "histogram2d"
           }
          ],
          "histogram2dcontour": [
           {
            "colorbar": {
             "outlinewidth": 0,
             "ticks": ""
            },
            "colorscale": [
             [
              0,
              "#0d0887"
             ],
             [
              0.1111111111111111,
              "#46039f"
             ],
             [
              0.2222222222222222,
              "#7201a8"
             ],
             [
              0.3333333333333333,
              "#9c179e"
             ],
             [
              0.4444444444444444,
              "#bd3786"
             ],
             [
              0.5555555555555556,
              "#d8576b"
             ],
             [
              0.6666666666666666,
              "#ed7953"
             ],
             [
              0.7777777777777778,
              "#fb9f3a"
             ],
             [
              0.8888888888888888,
              "#fdca26"
             ],
             [
              1,
              "#f0f921"
             ]
            ],
            "type": "histogram2dcontour"
           }
          ],
          "mesh3d": [
           {
            "colorbar": {
             "outlinewidth": 0,
             "ticks": ""
            },
            "type": "mesh3d"
           }
          ],
          "parcoords": [
           {
            "line": {
             "colorbar": {
              "outlinewidth": 0,
              "ticks": ""
             }
            },
            "type": "parcoords"
           }
          ],
          "pie": [
           {
            "automargin": true,
            "type": "pie"
           }
          ],
          "scatter": [
           {
            "fillpattern": {
             "fillmode": "overlay",
             "size": 10,
             "solidity": 0.2
            },
            "type": "scatter"
           }
          ],
          "scatter3d": [
           {
            "line": {
             "colorbar": {
              "outlinewidth": 0,
              "ticks": ""
             }
            },
            "marker": {
             "colorbar": {
              "outlinewidth": 0,
              "ticks": ""
             }
            },
            "type": "scatter3d"
           }
          ],
          "scattercarpet": [
           {
            "marker": {
             "colorbar": {
              "outlinewidth": 0,
              "ticks": ""
             }
            },
            "type": "scattercarpet"
           }
          ],
          "scattergeo": [
           {
            "marker": {
             "colorbar": {
              "outlinewidth": 0,
              "ticks": ""
             }
            },
            "type": "scattergeo"
           }
          ],
          "scattergl": [
           {
            "marker": {
             "colorbar": {
              "outlinewidth": 0,
              "ticks": ""
             }
            },
            "type": "scattergl"
           }
          ],
          "scattermapbox": [
           {
            "marker": {
             "colorbar": {
              "outlinewidth": 0,
              "ticks": ""
             }
            },
            "type": "scattermapbox"
           }
          ],
          "scatterpolar": [
           {
            "marker": {
             "colorbar": {
              "outlinewidth": 0,
              "ticks": ""
             }
            },
            "type": "scatterpolar"
           }
          ],
          "scatterpolargl": [
           {
            "marker": {
             "colorbar": {
              "outlinewidth": 0,
              "ticks": ""
             }
            },
            "type": "scatterpolargl"
           }
          ],
          "scatterternary": [
           {
            "marker": {
             "colorbar": {
              "outlinewidth": 0,
              "ticks": ""
             }
            },
            "type": "scatterternary"
           }
          ],
          "surface": [
           {
            "colorbar": {
             "outlinewidth": 0,
             "ticks": ""
            },
            "colorscale": [
             [
              0,
              "#0d0887"
             ],
             [
              0.1111111111111111,
              "#46039f"
             ],
             [
              0.2222222222222222,
              "#7201a8"
             ],
             [
              0.3333333333333333,
              "#9c179e"
             ],
             [
              0.4444444444444444,
              "#bd3786"
             ],
             [
              0.5555555555555556,
              "#d8576b"
             ],
             [
              0.6666666666666666,
              "#ed7953"
             ],
             [
              0.7777777777777778,
              "#fb9f3a"
             ],
             [
              0.8888888888888888,
              "#fdca26"
             ],
             [
              1,
              "#f0f921"
             ]
            ],
            "type": "surface"
           }
          ],
          "table": [
           {
            "cells": {
             "fill": {
              "color": "#EBF0F8"
             },
             "line": {
              "color": "white"
             }
            },
            "header": {
             "fill": {
              "color": "#C8D4E3"
             },
             "line": {
              "color": "white"
             }
            },
            "type": "table"
           }
          ]
         },
         "layout": {
          "annotationdefaults": {
           "arrowcolor": "#2a3f5f",
           "arrowhead": 0,
           "arrowwidth": 1
          },
          "autotypenumbers": "strict",
          "coloraxis": {
           "colorbar": {
            "outlinewidth": 0,
            "ticks": ""
           }
          },
          "colorscale": {
           "diverging": [
            [
             0,
             "#8e0152"
            ],
            [
             0.1,
             "#c51b7d"
            ],
            [
             0.2,
             "#de77ae"
            ],
            [
             0.3,
             "#f1b6da"
            ],
            [
             0.4,
             "#fde0ef"
            ],
            [
             0.5,
             "#f7f7f7"
            ],
            [
             0.6,
             "#e6f5d0"
            ],
            [
             0.7,
             "#b8e186"
            ],
            [
             0.8,
             "#7fbc41"
            ],
            [
             0.9,
             "#4d9221"
            ],
            [
             1,
             "#276419"
            ]
           ],
           "sequential": [
            [
             0,
             "#0d0887"
            ],
            [
             0.1111111111111111,
             "#46039f"
            ],
            [
             0.2222222222222222,
             "#7201a8"
            ],
            [
             0.3333333333333333,
             "#9c179e"
            ],
            [
             0.4444444444444444,
             "#bd3786"
            ],
            [
             0.5555555555555556,
             "#d8576b"
            ],
            [
             0.6666666666666666,
             "#ed7953"
            ],
            [
             0.7777777777777778,
             "#fb9f3a"
            ],
            [
             0.8888888888888888,
             "#fdca26"
            ],
            [
             1,
             "#f0f921"
            ]
           ],
           "sequentialminus": [
            [
             0,
             "#0d0887"
            ],
            [
             0.1111111111111111,
             "#46039f"
            ],
            [
             0.2222222222222222,
             "#7201a8"
            ],
            [
             0.3333333333333333,
             "#9c179e"
            ],
            [
             0.4444444444444444,
             "#bd3786"
            ],
            [
             0.5555555555555556,
             "#d8576b"
            ],
            [
             0.6666666666666666,
             "#ed7953"
            ],
            [
             0.7777777777777778,
             "#fb9f3a"
            ],
            [
             0.8888888888888888,
             "#fdca26"
            ],
            [
             1,
             "#f0f921"
            ]
           ]
          },
          "colorway": [
           "#636efa",
           "#EF553B",
           "#00cc96",
           "#ab63fa",
           "#FFA15A",
           "#19d3f3",
           "#FF6692",
           "#B6E880",
           "#FF97FF",
           "#FECB52"
          ],
          "font": {
           "color": "#2a3f5f"
          },
          "geo": {
           "bgcolor": "white",
           "lakecolor": "white",
           "landcolor": "#E5ECF6",
           "showlakes": true,
           "showland": true,
           "subunitcolor": "white"
          },
          "hoverlabel": {
           "align": "left"
          },
          "hovermode": "closest",
          "mapbox": {
           "style": "light"
          },
          "paper_bgcolor": "white",
          "plot_bgcolor": "#E5ECF6",
          "polar": {
           "angularaxis": {
            "gridcolor": "white",
            "linecolor": "white",
            "ticks": ""
           },
           "bgcolor": "#E5ECF6",
           "radialaxis": {
            "gridcolor": "white",
            "linecolor": "white",
            "ticks": ""
           }
          },
          "scene": {
           "xaxis": {
            "backgroundcolor": "#E5ECF6",
            "gridcolor": "white",
            "gridwidth": 2,
            "linecolor": "white",
            "showbackground": true,
            "ticks": "",
            "zerolinecolor": "white"
           },
           "yaxis": {
            "backgroundcolor": "#E5ECF6",
            "gridcolor": "white",
            "gridwidth": 2,
            "linecolor": "white",
            "showbackground": true,
            "ticks": "",
            "zerolinecolor": "white"
           },
           "zaxis": {
            "backgroundcolor": "#E5ECF6",
            "gridcolor": "white",
            "gridwidth": 2,
            "linecolor": "white",
            "showbackground": true,
            "ticks": "",
            "zerolinecolor": "white"
           }
          },
          "shapedefaults": {
           "line": {
            "color": "#2a3f5f"
           }
          },
          "ternary": {
           "aaxis": {
            "gridcolor": "white",
            "linecolor": "white",
            "ticks": ""
           },
           "baxis": {
            "gridcolor": "white",
            "linecolor": "white",
            "ticks": ""
           },
           "bgcolor": "#E5ECF6",
           "caxis": {
            "gridcolor": "white",
            "linecolor": "white",
            "ticks": ""
           }
          },
          "title": {
           "x": 0.05
          },
          "xaxis": {
           "automargin": true,
           "gridcolor": "white",
           "linecolor": "white",
           "ticks": "",
           "title": {
            "standoff": 15
           },
           "zerolinecolor": "white",
           "zerolinewidth": 2
          },
          "yaxis": {
           "automargin": true,
           "gridcolor": "white",
           "linecolor": "white",
           "ticks": "",
           "title": {
            "standoff": 15
           },
           "zerolinecolor": "white",
           "zerolinewidth": 2
          }
         }
        },
        "title": {
         "text": "Probability of random action"
        },
        "width": 600,
        "xaxis": {
         "anchor": "y",
         "domain": [
          0,
          1
         ],
         "title": {
          "text": "steps"
         }
        },
        "yaxis": {
         "anchor": "x",
         "domain": [
          0,
          1
         ],
         "title": {
          "text": "epsilon"
         }
        }
       }
      }
     },
     "metadata": {},
     "output_type": "display_data"
    },
    {
     "name": "stdout",
     "output_type": "stream",
     "text": [
      "All tests in `test_linear_schedule` passed!\n"
     ]
    }
   ],
   "source": [
    "def linear_schedule(\n",
    "    current_step: int, start_e: float, end_e: float, exploration_fraction: float, total_timesteps: int\n",
    ") -> float:\n",
    "    \"\"\"Return the appropriate epsilon for the current step.\n",
    "\n",
    "    Epsilon should be start_e at step 0 and decrease linearly to end_e at step (exploration_fraction * total_timesteps).\n",
    "    In other words, we are in \"explore mode\" with start_e >= epsilon >= end_e for the first `exploration_fraction` fraction\n",
    "    of total timesteps, and then stay at end_e for the rest of the episode.\n",
    "    \"\"\"\n",
    "    # raise NotImplementedError()\n",
    "    # Basically, lerp.\n",
    "    frac = current_step / (total_timesteps * exploration_fraction)\n",
    "    frac = np.clip(frac, 0, 1)  # Ensure frac is between 0 and 1\n",
    "    return float(start_e + frac * (end_e - start_e))\n",
    "\n",
    "\n",
    "epsilons = [\n",
    "    linear_schedule(step, start_e=1.0, end_e=0.05, exploration_fraction=0.5, total_timesteps=500)\n",
    "    for step in range(500)\n",
    "]\n",
    "line(epsilons, labels={\"x\": \"steps\", \"y\": \"epsilon\"}, title=\"Probability of random action\", height=400, width=600)\n",
    "\n",
    "tests.test_linear_schedule(linear_schedule)"
   ]
  },
  {
   "cell_type": "markdown",
   "metadata": {},
   "source": [
    "<details><summary>Solution</summary>\n",
    "\n",
    "```python\n",
    "def linear_schedule(\n",
    "    current_step: int, start_e: float, end_e: float, exploration_fraction: float, total_timesteps: int\n",
    ") -> float:\n",
    "    \"\"\"Return the appropriate epsilon for the current step.\n",
    "\n",
    "    Epsilon should be start_e at step 0 and decrease linearly to end_e at step (exploration_fraction * total_timesteps).\n",
    "    In other words, we are in \"explore mode\" with start_e >= epsilon >= end_e for the first `exploration_fraction` fraction\n",
    "    of total timesteps, and then stay at end_e for the rest of the episode.\n",
    "    \"\"\"\n",
    "    return start_e + (end_e - start_e) * min(current_step / (exploration_fraction * total_timesteps), 1)\n",
    "```\n",
    "</details>"
   ]
  },
  {
   "cell_type": "markdown",
   "metadata": {},
   "source": [
    "### Epsilon Greedy Policy\n",
    "\n",
    "In DQN, the policy is implicitly defined by the Q-network: we take the action with the maximum predicted reward. This gives a bias towards optimism. By estimating the maximum of a set of values $v_1, \\ldots, v_n$ using the maximum of some noisy estimates $\\hat{v}_1, \\ldots, \\hat{v}_n$ with $\\hat{v}_i \\approx v$, we get unlucky and get very large positive noise on some samples, which the maximum then chooses. Hence, the agent will choose actions that the Q-network is overly optimistic about.\n",
    "\n",
    "See Sutton and Barto, Section 6.7 if you'd like a more detailed explanation, or the original [Double Q-Learning](https://proceedings.neurips.cc/paper/2010/file/091d584fced301b442654dd8c23b3fc9-Paper.pdf) paper which notes this maximisation bias, and introduces a method to correct for it using two separate Q-value estimators, each used to update the other."
   ]
  },
  {
   "cell_type": "markdown",
   "metadata": {},
   "source": [
    "### Exercise - implement the epsilon greedy policy\n",
    "\n",
    "> ```yaml\n",
    "> Difficulty: 🔴🔴⚪⚪⚪\n",
    "> Importance: 🔵🔵🔵⚪⚪\n",
    "> \n",
    "> You should spend up to 10-20 minutes on this exercise.\n",
    "> ```\n",
    "\n",
    "We've given you the first line of code, to convert the numpy array `obs` into a tensor on the correct device.\n",
    "\n",
    "Other tips:\n",
    "\n",
    "- Although you can technically use `envs.action_space.sample()` to sample actions, it's better practice to work with the random number generator `rng` that we've provided. You can use `rng.random()` to generate random numbers in the range $[0,1)$, and `rng.integers(0, n, size)` for an array of shape `size` random integers in the range $0, 1, \\ldots, n-1$.\n",
    "- Don't forget to convert the result back to a `np.ndarray`, as this function expects."
   ]
  },
  {
   "cell_type": "code",
   "execution_count": 15,
   "metadata": {},
   "outputs": [
    {
     "name": "stdout",
     "output_type": "stream",
     "text": [
      "All tests in `test_epsilon_greedy_policy` passed!\n"
     ]
    }
   ],
   "source": [
    "def epsilon_greedy_policy(\n",
    "    envs: gym.vector.SyncVectorEnv,\n",
    "    q_network: QNetwork,\n",
    "    rng: np.random.Generator,\n",
    "    obs: Float[Arr, \"num_envs *obs_shape\"],\n",
    "    epsilon: float,\n",
    ") -> Int[Arr, \"num_envs *action_shape\"]:\n",
    "    \"\"\"With probability epsilon, take a random action. Otherwise, take a greedy action according to the q_network.\n",
    "    Inputs:\n",
    "        envs:       The family of environments to run against\n",
    "        q_network:  The QNetwork used to approximate the Q-value function\n",
    "        obs:        The current observation for each environment\n",
    "        epsilon:    The probability of taking a random action\n",
    "    Outputs:\n",
    "        actions:    The sampled action for each environment.\n",
    "    \"\"\"\n",
    "    # Convert `obs` into a tensor so we can feed it into our model\n",
    "    obs = t.from_numpy(obs).to(device)\n",
    "\n",
    "    # raise NotImplementedError()\n",
    "    # print(envs.single_action_space)\n",
    "    if rng.random() < epsilon:\n",
    "        # Take a random action\n",
    "        actions = rng.integers(0, envs.single_action_space.n, size=envs.num_envs)\n",
    "        # print(f\"EPSILON {actions=}\")\n",
    "    else:\n",
    "        actions = q_network(obs).argmax(dim=-1).cpu().numpy()\n",
    "        # print(f\"GREEDY {actions=}\")\n",
    "    return actions.astype(np.int32)\n",
    "\n",
    "tests.test_epsilon_greedy_policy(epsilon_greedy_policy)"
   ]
  },
  {
   "cell_type": "markdown",
   "metadata": {},
   "source": [
    "<details>\n",
    "<summary>Help - I'm confused about the action shape here.</summary>\n",
    "\n",
    "In our case, the action shape is `envs.single_action_space.shape = ()` (i.e. trivial, because our action is just a single integer not a vector or tensor) and the number of possible actions is `envs.single_action_space.n = 2`. This means your return type should just be a vector of ints of length `num_envs`, with each element being uniformly sampled from `[0, 1]`.\n",
    "\n",
    "</details>\n",
    "\n",
    "\n",
    "<details><summary>Solution</summary>\n",
    "\n",
    "```python\n",
    "def epsilon_greedy_policy(\n",
    "    envs: gym.vector.SyncVectorEnv,\n",
    "    q_network: QNetwork,\n",
    "    rng: np.random.Generator,\n",
    "    obs: Float[Arr, \"num_envs *obs_shape\"],\n",
    "    epsilon: float,\n",
    ") -> Int[Arr, \"num_envs *action_shape\"]:\n",
    "    \"\"\"With probability epsilon, take a random action. Otherwise, take a greedy action according to the q_network.\n",
    "    Inputs:\n",
    "        envs:       The family of environments to run against\n",
    "        q_network:  The QNetwork used to approximate the Q-value function\n",
    "        obs:        The current observation for each environment\n",
    "        epsilon:    The probability of taking a random action\n",
    "    Outputs:\n",
    "        actions:    The sampled action for each environment.\n",
    "    \"\"\"\n",
    "    # Convert `obs` into a tensor so we can feed it into our model\n",
    "    obs = t.from_numpy(obs).to(device)\n",
    "\n",
    "    num_actions = envs.single_action_space.n\n",
    "    if rng.random() < epsilon:\n",
    "        return rng.integers(0, num_actions, size=(envs.num_envs,))\n",
    "    else:\n",
    "        q_scores = q_network(obs)\n",
    "        return q_scores.argmax(-1).detach().cpu().numpy()\n",
    "```\n",
    "</details>"
   ]
  },
  {
   "cell_type": "markdown",
   "metadata": {},
   "source": [
    "## Probe Environments\n",
    "\n",
    "Extremely simple probe environments are a great way to debug your algorithm. The first one is given below.\n",
    "\n",
    "Let's try and break down how this environment works. We see that the function `step` always returns the same thing. The observation and reward are always the same, and `done` is always true (i.e. the episode always terminates after one action). We expect the agent to rapidly learn that the value of the constant observation `[0.0]` is `+1`. This is in some sense the simplest possible probe.\n",
    "\n",
    "### A note on action spaces\n",
    "\n",
    "The space we're using here is `gym.spaces.Box`. This means we're dealing with real-valued quantities, i.e. continuous not discrete. The first two arguments of `Box` are `low` and `high`, and these define a box in $\\mathbb{R}^n$. For instance, if these arrays are `(0, 0)` and `(1, 1)` respectively, this defines the box $0 \\leq x, y \\leq 1$ in 2D space."
   ]
  },
  {
   "cell_type": "code",
   "execution_count": 16,
   "metadata": {},
   "outputs": [],
   "source": [
    "class Probe1(gym.Env):\n",
    "    \"\"\"One action, observation of [0.0], one timestep long, +1 reward.\n",
    "\n",
    "    We expect the agent to rapidly learn that the value of the constant [0.0] observation is +1.0. Note we're using a continuous observation space for consistency with CartPole.\n",
    "    \"\"\"\n",
    "\n",
    "    action_space: Discrete\n",
    "    observation_space: Box\n",
    "\n",
    "    def __init__(self, render_mode: str = \"rgb_array\"):\n",
    "        super().__init__()\n",
    "        self.observation_space = Box(np.array([0]), np.array([0]))\n",
    "        self.action_space = Discrete(1)\n",
    "        self.reset()\n",
    "\n",
    "    def step(self, action: ActType) -> tuple[ObsType, float, bool, dict]:\n",
    "        return np.array([0]), 1.0, True, True, {}\n",
    "\n",
    "    def reset(self, seed: int | None = None, options=None) -> ObsType | tuple[ObsType, dict]:\n",
    "        super().reset(seed=seed)\n",
    "        return np.array([0.0]), {}\n",
    "\n",
    "\n",
    "gym.envs.registration.register(id=\"Probe1-v0\", entry_point=Probe1)\n",
    "env = gym.make(\"Probe1-v0\")\n",
    "assert env.observation_space.shape == (1,)\n",
    "assert env.action_space.shape == ()"
   ]
  },
  {
   "cell_type": "markdown",
   "metadata": {},
   "source": [
    "### Exercise - read & understand other probe environments\n",
    "\n",
    "> ```yaml\n",
    "> Difficulty: 🔴🔴⚪⚪⚪\n",
    "> Importance: 🔵🔵🔵🔵⚪\n",
    "> \n",
    "> You should spend up to 10-20 minutes here.\n",
    "> ```\n",
    "\n",
    "For each of the probes below, read their implementation code, and understand how they correspond to their docstrings (and to the [descriptions](https://andyljones.com/posts/rl-debugging.html#:~:text=Use%20probe%20environments) given in Andy Jones' post).\n",
    "\n",
    "It's very important to understand how these probes work, and why they're useful tools for debugging. When you're working on your own RL projects, you might have to write your own probes to suit your particular use cases."
   ]
  },
  {
   "cell_type": "code",
   "execution_count": 17,
   "metadata": {},
   "outputs": [],
   "source": [
    "class Probe2(gym.Env):\n",
    "    \"\"\"One action, observation of [-1.0] or [+1.0], one timestep long, reward equals observation.\n",
    "\n",
    "    We expect the agent to rapidly learn the value of each observation is equal to the observation.\n",
    "    \"\"\"\n",
    "\n",
    "    action_space: Discrete\n",
    "    observation_space: Box\n",
    "\n",
    "    def __init__(self, render_mode: str = \"rgb_array\"):\n",
    "        super().__init__()\n",
    "        self.observation_space = Box(np.array([-1.0]), np.array([+1.0]))\n",
    "        self.action_space = Discrete(1)\n",
    "        self.reset()\n",
    "        self.reward = None\n",
    "\n",
    "    def step(self, action: ActType) -> tuple[ObsType, float, bool, dict]:\n",
    "        assert self.reward is not None\n",
    "        return np.array([self.observation]), self.reward, True, True, {}\n",
    "\n",
    "    def reset(self, seed: int | None = None, options=None) -> ObsType | tuple[ObsType, dict]:\n",
    "        super().reset(seed=seed)\n",
    "        self.reward = 1.0 if self.np_random.random() < 0.5 else -1.0\n",
    "        self.observation = self.reward\n",
    "        return np.array([self.reward]), {}\n",
    "\n",
    "\n",
    "class Probe3(gym.Env):\n",
    "    \"\"\"One action, [0.0] then [1.0] observation, two timesteps, +1 reward at the end.\n",
    "\n",
    "    We expect the agent to rapidly learn the discounted value of the initial observation.\n",
    "    \"\"\"\n",
    "\n",
    "    action_space: Discrete\n",
    "    observation_space: Box\n",
    "\n",
    "    def __init__(self, render_mode: str = \"rgb_array\"):\n",
    "        super().__init__()\n",
    "        self.observation_space = Box(np.array([-0.0]), np.array([+1.0]))\n",
    "        self.action_space = Discrete(1)\n",
    "        self.reset()\n",
    "\n",
    "    def step(self, action: ActType) -> tuple[ObsType, float, bool, dict]:\n",
    "        self.n += 1\n",
    "        if self.n == 1:\n",
    "            return np.array([1.0]), 0.0, False, False, {}\n",
    "        elif self.n == 2:\n",
    "            return np.array([0.0]), 1.0, True, True, {}\n",
    "        raise ValueError(self.n)\n",
    "\n",
    "    def reset(self, seed: int | None = None, options=None) -> ObsType | tuple[ObsType, dict]:\n",
    "        super().reset(seed=seed)\n",
    "        self.n = 0\n",
    "        return np.array([0.0]), {}\n",
    "\n",
    "\n",
    "class Probe4(gym.Env):\n",
    "    \"\"\"Two actions, [0.0] observation, one timestep, reward is -1.0 or +1.0 dependent on the action.\n",
    "\n",
    "    We expect the agent to learn to choose the +1.0 action.\n",
    "    \"\"\"\n",
    "\n",
    "    action_space: Discrete\n",
    "    observation_space: Box\n",
    "\n",
    "    def __init__(self, render_mode: str = \"rgb_array\"):\n",
    "        self.observation_space = Box(np.array([-0.0]), np.array([+0.0]))\n",
    "        self.action_space = Discrete(2)\n",
    "        self.reset()\n",
    "\n",
    "    def step(self, action: ActType) -> tuple[ObsType, float, bool, dict]:\n",
    "        reward = -1.0 if action == 0 else 1.0\n",
    "        return np.array([0.0]), reward, True, True, {}\n",
    "\n",
    "    def reset(self, seed: int | None = None, options=None) -> ObsType | tuple[ObsType, dict]:\n",
    "        super().reset(seed=seed)\n",
    "        return np.array([0.0]), {}\n",
    "\n",
    "\n",
    "class Probe5(gym.Env):\n",
    "    \"\"\"Two actions, random 0/1 observation, one timestep, reward is 1 if action equals observation otherwise -1.\n",
    "\n",
    "    We expect the agent to learn to match its action to the observation.\n",
    "    \"\"\"\n",
    "\n",
    "    action_space: Discrete\n",
    "    observation_space: Box\n",
    "\n",
    "    def __init__(self, render_mode: str = \"rgb_array\"):\n",
    "        self.observation_space = Box(np.array([-1.0]), np.array([+1.0]))\n",
    "        self.action_space = Discrete(2)\n",
    "        self.reset()\n",
    "\n",
    "    def step(self, action: ActType) -> tuple[ObsType, float, bool, dict]:\n",
    "        reward = 1.0 if action == self.obs else -1.0\n",
    "        return np.array([self.obs]), reward, True, True, {}\n",
    "\n",
    "    def reset(self, seed: int | None = None, options=None) -> ObsType | tuple[ObsType, dict]:\n",
    "        super().reset(seed=seed)\n",
    "        self.obs = 1.0 if self.np_random.random() < 0.5 else 0.0\n",
    "        return np.array([self.obs], dtype=float), {}\n",
    "\n",
    "\n",
    "gym.envs.registration.register(id=\"Probe2-v0\", entry_point=Probe2)\n",
    "gym.envs.registration.register(id=\"Probe3-v0\", entry_point=Probe3)\n",
    "gym.envs.registration.register(id=\"Probe4-v0\", entry_point=Probe4)\n",
    "gym.envs.registration.register(id=\"Probe5-v0\", entry_point=Probe5)"
   ]
  },
  {
   "cell_type": "markdown",
   "metadata": {},
   "source": [
    "A brief summary of these, along with recommendations of where to go to debug if one of them fails (note that these won't be true 100% of the time, but should hopefully give you some useful direction):\n",
    "\n",
    "<details>\n",
    "<summary>Summary of probes</summary>\n",
    "\n",
    "1. **Tests basic learning ability**. If this fails, it means the agent has failed to learn to associate a constant observation with a constant reward. You should check your loss functions and optimizers in this case.\n",
    "2. **Tests the agent's ability to differentiate between 2 different observations (and learn their respective values)**. If this fails, it means the agent has issues with handling multiple possible observations.\n",
    "3. **Tests the agent's ability to handle time & reward delay**. If this fails, it means the agent has problems with multi-step scenarios of discounting future rewards. You should look at how your agent step function works.\n",
    "4. **Tests the agent's ability to learn from actions leading to different rewards**. If this fails, it means the agent has failed to change its policy for different rewards, and you should look closer at how your agent is updating its policy based on the rewards it receives & the loss function.\n",
    "5. **Tests the agent's ability to map observations to actions**. If this fails, you should look at the code which handles multiple timesteps, as well as the code that handles the agent's map from observations to actions.\n",
    "\n",
    "</details>"
   ]
  },
  {
   "cell_type": "markdown",
   "metadata": {},
   "source": [
    "## Main DQN Algorithm\n",
    "\n",
    "We now combine all the elements we have designed thus far into the final DQN algorithm. Here, we assume the environment returns three parameters $(s_{new}, r, d)$, a new state $s_{new}$, a reward $r$ and a boolean $d$ indicating whether interaction has terminated yet.\n",
    "\n",
    "Our Q-value function $Q(s,a)$ is now a network $Q(s,a ; \\theta)$ parameterised by weights $\\theta$. The key idea, as in Q-learning, is to ensure the Q-value function satisfies the optimal Bellman equation\n",
    "$$\n",
    "Q(s,a ; \\theta)\n",
    "= \\mathbb{E}_{s',r \\sim p(\\cdot \\mid s,a)} \\left[r + \\gamma \\max_{a'} Q(s', a' ;\\theta) \\right]\n",
    "$$\n",
    "which means the expected TD error will be zero (where expectation here is taken over randomly sampled trajectories):\n",
    "$$\n",
    "\\mathbb{E} \\left[ r_{t+1} + \\gamma \\max_a Q(s_{t+1}, a) - Q(s_t, a_t) \\right] = 0\n",
    "$$\n",
    "Note that we also have to deal with the case where the episode terminates: i.e. $s_{t+1}$ is a terminal state, and $d_{t+1} = 1$. Since the Q-value of a terminal state is always zero, we can just rewrite the expected TD error expression as:\n",
    "$$\n",
    "\\mathbb{E} \\left[ r_{t+1} + (1 - d_{t+1}) \\, \\gamma \\max_a Q(s_{t+1}, a) - Q(s_t, a_t) \\right] = 0\n",
    "$$\n",
    "since this makes sure the term is zero whenever $d_{t+1} = 1$. We can now see again why we used `terminated` not `terminated | truncated` here - we don't want the agent to learn that its value is always zero just before the episode terminates and so there's no point in continuing to perform well!\n",
    "\n",
    "Since we have an expression which should be zero in expectation for our true Q-value function, and we want the model to learn from a variety of experiences at once, we can sample batches of experiences $B = \\{s_{t_i}, a_{t_i}, r_{t_i+1}, d_{t_i+1}, s_{t_i+1}\\}_{i=1}^{|B|}$ from the replay buffer, and train against the loss function which equals the **squared temporal difference error**:\n",
    "$$\n",
    "L(\\theta) = \\frac{1}{|B|} \\sum_{i=1}^B \\left( r_{t_i+1} + (1 - d_{t_i+1}) \\gamma \\max_a Q(s_{t_i+1}, a ; \\theta_\\text{target}) - Q(s_{t_i}, a_{t_i} ; \\theta) \\right)^2\n",
    "$$\n",
    "Here, $\\theta_\\text{target}$ is a previous copy of the parameters $\\theta$, so we're updating our $s_t$ estimates to catch up with our $s_{t+1}$ estimates (just like in standard Q-learning from earlier!). Every so often, we then update the target $\\theta_\\text{target} \\leftarrow \\theta$ as the agent improves it's Q-values from experience.\n",
    "\n",
    "Below is the full DQN algorithm from a paper, for reference. The notation isn't identical to ours (e.g. they use an if/else statement to handle the terminal state case), but the basic algorithm is the same.\n",
    "\n",
    "<img src=\"https://raw.githubusercontent.com/chloeli-15/ARENA_img/refs/heads/main/img/ch2-dqn-algo.png\" width=\"700\">"
   ]
  },
  {
   "cell_type": "markdown",
   "metadata": {},
   "source": [
    "### DQN Dataclass\n",
    "\n",
    "Below is a dataclass for training your DQN. You can use the `arg_help` method to see a description of each argument (it will also highlight any arguments which have ben changed from their default values).\n",
    "\n",
    "The exact breakdown of training is as follows:\n",
    "\n",
    "* The agent takes `total_timesteps` steps in the environment during the training loop.\n",
    "* The first `buffer_size` of these steps are used to fill the replay buffer (we don't update gradients until the buffer is full).\n",
    "* After this point, we perform an optimizer step every `steps_per_train` steps of our agent. We also copy the weights from our Q-network to our target network every `trains_per_target_update` steps of our Q-network.\n",
    "\n",
    "This is shown in the diagram below (the actual numbers aren't representative of the values in our dataclass, they're just to make sure the diagram is understandable - obviously the scale is very different in our actual training).\n",
    "\n",
    "<img src=\"https://raw.githubusercontent.com/info-arena/ARENA_img/main/misc/dqn-breakdown.png\" width=\"1200\">\n",
    "\n",
    "For example, in the code below we decrease `total_timesteps`, and this also decreases total training steps (which is computed in the `__post_init__` method of our dataclass, as a function of `total_timesteps`)."
   ]
  },
  {
   "cell_type": "code",
   "execution_count": 18,
   "metadata": {},
   "outputs": [
    {
     "data": {
      "text/html": [
       "<style type=\"text/css\">\n",
       "#T_a80b8 td {\n",
       "  text-align: left;\n",
       "}\n",
       "#T_a80b8 th {\n",
       "  text-align: left;\n",
       "}\n",
       "#T_a80b8_row7_col0, #T_a80b8_row17_col0 {\n",
       "  background-color: red;\n",
       "}\n",
       "</style>\n",
       "<table id=\"T_a80b8\">\n",
       "  <thead>\n",
       "    <tr>\n",
       "      <th class=\"blank level0\" >&nbsp;</th>\n",
       "      <th id=\"T_a80b8_level0_col0\" class=\"col_heading level0 col0\" >default value</th>\n",
       "      <th id=\"T_a80b8_level0_col1\" class=\"col_heading level0 col1\" >description</th>\n",
       "    </tr>\n",
       "    <tr>\n",
       "      <th class=\"index_name level0\" >arg</th>\n",
       "      <th class=\"blank col0\" >&nbsp;</th>\n",
       "      <th class=\"blank col1\" >&nbsp;</th>\n",
       "    </tr>\n",
       "  </thead>\n",
       "  <tbody>\n",
       "    <tr>\n",
       "      <th id=\"T_a80b8_level0_row0\" class=\"row_heading level0 row0\" >seed</th>\n",
       "      <td id=\"T_a80b8_row0_col0\" class=\"data row0 col0\" >1</td>\n",
       "      <td id=\"T_a80b8_row0_col1\" class=\"data row0 col1\" >seed of the experiment</td>\n",
       "    </tr>\n",
       "    <tr>\n",
       "      <th id=\"T_a80b8_level0_row1\" class=\"row_heading level0 row1\" >env_id</th>\n",
       "      <td id=\"T_a80b8_row1_col0\" class=\"data row1 col0\" >'CartPole-v1'</td>\n",
       "      <td id=\"T_a80b8_row1_col1\" class=\"data row1 col1\" >the id of the environment</td>\n",
       "    </tr>\n",
       "    <tr>\n",
       "      <th id=\"T_a80b8_level0_row2\" class=\"row_heading level0 row2\" >num_envs</th>\n",
       "      <td id=\"T_a80b8_row2_col0\" class=\"data row2 col0\" >1</td>\n",
       "      <td id=\"T_a80b8_row2_col1\" class=\"data row2 col1\" >number of environments to run in parallel</td>\n",
       "    </tr>\n",
       "    <tr>\n",
       "      <th id=\"T_a80b8_level0_row3\" class=\"row_heading level0 row3\" >use_wandb</th>\n",
       "      <td id=\"T_a80b8_row3_col0\" class=\"data row3 col0\" >False</td>\n",
       "      <td id=\"T_a80b8_row3_col1\" class=\"data row3 col1\" >whether to log to weights and biases</td>\n",
       "    </tr>\n",
       "    <tr>\n",
       "      <th id=\"T_a80b8_level0_row4\" class=\"row_heading level0 row4\" >wandb_project_name</th>\n",
       "      <td id=\"T_a80b8_row4_col0\" class=\"data row4 col0\" >'DQNCartPole'</td>\n",
       "      <td id=\"T_a80b8_row4_col1\" class=\"data row4 col1\" >the name of this experiment (also used as wandb project name)</td>\n",
       "    </tr>\n",
       "    <tr>\n",
       "      <th id=\"T_a80b8_level0_row5\" class=\"row_heading level0 row5\" >wandb_entity</th>\n",
       "      <td id=\"T_a80b8_row5_col0\" class=\"data row5 col0\" >None</td>\n",
       "      <td id=\"T_a80b8_row5_col1\" class=\"data row5 col1\" >the entity (team) of wandb's project</td>\n",
       "    </tr>\n",
       "    <tr>\n",
       "      <th id=\"T_a80b8_level0_row6\" class=\"row_heading level0 row6\" >video_log_freq</th>\n",
       "      <td id=\"T_a80b8_row6_col0\" class=\"data row6 col0\" >50</td>\n",
       "      <td id=\"T_a80b8_row6_col1\" class=\"data row6 col1\" >number of episodes between each video capture (None means no capture this way)</td>\n",
       "    </tr>\n",
       "    <tr>\n",
       "      <th id=\"T_a80b8_level0_row7\" class=\"row_heading level0 row7\" >total_timesteps</th>\n",
       "      <td id=\"T_a80b8_row7_col0\" class=\"data row7 col0\" >400000</td>\n",
       "      <td id=\"T_a80b8_row7_col1\" class=\"data row7 col1\" >total number of steps our agent will take in total, across training</td>\n",
       "    </tr>\n",
       "    <tr>\n",
       "      <th id=\"T_a80b8_level0_row8\" class=\"row_heading level0 row8\" >steps_per_train</th>\n",
       "      <td id=\"T_a80b8_row8_col0\" class=\"data row8 col0\" >10</td>\n",
       "      <td id=\"T_a80b8_row8_col1\" class=\"data row8 col1\" >number of sampled actions (i.e. agent steps) in between each training step</td>\n",
       "    </tr>\n",
       "    <tr>\n",
       "      <th id=\"T_a80b8_level0_row9\" class=\"row_heading level0 row9\" >trains_per_target_update</th>\n",
       "      <td id=\"T_a80b8_row9_col0\" class=\"data row9 col0\" >100</td>\n",
       "      <td id=\"T_a80b8_row9_col1\" class=\"data row9 col1\" >the number of training steps in between each target network update</td>\n",
       "    </tr>\n",
       "    <tr>\n",
       "      <th id=\"T_a80b8_level0_row10\" class=\"row_heading level0 row10\" >buffer_size</th>\n",
       "      <td id=\"T_a80b8_row10_col0\" class=\"data row10 col0\" >10000</td>\n",
       "      <td id=\"T_a80b8_row10_col1\" class=\"data row10 col1\" >the replay memory buffer size</td>\n",
       "    </tr>\n",
       "    <tr>\n",
       "      <th id=\"T_a80b8_level0_row11\" class=\"row_heading level0 row11\" >batch_size</th>\n",
       "      <td id=\"T_a80b8_row11_col0\" class=\"data row11 col0\" >128</td>\n",
       "      <td id=\"T_a80b8_row11_col1\" class=\"data row11 col1\" >the batch size of samples from the replay memory</td>\n",
       "    </tr>\n",
       "    <tr>\n",
       "      <th id=\"T_a80b8_level0_row12\" class=\"row_heading level0 row12\" >learning_rate</th>\n",
       "      <td id=\"T_a80b8_row12_col0\" class=\"data row12 col0\" >0.00025</td>\n",
       "      <td id=\"T_a80b8_row12_col1\" class=\"data row12 col1\" >the learning rate of the optimizer</td>\n",
       "    </tr>\n",
       "    <tr>\n",
       "      <th id=\"T_a80b8_level0_row13\" class=\"row_heading level0 row13\" >gamma</th>\n",
       "      <td id=\"T_a80b8_row13_col0\" class=\"data row13 col0\" >0.99</td>\n",
       "      <td id=\"T_a80b8_row13_col1\" class=\"data row13 col1\" >the discount factor gamma</td>\n",
       "    </tr>\n",
       "    <tr>\n",
       "      <th id=\"T_a80b8_level0_row14\" class=\"row_heading level0 row14\" >exploration_fraction</th>\n",
       "      <td id=\"T_a80b8_row14_col0\" class=\"data row14 col0\" >0.2</td>\n",
       "      <td id=\"T_a80b8_row14_col1\" class=\"data row14 col1\" >the fraction of `total-timesteps` it takes from start-e to go end-e</td>\n",
       "    </tr>\n",
       "    <tr>\n",
       "      <th id=\"T_a80b8_level0_row15\" class=\"row_heading level0 row15\" >start_e</th>\n",
       "      <td id=\"T_a80b8_row15_col0\" class=\"data row15 col0\" >1.0</td>\n",
       "      <td id=\"T_a80b8_row15_col1\" class=\"data row15 col1\" >the starting epsilon for exploration</td>\n",
       "    </tr>\n",
       "    <tr>\n",
       "      <th id=\"T_a80b8_level0_row16\" class=\"row_heading level0 row16\" >end_e</th>\n",
       "      <td id=\"T_a80b8_row16_col0\" class=\"data row16 col0\" >0.1</td>\n",
       "      <td id=\"T_a80b8_row16_col1\" class=\"data row16 col1\" >the ending epsilon for exploration</td>\n",
       "    </tr>\n",
       "    <tr>\n",
       "      <th id=\"T_a80b8_level0_row17\" class=\"row_heading level0 row17\" >total_training_steps</th>\n",
       "      <td id=\"T_a80b8_row17_col0\" class=\"data row17 col0\" >39000</td>\n",
       "      <td id=\"T_a80b8_row17_col1\" class=\"data row17 col1\" >the total number of training steps (total_timesteps - buffer_size) // steps_per_train</td>\n",
       "    </tr>\n",
       "  </tbody>\n",
       "</table>\n"
      ],
      "text/plain": [
       "<pandas.io.formats.style.Styler at 0x70ff356efc90>"
      ]
     },
     "metadata": {},
     "output_type": "display_data"
    }
   ],
   "source": [
    "@dataclass\n",
    "class DQNArgs:\n",
    "    # Basic / global\n",
    "    seed: int = 1\n",
    "    env_id: str = \"CartPole-v1\"\n",
    "    num_envs: int = 1\n",
    "\n",
    "    # Wandb / logging\n",
    "    use_wandb: bool = False\n",
    "    wandb_project_name: str = \"DQNCartPole\"\n",
    "    wandb_entity: str | None = None\n",
    "    video_log_freq: int | None = 50\n",
    "\n",
    "    # Duration of different phases / buffer memory settings\n",
    "    total_timesteps: int = 500_000\n",
    "    steps_per_train: int = 10\n",
    "    trains_per_target_update: int = 100\n",
    "    buffer_size: int = 10_000\n",
    "\n",
    "    # Optimization hparams\n",
    "    batch_size: int = 128\n",
    "    learning_rate: float = 2.5e-4\n",
    "\n",
    "    # RL-specific\n",
    "    gamma: float = 0.99\n",
    "    exploration_fraction: float = 0.2\n",
    "    start_e: float = 1.0\n",
    "    end_e: float = 0.1\n",
    "\n",
    "    def __post_init__(self):\n",
    "        assert self.total_timesteps - self.buffer_size >= self.steps_per_train\n",
    "        self.total_training_steps = (self.total_timesteps - self.buffer_size) // self.steps_per_train\n",
    "        self.video_save_path = section_dir / \"videos\"\n",
    "\n",
    "args = DQNArgs(total_timesteps=400_000)  # changing total_timesteps will also change ???\n",
    "utils.arg_help(args)"
   ]
  },
  {
   "cell_type": "markdown",
   "metadata": {},
   "source": [
    "### Exercise - fill in the agent class\n",
    "\n",
    "> ```yaml\n",
    "> Difficulty: 🔴🔴🔴🔴⚪\n",
    "> Importance: 🔵🔵🔵🔵⚪\n",
    "> \n",
    "> You should spend up to 25-45 minutes on this exercise.\n",
    "> ```\n",
    "\n",
    "You should now fill in the methods for the `DQNAgent` class below. This is a class which is designed to handle taking steps in the environment (with an epsilon greedy policy), and updating the buffer.\n",
    "\n",
    "1. `play_step` should be somewhat similar to the demo code you saw earlier, which sampled a batch of experiences to add to the buffer. It should:\n",
    "    - Get actions (using `self.get_actions` rather than randomly sampling like we did in the demo code before)\n",
    "    - Step our environment with these actions\n",
    "    - Add the new experiences to the buffer (handling terminal cases the same way we did in the demo code before)\n",
    "    - Set your new observation as `self.obs`, ready for the next step\n",
    "2. `get_actions` should do the following:\n",
    "    - Set `self.epsilon` according to the linear schedule function & the current global step counter\n",
    "    - Sample actions according to the epsilon-greedy policy (i.e. using your `epsilon_greedy_policy` function), and return them\n",
    "\n",
    "A small note on code practices here - the implementation below was designed to follow **separation of concerns** (SoC), a design principle used in software engineering. The `DQNAgent` class only responsible for interacting with the environment; it doesn't do anything like create the Q-network or buffer on initialization. This is further reflected in the fact that we don't pass in `args` to our DQN agent, but instead pass in all the relevant variables separately (if we were forced to pass in `args`, this would be a sign that the DQN agent class might be doing too much work!)."
   ]
  },
  {
   "cell_type": "code",
   "execution_count": 19,
   "metadata": {},
   "outputs": [
    {
     "name": "stdout",
     "output_type": "stream",
     "text": [
      "All tests in `test_agent` passed!\n"
     ]
    }
   ],
   "source": [
    "class DQNAgent:\n",
    "    \"\"\"Base Agent class handling the interaction with the environment.\"\"\"\n",
    "\n",
    "    def __init__(\n",
    "        self,\n",
    "        envs: gym.vector.SyncVectorEnv,\n",
    "        buffer: ReplayBuffer,\n",
    "        q_network: QNetwork,\n",
    "        start_e: float,\n",
    "        end_e: float,\n",
    "        exploration_fraction: float,\n",
    "        total_timesteps: int,\n",
    "        rng: np.random.Generator,\n",
    "    ):\n",
    "        self.envs = envs\n",
    "        self.buffer = buffer\n",
    "        self.q_network = q_network\n",
    "        self.start_e = start_e\n",
    "        self.end_e = end_e\n",
    "        self.exploration_fraction = exploration_fraction\n",
    "        self.total_timesteps = total_timesteps\n",
    "        self.rng = rng\n",
    "\n",
    "        self.step = 0  # Tracking number of steps taken (across all environments)\n",
    "        self.obs, _ = self.envs.reset()  # Need a starting observation\n",
    "        self.epsilon = start_e  # Starting value (will be updated in `get_actions`)\n",
    "\n",
    "    def play_step(self) -> dict:\n",
    "        \"\"\"\n",
    "        Carries out a single interaction step between agent & environment, and adds results to the replay buffer.\n",
    "\n",
    "        Returns `infos` (list of dictionaries containing info we will log).\n",
    "        \"\"\"\n",
    "        # raise NotImplementedError()\n",
    "        acts = self.get_actions(self.obs)\n",
    "        obs, rews, terms, truncs, infos = self.envs.step(acts)\n",
    "        # print(obs.shape, rews.shape, terms.shape, truncs.shape)\n",
    "        # if any(truncs) or any(terms):\n",
    "        #     print(infos[\"final_observation\"][0][np.newaxis, :])\n",
    "        #     print(infos[\"final_observation\"][0][np.newaxis, :].shape)\n",
    "        self.buffer.add(\n",
    "            obs=self.obs,\n",
    "            actions=acts,  # Add a new axis to match the expected shape\n",
    "            rewards=rews,\n",
    "            terminated=terms,\n",
    "            next_obs=obs if not any(truncs) and not any(terms) else infos[\"final_observation\"][0][np.newaxis, :],  # If truncated, use final observation\n",
    "        )\n",
    "        self.obs = obs\n",
    "\n",
    "        self.step += self.envs.num_envs\n",
    "        return infos\n",
    "\n",
    "    def get_actions(self, obs: np.ndarray) -> np.ndarray:\n",
    "        \"\"\"\n",
    "        Samples actions according to the epsilon-greedy policy using the linear schedule for epsilon.\n",
    "        \"\"\"\n",
    "        self.epsilon = linear_schedule(\n",
    "            self.step,\n",
    "            start_e=self.start_e,\n",
    "            end_e=self.end_e,\n",
    "            exploration_fraction=self.exploration_fraction,\n",
    "            total_timesteps=self.total_timesteps,\n",
    "        )\n",
    "        return epsilon_greedy_policy(\n",
    "            self.envs, self.q_network, self.rng, obs, self.epsilon\n",
    "        )\n",
    "\n",
    "tests.test_agent(DQNAgent)"
   ]
  },
  {
   "cell_type": "markdown",
   "metadata": {},
   "source": [
    "<details><summary>Solution</summary>\n",
    "\n",
    "```python\n",
    "class DQNAgent:\n",
    "    \"\"\"Base Agent class handling the interaction with the environment.\"\"\"\n",
    "\n",
    "    def __init__(\n",
    "        self,\n",
    "        envs: gym.vector.SyncVectorEnv,\n",
    "        buffer: ReplayBuffer,\n",
    "        q_network: QNetwork,\n",
    "        start_e: float,\n",
    "        end_e: float,\n",
    "        exploration_fraction: float,\n",
    "        total_timesteps: int,\n",
    "        rng: np.random.Generator,\n",
    "    ):\n",
    "        self.envs = envs\n",
    "        self.buffer = buffer\n",
    "        self.q_network = q_network\n",
    "        self.start_e = start_e\n",
    "        self.end_e = end_e\n",
    "        self.exploration_fraction = exploration_fraction\n",
    "        self.total_timesteps = total_timesteps\n",
    "        self.rng = rng\n",
    "\n",
    "        self.step = 0  # Tracking number of steps taken (across all environments)\n",
    "        self.obs, _ = self.envs.reset()  # Need a starting observation\n",
    "        self.epsilon = start_e  # Starting value (will be updated in `get_actions`)\n",
    "\n",
    "    def play_step(self) -> dict:\n",
    "        \"\"\"\n",
    "        Carries out a single interaction step between agent & environment, and adds results to the replay buffer.\n",
    "\n",
    "        Returns `infos` (list of dictionaries containing info we will log).\n",
    "        \"\"\"\n",
    "        self.obs = np.array(self.obs, dtype=np.float32)\n",
    "        actions = self.get_actions(self.obs)\n",
    "        next_obs, rewards, terminated, truncated, infos = self.envs.step(actions)\n",
    "\n",
    "        # Get `real_next_obs` by finding all environments where we terminated & replacing `next_obs` with the actual terminal states\n",
    "        true_next_obs = next_obs.copy()\n",
    "        for n in range(self.envs.num_envs):\n",
    "            if (terminated | truncated)[n]:\n",
    "                true_next_obs[n] = infos[\"final_observation\"][n]\n",
    "\n",
    "        self.buffer.add(self.obs, actions, rewards, terminated, true_next_obs)\n",
    "        self.obs = next_obs\n",
    "\n",
    "        self.step += self.envs.num_envs\n",
    "        return infos\n",
    "\n",
    "    def get_actions(self, obs: np.ndarray) -> np.ndarray:\n",
    "        \"\"\"\n",
    "        Samples actions according to the epsilon-greedy policy using the linear schedule for epsilon.\n",
    "        \"\"\"\n",
    "        self.epsilon = linear_schedule(\n",
    "            self.step, self.start_e, self.end_e, self.exploration_fraction, self.total_timesteps\n",
    "        )\n",
    "        actions = epsilon_greedy_policy(self.envs, self.q_network, self.rng, obs, self.epsilon)\n",
    "        assert actions.shape == (len(self.envs.envs),)\n",
    "        return actions\n",
    "```\n",
    "</details>"
   ]
  },
  {
   "cell_type": "markdown",
   "metadata": {},
   "source": [
    "Before we move on to the big exercise of today (completing the `DQNTrainer` class), we'll briefly discuss logging to Weights and Biases in RL, plus some general advice on what kinds of variables you should be logging."
   ]
  },
  {
   "cell_type": "markdown",
   "metadata": {},
   "source": [
    "### Logging to `wandb` in RL\n",
    "\n",
    "In previous exercises in this chapter, we've just trained the agent, and then plotted the reward per episode after training. For small toy examples that train in a few seconds this is fine, but for longer runs we'd like to watch the run live and make sure the agent is doing something interesting (especially if we were planning to run the model overnight). Luckily, **Weights and Biases** has got us covered! When you run your experiments, you'll be able to view not only *live plots* of the loss and average reward per episode while the agent is training - you can also log and view animations, which visualise your agent's progress in real time! The code below will handle all logging.\n",
    "\n",
    "Sadly, effective logging & debugging in RL isn't just about watching videos, since in the vast majority of cases where your algorithm has a bug, the agent will just fail to learn anything useful and the videos won't be informative. Debugging RL requires knowing what variables to log and how to interpret the results you're getting, which requires some understanding of the underlying theory! This is part of the reason why we've spent so much time discussing the theory behind DQN and other RL algorithms, rather than just giving you a black box to train.\n",
    "\n",
    "As an example of how logged variables can be misleading and hard to interpret, consider our TD loss function in DQN. This loss function just reflects how close together the Q-network's estimates are to the experiences currently sampled from the replay buffer, which might not adequately represent what the world actually looks like. This means that once the agent starts to learn something and do better at the problem, it's expected for the loss to increase. For example, maybe the Q-network initially learned some state was bad, because an agent that reached them was just flapping around randomly and died shortly after. But now it's getting evidence that the same state is good, now that the agent that reached the state has a better idea what to do next. A higher loss is thus actually a good sign that something is happening (the agent hasn't stagnated), but it's not clear if it's learning anything useful without also checking how the total reward per episode has changed. Key point - **just looking at one variable can be misleading, we need to log multiple variables and derive a picture of what's happening from taking all of them into account!**\n",
    "\n",
    "Some useful variables to log during DQN training are:\n",
    "\n",
    "- TD loss, i.e. the actual loss you're backpropagating through. This should start off high and decrease pretty quickly, but may not be monotonic (i.e. temporary spikes in loss aren't necessarily a bad thing)\n",
    "- SPS (steps per second), i.e. the total number of agent steps divided by the total time. This helps us debug when the environment steps are a bottleneck (won't be the case in a simple environment like this one, but might matter more when we move to more complex environments)\n",
    "- Q-values, i.e. the predicted Q-values from the Q-network. Can you guess how these should behave?\n",
    "\n",
    "<details>\n",
    "<summary>Question - what do you think the Q values will do when the agent moves closer to solving the cartpole environment?</summary>\n",
    "\n",
    "Initially they should be near zero, thanks to the randomly initialized model weights. As our episode length get closer to 500 (i.e. we can essentially solve the environment), they should tend to the limit of the total possible time-discounted reward available, which is the geometric sum $1 + \\gamma + \\gamma^2 + \\cdots$ (since we get 1 reward for every second we stand up, and as previously discussed, the way we handle `dones` in the formula above doesn't assume a truncated environment causes future rewards to be terminated). The limit of this sum is $\\frac{1}{1-\\gamma}$, which for our default value $\\gamma = 0.99$ is approximately 100.\n",
    "\n",
    "Note, the Q values won't increase smoothly, they'll spike up immediately after we copy over the weights from our Q-network to our target network. This is because each time we copy over weights, our gradient changes and the Q-network rapidly \"catches up\" to this new target network, causing the Q values to change rapidly. However, our copying over of weights will be frequent enough that these jumps will be relatively small, and so the curve should still appear smooth.\n",
    "\n",
    "</details>"
   ]
  },
  {
   "cell_type": "markdown",
   "metadata": {},
   "source": [
    "### Exercise - write DQN training loop\n",
    "\n",
    "> ```yaml\n",
    "> Difficulty: 🔴🔴🔴🔴🔴\n",
    "> Importance: 🔵🔵🔵🔵🔵\n",
    "> \n",
    "> You should spend up to 30-60 minutes on this exercise.\n",
    "> ```\n",
    "\n",
    "Now we'll create a new class `DQNTrainer`, which will handle the full training loop. We've filled in the `__init__` for you, which defines all the things you need (the networks, optimizer, replay buffer, and the agent). We've also filled in `train` for you, which performs the main training loop: it optionally initializes Weights & Biases, fills the buffer using `prepopulate_replay_buffer`, then alternates between training steps (where we sample from the buffer) & adding to the buffer (adding `args.train_frequncy`).\n",
    "\n",
    "You should fill in the remaining 2 methods. First you should get the basic no-logging version working, then once you're running without error (even if maybe you're not learning anything useful) you should move onto logging as this will help you debug.\n",
    "\n",
    "- `add_to_replay_buffer`\n",
    "    - This calls `self.agent.play_step()` to take `n` steps in the environment, which adds the results to the replay buffer\n",
    "    - It's used to fill the buffer before training starts, and before each training step to add new experiences to the buffer\n",
    "- `training_step`\n",
    "    - This performs an update step from a batch of experiences from the buffer, sampled using `self.buffer.sample` with batch size `self.args.batch_size`\n",
    "    - An update step involves:\n",
    "        - Getting the predicted Q-values $Q(s_{t_i}, a_{t_i} ; \\theta)$ from the Q-network\n",
    "        - Getting the max target Q-values $\\max_a Q(s_{t_i+1}, a ; \\theta_\\text{target})$ from the target network (remember to use inference mode - we're not training the target network!)\n",
    "        - Computing the TD loss $L(\\theta)$ using the formula we gave earlier (we've also copied it below, for convenience)\n",
    "        - Performing an update step with this loss\n",
    "    - You should also copy weights from the Q-network to the target network every `args.trains_per_target_update` steps (i.e. whenever `self.agent.step` is a multiple of this). The `load_state_dict` method might be useful here\n",
    "\n",
    "For convenience, here's the full TD loss formula again:\n",
    "$$\n",
    "L(\\theta) = \\frac{1}{|B|} \\sum_{i=1}^B \\left( r_{t_i+1} + (1 - d_{t_i+1}) \\gamma \\max_a Q(s_{t_i+1}, a ; \\theta_\\text{target}) - Q(s_{t_i}, a_{t_i} ; \\theta) \\right)^2\n",
    "$$\n",
    "\n",
    "When you get to logging, there are 2 types of data you can log:\n",
    "\n",
    "- Data for terminated episodes, during buffer filling\n",
    "    - Terminated episode data can be found in the `infos` dict returned by the `agent.play_step` method. If environment `env_idx` terminated, then `infos[\"final_info\"][env_idx][\"episode\"]` will be a dict containing the length `l` and reward `r` of the terminated episode\n",
    "        - We've given you a helper function `get_episode_data_from_infos` which gives you a dict of the episode length & reward for the first terminated env, or `None` if no envs terminated. See the [documentation page](https://gymnasium.farama.org/v0.29.0/_modules/gymnasium/wrappers/record_episode_statistics/) for an explanation.\n",
    "    - You can also log the SPS (steps per second) if you like, this helps figure out if the environment transitions are the bottleneck for your algorithm\n",
    "- Data during training steps\n",
    "    - Mean TD loss, Q values, and the epsilon hyperparameter are all useful to log\n",
    "\n",
    "Don't be discouraged if your code takes a while to work - it's normal for debugging RL to take longer than you would expect. Add asserts or your own tests, implement an appropriate probe environment, try anything in the Andy Jones post that sounds promising, and try to notice confusion. Reinforcement Learning is often so tricky as even if the algorithm has bugs, the agent might still learn something useful regardless (albeit maybe not as well), or even if everything is correct, the agent might just fail to learn anything useful (like how DQN failed to do anything on Montezuma's Revenge.)\n",
    "\n",
    "Since the environment is already know to be one DQN can solve, and we've already provided hyperparameters that work for this environment, hopefully that's isolated a lot of the problems one would usually have with solving real world problems with RL."
   ]
  },
  {
   "cell_type": "code",
   "execution_count": 23,
   "metadata": {},
   "outputs": [],
   "source": [
    "def get_episode_data_from_infos(infos: dict) -> dict[str, int | float] | None:\n",
    "    \"\"\"\n",
    "    Helper function: returns dict of data from the first terminated environment, if at least one terminated.\n",
    "    \"\"\"\n",
    "    for final_info in infos.get(\"final_info\", []):\n",
    "        if final_info is not None and \"episode\" in final_info:\n",
    "            return {\n",
    "                \"episode_length\": final_info[\"episode\"][\"l\"].item(),\n",
    "                \"episode_reward\": final_info[\"episode\"][\"r\"].item(),\n",
    "                \"episode_duration\": final_info[\"episode\"][\"t\"].item(),\n",
    "            }\n",
    "\n",
    "\n",
    "class DQNTrainer:\n",
    "    def __init__(self, args: DQNArgs):\n",
    "        set_global_seeds(args.seed)\n",
    "        self.args = args\n",
    "        self.rng = np.random.default_rng(args.seed)\n",
    "        self.run_name = f\"{args.env_id}__{args.wandb_project_name}__seed{args.seed}__{time.strftime('%Y%m%d-%H%M%S')}\"\n",
    "        self.envs = gym.vector.SyncVectorEnv(\n",
    "            [make_env(idx=idx, run_name=self.run_name, **args.__dict__) for idx in range(args.num_envs)]\n",
    "        )\n",
    "\n",
    "        # Define some basic variables from our environment (note, we assume a single discrete action space)\n",
    "        num_envs = self.envs.num_envs\n",
    "        action_shape = self.envs.single_action_space.shape\n",
    "        num_actions = self.envs.single_action_space.n\n",
    "        obs_shape = self.envs.single_observation_space.shape\n",
    "        assert action_shape == ()\n",
    "\n",
    "        # Create our replay buffer\n",
    "        self.buffer = ReplayBuffer(num_envs, obs_shape, action_shape, args.buffer_size, args.seed)\n",
    "\n",
    "        # Create our networks & optimizer (target network should be initialized with a copy of the Q-network's weights)\n",
    "        self.q_network = QNetwork(obs_shape, num_actions).to(device)\n",
    "        self.target_network = QNetwork(obs_shape, num_actions).to(device)\n",
    "        self.target_network.load_state_dict(self.q_network.state_dict())\n",
    "        self.optimizer = t.optim.AdamW(self.q_network.parameters(), lr=args.learning_rate)\n",
    "\n",
    "        # Create our agent\n",
    "        self.agent = DQNAgent(\n",
    "            self.envs,\n",
    "            self.buffer,\n",
    "            self.q_network,\n",
    "            args.start_e,\n",
    "            args.end_e,\n",
    "            args.exploration_fraction,\n",
    "            args.total_timesteps,\n",
    "            self.rng,\n",
    "        )\n",
    "\n",
    "    def add_to_replay_buffer(self, n: int, verbose: bool = False):\n",
    "        \"\"\"\n",
    "        Takes n steps with the agent, adding to the replay buffer (and logging any results). Should return a dict of\n",
    "        data from the last terminated episode, if any.\n",
    "\n",
    "        Optional argument `verbose`: if True, we can use a progress bar (useful to check how long the initial buffer\n",
    "        filling is taking).\n",
    "        \"\"\"\n",
    "        if verbose:\n",
    "            pbar = tqdm(total=n, desc=\"Adding to replay buffer\", unit=\"step\")\n",
    "        for i in range(n):\n",
    "            infos = self.agent.play_step()\n",
    "            data = get_episode_data_from_infos(infos)\n",
    "            if self.args.use_wandb and data is not None:\n",
    "                wandb.log(data, step = self.agent.step)\n",
    "        if verbose:\n",
    "            pbar.update(1)\n",
    "        return None\n",
    "\n",
    "    def prepopulate_replay_buffer(self):\n",
    "        \"\"\"\n",
    "        Called to fill the replay buffer before training starts.\n",
    "        \"\"\"\n",
    "        n_steps_to_fill_buffer = self.args.buffer_size // self.args.num_envs\n",
    "        self.add_to_replay_buffer(n_steps_to_fill_buffer, verbose=True)\n",
    "\n",
    "    def training_step(self, step: int) -> Float[Tensor, \"\"]:\n",
    "        \"\"\"\n",
    "        Samples once from the replay buffer, and takes a single training step. The `step` argument is used to track the\n",
    "        number of training steps taken.\n",
    "        \"\"\"\n",
    "        samples = self.buffer.sample(self.args.batch_size, device=device)\n",
    "\n",
    "        # Compute Q-values\n",
    "        # Apply Q-Learning update rule\n",
    "        # Occasionally synchronize the target network with the Q-network\n",
    "        if step % self.args.trains_per_target_update == 0:\n",
    "            self.target_network.load_state_dict(self.q_network.state_dict())\n",
    "        # Zero gradients, compute target Q-values, and backpropagate\n",
    "        self.optimizer.zero_grad()\n",
    "    \n",
    "        with t.inference_mode():\n",
    "            target_q_vals = self.target_network(samples.next_obs).max(dim=-1).values\n",
    "        q_vals = self.q_network(samples.obs)[range(len(samples.actions)), samples.actions]\n",
    "        # Compute loss as TD error\n",
    "        # print(q_vals)\n",
    "        # td_loss = t.nn.functional.mse_loss(\n",
    "        #     q_vals,\n",
    "        #     samples.rewards + (1 - samples.terminated.float()) * self.args.gamma * target_q_vals\n",
    "        # )\n",
    "        td_loss = (\n",
    "            samples.rewards + (1 - samples.terminated.float()) * self.args.gamma * target_q_vals \n",
    "            - q_vals\n",
    "        ).pow(2).mean()\n",
    "        td_loss.backward()\n",
    "        self.optimizer.step()\n",
    "        if self.args.use_wandb:\n",
    "            wandb.log(\n",
    "                {\"td_loss\": td_loss, \"q_values\": q_vals.mean().item(), \"epsilon\": self.agent.epsilon},\n",
    "                step=self.agent.step,\n",
    "            )\n",
    "\n",
    "    def train(self) -> None:\n",
    "        if self.args.use_wandb:\n",
    "            wandb.init(\n",
    "                project=self.args.wandb_project_name,\n",
    "                entity=self.args.wandb_entity,\n",
    "                name=self.run_name,\n",
    "                monitor_gym=self.args.video_log_freq is not None,\n",
    "            )\n",
    "            wandb.watch(self.q_network, log=\"all\", log_freq=50)\n",
    "\n",
    "        self.prepopulate_replay_buffer()\n",
    "\n",
    "        master_data = []\n",
    "        pbar = tqdm(range(self.args.total_training_steps))\n",
    "        last_logged_time = time.time()  # so we don't update the progress bar too much\n",
    "\n",
    "        for step in pbar:\n",
    "            data = self.add_to_replay_buffer(self.args.steps_per_train)\n",
    "            if data is not None and time.time() - last_logged_time > 0.5:\n",
    "                last_logged_time = time.time()\n",
    "                pbar.set_postfix(**data)\n",
    "\n",
    "                master_data.extend(data)\n",
    "\n",
    "            self.training_step(step)\n",
    "\n",
    "        self.envs.close()\n",
    "        if self.args.use_wandb:\n",
    "            wandb.finish()\n",
    "        # else:\n",
    "        #     # Use master data to create a results plot.\n",
    "        #     rewards = [d[\"episode_reward\"] for d in master_data if \"episode_reward\" in d]\n",
    "        #     steps = [d[\"step\"] for d in master_data if \"step\" in d]\n",
    "        #     line(\n",
    "        #         x = steps,\n",
    "        #         y = rewards,\n",
    "        #         names=[\"Episode Reward\"],\n",
    "        #         title=f\"Episode Rewards over {self.args.total_training_steps} training steps\",\n",
    "        #         labels={\"x\": \"Training Step\", \"y\": \"Episode Reward\"},\n",
    "        #         template=\"simple_white\",\n",
    "        #         width=700,\n",
    "        #         height=400,\n",
    "        #         render_mode = \"svg\"\n",
    "        #     )"
   ]
  },
  {
   "cell_type": "markdown",
   "metadata": {},
   "source": [
    "<details>\n",
    "<summary>Solution (simple, no logging)</summary>\n",
    "\n",
    "```python\n",
    "def add_to_replay_buffer(self, n: int, verbose: bool = False):\n",
    "    \"\"\"\n",
    "    Takes n steps with the agent, adding to the replay buffer (and logging any results). Should return a dict of\n",
    "    data from the last terminated episode, if any.\n",
    "\n",
    "    Optional argument `verbose`: if True, we can use a progress bar (useful to check how long the initial buffer\n",
    "    filling is taking).\n",
    "    \"\"\"\n",
    "    data = None\n",
    "\n",
    "    for step in tqdm(range(n), disable=not verbose, desc=\"Adding to replay buffer\"):\n",
    "        infos = self.agent.play_step()\n",
    "        data = data or get_episode_data_from_infos(infos)\n",
    "\n",
    "    return data\n",
    "\n",
    "def prepopulate_replay_buffer(self):\n",
    "    \"\"\"\n",
    "    Called to fill the replay buffer before training starts.\n",
    "    \"\"\"\n",
    "    n_steps_to_fill_buffer = self.args.buffer_size // self.args.num_envs\n",
    "    self.add_to_replay_buffer(n_steps_to_fill_buffer, verbose=True)\n",
    "\n",
    "def training_step(self, step: int) -> Float[Tensor, \"\"]:\n",
    "    \"\"\"\n",
    "    Samples once from the replay buffer, and takes a single training step. The `step` argument is used to track the\n",
    "    number of training steps taken.\n",
    "    \"\"\"\n",
    "    data = self.buffer.sample(self.args.batch_size, device)  # s_t, a_t, r_{t+1}, d_{t+1}, s_{t+1}\n",
    "\n",
    "    with t.inference_mode():\n",
    "        target_max = self.target_network(data.next_obs).max(-1).values\n",
    "    predicted_q_vals = self.q_network(data.obs)[range(len(data.actions)), data.actions]\n",
    "\n",
    "    td_error = data.rewards + self.args.gamma * target_max * (1 - data.terminated.float()) - predicted_q_vals\n",
    "    loss = td_error.pow(2).mean()\n",
    "    loss.backward()\n",
    "    self.optimizer.step()\n",
    "    self.optimizer.zero_grad()\n",
    "\n",
    "    if step % self.args.trains_per_target_update == 0:\n",
    "        self.target_network.load_state_dict(self.q_network.state_dict())\n",
    "```\n",
    "\n",
    "</details>\n",
    "\n",
    "<details>\n",
    "<summary>Solution (full logging)</summary>\n",
    "\n",
    "```python\n",
    "def add_to_replay_buffer(self, n: int, verbose: bool = False):\n",
    "    \"\"\"\n",
    "    Takes n steps with the agent, adding to the replay buffer (and logging any results). Should return a dict of\n",
    "    data from the last terminated episode, if any.\n",
    "\n",
    "    Optional argument `verbose`: if True, we can use a progress bar (useful to check how long the initial buffer\n",
    "    filling is taking).\n",
    "    \"\"\"\n",
    "    data = None\n",
    "    t0 = time.time()\n",
    "\n",
    "    for step in tqdm(range(n), disable=not verbose, desc=\"Adding to replay buffer\"):\n",
    "        infos = self.agent.play_step()\n",
    "\n",
    "        # Get data from environments, and log it if some environment did actually terminate\n",
    "        new_data = get_episode_data_from_infos(infos)\n",
    "        if new_data is not None:\n",
    "            data = new_data  # makes sure we return a non-empty dict at the end, if some episode terminates\n",
    "            if self.args.use_wandb:\n",
    "                wandb.log(new_data, step=self.agent.step)\n",
    "\n",
    "    # Log SPS\n",
    "    if self.args.use_wandb:\n",
    "        wandb.log({\"SPS\": (n * self.envs.num_envs) / (time.time() - t0)}, step=self.agent.step)\n",
    "\n",
    "    return data\n",
    "\n",
    "def prepopulate_replay_buffer(self):\n",
    "    \"\"\"\n",
    "    Called to fill the replay buffer before training starts.\n",
    "    \"\"\"\n",
    "    n_steps_to_fill_buffer = self.args.buffer_size // self.args.num_envs\n",
    "    self.add_to_replay_buffer(n_steps_to_fill_buffer, verbose=True)\n",
    "\n",
    "def training_step(self, step: int) -> Float[Tensor, \"\"]:\n",
    "    \"\"\"\n",
    "    Samples once from the replay buffer, and takes a single training step. The `step` argument is used to track the\n",
    "    number of training steps taken.\n",
    "    \"\"\"\n",
    "    data = self.buffer.sample(self.args.batch_size, device)  # s_t, a_t, r_{t+1}, d_{t+1}, s_{t+1}\n",
    "\n",
    "    with t.inference_mode():\n",
    "        target_max = self.target_network(data.next_obs).max(-1).values\n",
    "    predicted_q_vals = self.q_network(data.obs)[range(len(data.actions)), data.actions]\n",
    "\n",
    "    td_error = data.rewards + self.args.gamma * target_max * (1 - data.terminated.float()) - predicted_q_vals\n",
    "    loss = td_error.pow(2).mean()\n",
    "    loss.backward()\n",
    "    self.optimizer.step()\n",
    "    self.optimizer.zero_grad()\n",
    "\n",
    "    if step % self.args.trains_per_target_update == 0:\n",
    "        self.target_network.load_state_dict(self.q_network.state_dict())\n",
    "\n",
    "    if self.args.use_wandb:\n",
    "        wandb.log(\n",
    "            {\"td_loss\": loss, \"q_values\": predicted_q_vals.mean().item(), \"epsilon\": self.agent.epsilon},\n",
    "            step=self.agent.step,\n",
    "        )\n",
    "```\n",
    "\n",
    "</details>"
   ]
  },
  {
   "cell_type": "markdown",
   "metadata": {},
   "source": [
    "Here's some boilerplate code to test out your various probes, which you should make sure you're passing before testing on Cartpole."
   ]
  },
  {
   "cell_type": "code",
   "execution_count": 21,
   "metadata": {},
   "outputs": [
    {
     "name": "stderr",
     "output_type": "stream",
     "text": [
      "Adding to replay buffer:   0%|          | 0/500 [00:00<?, ?step/s]"
     ]
    },
    {
     "name": "stderr",
     "output_type": "stream",
     "text": [
      "Adding to replay buffer: 100%|██████████| 500/500 [00:00<00:00, 3213.07step/s]\n",
      "100%|██████████| 250/250 [00:02<00:00, 122.66it/s]\n"
     ]
    },
    {
     "name": "stdout",
     "output_type": "stream",
     "text": [
      "Probe tests passed!\n",
      "\n"
     ]
    },
    {
     "name": "stderr",
     "output_type": "stream",
     "text": [
      "Adding to replay buffer: 100%|██████████| 500/500 [00:00<00:00, 3376.35step/s]\n",
      "100%|██████████| 250/250 [00:01<00:00, 143.18it/s]\n"
     ]
    },
    {
     "name": "stdout",
     "output_type": "stream",
     "text": [
      "Probe tests passed!\n",
      "\n"
     ]
    },
    {
     "name": "stderr",
     "output_type": "stream",
     "text": [
      "Adding to replay buffer: 100%|██████████| 500/500 [00:00<00:00, 4364.05step/s]\n",
      "100%|██████████| 450/450 [00:03<00:00, 131.96it/s]\n"
     ]
    },
    {
     "name": "stdout",
     "output_type": "stream",
     "text": [
      "Probe tests passed!\n",
      "\n"
     ]
    },
    {
     "name": "stderr",
     "output_type": "stream",
     "text": [
      "Adding to replay buffer: 100%|██████████| 500/500 [00:00<00:00, 3681.60step/s]\n",
      "100%|██████████| 450/450 [00:03<00:00, 141.38it/s]\n"
     ]
    },
    {
     "name": "stdout",
     "output_type": "stream",
     "text": [
      "Probe tests passed!\n",
      "\n"
     ]
    },
    {
     "name": "stderr",
     "output_type": "stream",
     "text": [
      "Adding to replay buffer: 100%|██████████| 500/500 [00:00<00:00, 3710.95step/s]\n",
      "100%|██████████| 450/450 [00:03<00:00, 124.40it/s]"
     ]
    },
    {
     "name": "stdout",
     "output_type": "stream",
     "text": [
      "Probe tests passed!\n",
      "\n"
     ]
    },
    {
     "name": "stderr",
     "output_type": "stream",
     "text": [
      "\n"
     ]
    }
   ],
   "source": [
    "def test_probe(probe_idx: int):\n",
    "    \"\"\"\n",
    "    Tests a probe environment by training a network on it & verifying that the value functions are\n",
    "    in the expected range.\n",
    "    \"\"\"\n",
    "    # Train our network on this probe env\n",
    "    args = DQNArgs(\n",
    "        env_id=f\"Probe{probe_idx}-v0\",\n",
    "        wandb_project_name=f\"test-probe-{probe_idx}\",\n",
    "        total_timesteps=3000 if probe_idx <= 2 else 5000,\n",
    "        learning_rate=0.001,\n",
    "        buffer_size=500,\n",
    "        use_wandb=False,\n",
    "        trains_per_target_update=20,\n",
    "        video_log_freq=None,\n",
    "    )\n",
    "    trainer = DQNTrainer(args)\n",
    "    trainer.train()\n",
    "\n",
    "    # Get the correct set of observations, and corresponding values we expect\n",
    "    obs_for_probes = [[[0.0]], [[-1.0], [+1.0]], [[0.0], [1.0]], [[0.0]], [[0.0], [1.0]]]\n",
    "    expected_value_for_probes = [\n",
    "        [[1.0]],\n",
    "        [[-1.0], [+1.0]],\n",
    "        [[args.gamma], [1.0]],\n",
    "        [[-1.0, 1.0]],\n",
    "        [[1.0, -1.0], [-1.0, 1.0]],\n",
    "    ]\n",
    "    tolerances = [5e-4, 5e-4, 5e-4, 5e-4, 1e-3]\n",
    "    obs = t.tensor(obs_for_probes[probe_idx - 1]).to(device)\n",
    "\n",
    "    # Calculate the actual value, and verify it\n",
    "    value = trainer.q_network(obs)\n",
    "    expected_value = t.tensor(expected_value_for_probes[probe_idx - 1]).to(device)\n",
    "    t.testing.assert_close(value, expected_value, atol=tolerances[probe_idx - 1], rtol=0)\n",
    "    print(\"Probe tests passed!\\n\")\n",
    "\n",
    "\n",
    "for probe_idx in range(1, 6):\n",
    "    test_probe(probe_idx)"
   ]
  },
  {
   "cell_type": "markdown",
   "metadata": {},
   "source": [
    "Once you've passed the tests for all 5 probe environments, you should test your model on Cartpole. We recommend you start by not using wandb until you can get it running without error, because this will improve your feedback loops (however if you've passed all probe environments then there's a good chance this code will just work for you)."
   ]
  },
  {
   "cell_type": "code",
   "execution_count": 22,
   "metadata": {},
   "outputs": [
    {
     "name": "stderr",
     "output_type": "stream",
     "text": [
      "\u001b[34m\u001b[1mwandb\u001b[0m: Currently logged in as: \u001b[33mn00bcak\u001b[0m (\u001b[33mn00bcak-national-university-of-singapore\u001b[0m) to \u001b[32mhttps://api.wandb.ai\u001b[0m. Use \u001b[1m`wandb login --relogin`\u001b[0m to force relogin\n"
     ]
    },
    {
     "data": {
      "text/html": [
       "Tracking run with wandb version 0.19.11"
      ],
      "text/plain": [
       "<IPython.core.display.HTML object>"
      ]
     },
     "metadata": {},
     "output_type": "display_data"
    },
    {
     "data": {
      "text/html": [
       "Run data is saved locally in <code>/home/n00bcak/Desktop/programming/ARENA_3.0_Attempt/chapter2_rl/exercises/wandb/run-20250610_154925-pnqrmt5z</code>"
      ],
      "text/plain": [
       "<IPython.core.display.HTML object>"
      ]
     },
     "metadata": {},
     "output_type": "display_data"
    },
    {
     "data": {
      "text/html": [
       "Syncing run <strong><a href='https://wandb.ai/n00bcak-national-university-of-singapore/DQNCartPole/runs/pnqrmt5z' target=\"_blank\">CartPole-v1__DQNCartPole__seed1__20250610-154923</a></strong> to <a href='https://wandb.ai/n00bcak-national-university-of-singapore/DQNCartPole' target=\"_blank\">Weights & Biases</a> (<a href='https://wandb.me/developer-guide' target=\"_blank\">docs</a>)<br>"
      ],
      "text/plain": [
       "<IPython.core.display.HTML object>"
      ]
     },
     "metadata": {},
     "output_type": "display_data"
    },
    {
     "data": {
      "text/html": [
       " View project at <a href='https://wandb.ai/n00bcak-national-university-of-singapore/DQNCartPole' target=\"_blank\">https://wandb.ai/n00bcak-national-university-of-singapore/DQNCartPole</a>"
      ],
      "text/plain": [
       "<IPython.core.display.HTML object>"
      ]
     },
     "metadata": {},
     "output_type": "display_data"
    },
    {
     "data": {
      "text/html": [
       " View run at <a href='https://wandb.ai/n00bcak-national-university-of-singapore/DQNCartPole/runs/pnqrmt5z' target=\"_blank\">https://wandb.ai/n00bcak-national-university-of-singapore/DQNCartPole/runs/pnqrmt5z</a>"
      ],
      "text/plain": [
       "<IPython.core.display.HTML object>"
      ]
     },
     "metadata": {},
     "output_type": "display_data"
    },
    {
     "name": "stderr",
     "output_type": "stream",
     "text": [
      "Adding to replay buffer:   0%|          | 0/10000 [00:00<?, ?step/s]\u001b[34m\u001b[1mwandb\u001b[0m: \u001b[33mWARNING\u001b[0m `format` argument was not provided, defaulting to `gif`. This parameter will be required in v0.20.0, please specify the format explicitly.\n",
      "Adding to replay buffer:  12%|█▏        | 1197/10000 [00:00<00:02, 4076.73step/s]\u001b[34m\u001b[1mwandb\u001b[0m: \u001b[33mWARNING\u001b[0m `format` argument was not provided, defaulting to `gif`. This parameter will be required in v0.20.0, please specify the format explicitly.\n",
      "Adding to replay buffer:  22%|██▏       | 2160/10000 [00:00<00:01, 4132.35step/s]\u001b[34m\u001b[1mwandb\u001b[0m: \u001b[33mWARNING\u001b[0m `format` argument was not provided, defaulting to `gif`. This parameter will be required in v0.20.0, please specify the format explicitly.\n",
      "Adding to replay buffer:  35%|███▌      | 3533/10000 [00:01<00:01, 3582.47step/s]\u001b[34m\u001b[1mwandb\u001b[0m: \u001b[33mWARNING\u001b[0m `format` argument was not provided, defaulting to `gif`. This parameter will be required in v0.20.0, please specify the format explicitly.\n",
      "Adding to replay buffer:  45%|████▍     | 4478/10000 [00:01<00:01, 3693.28step/s]\u001b[34m\u001b[1mwandb\u001b[0m: \u001b[33mWARNING\u001b[0m `format` argument was not provided, defaulting to `gif`. This parameter will be required in v0.20.0, please specify the format explicitly.\n",
      "Adding to replay buffer:  59%|█████▉    | 5898/10000 [00:01<00:00, 4126.54step/s]\u001b[34m\u001b[1mwandb\u001b[0m: \u001b[33mWARNING\u001b[0m `format` argument was not provided, defaulting to `gif`. This parameter will be required in v0.20.0, please specify the format explicitly.\n",
      "Adding to replay buffer:  68%|██████▊   | 6846/10000 [00:01<00:00, 3821.83step/s]\u001b[34m\u001b[1mwandb\u001b[0m: \u001b[33mWARNING\u001b[0m `format` argument was not provided, defaulting to `gif`. This parameter will be required in v0.20.0, please specify the format explicitly.\n",
      "Adding to replay buffer:  82%|████████▏ | 8187/10000 [00:02<00:00, 4005.18step/s]\u001b[34m\u001b[1mwandb\u001b[0m: \u001b[33mWARNING\u001b[0m `format` argument was not provided, defaulting to `gif`. This parameter will be required in v0.20.0, please specify the format explicitly.\n",
      "Adding to replay buffer:  95%|█████████▌| 9513/10000 [00:02<00:00, 3976.85step/s]\u001b[34m\u001b[1mwandb\u001b[0m: \u001b[33mWARNING\u001b[0m `format` argument was not provided, defaulting to `gif`. This parameter will be required in v0.20.0, please specify the format explicitly.\n",
      "Adding to replay buffer: 100%|██████████| 10000/10000 [00:02<00:00, 3522.96step/s]\n",
      "  0%|          | 80/49000 [00:00<04:59, 163.56it/s]\u001b[34m\u001b[1mwandb\u001b[0m: \u001b[33mWARNING\u001b[0m `format` argument was not provided, defaulting to `gif`. This parameter will be required in v0.20.0, please specify the format explicitly.\n",
      "  0%|          | 198/49000 [00:01<04:52, 166.71it/s]\u001b[34m\u001b[1mwandb\u001b[0m: \u001b[33mWARNING\u001b[0m `format` argument was not provided, defaulting to `gif`. This parameter will be required in v0.20.0, please specify the format explicitly.\n",
      "  1%|          | 298/49000 [00:01<04:39, 173.94it/s]\u001b[34m\u001b[1mwandb\u001b[0m: \u001b[33mWARNING\u001b[0m `format` argument was not provided, defaulting to `gif`. This parameter will be required in v0.20.0, please specify the format explicitly.\n",
      "  1%|          | 393/49000 [00:02<05:06, 158.69it/s]\u001b[34m\u001b[1mwandb\u001b[0m: \u001b[33mWARNING\u001b[0m `format` argument was not provided, defaulting to `gif`. This parameter will be required in v0.20.0, please specify the format explicitly.\n",
      "  1%|          | 493/49000 [00:03<05:54, 136.97it/s]\u001b[34m\u001b[1mwandb\u001b[0m: \u001b[33mWARNING\u001b[0m `format` argument was not provided, defaulting to `gif`. This parameter will be required in v0.20.0, please specify the format explicitly.\n",
      "  1%|          | 581/49000 [00:03<05:08, 157.03it/s]\u001b[34m\u001b[1mwandb\u001b[0m: \u001b[33mWARNING\u001b[0m `format` argument was not provided, defaulting to `gif`. This parameter will be required in v0.20.0, please specify the format explicitly.\n",
      "  1%|▏         | 723/49000 [00:05<05:21, 150.22it/s]\u001b[34m\u001b[1mwandb\u001b[0m: \u001b[33mWARNING\u001b[0m `format` argument was not provided, defaulting to `gif`. This parameter will be required in v0.20.0, please specify the format explicitly.\n",
      "  2%|▏         | 889/49000 [00:06<04:58, 160.92it/s]\u001b[34m\u001b[1mwandb\u001b[0m: \u001b[33mWARNING\u001b[0m `format` argument was not provided, defaulting to `gif`. This parameter will be required in v0.20.0, please specify the format explicitly.\n",
      "  2%|▏         | 1053/49000 [00:07<05:16, 151.25it/s]\u001b[34m\u001b[1mwandb\u001b[0m: \u001b[33mWARNING\u001b[0m `format` argument was not provided, defaulting to `gif`. This parameter will be required in v0.20.0, please specify the format explicitly.\n",
      "  3%|▎         | 1236/49000 [00:08<05:22, 148.07it/s]\u001b[34m\u001b[1mwandb\u001b[0m: \u001b[33mWARNING\u001b[0m `format` argument was not provided, defaulting to `gif`. This parameter will be required in v0.20.0, please specify the format explicitly.\n",
      "  3%|▎         | 1421/49000 [00:10<05:11, 152.80it/s]\u001b[34m\u001b[1mwandb\u001b[0m: \u001b[33mWARNING\u001b[0m `format` argument was not provided, defaulting to `gif`. This parameter will be required in v0.20.0, please specify the format explicitly.\n",
      "  3%|▎         | 1612/49000 [00:11<04:08, 190.65it/s]\u001b[34m\u001b[1mwandb\u001b[0m: \u001b[33mWARNING\u001b[0m `format` argument was not provided, defaulting to `gif`. This parameter will be required in v0.20.0, please specify the format explicitly.\n",
      "  4%|▎         | 1828/49000 [00:13<04:41, 167.78it/s]\u001b[34m\u001b[1mwandb\u001b[0m: \u001b[33mWARNING\u001b[0m `format` argument was not provided, defaulting to `gif`. This parameter will be required in v0.20.0, please specify the format explicitly.\n",
      "  4%|▍         | 2063/49000 [00:14<04:36, 169.62it/s]\u001b[34m\u001b[1mwandb\u001b[0m: \u001b[33mWARNING\u001b[0m `format` argument was not provided, defaulting to `gif`. This parameter will be required in v0.20.0, please specify the format explicitly.\n",
      "  5%|▍         | 2346/49000 [00:17<06:06, 127.46it/s]\u001b[34m\u001b[1mwandb\u001b[0m: \u001b[33mWARNING\u001b[0m `format` argument was not provided, defaulting to `gif`. This parameter will be required in v0.20.0, please specify the format explicitly.\n",
      "  5%|▌         | 2678/49000 [00:20<10:43, 71.94it/s] \u001b[34m\u001b[1mwandb\u001b[0m: \u001b[33mWARNING\u001b[0m `format` argument was not provided, defaulting to `gif`. This parameter will be required in v0.20.0, please specify the format explicitly.\n",
      "  6%|▌         | 2988/49000 [00:24<08:49, 86.92it/s] \u001b[34m\u001b[1mwandb\u001b[0m: \u001b[33mWARNING\u001b[0m `format` argument was not provided, defaulting to `gif`. This parameter will be required in v0.20.0, please specify the format explicitly.\n",
      "  7%|▋         | 3395/49000 [00:28<11:09, 68.09it/s] \u001b[34m\u001b[1mwandb\u001b[0m: \u001b[33mWARNING\u001b[0m `format` argument was not provided, defaulting to `gif`. This parameter will be required in v0.20.0, please specify the format explicitly.\n",
      "  8%|▊         | 3782/49000 [00:32<05:10, 145.66it/s]\u001b[34m\u001b[1mwandb\u001b[0m: \u001b[33mWARNING\u001b[0m `format` argument was not provided, defaulting to `gif`. This parameter will be required in v0.20.0, please specify the format explicitly.\n",
      "  9%|▉         | 4339/49000 [00:38<10:33, 70.48it/s] \u001b[34m\u001b[1mwandb\u001b[0m: \u001b[33mWARNING\u001b[0m `format` argument was not provided, defaulting to `gif`. This parameter will be required in v0.20.0, please specify the format explicitly.\n",
      " 11%|█         | 5194/49000 [00:47<09:19, 78.30it/s] \u001b[34m\u001b[1mwandb\u001b[0m: \u001b[33mWARNING\u001b[0m `format` argument was not provided, defaulting to `gif`. This parameter will be required in v0.20.0, please specify the format explicitly.\n",
      " 13%|█▎        | 6342/49000 [00:59<13:09, 54.06it/s] \u001b[34m\u001b[1mwandb\u001b[0m: \u001b[33mWARNING\u001b[0m `format` argument was not provided, defaulting to `gif`. This parameter will be required in v0.20.0, please specify the format explicitly.\n",
      " 16%|█▌        | 7679/49000 [01:15<24:40, 27.91it/s] \u001b[34m\u001b[1mwandb\u001b[0m: \u001b[33mWARNING\u001b[0m `format` argument was not provided, defaulting to `gif`. This parameter will be required in v0.20.0, please specify the format explicitly.\n",
      " 18%|█▊        | 9019/49000 [01:31<21:49, 30.54it/s] \u001b[34m\u001b[1mwandb\u001b[0m: \u001b[33mWARNING\u001b[0m `format` argument was not provided, defaulting to `gif`. This parameter will be required in v0.20.0, please specify the format explicitly.\n",
      " 21%|██        | 10264/49000 [01:47<17:40, 36.54it/s] \u001b[34m\u001b[1mwandb\u001b[0m: \u001b[33mWARNING\u001b[0m `format` argument was not provided, defaulting to `gif`. This parameter will be required in v0.20.0, please specify the format explicitly.\n",
      " 23%|██▎       | 11508/49000 [02:02<15:01, 41.60it/s] \u001b[34m\u001b[1mwandb\u001b[0m: \u001b[33mWARNING\u001b[0m `format` argument was not provided, defaulting to `gif`. This parameter will be required in v0.20.0, please specify the format explicitly.\n",
      " 26%|██▌       | 12781/49000 [02:17<09:27, 63.81it/s] \u001b[34m\u001b[1mwandb\u001b[0m: \u001b[33mWARNING\u001b[0m `format` argument was not provided, defaulting to `gif`. This parameter will be required in v0.20.0, please specify the format explicitly.\n",
      " 29%|██▊       | 14030/49000 [02:30<08:01, 72.65it/s] \u001b[34m\u001b[1mwandb\u001b[0m: \u001b[33mWARNING\u001b[0m `format` argument was not provided, defaulting to `gif`. This parameter will be required in v0.20.0, please specify the format explicitly.\n",
      " 31%|███       | 15249/49000 [02:42<07:53, 71.23it/s] \u001b[34m\u001b[1mwandb\u001b[0m: \u001b[33mWARNING\u001b[0m `format` argument was not provided, defaulting to `gif`. This parameter will be required in v0.20.0, please specify the format explicitly.\n",
      " 34%|███▎      | 16473/49000 [02:57<16:28, 32.92it/s] \u001b[34m\u001b[1mwandb\u001b[0m: \u001b[33mWARNING\u001b[0m `format` argument was not provided, defaulting to `gif`. This parameter will be required in v0.20.0, please specify the format explicitly.\n",
      " 36%|███▌      | 17722/49000 [03:11<15:02, 34.65it/s] \u001b[34m\u001b[1mwandb\u001b[0m: \u001b[33mWARNING\u001b[0m `format` argument was not provided, defaulting to `gif`. This parameter will be required in v0.20.0, please specify the format explicitly.\n",
      " 39%|███▉      | 19042/49000 [03:24<09:54, 50.40it/s] \u001b[34m\u001b[1mwandb\u001b[0m: \u001b[33mWARNING\u001b[0m `format` argument was not provided, defaulting to `gif`. This parameter will be required in v0.20.0, please specify the format explicitly.\n",
      " 42%|████▏     | 20481/49000 [03:35<07:17, 65.16it/s] \u001b[34m\u001b[1mwandb\u001b[0m: \u001b[33mWARNING\u001b[0m `format` argument was not provided, defaulting to `gif`. This parameter will be required in v0.20.0, please specify the format explicitly.\n",
      " 45%|████▌     | 22179/49000 [03:47<08:07, 55.01it/s] \u001b[34m\u001b[1mwandb\u001b[0m: \u001b[33mWARNING\u001b[0m `format` argument was not provided, defaulting to `gif`. This parameter will be required in v0.20.0, please specify the format explicitly.\n",
      " 50%|████▉     | 24437/49000 [04:03<07:57, 51.46it/s] \u001b[34m\u001b[1mwandb\u001b[0m: \u001b[33mWARNING\u001b[0m `format` argument was not provided, defaulting to `gif`. This parameter will be required in v0.20.0, please specify the format explicitly.\n",
      " 54%|█████▍    | 26462/49000 [04:39<12:25, 30.23it/s]  \u001b[34m\u001b[1mwandb\u001b[0m: \u001b[33mWARNING\u001b[0m `format` argument was not provided, defaulting to `gif`. This parameter will be required in v0.20.0, please specify the format explicitly.\n",
      " 59%|█████▉    | 28877/49000 [05:04<15:16, 21.95it/s] \u001b[34m\u001b[1mwandb\u001b[0m: \u001b[33mWARNING\u001b[0m `format` argument was not provided, defaulting to `gif`. This parameter will be required in v0.20.0, please specify the format explicitly.\n",
      " 63%|██████▎   | 31078/49000 [05:27<06:23, 46.69it/s] \u001b[34m\u001b[1mwandb\u001b[0m: \u001b[33mWARNING\u001b[0m `format` argument was not provided, defaulting to `gif`. This parameter will be required in v0.20.0, please specify the format explicitly.\n",
      " 68%|██████▊   | 33322/49000 [05:50<08:35, 30.44it/s] \u001b[34m\u001b[1mwandb\u001b[0m: \u001b[33mWARNING\u001b[0m `format` argument was not provided, defaulting to `gif`. This parameter will be required in v0.20.0, please specify the format explicitly.\n",
      " 71%|███████▏  | 34952/49000 [06:08<07:04, 33.12it/s] \u001b[34m\u001b[1mwandb\u001b[0m: \u001b[33mWARNING\u001b[0m `format` argument was not provided, defaulting to `gif`. This parameter will be required in v0.20.0, please specify the format explicitly.\n",
      " 76%|███████▌  | 37282/49000 [06:31<08:31, 22.91it/s] \u001b[34m\u001b[1mwandb\u001b[0m: \u001b[33mWARNING\u001b[0m `format` argument was not provided, defaulting to `gif`. This parameter will be required in v0.20.0, please specify the format explicitly.\n",
      " 81%|████████  | 39659/49000 [06:56<03:19, 46.79it/s] \u001b[34m\u001b[1mwandb\u001b[0m: \u001b[33mWARNING\u001b[0m `format` argument was not provided, defaulting to `gif`. This parameter will be required in v0.20.0, please specify the format explicitly.\n",
      " 86%|████████▌ | 42160/49000 [07:22<04:28, 25.43it/s] \u001b[34m\u001b[1mwandb\u001b[0m: \u001b[33mWARNING\u001b[0m `format` argument was not provided, defaulting to `gif`. This parameter will be required in v0.20.0, please specify the format explicitly.\n",
      " 91%|█████████ | 44658/49000 [07:46<02:16, 31.85it/s] \u001b[34m\u001b[1mwandb\u001b[0m: \u001b[33mWARNING\u001b[0m `format` argument was not provided, defaulting to `gif`. This parameter will be required in v0.20.0, please specify the format explicitly.\n",
      " 95%|█████████▌| 46637/49000 [08:07<01:14, 31.63it/s] \u001b[34m\u001b[1mwandb\u001b[0m: \u001b[33mWARNING\u001b[0m `format` argument was not provided, defaulting to `gif`. This parameter will be required in v0.20.0, please specify the format explicitly.\n",
      "100%|██████████| 49000/49000 [08:29<00:00, 96.17it/s] \n",
      "\u001b[34m\u001b[1mwandb\u001b[0m: \u001b[33mWARNING\u001b[0m `format` argument was not provided, defaulting to `gif`. This parameter will be required in v0.20.0, please specify the format explicitly.\n"
     ]
    },
    {
     "data": {
      "text/html": [],
      "text/plain": [
       "<IPython.core.display.HTML object>"
      ]
     },
     "metadata": {},
     "output_type": "display_data"
    },
    {
     "data": {
      "text/html": [
       "<br>    <style><br>        .wandb-row {<br>            display: flex;<br>            flex-direction: row;<br>            flex-wrap: wrap;<br>            justify-content: flex-start;<br>            width: 100%;<br>        }<br>        .wandb-col {<br>            display: flex;<br>            flex-direction: column;<br>            flex-basis: 100%;<br>            flex: 1;<br>            padding: 10px;<br>        }<br>    </style><br><div class=\"wandb-row\"><div class=\"wandb-col\"><h3>Run history:</h3><br/><table class=\"wandb\"><tr><td>episode_duration</td><td>▁▁▁▁▁▁▁▁▁▁▁▁▁█▁▁▂▁▁▁▃▁▁▁▁▁▁▁▁▁▁▁▁▁▂▁▂▁▁▁</td></tr><tr><td>episode_length</td><td>▂▃▂▁▁▁▃▃▁▄▇▇▆█▂▂▆▁▄▃▁▅▃▁▃▃▃▆▅▅▁▂▄█▃▇▂▂▃▄</td></tr><tr><td>episode_reward</td><td>▄▄▄▂▄▅▁▁▂▂▁▅▄▄▂▂▂▇▃▃▃▁▂▁▄▂▃▃▆▃▁█▂▃▂▄▂▃▁▂</td></tr><tr><td>epsilon</td><td>█▇▇▄▃▂▂▁▁▁▁▁▁▁▁▁▁▁▁▁▁▁▁▁▁▁▁▁▁▁▁▁▁▁▁▁▁▁▁▁</td></tr><tr><td>q_values</td><td>▁▁▂▂▅▅▅▅▅▅▅▅▅▅▅▆▅▅▇▇▇▆▆▇▇▇▇▇▇▇▇███████▆█</td></tr><tr><td>td_loss</td><td>▂▂▁▅▁▁▁▁▁▁▁▁▁▁▁▁▁█▁▁▁▁▁▁▁▁▁▁▁▂▁▁▁▁▁▁▁▁▁▁</td></tr></table><br/></div><div class=\"wandb-col\"><h3>Run summary:</h3><br/><table class=\"wandb\"><tr><td>episode_duration</td><td>0.01172</td></tr><tr><td>episode_length</td><td>37</td></tr><tr><td>episode_reward</td><td>37</td></tr><tr><td>epsilon</td><td>0.1</td></tr><tr><td>q_values</td><td>101.35843</td></tr><tr><td>td_loss</td><td>0.00596</td></tr></table><br/></div></div>"
      ],
      "text/plain": [
       "<IPython.core.display.HTML object>"
      ]
     },
     "metadata": {},
     "output_type": "display_data"
    },
    {
     "data": {
      "text/html": [
       " View run <strong style=\"color:#cdcd00\">CartPole-v1__DQNCartPole__seed1__20250610-154923</strong> at: <a href='https://wandb.ai/n00bcak-national-university-of-singapore/DQNCartPole/runs/pnqrmt5z' target=\"_blank\">https://wandb.ai/n00bcak-national-university-of-singapore/DQNCartPole/runs/pnqrmt5z</a><br> View project at: <a href='https://wandb.ai/n00bcak-national-university-of-singapore/DQNCartPole' target=\"_blank\">https://wandb.ai/n00bcak-national-university-of-singapore/DQNCartPole</a><br>Synced 5 W&B file(s), 55 media file(s), 0 artifact file(s) and 0 other file(s)"
      ],
      "text/plain": [
       "<IPython.core.display.HTML object>"
      ]
     },
     "metadata": {},
     "output_type": "display_data"
    },
    {
     "data": {
      "text/html": [
       "Find logs at: <code>./wandb/run-20250610_154925-pnqrmt5z/logs</code>"
      ],
      "text/plain": [
       "<IPython.core.display.HTML object>"
      ]
     },
     "metadata": {},
     "output_type": "display_data"
    }
   ],
   "source": [
    "args = DQNArgs(use_wandb=True)\n",
    "trainer = DQNTrainer(args)\n",
    "trainer.train()"
   ]
  },
  {
   "cell_type": "markdown",
   "metadata": {},
   "source": [
    "### Catastrophic forgetting\n",
    "\n",
    "Note - you might see performance frequently drop off after it's achieved the maximum for a while, before eventually recovering again and repeating the cycle. Here's an example CartPole run using the solution code:\n",
    "\n",
    "<img src=\"https://raw.githubusercontent.com/info-arena/ARENA_img/main/misc/cf3.png\" width=\"550\">\n",
    "\n",
    "This is a well-known RL phenomena called **catastrophic forgetting**. It happens when the replay buffer mostly contains successful experiences, and the model forgets how to adapt or recover from bad states. One way to fix this is to change your buffer to keep 10 of experiences from previous epochs, and 90% of experiences from the current phase. Can you implement this?\n",
    "\n",
    "When we cover PPO tomorrow, we'll also introduce **reward shaping**, which is another way this kind of behaviour can be mitigated."
   ]
  },
  {
   "cell_type": "markdown",
   "metadata": {},
   "source": [
    "## Beyond CartPole\n",
    "\n",
    "If things go well and your agent masters CartPole, the next harder challenges are [Acrobot-v1](https://github.com/Farama-Foundation/Gymnasium/blob/v0.29.0/gymnasium/envs/classic_control/acrobot.py), and [MountainCar-v0](https://github.com/Farama-Foundation/Gymnasium/blob/v0.29.0/gymnasium/envs/classic_control/mountain_car.py). These also have discrete action spaces, which are the only type we're dealing with today. Feel free to Google for appropriate hyperparameters for these other problems - in a real RL problem you would have to do hyperparameter search using the techniques we learned on a previous day because bad hyperparameters in RL often completely fail to learn, even if the algorithm is perfectly correct.\n",
    "\n",
    "There are many more exciting environments to play in, but generally they're going to require more compute and more optimization than we have time for today. If you finish the main material, some we recommend are:\n",
    "\n",
    "- [Minimalistic Gridworld Environments](https://github.com/Farama-Foundation/gym-minigrid) - a fast gridworld environment for experiments with sparse rewards and natural language instruction.\n",
    "- [microRTS](https://github.com/santiontanon/microrts) - a small real-time strategy game suitable for experimentation.\n",
    "- [Megastep](https://andyljones.com/megastep/) - RL environment that runs fully on the GPU (fast!)\n",
    "- [Procgen](https://github.com/openai/procgen) - A family of 16 procedurally generated gym environments to measure the ability for an agent to generalize. Optimized to run quickly on the CPU.\n",
    "- [Atari](https://ale.farama.org/environments/) - although you might want to wait until tomorrow to try this on DQN, because we'll be going through some guided exercises implementing Atari with PPO tomorrow!\n",
    "\n",
    "<details>\n",
    "<summary>Some (very unpolished) code for setting up Atari with DQN</summary>\n",
    "\n",
    "This is based on a hybrid of tomorro's agent/critic network setup for Atari, and the DQN implementation in this notebook. I've achieved decent performance in 40 mins training this, but not as good as we get when we do PPO on Atari tomorrow, so I think this is somewhat underoptimized - if anyone finds improvements then feel free to make a PR!\n",
    "\n",
    "```python\n",
    "def layer_init(layer: nn.Linear, std=np.sqrt(2), bias_const=0.0):\n",
    "    t.nn.init.orthogonal_(layer.weight, std)\n",
    "    t.nn.init.constant_(layer.bias, bias_const)\n",
    "    return layer\n",
    "\n",
    "class QNetwork(nn.Module):\n",
    "    layers: nn.Sequential\n",
    "\n",
    "    def __init__(self, obs_shape: tuple[int, ...], num_actions: int, hidden_sizes: list[int] = [120, 84]):\n",
    "        super().__init__()\n",
    "\n",
    "        assert len(obs_shape) == 3, \"We're only supporting Atari for now, obs should be RGB images\"\n",
    "\n",
    "        assert obs_shape[-1] % 8 == 4\n",
    "        L_after_convolutions = (obs_shape[-1] // 8) - 3\n",
    "        in_features = 64 * L_after_convolutions * L_after_convolutions\n",
    "\n",
    "        self.layers = nn.Sequential(\n",
    "            layer_init(nn.Conv2d(4, 32, 8, stride=4, padding=0)),\n",
    "            nn.ReLU(),\n",
    "            layer_init(nn.Conv2d(32, 64, 4, stride=2, padding=0)),\n",
    "            nn.ReLU(),\n",
    "            layer_init(nn.Conv2d(64, 64, 3, stride=1, padding=0)),\n",
    "            nn.ReLU(),\n",
    "            nn.Flatten(),\n",
    "            layer_init(nn.Linear(in_features, 512)),\n",
    "            nn.ReLU(),\n",
    "            layer_init(nn.Linear(512, num_actions), std=0.01),\n",
    "        )\n",
    "\n",
    "    def forward(self, x: t.Tensor) -> t.Tensor:\n",
    "        return self.layers(x)\n",
    "\n",
    "args = DQNArgs(\n",
    "    use_wandb=True,\n",
    "    buffer_size=1000,\n",
    "    batch_size=32,\n",
    "    end_e=0.01,\n",
    "    learning_rate=1e-4,\n",
    "    total_timesteps=20_000,\n",
    "    steps_per_train=5,\n",
    "    mode=\"atari\",\n",
    "    env_id=\"ALE/Breakout-v5\",\n",
    "    wandb_project_name=\"DQNAtari\",\n",
    "    num_envs=4,\n",
    ")\n",
    "trainer = DQNTrainer(args)\n",
    "trainer.train()\n",
    "```\n",
    "\n",
    "\n",
    "</details>"
   ]
  },
  {
   "cell_type": "markdown",
   "metadata": {},
   "source": [
    "## Bonus\n",
    "\n",
    "### Target Network\n",
    "\n",
    "Why have the target network? Modify the DQN code above, but this time use the same network for both the target and the Q-value network, rather than updating the target every so often.\n",
    "\n",
    "Compare the performance of this against using the target network.\n",
    "\n",
    "### Shrink the Brain\n",
    "\n",
    "Can DQN still learn to solve CartPole with a Q-network with fewer parameters? Could we get away with three-quarters or even half as many parameters? Try comparing the resulting training curves with a shrunken version of the Q-network. What about the same number of parameters, but with more/less layers, and less/more parameters per layer?\n",
    "\n",
    "### Dueling DQN\n",
    "\n",
    "Implement dueling DQN according to [the paper](https://arxiv.org/pdf/1511.06581.pdf) and compare its performance."
   ]
  }
 ],
 "metadata": {
  "kernelspec": {
   "display_name": "recap",
   "language": "python",
   "name": "python3"
  },
  "language_info": {
   "codemirror_mode": {
    "name": "ipython",
    "version": 3
   },
   "file_extension": ".py",
   "mimetype": "text/x-python",
   "name": "python",
   "nbconvert_exporter": "python",
   "pygments_lexer": "ipython3",
   "version": "3.11.9"
  }
 },
 "nbformat": 4,
 "nbformat_minor": 2
}
